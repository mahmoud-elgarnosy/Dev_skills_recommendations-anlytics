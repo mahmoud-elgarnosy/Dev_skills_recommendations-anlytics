{
 "cells": [
  {
   "cell_type": "code",
   "execution_count": 1,
   "outputs": [],
   "source": [
    "import os\n",
    "os.environ['OMP_NUM_THREADS'] = '1'"
   ],
   "metadata": {
    "collapsed": false
   }
  },
  {
   "cell_type": "code",
   "execution_count": 932,
   "outputs": [],
   "source": [
    "# Load packages\n",
    "import pandas as pd\n",
    "from sklearn.manifold import TSNE\n",
    "from sklearn.metrics import silhouette_score\n",
    "import numpy as np\n",
    "import matplotlib.pyplot as plt\n",
    "import plotly.express as px\n",
    "from sklearn.cluster import KMeans\n",
    "import pickle"
   ],
   "metadata": {
    "collapsed": false
   }
  },
  {
   "cell_type": "code",
   "execution_count": 933,
   "outputs": [],
   "source": [
    "FILE_PATH = '../data/raw/survey_results_public.csv'\n",
    "LOAD_PATH = '../data/interim/'\n",
    "LOAD_SKILLS_DEV = '4.1-preprocessed-data_skills_dev.pkl'\n",
    "LOAD_HEAT_MAP = '5.0-EDA-heat_map.pkl'\n",
    "SAVE_SKILLS_DEV = '6.0-Engineered_data-split_roles.pkl'\n",
    "SAVE_CLUSTERED_skills  =  '6.0-clustered_skills.pkl'"
   ],
   "metadata": {
    "collapsed": false
   }
  },
  {
   "cell_type": "markdown",
   "source": [
    "## Helper Function"
   ],
   "metadata": {
    "collapsed": false
   }
  },
  {
   "cell_type": "code",
   "execution_count": 4,
   "outputs": [],
   "source": [
    "def reduce_dimensions(df):\n",
    "    \"\"\"Apply Tsne on the data frame for visualization & clustering purposes\"\"\"\n",
    "\n",
    "    tsne_data = pd.DataFrame(TSNE(n_components=2, learning_rate=.01,\n",
    "                                 perplexity=3, n_iter = 10**10).fit_transform(df),\n",
    "                 index = df.index)\n",
    "\n",
    "    return tsne_data"
   ],
   "metadata": {
    "collapsed": false
   }
  },
  {
   "cell_type": "code",
   "execution_count": 863,
   "outputs": [],
   "source": [
    "def evaluate_cluster_model(tsne_data, range_clusters=range(1,5), plot = True):\n",
    "    \"\"\"using silhouette_score to chose the best number of clusters to cluster with using Kmeans clusters\n",
    "\n",
    "    @param tsne_data: Dataframe result of TSNE algorithm\n",
    "    @param range_clusters: The range of clusters you need to chose between them\n",
    "    @param plot: Specify wither you need to plot silhouette_score values with clusters range and also plot Elbow Method or not\n",
    "\n",
    "    @return: the best cluster number, and results of clustering\n",
    "    \"\"\"\n",
    "\n",
    "    scores = []\n",
    "    wcss = []\n",
    "    for k in range_clusters:\n",
    "        kmeans = KMeans(n_clusters=k, init='k-means++', max_iter=1000, n_init='auto', random_state=0)\n",
    "        labels = kmeans.fit_predict(tsne_data)\n",
    "        wcss.append(kmeans.inertia_)\n",
    "\n",
    "\n",
    "        score = silhouette_score(tsne_data, labels)\n",
    "        scores.append(score)\n",
    "\n",
    "\n",
    "    best_k = np.argmax(scores) + range_clusters[0]\n",
    "    best_labels = KMeans(n_clusters=best_k, init='k-means++', max_iter=1000, n_init='auto', random_state=0).fit_predict(tsne_data)\n",
    "    best_labels = np.array([f'cluster_{label}' for label in best_labels])\n",
    "\n",
    "    if plot:\n",
    "        # silhouette score\n",
    "        fig = px.line(x= range_clusters, y = scores)\n",
    "        fig.add_vline(best_k)\n",
    "        fig.update_layout(height=450, width=900, title='Silhouette Score')\n",
    "        fig.show()\n",
    "\n",
    "\n",
    "        # Plot the WCSS values\n",
    "        plt.plot(range_clusters, wcss)\n",
    "        plt.title('Elbow Method')\n",
    "        plt.xlabel('Number of clusters')\n",
    "        plt.ylabel('WCSS')\n",
    "        plt.show()\n",
    "\n",
    "    return best_k, best_labels"
   ],
   "metadata": {
    "collapsed": false
   }
  },
  {
   "cell_type": "code",
   "execution_count": 228,
   "outputs": [],
   "source": [
    "def visualize_chosen_cluster_model(role_type, tsne_data, cluster_labels):\n",
    "    fig = px.scatter(x=tsne_data[0],\n",
    "                    y=tsne_data[1],\n",
    "                    text=tsne_data.index,\n",
    "                    color=cluster_labels,\n",
    "                     color_discrete_sequence=px.colors.qualitative.Dark24)\n",
    "    fig.update_traces(textposition='top center')\n",
    "    fig.update_layout(height=900, width=1500, title_text=f'Clustering top skills for {role_type}')\n",
    "    fig.show()"
   ],
   "metadata": {
    "collapsed": false
   }
  },
  {
   "cell_type": "markdown",
   "source": [
    "# More preprocessing steps:\n",
    "### 1. Drop roles: ['Student', 'Other (please specify):', 'Designer', 'Educator', 'Product manager', 'Marketing or sales professional']\n",
    "### 2. split roles: ['Developer_full-stack', 'Developer_back-end']\n",
    "### 3. Cluster similar roles"
   ],
   "metadata": {
    "collapsed": false
   }
  },
  {
   "cell_type": "markdown",
   "source": [
    "# Load Data"
   ],
   "metadata": {
    "collapsed": false
   }
  },
  {
   "cell_type": "code",
   "execution_count": 919,
   "outputs": [],
   "source": [
    "skills_dev_df = pd.read_pickle(LOAD_PATH + LOAD_SKILLS_DEV)\n",
    "developers_skills = pd.read_pickle(LOAD_PATH + LOAD_HEAT_MAP)"
   ],
   "metadata": {
    "collapsed": false
   }
  },
  {
   "cell_type": "markdown",
   "source": [
    "# 1. Drop roles: ['Student', 'Other (please specify):', 'Designer', 'Educator', 'Product manager', 'Marketing or sales professional']"
   ],
   "metadata": {
    "collapsed": false
   }
  },
  {
   "cell_type": "code",
   "execution_count": 922,
   "outputs": [],
   "source": [
    "drop_roles = ['Student',\n",
    "              'Other (please specify):',\n",
    "              'Designer',\n",
    "              'Educator',\n",
    "              'Product manager',\n",
    "              'Marketing or sales professional']"
   ],
   "metadata": {
    "collapsed": false
   }
  },
  {
   "cell_type": "code",
   "execution_count": 923,
   "outputs": [],
   "source": [
    "skills_dev_df = skills_dev_df.drop(drop_roles, axis = 1, level=1)"
   ],
   "metadata": {
    "collapsed": false
   }
  },
  {
   "cell_type": "code",
   "execution_count": 924,
   "outputs": [],
   "source": [
    "developers_skills = developers_skills.drop(drop_roles)"
   ],
   "metadata": {
    "collapsed": false
   }
  },
  {
   "cell_type": "markdown",
   "source": [
    "# 2. split roles: ['Developer_full-stack', 'Developer_back-end']"
   ],
   "metadata": {
    "collapsed": false
   }
  },
  {
   "cell_type": "code",
   "execution_count": 235,
   "outputs": [],
   "source": [
    "split_roles = ['Developer_full-stack', 'Developer_back-end']"
   ],
   "metadata": {
    "collapsed": false
   }
  },
  {
   "cell_type": "code",
   "execution_count": 446,
   "outputs": [],
   "source": [
    "def choose_most_related_skills(roles_type:list=None, exclude_roles:list = None, threshold:float = .5) ->pd.DataFrame:\n",
    "    \"\"\"For splitting roles we need to choose the most related skills with this role to cluster them and by using this we can split roles successfully\n",
    "\n",
    "    @param roles_type: roles you need to choose the most related skills for them\n",
    "    @param exclude_roles: roles you need to exclude to make sure that, skills results are related with our roles types not any other roles\n",
    "    @param threshold: specify thresholding --percent from the mean of skills-- of sorted skills, choose only skills that have value more than the percent of skills mean\n",
    "\n",
    "    @return: Most related skills for specific roles\"\"\"\n",
    "    if roles_type is None:\n",
    "        roles_type = ['Developer_full-stack']\n",
    "\n",
    "    # Create mask for chosen roles\n",
    "    role_mask = skills_dev_df['DevType'][roles_type].sum(axis = 1) == len(roles_type)\n",
    "    if exclude_roles:\n",
    "        role_mask =  role_mask & (skills_dev_df['DevType'][exclude_roles].sum(axis = 1) == 0)\n",
    "\n",
    "    # applying mask on skills_dev_df and calculate the mean of these skills\n",
    "    role_skills = skills_dev_df.loc[role_mask,: ].drop('DevType', axis = 1, level = 0).droplevel(axis =1, level = 0).mean() * 100\n",
    "    # sorting skills\n",
    "    most_related_role_skills = role_skills.sort_values(ascending=False)\n",
    "    # choosing the most related skills, skills that have values higher than percent --threshold-- from the mean of all skills\n",
    "    most_related_role_skills = most_related_role_skills[most_related_role_skills> threshold * most_related_role_skills.mean()].index\n",
    "\n",
    "    # Choose these skills from the masking dataframe and return them\n",
    "    role_skills = skills_dev_df.loc[role_mask,: ].drop('DevType', axis = 1, level = 0).droplevel(axis = 1, level = 0)\n",
    "    role_skills = role_skills.T\n",
    "    role_skills = role_skills.loc[most_related_role_skills,:]\n",
    "\n",
    "    return  role_skills"
   ],
   "metadata": {
    "collapsed": false
   }
  },
  {
   "cell_type": "markdown",
   "source": [
    "## A) Developer_full-stack"
   ],
   "metadata": {
    "collapsed": false
   }
  },
  {
   "cell_type": "code",
   "execution_count": 548,
   "outputs": [
    {
     "data": {
      "application/vnd.plotly.v1+json": {
       "data": [
        {
         "hovertemplate": "x=%{x}<br>y=%{y}<extra></extra>",
         "legendgroup": "",
         "line": {
          "color": "#636efa",
          "dash": "solid"
         },
         "marker": {
          "symbol": "circle"
         },
         "mode": "lines",
         "name": "",
         "orientation": "v",
         "showlegend": false,
         "x": [
          2,
          3,
          4,
          5,
          6,
          7,
          8,
          9
         ],
         "xaxis": "x",
         "y": [
          0.3536868989467621,
          0.3316078782081604,
          0.38599222898483276,
          0.4165363609790802,
          0.44075459241867065,
          0.48547354340553284,
          0.4933316111564636,
          0.5348536372184753
         ],
         "yaxis": "y",
         "type": "scatter"
        }
       ],
       "layout": {
        "template": {
         "data": {
          "histogram2dcontour": [
           {
            "type": "histogram2dcontour",
            "colorbar": {
             "outlinewidth": 0,
             "ticks": ""
            },
            "colorscale": [
             [
              0.0,
              "#0d0887"
             ],
             [
              0.1111111111111111,
              "#46039f"
             ],
             [
              0.2222222222222222,
              "#7201a8"
             ],
             [
              0.3333333333333333,
              "#9c179e"
             ],
             [
              0.4444444444444444,
              "#bd3786"
             ],
             [
              0.5555555555555556,
              "#d8576b"
             ],
             [
              0.6666666666666666,
              "#ed7953"
             ],
             [
              0.7777777777777778,
              "#fb9f3a"
             ],
             [
              0.8888888888888888,
              "#fdca26"
             ],
             [
              1.0,
              "#f0f921"
             ]
            ]
           }
          ],
          "choropleth": [
           {
            "type": "choropleth",
            "colorbar": {
             "outlinewidth": 0,
             "ticks": ""
            }
           }
          ],
          "histogram2d": [
           {
            "type": "histogram2d",
            "colorbar": {
             "outlinewidth": 0,
             "ticks": ""
            },
            "colorscale": [
             [
              0.0,
              "#0d0887"
             ],
             [
              0.1111111111111111,
              "#46039f"
             ],
             [
              0.2222222222222222,
              "#7201a8"
             ],
             [
              0.3333333333333333,
              "#9c179e"
             ],
             [
              0.4444444444444444,
              "#bd3786"
             ],
             [
              0.5555555555555556,
              "#d8576b"
             ],
             [
              0.6666666666666666,
              "#ed7953"
             ],
             [
              0.7777777777777778,
              "#fb9f3a"
             ],
             [
              0.8888888888888888,
              "#fdca26"
             ],
             [
              1.0,
              "#f0f921"
             ]
            ]
           }
          ],
          "heatmap": [
           {
            "type": "heatmap",
            "colorbar": {
             "outlinewidth": 0,
             "ticks": ""
            },
            "colorscale": [
             [
              0.0,
              "#0d0887"
             ],
             [
              0.1111111111111111,
              "#46039f"
             ],
             [
              0.2222222222222222,
              "#7201a8"
             ],
             [
              0.3333333333333333,
              "#9c179e"
             ],
             [
              0.4444444444444444,
              "#bd3786"
             ],
             [
              0.5555555555555556,
              "#d8576b"
             ],
             [
              0.6666666666666666,
              "#ed7953"
             ],
             [
              0.7777777777777778,
              "#fb9f3a"
             ],
             [
              0.8888888888888888,
              "#fdca26"
             ],
             [
              1.0,
              "#f0f921"
             ]
            ]
           }
          ],
          "heatmapgl": [
           {
            "type": "heatmapgl",
            "colorbar": {
             "outlinewidth": 0,
             "ticks": ""
            },
            "colorscale": [
             [
              0.0,
              "#0d0887"
             ],
             [
              0.1111111111111111,
              "#46039f"
             ],
             [
              0.2222222222222222,
              "#7201a8"
             ],
             [
              0.3333333333333333,
              "#9c179e"
             ],
             [
              0.4444444444444444,
              "#bd3786"
             ],
             [
              0.5555555555555556,
              "#d8576b"
             ],
             [
              0.6666666666666666,
              "#ed7953"
             ],
             [
              0.7777777777777778,
              "#fb9f3a"
             ],
             [
              0.8888888888888888,
              "#fdca26"
             ],
             [
              1.0,
              "#f0f921"
             ]
            ]
           }
          ],
          "contourcarpet": [
           {
            "type": "contourcarpet",
            "colorbar": {
             "outlinewidth": 0,
             "ticks": ""
            }
           }
          ],
          "contour": [
           {
            "type": "contour",
            "colorbar": {
             "outlinewidth": 0,
             "ticks": ""
            },
            "colorscale": [
             [
              0.0,
              "#0d0887"
             ],
             [
              0.1111111111111111,
              "#46039f"
             ],
             [
              0.2222222222222222,
              "#7201a8"
             ],
             [
              0.3333333333333333,
              "#9c179e"
             ],
             [
              0.4444444444444444,
              "#bd3786"
             ],
             [
              0.5555555555555556,
              "#d8576b"
             ],
             [
              0.6666666666666666,
              "#ed7953"
             ],
             [
              0.7777777777777778,
              "#fb9f3a"
             ],
             [
              0.8888888888888888,
              "#fdca26"
             ],
             [
              1.0,
              "#f0f921"
             ]
            ]
           }
          ],
          "surface": [
           {
            "type": "surface",
            "colorbar": {
             "outlinewidth": 0,
             "ticks": ""
            },
            "colorscale": [
             [
              0.0,
              "#0d0887"
             ],
             [
              0.1111111111111111,
              "#46039f"
             ],
             [
              0.2222222222222222,
              "#7201a8"
             ],
             [
              0.3333333333333333,
              "#9c179e"
             ],
             [
              0.4444444444444444,
              "#bd3786"
             ],
             [
              0.5555555555555556,
              "#d8576b"
             ],
             [
              0.6666666666666666,
              "#ed7953"
             ],
             [
              0.7777777777777778,
              "#fb9f3a"
             ],
             [
              0.8888888888888888,
              "#fdca26"
             ],
             [
              1.0,
              "#f0f921"
             ]
            ]
           }
          ],
          "mesh3d": [
           {
            "type": "mesh3d",
            "colorbar": {
             "outlinewidth": 0,
             "ticks": ""
            }
           }
          ],
          "scatter": [
           {
            "marker": {
             "line": {
              "color": "#283442"
             }
            },
            "type": "scatter"
           }
          ],
          "parcoords": [
           {
            "type": "parcoords",
            "line": {
             "colorbar": {
              "outlinewidth": 0,
              "ticks": ""
             }
            }
           }
          ],
          "scatterpolargl": [
           {
            "type": "scatterpolargl",
            "marker": {
             "colorbar": {
              "outlinewidth": 0,
              "ticks": ""
             }
            }
           }
          ],
          "bar": [
           {
            "error_x": {
             "color": "#f2f5fa"
            },
            "error_y": {
             "color": "#f2f5fa"
            },
            "marker": {
             "line": {
              "color": "rgb(17,17,17)",
              "width": 0.5
             },
             "pattern": {
              "fillmode": "overlay",
              "size": 10,
              "solidity": 0.2
             }
            },
            "type": "bar"
           }
          ],
          "scattergeo": [
           {
            "type": "scattergeo",
            "marker": {
             "colorbar": {
              "outlinewidth": 0,
              "ticks": ""
             }
            }
           }
          ],
          "scatterpolar": [
           {
            "type": "scatterpolar",
            "marker": {
             "colorbar": {
              "outlinewidth": 0,
              "ticks": ""
             }
            }
           }
          ],
          "histogram": [
           {
            "marker": {
             "pattern": {
              "fillmode": "overlay",
              "size": 10,
              "solidity": 0.2
             }
            },
            "type": "histogram"
           }
          ],
          "scattergl": [
           {
            "marker": {
             "line": {
              "color": "#283442"
             }
            },
            "type": "scattergl"
           }
          ],
          "scatter3d": [
           {
            "type": "scatter3d",
            "line": {
             "colorbar": {
              "outlinewidth": 0,
              "ticks": ""
             }
            },
            "marker": {
             "colorbar": {
              "outlinewidth": 0,
              "ticks": ""
             }
            }
           }
          ],
          "scattermapbox": [
           {
            "type": "scattermapbox",
            "marker": {
             "colorbar": {
              "outlinewidth": 0,
              "ticks": ""
             }
            }
           }
          ],
          "scatterternary": [
           {
            "type": "scatterternary",
            "marker": {
             "colorbar": {
              "outlinewidth": 0,
              "ticks": ""
             }
            }
           }
          ],
          "scattercarpet": [
           {
            "type": "scattercarpet",
            "marker": {
             "colorbar": {
              "outlinewidth": 0,
              "ticks": ""
             }
            }
           }
          ],
          "carpet": [
           {
            "aaxis": {
             "endlinecolor": "#A2B1C6",
             "gridcolor": "#506784",
             "linecolor": "#506784",
             "minorgridcolor": "#506784",
             "startlinecolor": "#A2B1C6"
            },
            "baxis": {
             "endlinecolor": "#A2B1C6",
             "gridcolor": "#506784",
             "linecolor": "#506784",
             "minorgridcolor": "#506784",
             "startlinecolor": "#A2B1C6"
            },
            "type": "carpet"
           }
          ],
          "table": [
           {
            "cells": {
             "fill": {
              "color": "#506784"
             },
             "line": {
              "color": "rgb(17,17,17)"
             }
            },
            "header": {
             "fill": {
              "color": "#2a3f5f"
             },
             "line": {
              "color": "rgb(17,17,17)"
             }
            },
            "type": "table"
           }
          ],
          "barpolar": [
           {
            "marker": {
             "line": {
              "color": "rgb(17,17,17)",
              "width": 0.5
             },
             "pattern": {
              "fillmode": "overlay",
              "size": 10,
              "solidity": 0.2
             }
            },
            "type": "barpolar"
           }
          ],
          "pie": [
           {
            "automargin": true,
            "type": "pie"
           }
          ]
         },
         "layout": {
          "autotypenumbers": "strict",
          "colorway": [
           "#636efa",
           "#EF553B",
           "#00cc96",
           "#ab63fa",
           "#FFA15A",
           "#19d3f3",
           "#FF6692",
           "#B6E880",
           "#FF97FF",
           "#FECB52"
          ],
          "font": {
           "color": "#f2f5fa"
          },
          "hovermode": "closest",
          "hoverlabel": {
           "align": "left"
          },
          "paper_bgcolor": "rgb(17,17,17)",
          "plot_bgcolor": "rgb(17,17,17)",
          "polar": {
           "bgcolor": "rgb(17,17,17)",
           "angularaxis": {
            "gridcolor": "#506784",
            "linecolor": "#506784",
            "ticks": ""
           },
           "radialaxis": {
            "gridcolor": "#506784",
            "linecolor": "#506784",
            "ticks": ""
           }
          },
          "ternary": {
           "bgcolor": "rgb(17,17,17)",
           "aaxis": {
            "gridcolor": "#506784",
            "linecolor": "#506784",
            "ticks": ""
           },
           "baxis": {
            "gridcolor": "#506784",
            "linecolor": "#506784",
            "ticks": ""
           },
           "caxis": {
            "gridcolor": "#506784",
            "linecolor": "#506784",
            "ticks": ""
           }
          },
          "coloraxis": {
           "colorbar": {
            "outlinewidth": 0,
            "ticks": ""
           }
          },
          "colorscale": {
           "sequential": [
            [
             0.0,
             "#0d0887"
            ],
            [
             0.1111111111111111,
             "#46039f"
            ],
            [
             0.2222222222222222,
             "#7201a8"
            ],
            [
             0.3333333333333333,
             "#9c179e"
            ],
            [
             0.4444444444444444,
             "#bd3786"
            ],
            [
             0.5555555555555556,
             "#d8576b"
            ],
            [
             0.6666666666666666,
             "#ed7953"
            ],
            [
             0.7777777777777778,
             "#fb9f3a"
            ],
            [
             0.8888888888888888,
             "#fdca26"
            ],
            [
             1.0,
             "#f0f921"
            ]
           ],
           "sequentialminus": [
            [
             0.0,
             "#0d0887"
            ],
            [
             0.1111111111111111,
             "#46039f"
            ],
            [
             0.2222222222222222,
             "#7201a8"
            ],
            [
             0.3333333333333333,
             "#9c179e"
            ],
            [
             0.4444444444444444,
             "#bd3786"
            ],
            [
             0.5555555555555556,
             "#d8576b"
            ],
            [
             0.6666666666666666,
             "#ed7953"
            ],
            [
             0.7777777777777778,
             "#fb9f3a"
            ],
            [
             0.8888888888888888,
             "#fdca26"
            ],
            [
             1.0,
             "#f0f921"
            ]
           ],
           "diverging": [
            [
             0,
             "#8e0152"
            ],
            [
             0.1,
             "#c51b7d"
            ],
            [
             0.2,
             "#de77ae"
            ],
            [
             0.3,
             "#f1b6da"
            ],
            [
             0.4,
             "#fde0ef"
            ],
            [
             0.5,
             "#f7f7f7"
            ],
            [
             0.6,
             "#e6f5d0"
            ],
            [
             0.7,
             "#b8e186"
            ],
            [
             0.8,
             "#7fbc41"
            ],
            [
             0.9,
             "#4d9221"
            ],
            [
             1,
             "#276419"
            ]
           ]
          },
          "xaxis": {
           "gridcolor": "#283442",
           "linecolor": "#506784",
           "ticks": "",
           "title": {
            "standoff": 15
           },
           "zerolinecolor": "#283442",
           "automargin": true,
           "zerolinewidth": 2
          },
          "yaxis": {
           "gridcolor": "#283442",
           "linecolor": "#506784",
           "ticks": "",
           "title": {
            "standoff": 15
           },
           "zerolinecolor": "#283442",
           "automargin": true,
           "zerolinewidth": 2
          },
          "scene": {
           "xaxis": {
            "backgroundcolor": "rgb(17,17,17)",
            "gridcolor": "#506784",
            "linecolor": "#506784",
            "showbackground": true,
            "ticks": "",
            "zerolinecolor": "#C8D4E3",
            "gridwidth": 2
           },
           "yaxis": {
            "backgroundcolor": "rgb(17,17,17)",
            "gridcolor": "#506784",
            "linecolor": "#506784",
            "showbackground": true,
            "ticks": "",
            "zerolinecolor": "#C8D4E3",
            "gridwidth": 2
           },
           "zaxis": {
            "backgroundcolor": "rgb(17,17,17)",
            "gridcolor": "#506784",
            "linecolor": "#506784",
            "showbackground": true,
            "ticks": "",
            "zerolinecolor": "#C8D4E3",
            "gridwidth": 2
           }
          },
          "shapedefaults": {
           "line": {
            "color": "#f2f5fa"
           }
          },
          "annotationdefaults": {
           "arrowcolor": "#f2f5fa",
           "arrowhead": 0,
           "arrowwidth": 1
          },
          "geo": {
           "bgcolor": "rgb(17,17,17)",
           "landcolor": "rgb(17,17,17)",
           "subunitcolor": "#506784",
           "showland": true,
           "showlakes": true,
           "lakecolor": "rgb(17,17,17)"
          },
          "title": {
           "x": 0.05
          },
          "updatemenudefaults": {
           "bgcolor": "#506784",
           "borderwidth": 0
          },
          "sliderdefaults": {
           "bgcolor": "#C8D4E3",
           "borderwidth": 1,
           "bordercolor": "rgb(17,17,17)",
           "tickwidth": 0
          },
          "mapbox": {
           "style": "dark"
          }
         }
        },
        "xaxis": {
         "anchor": "y",
         "domain": [
          0.0,
          1.0
         ],
         "title": {
          "text": "x"
         }
        },
        "yaxis": {
         "anchor": "x",
         "domain": [
          0.0,
          1.0
         ],
         "title": {
          "text": "y"
         }
        },
        "legend": {
         "tracegroupgap": 0
        },
        "margin": {
         "t": 60
        },
        "shapes": [
         {
          "type": "line",
          "x0": 9,
          "x1": 9,
          "xref": "x",
          "y0": 0,
          "y1": 1,
          "yref": "y domain"
         }
        ],
        "height": 450,
        "width": 900,
        "title": {
         "text": "Silhouette Score"
        }
       },
       "config": {
        "plotlyServerURL": "https://plot.ly"
       }
      },
      "text/html": "<div>                            <div id=\"d8cb12cd-6b43-4da9-adb8-aeb824375a0f\" class=\"plotly-graph-div\" style=\"height:450px; width:900px;\"></div>            <script type=\"text/javascript\">                require([\"plotly\"], function(Plotly) {                    window.PLOTLYENV=window.PLOTLYENV || {};                                    if (document.getElementById(\"d8cb12cd-6b43-4da9-adb8-aeb824375a0f\")) {                    Plotly.newPlot(                        \"d8cb12cd-6b43-4da9-adb8-aeb824375a0f\",                        [{\"hovertemplate\":\"x=%{x}<br>y=%{y}<extra></extra>\",\"legendgroup\":\"\",\"line\":{\"color\":\"#636efa\",\"dash\":\"solid\"},\"marker\":{\"symbol\":\"circle\"},\"mode\":\"lines\",\"name\":\"\",\"orientation\":\"v\",\"showlegend\":false,\"x\":[2,3,4,5,6,7,8,9],\"xaxis\":\"x\",\"y\":[0.3536868989467621,0.3316078782081604,0.38599222898483276,0.4165363609790802,0.44075459241867065,0.48547354340553284,0.4933316111564636,0.5348536372184753],\"yaxis\":\"y\",\"type\":\"scatter\"}],                        {\"template\":{\"data\":{\"histogram2dcontour\":[{\"type\":\"histogram2dcontour\",\"colorbar\":{\"outlinewidth\":0,\"ticks\":\"\"},\"colorscale\":[[0.0,\"#0d0887\"],[0.1111111111111111,\"#46039f\"],[0.2222222222222222,\"#7201a8\"],[0.3333333333333333,\"#9c179e\"],[0.4444444444444444,\"#bd3786\"],[0.5555555555555556,\"#d8576b\"],[0.6666666666666666,\"#ed7953\"],[0.7777777777777778,\"#fb9f3a\"],[0.8888888888888888,\"#fdca26\"],[1.0,\"#f0f921\"]]}],\"choropleth\":[{\"type\":\"choropleth\",\"colorbar\":{\"outlinewidth\":0,\"ticks\":\"\"}}],\"histogram2d\":[{\"type\":\"histogram2d\",\"colorbar\":{\"outlinewidth\":0,\"ticks\":\"\"},\"colorscale\":[[0.0,\"#0d0887\"],[0.1111111111111111,\"#46039f\"],[0.2222222222222222,\"#7201a8\"],[0.3333333333333333,\"#9c179e\"],[0.4444444444444444,\"#bd3786\"],[0.5555555555555556,\"#d8576b\"],[0.6666666666666666,\"#ed7953\"],[0.7777777777777778,\"#fb9f3a\"],[0.8888888888888888,\"#fdca26\"],[1.0,\"#f0f921\"]]}],\"heatmap\":[{\"type\":\"heatmap\",\"colorbar\":{\"outlinewidth\":0,\"ticks\":\"\"},\"colorscale\":[[0.0,\"#0d0887\"],[0.1111111111111111,\"#46039f\"],[0.2222222222222222,\"#7201a8\"],[0.3333333333333333,\"#9c179e\"],[0.4444444444444444,\"#bd3786\"],[0.5555555555555556,\"#d8576b\"],[0.6666666666666666,\"#ed7953\"],[0.7777777777777778,\"#fb9f3a\"],[0.8888888888888888,\"#fdca26\"],[1.0,\"#f0f921\"]]}],\"heatmapgl\":[{\"type\":\"heatmapgl\",\"colorbar\":{\"outlinewidth\":0,\"ticks\":\"\"},\"colorscale\":[[0.0,\"#0d0887\"],[0.1111111111111111,\"#46039f\"],[0.2222222222222222,\"#7201a8\"],[0.3333333333333333,\"#9c179e\"],[0.4444444444444444,\"#bd3786\"],[0.5555555555555556,\"#d8576b\"],[0.6666666666666666,\"#ed7953\"],[0.7777777777777778,\"#fb9f3a\"],[0.8888888888888888,\"#fdca26\"],[1.0,\"#f0f921\"]]}],\"contourcarpet\":[{\"type\":\"contourcarpet\",\"colorbar\":{\"outlinewidth\":0,\"ticks\":\"\"}}],\"contour\":[{\"type\":\"contour\",\"colorbar\":{\"outlinewidth\":0,\"ticks\":\"\"},\"colorscale\":[[0.0,\"#0d0887\"],[0.1111111111111111,\"#46039f\"],[0.2222222222222222,\"#7201a8\"],[0.3333333333333333,\"#9c179e\"],[0.4444444444444444,\"#bd3786\"],[0.5555555555555556,\"#d8576b\"],[0.6666666666666666,\"#ed7953\"],[0.7777777777777778,\"#fb9f3a\"],[0.8888888888888888,\"#fdca26\"],[1.0,\"#f0f921\"]]}],\"surface\":[{\"type\":\"surface\",\"colorbar\":{\"outlinewidth\":0,\"ticks\":\"\"},\"colorscale\":[[0.0,\"#0d0887\"],[0.1111111111111111,\"#46039f\"],[0.2222222222222222,\"#7201a8\"],[0.3333333333333333,\"#9c179e\"],[0.4444444444444444,\"#bd3786\"],[0.5555555555555556,\"#d8576b\"],[0.6666666666666666,\"#ed7953\"],[0.7777777777777778,\"#fb9f3a\"],[0.8888888888888888,\"#fdca26\"],[1.0,\"#f0f921\"]]}],\"mesh3d\":[{\"type\":\"mesh3d\",\"colorbar\":{\"outlinewidth\":0,\"ticks\":\"\"}}],\"scatter\":[{\"marker\":{\"line\":{\"color\":\"#283442\"}},\"type\":\"scatter\"}],\"parcoords\":[{\"type\":\"parcoords\",\"line\":{\"colorbar\":{\"outlinewidth\":0,\"ticks\":\"\"}}}],\"scatterpolargl\":[{\"type\":\"scatterpolargl\",\"marker\":{\"colorbar\":{\"outlinewidth\":0,\"ticks\":\"\"}}}],\"bar\":[{\"error_x\":{\"color\":\"#f2f5fa\"},\"error_y\":{\"color\":\"#f2f5fa\"},\"marker\":{\"line\":{\"color\":\"rgb(17,17,17)\",\"width\":0.5},\"pattern\":{\"fillmode\":\"overlay\",\"size\":10,\"solidity\":0.2}},\"type\":\"bar\"}],\"scattergeo\":[{\"type\":\"scattergeo\",\"marker\":{\"colorbar\":{\"outlinewidth\":0,\"ticks\":\"\"}}}],\"scatterpolar\":[{\"type\":\"scatterpolar\",\"marker\":{\"colorbar\":{\"outlinewidth\":0,\"ticks\":\"\"}}}],\"histogram\":[{\"marker\":{\"pattern\":{\"fillmode\":\"overlay\",\"size\":10,\"solidity\":0.2}},\"type\":\"histogram\"}],\"scattergl\":[{\"marker\":{\"line\":{\"color\":\"#283442\"}},\"type\":\"scattergl\"}],\"scatter3d\":[{\"type\":\"scatter3d\",\"line\":{\"colorbar\":{\"outlinewidth\":0,\"ticks\":\"\"}},\"marker\":{\"colorbar\":{\"outlinewidth\":0,\"ticks\":\"\"}}}],\"scattermapbox\":[{\"type\":\"scattermapbox\",\"marker\":{\"colorbar\":{\"outlinewidth\":0,\"ticks\":\"\"}}}],\"scatterternary\":[{\"type\":\"scatterternary\",\"marker\":{\"colorbar\":{\"outlinewidth\":0,\"ticks\":\"\"}}}],\"scattercarpet\":[{\"type\":\"scattercarpet\",\"marker\":{\"colorbar\":{\"outlinewidth\":0,\"ticks\":\"\"}}}],\"carpet\":[{\"aaxis\":{\"endlinecolor\":\"#A2B1C6\",\"gridcolor\":\"#506784\",\"linecolor\":\"#506784\",\"minorgridcolor\":\"#506784\",\"startlinecolor\":\"#A2B1C6\"},\"baxis\":{\"endlinecolor\":\"#A2B1C6\",\"gridcolor\":\"#506784\",\"linecolor\":\"#506784\",\"minorgridcolor\":\"#506784\",\"startlinecolor\":\"#A2B1C6\"},\"type\":\"carpet\"}],\"table\":[{\"cells\":{\"fill\":{\"color\":\"#506784\"},\"line\":{\"color\":\"rgb(17,17,17)\"}},\"header\":{\"fill\":{\"color\":\"#2a3f5f\"},\"line\":{\"color\":\"rgb(17,17,17)\"}},\"type\":\"table\"}],\"barpolar\":[{\"marker\":{\"line\":{\"color\":\"rgb(17,17,17)\",\"width\":0.5},\"pattern\":{\"fillmode\":\"overlay\",\"size\":10,\"solidity\":0.2}},\"type\":\"barpolar\"}],\"pie\":[{\"automargin\":true,\"type\":\"pie\"}]},\"layout\":{\"autotypenumbers\":\"strict\",\"colorway\":[\"#636efa\",\"#EF553B\",\"#00cc96\",\"#ab63fa\",\"#FFA15A\",\"#19d3f3\",\"#FF6692\",\"#B6E880\",\"#FF97FF\",\"#FECB52\"],\"font\":{\"color\":\"#f2f5fa\"},\"hovermode\":\"closest\",\"hoverlabel\":{\"align\":\"left\"},\"paper_bgcolor\":\"rgb(17,17,17)\",\"plot_bgcolor\":\"rgb(17,17,17)\",\"polar\":{\"bgcolor\":\"rgb(17,17,17)\",\"angularaxis\":{\"gridcolor\":\"#506784\",\"linecolor\":\"#506784\",\"ticks\":\"\"},\"radialaxis\":{\"gridcolor\":\"#506784\",\"linecolor\":\"#506784\",\"ticks\":\"\"}},\"ternary\":{\"bgcolor\":\"rgb(17,17,17)\",\"aaxis\":{\"gridcolor\":\"#506784\",\"linecolor\":\"#506784\",\"ticks\":\"\"},\"baxis\":{\"gridcolor\":\"#506784\",\"linecolor\":\"#506784\",\"ticks\":\"\"},\"caxis\":{\"gridcolor\":\"#506784\",\"linecolor\":\"#506784\",\"ticks\":\"\"}},\"coloraxis\":{\"colorbar\":{\"outlinewidth\":0,\"ticks\":\"\"}},\"colorscale\":{\"sequential\":[[0.0,\"#0d0887\"],[0.1111111111111111,\"#46039f\"],[0.2222222222222222,\"#7201a8\"],[0.3333333333333333,\"#9c179e\"],[0.4444444444444444,\"#bd3786\"],[0.5555555555555556,\"#d8576b\"],[0.6666666666666666,\"#ed7953\"],[0.7777777777777778,\"#fb9f3a\"],[0.8888888888888888,\"#fdca26\"],[1.0,\"#f0f921\"]],\"sequentialminus\":[[0.0,\"#0d0887\"],[0.1111111111111111,\"#46039f\"],[0.2222222222222222,\"#7201a8\"],[0.3333333333333333,\"#9c179e\"],[0.4444444444444444,\"#bd3786\"],[0.5555555555555556,\"#d8576b\"],[0.6666666666666666,\"#ed7953\"],[0.7777777777777778,\"#fb9f3a\"],[0.8888888888888888,\"#fdca26\"],[1.0,\"#f0f921\"]],\"diverging\":[[0,\"#8e0152\"],[0.1,\"#c51b7d\"],[0.2,\"#de77ae\"],[0.3,\"#f1b6da\"],[0.4,\"#fde0ef\"],[0.5,\"#f7f7f7\"],[0.6,\"#e6f5d0\"],[0.7,\"#b8e186\"],[0.8,\"#7fbc41\"],[0.9,\"#4d9221\"],[1,\"#276419\"]]},\"xaxis\":{\"gridcolor\":\"#283442\",\"linecolor\":\"#506784\",\"ticks\":\"\",\"title\":{\"standoff\":15},\"zerolinecolor\":\"#283442\",\"automargin\":true,\"zerolinewidth\":2},\"yaxis\":{\"gridcolor\":\"#283442\",\"linecolor\":\"#506784\",\"ticks\":\"\",\"title\":{\"standoff\":15},\"zerolinecolor\":\"#283442\",\"automargin\":true,\"zerolinewidth\":2},\"scene\":{\"xaxis\":{\"backgroundcolor\":\"rgb(17,17,17)\",\"gridcolor\":\"#506784\",\"linecolor\":\"#506784\",\"showbackground\":true,\"ticks\":\"\",\"zerolinecolor\":\"#C8D4E3\",\"gridwidth\":2},\"yaxis\":{\"backgroundcolor\":\"rgb(17,17,17)\",\"gridcolor\":\"#506784\",\"linecolor\":\"#506784\",\"showbackground\":true,\"ticks\":\"\",\"zerolinecolor\":\"#C8D4E3\",\"gridwidth\":2},\"zaxis\":{\"backgroundcolor\":\"rgb(17,17,17)\",\"gridcolor\":\"#506784\",\"linecolor\":\"#506784\",\"showbackground\":true,\"ticks\":\"\",\"zerolinecolor\":\"#C8D4E3\",\"gridwidth\":2}},\"shapedefaults\":{\"line\":{\"color\":\"#f2f5fa\"}},\"annotationdefaults\":{\"arrowcolor\":\"#f2f5fa\",\"arrowhead\":0,\"arrowwidth\":1},\"geo\":{\"bgcolor\":\"rgb(17,17,17)\",\"landcolor\":\"rgb(17,17,17)\",\"subunitcolor\":\"#506784\",\"showland\":true,\"showlakes\":true,\"lakecolor\":\"rgb(17,17,17)\"},\"title\":{\"x\":0.05},\"updatemenudefaults\":{\"bgcolor\":\"#506784\",\"borderwidth\":0},\"sliderdefaults\":{\"bgcolor\":\"#C8D4E3\",\"borderwidth\":1,\"bordercolor\":\"rgb(17,17,17)\",\"tickwidth\":0},\"mapbox\":{\"style\":\"dark\"}}},\"xaxis\":{\"anchor\":\"y\",\"domain\":[0.0,1.0],\"title\":{\"text\":\"x\"}},\"yaxis\":{\"anchor\":\"x\",\"domain\":[0.0,1.0],\"title\":{\"text\":\"y\"}},\"legend\":{\"tracegroupgap\":0},\"margin\":{\"t\":60},\"shapes\":[{\"type\":\"line\",\"x0\":9,\"x1\":9,\"xref\":\"x\",\"y0\":0,\"y1\":1,\"yref\":\"y domain\"}],\"height\":450,\"width\":900,\"title\":{\"text\":\"Silhouette Score\"}},                        {\"responsive\": true}                    ).then(function(){\n                            \nvar gd = document.getElementById('d8cb12cd-6b43-4da9-adb8-aeb824375a0f');\nvar x = new MutationObserver(function (mutations, observer) {{\n        var display = window.getComputedStyle(gd).display;\n        if (!display || display === 'none') {{\n            console.log([gd, 'removed!']);\n            Plotly.purge(gd);\n            observer.disconnect();\n        }}\n}});\n\n// Listen for the removal of the full notebook cells\nvar notebookContainer = gd.closest('#notebook-container');\nif (notebookContainer) {{\n    x.observe(notebookContainer, {childList: true});\n}}\n\n// Listen for the clearing of the current output cell\nvar outputEl = gd.closest('.output');\nif (outputEl) {{\n    x.observe(outputEl, {childList: true});\n}}\n\n                        })                };                });            </script>        </div>"
     },
     "metadata": {},
     "output_type": "display_data"
    },
    {
     "data": {
      "text/plain": "<Figure size 640x480 with 1 Axes>",
      "image/png": "[encoded data removed]"
     },
     "metadata": {},
     "output_type": "display_data"
    },
    {
     "data": {
      "application/vnd.plotly.v1+json": {
       "data": [
        {
         "hovertemplate": "color=cluster_3<br>x=%{x}<br>y=%{y}<br>text=%{text}<extra></extra>",
         "legendgroup": "cluster_3",
         "marker": {
          "color": "#2E91E5",
          "symbol": "circle"
         },
         "mode": "markers+text",
         "name": "cluster_3",
         "orientation": "v",
         "showlegend": true,
         "text": [
          "JavaScript",
          "Visual Studio Code",
          "HTML/CSS",
          "npm",
          "SQL",
          "TypeScript",
          "React.js",
          "Node.js",
          "Yarn",
          "Express",
          "Next.js"
         ],
         "x": [
          26.303699493408203,
          25.802488327026367,
          26.287721633911133,
          20.34716033935547,
          28.230226516723633,
          20.054738998413086,
          17.327566146850586,
          17.154254913330078,
          13.906331062316895,
          14.819836616516113,
          13.052620887756348
         ],
         "xaxis": "x",
         "y": [
          5.961908340454102,
          3.9355309009552,
          7.045655727386475,
          4.416494846343994,
          7.096155643463135,
          5.709411144256592,
          -0.09542471915483475,
          2.4266445636749268,
          -0.9728120565414429,
          2.441399097442627,
          0.7451165318489075
         ],
         "yaxis": "y",
         "type": "scatter",
         "textposition": "top center"
        },
        {
         "hovertemplate": "color=cluster_7<br>x=%{x}<br>y=%{y}<br>text=%{text}<extra></extra>",
         "legendgroup": "cluster_7",
         "marker": {
          "color": "#E15F99",
          "symbol": "circle"
         },
         "mode": "markers+text",
         "name": "cluster_7",
         "orientation": "v",
         "showlegend": true,
         "text": [
          "Docker",
          "AWS",
          "PostgreSQL",
          "Redis",
          "Kubernetes",
          "Elasticsearch",
          "Go",
          "Terraform",
          "Apache Kafka",
          "Kotlin"
         ],
         "x": [
          10.294361114501953,
          7.194559097290039,
          6.617130756378174,
          2.948441743850708,
          9.466036796569824,
          -2.095085859298706,
          1.9553922414779663,
          2.95780348777771,
          8.781949043273926,
          7.44394063949585
         ],
         "xaxis": "x",
         "y": [
          -11.92154312133789,
          -16.0015869140625,
          -14.987919807434082,
          -12.946269035339355,
          -9.799041748046875,
          -8.071267127990723,
          -10.863001823425293,
          -5.594339370727539,
          -7.745603561401367,
          -5.396268844604492
         ],
         "yaxis": "y",
         "type": "scatter",
         "textposition": "top center"
        },
        {
         "hovertemplate": "color=cluster_2<br>x=%{x}<br>y=%{y}<br>text=%{text}<extra></extra>",
         "legendgroup": "cluster_2",
         "marker": {
          "color": "#1CA71C",
          "symbol": "circle"
         },
         "mode": "markers+text",
         "name": "cluster_2",
         "orientation": "v",
         "showlegend": true,
         "text": [
          "C#",
          "Visual Studio",
          "Microsoft SQL Server",
          ".NET",
          "Microsoft Azure",
          "ASP.NET Core "
         ],
         "x": [
          9.475675582885742,
          10.793671607971191,
          7.633218288421631,
          9.73989200592041,
          6.650008678436279,
          8.440887451171875
         ],
         "xaxis": "x",
         "y": [
          37.04753494262695,
          37.8596305847168,
          37.92939376831055,
          35.901676177978516,
          33.88698196411133,
          34.73549270629883
         ],
         "yaxis": "y",
         "type": "scatter",
         "textposition": "top center"
        },
        {
         "hovertemplate": "color=cluster_6<br>x=%{x}<br>y=%{y}<br>text=%{text}<extra></extra>",
         "legendgroup": "cluster_6",
         "marker": {
          "color": "#FB0D0D",
          "symbol": "circle"
         },
         "mode": "markers+text",
         "name": "cluster_6",
         "orientation": "v",
         "showlegend": true,
         "text": [
          "MySQL",
          "Vue.js",
          "PHP",
          "MariaDB",
          "Laravel",
          "PhpStorm"
         ],
         "x": [
          -19.8525447845459,
          -17.183269500732422,
          -19.479398727416992,
          -21.56233024597168,
          -18.95595359802246,
          -19.527503967285156
         ],
         "xaxis": "x",
         "y": [
          -19.910011291503906,
          -13.355279922485352,
          -18.11395263671875,
          -15.135168075561523,
          -15.197586059570312,
          -16.003311157226562
         ],
         "yaxis": "y",
         "type": "scatter",
         "textposition": "top center"
        },
        {
         "hovertemplate": "color=cluster_5<br>x=%{x}<br>y=%{y}<br>text=%{text}<extra></extra>",
         "legendgroup": "cluster_5",
         "marker": {
          "color": "#DA16FF",
          "symbol": "circle"
         },
         "mode": "markers+text",
         "name": "cluster_5",
         "orientation": "v",
         "showlegend": true,
         "text": [
          "Python",
          "SQLite",
          "Vim",
          "C++",
          "PyCharm",
          "NumPy",
          "Pandas",
          "Django",
          "C",
          "Flask"
         ],
         "x": [
          -22.989845275878906,
          -11.810376167297363,
          -17.6335391998291,
          -15.213142395019531,
          -21.042186737060547,
          -25.86147117614746,
          -26.37755584716797,
          -17.772565841674805,
          -16.01628875732422,
          -18.82012939453125
         ],
         "xaxis": "x",
         "y": [
          -0.49226877093315125,
          1.203405737876892,
          10.656204223632812,
          8.879061698913574,
          -0.11186880618333817,
          1.6497488021850586,
          2.349881649017334,
          0.2529514729976654,
          9.470952987670898,
          0.15334826707839966
         ],
         "yaxis": "y",
         "type": "scatter",
         "textposition": "top center"
        },
        {
         "hovertemplate": "color=cluster_8<br>x=%{x}<br>y=%{y}<br>text=%{text}<extra></extra>",
         "legendgroup": "cluster_8",
         "marker": {
          "color": "#222A2A",
          "symbol": "circle"
         },
         "mode": "markers+text",
         "name": "cluster_8",
         "orientation": "v",
         "showlegend": true,
         "text": [
          "Java",
          "IntelliJ",
          "Spring"
         ],
         "x": [
          8.947524070739746,
          9.071501731872559,
          8.835598945617676
         ],
         "xaxis": "x",
         "y": [
          -33.174766540527344,
          -34.50217819213867,
          -31.972618103027344
         ],
         "yaxis": "y",
         "type": "scatter",
         "textposition": "top center"
        },
        {
         "hovertemplate": "color=cluster_4<br>x=%{x}<br>y=%{y}<br>text=%{text}<extra></extra>",
         "legendgroup": "cluster_4",
         "marker": {
          "color": "#B68100",
          "symbol": "circle"
         },
         "mode": "markers+text",
         "name": "cluster_4",
         "orientation": "v",
         "showlegend": true,
         "text": [
          "Notepad++",
          "Angular",
          "jQuery",
          "ASP.NET",
          "PowerShell",
          "Oracle",
          "Eclipse",
          "Angular.js",
          "Blazor"
         ],
         "x": [
          0.9979410171508789,
          8.542665481567383,
          6.626492023468018,
          0.5677596926689148,
          -0.9553519487380981,
          -9.813236236572266,
          -9.73668098449707,
          6.9618120193481445,
          0.001315851230174303
         ],
         "xaxis": "x",
         "y": [
          17.129093170166016,
          7.573002338409424,
          10.677594184875488,
          15.361394882202148,
          11.298832893371582,
          17.8995304107666,
          16.892358779907227,
          8.410393714904785,
          13.293394088745117
         ],
         "yaxis": "y",
         "type": "scatter",
         "textposition": "top center"
        },
        {
         "hovertemplate": "color=cluster_0<br>x=%{x}<br>y=%{y}<br>text=%{text}<extra></extra>",
         "legendgroup": "cluster_0",
         "marker": {
          "color": "#750D86",
          "symbol": "circle"
         },
         "mode": "markers+text",
         "name": "cluster_0",
         "orientation": "v",
         "showlegend": true,
         "text": [
          "Bash/Shell",
          "MongoDB",
          "Google Cloud",
          "Sublime Text",
          "Android Studio",
          "DigitalOcean",
          "Rust",
          "Firebase",
          "DynamoDB",
          "Webstorm",
          "React Native",
          "Xcode",
          "Ansible",
          "Flutter",
          "Rider",
          "Svelte",
          "Nano",
          "Electron"
         ],
         "x": [
          -9.199406623840332,
          6.367966651916504,
          -5.184067726135254,
          -6.329521656036377,
          1.5148097276687622,
          -4.119403839111328,
          -7.581700801849365,
          -3.830408811569214,
          2.128535747528076,
          -3.125919818878174,
          4.292863845825195,
          1.1079800128936768,
          -2.8012032508850098,
          -0.6289837956428528,
          -0.12396309524774551,
          -2.3352105617523193,
          -0.7309508919715881,
          -1.1855957508087158
         ],
         "xaxis": "x",
         "y": [
          -5.18871545791626,
          0.8690203428268433,
          6.196079730987549,
          0.721666693687439,
          2.6167714595794678,
          -2.2358624935150146,
          -4.099664211273193,
          4.976628303527832,
          -3.979585647583008,
          1.4350168704986572,
          0.5253345966339111,
          0.17523778975009918,
          -6.127178192138672,
          1.2528939247131348,
          5.460704326629639,
          -1.2413619756698608,
          -2.6828343868255615,
          -0.25700005888938904
         ],
         "yaxis": "y",
         "type": "scatter",
         "textposition": "top center"
        },
        {
         "hovertemplate": "color=cluster_1<br>x=%{x}<br>y=%{y}<br>text=%{text}<extra></extra>",
         "legendgroup": "cluster_1",
         "marker": {
          "color": "#EB663B",
          "symbol": "circle"
         },
         "mode": "markers+text",
         "name": "cluster_1",
         "orientation": "v",
         "showlegend": true,
         "text": [
          "Homebrew",
          "Heroku",
          "Ruby",
          "Ruby on Rails"
         ],
         "x": [
          -5.768275737762451,
          -3.5872135162353516,
          -5.628504753112793,
          -5.007291316986084
         ],
         "xaxis": "x",
         "y": [
          -13.12870979309082,
          -19.25467872619629,
          -16.867172241210938,
          -17.567590713500977
         ],
         "yaxis": "y",
         "type": "scatter",
         "textposition": "top center"
        }
       ],
       "layout": {
        "template": {
         "data": {
          "histogram2dcontour": [
           {
            "type": "histogram2dcontour",
            "colorbar": {
             "outlinewidth": 0,
             "ticks": ""
            },
            "colorscale": [
             [
              0.0,
              "#0d0887"
             ],
             [
              0.1111111111111111,
              "#46039f"
             ],
             [
              0.2222222222222222,
              "#7201a8"
             ],
             [
              0.3333333333333333,
              "#9c179e"
             ],
             [
              0.4444444444444444,
              "#bd3786"
             ],
             [
              0.5555555555555556,
              "#d8576b"
             ],
             [
              0.6666666666666666,
              "#ed7953"
             ],
             [
              0.7777777777777778,
              "#fb9f3a"
             ],
             [
              0.8888888888888888,
              "#fdca26"
             ],
             [
              1.0,
              "#f0f921"
             ]
            ]
           }
          ],
          "choropleth": [
           {
            "type": "choropleth",
            "colorbar": {
             "outlinewidth": 0,
             "ticks": ""
            }
           }
          ],
          "histogram2d": [
           {
            "type": "histogram2d",
            "colorbar": {
             "outlinewidth": 0,
             "ticks": ""
            },
            "colorscale": [
             [
              0.0,
              "#0d0887"
             ],
             [
              0.1111111111111111,
              "#46039f"
             ],
             [
              0.2222222222222222,
              "#7201a8"
             ],
             [
              0.3333333333333333,
              "#9c179e"
             ],
             [
              0.4444444444444444,
              "#bd3786"
             ],
             [
              0.5555555555555556,
              "#d8576b"
             ],
             [
              0.6666666666666666,
              "#ed7953"
             ],
             [
              0.7777777777777778,
              "#fb9f3a"
             ],
             [
              0.8888888888888888,
              "#fdca26"
             ],
             [
              1.0,
              "#f0f921"
             ]
            ]
           }
          ],
          "heatmap": [
           {
            "type": "heatmap",
            "colorbar": {
             "outlinewidth": 0,
             "ticks": ""
            },
            "colorscale": [
             [
              0.0,
              "#0d0887"
             ],
             [
              0.1111111111111111,
              "#46039f"
             ],
             [
              0.2222222222222222,
              "#7201a8"
             ],
             [
              0.3333333333333333,
              "#9c179e"
             ],
             [
              0.4444444444444444,
              "#bd3786"
             ],
             [
              0.5555555555555556,
              "#d8576b"
             ],
             [
              0.6666666666666666,
              "#ed7953"
             ],
             [
              0.7777777777777778,
              "#fb9f3a"
             ],
             [
              0.8888888888888888,
              "#fdca26"
             ],
             [
              1.0,
              "#f0f921"
             ]
            ]
           }
          ],
          "heatmapgl": [
           {
            "type": "heatmapgl",
            "colorbar": {
             "outlinewidth": 0,
             "ticks": ""
            },
            "colorscale": [
             [
              0.0,
              "#0d0887"
             ],
             [
              0.1111111111111111,
              "#46039f"
             ],
             [
              0.2222222222222222,
              "#7201a8"
             ],
             [
              0.3333333333333333,
              "#9c179e"
             ],
             [
              0.4444444444444444,
              "#bd3786"
             ],
             [
              0.5555555555555556,
              "#d8576b"
             ],
             [
              0.6666666666666666,
              "#ed7953"
             ],
             [
              0.7777777777777778,
              "#fb9f3a"
             ],
             [
              0.8888888888888888,
              "#fdca26"
             ],
             [
              1.0,
              "#f0f921"
             ]
            ]
           }
          ],
          "contourcarpet": [
           {
            "type": "contourcarpet",
            "colorbar": {
             "outlinewidth": 0,
             "ticks": ""
            }
           }
          ],
          "contour": [
           {
            "type": "contour",
            "colorbar": {
             "outlinewidth": 0,
             "ticks": ""
            },
            "colorscale": [
             [
              0.0,
              "#0d0887"
             ],
             [
              0.1111111111111111,
              "#46039f"
             ],
             [
              0.2222222222222222,
              "#7201a8"
             ],
             [
              0.3333333333333333,
              "#9c179e"
             ],
             [
              0.4444444444444444,
              "#bd3786"
             ],
             [
              0.5555555555555556,
              "#d8576b"
             ],
             [
              0.6666666666666666,
              "#ed7953"
             ],
             [
              0.7777777777777778,
              "#fb9f3a"
             ],
             [
              0.8888888888888888,
              "#fdca26"
             ],
             [
              1.0,
              "#f0f921"
             ]
            ]
           }
          ],
          "surface": [
           {
            "type": "surface",
            "colorbar": {
             "outlinewidth": 0,
             "ticks": ""
            },
            "colorscale": [
             [
              0.0,
              "#0d0887"
             ],
             [
              0.1111111111111111,
              "#46039f"
             ],
             [
              0.2222222222222222,
              "#7201a8"
             ],
             [
              0.3333333333333333,
              "#9c179e"
             ],
             [
              0.4444444444444444,
              "#bd3786"
             ],
             [
              0.5555555555555556,
              "#d8576b"
             ],
             [
              0.6666666666666666,
              "#ed7953"
             ],
             [
              0.7777777777777778,
              "#fb9f3a"
             ],
             [
              0.8888888888888888,
              "#fdca26"
             ],
             [
              1.0,
              "#f0f921"
             ]
            ]
           }
          ],
          "mesh3d": [
           {
            "type": "mesh3d",
            "colorbar": {
             "outlinewidth": 0,
             "ticks": ""
            }
           }
          ],
          "scatter": [
           {
            "marker": {
             "line": {
              "color": "#283442"
             }
            },
            "type": "scatter"
           }
          ],
          "parcoords": [
           {
            "type": "parcoords",
            "line": {
             "colorbar": {
              "outlinewidth": 0,
              "ticks": ""
             }
            }
           }
          ],
          "scatterpolargl": [
           {
            "type": "scatterpolargl",
            "marker": {
             "colorbar": {
              "outlinewidth": 0,
              "ticks": ""
             }
            }
           }
          ],
          "bar": [
           {
            "error_x": {
             "color": "#f2f5fa"
            },
            "error_y": {
             "color": "#f2f5fa"
            },
            "marker": {
             "line": {
              "color": "rgb(17,17,17)",
              "width": 0.5
             },
             "pattern": {
              "fillmode": "overlay",
              "size": 10,
              "solidity": 0.2
             }
            },
            "type": "bar"
           }
          ],
          "scattergeo": [
           {
            "type": "scattergeo",
            "marker": {
             "colorbar": {
              "outlinewidth": 0,
              "ticks": ""
             }
            }
           }
          ],
          "scatterpolar": [
           {
            "type": "scatterpolar",
            "marker": {
             "colorbar": {
              "outlinewidth": 0,
              "ticks": ""
             }
            }
           }
          ],
          "histogram": [
           {
            "marker": {
             "pattern": {
              "fillmode": "overlay",
              "size": 10,
              "solidity": 0.2
             }
            },
            "type": "histogram"
           }
          ],
          "scattergl": [
           {
            "marker": {
             "line": {
              "color": "#283442"
             }
            },
            "type": "scattergl"
           }
          ],
          "scatter3d": [
           {
            "type": "scatter3d",
            "line": {
             "colorbar": {
              "outlinewidth": 0,
              "ticks": ""
             }
            },
            "marker": {
             "colorbar": {
              "outlinewidth": 0,
              "ticks": ""
             }
            }
           }
          ],
          "scattermapbox": [
           {
            "type": "scattermapbox",
            "marker": {
             "colorbar": {
              "outlinewidth": 0,
              "ticks": ""
             }
            }
           }
          ],
          "scatterternary": [
           {
            "type": "scatterternary",
            "marker": {
             "colorbar": {
              "outlinewidth": 0,
              "ticks": ""
             }
            }
           }
          ],
          "scattercarpet": [
           {
            "type": "scattercarpet",
            "marker": {
             "colorbar": {
              "outlinewidth": 0,
              "ticks": ""
             }
            }
           }
          ],
          "carpet": [
           {
            "aaxis": {
             "endlinecolor": "#A2B1C6",
             "gridcolor": "#506784",
             "linecolor": "#506784",
             "minorgridcolor": "#506784",
             "startlinecolor": "#A2B1C6"
            },
            "baxis": {
             "endlinecolor": "#A2B1C6",
             "gridcolor": "#506784",
             "linecolor": "#506784",
             "minorgridcolor": "#506784",
             "startlinecolor": "#A2B1C6"
            },
            "type": "carpet"
           }
          ],
          "table": [
           {
            "cells": {
             "fill": {
              "color": "#506784"
             },
             "line": {
              "color": "rgb(17,17,17)"
             }
            },
            "header": {
             "fill": {
              "color": "#2a3f5f"
             },
             "line": {
              "color": "rgb(17,17,17)"
             }
            },
            "type": "table"
           }
          ],
          "barpolar": [
           {
            "marker": {
             "line": {
              "color": "rgb(17,17,17)",
              "width": 0.5
             },
             "pattern": {
              "fillmode": "overlay",
              "size": 10,
              "solidity": 0.2
             }
            },
            "type": "barpolar"
           }
          ],
          "pie": [
           {
            "automargin": true,
            "type": "pie"
           }
          ]
         },
         "layout": {
          "autotypenumbers": "strict",
          "colorway": [
           "#636efa",
           "#EF553B",
           "#00cc96",
           "#ab63fa",
           "#FFA15A",
           "#19d3f3",
           "#FF6692",
           "#B6E880",
           "#FF97FF",
           "#FECB52"
          ],
          "font": {
           "color": "#f2f5fa"
          },
          "hovermode": "closest",
          "hoverlabel": {
           "align": "left"
          },
          "paper_bgcolor": "rgb(17,17,17)",
          "plot_bgcolor": "rgb(17,17,17)",
          "polar": {
           "bgcolor": "rgb(17,17,17)",
           "angularaxis": {
            "gridcolor": "#506784",
            "linecolor": "#506784",
            "ticks": ""
           },
           "radialaxis": {
            "gridcolor": "#506784",
            "linecolor": "#506784",
            "ticks": ""
           }
          },
          "ternary": {
           "bgcolor": "rgb(17,17,17)",
           "aaxis": {
            "gridcolor": "#506784",
            "linecolor": "#506784",
            "ticks": ""
           },
           "baxis": {
            "gridcolor": "#506784",
            "linecolor": "#506784",
            "ticks": ""
           },
           "caxis": {
            "gridcolor": "#506784",
            "linecolor": "#506784",
            "ticks": ""
           }
          },
          "coloraxis": {
           "colorbar": {
            "outlinewidth": 0,
            "ticks": ""
           }
          },
          "colorscale": {
           "sequential": [
            [
             0.0,
             "#0d0887"
            ],
            [
             0.1111111111111111,
             "#46039f"
            ],
            [
             0.2222222222222222,
             "#7201a8"
            ],
            [
             0.3333333333333333,
             "#9c179e"
            ],
            [
             0.4444444444444444,
             "#bd3786"
            ],
            [
             0.5555555555555556,
             "#d8576b"
            ],
            [
             0.6666666666666666,
             "#ed7953"
            ],
            [
             0.7777777777777778,
             "#fb9f3a"
            ],
            [
             0.8888888888888888,
             "#fdca26"
            ],
            [
             1.0,
             "#f0f921"
            ]
           ],
           "sequentialminus": [
            [
             0.0,
             "#0d0887"
            ],
            [
             0.1111111111111111,
             "#46039f"
            ],
            [
             0.2222222222222222,
             "#7201a8"
            ],
            [
             0.3333333333333333,
             "#9c179e"
            ],
            [
             0.4444444444444444,
             "#bd3786"
            ],
            [
             0.5555555555555556,
             "#d8576b"
            ],
            [
             0.6666666666666666,
             "#ed7953"
            ],
            [
             0.7777777777777778,
             "#fb9f3a"
            ],
            [
             0.8888888888888888,
             "#fdca26"
            ],
            [
             1.0,
             "#f0f921"
            ]
           ],
           "diverging": [
            [
             0,
             "#8e0152"
            ],
            [
             0.1,
             "#c51b7d"
            ],
            [
             0.2,
             "#de77ae"
            ],
            [
             0.3,
             "#f1b6da"
            ],
            [
             0.4,
             "#fde0ef"
            ],
            [
             0.5,
             "#f7f7f7"
            ],
            [
             0.6,
             "#e6f5d0"
            ],
            [
             0.7,
             "#b8e186"
            ],
            [
             0.8,
             "#7fbc41"
            ],
            [
             0.9,
             "#4d9221"
            ],
            [
             1,
             "#276419"
            ]
           ]
          },
          "xaxis": {
           "gridcolor": "#283442",
           "linecolor": "#506784",
           "ticks": "",
           "title": {
            "standoff": 15
           },
           "zerolinecolor": "#283442",
           "automargin": true,
           "zerolinewidth": 2
          },
          "yaxis": {
           "gridcolor": "#283442",
           "linecolor": "#506784",
           "ticks": "",
           "title": {
            "standoff": 15
           },
           "zerolinecolor": "#283442",
           "automargin": true,
           "zerolinewidth": 2
          },
          "scene": {
           "xaxis": {
            "backgroundcolor": "rgb(17,17,17)",
            "gridcolor": "#506784",
            "linecolor": "#506784",
            "showbackground": true,
            "ticks": "",
            "zerolinecolor": "#C8D4E3",
            "gridwidth": 2
           },
           "yaxis": {
            "backgroundcolor": "rgb(17,17,17)",
            "gridcolor": "#506784",
            "linecolor": "#506784",
            "showbackground": true,
            "ticks": "",
            "zerolinecolor": "#C8D4E3",
            "gridwidth": 2
           },
           "zaxis": {
            "backgroundcolor": "rgb(17,17,17)",
            "gridcolor": "#506784",
            "linecolor": "#506784",
            "showbackground": true,
            "ticks": "",
            "zerolinecolor": "#C8D4E3",
            "gridwidth": 2
           }
          },
          "shapedefaults": {
           "line": {
            "color": "#f2f5fa"
           }
          },
          "annotationdefaults": {
           "arrowcolor": "#f2f5fa",
           "arrowhead": 0,
           "arrowwidth": 1
          },
          "geo": {
           "bgcolor": "rgb(17,17,17)",
           "landcolor": "rgb(17,17,17)",
           "subunitcolor": "#506784",
           "showland": true,
           "showlakes": true,
           "lakecolor": "rgb(17,17,17)"
          },
          "title": {
           "x": 0.05
          },
          "updatemenudefaults": {
           "bgcolor": "#506784",
           "borderwidth": 0
          },
          "sliderdefaults": {
           "bgcolor": "#C8D4E3",
           "borderwidth": 1,
           "bordercolor": "rgb(17,17,17)",
           "tickwidth": 0
          },
          "mapbox": {
           "style": "dark"
          }
         }
        },
        "xaxis": {
         "anchor": "y",
         "domain": [
          0.0,
          1.0
         ],
         "title": {
          "text": "x"
         }
        },
        "yaxis": {
         "anchor": "x",
         "domain": [
          0.0,
          1.0
         ],
         "title": {
          "text": "y"
         }
        },
        "legend": {
         "title": {
          "text": "color"
         },
         "tracegroupgap": 0
        },
        "margin": {
         "t": 60
        },
        "title": {
         "text": "Clustering top skills for Developer_full-stack"
        },
        "height": 900,
        "width": 1500
       },
       "config": {
        "plotlyServerURL": "https://plot.ly"
       }
      },
      "text/html": "<div>                            <div id=\"bbcb19d4-c6ff-4a45-a4ef-77af304cf099\" class=\"plotly-graph-div\" style=\"height:900px; width:1500px;\"></div>            <script type=\"text/javascript\">                require([\"plotly\"], function(Plotly) {                    window.PLOTLYENV=window.PLOTLYENV || {};                                    if (document.getElementById(\"bbcb19d4-c6ff-4a45-a4ef-77af304cf099\")) {                    Plotly.newPlot(                        \"bbcb19d4-c6ff-4a45-a4ef-77af304cf099\",                        [{\"hovertemplate\":\"color=cluster_3<br>x=%{x}<br>y=%{y}<br>text=%{text}<extra></extra>\",\"legendgroup\":\"cluster_3\",\"marker\":{\"color\":\"#2E91E5\",\"symbol\":\"circle\"},\"mode\":\"markers+text\",\"name\":\"cluster_3\",\"orientation\":\"v\",\"showlegend\":true,\"text\":[\"JavaScript\",\"Visual Studio Code\",\"HTML/CSS\",\"npm\",\"SQL\",\"TypeScript\",\"React.js\",\"Node.js\",\"Yarn\",\"Express\",\"Next.js\"],\"x\":[26.303699493408203,25.802488327026367,26.287721633911133,20.34716033935547,28.230226516723633,20.054738998413086,17.327566146850586,17.154254913330078,13.906331062316895,14.819836616516113,13.052620887756348],\"xaxis\":\"x\",\"y\":[5.961908340454102,3.9355309009552,7.045655727386475,4.416494846343994,7.096155643463135,5.709411144256592,-0.09542471915483475,2.4266445636749268,-0.9728120565414429,2.441399097442627,0.7451165318489075],\"yaxis\":\"y\",\"type\":\"scatter\",\"textposition\":\"top center\"},{\"hovertemplate\":\"color=cluster_7<br>x=%{x}<br>y=%{y}<br>text=%{text}<extra></extra>\",\"legendgroup\":\"cluster_7\",\"marker\":{\"color\":\"#E15F99\",\"symbol\":\"circle\"},\"mode\":\"markers+text\",\"name\":\"cluster_7\",\"orientation\":\"v\",\"showlegend\":true,\"text\":[\"Docker\",\"AWS\",\"PostgreSQL\",\"Redis\",\"Kubernetes\",\"Elasticsearch\",\"Go\",\"Terraform\",\"Apache Kafka\",\"Kotlin\"],\"x\":[10.294361114501953,7.194559097290039,6.617130756378174,2.948441743850708,9.466036796569824,-2.095085859298706,1.9553922414779663,2.95780348777771,8.781949043273926,7.44394063949585],\"xaxis\":\"x\",\"y\":[-11.92154312133789,-16.0015869140625,-14.987919807434082,-12.946269035339355,-9.799041748046875,-8.071267127990723,-10.863001823425293,-5.594339370727539,-7.745603561401367,-5.396268844604492],\"yaxis\":\"y\",\"type\":\"scatter\",\"textposition\":\"top center\"},{\"hovertemplate\":\"color=cluster_2<br>x=%{x}<br>y=%{y}<br>text=%{text}<extra></extra>\",\"legendgroup\":\"cluster_2\",\"marker\":{\"color\":\"#1CA71C\",\"symbol\":\"circle\"},\"mode\":\"markers+text\",\"name\":\"cluster_2\",\"orientation\":\"v\",\"showlegend\":true,\"text\":[\"C#\",\"Visual Studio\",\"Microsoft SQL Server\",\".NET\",\"Microsoft Azure\",\"ASP.NET Core \"],\"x\":[9.475675582885742,10.793671607971191,7.633218288421631,9.73989200592041,6.650008678436279,8.440887451171875],\"xaxis\":\"x\",\"y\":[37.04753494262695,37.8596305847168,37.92939376831055,35.901676177978516,33.88698196411133,34.73549270629883],\"yaxis\":\"y\",\"type\":\"scatter\",\"textposition\":\"top center\"},{\"hovertemplate\":\"color=cluster_6<br>x=%{x}<br>y=%{y}<br>text=%{text}<extra></extra>\",\"legendgroup\":\"cluster_6\",\"marker\":{\"color\":\"#FB0D0D\",\"symbol\":\"circle\"},\"mode\":\"markers+text\",\"name\":\"cluster_6\",\"orientation\":\"v\",\"showlegend\":true,\"text\":[\"MySQL\",\"Vue.js\",\"PHP\",\"MariaDB\",\"Laravel\",\"PhpStorm\"],\"x\":[-19.8525447845459,-17.183269500732422,-19.479398727416992,-21.56233024597168,-18.95595359802246,-19.527503967285156],\"xaxis\":\"x\",\"y\":[-19.910011291503906,-13.355279922485352,-18.11395263671875,-15.135168075561523,-15.197586059570312,-16.003311157226562],\"yaxis\":\"y\",\"type\":\"scatter\",\"textposition\":\"top center\"},{\"hovertemplate\":\"color=cluster_5<br>x=%{x}<br>y=%{y}<br>text=%{text}<extra></extra>\",\"legendgroup\":\"cluster_5\",\"marker\":{\"color\":\"#DA16FF\",\"symbol\":\"circle\"},\"mode\":\"markers+text\",\"name\":\"cluster_5\",\"orientation\":\"v\",\"showlegend\":true,\"text\":[\"Python\",\"SQLite\",\"Vim\",\"C++\",\"PyCharm\",\"NumPy\",\"Pandas\",\"Django\",\"C\",\"Flask\"],\"x\":[-22.989845275878906,-11.810376167297363,-17.6335391998291,-15.213142395019531,-21.042186737060547,-25.86147117614746,-26.37755584716797,-17.772565841674805,-16.01628875732422,-18.82012939453125],\"xaxis\":\"x\",\"y\":[-0.49226877093315125,1.203405737876892,10.656204223632812,8.879061698913574,-0.11186880618333817,1.6497488021850586,2.349881649017334,0.2529514729976654,9.470952987670898,0.15334826707839966],\"yaxis\":\"y\",\"type\":\"scatter\",\"textposition\":\"top center\"},{\"hovertemplate\":\"color=cluster_8<br>x=%{x}<br>y=%{y}<br>text=%{text}<extra></extra>\",\"legendgroup\":\"cluster_8\",\"marker\":{\"color\":\"#222A2A\",\"symbol\":\"circle\"},\"mode\":\"markers+text\",\"name\":\"cluster_8\",\"orientation\":\"v\",\"showlegend\":true,\"text\":[\"Java\",\"IntelliJ\",\"Spring\"],\"x\":[8.947524070739746,9.071501731872559,8.835598945617676],\"xaxis\":\"x\",\"y\":[-33.174766540527344,-34.50217819213867,-31.972618103027344],\"yaxis\":\"y\",\"type\":\"scatter\",\"textposition\":\"top center\"},{\"hovertemplate\":\"color=cluster_4<br>x=%{x}<br>y=%{y}<br>text=%{text}<extra></extra>\",\"legendgroup\":\"cluster_4\",\"marker\":{\"color\":\"#B68100\",\"symbol\":\"circle\"},\"mode\":\"markers+text\",\"name\":\"cluster_4\",\"orientation\":\"v\",\"showlegend\":true,\"text\":[\"Notepad++\",\"Angular\",\"jQuery\",\"ASP.NET\",\"PowerShell\",\"Oracle\",\"Eclipse\",\"Angular.js\",\"Blazor\"],\"x\":[0.9979410171508789,8.542665481567383,6.626492023468018,0.5677596926689148,-0.9553519487380981,-9.813236236572266,-9.73668098449707,6.9618120193481445,0.001315851230174303],\"xaxis\":\"x\",\"y\":[17.129093170166016,7.573002338409424,10.677594184875488,15.361394882202148,11.298832893371582,17.8995304107666,16.892358779907227,8.410393714904785,13.293394088745117],\"yaxis\":\"y\",\"type\":\"scatter\",\"textposition\":\"top center\"},{\"hovertemplate\":\"color=cluster_0<br>x=%{x}<br>y=%{y}<br>text=%{text}<extra></extra>\",\"legendgroup\":\"cluster_0\",\"marker\":{\"color\":\"#750D86\",\"symbol\":\"circle\"},\"mode\":\"markers+text\",\"name\":\"cluster_0\",\"orientation\":\"v\",\"showlegend\":true,\"text\":[\"Bash/Shell\",\"MongoDB\",\"Google Cloud\",\"Sublime Text\",\"Android Studio\",\"DigitalOcean\",\"Rust\",\"Firebase\",\"DynamoDB\",\"Webstorm\",\"React Native\",\"Xcode\",\"Ansible\",\"Flutter\",\"Rider\",\"Svelte\",\"Nano\",\"Electron\"],\"x\":[-9.199406623840332,6.367966651916504,-5.184067726135254,-6.329521656036377,1.5148097276687622,-4.119403839111328,-7.581700801849365,-3.830408811569214,2.128535747528076,-3.125919818878174,4.292863845825195,1.1079800128936768,-2.8012032508850098,-0.6289837956428528,-0.12396309524774551,-2.3352105617523193,-0.7309508919715881,-1.1855957508087158],\"xaxis\":\"x\",\"y\":[-5.18871545791626,0.8690203428268433,6.196079730987549,0.721666693687439,2.6167714595794678,-2.2358624935150146,-4.099664211273193,4.976628303527832,-3.979585647583008,1.4350168704986572,0.5253345966339111,0.17523778975009918,-6.127178192138672,1.2528939247131348,5.460704326629639,-1.2413619756698608,-2.6828343868255615,-0.25700005888938904],\"yaxis\":\"y\",\"type\":\"scatter\",\"textposition\":\"top center\"},{\"hovertemplate\":\"color=cluster_1<br>x=%{x}<br>y=%{y}<br>text=%{text}<extra></extra>\",\"legendgroup\":\"cluster_1\",\"marker\":{\"color\":\"#EB663B\",\"symbol\":\"circle\"},\"mode\":\"markers+text\",\"name\":\"cluster_1\",\"orientation\":\"v\",\"showlegend\":true,\"text\":[\"Homebrew\",\"Heroku\",\"Ruby\",\"Ruby on Rails\"],\"x\":[-5.768275737762451,-3.5872135162353516,-5.628504753112793,-5.007291316986084],\"xaxis\":\"x\",\"y\":[-13.12870979309082,-19.25467872619629,-16.867172241210938,-17.567590713500977],\"yaxis\":\"y\",\"type\":\"scatter\",\"textposition\":\"top center\"}],                        {\"template\":{\"data\":{\"histogram2dcontour\":[{\"type\":\"histogram2dcontour\",\"colorbar\":{\"outlinewidth\":0,\"ticks\":\"\"},\"colorscale\":[[0.0,\"#0d0887\"],[0.1111111111111111,\"#46039f\"],[0.2222222222222222,\"#7201a8\"],[0.3333333333333333,\"#9c179e\"],[0.4444444444444444,\"#bd3786\"],[0.5555555555555556,\"#d8576b\"],[0.6666666666666666,\"#ed7953\"],[0.7777777777777778,\"#fb9f3a\"],[0.8888888888888888,\"#fdca26\"],[1.0,\"#f0f921\"]]}],\"choropleth\":[{\"type\":\"choropleth\",\"colorbar\":{\"outlinewidth\":0,\"ticks\":\"\"}}],\"histogram2d\":[{\"type\":\"histogram2d\",\"colorbar\":{\"outlinewidth\":0,\"ticks\":\"\"},\"colorscale\":[[0.0,\"#0d0887\"],[0.1111111111111111,\"#46039f\"],[0.2222222222222222,\"#7201a8\"],[0.3333333333333333,\"#9c179e\"],[0.4444444444444444,\"#bd3786\"],[0.5555555555555556,\"#d8576b\"],[0.6666666666666666,\"#ed7953\"],[0.7777777777777778,\"#fb9f3a\"],[0.8888888888888888,\"#fdca26\"],[1.0,\"#f0f921\"]]}],\"heatmap\":[{\"type\":\"heatmap\",\"colorbar\":{\"outlinewidth\":0,\"ticks\":\"\"},\"colorscale\":[[0.0,\"#0d0887\"],[0.1111111111111111,\"#46039f\"],[0.2222222222222222,\"#7201a8\"],[0.3333333333333333,\"#9c179e\"],[0.4444444444444444,\"#bd3786\"],[0.5555555555555556,\"#d8576b\"],[0.6666666666666666,\"#ed7953\"],[0.7777777777777778,\"#fb9f3a\"],[0.8888888888888888,\"#fdca26\"],[1.0,\"#f0f921\"]]}],\"heatmapgl\":[{\"type\":\"heatmapgl\",\"colorbar\":{\"outlinewidth\":0,\"ticks\":\"\"},\"colorscale\":[[0.0,\"#0d0887\"],[0.1111111111111111,\"#46039f\"],[0.2222222222222222,\"#7201a8\"],[0.3333333333333333,\"#9c179e\"],[0.4444444444444444,\"#bd3786\"],[0.5555555555555556,\"#d8576b\"],[0.6666666666666666,\"#ed7953\"],[0.7777777777777778,\"#fb9f3a\"],[0.8888888888888888,\"#fdca26\"],[1.0,\"#f0f921\"]]}],\"contourcarpet\":[{\"type\":\"contourcarpet\",\"colorbar\":{\"outlinewidth\":0,\"ticks\":\"\"}}],\"contour\":[{\"type\":\"contour\",\"colorbar\":{\"outlinewidth\":0,\"ticks\":\"\"},\"colorscale\":[[0.0,\"#0d0887\"],[0.1111111111111111,\"#46039f\"],[0.2222222222222222,\"#7201a8\"],[0.3333333333333333,\"#9c179e\"],[0.4444444444444444,\"#bd3786\"],[0.5555555555555556,\"#d8576b\"],[0.6666666666666666,\"#ed7953\"],[0.7777777777777778,\"#fb9f3a\"],[0.8888888888888888,\"#fdca26\"],[1.0,\"#f0f921\"]]}],\"surface\":[{\"type\":\"surface\",\"colorbar\":{\"outlinewidth\":0,\"ticks\":\"\"},\"colorscale\":[[0.0,\"#0d0887\"],[0.1111111111111111,\"#46039f\"],[0.2222222222222222,\"#7201a8\"],[0.3333333333333333,\"#9c179e\"],[0.4444444444444444,\"#bd3786\"],[0.5555555555555556,\"#d8576b\"],[0.6666666666666666,\"#ed7953\"],[0.7777777777777778,\"#fb9f3a\"],[0.8888888888888888,\"#fdca26\"],[1.0,\"#f0f921\"]]}],\"mesh3d\":[{\"type\":\"mesh3d\",\"colorbar\":{\"outlinewidth\":0,\"ticks\":\"\"}}],\"scatter\":[{\"marker\":{\"line\":{\"color\":\"#283442\"}},\"type\":\"scatter\"}],\"parcoords\":[{\"type\":\"parcoords\",\"line\":{\"colorbar\":{\"outlinewidth\":0,\"ticks\":\"\"}}}],\"scatterpolargl\":[{\"type\":\"scatterpolargl\",\"marker\":{\"colorbar\":{\"outlinewidth\":0,\"ticks\":\"\"}}}],\"bar\":[{\"error_x\":{\"color\":\"#f2f5fa\"},\"error_y\":{\"color\":\"#f2f5fa\"},\"marker\":{\"line\":{\"color\":\"rgb(17,17,17)\",\"width\":0.5},\"pattern\":{\"fillmode\":\"overlay\",\"size\":10,\"solidity\":0.2}},\"type\":\"bar\"}],\"scattergeo\":[{\"type\":\"scattergeo\",\"marker\":{\"colorbar\":{\"outlinewidth\":0,\"ticks\":\"\"}}}],\"scatterpolar\":[{\"type\":\"scatterpolar\",\"marker\":{\"colorbar\":{\"outlinewidth\":0,\"ticks\":\"\"}}}],\"histogram\":[{\"marker\":{\"pattern\":{\"fillmode\":\"overlay\",\"size\":10,\"solidity\":0.2}},\"type\":\"histogram\"}],\"scattergl\":[{\"marker\":{\"line\":{\"color\":\"#283442\"}},\"type\":\"scattergl\"}],\"scatter3d\":[{\"type\":\"scatter3d\",\"line\":{\"colorbar\":{\"outlinewidth\":0,\"ticks\":\"\"}},\"marker\":{\"colorbar\":{\"outlinewidth\":0,\"ticks\":\"\"}}}],\"scattermapbox\":[{\"type\":\"scattermapbox\",\"marker\":{\"colorbar\":{\"outlinewidth\":0,\"ticks\":\"\"}}}],\"scatterternary\":[{\"type\":\"scatterternary\",\"marker\":{\"colorbar\":{\"outlinewidth\":0,\"ticks\":\"\"}}}],\"scattercarpet\":[{\"type\":\"scattercarpet\",\"marker\":{\"colorbar\":{\"outlinewidth\":0,\"ticks\":\"\"}}}],\"carpet\":[{\"aaxis\":{\"endlinecolor\":\"#A2B1C6\",\"gridcolor\":\"#506784\",\"linecolor\":\"#506784\",\"minorgridcolor\":\"#506784\",\"startlinecolor\":\"#A2B1C6\"},\"baxis\":{\"endlinecolor\":\"#A2B1C6\",\"gridcolor\":\"#506784\",\"linecolor\":\"#506784\",\"minorgridcolor\":\"#506784\",\"startlinecolor\":\"#A2B1C6\"},\"type\":\"carpet\"}],\"table\":[{\"cells\":{\"fill\":{\"color\":\"#506784\"},\"line\":{\"color\":\"rgb(17,17,17)\"}},\"header\":{\"fill\":{\"color\":\"#2a3f5f\"},\"line\":{\"color\":\"rgb(17,17,17)\"}},\"type\":\"table\"}],\"barpolar\":[{\"marker\":{\"line\":{\"color\":\"rgb(17,17,17)\",\"width\":0.5},\"pattern\":{\"fillmode\":\"overlay\",\"size\":10,\"solidity\":0.2}},\"type\":\"barpolar\"}],\"pie\":[{\"automargin\":true,\"type\":\"pie\"}]},\"layout\":{\"autotypenumbers\":\"strict\",\"colorway\":[\"#636efa\",\"#EF553B\",\"#00cc96\",\"#ab63fa\",\"#FFA15A\",\"#19d3f3\",\"#FF6692\",\"#B6E880\",\"#FF97FF\",\"#FECB52\"],\"font\":{\"color\":\"#f2f5fa\"},\"hovermode\":\"closest\",\"hoverlabel\":{\"align\":\"left\"},\"paper_bgcolor\":\"rgb(17,17,17)\",\"plot_bgcolor\":\"rgb(17,17,17)\",\"polar\":{\"bgcolor\":\"rgb(17,17,17)\",\"angularaxis\":{\"gridcolor\":\"#506784\",\"linecolor\":\"#506784\",\"ticks\":\"\"},\"radialaxis\":{\"gridcolor\":\"#506784\",\"linecolor\":\"#506784\",\"ticks\":\"\"}},\"ternary\":{\"bgcolor\":\"rgb(17,17,17)\",\"aaxis\":{\"gridcolor\":\"#506784\",\"linecolor\":\"#506784\",\"ticks\":\"\"},\"baxis\":{\"gridcolor\":\"#506784\",\"linecolor\":\"#506784\",\"ticks\":\"\"},\"caxis\":{\"gridcolor\":\"#506784\",\"linecolor\":\"#506784\",\"ticks\":\"\"}},\"coloraxis\":{\"colorbar\":{\"outlinewidth\":0,\"ticks\":\"\"}},\"colorscale\":{\"sequential\":[[0.0,\"#0d0887\"],[0.1111111111111111,\"#46039f\"],[0.2222222222222222,\"#7201a8\"],[0.3333333333333333,\"#9c179e\"],[0.4444444444444444,\"#bd3786\"],[0.5555555555555556,\"#d8576b\"],[0.6666666666666666,\"#ed7953\"],[0.7777777777777778,\"#fb9f3a\"],[0.8888888888888888,\"#fdca26\"],[1.0,\"#f0f921\"]],\"sequentialminus\":[[0.0,\"#0d0887\"],[0.1111111111111111,\"#46039f\"],[0.2222222222222222,\"#7201a8\"],[0.3333333333333333,\"#9c179e\"],[0.4444444444444444,\"#bd3786\"],[0.5555555555555556,\"#d8576b\"],[0.6666666666666666,\"#ed7953\"],[0.7777777777777778,\"#fb9f3a\"],[0.8888888888888888,\"#fdca26\"],[1.0,\"#f0f921\"]],\"diverging\":[[0,\"#8e0152\"],[0.1,\"#c51b7d\"],[0.2,\"#de77ae\"],[0.3,\"#f1b6da\"],[0.4,\"#fde0ef\"],[0.5,\"#f7f7f7\"],[0.6,\"#e6f5d0\"],[0.7,\"#b8e186\"],[0.8,\"#7fbc41\"],[0.9,\"#4d9221\"],[1,\"#276419\"]]},\"xaxis\":{\"gridcolor\":\"#283442\",\"linecolor\":\"#506784\",\"ticks\":\"\",\"title\":{\"standoff\":15},\"zerolinecolor\":\"#283442\",\"automargin\":true,\"zerolinewidth\":2},\"yaxis\":{\"gridcolor\":\"#283442\",\"linecolor\":\"#506784\",\"ticks\":\"\",\"title\":{\"standoff\":15},\"zerolinecolor\":\"#283442\",\"automargin\":true,\"zerolinewidth\":2},\"scene\":{\"xaxis\":{\"backgroundcolor\":\"rgb(17,17,17)\",\"gridcolor\":\"#506784\",\"linecolor\":\"#506784\",\"showbackground\":true,\"ticks\":\"\",\"zerolinecolor\":\"#C8D4E3\",\"gridwidth\":2},\"yaxis\":{\"backgroundcolor\":\"rgb(17,17,17)\",\"gridcolor\":\"#506784\",\"linecolor\":\"#506784\",\"showbackground\":true,\"ticks\":\"\",\"zerolinecolor\":\"#C8D4E3\",\"gridwidth\":2},\"zaxis\":{\"backgroundcolor\":\"rgb(17,17,17)\",\"gridcolor\":\"#506784\",\"linecolor\":\"#506784\",\"showbackground\":true,\"ticks\":\"\",\"zerolinecolor\":\"#C8D4E3\",\"gridwidth\":2}},\"shapedefaults\":{\"line\":{\"color\":\"#f2f5fa\"}},\"annotationdefaults\":{\"arrowcolor\":\"#f2f5fa\",\"arrowhead\":0,\"arrowwidth\":1},\"geo\":{\"bgcolor\":\"rgb(17,17,17)\",\"landcolor\":\"rgb(17,17,17)\",\"subunitcolor\":\"#506784\",\"showland\":true,\"showlakes\":true,\"lakecolor\":\"rgb(17,17,17)\"},\"title\":{\"x\":0.05},\"updatemenudefaults\":{\"bgcolor\":\"#506784\",\"borderwidth\":0},\"sliderdefaults\":{\"bgcolor\":\"#C8D4E3\",\"borderwidth\":1,\"bordercolor\":\"rgb(17,17,17)\",\"tickwidth\":0},\"mapbox\":{\"style\":\"dark\"}}},\"xaxis\":{\"anchor\":\"y\",\"domain\":[0.0,1.0],\"title\":{\"text\":\"x\"}},\"yaxis\":{\"anchor\":\"x\",\"domain\":[0.0,1.0],\"title\":{\"text\":\"y\"}},\"legend\":{\"title\":{\"text\":\"color\"},\"tracegroupgap\":0},\"margin\":{\"t\":60},\"title\":{\"text\":\"Clustering top skills for Developer_full-stack\"},\"height\":900,\"width\":1500},                        {\"responsive\": true}                    ).then(function(){\n                            \nvar gd = document.getElementById('bbcb19d4-c6ff-4a45-a4ef-77af304cf099');\nvar x = new MutationObserver(function (mutations, observer) {{\n        var display = window.getComputedStyle(gd).display;\n        if (!display || display === 'none') {{\n            console.log([gd, 'removed!']);\n            Plotly.purge(gd);\n            observer.disconnect();\n        }}\n}});\n\n// Listen for the removal of the full notebook cells\nvar notebookContainer = gd.closest('#notebook-container');\nif (notebookContainer) {{\n    x.observe(notebookContainer, {childList: true});\n}}\n\n// Listen for the clearing of the current output cell\nvar outputEl = gd.closest('.output');\nif (outputEl) {{\n    x.observe(outputEl, {childList: true});\n}}\n\n                        })                };                });            </script>        </div>"
     },
     "metadata": {},
     "output_type": "display_data"
    }
   ],
   "source": [
    "full_stack_skills = choose_most_related_skills(roles_type = [split_roles[0]])\n",
    "full_stack_tsne = reduce_dimensions(full_stack_skills)\n",
    "best_k, best_labels_full_stack = evaluate_cluster_model(full_stack_tsne, range_clusters=range(2,10), plot = True)\n",
    "visualize_chosen_cluster_model(split_roles[0], full_stack_tsne, best_labels_full_stack)"
   ],
   "metadata": {
    "collapsed": false
   }
  },
  {
   "cell_type": "code",
   "execution_count": 790,
   "outputs": [
    {
     "name": "stdout",
     "output_type": "stream",
     "text": [
      "cluster_0 ['Bash/Shell', 'MongoDB', 'Google Cloud', 'Sublime Text', 'Android Studio', 'DigitalOcean', 'Rust', 'Firebase', 'DynamoDB', 'Webstorm', 'React Native', 'Xcode', 'Ansible', 'Flutter', 'Rider', 'Svelte', 'Nano', 'Electron']\n",
      "cluster_1 ['Homebrew', 'Heroku', 'Ruby', 'Ruby on Rails']\n",
      "cluster_2 ['C#', 'Visual Studio', 'Microsoft SQL Server', '.NET', 'Microsoft Azure', 'ASP.NET Core ']\n",
      "cluster_3 ['JavaScript', 'Visual Studio Code', 'HTML/CSS', 'npm', 'SQL', 'TypeScript', 'React.js', 'Node.js', 'Yarn', 'Express', 'Next.js']\n",
      "cluster_4 ['Notepad++', 'Angular', 'jQuery', 'ASP.NET', 'PowerShell', 'Oracle', 'Eclipse', 'Angular.js', 'Blazor']\n",
      "cluster_5 ['Python', 'SQLite', 'Vim', 'C++', 'PyCharm', 'NumPy', 'Pandas', 'Django', 'C', 'Flask']\n",
      "cluster_6 ['MySQL', 'Vue.js', 'PHP', 'MariaDB', 'Laravel', 'PhpStorm']\n",
      "cluster_7 ['Docker', 'AWS', 'PostgreSQL', 'Redis', 'Kubernetes', 'Elasticsearch', 'Go', 'Terraform', 'Apache Kafka', 'Kotlin']\n",
      "cluster_8 ['Java', 'IntelliJ', 'Spring']\n"
     ]
    }
   ],
   "source": [
    "for label in sorted(set(best_labels_full_stack)):\n",
    "    print(label, list(full_stack_tsne[best_labels_full_stack==label].index))\n"
   ],
   "metadata": {
    "collapsed": false
   }
  },
  {
   "cell_type": "code",
   "execution_count": 791,
   "outputs": [
    {
     "data": {
      "text/plain": "[['Homebrew', 'Heroku', 'Ruby', 'Ruby on Rails'],\n ['C#',\n  'Visual Studio',\n  'Microsoft SQL Server',\n  '.NET',\n  'Microsoft Azure',\n  'ASP.NET Core '],\n ['React.js', 'Node.js', 'Yarn', 'Express', 'Next.js'],\n ['Python', 'SQLite', 'PyCharm', 'NumPy', 'Pandas', 'Django', 'Flask'],\n ['MySQL', 'Vue.js', 'PHP', 'MariaDB', 'Laravel', 'PhpStorm'],\n ['Java', 'IntelliJ', 'Spring']]"
     },
     "execution_count": 791,
     "metadata": {},
     "output_type": "execute_result"
    }
   ],
   "source": [
    "# filtering skills results\n",
    "full_stack_roles_skills = []\n",
    "for label in sorted(set(best_labels_full_stack)):\n",
    "    # these clusters numbers are not specific for any full_stack developer, but it's general skills\n",
    "    if label in  [f'cluster_{i}' for i in [0, 4, 7]]:\n",
    "        continue\n",
    "\n",
    "    cluster_labels = list(full_stack_tsne[best_labels_full_stack==label].index)\n",
    "    if label == 'cluster_3':\n",
    "        # full stack developers--all types-- must have these skills\n",
    "        [cluster_labels.remove(item) for item in  ['JavaScript', 'Visual Studio Code', 'HTML/CSS', 'npm', 'SQL', 'TypeScript']]\n",
    "\n",
    "    elif label== 'cluster_5':\n",
    "        # these skills ['C', 'C++', 'Vim'] Somewhat far from other skills\n",
    "        [cluster_labels.remove(item) for item in  ['C', 'C++', 'Vim']]\n",
    "\n",
    "    full_stack_roles_skills.append(cluster_labels )\n",
    "full_stack_roles_skills"
   ],
   "metadata": {
    "collapsed": false
   }
  },
  {
   "cell_type": "code",
   "execution_count": 792,
   "outputs": [],
   "source": [
    "full_stack_types = [ 'full_stack_Ruby-on-Rails', 'full_stack_.NET', 'full_stack_.JavaScript', 'full_stack_python',  'full_stack_PHP', 'full_stack_Java']"
   ],
   "metadata": {
    "collapsed": false
   }
  },
  {
   "cell_type": "code",
   "execution_count": 793,
   "outputs": [
    {
     "name": "stdout",
     "output_type": "stream",
     "text": [
      "20928\n",
      "cluster_0:  6003\n",
      "cluster_1:  6341\n",
      "cluster_2:  9696\n",
      "cluster_3:  5567\n",
      "cluster_4:  7950\n",
      "cluster_5:  5481\n"
     ]
    }
   ],
   "source": [
    "is_full_stack = skills_dev_df['DevType']['Developer_full-stack'] == 1\n",
    "print(is_full_stack.sum())\n",
    "full_stack_roles = {}\n",
    "for i, cluster_labels in enumerate(full_stack_roles_skills):\n",
    "\n",
    "    total_skills = skills_dev_df.droplevel(level=0, axis = 1)[cluster_labels].sum(axis=1)\n",
    "\n",
    "    # assign true for this specific type if this developer has summation skills more than the mean\n",
    "    is_full_stack_specific_type = total_skills > total_skills.mean()\n",
    "    print(f'cluster_{i}: ', (is_full_stack & is_full_stack_specific_type).sum())\n",
    "    full_stack_roles[full_stack_types[i]] = is_full_stack & is_full_stack_specific_type"
   ],
   "metadata": {
    "collapsed": false
   }
  },
  {
   "cell_type": "markdown",
   "source": [
    "## Good results"
   ],
   "metadata": {
    "collapsed": false
   }
  },
  {
   "cell_type": "code",
   "execution_count": 794,
   "outputs": [
    {
     "data": {
      "text/plain": "       full_stack_Ruby-on-Rails  full_stack_.NET  full_stack_.JavaScript  \\\n2                         False            False                   False   \n3                         False             True                   False   \n7                         False            False                   False   \n9                         False            False                   False   \n10                        False             True                   False   \n...                         ...              ...                     ...   \n73262                     False            False                   False   \n73263                     False            False                   False   \n73264                     False            False                   False   \n73265                     False             True                    True   \n73266                     False            False                   False   \n\n       full_stack_python  full_stack_PHP  full_stack_Java  \\\n2                  False           False            False   \n3                  False           False            False   \n7                  False           False            False   \n9                  False           False            False   \n10                 False           False            False   \n...                  ...             ...              ...   \n73262              False           False            False   \n73263              False           False            False   \n73264              False           False            False   \n73265               True            True            False   \n73266              False           False            False   \n\n       Developer_full-stack  \n2                     False  \n3                      True  \n7                      True  \n9                     False  \n10                     True  \n...                     ...  \n73262                 False  \n73263                 False  \n73264                 False  \n73265                  True  \n73266                 False  \n\n[50423 rows x 7 columns]",
      "text/html": "<div>\n<style scoped>\n    .dataframe tbody tr th:only-of-type {\n        vertical-align: middle;\n    }\n\n    .dataframe tbody tr th {\n        vertical-align: top;\n    }\n\n    .dataframe thead th {\n        text-align: right;\n    }\n</style>\n<table border=\"1\" class=\"dataframe\">\n  <thead>\n    <tr style=\"text-align: right;\">\n      <th></th>\n      <th>full_stack_Ruby-on-Rails</th>\n      <th>full_stack_.NET</th>\n      <th>full_stack_.JavaScript</th>\n      <th>full_stack_python</th>\n      <th>full_stack_PHP</th>\n      <th>full_stack_Java</th>\n      <th>Developer_full-stack</th>\n    </tr>\n  </thead>\n  <tbody>\n    <tr>\n      <th>2</th>\n      <td>False</td>\n      <td>False</td>\n      <td>False</td>\n      <td>False</td>\n      <td>False</td>\n      <td>False</td>\n      <td>False</td>\n    </tr>\n    <tr>\n      <th>3</th>\n      <td>False</td>\n      <td>True</td>\n      <td>False</td>\n      <td>False</td>\n      <td>False</td>\n      <td>False</td>\n      <td>True</td>\n    </tr>\n    <tr>\n      <th>7</th>\n      <td>False</td>\n      <td>False</td>\n      <td>False</td>\n      <td>False</td>\n      <td>False</td>\n      <td>False</td>\n      <td>True</td>\n    </tr>\n    <tr>\n      <th>9</th>\n      <td>False</td>\n      <td>False</td>\n      <td>False</td>\n      <td>False</td>\n      <td>False</td>\n      <td>False</td>\n      <td>False</td>\n    </tr>\n    <tr>\n      <th>10</th>\n      <td>False</td>\n      <td>True</td>\n      <td>False</td>\n      <td>False</td>\n      <td>False</td>\n      <td>False</td>\n      <td>True</td>\n    </tr>\n    <tr>\n      <th>...</th>\n      <td>...</td>\n      <td>...</td>\n      <td>...</td>\n      <td>...</td>\n      <td>...</td>\n      <td>...</td>\n      <td>...</td>\n    </tr>\n    <tr>\n      <th>73262</th>\n      <td>False</td>\n      <td>False</td>\n      <td>False</td>\n      <td>False</td>\n      <td>False</td>\n      <td>False</td>\n      <td>False</td>\n    </tr>\n    <tr>\n      <th>73263</th>\n      <td>False</td>\n      <td>False</td>\n      <td>False</td>\n      <td>False</td>\n      <td>False</td>\n      <td>False</td>\n      <td>False</td>\n    </tr>\n    <tr>\n      <th>73264</th>\n      <td>False</td>\n      <td>False</td>\n      <td>False</td>\n      <td>False</td>\n      <td>False</td>\n      <td>False</td>\n      <td>False</td>\n    </tr>\n    <tr>\n      <th>73265</th>\n      <td>False</td>\n      <td>True</td>\n      <td>True</td>\n      <td>True</td>\n      <td>True</td>\n      <td>False</td>\n      <td>True</td>\n    </tr>\n    <tr>\n      <th>73266</th>\n      <td>False</td>\n      <td>False</td>\n      <td>False</td>\n      <td>False</td>\n      <td>False</td>\n      <td>False</td>\n      <td>False</td>\n    </tr>\n  </tbody>\n</table>\n<p>50423 rows × 7 columns</p>\n</div>"
     },
     "execution_count": 794,
     "metadata": {},
     "output_type": "execute_result"
    }
   ],
   "source": [
    "full_stack_roles_df = pd.concat(full_stack_roles, axis = 1)\n",
    "full_stack_roles_df = pd.concat([full_stack_roles_df,is_full_stack], axis = 1)\n",
    "full_stack_roles_df\n"
   ],
   "metadata": {
    "collapsed": false
   }
  },
  {
   "cell_type": "code",
   "execution_count": 795,
   "outputs": [
    {
     "data": {
      "text/plain": "4142"
     },
     "execution_count": 795,
     "metadata": {},
     "output_type": "execute_result"
    }
   ],
   "source": [
    "# count number of roles that is full stack, but not have any specific type\n",
    "(full_stack_roles_df.iloc[full_stack_roles_df['Developer_full-stack'].values,:-1].sum(axis=1) == 0).sum()"
   ],
   "metadata": {
    "collapsed": false
   }
  },
  {
   "cell_type": "code",
   "execution_count": 796,
   "outputs": [
    {
     "data": {
      "text/plain": "                       DevType                                         \\\n      full_stack_Ruby-on-Rails full_stack_.NET full_stack_.JavaScript   \n2                            0               0                      0   \n3                            0               1                      0   \n7                            0               0                      0   \n9                            0               0                      0   \n10                           0               1                      0   \n...                        ...             ...                    ...   \n73262                        0               0                      0   \n73263                        0               0                      0   \n73264                        0               0                      0   \n73265                        0               1                      1   \n73266                        0               0                      0   \n\n                                                                           \n      full_stack_python full_stack_PHP full_stack_Java full-stack_general  \n2                     0              0               0                  0  \n3                     0              0               0                  1  \n7                     0              0               0                  1  \n9                     0              0               0                  0  \n10                    0              0               0                  1  \n...                 ...            ...             ...                ...  \n73262                 0              0               0                  0  \n73263                 0              0               0                  0  \n73264                 0              0               0                  0  \n73265                 1              1               0                  1  \n73266                 0              0               0                  0  \n\n[50423 rows x 7 columns]",
      "text/html": "<div>\n<style scoped>\n    .dataframe tbody tr th:only-of-type {\n        vertical-align: middle;\n    }\n\n    .dataframe tbody tr th {\n        vertical-align: top;\n    }\n\n    .dataframe thead tr th {\n        text-align: left;\n    }\n</style>\n<table border=\"1\" class=\"dataframe\">\n  <thead>\n    <tr>\n      <th></th>\n      <th colspan=\"7\" halign=\"left\">DevType</th>\n    </tr>\n    <tr>\n      <th></th>\n      <th>full_stack_Ruby-on-Rails</th>\n      <th>full_stack_.NET</th>\n      <th>full_stack_.JavaScript</th>\n      <th>full_stack_python</th>\n      <th>full_stack_PHP</th>\n      <th>full_stack_Java</th>\n      <th>full-stack_general</th>\n    </tr>\n  </thead>\n  <tbody>\n    <tr>\n      <th>2</th>\n      <td>0</td>\n      <td>0</td>\n      <td>0</td>\n      <td>0</td>\n      <td>0</td>\n      <td>0</td>\n      <td>0</td>\n    </tr>\n    <tr>\n      <th>3</th>\n      <td>0</td>\n      <td>1</td>\n      <td>0</td>\n      <td>0</td>\n      <td>0</td>\n      <td>0</td>\n      <td>1</td>\n    </tr>\n    <tr>\n      <th>7</th>\n      <td>0</td>\n      <td>0</td>\n      <td>0</td>\n      <td>0</td>\n      <td>0</td>\n      <td>0</td>\n      <td>1</td>\n    </tr>\n    <tr>\n      <th>9</th>\n      <td>0</td>\n      <td>0</td>\n      <td>0</td>\n      <td>0</td>\n      <td>0</td>\n      <td>0</td>\n      <td>0</td>\n    </tr>\n    <tr>\n      <th>10</th>\n      <td>0</td>\n      <td>1</td>\n      <td>0</td>\n      <td>0</td>\n      <td>0</td>\n      <td>0</td>\n      <td>1</td>\n    </tr>\n    <tr>\n      <th>...</th>\n      <td>...</td>\n      <td>...</td>\n      <td>...</td>\n      <td>...</td>\n      <td>...</td>\n      <td>...</td>\n      <td>...</td>\n    </tr>\n    <tr>\n      <th>73262</th>\n      <td>0</td>\n      <td>0</td>\n      <td>0</td>\n      <td>0</td>\n      <td>0</td>\n      <td>0</td>\n      <td>0</td>\n    </tr>\n    <tr>\n      <th>73263</th>\n      <td>0</td>\n      <td>0</td>\n      <td>0</td>\n      <td>0</td>\n      <td>0</td>\n      <td>0</td>\n      <td>0</td>\n    </tr>\n    <tr>\n      <th>73264</th>\n      <td>0</td>\n      <td>0</td>\n      <td>0</td>\n      <td>0</td>\n      <td>0</td>\n      <td>0</td>\n      <td>0</td>\n    </tr>\n    <tr>\n      <th>73265</th>\n      <td>0</td>\n      <td>1</td>\n      <td>1</td>\n      <td>1</td>\n      <td>1</td>\n      <td>0</td>\n      <td>1</td>\n    </tr>\n    <tr>\n      <th>73266</th>\n      <td>0</td>\n      <td>0</td>\n      <td>0</td>\n      <td>0</td>\n      <td>0</td>\n      <td>0</td>\n      <td>0</td>\n    </tr>\n  </tbody>\n</table>\n<p>50423 rows × 7 columns</p>\n</div>"
     },
     "execution_count": 796,
     "metadata": {},
     "output_type": "execute_result"
    }
   ],
   "source": [
    "full_stack_roles_df = full_stack_roles_df.rename(columns = {'Developer_full-stack': 'full-stack_general'})\n",
    "full_stack_roles_df.columns = pd.MultiIndex.from_product([['DevType'], full_stack_roles_df.columns])\n",
    "full_stack_roles_df = full_stack_roles_df.astype(int)\n",
    "full_stack_roles_df"
   ],
   "metadata": {
    "collapsed": false
   }
  },
  {
   "cell_type": "markdown",
   "source": [
    "--------------------------"
   ],
   "metadata": {
    "collapsed": false
   }
  },
  {
   "cell_type": "markdown",
   "source": [],
   "metadata": {
    "collapsed": false
   }
  },
  {
   "cell_type": "markdown",
   "source": [
    "## B) Developer_back-end\n",
    "Repeat the same steps"
   ],
   "metadata": {
    "collapsed": false
   }
  },
  {
   "cell_type": "code",
   "execution_count": 720,
   "outputs": [
    {
     "data": {
      "application/vnd.plotly.v1+json": {
       "data": [
        {
         "hovertemplate": "x=%{x}<br>y=%{y}<extra></extra>",
         "legendgroup": "",
         "line": {
          "color": "#636efa",
          "dash": "solid"
         },
         "marker": {
          "symbol": "circle"
         },
         "mode": "lines",
         "name": "",
         "orientation": "v",
         "showlegend": false,
         "x": [
          2,
          3,
          4,
          5,
          6,
          7,
          8,
          9
         ],
         "xaxis": "x",
         "y": [
          0.3402055501937866,
          0.3201751410961151,
          0.4210643768310547,
          0.43113842606544495,
          0.45949041843414307,
          0.48903289437294006,
          0.46752798557281494,
          0.5283814668655396
         ],
         "yaxis": "y",
         "type": "scatter"
        }
       ],
       "layout": {
        "template": {
         "data": {
          "histogram2dcontour": [
           {
            "type": "histogram2dcontour",
            "colorbar": {
             "outlinewidth": 0,
             "ticks": ""
            },
            "colorscale": [
             [
              0.0,
              "#0d0887"
             ],
             [
              0.1111111111111111,
              "#46039f"
             ],
             [
              0.2222222222222222,
              "#7201a8"
             ],
             [
              0.3333333333333333,
              "#9c179e"
             ],
             [
              0.4444444444444444,
              "#bd3786"
             ],
             [
              0.5555555555555556,
              "#d8576b"
             ],
             [
              0.6666666666666666,
              "#ed7953"
             ],
             [
              0.7777777777777778,
              "#fb9f3a"
             ],
             [
              0.8888888888888888,
              "#fdca26"
             ],
             [
              1.0,
              "#f0f921"
             ]
            ]
           }
          ],
          "choropleth": [
           {
            "type": "choropleth",
            "colorbar": {
             "outlinewidth": 0,
             "ticks": ""
            }
           }
          ],
          "histogram2d": [
           {
            "type": "histogram2d",
            "colorbar": {
             "outlinewidth": 0,
             "ticks": ""
            },
            "colorscale": [
             [
              0.0,
              "#0d0887"
             ],
             [
              0.1111111111111111,
              "#46039f"
             ],
             [
              0.2222222222222222,
              "#7201a8"
             ],
             [
              0.3333333333333333,
              "#9c179e"
             ],
             [
              0.4444444444444444,
              "#bd3786"
             ],
             [
              0.5555555555555556,
              "#d8576b"
             ],
             [
              0.6666666666666666,
              "#ed7953"
             ],
             [
              0.7777777777777778,
              "#fb9f3a"
             ],
             [
              0.8888888888888888,
              "#fdca26"
             ],
             [
              1.0,
              "#f0f921"
             ]
            ]
           }
          ],
          "heatmap": [
           {
            "type": "heatmap",
            "colorbar": {
             "outlinewidth": 0,
             "ticks": ""
            },
            "colorscale": [
             [
              0.0,
              "#0d0887"
             ],
             [
              0.1111111111111111,
              "#46039f"
             ],
             [
              0.2222222222222222,
              "#7201a8"
             ],
             [
              0.3333333333333333,
              "#9c179e"
             ],
             [
              0.4444444444444444,
              "#bd3786"
             ],
             [
              0.5555555555555556,
              "#d8576b"
             ],
             [
              0.6666666666666666,
              "#ed7953"
             ],
             [
              0.7777777777777778,
              "#fb9f3a"
             ],
             [
              0.8888888888888888,
              "#fdca26"
             ],
             [
              1.0,
              "#f0f921"
             ]
            ]
           }
          ],
          "heatmapgl": [
           {
            "type": "heatmapgl",
            "colorbar": {
             "outlinewidth": 0,
             "ticks": ""
            },
            "colorscale": [
             [
              0.0,
              "#0d0887"
             ],
             [
              0.1111111111111111,
              "#46039f"
             ],
             [
              0.2222222222222222,
              "#7201a8"
             ],
             [
              0.3333333333333333,
              "#9c179e"
             ],
             [
              0.4444444444444444,
              "#bd3786"
             ],
             [
              0.5555555555555556,
              "#d8576b"
             ],
             [
              0.6666666666666666,
              "#ed7953"
             ],
             [
              0.7777777777777778,
              "#fb9f3a"
             ],
             [
              0.8888888888888888,
              "#fdca26"
             ],
             [
              1.0,
              "#f0f921"
             ]
            ]
           }
          ],
          "contourcarpet": [
           {
            "type": "contourcarpet",
            "colorbar": {
             "outlinewidth": 0,
             "ticks": ""
            }
           }
          ],
          "contour": [
           {
            "type": "contour",
            "colorbar": {
             "outlinewidth": 0,
             "ticks": ""
            },
            "colorscale": [
             [
              0.0,
              "#0d0887"
             ],
             [
              0.1111111111111111,
              "#46039f"
             ],
             [
              0.2222222222222222,
              "#7201a8"
             ],
             [
              0.3333333333333333,
              "#9c179e"
             ],
             [
              0.4444444444444444,
              "#bd3786"
             ],
             [
              0.5555555555555556,
              "#d8576b"
             ],
             [
              0.6666666666666666,
              "#ed7953"
             ],
             [
              0.7777777777777778,
              "#fb9f3a"
             ],
             [
              0.8888888888888888,
              "#fdca26"
             ],
             [
              1.0,
              "#f0f921"
             ]
            ]
           }
          ],
          "surface": [
           {
            "type": "surface",
            "colorbar": {
             "outlinewidth": 0,
             "ticks": ""
            },
            "colorscale": [
             [
              0.0,
              "#0d0887"
             ],
             [
              0.1111111111111111,
              "#46039f"
             ],
             [
              0.2222222222222222,
              "#7201a8"
             ],
             [
              0.3333333333333333,
              "#9c179e"
             ],
             [
              0.4444444444444444,
              "#bd3786"
             ],
             [
              0.5555555555555556,
              "#d8576b"
             ],
             [
              0.6666666666666666,
              "#ed7953"
             ],
             [
              0.7777777777777778,
              "#fb9f3a"
             ],
             [
              0.8888888888888888,
              "#fdca26"
             ],
             [
              1.0,
              "#f0f921"
             ]
            ]
           }
          ],
          "mesh3d": [
           {
            "type": "mesh3d",
            "colorbar": {
             "outlinewidth": 0,
             "ticks": ""
            }
           }
          ],
          "scatter": [
           {
            "marker": {
             "line": {
              "color": "#283442"
             }
            },
            "type": "scatter"
           }
          ],
          "parcoords": [
           {
            "type": "parcoords",
            "line": {
             "colorbar": {
              "outlinewidth": 0,
              "ticks": ""
             }
            }
           }
          ],
          "scatterpolargl": [
           {
            "type": "scatterpolargl",
            "marker": {
             "colorbar": {
              "outlinewidth": 0,
              "ticks": ""
             }
            }
           }
          ],
          "bar": [
           {
            "error_x": {
             "color": "#f2f5fa"
            },
            "error_y": {
             "color": "#f2f5fa"
            },
            "marker": {
             "line": {
              "color": "rgb(17,17,17)",
              "width": 0.5
             },
             "pattern": {
              "fillmode": "overlay",
              "size": 10,
              "solidity": 0.2
             }
            },
            "type": "bar"
           }
          ],
          "scattergeo": [
           {
            "type": "scattergeo",
            "marker": {
             "colorbar": {
              "outlinewidth": 0,
              "ticks": ""
             }
            }
           }
          ],
          "scatterpolar": [
           {
            "type": "scatterpolar",
            "marker": {
             "colorbar": {
              "outlinewidth": 0,
              "ticks": ""
             }
            }
           }
          ],
          "histogram": [
           {
            "marker": {
             "pattern": {
              "fillmode": "overlay",
              "size": 10,
              "solidity": 0.2
             }
            },
            "type": "histogram"
           }
          ],
          "scattergl": [
           {
            "marker": {
             "line": {
              "color": "#283442"
             }
            },
            "type": "scattergl"
           }
          ],
          "scatter3d": [
           {
            "type": "scatter3d",
            "line": {
             "colorbar": {
              "outlinewidth": 0,
              "ticks": ""
             }
            },
            "marker": {
             "colorbar": {
              "outlinewidth": 0,
              "ticks": ""
             }
            }
           }
          ],
          "scattermapbox": [
           {
            "type": "scattermapbox",
            "marker": {
             "colorbar": {
              "outlinewidth": 0,
              "ticks": ""
             }
            }
           }
          ],
          "scatterternary": [
           {
            "type": "scatterternary",
            "marker": {
             "colorbar": {
              "outlinewidth": 0,
              "ticks": ""
             }
            }
           }
          ],
          "scattercarpet": [
           {
            "type": "scattercarpet",
            "marker": {
             "colorbar": {
              "outlinewidth": 0,
              "ticks": ""
             }
            }
           }
          ],
          "carpet": [
           {
            "aaxis": {
             "endlinecolor": "#A2B1C6",
             "gridcolor": "#506784",
             "linecolor": "#506784",
             "minorgridcolor": "#506784",
             "startlinecolor": "#A2B1C6"
            },
            "baxis": {
             "endlinecolor": "#A2B1C6",
             "gridcolor": "#506784",
             "linecolor": "#506784",
             "minorgridcolor": "#506784",
             "startlinecolor": "#A2B1C6"
            },
            "type": "carpet"
           }
          ],
          "table": [
           {
            "cells": {
             "fill": {
              "color": "#506784"
             },
             "line": {
              "color": "rgb(17,17,17)"
             }
            },
            "header": {
             "fill": {
              "color": "#2a3f5f"
             },
             "line": {
              "color": "rgb(17,17,17)"
             }
            },
            "type": "table"
           }
          ],
          "barpolar": [
           {
            "marker": {
             "line": {
              "color": "rgb(17,17,17)",
              "width": 0.5
             },
             "pattern": {
              "fillmode": "overlay",
              "size": 10,
              "solidity": 0.2
             }
            },
            "type": "barpolar"
           }
          ],
          "pie": [
           {
            "automargin": true,
            "type": "pie"
           }
          ]
         },
         "layout": {
          "autotypenumbers": "strict",
          "colorway": [
           "#636efa",
           "#EF553B",
           "#00cc96",
           "#ab63fa",
           "#FFA15A",
           "#19d3f3",
           "#FF6692",
           "#B6E880",
           "#FF97FF",
           "#FECB52"
          ],
          "font": {
           "color": "#f2f5fa"
          },
          "hovermode": "closest",
          "hoverlabel": {
           "align": "left"
          },
          "paper_bgcolor": "rgb(17,17,17)",
          "plot_bgcolor": "rgb(17,17,17)",
          "polar": {
           "bgcolor": "rgb(17,17,17)",
           "angularaxis": {
            "gridcolor": "#506784",
            "linecolor": "#506784",
            "ticks": ""
           },
           "radialaxis": {
            "gridcolor": "#506784",
            "linecolor": "#506784",
            "ticks": ""
           }
          },
          "ternary": {
           "bgcolor": "rgb(17,17,17)",
           "aaxis": {
            "gridcolor": "#506784",
            "linecolor": "#506784",
            "ticks": ""
           },
           "baxis": {
            "gridcolor": "#506784",
            "linecolor": "#506784",
            "ticks": ""
           },
           "caxis": {
            "gridcolor": "#506784",
            "linecolor": "#506784",
            "ticks": ""
           }
          },
          "coloraxis": {
           "colorbar": {
            "outlinewidth": 0,
            "ticks": ""
           }
          },
          "colorscale": {
           "sequential": [
            [
             0.0,
             "#0d0887"
            ],
            [
             0.1111111111111111,
             "#46039f"
            ],
            [
             0.2222222222222222,
             "#7201a8"
            ],
            [
             0.3333333333333333,
             "#9c179e"
            ],
            [
             0.4444444444444444,
             "#bd3786"
            ],
            [
             0.5555555555555556,
             "#d8576b"
            ],
            [
             0.6666666666666666,
             "#ed7953"
            ],
            [
             0.7777777777777778,
             "#fb9f3a"
            ],
            [
             0.8888888888888888,
             "#fdca26"
            ],
            [
             1.0,
             "#f0f921"
            ]
           ],
           "sequentialminus": [
            [
             0.0,
             "#0d0887"
            ],
            [
             0.1111111111111111,
             "#46039f"
            ],
            [
             0.2222222222222222,
             "#7201a8"
            ],
            [
             0.3333333333333333,
             "#9c179e"
            ],
            [
             0.4444444444444444,
             "#bd3786"
            ],
            [
             0.5555555555555556,
             "#d8576b"
            ],
            [
             0.6666666666666666,
             "#ed7953"
            ],
            [
             0.7777777777777778,
             "#fb9f3a"
            ],
            [
             0.8888888888888888,
             "#fdca26"
            ],
            [
             1.0,
             "#f0f921"
            ]
           ],
           "diverging": [
            [
             0,
             "#8e0152"
            ],
            [
             0.1,
             "#c51b7d"
            ],
            [
             0.2,
             "#de77ae"
            ],
            [
             0.3,
             "#f1b6da"
            ],
            [
             0.4,
             "#fde0ef"
            ],
            [
             0.5,
             "#f7f7f7"
            ],
            [
             0.6,
             "#e6f5d0"
            ],
            [
             0.7,
             "#b8e186"
            ],
            [
             0.8,
             "#7fbc41"
            ],
            [
             0.9,
             "#4d9221"
            ],
            [
             1,
             "#276419"
            ]
           ]
          },
          "xaxis": {
           "gridcolor": "#283442",
           "linecolor": "#506784",
           "ticks": "",
           "title": {
            "standoff": 15
           },
           "zerolinecolor": "#283442",
           "automargin": true,
           "zerolinewidth": 2
          },
          "yaxis": {
           "gridcolor": "#283442",
           "linecolor": "#506784",
           "ticks": "",
           "title": {
            "standoff": 15
           },
           "zerolinecolor": "#283442",
           "automargin": true,
           "zerolinewidth": 2
          },
          "scene": {
           "xaxis": {
            "backgroundcolor": "rgb(17,17,17)",
            "gridcolor": "#506784",
            "linecolor": "#506784",
            "showbackground": true,
            "ticks": "",
            "zerolinecolor": "#C8D4E3",
            "gridwidth": 2
           },
           "yaxis": {
            "backgroundcolor": "rgb(17,17,17)",
            "gridcolor": "#506784",
            "linecolor": "#506784",
            "showbackground": true,
            "ticks": "",
            "zerolinecolor": "#C8D4E3",
            "gridwidth": 2
           },
           "zaxis": {
            "backgroundcolor": "rgb(17,17,17)",
            "gridcolor": "#506784",
            "linecolor": "#506784",
            "showbackground": true,
            "ticks": "",
            "zerolinecolor": "#C8D4E3",
            "gridwidth": 2
           }
          },
          "shapedefaults": {
           "line": {
            "color": "#f2f5fa"
           }
          },
          "annotationdefaults": {
           "arrowcolor": "#f2f5fa",
           "arrowhead": 0,
           "arrowwidth": 1
          },
          "geo": {
           "bgcolor": "rgb(17,17,17)",
           "landcolor": "rgb(17,17,17)",
           "subunitcolor": "#506784",
           "showland": true,
           "showlakes": true,
           "lakecolor": "rgb(17,17,17)"
          },
          "title": {
           "x": 0.05
          },
          "updatemenudefaults": {
           "bgcolor": "#506784",
           "borderwidth": 0
          },
          "sliderdefaults": {
           "bgcolor": "#C8D4E3",
           "borderwidth": 1,
           "bordercolor": "rgb(17,17,17)",
           "tickwidth": 0
          },
          "mapbox": {
           "style": "dark"
          }
         }
        },
        "xaxis": {
         "anchor": "y",
         "domain": [
          0.0,
          1.0
         ],
         "title": {
          "text": "x"
         }
        },
        "yaxis": {
         "anchor": "x",
         "domain": [
          0.0,
          1.0
         ],
         "title": {
          "text": "y"
         }
        },
        "legend": {
         "tracegroupgap": 0
        },
        "margin": {
         "t": 60
        },
        "shapes": [
         {
          "type": "line",
          "x0": 9,
          "x1": 9,
          "xref": "x",
          "y0": 0,
          "y1": 1,
          "yref": "y domain"
         }
        ],
        "height": 450,
        "width": 900,
        "title": {
         "text": "Silhouette Score"
        }
       },
       "config": {
        "plotlyServerURL": "https://plot.ly"
       }
      },
      "text/html": "<div>                            <div id=\"ef7179d7-8035-4868-ad4a-9fa65b7723b0\" class=\"plotly-graph-div\" style=\"height:450px; width:900px;\"></div>            <script type=\"text/javascript\">                require([\"plotly\"], function(Plotly) {                    window.PLOTLYENV=window.PLOTLYENV || {};                                    if (document.getElementById(\"ef7179d7-8035-4868-ad4a-9fa65b7723b0\")) {                    Plotly.newPlot(                        \"ef7179d7-8035-4868-ad4a-9fa65b7723b0\",                        [{\"hovertemplate\":\"x=%{x}<br>y=%{y}<extra></extra>\",\"legendgroup\":\"\",\"line\":{\"color\":\"#636efa\",\"dash\":\"solid\"},\"marker\":{\"symbol\":\"circle\"},\"mode\":\"lines\",\"name\":\"\",\"orientation\":\"v\",\"showlegend\":false,\"x\":[2,3,4,5,6,7,8,9],\"xaxis\":\"x\",\"y\":[0.3402055501937866,0.3201751410961151,0.4210643768310547,0.43113842606544495,0.45949041843414307,0.48903289437294006,0.46752798557281494,0.5283814668655396],\"yaxis\":\"y\",\"type\":\"scatter\"}],                        {\"template\":{\"data\":{\"histogram2dcontour\":[{\"type\":\"histogram2dcontour\",\"colorbar\":{\"outlinewidth\":0,\"ticks\":\"\"},\"colorscale\":[[0.0,\"#0d0887\"],[0.1111111111111111,\"#46039f\"],[0.2222222222222222,\"#7201a8\"],[0.3333333333333333,\"#9c179e\"],[0.4444444444444444,\"#bd3786\"],[0.5555555555555556,\"#d8576b\"],[0.6666666666666666,\"#ed7953\"],[0.7777777777777778,\"#fb9f3a\"],[0.8888888888888888,\"#fdca26\"],[1.0,\"#f0f921\"]]}],\"choropleth\":[{\"type\":\"choropleth\",\"colorbar\":{\"outlinewidth\":0,\"ticks\":\"\"}}],\"histogram2d\":[{\"type\":\"histogram2d\",\"colorbar\":{\"outlinewidth\":0,\"ticks\":\"\"},\"colorscale\":[[0.0,\"#0d0887\"],[0.1111111111111111,\"#46039f\"],[0.2222222222222222,\"#7201a8\"],[0.3333333333333333,\"#9c179e\"],[0.4444444444444444,\"#bd3786\"],[0.5555555555555556,\"#d8576b\"],[0.6666666666666666,\"#ed7953\"],[0.7777777777777778,\"#fb9f3a\"],[0.8888888888888888,\"#fdca26\"],[1.0,\"#f0f921\"]]}],\"heatmap\":[{\"type\":\"heatmap\",\"colorbar\":{\"outlinewidth\":0,\"ticks\":\"\"},\"colorscale\":[[0.0,\"#0d0887\"],[0.1111111111111111,\"#46039f\"],[0.2222222222222222,\"#7201a8\"],[0.3333333333333333,\"#9c179e\"],[0.4444444444444444,\"#bd3786\"],[0.5555555555555556,\"#d8576b\"],[0.6666666666666666,\"#ed7953\"],[0.7777777777777778,\"#fb9f3a\"],[0.8888888888888888,\"#fdca26\"],[1.0,\"#f0f921\"]]}],\"heatmapgl\":[{\"type\":\"heatmapgl\",\"colorbar\":{\"outlinewidth\":0,\"ticks\":\"\"},\"colorscale\":[[0.0,\"#0d0887\"],[0.1111111111111111,\"#46039f\"],[0.2222222222222222,\"#7201a8\"],[0.3333333333333333,\"#9c179e\"],[0.4444444444444444,\"#bd3786\"],[0.5555555555555556,\"#d8576b\"],[0.6666666666666666,\"#ed7953\"],[0.7777777777777778,\"#fb9f3a\"],[0.8888888888888888,\"#fdca26\"],[1.0,\"#f0f921\"]]}],\"contourcarpet\":[{\"type\":\"contourcarpet\",\"colorbar\":{\"outlinewidth\":0,\"ticks\":\"\"}}],\"contour\":[{\"type\":\"contour\",\"colorbar\":{\"outlinewidth\":0,\"ticks\":\"\"},\"colorscale\":[[0.0,\"#0d0887\"],[0.1111111111111111,\"#46039f\"],[0.2222222222222222,\"#7201a8\"],[0.3333333333333333,\"#9c179e\"],[0.4444444444444444,\"#bd3786\"],[0.5555555555555556,\"#d8576b\"],[0.6666666666666666,\"#ed7953\"],[0.7777777777777778,\"#fb9f3a\"],[0.8888888888888888,\"#fdca26\"],[1.0,\"#f0f921\"]]}],\"surface\":[{\"type\":\"surface\",\"colorbar\":{\"outlinewidth\":0,\"ticks\":\"\"},\"colorscale\":[[0.0,\"#0d0887\"],[0.1111111111111111,\"#46039f\"],[0.2222222222222222,\"#7201a8\"],[0.3333333333333333,\"#9c179e\"],[0.4444444444444444,\"#bd3786\"],[0.5555555555555556,\"#d8576b\"],[0.6666666666666666,\"#ed7953\"],[0.7777777777777778,\"#fb9f3a\"],[0.8888888888888888,\"#fdca26\"],[1.0,\"#f0f921\"]]}],\"mesh3d\":[{\"type\":\"mesh3d\",\"colorbar\":{\"outlinewidth\":0,\"ticks\":\"\"}}],\"scatter\":[{\"marker\":{\"line\":{\"color\":\"#283442\"}},\"type\":\"scatter\"}],\"parcoords\":[{\"type\":\"parcoords\",\"line\":{\"colorbar\":{\"outlinewidth\":0,\"ticks\":\"\"}}}],\"scatterpolargl\":[{\"type\":\"scatterpolargl\",\"marker\":{\"colorbar\":{\"outlinewidth\":0,\"ticks\":\"\"}}}],\"bar\":[{\"error_x\":{\"color\":\"#f2f5fa\"},\"error_y\":{\"color\":\"#f2f5fa\"},\"marker\":{\"line\":{\"color\":\"rgb(17,17,17)\",\"width\":0.5},\"pattern\":{\"fillmode\":\"overlay\",\"size\":10,\"solidity\":0.2}},\"type\":\"bar\"}],\"scattergeo\":[{\"type\":\"scattergeo\",\"marker\":{\"colorbar\":{\"outlinewidth\":0,\"ticks\":\"\"}}}],\"scatterpolar\":[{\"type\":\"scatterpolar\",\"marker\":{\"colorbar\":{\"outlinewidth\":0,\"ticks\":\"\"}}}],\"histogram\":[{\"marker\":{\"pattern\":{\"fillmode\":\"overlay\",\"size\":10,\"solidity\":0.2}},\"type\":\"histogram\"}],\"scattergl\":[{\"marker\":{\"line\":{\"color\":\"#283442\"}},\"type\":\"scattergl\"}],\"scatter3d\":[{\"type\":\"scatter3d\",\"line\":{\"colorbar\":{\"outlinewidth\":0,\"ticks\":\"\"}},\"marker\":{\"colorbar\":{\"outlinewidth\":0,\"ticks\":\"\"}}}],\"scattermapbox\":[{\"type\":\"scattermapbox\",\"marker\":{\"colorbar\":{\"outlinewidth\":0,\"ticks\":\"\"}}}],\"scatterternary\":[{\"type\":\"scatterternary\",\"marker\":{\"colorbar\":{\"outlinewidth\":0,\"ticks\":\"\"}}}],\"scattercarpet\":[{\"type\":\"scattercarpet\",\"marker\":{\"colorbar\":{\"outlinewidth\":0,\"ticks\":\"\"}}}],\"carpet\":[{\"aaxis\":{\"endlinecolor\":\"#A2B1C6\",\"gridcolor\":\"#506784\",\"linecolor\":\"#506784\",\"minorgridcolor\":\"#506784\",\"startlinecolor\":\"#A2B1C6\"},\"baxis\":{\"endlinecolor\":\"#A2B1C6\",\"gridcolor\":\"#506784\",\"linecolor\":\"#506784\",\"minorgridcolor\":\"#506784\",\"startlinecolor\":\"#A2B1C6\"},\"type\":\"carpet\"}],\"table\":[{\"cells\":{\"fill\":{\"color\":\"#506784\"},\"line\":{\"color\":\"rgb(17,17,17)\"}},\"header\":{\"fill\":{\"color\":\"#2a3f5f\"},\"line\":{\"color\":\"rgb(17,17,17)\"}},\"type\":\"table\"}],\"barpolar\":[{\"marker\":{\"line\":{\"color\":\"rgb(17,17,17)\",\"width\":0.5},\"pattern\":{\"fillmode\":\"overlay\",\"size\":10,\"solidity\":0.2}},\"type\":\"barpolar\"}],\"pie\":[{\"automargin\":true,\"type\":\"pie\"}]},\"layout\":{\"autotypenumbers\":\"strict\",\"colorway\":[\"#636efa\",\"#EF553B\",\"#00cc96\",\"#ab63fa\",\"#FFA15A\",\"#19d3f3\",\"#FF6692\",\"#B6E880\",\"#FF97FF\",\"#FECB52\"],\"font\":{\"color\":\"#f2f5fa\"},\"hovermode\":\"closest\",\"hoverlabel\":{\"align\":\"left\"},\"paper_bgcolor\":\"rgb(17,17,17)\",\"plot_bgcolor\":\"rgb(17,17,17)\",\"polar\":{\"bgcolor\":\"rgb(17,17,17)\",\"angularaxis\":{\"gridcolor\":\"#506784\",\"linecolor\":\"#506784\",\"ticks\":\"\"},\"radialaxis\":{\"gridcolor\":\"#506784\",\"linecolor\":\"#506784\",\"ticks\":\"\"}},\"ternary\":{\"bgcolor\":\"rgb(17,17,17)\",\"aaxis\":{\"gridcolor\":\"#506784\",\"linecolor\":\"#506784\",\"ticks\":\"\"},\"baxis\":{\"gridcolor\":\"#506784\",\"linecolor\":\"#506784\",\"ticks\":\"\"},\"caxis\":{\"gridcolor\":\"#506784\",\"linecolor\":\"#506784\",\"ticks\":\"\"}},\"coloraxis\":{\"colorbar\":{\"outlinewidth\":0,\"ticks\":\"\"}},\"colorscale\":{\"sequential\":[[0.0,\"#0d0887\"],[0.1111111111111111,\"#46039f\"],[0.2222222222222222,\"#7201a8\"],[0.3333333333333333,\"#9c179e\"],[0.4444444444444444,\"#bd3786\"],[0.5555555555555556,\"#d8576b\"],[0.6666666666666666,\"#ed7953\"],[0.7777777777777778,\"#fb9f3a\"],[0.8888888888888888,\"#fdca26\"],[1.0,\"#f0f921\"]],\"sequentialminus\":[[0.0,\"#0d0887\"],[0.1111111111111111,\"#46039f\"],[0.2222222222222222,\"#7201a8\"],[0.3333333333333333,\"#9c179e\"],[0.4444444444444444,\"#bd3786\"],[0.5555555555555556,\"#d8576b\"],[0.6666666666666666,\"#ed7953\"],[0.7777777777777778,\"#fb9f3a\"],[0.8888888888888888,\"#fdca26\"],[1.0,\"#f0f921\"]],\"diverging\":[[0,\"#8e0152\"],[0.1,\"#c51b7d\"],[0.2,\"#de77ae\"],[0.3,\"#f1b6da\"],[0.4,\"#fde0ef\"],[0.5,\"#f7f7f7\"],[0.6,\"#e6f5d0\"],[0.7,\"#b8e186\"],[0.8,\"#7fbc41\"],[0.9,\"#4d9221\"],[1,\"#276419\"]]},\"xaxis\":{\"gridcolor\":\"#283442\",\"linecolor\":\"#506784\",\"ticks\":\"\",\"title\":{\"standoff\":15},\"zerolinecolor\":\"#283442\",\"automargin\":true,\"zerolinewidth\":2},\"yaxis\":{\"gridcolor\":\"#283442\",\"linecolor\":\"#506784\",\"ticks\":\"\",\"title\":{\"standoff\":15},\"zerolinecolor\":\"#283442\",\"automargin\":true,\"zerolinewidth\":2},\"scene\":{\"xaxis\":{\"backgroundcolor\":\"rgb(17,17,17)\",\"gridcolor\":\"#506784\",\"linecolor\":\"#506784\",\"showbackground\":true,\"ticks\":\"\",\"zerolinecolor\":\"#C8D4E3\",\"gridwidth\":2},\"yaxis\":{\"backgroundcolor\":\"rgb(17,17,17)\",\"gridcolor\":\"#506784\",\"linecolor\":\"#506784\",\"showbackground\":true,\"ticks\":\"\",\"zerolinecolor\":\"#C8D4E3\",\"gridwidth\":2},\"zaxis\":{\"backgroundcolor\":\"rgb(17,17,17)\",\"gridcolor\":\"#506784\",\"linecolor\":\"#506784\",\"showbackground\":true,\"ticks\":\"\",\"zerolinecolor\":\"#C8D4E3\",\"gridwidth\":2}},\"shapedefaults\":{\"line\":{\"color\":\"#f2f5fa\"}},\"annotationdefaults\":{\"arrowcolor\":\"#f2f5fa\",\"arrowhead\":0,\"arrowwidth\":1},\"geo\":{\"bgcolor\":\"rgb(17,17,17)\",\"landcolor\":\"rgb(17,17,17)\",\"subunitcolor\":\"#506784\",\"showland\":true,\"showlakes\":true,\"lakecolor\":\"rgb(17,17,17)\"},\"title\":{\"x\":0.05},\"updatemenudefaults\":{\"bgcolor\":\"#506784\",\"borderwidth\":0},\"sliderdefaults\":{\"bgcolor\":\"#C8D4E3\",\"borderwidth\":1,\"bordercolor\":\"rgb(17,17,17)\",\"tickwidth\":0},\"mapbox\":{\"style\":\"dark\"}}},\"xaxis\":{\"anchor\":\"y\",\"domain\":[0.0,1.0],\"title\":{\"text\":\"x\"}},\"yaxis\":{\"anchor\":\"x\",\"domain\":[0.0,1.0],\"title\":{\"text\":\"y\"}},\"legend\":{\"tracegroupgap\":0},\"margin\":{\"t\":60},\"shapes\":[{\"type\":\"line\",\"x0\":9,\"x1\":9,\"xref\":\"x\",\"y0\":0,\"y1\":1,\"yref\":\"y domain\"}],\"height\":450,\"width\":900,\"title\":{\"text\":\"Silhouette Score\"}},                        {\"responsive\": true}                    ).then(function(){\n                            \nvar gd = document.getElementById('ef7179d7-8035-4868-ad4a-9fa65b7723b0');\nvar x = new MutationObserver(function (mutations, observer) {{\n        var display = window.getComputedStyle(gd).display;\n        if (!display || display === 'none') {{\n            console.log([gd, 'removed!']);\n            Plotly.purge(gd);\n            observer.disconnect();\n        }}\n}});\n\n// Listen for the removal of the full notebook cells\nvar notebookContainer = gd.closest('#notebook-container');\nif (notebookContainer) {{\n    x.observe(notebookContainer, {childList: true});\n}}\n\n// Listen for the clearing of the current output cell\nvar outputEl = gd.closest('.output');\nif (outputEl) {{\n    x.observe(outputEl, {childList: true});\n}}\n\n                        })                };                });            </script>        </div>"
     },
     "metadata": {},
     "output_type": "display_data"
    },
    {
     "data": {
      "text/plain": "<Figure size 640x480 with 1 Axes>",
      "image/png": "[encoded data removed]"
     },
     "metadata": {},
     "output_type": "display_data"
    },
    {
     "data": {
      "application/vnd.plotly.v1+json": {
       "data": [
        {
         "hovertemplate": "color=cluster_7<br>x=%{x}<br>y=%{y}<br>text=%{text}<extra></extra>",
         "legendgroup": "cluster_7",
         "marker": {
          "color": "#2E91E5",
          "symbol": "circle"
         },
         "mode": "markers+text",
         "name": "cluster_7",
         "orientation": "v",
         "showlegend": true,
         "text": [
          "Docker",
          "Kubernetes",
          "Redis",
          "Go",
          "Elasticsearch",
          "Apache Kafka",
          "Terraform",
          "DynamoDB",
          "Kotlin",
          "Emacs",
          "Scala",
          "GoLand",
          "Groovy"
         ],
         "x": [
          8.200416564941406,
          6.534653663635254,
          -2.1071321964263916,
          -4.5989484786987305,
          -0.37792372703552246,
          5.200992584228516,
          -4.8234171867370605,
          -3.2513232231140137,
          0.9982272982597351,
          -1.6372157335281372,
          -1.0506221055984497,
          -5.932133674621582,
          1.0167491436004639
         ],
         "xaxis": "x",
         "y": [
          -8.925488471984863,
          -7.799746036529541,
          -11.137310981750488,
          -9.967290878295898,
          -9.353699684143066,
          -6.605645179748535,
          -4.920284748077393,
          -3.0705511569976807,
          -5.514978885650635,
          -5.58032751083374,
          -3.8567843437194824,
          -8.709881782531738,
          -3.2889604568481445
         ],
         "yaxis": "y",
         "type": "scatter",
         "textposition": "top center"
        },
        {
         "hovertemplate": "color=cluster_3<br>x=%{x}<br>y=%{y}<br>text=%{text}<extra></extra>",
         "legendgroup": "cluster_3",
         "marker": {
          "color": "#E15F99",
          "symbol": "circle"
         },
         "mode": "markers+text",
         "name": "cluster_3",
         "orientation": "v",
         "showlegend": true,
         "text": [
          "Visual Studio Code",
          "SQL",
          "JavaScript",
          "npm",
          "HTML/CSS",
          "TypeScript",
          "Node.js",
          "React.js",
          "Express"
         ],
         "x": [
          20.63913917541504,
          22.941328048706055,
          21.263784408569336,
          15.951495170593262,
          21.365785598754883,
          16.061988830566406,
          13.286445617675781,
          13.627220153808594,
          11.587889671325684
         ],
         "xaxis": "x",
         "y": [
          -1.9635943174362183,
          0.5346338748931885,
          -0.29376378655433655,
          -0.9396787881851196,
          0.49804073572158813,
          0.06603662669658661,
          -1.9013935327529907,
          -3.9995930194854736,
          -1.243936538696289
         ],
         "yaxis": "y",
         "type": "scatter",
         "textposition": "top center"
        },
        {
         "hovertemplate": "color=cluster_1<br>x=%{x}<br>y=%{y}<br>text=%{text}<extra></extra>",
         "legendgroup": "cluster_1",
         "marker": {
          "color": "#1CA71C",
          "symbol": "circle"
         },
         "mode": "markers+text",
         "name": "cluster_1",
         "orientation": "v",
         "showlegend": true,
         "text": [
          "AWS",
          "PostgreSQL",
          "Homebrew",
          "Yarn",
          "Ruby",
          "Heroku",
          "Ruby on Rails"
         ],
         "x": [
          9.41677188873291,
          8.771074295043945,
          2.2125797271728516,
          4.906643867492676,
          3.075988531112671,
          1.5145922899246216,
          3.235290050506592
         ],
         "xaxis": "x",
         "y": [
          -12.665663719177246,
          -12.106918334960938,
          -21.495750427246094,
          -18.762130737304688,
          -19.982452392578125,
          -16.206993103027344,
          -19.428756713867188
         ],
         "yaxis": "y",
         "type": "scatter",
         "textposition": "top center"
        },
        {
         "hovertemplate": "color=cluster_6<br>x=%{x}<br>y=%{y}<br>text=%{text}<extra></extra>",
         "legendgroup": "cluster_6",
         "marker": {
          "color": "#FB0D0D",
          "symbol": "circle"
         },
         "mode": "markers+text",
         "name": "cluster_6",
         "orientation": "v",
         "showlegend": true,
         "text": [
          "Python",
          "SQLite",
          "PyCharm",
          "NumPy",
          "Pandas",
          "Flask",
          "Django",
          "FastAPI"
         ],
         "x": [
          -13.69836711883545,
          -11.274070739746094,
          -12.09823989868164,
          -17.456924438476562,
          -18.02498435974121,
          -9.916460990905762,
          -9.142470359802246,
          -8.997570991516113
         ],
         "xaxis": "x",
         "y": [
          -10.311063766479492,
          -4.707612991333008,
          -9.54515266418457,
          -11.092071533203125,
          -11.164135932922363,
          -6.946322917938232,
          -9.559011459350586,
          -8.111985206604004
         ],
         "yaxis": "y",
         "type": "scatter",
         "textposition": "top center"
        },
        {
         "hovertemplate": "color=cluster_8<br>x=%{x}<br>y=%{y}<br>text=%{text}<extra></extra>",
         "legendgroup": "cluster_8",
         "marker": {
          "color": "#DA16FF",
          "symbol": "circle"
         },
         "mode": "markers+text",
         "name": "cluster_8",
         "orientation": "v",
         "showlegend": true,
         "text": [
          "IntelliJ",
          "Java",
          "Spring"
         ],
         "x": [
          -14.193570137023926,
          -13.778482437133789,
          -13.419647216796875
         ],
         "xaxis": "x",
         "y": [
          -29.18671417236328,
          -28.197786331176758,
          -27.35858726501465
         ],
         "yaxis": "y",
         "type": "scatter",
         "textposition": "top center"
        },
        {
         "hovertemplate": "color=cluster_2<br>x=%{x}<br>y=%{y}<br>text=%{text}<extra></extra>",
         "legendgroup": "cluster_2",
         "marker": {
          "color": "#222A2A",
          "symbol": "circle"
         },
         "mode": "markers+text",
         "name": "cluster_2",
         "orientation": "v",
         "showlegend": true,
         "text": [
          "Bash/Shell",
          "Vim",
          "C++",
          "Rust",
          "C",
          "Neovim"
         ],
         "x": [
          -12.770023345947266,
          -18.688535690307617,
          -18.73065948486328,
          -11.19362735748291,
          -18.636430740356445,
          -9.578271865844727
         ],
         "xaxis": "x",
         "y": [
          4.330922603607178,
          6.098860263824463,
          3.670759916305542,
          3.9353206157684326,
          4.422420024871826,
          3.328230381011963
         ],
         "yaxis": "y",
         "type": "scatter",
         "textposition": "top center"
        },
        {
         "hovertemplate": "color=cluster_0<br>x=%{x}<br>y=%{y}<br>text=%{text}<extra></extra>",
         "legendgroup": "cluster_0",
         "marker": {
          "color": "#B68100",
          "symbol": "circle"
         },
         "mode": "markers+text",
         "name": "cluster_0",
         "orientation": "v",
         "showlegend": true,
         "text": [
          "MySQL",
          "jQuery",
          "MariaDB",
          "PHP",
          "PhpStorm"
         ],
         "x": [
          -4.637315273284912,
          -1.9588953256607056,
          -5.043828964233398,
          -3.73787260055542,
          -4.11874532699585
         ],
         "xaxis": "x",
         "y": [
          21.880962371826172,
          20.628032684326172,
          18.248897552490234,
          20.277013778686523,
          19.45917320251465
         ],
         "yaxis": "y",
         "type": "scatter",
         "textposition": "top center"
        },
        {
         "hovertemplate": "color=cluster_4<br>x=%{x}<br>y=%{y}<br>text=%{text}<extra></extra>",
         "legendgroup": "cluster_4",
         "marker": {
          "color": "#750D86",
          "symbol": "circle"
         },
         "mode": "markers+text",
         "name": "cluster_4",
         "orientation": "v",
         "showlegend": true,
         "text": [
          "C#",
          "Visual Studio",
          "Notepad++",
          "Microsoft Azure",
          "Microsoft SQL Server",
          ".NET",
          "ASP.NET Core ",
          "ASP.NET"
         ],
         "x": [
          16.822452545166016,
          17.687122344970703,
          11.015922546386719,
          14.246129989624023,
          17.26462745666504,
          15.967318534851074,
          14.420866966247559,
          12.356155395507812
         ],
         "xaxis": "x",
         "y": [
          22.778066635131836,
          21.87615203857422,
          21.11888885498047,
          24.90549659729004,
          24.456464767456055,
          22.514774322509766,
          22.934738159179688,
          21.838905334472656
         ],
         "yaxis": "y",
         "type": "scatter",
         "textposition": "top center"
        },
        {
         "hovertemplate": "color=cluster_5<br>x=%{x}<br>y=%{y}<br>text=%{text}<extra></extra>",
         "legendgroup": "cluster_5",
         "marker": {
          "color": "#EB663B",
          "symbol": "circle"
         },
         "mode": "markers+text",
         "name": "cluster_5",
         "orientation": "v",
         "showlegend": true,
         "text": [
          "MongoDB",
          "Google Cloud",
          "Sublime Text",
          "Oracle",
          "Ansible",
          "Angular",
          "Eclipse",
          "PowerShell",
          "Vue.js",
          "DigitalOcean",
          "IPython/Jupyter",
          "Android Studio",
          "Apache Spark",
          "Rider",
          "Cassandra",
          "TensorFlow",
          "Nano"
         ],
         "x": [
          1.36699378490448,
          3.5846238136291504,
          -0.2903507947921753,
          -3.8904194831848145,
          -7.418216228485107,
          5.445246696472168,
          -3.388658046722412,
          0.562012791633606,
          2.312485933303833,
          -3.208150863647461,
          -4.015175819396973,
          -0.6543938517570496,
          -2.029618740081787,
          -5.732699871063232,
          -0.3927393853664398,
          -1.1064443588256836,
          -2.617323637008667
         ],
         "xaxis": "x",
         "y": [
          2.1946640014648438,
          4.432502746582031,
          0.18276120722293854,
          9.278697967529297,
          -1.952100157737732,
          0.4187670052051544,
          7.833246231079102,
          6.24624490737915,
          -0.9296090602874756,
          4.189744472503662,
          -0.8876601457595825,
          3.640083074569702,
          -2.148895263671875,
          2.0543735027313232,
          -1.6503181457519531,
          2.0592918395996094,
          1.616054892539978
         ],
         "yaxis": "y",
         "type": "scatter",
         "textposition": "top center"
        }
       ],
       "layout": {
        "template": {
         "data": {
          "histogram2dcontour": [
           {
            "type": "histogram2dcontour",
            "colorbar": {
             "outlinewidth": 0,
             "ticks": ""
            },
            "colorscale": [
             [
              0.0,
              "#0d0887"
             ],
             [
              0.1111111111111111,
              "#46039f"
             ],
             [
              0.2222222222222222,
              "#7201a8"
             ],
             [
              0.3333333333333333,
              "#9c179e"
             ],
             [
              0.4444444444444444,
              "#bd3786"
             ],
             [
              0.5555555555555556,
              "#d8576b"
             ],
             [
              0.6666666666666666,
              "#ed7953"
             ],
             [
              0.7777777777777778,
              "#fb9f3a"
             ],
             [
              0.8888888888888888,
              "#fdca26"
             ],
             [
              1.0,
              "#f0f921"
             ]
            ]
           }
          ],
          "choropleth": [
           {
            "type": "choropleth",
            "colorbar": {
             "outlinewidth": 0,
             "ticks": ""
            }
           }
          ],
          "histogram2d": [
           {
            "type": "histogram2d",
            "colorbar": {
             "outlinewidth": 0,
             "ticks": ""
            },
            "colorscale": [
             [
              0.0,
              "#0d0887"
             ],
             [
              0.1111111111111111,
              "#46039f"
             ],
             [
              0.2222222222222222,
              "#7201a8"
             ],
             [
              0.3333333333333333,
              "#9c179e"
             ],
             [
              0.4444444444444444,
              "#bd3786"
             ],
             [
              0.5555555555555556,
              "#d8576b"
             ],
             [
              0.6666666666666666,
              "#ed7953"
             ],
             [
              0.7777777777777778,
              "#fb9f3a"
             ],
             [
              0.8888888888888888,
              "#fdca26"
             ],
             [
              1.0,
              "#f0f921"
             ]
            ]
           }
          ],
          "heatmap": [
           {
            "type": "heatmap",
            "colorbar": {
             "outlinewidth": 0,
             "ticks": ""
            },
            "colorscale": [
             [
              0.0,
              "#0d0887"
             ],
             [
              0.1111111111111111,
              "#46039f"
             ],
             [
              0.2222222222222222,
              "#7201a8"
             ],
             [
              0.3333333333333333,
              "#9c179e"
             ],
             [
              0.4444444444444444,
              "#bd3786"
             ],
             [
              0.5555555555555556,
              "#d8576b"
             ],
             [
              0.6666666666666666,
              "#ed7953"
             ],
             [
              0.7777777777777778,
              "#fb9f3a"
             ],
             [
              0.8888888888888888,
              "#fdca26"
             ],
             [
              1.0,
              "#f0f921"
             ]
            ]
           }
          ],
          "heatmapgl": [
           {
            "type": "heatmapgl",
            "colorbar": {
             "outlinewidth": 0,
             "ticks": ""
            },
            "colorscale": [
             [
              0.0,
              "#0d0887"
             ],
             [
              0.1111111111111111,
              "#46039f"
             ],
             [
              0.2222222222222222,
              "#7201a8"
             ],
             [
              0.3333333333333333,
              "#9c179e"
             ],
             [
              0.4444444444444444,
              "#bd3786"
             ],
             [
              0.5555555555555556,
              "#d8576b"
             ],
             [
              0.6666666666666666,
              "#ed7953"
             ],
             [
              0.7777777777777778,
              "#fb9f3a"
             ],
             [
              0.8888888888888888,
              "#fdca26"
             ],
             [
              1.0,
              "#f0f921"
             ]
            ]
           }
          ],
          "contourcarpet": [
           {
            "type": "contourcarpet",
            "colorbar": {
             "outlinewidth": 0,
             "ticks": ""
            }
           }
          ],
          "contour": [
           {
            "type": "contour",
            "colorbar": {
             "outlinewidth": 0,
             "ticks": ""
            },
            "colorscale": [
             [
              0.0,
              "#0d0887"
             ],
             [
              0.1111111111111111,
              "#46039f"
             ],
             [
              0.2222222222222222,
              "#7201a8"
             ],
             [
              0.3333333333333333,
              "#9c179e"
             ],
             [
              0.4444444444444444,
              "#bd3786"
             ],
             [
              0.5555555555555556,
              "#d8576b"
             ],
             [
              0.6666666666666666,
              "#ed7953"
             ],
             [
              0.7777777777777778,
              "#fb9f3a"
             ],
             [
              0.8888888888888888,
              "#fdca26"
             ],
             [
              1.0,
              "#f0f921"
             ]
            ]
           }
          ],
          "surface": [
           {
            "type": "surface",
            "colorbar": {
             "outlinewidth": 0,
             "ticks": ""
            },
            "colorscale": [
             [
              0.0,
              "#0d0887"
             ],
             [
              0.1111111111111111,
              "#46039f"
             ],
             [
              0.2222222222222222,
              "#7201a8"
             ],
             [
              0.3333333333333333,
              "#9c179e"
             ],
             [
              0.4444444444444444,
              "#bd3786"
             ],
             [
              0.5555555555555556,
              "#d8576b"
             ],
             [
              0.6666666666666666,
              "#ed7953"
             ],
             [
              0.7777777777777778,
              "#fb9f3a"
             ],
             [
              0.8888888888888888,
              "#fdca26"
             ],
             [
              1.0,
              "#f0f921"
             ]
            ]
           }
          ],
          "mesh3d": [
           {
            "type": "mesh3d",
            "colorbar": {
             "outlinewidth": 0,
             "ticks": ""
            }
           }
          ],
          "scatter": [
           {
            "marker": {
             "line": {
              "color": "#283442"
             }
            },
            "type": "scatter"
           }
          ],
          "parcoords": [
           {
            "type": "parcoords",
            "line": {
             "colorbar": {
              "outlinewidth": 0,
              "ticks": ""
             }
            }
           }
          ],
          "scatterpolargl": [
           {
            "type": "scatterpolargl",
            "marker": {
             "colorbar": {
              "outlinewidth": 0,
              "ticks": ""
             }
            }
           }
          ],
          "bar": [
           {
            "error_x": {
             "color": "#f2f5fa"
            },
            "error_y": {
             "color": "#f2f5fa"
            },
            "marker": {
             "line": {
              "color": "rgb(17,17,17)",
              "width": 0.5
             },
             "pattern": {
              "fillmode": "overlay",
              "size": 10,
              "solidity": 0.2
             }
            },
            "type": "bar"
           }
          ],
          "scattergeo": [
           {
            "type": "scattergeo",
            "marker": {
             "colorbar": {
              "outlinewidth": 0,
              "ticks": ""
             }
            }
           }
          ],
          "scatterpolar": [
           {
            "type": "scatterpolar",
            "marker": {
             "colorbar": {
              "outlinewidth": 0,
              "ticks": ""
             }
            }
           }
          ],
          "histogram": [
           {
            "marker": {
             "pattern": {
              "fillmode": "overlay",
              "size": 10,
              "solidity": 0.2
             }
            },
            "type": "histogram"
           }
          ],
          "scattergl": [
           {
            "marker": {
             "line": {
              "color": "#283442"
             }
            },
            "type": "scattergl"
           }
          ],
          "scatter3d": [
           {
            "type": "scatter3d",
            "line": {
             "colorbar": {
              "outlinewidth": 0,
              "ticks": ""
             }
            },
            "marker": {
             "colorbar": {
              "outlinewidth": 0,
              "ticks": ""
             }
            }
           }
          ],
          "scattermapbox": [
           {
            "type": "scattermapbox",
            "marker": {
             "colorbar": {
              "outlinewidth": 0,
              "ticks": ""
             }
            }
           }
          ],
          "scatterternary": [
           {
            "type": "scatterternary",
            "marker": {
             "colorbar": {
              "outlinewidth": 0,
              "ticks": ""
             }
            }
           }
          ],
          "scattercarpet": [
           {
            "type": "scattercarpet",
            "marker": {
             "colorbar": {
              "outlinewidth": 0,
              "ticks": ""
             }
            }
           }
          ],
          "carpet": [
           {
            "aaxis": {
             "endlinecolor": "#A2B1C6",
             "gridcolor": "#506784",
             "linecolor": "#506784",
             "minorgridcolor": "#506784",
             "startlinecolor": "#A2B1C6"
            },
            "baxis": {
             "endlinecolor": "#A2B1C6",
             "gridcolor": "#506784",
             "linecolor": "#506784",
             "minorgridcolor": "#506784",
             "startlinecolor": "#A2B1C6"
            },
            "type": "carpet"
           }
          ],
          "table": [
           {
            "cells": {
             "fill": {
              "color": "#506784"
             },
             "line": {
              "color": "rgb(17,17,17)"
             }
            },
            "header": {
             "fill": {
              "color": "#2a3f5f"
             },
             "line": {
              "color": "rgb(17,17,17)"
             }
            },
            "type": "table"
           }
          ],
          "barpolar": [
           {
            "marker": {
             "line": {
              "color": "rgb(17,17,17)",
              "width": 0.5
             },
             "pattern": {
              "fillmode": "overlay",
              "size": 10,
              "solidity": 0.2
             }
            },
            "type": "barpolar"
           }
          ],
          "pie": [
           {
            "automargin": true,
            "type": "pie"
           }
          ]
         },
         "layout": {
          "autotypenumbers": "strict",
          "colorway": [
           "#636efa",
           "#EF553B",
           "#00cc96",
           "#ab63fa",
           "#FFA15A",
           "#19d3f3",
           "#FF6692",
           "#B6E880",
           "#FF97FF",
           "#FECB52"
          ],
          "font": {
           "color": "#f2f5fa"
          },
          "hovermode": "closest",
          "hoverlabel": {
           "align": "left"
          },
          "paper_bgcolor": "rgb(17,17,17)",
          "plot_bgcolor": "rgb(17,17,17)",
          "polar": {
           "bgcolor": "rgb(17,17,17)",
           "angularaxis": {
            "gridcolor": "#506784",
            "linecolor": "#506784",
            "ticks": ""
           },
           "radialaxis": {
            "gridcolor": "#506784",
            "linecolor": "#506784",
            "ticks": ""
           }
          },
          "ternary": {
           "bgcolor": "rgb(17,17,17)",
           "aaxis": {
            "gridcolor": "#506784",
            "linecolor": "#506784",
            "ticks": ""
           },
           "baxis": {
            "gridcolor": "#506784",
            "linecolor": "#506784",
            "ticks": ""
           },
           "caxis": {
            "gridcolor": "#506784",
            "linecolor": "#506784",
            "ticks": ""
           }
          },
          "coloraxis": {
           "colorbar": {
            "outlinewidth": 0,
            "ticks": ""
           }
          },
          "colorscale": {
           "sequential": [
            [
             0.0,
             "#0d0887"
            ],
            [
             0.1111111111111111,
             "#46039f"
            ],
            [
             0.2222222222222222,
             "#7201a8"
            ],
            [
             0.3333333333333333,
             "#9c179e"
            ],
            [
             0.4444444444444444,
             "#bd3786"
            ],
            [
             0.5555555555555556,
             "#d8576b"
            ],
            [
             0.6666666666666666,
             "#ed7953"
            ],
            [
             0.7777777777777778,
             "#fb9f3a"
            ],
            [
             0.8888888888888888,
             "#fdca26"
            ],
            [
             1.0,
             "#f0f921"
            ]
           ],
           "sequentialminus": [
            [
             0.0,
             "#0d0887"
            ],
            [
             0.1111111111111111,
             "#46039f"
            ],
            [
             0.2222222222222222,
             "#7201a8"
            ],
            [
             0.3333333333333333,
             "#9c179e"
            ],
            [
             0.4444444444444444,
             "#bd3786"
            ],
            [
             0.5555555555555556,
             "#d8576b"
            ],
            [
             0.6666666666666666,
             "#ed7953"
            ],
            [
             0.7777777777777778,
             "#fb9f3a"
            ],
            [
             0.8888888888888888,
             "#fdca26"
            ],
            [
             1.0,
             "#f0f921"
            ]
           ],
           "diverging": [
            [
             0,
             "#8e0152"
            ],
            [
             0.1,
             "#c51b7d"
            ],
            [
             0.2,
             "#de77ae"
            ],
            [
             0.3,
             "#f1b6da"
            ],
            [
             0.4,
             "#fde0ef"
            ],
            [
             0.5,
             "#f7f7f7"
            ],
            [
             0.6,
             "#e6f5d0"
            ],
            [
             0.7,
             "#b8e186"
            ],
            [
             0.8,
             "#7fbc41"
            ],
            [
             0.9,
             "#4d9221"
            ],
            [
             1,
             "#276419"
            ]
           ]
          },
          "xaxis": {
           "gridcolor": "#283442",
           "linecolor": "#506784",
           "ticks": "",
           "title": {
            "standoff": 15
           },
           "zerolinecolor": "#283442",
           "automargin": true,
           "zerolinewidth": 2
          },
          "yaxis": {
           "gridcolor": "#283442",
           "linecolor": "#506784",
           "ticks": "",
           "title": {
            "standoff": 15
           },
           "zerolinecolor": "#283442",
           "automargin": true,
           "zerolinewidth": 2
          },
          "scene": {
           "xaxis": {
            "backgroundcolor": "rgb(17,17,17)",
            "gridcolor": "#506784",
            "linecolor": "#506784",
            "showbackground": true,
            "ticks": "",
            "zerolinecolor": "#C8D4E3",
            "gridwidth": 2
           },
           "yaxis": {
            "backgroundcolor": "rgb(17,17,17)",
            "gridcolor": "#506784",
            "linecolor": "#506784",
            "showbackground": true,
            "ticks": "",
            "zerolinecolor": "#C8D4E3",
            "gridwidth": 2
           },
           "zaxis": {
            "backgroundcolor": "rgb(17,17,17)",
            "gridcolor": "#506784",
            "linecolor": "#506784",
            "showbackground": true,
            "ticks": "",
            "zerolinecolor": "#C8D4E3",
            "gridwidth": 2
           }
          },
          "shapedefaults": {
           "line": {
            "color": "#f2f5fa"
           }
          },
          "annotationdefaults": {
           "arrowcolor": "#f2f5fa",
           "arrowhead": 0,
           "arrowwidth": 1
          },
          "geo": {
           "bgcolor": "rgb(17,17,17)",
           "landcolor": "rgb(17,17,17)",
           "subunitcolor": "#506784",
           "showland": true,
           "showlakes": true,
           "lakecolor": "rgb(17,17,17)"
          },
          "title": {
           "x": 0.05
          },
          "updatemenudefaults": {
           "bgcolor": "#506784",
           "borderwidth": 0
          },
          "sliderdefaults": {
           "bgcolor": "#C8D4E3",
           "borderwidth": 1,
           "bordercolor": "rgb(17,17,17)",
           "tickwidth": 0
          },
          "mapbox": {
           "style": "dark"
          }
         }
        },
        "xaxis": {
         "anchor": "y",
         "domain": [
          0.0,
          1.0
         ],
         "title": {
          "text": "x"
         }
        },
        "yaxis": {
         "anchor": "x",
         "domain": [
          0.0,
          1.0
         ],
         "title": {
          "text": "y"
         }
        },
        "legend": {
         "title": {
          "text": "color"
         },
         "tracegroupgap": 0
        },
        "margin": {
         "t": 60
        },
        "title": {
         "text": "Clustering top skills for Developer_back-end"
        },
        "height": 900,
        "width": 1500
       },
       "config": {
        "plotlyServerURL": "https://plot.ly"
       }
      },
      "text/html": "<div>                            <div id=\"0beb0eb9-e781-4baf-b3e2-534940f10ed4\" class=\"plotly-graph-div\" style=\"height:900px; width:1500px;\"></div>            <script type=\"text/javascript\">                require([\"plotly\"], function(Plotly) {                    window.PLOTLYENV=window.PLOTLYENV || {};                                    if (document.getElementById(\"0beb0eb9-e781-4baf-b3e2-534940f10ed4\")) {                    Plotly.newPlot(                        \"0beb0eb9-e781-4baf-b3e2-534940f10ed4\",                        [{\"hovertemplate\":\"color=cluster_7<br>x=%{x}<br>y=%{y}<br>text=%{text}<extra></extra>\",\"legendgroup\":\"cluster_7\",\"marker\":{\"color\":\"#2E91E5\",\"symbol\":\"circle\"},\"mode\":\"markers+text\",\"name\":\"cluster_7\",\"orientation\":\"v\",\"showlegend\":true,\"text\":[\"Docker\",\"Kubernetes\",\"Redis\",\"Go\",\"Elasticsearch\",\"Apache Kafka\",\"Terraform\",\"DynamoDB\",\"Kotlin\",\"Emacs\",\"Scala\",\"GoLand\",\"Groovy\"],\"x\":[8.200416564941406,6.534653663635254,-2.1071321964263916,-4.5989484786987305,-0.37792372703552246,5.200992584228516,-4.8234171867370605,-3.2513232231140137,0.9982272982597351,-1.6372157335281372,-1.0506221055984497,-5.932133674621582,1.0167491436004639],\"xaxis\":\"x\",\"y\":[-8.925488471984863,-7.799746036529541,-11.137310981750488,-9.967290878295898,-9.353699684143066,-6.605645179748535,-4.920284748077393,-3.0705511569976807,-5.514978885650635,-5.58032751083374,-3.8567843437194824,-8.709881782531738,-3.2889604568481445],\"yaxis\":\"y\",\"type\":\"scatter\",\"textposition\":\"top center\"},{\"hovertemplate\":\"color=cluster_3<br>x=%{x}<br>y=%{y}<br>text=%{text}<extra></extra>\",\"legendgroup\":\"cluster_3\",\"marker\":{\"color\":\"#E15F99\",\"symbol\":\"circle\"},\"mode\":\"markers+text\",\"name\":\"cluster_3\",\"orientation\":\"v\",\"showlegend\":true,\"text\":[\"Visual Studio Code\",\"SQL\",\"JavaScript\",\"npm\",\"HTML/CSS\",\"TypeScript\",\"Node.js\",\"React.js\",\"Express\"],\"x\":[20.63913917541504,22.941328048706055,21.263784408569336,15.951495170593262,21.365785598754883,16.061988830566406,13.286445617675781,13.627220153808594,11.587889671325684],\"xaxis\":\"x\",\"y\":[-1.9635943174362183,0.5346338748931885,-0.29376378655433655,-0.9396787881851196,0.49804073572158813,0.06603662669658661,-1.9013935327529907,-3.9995930194854736,-1.243936538696289],\"yaxis\":\"y\",\"type\":\"scatter\",\"textposition\":\"top center\"},{\"hovertemplate\":\"color=cluster_1<br>x=%{x}<br>y=%{y}<br>text=%{text}<extra></extra>\",\"legendgroup\":\"cluster_1\",\"marker\":{\"color\":\"#1CA71C\",\"symbol\":\"circle\"},\"mode\":\"markers+text\",\"name\":\"cluster_1\",\"orientation\":\"v\",\"showlegend\":true,\"text\":[\"AWS\",\"PostgreSQL\",\"Homebrew\",\"Yarn\",\"Ruby\",\"Heroku\",\"Ruby on Rails\"],\"x\":[9.41677188873291,8.771074295043945,2.2125797271728516,4.906643867492676,3.075988531112671,1.5145922899246216,3.235290050506592],\"xaxis\":\"x\",\"y\":[-12.665663719177246,-12.106918334960938,-21.495750427246094,-18.762130737304688,-19.982452392578125,-16.206993103027344,-19.428756713867188],\"yaxis\":\"y\",\"type\":\"scatter\",\"textposition\":\"top center\"},{\"hovertemplate\":\"color=cluster_6<br>x=%{x}<br>y=%{y}<br>text=%{text}<extra></extra>\",\"legendgroup\":\"cluster_6\",\"marker\":{\"color\":\"#FB0D0D\",\"symbol\":\"circle\"},\"mode\":\"markers+text\",\"name\":\"cluster_6\",\"orientation\":\"v\",\"showlegend\":true,\"text\":[\"Python\",\"SQLite\",\"PyCharm\",\"NumPy\",\"Pandas\",\"Flask\",\"Django\",\"FastAPI\"],\"x\":[-13.69836711883545,-11.274070739746094,-12.09823989868164,-17.456924438476562,-18.02498435974121,-9.916460990905762,-9.142470359802246,-8.997570991516113],\"xaxis\":\"x\",\"y\":[-10.311063766479492,-4.707612991333008,-9.54515266418457,-11.092071533203125,-11.164135932922363,-6.946322917938232,-9.559011459350586,-8.111985206604004],\"yaxis\":\"y\",\"type\":\"scatter\",\"textposition\":\"top center\"},{\"hovertemplate\":\"color=cluster_8<br>x=%{x}<br>y=%{y}<br>text=%{text}<extra></extra>\",\"legendgroup\":\"cluster_8\",\"marker\":{\"color\":\"#DA16FF\",\"symbol\":\"circle\"},\"mode\":\"markers+text\",\"name\":\"cluster_8\",\"orientation\":\"v\",\"showlegend\":true,\"text\":[\"IntelliJ\",\"Java\",\"Spring\"],\"x\":[-14.193570137023926,-13.778482437133789,-13.419647216796875],\"xaxis\":\"x\",\"y\":[-29.18671417236328,-28.197786331176758,-27.35858726501465],\"yaxis\":\"y\",\"type\":\"scatter\",\"textposition\":\"top center\"},{\"hovertemplate\":\"color=cluster_2<br>x=%{x}<br>y=%{y}<br>text=%{text}<extra></extra>\",\"legendgroup\":\"cluster_2\",\"marker\":{\"color\":\"#222A2A\",\"symbol\":\"circle\"},\"mode\":\"markers+text\",\"name\":\"cluster_2\",\"orientation\":\"v\",\"showlegend\":true,\"text\":[\"Bash/Shell\",\"Vim\",\"C++\",\"Rust\",\"C\",\"Neovim\"],\"x\":[-12.770023345947266,-18.688535690307617,-18.73065948486328,-11.19362735748291,-18.636430740356445,-9.578271865844727],\"xaxis\":\"x\",\"y\":[4.330922603607178,6.098860263824463,3.670759916305542,3.9353206157684326,4.422420024871826,3.328230381011963],\"yaxis\":\"y\",\"type\":\"scatter\",\"textposition\":\"top center\"},{\"hovertemplate\":\"color=cluster_0<br>x=%{x}<br>y=%{y}<br>text=%{text}<extra></extra>\",\"legendgroup\":\"cluster_0\",\"marker\":{\"color\":\"#B68100\",\"symbol\":\"circle\"},\"mode\":\"markers+text\",\"name\":\"cluster_0\",\"orientation\":\"v\",\"showlegend\":true,\"text\":[\"MySQL\",\"jQuery\",\"MariaDB\",\"PHP\",\"PhpStorm\"],\"x\":[-4.637315273284912,-1.9588953256607056,-5.043828964233398,-3.73787260055542,-4.11874532699585],\"xaxis\":\"x\",\"y\":[21.880962371826172,20.628032684326172,18.248897552490234,20.277013778686523,19.45917320251465],\"yaxis\":\"y\",\"type\":\"scatter\",\"textposition\":\"top center\"},{\"hovertemplate\":\"color=cluster_4<br>x=%{x}<br>y=%{y}<br>text=%{text}<extra></extra>\",\"legendgroup\":\"cluster_4\",\"marker\":{\"color\":\"#750D86\",\"symbol\":\"circle\"},\"mode\":\"markers+text\",\"name\":\"cluster_4\",\"orientation\":\"v\",\"showlegend\":true,\"text\":[\"C#\",\"Visual Studio\",\"Notepad++\",\"Microsoft Azure\",\"Microsoft SQL Server\",\".NET\",\"ASP.NET Core \",\"ASP.NET\"],\"x\":[16.822452545166016,17.687122344970703,11.015922546386719,14.246129989624023,17.26462745666504,15.967318534851074,14.420866966247559,12.356155395507812],\"xaxis\":\"x\",\"y\":[22.778066635131836,21.87615203857422,21.11888885498047,24.90549659729004,24.456464767456055,22.514774322509766,22.934738159179688,21.838905334472656],\"yaxis\":\"y\",\"type\":\"scatter\",\"textposition\":\"top center\"},{\"hovertemplate\":\"color=cluster_5<br>x=%{x}<br>y=%{y}<br>text=%{text}<extra></extra>\",\"legendgroup\":\"cluster_5\",\"marker\":{\"color\":\"#EB663B\",\"symbol\":\"circle\"},\"mode\":\"markers+text\",\"name\":\"cluster_5\",\"orientation\":\"v\",\"showlegend\":true,\"text\":[\"MongoDB\",\"Google Cloud\",\"Sublime Text\",\"Oracle\",\"Ansible\",\"Angular\",\"Eclipse\",\"PowerShell\",\"Vue.js\",\"DigitalOcean\",\"IPython/Jupyter\",\"Android Studio\",\"Apache Spark\",\"Rider\",\"Cassandra\",\"TensorFlow\",\"Nano\"],\"x\":[1.36699378490448,3.5846238136291504,-0.2903507947921753,-3.8904194831848145,-7.418216228485107,5.445246696472168,-3.388658046722412,0.562012791633606,2.312485933303833,-3.208150863647461,-4.015175819396973,-0.6543938517570496,-2.029618740081787,-5.732699871063232,-0.3927393853664398,-1.1064443588256836,-2.617323637008667],\"xaxis\":\"x\",\"y\":[2.1946640014648438,4.432502746582031,0.18276120722293854,9.278697967529297,-1.952100157737732,0.4187670052051544,7.833246231079102,6.24624490737915,-0.9296090602874756,4.189744472503662,-0.8876601457595825,3.640083074569702,-2.148895263671875,2.0543735027313232,-1.6503181457519531,2.0592918395996094,1.616054892539978],\"yaxis\":\"y\",\"type\":\"scatter\",\"textposition\":\"top center\"}],                        {\"template\":{\"data\":{\"histogram2dcontour\":[{\"type\":\"histogram2dcontour\",\"colorbar\":{\"outlinewidth\":0,\"ticks\":\"\"},\"colorscale\":[[0.0,\"#0d0887\"],[0.1111111111111111,\"#46039f\"],[0.2222222222222222,\"#7201a8\"],[0.3333333333333333,\"#9c179e\"],[0.4444444444444444,\"#bd3786\"],[0.5555555555555556,\"#d8576b\"],[0.6666666666666666,\"#ed7953\"],[0.7777777777777778,\"#fb9f3a\"],[0.8888888888888888,\"#fdca26\"],[1.0,\"#f0f921\"]]}],\"choropleth\":[{\"type\":\"choropleth\",\"colorbar\":{\"outlinewidth\":0,\"ticks\":\"\"}}],\"histogram2d\":[{\"type\":\"histogram2d\",\"colorbar\":{\"outlinewidth\":0,\"ticks\":\"\"},\"colorscale\":[[0.0,\"#0d0887\"],[0.1111111111111111,\"#46039f\"],[0.2222222222222222,\"#7201a8\"],[0.3333333333333333,\"#9c179e\"],[0.4444444444444444,\"#bd3786\"],[0.5555555555555556,\"#d8576b\"],[0.6666666666666666,\"#ed7953\"],[0.7777777777777778,\"#fb9f3a\"],[0.8888888888888888,\"#fdca26\"],[1.0,\"#f0f921\"]]}],\"heatmap\":[{\"type\":\"heatmap\",\"colorbar\":{\"outlinewidth\":0,\"ticks\":\"\"},\"colorscale\":[[0.0,\"#0d0887\"],[0.1111111111111111,\"#46039f\"],[0.2222222222222222,\"#7201a8\"],[0.3333333333333333,\"#9c179e\"],[0.4444444444444444,\"#bd3786\"],[0.5555555555555556,\"#d8576b\"],[0.6666666666666666,\"#ed7953\"],[0.7777777777777778,\"#fb9f3a\"],[0.8888888888888888,\"#fdca26\"],[1.0,\"#f0f921\"]]}],\"heatmapgl\":[{\"type\":\"heatmapgl\",\"colorbar\":{\"outlinewidth\":0,\"ticks\":\"\"},\"colorscale\":[[0.0,\"#0d0887\"],[0.1111111111111111,\"#46039f\"],[0.2222222222222222,\"#7201a8\"],[0.3333333333333333,\"#9c179e\"],[0.4444444444444444,\"#bd3786\"],[0.5555555555555556,\"#d8576b\"],[0.6666666666666666,\"#ed7953\"],[0.7777777777777778,\"#fb9f3a\"],[0.8888888888888888,\"#fdca26\"],[1.0,\"#f0f921\"]]}],\"contourcarpet\":[{\"type\":\"contourcarpet\",\"colorbar\":{\"outlinewidth\":0,\"ticks\":\"\"}}],\"contour\":[{\"type\":\"contour\",\"colorbar\":{\"outlinewidth\":0,\"ticks\":\"\"},\"colorscale\":[[0.0,\"#0d0887\"],[0.1111111111111111,\"#46039f\"],[0.2222222222222222,\"#7201a8\"],[0.3333333333333333,\"#9c179e\"],[0.4444444444444444,\"#bd3786\"],[0.5555555555555556,\"#d8576b\"],[0.6666666666666666,\"#ed7953\"],[0.7777777777777778,\"#fb9f3a\"],[0.8888888888888888,\"#fdca26\"],[1.0,\"#f0f921\"]]}],\"surface\":[{\"type\":\"surface\",\"colorbar\":{\"outlinewidth\":0,\"ticks\":\"\"},\"colorscale\":[[0.0,\"#0d0887\"],[0.1111111111111111,\"#46039f\"],[0.2222222222222222,\"#7201a8\"],[0.3333333333333333,\"#9c179e\"],[0.4444444444444444,\"#bd3786\"],[0.5555555555555556,\"#d8576b\"],[0.6666666666666666,\"#ed7953\"],[0.7777777777777778,\"#fb9f3a\"],[0.8888888888888888,\"#fdca26\"],[1.0,\"#f0f921\"]]}],\"mesh3d\":[{\"type\":\"mesh3d\",\"colorbar\":{\"outlinewidth\":0,\"ticks\":\"\"}}],\"scatter\":[{\"marker\":{\"line\":{\"color\":\"#283442\"}},\"type\":\"scatter\"}],\"parcoords\":[{\"type\":\"parcoords\",\"line\":{\"colorbar\":{\"outlinewidth\":0,\"ticks\":\"\"}}}],\"scatterpolargl\":[{\"type\":\"scatterpolargl\",\"marker\":{\"colorbar\":{\"outlinewidth\":0,\"ticks\":\"\"}}}],\"bar\":[{\"error_x\":{\"color\":\"#f2f5fa\"},\"error_y\":{\"color\":\"#f2f5fa\"},\"marker\":{\"line\":{\"color\":\"rgb(17,17,17)\",\"width\":0.5},\"pattern\":{\"fillmode\":\"overlay\",\"size\":10,\"solidity\":0.2}},\"type\":\"bar\"}],\"scattergeo\":[{\"type\":\"scattergeo\",\"marker\":{\"colorbar\":{\"outlinewidth\":0,\"ticks\":\"\"}}}],\"scatterpolar\":[{\"type\":\"scatterpolar\",\"marker\":{\"colorbar\":{\"outlinewidth\":0,\"ticks\":\"\"}}}],\"histogram\":[{\"marker\":{\"pattern\":{\"fillmode\":\"overlay\",\"size\":10,\"solidity\":0.2}},\"type\":\"histogram\"}],\"scattergl\":[{\"marker\":{\"line\":{\"color\":\"#283442\"}},\"type\":\"scattergl\"}],\"scatter3d\":[{\"type\":\"scatter3d\",\"line\":{\"colorbar\":{\"outlinewidth\":0,\"ticks\":\"\"}},\"marker\":{\"colorbar\":{\"outlinewidth\":0,\"ticks\":\"\"}}}],\"scattermapbox\":[{\"type\":\"scattermapbox\",\"marker\":{\"colorbar\":{\"outlinewidth\":0,\"ticks\":\"\"}}}],\"scatterternary\":[{\"type\":\"scatterternary\",\"marker\":{\"colorbar\":{\"outlinewidth\":0,\"ticks\":\"\"}}}],\"scattercarpet\":[{\"type\":\"scattercarpet\",\"marker\":{\"colorbar\":{\"outlinewidth\":0,\"ticks\":\"\"}}}],\"carpet\":[{\"aaxis\":{\"endlinecolor\":\"#A2B1C6\",\"gridcolor\":\"#506784\",\"linecolor\":\"#506784\",\"minorgridcolor\":\"#506784\",\"startlinecolor\":\"#A2B1C6\"},\"baxis\":{\"endlinecolor\":\"#A2B1C6\",\"gridcolor\":\"#506784\",\"linecolor\":\"#506784\",\"minorgridcolor\":\"#506784\",\"startlinecolor\":\"#A2B1C6\"},\"type\":\"carpet\"}],\"table\":[{\"cells\":{\"fill\":{\"color\":\"#506784\"},\"line\":{\"color\":\"rgb(17,17,17)\"}},\"header\":{\"fill\":{\"color\":\"#2a3f5f\"},\"line\":{\"color\":\"rgb(17,17,17)\"}},\"type\":\"table\"}],\"barpolar\":[{\"marker\":{\"line\":{\"color\":\"rgb(17,17,17)\",\"width\":0.5},\"pattern\":{\"fillmode\":\"overlay\",\"size\":10,\"solidity\":0.2}},\"type\":\"barpolar\"}],\"pie\":[{\"automargin\":true,\"type\":\"pie\"}]},\"layout\":{\"autotypenumbers\":\"strict\",\"colorway\":[\"#636efa\",\"#EF553B\",\"#00cc96\",\"#ab63fa\",\"#FFA15A\",\"#19d3f3\",\"#FF6692\",\"#B6E880\",\"#FF97FF\",\"#FECB52\"],\"font\":{\"color\":\"#f2f5fa\"},\"hovermode\":\"closest\",\"hoverlabel\":{\"align\":\"left\"},\"paper_bgcolor\":\"rgb(17,17,17)\",\"plot_bgcolor\":\"rgb(17,17,17)\",\"polar\":{\"bgcolor\":\"rgb(17,17,17)\",\"angularaxis\":{\"gridcolor\":\"#506784\",\"linecolor\":\"#506784\",\"ticks\":\"\"},\"radialaxis\":{\"gridcolor\":\"#506784\",\"linecolor\":\"#506784\",\"ticks\":\"\"}},\"ternary\":{\"bgcolor\":\"rgb(17,17,17)\",\"aaxis\":{\"gridcolor\":\"#506784\",\"linecolor\":\"#506784\",\"ticks\":\"\"},\"baxis\":{\"gridcolor\":\"#506784\",\"linecolor\":\"#506784\",\"ticks\":\"\"},\"caxis\":{\"gridcolor\":\"#506784\",\"linecolor\":\"#506784\",\"ticks\":\"\"}},\"coloraxis\":{\"colorbar\":{\"outlinewidth\":0,\"ticks\":\"\"}},\"colorscale\":{\"sequential\":[[0.0,\"#0d0887\"],[0.1111111111111111,\"#46039f\"],[0.2222222222222222,\"#7201a8\"],[0.3333333333333333,\"#9c179e\"],[0.4444444444444444,\"#bd3786\"],[0.5555555555555556,\"#d8576b\"],[0.6666666666666666,\"#ed7953\"],[0.7777777777777778,\"#fb9f3a\"],[0.8888888888888888,\"#fdca26\"],[1.0,\"#f0f921\"]],\"sequentialminus\":[[0.0,\"#0d0887\"],[0.1111111111111111,\"#46039f\"],[0.2222222222222222,\"#7201a8\"],[0.3333333333333333,\"#9c179e\"],[0.4444444444444444,\"#bd3786\"],[0.5555555555555556,\"#d8576b\"],[0.6666666666666666,\"#ed7953\"],[0.7777777777777778,\"#fb9f3a\"],[0.8888888888888888,\"#fdca26\"],[1.0,\"#f0f921\"]],\"diverging\":[[0,\"#8e0152\"],[0.1,\"#c51b7d\"],[0.2,\"#de77ae\"],[0.3,\"#f1b6da\"],[0.4,\"#fde0ef\"],[0.5,\"#f7f7f7\"],[0.6,\"#e6f5d0\"],[0.7,\"#b8e186\"],[0.8,\"#7fbc41\"],[0.9,\"#4d9221\"],[1,\"#276419\"]]},\"xaxis\":{\"gridcolor\":\"#283442\",\"linecolor\":\"#506784\",\"ticks\":\"\",\"title\":{\"standoff\":15},\"zerolinecolor\":\"#283442\",\"automargin\":true,\"zerolinewidth\":2},\"yaxis\":{\"gridcolor\":\"#283442\",\"linecolor\":\"#506784\",\"ticks\":\"\",\"title\":{\"standoff\":15},\"zerolinecolor\":\"#283442\",\"automargin\":true,\"zerolinewidth\":2},\"scene\":{\"xaxis\":{\"backgroundcolor\":\"rgb(17,17,17)\",\"gridcolor\":\"#506784\",\"linecolor\":\"#506784\",\"showbackground\":true,\"ticks\":\"\",\"zerolinecolor\":\"#C8D4E3\",\"gridwidth\":2},\"yaxis\":{\"backgroundcolor\":\"rgb(17,17,17)\",\"gridcolor\":\"#506784\",\"linecolor\":\"#506784\",\"showbackground\":true,\"ticks\":\"\",\"zerolinecolor\":\"#C8D4E3\",\"gridwidth\":2},\"zaxis\":{\"backgroundcolor\":\"rgb(17,17,17)\",\"gridcolor\":\"#506784\",\"linecolor\":\"#506784\",\"showbackground\":true,\"ticks\":\"\",\"zerolinecolor\":\"#C8D4E3\",\"gridwidth\":2}},\"shapedefaults\":{\"line\":{\"color\":\"#f2f5fa\"}},\"annotationdefaults\":{\"arrowcolor\":\"#f2f5fa\",\"arrowhead\":0,\"arrowwidth\":1},\"geo\":{\"bgcolor\":\"rgb(17,17,17)\",\"landcolor\":\"rgb(17,17,17)\",\"subunitcolor\":\"#506784\",\"showland\":true,\"showlakes\":true,\"lakecolor\":\"rgb(17,17,17)\"},\"title\":{\"x\":0.05},\"updatemenudefaults\":{\"bgcolor\":\"#506784\",\"borderwidth\":0},\"sliderdefaults\":{\"bgcolor\":\"#C8D4E3\",\"borderwidth\":1,\"bordercolor\":\"rgb(17,17,17)\",\"tickwidth\":0},\"mapbox\":{\"style\":\"dark\"}}},\"xaxis\":{\"anchor\":\"y\",\"domain\":[0.0,1.0],\"title\":{\"text\":\"x\"}},\"yaxis\":{\"anchor\":\"x\",\"domain\":[0.0,1.0],\"title\":{\"text\":\"y\"}},\"legend\":{\"title\":{\"text\":\"color\"},\"tracegroupgap\":0},\"margin\":{\"t\":60},\"title\":{\"text\":\"Clustering top skills for Developer_back-end\"},\"height\":900,\"width\":1500},                        {\"responsive\": true}                    ).then(function(){\n                            \nvar gd = document.getElementById('0beb0eb9-e781-4baf-b3e2-534940f10ed4');\nvar x = new MutationObserver(function (mutations, observer) {{\n        var display = window.getComputedStyle(gd).display;\n        if (!display || display === 'none') {{\n            console.log([gd, 'removed!']);\n            Plotly.purge(gd);\n            observer.disconnect();\n        }}\n}});\n\n// Listen for the removal of the full notebook cells\nvar notebookContainer = gd.closest('#notebook-container');\nif (notebookContainer) {{\n    x.observe(notebookContainer, {childList: true});\n}}\n\n// Listen for the clearing of the current output cell\nvar outputEl = gd.closest('.output');\nif (outputEl) {{\n    x.observe(outputEl, {childList: true});\n}}\n\n                        })                };                });            </script>        </div>"
     },
     "metadata": {},
     "output_type": "display_data"
    }
   ],
   "source": [
    "# Here we need to split back-end developer, by also excluding Front-end and mobile roles\n",
    "back_end_skills = choose_most_related_skills(roles_type = [split_roles[1]], exclude_roles=['Developer_front-end', 'Developer_mobile'])\n",
    "back_end_tsne = reduce_dimensions(back_end_skills)\n",
    "best_k, best_labels_back_end = evaluate_cluster_model(back_end_tsne, range_clusters=range(2,10), plot = True)\n",
    "visualize_chosen_cluster_model(split_roles[1], back_end_tsne, best_labels_back_end)"
   ],
   "metadata": {
    "collapsed": false
   }
  },
  {
   "cell_type": "code",
   "execution_count": 800,
   "outputs": [
    {
     "name": "stdout",
     "output_type": "stream",
     "text": [
      "cluster_0 ['MySQL', 'jQuery', 'MariaDB', 'PHP', 'PhpStorm']\n",
      "cluster_1 ['AWS', 'PostgreSQL', 'Homebrew', 'Yarn', 'Ruby', 'Heroku', 'Ruby on Rails']\n",
      "cluster_2 ['Bash/Shell', 'Vim', 'C++', 'Rust', 'C', 'Neovim']\n",
      "cluster_3 ['Visual Studio Code', 'SQL', 'JavaScript', 'npm', 'HTML/CSS', 'TypeScript', 'Node.js', 'React.js', 'Express']\n",
      "cluster_4 ['C#', 'Visual Studio', 'Notepad++', 'Microsoft Azure', 'Microsoft SQL Server', '.NET', 'ASP.NET Core ', 'ASP.NET']\n",
      "cluster_5 ['MongoDB', 'Google Cloud', 'Sublime Text', 'Oracle', 'Ansible', 'Angular', 'Eclipse', 'PowerShell', 'Vue.js', 'DigitalOcean', 'IPython/Jupyter', 'Android Studio', 'Apache Spark', 'Rider', 'Cassandra', 'TensorFlow', 'Nano']\n",
      "cluster_6 ['Python', 'SQLite', 'PyCharm', 'NumPy', 'Pandas', 'Flask', 'Django', 'FastAPI']\n",
      "cluster_7 ['Docker', 'Kubernetes', 'Redis', 'Go', 'Elasticsearch', 'Apache Kafka', 'Terraform', 'DynamoDB', 'Kotlin', 'Emacs', 'Scala', 'GoLand', 'Groovy']\n",
      "cluster_8 ['IntelliJ', 'Java', 'Spring']\n"
     ]
    }
   ],
   "source": [
    "for label in sorted(set(best_labels_back_end)):\n",
    "    print(label, list(back_end_tsne[best_labels_back_end==label].index))\n"
   ],
   "metadata": {
    "collapsed": false
   }
  },
  {
   "cell_type": "code",
   "execution_count": 800,
   "outputs": [],
   "source": [],
   "metadata": {
    "collapsed": false
   }
  },
  {
   "cell_type": "code",
   "execution_count": 801,
   "outputs": [
    {
     "data": {
      "text/plain": "[['MySQL', 'jQuery', 'MariaDB', 'PHP', 'PhpStorm'],\n ['AWS', 'PostgreSQL', 'Homebrew', 'Yarn', 'Ruby', 'Heroku', 'Ruby on Rails'],\n ['Bash/Shell', 'Vim', 'C++', 'Rust', 'C', 'Neovim'],\n ['Node.js', 'React.js', 'Express'],\n ['C#',\n  'Visual Studio',\n  'Notepad++',\n  'Microsoft Azure',\n  'Microsoft SQL Server',\n  '.NET',\n  'ASP.NET Core ',\n  'ASP.NET'],\n ['Python',\n  'SQLite',\n  'PyCharm',\n  'NumPy',\n  'Pandas',\n  'Flask',\n  'Django',\n  'FastAPI'],\n ['IntelliJ', 'Java', 'Spring']]"
     },
     "execution_count": 801,
     "metadata": {},
     "output_type": "execute_result"
    }
   ],
   "source": [
    "# Filtering cluster results\n",
    "back_end_roles_skills = []\n",
    "for label in sorted(set(best_labels_back_end)):\n",
    "    # these clusters numbers are not specific for any full_stack developer, but it's general skills\n",
    "    if label in  [f'cluster_{i}' for i in [5, 7]]:\n",
    "        continue\n",
    "    cluster_labels = list(back_end_tsne[best_labels_back_end==label].index)\n",
    "    if label == 'cluster_3':\n",
    "        [cluster_labels.remove(item) for item in  ['JavaScript', 'Visual Studio Code', 'HTML/CSS', 'npm', 'SQL', 'TypeScript']]\n",
    "\n",
    "\n",
    "    back_end_roles_skills.append(cluster_labels)\n",
    "back_end_roles_skills"
   ],
   "metadata": {
    "collapsed": false
   }
  },
  {
   "cell_type": "code",
   "execution_count": 804,
   "outputs": [],
   "source": [
    "back_end_types = ['back_end_PHP', 'back_end_Ruby-on-Rails', 'back_end_C++', 'back_end_.JavaScript', 'back_end_.NET', 'back_end_python', 'back_end_Java']"
   ],
   "metadata": {
    "collapsed": false
   }
  },
  {
   "cell_type": "code",
   "execution_count": 808,
   "outputs": [
    {
     "name": "stdout",
     "output_type": "stream",
     "text": [
      "18692\n",
      "cluster_0:  6669\n",
      "cluster_1:  7846\n",
      "cluster_2:  6368\n",
      "cluster_3:  5981\n",
      "cluster_4:  5425\n",
      "cluster_5:  6254\n",
      "cluster_6:  6291\n"
     ]
    }
   ],
   "source": [
    "is_back_end = skills_dev_df['DevType']['Developer_back-end'] == 1\n",
    "print(is_back_end.sum())\n",
    "back_end_roles = {}\n",
    "for i, cluster_labels in enumerate(back_end_roles_skills):\n",
    "\n",
    "    total_skills = skills_dev_df.droplevel(level=0, axis = 1)[cluster_labels].sum(axis=1)\n",
    "    is_back_end_specific_type = total_skills > total_skills.mean()\n",
    "    print(f'cluster_{i}: ', (is_back_end & is_back_end_specific_type).sum())\n",
    "    back_end_roles[back_end_types[i]] = is_back_end & is_back_end_specific_type"
   ],
   "metadata": {
    "collapsed": false
   }
  },
  {
   "cell_type": "code",
   "execution_count": 809,
   "outputs": [
    {
     "data": {
      "text/plain": "       back_end_PHP  back_end_Ruby-on-Rails  back_end_C++  \\\n2             False                   False         False   \n3             False                   False         False   \n7             False                   False         False   \n9             False                   False         False   \n10            False                   False         False   \n...             ...                     ...           ...   \n73262         False                   False         False   \n73263          True                    True          True   \n73264         False                   False         False   \n73265         False                   False         False   \n73266         False                   False         False   \n\n       back_end_.JavaScript  back_end_.NET  back_end_python  back_end_Java  \\\n2                     False          False            False          False   \n3                     False          False            False          False   \n7                     False          False            False          False   \n9                     False          False            False          False   \n10                    False           True            False          False   \n...                     ...            ...              ...            ...   \n73262                 False          False            False          False   \n73263                  True          False             True          False   \n73264                 False          False            False          False   \n73265                 False          False            False          False   \n73266                 False          False            False          False   \n\n       Developer_back-end  \n2                   False  \n3                   False  \n7                   False  \n9                   False  \n10                   True  \n...                   ...  \n73262               False  \n73263                True  \n73264               False  \n73265               False  \n73266               False  \n\n[50423 rows x 8 columns]",
      "text/html": "<div>\n<style scoped>\n    .dataframe tbody tr th:only-of-type {\n        vertical-align: middle;\n    }\n\n    .dataframe tbody tr th {\n        vertical-align: top;\n    }\n\n    .dataframe thead th {\n        text-align: right;\n    }\n</style>\n<table border=\"1\" class=\"dataframe\">\n  <thead>\n    <tr style=\"text-align: right;\">\n      <th></th>\n      <th>back_end_PHP</th>\n      <th>back_end_Ruby-on-Rails</th>\n      <th>back_end_C++</th>\n      <th>back_end_.JavaScript</th>\n      <th>back_end_.NET</th>\n      <th>back_end_python</th>\n      <th>back_end_Java</th>\n      <th>Developer_back-end</th>\n    </tr>\n  </thead>\n  <tbody>\n    <tr>\n      <th>2</th>\n      <td>False</td>\n      <td>False</td>\n      <td>False</td>\n      <td>False</td>\n      <td>False</td>\n      <td>False</td>\n      <td>False</td>\n      <td>False</td>\n    </tr>\n    <tr>\n      <th>3</th>\n      <td>False</td>\n      <td>False</td>\n      <td>False</td>\n      <td>False</td>\n      <td>False</td>\n      <td>False</td>\n      <td>False</td>\n      <td>False</td>\n    </tr>\n    <tr>\n      <th>7</th>\n      <td>False</td>\n      <td>False</td>\n      <td>False</td>\n      <td>False</td>\n      <td>False</td>\n      <td>False</td>\n      <td>False</td>\n      <td>False</td>\n    </tr>\n    <tr>\n      <th>9</th>\n      <td>False</td>\n      <td>False</td>\n      <td>False</td>\n      <td>False</td>\n      <td>False</td>\n      <td>False</td>\n      <td>False</td>\n      <td>False</td>\n    </tr>\n    <tr>\n      <th>10</th>\n      <td>False</td>\n      <td>False</td>\n      <td>False</td>\n      <td>False</td>\n      <td>True</td>\n      <td>False</td>\n      <td>False</td>\n      <td>True</td>\n    </tr>\n    <tr>\n      <th>...</th>\n      <td>...</td>\n      <td>...</td>\n      <td>...</td>\n      <td>...</td>\n      <td>...</td>\n      <td>...</td>\n      <td>...</td>\n      <td>...</td>\n    </tr>\n    <tr>\n      <th>73262</th>\n      <td>False</td>\n      <td>False</td>\n      <td>False</td>\n      <td>False</td>\n      <td>False</td>\n      <td>False</td>\n      <td>False</td>\n      <td>False</td>\n    </tr>\n    <tr>\n      <th>73263</th>\n      <td>True</td>\n      <td>True</td>\n      <td>True</td>\n      <td>True</td>\n      <td>False</td>\n      <td>True</td>\n      <td>False</td>\n      <td>True</td>\n    </tr>\n    <tr>\n      <th>73264</th>\n      <td>False</td>\n      <td>False</td>\n      <td>False</td>\n      <td>False</td>\n      <td>False</td>\n      <td>False</td>\n      <td>False</td>\n      <td>False</td>\n    </tr>\n    <tr>\n      <th>73265</th>\n      <td>False</td>\n      <td>False</td>\n      <td>False</td>\n      <td>False</td>\n      <td>False</td>\n      <td>False</td>\n      <td>False</td>\n      <td>False</td>\n    </tr>\n    <tr>\n      <th>73266</th>\n      <td>False</td>\n      <td>False</td>\n      <td>False</td>\n      <td>False</td>\n      <td>False</td>\n      <td>False</td>\n      <td>False</td>\n      <td>False</td>\n    </tr>\n  </tbody>\n</table>\n<p>50423 rows × 8 columns</p>\n</div>"
     },
     "execution_count": 809,
     "metadata": {},
     "output_type": "execute_result"
    }
   ],
   "source": [
    "back_end_roles_df = pd.concat(back_end_roles, axis = 1)\n",
    "back_end_roles_df = pd.concat([back_end_roles_df,is_back_end], axis = 1)\n",
    "back_end_roles_df\n"
   ],
   "metadata": {
    "collapsed": false
   }
  },
  {
   "cell_type": "code",
   "execution_count": 810,
   "outputs": [
    {
     "data": {
      "text/plain": "3177"
     },
     "execution_count": 810,
     "metadata": {},
     "output_type": "execute_result"
    }
   ],
   "source": [
    "(back_end_roles_df.iloc[back_end_roles_df['Developer_back-end'].values,:-1].sum(axis=1) ==0).sum()"
   ],
   "metadata": {
    "collapsed": false
   }
  },
  {
   "cell_type": "code",
   "execution_count": 811,
   "outputs": [
    {
     "data": {
      "text/plain": "           DevType                                                           \\\n      back_end_PHP back_end_Ruby-on-Rails back_end_C++ back_end_.JavaScript   \n2                0                      0            0                    0   \n3                0                      0            0                    0   \n7                0                      0            0                    0   \n9                0                      0            0                    0   \n10               0                      0            0                    0   \n...            ...                    ...          ...                  ...   \n73262            0                      0            0                    0   \n73263            1                      1            1                    1   \n73264            0                      0            0                    0   \n73265            0                      0            0                    0   \n73266            0                      0            0                    0   \n\n                                                                    \n      back_end_.NET back_end_python back_end_Java back_end_general  \n2                 0               0             0                0  \n3                 0               0             0                0  \n7                 0               0             0                0  \n9                 0               0             0                0  \n10                1               0             0                1  \n...             ...             ...           ...              ...  \n73262             0               0             0                0  \n73263             0               1             0                1  \n73264             0               0             0                0  \n73265             0               0             0                0  \n73266             0               0             0                0  \n\n[50423 rows x 8 columns]",
      "text/html": "<div>\n<style scoped>\n    .dataframe tbody tr th:only-of-type {\n        vertical-align: middle;\n    }\n\n    .dataframe tbody tr th {\n        vertical-align: top;\n    }\n\n    .dataframe thead tr th {\n        text-align: left;\n    }\n</style>\n<table border=\"1\" class=\"dataframe\">\n  <thead>\n    <tr>\n      <th></th>\n      <th colspan=\"8\" halign=\"left\">DevType</th>\n    </tr>\n    <tr>\n      <th></th>\n      <th>back_end_PHP</th>\n      <th>back_end_Ruby-on-Rails</th>\n      <th>back_end_C++</th>\n      <th>back_end_.JavaScript</th>\n      <th>back_end_.NET</th>\n      <th>back_end_python</th>\n      <th>back_end_Java</th>\n      <th>back_end_general</th>\n    </tr>\n  </thead>\n  <tbody>\n    <tr>\n      <th>2</th>\n      <td>0</td>\n      <td>0</td>\n      <td>0</td>\n      <td>0</td>\n      <td>0</td>\n      <td>0</td>\n      <td>0</td>\n      <td>0</td>\n    </tr>\n    <tr>\n      <th>3</th>\n      <td>0</td>\n      <td>0</td>\n      <td>0</td>\n      <td>0</td>\n      <td>0</td>\n      <td>0</td>\n      <td>0</td>\n      <td>0</td>\n    </tr>\n    <tr>\n      <th>7</th>\n      <td>0</td>\n      <td>0</td>\n      <td>0</td>\n      <td>0</td>\n      <td>0</td>\n      <td>0</td>\n      <td>0</td>\n      <td>0</td>\n    </tr>\n    <tr>\n      <th>9</th>\n      <td>0</td>\n      <td>0</td>\n      <td>0</td>\n      <td>0</td>\n      <td>0</td>\n      <td>0</td>\n      <td>0</td>\n      <td>0</td>\n    </tr>\n    <tr>\n      <th>10</th>\n      <td>0</td>\n      <td>0</td>\n      <td>0</td>\n      <td>0</td>\n      <td>1</td>\n      <td>0</td>\n      <td>0</td>\n      <td>1</td>\n    </tr>\n    <tr>\n      <th>...</th>\n      <td>...</td>\n      <td>...</td>\n      <td>...</td>\n      <td>...</td>\n      <td>...</td>\n      <td>...</td>\n      <td>...</td>\n      <td>...</td>\n    </tr>\n    <tr>\n      <th>73262</th>\n      <td>0</td>\n      <td>0</td>\n      <td>0</td>\n      <td>0</td>\n      <td>0</td>\n      <td>0</td>\n      <td>0</td>\n      <td>0</td>\n    </tr>\n    <tr>\n      <th>73263</th>\n      <td>1</td>\n      <td>1</td>\n      <td>1</td>\n      <td>1</td>\n      <td>0</td>\n      <td>1</td>\n      <td>0</td>\n      <td>1</td>\n    </tr>\n    <tr>\n      <th>73264</th>\n      <td>0</td>\n      <td>0</td>\n      <td>0</td>\n      <td>0</td>\n      <td>0</td>\n      <td>0</td>\n      <td>0</td>\n      <td>0</td>\n    </tr>\n    <tr>\n      <th>73265</th>\n      <td>0</td>\n      <td>0</td>\n      <td>0</td>\n      <td>0</td>\n      <td>0</td>\n      <td>0</td>\n      <td>0</td>\n      <td>0</td>\n    </tr>\n    <tr>\n      <th>73266</th>\n      <td>0</td>\n      <td>0</td>\n      <td>0</td>\n      <td>0</td>\n      <td>0</td>\n      <td>0</td>\n      <td>0</td>\n      <td>0</td>\n    </tr>\n  </tbody>\n</table>\n<p>50423 rows × 8 columns</p>\n</div>"
     },
     "execution_count": 811,
     "metadata": {},
     "output_type": "execute_result"
    }
   ],
   "source": [
    "back_end_roles_df = back_end_roles_df.rename(columns = {'Developer_back-end': 'back_end_general'})\n",
    "back_end_roles_df.columns = pd.MultiIndex.from_product([['DevType'], back_end_roles_df.columns])\n",
    "back_end_roles_df = back_end_roles_df.astype(int)\n",
    "back_end_roles_df"
   ],
   "metadata": {
    "collapsed": false
   }
  },
  {
   "cell_type": "markdown",
   "source": [
    "---------------------"
   ],
   "metadata": {
    "collapsed": false
   }
  },
  {
   "cell_type": "markdown",
   "source": [],
   "metadata": {
    "collapsed": false
   }
  },
  {
   "cell_type": "markdown",
   "source": [
    "# 3. Clustering similar skills"
   ],
   "metadata": {
    "collapsed": false
   }
  },
  {
   "cell_type": "code",
   "execution_count": 872,
   "outputs": [
    {
     "data": {
      "application/vnd.plotly.v1+json": {
       "data": [
        {
         "hovertemplate": "x=%{x}<br>y=%{y}<extra></extra>",
         "legendgroup": "",
         "line": {
          "color": "#636efa",
          "dash": "solid"
         },
         "marker": {
          "symbol": "circle"
         },
         "mode": "lines",
         "name": "",
         "orientation": "v",
         "showlegend": false,
         "x": [
          5,
          6,
          7,
          8,
          9,
          10,
          11,
          12,
          13,
          14,
          15,
          16,
          17,
          18,
          19,
          20,
          21,
          22,
          23,
          24,
          25,
          26,
          27,
          28,
          29,
          30,
          31,
          32,
          33,
          34,
          35,
          36,
          37,
          38,
          39,
          40,
          41,
          42,
          43,
          44,
          45,
          46,
          47,
          48,
          49
         ],
         "xaxis": "x",
         "y": [
          0.37674906849861145,
          0.4050258994102478,
          0.4375094771385193,
          0.4064689874649048,
          0.42327985167503357,
          0.4327040910720825,
          0.40411001443862915,
          0.41926565766334534,
          0.41658157110214233,
          0.43432947993278503,
          0.4444431662559509,
          0.4279138743877411,
          0.44124171137809753,
          0.43451666831970215,
          0.4200482964515686,
          0.4072807729244232,
          0.4265771806240082,
          0.42250487208366394,
          0.42839017510414124,
          0.43724074959754944,
          0.4540950357913971,
          0.44525012373924255,
          0.445257306098938,
          0.452725887298584,
          0.4572877585887909,
          0.45239531993865967,
          0.4642859399318695,
          0.46375948190689087,
          0.47064369916915894,
          0.4890669286251068,
          0.5021972060203552,
          0.5097254514694214,
          0.5148832201957703,
          0.5194719433784485,
          0.5130016207695007,
          0.5250839591026306,
          0.5160425901412964,
          0.5247810482978821,
          0.534540593624115,
          0.5381655693054199,
          0.5494765639305115,
          0.5504193305969238,
          0.5552762150764465,
          0.5552445650100708,
          0.5523437857627869
         ],
         "yaxis": "y",
         "type": "scatter"
        }
       ],
       "layout": {
        "template": {
         "data": {
          "histogram2dcontour": [
           {
            "type": "histogram2dcontour",
            "colorbar": {
             "outlinewidth": 0,
             "ticks": ""
            },
            "colorscale": [
             [
              0.0,
              "#0d0887"
             ],
             [
              0.1111111111111111,
              "#46039f"
             ],
             [
              0.2222222222222222,
              "#7201a8"
             ],
             [
              0.3333333333333333,
              "#9c179e"
             ],
             [
              0.4444444444444444,
              "#bd3786"
             ],
             [
              0.5555555555555556,
              "#d8576b"
             ],
             [
              0.6666666666666666,
              "#ed7953"
             ],
             [
              0.7777777777777778,
              "#fb9f3a"
             ],
             [
              0.8888888888888888,
              "#fdca26"
             ],
             [
              1.0,
              "#f0f921"
             ]
            ]
           }
          ],
          "choropleth": [
           {
            "type": "choropleth",
            "colorbar": {
             "outlinewidth": 0,
             "ticks": ""
            }
           }
          ],
          "histogram2d": [
           {
            "type": "histogram2d",
            "colorbar": {
             "outlinewidth": 0,
             "ticks": ""
            },
            "colorscale": [
             [
              0.0,
              "#0d0887"
             ],
             [
              0.1111111111111111,
              "#46039f"
             ],
             [
              0.2222222222222222,
              "#7201a8"
             ],
             [
              0.3333333333333333,
              "#9c179e"
             ],
             [
              0.4444444444444444,
              "#bd3786"
             ],
             [
              0.5555555555555556,
              "#d8576b"
             ],
             [
              0.6666666666666666,
              "#ed7953"
             ],
             [
              0.7777777777777778,
              "#fb9f3a"
             ],
             [
              0.8888888888888888,
              "#fdca26"
             ],
             [
              1.0,
              "#f0f921"
             ]
            ]
           }
          ],
          "heatmap": [
           {
            "type": "heatmap",
            "colorbar": {
             "outlinewidth": 0,
             "ticks": ""
            },
            "colorscale": [
             [
              0.0,
              "#0d0887"
             ],
             [
              0.1111111111111111,
              "#46039f"
             ],
             [
              0.2222222222222222,
              "#7201a8"
             ],
             [
              0.3333333333333333,
              "#9c179e"
             ],
             [
              0.4444444444444444,
              "#bd3786"
             ],
             [
              0.5555555555555556,
              "#d8576b"
             ],
             [
              0.6666666666666666,
              "#ed7953"
             ],
             [
              0.7777777777777778,
              "#fb9f3a"
             ],
             [
              0.8888888888888888,
              "#fdca26"
             ],
             [
              1.0,
              "#f0f921"
             ]
            ]
           }
          ],
          "heatmapgl": [
           {
            "type": "heatmapgl",
            "colorbar": {
             "outlinewidth": 0,
             "ticks": ""
            },
            "colorscale": [
             [
              0.0,
              "#0d0887"
             ],
             [
              0.1111111111111111,
              "#46039f"
             ],
             [
              0.2222222222222222,
              "#7201a8"
             ],
             [
              0.3333333333333333,
              "#9c179e"
             ],
             [
              0.4444444444444444,
              "#bd3786"
             ],
             [
              0.5555555555555556,
              "#d8576b"
             ],
             [
              0.6666666666666666,
              "#ed7953"
             ],
             [
              0.7777777777777778,
              "#fb9f3a"
             ],
             [
              0.8888888888888888,
              "#fdca26"
             ],
             [
              1.0,
              "#f0f921"
             ]
            ]
           }
          ],
          "contourcarpet": [
           {
            "type": "contourcarpet",
            "colorbar": {
             "outlinewidth": 0,
             "ticks": ""
            }
           }
          ],
          "contour": [
           {
            "type": "contour",
            "colorbar": {
             "outlinewidth": 0,
             "ticks": ""
            },
            "colorscale": [
             [
              0.0,
              "#0d0887"
             ],
             [
              0.1111111111111111,
              "#46039f"
             ],
             [
              0.2222222222222222,
              "#7201a8"
             ],
             [
              0.3333333333333333,
              "#9c179e"
             ],
             [
              0.4444444444444444,
              "#bd3786"
             ],
             [
              0.5555555555555556,
              "#d8576b"
             ],
             [
              0.6666666666666666,
              "#ed7953"
             ],
             [
              0.7777777777777778,
              "#fb9f3a"
             ],
             [
              0.8888888888888888,
              "#fdca26"
             ],
             [
              1.0,
              "#f0f921"
             ]
            ]
           }
          ],
          "surface": [
           {
            "type": "surface",
            "colorbar": {
             "outlinewidth": 0,
             "ticks": ""
            },
            "colorscale": [
             [
              0.0,
              "#0d0887"
             ],
             [
              0.1111111111111111,
              "#46039f"
             ],
             [
              0.2222222222222222,
              "#7201a8"
             ],
             [
              0.3333333333333333,
              "#9c179e"
             ],
             [
              0.4444444444444444,
              "#bd3786"
             ],
             [
              0.5555555555555556,
              "#d8576b"
             ],
             [
              0.6666666666666666,
              "#ed7953"
             ],
             [
              0.7777777777777778,
              "#fb9f3a"
             ],
             [
              0.8888888888888888,
              "#fdca26"
             ],
             [
              1.0,
              "#f0f921"
             ]
            ]
           }
          ],
          "mesh3d": [
           {
            "type": "mesh3d",
            "colorbar": {
             "outlinewidth": 0,
             "ticks": ""
            }
           }
          ],
          "scatter": [
           {
            "marker": {
             "line": {
              "color": "#283442"
             }
            },
            "type": "scatter"
           }
          ],
          "parcoords": [
           {
            "type": "parcoords",
            "line": {
             "colorbar": {
              "outlinewidth": 0,
              "ticks": ""
             }
            }
           }
          ],
          "scatterpolargl": [
           {
            "type": "scatterpolargl",
            "marker": {
             "colorbar": {
              "outlinewidth": 0,
              "ticks": ""
             }
            }
           }
          ],
          "bar": [
           {
            "error_x": {
             "color": "#f2f5fa"
            },
            "error_y": {
             "color": "#f2f5fa"
            },
            "marker": {
             "line": {
              "color": "rgb(17,17,17)",
              "width": 0.5
             },
             "pattern": {
              "fillmode": "overlay",
              "size": 10,
              "solidity": 0.2
             }
            },
            "type": "bar"
           }
          ],
          "scattergeo": [
           {
            "type": "scattergeo",
            "marker": {
             "colorbar": {
              "outlinewidth": 0,
              "ticks": ""
             }
            }
           }
          ],
          "scatterpolar": [
           {
            "type": "scatterpolar",
            "marker": {
             "colorbar": {
              "outlinewidth": 0,
              "ticks": ""
             }
            }
           }
          ],
          "histogram": [
           {
            "marker": {
             "pattern": {
              "fillmode": "overlay",
              "size": 10,
              "solidity": 0.2
             }
            },
            "type": "histogram"
           }
          ],
          "scattergl": [
           {
            "marker": {
             "line": {
              "color": "#283442"
             }
            },
            "type": "scattergl"
           }
          ],
          "scatter3d": [
           {
            "type": "scatter3d",
            "line": {
             "colorbar": {
              "outlinewidth": 0,
              "ticks": ""
             }
            },
            "marker": {
             "colorbar": {
              "outlinewidth": 0,
              "ticks": ""
             }
            }
           }
          ],
          "scattermapbox": [
           {
            "type": "scattermapbox",
            "marker": {
             "colorbar": {
              "outlinewidth": 0,
              "ticks": ""
             }
            }
           }
          ],
          "scatterternary": [
           {
            "type": "scatterternary",
            "marker": {
             "colorbar": {
              "outlinewidth": 0,
              "ticks": ""
             }
            }
           }
          ],
          "scattercarpet": [
           {
            "type": "scattercarpet",
            "marker": {
             "colorbar": {
              "outlinewidth": 0,
              "ticks": ""
             }
            }
           }
          ],
          "carpet": [
           {
            "aaxis": {
             "endlinecolor": "#A2B1C6",
             "gridcolor": "#506784",
             "linecolor": "#506784",
             "minorgridcolor": "#506784",
             "startlinecolor": "#A2B1C6"
            },
            "baxis": {
             "endlinecolor": "#A2B1C6",
             "gridcolor": "#506784",
             "linecolor": "#506784",
             "minorgridcolor": "#506784",
             "startlinecolor": "#A2B1C6"
            },
            "type": "carpet"
           }
          ],
          "table": [
           {
            "cells": {
             "fill": {
              "color": "#506784"
             },
             "line": {
              "color": "rgb(17,17,17)"
             }
            },
            "header": {
             "fill": {
              "color": "#2a3f5f"
             },
             "line": {
              "color": "rgb(17,17,17)"
             }
            },
            "type": "table"
           }
          ],
          "barpolar": [
           {
            "marker": {
             "line": {
              "color": "rgb(17,17,17)",
              "width": 0.5
             },
             "pattern": {
              "fillmode": "overlay",
              "size": 10,
              "solidity": 0.2
             }
            },
            "type": "barpolar"
           }
          ],
          "pie": [
           {
            "automargin": true,
            "type": "pie"
           }
          ]
         },
         "layout": {
          "autotypenumbers": "strict",
          "colorway": [
           "#636efa",
           "#EF553B",
           "#00cc96",
           "#ab63fa",
           "#FFA15A",
           "#19d3f3",
           "#FF6692",
           "#B6E880",
           "#FF97FF",
           "#FECB52"
          ],
          "font": {
           "color": "#f2f5fa"
          },
          "hovermode": "closest",
          "hoverlabel": {
           "align": "left"
          },
          "paper_bgcolor": "rgb(17,17,17)",
          "plot_bgcolor": "rgb(17,17,17)",
          "polar": {
           "bgcolor": "rgb(17,17,17)",
           "angularaxis": {
            "gridcolor": "#506784",
            "linecolor": "#506784",
            "ticks": ""
           },
           "radialaxis": {
            "gridcolor": "#506784",
            "linecolor": "#506784",
            "ticks": ""
           }
          },
          "ternary": {
           "bgcolor": "rgb(17,17,17)",
           "aaxis": {
            "gridcolor": "#506784",
            "linecolor": "#506784",
            "ticks": ""
           },
           "baxis": {
            "gridcolor": "#506784",
            "linecolor": "#506784",
            "ticks": ""
           },
           "caxis": {
            "gridcolor": "#506784",
            "linecolor": "#506784",
            "ticks": ""
           }
          },
          "coloraxis": {
           "colorbar": {
            "outlinewidth": 0,
            "ticks": ""
           }
          },
          "colorscale": {
           "sequential": [
            [
             0.0,
             "#0d0887"
            ],
            [
             0.1111111111111111,
             "#46039f"
            ],
            [
             0.2222222222222222,
             "#7201a8"
            ],
            [
             0.3333333333333333,
             "#9c179e"
            ],
            [
             0.4444444444444444,
             "#bd3786"
            ],
            [
             0.5555555555555556,
             "#d8576b"
            ],
            [
             0.6666666666666666,
             "#ed7953"
            ],
            [
             0.7777777777777778,
             "#fb9f3a"
            ],
            [
             0.8888888888888888,
             "#fdca26"
            ],
            [
             1.0,
             "#f0f921"
            ]
           ],
           "sequentialminus": [
            [
             0.0,
             "#0d0887"
            ],
            [
             0.1111111111111111,
             "#46039f"
            ],
            [
             0.2222222222222222,
             "#7201a8"
            ],
            [
             0.3333333333333333,
             "#9c179e"
            ],
            [
             0.4444444444444444,
             "#bd3786"
            ],
            [
             0.5555555555555556,
             "#d8576b"
            ],
            [
             0.6666666666666666,
             "#ed7953"
            ],
            [
             0.7777777777777778,
             "#fb9f3a"
            ],
            [
             0.8888888888888888,
             "#fdca26"
            ],
            [
             1.0,
             "#f0f921"
            ]
           ],
           "diverging": [
            [
             0,
             "#8e0152"
            ],
            [
             0.1,
             "#c51b7d"
            ],
            [
             0.2,
             "#de77ae"
            ],
            [
             0.3,
             "#f1b6da"
            ],
            [
             0.4,
             "#fde0ef"
            ],
            [
             0.5,
             "#f7f7f7"
            ],
            [
             0.6,
             "#e6f5d0"
            ],
            [
             0.7,
             "#b8e186"
            ],
            [
             0.8,
             "#7fbc41"
            ],
            [
             0.9,
             "#4d9221"
            ],
            [
             1,
             "#276419"
            ]
           ]
          },
          "xaxis": {
           "gridcolor": "#283442",
           "linecolor": "#506784",
           "ticks": "",
           "title": {
            "standoff": 15
           },
           "zerolinecolor": "#283442",
           "automargin": true,
           "zerolinewidth": 2
          },
          "yaxis": {
           "gridcolor": "#283442",
           "linecolor": "#506784",
           "ticks": "",
           "title": {
            "standoff": 15
           },
           "zerolinecolor": "#283442",
           "automargin": true,
           "zerolinewidth": 2
          },
          "scene": {
           "xaxis": {
            "backgroundcolor": "rgb(17,17,17)",
            "gridcolor": "#506784",
            "linecolor": "#506784",
            "showbackground": true,
            "ticks": "",
            "zerolinecolor": "#C8D4E3",
            "gridwidth": 2
           },
           "yaxis": {
            "backgroundcolor": "rgb(17,17,17)",
            "gridcolor": "#506784",
            "linecolor": "#506784",
            "showbackground": true,
            "ticks": "",
            "zerolinecolor": "#C8D4E3",
            "gridwidth": 2
           },
           "zaxis": {
            "backgroundcolor": "rgb(17,17,17)",
            "gridcolor": "#506784",
            "linecolor": "#506784",
            "showbackground": true,
            "ticks": "",
            "zerolinecolor": "#C8D4E3",
            "gridwidth": 2
           }
          },
          "shapedefaults": {
           "line": {
            "color": "#f2f5fa"
           }
          },
          "annotationdefaults": {
           "arrowcolor": "#f2f5fa",
           "arrowhead": 0,
           "arrowwidth": 1
          },
          "geo": {
           "bgcolor": "rgb(17,17,17)",
           "landcolor": "rgb(17,17,17)",
           "subunitcolor": "#506784",
           "showland": true,
           "showlakes": true,
           "lakecolor": "rgb(17,17,17)"
          },
          "title": {
           "x": 0.05
          },
          "updatemenudefaults": {
           "bgcolor": "#506784",
           "borderwidth": 0
          },
          "sliderdefaults": {
           "bgcolor": "#C8D4E3",
           "borderwidth": 1,
           "bordercolor": "rgb(17,17,17)",
           "tickwidth": 0
          },
          "mapbox": {
           "style": "dark"
          }
         }
        },
        "xaxis": {
         "anchor": "y",
         "domain": [
          0.0,
          1.0
         ],
         "title": {
          "text": "x"
         }
        },
        "yaxis": {
         "anchor": "x",
         "domain": [
          0.0,
          1.0
         ],
         "title": {
          "text": "y"
         }
        },
        "legend": {
         "tracegroupgap": 0
        },
        "margin": {
         "t": 60
        },
        "shapes": [
         {
          "type": "line",
          "x0": 47,
          "x1": 47,
          "xref": "x",
          "y0": 0,
          "y1": 1,
          "yref": "y domain"
         }
        ],
        "height": 450,
        "width": 900,
        "title": {
         "text": "Silhouette Score"
        }
       },
       "config": {
        "plotlyServerURL": "https://plot.ly"
       }
      },
      "text/html": "<div>                            <div id=\"2fed77a6-bdb1-4162-b133-dd35c5f0e315\" class=\"plotly-graph-div\" style=\"height:450px; width:900px;\"></div>            <script type=\"text/javascript\">                require([\"plotly\"], function(Plotly) {                    window.PLOTLYENV=window.PLOTLYENV || {};                                    if (document.getElementById(\"2fed77a6-bdb1-4162-b133-dd35c5f0e315\")) {                    Plotly.newPlot(                        \"2fed77a6-bdb1-4162-b133-dd35c5f0e315\",                        [{\"hovertemplate\":\"x=%{x}<br>y=%{y}<extra></extra>\",\"legendgroup\":\"\",\"line\":{\"color\":\"#636efa\",\"dash\":\"solid\"},\"marker\":{\"symbol\":\"circle\"},\"mode\":\"lines\",\"name\":\"\",\"orientation\":\"v\",\"showlegend\":false,\"x\":[5,6,7,8,9,10,11,12,13,14,15,16,17,18,19,20,21,22,23,24,25,26,27,28,29,30,31,32,33,34,35,36,37,38,39,40,41,42,43,44,45,46,47,48,49],\"xaxis\":\"x\",\"y\":[0.37674906849861145,0.4050258994102478,0.4375094771385193,0.4064689874649048,0.42327985167503357,0.4327040910720825,0.40411001443862915,0.41926565766334534,0.41658157110214233,0.43432947993278503,0.4444431662559509,0.4279138743877411,0.44124171137809753,0.43451666831970215,0.4200482964515686,0.4072807729244232,0.4265771806240082,0.42250487208366394,0.42839017510414124,0.43724074959754944,0.4540950357913971,0.44525012373924255,0.445257306098938,0.452725887298584,0.4572877585887909,0.45239531993865967,0.4642859399318695,0.46375948190689087,0.47064369916915894,0.4890669286251068,0.5021972060203552,0.5097254514694214,0.5148832201957703,0.5194719433784485,0.5130016207695007,0.5250839591026306,0.5160425901412964,0.5247810482978821,0.534540593624115,0.5381655693054199,0.5494765639305115,0.5504193305969238,0.5552762150764465,0.5552445650100708,0.5523437857627869],\"yaxis\":\"y\",\"type\":\"scatter\"}],                        {\"template\":{\"data\":{\"histogram2dcontour\":[{\"type\":\"histogram2dcontour\",\"colorbar\":{\"outlinewidth\":0,\"ticks\":\"\"},\"colorscale\":[[0.0,\"#0d0887\"],[0.1111111111111111,\"#46039f\"],[0.2222222222222222,\"#7201a8\"],[0.3333333333333333,\"#9c179e\"],[0.4444444444444444,\"#bd3786\"],[0.5555555555555556,\"#d8576b\"],[0.6666666666666666,\"#ed7953\"],[0.7777777777777778,\"#fb9f3a\"],[0.8888888888888888,\"#fdca26\"],[1.0,\"#f0f921\"]]}],\"choropleth\":[{\"type\":\"choropleth\",\"colorbar\":{\"outlinewidth\":0,\"ticks\":\"\"}}],\"histogram2d\":[{\"type\":\"histogram2d\",\"colorbar\":{\"outlinewidth\":0,\"ticks\":\"\"},\"colorscale\":[[0.0,\"#0d0887\"],[0.1111111111111111,\"#46039f\"],[0.2222222222222222,\"#7201a8\"],[0.3333333333333333,\"#9c179e\"],[0.4444444444444444,\"#bd3786\"],[0.5555555555555556,\"#d8576b\"],[0.6666666666666666,\"#ed7953\"],[0.7777777777777778,\"#fb9f3a\"],[0.8888888888888888,\"#fdca26\"],[1.0,\"#f0f921\"]]}],\"heatmap\":[{\"type\":\"heatmap\",\"colorbar\":{\"outlinewidth\":0,\"ticks\":\"\"},\"colorscale\":[[0.0,\"#0d0887\"],[0.1111111111111111,\"#46039f\"],[0.2222222222222222,\"#7201a8\"],[0.3333333333333333,\"#9c179e\"],[0.4444444444444444,\"#bd3786\"],[0.5555555555555556,\"#d8576b\"],[0.6666666666666666,\"#ed7953\"],[0.7777777777777778,\"#fb9f3a\"],[0.8888888888888888,\"#fdca26\"],[1.0,\"#f0f921\"]]}],\"heatmapgl\":[{\"type\":\"heatmapgl\",\"colorbar\":{\"outlinewidth\":0,\"ticks\":\"\"},\"colorscale\":[[0.0,\"#0d0887\"],[0.1111111111111111,\"#46039f\"],[0.2222222222222222,\"#7201a8\"],[0.3333333333333333,\"#9c179e\"],[0.4444444444444444,\"#bd3786\"],[0.5555555555555556,\"#d8576b\"],[0.6666666666666666,\"#ed7953\"],[0.7777777777777778,\"#fb9f3a\"],[0.8888888888888888,\"#fdca26\"],[1.0,\"#f0f921\"]]}],\"contourcarpet\":[{\"type\":\"contourcarpet\",\"colorbar\":{\"outlinewidth\":0,\"ticks\":\"\"}}],\"contour\":[{\"type\":\"contour\",\"colorbar\":{\"outlinewidth\":0,\"ticks\":\"\"},\"colorscale\":[[0.0,\"#0d0887\"],[0.1111111111111111,\"#46039f\"],[0.2222222222222222,\"#7201a8\"],[0.3333333333333333,\"#9c179e\"],[0.4444444444444444,\"#bd3786\"],[0.5555555555555556,\"#d8576b\"],[0.6666666666666666,\"#ed7953\"],[0.7777777777777778,\"#fb9f3a\"],[0.8888888888888888,\"#fdca26\"],[1.0,\"#f0f921\"]]}],\"surface\":[{\"type\":\"surface\",\"colorbar\":{\"outlinewidth\":0,\"ticks\":\"\"},\"colorscale\":[[0.0,\"#0d0887\"],[0.1111111111111111,\"#46039f\"],[0.2222222222222222,\"#7201a8\"],[0.3333333333333333,\"#9c179e\"],[0.4444444444444444,\"#bd3786\"],[0.5555555555555556,\"#d8576b\"],[0.6666666666666666,\"#ed7953\"],[0.7777777777777778,\"#fb9f3a\"],[0.8888888888888888,\"#fdca26\"],[1.0,\"#f0f921\"]]}],\"mesh3d\":[{\"type\":\"mesh3d\",\"colorbar\":{\"outlinewidth\":0,\"ticks\":\"\"}}],\"scatter\":[{\"marker\":{\"line\":{\"color\":\"#283442\"}},\"type\":\"scatter\"}],\"parcoords\":[{\"type\":\"parcoords\",\"line\":{\"colorbar\":{\"outlinewidth\":0,\"ticks\":\"\"}}}],\"scatterpolargl\":[{\"type\":\"scatterpolargl\",\"marker\":{\"colorbar\":{\"outlinewidth\":0,\"ticks\":\"\"}}}],\"bar\":[{\"error_x\":{\"color\":\"#f2f5fa\"},\"error_y\":{\"color\":\"#f2f5fa\"},\"marker\":{\"line\":{\"color\":\"rgb(17,17,17)\",\"width\":0.5},\"pattern\":{\"fillmode\":\"overlay\",\"size\":10,\"solidity\":0.2}},\"type\":\"bar\"}],\"scattergeo\":[{\"type\":\"scattergeo\",\"marker\":{\"colorbar\":{\"outlinewidth\":0,\"ticks\":\"\"}}}],\"scatterpolar\":[{\"type\":\"scatterpolar\",\"marker\":{\"colorbar\":{\"outlinewidth\":0,\"ticks\":\"\"}}}],\"histogram\":[{\"marker\":{\"pattern\":{\"fillmode\":\"overlay\",\"size\":10,\"solidity\":0.2}},\"type\":\"histogram\"}],\"scattergl\":[{\"marker\":{\"line\":{\"color\":\"#283442\"}},\"type\":\"scattergl\"}],\"scatter3d\":[{\"type\":\"scatter3d\",\"line\":{\"colorbar\":{\"outlinewidth\":0,\"ticks\":\"\"}},\"marker\":{\"colorbar\":{\"outlinewidth\":0,\"ticks\":\"\"}}}],\"scattermapbox\":[{\"type\":\"scattermapbox\",\"marker\":{\"colorbar\":{\"outlinewidth\":0,\"ticks\":\"\"}}}],\"scatterternary\":[{\"type\":\"scatterternary\",\"marker\":{\"colorbar\":{\"outlinewidth\":0,\"ticks\":\"\"}}}],\"scattercarpet\":[{\"type\":\"scattercarpet\",\"marker\":{\"colorbar\":{\"outlinewidth\":0,\"ticks\":\"\"}}}],\"carpet\":[{\"aaxis\":{\"endlinecolor\":\"#A2B1C6\",\"gridcolor\":\"#506784\",\"linecolor\":\"#506784\",\"minorgridcolor\":\"#506784\",\"startlinecolor\":\"#A2B1C6\"},\"baxis\":{\"endlinecolor\":\"#A2B1C6\",\"gridcolor\":\"#506784\",\"linecolor\":\"#506784\",\"minorgridcolor\":\"#506784\",\"startlinecolor\":\"#A2B1C6\"},\"type\":\"carpet\"}],\"table\":[{\"cells\":{\"fill\":{\"color\":\"#506784\"},\"line\":{\"color\":\"rgb(17,17,17)\"}},\"header\":{\"fill\":{\"color\":\"#2a3f5f\"},\"line\":{\"color\":\"rgb(17,17,17)\"}},\"type\":\"table\"}],\"barpolar\":[{\"marker\":{\"line\":{\"color\":\"rgb(17,17,17)\",\"width\":0.5},\"pattern\":{\"fillmode\":\"overlay\",\"size\":10,\"solidity\":0.2}},\"type\":\"barpolar\"}],\"pie\":[{\"automargin\":true,\"type\":\"pie\"}]},\"layout\":{\"autotypenumbers\":\"strict\",\"colorway\":[\"#636efa\",\"#EF553B\",\"#00cc96\",\"#ab63fa\",\"#FFA15A\",\"#19d3f3\",\"#FF6692\",\"#B6E880\",\"#FF97FF\",\"#FECB52\"],\"font\":{\"color\":\"#f2f5fa\"},\"hovermode\":\"closest\",\"hoverlabel\":{\"align\":\"left\"},\"paper_bgcolor\":\"rgb(17,17,17)\",\"plot_bgcolor\":\"rgb(17,17,17)\",\"polar\":{\"bgcolor\":\"rgb(17,17,17)\",\"angularaxis\":{\"gridcolor\":\"#506784\",\"linecolor\":\"#506784\",\"ticks\":\"\"},\"radialaxis\":{\"gridcolor\":\"#506784\",\"linecolor\":\"#506784\",\"ticks\":\"\"}},\"ternary\":{\"bgcolor\":\"rgb(17,17,17)\",\"aaxis\":{\"gridcolor\":\"#506784\",\"linecolor\":\"#506784\",\"ticks\":\"\"},\"baxis\":{\"gridcolor\":\"#506784\",\"linecolor\":\"#506784\",\"ticks\":\"\"},\"caxis\":{\"gridcolor\":\"#506784\",\"linecolor\":\"#506784\",\"ticks\":\"\"}},\"coloraxis\":{\"colorbar\":{\"outlinewidth\":0,\"ticks\":\"\"}},\"colorscale\":{\"sequential\":[[0.0,\"#0d0887\"],[0.1111111111111111,\"#46039f\"],[0.2222222222222222,\"#7201a8\"],[0.3333333333333333,\"#9c179e\"],[0.4444444444444444,\"#bd3786\"],[0.5555555555555556,\"#d8576b\"],[0.6666666666666666,\"#ed7953\"],[0.7777777777777778,\"#fb9f3a\"],[0.8888888888888888,\"#fdca26\"],[1.0,\"#f0f921\"]],\"sequentialminus\":[[0.0,\"#0d0887\"],[0.1111111111111111,\"#46039f\"],[0.2222222222222222,\"#7201a8\"],[0.3333333333333333,\"#9c179e\"],[0.4444444444444444,\"#bd3786\"],[0.5555555555555556,\"#d8576b\"],[0.6666666666666666,\"#ed7953\"],[0.7777777777777778,\"#fb9f3a\"],[0.8888888888888888,\"#fdca26\"],[1.0,\"#f0f921\"]],\"diverging\":[[0,\"#8e0152\"],[0.1,\"#c51b7d\"],[0.2,\"#de77ae\"],[0.3,\"#f1b6da\"],[0.4,\"#fde0ef\"],[0.5,\"#f7f7f7\"],[0.6,\"#e6f5d0\"],[0.7,\"#b8e186\"],[0.8,\"#7fbc41\"],[0.9,\"#4d9221\"],[1,\"#276419\"]]},\"xaxis\":{\"gridcolor\":\"#283442\",\"linecolor\":\"#506784\",\"ticks\":\"\",\"title\":{\"standoff\":15},\"zerolinecolor\":\"#283442\",\"automargin\":true,\"zerolinewidth\":2},\"yaxis\":{\"gridcolor\":\"#283442\",\"linecolor\":\"#506784\",\"ticks\":\"\",\"title\":{\"standoff\":15},\"zerolinecolor\":\"#283442\",\"automargin\":true,\"zerolinewidth\":2},\"scene\":{\"xaxis\":{\"backgroundcolor\":\"rgb(17,17,17)\",\"gridcolor\":\"#506784\",\"linecolor\":\"#506784\",\"showbackground\":true,\"ticks\":\"\",\"zerolinecolor\":\"#C8D4E3\",\"gridwidth\":2},\"yaxis\":{\"backgroundcolor\":\"rgb(17,17,17)\",\"gridcolor\":\"#506784\",\"linecolor\":\"#506784\",\"showbackground\":true,\"ticks\":\"\",\"zerolinecolor\":\"#C8D4E3\",\"gridwidth\":2},\"zaxis\":{\"backgroundcolor\":\"rgb(17,17,17)\",\"gridcolor\":\"#506784\",\"linecolor\":\"#506784\",\"showbackground\":true,\"ticks\":\"\",\"zerolinecolor\":\"#C8D4E3\",\"gridwidth\":2}},\"shapedefaults\":{\"line\":{\"color\":\"#f2f5fa\"}},\"annotationdefaults\":{\"arrowcolor\":\"#f2f5fa\",\"arrowhead\":0,\"arrowwidth\":1},\"geo\":{\"bgcolor\":\"rgb(17,17,17)\",\"landcolor\":\"rgb(17,17,17)\",\"subunitcolor\":\"#506784\",\"showland\":true,\"showlakes\":true,\"lakecolor\":\"rgb(17,17,17)\"},\"title\":{\"x\":0.05},\"updatemenudefaults\":{\"bgcolor\":\"#506784\",\"borderwidth\":0},\"sliderdefaults\":{\"bgcolor\":\"#C8D4E3\",\"borderwidth\":1,\"bordercolor\":\"rgb(17,17,17)\",\"tickwidth\":0},\"mapbox\":{\"style\":\"dark\"}}},\"xaxis\":{\"anchor\":\"y\",\"domain\":[0.0,1.0],\"title\":{\"text\":\"x\"}},\"yaxis\":{\"anchor\":\"x\",\"domain\":[0.0,1.0],\"title\":{\"text\":\"y\"}},\"legend\":{\"tracegroupgap\":0},\"margin\":{\"t\":60},\"shapes\":[{\"type\":\"line\",\"x0\":47,\"x1\":47,\"xref\":\"x\",\"y0\":0,\"y1\":1,\"yref\":\"y domain\"}],\"height\":450,\"width\":900,\"title\":{\"text\":\"Silhouette Score\"}},                        {\"responsive\": true}                    ).then(function(){\n                            \nvar gd = document.getElementById('2fed77a6-bdb1-4162-b133-dd35c5f0e315');\nvar x = new MutationObserver(function (mutations, observer) {{\n        var display = window.getComputedStyle(gd).display;\n        if (!display || display === 'none') {{\n            console.log([gd, 'removed!']);\n            Plotly.purge(gd);\n            observer.disconnect();\n        }}\n}});\n\n// Listen for the removal of the full notebook cells\nvar notebookContainer = gd.closest('#notebook-container');\nif (notebookContainer) {{\n    x.observe(notebookContainer, {childList: true});\n}}\n\n// Listen for the clearing of the current output cell\nvar outputEl = gd.closest('.output');\nif (outputEl) {{\n    x.observe(outputEl, {childList: true});\n}}\n\n                        })                };                });            </script>        </div>"
     },
     "metadata": {},
     "output_type": "display_data"
    },
    {
     "data": {
      "text/plain": "<Figure size 640x480 with 1 Axes>",
      "image/png": "[encoded data removed]"
     },
     "metadata": {},
     "output_type": "display_data"
    },
    {
     "data": {
      "application/vnd.plotly.v1+json": {
       "data": [
        {
         "hovertemplate": "color=cluster_1<br>x=%{x}<br>y=%{y}<br>text=%{text}<extra></extra>",
         "legendgroup": "cluster_1",
         "marker": {
          "color": "#2E91E5",
          "symbol": "circle"
         },
         "mode": "markers+text",
         "name": "cluster_1",
         "orientation": "v",
         "showlegend": true,
         "text": [
          "APL",
          "Colocation",
          "Linode",
          "Managed Hosting",
          "CLion",
          "TextMate"
         ],
         "x": [
          -1.1417361497879028,
          -0.580331563949585,
          -2.5953567028045654,
          -1.2088382244110107,
          -2.0791823863983154,
          -3.747959852218628
         ],
         "xaxis": "x",
         "y": [
          0.11856226623058319,
          -1.235459804534912,
          0.9805192351341248,
          2.0561912059783936,
          -0.6037535667419434,
          -0.9942799806594849
         ],
         "yaxis": "y",
         "type": "scatter",
         "textposition": "top center"
        },
        {
         "hovertemplate": "color=cluster_7<br>x=%{x}<br>y=%{y}<br>text=%{text}<extra></extra>",
         "legendgroup": "cluster_7",
         "marker": {
          "color": "#E15F99",
          "symbol": "circle"
         },
         "mode": "markers+text",
         "name": "cluster_7",
         "orientation": "v",
         "showlegend": true,
         "text": [
          "Assembly",
          "C",
          "C++"
         ],
         "x": [
          -18.288347244262695,
          -19.190715789794922,
          -19.95435333251953
         ],
         "xaxis": "x",
         "y": [
          3.0528011322021484,
          3.69266676902771,
          4.383861064910889
         ],
         "yaxis": "y",
         "type": "scatter",
         "textposition": "top center"
        },
        {
         "hovertemplate": "color=cluster_33<br>x=%{x}<br>y=%{y}<br>text=%{text}<extra></extra>",
         "legendgroup": "cluster_33",
         "marker": {
          "color": "#1CA71C",
          "symbol": "circle"
         },
         "mode": "markers+text",
         "name": "cluster_33",
         "orientation": "v",
         "showlegend": true,
         "text": [
          "Bash/Shell",
          "Perl",
          "Vim"
         ],
         "x": [
          -11.406007766723633,
          -10.09057331085205,
          -10.74256420135498
         ],
         "xaxis": "x",
         "y": [
          -11.694220542907715,
          -9.81416130065918,
          -10.736052513122559
         ],
         "yaxis": "y",
         "type": "scatter",
         "textposition": "top center"
        },
        {
         "hovertemplate": "color=cluster_18<br>x=%{x}<br>y=%{y}<br>text=%{text}<extra></extra>",
         "legendgroup": "cluster_18",
         "marker": {
          "color": "#FB0D0D",
          "symbol": "circle"
         },
         "mode": "markers+text",
         "name": "cluster_18",
         "orientation": "v",
         "showlegend": true,
         "text": [
          "C#",
          "SQL",
          "Microsoft SQL Server",
          "Microsoft Azure",
          "ASP.NET Core ",
          ".NET",
          "Visual Studio"
         ],
         "x": [
          5.313117980957031,
          7.424282550811768,
          6.234409332275391,
          3.3699910640716553,
          4.348864555358887,
          5.211184501647949,
          5.441653251647949
         ],
         "xaxis": "x",
         "y": [
          30.329057693481445,
          27.314546585083008,
          27.616140365600586,
          27.12023162841797,
          26.922407150268555,
          30.00079345703125,
          31.295106887817383
         ],
         "yaxis": "y",
         "type": "scatter",
         "textposition": "top center"
        },
        {
         "hovertemplate": "color=cluster_43<br>x=%{x}<br>y=%{y}<br>text=%{text}<extra></extra>",
         "legendgroup": "cluster_43",
         "marker": {
          "color": "#DA16FF",
          "symbol": "circle"
         },
         "mode": "markers+text",
         "name": "cluster_43",
         "orientation": "v",
         "showlegend": true,
         "text": [
          "COBOL",
          "IBM DB2"
         ],
         "x": [
          -2.525749683380127,
          -2.955669641494751
         ],
         "xaxis": "x",
         "y": [
          10.260106086730957,
          11.062331199645996
         ],
         "yaxis": "y",
         "type": "scatter",
         "textposition": "top center"
        },
        {
         "hovertemplate": "color=cluster_30<br>x=%{x}<br>y=%{y}<br>text=%{text}<extra></extra>",
         "legendgroup": "cluster_30",
         "marker": {
          "color": "#222A2A",
          "symbol": "circle"
         },
         "mode": "markers+text",
         "name": "cluster_30",
         "orientation": "v",
         "showlegend": true,
         "text": [
          "Clojure",
          "LISP",
          "Emacs"
         ],
         "x": [
          -8.310664176940918,
          -11.06866455078125,
          -11.950118064880371
         ],
         "xaxis": "x",
         "y": [
          0.686550498008728,
          2.591735601425171,
          2.576875925064087
         ],
         "yaxis": "y",
         "type": "scatter",
         "textposition": "top center"
        },
        {
         "hovertemplate": "color=cluster_40<br>x=%{x}<br>y=%{y}<br>text=%{text}<extra></extra>",
         "legendgroup": "cluster_40",
         "marker": {
          "color": "#B68100",
          "symbol": "circle"
         },
         "mode": "markers+text",
         "name": "cluster_40",
         "orientation": "v",
         "showlegend": true,
         "text": [
          "Crystal",
          "Solidity",
          "DigitalOcean",
          "OVH",
          "Django",
          "Flow",
          "Webstorm"
         ],
         "x": [
          -0.32695913314819336,
          1.4095665216445923,
          3.190887212753296,
          0.5119549632072449,
          3.0535876750946045,
          0.359433114528656,
          1.3925331830978394
         ],
         "xaxis": "x",
         "y": [
          0.749616265296936,
          1.014974594116211,
          -0.11007468402385712,
          2.7549870014190674,
          2.1875407695770264,
          -0.2658250033855438,
          -0.8322328925132751
         ],
         "yaxis": "y",
         "type": "scatter",
         "textposition": "top center"
        },
        {
         "hovertemplate": "color=cluster_9<br>x=%{x}<br>y=%{y}<br>text=%{text}<extra></extra>",
         "legendgroup": "cluster_9",
         "marker": {
          "color": "#750D86",
          "symbol": "circle"
         },
         "mode": "markers+text",
         "name": "cluster_9",
         "orientation": "v",
         "showlegend": true,
         "text": [
          "Dart",
          "Flutter",
          "Android Studio"
         ],
         "x": [
          -29.80829620361328,
          -29.693683624267578,
          -30.971664428710938
         ],
         "xaxis": "x",
         "y": [
          13.993905067443848,
          13.938312530517578,
          14.55921745300293
         ],
         "yaxis": "y",
         "type": "scatter",
         "textposition": "top center"
        },
        {
         "hovertemplate": "color=cluster_15<br>x=%{x}<br>y=%{y}<br>text=%{text}<extra></extra>",
         "legendgroup": "cluster_15",
         "marker": {
          "color": "#EB663B",
          "symbol": "circle"
         },
         "mode": "markers+text",
         "name": "cluster_15",
         "orientation": "v",
         "showlegend": true,
         "text": [
          "Delphi",
          "RAD Studio (Delphi_C++ Builder)"
         ],
         "x": [
          -13.449440002441406,
          -13.449748992919922
         ],
         "xaxis": "x",
         "y": [
          28.145307540893555,
          28.145709991455078
         ],
         "yaxis": "y",
         "type": "scatter",
         "textposition": "top center"
        },
        {
         "hovertemplate": "color=cluster_22<br>x=%{x}<br>y=%{y}<br>text=%{text}<extra></extra>",
         "legendgroup": "cluster_22",
         "marker": {
          "color": "#511CFB",
          "symbol": "circle"
         },
         "mode": "markers+text",
         "name": "cluster_22",
         "orientation": "v",
         "showlegend": true,
         "text": [
          "Elixir",
          "Phoenix",
          "Homebrew"
         ],
         "x": [
          -32.91875457763672,
          -33.01616668701172,
          -32.49235534667969
         ],
         "xaxis": "x",
         "y": [
          -7.843843460083008,
          -7.556922435760498,
          -9.093666076660156
         ],
         "yaxis": "y",
         "type": "scatter",
         "textposition": "top center"
        },
        {
         "hovertemplate": "color=cluster_39<br>x=%{x}<br>y=%{y}<br>text=%{text}<extra></extra>",
         "legendgroup": "cluster_39",
         "marker": {
          "color": "#00A08B",
          "symbol": "circle"
         },
         "mode": "markers+text",
         "name": "cluster_39",
         "orientation": "v",
         "showlegend": true,
         "text": [
          "Erlang",
          "Julia",
          "MATLAB",
          "RubyMine"
         ],
         "x": [
          -8.10257625579834,
          -5.017885684967041,
          -5.813930988311768,
          -7.294435024261475
         ],
         "xaxis": "x",
         "y": [
          -2.4867701530456543,
          -3.1545934677124023,
          -0.6844751834869385,
          -5.6104607582092285
         ],
         "yaxis": "y",
         "type": "scatter",
         "textposition": "top center"
        },
        {
         "hovertemplate": "color=cluster_35<br>x=%{x}<br>y=%{y}<br>text=%{text}<extra></extra>",
         "legendgroup": "cluster_35",
         "marker": {
          "color": "#FB00D1",
          "symbol": "circle"
         },
         "mode": "markers+text",
         "name": "cluster_35",
         "orientation": "v",
         "showlegend": true,
         "text": [
          "F#",
          "PowerShell"
         ],
         "x": [
          -3.557337999343872,
          -3.3996307849884033
         ],
         "xaxis": "x",
         "y": [
          17.05664825439453,
          18.05001449584961
         ],
         "yaxis": "y",
         "type": "scatter",
         "textposition": "top center"
        },
        {
         "hovertemplate": "color=cluster_41<br>x=%{x}<br>y=%{y}<br>text=%{text}<extra></extra>",
         "legendgroup": "cluster_41",
         "marker": {
          "color": "#FC0080",
          "symbol": "circle"
         },
         "mode": "markers+text",
         "name": "cluster_41",
         "orientation": "v",
         "showlegend": true,
         "text": [
          "Fortran",
          "Haskell",
          "Lua",
          "OCaml",
          "Neovim"
         ],
         "x": [
          -4.818209171295166,
          -7.228044509887695,
          -3.0246307849884033,
          -5.936434745788574,
          -5.7814507484436035
         ],
         "xaxis": "x",
         "y": [
          1.4795206785202026,
          3.283806085586548,
          3.2404487133026123,
          3.2640745639801025,
          4.7300310134887695
         ],
         "yaxis": "y",
         "type": "scatter",
         "textposition": "top center"
        },
        {
         "hovertemplate": "color=cluster_13<br>x=%{x}<br>y=%{y}<br>text=%{text}<extra></extra>",
         "legendgroup": "cluster_13",
         "marker": {
          "color": "#B2828D",
          "symbol": "circle"
         },
         "mode": "markers+text",
         "name": "cluster_13",
         "orientation": "v",
         "showlegend": true,
         "text": [
          "Go",
          "GoLand"
         ],
         "x": [
          9.026460647583008,
          8.35077953338623
         ],
         "xaxis": "x",
         "y": [
          -6.28411340713501,
          -5.660659313201904
         ],
         "yaxis": "y",
         "type": "scatter",
         "textposition": "top center"
        },
        {
         "hovertemplate": "color=cluster_24<br>x=%{x}<br>y=%{y}<br>text=%{text}<extra></extra>",
         "legendgroup": "cluster_24",
         "marker": {
          "color": "#6C7C32",
          "symbol": "circle"
         },
         "mode": "markers+text",
         "name": "cluster_24",
         "orientation": "v",
         "showlegend": true,
         "text": [
          "Groovy",
          "Java",
          "Spring",
          "IntelliJ"
         ],
         "x": [
          4.813779830932617,
          6.45302152633667,
          6.032500267028809,
          6.540038585662842
         ],
         "xaxis": "x",
         "y": [
          -22.084413528442383,
          -24.904022216796875,
          -23.24606704711914,
          -25.333255767822266
         ],
         "yaxis": "y",
         "type": "scatter",
         "textposition": "top center"
        },
        {
         "hovertemplate": "color=cluster_27<br>x=%{x}<br>y=%{y}<br>text=%{text}<extra></extra>",
         "legendgroup": "cluster_27",
         "marker": {
          "color": "#778AAE",
          "symbol": "circle"
         },
         "mode": "markers+text",
         "name": "cluster_27",
         "orientation": "v",
         "showlegend": true,
         "text": [
          "HTML/CSS",
          "JavaScript",
          "Visual Studio Code"
         ],
         "x": [
          26.391157150268555,
          26.677400588989258,
          27.724414825439453
         ],
         "xaxis": "x",
         "y": [
          5.709213733673096,
          5.377671718597412,
          4.534582138061523
         ],
         "yaxis": "y",
         "type": "scatter",
         "textposition": "top center"
        },
        {
         "hovertemplate": "color=cluster_29<br>x=%{x}<br>y=%{y}<br>text=%{text}<extra></extra>",
         "legendgroup": "cluster_29",
         "marker": {
          "color": "#862A16",
          "symbol": "circle"
         },
         "mode": "markers+text",
         "name": "cluster_29",
         "orientation": "v",
         "showlegend": true,
         "text": [
          "Kotlin",
          "SAS",
          "VBA",
          "Couchbase",
          "OpenStack",
          "VMware",
          "Puppet",
          "Spyder"
         ],
         "x": [
          2.0625219345092773,
          -2.0101478099823,
          -2.5789639949798584,
          0.4336237609386444,
          -1.1697719097137451,
          1.7010633945465088,
          -0.6215680837631226,
          -3.848749876022339
         ],
         "xaxis": "x",
         "y": [
          -7.068714618682861,
          -2.4998273849487305,
          -3.506016254425049,
          -2.5692834854125977,
          -7.276352405548096,
          -4.387485980987549,
          -4.719183921813965,
          -5.695245742797852
         ],
         "yaxis": "y",
         "type": "scatter",
         "textposition": "top center"
        },
        {
         "hovertemplate": "color=cluster_23<br>x=%{x}<br>y=%{y}<br>text=%{text}<extra></extra>",
         "legendgroup": "cluster_23",
         "marker": {
          "color": "#A777F1",
          "symbol": "circle"
         },
         "mode": "markers+text",
         "name": "cluster_23",
         "orientation": "v",
         "showlegend": true,
         "text": [
          "Objective-C",
          "Swift",
          "Xcode"
         ],
         "x": [
          -14.090470314025879,
          -14.752663612365723,
          -15.367234230041504
         ],
         "xaxis": "x",
         "y": [
          15.16250991821289,
          15.945146560668945,
          16.67422103881836
         ],
         "yaxis": "y",
         "type": "scatter",
         "textposition": "top center"
        },
        {
         "hovertemplate": "color=cluster_31<br>x=%{x}<br>y=%{y}<br>text=%{text}<extra></extra>",
         "legendgroup": "cluster_31",
         "marker": {
          "color": "#620042",
          "symbol": "circle"
         },
         "mode": "markers+text",
         "name": "cluster_31",
         "orientation": "v",
         "showlegend": true,
         "text": [
          "PHP",
          "MySQL",
          "Laravel",
          "Symfony",
          "PhpStorm"
         ],
         "x": [
          9.23263931274414,
          9.409209251403809,
          6.991262435913086,
          10.680608749389648,
          9.77254581451416
         ],
         "xaxis": "x",
         "y": [
          14.155956268310547,
          15.22668170928955,
          11.598692893981934,
          12.045613288879395,
          12.82430362701416
         ],
         "yaxis": "y",
         "type": "scatter",
         "textposition": "top center"
        },
        {
         "hovertemplate": "color=cluster_5<br>x=%{x}<br>y=%{y}<br>text=%{text}<extra></extra>",
         "legendgroup": "cluster_5",
         "marker": {
          "color": "#1616A7",
          "symbol": "circle"
         },
         "mode": "markers+text",
         "name": "cluster_5",
         "orientation": "v",
         "showlegend": true,
         "text": [
          "Python",
          "NumPy",
          "Pandas"
         ],
         "x": [
          -15.198529243469238,
          -14.737768173217773,
          -14.651951789855957
         ],
         "xaxis": "x",
         "y": [
          -30.29625129699707,
          -29.075117111206055,
          -28.839866638183594
         ],
         "yaxis": "y",
         "type": "scatter",
         "textposition": "top center"
        },
        {
         "hovertemplate": "color=cluster_17<br>x=%{x}<br>y=%{y}<br>text=%{text}<extra></extra>",
         "legendgroup": "cluster_17",
         "marker": {
          "color": "#DA60CA",
          "symbol": "circle"
         },
         "mode": "markers+text",
         "name": "cluster_17",
         "orientation": "v",
         "showlegend": true,
         "text": [
          "R",
          "Tidyverse",
          "RStudio"
         ],
         "x": [
          -19.433324813842773,
          -17.758296966552734,
          -18.952024459838867
         ],
         "xaxis": "x",
         "y": [
          -11.417235374450684,
          -10.532550811767578,
          -11.161266326904297
         ],
         "yaxis": "y",
         "type": "scatter",
         "textposition": "top center"
        },
        {
         "hovertemplate": "color=cluster_3<br>x=%{x}<br>y=%{y}<br>text=%{text}<extra></extra>",
         "legendgroup": "cluster_3",
         "marker": {
          "color": "#6C4516",
          "symbol": "circle"
         },
         "mode": "markers+text",
         "name": "cluster_3",
         "orientation": "v",
         "showlegend": true,
         "text": [
          "Ruby",
          "Ruby on Rails"
         ],
         "x": [
          -28.306413650512695,
          -28.33501434326172
         ],
         "xaxis": "x",
         "y": [
          -13.346699714660645,
          -13.310626983642578
         ],
         "yaxis": "y",
         "type": "scatter",
         "textposition": "top center"
        },
        {
         "hovertemplate": "color=cluster_25<br>x=%{x}<br>y=%{y}<br>text=%{text}<extra></extra>",
         "legendgroup": "cluster_25",
         "marker": {
          "color": "#0D2A63",
          "symbol": "circle"
         },
         "mode": "markers+text",
         "name": "cluster_25",
         "orientation": "v",
         "showlegend": true,
         "text": [
          "Rust",
          "Deno",
          "Svelte"
         ],
         "x": [
          14.62122917175293,
          14.38463020324707,
          14.32515811920166
         ],
         "xaxis": "x",
         "y": [
          -4.0609259605407715,
          -3.0113091468811035,
          -1.7959133386611938
         ],
         "yaxis": "y",
         "type": "scatter",
         "textposition": "top center"
        },
        {
         "hovertemplate": "color=cluster_12<br>x=%{x}<br>y=%{y}<br>text=%{text}<extra></extra>",
         "legendgroup": "cluster_12",
         "marker": {
          "color": "#AF0038",
          "symbol": "circle"
         },
         "mode": "markers+text",
         "name": "cluster_12",
         "orientation": "v",
         "showlegend": true,
         "text": [
          "Scala",
          "Play Framework"
         ],
         "x": [
          -5.10575008392334,
          -4.5922980308532715
         ],
         "xaxis": "x",
         "y": [
          -10.080363273620605,
          -9.314519882202148
         ],
         "yaxis": "y",
         "type": "scatter",
         "textposition": "top center"
        },
        {
         "hovertemplate": "color=cluster_6<br>x=%{x}<br>y=%{y}<br>text=%{text}<extra></extra>",
         "legendgroup": "cluster_6",
         "marker": {
          "color": "#2E91E5",
          "symbol": "circle"
         },
         "mode": "markers+text",
         "name": "cluster_6",
         "orientation": "v",
         "showlegend": true,
         "text": [
          "TypeScript",
          "Express",
          "Fastify",
          "Node.js",
          "npm"
         ],
         "x": [
          24.33077621459961,
          21.1320743560791,
          19.914499282836914,
          22.390512466430664,
          23.856019973754883
         ],
         "xaxis": "x",
         "y": [
          2.8002331256866455,
          0.49554499983787537,
          -0.1005120500922203,
          1.227919340133667,
          2.3379030227661133
         ],
         "yaxis": "y",
         "type": "scatter",
         "textposition": "top center"
        },
        {
         "hovertemplate": "color=cluster_0<br>x=%{x}<br>y=%{y}<br>text=%{text}<extra></extra>",
         "legendgroup": "cluster_0",
         "marker": {
          "color": "#E15F99",
          "symbol": "circle"
         },
         "mode": "markers+text",
         "name": "cluster_0",
         "orientation": "v",
         "showlegend": true,
         "text": [
          "Cassandra",
          "Elasticsearch",
          "PostgreSQL",
          "Redis",
          "Apache Kafka"
         ],
         "x": [
          8.596892356872559,
          10.013461112976074,
          12.418099403381348,
          11.358116149902344,
          8.341205596923828
         ],
         "xaxis": "x",
         "y": [
          -18.359920501708984,
          -19.135080337524414,
          -18.58268165588379,
          -19.098011016845703,
          -17.00953483581543
         ],
         "yaxis": "y",
         "type": "scatter",
         "textposition": "top center"
        },
        {
         "hovertemplate": "color=cluster_16<br>x=%{x}<br>y=%{y}<br>text=%{text}<extra></extra>",
         "legendgroup": "cluster_16",
         "marker": {
          "color": "#1CA71C",
          "symbol": "circle"
         },
         "mode": "markers+text",
         "name": "cluster_16",
         "orientation": "v",
         "showlegend": true,
         "text": [
          "Cloud Firestore",
          "Firebase Realtime Database",
          "Firebase",
          "Google Cloud"
         ],
         "x": [
          -15.067597389221191,
          -11.876989364624023,
          -13.409318923950195,
          -16.081371307373047
         ],
         "xaxis": "x",
         "y": [
          -3.4449431896209717,
          -3.4741342067718506,
          -3.6406896114349365,
          -3.4739794731140137
         ],
         "yaxis": "y",
         "type": "scatter",
         "textposition": "top center"
        },
        {
         "hovertemplate": "color=cluster_8<br>x=%{x}<br>y=%{y}<br>text=%{text}<extra></extra>",
         "legendgroup": "cluster_8",
         "marker": {
          "color": "#FB0D0D",
          "symbol": "circle"
         },
         "mode": "markers+text",
         "name": "cluster_8",
         "orientation": "v",
         "showlegend": true,
         "text": [
          "CouchDB",
          "React Native",
          "Atom",
          "Sublime Text"
         ],
         "x": [
          4.47902250289917,
          5.592445373535156,
          2.7286643981933594,
          5.31588077545166
         ],
         "xaxis": "x",
         "y": [
          -4.853118896484375,
          0.885495126247406,
          -2.3185980319976807,
          -2.0179271697998047
         ],
         "yaxis": "y",
         "type": "scatter",
         "textposition": "top center"
        },
        {
         "hovertemplate": "color=cluster_32<br>x=%{x}<br>y=%{y}<br>text=%{text}<extra></extra>",
         "legendgroup": "cluster_32",
         "marker": {
          "color": "#DA16FF",
          "symbol": "circle"
         },
         "mode": "markers+text",
         "name": "cluster_32",
         "orientation": "v",
         "showlegend": true,
         "text": [
          "DynamoDB",
          "AWS",
          "Docker",
          "Kubernetes"
         ],
         "x": [
          13.71628475189209,
          13.530531883239746,
          10.616312980651855,
          9.480827331542969
         ],
         "xaxis": "x",
         "y": [
          -12.049877166748047,
          -13.130857467651367,
          -14.563005447387695,
          -14.973397254943848
         ],
         "yaxis": "y",
         "type": "scatter",
         "textposition": "top center"
        },
        {
         "hovertemplate": "color=cluster_2<br>x=%{x}<br>y=%{y}<br>text=%{text}<extra></extra>",
         "legendgroup": "cluster_2",
         "marker": {
          "color": "#222A2A",
          "symbol": "circle"
         },
         "mode": "markers+text",
         "name": "cluster_2",
         "orientation": "v",
         "showlegend": true,
         "text": [
          "MariaDB",
          "Drupal",
          "jQuery"
         ],
         "x": [
          12.579608917236328,
          14.085732460021973,
          15.069948196411133
         ],
         "xaxis": "x",
         "y": [
          11.887842178344727,
          10.975065231323242,
          10.590160369873047
         ],
         "yaxis": "y",
         "type": "scatter",
         "textposition": "top center"
        },
        {
         "hovertemplate": "color=cluster_34<br>x=%{x}<br>y=%{y}<br>text=%{text}<extra></extra>",
         "legendgroup": "cluster_34",
         "marker": {
          "color": "#B68100",
          "symbol": "circle"
         },
         "mode": "markers+text",
         "name": "cluster_34",
         "orientation": "v",
         "showlegend": true,
         "text": [
          "MongoDB",
          "Neo4j"
         ],
         "x": [
          1.7268942594528198,
          2.166511058807373
         ],
         "xaxis": "x",
         "y": [
          -17.107606887817383,
          -16.352249145507812
         ],
         "yaxis": "y",
         "type": "scatter",
         "textposition": "top center"
        },
        {
         "hovertemplate": "color=cluster_10<br>x=%{x}<br>y=%{y}<br>text=%{text}<extra></extra>",
         "legendgroup": "cluster_10",
         "marker": {
          "color": "#750D86",
          "symbol": "circle"
         },
         "mode": "markers+text",
         "name": "cluster_10",
         "orientation": "v",
         "showlegend": true,
         "text": [
          "Oracle",
          "Oracle Cloud Infrastructure"
         ],
         "x": [
          -7.409554958343506,
          -7.15603494644165
         ],
         "xaxis": "x",
         "y": [
          12.969517707824707,
          12.12024974822998
         ],
         "yaxis": "y",
         "type": "scatter",
         "textposition": "top center"
        },
        {
         "hovertemplate": "color=cluster_38<br>x=%{x}<br>y=%{y}<br>text=%{text}<extra></extra>",
         "legendgroup": "cluster_38",
         "marker": {
          "color": "#EB663B",
          "symbol": "circle"
         },
         "mode": "markers+text",
         "name": "cluster_38",
         "orientation": "v",
         "showlegend": true,
         "text": [
          "SQLite",
          "Uno Platform",
          "Xamarin"
         ],
         "x": [
          4.268599510192871,
          3.4730703830718994,
          3.8695218563079834
         ],
         "xaxis": "x",
         "y": [
          19.011882781982422,
          21.260419845581055,
          20.10350227355957
         ],
         "yaxis": "y",
         "type": "scatter",
         "textposition": "top center"
        },
        {
         "hovertemplate": "color=cluster_45<br>x=%{x}<br>y=%{y}<br>text=%{text}<extra></extra>",
         "legendgroup": "cluster_45",
         "marker": {
          "color": "#511CFB",
          "symbol": "circle"
         },
         "mode": "markers+text",
         "name": "cluster_45",
         "orientation": "v",
         "showlegend": true,
         "text": [
          "Heroku",
          "Electron",
          "Rider"
         ],
         "x": [
          1.9318149089813232,
          4.944281101226807,
          3.5895445346832275
         ],
         "xaxis": "x",
         "y": [
          4.476487159729004,
          3.936896562576294,
          7.1125664710998535
         ],
         "yaxis": "y",
         "type": "scatter",
         "textposition": "top center"
        },
        {
         "hovertemplate": "color=cluster_14<br>x=%{x}<br>y=%{y}<br>text=%{text}<extra></extra>",
         "legendgroup": "cluster_14",
         "marker": {
          "color": "#00A08B",
          "symbol": "circle"
         },
         "mode": "markers+text",
         "name": "cluster_14",
         "orientation": "v",
         "showlegend": true,
         "text": [
          "IBM Cloud or Watson",
          "GTK",
          "Nano"
         ],
         "x": [
          -1.051393747329712,
          -3.249082088470459,
          0.17040492594242096
         ],
         "xaxis": "x",
         "y": [
          4.536489486694336,
          6.3346171379089355,
          6.923397064208984
         ],
         "yaxis": "y",
         "type": "scatter",
         "textposition": "top center"
        },
        {
         "hovertemplate": "color=cluster_4<br>x=%{x}<br>y=%{y}<br>text=%{text}<extra></extra>",
         "legendgroup": "cluster_4",
         "marker": {
          "color": "#FB00D1",
          "symbol": "circle"
         },
         "mode": "markers+text",
         "name": "cluster_4",
         "orientation": "v",
         "showlegend": true,
         "text": [
          "ASP.NET",
          "Blazor",
          "Notepad++"
         ],
         "x": [
          2.9918549060821533,
          3.3787765502929688,
          0.9322152137756348
         ],
         "xaxis": "x",
         "y": [
          24.256839752197266,
          22.77518081665039,
          23.977678298950195
         ],
         "yaxis": "y",
         "type": "scatter",
         "textposition": "top center"
        },
        {
         "hovertemplate": "color=cluster_42<br>x=%{x}<br>y=%{y}<br>text=%{text}<extra></extra>",
         "legendgroup": "cluster_42",
         "marker": {
          "color": "#FC0080",
          "symbol": "circle"
         },
         "mode": "markers+text",
         "name": "cluster_42",
         "orientation": "v",
         "showlegend": true,
         "text": [
          "Angular",
          "Angular.js"
         ],
         "x": [
          14.776153564453125,
          14.101489067077637
         ],
         "xaxis": "x",
         "y": [
          4.899783134460449,
          5.569952487945557
         ],
         "yaxis": "y",
         "type": "scatter",
         "textposition": "top center"
        },
        {
         "hovertemplate": "color=cluster_11<br>x=%{x}<br>y=%{y}<br>text=%{text}<extra></extra>",
         "legendgroup": "cluster_11",
         "marker": {
          "color": "#B2828D",
          "symbol": "circle"
         },
         "mode": "markers+text",
         "name": "cluster_11",
         "orientation": "v",
         "showlegend": true,
         "text": [
          "FastAPI",
          "Flask",
          "PyCharm"
         ],
         "x": [
          -7.660886287689209,
          -6.840319633483887,
          -8.88475513458252
         ],
         "xaxis": "x",
         "y": [
          -18.75380516052246,
          -18.22367286682129,
          -20.182472229003906
         ],
         "yaxis": "y",
         "type": "scatter",
         "textposition": "top center"
        },
        {
         "hovertemplate": "color=cluster_26<br>x=%{x}<br>y=%{y}<br>text=%{text}<extra></extra>",
         "legendgroup": "cluster_26",
         "marker": {
          "color": "#6C7C32",
          "symbol": "circle"
         },
         "mode": "markers+text",
         "name": "cluster_26",
         "orientation": "v",
         "showlegend": true,
         "text": [
          "Gatsby",
          "Next.js",
          "React.js",
          "Yarn"
         ],
         "x": [
          21.240388870239258,
          22.536972045898438,
          23.523481369018555,
          23.34621810913086
         ],
         "xaxis": "x",
         "y": [
          -4.694282531738281,
          -4.252059459686279,
          -3.212488889694214,
          -4.949337005615234
         ],
         "yaxis": "y",
         "type": "scatter",
         "textposition": "top center"
        },
        {
         "hovertemplate": "color=cluster_37<br>x=%{x}<br>y=%{y}<br>text=%{text}<extra></extra>",
         "legendgroup": "cluster_37",
         "marker": {
          "color": "#778AAE",
          "symbol": "circle"
         },
         "mode": "markers+text",
         "name": "cluster_37",
         "orientation": "v",
         "showlegend": true,
         "text": [
          "Nuxt.js",
          "Vue.js"
         ],
         "x": [
          9.004734992980957,
          9.908502578735352
         ],
         "xaxis": "x",
         "y": [
          -0.6972905993461609,
          -0.6420888900756836
         ],
         "yaxis": "y",
         "type": "scatter",
         "textposition": "top center"
        },
        {
         "hovertemplate": "color=cluster_46<br>x=%{x}<br>y=%{y}<br>text=%{text}<extra></extra>",
         "legendgroup": "cluster_46",
         "marker": {
          "color": "#862A16",
          "symbol": "circle"
         },
         "mode": "markers+text",
         "name": "cluster_46",
         "orientation": "v",
         "showlegend": true,
         "text": [
          "Apache Spark",
          "Hadoop"
         ],
         "x": [
          -1.2234957218170166,
          -1.0238661766052246
         ],
         "xaxis": "x",
         "y": [
          -12.330615997314453,
          -11.4492826461792
         ],
         "yaxis": "y",
         "type": "scatter",
         "textposition": "top center"
        },
        {
         "hovertemplate": "color=cluster_20<br>x=%{x}<br>y=%{y}<br>text=%{text}<extra></extra>",
         "legendgroup": "cluster_20",
         "marker": {
          "color": "#A777F1",
          "symbol": "circle"
         },
         "mode": "markers+text",
         "name": "cluster_20",
         "orientation": "v",
         "showlegend": true,
         "text": [
          "Capacitor",
          "Cordova",
          "Ionic"
         ],
         "x": [
          9.439676284790039,
          8.594703674316406,
          10.492870330810547
         ],
         "xaxis": "x",
         "y": [
          4.6397786140441895,
          5.40246057510376,
          4.6793341636657715
         ],
         "yaxis": "y",
         "type": "scatter",
         "textposition": "top center"
        },
        {
         "hovertemplate": "color=cluster_19<br>x=%{x}<br>y=%{y}<br>text=%{text}<extra></extra>",
         "legendgroup": "cluster_19",
         "marker": {
          "color": "#620042",
          "symbol": "circle"
         },
         "mode": "markers+text",
         "name": "cluster_19",
         "orientation": "v",
         "showlegend": true,
         "text": [
          "Hugging Face Transformers",
          "Keras",
          "Scikit-learn",
          "TensorFlow",
          "Torch/PyTorch",
          "IPython/Jupyter"
         ],
         "x": [
          -10.696843147277832,
          -10.959094047546387,
          -12.672079086303711,
          -10.15609359741211,
          -11.688733100891113,
          -13.696258544921875
         ],
         "xaxis": "x",
         "y": [
          -22.209552764892578,
          -23.86492347717285,
          -24.29755973815918,
          -24.722227096557617,
          -22.033416748046875,
          -24.5584659576416
         ],
         "yaxis": "y",
         "type": "scatter",
         "textposition": "top center"
        },
        {
         "hovertemplate": "color=cluster_36<br>x=%{x}<br>y=%{y}<br>text=%{text}<extra></extra>",
         "legendgroup": "cluster_36",
         "marker": {
          "color": "#1616A7",
          "symbol": "circle"
         },
         "mode": "markers+text",
         "name": "cluster_36",
         "orientation": "v",
         "showlegend": true,
         "text": [
          "Qt",
          "Qt Creator"
         ],
         "x": [
          -15.763754844665527,
          -14.955337524414062
         ],
         "xaxis": "x",
         "y": [
          7.516181468963623,
          7.17896842956543
         ],
         "yaxis": "y",
         "type": "scatter",
         "textposition": "top center"
        },
        {
         "hovertemplate": "color=cluster_21<br>x=%{x}<br>y=%{y}<br>text=%{text}<extra></extra>",
         "legendgroup": "cluster_21",
         "marker": {
          "color": "#DA60CA",
          "symbol": "circle"
         },
         "mode": "markers+text",
         "name": "cluster_21",
         "orientation": "v",
         "showlegend": true,
         "text": [
          "Ansible",
          "Chef",
          "Pulumi",
          "Terraform"
         ],
         "x": [
          3.6497228145599365,
          4.51999568939209,
          7.428753852844238,
          7.105916500091553
         ],
         "xaxis": "x",
         "y": [
          -11.101418495178223,
          -10.760255813598633,
          -10.045705795288086,
          -11.463869094848633
         ],
         "yaxis": "y",
         "type": "scatter",
         "textposition": "top center"
        },
        {
         "hovertemplate": "color=cluster_44<br>x=%{x}<br>y=%{y}<br>text=%{text}<extra></extra>",
         "legendgroup": "cluster_44",
         "marker": {
          "color": "#6C4516",
          "symbol": "circle"
         },
         "mode": "markers+text",
         "name": "cluster_44",
         "orientation": "v",
         "showlegend": true,
         "text": [
          "Unity 3D",
          "Unreal Engine"
         ],
         "x": [
          -9.449897766113281,
          -8.77006721496582
         ],
         "xaxis": "x",
         "y": [
          8.22998046875,
          7.640422344207764
         ],
         "yaxis": "y",
         "type": "scatter",
         "textposition": "top center"
        },
        {
         "hovertemplate": "color=cluster_28<br>x=%{x}<br>y=%{y}<br>text=%{text}<extra></extra>",
         "legendgroup": "cluster_28",
         "marker": {
          "color": "#0D2A63",
          "symbol": "circle"
         },
         "mode": "markers+text",
         "name": "cluster_28",
         "orientation": "v",
         "showlegend": true,
         "text": [
          "Eclipse",
          "NetBeans"
         ],
         "x": [
          0.7014399766921997,
          1.1786085367202759
         ],
         "xaxis": "x",
         "y": [
          12.63471508026123,
          11.708850860595703
         ],
         "yaxis": "y",
         "type": "scatter",
         "textposition": "top center"
        }
       ],
       "layout": {
        "template": {
         "data": {
          "histogram2dcontour": [
           {
            "type": "histogram2dcontour",
            "colorbar": {
             "outlinewidth": 0,
             "ticks": ""
            },
            "colorscale": [
             [
              0.0,
              "#0d0887"
             ],
             [
              0.1111111111111111,
              "#46039f"
             ],
             [
              0.2222222222222222,
              "#7201a8"
             ],
             [
              0.3333333333333333,
              "#9c179e"
             ],
             [
              0.4444444444444444,
              "#bd3786"
             ],
             [
              0.5555555555555556,
              "#d8576b"
             ],
             [
              0.6666666666666666,
              "#ed7953"
             ],
             [
              0.7777777777777778,
              "#fb9f3a"
             ],
             [
              0.8888888888888888,
              "#fdca26"
             ],
             [
              1.0,
              "#f0f921"
             ]
            ]
           }
          ],
          "choropleth": [
           {
            "type": "choropleth",
            "colorbar": {
             "outlinewidth": 0,
             "ticks": ""
            }
           }
          ],
          "histogram2d": [
           {
            "type": "histogram2d",
            "colorbar": {
             "outlinewidth": 0,
             "ticks": ""
            },
            "colorscale": [
             [
              0.0,
              "#0d0887"
             ],
             [
              0.1111111111111111,
              "#46039f"
             ],
             [
              0.2222222222222222,
              "#7201a8"
             ],
             [
              0.3333333333333333,
              "#9c179e"
             ],
             [
              0.4444444444444444,
              "#bd3786"
             ],
             [
              0.5555555555555556,
              "#d8576b"
             ],
             [
              0.6666666666666666,
              "#ed7953"
             ],
             [
              0.7777777777777778,
              "#fb9f3a"
             ],
             [
              0.8888888888888888,
              "#fdca26"
             ],
             [
              1.0,
              "#f0f921"
             ]
            ]
           }
          ],
          "heatmap": [
           {
            "type": "heatmap",
            "colorbar": {
             "outlinewidth": 0,
             "ticks": ""
            },
            "colorscale": [
             [
              0.0,
              "#0d0887"
             ],
             [
              0.1111111111111111,
              "#46039f"
             ],
             [
              0.2222222222222222,
              "#7201a8"
             ],
             [
              0.3333333333333333,
              "#9c179e"
             ],
             [
              0.4444444444444444,
              "#bd3786"
             ],
             [
              0.5555555555555556,
              "#d8576b"
             ],
             [
              0.6666666666666666,
              "#ed7953"
             ],
             [
              0.7777777777777778,
              "#fb9f3a"
             ],
             [
              0.8888888888888888,
              "#fdca26"
             ],
             [
              1.0,
              "#f0f921"
             ]
            ]
           }
          ],
          "heatmapgl": [
           {
            "type": "heatmapgl",
            "colorbar": {
             "outlinewidth": 0,
             "ticks": ""
            },
            "colorscale": [
             [
              0.0,
              "#0d0887"
             ],
             [
              0.1111111111111111,
              "#46039f"
             ],
             [
              0.2222222222222222,
              "#7201a8"
             ],
             [
              0.3333333333333333,
              "#9c179e"
             ],
             [
              0.4444444444444444,
              "#bd3786"
             ],
             [
              0.5555555555555556,
              "#d8576b"
             ],
             [
              0.6666666666666666,
              "#ed7953"
             ],
             [
              0.7777777777777778,
              "#fb9f3a"
             ],
             [
              0.8888888888888888,
              "#fdca26"
             ],
             [
              1.0,
              "#f0f921"
             ]
            ]
           }
          ],
          "contourcarpet": [
           {
            "type": "contourcarpet",
            "colorbar": {
             "outlinewidth": 0,
             "ticks": ""
            }
           }
          ],
          "contour": [
           {
            "type": "contour",
            "colorbar": {
             "outlinewidth": 0,
             "ticks": ""
            },
            "colorscale": [
             [
              0.0,
              "#0d0887"
             ],
             [
              0.1111111111111111,
              "#46039f"
             ],
             [
              0.2222222222222222,
              "#7201a8"
             ],
             [
              0.3333333333333333,
              "#9c179e"
             ],
             [
              0.4444444444444444,
              "#bd3786"
             ],
             [
              0.5555555555555556,
              "#d8576b"
             ],
             [
              0.6666666666666666,
              "#ed7953"
             ],
             [
              0.7777777777777778,
              "#fb9f3a"
             ],
             [
              0.8888888888888888,
              "#fdca26"
             ],
             [
              1.0,
              "#f0f921"
             ]
            ]
           }
          ],
          "surface": [
           {
            "type": "surface",
            "colorbar": {
             "outlinewidth": 0,
             "ticks": ""
            },
            "colorscale": [
             [
              0.0,
              "#0d0887"
             ],
             [
              0.1111111111111111,
              "#46039f"
             ],
             [
              0.2222222222222222,
              "#7201a8"
             ],
             [
              0.3333333333333333,
              "#9c179e"
             ],
             [
              0.4444444444444444,
              "#bd3786"
             ],
             [
              0.5555555555555556,
              "#d8576b"
             ],
             [
              0.6666666666666666,
              "#ed7953"
             ],
             [
              0.7777777777777778,
              "#fb9f3a"
             ],
             [
              0.8888888888888888,
              "#fdca26"
             ],
             [
              1.0,
              "#f0f921"
             ]
            ]
           }
          ],
          "mesh3d": [
           {
            "type": "mesh3d",
            "colorbar": {
             "outlinewidth": 0,
             "ticks": ""
            }
           }
          ],
          "scatter": [
           {
            "marker": {
             "line": {
              "color": "#283442"
             }
            },
            "type": "scatter"
           }
          ],
          "parcoords": [
           {
            "type": "parcoords",
            "line": {
             "colorbar": {
              "outlinewidth": 0,
              "ticks": ""
             }
            }
           }
          ],
          "scatterpolargl": [
           {
            "type": "scatterpolargl",
            "marker": {
             "colorbar": {
              "outlinewidth": 0,
              "ticks": ""
             }
            }
           }
          ],
          "bar": [
           {
            "error_x": {
             "color": "#f2f5fa"
            },
            "error_y": {
             "color": "#f2f5fa"
            },
            "marker": {
             "line": {
              "color": "rgb(17,17,17)",
              "width": 0.5
             },
             "pattern": {
              "fillmode": "overlay",
              "size": 10,
              "solidity": 0.2
             }
            },
            "type": "bar"
           }
          ],
          "scattergeo": [
           {
            "type": "scattergeo",
            "marker": {
             "colorbar": {
              "outlinewidth": 0,
              "ticks": ""
             }
            }
           }
          ],
          "scatterpolar": [
           {
            "type": "scatterpolar",
            "marker": {
             "colorbar": {
              "outlinewidth": 0,
              "ticks": ""
             }
            }
           }
          ],
          "histogram": [
           {
            "marker": {
             "pattern": {
              "fillmode": "overlay",
              "size": 10,
              "solidity": 0.2
             }
            },
            "type": "histogram"
           }
          ],
          "scattergl": [
           {
            "marker": {
             "line": {
              "color": "#283442"
             }
            },
            "type": "scattergl"
           }
          ],
          "scatter3d": [
           {
            "type": "scatter3d",
            "line": {
             "colorbar": {
              "outlinewidth": 0,
              "ticks": ""
             }
            },
            "marker": {
             "colorbar": {
              "outlinewidth": 0,
              "ticks": ""
             }
            }
           }
          ],
          "scattermapbox": [
           {
            "type": "scattermapbox",
            "marker": {
             "colorbar": {
              "outlinewidth": 0,
              "ticks": ""
             }
            }
           }
          ],
          "scatterternary": [
           {
            "type": "scatterternary",
            "marker": {
             "colorbar": {
              "outlinewidth": 0,
              "ticks": ""
             }
            }
           }
          ],
          "scattercarpet": [
           {
            "type": "scattercarpet",
            "marker": {
             "colorbar": {
              "outlinewidth": 0,
              "ticks": ""
             }
            }
           }
          ],
          "carpet": [
           {
            "aaxis": {
             "endlinecolor": "#A2B1C6",
             "gridcolor": "#506784",
             "linecolor": "#506784",
             "minorgridcolor": "#506784",
             "startlinecolor": "#A2B1C6"
            },
            "baxis": {
             "endlinecolor": "#A2B1C6",
             "gridcolor": "#506784",
             "linecolor": "#506784",
             "minorgridcolor": "#506784",
             "startlinecolor": "#A2B1C6"
            },
            "type": "carpet"
           }
          ],
          "table": [
           {
            "cells": {
             "fill": {
              "color": "#506784"
             },
             "line": {
              "color": "rgb(17,17,17)"
             }
            },
            "header": {
             "fill": {
              "color": "#2a3f5f"
             },
             "line": {
              "color": "rgb(17,17,17)"
             }
            },
            "type": "table"
           }
          ],
          "barpolar": [
           {
            "marker": {
             "line": {
              "color": "rgb(17,17,17)",
              "width": 0.5
             },
             "pattern": {
              "fillmode": "overlay",
              "size": 10,
              "solidity": 0.2
             }
            },
            "type": "barpolar"
           }
          ],
          "pie": [
           {
            "automargin": true,
            "type": "pie"
           }
          ]
         },
         "layout": {
          "autotypenumbers": "strict",
          "colorway": [
           "#636efa",
           "#EF553B",
           "#00cc96",
           "#ab63fa",
           "#FFA15A",
           "#19d3f3",
           "#FF6692",
           "#B6E880",
           "#FF97FF",
           "#FECB52"
          ],
          "font": {
           "color": "#f2f5fa"
          },
          "hovermode": "closest",
          "hoverlabel": {
           "align": "left"
          },
          "paper_bgcolor": "rgb(17,17,17)",
          "plot_bgcolor": "rgb(17,17,17)",
          "polar": {
           "bgcolor": "rgb(17,17,17)",
           "angularaxis": {
            "gridcolor": "#506784",
            "linecolor": "#506784",
            "ticks": ""
           },
           "radialaxis": {
            "gridcolor": "#506784",
            "linecolor": "#506784",
            "ticks": ""
           }
          },
          "ternary": {
           "bgcolor": "rgb(17,17,17)",
           "aaxis": {
            "gridcolor": "#506784",
            "linecolor": "#506784",
            "ticks": ""
           },
           "baxis": {
            "gridcolor": "#506784",
            "linecolor": "#506784",
            "ticks": ""
           },
           "caxis": {
            "gridcolor": "#506784",
            "linecolor": "#506784",
            "ticks": ""
           }
          },
          "coloraxis": {
           "colorbar": {
            "outlinewidth": 0,
            "ticks": ""
           }
          },
          "colorscale": {
           "sequential": [
            [
             0.0,
             "#0d0887"
            ],
            [
             0.1111111111111111,
             "#46039f"
            ],
            [
             0.2222222222222222,
             "#7201a8"
            ],
            [
             0.3333333333333333,
             "#9c179e"
            ],
            [
             0.4444444444444444,
             "#bd3786"
            ],
            [
             0.5555555555555556,
             "#d8576b"
            ],
            [
             0.6666666666666666,
             "#ed7953"
            ],
            [
             0.7777777777777778,
             "#fb9f3a"
            ],
            [
             0.8888888888888888,
             "#fdca26"
            ],
            [
             1.0,
             "#f0f921"
            ]
           ],
           "sequentialminus": [
            [
             0.0,
             "#0d0887"
            ],
            [
             0.1111111111111111,
             "#46039f"
            ],
            [
             0.2222222222222222,
             "#7201a8"
            ],
            [
             0.3333333333333333,
             "#9c179e"
            ],
            [
             0.4444444444444444,
             "#bd3786"
            ],
            [
             0.5555555555555556,
             "#d8576b"
            ],
            [
             0.6666666666666666,
             "#ed7953"
            ],
            [
             0.7777777777777778,
             "#fb9f3a"
            ],
            [
             0.8888888888888888,
             "#fdca26"
            ],
            [
             1.0,
             "#f0f921"
            ]
           ],
           "diverging": [
            [
             0,
             "#8e0152"
            ],
            [
             0.1,
             "#c51b7d"
            ],
            [
             0.2,
             "#de77ae"
            ],
            [
             0.3,
             "#f1b6da"
            ],
            [
             0.4,
             "#fde0ef"
            ],
            [
             0.5,
             "#f7f7f7"
            ],
            [
             0.6,
             "#e6f5d0"
            ],
            [
             0.7,
             "#b8e186"
            ],
            [
             0.8,
             "#7fbc41"
            ],
            [
             0.9,
             "#4d9221"
            ],
            [
             1,
             "#276419"
            ]
           ]
          },
          "xaxis": {
           "gridcolor": "#283442",
           "linecolor": "#506784",
           "ticks": "",
           "title": {
            "standoff": 15
           },
           "zerolinecolor": "#283442",
           "automargin": true,
           "zerolinewidth": 2
          },
          "yaxis": {
           "gridcolor": "#283442",
           "linecolor": "#506784",
           "ticks": "",
           "title": {
            "standoff": 15
           },
           "zerolinecolor": "#283442",
           "automargin": true,
           "zerolinewidth": 2
          },
          "scene": {
           "xaxis": {
            "backgroundcolor": "rgb(17,17,17)",
            "gridcolor": "#506784",
            "linecolor": "#506784",
            "showbackground": true,
            "ticks": "",
            "zerolinecolor": "#C8D4E3",
            "gridwidth": 2
           },
           "yaxis": {
            "backgroundcolor": "rgb(17,17,17)",
            "gridcolor": "#506784",
            "linecolor": "#506784",
            "showbackground": true,
            "ticks": "",
            "zerolinecolor": "#C8D4E3",
            "gridwidth": 2
           },
           "zaxis": {
            "backgroundcolor": "rgb(17,17,17)",
            "gridcolor": "#506784",
            "linecolor": "#506784",
            "showbackground": true,
            "ticks": "",
            "zerolinecolor": "#C8D4E3",
            "gridwidth": 2
           }
          },
          "shapedefaults": {
           "line": {
            "color": "#f2f5fa"
           }
          },
          "annotationdefaults": {
           "arrowcolor": "#f2f5fa",
           "arrowhead": 0,
           "arrowwidth": 1
          },
          "geo": {
           "bgcolor": "rgb(17,17,17)",
           "landcolor": "rgb(17,17,17)",
           "subunitcolor": "#506784",
           "showland": true,
           "showlakes": true,
           "lakecolor": "rgb(17,17,17)"
          },
          "title": {
           "x": 0.05
          },
          "updatemenudefaults": {
           "bgcolor": "#506784",
           "borderwidth": 0
          },
          "sliderdefaults": {
           "bgcolor": "#C8D4E3",
           "borderwidth": 1,
           "bordercolor": "rgb(17,17,17)",
           "tickwidth": 0
          },
          "mapbox": {
           "style": "dark"
          }
         }
        },
        "xaxis": {
         "anchor": "y",
         "domain": [
          0.0,
          1.0
         ],
         "title": {
          "text": "x"
         }
        },
        "yaxis": {
         "anchor": "x",
         "domain": [
          0.0,
          1.0
         ],
         "title": {
          "text": "y"
         }
        },
        "legend": {
         "title": {
          "text": "color"
         },
         "tracegroupgap": 0
        },
        "margin": {
         "t": 60
        },
        "title": {
         "text": "Clustering top skills for All roles"
        },
        "height": 900,
        "width": 1500
       },
       "config": {
        "plotlyServerURL": "https://plot.ly"
       }
      },
      "text/html": "<div>                            <div id=\"10b26695-44ca-47af-ba23-a90071bf4398\" class=\"plotly-graph-div\" style=\"height:900px; width:1500px;\"></div>            <script type=\"text/javascript\">                require([\"plotly\"], function(Plotly) {                    window.PLOTLYENV=window.PLOTLYENV || {};                                    if (document.getElementById(\"10b26695-44ca-47af-ba23-a90071bf4398\")) {                    Plotly.newPlot(                        \"10b26695-44ca-47af-ba23-a90071bf4398\",                        [{\"hovertemplate\":\"color=cluster_1<br>x=%{x}<br>y=%{y}<br>text=%{text}<extra></extra>\",\"legendgroup\":\"cluster_1\",\"marker\":{\"color\":\"#2E91E5\",\"symbol\":\"circle\"},\"mode\":\"markers+text\",\"name\":\"cluster_1\",\"orientation\":\"v\",\"showlegend\":true,\"text\":[\"APL\",\"Colocation\",\"Linode\",\"Managed Hosting\",\"CLion\",\"TextMate\"],\"x\":[-1.1417361497879028,-0.580331563949585,-2.5953567028045654,-1.2088382244110107,-2.0791823863983154,-3.747959852218628],\"xaxis\":\"x\",\"y\":[0.11856226623058319,-1.235459804534912,0.9805192351341248,2.0561912059783936,-0.6037535667419434,-0.9942799806594849],\"yaxis\":\"y\",\"type\":\"scatter\",\"textposition\":\"top center\"},{\"hovertemplate\":\"color=cluster_7<br>x=%{x}<br>y=%{y}<br>text=%{text}<extra></extra>\",\"legendgroup\":\"cluster_7\",\"marker\":{\"color\":\"#E15F99\",\"symbol\":\"circle\"},\"mode\":\"markers+text\",\"name\":\"cluster_7\",\"orientation\":\"v\",\"showlegend\":true,\"text\":[\"Assembly\",\"C\",\"C++\"],\"x\":[-18.288347244262695,-19.190715789794922,-19.95435333251953],\"xaxis\":\"x\",\"y\":[3.0528011322021484,3.69266676902771,4.383861064910889],\"yaxis\":\"y\",\"type\":\"scatter\",\"textposition\":\"top center\"},{\"hovertemplate\":\"color=cluster_33<br>x=%{x}<br>y=%{y}<br>text=%{text}<extra></extra>\",\"legendgroup\":\"cluster_33\",\"marker\":{\"color\":\"#1CA71C\",\"symbol\":\"circle\"},\"mode\":\"markers+text\",\"name\":\"cluster_33\",\"orientation\":\"v\",\"showlegend\":true,\"text\":[\"Bash/Shell\",\"Perl\",\"Vim\"],\"x\":[-11.406007766723633,-10.09057331085205,-10.74256420135498],\"xaxis\":\"x\",\"y\":[-11.694220542907715,-9.81416130065918,-10.736052513122559],\"yaxis\":\"y\",\"type\":\"scatter\",\"textposition\":\"top center\"},{\"hovertemplate\":\"color=cluster_18<br>x=%{x}<br>y=%{y}<br>text=%{text}<extra></extra>\",\"legendgroup\":\"cluster_18\",\"marker\":{\"color\":\"#FB0D0D\",\"symbol\":\"circle\"},\"mode\":\"markers+text\",\"name\":\"cluster_18\",\"orientation\":\"v\",\"showlegend\":true,\"text\":[\"C#\",\"SQL\",\"Microsoft SQL Server\",\"Microsoft Azure\",\"ASP.NET Core \",\".NET\",\"Visual Studio\"],\"x\":[5.313117980957031,7.424282550811768,6.234409332275391,3.3699910640716553,4.348864555358887,5.211184501647949,5.441653251647949],\"xaxis\":\"x\",\"y\":[30.329057693481445,27.314546585083008,27.616140365600586,27.12023162841797,26.922407150268555,30.00079345703125,31.295106887817383],\"yaxis\":\"y\",\"type\":\"scatter\",\"textposition\":\"top center\"},{\"hovertemplate\":\"color=cluster_43<br>x=%{x}<br>y=%{y}<br>text=%{text}<extra></extra>\",\"legendgroup\":\"cluster_43\",\"marker\":{\"color\":\"#DA16FF\",\"symbol\":\"circle\"},\"mode\":\"markers+text\",\"name\":\"cluster_43\",\"orientation\":\"v\",\"showlegend\":true,\"text\":[\"COBOL\",\"IBM DB2\"],\"x\":[-2.525749683380127,-2.955669641494751],\"xaxis\":\"x\",\"y\":[10.260106086730957,11.062331199645996],\"yaxis\":\"y\",\"type\":\"scatter\",\"textposition\":\"top center\"},{\"hovertemplate\":\"color=cluster_30<br>x=%{x}<br>y=%{y}<br>text=%{text}<extra></extra>\",\"legendgroup\":\"cluster_30\",\"marker\":{\"color\":\"#222A2A\",\"symbol\":\"circle\"},\"mode\":\"markers+text\",\"name\":\"cluster_30\",\"orientation\":\"v\",\"showlegend\":true,\"text\":[\"Clojure\",\"LISP\",\"Emacs\"],\"x\":[-8.310664176940918,-11.06866455078125,-11.950118064880371],\"xaxis\":\"x\",\"y\":[0.686550498008728,2.591735601425171,2.576875925064087],\"yaxis\":\"y\",\"type\":\"scatter\",\"textposition\":\"top center\"},{\"hovertemplate\":\"color=cluster_40<br>x=%{x}<br>y=%{y}<br>text=%{text}<extra></extra>\",\"legendgroup\":\"cluster_40\",\"marker\":{\"color\":\"#B68100\",\"symbol\":\"circle\"},\"mode\":\"markers+text\",\"name\":\"cluster_40\",\"orientation\":\"v\",\"showlegend\":true,\"text\":[\"Crystal\",\"Solidity\",\"DigitalOcean\",\"OVH\",\"Django\",\"Flow\",\"Webstorm\"],\"x\":[-0.32695913314819336,1.4095665216445923,3.190887212753296,0.5119549632072449,3.0535876750946045,0.359433114528656,1.3925331830978394],\"xaxis\":\"x\",\"y\":[0.749616265296936,1.014974594116211,-0.11007468402385712,2.7549870014190674,2.1875407695770264,-0.2658250033855438,-0.8322328925132751],\"yaxis\":\"y\",\"type\":\"scatter\",\"textposition\":\"top center\"},{\"hovertemplate\":\"color=cluster_9<br>x=%{x}<br>y=%{y}<br>text=%{text}<extra></extra>\",\"legendgroup\":\"cluster_9\",\"marker\":{\"color\":\"#750D86\",\"symbol\":\"circle\"},\"mode\":\"markers+text\",\"name\":\"cluster_9\",\"orientation\":\"v\",\"showlegend\":true,\"text\":[\"Dart\",\"Flutter\",\"Android Studio\"],\"x\":[-29.80829620361328,-29.693683624267578,-30.971664428710938],\"xaxis\":\"x\",\"y\":[13.993905067443848,13.938312530517578,14.55921745300293],\"yaxis\":\"y\",\"type\":\"scatter\",\"textposition\":\"top center\"},{\"hovertemplate\":\"color=cluster_15<br>x=%{x}<br>y=%{y}<br>text=%{text}<extra></extra>\",\"legendgroup\":\"cluster_15\",\"marker\":{\"color\":\"#EB663B\",\"symbol\":\"circle\"},\"mode\":\"markers+text\",\"name\":\"cluster_15\",\"orientation\":\"v\",\"showlegend\":true,\"text\":[\"Delphi\",\"RAD Studio (Delphi_C++ Builder)\"],\"x\":[-13.449440002441406,-13.449748992919922],\"xaxis\":\"x\",\"y\":[28.145307540893555,28.145709991455078],\"yaxis\":\"y\",\"type\":\"scatter\",\"textposition\":\"top center\"},{\"hovertemplate\":\"color=cluster_22<br>x=%{x}<br>y=%{y}<br>text=%{text}<extra></extra>\",\"legendgroup\":\"cluster_22\",\"marker\":{\"color\":\"#511CFB\",\"symbol\":\"circle\"},\"mode\":\"markers+text\",\"name\":\"cluster_22\",\"orientation\":\"v\",\"showlegend\":true,\"text\":[\"Elixir\",\"Phoenix\",\"Homebrew\"],\"x\":[-32.91875457763672,-33.01616668701172,-32.49235534667969],\"xaxis\":\"x\",\"y\":[-7.843843460083008,-7.556922435760498,-9.093666076660156],\"yaxis\":\"y\",\"type\":\"scatter\",\"textposition\":\"top center\"},{\"hovertemplate\":\"color=cluster_39<br>x=%{x}<br>y=%{y}<br>text=%{text}<extra></extra>\",\"legendgroup\":\"cluster_39\",\"marker\":{\"color\":\"#00A08B\",\"symbol\":\"circle\"},\"mode\":\"markers+text\",\"name\":\"cluster_39\",\"orientation\":\"v\",\"showlegend\":true,\"text\":[\"Erlang\",\"Julia\",\"MATLAB\",\"RubyMine\"],\"x\":[-8.10257625579834,-5.017885684967041,-5.813930988311768,-7.294435024261475],\"xaxis\":\"x\",\"y\":[-2.4867701530456543,-3.1545934677124023,-0.6844751834869385,-5.6104607582092285],\"yaxis\":\"y\",\"type\":\"scatter\",\"textposition\":\"top center\"},{\"hovertemplate\":\"color=cluster_35<br>x=%{x}<br>y=%{y}<br>text=%{text}<extra></extra>\",\"legendgroup\":\"cluster_35\",\"marker\":{\"color\":\"#FB00D1\",\"symbol\":\"circle\"},\"mode\":\"markers+text\",\"name\":\"cluster_35\",\"orientation\":\"v\",\"showlegend\":true,\"text\":[\"F#\",\"PowerShell\"],\"x\":[-3.557337999343872,-3.3996307849884033],\"xaxis\":\"x\",\"y\":[17.05664825439453,18.05001449584961],\"yaxis\":\"y\",\"type\":\"scatter\",\"textposition\":\"top center\"},{\"hovertemplate\":\"color=cluster_41<br>x=%{x}<br>y=%{y}<br>text=%{text}<extra></extra>\",\"legendgroup\":\"cluster_41\",\"marker\":{\"color\":\"#FC0080\",\"symbol\":\"circle\"},\"mode\":\"markers+text\",\"name\":\"cluster_41\",\"orientation\":\"v\",\"showlegend\":true,\"text\":[\"Fortran\",\"Haskell\",\"Lua\",\"OCaml\",\"Neovim\"],\"x\":[-4.818209171295166,-7.228044509887695,-3.0246307849884033,-5.936434745788574,-5.7814507484436035],\"xaxis\":\"x\",\"y\":[1.4795206785202026,3.283806085586548,3.2404487133026123,3.2640745639801025,4.7300310134887695],\"yaxis\":\"y\",\"type\":\"scatter\",\"textposition\":\"top center\"},{\"hovertemplate\":\"color=cluster_13<br>x=%{x}<br>y=%{y}<br>text=%{text}<extra></extra>\",\"legendgroup\":\"cluster_13\",\"marker\":{\"color\":\"#B2828D\",\"symbol\":\"circle\"},\"mode\":\"markers+text\",\"name\":\"cluster_13\",\"orientation\":\"v\",\"showlegend\":true,\"text\":[\"Go\",\"GoLand\"],\"x\":[9.026460647583008,8.35077953338623],\"xaxis\":\"x\",\"y\":[-6.28411340713501,-5.660659313201904],\"yaxis\":\"y\",\"type\":\"scatter\",\"textposition\":\"top center\"},{\"hovertemplate\":\"color=cluster_24<br>x=%{x}<br>y=%{y}<br>text=%{text}<extra></extra>\",\"legendgroup\":\"cluster_24\",\"marker\":{\"color\":\"#6C7C32\",\"symbol\":\"circle\"},\"mode\":\"markers+text\",\"name\":\"cluster_24\",\"orientation\":\"v\",\"showlegend\":true,\"text\":[\"Groovy\",\"Java\",\"Spring\",\"IntelliJ\"],\"x\":[4.813779830932617,6.45302152633667,6.032500267028809,6.540038585662842],\"xaxis\":\"x\",\"y\":[-22.084413528442383,-24.904022216796875,-23.24606704711914,-25.333255767822266],\"yaxis\":\"y\",\"type\":\"scatter\",\"textposition\":\"top center\"},{\"hovertemplate\":\"color=cluster_27<br>x=%{x}<br>y=%{y}<br>text=%{text}<extra></extra>\",\"legendgroup\":\"cluster_27\",\"marker\":{\"color\":\"#778AAE\",\"symbol\":\"circle\"},\"mode\":\"markers+text\",\"name\":\"cluster_27\",\"orientation\":\"v\",\"showlegend\":true,\"text\":[\"HTML/CSS\",\"JavaScript\",\"Visual Studio Code\"],\"x\":[26.391157150268555,26.677400588989258,27.724414825439453],\"xaxis\":\"x\",\"y\":[5.709213733673096,5.377671718597412,4.534582138061523],\"yaxis\":\"y\",\"type\":\"scatter\",\"textposition\":\"top center\"},{\"hovertemplate\":\"color=cluster_29<br>x=%{x}<br>y=%{y}<br>text=%{text}<extra></extra>\",\"legendgroup\":\"cluster_29\",\"marker\":{\"color\":\"#862A16\",\"symbol\":\"circle\"},\"mode\":\"markers+text\",\"name\":\"cluster_29\",\"orientation\":\"v\",\"showlegend\":true,\"text\":[\"Kotlin\",\"SAS\",\"VBA\",\"Couchbase\",\"OpenStack\",\"VMware\",\"Puppet\",\"Spyder\"],\"x\":[2.0625219345092773,-2.0101478099823,-2.5789639949798584,0.4336237609386444,-1.1697719097137451,1.7010633945465088,-0.6215680837631226,-3.848749876022339],\"xaxis\":\"x\",\"y\":[-7.068714618682861,-2.4998273849487305,-3.506016254425049,-2.5692834854125977,-7.276352405548096,-4.387485980987549,-4.719183921813965,-5.695245742797852],\"yaxis\":\"y\",\"type\":\"scatter\",\"textposition\":\"top center\"},{\"hovertemplate\":\"color=cluster_23<br>x=%{x}<br>y=%{y}<br>text=%{text}<extra></extra>\",\"legendgroup\":\"cluster_23\",\"marker\":{\"color\":\"#A777F1\",\"symbol\":\"circle\"},\"mode\":\"markers+text\",\"name\":\"cluster_23\",\"orientation\":\"v\",\"showlegend\":true,\"text\":[\"Objective-C\",\"Swift\",\"Xcode\"],\"x\":[-14.090470314025879,-14.752663612365723,-15.367234230041504],\"xaxis\":\"x\",\"y\":[15.16250991821289,15.945146560668945,16.67422103881836],\"yaxis\":\"y\",\"type\":\"scatter\",\"textposition\":\"top center\"},{\"hovertemplate\":\"color=cluster_31<br>x=%{x}<br>y=%{y}<br>text=%{text}<extra></extra>\",\"legendgroup\":\"cluster_31\",\"marker\":{\"color\":\"#620042\",\"symbol\":\"circle\"},\"mode\":\"markers+text\",\"name\":\"cluster_31\",\"orientation\":\"v\",\"showlegend\":true,\"text\":[\"PHP\",\"MySQL\",\"Laravel\",\"Symfony\",\"PhpStorm\"],\"x\":[9.23263931274414,9.409209251403809,6.991262435913086,10.680608749389648,9.77254581451416],\"xaxis\":\"x\",\"y\":[14.155956268310547,15.22668170928955,11.598692893981934,12.045613288879395,12.82430362701416],\"yaxis\":\"y\",\"type\":\"scatter\",\"textposition\":\"top center\"},{\"hovertemplate\":\"color=cluster_5<br>x=%{x}<br>y=%{y}<br>text=%{text}<extra></extra>\",\"legendgroup\":\"cluster_5\",\"marker\":{\"color\":\"#1616A7\",\"symbol\":\"circle\"},\"mode\":\"markers+text\",\"name\":\"cluster_5\",\"orientation\":\"v\",\"showlegend\":true,\"text\":[\"Python\",\"NumPy\",\"Pandas\"],\"x\":[-15.198529243469238,-14.737768173217773,-14.651951789855957],\"xaxis\":\"x\",\"y\":[-30.29625129699707,-29.075117111206055,-28.839866638183594],\"yaxis\":\"y\",\"type\":\"scatter\",\"textposition\":\"top center\"},{\"hovertemplate\":\"color=cluster_17<br>x=%{x}<br>y=%{y}<br>text=%{text}<extra></extra>\",\"legendgroup\":\"cluster_17\",\"marker\":{\"color\":\"#DA60CA\",\"symbol\":\"circle\"},\"mode\":\"markers+text\",\"name\":\"cluster_17\",\"orientation\":\"v\",\"showlegend\":true,\"text\":[\"R\",\"Tidyverse\",\"RStudio\"],\"x\":[-19.433324813842773,-17.758296966552734,-18.952024459838867],\"xaxis\":\"x\",\"y\":[-11.417235374450684,-10.532550811767578,-11.161266326904297],\"yaxis\":\"y\",\"type\":\"scatter\",\"textposition\":\"top center\"},{\"hovertemplate\":\"color=cluster_3<br>x=%{x}<br>y=%{y}<br>text=%{text}<extra></extra>\",\"legendgroup\":\"cluster_3\",\"marker\":{\"color\":\"#6C4516\",\"symbol\":\"circle\"},\"mode\":\"markers+text\",\"name\":\"cluster_3\",\"orientation\":\"v\",\"showlegend\":true,\"text\":[\"Ruby\",\"Ruby on Rails\"],\"x\":[-28.306413650512695,-28.33501434326172],\"xaxis\":\"x\",\"y\":[-13.346699714660645,-13.310626983642578],\"yaxis\":\"y\",\"type\":\"scatter\",\"textposition\":\"top center\"},{\"hovertemplate\":\"color=cluster_25<br>x=%{x}<br>y=%{y}<br>text=%{text}<extra></extra>\",\"legendgroup\":\"cluster_25\",\"marker\":{\"color\":\"#0D2A63\",\"symbol\":\"circle\"},\"mode\":\"markers+text\",\"name\":\"cluster_25\",\"orientation\":\"v\",\"showlegend\":true,\"text\":[\"Rust\",\"Deno\",\"Svelte\"],\"x\":[14.62122917175293,14.38463020324707,14.32515811920166],\"xaxis\":\"x\",\"y\":[-4.0609259605407715,-3.0113091468811035,-1.7959133386611938],\"yaxis\":\"y\",\"type\":\"scatter\",\"textposition\":\"top center\"},{\"hovertemplate\":\"color=cluster_12<br>x=%{x}<br>y=%{y}<br>text=%{text}<extra></extra>\",\"legendgroup\":\"cluster_12\",\"marker\":{\"color\":\"#AF0038\",\"symbol\":\"circle\"},\"mode\":\"markers+text\",\"name\":\"cluster_12\",\"orientation\":\"v\",\"showlegend\":true,\"text\":[\"Scala\",\"Play Framework\"],\"x\":[-5.10575008392334,-4.5922980308532715],\"xaxis\":\"x\",\"y\":[-10.080363273620605,-9.314519882202148],\"yaxis\":\"y\",\"type\":\"scatter\",\"textposition\":\"top center\"},{\"hovertemplate\":\"color=cluster_6<br>x=%{x}<br>y=%{y}<br>text=%{text}<extra></extra>\",\"legendgroup\":\"cluster_6\",\"marker\":{\"color\":\"#2E91E5\",\"symbol\":\"circle\"},\"mode\":\"markers+text\",\"name\":\"cluster_6\",\"orientation\":\"v\",\"showlegend\":true,\"text\":[\"TypeScript\",\"Express\",\"Fastify\",\"Node.js\",\"npm\"],\"x\":[24.33077621459961,21.1320743560791,19.914499282836914,22.390512466430664,23.856019973754883],\"xaxis\":\"x\",\"y\":[2.8002331256866455,0.49554499983787537,-0.1005120500922203,1.227919340133667,2.3379030227661133],\"yaxis\":\"y\",\"type\":\"scatter\",\"textposition\":\"top center\"},{\"hovertemplate\":\"color=cluster_0<br>x=%{x}<br>y=%{y}<br>text=%{text}<extra></extra>\",\"legendgroup\":\"cluster_0\",\"marker\":{\"color\":\"#E15F99\",\"symbol\":\"circle\"},\"mode\":\"markers+text\",\"name\":\"cluster_0\",\"orientation\":\"v\",\"showlegend\":true,\"text\":[\"Cassandra\",\"Elasticsearch\",\"PostgreSQL\",\"Redis\",\"Apache Kafka\"],\"x\":[8.596892356872559,10.013461112976074,12.418099403381348,11.358116149902344,8.341205596923828],\"xaxis\":\"x\",\"y\":[-18.359920501708984,-19.135080337524414,-18.58268165588379,-19.098011016845703,-17.00953483581543],\"yaxis\":\"y\",\"type\":\"scatter\",\"textposition\":\"top center\"},{\"hovertemplate\":\"color=cluster_16<br>x=%{x}<br>y=%{y}<br>text=%{text}<extra></extra>\",\"legendgroup\":\"cluster_16\",\"marker\":{\"color\":\"#1CA71C\",\"symbol\":\"circle\"},\"mode\":\"markers+text\",\"name\":\"cluster_16\",\"orientation\":\"v\",\"showlegend\":true,\"text\":[\"Cloud Firestore\",\"Firebase Realtime Database\",\"Firebase\",\"Google Cloud\"],\"x\":[-15.067597389221191,-11.876989364624023,-13.409318923950195,-16.081371307373047],\"xaxis\":\"x\",\"y\":[-3.4449431896209717,-3.4741342067718506,-3.6406896114349365,-3.4739794731140137],\"yaxis\":\"y\",\"type\":\"scatter\",\"textposition\":\"top center\"},{\"hovertemplate\":\"color=cluster_8<br>x=%{x}<br>y=%{y}<br>text=%{text}<extra></extra>\",\"legendgroup\":\"cluster_8\",\"marker\":{\"color\":\"#FB0D0D\",\"symbol\":\"circle\"},\"mode\":\"markers+text\",\"name\":\"cluster_8\",\"orientation\":\"v\",\"showlegend\":true,\"text\":[\"CouchDB\",\"React Native\",\"Atom\",\"Sublime Text\"],\"x\":[4.47902250289917,5.592445373535156,2.7286643981933594,5.31588077545166],\"xaxis\":\"x\",\"y\":[-4.853118896484375,0.885495126247406,-2.3185980319976807,-2.0179271697998047],\"yaxis\":\"y\",\"type\":\"scatter\",\"textposition\":\"top center\"},{\"hovertemplate\":\"color=cluster_32<br>x=%{x}<br>y=%{y}<br>text=%{text}<extra></extra>\",\"legendgroup\":\"cluster_32\",\"marker\":{\"color\":\"#DA16FF\",\"symbol\":\"circle\"},\"mode\":\"markers+text\",\"name\":\"cluster_32\",\"orientation\":\"v\",\"showlegend\":true,\"text\":[\"DynamoDB\",\"AWS\",\"Docker\",\"Kubernetes\"],\"x\":[13.71628475189209,13.530531883239746,10.616312980651855,9.480827331542969],\"xaxis\":\"x\",\"y\":[-12.049877166748047,-13.130857467651367,-14.563005447387695,-14.973397254943848],\"yaxis\":\"y\",\"type\":\"scatter\",\"textposition\":\"top center\"},{\"hovertemplate\":\"color=cluster_2<br>x=%{x}<br>y=%{y}<br>text=%{text}<extra></extra>\",\"legendgroup\":\"cluster_2\",\"marker\":{\"color\":\"#222A2A\",\"symbol\":\"circle\"},\"mode\":\"markers+text\",\"name\":\"cluster_2\",\"orientation\":\"v\",\"showlegend\":true,\"text\":[\"MariaDB\",\"Drupal\",\"jQuery\"],\"x\":[12.579608917236328,14.085732460021973,15.069948196411133],\"xaxis\":\"x\",\"y\":[11.887842178344727,10.975065231323242,10.590160369873047],\"yaxis\":\"y\",\"type\":\"scatter\",\"textposition\":\"top center\"},{\"hovertemplate\":\"color=cluster_34<br>x=%{x}<br>y=%{y}<br>text=%{text}<extra></extra>\",\"legendgroup\":\"cluster_34\",\"marker\":{\"color\":\"#B68100\",\"symbol\":\"circle\"},\"mode\":\"markers+text\",\"name\":\"cluster_34\",\"orientation\":\"v\",\"showlegend\":true,\"text\":[\"MongoDB\",\"Neo4j\"],\"x\":[1.7268942594528198,2.166511058807373],\"xaxis\":\"x\",\"y\":[-17.107606887817383,-16.352249145507812],\"yaxis\":\"y\",\"type\":\"scatter\",\"textposition\":\"top center\"},{\"hovertemplate\":\"color=cluster_10<br>x=%{x}<br>y=%{y}<br>text=%{text}<extra></extra>\",\"legendgroup\":\"cluster_10\",\"marker\":{\"color\":\"#750D86\",\"symbol\":\"circle\"},\"mode\":\"markers+text\",\"name\":\"cluster_10\",\"orientation\":\"v\",\"showlegend\":true,\"text\":[\"Oracle\",\"Oracle Cloud Infrastructure\"],\"x\":[-7.409554958343506,-7.15603494644165],\"xaxis\":\"x\",\"y\":[12.969517707824707,12.12024974822998],\"yaxis\":\"y\",\"type\":\"scatter\",\"textposition\":\"top center\"},{\"hovertemplate\":\"color=cluster_38<br>x=%{x}<br>y=%{y}<br>text=%{text}<extra></extra>\",\"legendgroup\":\"cluster_38\",\"marker\":{\"color\":\"#EB663B\",\"symbol\":\"circle\"},\"mode\":\"markers+text\",\"name\":\"cluster_38\",\"orientation\":\"v\",\"showlegend\":true,\"text\":[\"SQLite\",\"Uno Platform\",\"Xamarin\"],\"x\":[4.268599510192871,3.4730703830718994,3.8695218563079834],\"xaxis\":\"x\",\"y\":[19.011882781982422,21.260419845581055,20.10350227355957],\"yaxis\":\"y\",\"type\":\"scatter\",\"textposition\":\"top center\"},{\"hovertemplate\":\"color=cluster_45<br>x=%{x}<br>y=%{y}<br>text=%{text}<extra></extra>\",\"legendgroup\":\"cluster_45\",\"marker\":{\"color\":\"#511CFB\",\"symbol\":\"circle\"},\"mode\":\"markers+text\",\"name\":\"cluster_45\",\"orientation\":\"v\",\"showlegend\":true,\"text\":[\"Heroku\",\"Electron\",\"Rider\"],\"x\":[1.9318149089813232,4.944281101226807,3.5895445346832275],\"xaxis\":\"x\",\"y\":[4.476487159729004,3.936896562576294,7.1125664710998535],\"yaxis\":\"y\",\"type\":\"scatter\",\"textposition\":\"top center\"},{\"hovertemplate\":\"color=cluster_14<br>x=%{x}<br>y=%{y}<br>text=%{text}<extra></extra>\",\"legendgroup\":\"cluster_14\",\"marker\":{\"color\":\"#00A08B\",\"symbol\":\"circle\"},\"mode\":\"markers+text\",\"name\":\"cluster_14\",\"orientation\":\"v\",\"showlegend\":true,\"text\":[\"IBM Cloud or Watson\",\"GTK\",\"Nano\"],\"x\":[-1.051393747329712,-3.249082088470459,0.17040492594242096],\"xaxis\":\"x\",\"y\":[4.536489486694336,6.3346171379089355,6.923397064208984],\"yaxis\":\"y\",\"type\":\"scatter\",\"textposition\":\"top center\"},{\"hovertemplate\":\"color=cluster_4<br>x=%{x}<br>y=%{y}<br>text=%{text}<extra></extra>\",\"legendgroup\":\"cluster_4\",\"marker\":{\"color\":\"#FB00D1\",\"symbol\":\"circle\"},\"mode\":\"markers+text\",\"name\":\"cluster_4\",\"orientation\":\"v\",\"showlegend\":true,\"text\":[\"ASP.NET\",\"Blazor\",\"Notepad++\"],\"x\":[2.9918549060821533,3.3787765502929688,0.9322152137756348],\"xaxis\":\"x\",\"y\":[24.256839752197266,22.77518081665039,23.977678298950195],\"yaxis\":\"y\",\"type\":\"scatter\",\"textposition\":\"top center\"},{\"hovertemplate\":\"color=cluster_42<br>x=%{x}<br>y=%{y}<br>text=%{text}<extra></extra>\",\"legendgroup\":\"cluster_42\",\"marker\":{\"color\":\"#FC0080\",\"symbol\":\"circle\"},\"mode\":\"markers+text\",\"name\":\"cluster_42\",\"orientation\":\"v\",\"showlegend\":true,\"text\":[\"Angular\",\"Angular.js\"],\"x\":[14.776153564453125,14.101489067077637],\"xaxis\":\"x\",\"y\":[4.899783134460449,5.569952487945557],\"yaxis\":\"y\",\"type\":\"scatter\",\"textposition\":\"top center\"},{\"hovertemplate\":\"color=cluster_11<br>x=%{x}<br>y=%{y}<br>text=%{text}<extra></extra>\",\"legendgroup\":\"cluster_11\",\"marker\":{\"color\":\"#B2828D\",\"symbol\":\"circle\"},\"mode\":\"markers+text\",\"name\":\"cluster_11\",\"orientation\":\"v\",\"showlegend\":true,\"text\":[\"FastAPI\",\"Flask\",\"PyCharm\"],\"x\":[-7.660886287689209,-6.840319633483887,-8.88475513458252],\"xaxis\":\"x\",\"y\":[-18.75380516052246,-18.22367286682129,-20.182472229003906],\"yaxis\":\"y\",\"type\":\"scatter\",\"textposition\":\"top center\"},{\"hovertemplate\":\"color=cluster_26<br>x=%{x}<br>y=%{y}<br>text=%{text}<extra></extra>\",\"legendgroup\":\"cluster_26\",\"marker\":{\"color\":\"#6C7C32\",\"symbol\":\"circle\"},\"mode\":\"markers+text\",\"name\":\"cluster_26\",\"orientation\":\"v\",\"showlegend\":true,\"text\":[\"Gatsby\",\"Next.js\",\"React.js\",\"Yarn\"],\"x\":[21.240388870239258,22.536972045898438,23.523481369018555,23.34621810913086],\"xaxis\":\"x\",\"y\":[-4.694282531738281,-4.252059459686279,-3.212488889694214,-4.949337005615234],\"yaxis\":\"y\",\"type\":\"scatter\",\"textposition\":\"top center\"},{\"hovertemplate\":\"color=cluster_37<br>x=%{x}<br>y=%{y}<br>text=%{text}<extra></extra>\",\"legendgroup\":\"cluster_37\",\"marker\":{\"color\":\"#778AAE\",\"symbol\":\"circle\"},\"mode\":\"markers+text\",\"name\":\"cluster_37\",\"orientation\":\"v\",\"showlegend\":true,\"text\":[\"Nuxt.js\",\"Vue.js\"],\"x\":[9.004734992980957,9.908502578735352],\"xaxis\":\"x\",\"y\":[-0.6972905993461609,-0.6420888900756836],\"yaxis\":\"y\",\"type\":\"scatter\",\"textposition\":\"top center\"},{\"hovertemplate\":\"color=cluster_46<br>x=%{x}<br>y=%{y}<br>text=%{text}<extra></extra>\",\"legendgroup\":\"cluster_46\",\"marker\":{\"color\":\"#862A16\",\"symbol\":\"circle\"},\"mode\":\"markers+text\",\"name\":\"cluster_46\",\"orientation\":\"v\",\"showlegend\":true,\"text\":[\"Apache Spark\",\"Hadoop\"],\"x\":[-1.2234957218170166,-1.0238661766052246],\"xaxis\":\"x\",\"y\":[-12.330615997314453,-11.4492826461792],\"yaxis\":\"y\",\"type\":\"scatter\",\"textposition\":\"top center\"},{\"hovertemplate\":\"color=cluster_20<br>x=%{x}<br>y=%{y}<br>text=%{text}<extra></extra>\",\"legendgroup\":\"cluster_20\",\"marker\":{\"color\":\"#A777F1\",\"symbol\":\"circle\"},\"mode\":\"markers+text\",\"name\":\"cluster_20\",\"orientation\":\"v\",\"showlegend\":true,\"text\":[\"Capacitor\",\"Cordova\",\"Ionic\"],\"x\":[9.439676284790039,8.594703674316406,10.492870330810547],\"xaxis\":\"x\",\"y\":[4.6397786140441895,5.40246057510376,4.6793341636657715],\"yaxis\":\"y\",\"type\":\"scatter\",\"textposition\":\"top center\"},{\"hovertemplate\":\"color=cluster_19<br>x=%{x}<br>y=%{y}<br>text=%{text}<extra></extra>\",\"legendgroup\":\"cluster_19\",\"marker\":{\"color\":\"#620042\",\"symbol\":\"circle\"},\"mode\":\"markers+text\",\"name\":\"cluster_19\",\"orientation\":\"v\",\"showlegend\":true,\"text\":[\"Hugging Face Transformers\",\"Keras\",\"Scikit-learn\",\"TensorFlow\",\"Torch/PyTorch\",\"IPython/Jupyter\"],\"x\":[-10.696843147277832,-10.959094047546387,-12.672079086303711,-10.15609359741211,-11.688733100891113,-13.696258544921875],\"xaxis\":\"x\",\"y\":[-22.209552764892578,-23.86492347717285,-24.29755973815918,-24.722227096557617,-22.033416748046875,-24.5584659576416],\"yaxis\":\"y\",\"type\":\"scatter\",\"textposition\":\"top center\"},{\"hovertemplate\":\"color=cluster_36<br>x=%{x}<br>y=%{y}<br>text=%{text}<extra></extra>\",\"legendgroup\":\"cluster_36\",\"marker\":{\"color\":\"#1616A7\",\"symbol\":\"circle\"},\"mode\":\"markers+text\",\"name\":\"cluster_36\",\"orientation\":\"v\",\"showlegend\":true,\"text\":[\"Qt\",\"Qt Creator\"],\"x\":[-15.763754844665527,-14.955337524414062],\"xaxis\":\"x\",\"y\":[7.516181468963623,7.17896842956543],\"yaxis\":\"y\",\"type\":\"scatter\",\"textposition\":\"top center\"},{\"hovertemplate\":\"color=cluster_21<br>x=%{x}<br>y=%{y}<br>text=%{text}<extra></extra>\",\"legendgroup\":\"cluster_21\",\"marker\":{\"color\":\"#DA60CA\",\"symbol\":\"circle\"},\"mode\":\"markers+text\",\"name\":\"cluster_21\",\"orientation\":\"v\",\"showlegend\":true,\"text\":[\"Ansible\",\"Chef\",\"Pulumi\",\"Terraform\"],\"x\":[3.6497228145599365,4.51999568939209,7.428753852844238,7.105916500091553],\"xaxis\":\"x\",\"y\":[-11.101418495178223,-10.760255813598633,-10.045705795288086,-11.463869094848633],\"yaxis\":\"y\",\"type\":\"scatter\",\"textposition\":\"top center\"},{\"hovertemplate\":\"color=cluster_44<br>x=%{x}<br>y=%{y}<br>text=%{text}<extra></extra>\",\"legendgroup\":\"cluster_44\",\"marker\":{\"color\":\"#6C4516\",\"symbol\":\"circle\"},\"mode\":\"markers+text\",\"name\":\"cluster_44\",\"orientation\":\"v\",\"showlegend\":true,\"text\":[\"Unity 3D\",\"Unreal Engine\"],\"x\":[-9.449897766113281,-8.77006721496582],\"xaxis\":\"x\",\"y\":[8.22998046875,7.640422344207764],\"yaxis\":\"y\",\"type\":\"scatter\",\"textposition\":\"top center\"},{\"hovertemplate\":\"color=cluster_28<br>x=%{x}<br>y=%{y}<br>text=%{text}<extra></extra>\",\"legendgroup\":\"cluster_28\",\"marker\":{\"color\":\"#0D2A63\",\"symbol\":\"circle\"},\"mode\":\"markers+text\",\"name\":\"cluster_28\",\"orientation\":\"v\",\"showlegend\":true,\"text\":[\"Eclipse\",\"NetBeans\"],\"x\":[0.7014399766921997,1.1786085367202759],\"xaxis\":\"x\",\"y\":[12.63471508026123,11.708850860595703],\"yaxis\":\"y\",\"type\":\"scatter\",\"textposition\":\"top center\"}],                        {\"template\":{\"data\":{\"histogram2dcontour\":[{\"type\":\"histogram2dcontour\",\"colorbar\":{\"outlinewidth\":0,\"ticks\":\"\"},\"colorscale\":[[0.0,\"#0d0887\"],[0.1111111111111111,\"#46039f\"],[0.2222222222222222,\"#7201a8\"],[0.3333333333333333,\"#9c179e\"],[0.4444444444444444,\"#bd3786\"],[0.5555555555555556,\"#d8576b\"],[0.6666666666666666,\"#ed7953\"],[0.7777777777777778,\"#fb9f3a\"],[0.8888888888888888,\"#fdca26\"],[1.0,\"#f0f921\"]]}],\"choropleth\":[{\"type\":\"choropleth\",\"colorbar\":{\"outlinewidth\":0,\"ticks\":\"\"}}],\"histogram2d\":[{\"type\":\"histogram2d\",\"colorbar\":{\"outlinewidth\":0,\"ticks\":\"\"},\"colorscale\":[[0.0,\"#0d0887\"],[0.1111111111111111,\"#46039f\"],[0.2222222222222222,\"#7201a8\"],[0.3333333333333333,\"#9c179e\"],[0.4444444444444444,\"#bd3786\"],[0.5555555555555556,\"#d8576b\"],[0.6666666666666666,\"#ed7953\"],[0.7777777777777778,\"#fb9f3a\"],[0.8888888888888888,\"#fdca26\"],[1.0,\"#f0f921\"]]}],\"heatmap\":[{\"type\":\"heatmap\",\"colorbar\":{\"outlinewidth\":0,\"ticks\":\"\"},\"colorscale\":[[0.0,\"#0d0887\"],[0.1111111111111111,\"#46039f\"],[0.2222222222222222,\"#7201a8\"],[0.3333333333333333,\"#9c179e\"],[0.4444444444444444,\"#bd3786\"],[0.5555555555555556,\"#d8576b\"],[0.6666666666666666,\"#ed7953\"],[0.7777777777777778,\"#fb9f3a\"],[0.8888888888888888,\"#fdca26\"],[1.0,\"#f0f921\"]]}],\"heatmapgl\":[{\"type\":\"heatmapgl\",\"colorbar\":{\"outlinewidth\":0,\"ticks\":\"\"},\"colorscale\":[[0.0,\"#0d0887\"],[0.1111111111111111,\"#46039f\"],[0.2222222222222222,\"#7201a8\"],[0.3333333333333333,\"#9c179e\"],[0.4444444444444444,\"#bd3786\"],[0.5555555555555556,\"#d8576b\"],[0.6666666666666666,\"#ed7953\"],[0.7777777777777778,\"#fb9f3a\"],[0.8888888888888888,\"#fdca26\"],[1.0,\"#f0f921\"]]}],\"contourcarpet\":[{\"type\":\"contourcarpet\",\"colorbar\":{\"outlinewidth\":0,\"ticks\":\"\"}}],\"contour\":[{\"type\":\"contour\",\"colorbar\":{\"outlinewidth\":0,\"ticks\":\"\"},\"colorscale\":[[0.0,\"#0d0887\"],[0.1111111111111111,\"#46039f\"],[0.2222222222222222,\"#7201a8\"],[0.3333333333333333,\"#9c179e\"],[0.4444444444444444,\"#bd3786\"],[0.5555555555555556,\"#d8576b\"],[0.6666666666666666,\"#ed7953\"],[0.7777777777777778,\"#fb9f3a\"],[0.8888888888888888,\"#fdca26\"],[1.0,\"#f0f921\"]]}],\"surface\":[{\"type\":\"surface\",\"colorbar\":{\"outlinewidth\":0,\"ticks\":\"\"},\"colorscale\":[[0.0,\"#0d0887\"],[0.1111111111111111,\"#46039f\"],[0.2222222222222222,\"#7201a8\"],[0.3333333333333333,\"#9c179e\"],[0.4444444444444444,\"#bd3786\"],[0.5555555555555556,\"#d8576b\"],[0.6666666666666666,\"#ed7953\"],[0.7777777777777778,\"#fb9f3a\"],[0.8888888888888888,\"#fdca26\"],[1.0,\"#f0f921\"]]}],\"mesh3d\":[{\"type\":\"mesh3d\",\"colorbar\":{\"outlinewidth\":0,\"ticks\":\"\"}}],\"scatter\":[{\"marker\":{\"line\":{\"color\":\"#283442\"}},\"type\":\"scatter\"}],\"parcoords\":[{\"type\":\"parcoords\",\"line\":{\"colorbar\":{\"outlinewidth\":0,\"ticks\":\"\"}}}],\"scatterpolargl\":[{\"type\":\"scatterpolargl\",\"marker\":{\"colorbar\":{\"outlinewidth\":0,\"ticks\":\"\"}}}],\"bar\":[{\"error_x\":{\"color\":\"#f2f5fa\"},\"error_y\":{\"color\":\"#f2f5fa\"},\"marker\":{\"line\":{\"color\":\"rgb(17,17,17)\",\"width\":0.5},\"pattern\":{\"fillmode\":\"overlay\",\"size\":10,\"solidity\":0.2}},\"type\":\"bar\"}],\"scattergeo\":[{\"type\":\"scattergeo\",\"marker\":{\"colorbar\":{\"outlinewidth\":0,\"ticks\":\"\"}}}],\"scatterpolar\":[{\"type\":\"scatterpolar\",\"marker\":{\"colorbar\":{\"outlinewidth\":0,\"ticks\":\"\"}}}],\"histogram\":[{\"marker\":{\"pattern\":{\"fillmode\":\"overlay\",\"size\":10,\"solidity\":0.2}},\"type\":\"histogram\"}],\"scattergl\":[{\"marker\":{\"line\":{\"color\":\"#283442\"}},\"type\":\"scattergl\"}],\"scatter3d\":[{\"type\":\"scatter3d\",\"line\":{\"colorbar\":{\"outlinewidth\":0,\"ticks\":\"\"}},\"marker\":{\"colorbar\":{\"outlinewidth\":0,\"ticks\":\"\"}}}],\"scattermapbox\":[{\"type\":\"scattermapbox\",\"marker\":{\"colorbar\":{\"outlinewidth\":0,\"ticks\":\"\"}}}],\"scatterternary\":[{\"type\":\"scatterternary\",\"marker\":{\"colorbar\":{\"outlinewidth\":0,\"ticks\":\"\"}}}],\"scattercarpet\":[{\"type\":\"scattercarpet\",\"marker\":{\"colorbar\":{\"outlinewidth\":0,\"ticks\":\"\"}}}],\"carpet\":[{\"aaxis\":{\"endlinecolor\":\"#A2B1C6\",\"gridcolor\":\"#506784\",\"linecolor\":\"#506784\",\"minorgridcolor\":\"#506784\",\"startlinecolor\":\"#A2B1C6\"},\"baxis\":{\"endlinecolor\":\"#A2B1C6\",\"gridcolor\":\"#506784\",\"linecolor\":\"#506784\",\"minorgridcolor\":\"#506784\",\"startlinecolor\":\"#A2B1C6\"},\"type\":\"carpet\"}],\"table\":[{\"cells\":{\"fill\":{\"color\":\"#506784\"},\"line\":{\"color\":\"rgb(17,17,17)\"}},\"header\":{\"fill\":{\"color\":\"#2a3f5f\"},\"line\":{\"color\":\"rgb(17,17,17)\"}},\"type\":\"table\"}],\"barpolar\":[{\"marker\":{\"line\":{\"color\":\"rgb(17,17,17)\",\"width\":0.5},\"pattern\":{\"fillmode\":\"overlay\",\"size\":10,\"solidity\":0.2}},\"type\":\"barpolar\"}],\"pie\":[{\"automargin\":true,\"type\":\"pie\"}]},\"layout\":{\"autotypenumbers\":\"strict\",\"colorway\":[\"#636efa\",\"#EF553B\",\"#00cc96\",\"#ab63fa\",\"#FFA15A\",\"#19d3f3\",\"#FF6692\",\"#B6E880\",\"#FF97FF\",\"#FECB52\"],\"font\":{\"color\":\"#f2f5fa\"},\"hovermode\":\"closest\",\"hoverlabel\":{\"align\":\"left\"},\"paper_bgcolor\":\"rgb(17,17,17)\",\"plot_bgcolor\":\"rgb(17,17,17)\",\"polar\":{\"bgcolor\":\"rgb(17,17,17)\",\"angularaxis\":{\"gridcolor\":\"#506784\",\"linecolor\":\"#506784\",\"ticks\":\"\"},\"radialaxis\":{\"gridcolor\":\"#506784\",\"linecolor\":\"#506784\",\"ticks\":\"\"}},\"ternary\":{\"bgcolor\":\"rgb(17,17,17)\",\"aaxis\":{\"gridcolor\":\"#506784\",\"linecolor\":\"#506784\",\"ticks\":\"\"},\"baxis\":{\"gridcolor\":\"#506784\",\"linecolor\":\"#506784\",\"ticks\":\"\"},\"caxis\":{\"gridcolor\":\"#506784\",\"linecolor\":\"#506784\",\"ticks\":\"\"}},\"coloraxis\":{\"colorbar\":{\"outlinewidth\":0,\"ticks\":\"\"}},\"colorscale\":{\"sequential\":[[0.0,\"#0d0887\"],[0.1111111111111111,\"#46039f\"],[0.2222222222222222,\"#7201a8\"],[0.3333333333333333,\"#9c179e\"],[0.4444444444444444,\"#bd3786\"],[0.5555555555555556,\"#d8576b\"],[0.6666666666666666,\"#ed7953\"],[0.7777777777777778,\"#fb9f3a\"],[0.8888888888888888,\"#fdca26\"],[1.0,\"#f0f921\"]],\"sequentialminus\":[[0.0,\"#0d0887\"],[0.1111111111111111,\"#46039f\"],[0.2222222222222222,\"#7201a8\"],[0.3333333333333333,\"#9c179e\"],[0.4444444444444444,\"#bd3786\"],[0.5555555555555556,\"#d8576b\"],[0.6666666666666666,\"#ed7953\"],[0.7777777777777778,\"#fb9f3a\"],[0.8888888888888888,\"#fdca26\"],[1.0,\"#f0f921\"]],\"diverging\":[[0,\"#8e0152\"],[0.1,\"#c51b7d\"],[0.2,\"#de77ae\"],[0.3,\"#f1b6da\"],[0.4,\"#fde0ef\"],[0.5,\"#f7f7f7\"],[0.6,\"#e6f5d0\"],[0.7,\"#b8e186\"],[0.8,\"#7fbc41\"],[0.9,\"#4d9221\"],[1,\"#276419\"]]},\"xaxis\":{\"gridcolor\":\"#283442\",\"linecolor\":\"#506784\",\"ticks\":\"\",\"title\":{\"standoff\":15},\"zerolinecolor\":\"#283442\",\"automargin\":true,\"zerolinewidth\":2},\"yaxis\":{\"gridcolor\":\"#283442\",\"linecolor\":\"#506784\",\"ticks\":\"\",\"title\":{\"standoff\":15},\"zerolinecolor\":\"#283442\",\"automargin\":true,\"zerolinewidth\":2},\"scene\":{\"xaxis\":{\"backgroundcolor\":\"rgb(17,17,17)\",\"gridcolor\":\"#506784\",\"linecolor\":\"#506784\",\"showbackground\":true,\"ticks\":\"\",\"zerolinecolor\":\"#C8D4E3\",\"gridwidth\":2},\"yaxis\":{\"backgroundcolor\":\"rgb(17,17,17)\",\"gridcolor\":\"#506784\",\"linecolor\":\"#506784\",\"showbackground\":true,\"ticks\":\"\",\"zerolinecolor\":\"#C8D4E3\",\"gridwidth\":2},\"zaxis\":{\"backgroundcolor\":\"rgb(17,17,17)\",\"gridcolor\":\"#506784\",\"linecolor\":\"#506784\",\"showbackground\":true,\"ticks\":\"\",\"zerolinecolor\":\"#C8D4E3\",\"gridwidth\":2}},\"shapedefaults\":{\"line\":{\"color\":\"#f2f5fa\"}},\"annotationdefaults\":{\"arrowcolor\":\"#f2f5fa\",\"arrowhead\":0,\"arrowwidth\":1},\"geo\":{\"bgcolor\":\"rgb(17,17,17)\",\"landcolor\":\"rgb(17,17,17)\",\"subunitcolor\":\"#506784\",\"showland\":true,\"showlakes\":true,\"lakecolor\":\"rgb(17,17,17)\"},\"title\":{\"x\":0.05},\"updatemenudefaults\":{\"bgcolor\":\"#506784\",\"borderwidth\":0},\"sliderdefaults\":{\"bgcolor\":\"#C8D4E3\",\"borderwidth\":1,\"bordercolor\":\"rgb(17,17,17)\",\"tickwidth\":0},\"mapbox\":{\"style\":\"dark\"}}},\"xaxis\":{\"anchor\":\"y\",\"domain\":[0.0,1.0],\"title\":{\"text\":\"x\"}},\"yaxis\":{\"anchor\":\"x\",\"domain\":[0.0,1.0],\"title\":{\"text\":\"y\"}},\"legend\":{\"title\":{\"text\":\"color\"},\"tracegroupgap\":0},\"margin\":{\"t\":60},\"title\":{\"text\":\"Clustering top skills for All roles\"},\"height\":900,\"width\":1500},                        {\"responsive\": true}                    ).then(function(){\n                            \nvar gd = document.getElementById('10b26695-44ca-47af-ba23-a90071bf4398');\nvar x = new MutationObserver(function (mutations, observer) {{\n        var display = window.getComputedStyle(gd).display;\n        if (!display || display === 'none') {{\n            console.log([gd, 'removed!']);\n            Plotly.purge(gd);\n            observer.disconnect();\n        }}\n}});\n\n// Listen for the removal of the full notebook cells\nvar notebookContainer = gd.closest('#notebook-container');\nif (notebookContainer) {{\n    x.observe(notebookContainer, {childList: true});\n}}\n\n// Listen for the clearing of the current output cell\nvar outputEl = gd.closest('.output');\nif (outputEl) {{\n    x.observe(outputEl, {childList: true});\n}}\n\n                        })                };                });            </script>        </div>"
     },
     "metadata": {},
     "output_type": "display_data"
    }
   ],
   "source": [
    "all_skills = skills_dev_df.drop('DevType', axis = 1, level = 0).droplevel(axis = 1, level = 0).T\n",
    "all_skills_tsne = reduce_dimensions(all_skills)\n",
    "best_k, best_labels_all_skills = evaluate_cluster_model(all_skills_tsne, range_clusters=range(5,50), plot = True)\n",
    "visualize_chosen_cluster_model('All roles', all_skills_tsne, best_labels_all_skills)"
   ],
   "metadata": {
    "collapsed": false
   }
  },
  {
   "cell_type": "code",
   "execution_count": 874,
   "outputs": [
    {
     "name": "stdout",
     "output_type": "stream",
     "text": [
      "cluster_0 ['Cassandra', 'Elasticsearch', 'PostgreSQL', 'Redis', 'Apache Kafka']\n",
      "cluster_1 ['APL', 'Colocation', 'Linode', 'Managed Hosting', 'CLion', 'TextMate']\n",
      "cluster_10 ['Oracle', 'Oracle Cloud Infrastructure']\n",
      "cluster_11 ['FastAPI', 'Flask', 'PyCharm']\n",
      "cluster_12 ['Scala', 'Play Framework']\n",
      "cluster_13 ['Go', 'GoLand']\n",
      "cluster_14 ['IBM Cloud or Watson', 'GTK', 'Nano']\n",
      "cluster_15 ['Delphi', 'RAD Studio (Delphi_C++ Builder)']\n",
      "cluster_16 ['Cloud Firestore', 'Firebase Realtime Database', 'Firebase', 'Google Cloud']\n",
      "cluster_17 ['R', 'Tidyverse', 'RStudio']\n",
      "cluster_18 ['C#', 'SQL', 'Microsoft SQL Server', 'Microsoft Azure', 'ASP.NET Core ', '.NET', 'Visual Studio']\n",
      "cluster_19 ['Hugging Face Transformers', 'Keras', 'Scikit-learn', 'TensorFlow', 'Torch/PyTorch', 'IPython/Jupyter']\n",
      "cluster_2 ['MariaDB', 'Drupal', 'jQuery']\n",
      "cluster_20 ['Capacitor', 'Cordova', 'Ionic']\n",
      "cluster_21 ['Ansible', 'Chef', 'Pulumi', 'Terraform']\n",
      "cluster_22 ['Elixir', 'Phoenix', 'Homebrew']\n",
      "cluster_23 ['Objective-C', 'Swift', 'Xcode']\n",
      "cluster_24 ['Groovy', 'Java', 'Spring', 'IntelliJ']\n",
      "cluster_25 ['Rust', 'Deno', 'Svelte']\n",
      "cluster_26 ['Gatsby', 'Next.js', 'React.js', 'Yarn']\n",
      "cluster_27 ['HTML/CSS', 'JavaScript', 'Visual Studio Code']\n",
      "cluster_28 ['Eclipse', 'NetBeans']\n",
      "cluster_29 ['Kotlin', 'SAS', 'VBA', 'Couchbase', 'OpenStack', 'VMware', 'Puppet', 'Spyder']\n",
      "cluster_3 ['Ruby', 'Ruby on Rails']\n",
      "cluster_30 ['Clojure', 'LISP', 'Emacs']\n",
      "cluster_31 ['PHP', 'MySQL', 'Laravel', 'Symfony', 'PhpStorm']\n",
      "cluster_32 ['DynamoDB', 'AWS', 'Docker', 'Kubernetes']\n",
      "cluster_33 ['Bash/Shell', 'Perl', 'Vim']\n",
      "cluster_34 ['MongoDB', 'Neo4j']\n",
      "cluster_35 ['F#', 'PowerShell']\n",
      "cluster_36 ['Qt', 'Qt Creator']\n",
      "cluster_37 ['Nuxt.js', 'Vue.js']\n",
      "cluster_38 ['SQLite', 'Uno Platform', 'Xamarin']\n",
      "cluster_39 ['Erlang', 'Julia', 'MATLAB', 'RubyMine']\n",
      "cluster_4 ['ASP.NET', 'Blazor', 'Notepad++']\n",
      "cluster_40 ['Crystal', 'Solidity', 'DigitalOcean', 'OVH', 'Django', 'Flow', 'Webstorm']\n",
      "cluster_41 ['Fortran', 'Haskell', 'Lua', 'OCaml', 'Neovim']\n",
      "cluster_42 ['Angular', 'Angular.js']\n",
      "cluster_43 ['COBOL', 'IBM DB2']\n",
      "cluster_44 ['Unity 3D', 'Unreal Engine']\n",
      "cluster_45 ['Heroku', 'Electron', 'Rider']\n",
      "cluster_46 ['Apache Spark', 'Hadoop']\n",
      "cluster_5 ['Python', 'NumPy', 'Pandas']\n",
      "cluster_6 ['TypeScript', 'Express', 'Fastify', 'Node.js', 'npm']\n",
      "cluster_7 ['Assembly', 'C', 'C++']\n",
      "cluster_8 ['CouchDB', 'React Native', 'Atom', 'Sublime Text']\n",
      "cluster_9 ['Dart', 'Flutter', 'Android Studio']\n"
     ]
    }
   ],
   "source": [
    "for label in sorted(set(best_labels_all_skills)):\n",
    "    print(label, list(all_skills_tsne[best_labels_all_skills==label].index))"
   ],
   "metadata": {
    "collapsed": false
   }
  },
  {
   "cell_type": "markdown",
   "source": [
    "### Adding new Features --clustering results--"
   ],
   "metadata": {
    "collapsed": false
   }
  },
  {
   "cell_type": "code",
   "execution_count": 887,
   "outputs": [],
   "source": [
    "skills_df = skills_dev_df.drop('DevType', axis=1, level = 0).droplevel(axis=1, level = 0)\n",
    "clustered_skills_df = {}\n",
    "for label in sorted(set(best_labels_all_skills)):\n",
    "    clustered_skills = list(all_skills_tsne[best_labels_all_skills==label].index)\n",
    "    clustered_skills_df[label] = skills_df[clustered_skills].sum(axis = 1)"
   ],
   "metadata": {
    "collapsed": false
   }
  },
  {
   "cell_type": "code",
   "execution_count": 888,
   "outputs": [
    {
     "data": {
      "text/plain": "       cluster_0  cluster_1  cluster_10  cluster_11  cluster_12  cluster_13  \\\n2       0.000000   0.000000    0.000000    0.000000         0.0    0.000000   \n3       0.000000   0.000000    0.000000    0.000000         0.0    0.000000   \n7       0.002722   0.008167    0.000000    0.000000         0.0    0.002722   \n9       0.000000   0.000000    0.000000    0.000000         0.0    0.000000   \n10      0.000000   0.000000    0.000000    0.000000         0.0    0.037356   \n...          ...        ...         ...         ...         ...         ...   \n73262   0.000000   0.000000    0.000000    0.000000         0.0    0.000000   \n73263   0.425124   0.000000    0.000000    0.159422         0.0    0.053141   \n73264   0.052150   0.000000    0.034767    0.086917         0.0    0.000000   \n73265   0.257735   0.343647    0.000000    0.000000         0.0    0.000000   \n73266   0.000000   0.000000    0.271340    0.000000         0.0    0.000000   \n\n       cluster_14  cluster_15  cluster_16  cluster_17  ...  cluster_42  \\\n2             0.0    0.000000    0.000000         0.0  ...    0.104301   \n3             0.0    0.000000    0.000000         0.0  ...    0.000000   \n7             0.0    0.000000    0.008167         0.0  ...    0.005444   \n9             0.0    0.337235    0.168618         0.0  ...    0.000000   \n10            0.0    0.000000    0.000000         0.0  ...    0.000000   \n...           ...         ...         ...         ...  ...         ...   \n73262         0.0    0.000000    0.000000         0.0  ...    0.000000   \n73263         0.0    0.000000    0.159422         0.0  ...    0.000000   \n73264         0.0    0.000000    0.000000         0.0  ...    0.000000   \n73265         0.0    0.000000    0.085912         0.0  ...    0.000000   \n73266         0.0    0.814020    0.000000         0.0  ...    0.000000   \n\n       cluster_43  cluster_44  cluster_45  cluster_46  cluster_5  cluster_6  \\\n2             0.0    0.000000    0.000000         0.0   0.104301   0.026075   \n3             0.0    0.000000    0.000000         0.0   0.000000   0.348833   \n7             0.0    0.002722    0.005444         0.0   0.002722   0.013611   \n9             0.0    0.000000    0.000000         0.0   0.000000   0.000000   \n10            0.0    0.000000    0.112069         0.0   0.000000   0.074712   \n...           ...         ...         ...         ...        ...        ...   \n73262         0.0    0.000000    0.000000         0.0   0.000000   0.006500   \n73263         0.0    0.000000    0.000000         0.0   0.159422   0.637686   \n73264         0.0    0.000000    0.000000         0.0   0.156451   0.000000   \n73265         0.0    0.085912    0.000000         0.0   0.515471   0.257735   \n73266         0.0    0.000000    0.000000         0.0   0.000000   0.000000   \n\n       cluster_7  cluster_8  cluster_9  \n2       0.078225   0.000000   0.000000  \n3       0.000000   0.000000   0.000000  \n7       0.010889   0.008167   0.002722  \n9       0.000000   0.000000   0.168618  \n10      0.000000   0.000000   0.000000  \n...          ...        ...        ...  \n73262   0.007583   0.000000   0.001083  \n73263   0.000000   0.159422   0.212562  \n73264   0.000000   0.000000   0.000000  \n73265   0.000000   0.257735   0.000000  \n73266   0.000000   0.000000   0.000000  \n\n[50423 rows x 47 columns]",
      "text/html": "<div>\n<style scoped>\n    .dataframe tbody tr th:only-of-type {\n        vertical-align: middle;\n    }\n\n    .dataframe tbody tr th {\n        vertical-align: top;\n    }\n\n    .dataframe thead th {\n        text-align: right;\n    }\n</style>\n<table border=\"1\" class=\"dataframe\">\n  <thead>\n    <tr style=\"text-align: right;\">\n      <th></th>\n      <th>cluster_0</th>\n      <th>cluster_1</th>\n      <th>cluster_10</th>\n      <th>cluster_11</th>\n      <th>cluster_12</th>\n      <th>cluster_13</th>\n      <th>cluster_14</th>\n      <th>cluster_15</th>\n      <th>cluster_16</th>\n      <th>cluster_17</th>\n      <th>...</th>\n      <th>cluster_42</th>\n      <th>cluster_43</th>\n      <th>cluster_44</th>\n      <th>cluster_45</th>\n      <th>cluster_46</th>\n      <th>cluster_5</th>\n      <th>cluster_6</th>\n      <th>cluster_7</th>\n      <th>cluster_8</th>\n      <th>cluster_9</th>\n    </tr>\n  </thead>\n  <tbody>\n    <tr>\n      <th>2</th>\n      <td>0.000000</td>\n      <td>0.000000</td>\n      <td>0.000000</td>\n      <td>0.000000</td>\n      <td>0.0</td>\n      <td>0.000000</td>\n      <td>0.0</td>\n      <td>0.000000</td>\n      <td>0.000000</td>\n      <td>0.0</td>\n      <td>...</td>\n      <td>0.104301</td>\n      <td>0.0</td>\n      <td>0.000000</td>\n      <td>0.000000</td>\n      <td>0.0</td>\n      <td>0.104301</td>\n      <td>0.026075</td>\n      <td>0.078225</td>\n      <td>0.000000</td>\n      <td>0.000000</td>\n    </tr>\n    <tr>\n      <th>3</th>\n      <td>0.000000</td>\n      <td>0.000000</td>\n      <td>0.000000</td>\n      <td>0.000000</td>\n      <td>0.0</td>\n      <td>0.000000</td>\n      <td>0.0</td>\n      <td>0.000000</td>\n      <td>0.000000</td>\n      <td>0.0</td>\n      <td>...</td>\n      <td>0.000000</td>\n      <td>0.0</td>\n      <td>0.000000</td>\n      <td>0.000000</td>\n      <td>0.0</td>\n      <td>0.000000</td>\n      <td>0.348833</td>\n      <td>0.000000</td>\n      <td>0.000000</td>\n      <td>0.000000</td>\n    </tr>\n    <tr>\n      <th>7</th>\n      <td>0.002722</td>\n      <td>0.008167</td>\n      <td>0.000000</td>\n      <td>0.000000</td>\n      <td>0.0</td>\n      <td>0.002722</td>\n      <td>0.0</td>\n      <td>0.000000</td>\n      <td>0.008167</td>\n      <td>0.0</td>\n      <td>...</td>\n      <td>0.005444</td>\n      <td>0.0</td>\n      <td>0.002722</td>\n      <td>0.005444</td>\n      <td>0.0</td>\n      <td>0.002722</td>\n      <td>0.013611</td>\n      <td>0.010889</td>\n      <td>0.008167</td>\n      <td>0.002722</td>\n    </tr>\n    <tr>\n      <th>9</th>\n      <td>0.000000</td>\n      <td>0.000000</td>\n      <td>0.000000</td>\n      <td>0.000000</td>\n      <td>0.0</td>\n      <td>0.000000</td>\n      <td>0.0</td>\n      <td>0.337235</td>\n      <td>0.168618</td>\n      <td>0.0</td>\n      <td>...</td>\n      <td>0.000000</td>\n      <td>0.0</td>\n      <td>0.000000</td>\n      <td>0.000000</td>\n      <td>0.0</td>\n      <td>0.000000</td>\n      <td>0.000000</td>\n      <td>0.000000</td>\n      <td>0.000000</td>\n      <td>0.168618</td>\n    </tr>\n    <tr>\n      <th>10</th>\n      <td>0.000000</td>\n      <td>0.000000</td>\n      <td>0.000000</td>\n      <td>0.000000</td>\n      <td>0.0</td>\n      <td>0.037356</td>\n      <td>0.0</td>\n      <td>0.000000</td>\n      <td>0.000000</td>\n      <td>0.0</td>\n      <td>...</td>\n      <td>0.000000</td>\n      <td>0.0</td>\n      <td>0.000000</td>\n      <td>0.112069</td>\n      <td>0.0</td>\n      <td>0.000000</td>\n      <td>0.074712</td>\n      <td>0.000000</td>\n      <td>0.000000</td>\n      <td>0.000000</td>\n    </tr>\n    <tr>\n      <th>...</th>\n      <td>...</td>\n      <td>...</td>\n      <td>...</td>\n      <td>...</td>\n      <td>...</td>\n      <td>...</td>\n      <td>...</td>\n      <td>...</td>\n      <td>...</td>\n      <td>...</td>\n      <td>...</td>\n      <td>...</td>\n      <td>...</td>\n      <td>...</td>\n      <td>...</td>\n      <td>...</td>\n      <td>...</td>\n      <td>...</td>\n      <td>...</td>\n      <td>...</td>\n      <td>...</td>\n    </tr>\n    <tr>\n      <th>73262</th>\n      <td>0.000000</td>\n      <td>0.000000</td>\n      <td>0.000000</td>\n      <td>0.000000</td>\n      <td>0.0</td>\n      <td>0.000000</td>\n      <td>0.0</td>\n      <td>0.000000</td>\n      <td>0.000000</td>\n      <td>0.0</td>\n      <td>...</td>\n      <td>0.000000</td>\n      <td>0.0</td>\n      <td>0.000000</td>\n      <td>0.000000</td>\n      <td>0.0</td>\n      <td>0.000000</td>\n      <td>0.006500</td>\n      <td>0.007583</td>\n      <td>0.000000</td>\n      <td>0.001083</td>\n    </tr>\n    <tr>\n      <th>73263</th>\n      <td>0.425124</td>\n      <td>0.000000</td>\n      <td>0.000000</td>\n      <td>0.159422</td>\n      <td>0.0</td>\n      <td>0.053141</td>\n      <td>0.0</td>\n      <td>0.000000</td>\n      <td>0.159422</td>\n      <td>0.0</td>\n      <td>...</td>\n      <td>0.000000</td>\n      <td>0.0</td>\n      <td>0.000000</td>\n      <td>0.000000</td>\n      <td>0.0</td>\n      <td>0.159422</td>\n      <td>0.637686</td>\n      <td>0.000000</td>\n      <td>0.159422</td>\n      <td>0.212562</td>\n    </tr>\n    <tr>\n      <th>73264</th>\n      <td>0.052150</td>\n      <td>0.000000</td>\n      <td>0.034767</td>\n      <td>0.086917</td>\n      <td>0.0</td>\n      <td>0.000000</td>\n      <td>0.0</td>\n      <td>0.000000</td>\n      <td>0.000000</td>\n      <td>0.0</td>\n      <td>...</td>\n      <td>0.000000</td>\n      <td>0.0</td>\n      <td>0.000000</td>\n      <td>0.000000</td>\n      <td>0.0</td>\n      <td>0.156451</td>\n      <td>0.000000</td>\n      <td>0.000000</td>\n      <td>0.000000</td>\n      <td>0.000000</td>\n    </tr>\n    <tr>\n      <th>73265</th>\n      <td>0.257735</td>\n      <td>0.343647</td>\n      <td>0.000000</td>\n      <td>0.000000</td>\n      <td>0.0</td>\n      <td>0.000000</td>\n      <td>0.0</td>\n      <td>0.000000</td>\n      <td>0.085912</td>\n      <td>0.0</td>\n      <td>...</td>\n      <td>0.000000</td>\n      <td>0.0</td>\n      <td>0.085912</td>\n      <td>0.000000</td>\n      <td>0.0</td>\n      <td>0.515471</td>\n      <td>0.257735</td>\n      <td>0.000000</td>\n      <td>0.257735</td>\n      <td>0.000000</td>\n    </tr>\n    <tr>\n      <th>73266</th>\n      <td>0.000000</td>\n      <td>0.000000</td>\n      <td>0.271340</td>\n      <td>0.000000</td>\n      <td>0.0</td>\n      <td>0.000000</td>\n      <td>0.0</td>\n      <td>0.814020</td>\n      <td>0.000000</td>\n      <td>0.0</td>\n      <td>...</td>\n      <td>0.000000</td>\n      <td>0.0</td>\n      <td>0.000000</td>\n      <td>0.000000</td>\n      <td>0.0</td>\n      <td>0.000000</td>\n      <td>0.000000</td>\n      <td>0.000000</td>\n      <td>0.000000</td>\n      <td>0.000000</td>\n    </tr>\n  </tbody>\n</table>\n<p>50423 rows × 47 columns</p>\n</div>"
     },
     "execution_count": 888,
     "metadata": {},
     "output_type": "execute_result"
    }
   ],
   "source": [
    "clustered_skills_df = pd.concat(clustered_skills_df, axis = 1)\n",
    "clustered_skills_df"
   ],
   "metadata": {
    "collapsed": false
   }
  },
  {
   "cell_type": "code",
   "execution_count": 889,
   "outputs": [],
   "source": [
    "clustered_skills_df.columns = pd.MultiIndex.from_product([['clustered_skills'], clustered_skills_df.columns])"
   ],
   "metadata": {
    "collapsed": false
   }
  },
  {
   "cell_type": "code",
   "execution_count": 909,
   "outputs": [
    {
     "data": {
      "text/plain": "      clustered_skills                                                        \\\n             cluster_0 cluster_1 cluster_10 cluster_11 cluster_12 cluster_13   \n2             0.000000  0.000000   0.000000   0.000000        0.0   0.000000   \n3             0.000000  0.000000   0.000000   0.000000        0.0   0.000000   \n7             0.002722  0.008167   0.000000   0.000000        0.0   0.002722   \n9             0.000000  0.000000   0.000000   0.000000        0.0   0.000000   \n10            0.000000  0.000000   0.000000   0.000000        0.0   0.037356   \n...                ...       ...        ...        ...        ...        ...   \n73262         0.000000  0.000000   0.000000   0.000000        0.0   0.000000   \n73263         0.425124  0.000000   0.000000   0.159422        0.0   0.053141   \n73264         0.052150  0.000000   0.034767   0.086917        0.0   0.000000   \n73265         0.257735  0.343647   0.000000   0.000000        0.0   0.000000   \n73266         0.000000  0.000000   0.271340   0.000000        0.0   0.000000   \n\n                                                   ...                        \\\n      cluster_14 cluster_15 cluster_16 cluster_17  ... cluster_42 cluster_43   \n2            0.0   0.000000   0.000000        0.0  ...   0.104301        0.0   \n3            0.0   0.000000   0.000000        0.0  ...   0.000000        0.0   \n7            0.0   0.000000   0.008167        0.0  ...   0.005444        0.0   \n9            0.0   0.337235   0.168618        0.0  ...   0.000000        0.0   \n10           0.0   0.000000   0.000000        0.0  ...   0.000000        0.0   \n...          ...        ...        ...        ...  ...        ...        ...   \n73262        0.0   0.000000   0.000000        0.0  ...   0.000000        0.0   \n73263        0.0   0.000000   0.159422        0.0  ...   0.000000        0.0   \n73264        0.0   0.000000   0.000000        0.0  ...   0.000000        0.0   \n73265        0.0   0.000000   0.085912        0.0  ...   0.000000        0.0   \n73266        0.0   0.814020   0.000000        0.0  ...   0.000000        0.0   \n\n                                                                      \\\n      cluster_44 cluster_45 cluster_46 cluster_5 cluster_6 cluster_7   \n2       0.000000   0.000000        0.0  0.104301  0.026075  0.078225   \n3       0.000000   0.000000        0.0  0.000000  0.348833  0.000000   \n7       0.002722   0.005444        0.0  0.002722  0.013611  0.010889   \n9       0.000000   0.000000        0.0  0.000000  0.000000  0.000000   \n10      0.000000   0.112069        0.0  0.000000  0.074712  0.000000   \n...          ...        ...        ...       ...       ...       ...   \n73262   0.000000   0.000000        0.0  0.000000  0.006500  0.007583   \n73263   0.000000   0.000000        0.0  0.159422  0.637686  0.000000   \n73264   0.000000   0.000000        0.0  0.156451  0.000000  0.000000   \n73265   0.085912   0.000000        0.0  0.515471  0.257735  0.000000   \n73266   0.000000   0.000000        0.0  0.000000  0.000000  0.000000   \n\n                           \n      cluster_8 cluster_9  \n2      0.000000  0.000000  \n3      0.000000  0.000000  \n7      0.008167  0.002722  \n9      0.000000  0.168618  \n10     0.000000  0.000000  \n...         ...       ...  \n73262  0.000000  0.001083  \n73263  0.159422  0.212562  \n73264  0.000000  0.000000  \n73265  0.257735  0.000000  \n73266  0.000000  0.000000  \n\n[50423 rows x 47 columns]",
      "text/html": "<div>\n<style scoped>\n    .dataframe tbody tr th:only-of-type {\n        vertical-align: middle;\n    }\n\n    .dataframe tbody tr th {\n        vertical-align: top;\n    }\n\n    .dataframe thead tr th {\n        text-align: left;\n    }\n</style>\n<table border=\"1\" class=\"dataframe\">\n  <thead>\n    <tr>\n      <th></th>\n      <th colspan=\"21\" halign=\"left\">clustered_skills</th>\n    </tr>\n    <tr>\n      <th></th>\n      <th>cluster_0</th>\n      <th>cluster_1</th>\n      <th>cluster_10</th>\n      <th>cluster_11</th>\n      <th>cluster_12</th>\n      <th>cluster_13</th>\n      <th>cluster_14</th>\n      <th>cluster_15</th>\n      <th>cluster_16</th>\n      <th>cluster_17</th>\n      <th>...</th>\n      <th>cluster_42</th>\n      <th>cluster_43</th>\n      <th>cluster_44</th>\n      <th>cluster_45</th>\n      <th>cluster_46</th>\n      <th>cluster_5</th>\n      <th>cluster_6</th>\n      <th>cluster_7</th>\n      <th>cluster_8</th>\n      <th>cluster_9</th>\n    </tr>\n  </thead>\n  <tbody>\n    <tr>\n      <th>2</th>\n      <td>0.000000</td>\n      <td>0.000000</td>\n      <td>0.000000</td>\n      <td>0.000000</td>\n      <td>0.0</td>\n      <td>0.000000</td>\n      <td>0.0</td>\n      <td>0.000000</td>\n      <td>0.000000</td>\n      <td>0.0</td>\n      <td>...</td>\n      <td>0.104301</td>\n      <td>0.0</td>\n      <td>0.000000</td>\n      <td>0.000000</td>\n      <td>0.0</td>\n      <td>0.104301</td>\n      <td>0.026075</td>\n      <td>0.078225</td>\n      <td>0.000000</td>\n      <td>0.000000</td>\n    </tr>\n    <tr>\n      <th>3</th>\n      <td>0.000000</td>\n      <td>0.000000</td>\n      <td>0.000000</td>\n      <td>0.000000</td>\n      <td>0.0</td>\n      <td>0.000000</td>\n      <td>0.0</td>\n      <td>0.000000</td>\n      <td>0.000000</td>\n      <td>0.0</td>\n      <td>...</td>\n      <td>0.000000</td>\n      <td>0.0</td>\n      <td>0.000000</td>\n      <td>0.000000</td>\n      <td>0.0</td>\n      <td>0.000000</td>\n      <td>0.348833</td>\n      <td>0.000000</td>\n      <td>0.000000</td>\n      <td>0.000000</td>\n    </tr>\n    <tr>\n      <th>7</th>\n      <td>0.002722</td>\n      <td>0.008167</td>\n      <td>0.000000</td>\n      <td>0.000000</td>\n      <td>0.0</td>\n      <td>0.002722</td>\n      <td>0.0</td>\n      <td>0.000000</td>\n      <td>0.008167</td>\n      <td>0.0</td>\n      <td>...</td>\n      <td>0.005444</td>\n      <td>0.0</td>\n      <td>0.002722</td>\n      <td>0.005444</td>\n      <td>0.0</td>\n      <td>0.002722</td>\n      <td>0.013611</td>\n      <td>0.010889</td>\n      <td>0.008167</td>\n      <td>0.002722</td>\n    </tr>\n    <tr>\n      <th>9</th>\n      <td>0.000000</td>\n      <td>0.000000</td>\n      <td>0.000000</td>\n      <td>0.000000</td>\n      <td>0.0</td>\n      <td>0.000000</td>\n      <td>0.0</td>\n      <td>0.337235</td>\n      <td>0.168618</td>\n      <td>0.0</td>\n      <td>...</td>\n      <td>0.000000</td>\n      <td>0.0</td>\n      <td>0.000000</td>\n      <td>0.000000</td>\n      <td>0.0</td>\n      <td>0.000000</td>\n      <td>0.000000</td>\n      <td>0.000000</td>\n      <td>0.000000</td>\n      <td>0.168618</td>\n    </tr>\n    <tr>\n      <th>10</th>\n      <td>0.000000</td>\n      <td>0.000000</td>\n      <td>0.000000</td>\n      <td>0.000000</td>\n      <td>0.0</td>\n      <td>0.037356</td>\n      <td>0.0</td>\n      <td>0.000000</td>\n      <td>0.000000</td>\n      <td>0.0</td>\n      <td>...</td>\n      <td>0.000000</td>\n      <td>0.0</td>\n      <td>0.000000</td>\n      <td>0.112069</td>\n      <td>0.0</td>\n      <td>0.000000</td>\n      <td>0.074712</td>\n      <td>0.000000</td>\n      <td>0.000000</td>\n      <td>0.000000</td>\n    </tr>\n    <tr>\n      <th>...</th>\n      <td>...</td>\n      <td>...</td>\n      <td>...</td>\n      <td>...</td>\n      <td>...</td>\n      <td>...</td>\n      <td>...</td>\n      <td>...</td>\n      <td>...</td>\n      <td>...</td>\n      <td>...</td>\n      <td>...</td>\n      <td>...</td>\n      <td>...</td>\n      <td>...</td>\n      <td>...</td>\n      <td>...</td>\n      <td>...</td>\n      <td>...</td>\n      <td>...</td>\n      <td>...</td>\n    </tr>\n    <tr>\n      <th>73262</th>\n      <td>0.000000</td>\n      <td>0.000000</td>\n      <td>0.000000</td>\n      <td>0.000000</td>\n      <td>0.0</td>\n      <td>0.000000</td>\n      <td>0.0</td>\n      <td>0.000000</td>\n      <td>0.000000</td>\n      <td>0.0</td>\n      <td>...</td>\n      <td>0.000000</td>\n      <td>0.0</td>\n      <td>0.000000</td>\n      <td>0.000000</td>\n      <td>0.0</td>\n      <td>0.000000</td>\n      <td>0.006500</td>\n      <td>0.007583</td>\n      <td>0.000000</td>\n      <td>0.001083</td>\n    </tr>\n    <tr>\n      <th>73263</th>\n      <td>0.425124</td>\n      <td>0.000000</td>\n      <td>0.000000</td>\n      <td>0.159422</td>\n      <td>0.0</td>\n      <td>0.053141</td>\n      <td>0.0</td>\n      <td>0.000000</td>\n      <td>0.159422</td>\n      <td>0.0</td>\n      <td>...</td>\n      <td>0.000000</td>\n      <td>0.0</td>\n      <td>0.000000</td>\n      <td>0.000000</td>\n      <td>0.0</td>\n      <td>0.159422</td>\n      <td>0.637686</td>\n      <td>0.000000</td>\n      <td>0.159422</td>\n      <td>0.212562</td>\n    </tr>\n    <tr>\n      <th>73264</th>\n      <td>0.052150</td>\n      <td>0.000000</td>\n      <td>0.034767</td>\n      <td>0.086917</td>\n      <td>0.0</td>\n      <td>0.000000</td>\n      <td>0.0</td>\n      <td>0.000000</td>\n      <td>0.000000</td>\n      <td>0.0</td>\n      <td>...</td>\n      <td>0.000000</td>\n      <td>0.0</td>\n      <td>0.000000</td>\n      <td>0.000000</td>\n      <td>0.0</td>\n      <td>0.156451</td>\n      <td>0.000000</td>\n      <td>0.000000</td>\n      <td>0.000000</td>\n      <td>0.000000</td>\n    </tr>\n    <tr>\n      <th>73265</th>\n      <td>0.257735</td>\n      <td>0.343647</td>\n      <td>0.000000</td>\n      <td>0.000000</td>\n      <td>0.0</td>\n      <td>0.000000</td>\n      <td>0.0</td>\n      <td>0.000000</td>\n      <td>0.085912</td>\n      <td>0.0</td>\n      <td>...</td>\n      <td>0.000000</td>\n      <td>0.0</td>\n      <td>0.085912</td>\n      <td>0.000000</td>\n      <td>0.0</td>\n      <td>0.515471</td>\n      <td>0.257735</td>\n      <td>0.000000</td>\n      <td>0.257735</td>\n      <td>0.000000</td>\n    </tr>\n    <tr>\n      <th>73266</th>\n      <td>0.000000</td>\n      <td>0.000000</td>\n      <td>0.271340</td>\n      <td>0.000000</td>\n      <td>0.0</td>\n      <td>0.000000</td>\n      <td>0.0</td>\n      <td>0.814020</td>\n      <td>0.000000</td>\n      <td>0.0</td>\n      <td>...</td>\n      <td>0.000000</td>\n      <td>0.0</td>\n      <td>0.000000</td>\n      <td>0.000000</td>\n      <td>0.0</td>\n      <td>0.000000</td>\n      <td>0.000000</td>\n      <td>0.000000</td>\n      <td>0.000000</td>\n      <td>0.000000</td>\n    </tr>\n  </tbody>\n</table>\n<p>50423 rows × 47 columns</p>\n</div>"
     },
     "execution_count": 909,
     "metadata": {},
     "output_type": "execute_result"
    }
   ],
   "source": [
    "clustered_skills_df"
   ],
   "metadata": {
    "collapsed": false
   }
  },
  {
   "cell_type": "markdown",
   "source": [
    "-----------------------------"
   ],
   "metadata": {
    "collapsed": false
   }
  },
  {
   "cell_type": "markdown",
   "source": [],
   "metadata": {
    "collapsed": false
   }
  },
  {
   "cell_type": "markdown",
   "source": [
    "# Concat all results"
   ],
   "metadata": {
    "collapsed": false
   }
  },
  {
   "cell_type": "code",
   "execution_count": 925,
   "outputs": [
    {
     "data": {
      "text/plain": "      Languages                                                           \\\n            APL  Assembly Bash/Shell         C        C#       C++ COBOL   \n2      0.000000  0.000000   0.000000  0.000000  0.078225  0.078225   0.0   \n3      0.000000  0.000000   0.000000  0.000000  0.348833  0.000000   0.0   \n7      0.002722  0.000000   0.002722  0.005444  0.000000  0.005444   0.0   \n9      0.000000  0.000000   0.000000  0.000000  0.000000  0.000000   0.0   \n10     0.000000  0.000000   0.074712  0.000000  0.112069  0.000000   0.0   \n...         ...       ...        ...       ...       ...       ...   ...   \n73262  0.000000  0.002167   0.000000  0.002167  0.000000  0.003250   0.0   \n73263  0.000000  0.000000   0.159422  0.000000  0.000000  0.000000   0.0   \n73264  0.000000  0.000000   0.034767  0.000000  0.000000  0.000000   0.0   \n73265  0.000000  0.000000   0.000000  0.000000  0.085912  0.000000   0.0   \n73266  0.000000  0.000000   0.000000  0.000000  0.271340  0.000000   0.0   \n\n                                 ...           DevType                 \\\n      Clojure Crystal      Dart  ... full_stack_python full_stack_PHP   \n2         0.0     0.0  0.000000  ...                 0              0   \n3         0.0     0.0  0.000000  ...                 0              0   \n7         0.0     0.0  0.000000  ...                 0              0   \n9         0.0     0.0  0.000000  ...                 0              0   \n10        0.0     0.0  0.000000  ...                 0              0   \n...       ...     ...       ...  ...               ...            ...   \n73262     0.0     0.0  0.000000  ...                 0              0   \n73263     0.0     0.0  0.106281  ...                 0              0   \n73264     0.0     0.0  0.000000  ...                 0              0   \n73265     0.0     0.0  0.000000  ...                 1              1   \n73266     0.0     0.0  0.000000  ...                 0              0   \n\n                                                                        \\\n      full_stack_Java back_end_PHP back_end_Ruby-on-Rails back_end_C++   \n2                   0            0                      0            0   \n3                   0            0                      0            0   \n7                   0            0                      0            0   \n9                   0            0                      0            0   \n10                  0            0                      0            0   \n...               ...          ...                    ...          ...   \n73262               0            0                      0            0   \n73263               0            1                      1            1   \n73264               0            0                      0            0   \n73265               0            0                      0            0   \n73266               0            0                      0            0   \n\n                                                                        \n      back_end_.JavaScript back_end_.NET back_end_python back_end_Java  \n2                        0             0               0             0  \n3                        0             0               0             0  \n7                        0             0               0             0  \n9                        0             0               0             0  \n10                       0             1               0             0  \n...                    ...           ...             ...           ...  \n73262                    0             0               0             0  \n73263                    1             0               1             0  \n73264                    0             0               0             0  \n73265                    0             0               0             0  \n73266                    0             0               0             0  \n\n[50423 rows x 197 columns]",
      "text/html": "<div>\n<style scoped>\n    .dataframe tbody tr th:only-of-type {\n        vertical-align: middle;\n    }\n\n    .dataframe tbody tr th {\n        vertical-align: top;\n    }\n\n    .dataframe thead tr th {\n        text-align: left;\n    }\n</style>\n<table border=\"1\" class=\"dataframe\">\n  <thead>\n    <tr>\n      <th></th>\n      <th colspan=\"10\" halign=\"left\">Languages</th>\n      <th>...</th>\n      <th colspan=\"10\" halign=\"left\">DevType</th>\n    </tr>\n    <tr>\n      <th></th>\n      <th>APL</th>\n      <th>Assembly</th>\n      <th>Bash/Shell</th>\n      <th>C</th>\n      <th>C#</th>\n      <th>C++</th>\n      <th>COBOL</th>\n      <th>Clojure</th>\n      <th>Crystal</th>\n      <th>Dart</th>\n      <th>...</th>\n      <th>full_stack_python</th>\n      <th>full_stack_PHP</th>\n      <th>full_stack_Java</th>\n      <th>back_end_PHP</th>\n      <th>back_end_Ruby-on-Rails</th>\n      <th>back_end_C++</th>\n      <th>back_end_.JavaScript</th>\n      <th>back_end_.NET</th>\n      <th>back_end_python</th>\n      <th>back_end_Java</th>\n    </tr>\n  </thead>\n  <tbody>\n    <tr>\n      <th>2</th>\n      <td>0.000000</td>\n      <td>0.000000</td>\n      <td>0.000000</td>\n      <td>0.000000</td>\n      <td>0.078225</td>\n      <td>0.078225</td>\n      <td>0.0</td>\n      <td>0.0</td>\n      <td>0.0</td>\n      <td>0.000000</td>\n      <td>...</td>\n      <td>0</td>\n      <td>0</td>\n      <td>0</td>\n      <td>0</td>\n      <td>0</td>\n      <td>0</td>\n      <td>0</td>\n      <td>0</td>\n      <td>0</td>\n      <td>0</td>\n    </tr>\n    <tr>\n      <th>3</th>\n      <td>0.000000</td>\n      <td>0.000000</td>\n      <td>0.000000</td>\n      <td>0.000000</td>\n      <td>0.348833</td>\n      <td>0.000000</td>\n      <td>0.0</td>\n      <td>0.0</td>\n      <td>0.0</td>\n      <td>0.000000</td>\n      <td>...</td>\n      <td>0</td>\n      <td>0</td>\n      <td>0</td>\n      <td>0</td>\n      <td>0</td>\n      <td>0</td>\n      <td>0</td>\n      <td>0</td>\n      <td>0</td>\n      <td>0</td>\n    </tr>\n    <tr>\n      <th>7</th>\n      <td>0.002722</td>\n      <td>0.000000</td>\n      <td>0.002722</td>\n      <td>0.005444</td>\n      <td>0.000000</td>\n      <td>0.005444</td>\n      <td>0.0</td>\n      <td>0.0</td>\n      <td>0.0</td>\n      <td>0.000000</td>\n      <td>...</td>\n      <td>0</td>\n      <td>0</td>\n      <td>0</td>\n      <td>0</td>\n      <td>0</td>\n      <td>0</td>\n      <td>0</td>\n      <td>0</td>\n      <td>0</td>\n      <td>0</td>\n    </tr>\n    <tr>\n      <th>9</th>\n      <td>0.000000</td>\n      <td>0.000000</td>\n      <td>0.000000</td>\n      <td>0.000000</td>\n      <td>0.000000</td>\n      <td>0.000000</td>\n      <td>0.0</td>\n      <td>0.0</td>\n      <td>0.0</td>\n      <td>0.000000</td>\n      <td>...</td>\n      <td>0</td>\n      <td>0</td>\n      <td>0</td>\n      <td>0</td>\n      <td>0</td>\n      <td>0</td>\n      <td>0</td>\n      <td>0</td>\n      <td>0</td>\n      <td>0</td>\n    </tr>\n    <tr>\n      <th>10</th>\n      <td>0.000000</td>\n      <td>0.000000</td>\n      <td>0.074712</td>\n      <td>0.000000</td>\n      <td>0.112069</td>\n      <td>0.000000</td>\n      <td>0.0</td>\n      <td>0.0</td>\n      <td>0.0</td>\n      <td>0.000000</td>\n      <td>...</td>\n      <td>0</td>\n      <td>0</td>\n      <td>0</td>\n      <td>0</td>\n      <td>0</td>\n      <td>0</td>\n      <td>0</td>\n      <td>1</td>\n      <td>0</td>\n      <td>0</td>\n    </tr>\n    <tr>\n      <th>...</th>\n      <td>...</td>\n      <td>...</td>\n      <td>...</td>\n      <td>...</td>\n      <td>...</td>\n      <td>...</td>\n      <td>...</td>\n      <td>...</td>\n      <td>...</td>\n      <td>...</td>\n      <td>...</td>\n      <td>...</td>\n      <td>...</td>\n      <td>...</td>\n      <td>...</td>\n      <td>...</td>\n      <td>...</td>\n      <td>...</td>\n      <td>...</td>\n      <td>...</td>\n      <td>...</td>\n    </tr>\n    <tr>\n      <th>73262</th>\n      <td>0.000000</td>\n      <td>0.002167</td>\n      <td>0.000000</td>\n      <td>0.002167</td>\n      <td>0.000000</td>\n      <td>0.003250</td>\n      <td>0.0</td>\n      <td>0.0</td>\n      <td>0.0</td>\n      <td>0.000000</td>\n      <td>...</td>\n      <td>0</td>\n      <td>0</td>\n      <td>0</td>\n      <td>0</td>\n      <td>0</td>\n      <td>0</td>\n      <td>0</td>\n      <td>0</td>\n      <td>0</td>\n      <td>0</td>\n    </tr>\n    <tr>\n      <th>73263</th>\n      <td>0.000000</td>\n      <td>0.000000</td>\n      <td>0.159422</td>\n      <td>0.000000</td>\n      <td>0.000000</td>\n      <td>0.000000</td>\n      <td>0.0</td>\n      <td>0.0</td>\n      <td>0.0</td>\n      <td>0.106281</td>\n      <td>...</td>\n      <td>0</td>\n      <td>0</td>\n      <td>0</td>\n      <td>1</td>\n      <td>1</td>\n      <td>1</td>\n      <td>1</td>\n      <td>0</td>\n      <td>1</td>\n      <td>0</td>\n    </tr>\n    <tr>\n      <th>73264</th>\n      <td>0.000000</td>\n      <td>0.000000</td>\n      <td>0.034767</td>\n      <td>0.000000</td>\n      <td>0.000000</td>\n      <td>0.000000</td>\n      <td>0.0</td>\n      <td>0.0</td>\n      <td>0.0</td>\n      <td>0.000000</td>\n      <td>...</td>\n      <td>0</td>\n      <td>0</td>\n      <td>0</td>\n      <td>0</td>\n      <td>0</td>\n      <td>0</td>\n      <td>0</td>\n      <td>0</td>\n      <td>0</td>\n      <td>0</td>\n    </tr>\n    <tr>\n      <th>73265</th>\n      <td>0.000000</td>\n      <td>0.000000</td>\n      <td>0.000000</td>\n      <td>0.000000</td>\n      <td>0.085912</td>\n      <td>0.000000</td>\n      <td>0.0</td>\n      <td>0.0</td>\n      <td>0.0</td>\n      <td>0.000000</td>\n      <td>...</td>\n      <td>1</td>\n      <td>1</td>\n      <td>0</td>\n      <td>0</td>\n      <td>0</td>\n      <td>0</td>\n      <td>0</td>\n      <td>0</td>\n      <td>0</td>\n      <td>0</td>\n    </tr>\n    <tr>\n      <th>73266</th>\n      <td>0.000000</td>\n      <td>0.000000</td>\n      <td>0.000000</td>\n      <td>0.000000</td>\n      <td>0.271340</td>\n      <td>0.000000</td>\n      <td>0.0</td>\n      <td>0.0</td>\n      <td>0.0</td>\n      <td>0.000000</td>\n      <td>...</td>\n      <td>0</td>\n      <td>0</td>\n      <td>0</td>\n      <td>0</td>\n      <td>0</td>\n      <td>0</td>\n      <td>0</td>\n      <td>0</td>\n      <td>0</td>\n      <td>0</td>\n    </tr>\n  </tbody>\n</table>\n<p>50423 rows × 197 columns</p>\n</div>"
     },
     "execution_count": 925,
     "metadata": {},
     "output_type": "execute_result"
    }
   ],
   "source": [
    "skills_dev_df = skills_dev_df.merge(full_stack_roles_df, left_index=True, right_index=True)\n",
    "skills_dev_df = skills_dev_df.merge(back_end_roles_df, left_index=True, right_index=True)\n",
    "skills_dev_df = skills_dev_df.drop(['back_end_general', 'full-stack_general'], axis=1, level = 1)\n",
    "skills_dev_df"
   ],
   "metadata": {
    "collapsed": false
   }
  },
  {
   "cell_type": "code",
   "execution_count": 926,
   "outputs": [
    {
     "data": {
      "text/plain": "      Languages                                                           \\\n            APL  Assembly Bash/Shell         C        C#       C++ COBOL   \n2      0.000000  0.000000   0.000000  0.000000  0.078225  0.078225   0.0   \n3      0.000000  0.000000   0.000000  0.000000  0.348833  0.000000   0.0   \n7      0.002722  0.000000   0.002722  0.005444  0.000000  0.005444   0.0   \n9      0.000000  0.000000   0.000000  0.000000  0.000000  0.000000   0.0   \n10     0.000000  0.000000   0.074712  0.000000  0.112069  0.000000   0.0   \n...         ...       ...        ...       ...       ...       ...   ...   \n73262  0.000000  0.002167   0.000000  0.002167  0.000000  0.003250   0.0   \n73263  0.000000  0.000000   0.159422  0.000000  0.000000  0.000000   0.0   \n73264  0.000000  0.000000   0.034767  0.000000  0.000000  0.000000   0.0   \n73265  0.000000  0.000000   0.000000  0.000000  0.085912  0.000000   0.0   \n73266  0.000000  0.000000   0.000000  0.000000  0.271340  0.000000   0.0   \n\n                                 ...           DevType                 \\\n      Clojure Crystal      Dart  ... full_stack_python full_stack_PHP   \n2         0.0     0.0  0.000000  ...                 0              0   \n3         0.0     0.0  0.000000  ...                 0              0   \n7         0.0     0.0  0.000000  ...                 0              0   \n9         0.0     0.0  0.000000  ...                 0              0   \n10        0.0     0.0  0.000000  ...                 0              0   \n...       ...     ...       ...  ...               ...            ...   \n73262     0.0     0.0  0.000000  ...                 0              0   \n73263     0.0     0.0  0.106281  ...                 0              0   \n73264     0.0     0.0  0.000000  ...                 0              0   \n73265     0.0     0.0  0.000000  ...                 1              1   \n73266     0.0     0.0  0.000000  ...                 0              0   \n\n                                                                        \\\n      full_stack_Java back_end_PHP back_end_Ruby-on-Rails back_end_C++   \n2                   0            0                      0            0   \n3                   0            0                      0            0   \n7                   0            0                      0            0   \n9                   0            0                      0            0   \n10                  0            0                      0            0   \n...               ...          ...                    ...          ...   \n73262               0            0                      0            0   \n73263               0            1                      1            1   \n73264               0            0                      0            0   \n73265               0            0                      0            0   \n73266               0            0                      0            0   \n\n                                                                        \n      back_end_.JavaScript back_end_.NET back_end_python back_end_Java  \n2                        0             0               0             0  \n3                        0             0               0             0  \n7                        0             0               0             0  \n9                        0             0               0             0  \n10                       0             1               0             0  \n...                    ...           ...             ...           ...  \n73262                    0             0               0             0  \n73263                    1             0               1             0  \n73264                    0             0               0             0  \n73265                    0             0               0             0  \n73266                    0             0               0             0  \n\n[50423 rows x 244 columns]",
      "text/html": "<div>\n<style scoped>\n    .dataframe tbody tr th:only-of-type {\n        vertical-align: middle;\n    }\n\n    .dataframe tbody tr th {\n        vertical-align: top;\n    }\n\n    .dataframe thead tr th {\n        text-align: left;\n    }\n</style>\n<table border=\"1\" class=\"dataframe\">\n  <thead>\n    <tr>\n      <th></th>\n      <th colspan=\"10\" halign=\"left\">Languages</th>\n      <th>...</th>\n      <th colspan=\"10\" halign=\"left\">DevType</th>\n    </tr>\n    <tr>\n      <th></th>\n      <th>APL</th>\n      <th>Assembly</th>\n      <th>Bash/Shell</th>\n      <th>C</th>\n      <th>C#</th>\n      <th>C++</th>\n      <th>COBOL</th>\n      <th>Clojure</th>\n      <th>Crystal</th>\n      <th>Dart</th>\n      <th>...</th>\n      <th>full_stack_python</th>\n      <th>full_stack_PHP</th>\n      <th>full_stack_Java</th>\n      <th>back_end_PHP</th>\n      <th>back_end_Ruby-on-Rails</th>\n      <th>back_end_C++</th>\n      <th>back_end_.JavaScript</th>\n      <th>back_end_.NET</th>\n      <th>back_end_python</th>\n      <th>back_end_Java</th>\n    </tr>\n  </thead>\n  <tbody>\n    <tr>\n      <th>2</th>\n      <td>0.000000</td>\n      <td>0.000000</td>\n      <td>0.000000</td>\n      <td>0.000000</td>\n      <td>0.078225</td>\n      <td>0.078225</td>\n      <td>0.0</td>\n      <td>0.0</td>\n      <td>0.0</td>\n      <td>0.000000</td>\n      <td>...</td>\n      <td>0</td>\n      <td>0</td>\n      <td>0</td>\n      <td>0</td>\n      <td>0</td>\n      <td>0</td>\n      <td>0</td>\n      <td>0</td>\n      <td>0</td>\n      <td>0</td>\n    </tr>\n    <tr>\n      <th>3</th>\n      <td>0.000000</td>\n      <td>0.000000</td>\n      <td>0.000000</td>\n      <td>0.000000</td>\n      <td>0.348833</td>\n      <td>0.000000</td>\n      <td>0.0</td>\n      <td>0.0</td>\n      <td>0.0</td>\n      <td>0.000000</td>\n      <td>...</td>\n      <td>0</td>\n      <td>0</td>\n      <td>0</td>\n      <td>0</td>\n      <td>0</td>\n      <td>0</td>\n      <td>0</td>\n      <td>0</td>\n      <td>0</td>\n      <td>0</td>\n    </tr>\n    <tr>\n      <th>7</th>\n      <td>0.002722</td>\n      <td>0.000000</td>\n      <td>0.002722</td>\n      <td>0.005444</td>\n      <td>0.000000</td>\n      <td>0.005444</td>\n      <td>0.0</td>\n      <td>0.0</td>\n      <td>0.0</td>\n      <td>0.000000</td>\n      <td>...</td>\n      <td>0</td>\n      <td>0</td>\n      <td>0</td>\n      <td>0</td>\n      <td>0</td>\n      <td>0</td>\n      <td>0</td>\n      <td>0</td>\n      <td>0</td>\n      <td>0</td>\n    </tr>\n    <tr>\n      <th>9</th>\n      <td>0.000000</td>\n      <td>0.000000</td>\n      <td>0.000000</td>\n      <td>0.000000</td>\n      <td>0.000000</td>\n      <td>0.000000</td>\n      <td>0.0</td>\n      <td>0.0</td>\n      <td>0.0</td>\n      <td>0.000000</td>\n      <td>...</td>\n      <td>0</td>\n      <td>0</td>\n      <td>0</td>\n      <td>0</td>\n      <td>0</td>\n      <td>0</td>\n      <td>0</td>\n      <td>0</td>\n      <td>0</td>\n      <td>0</td>\n    </tr>\n    <tr>\n      <th>10</th>\n      <td>0.000000</td>\n      <td>0.000000</td>\n      <td>0.074712</td>\n      <td>0.000000</td>\n      <td>0.112069</td>\n      <td>0.000000</td>\n      <td>0.0</td>\n      <td>0.0</td>\n      <td>0.0</td>\n      <td>0.000000</td>\n      <td>...</td>\n      <td>0</td>\n      <td>0</td>\n      <td>0</td>\n      <td>0</td>\n      <td>0</td>\n      <td>0</td>\n      <td>0</td>\n      <td>1</td>\n      <td>0</td>\n      <td>0</td>\n    </tr>\n    <tr>\n      <th>...</th>\n      <td>...</td>\n      <td>...</td>\n      <td>...</td>\n      <td>...</td>\n      <td>...</td>\n      <td>...</td>\n      <td>...</td>\n      <td>...</td>\n      <td>...</td>\n      <td>...</td>\n      <td>...</td>\n      <td>...</td>\n      <td>...</td>\n      <td>...</td>\n      <td>...</td>\n      <td>...</td>\n      <td>...</td>\n      <td>...</td>\n      <td>...</td>\n      <td>...</td>\n      <td>...</td>\n    </tr>\n    <tr>\n      <th>73262</th>\n      <td>0.000000</td>\n      <td>0.002167</td>\n      <td>0.000000</td>\n      <td>0.002167</td>\n      <td>0.000000</td>\n      <td>0.003250</td>\n      <td>0.0</td>\n      <td>0.0</td>\n      <td>0.0</td>\n      <td>0.000000</td>\n      <td>...</td>\n      <td>0</td>\n      <td>0</td>\n      <td>0</td>\n      <td>0</td>\n      <td>0</td>\n      <td>0</td>\n      <td>0</td>\n      <td>0</td>\n      <td>0</td>\n      <td>0</td>\n    </tr>\n    <tr>\n      <th>73263</th>\n      <td>0.000000</td>\n      <td>0.000000</td>\n      <td>0.159422</td>\n      <td>0.000000</td>\n      <td>0.000000</td>\n      <td>0.000000</td>\n      <td>0.0</td>\n      <td>0.0</td>\n      <td>0.0</td>\n      <td>0.106281</td>\n      <td>...</td>\n      <td>0</td>\n      <td>0</td>\n      <td>0</td>\n      <td>1</td>\n      <td>1</td>\n      <td>1</td>\n      <td>1</td>\n      <td>0</td>\n      <td>1</td>\n      <td>0</td>\n    </tr>\n    <tr>\n      <th>73264</th>\n      <td>0.000000</td>\n      <td>0.000000</td>\n      <td>0.034767</td>\n      <td>0.000000</td>\n      <td>0.000000</td>\n      <td>0.000000</td>\n      <td>0.0</td>\n      <td>0.0</td>\n      <td>0.0</td>\n      <td>0.000000</td>\n      <td>...</td>\n      <td>0</td>\n      <td>0</td>\n      <td>0</td>\n      <td>0</td>\n      <td>0</td>\n      <td>0</td>\n      <td>0</td>\n      <td>0</td>\n      <td>0</td>\n      <td>0</td>\n    </tr>\n    <tr>\n      <th>73265</th>\n      <td>0.000000</td>\n      <td>0.000000</td>\n      <td>0.000000</td>\n      <td>0.000000</td>\n      <td>0.085912</td>\n      <td>0.000000</td>\n      <td>0.0</td>\n      <td>0.0</td>\n      <td>0.0</td>\n      <td>0.000000</td>\n      <td>...</td>\n      <td>1</td>\n      <td>1</td>\n      <td>0</td>\n      <td>0</td>\n      <td>0</td>\n      <td>0</td>\n      <td>0</td>\n      <td>0</td>\n      <td>0</td>\n      <td>0</td>\n    </tr>\n    <tr>\n      <th>73266</th>\n      <td>0.000000</td>\n      <td>0.000000</td>\n      <td>0.000000</td>\n      <td>0.000000</td>\n      <td>0.271340</td>\n      <td>0.000000</td>\n      <td>0.0</td>\n      <td>0.0</td>\n      <td>0.0</td>\n      <td>0.000000</td>\n      <td>...</td>\n      <td>0</td>\n      <td>0</td>\n      <td>0</td>\n      <td>0</td>\n      <td>0</td>\n      <td>0</td>\n      <td>0</td>\n      <td>0</td>\n      <td>0</td>\n      <td>0</td>\n    </tr>\n  </tbody>\n</table>\n<p>50423 rows × 244 columns</p>\n</div>"
     },
     "execution_count": 926,
     "metadata": {},
     "output_type": "execute_result"
    }
   ],
   "source": [
    "roles_df = skills_dev_df['DevType']\n",
    "roles_df.columns = pd.MultiIndex.from_product([['DevType'], roles_df.columns])\n",
    "skills_df = skills_dev_df.drop('DevType', axis=1, level = 0).merge(clustered_skills_df, left_index=True, right_index=True)\n",
    "skills_dev_df = skills_df.merge(roles_df, left_index=True, right_index=True)\n",
    "skills_dev_df"
   ],
   "metadata": {
    "collapsed": false
   }
  },
  {
   "cell_type": "markdown",
   "source": [
    "-------------------"
   ],
   "metadata": {
    "collapsed": false
   }
  },
  {
   "cell_type": "markdown",
   "source": [],
   "metadata": {
    "collapsed": false
   }
  },
  {
   "cell_type": "markdown",
   "source": [
    "# Saving results"
   ],
   "metadata": {
    "collapsed": false
   }
  },
  {
   "cell_type": "code",
   "execution_count": 929,
   "outputs": [],
   "source": [
    "skills_clusters = {}\n",
    "for label in sorted(set(best_labels_all_skills)):\n",
    "    skills_clusters[label] = list(all_skills_tsne[best_labels_all_skills == label].index)"
   ],
   "metadata": {
    "collapsed": false
   }
  },
  {
   "cell_type": "code",
   "execution_count": 930,
   "outputs": [
    {
     "data": {
      "text/plain": "{'cluster_0': ['Cassandra',\n  'Elasticsearch',\n  'PostgreSQL',\n  'Redis',\n  'Apache Kafka'],\n 'cluster_1': ['APL',\n  'Colocation',\n  'Linode',\n  'Managed Hosting',\n  'CLion',\n  'TextMate'],\n 'cluster_10': ['Oracle', 'Oracle Cloud Infrastructure'],\n 'cluster_11': ['FastAPI', 'Flask', 'PyCharm'],\n 'cluster_12': ['Scala', 'Play Framework'],\n 'cluster_13': ['Go', 'GoLand'],\n 'cluster_14': ['IBM Cloud or Watson', 'GTK', 'Nano'],\n 'cluster_15': ['Delphi', 'RAD Studio (Delphi_C++ Builder)'],\n 'cluster_16': ['Cloud Firestore',\n  'Firebase Realtime Database',\n  'Firebase',\n  'Google Cloud'],\n 'cluster_17': ['R', 'Tidyverse', 'RStudio'],\n 'cluster_18': ['C#',\n  'SQL',\n  'Microsoft SQL Server',\n  'Microsoft Azure',\n  'ASP.NET Core ',\n  '.NET',\n  'Visual Studio'],\n 'cluster_19': ['Hugging Face Transformers',\n  'Keras',\n  'Scikit-learn',\n  'TensorFlow',\n  'Torch/PyTorch',\n  'IPython/Jupyter'],\n 'cluster_2': ['MariaDB', 'Drupal', 'jQuery'],\n 'cluster_20': ['Capacitor', 'Cordova', 'Ionic'],\n 'cluster_21': ['Ansible', 'Chef', 'Pulumi', 'Terraform'],\n 'cluster_22': ['Elixir', 'Phoenix', 'Homebrew'],\n 'cluster_23': ['Objective-C', 'Swift', 'Xcode'],\n 'cluster_24': ['Groovy', 'Java', 'Spring', 'IntelliJ'],\n 'cluster_25': ['Rust', 'Deno', 'Svelte'],\n 'cluster_26': ['Gatsby', 'Next.js', 'React.js', 'Yarn'],\n 'cluster_27': ['HTML/CSS', 'JavaScript', 'Visual Studio Code'],\n 'cluster_28': ['Eclipse', 'NetBeans'],\n 'cluster_29': ['Kotlin',\n  'SAS',\n  'VBA',\n  'Couchbase',\n  'OpenStack',\n  'VMware',\n  'Puppet',\n  'Spyder'],\n 'cluster_3': ['Ruby', 'Ruby on Rails'],\n 'cluster_30': ['Clojure', 'LISP', 'Emacs'],\n 'cluster_31': ['PHP', 'MySQL', 'Laravel', 'Symfony', 'PhpStorm'],\n 'cluster_32': ['DynamoDB', 'AWS', 'Docker', 'Kubernetes'],\n 'cluster_33': ['Bash/Shell', 'Perl', 'Vim'],\n 'cluster_34': ['MongoDB', 'Neo4j'],\n 'cluster_35': ['F#', 'PowerShell'],\n 'cluster_36': ['Qt', 'Qt Creator'],\n 'cluster_37': ['Nuxt.js', 'Vue.js'],\n 'cluster_38': ['SQLite', 'Uno Platform', 'Xamarin'],\n 'cluster_39': ['Erlang', 'Julia', 'MATLAB', 'RubyMine'],\n 'cluster_4': ['ASP.NET', 'Blazor', 'Notepad++'],\n 'cluster_40': ['Crystal',\n  'Solidity',\n  'DigitalOcean',\n  'OVH',\n  'Django',\n  'Flow',\n  'Webstorm'],\n 'cluster_41': ['Fortran', 'Haskell', 'Lua', 'OCaml', 'Neovim'],\n 'cluster_42': ['Angular', 'Angular.js'],\n 'cluster_43': ['COBOL', 'IBM DB2'],\n 'cluster_44': ['Unity 3D', 'Unreal Engine'],\n 'cluster_45': ['Heroku', 'Electron', 'Rider'],\n 'cluster_46': ['Apache Spark', 'Hadoop'],\n 'cluster_5': ['Python', 'NumPy', 'Pandas'],\n 'cluster_6': ['TypeScript', 'Express', 'Fastify', 'Node.js', 'npm'],\n 'cluster_7': ['Assembly', 'C', 'C++'],\n 'cluster_8': ['CouchDB', 'React Native', 'Atom', 'Sublime Text'],\n 'cluster_9': ['Dart', 'Flutter', 'Android Studio']}"
     },
     "execution_count": 930,
     "metadata": {},
     "output_type": "execute_result"
    }
   ],
   "source": [
    "skills_clusters"
   ],
   "metadata": {
    "collapsed": false
   }
  },
  {
   "cell_type": "code",
   "execution_count": 934,
   "outputs": [],
   "source": [
    "with open(LOAD_PATH + SAVE_CLUSTERED_skills, 'wb') as f:\n",
    "    pickle.dump(skills_clusters, f)"
   ],
   "metadata": {
    "collapsed": false
   }
  },
  {
   "cell_type": "code",
   "execution_count": 935,
   "outputs": [],
   "source": [
    "skills_dev_df.to_pickle(LOAD_PATH + SAVE_SKILLS_DEV)"
   ],
   "metadata": {
    "collapsed": false
   }
  },
  {
   "cell_type": "code",
   "execution_count": null,
   "outputs": [],
   "source": [],
   "metadata": {
    "collapsed": false
   }
  }
 ],
 "metadata": {
  "kernelspec": {
   "display_name": "Python 3",
   "language": "python",
   "name": "python3"
  },
  "language_info": {
   "codemirror_mode": {
    "name": "ipython",
    "version": 2
   },
   "file_extension": ".py",
   "mimetype": "text/x-python",
   "name": "python",
   "nbconvert_exporter": "python",
   "pygments_lexer": "ipython2",
   "version": "2.7.6"
  }
 },
 "nbformat": 4,
 "nbformat_minor": 0
}
