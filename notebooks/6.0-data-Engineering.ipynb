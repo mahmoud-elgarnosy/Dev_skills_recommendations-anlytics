{
 "cells": [
  {
   "cell_type": "code",
   "execution_count": 44,
   "outputs": [],
   "source": [
    "import os\n",
    "os.environ['OMP_NUM_THREADS'] = '1'"
   ],
   "metadata": {
    "collapsed": false
   }
  },
  {
   "cell_type": "code",
   "execution_count": 45,
   "outputs": [],
   "source": [
    "# Load packages\n",
    "import pandas as pd\n",
    "from sklearn.manifold import TSNE\n",
    "from sklearn.metrics import silhouette_score\n",
    "import numpy as np\n",
    "import matplotlib.pyplot as plt\n",
    "import plotly.express as px\n",
    "from sklearn.cluster import KMeans\n",
    "import pickle\n",
    "from sklearn.cluster import DBSCAN\n",
    "from sklearn.preprocessing import StandardScaler"
   ],
   "metadata": {
    "collapsed": false
   }
  },
  {
   "cell_type": "code",
   "execution_count": 46,
   "outputs": [],
   "source": [
    "FILE_PATH = '../data/raw/survey_results_public.csv'\n",
    "LOAD_PATH = '../data/interim/'\n",
    "LOAD_SKILLS_DEV = '4.1-preprocessed-data_skills_dev.pkl'\n",
    "LOAD_HEAT_MAP = '5.0-EDA-heat_map.pkl'\n",
    "SAVE_SKILLS_DEV = '6.0-Engineered_data-split_roles-cluster_skills.pkl'\n",
    "SAVE_CLUSTERED_skills  =  '6.0-clustered_skills.pkl'"
   ],
   "metadata": {
    "collapsed": false
   }
  },
  {
   "cell_type": "markdown",
   "source": [
    "## Helper Function"
   ],
   "metadata": {
    "collapsed": false
   }
  },
  {
   "cell_type": "code",
   "execution_count": 47,
   "outputs": [],
   "source": [
    "def reduce_dimensions(df):\n",
    "    \"\"\"Apply Tsne on the data frame for visualization & clustering purposes\"\"\"\n",
    "\n",
    "    tsne_data = pd.DataFrame(TSNE(n_components=2,\n",
    "                                  learning_rate=.01,\n",
    "                                  perplexity=5,\n",
    "                                  n_iter = 10**10,\n",
    "                                  n_iter_without_progress = 3000,\n",
    "                                  random_state=0)\n",
    "                             .fit_transform(df),\n",
    "                 index = df.index)\n",
    "\n",
    "    return tsne_data"
   ],
   "metadata": {
    "collapsed": false
   }
  },
  {
   "cell_type": "code",
   "execution_count": 48,
   "outputs": [],
   "source": [
    "def evaluate_cluster_model(tsne_data, eps=3.5, min_samples=3):\n",
    "    \"\"\"using silhouette_score to chose the best number of clusters to cluster with using Kmeans clusters\n",
    "\n",
    "    @param tsne_data: Dataframe result of TSNE algorithm\n",
    "    @param range_clusters: The range of clusters you need to chose between them\n",
    "    @param plot: Specify wither you need to plot silhouette_score values with clusters range and also plot Elbow Method or not\n",
    "\n",
    "    @return: the best cluster number, and results of clustering\n",
    "    \"\"\"\n",
    "\n",
    "\n",
    "    best_labels = DBSCAN(eps=eps, min_samples=min_samples).fit_predict(tsne_data)\n",
    "    best_labels = np.array([f'cluster_{label}' for label in best_labels])\n",
    "\n",
    "\n",
    "    return best_labels"
   ],
   "metadata": {
    "collapsed": false
   }
  },
  {
   "cell_type": "code",
   "execution_count": 49,
   "outputs": [],
   "source": [
    "def visualize_chosen_cluster_model(role_type, tsne_data, cluster_labels):\n",
    "    fig = px.scatter(x=tsne_data[0],\n",
    "                    y=tsne_data[1],\n",
    "                    text=tsne_data.index,\n",
    "                    color=cluster_labels,\n",
    "                     color_discrete_sequence=px.colors.qualitative.Dark24)\n",
    "    fig.update_traces(textposition='top center')\n",
    "    fig.update_layout(height=900, width=1500, title_text=f'Clustering top skills for {role_type}')\n",
    "    fig.show()"
   ],
   "metadata": {
    "collapsed": false
   }
  },
  {
   "cell_type": "markdown",
   "source": [
    "# More preprocessing steps:\n",
    "### 1. Drop roles: ['Student', 'Engineering manager', 'Other (please specify):', 'Project manager', 'Designer', 'Educator', 'Product manager', 'Marketing or sales professional']\n",
    "### 2. split roles: ['Developer_full-stack', 'Developer_back-end']\n",
    "### 3. Cluster similar roles"
   ],
   "metadata": {
    "collapsed": false
   }
  },
  {
   "cell_type": "markdown",
   "source": [
    "# Load Data"
   ],
   "metadata": {
    "collapsed": false
   }
  },
  {
   "cell_type": "code",
   "execution_count": 50,
   "outputs": [],
   "source": [
    "skills_dev_df = pd.read_pickle(LOAD_PATH + LOAD_SKILLS_DEV)\n",
    "developers_skills = pd.read_pickle(LOAD_PATH + LOAD_HEAT_MAP)"
   ],
   "metadata": {
    "collapsed": false
   }
  },
  {
   "cell_type": "markdown",
   "source": [
    "# 1. Drop roles:\n",
    " 1. 'Student',\n",
    " 2. 'Engineering manager',\n",
    " 3. 'Other (please specify):',\n",
    " 4. 'Project manager',\n",
    " 5. 'Designer',\n",
    " 6. 'Educator',\n",
    " 7. 'Product manager',\n",
    " 8. 'Marketing or sales professional']"
   ],
   "metadata": {
    "collapsed": false
   }
  },
  {
   "cell_type": "code",
   "execution_count": 51,
   "outputs": [],
   "source": [
    "drop_roles = ['Student',\n",
    " 'Engineering manager',\n",
    " 'Other (please specify):',\n",
    " 'Project manager',\n",
    " 'Designer',\n",
    " 'Educator',\n",
    " 'Product manager',\n",
    " 'Marketing or sales professional']"
   ],
   "metadata": {
    "collapsed": false
   }
  },
  {
   "cell_type": "code",
   "execution_count": 52,
   "outputs": [],
   "source": [
    "skills_dev_df = skills_dev_df.drop(drop_roles, axis = 1, level=1)"
   ],
   "metadata": {
    "collapsed": false
   }
  },
  {
   "cell_type": "code",
   "execution_count": 53,
   "outputs": [],
   "source": [
    "developers_skills = developers_skills.drop(drop_roles)"
   ],
   "metadata": {
    "collapsed": false
   }
  },
  {
   "cell_type": "markdown",
   "source": [
    "# 2. split roles: ['Developer_full-stack', 'Developer_back-end']"
   ],
   "metadata": {
    "collapsed": false
   }
  },
  {
   "cell_type": "code",
   "execution_count": 54,
   "outputs": [],
   "source": [
    "split_roles = ['Developer_full-stack', 'Developer_back-end']"
   ],
   "metadata": {
    "collapsed": false
   }
  },
  {
   "cell_type": "code",
   "execution_count": 55,
   "outputs": [],
   "source": [
    "def choose_most_related_skills(roles_type:list=None, exclude_roles:list = None, threshold:float = .5) ->pd.DataFrame:\n",
    "    \"\"\"For splitting roles we need to choose the most related skills with this role to cluster them and by using this we can split roles successfully\n",
    "\n",
    "    @param roles_type: roles you need to choose the most related skills for them\n",
    "    @param exclude_roles: roles you need to exclude to make sure that, skills results are related with our roles types not any other roles\n",
    "    @param threshold: specify thresholding --percent from the mean of skills-- of sorted skills, choose only skills that have value more than the percent of skills mean\n",
    "\n",
    "    @return: Most related skills for specific roles\"\"\"\n",
    "    if roles_type is None:\n",
    "        roles_type = ['Developer_full-stack']\n",
    "\n",
    "    # Create mask for chosen roles\n",
    "    role_mask = skills_dev_df['DevType'][roles_type].sum(axis = 1) == len(roles_type)\n",
    "    if exclude_roles:\n",
    "        role_mask =  role_mask & (skills_dev_df['DevType'][exclude_roles].sum(axis = 1) == 0)\n",
    "\n",
    "    # applying mask on skills_dev_df and calculate the mean of these skills\n",
    "    role_skills = skills_dev_df.loc[role_mask,: ].drop('DevType', axis = 1, level = 0).droplevel(axis = 1, level = 0)\n",
    "    mean_role_skills = role_skills.mean() * 100\n",
    "    # sorting skills\n",
    "    most_related_role_skills = mean_role_skills.sort_values(ascending=False)\n",
    "    # choosing the most related skills, skills that have values higher than percent --threshold-- from the mean of all skills\n",
    "    most_related_role_skills = most_related_role_skills[most_related_role_skills > threshold * most_related_role_skills.mean()].index\n",
    "\n",
    "    # Choose these skills from the masking dataframe and return them\n",
    "    role_skills = role_skills.T\n",
    "    role_skills = role_skills.loc[most_related_role_skills,:]\n",
    "\n",
    "    return  role_skills"
   ],
   "metadata": {
    "collapsed": false
   }
  },
  {
   "cell_type": "markdown",
   "source": [
    "## A) Developer_full-stack"
   ],
   "metadata": {
    "collapsed": false
   }
  },
  {
   "cell_type": "code",
   "execution_count": 56,
   "outputs": [
    {
     "data": {
      "application/vnd.plotly.v1+json": {
       "data": [
        {
         "hovertemplate": "color=cluster_0<br>x=%{x}<br>y=%{y}<br>text=%{text}<extra></extra>",
         "legendgroup": "cluster_0",
         "marker": {
          "color": "#2E91E5",
          "symbol": "circle"
         },
         "mode": "markers+text",
         "name": "cluster_0",
         "orientation": "v",
         "showlegend": true,
         "text": [
          "JavaScript",
          "Visual Studio Code",
          "HTML/CSS",
          "npm",
          "SQL",
          "TypeScript"
         ],
         "x": [
          30.004480361938477,
          31.59844970703125,
          30.59935760498047,
          27.21654510498047,
          31.908708572387695,
          26.656251907348633
         ],
         "xaxis": "x",
         "y": [
          1.134119987487793,
          -0.7231801748275757,
          3.03583025932312,
          -0.5709143280982971,
          5.439103603363037,
          -3.1001369953155518
         ],
         "yaxis": "y",
         "type": "scatter",
         "textposition": "top center"
        },
        {
         "hovertemplate": "color=cluster_-1<br>x=%{x}<br>y=%{y}<br>text=%{text}<extra></extra>",
         "legendgroup": "cluster_-1",
         "marker": {
          "color": "#E15F99",
          "symbol": "circle"
         },
         "mode": "markers+text",
         "name": "cluster_-1",
         "orientation": "v",
         "showlegend": true,
         "text": [
          "Docker",
          "React.js",
          "PostgreSQL",
          "Node.js",
          "AWS",
          "Python",
          "Redis",
          "Notepad++",
          "Microsoft Azure",
          "jQuery",
          "SQLite",
          "Google Cloud",
          "Go",
          "Elasticsearch",
          "DigitalOcean",
          "Firebase",
          "C++",
          "Webstorm",
          "Oracle",
          "Eclipse",
          "C"
         ],
         "x": [
          22.59052848815918,
          24.917383193969727,
          19.659650802612305,
          23.20329475402832,
          15.330118179321289,
          -15.124865531921387,
          10.473886489868164,
          -6.312896728515625,
          5.763613700866699,
          -23.763347625732422,
          -13.80729866027832,
          3.1723098754882812,
          -3.158550500869751,
          7.6210832595825195,
          -6.037492752075195,
          1.378910779953003,
          -12.212128639221191,
          -11.936602592468262,
          -11.103623390197754,
          -9.372468948364258,
          -10.551620483398438
         ],
         "xaxis": "x",
         "y": [
          1.1562316417694092,
          -6.65041446685791,
          1.591233253479004,
          -8.51613998413086,
          0.6778713464736938,
          -28.720806121826172,
          -0.5825318694114685,
          15.289151191711426,
          33.03696060180664,
          5.710679054260254,
          -18.64466667175293,
          6.834489822387695,
          -7.577331066131592,
          -1.353765606880188,
          -1.6395788192749023,
          4.733094692230225,
          -13.299248695373535,
          -2.2503697872161865,
          12.984475135803223,
          12.962098121643066,
          -13.072315216064453
         ],
         "yaxis": "y",
         "type": "scatter",
         "textposition": "top center"
        },
        {
         "hovertemplate": "color=cluster_4<br>x=%{x}<br>y=%{y}<br>text=%{text}<extra></extra>",
         "legendgroup": "cluster_4",
         "marker": {
          "color": "#1CA71C",
          "symbol": "circle"
         },
         "mode": "markers+text",
         "name": "cluster_4",
         "orientation": "v",
         "showlegend": true,
         "text": [
          "MySQL",
          "Vue.js",
          "PHP",
          "MariaDB",
          "Laravel",
          "PhpStorm"
         ],
         "x": [
          -28.74546241760254,
          -20.978927612304688,
          -26.18273162841797,
          -27.333940505981445,
          -23.9226131439209,
          -24.9458065032959
         ],
         "xaxis": "x",
         "y": [
          3.9122374057769775,
          -0.5238794684410095,
          2.6906683444976807,
          -2.2796969413757324,
          0.5917956233024597,
          -0.6860225200653076
         ],
         "yaxis": "y",
         "type": "scatter",
         "textposition": "top center"
        },
        {
         "hovertemplate": "color=cluster_1<br>x=%{x}<br>y=%{y}<br>text=%{text}<extra></extra>",
         "legendgroup": "cluster_1",
         "marker": {
          "color": "#FB0D0D",
          "symbol": "circle"
         },
         "mode": "markers+text",
         "name": "cluster_1",
         "orientation": "v",
         "showlegend": true,
         "text": [
          "C#",
          "Visual Studio",
          "Microsoft SQL Server",
          ".NET",
          "ASP.NET Core ",
          "ASP.NET"
         ],
         "x": [
          3.09678053855896,
          1.2562273740768433,
          5.794965744018555,
          1.7215924263000488,
          3.13531756401062,
          1.7303563356399536
         ],
         "xaxis": "x",
         "y": [
          38.89508056640625,
          40.403560638427734,
          37.24816131591797,
          37.351661682128906,
          35.3513298034668,
          33.300899505615234
         ],
         "yaxis": "y",
         "type": "scatter",
         "textposition": "top center"
        },
        {
         "hovertemplate": "color=cluster_3<br>x=%{x}<br>y=%{y}<br>text=%{text}<extra></extra>",
         "legendgroup": "cluster_3",
         "marker": {
          "color": "#DA16FF",
          "symbol": "circle"
         },
         "mode": "markers+text",
         "name": "cluster_3",
         "orientation": "v",
         "showlegend": true,
         "text": [
          "MongoDB",
          "Yarn",
          "Express",
          "Next.js"
         ],
         "x": [
          20.80853843688965,
          14.22060775756836,
          20.073495864868164,
          16.833913803100586
         ],
         "xaxis": "x",
         "y": [
          -13.558719635009766,
          -10.595078468322754,
          -11.023032188415527,
          -10.14444351196289
         ],
         "yaxis": "y",
         "type": "scatter",
         "textposition": "top center"
        },
        {
         "hovertemplate": "color=cluster_2<br>x=%{x}<br>y=%{y}<br>text=%{text}<extra></extra>",
         "legendgroup": "cluster_2",
         "marker": {
          "color": "#222A2A",
          "symbol": "circle"
         },
         "mode": "markers+text",
         "name": "cluster_2",
         "orientation": "v",
         "showlegend": true,
         "text": [
          "Java",
          "IntelliJ",
          "Spring"
         ],
         "x": [
          -15.016131401062012,
          -16.595672607421875,
          -13.220698356628418
         ],
         "xaxis": "x",
         "y": [
          19.882122039794922,
          21.066577911376953,
          17.188867568969727
         ],
         "yaxis": "y",
         "type": "scatter",
         "textposition": "top center"
        },
        {
         "hovertemplate": "color=cluster_6<br>x=%{x}<br>y=%{y}<br>text=%{text}<extra></extra>",
         "legendgroup": "cluster_6",
         "marker": {
          "color": "#B68100",
          "symbol": "circle"
         },
         "mode": "markers+text",
         "name": "cluster_6",
         "orientation": "v",
         "showlegend": true,
         "text": [
          "Kubernetes",
          "Android Studio",
          "Terraform",
          "React Native",
          "DynamoDB",
          "Kotlin",
          "Flutter",
          "Apache Kafka"
         ],
         "x": [
          1.1071110963821411,
          -2.930093765258789,
          3.852616310119629,
          0.876985490322113,
          4.280402183532715,
          -1.3900138139724731,
          -1.9207165241241455,
          0.9146239161491394
         ],
         "xaxis": "x",
         "y": [
          -8.039295196533203,
          1.790885090827942,
          -6.243699073791504,
          0.6559072136878967,
          -3.6897263526916504,
          -2.6609137058258057,
          -0.5110166072845459,
          -3.8241395950317383
         ],
         "yaxis": "y",
         "type": "scatter",
         "textposition": "top center"
        },
        {
         "hovertemplate": "color=cluster_5<br>x=%{x}<br>y=%{y}<br>text=%{text}<extra></extra>",
         "legendgroup": "cluster_5",
         "marker": {
          "color": "#750D86",
          "symbol": "circle"
         },
         "mode": "markers+text",
         "name": "cluster_5",
         "orientation": "v",
         "showlegend": true,
         "text": [
          "Bash/Shell",
          "Vim",
          "Rust"
         ],
         "x": [
          -9.009906768798828,
          -6.4527907371521,
          -6.61335563659668
         ],
         "xaxis": "x",
         "y": [
          -9.30781078338623,
          -14.784002304077148,
          -11.35096263885498
         ],
         "yaxis": "y",
         "type": "scatter",
         "textposition": "top center"
        },
        {
         "hovertemplate": "color=cluster_8<br>x=%{x}<br>y=%{y}<br>text=%{text}<extra></extra>",
         "legendgroup": "cluster_8",
         "marker": {
          "color": "#EB663B",
          "symbol": "circle"
         },
         "mode": "markers+text",
         "name": "cluster_8",
         "orientation": "v",
         "showlegend": true,
         "text": [
          "Angular",
          "Sublime Text",
          "PowerShell",
          "Angular.js"
         ],
         "x": [
          -8.493260383605957,
          -11.891263961791992,
          -5.4893693923950195,
          -8.467679977416992
         ],
         "xaxis": "x",
         "y": [
          4.748848915100098,
          7.535061359405518,
          9.046756744384766,
          7.355483055114746
         ],
         "yaxis": "y",
         "type": "scatter",
         "textposition": "top center"
        },
        {
         "hovertemplate": "color=cluster_9<br>x=%{x}<br>y=%{y}<br>text=%{text}<extra></extra>",
         "legendgroup": "cluster_9",
         "marker": {
          "color": "#511CFB",
          "symbol": "circle"
         },
         "mode": "markers+text",
         "name": "cluster_9",
         "orientation": "v",
         "showlegend": true,
         "text": [
          "Homebrew",
          "Heroku",
          "Ruby"
         ],
         "x": [
          2.6007726192474365,
          7.506871223449707,
          4.537114143371582
         ],
         "xaxis": "x",
         "y": [
          -14.955022811889648,
          -13.525651931762695,
          -12.979072570800781
         ],
         "yaxis": "y",
         "type": "scatter",
         "textposition": "top center"
        },
        {
         "hovertemplate": "color=cluster_7<br>x=%{x}<br>y=%{y}<br>text=%{text}<extra></extra>",
         "legendgroup": "cluster_7",
         "marker": {
          "color": "#00A08B",
          "symbol": "circle"
         },
         "mode": "markers+text",
         "name": "cluster_7",
         "orientation": "v",
         "showlegend": true,
         "text": [
          "PyCharm",
          "NumPy",
          "Django",
          "Pandas",
          "Flask"
         ],
         "x": [
          -17.655921936035156,
          -11.626633644104004,
          -15.719123840332031,
          -11.728531837463379,
          -13.696890830993652
         ],
         "xaxis": "x",
         "y": [
          -25.199432373046875,
          -26.90104103088379,
          -23.225305557250977,
          -25.32501792907715,
          -22.79027557373047
         ],
         "yaxis": "y",
         "type": "scatter",
         "textposition": "top center"
        }
       ],
       "layout": {
        "template": {
         "data": {
          "histogram2dcontour": [
           {
            "type": "histogram2dcontour",
            "colorbar": {
             "outlinewidth": 0,
             "ticks": ""
            },
            "colorscale": [
             [
              0.0,
              "#0d0887"
             ],
             [
              0.1111111111111111,
              "#46039f"
             ],
             [
              0.2222222222222222,
              "#7201a8"
             ],
             [
              0.3333333333333333,
              "#9c179e"
             ],
             [
              0.4444444444444444,
              "#bd3786"
             ],
             [
              0.5555555555555556,
              "#d8576b"
             ],
             [
              0.6666666666666666,
              "#ed7953"
             ],
             [
              0.7777777777777778,
              "#fb9f3a"
             ],
             [
              0.8888888888888888,
              "#fdca26"
             ],
             [
              1.0,
              "#f0f921"
             ]
            ]
           }
          ],
          "choropleth": [
           {
            "type": "choropleth",
            "colorbar": {
             "outlinewidth": 0,
             "ticks": ""
            }
           }
          ],
          "histogram2d": [
           {
            "type": "histogram2d",
            "colorbar": {
             "outlinewidth": 0,
             "ticks": ""
            },
            "colorscale": [
             [
              0.0,
              "#0d0887"
             ],
             [
              0.1111111111111111,
              "#46039f"
             ],
             [
              0.2222222222222222,
              "#7201a8"
             ],
             [
              0.3333333333333333,
              "#9c179e"
             ],
             [
              0.4444444444444444,
              "#bd3786"
             ],
             [
              0.5555555555555556,
              "#d8576b"
             ],
             [
              0.6666666666666666,
              "#ed7953"
             ],
             [
              0.7777777777777778,
              "#fb9f3a"
             ],
             [
              0.8888888888888888,
              "#fdca26"
             ],
             [
              1.0,
              "#f0f921"
             ]
            ]
           }
          ],
          "heatmap": [
           {
            "type": "heatmap",
            "colorbar": {
             "outlinewidth": 0,
             "ticks": ""
            },
            "colorscale": [
             [
              0.0,
              "#0d0887"
             ],
             [
              0.1111111111111111,
              "#46039f"
             ],
             [
              0.2222222222222222,
              "#7201a8"
             ],
             [
              0.3333333333333333,
              "#9c179e"
             ],
             [
              0.4444444444444444,
              "#bd3786"
             ],
             [
              0.5555555555555556,
              "#d8576b"
             ],
             [
              0.6666666666666666,
              "#ed7953"
             ],
             [
              0.7777777777777778,
              "#fb9f3a"
             ],
             [
              0.8888888888888888,
              "#fdca26"
             ],
             [
              1.0,
              "#f0f921"
             ]
            ]
           }
          ],
          "heatmapgl": [
           {
            "type": "heatmapgl",
            "colorbar": {
             "outlinewidth": 0,
             "ticks": ""
            },
            "colorscale": [
             [
              0.0,
              "#0d0887"
             ],
             [
              0.1111111111111111,
              "#46039f"
             ],
             [
              0.2222222222222222,
              "#7201a8"
             ],
             [
              0.3333333333333333,
              "#9c179e"
             ],
             [
              0.4444444444444444,
              "#bd3786"
             ],
             [
              0.5555555555555556,
              "#d8576b"
             ],
             [
              0.6666666666666666,
              "#ed7953"
             ],
             [
              0.7777777777777778,
              "#fb9f3a"
             ],
             [
              0.8888888888888888,
              "#fdca26"
             ],
             [
              1.0,
              "#f0f921"
             ]
            ]
           }
          ],
          "contourcarpet": [
           {
            "type": "contourcarpet",
            "colorbar": {
             "outlinewidth": 0,
             "ticks": ""
            }
           }
          ],
          "contour": [
           {
            "type": "contour",
            "colorbar": {
             "outlinewidth": 0,
             "ticks": ""
            },
            "colorscale": [
             [
              0.0,
              "#0d0887"
             ],
             [
              0.1111111111111111,
              "#46039f"
             ],
             [
              0.2222222222222222,
              "#7201a8"
             ],
             [
              0.3333333333333333,
              "#9c179e"
             ],
             [
              0.4444444444444444,
              "#bd3786"
             ],
             [
              0.5555555555555556,
              "#d8576b"
             ],
             [
              0.6666666666666666,
              "#ed7953"
             ],
             [
              0.7777777777777778,
              "#fb9f3a"
             ],
             [
              0.8888888888888888,
              "#fdca26"
             ],
             [
              1.0,
              "#f0f921"
             ]
            ]
           }
          ],
          "surface": [
           {
            "type": "surface",
            "colorbar": {
             "outlinewidth": 0,
             "ticks": ""
            },
            "colorscale": [
             [
              0.0,
              "#0d0887"
             ],
             [
              0.1111111111111111,
              "#46039f"
             ],
             [
              0.2222222222222222,
              "#7201a8"
             ],
             [
              0.3333333333333333,
              "#9c179e"
             ],
             [
              0.4444444444444444,
              "#bd3786"
             ],
             [
              0.5555555555555556,
              "#d8576b"
             ],
             [
              0.6666666666666666,
              "#ed7953"
             ],
             [
              0.7777777777777778,
              "#fb9f3a"
             ],
             [
              0.8888888888888888,
              "#fdca26"
             ],
             [
              1.0,
              "#f0f921"
             ]
            ]
           }
          ],
          "mesh3d": [
           {
            "type": "mesh3d",
            "colorbar": {
             "outlinewidth": 0,
             "ticks": ""
            }
           }
          ],
          "scatter": [
           {
            "marker": {
             "line": {
              "color": "#283442"
             }
            },
            "type": "scatter"
           }
          ],
          "parcoords": [
           {
            "type": "parcoords",
            "line": {
             "colorbar": {
              "outlinewidth": 0,
              "ticks": ""
             }
            }
           }
          ],
          "scatterpolargl": [
           {
            "type": "scatterpolargl",
            "marker": {
             "colorbar": {
              "outlinewidth": 0,
              "ticks": ""
             }
            }
           }
          ],
          "bar": [
           {
            "error_x": {
             "color": "#f2f5fa"
            },
            "error_y": {
             "color": "#f2f5fa"
            },
            "marker": {
             "line": {
              "color": "rgb(17,17,17)",
              "width": 0.5
             },
             "pattern": {
              "fillmode": "overlay",
              "size": 10,
              "solidity": 0.2
             }
            },
            "type": "bar"
           }
          ],
          "scattergeo": [
           {
            "type": "scattergeo",
            "marker": {
             "colorbar": {
              "outlinewidth": 0,
              "ticks": ""
             }
            }
           }
          ],
          "scatterpolar": [
           {
            "type": "scatterpolar",
            "marker": {
             "colorbar": {
              "outlinewidth": 0,
              "ticks": ""
             }
            }
           }
          ],
          "histogram": [
           {
            "marker": {
             "pattern": {
              "fillmode": "overlay",
              "size": 10,
              "solidity": 0.2
             }
            },
            "type": "histogram"
           }
          ],
          "scattergl": [
           {
            "marker": {
             "line": {
              "color": "#283442"
             }
            },
            "type": "scattergl"
           }
          ],
          "scatter3d": [
           {
            "type": "scatter3d",
            "line": {
             "colorbar": {
              "outlinewidth": 0,
              "ticks": ""
             }
            },
            "marker": {
             "colorbar": {
              "outlinewidth": 0,
              "ticks": ""
             }
            }
           }
          ],
          "scattermapbox": [
           {
            "type": "scattermapbox",
            "marker": {
             "colorbar": {
              "outlinewidth": 0,
              "ticks": ""
             }
            }
           }
          ],
          "scatterternary": [
           {
            "type": "scatterternary",
            "marker": {
             "colorbar": {
              "outlinewidth": 0,
              "ticks": ""
             }
            }
           }
          ],
          "scattercarpet": [
           {
            "type": "scattercarpet",
            "marker": {
             "colorbar": {
              "outlinewidth": 0,
              "ticks": ""
             }
            }
           }
          ],
          "carpet": [
           {
            "aaxis": {
             "endlinecolor": "#A2B1C6",
             "gridcolor": "#506784",
             "linecolor": "#506784",
             "minorgridcolor": "#506784",
             "startlinecolor": "#A2B1C6"
            },
            "baxis": {
             "endlinecolor": "#A2B1C6",
             "gridcolor": "#506784",
             "linecolor": "#506784",
             "minorgridcolor": "#506784",
             "startlinecolor": "#A2B1C6"
            },
            "type": "carpet"
           }
          ],
          "table": [
           {
            "cells": {
             "fill": {
              "color": "#506784"
             },
             "line": {
              "color": "rgb(17,17,17)"
             }
            },
            "header": {
             "fill": {
              "color": "#2a3f5f"
             },
             "line": {
              "color": "rgb(17,17,17)"
             }
            },
            "type": "table"
           }
          ],
          "barpolar": [
           {
            "marker": {
             "line": {
              "color": "rgb(17,17,17)",
              "width": 0.5
             },
             "pattern": {
              "fillmode": "overlay",
              "size": 10,
              "solidity": 0.2
             }
            },
            "type": "barpolar"
           }
          ],
          "pie": [
           {
            "automargin": true,
            "type": "pie"
           }
          ]
         },
         "layout": {
          "autotypenumbers": "strict",
          "colorway": [
           "#636efa",
           "#EF553B",
           "#00cc96",
           "#ab63fa",
           "#FFA15A",
           "#19d3f3",
           "#FF6692",
           "#B6E880",
           "#FF97FF",
           "#FECB52"
          ],
          "font": {
           "color": "#f2f5fa"
          },
          "hovermode": "closest",
          "hoverlabel": {
           "align": "left"
          },
          "paper_bgcolor": "rgb(17,17,17)",
          "plot_bgcolor": "rgb(17,17,17)",
          "polar": {
           "bgcolor": "rgb(17,17,17)",
           "angularaxis": {
            "gridcolor": "#506784",
            "linecolor": "#506784",
            "ticks": ""
           },
           "radialaxis": {
            "gridcolor": "#506784",
            "linecolor": "#506784",
            "ticks": ""
           }
          },
          "ternary": {
           "bgcolor": "rgb(17,17,17)",
           "aaxis": {
            "gridcolor": "#506784",
            "linecolor": "#506784",
            "ticks": ""
           },
           "baxis": {
            "gridcolor": "#506784",
            "linecolor": "#506784",
            "ticks": ""
           },
           "caxis": {
            "gridcolor": "#506784",
            "linecolor": "#506784",
            "ticks": ""
           }
          },
          "coloraxis": {
           "colorbar": {
            "outlinewidth": 0,
            "ticks": ""
           }
          },
          "colorscale": {
           "sequential": [
            [
             0.0,
             "#0d0887"
            ],
            [
             0.1111111111111111,
             "#46039f"
            ],
            [
             0.2222222222222222,
             "#7201a8"
            ],
            [
             0.3333333333333333,
             "#9c179e"
            ],
            [
             0.4444444444444444,
             "#bd3786"
            ],
            [
             0.5555555555555556,
             "#d8576b"
            ],
            [
             0.6666666666666666,
             "#ed7953"
            ],
            [
             0.7777777777777778,
             "#fb9f3a"
            ],
            [
             0.8888888888888888,
             "#fdca26"
            ],
            [
             1.0,
             "#f0f921"
            ]
           ],
           "sequentialminus": [
            [
             0.0,
             "#0d0887"
            ],
            [
             0.1111111111111111,
             "#46039f"
            ],
            [
             0.2222222222222222,
             "#7201a8"
            ],
            [
             0.3333333333333333,
             "#9c179e"
            ],
            [
             0.4444444444444444,
             "#bd3786"
            ],
            [
             0.5555555555555556,
             "#d8576b"
            ],
            [
             0.6666666666666666,
             "#ed7953"
            ],
            [
             0.7777777777777778,
             "#fb9f3a"
            ],
            [
             0.8888888888888888,
             "#fdca26"
            ],
            [
             1.0,
             "#f0f921"
            ]
           ],
           "diverging": [
            [
             0,
             "#8e0152"
            ],
            [
             0.1,
             "#c51b7d"
            ],
            [
             0.2,
             "#de77ae"
            ],
            [
             0.3,
             "#f1b6da"
            ],
            [
             0.4,
             "#fde0ef"
            ],
            [
             0.5,
             "#f7f7f7"
            ],
            [
             0.6,
             "#e6f5d0"
            ],
            [
             0.7,
             "#b8e186"
            ],
            [
             0.8,
             "#7fbc41"
            ],
            [
             0.9,
             "#4d9221"
            ],
            [
             1,
             "#276419"
            ]
           ]
          },
          "xaxis": {
           "gridcolor": "#283442",
           "linecolor": "#506784",
           "ticks": "",
           "title": {
            "standoff": 15
           },
           "zerolinecolor": "#283442",
           "automargin": true,
           "zerolinewidth": 2
          },
          "yaxis": {
           "gridcolor": "#283442",
           "linecolor": "#506784",
           "ticks": "",
           "title": {
            "standoff": 15
           },
           "zerolinecolor": "#283442",
           "automargin": true,
           "zerolinewidth": 2
          },
          "scene": {
           "xaxis": {
            "backgroundcolor": "rgb(17,17,17)",
            "gridcolor": "#506784",
            "linecolor": "#506784",
            "showbackground": true,
            "ticks": "",
            "zerolinecolor": "#C8D4E3",
            "gridwidth": 2
           },
           "yaxis": {
            "backgroundcolor": "rgb(17,17,17)",
            "gridcolor": "#506784",
            "linecolor": "#506784",
            "showbackground": true,
            "ticks": "",
            "zerolinecolor": "#C8D4E3",
            "gridwidth": 2
           },
           "zaxis": {
            "backgroundcolor": "rgb(17,17,17)",
            "gridcolor": "#506784",
            "linecolor": "#506784",
            "showbackground": true,
            "ticks": "",
            "zerolinecolor": "#C8D4E3",
            "gridwidth": 2
           }
          },
          "shapedefaults": {
           "line": {
            "color": "#f2f5fa"
           }
          },
          "annotationdefaults": {
           "arrowcolor": "#f2f5fa",
           "arrowhead": 0,
           "arrowwidth": 1
          },
          "geo": {
           "bgcolor": "rgb(17,17,17)",
           "landcolor": "rgb(17,17,17)",
           "subunitcolor": "#506784",
           "showland": true,
           "showlakes": true,
           "lakecolor": "rgb(17,17,17)"
          },
          "title": {
           "x": 0.05
          },
          "updatemenudefaults": {
           "bgcolor": "#506784",
           "borderwidth": 0
          },
          "sliderdefaults": {
           "bgcolor": "#C8D4E3",
           "borderwidth": 1,
           "bordercolor": "rgb(17,17,17)",
           "tickwidth": 0
          },
          "mapbox": {
           "style": "dark"
          }
         }
        },
        "xaxis": {
         "anchor": "y",
         "domain": [
          0.0,
          1.0
         ],
         "title": {
          "text": "x"
         }
        },
        "yaxis": {
         "anchor": "x",
         "domain": [
          0.0,
          1.0
         ],
         "title": {
          "text": "y"
         }
        },
        "legend": {
         "title": {
          "text": "color"
         },
         "tracegroupgap": 0
        },
        "margin": {
         "t": 60
        },
        "title": {
         "text": "Clustering top skills for Developer_full-stack"
        },
        "height": 900,
        "width": 1500
       },
       "config": {
        "plotlyServerURL": "https://plot.ly"
       }
      },
      "text/html": "<div>                            <div id=\"53a5ebc4-01c3-4c91-a714-ea1273ef5b52\" class=\"plotly-graph-div\" style=\"height:900px; width:1500px;\"></div>            <script type=\"text/javascript\">                require([\"plotly\"], function(Plotly) {                    window.PLOTLYENV=window.PLOTLYENV || {};                                    if (document.getElementById(\"53a5ebc4-01c3-4c91-a714-ea1273ef5b52\")) {                    Plotly.newPlot(                        \"53a5ebc4-01c3-4c91-a714-ea1273ef5b52\",                        [{\"hovertemplate\":\"color=cluster_0<br>x=%{x}<br>y=%{y}<br>text=%{text}<extra></extra>\",\"legendgroup\":\"cluster_0\",\"marker\":{\"color\":\"#2E91E5\",\"symbol\":\"circle\"},\"mode\":\"markers+text\",\"name\":\"cluster_0\",\"orientation\":\"v\",\"showlegend\":true,\"text\":[\"JavaScript\",\"Visual Studio Code\",\"HTML/CSS\",\"npm\",\"SQL\",\"TypeScript\"],\"x\":[30.004480361938477,31.59844970703125,30.59935760498047,27.21654510498047,31.908708572387695,26.656251907348633],\"xaxis\":\"x\",\"y\":[1.134119987487793,-0.7231801748275757,3.03583025932312,-0.5709143280982971,5.439103603363037,-3.1001369953155518],\"yaxis\":\"y\",\"type\":\"scatter\",\"textposition\":\"top center\"},{\"hovertemplate\":\"color=cluster_-1<br>x=%{x}<br>y=%{y}<br>text=%{text}<extra></extra>\",\"legendgroup\":\"cluster_-1\",\"marker\":{\"color\":\"#E15F99\",\"symbol\":\"circle\"},\"mode\":\"markers+text\",\"name\":\"cluster_-1\",\"orientation\":\"v\",\"showlegend\":true,\"text\":[\"Docker\",\"React.js\",\"PostgreSQL\",\"Node.js\",\"AWS\",\"Python\",\"Redis\",\"Notepad++\",\"Microsoft Azure\",\"jQuery\",\"SQLite\",\"Google Cloud\",\"Go\",\"Elasticsearch\",\"DigitalOcean\",\"Firebase\",\"C++\",\"Webstorm\",\"Oracle\",\"Eclipse\",\"C\"],\"x\":[22.59052848815918,24.917383193969727,19.659650802612305,23.20329475402832,15.330118179321289,-15.124865531921387,10.473886489868164,-6.312896728515625,5.763613700866699,-23.763347625732422,-13.80729866027832,3.1723098754882812,-3.158550500869751,7.6210832595825195,-6.037492752075195,1.378910779953003,-12.212128639221191,-11.936602592468262,-11.103623390197754,-9.372468948364258,-10.551620483398438],\"xaxis\":\"x\",\"y\":[1.1562316417694092,-6.65041446685791,1.591233253479004,-8.51613998413086,0.6778713464736938,-28.720806121826172,-0.5825318694114685,15.289151191711426,33.03696060180664,5.710679054260254,-18.64466667175293,6.834489822387695,-7.577331066131592,-1.353765606880188,-1.6395788192749023,4.733094692230225,-13.299248695373535,-2.2503697872161865,12.984475135803223,12.962098121643066,-13.072315216064453],\"yaxis\":\"y\",\"type\":\"scatter\",\"textposition\":\"top center\"},{\"hovertemplate\":\"color=cluster_4<br>x=%{x}<br>y=%{y}<br>text=%{text}<extra></extra>\",\"legendgroup\":\"cluster_4\",\"marker\":{\"color\":\"#1CA71C\",\"symbol\":\"circle\"},\"mode\":\"markers+text\",\"name\":\"cluster_4\",\"orientation\":\"v\",\"showlegend\":true,\"text\":[\"MySQL\",\"Vue.js\",\"PHP\",\"MariaDB\",\"Laravel\",\"PhpStorm\"],\"x\":[-28.74546241760254,-20.978927612304688,-26.18273162841797,-27.333940505981445,-23.9226131439209,-24.9458065032959],\"xaxis\":\"x\",\"y\":[3.9122374057769775,-0.5238794684410095,2.6906683444976807,-2.2796969413757324,0.5917956233024597,-0.6860225200653076],\"yaxis\":\"y\",\"type\":\"scatter\",\"textposition\":\"top center\"},{\"hovertemplate\":\"color=cluster_1<br>x=%{x}<br>y=%{y}<br>text=%{text}<extra></extra>\",\"legendgroup\":\"cluster_1\",\"marker\":{\"color\":\"#FB0D0D\",\"symbol\":\"circle\"},\"mode\":\"markers+text\",\"name\":\"cluster_1\",\"orientation\":\"v\",\"showlegend\":true,\"text\":[\"C#\",\"Visual Studio\",\"Microsoft SQL Server\",\".NET\",\"ASP.NET Core \",\"ASP.NET\"],\"x\":[3.09678053855896,1.2562273740768433,5.794965744018555,1.7215924263000488,3.13531756401062,1.7303563356399536],\"xaxis\":\"x\",\"y\":[38.89508056640625,40.403560638427734,37.24816131591797,37.351661682128906,35.3513298034668,33.300899505615234],\"yaxis\":\"y\",\"type\":\"scatter\",\"textposition\":\"top center\"},{\"hovertemplate\":\"color=cluster_3<br>x=%{x}<br>y=%{y}<br>text=%{text}<extra></extra>\",\"legendgroup\":\"cluster_3\",\"marker\":{\"color\":\"#DA16FF\",\"symbol\":\"circle\"},\"mode\":\"markers+text\",\"name\":\"cluster_3\",\"orientation\":\"v\",\"showlegend\":true,\"text\":[\"MongoDB\",\"Yarn\",\"Express\",\"Next.js\"],\"x\":[20.80853843688965,14.22060775756836,20.073495864868164,16.833913803100586],\"xaxis\":\"x\",\"y\":[-13.558719635009766,-10.595078468322754,-11.023032188415527,-10.14444351196289],\"yaxis\":\"y\",\"type\":\"scatter\",\"textposition\":\"top center\"},{\"hovertemplate\":\"color=cluster_2<br>x=%{x}<br>y=%{y}<br>text=%{text}<extra></extra>\",\"legendgroup\":\"cluster_2\",\"marker\":{\"color\":\"#222A2A\",\"symbol\":\"circle\"},\"mode\":\"markers+text\",\"name\":\"cluster_2\",\"orientation\":\"v\",\"showlegend\":true,\"text\":[\"Java\",\"IntelliJ\",\"Spring\"],\"x\":[-15.016131401062012,-16.595672607421875,-13.220698356628418],\"xaxis\":\"x\",\"y\":[19.882122039794922,21.066577911376953,17.188867568969727],\"yaxis\":\"y\",\"type\":\"scatter\",\"textposition\":\"top center\"},{\"hovertemplate\":\"color=cluster_6<br>x=%{x}<br>y=%{y}<br>text=%{text}<extra></extra>\",\"legendgroup\":\"cluster_6\",\"marker\":{\"color\":\"#B68100\",\"symbol\":\"circle\"},\"mode\":\"markers+text\",\"name\":\"cluster_6\",\"orientation\":\"v\",\"showlegend\":true,\"text\":[\"Kubernetes\",\"Android Studio\",\"Terraform\",\"React Native\",\"DynamoDB\",\"Kotlin\",\"Flutter\",\"Apache Kafka\"],\"x\":[1.1071110963821411,-2.930093765258789,3.852616310119629,0.876985490322113,4.280402183532715,-1.3900138139724731,-1.9207165241241455,0.9146239161491394],\"xaxis\":\"x\",\"y\":[-8.039295196533203,1.790885090827942,-6.243699073791504,0.6559072136878967,-3.6897263526916504,-2.6609137058258057,-0.5110166072845459,-3.8241395950317383],\"yaxis\":\"y\",\"type\":\"scatter\",\"textposition\":\"top center\"},{\"hovertemplate\":\"color=cluster_5<br>x=%{x}<br>y=%{y}<br>text=%{text}<extra></extra>\",\"legendgroup\":\"cluster_5\",\"marker\":{\"color\":\"#750D86\",\"symbol\":\"circle\"},\"mode\":\"markers+text\",\"name\":\"cluster_5\",\"orientation\":\"v\",\"showlegend\":true,\"text\":[\"Bash/Shell\",\"Vim\",\"Rust\"],\"x\":[-9.009906768798828,-6.4527907371521,-6.61335563659668],\"xaxis\":\"x\",\"y\":[-9.30781078338623,-14.784002304077148,-11.35096263885498],\"yaxis\":\"y\",\"type\":\"scatter\",\"textposition\":\"top center\"},{\"hovertemplate\":\"color=cluster_8<br>x=%{x}<br>y=%{y}<br>text=%{text}<extra></extra>\",\"legendgroup\":\"cluster_8\",\"marker\":{\"color\":\"#EB663B\",\"symbol\":\"circle\"},\"mode\":\"markers+text\",\"name\":\"cluster_8\",\"orientation\":\"v\",\"showlegend\":true,\"text\":[\"Angular\",\"Sublime Text\",\"PowerShell\",\"Angular.js\"],\"x\":[-8.493260383605957,-11.891263961791992,-5.4893693923950195,-8.467679977416992],\"xaxis\":\"x\",\"y\":[4.748848915100098,7.535061359405518,9.046756744384766,7.355483055114746],\"yaxis\":\"y\",\"type\":\"scatter\",\"textposition\":\"top center\"},{\"hovertemplate\":\"color=cluster_9<br>x=%{x}<br>y=%{y}<br>text=%{text}<extra></extra>\",\"legendgroup\":\"cluster_9\",\"marker\":{\"color\":\"#511CFB\",\"symbol\":\"circle\"},\"mode\":\"markers+text\",\"name\":\"cluster_9\",\"orientation\":\"v\",\"showlegend\":true,\"text\":[\"Homebrew\",\"Heroku\",\"Ruby\"],\"x\":[2.6007726192474365,7.506871223449707,4.537114143371582],\"xaxis\":\"x\",\"y\":[-14.955022811889648,-13.525651931762695,-12.979072570800781],\"yaxis\":\"y\",\"type\":\"scatter\",\"textposition\":\"top center\"},{\"hovertemplate\":\"color=cluster_7<br>x=%{x}<br>y=%{y}<br>text=%{text}<extra></extra>\",\"legendgroup\":\"cluster_7\",\"marker\":{\"color\":\"#00A08B\",\"symbol\":\"circle\"},\"mode\":\"markers+text\",\"name\":\"cluster_7\",\"orientation\":\"v\",\"showlegend\":true,\"text\":[\"PyCharm\",\"NumPy\",\"Django\",\"Pandas\",\"Flask\"],\"x\":[-17.655921936035156,-11.626633644104004,-15.719123840332031,-11.728531837463379,-13.696890830993652],\"xaxis\":\"x\",\"y\":[-25.199432373046875,-26.90104103088379,-23.225305557250977,-25.32501792907715,-22.79027557373047],\"yaxis\":\"y\",\"type\":\"scatter\",\"textposition\":\"top center\"}],                        {\"template\":{\"data\":{\"histogram2dcontour\":[{\"type\":\"histogram2dcontour\",\"colorbar\":{\"outlinewidth\":0,\"ticks\":\"\"},\"colorscale\":[[0.0,\"#0d0887\"],[0.1111111111111111,\"#46039f\"],[0.2222222222222222,\"#7201a8\"],[0.3333333333333333,\"#9c179e\"],[0.4444444444444444,\"#bd3786\"],[0.5555555555555556,\"#d8576b\"],[0.6666666666666666,\"#ed7953\"],[0.7777777777777778,\"#fb9f3a\"],[0.8888888888888888,\"#fdca26\"],[1.0,\"#f0f921\"]]}],\"choropleth\":[{\"type\":\"choropleth\",\"colorbar\":{\"outlinewidth\":0,\"ticks\":\"\"}}],\"histogram2d\":[{\"type\":\"histogram2d\",\"colorbar\":{\"outlinewidth\":0,\"ticks\":\"\"},\"colorscale\":[[0.0,\"#0d0887\"],[0.1111111111111111,\"#46039f\"],[0.2222222222222222,\"#7201a8\"],[0.3333333333333333,\"#9c179e\"],[0.4444444444444444,\"#bd3786\"],[0.5555555555555556,\"#d8576b\"],[0.6666666666666666,\"#ed7953\"],[0.7777777777777778,\"#fb9f3a\"],[0.8888888888888888,\"#fdca26\"],[1.0,\"#f0f921\"]]}],\"heatmap\":[{\"type\":\"heatmap\",\"colorbar\":{\"outlinewidth\":0,\"ticks\":\"\"},\"colorscale\":[[0.0,\"#0d0887\"],[0.1111111111111111,\"#46039f\"],[0.2222222222222222,\"#7201a8\"],[0.3333333333333333,\"#9c179e\"],[0.4444444444444444,\"#bd3786\"],[0.5555555555555556,\"#d8576b\"],[0.6666666666666666,\"#ed7953\"],[0.7777777777777778,\"#fb9f3a\"],[0.8888888888888888,\"#fdca26\"],[1.0,\"#f0f921\"]]}],\"heatmapgl\":[{\"type\":\"heatmapgl\",\"colorbar\":{\"outlinewidth\":0,\"ticks\":\"\"},\"colorscale\":[[0.0,\"#0d0887\"],[0.1111111111111111,\"#46039f\"],[0.2222222222222222,\"#7201a8\"],[0.3333333333333333,\"#9c179e\"],[0.4444444444444444,\"#bd3786\"],[0.5555555555555556,\"#d8576b\"],[0.6666666666666666,\"#ed7953\"],[0.7777777777777778,\"#fb9f3a\"],[0.8888888888888888,\"#fdca26\"],[1.0,\"#f0f921\"]]}],\"contourcarpet\":[{\"type\":\"contourcarpet\",\"colorbar\":{\"outlinewidth\":0,\"ticks\":\"\"}}],\"contour\":[{\"type\":\"contour\",\"colorbar\":{\"outlinewidth\":0,\"ticks\":\"\"},\"colorscale\":[[0.0,\"#0d0887\"],[0.1111111111111111,\"#46039f\"],[0.2222222222222222,\"#7201a8\"],[0.3333333333333333,\"#9c179e\"],[0.4444444444444444,\"#bd3786\"],[0.5555555555555556,\"#d8576b\"],[0.6666666666666666,\"#ed7953\"],[0.7777777777777778,\"#fb9f3a\"],[0.8888888888888888,\"#fdca26\"],[1.0,\"#f0f921\"]]}],\"surface\":[{\"type\":\"surface\",\"colorbar\":{\"outlinewidth\":0,\"ticks\":\"\"},\"colorscale\":[[0.0,\"#0d0887\"],[0.1111111111111111,\"#46039f\"],[0.2222222222222222,\"#7201a8\"],[0.3333333333333333,\"#9c179e\"],[0.4444444444444444,\"#bd3786\"],[0.5555555555555556,\"#d8576b\"],[0.6666666666666666,\"#ed7953\"],[0.7777777777777778,\"#fb9f3a\"],[0.8888888888888888,\"#fdca26\"],[1.0,\"#f0f921\"]]}],\"mesh3d\":[{\"type\":\"mesh3d\",\"colorbar\":{\"outlinewidth\":0,\"ticks\":\"\"}}],\"scatter\":[{\"marker\":{\"line\":{\"color\":\"#283442\"}},\"type\":\"scatter\"}],\"parcoords\":[{\"type\":\"parcoords\",\"line\":{\"colorbar\":{\"outlinewidth\":0,\"ticks\":\"\"}}}],\"scatterpolargl\":[{\"type\":\"scatterpolargl\",\"marker\":{\"colorbar\":{\"outlinewidth\":0,\"ticks\":\"\"}}}],\"bar\":[{\"error_x\":{\"color\":\"#f2f5fa\"},\"error_y\":{\"color\":\"#f2f5fa\"},\"marker\":{\"line\":{\"color\":\"rgb(17,17,17)\",\"width\":0.5},\"pattern\":{\"fillmode\":\"overlay\",\"size\":10,\"solidity\":0.2}},\"type\":\"bar\"}],\"scattergeo\":[{\"type\":\"scattergeo\",\"marker\":{\"colorbar\":{\"outlinewidth\":0,\"ticks\":\"\"}}}],\"scatterpolar\":[{\"type\":\"scatterpolar\",\"marker\":{\"colorbar\":{\"outlinewidth\":0,\"ticks\":\"\"}}}],\"histogram\":[{\"marker\":{\"pattern\":{\"fillmode\":\"overlay\",\"size\":10,\"solidity\":0.2}},\"type\":\"histogram\"}],\"scattergl\":[{\"marker\":{\"line\":{\"color\":\"#283442\"}},\"type\":\"scattergl\"}],\"scatter3d\":[{\"type\":\"scatter3d\",\"line\":{\"colorbar\":{\"outlinewidth\":0,\"ticks\":\"\"}},\"marker\":{\"colorbar\":{\"outlinewidth\":0,\"ticks\":\"\"}}}],\"scattermapbox\":[{\"type\":\"scattermapbox\",\"marker\":{\"colorbar\":{\"outlinewidth\":0,\"ticks\":\"\"}}}],\"scatterternary\":[{\"type\":\"scatterternary\",\"marker\":{\"colorbar\":{\"outlinewidth\":0,\"ticks\":\"\"}}}],\"scattercarpet\":[{\"type\":\"scattercarpet\",\"marker\":{\"colorbar\":{\"outlinewidth\":0,\"ticks\":\"\"}}}],\"carpet\":[{\"aaxis\":{\"endlinecolor\":\"#A2B1C6\",\"gridcolor\":\"#506784\",\"linecolor\":\"#506784\",\"minorgridcolor\":\"#506784\",\"startlinecolor\":\"#A2B1C6\"},\"baxis\":{\"endlinecolor\":\"#A2B1C6\",\"gridcolor\":\"#506784\",\"linecolor\":\"#506784\",\"minorgridcolor\":\"#506784\",\"startlinecolor\":\"#A2B1C6\"},\"type\":\"carpet\"}],\"table\":[{\"cells\":{\"fill\":{\"color\":\"#506784\"},\"line\":{\"color\":\"rgb(17,17,17)\"}},\"header\":{\"fill\":{\"color\":\"#2a3f5f\"},\"line\":{\"color\":\"rgb(17,17,17)\"}},\"type\":\"table\"}],\"barpolar\":[{\"marker\":{\"line\":{\"color\":\"rgb(17,17,17)\",\"width\":0.5},\"pattern\":{\"fillmode\":\"overlay\",\"size\":10,\"solidity\":0.2}},\"type\":\"barpolar\"}],\"pie\":[{\"automargin\":true,\"type\":\"pie\"}]},\"layout\":{\"autotypenumbers\":\"strict\",\"colorway\":[\"#636efa\",\"#EF553B\",\"#00cc96\",\"#ab63fa\",\"#FFA15A\",\"#19d3f3\",\"#FF6692\",\"#B6E880\",\"#FF97FF\",\"#FECB52\"],\"font\":{\"color\":\"#f2f5fa\"},\"hovermode\":\"closest\",\"hoverlabel\":{\"align\":\"left\"},\"paper_bgcolor\":\"rgb(17,17,17)\",\"plot_bgcolor\":\"rgb(17,17,17)\",\"polar\":{\"bgcolor\":\"rgb(17,17,17)\",\"angularaxis\":{\"gridcolor\":\"#506784\",\"linecolor\":\"#506784\",\"ticks\":\"\"},\"radialaxis\":{\"gridcolor\":\"#506784\",\"linecolor\":\"#506784\",\"ticks\":\"\"}},\"ternary\":{\"bgcolor\":\"rgb(17,17,17)\",\"aaxis\":{\"gridcolor\":\"#506784\",\"linecolor\":\"#506784\",\"ticks\":\"\"},\"baxis\":{\"gridcolor\":\"#506784\",\"linecolor\":\"#506784\",\"ticks\":\"\"},\"caxis\":{\"gridcolor\":\"#506784\",\"linecolor\":\"#506784\",\"ticks\":\"\"}},\"coloraxis\":{\"colorbar\":{\"outlinewidth\":0,\"ticks\":\"\"}},\"colorscale\":{\"sequential\":[[0.0,\"#0d0887\"],[0.1111111111111111,\"#46039f\"],[0.2222222222222222,\"#7201a8\"],[0.3333333333333333,\"#9c179e\"],[0.4444444444444444,\"#bd3786\"],[0.5555555555555556,\"#d8576b\"],[0.6666666666666666,\"#ed7953\"],[0.7777777777777778,\"#fb9f3a\"],[0.8888888888888888,\"#fdca26\"],[1.0,\"#f0f921\"]],\"sequentialminus\":[[0.0,\"#0d0887\"],[0.1111111111111111,\"#46039f\"],[0.2222222222222222,\"#7201a8\"],[0.3333333333333333,\"#9c179e\"],[0.4444444444444444,\"#bd3786\"],[0.5555555555555556,\"#d8576b\"],[0.6666666666666666,\"#ed7953\"],[0.7777777777777778,\"#fb9f3a\"],[0.8888888888888888,\"#fdca26\"],[1.0,\"#f0f921\"]],\"diverging\":[[0,\"#8e0152\"],[0.1,\"#c51b7d\"],[0.2,\"#de77ae\"],[0.3,\"#f1b6da\"],[0.4,\"#fde0ef\"],[0.5,\"#f7f7f7\"],[0.6,\"#e6f5d0\"],[0.7,\"#b8e186\"],[0.8,\"#7fbc41\"],[0.9,\"#4d9221\"],[1,\"#276419\"]]},\"xaxis\":{\"gridcolor\":\"#283442\",\"linecolor\":\"#506784\",\"ticks\":\"\",\"title\":{\"standoff\":15},\"zerolinecolor\":\"#283442\",\"automargin\":true,\"zerolinewidth\":2},\"yaxis\":{\"gridcolor\":\"#283442\",\"linecolor\":\"#506784\",\"ticks\":\"\",\"title\":{\"standoff\":15},\"zerolinecolor\":\"#283442\",\"automargin\":true,\"zerolinewidth\":2},\"scene\":{\"xaxis\":{\"backgroundcolor\":\"rgb(17,17,17)\",\"gridcolor\":\"#506784\",\"linecolor\":\"#506784\",\"showbackground\":true,\"ticks\":\"\",\"zerolinecolor\":\"#C8D4E3\",\"gridwidth\":2},\"yaxis\":{\"backgroundcolor\":\"rgb(17,17,17)\",\"gridcolor\":\"#506784\",\"linecolor\":\"#506784\",\"showbackground\":true,\"ticks\":\"\",\"zerolinecolor\":\"#C8D4E3\",\"gridwidth\":2},\"zaxis\":{\"backgroundcolor\":\"rgb(17,17,17)\",\"gridcolor\":\"#506784\",\"linecolor\":\"#506784\",\"showbackground\":true,\"ticks\":\"\",\"zerolinecolor\":\"#C8D4E3\",\"gridwidth\":2}},\"shapedefaults\":{\"line\":{\"color\":\"#f2f5fa\"}},\"annotationdefaults\":{\"arrowcolor\":\"#f2f5fa\",\"arrowhead\":0,\"arrowwidth\":1},\"geo\":{\"bgcolor\":\"rgb(17,17,17)\",\"landcolor\":\"rgb(17,17,17)\",\"subunitcolor\":\"#506784\",\"showland\":true,\"showlakes\":true,\"lakecolor\":\"rgb(17,17,17)\"},\"title\":{\"x\":0.05},\"updatemenudefaults\":{\"bgcolor\":\"#506784\",\"borderwidth\":0},\"sliderdefaults\":{\"bgcolor\":\"#C8D4E3\",\"borderwidth\":1,\"bordercolor\":\"rgb(17,17,17)\",\"tickwidth\":0},\"mapbox\":{\"style\":\"dark\"}}},\"xaxis\":{\"anchor\":\"y\",\"domain\":[0.0,1.0],\"title\":{\"text\":\"x\"}},\"yaxis\":{\"anchor\":\"x\",\"domain\":[0.0,1.0],\"title\":{\"text\":\"y\"}},\"legend\":{\"title\":{\"text\":\"color\"},\"tracegroupgap\":0},\"margin\":{\"t\":60},\"title\":{\"text\":\"Clustering top skills for Developer_full-stack\"},\"height\":900,\"width\":1500},                        {\"responsive\": true}                    ).then(function(){\n                            \nvar gd = document.getElementById('53a5ebc4-01c3-4c91-a714-ea1273ef5b52');\nvar x = new MutationObserver(function (mutations, observer) {{\n        var display = window.getComputedStyle(gd).display;\n        if (!display || display === 'none') {{\n            console.log([gd, 'removed!']);\n            Plotly.purge(gd);\n            observer.disconnect();\n        }}\n}});\n\n// Listen for the removal of the full notebook cells\nvar notebookContainer = gd.closest('#notebook-container');\nif (notebookContainer) {{\n    x.observe(notebookContainer, {childList: true});\n}}\n\n// Listen for the clearing of the current output cell\nvar outputEl = gd.closest('.output');\nif (outputEl) {{\n    x.observe(outputEl, {childList: true});\n}}\n\n                        })                };                });            </script>        </div>"
     },
     "metadata": {},
     "output_type": "display_data"
    }
   ],
   "source": [
    "full_stack_skills = choose_most_related_skills(roles_type = [split_roles[0]], exclude_roles=['Developer_mobile'], threshold=.6)\n",
    "full_stack_tsne = reduce_dimensions(full_stack_skills)\n",
    "best_labels_full_stack = evaluate_cluster_model(full_stack_tsne)\n",
    "visualize_chosen_cluster_model(split_roles[0], full_stack_tsne, best_labels_full_stack)"
   ],
   "metadata": {
    "collapsed": false
   }
  },
  {
   "cell_type": "code",
   "execution_count": 57,
   "outputs": [
    {
     "name": "stdout",
     "output_type": "stream",
     "text": [
      "cluster_-1 ['Docker', 'React.js', 'PostgreSQL', 'Node.js', 'AWS', 'Python', 'Redis', 'Notepad++', 'Microsoft Azure', 'jQuery', 'SQLite', 'Google Cloud', 'Go', 'Elasticsearch', 'DigitalOcean', 'Firebase', 'C++', 'Webstorm', 'Oracle', 'Eclipse', 'C']\n",
      "cluster_0 ['JavaScript', 'Visual Studio Code', 'HTML/CSS', 'npm', 'SQL', 'TypeScript']\n",
      "cluster_1 ['C#', 'Visual Studio', 'Microsoft SQL Server', '.NET', 'ASP.NET Core ', 'ASP.NET']\n",
      "cluster_2 ['Java', 'IntelliJ', 'Spring']\n",
      "cluster_3 ['MongoDB', 'Yarn', 'Express', 'Next.js']\n",
      "cluster_4 ['MySQL', 'Vue.js', 'PHP', 'MariaDB', 'Laravel', 'PhpStorm']\n",
      "cluster_5 ['Bash/Shell', 'Vim', 'Rust']\n",
      "cluster_6 ['Kubernetes', 'Android Studio', 'Terraform', 'React Native', 'DynamoDB', 'Kotlin', 'Flutter', 'Apache Kafka']\n",
      "cluster_7 ['PyCharm', 'NumPy', 'Django', 'Pandas', 'Flask']\n",
      "cluster_8 ['Angular', 'Sublime Text', 'PowerShell', 'Angular.js']\n",
      "cluster_9 ['Homebrew', 'Heroku', 'Ruby']\n"
     ]
    }
   ],
   "source": [
    "for label in sorted(set(best_labels_full_stack)):\n",
    "    print(label, list(full_stack_tsne[best_labels_full_stack==label].index))\n"
   ],
   "metadata": {
    "collapsed": false
   }
  },
  {
   "cell_type": "code",
   "execution_count": 58,
   "outputs": [
    {
     "data": {
      "text/plain": "[['C#',\n  'Visual Studio',\n  'Microsoft SQL Server',\n  '.NET',\n  'ASP.NET Core ',\n  'ASP.NET',\n  'Microsoft Azure'],\n ['Java', 'IntelliJ', 'Spring'],\n ['MongoDB', 'Yarn', 'Express', 'Next.js', 'React.js', 'Node.js'],\n ['MySQL', 'Vue.js', 'PHP', 'MariaDB', 'Laravel', 'PhpStorm', 'jQuery'],\n ['PyCharm', 'NumPy', 'Django', 'Pandas', 'Flask', 'Python']]"
     },
     "execution_count": 58,
     "metadata": {},
     "output_type": "execute_result"
    }
   ],
   "source": [
    "# filtering skills results\n",
    "full_stack_roles_skills = []\n",
    "for label in sorted(set(best_labels_full_stack)):\n",
    "    # these clusters numbers are not specific for any full_stack developer, but it's general skills\n",
    "    if label in  [f'cluster_{i}' for i in [-1, 0, 5, 6, 8, 9]]:\n",
    "        continue\n",
    "\n",
    "    cluster_labels = list(full_stack_tsne[best_labels_full_stack==label].index)\n",
    "    if label == 'cluster_3':\n",
    "        # [cluster_labels.remove(item) for item in ['JavaScript', 'Visual Studio Code', 'HTML/CSS', 'npm', 'SQL', 'TypeScript']]\n",
    "        cluster_labels += ['React.js', 'Node.js']\n",
    "\n",
    "    if label == 'cluster_7':\n",
    "        cluster_labels += ['Python']\n",
    "\n",
    "    if label == 'cluster_4':\n",
    "        cluster_labels +=['jQuery']\n",
    "\n",
    "    if label == 'cluster_1':\n",
    "        cluster_labels +=['Microsoft Azure']\n",
    "\n",
    "    full_stack_roles_skills.append(cluster_labels)\n",
    "full_stack_roles_skills"
   ],
   "metadata": {
    "collapsed": false
   }
  },
  {
   "cell_type": "code",
   "execution_count": 59,
   "outputs": [],
   "source": [
    "full_stack_types = ['full_stack_.NET', 'full_stack_Java', 'full_stack_.JavaScript', 'full_stack_PHP', 'full_stack_python']"
   ],
   "metadata": {
    "collapsed": false
   }
  },
  {
   "cell_type": "code",
   "execution_count": 60,
   "outputs": [
    {
     "name": "stdout",
     "output_type": "stream",
     "text": [
      "20928\n",
      "cluster_0:  7816\n",
      "cluster_1:  8158\n",
      "cluster_2:  11917\n",
      "cluster_3:  11070\n",
      "cluster_4:  6991\n"
     ]
    }
   ],
   "source": [
    "is_full_stack = skills_dev_df['DevType']['Developer_full-stack'] == 1\n",
    "print(is_full_stack.sum())\n",
    "full_stack_roles = {}\n",
    "for i, cluster_labels in enumerate(full_stack_roles_skills):\n",
    "\n",
    "    total_skills = skills_dev_df.droplevel(level=0, axis = 1)[cluster_labels].sum(axis=1)\n",
    "\n",
    "    # assign true for this specific type if this developer has summation skills more than the mean\n",
    "    is_full_stack_specific_type = total_skills > total_skills.mean()\n",
    "    print(f'cluster_{i}: ', (is_full_stack & is_full_stack_specific_type).sum())\n",
    "    full_stack_roles[full_stack_types[i]] = is_full_stack & is_full_stack_specific_type"
   ],
   "metadata": {
    "collapsed": false
   }
  },
  {
   "cell_type": "markdown",
   "source": [
    "## Good results"
   ],
   "metadata": {
    "collapsed": false
   }
  },
  {
   "cell_type": "code",
   "execution_count": 61,
   "outputs": [
    {
     "data": {
      "text/plain": "       full_stack_.NET  full_stack_Java  full_stack_.JavaScript  \\\n2                False            False                   False   \n3                 True            False                   False   \n7                False             True                    True   \n9                False            False                   False   \n10                True            False                   False   \n...                ...              ...                     ...   \n73262            False            False                   False   \n73263            False            False                   False   \n73264            False            False                   False   \n73265             True            False                   False   \n73266            False            False                   False   \n\n       full_stack_PHP  full_stack_python  Developer_full-stack  \n2               False              False                 False  \n3               False              False                  True  \n7                True              False                  True  \n9               False              False                 False  \n10              False              False                  True  \n...               ...                ...                   ...  \n73262           False              False                 False  \n73263           False              False                 False  \n73264           False              False                 False  \n73265            True               True                  True  \n73266           False              False                 False  \n\n[50423 rows x 6 columns]",
      "text/html": "<div>\n<style scoped>\n    .dataframe tbody tr th:only-of-type {\n        vertical-align: middle;\n    }\n\n    .dataframe tbody tr th {\n        vertical-align: top;\n    }\n\n    .dataframe thead th {\n        text-align: right;\n    }\n</style>\n<table border=\"1\" class=\"dataframe\">\n  <thead>\n    <tr style=\"text-align: right;\">\n      <th></th>\n      <th>full_stack_.NET</th>\n      <th>full_stack_Java</th>\n      <th>full_stack_.JavaScript</th>\n      <th>full_stack_PHP</th>\n      <th>full_stack_python</th>\n      <th>Developer_full-stack</th>\n    </tr>\n  </thead>\n  <tbody>\n    <tr>\n      <th>2</th>\n      <td>False</td>\n      <td>False</td>\n      <td>False</td>\n      <td>False</td>\n      <td>False</td>\n      <td>False</td>\n    </tr>\n    <tr>\n      <th>3</th>\n      <td>True</td>\n      <td>False</td>\n      <td>False</td>\n      <td>False</td>\n      <td>False</td>\n      <td>True</td>\n    </tr>\n    <tr>\n      <th>7</th>\n      <td>False</td>\n      <td>True</td>\n      <td>True</td>\n      <td>True</td>\n      <td>False</td>\n      <td>True</td>\n    </tr>\n    <tr>\n      <th>9</th>\n      <td>False</td>\n      <td>False</td>\n      <td>False</td>\n      <td>False</td>\n      <td>False</td>\n      <td>False</td>\n    </tr>\n    <tr>\n      <th>10</th>\n      <td>True</td>\n      <td>False</td>\n      <td>False</td>\n      <td>False</td>\n      <td>False</td>\n      <td>True</td>\n    </tr>\n    <tr>\n      <th>...</th>\n      <td>...</td>\n      <td>...</td>\n      <td>...</td>\n      <td>...</td>\n      <td>...</td>\n      <td>...</td>\n    </tr>\n    <tr>\n      <th>73262</th>\n      <td>False</td>\n      <td>False</td>\n      <td>False</td>\n      <td>False</td>\n      <td>False</td>\n      <td>False</td>\n    </tr>\n    <tr>\n      <th>73263</th>\n      <td>False</td>\n      <td>False</td>\n      <td>False</td>\n      <td>False</td>\n      <td>False</td>\n      <td>False</td>\n    </tr>\n    <tr>\n      <th>73264</th>\n      <td>False</td>\n      <td>False</td>\n      <td>False</td>\n      <td>False</td>\n      <td>False</td>\n      <td>False</td>\n    </tr>\n    <tr>\n      <th>73265</th>\n      <td>True</td>\n      <td>False</td>\n      <td>False</td>\n      <td>True</td>\n      <td>True</td>\n      <td>True</td>\n    </tr>\n    <tr>\n      <th>73266</th>\n      <td>False</td>\n      <td>False</td>\n      <td>False</td>\n      <td>False</td>\n      <td>False</td>\n      <td>False</td>\n    </tr>\n  </tbody>\n</table>\n<p>50423 rows × 6 columns</p>\n</div>"
     },
     "execution_count": 61,
     "metadata": {},
     "output_type": "execute_result"
    }
   ],
   "source": [
    "full_stack_roles_df = pd.concat(full_stack_roles, axis = 1)\n",
    "full_stack_roles_df = pd.concat([full_stack_roles_df,is_full_stack], axis = 1)\n",
    "full_stack_roles_df\n"
   ],
   "metadata": {
    "collapsed": false
   }
  },
  {
   "cell_type": "code",
   "execution_count": 62,
   "outputs": [
    {
     "data": {
      "text/plain": "797"
     },
     "execution_count": 62,
     "metadata": {},
     "output_type": "execute_result"
    }
   ],
   "source": [
    "# count number of roles that is full stack, but not have any specific type\n",
    "(full_stack_roles_df.iloc[full_stack_roles_df['Developer_full-stack'].values,:-1].sum(axis=1) == 0).sum()"
   ],
   "metadata": {
    "collapsed": false
   }
  },
  {
   "cell_type": "code",
   "execution_count": 63,
   "outputs": [
    {
     "data": {
      "text/plain": "              DevType                                                        \\\n      full_stack_.NET full_stack_Java full_stack_.JavaScript full_stack_PHP   \n2                   0               0                      0              0   \n3                   1               0                      0              0   \n7                   0               1                      1              1   \n9                   0               0                      0              0   \n10                  1               0                      0              0   \n...               ...             ...                    ...            ...   \n73262               0               0                      0              0   \n73263               0               0                      0              0   \n73264               0               0                      0              0   \n73265               1               0                      0              1   \n73266               0               0                      0              0   \n\n                                            \n      full_stack_python full-stack_general  \n2                     0                  0  \n3                     0                  1  \n7                     0                  1  \n9                     0                  0  \n10                    0                  1  \n...                 ...                ...  \n73262                 0                  0  \n73263                 0                  0  \n73264                 0                  0  \n73265                 1                  1  \n73266                 0                  0  \n\n[50423 rows x 6 columns]",
      "text/html": "<div>\n<style scoped>\n    .dataframe tbody tr th:only-of-type {\n        vertical-align: middle;\n    }\n\n    .dataframe tbody tr th {\n        vertical-align: top;\n    }\n\n    .dataframe thead tr th {\n        text-align: left;\n    }\n</style>\n<table border=\"1\" class=\"dataframe\">\n  <thead>\n    <tr>\n      <th></th>\n      <th colspan=\"6\" halign=\"left\">DevType</th>\n    </tr>\n    <tr>\n      <th></th>\n      <th>full_stack_.NET</th>\n      <th>full_stack_Java</th>\n      <th>full_stack_.JavaScript</th>\n      <th>full_stack_PHP</th>\n      <th>full_stack_python</th>\n      <th>full-stack_general</th>\n    </tr>\n  </thead>\n  <tbody>\n    <tr>\n      <th>2</th>\n      <td>0</td>\n      <td>0</td>\n      <td>0</td>\n      <td>0</td>\n      <td>0</td>\n      <td>0</td>\n    </tr>\n    <tr>\n      <th>3</th>\n      <td>1</td>\n      <td>0</td>\n      <td>0</td>\n      <td>0</td>\n      <td>0</td>\n      <td>1</td>\n    </tr>\n    <tr>\n      <th>7</th>\n      <td>0</td>\n      <td>1</td>\n      <td>1</td>\n      <td>1</td>\n      <td>0</td>\n      <td>1</td>\n    </tr>\n    <tr>\n      <th>9</th>\n      <td>0</td>\n      <td>0</td>\n      <td>0</td>\n      <td>0</td>\n      <td>0</td>\n      <td>0</td>\n    </tr>\n    <tr>\n      <th>10</th>\n      <td>1</td>\n      <td>0</td>\n      <td>0</td>\n      <td>0</td>\n      <td>0</td>\n      <td>1</td>\n    </tr>\n    <tr>\n      <th>...</th>\n      <td>...</td>\n      <td>...</td>\n      <td>...</td>\n      <td>...</td>\n      <td>...</td>\n      <td>...</td>\n    </tr>\n    <tr>\n      <th>73262</th>\n      <td>0</td>\n      <td>0</td>\n      <td>0</td>\n      <td>0</td>\n      <td>0</td>\n      <td>0</td>\n    </tr>\n    <tr>\n      <th>73263</th>\n      <td>0</td>\n      <td>0</td>\n      <td>0</td>\n      <td>0</td>\n      <td>0</td>\n      <td>0</td>\n    </tr>\n    <tr>\n      <th>73264</th>\n      <td>0</td>\n      <td>0</td>\n      <td>0</td>\n      <td>0</td>\n      <td>0</td>\n      <td>0</td>\n    </tr>\n    <tr>\n      <th>73265</th>\n      <td>1</td>\n      <td>0</td>\n      <td>0</td>\n      <td>1</td>\n      <td>1</td>\n      <td>1</td>\n    </tr>\n    <tr>\n      <th>73266</th>\n      <td>0</td>\n      <td>0</td>\n      <td>0</td>\n      <td>0</td>\n      <td>0</td>\n      <td>0</td>\n    </tr>\n  </tbody>\n</table>\n<p>50423 rows × 6 columns</p>\n</div>"
     },
     "execution_count": 63,
     "metadata": {},
     "output_type": "execute_result"
    }
   ],
   "source": [
    "full_stack_roles_df = full_stack_roles_df.rename(columns = {'Developer_full-stack': 'full-stack_general'})\n",
    "full_stack_roles_df.columns = pd.MultiIndex.from_product([['DevType'], full_stack_roles_df.columns])\n",
    "full_stack_roles_df = full_stack_roles_df.astype(int)\n",
    "full_stack_roles_df"
   ],
   "metadata": {
    "collapsed": false
   }
  },
  {
   "cell_type": "markdown",
   "source": [
    "--------------------------"
   ],
   "metadata": {
    "collapsed": false
   }
  },
  {
   "cell_type": "markdown",
   "source": [],
   "metadata": {
    "collapsed": false
   }
  },
  {
   "cell_type": "markdown",
   "source": [
    "## B) Developer_back-end\n",
    "Repeat the same steps"
   ],
   "metadata": {
    "collapsed": false
   }
  },
  {
   "cell_type": "code",
   "execution_count": 64,
   "outputs": [
    {
     "data": {
      "application/vnd.plotly.v1+json": {
       "data": [
        {
         "hovertemplate": "color=cluster_0<br>x=%{x}<br>y=%{y}<br>text=%{text}<extra></extra>",
         "legendgroup": "cluster_0",
         "marker": {
          "color": "#2E91E5",
          "symbol": "circle"
         },
         "mode": "markers+text",
         "name": "cluster_0",
         "orientation": "v",
         "showlegend": true,
         "text": [
          "Visual Studio Code",
          "Docker",
          "PostgreSQL",
          "AWS"
         ],
         "x": [
          21.895099639892578,
          19.91731071472168,
          20.0185489654541,
          18.438753128051758
         ],
         "xaxis": "x",
         "y": [
          -5.806941509246826,
          -8.497466087341309,
          -10.683703422546387,
          -10.719779968261719
         ],
         "yaxis": "y",
         "type": "scatter",
         "textposition": "top center"
        },
        {
         "hovertemplate": "color=cluster_1<br>x=%{x}<br>y=%{y}<br>text=%{text}<extra></extra>",
         "legendgroup": "cluster_1",
         "marker": {
          "color": "#E15F99",
          "symbol": "circle"
         },
         "mode": "markers+text",
         "name": "cluster_1",
         "orientation": "v",
         "showlegend": true,
         "text": [
          "SQL",
          "JavaScript",
          "HTML/CSS"
         ],
         "x": [
          24.267513275146484,
          21.818038940429688,
          22.064224243164062
         ],
         "xaxis": "x",
         "y": [
          7.930462837219238,
          7.384869575500488,
          8.588081359863281
         ],
         "yaxis": "y",
         "type": "scatter",
         "textposition": "top center"
        },
        {
         "hovertemplate": "color=cluster_6<br>x=%{x}<br>y=%{y}<br>text=%{text}<extra></extra>",
         "legendgroup": "cluster_6",
         "marker": {
          "color": "#1CA71C",
          "symbol": "circle"
         },
         "mode": "markers+text",
         "name": "cluster_6",
         "orientation": "v",
         "showlegend": true,
         "text": [
          "Python",
          "SQLite",
          "PyCharm",
          "Django",
          "Flask",
          "FastAPI"
         ],
         "x": [
          5.699671745300293,
          1.81403386592865,
          6.3174285888671875,
          5.813255310058594,
          3.531188488006592,
          4.457508563995361
         ],
         "xaxis": "x",
         "y": [
          -20.031280517578125,
          -15.143695831298828,
          -17.4067325592041,
          -14.862397193908691,
          -14.24787712097168,
          -13.214639663696289
         ],
         "yaxis": "y",
         "type": "scatter",
         "textposition": "top center"
        },
        {
         "hovertemplate": "color=cluster_2<br>x=%{x}<br>y=%{y}<br>text=%{text}<extra></extra>",
         "legendgroup": "cluster_2",
         "marker": {
          "color": "#FB0D0D",
          "symbol": "circle"
         },
         "mode": "markers+text",
         "name": "cluster_2",
         "orientation": "v",
         "showlegend": true,
         "text": [
          "IntelliJ",
          "Java",
          "Spring"
         ],
         "x": [
          -15.158696174621582,
          -13.98244571685791,
          -12.495080947875977
         ],
         "xaxis": "x",
         "y": [
          -1.9232778549194336,
          -1.4820570945739746,
          -1.0052392482757568
         ],
         "yaxis": "y",
         "type": "scatter",
         "textposition": "top center"
        },
        {
         "hovertemplate": "color=cluster_3<br>x=%{x}<br>y=%{y}<br>text=%{text}<extra></extra>",
         "legendgroup": "cluster_3",
         "marker": {
          "color": "#DA16FF",
          "symbol": "circle"
         },
         "mode": "markers+text",
         "name": "cluster_3",
         "orientation": "v",
         "showlegend": true,
         "text": [
          "npm",
          "TypeScript",
          "MongoDB",
          "Node.js",
          "React.js",
          "Yarn",
          "Express"
         ],
         "x": [
          18.42989730834961,
          17.866897583007812,
          12.55638313293457,
          16.56623649597168,
          14.468175888061523,
          12.111236572265625,
          13.872659683227539
         ],
         "xaxis": "x",
         "y": [
          6.136921405792236,
          3.3170437812805176,
          5.981135845184326,
          5.104275226593018,
          1.834903359413147,
          1.669007420539856,
          4.354727745056152
         ],
         "yaxis": "y",
         "type": "scatter",
         "textposition": "top center"
        },
        {
         "hovertemplate": "color=cluster_8<br>x=%{x}<br>y=%{y}<br>text=%{text}<extra></extra>",
         "legendgroup": "cluster_8",
         "marker": {
          "color": "#222A2A",
          "symbol": "circle"
         },
         "mode": "markers+text",
         "name": "cluster_8",
         "orientation": "v",
         "showlegend": true,
         "text": [
          "Kubernetes",
          "Terraform",
          "DynamoDB"
         ],
         "x": [
          16.178674697875977,
          13.044404983520508,
          10.941081047058105
         ],
         "xaxis": "x",
         "y": [
          -7.6234259605407715,
          -7.620654106140137,
          -7.9041666984558105
         ],
         "yaxis": "y",
         "type": "scatter",
         "textposition": "top center"
        },
        {
         "hovertemplate": "color=cluster_9<br>x=%{x}<br>y=%{y}<br>text=%{text}<extra></extra>",
         "legendgroup": "cluster_9",
         "marker": {
          "color": "#B68100",
          "symbol": "circle"
         },
         "mode": "markers+text",
         "name": "cluster_9",
         "orientation": "v",
         "showlegend": true,
         "text": [
          "MySQL",
          "PHP",
          "jQuery",
          "MariaDB",
          "Vue.js",
          "PhpStorm",
          "Laravel"
         ],
         "x": [
          6.159538745880127,
          5.259910583496094,
          7.244431018829346,
          2.512718915939331,
          3.803734540939331,
          4.28484582901001,
          4.728606224060059
         ],
         "xaxis": "x",
         "y": [
          13.755038261413574,
          11.78302001953125,
          9.363091468811035,
          12.027514457702637,
          7.465692043304443,
          10.341673851013184,
          9.129029273986816
         ],
         "yaxis": "y",
         "type": "scatter",
         "textposition": "top center"
        },
        {
         "hovertemplate": "color=cluster_-1<br>x=%{x}<br>y=%{y}<br>text=%{text}<extra></extra>",
         "legendgroup": "cluster_-1",
         "marker": {
          "color": "#750D86",
          "symbol": "circle"
         },
         "mode": "markers+text",
         "name": "cluster_-1",
         "orientation": "v",
         "showlegend": true,
         "text": [
          "Redis",
          "Bash/Shell",
          "Elasticsearch",
          "Rust",
          "NumPy",
          "Sublime Text",
          "Pandas",
          "DigitalOcean",
          "Ansible",
          "Neovim"
         ],
         "x": [
          13.869670867919922,
          -2.6771674156188965,
          11.926020622253418,
          -4.956978797912598,
          2.2028098106384277,
          0.17766490578651428,
          2.155848264694214,
          6.091991424560547,
          -0.7002457976341248,
          -3.141432523727417
         ],
         "xaxis": "x",
         "y": [
          -12.989234924316406,
          -12.106695175170898,
          -12.789878845214844,
          -7.836457252502441,
          -19.846139907836914,
          7.199121952056885,
          -20.883548736572266,
          4.782133102416992,
          -10.750563621520996,
          -7.504239559173584
         ],
         "yaxis": "y",
         "type": "scatter",
         "textposition": "top center"
        },
        {
         "hovertemplate": "color=cluster_4<br>x=%{x}<br>y=%{y}<br>text=%{text}<extra></extra>",
         "legendgroup": "cluster_4",
         "marker": {
          "color": "#EB663B",
          "symbol": "circle"
         },
         "mode": "markers+text",
         "name": "cluster_4",
         "orientation": "v",
         "showlegend": true,
         "text": [
          "C#",
          "Visual Studio",
          "Microsoft Azure",
          ".NET",
          "Microsoft SQL Server",
          "ASP.NET Core ",
          "ASP.NET",
          "PowerShell"
         ],
         "x": [
          -8.189456939697266,
          -8.809662818908691,
          -12.098870277404785,
          -9.318809509277344,
          -11.562705993652344,
          -9.716708183288574,
          -9.338946342468262,
          -8.697149276733398
         ],
         "xaxis": "x",
         "y": [
          18.976394653320312,
          20.639711380004883,
          15.428743362426758,
          18.493366241455078,
          18.45412254333496,
          16.57583999633789,
          14.666342735290527,
          12.486023902893066
         ],
         "yaxis": "y",
         "type": "scatter",
         "textposition": "top center"
        },
        {
         "hovertemplate": "color=cluster_5<br>x=%{x}<br>y=%{y}<br>text=%{text}<extra></extra>",
         "legendgroup": "cluster_5",
         "marker": {
          "color": "#511CFB",
          "symbol": "circle"
         },
         "mode": "markers+text",
         "name": "cluster_5",
         "orientation": "v",
         "showlegend": true,
         "text": [
          "Vim",
          "C++",
          "C"
         ],
         "x": [
          -7.34966516494751,
          -8.403002738952637,
          -7.870887279510498
         ],
         "xaxis": "x",
         "y": [
          -12.138981819152832,
          -15.199869155883789,
          -14.253667831420898
         ],
         "yaxis": "y",
         "type": "scatter",
         "textposition": "top center"
        },
        {
         "hovertemplate": "color=cluster_10<br>x=%{x}<br>y=%{y}<br>text=%{text}<extra></extra>",
         "legendgroup": "cluster_10",
         "marker": {
          "color": "#00A08B",
          "symbol": "circle"
         },
         "mode": "markers+text",
         "name": "cluster_10",
         "orientation": "v",
         "showlegend": true,
         "text": [
          "Notepad++",
          "Oracle",
          "Eclipse"
         ],
         "x": [
          -8.420772552490234,
          -7.64241886138916,
          -7.692339897155762
         ],
         "xaxis": "x",
         "y": [
          6.202885627746582,
          2.5132644176483154,
          3.7985503673553467
         ],
         "yaxis": "y",
         "type": "scatter",
         "textposition": "top center"
        },
        {
         "hovertemplate": "color=cluster_7<br>x=%{x}<br>y=%{y}<br>text=%{text}<extra></extra>",
         "legendgroup": "cluster_7",
         "marker": {
          "color": "#FB00D1",
          "symbol": "circle"
         },
         "mode": "markers+text",
         "name": "cluster_7",
         "orientation": "v",
         "showlegend": true,
         "text": [
          "Homebrew",
          "Google Cloud",
          "Apache Kafka",
          "Angular",
          "Kotlin",
          "Heroku",
          "Android Studio",
          "Ruby",
          "Firebase"
         ],
         "x": [
          9.891371726989746,
          4.49083948135376,
          -1.8611640930175781,
          3.3199288845062256,
          -0.06729742139577866,
          7.219320774078369,
          2.2552075386047363,
          8.281668663024902,
          4.171276092529297
         ],
         "xaxis": "x",
         "y": [
          -2.936070203781128,
          -3.514835834503174,
          -2.9671733379364014,
          1.5565004348754883,
          -1.7162764072418213,
          -0.5148224830627441,
          -1.1979405879974365,
          -1.8019384145736694,
          -1.1046202182769775
         ],
         "yaxis": "y",
         "type": "scatter",
         "textposition": "top center"
        },
        {
         "hovertemplate": "color=cluster_11<br>x=%{x}<br>y=%{y}<br>text=%{text}<extra></extra>",
         "legendgroup": "cluster_11",
         "marker": {
          "color": "#FC0080",
          "symbol": "circle"
         },
         "mode": "markers+text",
         "name": "cluster_11",
         "orientation": "v",
         "showlegend": true,
         "text": [
          "Go",
          "IPython/Jupyter",
          "TensorFlow",
          "GoLand",
          "Nano"
         ],
         "x": [
          7.224162578582764,
          2.788235664367676,
          2.6527597904205322,
          5.521786212921143,
          1.565708041191101
         ],
         "xaxis": "x",
         "y": [
          -8.326748847961426,
          -10.064956665039062,
          -8.57996654510498,
          -7.657280921936035,
          -6.631768703460693
         ],
         "yaxis": "y",
         "type": "scatter",
         "textposition": "top center"
        }
       ],
       "layout": {
        "template": {
         "data": {
          "histogram2dcontour": [
           {
            "type": "histogram2dcontour",
            "colorbar": {
             "outlinewidth": 0,
             "ticks": ""
            },
            "colorscale": [
             [
              0.0,
              "#0d0887"
             ],
             [
              0.1111111111111111,
              "#46039f"
             ],
             [
              0.2222222222222222,
              "#7201a8"
             ],
             [
              0.3333333333333333,
              "#9c179e"
             ],
             [
              0.4444444444444444,
              "#bd3786"
             ],
             [
              0.5555555555555556,
              "#d8576b"
             ],
             [
              0.6666666666666666,
              "#ed7953"
             ],
             [
              0.7777777777777778,
              "#fb9f3a"
             ],
             [
              0.8888888888888888,
              "#fdca26"
             ],
             [
              1.0,
              "#f0f921"
             ]
            ]
           }
          ],
          "choropleth": [
           {
            "type": "choropleth",
            "colorbar": {
             "outlinewidth": 0,
             "ticks": ""
            }
           }
          ],
          "histogram2d": [
           {
            "type": "histogram2d",
            "colorbar": {
             "outlinewidth": 0,
             "ticks": ""
            },
            "colorscale": [
             [
              0.0,
              "#0d0887"
             ],
             [
              0.1111111111111111,
              "#46039f"
             ],
             [
              0.2222222222222222,
              "#7201a8"
             ],
             [
              0.3333333333333333,
              "#9c179e"
             ],
             [
              0.4444444444444444,
              "#bd3786"
             ],
             [
              0.5555555555555556,
              "#d8576b"
             ],
             [
              0.6666666666666666,
              "#ed7953"
             ],
             [
              0.7777777777777778,
              "#fb9f3a"
             ],
             [
              0.8888888888888888,
              "#fdca26"
             ],
             [
              1.0,
              "#f0f921"
             ]
            ]
           }
          ],
          "heatmap": [
           {
            "type": "heatmap",
            "colorbar": {
             "outlinewidth": 0,
             "ticks": ""
            },
            "colorscale": [
             [
              0.0,
              "#0d0887"
             ],
             [
              0.1111111111111111,
              "#46039f"
             ],
             [
              0.2222222222222222,
              "#7201a8"
             ],
             [
              0.3333333333333333,
              "#9c179e"
             ],
             [
              0.4444444444444444,
              "#bd3786"
             ],
             [
              0.5555555555555556,
              "#d8576b"
             ],
             [
              0.6666666666666666,
              "#ed7953"
             ],
             [
              0.7777777777777778,
              "#fb9f3a"
             ],
             [
              0.8888888888888888,
              "#fdca26"
             ],
             [
              1.0,
              "#f0f921"
             ]
            ]
           }
          ],
          "heatmapgl": [
           {
            "type": "heatmapgl",
            "colorbar": {
             "outlinewidth": 0,
             "ticks": ""
            },
            "colorscale": [
             [
              0.0,
              "#0d0887"
             ],
             [
              0.1111111111111111,
              "#46039f"
             ],
             [
              0.2222222222222222,
              "#7201a8"
             ],
             [
              0.3333333333333333,
              "#9c179e"
             ],
             [
              0.4444444444444444,
              "#bd3786"
             ],
             [
              0.5555555555555556,
              "#d8576b"
             ],
             [
              0.6666666666666666,
              "#ed7953"
             ],
             [
              0.7777777777777778,
              "#fb9f3a"
             ],
             [
              0.8888888888888888,
              "#fdca26"
             ],
             [
              1.0,
              "#f0f921"
             ]
            ]
           }
          ],
          "contourcarpet": [
           {
            "type": "contourcarpet",
            "colorbar": {
             "outlinewidth": 0,
             "ticks": ""
            }
           }
          ],
          "contour": [
           {
            "type": "contour",
            "colorbar": {
             "outlinewidth": 0,
             "ticks": ""
            },
            "colorscale": [
             [
              0.0,
              "#0d0887"
             ],
             [
              0.1111111111111111,
              "#46039f"
             ],
             [
              0.2222222222222222,
              "#7201a8"
             ],
             [
              0.3333333333333333,
              "#9c179e"
             ],
             [
              0.4444444444444444,
              "#bd3786"
             ],
             [
              0.5555555555555556,
              "#d8576b"
             ],
             [
              0.6666666666666666,
              "#ed7953"
             ],
             [
              0.7777777777777778,
              "#fb9f3a"
             ],
             [
              0.8888888888888888,
              "#fdca26"
             ],
             [
              1.0,
              "#f0f921"
             ]
            ]
           }
          ],
          "surface": [
           {
            "type": "surface",
            "colorbar": {
             "outlinewidth": 0,
             "ticks": ""
            },
            "colorscale": [
             [
              0.0,
              "#0d0887"
             ],
             [
              0.1111111111111111,
              "#46039f"
             ],
             [
              0.2222222222222222,
              "#7201a8"
             ],
             [
              0.3333333333333333,
              "#9c179e"
             ],
             [
              0.4444444444444444,
              "#bd3786"
             ],
             [
              0.5555555555555556,
              "#d8576b"
             ],
             [
              0.6666666666666666,
              "#ed7953"
             ],
             [
              0.7777777777777778,
              "#fb9f3a"
             ],
             [
              0.8888888888888888,
              "#fdca26"
             ],
             [
              1.0,
              "#f0f921"
             ]
            ]
           }
          ],
          "mesh3d": [
           {
            "type": "mesh3d",
            "colorbar": {
             "outlinewidth": 0,
             "ticks": ""
            }
           }
          ],
          "scatter": [
           {
            "marker": {
             "line": {
              "color": "#283442"
             }
            },
            "type": "scatter"
           }
          ],
          "parcoords": [
           {
            "type": "parcoords",
            "line": {
             "colorbar": {
              "outlinewidth": 0,
              "ticks": ""
             }
            }
           }
          ],
          "scatterpolargl": [
           {
            "type": "scatterpolargl",
            "marker": {
             "colorbar": {
              "outlinewidth": 0,
              "ticks": ""
             }
            }
           }
          ],
          "bar": [
           {
            "error_x": {
             "color": "#f2f5fa"
            },
            "error_y": {
             "color": "#f2f5fa"
            },
            "marker": {
             "line": {
              "color": "rgb(17,17,17)",
              "width": 0.5
             },
             "pattern": {
              "fillmode": "overlay",
              "size": 10,
              "solidity": 0.2
             }
            },
            "type": "bar"
           }
          ],
          "scattergeo": [
           {
            "type": "scattergeo",
            "marker": {
             "colorbar": {
              "outlinewidth": 0,
              "ticks": ""
             }
            }
           }
          ],
          "scatterpolar": [
           {
            "type": "scatterpolar",
            "marker": {
             "colorbar": {
              "outlinewidth": 0,
              "ticks": ""
             }
            }
           }
          ],
          "histogram": [
           {
            "marker": {
             "pattern": {
              "fillmode": "overlay",
              "size": 10,
              "solidity": 0.2
             }
            },
            "type": "histogram"
           }
          ],
          "scattergl": [
           {
            "marker": {
             "line": {
              "color": "#283442"
             }
            },
            "type": "scattergl"
           }
          ],
          "scatter3d": [
           {
            "type": "scatter3d",
            "line": {
             "colorbar": {
              "outlinewidth": 0,
              "ticks": ""
             }
            },
            "marker": {
             "colorbar": {
              "outlinewidth": 0,
              "ticks": ""
             }
            }
           }
          ],
          "scattermapbox": [
           {
            "type": "scattermapbox",
            "marker": {
             "colorbar": {
              "outlinewidth": 0,
              "ticks": ""
             }
            }
           }
          ],
          "scatterternary": [
           {
            "type": "scatterternary",
            "marker": {
             "colorbar": {
              "outlinewidth": 0,
              "ticks": ""
             }
            }
           }
          ],
          "scattercarpet": [
           {
            "type": "scattercarpet",
            "marker": {
             "colorbar": {
              "outlinewidth": 0,
              "ticks": ""
             }
            }
           }
          ],
          "carpet": [
           {
            "aaxis": {
             "endlinecolor": "#A2B1C6",
             "gridcolor": "#506784",
             "linecolor": "#506784",
             "minorgridcolor": "#506784",
             "startlinecolor": "#A2B1C6"
            },
            "baxis": {
             "endlinecolor": "#A2B1C6",
             "gridcolor": "#506784",
             "linecolor": "#506784",
             "minorgridcolor": "#506784",
             "startlinecolor": "#A2B1C6"
            },
            "type": "carpet"
           }
          ],
          "table": [
           {
            "cells": {
             "fill": {
              "color": "#506784"
             },
             "line": {
              "color": "rgb(17,17,17)"
             }
            },
            "header": {
             "fill": {
              "color": "#2a3f5f"
             },
             "line": {
              "color": "rgb(17,17,17)"
             }
            },
            "type": "table"
           }
          ],
          "barpolar": [
           {
            "marker": {
             "line": {
              "color": "rgb(17,17,17)",
              "width": 0.5
             },
             "pattern": {
              "fillmode": "overlay",
              "size": 10,
              "solidity": 0.2
             }
            },
            "type": "barpolar"
           }
          ],
          "pie": [
           {
            "automargin": true,
            "type": "pie"
           }
          ]
         },
         "layout": {
          "autotypenumbers": "strict",
          "colorway": [
           "#636efa",
           "#EF553B",
           "#00cc96",
           "#ab63fa",
           "#FFA15A",
           "#19d3f3",
           "#FF6692",
           "#B6E880",
           "#FF97FF",
           "#FECB52"
          ],
          "font": {
           "color": "#f2f5fa"
          },
          "hovermode": "closest",
          "hoverlabel": {
           "align": "left"
          },
          "paper_bgcolor": "rgb(17,17,17)",
          "plot_bgcolor": "rgb(17,17,17)",
          "polar": {
           "bgcolor": "rgb(17,17,17)",
           "angularaxis": {
            "gridcolor": "#506784",
            "linecolor": "#506784",
            "ticks": ""
           },
           "radialaxis": {
            "gridcolor": "#506784",
            "linecolor": "#506784",
            "ticks": ""
           }
          },
          "ternary": {
           "bgcolor": "rgb(17,17,17)",
           "aaxis": {
            "gridcolor": "#506784",
            "linecolor": "#506784",
            "ticks": ""
           },
           "baxis": {
            "gridcolor": "#506784",
            "linecolor": "#506784",
            "ticks": ""
           },
           "caxis": {
            "gridcolor": "#506784",
            "linecolor": "#506784",
            "ticks": ""
           }
          },
          "coloraxis": {
           "colorbar": {
            "outlinewidth": 0,
            "ticks": ""
           }
          },
          "colorscale": {
           "sequential": [
            [
             0.0,
             "#0d0887"
            ],
            [
             0.1111111111111111,
             "#46039f"
            ],
            [
             0.2222222222222222,
             "#7201a8"
            ],
            [
             0.3333333333333333,
             "#9c179e"
            ],
            [
             0.4444444444444444,
             "#bd3786"
            ],
            [
             0.5555555555555556,
             "#d8576b"
            ],
            [
             0.6666666666666666,
             "#ed7953"
            ],
            [
             0.7777777777777778,
             "#fb9f3a"
            ],
            [
             0.8888888888888888,
             "#fdca26"
            ],
            [
             1.0,
             "#f0f921"
            ]
           ],
           "sequentialminus": [
            [
             0.0,
             "#0d0887"
            ],
            [
             0.1111111111111111,
             "#46039f"
            ],
            [
             0.2222222222222222,
             "#7201a8"
            ],
            [
             0.3333333333333333,
             "#9c179e"
            ],
            [
             0.4444444444444444,
             "#bd3786"
            ],
            [
             0.5555555555555556,
             "#d8576b"
            ],
            [
             0.6666666666666666,
             "#ed7953"
            ],
            [
             0.7777777777777778,
             "#fb9f3a"
            ],
            [
             0.8888888888888888,
             "#fdca26"
            ],
            [
             1.0,
             "#f0f921"
            ]
           ],
           "diverging": [
            [
             0,
             "#8e0152"
            ],
            [
             0.1,
             "#c51b7d"
            ],
            [
             0.2,
             "#de77ae"
            ],
            [
             0.3,
             "#f1b6da"
            ],
            [
             0.4,
             "#fde0ef"
            ],
            [
             0.5,
             "#f7f7f7"
            ],
            [
             0.6,
             "#e6f5d0"
            ],
            [
             0.7,
             "#b8e186"
            ],
            [
             0.8,
             "#7fbc41"
            ],
            [
             0.9,
             "#4d9221"
            ],
            [
             1,
             "#276419"
            ]
           ]
          },
          "xaxis": {
           "gridcolor": "#283442",
           "linecolor": "#506784",
           "ticks": "",
           "title": {
            "standoff": 15
           },
           "zerolinecolor": "#283442",
           "automargin": true,
           "zerolinewidth": 2
          },
          "yaxis": {
           "gridcolor": "#283442",
           "linecolor": "#506784",
           "ticks": "",
           "title": {
            "standoff": 15
           },
           "zerolinecolor": "#283442",
           "automargin": true,
           "zerolinewidth": 2
          },
          "scene": {
           "xaxis": {
            "backgroundcolor": "rgb(17,17,17)",
            "gridcolor": "#506784",
            "linecolor": "#506784",
            "showbackground": true,
            "ticks": "",
            "zerolinecolor": "#C8D4E3",
            "gridwidth": 2
           },
           "yaxis": {
            "backgroundcolor": "rgb(17,17,17)",
            "gridcolor": "#506784",
            "linecolor": "#506784",
            "showbackground": true,
            "ticks": "",
            "zerolinecolor": "#C8D4E3",
            "gridwidth": 2
           },
           "zaxis": {
            "backgroundcolor": "rgb(17,17,17)",
            "gridcolor": "#506784",
            "linecolor": "#506784",
            "showbackground": true,
            "ticks": "",
            "zerolinecolor": "#C8D4E3",
            "gridwidth": 2
           }
          },
          "shapedefaults": {
           "line": {
            "color": "#f2f5fa"
           }
          },
          "annotationdefaults": {
           "arrowcolor": "#f2f5fa",
           "arrowhead": 0,
           "arrowwidth": 1
          },
          "geo": {
           "bgcolor": "rgb(17,17,17)",
           "landcolor": "rgb(17,17,17)",
           "subunitcolor": "#506784",
           "showland": true,
           "showlakes": true,
           "lakecolor": "rgb(17,17,17)"
          },
          "title": {
           "x": 0.05
          },
          "updatemenudefaults": {
           "bgcolor": "#506784",
           "borderwidth": 0
          },
          "sliderdefaults": {
           "bgcolor": "#C8D4E3",
           "borderwidth": 1,
           "bordercolor": "rgb(17,17,17)",
           "tickwidth": 0
          },
          "mapbox": {
           "style": "dark"
          }
         }
        },
        "xaxis": {
         "anchor": "y",
         "domain": [
          0.0,
          1.0
         ],
         "title": {
          "text": "x"
         }
        },
        "yaxis": {
         "anchor": "x",
         "domain": [
          0.0,
          1.0
         ],
         "title": {
          "text": "y"
         }
        },
        "legend": {
         "title": {
          "text": "color"
         },
         "tracegroupgap": 0
        },
        "margin": {
         "t": 60
        },
        "title": {
         "text": "Clustering top skills for Developer_back-end"
        },
        "height": 900,
        "width": 1500
       },
       "config": {
        "plotlyServerURL": "https://plot.ly"
       }
      },
      "text/html": "<div>                            <div id=\"ee04e71d-0b1f-40de-88d5-121ce4a83b34\" class=\"plotly-graph-div\" style=\"height:900px; width:1500px;\"></div>            <script type=\"text/javascript\">                require([\"plotly\"], function(Plotly) {                    window.PLOTLYENV=window.PLOTLYENV || {};                                    if (document.getElementById(\"ee04e71d-0b1f-40de-88d5-121ce4a83b34\")) {                    Plotly.newPlot(                        \"ee04e71d-0b1f-40de-88d5-121ce4a83b34\",                        [{\"hovertemplate\":\"color=cluster_0<br>x=%{x}<br>y=%{y}<br>text=%{text}<extra></extra>\",\"legendgroup\":\"cluster_0\",\"marker\":{\"color\":\"#2E91E5\",\"symbol\":\"circle\"},\"mode\":\"markers+text\",\"name\":\"cluster_0\",\"orientation\":\"v\",\"showlegend\":true,\"text\":[\"Visual Studio Code\",\"Docker\",\"PostgreSQL\",\"AWS\"],\"x\":[21.895099639892578,19.91731071472168,20.0185489654541,18.438753128051758],\"xaxis\":\"x\",\"y\":[-5.806941509246826,-8.497466087341309,-10.683703422546387,-10.719779968261719],\"yaxis\":\"y\",\"type\":\"scatter\",\"textposition\":\"top center\"},{\"hovertemplate\":\"color=cluster_1<br>x=%{x}<br>y=%{y}<br>text=%{text}<extra></extra>\",\"legendgroup\":\"cluster_1\",\"marker\":{\"color\":\"#E15F99\",\"symbol\":\"circle\"},\"mode\":\"markers+text\",\"name\":\"cluster_1\",\"orientation\":\"v\",\"showlegend\":true,\"text\":[\"SQL\",\"JavaScript\",\"HTML/CSS\"],\"x\":[24.267513275146484,21.818038940429688,22.064224243164062],\"xaxis\":\"x\",\"y\":[7.930462837219238,7.384869575500488,8.588081359863281],\"yaxis\":\"y\",\"type\":\"scatter\",\"textposition\":\"top center\"},{\"hovertemplate\":\"color=cluster_6<br>x=%{x}<br>y=%{y}<br>text=%{text}<extra></extra>\",\"legendgroup\":\"cluster_6\",\"marker\":{\"color\":\"#1CA71C\",\"symbol\":\"circle\"},\"mode\":\"markers+text\",\"name\":\"cluster_6\",\"orientation\":\"v\",\"showlegend\":true,\"text\":[\"Python\",\"SQLite\",\"PyCharm\",\"Django\",\"Flask\",\"FastAPI\"],\"x\":[5.699671745300293,1.81403386592865,6.3174285888671875,5.813255310058594,3.531188488006592,4.457508563995361],\"xaxis\":\"x\",\"y\":[-20.031280517578125,-15.143695831298828,-17.4067325592041,-14.862397193908691,-14.24787712097168,-13.214639663696289],\"yaxis\":\"y\",\"type\":\"scatter\",\"textposition\":\"top center\"},{\"hovertemplate\":\"color=cluster_2<br>x=%{x}<br>y=%{y}<br>text=%{text}<extra></extra>\",\"legendgroup\":\"cluster_2\",\"marker\":{\"color\":\"#FB0D0D\",\"symbol\":\"circle\"},\"mode\":\"markers+text\",\"name\":\"cluster_2\",\"orientation\":\"v\",\"showlegend\":true,\"text\":[\"IntelliJ\",\"Java\",\"Spring\"],\"x\":[-15.158696174621582,-13.98244571685791,-12.495080947875977],\"xaxis\":\"x\",\"y\":[-1.9232778549194336,-1.4820570945739746,-1.0052392482757568],\"yaxis\":\"y\",\"type\":\"scatter\",\"textposition\":\"top center\"},{\"hovertemplate\":\"color=cluster_3<br>x=%{x}<br>y=%{y}<br>text=%{text}<extra></extra>\",\"legendgroup\":\"cluster_3\",\"marker\":{\"color\":\"#DA16FF\",\"symbol\":\"circle\"},\"mode\":\"markers+text\",\"name\":\"cluster_3\",\"orientation\":\"v\",\"showlegend\":true,\"text\":[\"npm\",\"TypeScript\",\"MongoDB\",\"Node.js\",\"React.js\",\"Yarn\",\"Express\"],\"x\":[18.42989730834961,17.866897583007812,12.55638313293457,16.56623649597168,14.468175888061523,12.111236572265625,13.872659683227539],\"xaxis\":\"x\",\"y\":[6.136921405792236,3.3170437812805176,5.981135845184326,5.104275226593018,1.834903359413147,1.669007420539856,4.354727745056152],\"yaxis\":\"y\",\"type\":\"scatter\",\"textposition\":\"top center\"},{\"hovertemplate\":\"color=cluster_8<br>x=%{x}<br>y=%{y}<br>text=%{text}<extra></extra>\",\"legendgroup\":\"cluster_8\",\"marker\":{\"color\":\"#222A2A\",\"symbol\":\"circle\"},\"mode\":\"markers+text\",\"name\":\"cluster_8\",\"orientation\":\"v\",\"showlegend\":true,\"text\":[\"Kubernetes\",\"Terraform\",\"DynamoDB\"],\"x\":[16.178674697875977,13.044404983520508,10.941081047058105],\"xaxis\":\"x\",\"y\":[-7.6234259605407715,-7.620654106140137,-7.9041666984558105],\"yaxis\":\"y\",\"type\":\"scatter\",\"textposition\":\"top center\"},{\"hovertemplate\":\"color=cluster_9<br>x=%{x}<br>y=%{y}<br>text=%{text}<extra></extra>\",\"legendgroup\":\"cluster_9\",\"marker\":{\"color\":\"#B68100\",\"symbol\":\"circle\"},\"mode\":\"markers+text\",\"name\":\"cluster_9\",\"orientation\":\"v\",\"showlegend\":true,\"text\":[\"MySQL\",\"PHP\",\"jQuery\",\"MariaDB\",\"Vue.js\",\"PhpStorm\",\"Laravel\"],\"x\":[6.159538745880127,5.259910583496094,7.244431018829346,2.512718915939331,3.803734540939331,4.28484582901001,4.728606224060059],\"xaxis\":\"x\",\"y\":[13.755038261413574,11.78302001953125,9.363091468811035,12.027514457702637,7.465692043304443,10.341673851013184,9.129029273986816],\"yaxis\":\"y\",\"type\":\"scatter\",\"textposition\":\"top center\"},{\"hovertemplate\":\"color=cluster_-1<br>x=%{x}<br>y=%{y}<br>text=%{text}<extra></extra>\",\"legendgroup\":\"cluster_-1\",\"marker\":{\"color\":\"#750D86\",\"symbol\":\"circle\"},\"mode\":\"markers+text\",\"name\":\"cluster_-1\",\"orientation\":\"v\",\"showlegend\":true,\"text\":[\"Redis\",\"Bash/Shell\",\"Elasticsearch\",\"Rust\",\"NumPy\",\"Sublime Text\",\"Pandas\",\"DigitalOcean\",\"Ansible\",\"Neovim\"],\"x\":[13.869670867919922,-2.6771674156188965,11.926020622253418,-4.956978797912598,2.2028098106384277,0.17766490578651428,2.155848264694214,6.091991424560547,-0.7002457976341248,-3.141432523727417],\"xaxis\":\"x\",\"y\":[-12.989234924316406,-12.106695175170898,-12.789878845214844,-7.836457252502441,-19.846139907836914,7.199121952056885,-20.883548736572266,4.782133102416992,-10.750563621520996,-7.504239559173584],\"yaxis\":\"y\",\"type\":\"scatter\",\"textposition\":\"top center\"},{\"hovertemplate\":\"color=cluster_4<br>x=%{x}<br>y=%{y}<br>text=%{text}<extra></extra>\",\"legendgroup\":\"cluster_4\",\"marker\":{\"color\":\"#EB663B\",\"symbol\":\"circle\"},\"mode\":\"markers+text\",\"name\":\"cluster_4\",\"orientation\":\"v\",\"showlegend\":true,\"text\":[\"C#\",\"Visual Studio\",\"Microsoft Azure\",\".NET\",\"Microsoft SQL Server\",\"ASP.NET Core \",\"ASP.NET\",\"PowerShell\"],\"x\":[-8.189456939697266,-8.809662818908691,-12.098870277404785,-9.318809509277344,-11.562705993652344,-9.716708183288574,-9.338946342468262,-8.697149276733398],\"xaxis\":\"x\",\"y\":[18.976394653320312,20.639711380004883,15.428743362426758,18.493366241455078,18.45412254333496,16.57583999633789,14.666342735290527,12.486023902893066],\"yaxis\":\"y\",\"type\":\"scatter\",\"textposition\":\"top center\"},{\"hovertemplate\":\"color=cluster_5<br>x=%{x}<br>y=%{y}<br>text=%{text}<extra></extra>\",\"legendgroup\":\"cluster_5\",\"marker\":{\"color\":\"#511CFB\",\"symbol\":\"circle\"},\"mode\":\"markers+text\",\"name\":\"cluster_5\",\"orientation\":\"v\",\"showlegend\":true,\"text\":[\"Vim\",\"C++\",\"C\"],\"x\":[-7.34966516494751,-8.403002738952637,-7.870887279510498],\"xaxis\":\"x\",\"y\":[-12.138981819152832,-15.199869155883789,-14.253667831420898],\"yaxis\":\"y\",\"type\":\"scatter\",\"textposition\":\"top center\"},{\"hovertemplate\":\"color=cluster_10<br>x=%{x}<br>y=%{y}<br>text=%{text}<extra></extra>\",\"legendgroup\":\"cluster_10\",\"marker\":{\"color\":\"#00A08B\",\"symbol\":\"circle\"},\"mode\":\"markers+text\",\"name\":\"cluster_10\",\"orientation\":\"v\",\"showlegend\":true,\"text\":[\"Notepad++\",\"Oracle\",\"Eclipse\"],\"x\":[-8.420772552490234,-7.64241886138916,-7.692339897155762],\"xaxis\":\"x\",\"y\":[6.202885627746582,2.5132644176483154,3.7985503673553467],\"yaxis\":\"y\",\"type\":\"scatter\",\"textposition\":\"top center\"},{\"hovertemplate\":\"color=cluster_7<br>x=%{x}<br>y=%{y}<br>text=%{text}<extra></extra>\",\"legendgroup\":\"cluster_7\",\"marker\":{\"color\":\"#FB00D1\",\"symbol\":\"circle\"},\"mode\":\"markers+text\",\"name\":\"cluster_7\",\"orientation\":\"v\",\"showlegend\":true,\"text\":[\"Homebrew\",\"Google Cloud\",\"Apache Kafka\",\"Angular\",\"Kotlin\",\"Heroku\",\"Android Studio\",\"Ruby\",\"Firebase\"],\"x\":[9.891371726989746,4.49083948135376,-1.8611640930175781,3.3199288845062256,-0.06729742139577866,7.219320774078369,2.2552075386047363,8.281668663024902,4.171276092529297],\"xaxis\":\"x\",\"y\":[-2.936070203781128,-3.514835834503174,-2.9671733379364014,1.5565004348754883,-1.7162764072418213,-0.5148224830627441,-1.1979405879974365,-1.8019384145736694,-1.1046202182769775],\"yaxis\":\"y\",\"type\":\"scatter\",\"textposition\":\"top center\"},{\"hovertemplate\":\"color=cluster_11<br>x=%{x}<br>y=%{y}<br>text=%{text}<extra></extra>\",\"legendgroup\":\"cluster_11\",\"marker\":{\"color\":\"#FC0080\",\"symbol\":\"circle\"},\"mode\":\"markers+text\",\"name\":\"cluster_11\",\"orientation\":\"v\",\"showlegend\":true,\"text\":[\"Go\",\"IPython/Jupyter\",\"TensorFlow\",\"GoLand\",\"Nano\"],\"x\":[7.224162578582764,2.788235664367676,2.6527597904205322,5.521786212921143,1.565708041191101],\"xaxis\":\"x\",\"y\":[-8.326748847961426,-10.064956665039062,-8.57996654510498,-7.657280921936035,-6.631768703460693],\"yaxis\":\"y\",\"type\":\"scatter\",\"textposition\":\"top center\"}],                        {\"template\":{\"data\":{\"histogram2dcontour\":[{\"type\":\"histogram2dcontour\",\"colorbar\":{\"outlinewidth\":0,\"ticks\":\"\"},\"colorscale\":[[0.0,\"#0d0887\"],[0.1111111111111111,\"#46039f\"],[0.2222222222222222,\"#7201a8\"],[0.3333333333333333,\"#9c179e\"],[0.4444444444444444,\"#bd3786\"],[0.5555555555555556,\"#d8576b\"],[0.6666666666666666,\"#ed7953\"],[0.7777777777777778,\"#fb9f3a\"],[0.8888888888888888,\"#fdca26\"],[1.0,\"#f0f921\"]]}],\"choropleth\":[{\"type\":\"choropleth\",\"colorbar\":{\"outlinewidth\":0,\"ticks\":\"\"}}],\"histogram2d\":[{\"type\":\"histogram2d\",\"colorbar\":{\"outlinewidth\":0,\"ticks\":\"\"},\"colorscale\":[[0.0,\"#0d0887\"],[0.1111111111111111,\"#46039f\"],[0.2222222222222222,\"#7201a8\"],[0.3333333333333333,\"#9c179e\"],[0.4444444444444444,\"#bd3786\"],[0.5555555555555556,\"#d8576b\"],[0.6666666666666666,\"#ed7953\"],[0.7777777777777778,\"#fb9f3a\"],[0.8888888888888888,\"#fdca26\"],[1.0,\"#f0f921\"]]}],\"heatmap\":[{\"type\":\"heatmap\",\"colorbar\":{\"outlinewidth\":0,\"ticks\":\"\"},\"colorscale\":[[0.0,\"#0d0887\"],[0.1111111111111111,\"#46039f\"],[0.2222222222222222,\"#7201a8\"],[0.3333333333333333,\"#9c179e\"],[0.4444444444444444,\"#bd3786\"],[0.5555555555555556,\"#d8576b\"],[0.6666666666666666,\"#ed7953\"],[0.7777777777777778,\"#fb9f3a\"],[0.8888888888888888,\"#fdca26\"],[1.0,\"#f0f921\"]]}],\"heatmapgl\":[{\"type\":\"heatmapgl\",\"colorbar\":{\"outlinewidth\":0,\"ticks\":\"\"},\"colorscale\":[[0.0,\"#0d0887\"],[0.1111111111111111,\"#46039f\"],[0.2222222222222222,\"#7201a8\"],[0.3333333333333333,\"#9c179e\"],[0.4444444444444444,\"#bd3786\"],[0.5555555555555556,\"#d8576b\"],[0.6666666666666666,\"#ed7953\"],[0.7777777777777778,\"#fb9f3a\"],[0.8888888888888888,\"#fdca26\"],[1.0,\"#f0f921\"]]}],\"contourcarpet\":[{\"type\":\"contourcarpet\",\"colorbar\":{\"outlinewidth\":0,\"ticks\":\"\"}}],\"contour\":[{\"type\":\"contour\",\"colorbar\":{\"outlinewidth\":0,\"ticks\":\"\"},\"colorscale\":[[0.0,\"#0d0887\"],[0.1111111111111111,\"#46039f\"],[0.2222222222222222,\"#7201a8\"],[0.3333333333333333,\"#9c179e\"],[0.4444444444444444,\"#bd3786\"],[0.5555555555555556,\"#d8576b\"],[0.6666666666666666,\"#ed7953\"],[0.7777777777777778,\"#fb9f3a\"],[0.8888888888888888,\"#fdca26\"],[1.0,\"#f0f921\"]]}],\"surface\":[{\"type\":\"surface\",\"colorbar\":{\"outlinewidth\":0,\"ticks\":\"\"},\"colorscale\":[[0.0,\"#0d0887\"],[0.1111111111111111,\"#46039f\"],[0.2222222222222222,\"#7201a8\"],[0.3333333333333333,\"#9c179e\"],[0.4444444444444444,\"#bd3786\"],[0.5555555555555556,\"#d8576b\"],[0.6666666666666666,\"#ed7953\"],[0.7777777777777778,\"#fb9f3a\"],[0.8888888888888888,\"#fdca26\"],[1.0,\"#f0f921\"]]}],\"mesh3d\":[{\"type\":\"mesh3d\",\"colorbar\":{\"outlinewidth\":0,\"ticks\":\"\"}}],\"scatter\":[{\"marker\":{\"line\":{\"color\":\"#283442\"}},\"type\":\"scatter\"}],\"parcoords\":[{\"type\":\"parcoords\",\"line\":{\"colorbar\":{\"outlinewidth\":0,\"ticks\":\"\"}}}],\"scatterpolargl\":[{\"type\":\"scatterpolargl\",\"marker\":{\"colorbar\":{\"outlinewidth\":0,\"ticks\":\"\"}}}],\"bar\":[{\"error_x\":{\"color\":\"#f2f5fa\"},\"error_y\":{\"color\":\"#f2f5fa\"},\"marker\":{\"line\":{\"color\":\"rgb(17,17,17)\",\"width\":0.5},\"pattern\":{\"fillmode\":\"overlay\",\"size\":10,\"solidity\":0.2}},\"type\":\"bar\"}],\"scattergeo\":[{\"type\":\"scattergeo\",\"marker\":{\"colorbar\":{\"outlinewidth\":0,\"ticks\":\"\"}}}],\"scatterpolar\":[{\"type\":\"scatterpolar\",\"marker\":{\"colorbar\":{\"outlinewidth\":0,\"ticks\":\"\"}}}],\"histogram\":[{\"marker\":{\"pattern\":{\"fillmode\":\"overlay\",\"size\":10,\"solidity\":0.2}},\"type\":\"histogram\"}],\"scattergl\":[{\"marker\":{\"line\":{\"color\":\"#283442\"}},\"type\":\"scattergl\"}],\"scatter3d\":[{\"type\":\"scatter3d\",\"line\":{\"colorbar\":{\"outlinewidth\":0,\"ticks\":\"\"}},\"marker\":{\"colorbar\":{\"outlinewidth\":0,\"ticks\":\"\"}}}],\"scattermapbox\":[{\"type\":\"scattermapbox\",\"marker\":{\"colorbar\":{\"outlinewidth\":0,\"ticks\":\"\"}}}],\"scatterternary\":[{\"type\":\"scatterternary\",\"marker\":{\"colorbar\":{\"outlinewidth\":0,\"ticks\":\"\"}}}],\"scattercarpet\":[{\"type\":\"scattercarpet\",\"marker\":{\"colorbar\":{\"outlinewidth\":0,\"ticks\":\"\"}}}],\"carpet\":[{\"aaxis\":{\"endlinecolor\":\"#A2B1C6\",\"gridcolor\":\"#506784\",\"linecolor\":\"#506784\",\"minorgridcolor\":\"#506784\",\"startlinecolor\":\"#A2B1C6\"},\"baxis\":{\"endlinecolor\":\"#A2B1C6\",\"gridcolor\":\"#506784\",\"linecolor\":\"#506784\",\"minorgridcolor\":\"#506784\",\"startlinecolor\":\"#A2B1C6\"},\"type\":\"carpet\"}],\"table\":[{\"cells\":{\"fill\":{\"color\":\"#506784\"},\"line\":{\"color\":\"rgb(17,17,17)\"}},\"header\":{\"fill\":{\"color\":\"#2a3f5f\"},\"line\":{\"color\":\"rgb(17,17,17)\"}},\"type\":\"table\"}],\"barpolar\":[{\"marker\":{\"line\":{\"color\":\"rgb(17,17,17)\",\"width\":0.5},\"pattern\":{\"fillmode\":\"overlay\",\"size\":10,\"solidity\":0.2}},\"type\":\"barpolar\"}],\"pie\":[{\"automargin\":true,\"type\":\"pie\"}]},\"layout\":{\"autotypenumbers\":\"strict\",\"colorway\":[\"#636efa\",\"#EF553B\",\"#00cc96\",\"#ab63fa\",\"#FFA15A\",\"#19d3f3\",\"#FF6692\",\"#B6E880\",\"#FF97FF\",\"#FECB52\"],\"font\":{\"color\":\"#f2f5fa\"},\"hovermode\":\"closest\",\"hoverlabel\":{\"align\":\"left\"},\"paper_bgcolor\":\"rgb(17,17,17)\",\"plot_bgcolor\":\"rgb(17,17,17)\",\"polar\":{\"bgcolor\":\"rgb(17,17,17)\",\"angularaxis\":{\"gridcolor\":\"#506784\",\"linecolor\":\"#506784\",\"ticks\":\"\"},\"radialaxis\":{\"gridcolor\":\"#506784\",\"linecolor\":\"#506784\",\"ticks\":\"\"}},\"ternary\":{\"bgcolor\":\"rgb(17,17,17)\",\"aaxis\":{\"gridcolor\":\"#506784\",\"linecolor\":\"#506784\",\"ticks\":\"\"},\"baxis\":{\"gridcolor\":\"#506784\",\"linecolor\":\"#506784\",\"ticks\":\"\"},\"caxis\":{\"gridcolor\":\"#506784\",\"linecolor\":\"#506784\",\"ticks\":\"\"}},\"coloraxis\":{\"colorbar\":{\"outlinewidth\":0,\"ticks\":\"\"}},\"colorscale\":{\"sequential\":[[0.0,\"#0d0887\"],[0.1111111111111111,\"#46039f\"],[0.2222222222222222,\"#7201a8\"],[0.3333333333333333,\"#9c179e\"],[0.4444444444444444,\"#bd3786\"],[0.5555555555555556,\"#d8576b\"],[0.6666666666666666,\"#ed7953\"],[0.7777777777777778,\"#fb9f3a\"],[0.8888888888888888,\"#fdca26\"],[1.0,\"#f0f921\"]],\"sequentialminus\":[[0.0,\"#0d0887\"],[0.1111111111111111,\"#46039f\"],[0.2222222222222222,\"#7201a8\"],[0.3333333333333333,\"#9c179e\"],[0.4444444444444444,\"#bd3786\"],[0.5555555555555556,\"#d8576b\"],[0.6666666666666666,\"#ed7953\"],[0.7777777777777778,\"#fb9f3a\"],[0.8888888888888888,\"#fdca26\"],[1.0,\"#f0f921\"]],\"diverging\":[[0,\"#8e0152\"],[0.1,\"#c51b7d\"],[0.2,\"#de77ae\"],[0.3,\"#f1b6da\"],[0.4,\"#fde0ef\"],[0.5,\"#f7f7f7\"],[0.6,\"#e6f5d0\"],[0.7,\"#b8e186\"],[0.8,\"#7fbc41\"],[0.9,\"#4d9221\"],[1,\"#276419\"]]},\"xaxis\":{\"gridcolor\":\"#283442\",\"linecolor\":\"#506784\",\"ticks\":\"\",\"title\":{\"standoff\":15},\"zerolinecolor\":\"#283442\",\"automargin\":true,\"zerolinewidth\":2},\"yaxis\":{\"gridcolor\":\"#283442\",\"linecolor\":\"#506784\",\"ticks\":\"\",\"title\":{\"standoff\":15},\"zerolinecolor\":\"#283442\",\"automargin\":true,\"zerolinewidth\":2},\"scene\":{\"xaxis\":{\"backgroundcolor\":\"rgb(17,17,17)\",\"gridcolor\":\"#506784\",\"linecolor\":\"#506784\",\"showbackground\":true,\"ticks\":\"\",\"zerolinecolor\":\"#C8D4E3\",\"gridwidth\":2},\"yaxis\":{\"backgroundcolor\":\"rgb(17,17,17)\",\"gridcolor\":\"#506784\",\"linecolor\":\"#506784\",\"showbackground\":true,\"ticks\":\"\",\"zerolinecolor\":\"#C8D4E3\",\"gridwidth\":2},\"zaxis\":{\"backgroundcolor\":\"rgb(17,17,17)\",\"gridcolor\":\"#506784\",\"linecolor\":\"#506784\",\"showbackground\":true,\"ticks\":\"\",\"zerolinecolor\":\"#C8D4E3\",\"gridwidth\":2}},\"shapedefaults\":{\"line\":{\"color\":\"#f2f5fa\"}},\"annotationdefaults\":{\"arrowcolor\":\"#f2f5fa\",\"arrowhead\":0,\"arrowwidth\":1},\"geo\":{\"bgcolor\":\"rgb(17,17,17)\",\"landcolor\":\"rgb(17,17,17)\",\"subunitcolor\":\"#506784\",\"showland\":true,\"showlakes\":true,\"lakecolor\":\"rgb(17,17,17)\"},\"title\":{\"x\":0.05},\"updatemenudefaults\":{\"bgcolor\":\"#506784\",\"borderwidth\":0},\"sliderdefaults\":{\"bgcolor\":\"#C8D4E3\",\"borderwidth\":1,\"bordercolor\":\"rgb(17,17,17)\",\"tickwidth\":0},\"mapbox\":{\"style\":\"dark\"}}},\"xaxis\":{\"anchor\":\"y\",\"domain\":[0.0,1.0],\"title\":{\"text\":\"x\"}},\"yaxis\":{\"anchor\":\"x\",\"domain\":[0.0,1.0],\"title\":{\"text\":\"y\"}},\"legend\":{\"title\":{\"text\":\"color\"},\"tracegroupgap\":0},\"margin\":{\"t\":60},\"title\":{\"text\":\"Clustering top skills for Developer_back-end\"},\"height\":900,\"width\":1500},                        {\"responsive\": true}                    ).then(function(){\n                            \nvar gd = document.getElementById('ee04e71d-0b1f-40de-88d5-121ce4a83b34');\nvar x = new MutationObserver(function (mutations, observer) {{\n        var display = window.getComputedStyle(gd).display;\n        if (!display || display === 'none') {{\n            console.log([gd, 'removed!']);\n            Plotly.purge(gd);\n            observer.disconnect();\n        }}\n}});\n\n// Listen for the removal of the full notebook cells\nvar notebookContainer = gd.closest('#notebook-container');\nif (notebookContainer) {{\n    x.observe(notebookContainer, {childList: true});\n}}\n\n// Listen for the clearing of the current output cell\nvar outputEl = gd.closest('.output');\nif (outputEl) {{\n    x.observe(outputEl, {childList: true});\n}}\n\n                        })                };                });            </script>        </div>"
     },
     "metadata": {},
     "output_type": "display_data"
    }
   ],
   "source": [
    "# Here we need to split back-end developer, by also excluding Front-end and mobile roles\n",
    "back_end_skills = choose_most_related_skills(roles_type = [split_roles[1]], exclude_roles=['Developer_front-end', 'Developer_mobile'], threshold = .6)\n",
    "back_end_tsne = reduce_dimensions(back_end_skills)\n",
    "best_labels_back_end = evaluate_cluster_model(back_end_tsne)\n",
    "visualize_chosen_cluster_model(split_roles[1], back_end_tsne, best_labels_back_end)"
   ],
   "metadata": {
    "collapsed": false
   }
  },
  {
   "cell_type": "code",
   "execution_count": 65,
   "outputs": [
    {
     "name": "stdout",
     "output_type": "stream",
     "text": [
      "cluster_-1 ['Redis', 'Bash/Shell', 'Elasticsearch', 'Rust', 'NumPy', 'Sublime Text', 'Pandas', 'DigitalOcean', 'Ansible', 'Neovim']\n",
      "cluster_0 ['Visual Studio Code', 'Docker', 'PostgreSQL', 'AWS']\n",
      "cluster_1 ['SQL', 'JavaScript', 'HTML/CSS']\n",
      "cluster_10 ['Notepad++', 'Oracle', 'Eclipse']\n",
      "cluster_11 ['Go', 'IPython/Jupyter', 'TensorFlow', 'GoLand', 'Nano']\n",
      "cluster_2 ['IntelliJ', 'Java', 'Spring']\n",
      "cluster_3 ['npm', 'TypeScript', 'MongoDB', 'Node.js', 'React.js', 'Yarn', 'Express']\n",
      "cluster_4 ['C#', 'Visual Studio', 'Microsoft Azure', '.NET', 'Microsoft SQL Server', 'ASP.NET Core ', 'ASP.NET', 'PowerShell']\n",
      "cluster_5 ['Vim', 'C++', 'C']\n",
      "cluster_6 ['Python', 'SQLite', 'PyCharm', 'Django', 'Flask', 'FastAPI']\n",
      "cluster_7 ['Homebrew', 'Google Cloud', 'Apache Kafka', 'Angular', 'Kotlin', 'Heroku', 'Android Studio', 'Ruby', 'Firebase']\n",
      "cluster_8 ['Kubernetes', 'Terraform', 'DynamoDB']\n",
      "cluster_9 ['MySQL', 'PHP', 'jQuery', 'MariaDB', 'Vue.js', 'PhpStorm', 'Laravel']\n"
     ]
    }
   ],
   "source": [
    "for label in sorted(set(best_labels_back_end)):\n",
    "    print(label, list(back_end_tsne[best_labels_back_end==label].index))\n"
   ],
   "metadata": {
    "collapsed": false
   }
  },
  {
   "cell_type": "code",
   "execution_count": 65,
   "outputs": [],
   "source": [],
   "metadata": {
    "collapsed": false
   }
  },
  {
   "cell_type": "code",
   "execution_count": 66,
   "outputs": [
    {
     "data": {
      "text/plain": "[['IntelliJ', 'Java', 'Spring'],\n ['npm', 'TypeScript', 'MongoDB', 'Node.js', 'React.js', 'Yarn', 'Express'],\n ['C#',\n  'Visual Studio',\n  'Microsoft Azure',\n  '.NET',\n  'Microsoft SQL Server',\n  'ASP.NET Core ',\n  'ASP.NET',\n  'PowerShell'],\n ['Vim', 'C++', 'C'],\n ['Python', 'SQLite', 'PyCharm', 'Django', 'Flask', 'FastAPI'],\n ['MySQL', 'PHP', 'jQuery', 'MariaDB', 'Vue.js', 'PhpStorm', 'Laravel']]"
     },
     "execution_count": 66,
     "metadata": {},
     "output_type": "execute_result"
    }
   ],
   "source": [
    "# Filtering cluster results\n",
    "back_end_roles_skills = []\n",
    "for label in sorted(set(best_labels_back_end)):\n",
    "    # these clusters numbers are not specific for any full_stack developer, but it's general skills\n",
    "    if label in  [f'cluster_{i}' for i in [-1, 0, 1, 10, 11, 7, 8]]:\n",
    "        continue\n",
    "    cluster_labels = list(back_end_tsne[best_labels_back_end==label].index)\n",
    "\n",
    "    back_end_roles_skills.append(cluster_labels)\n",
    "back_end_roles_skills"
   ],
   "metadata": {
    "collapsed": false
   }
  },
  {
   "cell_type": "code",
   "execution_count": 67,
   "outputs": [],
   "source": [
    "back_end_types = ['back_end_Java', 'back_end_.JavaScript', 'back_end_.NET', 'back_end_C++', 'back_end_python', 'back_end_PHP']"
   ],
   "metadata": {
    "collapsed": false
   }
  },
  {
   "cell_type": "code",
   "execution_count": 68,
   "outputs": [
    {
     "name": "stdout",
     "output_type": "stream",
     "text": [
      "18692\n",
      "cluster_0:  8415\n",
      "cluster_1:  8095\n",
      "cluster_2:  5691\n",
      "cluster_3:  7165\n",
      "cluster_4:  8488\n",
      "cluster_5:  8198\n"
     ]
    }
   ],
   "source": [
    "is_back_end = skills_dev_df['DevType']['Developer_back-end'] == 1\n",
    "print(is_back_end.sum())\n",
    "back_end_roles = {}\n",
    "for i, cluster_labels in enumerate(back_end_roles_skills):\n",
    "\n",
    "    total_skills = skills_dev_df.droplevel(level=0, axis = 1)[cluster_labels].sum(axis=1)\n",
    "    is_back_end_specific_type = total_skills > total_skills.mean()\n",
    "    print(f'cluster_{i}: ', (is_back_end & is_back_end_specific_type).sum())\n",
    "    back_end_roles[back_end_types[i]] = is_back_end & is_back_end_specific_type"
   ],
   "metadata": {
    "collapsed": false
   }
  },
  {
   "cell_type": "code",
   "execution_count": 69,
   "outputs": [
    {
     "data": {
      "text/plain": "       back_end_Java  back_end_.JavaScript  back_end_.NET  back_end_C++  \\\n2              False                 False          False         False   \n3              False                 False          False         False   \n7              False                 False          False         False   \n9              False                 False          False         False   \n10             False                 False           True         False   \n...              ...                   ...            ...           ...   \n73262          False                 False          False         False   \n73263          False                  True          False          True   \n73264          False                 False          False         False   \n73265          False                 False          False         False   \n73266          False                 False          False         False   \n\n       back_end_python  back_end_PHP  Developer_back-end  \n2                False         False               False  \n3                False         False               False  \n7                False         False               False  \n9                False         False               False  \n10               False         False                True  \n...                ...           ...                 ...  \n73262            False         False               False  \n73263             True          True                True  \n73264            False         False               False  \n73265            False         False               False  \n73266            False         False               False  \n\n[50423 rows x 7 columns]",
      "text/html": "<div>\n<style scoped>\n    .dataframe tbody tr th:only-of-type {\n        vertical-align: middle;\n    }\n\n    .dataframe tbody tr th {\n        vertical-align: top;\n    }\n\n    .dataframe thead th {\n        text-align: right;\n    }\n</style>\n<table border=\"1\" class=\"dataframe\">\n  <thead>\n    <tr style=\"text-align: right;\">\n      <th></th>\n      <th>back_end_Java</th>\n      <th>back_end_.JavaScript</th>\n      <th>back_end_.NET</th>\n      <th>back_end_C++</th>\n      <th>back_end_python</th>\n      <th>back_end_PHP</th>\n      <th>Developer_back-end</th>\n    </tr>\n  </thead>\n  <tbody>\n    <tr>\n      <th>2</th>\n      <td>False</td>\n      <td>False</td>\n      <td>False</td>\n      <td>False</td>\n      <td>False</td>\n      <td>False</td>\n      <td>False</td>\n    </tr>\n    <tr>\n      <th>3</th>\n      <td>False</td>\n      <td>False</td>\n      <td>False</td>\n      <td>False</td>\n      <td>False</td>\n      <td>False</td>\n      <td>False</td>\n    </tr>\n    <tr>\n      <th>7</th>\n      <td>False</td>\n      <td>False</td>\n      <td>False</td>\n      <td>False</td>\n      <td>False</td>\n      <td>False</td>\n      <td>False</td>\n    </tr>\n    <tr>\n      <th>9</th>\n      <td>False</td>\n      <td>False</td>\n      <td>False</td>\n      <td>False</td>\n      <td>False</td>\n      <td>False</td>\n      <td>False</td>\n    </tr>\n    <tr>\n      <th>10</th>\n      <td>False</td>\n      <td>False</td>\n      <td>True</td>\n      <td>False</td>\n      <td>False</td>\n      <td>False</td>\n      <td>True</td>\n    </tr>\n    <tr>\n      <th>...</th>\n      <td>...</td>\n      <td>...</td>\n      <td>...</td>\n      <td>...</td>\n      <td>...</td>\n      <td>...</td>\n      <td>...</td>\n    </tr>\n    <tr>\n      <th>73262</th>\n      <td>False</td>\n      <td>False</td>\n      <td>False</td>\n      <td>False</td>\n      <td>False</td>\n      <td>False</td>\n      <td>False</td>\n    </tr>\n    <tr>\n      <th>73263</th>\n      <td>False</td>\n      <td>True</td>\n      <td>False</td>\n      <td>True</td>\n      <td>True</td>\n      <td>True</td>\n      <td>True</td>\n    </tr>\n    <tr>\n      <th>73264</th>\n      <td>False</td>\n      <td>False</td>\n      <td>False</td>\n      <td>False</td>\n      <td>False</td>\n      <td>False</td>\n      <td>False</td>\n    </tr>\n    <tr>\n      <th>73265</th>\n      <td>False</td>\n      <td>False</td>\n      <td>False</td>\n      <td>False</td>\n      <td>False</td>\n      <td>False</td>\n      <td>False</td>\n    </tr>\n    <tr>\n      <th>73266</th>\n      <td>False</td>\n      <td>False</td>\n      <td>False</td>\n      <td>False</td>\n      <td>False</td>\n      <td>False</td>\n      <td>False</td>\n    </tr>\n  </tbody>\n</table>\n<p>50423 rows × 7 columns</p>\n</div>"
     },
     "execution_count": 69,
     "metadata": {},
     "output_type": "execute_result"
    }
   ],
   "source": [
    "back_end_roles_df = pd.concat(back_end_roles, axis = 1)\n",
    "back_end_roles_df = pd.concat([back_end_roles_df,is_back_end], axis = 1)\n",
    "back_end_roles_df\n"
   ],
   "metadata": {
    "collapsed": false
   }
  },
  {
   "cell_type": "code",
   "execution_count": 70,
   "outputs": [
    {
     "data": {
      "text/plain": "603"
     },
     "execution_count": 70,
     "metadata": {},
     "output_type": "execute_result"
    }
   ],
   "source": [
    "(back_end_roles_df.iloc[back_end_roles_df['Developer_back-end'].values,:-1].sum(axis=1) ==0).sum()"
   ],
   "metadata": {
    "collapsed": false
   }
  },
  {
   "cell_type": "code",
   "execution_count": 71,
   "outputs": [
    {
     "data": {
      "text/plain": "            DevType                                                  \\\n      back_end_Java back_end_.JavaScript back_end_.NET back_end_C++   \n2                 0                    0             0            0   \n3                 0                    0             0            0   \n7                 0                    0             0            0   \n9                 0                    0             0            0   \n10                0                    0             1            0   \n...             ...                  ...           ...          ...   \n73262             0                    0             0            0   \n73263             0                    1             0            1   \n73264             0                    0             0            0   \n73265             0                    0             0            0   \n73266             0                    0             0            0   \n\n                                                     \n      back_end_python back_end_PHP back_end_general  \n2                   0            0                0  \n3                   0            0                0  \n7                   0            0                0  \n9                   0            0                0  \n10                  0            0                1  \n...               ...          ...              ...  \n73262               0            0                0  \n73263               1            1                1  \n73264               0            0                0  \n73265               0            0                0  \n73266               0            0                0  \n\n[50423 rows x 7 columns]",
      "text/html": "<div>\n<style scoped>\n    .dataframe tbody tr th:only-of-type {\n        vertical-align: middle;\n    }\n\n    .dataframe tbody tr th {\n        vertical-align: top;\n    }\n\n    .dataframe thead tr th {\n        text-align: left;\n    }\n</style>\n<table border=\"1\" class=\"dataframe\">\n  <thead>\n    <tr>\n      <th></th>\n      <th colspan=\"7\" halign=\"left\">DevType</th>\n    </tr>\n    <tr>\n      <th></th>\n      <th>back_end_Java</th>\n      <th>back_end_.JavaScript</th>\n      <th>back_end_.NET</th>\n      <th>back_end_C++</th>\n      <th>back_end_python</th>\n      <th>back_end_PHP</th>\n      <th>back_end_general</th>\n    </tr>\n  </thead>\n  <tbody>\n    <tr>\n      <th>2</th>\n      <td>0</td>\n      <td>0</td>\n      <td>0</td>\n      <td>0</td>\n      <td>0</td>\n      <td>0</td>\n      <td>0</td>\n    </tr>\n    <tr>\n      <th>3</th>\n      <td>0</td>\n      <td>0</td>\n      <td>0</td>\n      <td>0</td>\n      <td>0</td>\n      <td>0</td>\n      <td>0</td>\n    </tr>\n    <tr>\n      <th>7</th>\n      <td>0</td>\n      <td>0</td>\n      <td>0</td>\n      <td>0</td>\n      <td>0</td>\n      <td>0</td>\n      <td>0</td>\n    </tr>\n    <tr>\n      <th>9</th>\n      <td>0</td>\n      <td>0</td>\n      <td>0</td>\n      <td>0</td>\n      <td>0</td>\n      <td>0</td>\n      <td>0</td>\n    </tr>\n    <tr>\n      <th>10</th>\n      <td>0</td>\n      <td>0</td>\n      <td>1</td>\n      <td>0</td>\n      <td>0</td>\n      <td>0</td>\n      <td>1</td>\n    </tr>\n    <tr>\n      <th>...</th>\n      <td>...</td>\n      <td>...</td>\n      <td>...</td>\n      <td>...</td>\n      <td>...</td>\n      <td>...</td>\n      <td>...</td>\n    </tr>\n    <tr>\n      <th>73262</th>\n      <td>0</td>\n      <td>0</td>\n      <td>0</td>\n      <td>0</td>\n      <td>0</td>\n      <td>0</td>\n      <td>0</td>\n    </tr>\n    <tr>\n      <th>73263</th>\n      <td>0</td>\n      <td>1</td>\n      <td>0</td>\n      <td>1</td>\n      <td>1</td>\n      <td>1</td>\n      <td>1</td>\n    </tr>\n    <tr>\n      <th>73264</th>\n      <td>0</td>\n      <td>0</td>\n      <td>0</td>\n      <td>0</td>\n      <td>0</td>\n      <td>0</td>\n      <td>0</td>\n    </tr>\n    <tr>\n      <th>73265</th>\n      <td>0</td>\n      <td>0</td>\n      <td>0</td>\n      <td>0</td>\n      <td>0</td>\n      <td>0</td>\n      <td>0</td>\n    </tr>\n    <tr>\n      <th>73266</th>\n      <td>0</td>\n      <td>0</td>\n      <td>0</td>\n      <td>0</td>\n      <td>0</td>\n      <td>0</td>\n      <td>0</td>\n    </tr>\n  </tbody>\n</table>\n<p>50423 rows × 7 columns</p>\n</div>"
     },
     "execution_count": 71,
     "metadata": {},
     "output_type": "execute_result"
    }
   ],
   "source": [
    "back_end_roles_df = back_end_roles_df.rename(columns = {'Developer_back-end': 'back_end_general'})\n",
    "back_end_roles_df.columns = pd.MultiIndex.from_product([['DevType'], back_end_roles_df.columns])\n",
    "back_end_roles_df = back_end_roles_df.astype(int)\n",
    "back_end_roles_df"
   ],
   "metadata": {
    "collapsed": false
   }
  },
  {
   "cell_type": "markdown",
   "source": [
    "---------------------"
   ],
   "metadata": {
    "collapsed": false
   }
  },
  {
   "cell_type": "markdown",
   "source": [],
   "metadata": {
    "collapsed": false
   }
  },
  {
   "cell_type": "markdown",
   "source": [
    "# 3. Clustering similar skills"
   ],
   "metadata": {
    "collapsed": false
   }
  },
  {
   "cell_type": "code",
   "execution_count": 72,
   "outputs": [],
   "source": [
    "def kmeans_clustering(tsne_data, range_clusters, plot = True):\n",
    "    wcss = []\n",
    "    scores = []\n",
    "    for k in range_clusters:\n",
    "        kmeans = KMeans(n_clusters=k, init='k-means++', max_iter=1000, n_init='auto', random_state=0)\n",
    "        labels = kmeans.fit_predict(tsne_data)\n",
    "        wcss.append(kmeans.inertia_)\n",
    "\n",
    "        score = silhouette_score(tsne_data, labels)\n",
    "        scores.append(score)\n",
    "\n",
    "    best_k = np.argmax(scores) + range_clusters[0]\n",
    "    best_labels = KMeans(n_clusters=best_k, init='k-means++', max_iter=1000, n_init='auto', random_state=0).fit_predict(tsne_data)\n",
    "    best_labels = np.array([f'cluster_{label}' for label in best_labels])\n",
    "\n",
    "    if plot:\n",
    "        # silhouette score\n",
    "        fig = px.line(x= range_clusters, y = scores)\n",
    "        fig.add_vline(best_k)\n",
    "        fig.update_layout(height=450, width=900, title='Silhouette Score')\n",
    "        fig.show()\n",
    "\n",
    "        # Plot the WCSS values\\n\",\n",
    "        plt.plot(range_clusters, wcss)\n",
    "        plt.title('Elbow Method')\n",
    "        plt.xlabel('Number of clusters')\n",
    "        plt.ylabel('WCSS')\n",
    "        plt.show()\n",
    "\n",
    "    return best_k, best_labels"
   ],
   "metadata": {
    "collapsed": false
   }
  },
  {
   "cell_type": "code",
   "execution_count": 73,
   "outputs": [
    {
     "data": {
      "application/vnd.plotly.v1+json": {
       "data": [
        {
         "hovertemplate": "x=%{x}<br>y=%{y}<extra></extra>",
         "legendgroup": "",
         "line": {
          "color": "#636efa",
          "dash": "solid"
         },
         "marker": {
          "symbol": "circle"
         },
         "mode": "lines",
         "name": "",
         "orientation": "v",
         "showlegend": false,
         "x": [
          10,
          11,
          12,
          13,
          14,
          15,
          16,
          17,
          18,
          19,
          20,
          21,
          22,
          23,
          24,
          25,
          26,
          27,
          28,
          29,
          30,
          31,
          32,
          33,
          34,
          35,
          36,
          37,
          38,
          39,
          40,
          41,
          42,
          43,
          44
         ],
         "xaxis": "x",
         "y": [
          0.4076310694217682,
          0.3967569172382355,
          0.3960723876953125,
          0.3946712911128998,
          0.40568211674690247,
          0.41055136919021606,
          0.42218026518821716,
          0.41475510597229004,
          0.39327454566955566,
          0.3957117199897766,
          0.39862847328186035,
          0.452939510345459,
          0.45368292927742004,
          0.4566343426704407,
          0.4562779366970062,
          0.455741822719574,
          0.4520319998264313,
          0.4515421688556671,
          0.4492802917957306,
          0.4480355381965637,
          0.45735177397727966,
          0.4669402837753296,
          0.46154698729515076,
          0.47579267621040344,
          0.47868168354034424,
          0.4825800657272339,
          0.46301794052124023,
          0.46875977516174316,
          0.45828351378440857,
          0.4594188630580902,
          0.45147383213043213,
          0.44595810770988464,
          0.4511910080909729,
          0.44765713810920715,
          0.44805729389190674
         ],
         "yaxis": "y",
         "type": "scatter"
        }
       ],
       "layout": {
        "template": {
         "data": {
          "histogram2dcontour": [
           {
            "type": "histogram2dcontour",
            "colorbar": {
             "outlinewidth": 0,
             "ticks": ""
            },
            "colorscale": [
             [
              0.0,
              "#0d0887"
             ],
             [
              0.1111111111111111,
              "#46039f"
             ],
             [
              0.2222222222222222,
              "#7201a8"
             ],
             [
              0.3333333333333333,
              "#9c179e"
             ],
             [
              0.4444444444444444,
              "#bd3786"
             ],
             [
              0.5555555555555556,
              "#d8576b"
             ],
             [
              0.6666666666666666,
              "#ed7953"
             ],
             [
              0.7777777777777778,
              "#fb9f3a"
             ],
             [
              0.8888888888888888,
              "#fdca26"
             ],
             [
              1.0,
              "#f0f921"
             ]
            ]
           }
          ],
          "choropleth": [
           {
            "type": "choropleth",
            "colorbar": {
             "outlinewidth": 0,
             "ticks": ""
            }
           }
          ],
          "histogram2d": [
           {
            "type": "histogram2d",
            "colorbar": {
             "outlinewidth": 0,
             "ticks": ""
            },
            "colorscale": [
             [
              0.0,
              "#0d0887"
             ],
             [
              0.1111111111111111,
              "#46039f"
             ],
             [
              0.2222222222222222,
              "#7201a8"
             ],
             [
              0.3333333333333333,
              "#9c179e"
             ],
             [
              0.4444444444444444,
              "#bd3786"
             ],
             [
              0.5555555555555556,
              "#d8576b"
             ],
             [
              0.6666666666666666,
              "#ed7953"
             ],
             [
              0.7777777777777778,
              "#fb9f3a"
             ],
             [
              0.8888888888888888,
              "#fdca26"
             ],
             [
              1.0,
              "#f0f921"
             ]
            ]
           }
          ],
          "heatmap": [
           {
            "type": "heatmap",
            "colorbar": {
             "outlinewidth": 0,
             "ticks": ""
            },
            "colorscale": [
             [
              0.0,
              "#0d0887"
             ],
             [
              0.1111111111111111,
              "#46039f"
             ],
             [
              0.2222222222222222,
              "#7201a8"
             ],
             [
              0.3333333333333333,
              "#9c179e"
             ],
             [
              0.4444444444444444,
              "#bd3786"
             ],
             [
              0.5555555555555556,
              "#d8576b"
             ],
             [
              0.6666666666666666,
              "#ed7953"
             ],
             [
              0.7777777777777778,
              "#fb9f3a"
             ],
             [
              0.8888888888888888,
              "#fdca26"
             ],
             [
              1.0,
              "#f0f921"
             ]
            ]
           }
          ],
          "heatmapgl": [
           {
            "type": "heatmapgl",
            "colorbar": {
             "outlinewidth": 0,
             "ticks": ""
            },
            "colorscale": [
             [
              0.0,
              "#0d0887"
             ],
             [
              0.1111111111111111,
              "#46039f"
             ],
             [
              0.2222222222222222,
              "#7201a8"
             ],
             [
              0.3333333333333333,
              "#9c179e"
             ],
             [
              0.4444444444444444,
              "#bd3786"
             ],
             [
              0.5555555555555556,
              "#d8576b"
             ],
             [
              0.6666666666666666,
              "#ed7953"
             ],
             [
              0.7777777777777778,
              "#fb9f3a"
             ],
             [
              0.8888888888888888,
              "#fdca26"
             ],
             [
              1.0,
              "#f0f921"
             ]
            ]
           }
          ],
          "contourcarpet": [
           {
            "type": "contourcarpet",
            "colorbar": {
             "outlinewidth": 0,
             "ticks": ""
            }
           }
          ],
          "contour": [
           {
            "type": "contour",
            "colorbar": {
             "outlinewidth": 0,
             "ticks": ""
            },
            "colorscale": [
             [
              0.0,
              "#0d0887"
             ],
             [
              0.1111111111111111,
              "#46039f"
             ],
             [
              0.2222222222222222,
              "#7201a8"
             ],
             [
              0.3333333333333333,
              "#9c179e"
             ],
             [
              0.4444444444444444,
              "#bd3786"
             ],
             [
              0.5555555555555556,
              "#d8576b"
             ],
             [
              0.6666666666666666,
              "#ed7953"
             ],
             [
              0.7777777777777778,
              "#fb9f3a"
             ],
             [
              0.8888888888888888,
              "#fdca26"
             ],
             [
              1.0,
              "#f0f921"
             ]
            ]
           }
          ],
          "surface": [
           {
            "type": "surface",
            "colorbar": {
             "outlinewidth": 0,
             "ticks": ""
            },
            "colorscale": [
             [
              0.0,
              "#0d0887"
             ],
             [
              0.1111111111111111,
              "#46039f"
             ],
             [
              0.2222222222222222,
              "#7201a8"
             ],
             [
              0.3333333333333333,
              "#9c179e"
             ],
             [
              0.4444444444444444,
              "#bd3786"
             ],
             [
              0.5555555555555556,
              "#d8576b"
             ],
             [
              0.6666666666666666,
              "#ed7953"
             ],
             [
              0.7777777777777778,
              "#fb9f3a"
             ],
             [
              0.8888888888888888,
              "#fdca26"
             ],
             [
              1.0,
              "#f0f921"
             ]
            ]
           }
          ],
          "mesh3d": [
           {
            "type": "mesh3d",
            "colorbar": {
             "outlinewidth": 0,
             "ticks": ""
            }
           }
          ],
          "scatter": [
           {
            "marker": {
             "line": {
              "color": "#283442"
             }
            },
            "type": "scatter"
           }
          ],
          "parcoords": [
           {
            "type": "parcoords",
            "line": {
             "colorbar": {
              "outlinewidth": 0,
              "ticks": ""
             }
            }
           }
          ],
          "scatterpolargl": [
           {
            "type": "scatterpolargl",
            "marker": {
             "colorbar": {
              "outlinewidth": 0,
              "ticks": ""
             }
            }
           }
          ],
          "bar": [
           {
            "error_x": {
             "color": "#f2f5fa"
            },
            "error_y": {
             "color": "#f2f5fa"
            },
            "marker": {
             "line": {
              "color": "rgb(17,17,17)",
              "width": 0.5
             },
             "pattern": {
              "fillmode": "overlay",
              "size": 10,
              "solidity": 0.2
             }
            },
            "type": "bar"
           }
          ],
          "scattergeo": [
           {
            "type": "scattergeo",
            "marker": {
             "colorbar": {
              "outlinewidth": 0,
              "ticks": ""
             }
            }
           }
          ],
          "scatterpolar": [
           {
            "type": "scatterpolar",
            "marker": {
             "colorbar": {
              "outlinewidth": 0,
              "ticks": ""
             }
            }
           }
          ],
          "histogram": [
           {
            "marker": {
             "pattern": {
              "fillmode": "overlay",
              "size": 10,
              "solidity": 0.2
             }
            },
            "type": "histogram"
           }
          ],
          "scattergl": [
           {
            "marker": {
             "line": {
              "color": "#283442"
             }
            },
            "type": "scattergl"
           }
          ],
          "scatter3d": [
           {
            "type": "scatter3d",
            "line": {
             "colorbar": {
              "outlinewidth": 0,
              "ticks": ""
             }
            },
            "marker": {
             "colorbar": {
              "outlinewidth": 0,
              "ticks": ""
             }
            }
           }
          ],
          "scattermapbox": [
           {
            "type": "scattermapbox",
            "marker": {
             "colorbar": {
              "outlinewidth": 0,
              "ticks": ""
             }
            }
           }
          ],
          "scatterternary": [
           {
            "type": "scatterternary",
            "marker": {
             "colorbar": {
              "outlinewidth": 0,
              "ticks": ""
             }
            }
           }
          ],
          "scattercarpet": [
           {
            "type": "scattercarpet",
            "marker": {
             "colorbar": {
              "outlinewidth": 0,
              "ticks": ""
             }
            }
           }
          ],
          "carpet": [
           {
            "aaxis": {
             "endlinecolor": "#A2B1C6",
             "gridcolor": "#506784",
             "linecolor": "#506784",
             "minorgridcolor": "#506784",
             "startlinecolor": "#A2B1C6"
            },
            "baxis": {
             "endlinecolor": "#A2B1C6",
             "gridcolor": "#506784",
             "linecolor": "#506784",
             "minorgridcolor": "#506784",
             "startlinecolor": "#A2B1C6"
            },
            "type": "carpet"
           }
          ],
          "table": [
           {
            "cells": {
             "fill": {
              "color": "#506784"
             },
             "line": {
              "color": "rgb(17,17,17)"
             }
            },
            "header": {
             "fill": {
              "color": "#2a3f5f"
             },
             "line": {
              "color": "rgb(17,17,17)"
             }
            },
            "type": "table"
           }
          ],
          "barpolar": [
           {
            "marker": {
             "line": {
              "color": "rgb(17,17,17)",
              "width": 0.5
             },
             "pattern": {
              "fillmode": "overlay",
              "size": 10,
              "solidity": 0.2
             }
            },
            "type": "barpolar"
           }
          ],
          "pie": [
           {
            "automargin": true,
            "type": "pie"
           }
          ]
         },
         "layout": {
          "autotypenumbers": "strict",
          "colorway": [
           "#636efa",
           "#EF553B",
           "#00cc96",
           "#ab63fa",
           "#FFA15A",
           "#19d3f3",
           "#FF6692",
           "#B6E880",
           "#FF97FF",
           "#FECB52"
          ],
          "font": {
           "color": "#f2f5fa"
          },
          "hovermode": "closest",
          "hoverlabel": {
           "align": "left"
          },
          "paper_bgcolor": "rgb(17,17,17)",
          "plot_bgcolor": "rgb(17,17,17)",
          "polar": {
           "bgcolor": "rgb(17,17,17)",
           "angularaxis": {
            "gridcolor": "#506784",
            "linecolor": "#506784",
            "ticks": ""
           },
           "radialaxis": {
            "gridcolor": "#506784",
            "linecolor": "#506784",
            "ticks": ""
           }
          },
          "ternary": {
           "bgcolor": "rgb(17,17,17)",
           "aaxis": {
            "gridcolor": "#506784",
            "linecolor": "#506784",
            "ticks": ""
           },
           "baxis": {
            "gridcolor": "#506784",
            "linecolor": "#506784",
            "ticks": ""
           },
           "caxis": {
            "gridcolor": "#506784",
            "linecolor": "#506784",
            "ticks": ""
           }
          },
          "coloraxis": {
           "colorbar": {
            "outlinewidth": 0,
            "ticks": ""
           }
          },
          "colorscale": {
           "sequential": [
            [
             0.0,
             "#0d0887"
            ],
            [
             0.1111111111111111,
             "#46039f"
            ],
            [
             0.2222222222222222,
             "#7201a8"
            ],
            [
             0.3333333333333333,
             "#9c179e"
            ],
            [
             0.4444444444444444,
             "#bd3786"
            ],
            [
             0.5555555555555556,
             "#d8576b"
            ],
            [
             0.6666666666666666,
             "#ed7953"
            ],
            [
             0.7777777777777778,
             "#fb9f3a"
            ],
            [
             0.8888888888888888,
             "#fdca26"
            ],
            [
             1.0,
             "#f0f921"
            ]
           ],
           "sequentialminus": [
            [
             0.0,
             "#0d0887"
            ],
            [
             0.1111111111111111,
             "#46039f"
            ],
            [
             0.2222222222222222,
             "#7201a8"
            ],
            [
             0.3333333333333333,
             "#9c179e"
            ],
            [
             0.4444444444444444,
             "#bd3786"
            ],
            [
             0.5555555555555556,
             "#d8576b"
            ],
            [
             0.6666666666666666,
             "#ed7953"
            ],
            [
             0.7777777777777778,
             "#fb9f3a"
            ],
            [
             0.8888888888888888,
             "#fdca26"
            ],
            [
             1.0,
             "#f0f921"
            ]
           ],
           "diverging": [
            [
             0,
             "#8e0152"
            ],
            [
             0.1,
             "#c51b7d"
            ],
            [
             0.2,
             "#de77ae"
            ],
            [
             0.3,
             "#f1b6da"
            ],
            [
             0.4,
             "#fde0ef"
            ],
            [
             0.5,
             "#f7f7f7"
            ],
            [
             0.6,
             "#e6f5d0"
            ],
            [
             0.7,
             "#b8e186"
            ],
            [
             0.8,
             "#7fbc41"
            ],
            [
             0.9,
             "#4d9221"
            ],
            [
             1,
             "#276419"
            ]
           ]
          },
          "xaxis": {
           "gridcolor": "#283442",
           "linecolor": "#506784",
           "ticks": "",
           "title": {
            "standoff": 15
           },
           "zerolinecolor": "#283442",
           "automargin": true,
           "zerolinewidth": 2
          },
          "yaxis": {
           "gridcolor": "#283442",
           "linecolor": "#506784",
           "ticks": "",
           "title": {
            "standoff": 15
           },
           "zerolinecolor": "#283442",
           "automargin": true,
           "zerolinewidth": 2
          },
          "scene": {
           "xaxis": {
            "backgroundcolor": "rgb(17,17,17)",
            "gridcolor": "#506784",
            "linecolor": "#506784",
            "showbackground": true,
            "ticks": "",
            "zerolinecolor": "#C8D4E3",
            "gridwidth": 2
           },
           "yaxis": {
            "backgroundcolor": "rgb(17,17,17)",
            "gridcolor": "#506784",
            "linecolor": "#506784",
            "showbackground": true,
            "ticks": "",
            "zerolinecolor": "#C8D4E3",
            "gridwidth": 2
           },
           "zaxis": {
            "backgroundcolor": "rgb(17,17,17)",
            "gridcolor": "#506784",
            "linecolor": "#506784",
            "showbackground": true,
            "ticks": "",
            "zerolinecolor": "#C8D4E3",
            "gridwidth": 2
           }
          },
          "shapedefaults": {
           "line": {
            "color": "#f2f5fa"
           }
          },
          "annotationdefaults": {
           "arrowcolor": "#f2f5fa",
           "arrowhead": 0,
           "arrowwidth": 1
          },
          "geo": {
           "bgcolor": "rgb(17,17,17)",
           "landcolor": "rgb(17,17,17)",
           "subunitcolor": "#506784",
           "showland": true,
           "showlakes": true,
           "lakecolor": "rgb(17,17,17)"
          },
          "title": {
           "x": 0.05
          },
          "updatemenudefaults": {
           "bgcolor": "#506784",
           "borderwidth": 0
          },
          "sliderdefaults": {
           "bgcolor": "#C8D4E3",
           "borderwidth": 1,
           "bordercolor": "rgb(17,17,17)",
           "tickwidth": 0
          },
          "mapbox": {
           "style": "dark"
          }
         }
        },
        "xaxis": {
         "anchor": "y",
         "domain": [
          0.0,
          1.0
         ],
         "title": {
          "text": "x"
         }
        },
        "yaxis": {
         "anchor": "x",
         "domain": [
          0.0,
          1.0
         ],
         "title": {
          "text": "y"
         }
        },
        "legend": {
         "tracegroupgap": 0
        },
        "margin": {
         "t": 60
        },
        "shapes": [
         {
          "type": "line",
          "x0": 35,
          "x1": 35,
          "xref": "x",
          "y0": 0,
          "y1": 1,
          "yref": "y domain"
         }
        ],
        "height": 450,
        "width": 900,
        "title": {
         "text": "Silhouette Score"
        }
       },
       "config": {
        "plotlyServerURL": "https://plot.ly"
       }
      },
      "text/html": "<div>                            <div id=\"ac29a092-74f9-4885-af39-ec0d7d89a431\" class=\"plotly-graph-div\" style=\"height:450px; width:900px;\"></div>            <script type=\"text/javascript\">                require([\"plotly\"], function(Plotly) {                    window.PLOTLYENV=window.PLOTLYENV || {};                                    if (document.getElementById(\"ac29a092-74f9-4885-af39-ec0d7d89a431\")) {                    Plotly.newPlot(                        \"ac29a092-74f9-4885-af39-ec0d7d89a431\",                        [{\"hovertemplate\":\"x=%{x}<br>y=%{y}<extra></extra>\",\"legendgroup\":\"\",\"line\":{\"color\":\"#636efa\",\"dash\":\"solid\"},\"marker\":{\"symbol\":\"circle\"},\"mode\":\"lines\",\"name\":\"\",\"orientation\":\"v\",\"showlegend\":false,\"x\":[10,11,12,13,14,15,16,17,18,19,20,21,22,23,24,25,26,27,28,29,30,31,32,33,34,35,36,37,38,39,40,41,42,43,44],\"xaxis\":\"x\",\"y\":[0.4076310694217682,0.3967569172382355,0.3960723876953125,0.3946712911128998,0.40568211674690247,0.41055136919021606,0.42218026518821716,0.41475510597229004,0.39327454566955566,0.3957117199897766,0.39862847328186035,0.452939510345459,0.45368292927742004,0.4566343426704407,0.4562779366970062,0.455741822719574,0.4520319998264313,0.4515421688556671,0.4492802917957306,0.4480355381965637,0.45735177397727966,0.4669402837753296,0.46154698729515076,0.47579267621040344,0.47868168354034424,0.4825800657272339,0.46301794052124023,0.46875977516174316,0.45828351378440857,0.4594188630580902,0.45147383213043213,0.44595810770988464,0.4511910080909729,0.44765713810920715,0.44805729389190674],\"yaxis\":\"y\",\"type\":\"scatter\"}],                        {\"template\":{\"data\":{\"histogram2dcontour\":[{\"type\":\"histogram2dcontour\",\"colorbar\":{\"outlinewidth\":0,\"ticks\":\"\"},\"colorscale\":[[0.0,\"#0d0887\"],[0.1111111111111111,\"#46039f\"],[0.2222222222222222,\"#7201a8\"],[0.3333333333333333,\"#9c179e\"],[0.4444444444444444,\"#bd3786\"],[0.5555555555555556,\"#d8576b\"],[0.6666666666666666,\"#ed7953\"],[0.7777777777777778,\"#fb9f3a\"],[0.8888888888888888,\"#fdca26\"],[1.0,\"#f0f921\"]]}],\"choropleth\":[{\"type\":\"choropleth\",\"colorbar\":{\"outlinewidth\":0,\"ticks\":\"\"}}],\"histogram2d\":[{\"type\":\"histogram2d\",\"colorbar\":{\"outlinewidth\":0,\"ticks\":\"\"},\"colorscale\":[[0.0,\"#0d0887\"],[0.1111111111111111,\"#46039f\"],[0.2222222222222222,\"#7201a8\"],[0.3333333333333333,\"#9c179e\"],[0.4444444444444444,\"#bd3786\"],[0.5555555555555556,\"#d8576b\"],[0.6666666666666666,\"#ed7953\"],[0.7777777777777778,\"#fb9f3a\"],[0.8888888888888888,\"#fdca26\"],[1.0,\"#f0f921\"]]}],\"heatmap\":[{\"type\":\"heatmap\",\"colorbar\":{\"outlinewidth\":0,\"ticks\":\"\"},\"colorscale\":[[0.0,\"#0d0887\"],[0.1111111111111111,\"#46039f\"],[0.2222222222222222,\"#7201a8\"],[0.3333333333333333,\"#9c179e\"],[0.4444444444444444,\"#bd3786\"],[0.5555555555555556,\"#d8576b\"],[0.6666666666666666,\"#ed7953\"],[0.7777777777777778,\"#fb9f3a\"],[0.8888888888888888,\"#fdca26\"],[1.0,\"#f0f921\"]]}],\"heatmapgl\":[{\"type\":\"heatmapgl\",\"colorbar\":{\"outlinewidth\":0,\"ticks\":\"\"},\"colorscale\":[[0.0,\"#0d0887\"],[0.1111111111111111,\"#46039f\"],[0.2222222222222222,\"#7201a8\"],[0.3333333333333333,\"#9c179e\"],[0.4444444444444444,\"#bd3786\"],[0.5555555555555556,\"#d8576b\"],[0.6666666666666666,\"#ed7953\"],[0.7777777777777778,\"#fb9f3a\"],[0.8888888888888888,\"#fdca26\"],[1.0,\"#f0f921\"]]}],\"contourcarpet\":[{\"type\":\"contourcarpet\",\"colorbar\":{\"outlinewidth\":0,\"ticks\":\"\"}}],\"contour\":[{\"type\":\"contour\",\"colorbar\":{\"outlinewidth\":0,\"ticks\":\"\"},\"colorscale\":[[0.0,\"#0d0887\"],[0.1111111111111111,\"#46039f\"],[0.2222222222222222,\"#7201a8\"],[0.3333333333333333,\"#9c179e\"],[0.4444444444444444,\"#bd3786\"],[0.5555555555555556,\"#d8576b\"],[0.6666666666666666,\"#ed7953\"],[0.7777777777777778,\"#fb9f3a\"],[0.8888888888888888,\"#fdca26\"],[1.0,\"#f0f921\"]]}],\"surface\":[{\"type\":\"surface\",\"colorbar\":{\"outlinewidth\":0,\"ticks\":\"\"},\"colorscale\":[[0.0,\"#0d0887\"],[0.1111111111111111,\"#46039f\"],[0.2222222222222222,\"#7201a8\"],[0.3333333333333333,\"#9c179e\"],[0.4444444444444444,\"#bd3786\"],[0.5555555555555556,\"#d8576b\"],[0.6666666666666666,\"#ed7953\"],[0.7777777777777778,\"#fb9f3a\"],[0.8888888888888888,\"#fdca26\"],[1.0,\"#f0f921\"]]}],\"mesh3d\":[{\"type\":\"mesh3d\",\"colorbar\":{\"outlinewidth\":0,\"ticks\":\"\"}}],\"scatter\":[{\"marker\":{\"line\":{\"color\":\"#283442\"}},\"type\":\"scatter\"}],\"parcoords\":[{\"type\":\"parcoords\",\"line\":{\"colorbar\":{\"outlinewidth\":0,\"ticks\":\"\"}}}],\"scatterpolargl\":[{\"type\":\"scatterpolargl\",\"marker\":{\"colorbar\":{\"outlinewidth\":0,\"ticks\":\"\"}}}],\"bar\":[{\"error_x\":{\"color\":\"#f2f5fa\"},\"error_y\":{\"color\":\"#f2f5fa\"},\"marker\":{\"line\":{\"color\":\"rgb(17,17,17)\",\"width\":0.5},\"pattern\":{\"fillmode\":\"overlay\",\"size\":10,\"solidity\":0.2}},\"type\":\"bar\"}],\"scattergeo\":[{\"type\":\"scattergeo\",\"marker\":{\"colorbar\":{\"outlinewidth\":0,\"ticks\":\"\"}}}],\"scatterpolar\":[{\"type\":\"scatterpolar\",\"marker\":{\"colorbar\":{\"outlinewidth\":0,\"ticks\":\"\"}}}],\"histogram\":[{\"marker\":{\"pattern\":{\"fillmode\":\"overlay\",\"size\":10,\"solidity\":0.2}},\"type\":\"histogram\"}],\"scattergl\":[{\"marker\":{\"line\":{\"color\":\"#283442\"}},\"type\":\"scattergl\"}],\"scatter3d\":[{\"type\":\"scatter3d\",\"line\":{\"colorbar\":{\"outlinewidth\":0,\"ticks\":\"\"}},\"marker\":{\"colorbar\":{\"outlinewidth\":0,\"ticks\":\"\"}}}],\"scattermapbox\":[{\"type\":\"scattermapbox\",\"marker\":{\"colorbar\":{\"outlinewidth\":0,\"ticks\":\"\"}}}],\"scatterternary\":[{\"type\":\"scatterternary\",\"marker\":{\"colorbar\":{\"outlinewidth\":0,\"ticks\":\"\"}}}],\"scattercarpet\":[{\"type\":\"scattercarpet\",\"marker\":{\"colorbar\":{\"outlinewidth\":0,\"ticks\":\"\"}}}],\"carpet\":[{\"aaxis\":{\"endlinecolor\":\"#A2B1C6\",\"gridcolor\":\"#506784\",\"linecolor\":\"#506784\",\"minorgridcolor\":\"#506784\",\"startlinecolor\":\"#A2B1C6\"},\"baxis\":{\"endlinecolor\":\"#A2B1C6\",\"gridcolor\":\"#506784\",\"linecolor\":\"#506784\",\"minorgridcolor\":\"#506784\",\"startlinecolor\":\"#A2B1C6\"},\"type\":\"carpet\"}],\"table\":[{\"cells\":{\"fill\":{\"color\":\"#506784\"},\"line\":{\"color\":\"rgb(17,17,17)\"}},\"header\":{\"fill\":{\"color\":\"#2a3f5f\"},\"line\":{\"color\":\"rgb(17,17,17)\"}},\"type\":\"table\"}],\"barpolar\":[{\"marker\":{\"line\":{\"color\":\"rgb(17,17,17)\",\"width\":0.5},\"pattern\":{\"fillmode\":\"overlay\",\"size\":10,\"solidity\":0.2}},\"type\":\"barpolar\"}],\"pie\":[{\"automargin\":true,\"type\":\"pie\"}]},\"layout\":{\"autotypenumbers\":\"strict\",\"colorway\":[\"#636efa\",\"#EF553B\",\"#00cc96\",\"#ab63fa\",\"#FFA15A\",\"#19d3f3\",\"#FF6692\",\"#B6E880\",\"#FF97FF\",\"#FECB52\"],\"font\":{\"color\":\"#f2f5fa\"},\"hovermode\":\"closest\",\"hoverlabel\":{\"align\":\"left\"},\"paper_bgcolor\":\"rgb(17,17,17)\",\"plot_bgcolor\":\"rgb(17,17,17)\",\"polar\":{\"bgcolor\":\"rgb(17,17,17)\",\"angularaxis\":{\"gridcolor\":\"#506784\",\"linecolor\":\"#506784\",\"ticks\":\"\"},\"radialaxis\":{\"gridcolor\":\"#506784\",\"linecolor\":\"#506784\",\"ticks\":\"\"}},\"ternary\":{\"bgcolor\":\"rgb(17,17,17)\",\"aaxis\":{\"gridcolor\":\"#506784\",\"linecolor\":\"#506784\",\"ticks\":\"\"},\"baxis\":{\"gridcolor\":\"#506784\",\"linecolor\":\"#506784\",\"ticks\":\"\"},\"caxis\":{\"gridcolor\":\"#506784\",\"linecolor\":\"#506784\",\"ticks\":\"\"}},\"coloraxis\":{\"colorbar\":{\"outlinewidth\":0,\"ticks\":\"\"}},\"colorscale\":{\"sequential\":[[0.0,\"#0d0887\"],[0.1111111111111111,\"#46039f\"],[0.2222222222222222,\"#7201a8\"],[0.3333333333333333,\"#9c179e\"],[0.4444444444444444,\"#bd3786\"],[0.5555555555555556,\"#d8576b\"],[0.6666666666666666,\"#ed7953\"],[0.7777777777777778,\"#fb9f3a\"],[0.8888888888888888,\"#fdca26\"],[1.0,\"#f0f921\"]],\"sequentialminus\":[[0.0,\"#0d0887\"],[0.1111111111111111,\"#46039f\"],[0.2222222222222222,\"#7201a8\"],[0.3333333333333333,\"#9c179e\"],[0.4444444444444444,\"#bd3786\"],[0.5555555555555556,\"#d8576b\"],[0.6666666666666666,\"#ed7953\"],[0.7777777777777778,\"#fb9f3a\"],[0.8888888888888888,\"#fdca26\"],[1.0,\"#f0f921\"]],\"diverging\":[[0,\"#8e0152\"],[0.1,\"#c51b7d\"],[0.2,\"#de77ae\"],[0.3,\"#f1b6da\"],[0.4,\"#fde0ef\"],[0.5,\"#f7f7f7\"],[0.6,\"#e6f5d0\"],[0.7,\"#b8e186\"],[0.8,\"#7fbc41\"],[0.9,\"#4d9221\"],[1,\"#276419\"]]},\"xaxis\":{\"gridcolor\":\"#283442\",\"linecolor\":\"#506784\",\"ticks\":\"\",\"title\":{\"standoff\":15},\"zerolinecolor\":\"#283442\",\"automargin\":true,\"zerolinewidth\":2},\"yaxis\":{\"gridcolor\":\"#283442\",\"linecolor\":\"#506784\",\"ticks\":\"\",\"title\":{\"standoff\":15},\"zerolinecolor\":\"#283442\",\"automargin\":true,\"zerolinewidth\":2},\"scene\":{\"xaxis\":{\"backgroundcolor\":\"rgb(17,17,17)\",\"gridcolor\":\"#506784\",\"linecolor\":\"#506784\",\"showbackground\":true,\"ticks\":\"\",\"zerolinecolor\":\"#C8D4E3\",\"gridwidth\":2},\"yaxis\":{\"backgroundcolor\":\"rgb(17,17,17)\",\"gridcolor\":\"#506784\",\"linecolor\":\"#506784\",\"showbackground\":true,\"ticks\":\"\",\"zerolinecolor\":\"#C8D4E3\",\"gridwidth\":2},\"zaxis\":{\"backgroundcolor\":\"rgb(17,17,17)\",\"gridcolor\":\"#506784\",\"linecolor\":\"#506784\",\"showbackground\":true,\"ticks\":\"\",\"zerolinecolor\":\"#C8D4E3\",\"gridwidth\":2}},\"shapedefaults\":{\"line\":{\"color\":\"#f2f5fa\"}},\"annotationdefaults\":{\"arrowcolor\":\"#f2f5fa\",\"arrowhead\":0,\"arrowwidth\":1},\"geo\":{\"bgcolor\":\"rgb(17,17,17)\",\"landcolor\":\"rgb(17,17,17)\",\"subunitcolor\":\"#506784\",\"showland\":true,\"showlakes\":true,\"lakecolor\":\"rgb(17,17,17)\"},\"title\":{\"x\":0.05},\"updatemenudefaults\":{\"bgcolor\":\"#506784\",\"borderwidth\":0},\"sliderdefaults\":{\"bgcolor\":\"#C8D4E3\",\"borderwidth\":1,\"bordercolor\":\"rgb(17,17,17)\",\"tickwidth\":0},\"mapbox\":{\"style\":\"dark\"}}},\"xaxis\":{\"anchor\":\"y\",\"domain\":[0.0,1.0],\"title\":{\"text\":\"x\"}},\"yaxis\":{\"anchor\":\"x\",\"domain\":[0.0,1.0],\"title\":{\"text\":\"y\"}},\"legend\":{\"tracegroupgap\":0},\"margin\":{\"t\":60},\"shapes\":[{\"type\":\"line\",\"x0\":35,\"x1\":35,\"xref\":\"x\",\"y0\":0,\"y1\":1,\"yref\":\"y domain\"}],\"height\":450,\"width\":900,\"title\":{\"text\":\"Silhouette Score\"}},                        {\"responsive\": true}                    ).then(function(){\n                            \nvar gd = document.getElementById('ac29a092-74f9-4885-af39-ec0d7d89a431');\nvar x = new MutationObserver(function (mutations, observer) {{\n        var display = window.getComputedStyle(gd).display;\n        if (!display || display === 'none') {{\n            console.log([gd, 'removed!']);\n            Plotly.purge(gd);\n            observer.disconnect();\n        }}\n}});\n\n// Listen for the removal of the full notebook cells\nvar notebookContainer = gd.closest('#notebook-container');\nif (notebookContainer) {{\n    x.observe(notebookContainer, {childList: true});\n}}\n\n// Listen for the clearing of the current output cell\nvar outputEl = gd.closest('.output');\nif (outputEl) {{\n    x.observe(outputEl, {childList: true});\n}}\n\n                        })                };                });            </script>        </div>"
     },
     "metadata": {},
     "output_type": "display_data"
    },
    {
     "data": {
      "text/plain": "<Figure size 640x480 with 1 Axes>",
      "image/png": "[encoded data removed]"
     },
     "metadata": {},
     "output_type": "display_data"
    },
    {
     "data": {
      "application/vnd.plotly.v1+json": {
       "data": [
        {
         "hovertemplate": "color=cluster_10<br>x=%{x}<br>y=%{y}<br>text=%{text}<extra></extra>",
         "legendgroup": "cluster_10",
         "marker": {
          "color": "#2E91E5",
          "symbol": "circle"
         },
         "mode": "markers+text",
         "name": "cluster_10",
         "orientation": "v",
         "showlegend": true,
         "text": [
          "APL",
          "COBOL",
          "Crystal",
          "SAS",
          "Solidity",
          "Couchbase",
          "IBM DB2",
          "Colocation",
          "IBM Cloud or Watson",
          "Managed Hosting",
          "TextMate"
         ],
         "x": [
          -0.4308317005634308,
          -1.1162960529327393,
          -0.06916714459657669,
          0.8376231789588928,
          1.4025965929031372,
          0.7401856780052185,
          -2.516528844833374,
          -2.207148313522339,
          -0.765444815158844,
          -1.313947319984436,
          -0.7865938544273376
         ],
         "xaxis": "x",
         "y": [
          -0.3261200785636902,
          0.8465315103530884,
          0.6770696043968201,
          -1.5293399095535278,
          -0.1549493968486786,
          1.637681245803833,
          1.1716644763946533,
          -0.7009968757629395,
          -3.7938830852508545,
          2.408406972885132,
          -1.9536253213882446
         ],
         "yaxis": "y",
         "type": "scatter",
         "textposition": "top center"
        },
        {
         "hovertemplate": "color=cluster_26<br>x=%{x}<br>y=%{y}<br>text=%{text}<extra></extra>",
         "legendgroup": "cluster_26",
         "marker": {
          "color": "#E15F99",
          "symbol": "circle"
         },
         "mode": "markers+text",
         "name": "cluster_26",
         "orientation": "v",
         "showlegend": true,
         "text": [
          "Assembly",
          "Bash/Shell",
          "C",
          "C++",
          "Ansible"
         ],
         "x": [
          -13.60672378540039,
          -12.423418045043945,
          -14.874905586242676,
          -15.840081214904785,
          -9.7260103225708
         ],
         "xaxis": "x",
         "y": [
          -3.885774612426758,
          -5.079362869262695,
          -3.251321315765381,
          -2.700448751449585,
          -5.738736152648926
         ],
         "yaxis": "y",
         "type": "scatter",
         "textposition": "top center"
        },
        {
         "hovertemplate": "color=cluster_8<br>x=%{x}<br>y=%{y}<br>text=%{text}<extra></extra>",
         "legendgroup": "cluster_8",
         "marker": {
          "color": "#1CA71C",
          "symbol": "circle"
         },
         "mode": "markers+text",
         "name": "cluster_8",
         "orientation": "v",
         "showlegend": true,
         "text": [
          "C#",
          "SQL",
          "Microsoft SQL Server",
          "Microsoft Azure",
          "ASP.NET",
          "ASP.NET Core ",
          "Blazor",
          ".NET",
          "Visual Studio"
         ],
         "x": [
          7.693231105804443,
          9.297322273254395,
          7.7050299644470215,
          4.725220680236816,
          5.327042102813721,
          6.245046615600586,
          4.4702558517456055,
          7.396694660186768,
          8.231858253479004
         ],
         "xaxis": "x",
         "y": [
          28.222902297973633,
          23.824350357055664,
          25.46272850036621,
          26.701902389526367,
          24.8080997467041,
          26.398300170898438,
          23.80072021484375,
          27.765058517456055,
          29.08475112915039
         ],
         "yaxis": "y",
         "type": "scatter",
         "textposition": "top center"
        },
        {
         "hovertemplate": "color=cluster_28<br>x=%{x}<br>y=%{y}<br>text=%{text}<extra></extra>",
         "legendgroup": "cluster_28",
         "marker": {
          "color": "#FB0D0D",
          "symbol": "circle"
         },
         "mode": "markers+text",
         "name": "cluster_28",
         "orientation": "v",
         "showlegend": true,
         "text": [
          "Clojure",
          "Haskell",
          "Lua",
          "OCaml",
          "VBA",
          "Neovim"
         ],
         "x": [
          -6.4714460372924805,
          -8.197070121765137,
          -3.987722158432007,
          -6.925344944000244,
          -3.8193790912628174,
          -6.860731601715088
         ],
         "xaxis": "x",
         "y": [
          7.194772720336914,
          2.5610828399658203,
          2.8390331268310547,
          3.1240029335021973,
          5.1643524169921875,
          4.500960350036621
         ],
         "yaxis": "y",
         "type": "scatter",
         "textposition": "top center"
        },
        {
         "hovertemplate": "color=cluster_5<br>x=%{x}<br>y=%{y}<br>text=%{text}<extra></extra>",
         "legendgroup": "cluster_5",
         "marker": {
          "color": "#DA16FF",
          "symbol": "circle"
         },
         "mode": "markers+text",
         "name": "cluster_5",
         "orientation": "v",
         "showlegend": true,
         "text": [
          "Dart",
          "Kotlin",
          "Flutter",
          "Android Studio"
         ],
         "x": [
          -21.101123809814453,
          -17.610454559326172,
          -21.162696838378906,
          -19.38941764831543
         ],
         "xaxis": "x",
         "y": [
          9.618691444396973,
          7.367590427398682,
          9.657819747924805,
          8.588334083557129
         ],
         "yaxis": "y",
         "type": "scatter",
         "textposition": "top center"
        },
        {
         "hovertemplate": "color=cluster_18<br>x=%{x}<br>y=%{y}<br>text=%{text}<extra></extra>",
         "legendgroup": "cluster_18",
         "marker": {
          "color": "#222A2A",
          "symbol": "circle"
         },
         "mode": "markers+text",
         "name": "cluster_18",
         "orientation": "v",
         "showlegend": true,
         "text": [
          "Delphi",
          "RAD Studio (Delphi_C++ Builder)"
         ],
         "x": [
          -12.049949645996094,
          -12.049864768981934
         ],
         "xaxis": "x",
         "y": [
          25.167200088500977,
          25.16701316833496
         ],
         "yaxis": "y",
         "type": "scatter",
         "textposition": "top center"
        },
        {
         "hovertemplate": "color=cluster_20<br>x=%{x}<br>y=%{y}<br>text=%{text}<extra></extra>",
         "legendgroup": "cluster_20",
         "marker": {
          "color": "#B68100",
          "symbol": "circle"
         },
         "mode": "markers+text",
         "name": "cluster_20",
         "orientation": "v",
         "showlegend": true,
         "text": [
          "Elixir",
          "Phoenix"
         ],
         "x": [
          -27.66453742980957,
          -27.669788360595703
         ],
         "xaxis": "x",
         "y": [
          3.514392852783203,
          3.5106396675109863
         ],
         "yaxis": "y",
         "type": "scatter",
         "textposition": "top center"
        },
        {
         "hovertemplate": "color=cluster_32<br>x=%{x}<br>y=%{y}<br>text=%{text}<extra></extra>",
         "legendgroup": "cluster_32",
         "marker": {
          "color": "#750D86",
          "symbol": "circle"
         },
         "mode": "markers+text",
         "name": "cluster_32",
         "orientation": "v",
         "showlegend": true,
         "text": [
          "Erlang",
          "Fortran",
          "Julia",
          "MATLAB",
          "OpenStack",
          "Chef",
          "Puppet"
         ],
         "x": [
          -7.174497604370117,
          -4.4018096923828125,
          -5.692002296447754,
          -4.903180122375488,
          -5.182624816894531,
          -8.546152114868164,
          -3.0594310760498047
         ],
         "xaxis": "x",
         "y": [
          -2.2355785369873047,
          0.18903109431266785,
          0.7627832293510437,
          -1.1020866632461548,
          -4.643712043762207,
          -5.6992669105529785,
          -2.8757097721099854
         ],
         "yaxis": "y",
         "type": "scatter",
         "textposition": "top center"
        },
        {
         "hovertemplate": "color=cluster_30<br>x=%{x}<br>y=%{y}<br>text=%{text}<extra></extra>",
         "legendgroup": "cluster_30",
         "marker": {
          "color": "#EB663B",
          "symbol": "circle"
         },
         "mode": "markers+text",
         "name": "cluster_30",
         "orientation": "v",
         "showlegend": true,
         "text": [
          "F#",
          "SQLite",
          "Xamarin",
          "Rider"
         ],
         "x": [
          1.9669649600982666,
          0.16929365694522858,
          0.2716591954231262,
          2.7745814323425293
         ],
         "xaxis": "x",
         "y": [
          8.722241401672363,
          13.29942512512207,
          12.268546104431152,
          9.55443286895752
         ],
         "yaxis": "y",
         "type": "scatter",
         "textposition": "top center"
        },
        {
         "hovertemplate": "color=cluster_19<br>x=%{x}<br>y=%{y}<br>text=%{text}<extra></extra>",
         "legendgroup": "cluster_19",
         "marker": {
          "color": "#511CFB",
          "symbol": "circle"
         },
         "mode": "markers+text",
         "name": "cluster_19",
         "orientation": "v",
         "showlegend": true,
         "text": [
          "Go",
          "GoLand"
         ],
         "x": [
          12.423029899597168,
          12.137470245361328
         ],
         "xaxis": "x",
         "y": [
          -11.080028533935547,
          -10.138570785522461
         ],
         "yaxis": "y",
         "type": "scatter",
         "textposition": "top center"
        },
        {
         "hovertemplate": "color=cluster_13<br>x=%{x}<br>y=%{y}<br>text=%{text}<extra></extra>",
         "legendgroup": "cluster_13",
         "marker": {
          "color": "#00A08B",
          "symbol": "circle"
         },
         "mode": "markers+text",
         "name": "cluster_13",
         "orientation": "v",
         "showlegend": true,
         "text": [
          "Groovy",
          "Java",
          "Spring",
          "IntelliJ"
         ],
         "x": [
          -21.284170150756836,
          -24.502370834350586,
          -22.5087947845459,
          -24.99207305908203
         ],
         "xaxis": "x",
         "y": [
          -5.658414840698242,
          -6.215354919433594,
          -5.902099609375,
          -6.320505619049072
         ],
         "yaxis": "y",
         "type": "scatter",
         "textposition": "top center"
        },
        {
         "hovertemplate": "color=cluster_31<br>x=%{x}<br>y=%{y}<br>text=%{text}<extra></extra>",
         "legendgroup": "cluster_31",
         "marker": {
          "color": "#FB00D1",
          "symbol": "circle"
         },
         "mode": "markers+text",
         "name": "cluster_31",
         "orientation": "v",
         "showlegend": true,
         "text": [
          "HTML/CSS",
          "JavaScript",
          "TypeScript",
          "npm",
          "Visual Studio Code"
         ],
         "x": [
          28.79012107849121,
          28.620281219482422,
          25.88104248046875,
          26.970897674560547,
          29.488265991210938
         ],
         "xaxis": "x",
         "y": [
          0.5061779022216797,
          -0.1083449050784111,
          -0.05797562748193741,
          -0.47677454352378845,
          -1.2684587240219116
         ],
         "yaxis": "y",
         "type": "scatter",
         "textposition": "top center"
        },
        {
         "hovertemplate": "color=cluster_24<br>x=%{x}<br>y=%{y}<br>text=%{text}<extra></extra>",
         "legendgroup": "cluster_24",
         "marker": {
          "color": "#FC0080",
          "symbol": "circle"
         },
         "mode": "markers+text",
         "name": "cluster_24",
         "orientation": "v",
         "showlegend": true,
         "text": [
          "LISP",
          "Emacs"
         ],
         "x": [
          -10.230657577514648,
          -10.911482810974121
         ],
         "xaxis": "x",
         "y": [
          5.8795485496521,
          6.648564338684082
         ],
         "yaxis": "y",
         "type": "scatter",
         "textposition": "top center"
        },
        {
         "hovertemplate": "color=cluster_16<br>x=%{x}<br>y=%{y}<br>text=%{text}<extra></extra>",
         "legendgroup": "cluster_16",
         "marker": {
          "color": "#B2828D",
          "symbol": "circle"
         },
         "mode": "markers+text",
         "name": "cluster_16",
         "orientation": "v",
         "showlegend": true,
         "text": [
          "Objective-C",
          "Swift",
          "Homebrew",
          "Xcode"
         ],
         "x": [
          -11.83996868133545,
          -12.75564193725586,
          -14.597932815551758,
          -13.687472343444824
         ],
         "xaxis": "x",
         "y": [
          13.380206108093262,
          14.144078254699707,
          15.658202171325684,
          14.896283149719238
         ],
         "yaxis": "y",
         "type": "scatter",
         "textposition": "top center"
        },
        {
         "hovertemplate": "color=cluster_1<br>x=%{x}<br>y=%{y}<br>text=%{text}<extra></extra>",
         "legendgroup": "cluster_1",
         "marker": {
          "color": "#6C7C32",
          "symbol": "circle"
         },
         "mode": "markers+text",
         "name": "cluster_1",
         "orientation": "v",
         "showlegend": true,
         "text": [
          "PHP",
          "MariaDB",
          "MySQL",
          "Laravel",
          "Symfony",
          "PhpStorm"
         ],
         "x": [
          10.558156967163086,
          7.362832546234131,
          10.639135360717773,
          10.644865989685059,
          8.32690143585205,
          9.406167984008789
         ],
         "xaxis": "x",
         "y": [
          17.979984283447266,
          14.026634216308594,
          19.216808319091797,
          16.585025787353516,
          14.753317832946777,
          15.805177688598633
         ],
         "yaxis": "y",
         "type": "scatter",
         "textposition": "top center"
        },
        {
         "hovertemplate": "color=cluster_2<br>x=%{x}<br>y=%{y}<br>text=%{text}<extra></extra>",
         "legendgroup": "cluster_2",
         "marker": {
          "color": "#778AAE",
          "symbol": "circle"
         },
         "mode": "markers+text",
         "name": "cluster_2",
         "orientation": "v",
         "showlegend": true,
         "text": [
          "Perl",
          "Qt",
          "Qt Creator",
          "Vim"
         ],
         "x": [
          -9.615130424499512,
          -15.453692436218262,
          -14.483734130859375,
          -10.619888305664062
         ],
         "xaxis": "x",
         "y": [
          -0.37726902961730957,
          1.8523699045181274,
          1.9731109142303467,
          -0.18784452974796295
         ],
         "yaxis": "y",
         "type": "scatter",
         "textposition": "top center"
        },
        {
         "hovertemplate": "color=cluster_11<br>x=%{x}<br>y=%{y}<br>text=%{text}<extra></extra>",
         "legendgroup": "cluster_11",
         "marker": {
          "color": "#862A16",
          "symbol": "circle"
         },
         "mode": "markers+text",
         "name": "cluster_11",
         "orientation": "v",
         "showlegend": true,
         "text": [
          "PowerShell",
          "Oracle",
          "Oracle Cloud Infrastructure",
          "GTK",
          "Uno Platform",
          "Nano"
         ],
         "x": [
          0.7328709959983826,
          -2.843398332595825,
          -2.1911795139312744,
          -1.5853550434112549,
          0.7117155194282532,
          0.2792247533798218
         ],
         "xaxis": "x",
         "y": [
          6.783952713012695,
          9.054341316223145,
          7.600224018096924,
          4.548117160797119,
          5.421765327453613,
          3.26528263092041
         ],
         "yaxis": "y",
         "type": "scatter",
         "textposition": "top center"
        },
        {
         "hovertemplate": "color=cluster_34<br>x=%{x}<br>y=%{y}<br>text=%{text}<extra></extra>",
         "legendgroup": "cluster_34",
         "marker": {
          "color": "#A777F1",
          "symbol": "circle"
         },
         "mode": "markers+text",
         "name": "cluster_34",
         "orientation": "v",
         "showlegend": true,
         "text": [
          "Python",
          "NumPy",
          "Pandas"
         ],
         "x": [
          -12.813325881958008,
          -12.172332763671875,
          -12.04679012298584
         ],
         "xaxis": "x",
         "y": [
          -26.036357879638672,
          -24.754077911376953,
          -24.488821029663086
         ],
         "yaxis": "y",
         "type": "scatter",
         "textposition": "top center"
        },
        {
         "hovertemplate": "color=cluster_6<br>x=%{x}<br>y=%{y}<br>text=%{text}<extra></extra>",
         "legendgroup": "cluster_6",
         "marker": {
          "color": "#620042",
          "symbol": "circle"
         },
         "mode": "markers+text",
         "name": "cluster_6",
         "orientation": "v",
         "showlegend": true,
         "text": [
          "R",
          "Tidyverse",
          "RStudio"
         ],
         "x": [
          -15.988601684570312,
          -14.234537124633789,
          -15.31876277923584
         ],
         "xaxis": "x",
         "y": [
          -12.999773979187012,
          -12.03986930847168,
          -12.662479400634766
         ],
         "yaxis": "y",
         "type": "scatter",
         "textposition": "top center"
        },
        {
         "hovertemplate": "color=cluster_22<br>x=%{x}<br>y=%{y}<br>text=%{text}<extra></extra>",
         "legendgroup": "cluster_22",
         "marker": {
          "color": "#1616A7",
          "symbol": "circle"
         },
         "mode": "markers+text",
         "name": "cluster_22",
         "orientation": "v",
         "showlegend": true,
         "text": [
          "Ruby",
          "Ruby on Rails"
         ],
         "x": [
          1.7226545810699463,
          1.7254453897476196
         ],
         "xaxis": "x",
         "y": [
          -26.68840217590332,
          -26.67758560180664
         ],
         "yaxis": "y",
         "type": "scatter",
         "textposition": "top center"
        },
        {
         "hovertemplate": "color=cluster_15<br>x=%{x}<br>y=%{y}<br>text=%{text}<extra></extra>",
         "legendgroup": "cluster_15",
         "marker": {
          "color": "#DA60CA",
          "symbol": "circle"
         },
         "mode": "markers+text",
         "name": "cluster_15",
         "orientation": "v",
         "showlegend": true,
         "text": [
          "Rust",
          "Deno",
          "Nuxt.js",
          "Svelte",
          "Vue.js"
         ],
         "x": [
          16.582042694091797,
          16.146638870239258,
          10.793299674987793,
          13.374524116516113,
          11.774068832397461
         ],
         "xaxis": "x",
         "y": [
          -4.691850662231445,
          -3.6477839946746826,
          0.32548707723617554,
          -3.132187604904175,
          0.44319480657577515
         ],
         "yaxis": "y",
         "type": "scatter",
         "textposition": "top center"
        },
        {
         "hovertemplate": "color=cluster_17<br>x=%{x}<br>y=%{y}<br>text=%{text}<extra></extra>",
         "legendgroup": "cluster_17",
         "marker": {
          "color": "#6C4516",
          "symbol": "circle"
         },
         "mode": "markers+text",
         "name": "cluster_17",
         "orientation": "v",
         "showlegend": true,
         "text": [
          "Scala",
          "Play Framework",
          "RubyMine"
         ],
         "x": [
          0.173823744058609,
          0.292226642370224,
          -2.2645318508148193
         ],
         "xaxis": "x",
         "y": [
          -9.148914337158203,
          -8.11154842376709,
          -5.6584930419921875
         ],
         "yaxis": "y",
         "type": "scatter",
         "textposition": "top center"
        },
        {
         "hovertemplate": "color=cluster_0<br>x=%{x}<br>y=%{y}<br>text=%{text}<extra></extra>",
         "legendgroup": "cluster_0",
         "marker": {
          "color": "#0D2A63",
          "symbol": "circle"
         },
         "mode": "markers+text",
         "name": "cluster_0",
         "orientation": "v",
         "showlegend": true,
         "text": [
          "Cassandra",
          "Elasticsearch",
          "PostgreSQL",
          "Redis"
         ],
         "x": [
          3.436136484146118,
          4.482946872711182,
          7.427520751953125,
          5.893758773803711
         ],
         "xaxis": "x",
         "y": [
          -17.84090232849121,
          -18.62083625793457,
          -18.650461196899414,
          -18.99951171875
         ],
         "yaxis": "y",
         "type": "scatter",
         "textposition": "top center"
        },
        {
         "hovertemplate": "color=cluster_27<br>x=%{x}<br>y=%{y}<br>text=%{text}<extra></extra>",
         "legendgroup": "cluster_27",
         "marker": {
          "color": "#AF0038",
          "symbol": "circle"
         },
         "mode": "markers+text",
         "name": "cluster_27",
         "orientation": "v",
         "showlegend": true,
         "text": [
          "Cloud Firestore",
          "Firebase Realtime Database",
          "Firebase",
          "Google Cloud"
         ],
         "x": [
          7.567607879638672,
          7.943944931030273,
          8.847973823547363,
          7.602097511291504
         ],
         "xaxis": "x",
         "y": [
          -6.630617618560791,
          -3.8182833194732666,
          -5.082574844360352,
          -7.75646448135376
         ],
         "yaxis": "y",
         "type": "scatter",
         "textposition": "top center"
        },
        {
         "hovertemplate": "color=cluster_21<br>x=%{x}<br>y=%{y}<br>text=%{text}<extra></extra>",
         "legendgroup": "cluster_21",
         "marker": {
          "color": "#2E91E5",
          "symbol": "circle"
         },
         "mode": "markers+text",
         "name": "cluster_21",
         "orientation": "v",
         "showlegend": true,
         "text": [
          "CouchDB",
          "DigitalOcean",
          "Heroku",
          "Linode",
          "OVH",
          "VMware",
          "Fastify",
          "Electron"
         ],
         "x": [
          4.9446234703063965,
          6.796069622039795,
          4.119922637939453,
          2.537468433380127,
          3.5405287742614746,
          2.5594325065612793,
          8.352635383605957,
          6.217017650604248
         ],
         "xaxis": "x",
         "y": [
          2.543700933456421,
          0.3226066529750824,
          -0.16881631314754486,
          1.3208290338516235,
          5.57252836227417,
          3.4060349464416504,
          3.1261677742004395,
          5.571504592895508
         ],
         "yaxis": "y",
         "type": "scatter",
         "textposition": "top center"
        },
        {
         "hovertemplate": "color=cluster_29<br>x=%{x}<br>y=%{y}<br>text=%{text}<extra></extra>",
         "legendgroup": "cluster_29",
         "marker": {
          "color": "#E15F99",
          "symbol": "circle"
         },
         "mode": "markers+text",
         "name": "cluster_29",
         "orientation": "v",
         "showlegend": true,
         "text": [
          "DynamoDB",
          "AWS",
          "Docker",
          "Kubernetes",
          "Pulumi",
          "Terraform"
         ],
         "x": [
          11.892292022705078,
          10.769088745117188,
          8.40843677520752,
          7.634838581085205,
          6.797391891479492,
          7.209696292877197
         ],
         "xaxis": "x",
         "y": [
          -16.64676856994629,
          -17.323509216308594,
          -17.138446807861328,
          -15.36410903930664,
          -12.208755493164062,
          -13.647343635559082
         ],
         "yaxis": "y",
         "type": "scatter",
         "textposition": "top center"
        },
        {
         "hovertemplate": "color=cluster_3<br>x=%{x}<br>y=%{y}<br>text=%{text}<extra></extra>",
         "legendgroup": "cluster_3",
         "marker": {
          "color": "#1CA71C",
          "symbol": "circle"
         },
         "mode": "markers+text",
         "name": "cluster_3",
         "orientation": "v",
         "showlegend": true,
         "text": [
          "MongoDB",
          "Express",
          "Gatsby",
          "Next.js",
          "Node.js",
          "React.js",
          "Yarn"
         ],
         "x": [
          22.060413360595703,
          22.50506019592285,
          19.55803680419922,
          21.26889991760254,
          24.410640716552734,
          24.139490127563477,
          21.58968734741211
         ],
         "xaxis": "x",
         "y": [
          -3.3177404403686523,
          -2.201878309249878,
          0.024170542135834694,
          -6.434086244553328E-4,
          -1.5055137872695923,
          0.29852360486984253,
          1.196810245513916
         ],
         "yaxis": "y",
         "type": "scatter",
         "textposition": "top center"
        },
        {
         "hovertemplate": "color=cluster_4<br>x=%{x}<br>y=%{y}<br>text=%{text}<extra></extra>",
         "legendgroup": "cluster_4",
         "marker": {
          "color": "#FB0D0D",
          "symbol": "circle"
         },
         "mode": "markers+text",
         "name": "cluster_4",
         "orientation": "v",
         "showlegend": true,
         "text": [
          "Neo4j",
          "Django",
          "React Native",
          "Flow",
          "Atom",
          "Sublime Text",
          "Webstorm"
         ],
         "x": [
          3.5581090450286865,
          1.2653489112854004,
          5.956007957458496,
          4.759139537811279,
          2.448457717895508,
          1.191676378250122,
          3.9013760089874268
         ],
         "xaxis": "x",
         "y": [
          -6.972071170806885,
          -3.0861291885375977,
          -2.2883219718933105,
          -2.368199586868286,
          -1.8097494840621948,
          -5.3045125007629395,
          -4.0425705909729
         ],
         "yaxis": "y",
         "type": "scatter",
         "textposition": "top center"
        },
        {
         "hovertemplate": "color=cluster_12<br>x=%{x}<br>y=%{y}<br>text=%{text}<extra></extra>",
         "legendgroup": "cluster_12",
         "marker": {
          "color": "#DA16FF",
          "symbol": "circle"
         },
         "mode": "markers+text",
         "name": "cluster_12",
         "orientation": "v",
         "showlegend": true,
         "text": [
          "Angular",
          "Capacitor",
          "Cordova",
          "Ionic"
         ],
         "x": [
          13.058012962341309,
          13.555055618286133,
          14.297109603881836,
          13.949739456176758
         ],
         "xaxis": "x",
         "y": [
          8.774861335754395,
          5.747864723205566,
          4.915241718292236,
          6.905653476715088
         ],
         "yaxis": "y",
         "type": "scatter",
         "textposition": "top center"
        },
        {
         "hovertemplate": "color=cluster_25<br>x=%{x}<br>y=%{y}<br>text=%{text}<extra></extra>",
         "legendgroup": "cluster_25",
         "marker": {
          "color": "#222A2A",
          "symbol": "circle"
         },
         "mode": "markers+text",
         "name": "cluster_25",
         "orientation": "v",
         "showlegend": true,
         "text": [
          "Angular.js",
          "Drupal",
          "jQuery"
         ],
         "x": [
          11.366365432739258,
          7.096499443054199,
          10.453730583190918
         ],
         "xaxis": "x",
         "y": [
          9.539999008178711,
          10.014887809753418,
          10.47541332244873
         ],
         "yaxis": "y",
         "type": "scatter",
         "textposition": "top center"
        },
        {
         "hovertemplate": "color=cluster_23<br>x=%{x}<br>y=%{y}<br>text=%{text}<extra></extra>",
         "legendgroup": "cluster_23",
         "marker": {
          "color": "#B68100",
          "symbol": "circle"
         },
         "mode": "markers+text",
         "name": "cluster_23",
         "orientation": "v",
         "showlegend": true,
         "text": [
          "FastAPI",
          "CLion",
          "PyCharm",
          "Spyder"
         ],
         "x": [
          -4.036143779754639,
          -7.470590591430664,
          -6.795475482940674,
          -4.874481678009033
         ],
         "xaxis": "x",
         "y": [
          -7.979312896728516,
          -10.205032348632812,
          -11.915149688720703,
          -11.675086975097656
         ],
         "yaxis": "y",
         "type": "scatter",
         "textposition": "top center"
        },
        {
         "hovertemplate": "color=cluster_9<br>x=%{x}<br>y=%{y}<br>text=%{text}<extra></extra>",
         "legendgroup": "cluster_9",
         "marker": {
          "color": "#750D86",
          "symbol": "circle"
         },
         "mode": "markers+text",
         "name": "cluster_9",
         "orientation": "v",
         "showlegend": true,
         "text": [
          "Flask",
          "Hugging Face Transformers",
          "Keras",
          "Scikit-learn",
          "TensorFlow",
          "Torch/PyTorch",
          "IPython/Jupyter"
         ],
         "x": [
          -7.660822868347168,
          -8.773957252502441,
          -9.046578407287598,
          -10.627970695495605,
          -8.408617973327637,
          -9.953433990478516,
          -11.821680068969727
         ],
         "xaxis": "x",
         "y": [
          -16.95809555053711,
          -18.28375816345215,
          -20.086217880249023,
          -20.62631607055664,
          -21.092147827148438,
          -18.491872787475586,
          -20.705934524536133
         ],
         "yaxis": "y",
         "type": "scatter",
         "textposition": "top center"
        },
        {
         "hovertemplate": "color=cluster_33<br>x=%{x}<br>y=%{y}<br>text=%{text}<extra></extra>",
         "legendgroup": "cluster_33",
         "marker": {
          "color": "#EB663B",
          "symbol": "circle"
         },
         "mode": "markers+text",
         "name": "cluster_33",
         "orientation": "v",
         "showlegend": true,
         "text": [
          "Apache Kafka",
          "Apache Spark",
          "Hadoop"
         ],
         "x": [
          1.710024118423462,
          0.7996635437011719,
          0.5263592600822449
         ],
         "xaxis": "x",
         "y": [
          -14.838229179382324,
          -13.813501358032227,
          -12.827691078186035
         ],
         "yaxis": "y",
         "type": "scatter",
         "textposition": "top center"
        },
        {
         "hovertemplate": "color=cluster_7<br>x=%{x}<br>y=%{y}<br>text=%{text}<extra></extra>",
         "legendgroup": "cluster_7",
         "marker": {
          "color": "#511CFB",
          "symbol": "circle"
         },
         "mode": "markers+text",
         "name": "cluster_7",
         "orientation": "v",
         "showlegend": true,
         "text": [
          "Unity 3D",
          "Unreal Engine"
         ],
         "x": [
          -6.512578964233398,
          -5.995851516723633
         ],
         "xaxis": "x",
         "y": [
          11.973154067993164,
          11.131407737731934
         ],
         "yaxis": "y",
         "type": "scatter",
         "textposition": "top center"
        },
        {
         "hovertemplate": "color=cluster_14<br>x=%{x}<br>y=%{y}<br>text=%{text}<extra></extra>",
         "legendgroup": "cluster_14",
         "marker": {
          "color": "#00A08B",
          "symbol": "circle"
         },
         "mode": "markers+text",
         "name": "cluster_14",
         "orientation": "v",
         "showlegend": true,
         "text": [
          "Eclipse",
          "NetBeans",
          "Notepad++"
         ],
         "x": [
          -3.395582914352417,
          -3.212360143661499,
          -3.3942208290100098
         ],
         "xaxis": "x",
         "y": [
          18.023208618164062,
          16.818634033203125,
          19.164236068725586
         ],
         "yaxis": "y",
         "type": "scatter",
         "textposition": "top center"
        }
       ],
       "layout": {
        "template": {
         "data": {
          "histogram2dcontour": [
           {
            "type": "histogram2dcontour",
            "colorbar": {
             "outlinewidth": 0,
             "ticks": ""
            },
            "colorscale": [
             [
              0.0,
              "#0d0887"
             ],
             [
              0.1111111111111111,
              "#46039f"
             ],
             [
              0.2222222222222222,
              "#7201a8"
             ],
             [
              0.3333333333333333,
              "#9c179e"
             ],
             [
              0.4444444444444444,
              "#bd3786"
             ],
             [
              0.5555555555555556,
              "#d8576b"
             ],
             [
              0.6666666666666666,
              "#ed7953"
             ],
             [
              0.7777777777777778,
              "#fb9f3a"
             ],
             [
              0.8888888888888888,
              "#fdca26"
             ],
             [
              1.0,
              "#f0f921"
             ]
            ]
           }
          ],
          "choropleth": [
           {
            "type": "choropleth",
            "colorbar": {
             "outlinewidth": 0,
             "ticks": ""
            }
           }
          ],
          "histogram2d": [
           {
            "type": "histogram2d",
            "colorbar": {
             "outlinewidth": 0,
             "ticks": ""
            },
            "colorscale": [
             [
              0.0,
              "#0d0887"
             ],
             [
              0.1111111111111111,
              "#46039f"
             ],
             [
              0.2222222222222222,
              "#7201a8"
             ],
             [
              0.3333333333333333,
              "#9c179e"
             ],
             [
              0.4444444444444444,
              "#bd3786"
             ],
             [
              0.5555555555555556,
              "#d8576b"
             ],
             [
              0.6666666666666666,
              "#ed7953"
             ],
             [
              0.7777777777777778,
              "#fb9f3a"
             ],
             [
              0.8888888888888888,
              "#fdca26"
             ],
             [
              1.0,
              "#f0f921"
             ]
            ]
           }
          ],
          "heatmap": [
           {
            "type": "heatmap",
            "colorbar": {
             "outlinewidth": 0,
             "ticks": ""
            },
            "colorscale": [
             [
              0.0,
              "#0d0887"
             ],
             [
              0.1111111111111111,
              "#46039f"
             ],
             [
              0.2222222222222222,
              "#7201a8"
             ],
             [
              0.3333333333333333,
              "#9c179e"
             ],
             [
              0.4444444444444444,
              "#bd3786"
             ],
             [
              0.5555555555555556,
              "#d8576b"
             ],
             [
              0.6666666666666666,
              "#ed7953"
             ],
             [
              0.7777777777777778,
              "#fb9f3a"
             ],
             [
              0.8888888888888888,
              "#fdca26"
             ],
             [
              1.0,
              "#f0f921"
             ]
            ]
           }
          ],
          "heatmapgl": [
           {
            "type": "heatmapgl",
            "colorbar": {
             "outlinewidth": 0,
             "ticks": ""
            },
            "colorscale": [
             [
              0.0,
              "#0d0887"
             ],
             [
              0.1111111111111111,
              "#46039f"
             ],
             [
              0.2222222222222222,
              "#7201a8"
             ],
             [
              0.3333333333333333,
              "#9c179e"
             ],
             [
              0.4444444444444444,
              "#bd3786"
             ],
             [
              0.5555555555555556,
              "#d8576b"
             ],
             [
              0.6666666666666666,
              "#ed7953"
             ],
             [
              0.7777777777777778,
              "#fb9f3a"
             ],
             [
              0.8888888888888888,
              "#fdca26"
             ],
             [
              1.0,
              "#f0f921"
             ]
            ]
           }
          ],
          "contourcarpet": [
           {
            "type": "contourcarpet",
            "colorbar": {
             "outlinewidth": 0,
             "ticks": ""
            }
           }
          ],
          "contour": [
           {
            "type": "contour",
            "colorbar": {
             "outlinewidth": 0,
             "ticks": ""
            },
            "colorscale": [
             [
              0.0,
              "#0d0887"
             ],
             [
              0.1111111111111111,
              "#46039f"
             ],
             [
              0.2222222222222222,
              "#7201a8"
             ],
             [
              0.3333333333333333,
              "#9c179e"
             ],
             [
              0.4444444444444444,
              "#bd3786"
             ],
             [
              0.5555555555555556,
              "#d8576b"
             ],
             [
              0.6666666666666666,
              "#ed7953"
             ],
             [
              0.7777777777777778,
              "#fb9f3a"
             ],
             [
              0.8888888888888888,
              "#fdca26"
             ],
             [
              1.0,
              "#f0f921"
             ]
            ]
           }
          ],
          "surface": [
           {
            "type": "surface",
            "colorbar": {
             "outlinewidth": 0,
             "ticks": ""
            },
            "colorscale": [
             [
              0.0,
              "#0d0887"
             ],
             [
              0.1111111111111111,
              "#46039f"
             ],
             [
              0.2222222222222222,
              "#7201a8"
             ],
             [
              0.3333333333333333,
              "#9c179e"
             ],
             [
              0.4444444444444444,
              "#bd3786"
             ],
             [
              0.5555555555555556,
              "#d8576b"
             ],
             [
              0.6666666666666666,
              "#ed7953"
             ],
             [
              0.7777777777777778,
              "#fb9f3a"
             ],
             [
              0.8888888888888888,
              "#fdca26"
             ],
             [
              1.0,
              "#f0f921"
             ]
            ]
           }
          ],
          "mesh3d": [
           {
            "type": "mesh3d",
            "colorbar": {
             "outlinewidth": 0,
             "ticks": ""
            }
           }
          ],
          "scatter": [
           {
            "marker": {
             "line": {
              "color": "#283442"
             }
            },
            "type": "scatter"
           }
          ],
          "parcoords": [
           {
            "type": "parcoords",
            "line": {
             "colorbar": {
              "outlinewidth": 0,
              "ticks": ""
             }
            }
           }
          ],
          "scatterpolargl": [
           {
            "type": "scatterpolargl",
            "marker": {
             "colorbar": {
              "outlinewidth": 0,
              "ticks": ""
             }
            }
           }
          ],
          "bar": [
           {
            "error_x": {
             "color": "#f2f5fa"
            },
            "error_y": {
             "color": "#f2f5fa"
            },
            "marker": {
             "line": {
              "color": "rgb(17,17,17)",
              "width": 0.5
             },
             "pattern": {
              "fillmode": "overlay",
              "size": 10,
              "solidity": 0.2
             }
            },
            "type": "bar"
           }
          ],
          "scattergeo": [
           {
            "type": "scattergeo",
            "marker": {
             "colorbar": {
              "outlinewidth": 0,
              "ticks": ""
             }
            }
           }
          ],
          "scatterpolar": [
           {
            "type": "scatterpolar",
            "marker": {
             "colorbar": {
              "outlinewidth": 0,
              "ticks": ""
             }
            }
           }
          ],
          "histogram": [
           {
            "marker": {
             "pattern": {
              "fillmode": "overlay",
              "size": 10,
              "solidity": 0.2
             }
            },
            "type": "histogram"
           }
          ],
          "scattergl": [
           {
            "marker": {
             "line": {
              "color": "#283442"
             }
            },
            "type": "scattergl"
           }
          ],
          "scatter3d": [
           {
            "type": "scatter3d",
            "line": {
             "colorbar": {
              "outlinewidth": 0,
              "ticks": ""
             }
            },
            "marker": {
             "colorbar": {
              "outlinewidth": 0,
              "ticks": ""
             }
            }
           }
          ],
          "scattermapbox": [
           {
            "type": "scattermapbox",
            "marker": {
             "colorbar": {
              "outlinewidth": 0,
              "ticks": ""
             }
            }
           }
          ],
          "scatterternary": [
           {
            "type": "scatterternary",
            "marker": {
             "colorbar": {
              "outlinewidth": 0,
              "ticks": ""
             }
            }
           }
          ],
          "scattercarpet": [
           {
            "type": "scattercarpet",
            "marker": {
             "colorbar": {
              "outlinewidth": 0,
              "ticks": ""
             }
            }
           }
          ],
          "carpet": [
           {
            "aaxis": {
             "endlinecolor": "#A2B1C6",
             "gridcolor": "#506784",
             "linecolor": "#506784",
             "minorgridcolor": "#506784",
             "startlinecolor": "#A2B1C6"
            },
            "baxis": {
             "endlinecolor": "#A2B1C6",
             "gridcolor": "#506784",
             "linecolor": "#506784",
             "minorgridcolor": "#506784",
             "startlinecolor": "#A2B1C6"
            },
            "type": "carpet"
           }
          ],
          "table": [
           {
            "cells": {
             "fill": {
              "color": "#506784"
             },
             "line": {
              "color": "rgb(17,17,17)"
             }
            },
            "header": {
             "fill": {
              "color": "#2a3f5f"
             },
             "line": {
              "color": "rgb(17,17,17)"
             }
            },
            "type": "table"
           }
          ],
          "barpolar": [
           {
            "marker": {
             "line": {
              "color": "rgb(17,17,17)",
              "width": 0.5
             },
             "pattern": {
              "fillmode": "overlay",
              "size": 10,
              "solidity": 0.2
             }
            },
            "type": "barpolar"
           }
          ],
          "pie": [
           {
            "automargin": true,
            "type": "pie"
           }
          ]
         },
         "layout": {
          "autotypenumbers": "strict",
          "colorway": [
           "#636efa",
           "#EF553B",
           "#00cc96",
           "#ab63fa",
           "#FFA15A",
           "#19d3f3",
           "#FF6692",
           "#B6E880",
           "#FF97FF",
           "#FECB52"
          ],
          "font": {
           "color": "#f2f5fa"
          },
          "hovermode": "closest",
          "hoverlabel": {
           "align": "left"
          },
          "paper_bgcolor": "rgb(17,17,17)",
          "plot_bgcolor": "rgb(17,17,17)",
          "polar": {
           "bgcolor": "rgb(17,17,17)",
           "angularaxis": {
            "gridcolor": "#506784",
            "linecolor": "#506784",
            "ticks": ""
           },
           "radialaxis": {
            "gridcolor": "#506784",
            "linecolor": "#506784",
            "ticks": ""
           }
          },
          "ternary": {
           "bgcolor": "rgb(17,17,17)",
           "aaxis": {
            "gridcolor": "#506784",
            "linecolor": "#506784",
            "ticks": ""
           },
           "baxis": {
            "gridcolor": "#506784",
            "linecolor": "#506784",
            "ticks": ""
           },
           "caxis": {
            "gridcolor": "#506784",
            "linecolor": "#506784",
            "ticks": ""
           }
          },
          "coloraxis": {
           "colorbar": {
            "outlinewidth": 0,
            "ticks": ""
           }
          },
          "colorscale": {
           "sequential": [
            [
             0.0,
             "#0d0887"
            ],
            [
             0.1111111111111111,
             "#46039f"
            ],
            [
             0.2222222222222222,
             "#7201a8"
            ],
            [
             0.3333333333333333,
             "#9c179e"
            ],
            [
             0.4444444444444444,
             "#bd3786"
            ],
            [
             0.5555555555555556,
             "#d8576b"
            ],
            [
             0.6666666666666666,
             "#ed7953"
            ],
            [
             0.7777777777777778,
             "#fb9f3a"
            ],
            [
             0.8888888888888888,
             "#fdca26"
            ],
            [
             1.0,
             "#f0f921"
            ]
           ],
           "sequentialminus": [
            [
             0.0,
             "#0d0887"
            ],
            [
             0.1111111111111111,
             "#46039f"
            ],
            [
             0.2222222222222222,
             "#7201a8"
            ],
            [
             0.3333333333333333,
             "#9c179e"
            ],
            [
             0.4444444444444444,
             "#bd3786"
            ],
            [
             0.5555555555555556,
             "#d8576b"
            ],
            [
             0.6666666666666666,
             "#ed7953"
            ],
            [
             0.7777777777777778,
             "#fb9f3a"
            ],
            [
             0.8888888888888888,
             "#fdca26"
            ],
            [
             1.0,
             "#f0f921"
            ]
           ],
           "diverging": [
            [
             0,
             "#8e0152"
            ],
            [
             0.1,
             "#c51b7d"
            ],
            [
             0.2,
             "#de77ae"
            ],
            [
             0.3,
             "#f1b6da"
            ],
            [
             0.4,
             "#fde0ef"
            ],
            [
             0.5,
             "#f7f7f7"
            ],
            [
             0.6,
             "#e6f5d0"
            ],
            [
             0.7,
             "#b8e186"
            ],
            [
             0.8,
             "#7fbc41"
            ],
            [
             0.9,
             "#4d9221"
            ],
            [
             1,
             "#276419"
            ]
           ]
          },
          "xaxis": {
           "gridcolor": "#283442",
           "linecolor": "#506784",
           "ticks": "",
           "title": {
            "standoff": 15
           },
           "zerolinecolor": "#283442",
           "automargin": true,
           "zerolinewidth": 2
          },
          "yaxis": {
           "gridcolor": "#283442",
           "linecolor": "#506784",
           "ticks": "",
           "title": {
            "standoff": 15
           },
           "zerolinecolor": "#283442",
           "automargin": true,
           "zerolinewidth": 2
          },
          "scene": {
           "xaxis": {
            "backgroundcolor": "rgb(17,17,17)",
            "gridcolor": "#506784",
            "linecolor": "#506784",
            "showbackground": true,
            "ticks": "",
            "zerolinecolor": "#C8D4E3",
            "gridwidth": 2
           },
           "yaxis": {
            "backgroundcolor": "rgb(17,17,17)",
            "gridcolor": "#506784",
            "linecolor": "#506784",
            "showbackground": true,
            "ticks": "",
            "zerolinecolor": "#C8D4E3",
            "gridwidth": 2
           },
           "zaxis": {
            "backgroundcolor": "rgb(17,17,17)",
            "gridcolor": "#506784",
            "linecolor": "#506784",
            "showbackground": true,
            "ticks": "",
            "zerolinecolor": "#C8D4E3",
            "gridwidth": 2
           }
          },
          "shapedefaults": {
           "line": {
            "color": "#f2f5fa"
           }
          },
          "annotationdefaults": {
           "arrowcolor": "#f2f5fa",
           "arrowhead": 0,
           "arrowwidth": 1
          },
          "geo": {
           "bgcolor": "rgb(17,17,17)",
           "landcolor": "rgb(17,17,17)",
           "subunitcolor": "#506784",
           "showland": true,
           "showlakes": true,
           "lakecolor": "rgb(17,17,17)"
          },
          "title": {
           "x": 0.05
          },
          "updatemenudefaults": {
           "bgcolor": "#506784",
           "borderwidth": 0
          },
          "sliderdefaults": {
           "bgcolor": "#C8D4E3",
           "borderwidth": 1,
           "bordercolor": "rgb(17,17,17)",
           "tickwidth": 0
          },
          "mapbox": {
           "style": "dark"
          }
         }
        },
        "xaxis": {
         "anchor": "y",
         "domain": [
          0.0,
          1.0
         ],
         "title": {
          "text": "x"
         }
        },
        "yaxis": {
         "anchor": "x",
         "domain": [
          0.0,
          1.0
         ],
         "title": {
          "text": "y"
         }
        },
        "legend": {
         "title": {
          "text": "color"
         },
         "tracegroupgap": 0
        },
        "margin": {
         "t": 60
        },
        "title": {
         "text": "Clustering top skills for All roles"
        },
        "height": 900,
        "width": 1500
       },
       "config": {
        "plotlyServerURL": "https://plot.ly"
       }
      },
      "text/html": "<div>                            <div id=\"27db2a13-da86-4ce5-9c67-9631fb69e6b6\" class=\"plotly-graph-div\" style=\"height:900px; width:1500px;\"></div>            <script type=\"text/javascript\">                require([\"plotly\"], function(Plotly) {                    window.PLOTLYENV=window.PLOTLYENV || {};                                    if (document.getElementById(\"27db2a13-da86-4ce5-9c67-9631fb69e6b6\")) {                    Plotly.newPlot(                        \"27db2a13-da86-4ce5-9c67-9631fb69e6b6\",                        [{\"hovertemplate\":\"color=cluster_10<br>x=%{x}<br>y=%{y}<br>text=%{text}<extra></extra>\",\"legendgroup\":\"cluster_10\",\"marker\":{\"color\":\"#2E91E5\",\"symbol\":\"circle\"},\"mode\":\"markers+text\",\"name\":\"cluster_10\",\"orientation\":\"v\",\"showlegend\":true,\"text\":[\"APL\",\"COBOL\",\"Crystal\",\"SAS\",\"Solidity\",\"Couchbase\",\"IBM DB2\",\"Colocation\",\"IBM Cloud or Watson\",\"Managed Hosting\",\"TextMate\"],\"x\":[-0.4308317005634308,-1.1162960529327393,-0.06916714459657669,0.8376231789588928,1.4025965929031372,0.7401856780052185,-2.516528844833374,-2.207148313522339,-0.765444815158844,-1.313947319984436,-0.7865938544273376],\"xaxis\":\"x\",\"y\":[-0.3261200785636902,0.8465315103530884,0.6770696043968201,-1.5293399095535278,-0.1549493968486786,1.637681245803833,1.1716644763946533,-0.7009968757629395,-3.7938830852508545,2.408406972885132,-1.9536253213882446],\"yaxis\":\"y\",\"type\":\"scatter\",\"textposition\":\"top center\"},{\"hovertemplate\":\"color=cluster_26<br>x=%{x}<br>y=%{y}<br>text=%{text}<extra></extra>\",\"legendgroup\":\"cluster_26\",\"marker\":{\"color\":\"#E15F99\",\"symbol\":\"circle\"},\"mode\":\"markers+text\",\"name\":\"cluster_26\",\"orientation\":\"v\",\"showlegend\":true,\"text\":[\"Assembly\",\"Bash/Shell\",\"C\",\"C++\",\"Ansible\"],\"x\":[-13.60672378540039,-12.423418045043945,-14.874905586242676,-15.840081214904785,-9.7260103225708],\"xaxis\":\"x\",\"y\":[-3.885774612426758,-5.079362869262695,-3.251321315765381,-2.700448751449585,-5.738736152648926],\"yaxis\":\"y\",\"type\":\"scatter\",\"textposition\":\"top center\"},{\"hovertemplate\":\"color=cluster_8<br>x=%{x}<br>y=%{y}<br>text=%{text}<extra></extra>\",\"legendgroup\":\"cluster_8\",\"marker\":{\"color\":\"#1CA71C\",\"symbol\":\"circle\"},\"mode\":\"markers+text\",\"name\":\"cluster_8\",\"orientation\":\"v\",\"showlegend\":true,\"text\":[\"C#\",\"SQL\",\"Microsoft SQL Server\",\"Microsoft Azure\",\"ASP.NET\",\"ASP.NET Core \",\"Blazor\",\".NET\",\"Visual Studio\"],\"x\":[7.693231105804443,9.297322273254395,7.7050299644470215,4.725220680236816,5.327042102813721,6.245046615600586,4.4702558517456055,7.396694660186768,8.231858253479004],\"xaxis\":\"x\",\"y\":[28.222902297973633,23.824350357055664,25.46272850036621,26.701902389526367,24.8080997467041,26.398300170898438,23.80072021484375,27.765058517456055,29.08475112915039],\"yaxis\":\"y\",\"type\":\"scatter\",\"textposition\":\"top center\"},{\"hovertemplate\":\"color=cluster_28<br>x=%{x}<br>y=%{y}<br>text=%{text}<extra></extra>\",\"legendgroup\":\"cluster_28\",\"marker\":{\"color\":\"#FB0D0D\",\"symbol\":\"circle\"},\"mode\":\"markers+text\",\"name\":\"cluster_28\",\"orientation\":\"v\",\"showlegend\":true,\"text\":[\"Clojure\",\"Haskell\",\"Lua\",\"OCaml\",\"VBA\",\"Neovim\"],\"x\":[-6.4714460372924805,-8.197070121765137,-3.987722158432007,-6.925344944000244,-3.8193790912628174,-6.860731601715088],\"xaxis\":\"x\",\"y\":[7.194772720336914,2.5610828399658203,2.8390331268310547,3.1240029335021973,5.1643524169921875,4.500960350036621],\"yaxis\":\"y\",\"type\":\"scatter\",\"textposition\":\"top center\"},{\"hovertemplate\":\"color=cluster_5<br>x=%{x}<br>y=%{y}<br>text=%{text}<extra></extra>\",\"legendgroup\":\"cluster_5\",\"marker\":{\"color\":\"#DA16FF\",\"symbol\":\"circle\"},\"mode\":\"markers+text\",\"name\":\"cluster_5\",\"orientation\":\"v\",\"showlegend\":true,\"text\":[\"Dart\",\"Kotlin\",\"Flutter\",\"Android Studio\"],\"x\":[-21.101123809814453,-17.610454559326172,-21.162696838378906,-19.38941764831543],\"xaxis\":\"x\",\"y\":[9.618691444396973,7.367590427398682,9.657819747924805,8.588334083557129],\"yaxis\":\"y\",\"type\":\"scatter\",\"textposition\":\"top center\"},{\"hovertemplate\":\"color=cluster_18<br>x=%{x}<br>y=%{y}<br>text=%{text}<extra></extra>\",\"legendgroup\":\"cluster_18\",\"marker\":{\"color\":\"#222A2A\",\"symbol\":\"circle\"},\"mode\":\"markers+text\",\"name\":\"cluster_18\",\"orientation\":\"v\",\"showlegend\":true,\"text\":[\"Delphi\",\"RAD Studio (Delphi_C++ Builder)\"],\"x\":[-12.049949645996094,-12.049864768981934],\"xaxis\":\"x\",\"y\":[25.167200088500977,25.16701316833496],\"yaxis\":\"y\",\"type\":\"scatter\",\"textposition\":\"top center\"},{\"hovertemplate\":\"color=cluster_20<br>x=%{x}<br>y=%{y}<br>text=%{text}<extra></extra>\",\"legendgroup\":\"cluster_20\",\"marker\":{\"color\":\"#B68100\",\"symbol\":\"circle\"},\"mode\":\"markers+text\",\"name\":\"cluster_20\",\"orientation\":\"v\",\"showlegend\":true,\"text\":[\"Elixir\",\"Phoenix\"],\"x\":[-27.66453742980957,-27.669788360595703],\"xaxis\":\"x\",\"y\":[3.514392852783203,3.5106396675109863],\"yaxis\":\"y\",\"type\":\"scatter\",\"textposition\":\"top center\"},{\"hovertemplate\":\"color=cluster_32<br>x=%{x}<br>y=%{y}<br>text=%{text}<extra></extra>\",\"legendgroup\":\"cluster_32\",\"marker\":{\"color\":\"#750D86\",\"symbol\":\"circle\"},\"mode\":\"markers+text\",\"name\":\"cluster_32\",\"orientation\":\"v\",\"showlegend\":true,\"text\":[\"Erlang\",\"Fortran\",\"Julia\",\"MATLAB\",\"OpenStack\",\"Chef\",\"Puppet\"],\"x\":[-7.174497604370117,-4.4018096923828125,-5.692002296447754,-4.903180122375488,-5.182624816894531,-8.546152114868164,-3.0594310760498047],\"xaxis\":\"x\",\"y\":[-2.2355785369873047,0.18903109431266785,0.7627832293510437,-1.1020866632461548,-4.643712043762207,-5.6992669105529785,-2.8757097721099854],\"yaxis\":\"y\",\"type\":\"scatter\",\"textposition\":\"top center\"},{\"hovertemplate\":\"color=cluster_30<br>x=%{x}<br>y=%{y}<br>text=%{text}<extra></extra>\",\"legendgroup\":\"cluster_30\",\"marker\":{\"color\":\"#EB663B\",\"symbol\":\"circle\"},\"mode\":\"markers+text\",\"name\":\"cluster_30\",\"orientation\":\"v\",\"showlegend\":true,\"text\":[\"F#\",\"SQLite\",\"Xamarin\",\"Rider\"],\"x\":[1.9669649600982666,0.16929365694522858,0.2716591954231262,2.7745814323425293],\"xaxis\":\"x\",\"y\":[8.722241401672363,13.29942512512207,12.268546104431152,9.55443286895752],\"yaxis\":\"y\",\"type\":\"scatter\",\"textposition\":\"top center\"},{\"hovertemplate\":\"color=cluster_19<br>x=%{x}<br>y=%{y}<br>text=%{text}<extra></extra>\",\"legendgroup\":\"cluster_19\",\"marker\":{\"color\":\"#511CFB\",\"symbol\":\"circle\"},\"mode\":\"markers+text\",\"name\":\"cluster_19\",\"orientation\":\"v\",\"showlegend\":true,\"text\":[\"Go\",\"GoLand\"],\"x\":[12.423029899597168,12.137470245361328],\"xaxis\":\"x\",\"y\":[-11.080028533935547,-10.138570785522461],\"yaxis\":\"y\",\"type\":\"scatter\",\"textposition\":\"top center\"},{\"hovertemplate\":\"color=cluster_13<br>x=%{x}<br>y=%{y}<br>text=%{text}<extra></extra>\",\"legendgroup\":\"cluster_13\",\"marker\":{\"color\":\"#00A08B\",\"symbol\":\"circle\"},\"mode\":\"markers+text\",\"name\":\"cluster_13\",\"orientation\":\"v\",\"showlegend\":true,\"text\":[\"Groovy\",\"Java\",\"Spring\",\"IntelliJ\"],\"x\":[-21.284170150756836,-24.502370834350586,-22.5087947845459,-24.99207305908203],\"xaxis\":\"x\",\"y\":[-5.658414840698242,-6.215354919433594,-5.902099609375,-6.320505619049072],\"yaxis\":\"y\",\"type\":\"scatter\",\"textposition\":\"top center\"},{\"hovertemplate\":\"color=cluster_31<br>x=%{x}<br>y=%{y}<br>text=%{text}<extra></extra>\",\"legendgroup\":\"cluster_31\",\"marker\":{\"color\":\"#FB00D1\",\"symbol\":\"circle\"},\"mode\":\"markers+text\",\"name\":\"cluster_31\",\"orientation\":\"v\",\"showlegend\":true,\"text\":[\"HTML/CSS\",\"JavaScript\",\"TypeScript\",\"npm\",\"Visual Studio Code\"],\"x\":[28.79012107849121,28.620281219482422,25.88104248046875,26.970897674560547,29.488265991210938],\"xaxis\":\"x\",\"y\":[0.5061779022216797,-0.1083449050784111,-0.05797562748193741,-0.47677454352378845,-1.2684587240219116],\"yaxis\":\"y\",\"type\":\"scatter\",\"textposition\":\"top center\"},{\"hovertemplate\":\"color=cluster_24<br>x=%{x}<br>y=%{y}<br>text=%{text}<extra></extra>\",\"legendgroup\":\"cluster_24\",\"marker\":{\"color\":\"#FC0080\",\"symbol\":\"circle\"},\"mode\":\"markers+text\",\"name\":\"cluster_24\",\"orientation\":\"v\",\"showlegend\":true,\"text\":[\"LISP\",\"Emacs\"],\"x\":[-10.230657577514648,-10.911482810974121],\"xaxis\":\"x\",\"y\":[5.8795485496521,6.648564338684082],\"yaxis\":\"y\",\"type\":\"scatter\",\"textposition\":\"top center\"},{\"hovertemplate\":\"color=cluster_16<br>x=%{x}<br>y=%{y}<br>text=%{text}<extra></extra>\",\"legendgroup\":\"cluster_16\",\"marker\":{\"color\":\"#B2828D\",\"symbol\":\"circle\"},\"mode\":\"markers+text\",\"name\":\"cluster_16\",\"orientation\":\"v\",\"showlegend\":true,\"text\":[\"Objective-C\",\"Swift\",\"Homebrew\",\"Xcode\"],\"x\":[-11.83996868133545,-12.75564193725586,-14.597932815551758,-13.687472343444824],\"xaxis\":\"x\",\"y\":[13.380206108093262,14.144078254699707,15.658202171325684,14.896283149719238],\"yaxis\":\"y\",\"type\":\"scatter\",\"textposition\":\"top center\"},{\"hovertemplate\":\"color=cluster_1<br>x=%{x}<br>y=%{y}<br>text=%{text}<extra></extra>\",\"legendgroup\":\"cluster_1\",\"marker\":{\"color\":\"#6C7C32\",\"symbol\":\"circle\"},\"mode\":\"markers+text\",\"name\":\"cluster_1\",\"orientation\":\"v\",\"showlegend\":true,\"text\":[\"PHP\",\"MariaDB\",\"MySQL\",\"Laravel\",\"Symfony\",\"PhpStorm\"],\"x\":[10.558156967163086,7.362832546234131,10.639135360717773,10.644865989685059,8.32690143585205,9.406167984008789],\"xaxis\":\"x\",\"y\":[17.979984283447266,14.026634216308594,19.216808319091797,16.585025787353516,14.753317832946777,15.805177688598633],\"yaxis\":\"y\",\"type\":\"scatter\",\"textposition\":\"top center\"},{\"hovertemplate\":\"color=cluster_2<br>x=%{x}<br>y=%{y}<br>text=%{text}<extra></extra>\",\"legendgroup\":\"cluster_2\",\"marker\":{\"color\":\"#778AAE\",\"symbol\":\"circle\"},\"mode\":\"markers+text\",\"name\":\"cluster_2\",\"orientation\":\"v\",\"showlegend\":true,\"text\":[\"Perl\",\"Qt\",\"Qt Creator\",\"Vim\"],\"x\":[-9.615130424499512,-15.453692436218262,-14.483734130859375,-10.619888305664062],\"xaxis\":\"x\",\"y\":[-0.37726902961730957,1.8523699045181274,1.9731109142303467,-0.18784452974796295],\"yaxis\":\"y\",\"type\":\"scatter\",\"textposition\":\"top center\"},{\"hovertemplate\":\"color=cluster_11<br>x=%{x}<br>y=%{y}<br>text=%{text}<extra></extra>\",\"legendgroup\":\"cluster_11\",\"marker\":{\"color\":\"#862A16\",\"symbol\":\"circle\"},\"mode\":\"markers+text\",\"name\":\"cluster_11\",\"orientation\":\"v\",\"showlegend\":true,\"text\":[\"PowerShell\",\"Oracle\",\"Oracle Cloud Infrastructure\",\"GTK\",\"Uno Platform\",\"Nano\"],\"x\":[0.7328709959983826,-2.843398332595825,-2.1911795139312744,-1.5853550434112549,0.7117155194282532,0.2792247533798218],\"xaxis\":\"x\",\"y\":[6.783952713012695,9.054341316223145,7.600224018096924,4.548117160797119,5.421765327453613,3.26528263092041],\"yaxis\":\"y\",\"type\":\"scatter\",\"textposition\":\"top center\"},{\"hovertemplate\":\"color=cluster_34<br>x=%{x}<br>y=%{y}<br>text=%{text}<extra></extra>\",\"legendgroup\":\"cluster_34\",\"marker\":{\"color\":\"#A777F1\",\"symbol\":\"circle\"},\"mode\":\"markers+text\",\"name\":\"cluster_34\",\"orientation\":\"v\",\"showlegend\":true,\"text\":[\"Python\",\"NumPy\",\"Pandas\"],\"x\":[-12.813325881958008,-12.172332763671875,-12.04679012298584],\"xaxis\":\"x\",\"y\":[-26.036357879638672,-24.754077911376953,-24.488821029663086],\"yaxis\":\"y\",\"type\":\"scatter\",\"textposition\":\"top center\"},{\"hovertemplate\":\"color=cluster_6<br>x=%{x}<br>y=%{y}<br>text=%{text}<extra></extra>\",\"legendgroup\":\"cluster_6\",\"marker\":{\"color\":\"#620042\",\"symbol\":\"circle\"},\"mode\":\"markers+text\",\"name\":\"cluster_6\",\"orientation\":\"v\",\"showlegend\":true,\"text\":[\"R\",\"Tidyverse\",\"RStudio\"],\"x\":[-15.988601684570312,-14.234537124633789,-15.31876277923584],\"xaxis\":\"x\",\"y\":[-12.999773979187012,-12.03986930847168,-12.662479400634766],\"yaxis\":\"y\",\"type\":\"scatter\",\"textposition\":\"top center\"},{\"hovertemplate\":\"color=cluster_22<br>x=%{x}<br>y=%{y}<br>text=%{text}<extra></extra>\",\"legendgroup\":\"cluster_22\",\"marker\":{\"color\":\"#1616A7\",\"symbol\":\"circle\"},\"mode\":\"markers+text\",\"name\":\"cluster_22\",\"orientation\":\"v\",\"showlegend\":true,\"text\":[\"Ruby\",\"Ruby on Rails\"],\"x\":[1.7226545810699463,1.7254453897476196],\"xaxis\":\"x\",\"y\":[-26.68840217590332,-26.67758560180664],\"yaxis\":\"y\",\"type\":\"scatter\",\"textposition\":\"top center\"},{\"hovertemplate\":\"color=cluster_15<br>x=%{x}<br>y=%{y}<br>text=%{text}<extra></extra>\",\"legendgroup\":\"cluster_15\",\"marker\":{\"color\":\"#DA60CA\",\"symbol\":\"circle\"},\"mode\":\"markers+text\",\"name\":\"cluster_15\",\"orientation\":\"v\",\"showlegend\":true,\"text\":[\"Rust\",\"Deno\",\"Nuxt.js\",\"Svelte\",\"Vue.js\"],\"x\":[16.582042694091797,16.146638870239258,10.793299674987793,13.374524116516113,11.774068832397461],\"xaxis\":\"x\",\"y\":[-4.691850662231445,-3.6477839946746826,0.32548707723617554,-3.132187604904175,0.44319480657577515],\"yaxis\":\"y\",\"type\":\"scatter\",\"textposition\":\"top center\"},{\"hovertemplate\":\"color=cluster_17<br>x=%{x}<br>y=%{y}<br>text=%{text}<extra></extra>\",\"legendgroup\":\"cluster_17\",\"marker\":{\"color\":\"#6C4516\",\"symbol\":\"circle\"},\"mode\":\"markers+text\",\"name\":\"cluster_17\",\"orientation\":\"v\",\"showlegend\":true,\"text\":[\"Scala\",\"Play Framework\",\"RubyMine\"],\"x\":[0.173823744058609,0.292226642370224,-2.2645318508148193],\"xaxis\":\"x\",\"y\":[-9.148914337158203,-8.11154842376709,-5.6584930419921875],\"yaxis\":\"y\",\"type\":\"scatter\",\"textposition\":\"top center\"},{\"hovertemplate\":\"color=cluster_0<br>x=%{x}<br>y=%{y}<br>text=%{text}<extra></extra>\",\"legendgroup\":\"cluster_0\",\"marker\":{\"color\":\"#0D2A63\",\"symbol\":\"circle\"},\"mode\":\"markers+text\",\"name\":\"cluster_0\",\"orientation\":\"v\",\"showlegend\":true,\"text\":[\"Cassandra\",\"Elasticsearch\",\"PostgreSQL\",\"Redis\"],\"x\":[3.436136484146118,4.482946872711182,7.427520751953125,5.893758773803711],\"xaxis\":\"x\",\"y\":[-17.84090232849121,-18.62083625793457,-18.650461196899414,-18.99951171875],\"yaxis\":\"y\",\"type\":\"scatter\",\"textposition\":\"top center\"},{\"hovertemplate\":\"color=cluster_27<br>x=%{x}<br>y=%{y}<br>text=%{text}<extra></extra>\",\"legendgroup\":\"cluster_27\",\"marker\":{\"color\":\"#AF0038\",\"symbol\":\"circle\"},\"mode\":\"markers+text\",\"name\":\"cluster_27\",\"orientation\":\"v\",\"showlegend\":true,\"text\":[\"Cloud Firestore\",\"Firebase Realtime Database\",\"Firebase\",\"Google Cloud\"],\"x\":[7.567607879638672,7.943944931030273,8.847973823547363,7.602097511291504],\"xaxis\":\"x\",\"y\":[-6.630617618560791,-3.8182833194732666,-5.082574844360352,-7.75646448135376],\"yaxis\":\"y\",\"type\":\"scatter\",\"textposition\":\"top center\"},{\"hovertemplate\":\"color=cluster_21<br>x=%{x}<br>y=%{y}<br>text=%{text}<extra></extra>\",\"legendgroup\":\"cluster_21\",\"marker\":{\"color\":\"#2E91E5\",\"symbol\":\"circle\"},\"mode\":\"markers+text\",\"name\":\"cluster_21\",\"orientation\":\"v\",\"showlegend\":true,\"text\":[\"CouchDB\",\"DigitalOcean\",\"Heroku\",\"Linode\",\"OVH\",\"VMware\",\"Fastify\",\"Electron\"],\"x\":[4.9446234703063965,6.796069622039795,4.119922637939453,2.537468433380127,3.5405287742614746,2.5594325065612793,8.352635383605957,6.217017650604248],\"xaxis\":\"x\",\"y\":[2.543700933456421,0.3226066529750824,-0.16881631314754486,1.3208290338516235,5.57252836227417,3.4060349464416504,3.1261677742004395,5.571504592895508],\"yaxis\":\"y\",\"type\":\"scatter\",\"textposition\":\"top center\"},{\"hovertemplate\":\"color=cluster_29<br>x=%{x}<br>y=%{y}<br>text=%{text}<extra></extra>\",\"legendgroup\":\"cluster_29\",\"marker\":{\"color\":\"#E15F99\",\"symbol\":\"circle\"},\"mode\":\"markers+text\",\"name\":\"cluster_29\",\"orientation\":\"v\",\"showlegend\":true,\"text\":[\"DynamoDB\",\"AWS\",\"Docker\",\"Kubernetes\",\"Pulumi\",\"Terraform\"],\"x\":[11.892292022705078,10.769088745117188,8.40843677520752,7.634838581085205,6.797391891479492,7.209696292877197],\"xaxis\":\"x\",\"y\":[-16.64676856994629,-17.323509216308594,-17.138446807861328,-15.36410903930664,-12.208755493164062,-13.647343635559082],\"yaxis\":\"y\",\"type\":\"scatter\",\"textposition\":\"top center\"},{\"hovertemplate\":\"color=cluster_3<br>x=%{x}<br>y=%{y}<br>text=%{text}<extra></extra>\",\"legendgroup\":\"cluster_3\",\"marker\":{\"color\":\"#1CA71C\",\"symbol\":\"circle\"},\"mode\":\"markers+text\",\"name\":\"cluster_3\",\"orientation\":\"v\",\"showlegend\":true,\"text\":[\"MongoDB\",\"Express\",\"Gatsby\",\"Next.js\",\"Node.js\",\"React.js\",\"Yarn\"],\"x\":[22.060413360595703,22.50506019592285,19.55803680419922,21.26889991760254,24.410640716552734,24.139490127563477,21.58968734741211],\"xaxis\":\"x\",\"y\":[-3.3177404403686523,-2.201878309249878,0.024170542135834694,-0.0006434086244553328,-1.5055137872695923,0.29852360486984253,1.196810245513916],\"yaxis\":\"y\",\"type\":\"scatter\",\"textposition\":\"top center\"},{\"hovertemplate\":\"color=cluster_4<br>x=%{x}<br>y=%{y}<br>text=%{text}<extra></extra>\",\"legendgroup\":\"cluster_4\",\"marker\":{\"color\":\"#FB0D0D\",\"symbol\":\"circle\"},\"mode\":\"markers+text\",\"name\":\"cluster_4\",\"orientation\":\"v\",\"showlegend\":true,\"text\":[\"Neo4j\",\"Django\",\"React Native\",\"Flow\",\"Atom\",\"Sublime Text\",\"Webstorm\"],\"x\":[3.5581090450286865,1.2653489112854004,5.956007957458496,4.759139537811279,2.448457717895508,1.191676378250122,3.9013760089874268],\"xaxis\":\"x\",\"y\":[-6.972071170806885,-3.0861291885375977,-2.2883219718933105,-2.368199586868286,-1.8097494840621948,-5.3045125007629395,-4.0425705909729],\"yaxis\":\"y\",\"type\":\"scatter\",\"textposition\":\"top center\"},{\"hovertemplate\":\"color=cluster_12<br>x=%{x}<br>y=%{y}<br>text=%{text}<extra></extra>\",\"legendgroup\":\"cluster_12\",\"marker\":{\"color\":\"#DA16FF\",\"symbol\":\"circle\"},\"mode\":\"markers+text\",\"name\":\"cluster_12\",\"orientation\":\"v\",\"showlegend\":true,\"text\":[\"Angular\",\"Capacitor\",\"Cordova\",\"Ionic\"],\"x\":[13.058012962341309,13.555055618286133,14.297109603881836,13.949739456176758],\"xaxis\":\"x\",\"y\":[8.774861335754395,5.747864723205566,4.915241718292236,6.905653476715088],\"yaxis\":\"y\",\"type\":\"scatter\",\"textposition\":\"top center\"},{\"hovertemplate\":\"color=cluster_25<br>x=%{x}<br>y=%{y}<br>text=%{text}<extra></extra>\",\"legendgroup\":\"cluster_25\",\"marker\":{\"color\":\"#222A2A\",\"symbol\":\"circle\"},\"mode\":\"markers+text\",\"name\":\"cluster_25\",\"orientation\":\"v\",\"showlegend\":true,\"text\":[\"Angular.js\",\"Drupal\",\"jQuery\"],\"x\":[11.366365432739258,7.096499443054199,10.453730583190918],\"xaxis\":\"x\",\"y\":[9.539999008178711,10.014887809753418,10.47541332244873],\"yaxis\":\"y\",\"type\":\"scatter\",\"textposition\":\"top center\"},{\"hovertemplate\":\"color=cluster_23<br>x=%{x}<br>y=%{y}<br>text=%{text}<extra></extra>\",\"legendgroup\":\"cluster_23\",\"marker\":{\"color\":\"#B68100\",\"symbol\":\"circle\"},\"mode\":\"markers+text\",\"name\":\"cluster_23\",\"orientation\":\"v\",\"showlegend\":true,\"text\":[\"FastAPI\",\"CLion\",\"PyCharm\",\"Spyder\"],\"x\":[-4.036143779754639,-7.470590591430664,-6.795475482940674,-4.874481678009033],\"xaxis\":\"x\",\"y\":[-7.979312896728516,-10.205032348632812,-11.915149688720703,-11.675086975097656],\"yaxis\":\"y\",\"type\":\"scatter\",\"textposition\":\"top center\"},{\"hovertemplate\":\"color=cluster_9<br>x=%{x}<br>y=%{y}<br>text=%{text}<extra></extra>\",\"legendgroup\":\"cluster_9\",\"marker\":{\"color\":\"#750D86\",\"symbol\":\"circle\"},\"mode\":\"markers+text\",\"name\":\"cluster_9\",\"orientation\":\"v\",\"showlegend\":true,\"text\":[\"Flask\",\"Hugging Face Transformers\",\"Keras\",\"Scikit-learn\",\"TensorFlow\",\"Torch/PyTorch\",\"IPython/Jupyter\"],\"x\":[-7.660822868347168,-8.773957252502441,-9.046578407287598,-10.627970695495605,-8.408617973327637,-9.953433990478516,-11.821680068969727],\"xaxis\":\"x\",\"y\":[-16.95809555053711,-18.28375816345215,-20.086217880249023,-20.62631607055664,-21.092147827148438,-18.491872787475586,-20.705934524536133],\"yaxis\":\"y\",\"type\":\"scatter\",\"textposition\":\"top center\"},{\"hovertemplate\":\"color=cluster_33<br>x=%{x}<br>y=%{y}<br>text=%{text}<extra></extra>\",\"legendgroup\":\"cluster_33\",\"marker\":{\"color\":\"#EB663B\",\"symbol\":\"circle\"},\"mode\":\"markers+text\",\"name\":\"cluster_33\",\"orientation\":\"v\",\"showlegend\":true,\"text\":[\"Apache Kafka\",\"Apache Spark\",\"Hadoop\"],\"x\":[1.710024118423462,0.7996635437011719,0.5263592600822449],\"xaxis\":\"x\",\"y\":[-14.838229179382324,-13.813501358032227,-12.827691078186035],\"yaxis\":\"y\",\"type\":\"scatter\",\"textposition\":\"top center\"},{\"hovertemplate\":\"color=cluster_7<br>x=%{x}<br>y=%{y}<br>text=%{text}<extra></extra>\",\"legendgroup\":\"cluster_7\",\"marker\":{\"color\":\"#511CFB\",\"symbol\":\"circle\"},\"mode\":\"markers+text\",\"name\":\"cluster_7\",\"orientation\":\"v\",\"showlegend\":true,\"text\":[\"Unity 3D\",\"Unreal Engine\"],\"x\":[-6.512578964233398,-5.995851516723633],\"xaxis\":\"x\",\"y\":[11.973154067993164,11.131407737731934],\"yaxis\":\"y\",\"type\":\"scatter\",\"textposition\":\"top center\"},{\"hovertemplate\":\"color=cluster_14<br>x=%{x}<br>y=%{y}<br>text=%{text}<extra></extra>\",\"legendgroup\":\"cluster_14\",\"marker\":{\"color\":\"#00A08B\",\"symbol\":\"circle\"},\"mode\":\"markers+text\",\"name\":\"cluster_14\",\"orientation\":\"v\",\"showlegend\":true,\"text\":[\"Eclipse\",\"NetBeans\",\"Notepad++\"],\"x\":[-3.395582914352417,-3.212360143661499,-3.3942208290100098],\"xaxis\":\"x\",\"y\":[18.023208618164062,16.818634033203125,19.164236068725586],\"yaxis\":\"y\",\"type\":\"scatter\",\"textposition\":\"top center\"}],                        {\"template\":{\"data\":{\"histogram2dcontour\":[{\"type\":\"histogram2dcontour\",\"colorbar\":{\"outlinewidth\":0,\"ticks\":\"\"},\"colorscale\":[[0.0,\"#0d0887\"],[0.1111111111111111,\"#46039f\"],[0.2222222222222222,\"#7201a8\"],[0.3333333333333333,\"#9c179e\"],[0.4444444444444444,\"#bd3786\"],[0.5555555555555556,\"#d8576b\"],[0.6666666666666666,\"#ed7953\"],[0.7777777777777778,\"#fb9f3a\"],[0.8888888888888888,\"#fdca26\"],[1.0,\"#f0f921\"]]}],\"choropleth\":[{\"type\":\"choropleth\",\"colorbar\":{\"outlinewidth\":0,\"ticks\":\"\"}}],\"histogram2d\":[{\"type\":\"histogram2d\",\"colorbar\":{\"outlinewidth\":0,\"ticks\":\"\"},\"colorscale\":[[0.0,\"#0d0887\"],[0.1111111111111111,\"#46039f\"],[0.2222222222222222,\"#7201a8\"],[0.3333333333333333,\"#9c179e\"],[0.4444444444444444,\"#bd3786\"],[0.5555555555555556,\"#d8576b\"],[0.6666666666666666,\"#ed7953\"],[0.7777777777777778,\"#fb9f3a\"],[0.8888888888888888,\"#fdca26\"],[1.0,\"#f0f921\"]]}],\"heatmap\":[{\"type\":\"heatmap\",\"colorbar\":{\"outlinewidth\":0,\"ticks\":\"\"},\"colorscale\":[[0.0,\"#0d0887\"],[0.1111111111111111,\"#46039f\"],[0.2222222222222222,\"#7201a8\"],[0.3333333333333333,\"#9c179e\"],[0.4444444444444444,\"#bd3786\"],[0.5555555555555556,\"#d8576b\"],[0.6666666666666666,\"#ed7953\"],[0.7777777777777778,\"#fb9f3a\"],[0.8888888888888888,\"#fdca26\"],[1.0,\"#f0f921\"]]}],\"heatmapgl\":[{\"type\":\"heatmapgl\",\"colorbar\":{\"outlinewidth\":0,\"ticks\":\"\"},\"colorscale\":[[0.0,\"#0d0887\"],[0.1111111111111111,\"#46039f\"],[0.2222222222222222,\"#7201a8\"],[0.3333333333333333,\"#9c179e\"],[0.4444444444444444,\"#bd3786\"],[0.5555555555555556,\"#d8576b\"],[0.6666666666666666,\"#ed7953\"],[0.7777777777777778,\"#fb9f3a\"],[0.8888888888888888,\"#fdca26\"],[1.0,\"#f0f921\"]]}],\"contourcarpet\":[{\"type\":\"contourcarpet\",\"colorbar\":{\"outlinewidth\":0,\"ticks\":\"\"}}],\"contour\":[{\"type\":\"contour\",\"colorbar\":{\"outlinewidth\":0,\"ticks\":\"\"},\"colorscale\":[[0.0,\"#0d0887\"],[0.1111111111111111,\"#46039f\"],[0.2222222222222222,\"#7201a8\"],[0.3333333333333333,\"#9c179e\"],[0.4444444444444444,\"#bd3786\"],[0.5555555555555556,\"#d8576b\"],[0.6666666666666666,\"#ed7953\"],[0.7777777777777778,\"#fb9f3a\"],[0.8888888888888888,\"#fdca26\"],[1.0,\"#f0f921\"]]}],\"surface\":[{\"type\":\"surface\",\"colorbar\":{\"outlinewidth\":0,\"ticks\":\"\"},\"colorscale\":[[0.0,\"#0d0887\"],[0.1111111111111111,\"#46039f\"],[0.2222222222222222,\"#7201a8\"],[0.3333333333333333,\"#9c179e\"],[0.4444444444444444,\"#bd3786\"],[0.5555555555555556,\"#d8576b\"],[0.6666666666666666,\"#ed7953\"],[0.7777777777777778,\"#fb9f3a\"],[0.8888888888888888,\"#fdca26\"],[1.0,\"#f0f921\"]]}],\"mesh3d\":[{\"type\":\"mesh3d\",\"colorbar\":{\"outlinewidth\":0,\"ticks\":\"\"}}],\"scatter\":[{\"marker\":{\"line\":{\"color\":\"#283442\"}},\"type\":\"scatter\"}],\"parcoords\":[{\"type\":\"parcoords\",\"line\":{\"colorbar\":{\"outlinewidth\":0,\"ticks\":\"\"}}}],\"scatterpolargl\":[{\"type\":\"scatterpolargl\",\"marker\":{\"colorbar\":{\"outlinewidth\":0,\"ticks\":\"\"}}}],\"bar\":[{\"error_x\":{\"color\":\"#f2f5fa\"},\"error_y\":{\"color\":\"#f2f5fa\"},\"marker\":{\"line\":{\"color\":\"rgb(17,17,17)\",\"width\":0.5},\"pattern\":{\"fillmode\":\"overlay\",\"size\":10,\"solidity\":0.2}},\"type\":\"bar\"}],\"scattergeo\":[{\"type\":\"scattergeo\",\"marker\":{\"colorbar\":{\"outlinewidth\":0,\"ticks\":\"\"}}}],\"scatterpolar\":[{\"type\":\"scatterpolar\",\"marker\":{\"colorbar\":{\"outlinewidth\":0,\"ticks\":\"\"}}}],\"histogram\":[{\"marker\":{\"pattern\":{\"fillmode\":\"overlay\",\"size\":10,\"solidity\":0.2}},\"type\":\"histogram\"}],\"scattergl\":[{\"marker\":{\"line\":{\"color\":\"#283442\"}},\"type\":\"scattergl\"}],\"scatter3d\":[{\"type\":\"scatter3d\",\"line\":{\"colorbar\":{\"outlinewidth\":0,\"ticks\":\"\"}},\"marker\":{\"colorbar\":{\"outlinewidth\":0,\"ticks\":\"\"}}}],\"scattermapbox\":[{\"type\":\"scattermapbox\",\"marker\":{\"colorbar\":{\"outlinewidth\":0,\"ticks\":\"\"}}}],\"scatterternary\":[{\"type\":\"scatterternary\",\"marker\":{\"colorbar\":{\"outlinewidth\":0,\"ticks\":\"\"}}}],\"scattercarpet\":[{\"type\":\"scattercarpet\",\"marker\":{\"colorbar\":{\"outlinewidth\":0,\"ticks\":\"\"}}}],\"carpet\":[{\"aaxis\":{\"endlinecolor\":\"#A2B1C6\",\"gridcolor\":\"#506784\",\"linecolor\":\"#506784\",\"minorgridcolor\":\"#506784\",\"startlinecolor\":\"#A2B1C6\"},\"baxis\":{\"endlinecolor\":\"#A2B1C6\",\"gridcolor\":\"#506784\",\"linecolor\":\"#506784\",\"minorgridcolor\":\"#506784\",\"startlinecolor\":\"#A2B1C6\"},\"type\":\"carpet\"}],\"table\":[{\"cells\":{\"fill\":{\"color\":\"#506784\"},\"line\":{\"color\":\"rgb(17,17,17)\"}},\"header\":{\"fill\":{\"color\":\"#2a3f5f\"},\"line\":{\"color\":\"rgb(17,17,17)\"}},\"type\":\"table\"}],\"barpolar\":[{\"marker\":{\"line\":{\"color\":\"rgb(17,17,17)\",\"width\":0.5},\"pattern\":{\"fillmode\":\"overlay\",\"size\":10,\"solidity\":0.2}},\"type\":\"barpolar\"}],\"pie\":[{\"automargin\":true,\"type\":\"pie\"}]},\"layout\":{\"autotypenumbers\":\"strict\",\"colorway\":[\"#636efa\",\"#EF553B\",\"#00cc96\",\"#ab63fa\",\"#FFA15A\",\"#19d3f3\",\"#FF6692\",\"#B6E880\",\"#FF97FF\",\"#FECB52\"],\"font\":{\"color\":\"#f2f5fa\"},\"hovermode\":\"closest\",\"hoverlabel\":{\"align\":\"left\"},\"paper_bgcolor\":\"rgb(17,17,17)\",\"plot_bgcolor\":\"rgb(17,17,17)\",\"polar\":{\"bgcolor\":\"rgb(17,17,17)\",\"angularaxis\":{\"gridcolor\":\"#506784\",\"linecolor\":\"#506784\",\"ticks\":\"\"},\"radialaxis\":{\"gridcolor\":\"#506784\",\"linecolor\":\"#506784\",\"ticks\":\"\"}},\"ternary\":{\"bgcolor\":\"rgb(17,17,17)\",\"aaxis\":{\"gridcolor\":\"#506784\",\"linecolor\":\"#506784\",\"ticks\":\"\"},\"baxis\":{\"gridcolor\":\"#506784\",\"linecolor\":\"#506784\",\"ticks\":\"\"},\"caxis\":{\"gridcolor\":\"#506784\",\"linecolor\":\"#506784\",\"ticks\":\"\"}},\"coloraxis\":{\"colorbar\":{\"outlinewidth\":0,\"ticks\":\"\"}},\"colorscale\":{\"sequential\":[[0.0,\"#0d0887\"],[0.1111111111111111,\"#46039f\"],[0.2222222222222222,\"#7201a8\"],[0.3333333333333333,\"#9c179e\"],[0.4444444444444444,\"#bd3786\"],[0.5555555555555556,\"#d8576b\"],[0.6666666666666666,\"#ed7953\"],[0.7777777777777778,\"#fb9f3a\"],[0.8888888888888888,\"#fdca26\"],[1.0,\"#f0f921\"]],\"sequentialminus\":[[0.0,\"#0d0887\"],[0.1111111111111111,\"#46039f\"],[0.2222222222222222,\"#7201a8\"],[0.3333333333333333,\"#9c179e\"],[0.4444444444444444,\"#bd3786\"],[0.5555555555555556,\"#d8576b\"],[0.6666666666666666,\"#ed7953\"],[0.7777777777777778,\"#fb9f3a\"],[0.8888888888888888,\"#fdca26\"],[1.0,\"#f0f921\"]],\"diverging\":[[0,\"#8e0152\"],[0.1,\"#c51b7d\"],[0.2,\"#de77ae\"],[0.3,\"#f1b6da\"],[0.4,\"#fde0ef\"],[0.5,\"#f7f7f7\"],[0.6,\"#e6f5d0\"],[0.7,\"#b8e186\"],[0.8,\"#7fbc41\"],[0.9,\"#4d9221\"],[1,\"#276419\"]]},\"xaxis\":{\"gridcolor\":\"#283442\",\"linecolor\":\"#506784\",\"ticks\":\"\",\"title\":{\"standoff\":15},\"zerolinecolor\":\"#283442\",\"automargin\":true,\"zerolinewidth\":2},\"yaxis\":{\"gridcolor\":\"#283442\",\"linecolor\":\"#506784\",\"ticks\":\"\",\"title\":{\"standoff\":15},\"zerolinecolor\":\"#283442\",\"automargin\":true,\"zerolinewidth\":2},\"scene\":{\"xaxis\":{\"backgroundcolor\":\"rgb(17,17,17)\",\"gridcolor\":\"#506784\",\"linecolor\":\"#506784\",\"showbackground\":true,\"ticks\":\"\",\"zerolinecolor\":\"#C8D4E3\",\"gridwidth\":2},\"yaxis\":{\"backgroundcolor\":\"rgb(17,17,17)\",\"gridcolor\":\"#506784\",\"linecolor\":\"#506784\",\"showbackground\":true,\"ticks\":\"\",\"zerolinecolor\":\"#C8D4E3\",\"gridwidth\":2},\"zaxis\":{\"backgroundcolor\":\"rgb(17,17,17)\",\"gridcolor\":\"#506784\",\"linecolor\":\"#506784\",\"showbackground\":true,\"ticks\":\"\",\"zerolinecolor\":\"#C8D4E3\",\"gridwidth\":2}},\"shapedefaults\":{\"line\":{\"color\":\"#f2f5fa\"}},\"annotationdefaults\":{\"arrowcolor\":\"#f2f5fa\",\"arrowhead\":0,\"arrowwidth\":1},\"geo\":{\"bgcolor\":\"rgb(17,17,17)\",\"landcolor\":\"rgb(17,17,17)\",\"subunitcolor\":\"#506784\",\"showland\":true,\"showlakes\":true,\"lakecolor\":\"rgb(17,17,17)\"},\"title\":{\"x\":0.05},\"updatemenudefaults\":{\"bgcolor\":\"#506784\",\"borderwidth\":0},\"sliderdefaults\":{\"bgcolor\":\"#C8D4E3\",\"borderwidth\":1,\"bordercolor\":\"rgb(17,17,17)\",\"tickwidth\":0},\"mapbox\":{\"style\":\"dark\"}}},\"xaxis\":{\"anchor\":\"y\",\"domain\":[0.0,1.0],\"title\":{\"text\":\"x\"}},\"yaxis\":{\"anchor\":\"x\",\"domain\":[0.0,1.0],\"title\":{\"text\":\"y\"}},\"legend\":{\"title\":{\"text\":\"color\"},\"tracegroupgap\":0},\"margin\":{\"t\":60},\"title\":{\"text\":\"Clustering top skills for All roles\"},\"height\":900,\"width\":1500},                        {\"responsive\": true}                    ).then(function(){\n                            \nvar gd = document.getElementById('27db2a13-da86-4ce5-9c67-9631fb69e6b6');\nvar x = new MutationObserver(function (mutations, observer) {{\n        var display = window.getComputedStyle(gd).display;\n        if (!display || display === 'none') {{\n            console.log([gd, 'removed!']);\n            Plotly.purge(gd);\n            observer.disconnect();\n        }}\n}});\n\n// Listen for the removal of the full notebook cells\nvar notebookContainer = gd.closest('#notebook-container');\nif (notebookContainer) {{\n    x.observe(notebookContainer, {childList: true});\n}}\n\n// Listen for the clearing of the current output cell\nvar outputEl = gd.closest('.output');\nif (outputEl) {{\n    x.observe(outputEl, {childList: true});\n}}\n\n                        })                };                });            </script>        </div>"
     },
     "metadata": {},
     "output_type": "display_data"
    }
   ],
   "source": [
    "all_skills = skills_dev_df.drop('DevType', axis = 1, level = 0).droplevel(axis = 1, level = 0).T\n",
    "all_skills_tsne = reduce_dimensions(all_skills)\n",
    "best_k, best_labels_all_skills = kmeans_clustering(all_skills_tsne, range(10,45))\n",
    "visualize_chosen_cluster_model('All roles', all_skills_tsne, best_labels_all_skills)"
   ],
   "metadata": {
    "collapsed": false
   }
  },
  {
   "cell_type": "code",
   "execution_count": 74,
   "outputs": [
    {
     "name": "stdout",
     "output_type": "stream",
     "text": [
      "cluster_0 ['Cassandra', 'Elasticsearch', 'PostgreSQL', 'Redis']\n",
      "cluster_1 ['PHP', 'MariaDB', 'MySQL', 'Laravel', 'Symfony', 'PhpStorm']\n",
      "cluster_10 ['APL', 'COBOL', 'Crystal', 'SAS', 'Solidity', 'Couchbase', 'IBM DB2', 'Colocation', 'IBM Cloud or Watson', 'Managed Hosting', 'TextMate']\n",
      "cluster_11 ['PowerShell', 'Oracle', 'Oracle Cloud Infrastructure', 'GTK', 'Uno Platform', 'Nano']\n",
      "cluster_12 ['Angular', 'Capacitor', 'Cordova', 'Ionic']\n",
      "cluster_13 ['Groovy', 'Java', 'Spring', 'IntelliJ']\n",
      "cluster_14 ['Eclipse', 'NetBeans', 'Notepad++']\n",
      "cluster_15 ['Rust', 'Deno', 'Nuxt.js', 'Svelte', 'Vue.js']\n",
      "cluster_16 ['Objective-C', 'Swift', 'Homebrew', 'Xcode']\n",
      "cluster_17 ['Scala', 'Play Framework', 'RubyMine']\n",
      "cluster_18 ['Delphi', 'RAD Studio (Delphi_C++ Builder)']\n",
      "cluster_19 ['Go', 'GoLand']\n",
      "cluster_2 ['Perl', 'Qt', 'Qt Creator', 'Vim']\n",
      "cluster_20 ['Elixir', 'Phoenix']\n",
      "cluster_21 ['CouchDB', 'DigitalOcean', 'Heroku', 'Linode', 'OVH', 'VMware', 'Fastify', 'Electron']\n",
      "cluster_22 ['Ruby', 'Ruby on Rails']\n",
      "cluster_23 ['FastAPI', 'CLion', 'PyCharm', 'Spyder']\n",
      "cluster_24 ['LISP', 'Emacs']\n",
      "cluster_25 ['Angular.js', 'Drupal', 'jQuery']\n",
      "cluster_26 ['Assembly', 'Bash/Shell', 'C', 'C++', 'Ansible']\n",
      "cluster_27 ['Cloud Firestore', 'Firebase Realtime Database', 'Firebase', 'Google Cloud']\n",
      "cluster_28 ['Clojure', 'Haskell', 'Lua', 'OCaml', 'VBA', 'Neovim']\n",
      "cluster_29 ['DynamoDB', 'AWS', 'Docker', 'Kubernetes', 'Pulumi', 'Terraform']\n",
      "cluster_3 ['MongoDB', 'Express', 'Gatsby', 'Next.js', 'Node.js', 'React.js', 'Yarn']\n",
      "cluster_30 ['F#', 'SQLite', 'Xamarin', 'Rider']\n",
      "cluster_31 ['HTML/CSS', 'JavaScript', 'TypeScript', 'npm', 'Visual Studio Code']\n",
      "cluster_32 ['Erlang', 'Fortran', 'Julia', 'MATLAB', 'OpenStack', 'Chef', 'Puppet']\n",
      "cluster_33 ['Apache Kafka', 'Apache Spark', 'Hadoop']\n",
      "cluster_34 ['Python', 'NumPy', 'Pandas']\n",
      "cluster_4 ['Neo4j', 'Django', 'React Native', 'Flow', 'Atom', 'Sublime Text', 'Webstorm']\n",
      "cluster_5 ['Dart', 'Kotlin', 'Flutter', 'Android Studio']\n",
      "cluster_6 ['R', 'Tidyverse', 'RStudio']\n",
      "cluster_7 ['Unity 3D', 'Unreal Engine']\n",
      "cluster_8 ['C#', 'SQL', 'Microsoft SQL Server', 'Microsoft Azure', 'ASP.NET', 'ASP.NET Core ', 'Blazor', '.NET', 'Visual Studio']\n",
      "cluster_9 ['Flask', 'Hugging Face Transformers', 'Keras', 'Scikit-learn', 'TensorFlow', 'Torch/PyTorch', 'IPython/Jupyter']\n"
     ]
    }
   ],
   "source": [
    "for label in sorted(set(best_labels_all_skills)):\n",
    "    print(label, list(all_skills_tsne[best_labels_all_skills==label].index))"
   ],
   "metadata": {
    "collapsed": false
   }
  },
  {
   "cell_type": "markdown",
   "source": [
    "### Adding new Features --clustering results--"
   ],
   "metadata": {
    "collapsed": false
   }
  },
  {
   "cell_type": "code",
   "execution_count": 75,
   "outputs": [],
   "source": [
    "skills_df = skills_dev_df.drop('DevType', axis=1, level = 0).droplevel(axis=1, level = 0)\n",
    "clustered_skills_df = {}\n",
    "for label in sorted(set(best_labels_all_skills)):\n",
    "    if label == 'cluster_-1':\n",
    "        continue\n",
    "    clustered_skills = list(all_skills_tsne[best_labels_all_skills==label].index)\n",
    "    # clustered_skills_df[label] = skills_df[clustered_skills].apply(lambda x : np.count_nonzero(np.array(x)), axis = 1)\n",
    "    clustered_skills_df[label] = skills_df[clustered_skills].sum(axis = 1)"
   ],
   "metadata": {
    "collapsed": false
   }
  },
  {
   "cell_type": "code",
   "execution_count": 76,
   "outputs": [
    {
     "data": {
      "text/plain": "       cluster_0  cluster_1  cluster_10  cluster_11  cluster_12  cluster_13  \\\n2           0.00        0.0        0.00         0.0        0.25        0.00   \n3           0.00        0.0        0.00         0.0        0.00        0.00   \n7           0.50        1.0        0.50         0.0        0.50        2.00   \n9           0.00        0.0        0.00         0.0        0.00        1.50   \n10          0.00        0.0        0.00         1.0        0.00        0.00   \n...          ...        ...         ...         ...         ...         ...   \n73262       0.00        0.0        0.00         0.0        0.00        0.75   \n73263       4.00        2.5        0.00         0.0        0.00        0.00   \n73264       1.50        0.0        0.00         1.0        0.00        0.00   \n73265       0.75        2.5        0.75         0.0        0.50        0.00   \n73266       0.00        0.0        0.00         1.0        0.00        0.00   \n\n       cluster_14  cluster_15  cluster_16  cluster_17  ...  cluster_31  \\\n2            0.75        0.00         0.0         0.0  ...        1.75   \n3            1.50        0.00         0.0         0.0  ...        4.00   \n7            2.00        0.50         0.0         0.0  ...        4.00   \n9            0.00        0.00         3.0         0.0  ...        1.50   \n10           0.00        1.00         0.0         0.0  ...        5.00   \n...           ...         ...         ...         ...  ...         ...   \n73262        0.50        0.00         0.0         0.0  ...        1.75   \n73263        0.00        0.00         1.5         0.0  ...        6.00   \n73264        1.50        0.00         0.0         0.0  ...        4.50   \n73265        0.00        0.25         0.0         0.0  ...        3.00   \n73266        0.00        0.00         0.0         0.0  ...        0.00   \n\n       cluster_32  cluster_33  cluster_34  cluster_4  cluster_5  cluster_6  \\\n2             0.0         0.0         1.0       0.00       0.00        0.0   \n3             0.0         0.0         0.0       0.00       0.00        0.0   \n7             0.0         0.0         0.5       2.00       0.50        0.0   \n9             0.0         0.0         0.0       0.00       1.50        0.0   \n10            0.0         0.0         0.0       0.00       0.00        0.0   \n...           ...         ...         ...        ...        ...        ...   \n73262         0.0         0.0         0.0       0.00       0.25        0.0   \n73263         0.0         0.0         1.5       1.50       2.00        0.0   \n73264         0.0         0.0         4.5       0.50       0.00        0.0   \n73265         0.0         0.0         1.5       0.75       0.00        0.0   \n73266         0.0         0.0         0.0       0.00       0.00        0.0   \n\n       cluster_7  cluster_8  cluster_9  \n2           0.00       2.50        0.0  \n3           0.00      10.50        0.0  \n7           0.50       2.50        0.5  \n9           0.00       0.00        0.0  \n10          0.00      11.00        0.0  \n...          ...        ...        ...  \n73262       0.00       0.00        0.0  \n73263       0.00       1.50        1.0  \n73264       0.00       1.00        8.0  \n73265       0.25       5.25        0.0  \n73266       0.00       3.50        0.0  \n\n[50423 rows x 35 columns]",
      "text/html": "<div>\n<style scoped>\n    .dataframe tbody tr th:only-of-type {\n        vertical-align: middle;\n    }\n\n    .dataframe tbody tr th {\n        vertical-align: top;\n    }\n\n    .dataframe thead th {\n        text-align: right;\n    }\n</style>\n<table border=\"1\" class=\"dataframe\">\n  <thead>\n    <tr style=\"text-align: right;\">\n      <th></th>\n      <th>cluster_0</th>\n      <th>cluster_1</th>\n      <th>cluster_10</th>\n      <th>cluster_11</th>\n      <th>cluster_12</th>\n      <th>cluster_13</th>\n      <th>cluster_14</th>\n      <th>cluster_15</th>\n      <th>cluster_16</th>\n      <th>cluster_17</th>\n      <th>...</th>\n      <th>cluster_31</th>\n      <th>cluster_32</th>\n      <th>cluster_33</th>\n      <th>cluster_34</th>\n      <th>cluster_4</th>\n      <th>cluster_5</th>\n      <th>cluster_6</th>\n      <th>cluster_7</th>\n      <th>cluster_8</th>\n      <th>cluster_9</th>\n    </tr>\n  </thead>\n  <tbody>\n    <tr>\n      <th>2</th>\n      <td>0.00</td>\n      <td>0.0</td>\n      <td>0.00</td>\n      <td>0.0</td>\n      <td>0.25</td>\n      <td>0.00</td>\n      <td>0.75</td>\n      <td>0.00</td>\n      <td>0.0</td>\n      <td>0.0</td>\n      <td>...</td>\n      <td>1.75</td>\n      <td>0.0</td>\n      <td>0.0</td>\n      <td>1.0</td>\n      <td>0.00</td>\n      <td>0.00</td>\n      <td>0.0</td>\n      <td>0.00</td>\n      <td>2.50</td>\n      <td>0.0</td>\n    </tr>\n    <tr>\n      <th>3</th>\n      <td>0.00</td>\n      <td>0.0</td>\n      <td>0.00</td>\n      <td>0.0</td>\n      <td>0.00</td>\n      <td>0.00</td>\n      <td>1.50</td>\n      <td>0.00</td>\n      <td>0.0</td>\n      <td>0.0</td>\n      <td>...</td>\n      <td>4.00</td>\n      <td>0.0</td>\n      <td>0.0</td>\n      <td>0.0</td>\n      <td>0.00</td>\n      <td>0.00</td>\n      <td>0.0</td>\n      <td>0.00</td>\n      <td>10.50</td>\n      <td>0.0</td>\n    </tr>\n    <tr>\n      <th>7</th>\n      <td>0.50</td>\n      <td>1.0</td>\n      <td>0.50</td>\n      <td>0.0</td>\n      <td>0.50</td>\n      <td>2.00</td>\n      <td>2.00</td>\n      <td>0.50</td>\n      <td>0.0</td>\n      <td>0.0</td>\n      <td>...</td>\n      <td>4.00</td>\n      <td>0.0</td>\n      <td>0.0</td>\n      <td>0.5</td>\n      <td>2.00</td>\n      <td>0.50</td>\n      <td>0.0</td>\n      <td>0.50</td>\n      <td>2.50</td>\n      <td>0.5</td>\n    </tr>\n    <tr>\n      <th>9</th>\n      <td>0.00</td>\n      <td>0.0</td>\n      <td>0.00</td>\n      <td>0.0</td>\n      <td>0.00</td>\n      <td>1.50</td>\n      <td>0.00</td>\n      <td>0.00</td>\n      <td>3.0</td>\n      <td>0.0</td>\n      <td>...</td>\n      <td>1.50</td>\n      <td>0.0</td>\n      <td>0.0</td>\n      <td>0.0</td>\n      <td>0.00</td>\n      <td>1.50</td>\n      <td>0.0</td>\n      <td>0.00</td>\n      <td>0.00</td>\n      <td>0.0</td>\n    </tr>\n    <tr>\n      <th>10</th>\n      <td>0.00</td>\n      <td>0.0</td>\n      <td>0.00</td>\n      <td>1.0</td>\n      <td>0.00</td>\n      <td>0.00</td>\n      <td>0.00</td>\n      <td>1.00</td>\n      <td>0.0</td>\n      <td>0.0</td>\n      <td>...</td>\n      <td>5.00</td>\n      <td>0.0</td>\n      <td>0.0</td>\n      <td>0.0</td>\n      <td>0.00</td>\n      <td>0.00</td>\n      <td>0.0</td>\n      <td>0.00</td>\n      <td>11.00</td>\n      <td>0.0</td>\n    </tr>\n    <tr>\n      <th>...</th>\n      <td>...</td>\n      <td>...</td>\n      <td>...</td>\n      <td>...</td>\n      <td>...</td>\n      <td>...</td>\n      <td>...</td>\n      <td>...</td>\n      <td>...</td>\n      <td>...</td>\n      <td>...</td>\n      <td>...</td>\n      <td>...</td>\n      <td>...</td>\n      <td>...</td>\n      <td>...</td>\n      <td>...</td>\n      <td>...</td>\n      <td>...</td>\n      <td>...</td>\n      <td>...</td>\n    </tr>\n    <tr>\n      <th>73262</th>\n      <td>0.00</td>\n      <td>0.0</td>\n      <td>0.00</td>\n      <td>0.0</td>\n      <td>0.00</td>\n      <td>0.75</td>\n      <td>0.50</td>\n      <td>0.00</td>\n      <td>0.0</td>\n      <td>0.0</td>\n      <td>...</td>\n      <td>1.75</td>\n      <td>0.0</td>\n      <td>0.0</td>\n      <td>0.0</td>\n      <td>0.00</td>\n      <td>0.25</td>\n      <td>0.0</td>\n      <td>0.00</td>\n      <td>0.00</td>\n      <td>0.0</td>\n    </tr>\n    <tr>\n      <th>73263</th>\n      <td>4.00</td>\n      <td>2.5</td>\n      <td>0.00</td>\n      <td>0.0</td>\n      <td>0.00</td>\n      <td>0.00</td>\n      <td>0.00</td>\n      <td>0.00</td>\n      <td>1.5</td>\n      <td>0.0</td>\n      <td>...</td>\n      <td>6.00</td>\n      <td>0.0</td>\n      <td>0.0</td>\n      <td>1.5</td>\n      <td>1.50</td>\n      <td>2.00</td>\n      <td>0.0</td>\n      <td>0.00</td>\n      <td>1.50</td>\n      <td>1.0</td>\n    </tr>\n    <tr>\n      <th>73264</th>\n      <td>1.50</td>\n      <td>0.0</td>\n      <td>0.00</td>\n      <td>1.0</td>\n      <td>0.00</td>\n      <td>0.00</td>\n      <td>1.50</td>\n      <td>0.00</td>\n      <td>0.0</td>\n      <td>0.0</td>\n      <td>...</td>\n      <td>4.50</td>\n      <td>0.0</td>\n      <td>0.0</td>\n      <td>4.5</td>\n      <td>0.50</td>\n      <td>0.00</td>\n      <td>0.0</td>\n      <td>0.00</td>\n      <td>1.00</td>\n      <td>8.0</td>\n    </tr>\n    <tr>\n      <th>73265</th>\n      <td>0.75</td>\n      <td>2.5</td>\n      <td>0.75</td>\n      <td>0.0</td>\n      <td>0.50</td>\n      <td>0.00</td>\n      <td>0.00</td>\n      <td>0.25</td>\n      <td>0.0</td>\n      <td>0.0</td>\n      <td>...</td>\n      <td>3.00</td>\n      <td>0.0</td>\n      <td>0.0</td>\n      <td>1.5</td>\n      <td>0.75</td>\n      <td>0.00</td>\n      <td>0.0</td>\n      <td>0.25</td>\n      <td>5.25</td>\n      <td>0.0</td>\n    </tr>\n    <tr>\n      <th>73266</th>\n      <td>0.00</td>\n      <td>0.0</td>\n      <td>0.00</td>\n      <td>1.0</td>\n      <td>0.00</td>\n      <td>0.00</td>\n      <td>0.00</td>\n      <td>0.00</td>\n      <td>0.0</td>\n      <td>0.0</td>\n      <td>...</td>\n      <td>0.00</td>\n      <td>0.0</td>\n      <td>0.0</td>\n      <td>0.0</td>\n      <td>0.00</td>\n      <td>0.00</td>\n      <td>0.0</td>\n      <td>0.00</td>\n      <td>3.50</td>\n      <td>0.0</td>\n    </tr>\n  </tbody>\n</table>\n<p>50423 rows × 35 columns</p>\n</div>"
     },
     "execution_count": 76,
     "metadata": {},
     "output_type": "execute_result"
    }
   ],
   "source": [
    "clustered_skills_df = pd.concat(clustered_skills_df, axis = 1)\n",
    "clustered_skills_df"
   ],
   "metadata": {
    "collapsed": false
   }
  },
  {
   "cell_type": "code",
   "execution_count": 77,
   "outputs": [
    {
     "data": {
      "text/plain": "       cluster_0  cluster_1  cluster_10  cluster_11  cluster_12  cluster_13  \\\n2           0.00        0.0        0.00         0.0        0.25        0.00   \n3           0.00        0.0        0.00         0.0        0.00        0.00   \n7           0.50        1.0        0.50         0.0        0.50        2.00   \n9           0.00        0.0        0.00         0.0        0.00        1.50   \n10          0.00        0.0        0.00         1.0        0.00        0.00   \n...          ...        ...         ...         ...         ...         ...   \n73262       0.00        0.0        0.00         0.0        0.00        0.75   \n73263       4.00        2.5        0.00         0.0        0.00        0.00   \n73264       1.50        0.0        0.00         1.0        0.00        0.00   \n73265       0.75        2.5        0.75         0.0        0.50        0.00   \n73266       0.00        0.0        0.00         1.0        0.00        0.00   \n\n       cluster_14  cluster_15  cluster_16  cluster_17  ...  cluster_31  \\\n2            0.75        0.00         0.0         0.0  ...        1.75   \n3            1.50        0.00         0.0         0.0  ...        4.00   \n7            2.00        0.50         0.0         0.0  ...        4.00   \n9            0.00        0.00         3.0         0.0  ...        1.50   \n10           0.00        1.00         0.0         0.0  ...        5.00   \n...           ...         ...         ...         ...  ...         ...   \n73262        0.50        0.00         0.0         0.0  ...        1.75   \n73263        0.00        0.00         1.5         0.0  ...        6.00   \n73264        1.50        0.00         0.0         0.0  ...        4.50   \n73265        0.00        0.25         0.0         0.0  ...        3.00   \n73266        0.00        0.00         0.0         0.0  ...        0.00   \n\n       cluster_32  cluster_33  cluster_34  cluster_4  cluster_5  cluster_6  \\\n2             0.0         0.0         1.0       0.00       0.00        0.0   \n3             0.0         0.0         0.0       0.00       0.00        0.0   \n7             0.0         0.0         0.5       2.00       0.50        0.0   \n9             0.0         0.0         0.0       0.00       1.50        0.0   \n10            0.0         0.0         0.0       0.00       0.00        0.0   \n...           ...         ...         ...        ...        ...        ...   \n73262         0.0         0.0         0.0       0.00       0.25        0.0   \n73263         0.0         0.0         1.5       1.50       2.00        0.0   \n73264         0.0         0.0         4.5       0.50       0.00        0.0   \n73265         0.0         0.0         1.5       0.75       0.00        0.0   \n73266         0.0         0.0         0.0       0.00       0.00        0.0   \n\n       cluster_7  cluster_8  cluster_9  \n2           0.00       2.50        0.0  \n3           0.00      10.50        0.0  \n7           0.50       2.50        0.5  \n9           0.00       0.00        0.0  \n10          0.00      11.00        0.0  \n...          ...        ...        ...  \n73262       0.00       0.00        0.0  \n73263       0.00       1.50        1.0  \n73264       0.00       1.00        8.0  \n73265       0.25       5.25        0.0  \n73266       0.00       3.50        0.0  \n\n[50423 rows x 35 columns]",
      "text/html": "<div>\n<style scoped>\n    .dataframe tbody tr th:only-of-type {\n        vertical-align: middle;\n    }\n\n    .dataframe tbody tr th {\n        vertical-align: top;\n    }\n\n    .dataframe thead th {\n        text-align: right;\n    }\n</style>\n<table border=\"1\" class=\"dataframe\">\n  <thead>\n    <tr style=\"text-align: right;\">\n      <th></th>\n      <th>cluster_0</th>\n      <th>cluster_1</th>\n      <th>cluster_10</th>\n      <th>cluster_11</th>\n      <th>cluster_12</th>\n      <th>cluster_13</th>\n      <th>cluster_14</th>\n      <th>cluster_15</th>\n      <th>cluster_16</th>\n      <th>cluster_17</th>\n      <th>...</th>\n      <th>cluster_31</th>\n      <th>cluster_32</th>\n      <th>cluster_33</th>\n      <th>cluster_34</th>\n      <th>cluster_4</th>\n      <th>cluster_5</th>\n      <th>cluster_6</th>\n      <th>cluster_7</th>\n      <th>cluster_8</th>\n      <th>cluster_9</th>\n    </tr>\n  </thead>\n  <tbody>\n    <tr>\n      <th>2</th>\n      <td>0.00</td>\n      <td>0.0</td>\n      <td>0.00</td>\n      <td>0.0</td>\n      <td>0.25</td>\n      <td>0.00</td>\n      <td>0.75</td>\n      <td>0.00</td>\n      <td>0.0</td>\n      <td>0.0</td>\n      <td>...</td>\n      <td>1.75</td>\n      <td>0.0</td>\n      <td>0.0</td>\n      <td>1.0</td>\n      <td>0.00</td>\n      <td>0.00</td>\n      <td>0.0</td>\n      <td>0.00</td>\n      <td>2.50</td>\n      <td>0.0</td>\n    </tr>\n    <tr>\n      <th>3</th>\n      <td>0.00</td>\n      <td>0.0</td>\n      <td>0.00</td>\n      <td>0.0</td>\n      <td>0.00</td>\n      <td>0.00</td>\n      <td>1.50</td>\n      <td>0.00</td>\n      <td>0.0</td>\n      <td>0.0</td>\n      <td>...</td>\n      <td>4.00</td>\n      <td>0.0</td>\n      <td>0.0</td>\n      <td>0.0</td>\n      <td>0.00</td>\n      <td>0.00</td>\n      <td>0.0</td>\n      <td>0.00</td>\n      <td>10.50</td>\n      <td>0.0</td>\n    </tr>\n    <tr>\n      <th>7</th>\n      <td>0.50</td>\n      <td>1.0</td>\n      <td>0.50</td>\n      <td>0.0</td>\n      <td>0.50</td>\n      <td>2.00</td>\n      <td>2.00</td>\n      <td>0.50</td>\n      <td>0.0</td>\n      <td>0.0</td>\n      <td>...</td>\n      <td>4.00</td>\n      <td>0.0</td>\n      <td>0.0</td>\n      <td>0.5</td>\n      <td>2.00</td>\n      <td>0.50</td>\n      <td>0.0</td>\n      <td>0.50</td>\n      <td>2.50</td>\n      <td>0.5</td>\n    </tr>\n    <tr>\n      <th>9</th>\n      <td>0.00</td>\n      <td>0.0</td>\n      <td>0.00</td>\n      <td>0.0</td>\n      <td>0.00</td>\n      <td>1.50</td>\n      <td>0.00</td>\n      <td>0.00</td>\n      <td>3.0</td>\n      <td>0.0</td>\n      <td>...</td>\n      <td>1.50</td>\n      <td>0.0</td>\n      <td>0.0</td>\n      <td>0.0</td>\n      <td>0.00</td>\n      <td>1.50</td>\n      <td>0.0</td>\n      <td>0.00</td>\n      <td>0.00</td>\n      <td>0.0</td>\n    </tr>\n    <tr>\n      <th>10</th>\n      <td>0.00</td>\n      <td>0.0</td>\n      <td>0.00</td>\n      <td>1.0</td>\n      <td>0.00</td>\n      <td>0.00</td>\n      <td>0.00</td>\n      <td>1.00</td>\n      <td>0.0</td>\n      <td>0.0</td>\n      <td>...</td>\n      <td>5.00</td>\n      <td>0.0</td>\n      <td>0.0</td>\n      <td>0.0</td>\n      <td>0.00</td>\n      <td>0.00</td>\n      <td>0.0</td>\n      <td>0.00</td>\n      <td>11.00</td>\n      <td>0.0</td>\n    </tr>\n    <tr>\n      <th>...</th>\n      <td>...</td>\n      <td>...</td>\n      <td>...</td>\n      <td>...</td>\n      <td>...</td>\n      <td>...</td>\n      <td>...</td>\n      <td>...</td>\n      <td>...</td>\n      <td>...</td>\n      <td>...</td>\n      <td>...</td>\n      <td>...</td>\n      <td>...</td>\n      <td>...</td>\n      <td>...</td>\n      <td>...</td>\n      <td>...</td>\n      <td>...</td>\n      <td>...</td>\n      <td>...</td>\n    </tr>\n    <tr>\n      <th>73262</th>\n      <td>0.00</td>\n      <td>0.0</td>\n      <td>0.00</td>\n      <td>0.0</td>\n      <td>0.00</td>\n      <td>0.75</td>\n      <td>0.50</td>\n      <td>0.00</td>\n      <td>0.0</td>\n      <td>0.0</td>\n      <td>...</td>\n      <td>1.75</td>\n      <td>0.0</td>\n      <td>0.0</td>\n      <td>0.0</td>\n      <td>0.00</td>\n      <td>0.25</td>\n      <td>0.0</td>\n      <td>0.00</td>\n      <td>0.00</td>\n      <td>0.0</td>\n    </tr>\n    <tr>\n      <th>73263</th>\n      <td>4.00</td>\n      <td>2.5</td>\n      <td>0.00</td>\n      <td>0.0</td>\n      <td>0.00</td>\n      <td>0.00</td>\n      <td>0.00</td>\n      <td>0.00</td>\n      <td>1.5</td>\n      <td>0.0</td>\n      <td>...</td>\n      <td>6.00</td>\n      <td>0.0</td>\n      <td>0.0</td>\n      <td>1.5</td>\n      <td>1.50</td>\n      <td>2.00</td>\n      <td>0.0</td>\n      <td>0.00</td>\n      <td>1.50</td>\n      <td>1.0</td>\n    </tr>\n    <tr>\n      <th>73264</th>\n      <td>1.50</td>\n      <td>0.0</td>\n      <td>0.00</td>\n      <td>1.0</td>\n      <td>0.00</td>\n      <td>0.00</td>\n      <td>1.50</td>\n      <td>0.00</td>\n      <td>0.0</td>\n      <td>0.0</td>\n      <td>...</td>\n      <td>4.50</td>\n      <td>0.0</td>\n      <td>0.0</td>\n      <td>4.5</td>\n      <td>0.50</td>\n      <td>0.00</td>\n      <td>0.0</td>\n      <td>0.00</td>\n      <td>1.00</td>\n      <td>8.0</td>\n    </tr>\n    <tr>\n      <th>73265</th>\n      <td>0.75</td>\n      <td>2.5</td>\n      <td>0.75</td>\n      <td>0.0</td>\n      <td>0.50</td>\n      <td>0.00</td>\n      <td>0.00</td>\n      <td>0.25</td>\n      <td>0.0</td>\n      <td>0.0</td>\n      <td>...</td>\n      <td>3.00</td>\n      <td>0.0</td>\n      <td>0.0</td>\n      <td>1.5</td>\n      <td>0.75</td>\n      <td>0.00</td>\n      <td>0.0</td>\n      <td>0.25</td>\n      <td>5.25</td>\n      <td>0.0</td>\n    </tr>\n    <tr>\n      <th>73266</th>\n      <td>0.00</td>\n      <td>0.0</td>\n      <td>0.00</td>\n      <td>1.0</td>\n      <td>0.00</td>\n      <td>0.00</td>\n      <td>0.00</td>\n      <td>0.00</td>\n      <td>0.0</td>\n      <td>0.0</td>\n      <td>...</td>\n      <td>0.00</td>\n      <td>0.0</td>\n      <td>0.0</td>\n      <td>0.0</td>\n      <td>0.00</td>\n      <td>0.00</td>\n      <td>0.0</td>\n      <td>0.00</td>\n      <td>3.50</td>\n      <td>0.0</td>\n    </tr>\n  </tbody>\n</table>\n<p>50423 rows × 35 columns</p>\n</div>"
     },
     "execution_count": 77,
     "metadata": {},
     "output_type": "execute_result"
    }
   ],
   "source": [
    "clustered_skills_df"
   ],
   "metadata": {
    "collapsed": false
   }
  },
  {
   "cell_type": "code",
   "execution_count": 78,
   "outputs": [],
   "source": [
    "clustered_skills_df.columns = pd.MultiIndex.from_product([['clustered_skills'], clustered_skills_df.columns])"
   ],
   "metadata": {
    "collapsed": false
   }
  },
  {
   "cell_type": "code",
   "execution_count": 79,
   "outputs": [
    {
     "data": {
      "text/plain": "      clustered_skills                                                        \\\n             cluster_0 cluster_1 cluster_10 cluster_11 cluster_12 cluster_13   \n2                 0.00       0.0       0.00        0.0       0.25       0.00   \n3                 0.00       0.0       0.00        0.0       0.00       0.00   \n7                 0.50       1.0       0.50        0.0       0.50       2.00   \n9                 0.00       0.0       0.00        0.0       0.00       1.50   \n10                0.00       0.0       0.00        1.0       0.00       0.00   \n...                ...       ...        ...        ...        ...        ...   \n73262             0.00       0.0       0.00        0.0       0.00       0.75   \n73263             4.00       2.5       0.00        0.0       0.00       0.00   \n73264             1.50       0.0       0.00        1.0       0.00       0.00   \n73265             0.75       2.5       0.75        0.0       0.50       0.00   \n73266             0.00       0.0       0.00        1.0       0.00       0.00   \n\n                                                   ...                        \\\n      cluster_14 cluster_15 cluster_16 cluster_17  ... cluster_31 cluster_32   \n2           0.75       0.00        0.0        0.0  ...       1.75        0.0   \n3           1.50       0.00        0.0        0.0  ...       4.00        0.0   \n7           2.00       0.50        0.0        0.0  ...       4.00        0.0   \n9           0.00       0.00        3.0        0.0  ...       1.50        0.0   \n10          0.00       1.00        0.0        0.0  ...       5.00        0.0   \n...          ...        ...        ...        ...  ...        ...        ...   \n73262       0.50       0.00        0.0        0.0  ...       1.75        0.0   \n73263       0.00       0.00        1.5        0.0  ...       6.00        0.0   \n73264       1.50       0.00        0.0        0.0  ...       4.50        0.0   \n73265       0.00       0.25        0.0        0.0  ...       3.00        0.0   \n73266       0.00       0.00        0.0        0.0  ...       0.00        0.0   \n\n                                                                               \\\n      cluster_33 cluster_34 cluster_4 cluster_5 cluster_6 cluster_7 cluster_8   \n2            0.0        1.0      0.00      0.00       0.0      0.00      2.50   \n3            0.0        0.0      0.00      0.00       0.0      0.00     10.50   \n7            0.0        0.5      2.00      0.50       0.0      0.50      2.50   \n9            0.0        0.0      0.00      1.50       0.0      0.00      0.00   \n10           0.0        0.0      0.00      0.00       0.0      0.00     11.00   \n...          ...        ...       ...       ...       ...       ...       ...   \n73262        0.0        0.0      0.00      0.25       0.0      0.00      0.00   \n73263        0.0        1.5      1.50      2.00       0.0      0.00      1.50   \n73264        0.0        4.5      0.50      0.00       0.0      0.00      1.00   \n73265        0.0        1.5      0.75      0.00       0.0      0.25      5.25   \n73266        0.0        0.0      0.00      0.00       0.0      0.00      3.50   \n\n                 \n      cluster_9  \n2           0.0  \n3           0.0  \n7           0.5  \n9           0.0  \n10          0.0  \n...         ...  \n73262       0.0  \n73263       1.0  \n73264       8.0  \n73265       0.0  \n73266       0.0  \n\n[50423 rows x 35 columns]",
      "text/html": "<div>\n<style scoped>\n    .dataframe tbody tr th:only-of-type {\n        vertical-align: middle;\n    }\n\n    .dataframe tbody tr th {\n        vertical-align: top;\n    }\n\n    .dataframe thead tr th {\n        text-align: left;\n    }\n</style>\n<table border=\"1\" class=\"dataframe\">\n  <thead>\n    <tr>\n      <th></th>\n      <th colspan=\"21\" halign=\"left\">clustered_skills</th>\n    </tr>\n    <tr>\n      <th></th>\n      <th>cluster_0</th>\n      <th>cluster_1</th>\n      <th>cluster_10</th>\n      <th>cluster_11</th>\n      <th>cluster_12</th>\n      <th>cluster_13</th>\n      <th>cluster_14</th>\n      <th>cluster_15</th>\n      <th>cluster_16</th>\n      <th>cluster_17</th>\n      <th>...</th>\n      <th>cluster_31</th>\n      <th>cluster_32</th>\n      <th>cluster_33</th>\n      <th>cluster_34</th>\n      <th>cluster_4</th>\n      <th>cluster_5</th>\n      <th>cluster_6</th>\n      <th>cluster_7</th>\n      <th>cluster_8</th>\n      <th>cluster_9</th>\n    </tr>\n  </thead>\n  <tbody>\n    <tr>\n      <th>2</th>\n      <td>0.00</td>\n      <td>0.0</td>\n      <td>0.00</td>\n      <td>0.0</td>\n      <td>0.25</td>\n      <td>0.00</td>\n      <td>0.75</td>\n      <td>0.00</td>\n      <td>0.0</td>\n      <td>0.0</td>\n      <td>...</td>\n      <td>1.75</td>\n      <td>0.0</td>\n      <td>0.0</td>\n      <td>1.0</td>\n      <td>0.00</td>\n      <td>0.00</td>\n      <td>0.0</td>\n      <td>0.00</td>\n      <td>2.50</td>\n      <td>0.0</td>\n    </tr>\n    <tr>\n      <th>3</th>\n      <td>0.00</td>\n      <td>0.0</td>\n      <td>0.00</td>\n      <td>0.0</td>\n      <td>0.00</td>\n      <td>0.00</td>\n      <td>1.50</td>\n      <td>0.00</td>\n      <td>0.0</td>\n      <td>0.0</td>\n      <td>...</td>\n      <td>4.00</td>\n      <td>0.0</td>\n      <td>0.0</td>\n      <td>0.0</td>\n      <td>0.00</td>\n      <td>0.00</td>\n      <td>0.0</td>\n      <td>0.00</td>\n      <td>10.50</td>\n      <td>0.0</td>\n    </tr>\n    <tr>\n      <th>7</th>\n      <td>0.50</td>\n      <td>1.0</td>\n      <td>0.50</td>\n      <td>0.0</td>\n      <td>0.50</td>\n      <td>2.00</td>\n      <td>2.00</td>\n      <td>0.50</td>\n      <td>0.0</td>\n      <td>0.0</td>\n      <td>...</td>\n      <td>4.00</td>\n      <td>0.0</td>\n      <td>0.0</td>\n      <td>0.5</td>\n      <td>2.00</td>\n      <td>0.50</td>\n      <td>0.0</td>\n      <td>0.50</td>\n      <td>2.50</td>\n      <td>0.5</td>\n    </tr>\n    <tr>\n      <th>9</th>\n      <td>0.00</td>\n      <td>0.0</td>\n      <td>0.00</td>\n      <td>0.0</td>\n      <td>0.00</td>\n      <td>1.50</td>\n      <td>0.00</td>\n      <td>0.00</td>\n      <td>3.0</td>\n      <td>0.0</td>\n      <td>...</td>\n      <td>1.50</td>\n      <td>0.0</td>\n      <td>0.0</td>\n      <td>0.0</td>\n      <td>0.00</td>\n      <td>1.50</td>\n      <td>0.0</td>\n      <td>0.00</td>\n      <td>0.00</td>\n      <td>0.0</td>\n    </tr>\n    <tr>\n      <th>10</th>\n      <td>0.00</td>\n      <td>0.0</td>\n      <td>0.00</td>\n      <td>1.0</td>\n      <td>0.00</td>\n      <td>0.00</td>\n      <td>0.00</td>\n      <td>1.00</td>\n      <td>0.0</td>\n      <td>0.0</td>\n      <td>...</td>\n      <td>5.00</td>\n      <td>0.0</td>\n      <td>0.0</td>\n      <td>0.0</td>\n      <td>0.00</td>\n      <td>0.00</td>\n      <td>0.0</td>\n      <td>0.00</td>\n      <td>11.00</td>\n      <td>0.0</td>\n    </tr>\n    <tr>\n      <th>...</th>\n      <td>...</td>\n      <td>...</td>\n      <td>...</td>\n      <td>...</td>\n      <td>...</td>\n      <td>...</td>\n      <td>...</td>\n      <td>...</td>\n      <td>...</td>\n      <td>...</td>\n      <td>...</td>\n      <td>...</td>\n      <td>...</td>\n      <td>...</td>\n      <td>...</td>\n      <td>...</td>\n      <td>...</td>\n      <td>...</td>\n      <td>...</td>\n      <td>...</td>\n      <td>...</td>\n    </tr>\n    <tr>\n      <th>73262</th>\n      <td>0.00</td>\n      <td>0.0</td>\n      <td>0.00</td>\n      <td>0.0</td>\n      <td>0.00</td>\n      <td>0.75</td>\n      <td>0.50</td>\n      <td>0.00</td>\n      <td>0.0</td>\n      <td>0.0</td>\n      <td>...</td>\n      <td>1.75</td>\n      <td>0.0</td>\n      <td>0.0</td>\n      <td>0.0</td>\n      <td>0.00</td>\n      <td>0.25</td>\n      <td>0.0</td>\n      <td>0.00</td>\n      <td>0.00</td>\n      <td>0.0</td>\n    </tr>\n    <tr>\n      <th>73263</th>\n      <td>4.00</td>\n      <td>2.5</td>\n      <td>0.00</td>\n      <td>0.0</td>\n      <td>0.00</td>\n      <td>0.00</td>\n      <td>0.00</td>\n      <td>0.00</td>\n      <td>1.5</td>\n      <td>0.0</td>\n      <td>...</td>\n      <td>6.00</td>\n      <td>0.0</td>\n      <td>0.0</td>\n      <td>1.5</td>\n      <td>1.50</td>\n      <td>2.00</td>\n      <td>0.0</td>\n      <td>0.00</td>\n      <td>1.50</td>\n      <td>1.0</td>\n    </tr>\n    <tr>\n      <th>73264</th>\n      <td>1.50</td>\n      <td>0.0</td>\n      <td>0.00</td>\n      <td>1.0</td>\n      <td>0.00</td>\n      <td>0.00</td>\n      <td>1.50</td>\n      <td>0.00</td>\n      <td>0.0</td>\n      <td>0.0</td>\n      <td>...</td>\n      <td>4.50</td>\n      <td>0.0</td>\n      <td>0.0</td>\n      <td>4.5</td>\n      <td>0.50</td>\n      <td>0.00</td>\n      <td>0.0</td>\n      <td>0.00</td>\n      <td>1.00</td>\n      <td>8.0</td>\n    </tr>\n    <tr>\n      <th>73265</th>\n      <td>0.75</td>\n      <td>2.5</td>\n      <td>0.75</td>\n      <td>0.0</td>\n      <td>0.50</td>\n      <td>0.00</td>\n      <td>0.00</td>\n      <td>0.25</td>\n      <td>0.0</td>\n      <td>0.0</td>\n      <td>...</td>\n      <td>3.00</td>\n      <td>0.0</td>\n      <td>0.0</td>\n      <td>1.5</td>\n      <td>0.75</td>\n      <td>0.00</td>\n      <td>0.0</td>\n      <td>0.25</td>\n      <td>5.25</td>\n      <td>0.0</td>\n    </tr>\n    <tr>\n      <th>73266</th>\n      <td>0.00</td>\n      <td>0.0</td>\n      <td>0.00</td>\n      <td>1.0</td>\n      <td>0.00</td>\n      <td>0.00</td>\n      <td>0.00</td>\n      <td>0.00</td>\n      <td>0.0</td>\n      <td>0.0</td>\n      <td>...</td>\n      <td>0.00</td>\n      <td>0.0</td>\n      <td>0.0</td>\n      <td>0.0</td>\n      <td>0.00</td>\n      <td>0.00</td>\n      <td>0.0</td>\n      <td>0.00</td>\n      <td>3.50</td>\n      <td>0.0</td>\n    </tr>\n  </tbody>\n</table>\n<p>50423 rows × 35 columns</p>\n</div>"
     },
     "execution_count": 79,
     "metadata": {},
     "output_type": "execute_result"
    }
   ],
   "source": [
    "clustered_skills_df"
   ],
   "metadata": {
    "collapsed": false
   }
  },
  {
   "cell_type": "markdown",
   "source": [
    "-----------------------------"
   ],
   "metadata": {
    "collapsed": false
   }
  },
  {
   "cell_type": "markdown",
   "source": [],
   "metadata": {
    "collapsed": false
   }
  },
  {
   "cell_type": "markdown",
   "source": [
    "# Concat all results"
   ],
   "metadata": {
    "collapsed": false
   }
  },
  {
   "cell_type": "code",
   "execution_count": 80,
   "outputs": [
    {
     "data": {
      "text/plain": "      Languages                                                             \\\n            APL Assembly Bash/Shell    C    C#   C++ COBOL Clojure Crystal   \n2           0.0      0.0        0.0  0.0  0.75  0.75   0.0     0.0     0.0   \n3           0.0      0.0        0.0  0.0  1.50  0.00   0.0     0.0     0.0   \n7           0.5      0.0        0.5  1.0  0.00  1.00   0.0     0.0     0.0   \n9           0.0      0.0        0.0  0.0  0.00  0.00   0.0     0.0     0.0   \n10          0.0      0.0        1.0  0.0  1.50  0.00   0.0     0.0     0.0   \n...         ...      ...        ...  ...   ...   ...   ...     ...     ...   \n73262       0.0      0.5        0.0  0.5  0.00  0.75   0.0     0.0     0.0   \n73263       0.0      0.0        1.5  0.0  0.00  0.00   0.0     0.0     0.0   \n73264       0.0      0.0        1.0  0.0  0.00  0.00   0.0     0.0     0.0   \n73265       0.0      0.0        0.0  0.0  0.25  0.00   0.0     0.0     0.0   \n73266       0.0      0.0        0.0  0.0  1.00  0.00   0.0     0.0     0.0   \n\n            ...         DevType                                        \\\n      Dart  ... full_stack_Java full_stack_.JavaScript full_stack_PHP   \n2      0.0  ...               0                      0              0   \n3      0.0  ...               0                      0              0   \n7      0.0  ...               1                      1              1   \n9      0.0  ...               0                      0              0   \n10     0.0  ...               0                      0              0   \n...    ...  ...             ...                    ...            ...   \n73262  0.0  ...               0                      0              0   \n73263  1.0  ...               0                      0              0   \n73264  0.0  ...               0                      0              0   \n73265  0.0  ...               0                      0              1   \n73266  0.0  ...               0                      0              0   \n\n                                                                          \\\n      full_stack_python back_end_Java back_end_.JavaScript back_end_.NET   \n2                     0             0                    0             0   \n3                     0             0                    0             0   \n7                     0             0                    0             0   \n9                     0             0                    0             0   \n10                    0             0                    0             1   \n...                 ...           ...                  ...           ...   \n73262                 0             0                    0             0   \n73263                 0             0                    1             0   \n73264                 0             0                    0             0   \n73265                 1             0                    0             0   \n73266                 0             0                    0             0   \n\n                                                 \n      back_end_C++ back_end_python back_end_PHP  \n2                0               0            0  \n3                0               0            0  \n7                0               0            0  \n9                0               0            0  \n10               0               0            0  \n...            ...             ...          ...  \n73262            0               0            0  \n73263            1               1            1  \n73264            0               0            0  \n73265            0               0            0  \n73266            0               0            0  \n\n[50423 rows x 193 columns]",
      "text/html": "<div>\n<style scoped>\n    .dataframe tbody tr th:only-of-type {\n        vertical-align: middle;\n    }\n\n    .dataframe tbody tr th {\n        vertical-align: top;\n    }\n\n    .dataframe thead tr th {\n        text-align: left;\n    }\n</style>\n<table border=\"1\" class=\"dataframe\">\n  <thead>\n    <tr>\n      <th></th>\n      <th colspan=\"10\" halign=\"left\">Languages</th>\n      <th>...</th>\n      <th colspan=\"10\" halign=\"left\">DevType</th>\n    </tr>\n    <tr>\n      <th></th>\n      <th>APL</th>\n      <th>Assembly</th>\n      <th>Bash/Shell</th>\n      <th>C</th>\n      <th>C#</th>\n      <th>C++</th>\n      <th>COBOL</th>\n      <th>Clojure</th>\n      <th>Crystal</th>\n      <th>Dart</th>\n      <th>...</th>\n      <th>full_stack_Java</th>\n      <th>full_stack_.JavaScript</th>\n      <th>full_stack_PHP</th>\n      <th>full_stack_python</th>\n      <th>back_end_Java</th>\n      <th>back_end_.JavaScript</th>\n      <th>back_end_.NET</th>\n      <th>back_end_C++</th>\n      <th>back_end_python</th>\n      <th>back_end_PHP</th>\n    </tr>\n  </thead>\n  <tbody>\n    <tr>\n      <th>2</th>\n      <td>0.0</td>\n      <td>0.0</td>\n      <td>0.0</td>\n      <td>0.0</td>\n      <td>0.75</td>\n      <td>0.75</td>\n      <td>0.0</td>\n      <td>0.0</td>\n      <td>0.0</td>\n      <td>0.0</td>\n      <td>...</td>\n      <td>0</td>\n      <td>0</td>\n      <td>0</td>\n      <td>0</td>\n      <td>0</td>\n      <td>0</td>\n      <td>0</td>\n      <td>0</td>\n      <td>0</td>\n      <td>0</td>\n    </tr>\n    <tr>\n      <th>3</th>\n      <td>0.0</td>\n      <td>0.0</td>\n      <td>0.0</td>\n      <td>0.0</td>\n      <td>1.50</td>\n      <td>0.00</td>\n      <td>0.0</td>\n      <td>0.0</td>\n      <td>0.0</td>\n      <td>0.0</td>\n      <td>...</td>\n      <td>0</td>\n      <td>0</td>\n      <td>0</td>\n      <td>0</td>\n      <td>0</td>\n      <td>0</td>\n      <td>0</td>\n      <td>0</td>\n      <td>0</td>\n      <td>0</td>\n    </tr>\n    <tr>\n      <th>7</th>\n      <td>0.5</td>\n      <td>0.0</td>\n      <td>0.5</td>\n      <td>1.0</td>\n      <td>0.00</td>\n      <td>1.00</td>\n      <td>0.0</td>\n      <td>0.0</td>\n      <td>0.0</td>\n      <td>0.0</td>\n      <td>...</td>\n      <td>1</td>\n      <td>1</td>\n      <td>1</td>\n      <td>0</td>\n      <td>0</td>\n      <td>0</td>\n      <td>0</td>\n      <td>0</td>\n      <td>0</td>\n      <td>0</td>\n    </tr>\n    <tr>\n      <th>9</th>\n      <td>0.0</td>\n      <td>0.0</td>\n      <td>0.0</td>\n      <td>0.0</td>\n      <td>0.00</td>\n      <td>0.00</td>\n      <td>0.0</td>\n      <td>0.0</td>\n      <td>0.0</td>\n      <td>0.0</td>\n      <td>...</td>\n      <td>0</td>\n      <td>0</td>\n      <td>0</td>\n      <td>0</td>\n      <td>0</td>\n      <td>0</td>\n      <td>0</td>\n      <td>0</td>\n      <td>0</td>\n      <td>0</td>\n    </tr>\n    <tr>\n      <th>10</th>\n      <td>0.0</td>\n      <td>0.0</td>\n      <td>1.0</td>\n      <td>0.0</td>\n      <td>1.50</td>\n      <td>0.00</td>\n      <td>0.0</td>\n      <td>0.0</td>\n      <td>0.0</td>\n      <td>0.0</td>\n      <td>...</td>\n      <td>0</td>\n      <td>0</td>\n      <td>0</td>\n      <td>0</td>\n      <td>0</td>\n      <td>0</td>\n      <td>1</td>\n      <td>0</td>\n      <td>0</td>\n      <td>0</td>\n    </tr>\n    <tr>\n      <th>...</th>\n      <td>...</td>\n      <td>...</td>\n      <td>...</td>\n      <td>...</td>\n      <td>...</td>\n      <td>...</td>\n      <td>...</td>\n      <td>...</td>\n      <td>...</td>\n      <td>...</td>\n      <td>...</td>\n      <td>...</td>\n      <td>...</td>\n      <td>...</td>\n      <td>...</td>\n      <td>...</td>\n      <td>...</td>\n      <td>...</td>\n      <td>...</td>\n      <td>...</td>\n      <td>...</td>\n    </tr>\n    <tr>\n      <th>73262</th>\n      <td>0.0</td>\n      <td>0.5</td>\n      <td>0.0</td>\n      <td>0.5</td>\n      <td>0.00</td>\n      <td>0.75</td>\n      <td>0.0</td>\n      <td>0.0</td>\n      <td>0.0</td>\n      <td>0.0</td>\n      <td>...</td>\n      <td>0</td>\n      <td>0</td>\n      <td>0</td>\n      <td>0</td>\n      <td>0</td>\n      <td>0</td>\n      <td>0</td>\n      <td>0</td>\n      <td>0</td>\n      <td>0</td>\n    </tr>\n    <tr>\n      <th>73263</th>\n      <td>0.0</td>\n      <td>0.0</td>\n      <td>1.5</td>\n      <td>0.0</td>\n      <td>0.00</td>\n      <td>0.00</td>\n      <td>0.0</td>\n      <td>0.0</td>\n      <td>0.0</td>\n      <td>1.0</td>\n      <td>...</td>\n      <td>0</td>\n      <td>0</td>\n      <td>0</td>\n      <td>0</td>\n      <td>0</td>\n      <td>1</td>\n      <td>0</td>\n      <td>1</td>\n      <td>1</td>\n      <td>1</td>\n    </tr>\n    <tr>\n      <th>73264</th>\n      <td>0.0</td>\n      <td>0.0</td>\n      <td>1.0</td>\n      <td>0.0</td>\n      <td>0.00</td>\n      <td>0.00</td>\n      <td>0.0</td>\n      <td>0.0</td>\n      <td>0.0</td>\n      <td>0.0</td>\n      <td>...</td>\n      <td>0</td>\n      <td>0</td>\n      <td>0</td>\n      <td>0</td>\n      <td>0</td>\n      <td>0</td>\n      <td>0</td>\n      <td>0</td>\n      <td>0</td>\n      <td>0</td>\n    </tr>\n    <tr>\n      <th>73265</th>\n      <td>0.0</td>\n      <td>0.0</td>\n      <td>0.0</td>\n      <td>0.0</td>\n      <td>0.25</td>\n      <td>0.00</td>\n      <td>0.0</td>\n      <td>0.0</td>\n      <td>0.0</td>\n      <td>0.0</td>\n      <td>...</td>\n      <td>0</td>\n      <td>0</td>\n      <td>1</td>\n      <td>1</td>\n      <td>0</td>\n      <td>0</td>\n      <td>0</td>\n      <td>0</td>\n      <td>0</td>\n      <td>0</td>\n    </tr>\n    <tr>\n      <th>73266</th>\n      <td>0.0</td>\n      <td>0.0</td>\n      <td>0.0</td>\n      <td>0.0</td>\n      <td>1.00</td>\n      <td>0.00</td>\n      <td>0.0</td>\n      <td>0.0</td>\n      <td>0.0</td>\n      <td>0.0</td>\n      <td>...</td>\n      <td>0</td>\n      <td>0</td>\n      <td>0</td>\n      <td>0</td>\n      <td>0</td>\n      <td>0</td>\n      <td>0</td>\n      <td>0</td>\n      <td>0</td>\n      <td>0</td>\n    </tr>\n  </tbody>\n</table>\n<p>50423 rows × 193 columns</p>\n</div>"
     },
     "execution_count": 80,
     "metadata": {},
     "output_type": "execute_result"
    }
   ],
   "source": [
    "skills_dev_df = skills_dev_df.merge(full_stack_roles_df, left_index=True, right_index=True)\n",
    "skills_dev_df = skills_dev_df.merge(back_end_roles_df, left_index=True, right_index=True)\n",
    "skills_dev_df = skills_dev_df.drop(['back_end_general', 'full-stack_general'], axis=1, level = 1)\n",
    "skills_dev_df"
   ],
   "metadata": {
    "collapsed": false
   }
  },
  {
   "cell_type": "code",
   "execution_count": 81,
   "outputs": [
    {
     "data": {
      "text/plain": "      Languages                                                             \\\n            APL Assembly Bash/Shell    C    C#   C++ COBOL Clojure Crystal   \n2           0.0      0.0        0.0  0.0  0.75  0.75   0.0     0.0     0.0   \n3           0.0      0.0        0.0  0.0  1.50  0.00   0.0     0.0     0.0   \n7           0.5      0.0        0.5  1.0  0.00  1.00   0.0     0.0     0.0   \n9           0.0      0.0        0.0  0.0  0.00  0.00   0.0     0.0     0.0   \n10          0.0      0.0        1.0  0.0  1.50  0.00   0.0     0.0     0.0   \n...         ...      ...        ...  ...   ...   ...   ...     ...     ...   \n73262       0.0      0.5        0.0  0.5  0.00  0.75   0.0     0.0     0.0   \n73263       0.0      0.0        1.5  0.0  0.00  0.00   0.0     0.0     0.0   \n73264       0.0      0.0        1.0  0.0  0.00  0.00   0.0     0.0     0.0   \n73265       0.0      0.0        0.0  0.0  0.25  0.00   0.0     0.0     0.0   \n73266       0.0      0.0        0.0  0.0  1.00  0.00   0.0     0.0     0.0   \n\n            ...         DevType                                        \\\n      Dart  ... full_stack_Java full_stack_.JavaScript full_stack_PHP   \n2      0.0  ...               0                      0              0   \n3      0.0  ...               0                      0              0   \n7      0.0  ...               1                      1              1   \n9      0.0  ...               0                      0              0   \n10     0.0  ...               0                      0              0   \n...    ...  ...             ...                    ...            ...   \n73262  0.0  ...               0                      0              0   \n73263  1.0  ...               0                      0              0   \n73264  0.0  ...               0                      0              0   \n73265  0.0  ...               0                      0              1   \n73266  0.0  ...               0                      0              0   \n\n                                                                          \\\n      full_stack_python back_end_Java back_end_.JavaScript back_end_.NET   \n2                     0             0                    0             0   \n3                     0             0                    0             0   \n7                     0             0                    0             0   \n9                     0             0                    0             0   \n10                    0             0                    0             1   \n...                 ...           ...                  ...           ...   \n73262                 0             0                    0             0   \n73263                 0             0                    1             0   \n73264                 0             0                    0             0   \n73265                 1             0                    0             0   \n73266                 0             0                    0             0   \n\n                                                 \n      back_end_C++ back_end_python back_end_PHP  \n2                0               0            0  \n3                0               0            0  \n7                0               0            0  \n9                0               0            0  \n10               0               0            0  \n...            ...             ...          ...  \n73262            0               0            0  \n73263            1               1            1  \n73264            0               0            0  \n73265            0               0            0  \n73266            0               0            0  \n\n[50423 rows x 228 columns]",
      "text/html": "<div>\n<style scoped>\n    .dataframe tbody tr th:only-of-type {\n        vertical-align: middle;\n    }\n\n    .dataframe tbody tr th {\n        vertical-align: top;\n    }\n\n    .dataframe thead tr th {\n        text-align: left;\n    }\n</style>\n<table border=\"1\" class=\"dataframe\">\n  <thead>\n    <tr>\n      <th></th>\n      <th colspan=\"10\" halign=\"left\">Languages</th>\n      <th>...</th>\n      <th colspan=\"10\" halign=\"left\">DevType</th>\n    </tr>\n    <tr>\n      <th></th>\n      <th>APL</th>\n      <th>Assembly</th>\n      <th>Bash/Shell</th>\n      <th>C</th>\n      <th>C#</th>\n      <th>C++</th>\n      <th>COBOL</th>\n      <th>Clojure</th>\n      <th>Crystal</th>\n      <th>Dart</th>\n      <th>...</th>\n      <th>full_stack_Java</th>\n      <th>full_stack_.JavaScript</th>\n      <th>full_stack_PHP</th>\n      <th>full_stack_python</th>\n      <th>back_end_Java</th>\n      <th>back_end_.JavaScript</th>\n      <th>back_end_.NET</th>\n      <th>back_end_C++</th>\n      <th>back_end_python</th>\n      <th>back_end_PHP</th>\n    </tr>\n  </thead>\n  <tbody>\n    <tr>\n      <th>2</th>\n      <td>0.0</td>\n      <td>0.0</td>\n      <td>0.0</td>\n      <td>0.0</td>\n      <td>0.75</td>\n      <td>0.75</td>\n      <td>0.0</td>\n      <td>0.0</td>\n      <td>0.0</td>\n      <td>0.0</td>\n      <td>...</td>\n      <td>0</td>\n      <td>0</td>\n      <td>0</td>\n      <td>0</td>\n      <td>0</td>\n      <td>0</td>\n      <td>0</td>\n      <td>0</td>\n      <td>0</td>\n      <td>0</td>\n    </tr>\n    <tr>\n      <th>3</th>\n      <td>0.0</td>\n      <td>0.0</td>\n      <td>0.0</td>\n      <td>0.0</td>\n      <td>1.50</td>\n      <td>0.00</td>\n      <td>0.0</td>\n      <td>0.0</td>\n      <td>0.0</td>\n      <td>0.0</td>\n      <td>...</td>\n      <td>0</td>\n      <td>0</td>\n      <td>0</td>\n      <td>0</td>\n      <td>0</td>\n      <td>0</td>\n      <td>0</td>\n      <td>0</td>\n      <td>0</td>\n      <td>0</td>\n    </tr>\n    <tr>\n      <th>7</th>\n      <td>0.5</td>\n      <td>0.0</td>\n      <td>0.5</td>\n      <td>1.0</td>\n      <td>0.00</td>\n      <td>1.00</td>\n      <td>0.0</td>\n      <td>0.0</td>\n      <td>0.0</td>\n      <td>0.0</td>\n      <td>...</td>\n      <td>1</td>\n      <td>1</td>\n      <td>1</td>\n      <td>0</td>\n      <td>0</td>\n      <td>0</td>\n      <td>0</td>\n      <td>0</td>\n      <td>0</td>\n      <td>0</td>\n    </tr>\n    <tr>\n      <th>9</th>\n      <td>0.0</td>\n      <td>0.0</td>\n      <td>0.0</td>\n      <td>0.0</td>\n      <td>0.00</td>\n      <td>0.00</td>\n      <td>0.0</td>\n      <td>0.0</td>\n      <td>0.0</td>\n      <td>0.0</td>\n      <td>...</td>\n      <td>0</td>\n      <td>0</td>\n      <td>0</td>\n      <td>0</td>\n      <td>0</td>\n      <td>0</td>\n      <td>0</td>\n      <td>0</td>\n      <td>0</td>\n      <td>0</td>\n    </tr>\n    <tr>\n      <th>10</th>\n      <td>0.0</td>\n      <td>0.0</td>\n      <td>1.0</td>\n      <td>0.0</td>\n      <td>1.50</td>\n      <td>0.00</td>\n      <td>0.0</td>\n      <td>0.0</td>\n      <td>0.0</td>\n      <td>0.0</td>\n      <td>...</td>\n      <td>0</td>\n      <td>0</td>\n      <td>0</td>\n      <td>0</td>\n      <td>0</td>\n      <td>0</td>\n      <td>1</td>\n      <td>0</td>\n      <td>0</td>\n      <td>0</td>\n    </tr>\n    <tr>\n      <th>...</th>\n      <td>...</td>\n      <td>...</td>\n      <td>...</td>\n      <td>...</td>\n      <td>...</td>\n      <td>...</td>\n      <td>...</td>\n      <td>...</td>\n      <td>...</td>\n      <td>...</td>\n      <td>...</td>\n      <td>...</td>\n      <td>...</td>\n      <td>...</td>\n      <td>...</td>\n      <td>...</td>\n      <td>...</td>\n      <td>...</td>\n      <td>...</td>\n      <td>...</td>\n      <td>...</td>\n    </tr>\n    <tr>\n      <th>73262</th>\n      <td>0.0</td>\n      <td>0.5</td>\n      <td>0.0</td>\n      <td>0.5</td>\n      <td>0.00</td>\n      <td>0.75</td>\n      <td>0.0</td>\n      <td>0.0</td>\n      <td>0.0</td>\n      <td>0.0</td>\n      <td>...</td>\n      <td>0</td>\n      <td>0</td>\n      <td>0</td>\n      <td>0</td>\n      <td>0</td>\n      <td>0</td>\n      <td>0</td>\n      <td>0</td>\n      <td>0</td>\n      <td>0</td>\n    </tr>\n    <tr>\n      <th>73263</th>\n      <td>0.0</td>\n      <td>0.0</td>\n      <td>1.5</td>\n      <td>0.0</td>\n      <td>0.00</td>\n      <td>0.00</td>\n      <td>0.0</td>\n      <td>0.0</td>\n      <td>0.0</td>\n      <td>1.0</td>\n      <td>...</td>\n      <td>0</td>\n      <td>0</td>\n      <td>0</td>\n      <td>0</td>\n      <td>0</td>\n      <td>1</td>\n      <td>0</td>\n      <td>1</td>\n      <td>1</td>\n      <td>1</td>\n    </tr>\n    <tr>\n      <th>73264</th>\n      <td>0.0</td>\n      <td>0.0</td>\n      <td>1.0</td>\n      <td>0.0</td>\n      <td>0.00</td>\n      <td>0.00</td>\n      <td>0.0</td>\n      <td>0.0</td>\n      <td>0.0</td>\n      <td>0.0</td>\n      <td>...</td>\n      <td>0</td>\n      <td>0</td>\n      <td>0</td>\n      <td>0</td>\n      <td>0</td>\n      <td>0</td>\n      <td>0</td>\n      <td>0</td>\n      <td>0</td>\n      <td>0</td>\n    </tr>\n    <tr>\n      <th>73265</th>\n      <td>0.0</td>\n      <td>0.0</td>\n      <td>0.0</td>\n      <td>0.0</td>\n      <td>0.25</td>\n      <td>0.00</td>\n      <td>0.0</td>\n      <td>0.0</td>\n      <td>0.0</td>\n      <td>0.0</td>\n      <td>...</td>\n      <td>0</td>\n      <td>0</td>\n      <td>1</td>\n      <td>1</td>\n      <td>0</td>\n      <td>0</td>\n      <td>0</td>\n      <td>0</td>\n      <td>0</td>\n      <td>0</td>\n    </tr>\n    <tr>\n      <th>73266</th>\n      <td>0.0</td>\n      <td>0.0</td>\n      <td>0.0</td>\n      <td>0.0</td>\n      <td>1.00</td>\n      <td>0.00</td>\n      <td>0.0</td>\n      <td>0.0</td>\n      <td>0.0</td>\n      <td>0.0</td>\n      <td>...</td>\n      <td>0</td>\n      <td>0</td>\n      <td>0</td>\n      <td>0</td>\n      <td>0</td>\n      <td>0</td>\n      <td>0</td>\n      <td>0</td>\n      <td>0</td>\n      <td>0</td>\n    </tr>\n  </tbody>\n</table>\n<p>50423 rows × 228 columns</p>\n</div>"
     },
     "execution_count": 81,
     "metadata": {},
     "output_type": "execute_result"
    }
   ],
   "source": [
    "roles_df = skills_dev_df['DevType']\n",
    "roles_df.columns = pd.MultiIndex.from_product([['DevType'], roles_df.columns])\n",
    "skills_df = skills_dev_df.drop('DevType', axis=1, level = 0).merge(clustered_skills_df, left_index=True, right_index=True)\n",
    "skills_dev_df = skills_df.merge(roles_df, left_index=True, right_index=True)\n",
    "skills_dev_df"
   ],
   "metadata": {
    "collapsed": false
   }
  },
  {
   "cell_type": "markdown",
   "source": [
    "-------------------"
   ],
   "metadata": {
    "collapsed": false
   }
  },
  {
   "cell_type": "markdown",
   "source": [],
   "metadata": {
    "collapsed": false
   }
  },
  {
   "cell_type": "markdown",
   "source": [
    "# Saving results"
   ],
   "metadata": {
    "collapsed": false
   }
  },
  {
   "cell_type": "code",
   "execution_count": 82,
   "outputs": [],
   "source": [
    "skills_clusters = {}\n",
    "for label in sorted(set(best_labels_all_skills)):\n",
    "    if label == 'cluster_-1':\n",
    "        continue\n",
    "    skills_clusters[label] = list(all_skills_tsne[best_labels_all_skills == label].index)"
   ],
   "metadata": {
    "collapsed": false
   }
  },
  {
   "cell_type": "code",
   "execution_count": 83,
   "outputs": [
    {
     "data": {
      "text/plain": "{'cluster_0': ['Cassandra', 'Elasticsearch', 'PostgreSQL', 'Redis'],\n 'cluster_1': ['PHP', 'MariaDB', 'MySQL', 'Laravel', 'Symfony', 'PhpStorm'],\n 'cluster_10': ['APL',\n  'COBOL',\n  'Crystal',\n  'SAS',\n  'Solidity',\n  'Couchbase',\n  'IBM DB2',\n  'Colocation',\n  'IBM Cloud or Watson',\n  'Managed Hosting',\n  'TextMate'],\n 'cluster_11': ['PowerShell',\n  'Oracle',\n  'Oracle Cloud Infrastructure',\n  'GTK',\n  'Uno Platform',\n  'Nano'],\n 'cluster_12': ['Angular', 'Capacitor', 'Cordova', 'Ionic'],\n 'cluster_13': ['Groovy', 'Java', 'Spring', 'IntelliJ'],\n 'cluster_14': ['Eclipse', 'NetBeans', 'Notepad++'],\n 'cluster_15': ['Rust', 'Deno', 'Nuxt.js', 'Svelte', 'Vue.js'],\n 'cluster_16': ['Objective-C', 'Swift', 'Homebrew', 'Xcode'],\n 'cluster_17': ['Scala', 'Play Framework', 'RubyMine'],\n 'cluster_18': ['Delphi', 'RAD Studio (Delphi_C++ Builder)'],\n 'cluster_19': ['Go', 'GoLand'],\n 'cluster_2': ['Perl', 'Qt', 'Qt Creator', 'Vim'],\n 'cluster_20': ['Elixir', 'Phoenix'],\n 'cluster_21': ['CouchDB',\n  'DigitalOcean',\n  'Heroku',\n  'Linode',\n  'OVH',\n  'VMware',\n  'Fastify',\n  'Electron'],\n 'cluster_22': ['Ruby', 'Ruby on Rails'],\n 'cluster_23': ['FastAPI', 'CLion', 'PyCharm', 'Spyder'],\n 'cluster_24': ['LISP', 'Emacs'],\n 'cluster_25': ['Angular.js', 'Drupal', 'jQuery'],\n 'cluster_26': ['Assembly', 'Bash/Shell', 'C', 'C++', 'Ansible'],\n 'cluster_27': ['Cloud Firestore',\n  'Firebase Realtime Database',\n  'Firebase',\n  'Google Cloud'],\n 'cluster_28': ['Clojure', 'Haskell', 'Lua', 'OCaml', 'VBA', 'Neovim'],\n 'cluster_29': ['DynamoDB',\n  'AWS',\n  'Docker',\n  'Kubernetes',\n  'Pulumi',\n  'Terraform'],\n 'cluster_3': ['MongoDB',\n  'Express',\n  'Gatsby',\n  'Next.js',\n  'Node.js',\n  'React.js',\n  'Yarn'],\n 'cluster_30': ['F#', 'SQLite', 'Xamarin', 'Rider'],\n 'cluster_31': ['HTML/CSS',\n  'JavaScript',\n  'TypeScript',\n  'npm',\n  'Visual Studio Code'],\n 'cluster_32': ['Erlang',\n  'Fortran',\n  'Julia',\n  'MATLAB',\n  'OpenStack',\n  'Chef',\n  'Puppet'],\n 'cluster_33': ['Apache Kafka', 'Apache Spark', 'Hadoop'],\n 'cluster_34': ['Python', 'NumPy', 'Pandas'],\n 'cluster_4': ['Neo4j',\n  'Django',\n  'React Native',\n  'Flow',\n  'Atom',\n  'Sublime Text',\n  'Webstorm'],\n 'cluster_5': ['Dart', 'Kotlin', 'Flutter', 'Android Studio'],\n 'cluster_6': ['R', 'Tidyverse', 'RStudio'],\n 'cluster_7': ['Unity 3D', 'Unreal Engine'],\n 'cluster_8': ['C#',\n  'SQL',\n  'Microsoft SQL Server',\n  'Microsoft Azure',\n  'ASP.NET',\n  'ASP.NET Core ',\n  'Blazor',\n  '.NET',\n  'Visual Studio'],\n 'cluster_9': ['Flask',\n  'Hugging Face Transformers',\n  'Keras',\n  'Scikit-learn',\n  'TensorFlow',\n  'Torch/PyTorch',\n  'IPython/Jupyter']}"
     },
     "execution_count": 83,
     "metadata": {},
     "output_type": "execute_result"
    }
   ],
   "source": [
    "skills_clusters"
   ],
   "metadata": {
    "collapsed": false
   }
  },
  {
   "cell_type": "code",
   "execution_count": 84,
   "outputs": [],
   "source": [
    "with open(LOAD_PATH + SAVE_CLUSTERED_skills, 'wb') as f:\n",
    "    pickle.dump(skills_clusters, f)"
   ],
   "metadata": {
    "collapsed": false
   }
  },
  {
   "cell_type": "code",
   "execution_count": 85,
   "outputs": [],
   "source": [
    "skills_dev_df.to_pickle(LOAD_PATH + SAVE_SKILLS_DEV)"
   ],
   "metadata": {
    "collapsed": false
   }
  },
  {
   "cell_type": "code",
   "execution_count": 85,
   "outputs": [],
   "source": [],
   "metadata": {
    "collapsed": false
   }
  }
 ],
 "metadata": {
  "kernelspec": {
   "display_name": "Python 3",
   "language": "python",
   "name": "python3"
  },
  "language_info": {
   "codemirror_mode": {
    "name": "ipython",
    "version": 2
   },
   "file_extension": ".py",
   "mimetype": "text/x-python",
   "name": "python",
   "nbconvert_exporter": "python",
   "pygments_lexer": "ipython2",
   "version": "2.7.6"
  }
 },
 "nbformat": 4,
 "nbformat_minor": 0
}
