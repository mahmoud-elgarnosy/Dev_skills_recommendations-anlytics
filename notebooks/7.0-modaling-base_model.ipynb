{
 "cells": [
  {
   "cell_type": "code",
   "execution_count": 1,
   "outputs": [],
   "source": [
    "import sys\n",
    "import os\n",
    "\n",
    "SCRIPT_DIR = os.path.dirname(os.path.abspath('src'))\n",
    "sys.path.append(os.path.dirname(SCRIPT_DIR))"
   ],
   "metadata": {
    "collapsed": false
   }
  },
  {
   "cell_type": "code",
   "execution_count": 2,
   "outputs": [],
   "source": [
    "# Load packages\n",
    "import pandas as pd\n",
    "import numpy as np\n",
    "\n",
    "import sklearn.metrics as skm\n",
    "import sklearn.preprocessing as skp\n",
    "from sklearn.multioutput import MultiOutputClassifier\n",
    "from sklearn.model_selection import train_test_split\n",
    "from sklearn.linear_model import LogisticRegression\n",
    "from src.utils import MlflowUtils\n",
    "from sklearn.pipeline import make_pipeline\n",
    "\n",
    "import plotly.express as px\n",
    "import plotly.graph_objects as go\n",
    "import plotly.figure_factory as ff\n"
   ],
   "metadata": {
    "collapsed": false
   }
  },
  {
   "cell_type": "code",
   "execution_count": 2,
   "outputs": [],
   "source": [],
   "metadata": {
    "collapsed": false
   }
  },
  {
   "cell_type": "code",
   "execution_count": 3,
   "outputs": [],
   "source": [
    "LOAD_PATH = '../data/interim/'\n",
    "LOAD_SKILLS_DEV = '6.0-Engineered_data-split_roles-cluster_skills.pkl'\n",
    "SAVE_DF_NAME = '7.0-Chosen_features_and_roles.pkl'\n"
   ],
   "metadata": {
    "collapsed": false
   }
  },
  {
   "cell_type": "markdown",
   "source": [
    "# Load Data"
   ],
   "metadata": {
    "collapsed": false
   }
  },
  {
   "cell_type": "code",
   "execution_count": 4,
   "outputs": [],
   "source": [
    "skills_dev_df = pd.read_pickle(LOAD_PATH + LOAD_SKILLS_DEV)"
   ],
   "metadata": {
    "collapsed": false
   }
  },
  {
   "cell_type": "code",
   "execution_count": 5,
   "outputs": [
    {
     "data": {
      "text/plain": "      Languages                                                             \\\n            APL Assembly Bash/Shell    C    C#   C++ COBOL Clojure Crystal   \n2           0.0      0.0        0.0  0.0  0.75  0.75   0.0     0.0     0.0   \n3           0.0      0.0        0.0  0.0  1.50  0.00   0.0     0.0     0.0   \n7           0.5      0.0        0.5  1.0  0.00  1.00   0.0     0.0     0.0   \n9           0.0      0.0        0.0  0.0  0.00  0.00   0.0     0.0     0.0   \n10          0.0      0.0        1.0  0.0  1.50  0.00   0.0     0.0     0.0   \n...         ...      ...        ...  ...   ...   ...   ...     ...     ...   \n73262       0.0      0.5        0.0  0.5  0.00  0.75   0.0     0.0     0.0   \n73263       0.0      0.0        1.5  0.0  0.00  0.00   0.0     0.0     0.0   \n73264       0.0      0.0        1.0  0.0  0.00  0.00   0.0     0.0     0.0   \n73265       0.0      0.0        0.0  0.0  0.25  0.00   0.0     0.0     0.0   \n73266       0.0      0.0        0.0  0.0  1.00  0.00   0.0     0.0     0.0   \n\n            ...         DevType                                        \\\n      Dart  ... full_stack_Java full_stack_.JavaScript full_stack_PHP   \n2      0.0  ...               0                      0              0   \n3      0.0  ...               0                      0              0   \n7      0.0  ...               1                      1              1   \n9      0.0  ...               0                      0              0   \n10     0.0  ...               0                      0              0   \n...    ...  ...             ...                    ...            ...   \n73262  0.0  ...               0                      0              0   \n73263  1.0  ...               0                      0              0   \n73264  0.0  ...               0                      0              0   \n73265  0.0  ...               0                      0              1   \n73266  0.0  ...               0                      0              0   \n\n                                                                          \\\n      full_stack_python back_end_Java back_end_.JavaScript back_end_.NET   \n2                     0             0                    0             0   \n3                     0             0                    0             0   \n7                     0             0                    0             0   \n9                     0             0                    0             0   \n10                    0             0                    0             1   \n...                 ...           ...                  ...           ...   \n73262                 0             0                    0             0   \n73263                 0             0                    1             0   \n73264                 0             0                    0             0   \n73265                 1             0                    0             0   \n73266                 0             0                    0             0   \n\n                                                 \n      back_end_C++ back_end_python back_end_PHP  \n2                0               0            0  \n3                0               0            0  \n7                0               0            0  \n9                0               0            0  \n10               0               0            0  \n...            ...             ...          ...  \n73262            0               0            0  \n73263            1               1            1  \n73264            0               0            0  \n73265            0               0            0  \n73266            0               0            0  \n\n[50423 rows x 228 columns]",
      "text/html": "<div>\n<style scoped>\n    .dataframe tbody tr th:only-of-type {\n        vertical-align: middle;\n    }\n\n    .dataframe tbody tr th {\n        vertical-align: top;\n    }\n\n    .dataframe thead tr th {\n        text-align: left;\n    }\n</style>\n<table border=\"1\" class=\"dataframe\">\n  <thead>\n    <tr>\n      <th></th>\n      <th colspan=\"10\" halign=\"left\">Languages</th>\n      <th>...</th>\n      <th colspan=\"10\" halign=\"left\">DevType</th>\n    </tr>\n    <tr>\n      <th></th>\n      <th>APL</th>\n      <th>Assembly</th>\n      <th>Bash/Shell</th>\n      <th>C</th>\n      <th>C#</th>\n      <th>C++</th>\n      <th>COBOL</th>\n      <th>Clojure</th>\n      <th>Crystal</th>\n      <th>Dart</th>\n      <th>...</th>\n      <th>full_stack_Java</th>\n      <th>full_stack_.JavaScript</th>\n      <th>full_stack_PHP</th>\n      <th>full_stack_python</th>\n      <th>back_end_Java</th>\n      <th>back_end_.JavaScript</th>\n      <th>back_end_.NET</th>\n      <th>back_end_C++</th>\n      <th>back_end_python</th>\n      <th>back_end_PHP</th>\n    </tr>\n  </thead>\n  <tbody>\n    <tr>\n      <th>2</th>\n      <td>0.0</td>\n      <td>0.0</td>\n      <td>0.0</td>\n      <td>0.0</td>\n      <td>0.75</td>\n      <td>0.75</td>\n      <td>0.0</td>\n      <td>0.0</td>\n      <td>0.0</td>\n      <td>0.0</td>\n      <td>...</td>\n      <td>0</td>\n      <td>0</td>\n      <td>0</td>\n      <td>0</td>\n      <td>0</td>\n      <td>0</td>\n      <td>0</td>\n      <td>0</td>\n      <td>0</td>\n      <td>0</td>\n    </tr>\n    <tr>\n      <th>3</th>\n      <td>0.0</td>\n      <td>0.0</td>\n      <td>0.0</td>\n      <td>0.0</td>\n      <td>1.50</td>\n      <td>0.00</td>\n      <td>0.0</td>\n      <td>0.0</td>\n      <td>0.0</td>\n      <td>0.0</td>\n      <td>...</td>\n      <td>0</td>\n      <td>0</td>\n      <td>0</td>\n      <td>0</td>\n      <td>0</td>\n      <td>0</td>\n      <td>0</td>\n      <td>0</td>\n      <td>0</td>\n      <td>0</td>\n    </tr>\n    <tr>\n      <th>7</th>\n      <td>0.5</td>\n      <td>0.0</td>\n      <td>0.5</td>\n      <td>1.0</td>\n      <td>0.00</td>\n      <td>1.00</td>\n      <td>0.0</td>\n      <td>0.0</td>\n      <td>0.0</td>\n      <td>0.0</td>\n      <td>...</td>\n      <td>1</td>\n      <td>1</td>\n      <td>1</td>\n      <td>0</td>\n      <td>0</td>\n      <td>0</td>\n      <td>0</td>\n      <td>0</td>\n      <td>0</td>\n      <td>0</td>\n    </tr>\n    <tr>\n      <th>9</th>\n      <td>0.0</td>\n      <td>0.0</td>\n      <td>0.0</td>\n      <td>0.0</td>\n      <td>0.00</td>\n      <td>0.00</td>\n      <td>0.0</td>\n      <td>0.0</td>\n      <td>0.0</td>\n      <td>0.0</td>\n      <td>...</td>\n      <td>0</td>\n      <td>0</td>\n      <td>0</td>\n      <td>0</td>\n      <td>0</td>\n      <td>0</td>\n      <td>0</td>\n      <td>0</td>\n      <td>0</td>\n      <td>0</td>\n    </tr>\n    <tr>\n      <th>10</th>\n      <td>0.0</td>\n      <td>0.0</td>\n      <td>1.0</td>\n      <td>0.0</td>\n      <td>1.50</td>\n      <td>0.00</td>\n      <td>0.0</td>\n      <td>0.0</td>\n      <td>0.0</td>\n      <td>0.0</td>\n      <td>...</td>\n      <td>0</td>\n      <td>0</td>\n      <td>0</td>\n      <td>0</td>\n      <td>0</td>\n      <td>0</td>\n      <td>1</td>\n      <td>0</td>\n      <td>0</td>\n      <td>0</td>\n    </tr>\n    <tr>\n      <th>...</th>\n      <td>...</td>\n      <td>...</td>\n      <td>...</td>\n      <td>...</td>\n      <td>...</td>\n      <td>...</td>\n      <td>...</td>\n      <td>...</td>\n      <td>...</td>\n      <td>...</td>\n      <td>...</td>\n      <td>...</td>\n      <td>...</td>\n      <td>...</td>\n      <td>...</td>\n      <td>...</td>\n      <td>...</td>\n      <td>...</td>\n      <td>...</td>\n      <td>...</td>\n      <td>...</td>\n    </tr>\n    <tr>\n      <th>73262</th>\n      <td>0.0</td>\n      <td>0.5</td>\n      <td>0.0</td>\n      <td>0.5</td>\n      <td>0.00</td>\n      <td>0.75</td>\n      <td>0.0</td>\n      <td>0.0</td>\n      <td>0.0</td>\n      <td>0.0</td>\n      <td>...</td>\n      <td>0</td>\n      <td>0</td>\n      <td>0</td>\n      <td>0</td>\n      <td>0</td>\n      <td>0</td>\n      <td>0</td>\n      <td>0</td>\n      <td>0</td>\n      <td>0</td>\n    </tr>\n    <tr>\n      <th>73263</th>\n      <td>0.0</td>\n      <td>0.0</td>\n      <td>1.5</td>\n      <td>0.0</td>\n      <td>0.00</td>\n      <td>0.00</td>\n      <td>0.0</td>\n      <td>0.0</td>\n      <td>0.0</td>\n      <td>1.0</td>\n      <td>...</td>\n      <td>0</td>\n      <td>0</td>\n      <td>0</td>\n      <td>0</td>\n      <td>0</td>\n      <td>1</td>\n      <td>0</td>\n      <td>1</td>\n      <td>1</td>\n      <td>1</td>\n    </tr>\n    <tr>\n      <th>73264</th>\n      <td>0.0</td>\n      <td>0.0</td>\n      <td>1.0</td>\n      <td>0.0</td>\n      <td>0.00</td>\n      <td>0.00</td>\n      <td>0.0</td>\n      <td>0.0</td>\n      <td>0.0</td>\n      <td>0.0</td>\n      <td>...</td>\n      <td>0</td>\n      <td>0</td>\n      <td>0</td>\n      <td>0</td>\n      <td>0</td>\n      <td>0</td>\n      <td>0</td>\n      <td>0</td>\n      <td>0</td>\n      <td>0</td>\n    </tr>\n    <tr>\n      <th>73265</th>\n      <td>0.0</td>\n      <td>0.0</td>\n      <td>0.0</td>\n      <td>0.0</td>\n      <td>0.25</td>\n      <td>0.00</td>\n      <td>0.0</td>\n      <td>0.0</td>\n      <td>0.0</td>\n      <td>0.0</td>\n      <td>...</td>\n      <td>0</td>\n      <td>0</td>\n      <td>1</td>\n      <td>1</td>\n      <td>0</td>\n      <td>0</td>\n      <td>0</td>\n      <td>0</td>\n      <td>0</td>\n      <td>0</td>\n    </tr>\n    <tr>\n      <th>73266</th>\n      <td>0.0</td>\n      <td>0.0</td>\n      <td>0.0</td>\n      <td>0.0</td>\n      <td>1.00</td>\n      <td>0.00</td>\n      <td>0.0</td>\n      <td>0.0</td>\n      <td>0.0</td>\n      <td>0.0</td>\n      <td>...</td>\n      <td>0</td>\n      <td>0</td>\n      <td>0</td>\n      <td>0</td>\n      <td>0</td>\n      <td>0</td>\n      <td>0</td>\n      <td>0</td>\n      <td>0</td>\n      <td>0</td>\n    </tr>\n  </tbody>\n</table>\n<p>50423 rows × 228 columns</p>\n</div>"
     },
     "execution_count": 5,
     "metadata": {},
     "output_type": "execute_result"
    }
   ],
   "source": [
    "skills_dev_df"
   ],
   "metadata": {
    "collapsed": false
   }
  },
  {
   "cell_type": "markdown",
   "source": [
    "# 1. Choosing features\n",
    "we need to choose between original features or clusters features, which one gives us the best results in classification to proceed with them in hero model"
   ],
   "metadata": {
    "collapsed": false
   }
  },
  {
   "cell_type": "markdown",
   "source": [
    "we will use class weights formula:\n",
    "# $$ w_j=\\frac{n\\_samples}{(n\\_classes * n\\_samples_j)} $$"
   ],
   "metadata": {
    "collapsed": false
   }
  },
  {
   "cell_type": "code",
   "execution_count": 6,
   "outputs": [
    {
     "data": {
      "text/plain": "                                         job_type   freq  class_weights\n0                             Academic researcher   1692       3.253805\n1                                      Blockchain    693       7.944354\n2                   Cloud infrastructure engineer   2620       2.101312\n3                        Data or business analyst   1517       3.629161\n4   Data scientist or machine learning specialist   2210       2.491148\n5                          Database administrator   1405       3.918461\n6                               DevOps specialist   3142       1.752208\n7                            Developer_QA or test   1297       4.244747\n8                              Developer_back-end  18692       0.294534\n9    Developer_desktop or enterprise applications   5442       1.011657\n10     Developer_embedded applications or devices   2073       2.655783\n11                            Developer_front-end   9888       0.556780\n12                           Developer_full-stack  20928       0.263066\n13                     Developer_game or graphics    945       5.825860\n14                               Developer_mobile   4516       1.219096\n15                                  Engineer_data   1982       2.777718\n16                      Engineer_site reliability    817       6.738602\n17                                      Scientist   1002       5.494449\n18                          Security professional    740       7.439780\n19             Senior Executive (C-Suite_VP_etc.)    796       6.916379\n20                           System administrator   1773       3.105154\n21                                full_stack_.NET   7816       0.704380\n22                                full_stack_Java   8158       0.674851\n23                         full_stack_.JavaScript  11917       0.461982\n24                                 full_stack_PHP  11070       0.497329\n25                              full_stack_python   6991       0.787504\n26                                  back_end_Java   8415       0.654241\n27                           back_end_.JavaScript   8095       0.680103\n28                                  back_end_.NET   5691       0.967394\n29                                   back_end_C++   7165       0.768379\n30                                back_end_python   8488       0.648614\n31                                   back_end_PHP   8198       0.671559",
      "text/html": "<div>\n<style scoped>\n    .dataframe tbody tr th:only-of-type {\n        vertical-align: middle;\n    }\n\n    .dataframe tbody tr th {\n        vertical-align: top;\n    }\n\n    .dataframe thead th {\n        text-align: right;\n    }\n</style>\n<table border=\"1\" class=\"dataframe\">\n  <thead>\n    <tr style=\"text-align: right;\">\n      <th></th>\n      <th>job_type</th>\n      <th>freq</th>\n      <th>class_weights</th>\n    </tr>\n  </thead>\n  <tbody>\n    <tr>\n      <th>0</th>\n      <td>Academic researcher</td>\n      <td>1692</td>\n      <td>3.253805</td>\n    </tr>\n    <tr>\n      <th>1</th>\n      <td>Blockchain</td>\n      <td>693</td>\n      <td>7.944354</td>\n    </tr>\n    <tr>\n      <th>2</th>\n      <td>Cloud infrastructure engineer</td>\n      <td>2620</td>\n      <td>2.101312</td>\n    </tr>\n    <tr>\n      <th>3</th>\n      <td>Data or business analyst</td>\n      <td>1517</td>\n      <td>3.629161</td>\n    </tr>\n    <tr>\n      <th>4</th>\n      <td>Data scientist or machine learning specialist</td>\n      <td>2210</td>\n      <td>2.491148</td>\n    </tr>\n    <tr>\n      <th>5</th>\n      <td>Database administrator</td>\n      <td>1405</td>\n      <td>3.918461</td>\n    </tr>\n    <tr>\n      <th>6</th>\n      <td>DevOps specialist</td>\n      <td>3142</td>\n      <td>1.752208</td>\n    </tr>\n    <tr>\n      <th>7</th>\n      <td>Developer_QA or test</td>\n      <td>1297</td>\n      <td>4.244747</td>\n    </tr>\n    <tr>\n      <th>8</th>\n      <td>Developer_back-end</td>\n      <td>18692</td>\n      <td>0.294534</td>\n    </tr>\n    <tr>\n      <th>9</th>\n      <td>Developer_desktop or enterprise applications</td>\n      <td>5442</td>\n      <td>1.011657</td>\n    </tr>\n    <tr>\n      <th>10</th>\n      <td>Developer_embedded applications or devices</td>\n      <td>2073</td>\n      <td>2.655783</td>\n    </tr>\n    <tr>\n      <th>11</th>\n      <td>Developer_front-end</td>\n      <td>9888</td>\n      <td>0.556780</td>\n    </tr>\n    <tr>\n      <th>12</th>\n      <td>Developer_full-stack</td>\n      <td>20928</td>\n      <td>0.263066</td>\n    </tr>\n    <tr>\n      <th>13</th>\n      <td>Developer_game or graphics</td>\n      <td>945</td>\n      <td>5.825860</td>\n    </tr>\n    <tr>\n      <th>14</th>\n      <td>Developer_mobile</td>\n      <td>4516</td>\n      <td>1.219096</td>\n    </tr>\n    <tr>\n      <th>15</th>\n      <td>Engineer_data</td>\n      <td>1982</td>\n      <td>2.777718</td>\n    </tr>\n    <tr>\n      <th>16</th>\n      <td>Engineer_site reliability</td>\n      <td>817</td>\n      <td>6.738602</td>\n    </tr>\n    <tr>\n      <th>17</th>\n      <td>Scientist</td>\n      <td>1002</td>\n      <td>5.494449</td>\n    </tr>\n    <tr>\n      <th>18</th>\n      <td>Security professional</td>\n      <td>740</td>\n      <td>7.439780</td>\n    </tr>\n    <tr>\n      <th>19</th>\n      <td>Senior Executive (C-Suite_VP_etc.)</td>\n      <td>796</td>\n      <td>6.916379</td>\n    </tr>\n    <tr>\n      <th>20</th>\n      <td>System administrator</td>\n      <td>1773</td>\n      <td>3.105154</td>\n    </tr>\n    <tr>\n      <th>21</th>\n      <td>full_stack_.NET</td>\n      <td>7816</td>\n      <td>0.704380</td>\n    </tr>\n    <tr>\n      <th>22</th>\n      <td>full_stack_Java</td>\n      <td>8158</td>\n      <td>0.674851</td>\n    </tr>\n    <tr>\n      <th>23</th>\n      <td>full_stack_.JavaScript</td>\n      <td>11917</td>\n      <td>0.461982</td>\n    </tr>\n    <tr>\n      <th>24</th>\n      <td>full_stack_PHP</td>\n      <td>11070</td>\n      <td>0.497329</td>\n    </tr>\n    <tr>\n      <th>25</th>\n      <td>full_stack_python</td>\n      <td>6991</td>\n      <td>0.787504</td>\n    </tr>\n    <tr>\n      <th>26</th>\n      <td>back_end_Java</td>\n      <td>8415</td>\n      <td>0.654241</td>\n    </tr>\n    <tr>\n      <th>27</th>\n      <td>back_end_.JavaScript</td>\n      <td>8095</td>\n      <td>0.680103</td>\n    </tr>\n    <tr>\n      <th>28</th>\n      <td>back_end_.NET</td>\n      <td>5691</td>\n      <td>0.967394</td>\n    </tr>\n    <tr>\n      <th>29</th>\n      <td>back_end_C++</td>\n      <td>7165</td>\n      <td>0.768379</td>\n    </tr>\n    <tr>\n      <th>30</th>\n      <td>back_end_python</td>\n      <td>8488</td>\n      <td>0.648614</td>\n    </tr>\n    <tr>\n      <th>31</th>\n      <td>back_end_PHP</td>\n      <td>8198</td>\n      <td>0.671559</td>\n    </tr>\n  </tbody>\n</table>\n</div>"
     },
     "execution_count": 6,
     "metadata": {},
     "output_type": "execute_result"
    }
   ],
   "source": [
    "jobs_freq = skills_dev_df['DevType'].sum().reset_index()\n",
    "jobs_freq.columns = ['job_type', 'freq']\n",
    "jobs_freq.loc[:, 'class_weights'] = jobs_freq['freq'].sum() / (jobs_freq['job_type'].count() * jobs_freq['freq'])\n",
    "jobs_freq"
   ],
   "metadata": {
    "collapsed": false
   }
  },
  {
   "cell_type": "code",
   "execution_count": 7,
   "outputs": [
    {
     "data": {
      "text/plain": "2        12.564248\n3         0.967446\n7         1.897228\n9         2.230753\n10        2.229374\n           ...    \n73262     0.556780\n73263     3.063190\n73264     2.491148\n73265     6.369090\n73266     1.568437\nName: weights, Length: 50423, dtype: float64"
     },
     "execution_count": 7,
     "metadata": {},
     "output_type": "execute_result"
    }
   ],
   "source": [
    "sample_weights = (jobs_freq['class_weights'].values * skills_dev_df['DevType'].values).sum(axis = 1)\n",
    "sample_weights = pd.Series(sample_weights, index=skills_dev_df.index, name='weights')\n",
    "sample_weights"
   ],
   "metadata": {
    "collapsed": false
   }
  },
  {
   "cell_type": "markdown",
   "source": [
    "------------"
   ],
   "metadata": {
    "collapsed": false
   }
  },
  {
   "cell_type": "code",
   "execution_count": 8,
   "outputs": [],
   "source": [
    "X = skills_dev_df.drop('DevType', axis = 1, level=0).droplevel(axis = 1, level = 0)\n",
    "y = skills_dev_df['DevType']\n",
    "clustered_features = skills_dev_df['clustered_skills'].columns\n",
    "original_features = X.drop(columns=clustered_features).columns"
   ],
   "metadata": {
    "collapsed": false
   }
  },
  {
   "cell_type": "code",
   "execution_count": 9,
   "outputs": [],
   "source": [
    "X_train, X_test, Y_train, Y_test= train_test_split(X, y, test_size=0.3, random_state=0)\n",
    "# scaler = skp.StandardScaler()\n",
    "# scaler.fit(X_train.values)\n",
    "# X_train = pd.DataFrame(scaler.transform(X_train.values), columns=X_train.columns)\n",
    "# X_test = pd.DataFrame(scaler.transform(X_test.values), columns = X_train.columns)\n",
    "# X_train"
   ],
   "metadata": {
    "collapsed": false
   }
  },
  {
   "cell_type": "code",
   "execution_count": 10,
   "outputs": [],
   "source": [
    "# sample_weights = sample_weights[Y_train.index]\n",
    "# sample_weights= sample_weights / sample_weights.sum()\n",
    "# sample_weights"
   ],
   "metadata": {
    "collapsed": false
   }
  },
  {
   "cell_type": "code",
   "execution_count": 11,
   "outputs": [],
   "source": [
    "def confusion_matrix_scores(confusion_matrix):\n",
    "    # tp / tp + fn\n",
    "    recall = confusion_matrix[1,1] / (confusion_matrix[1,1] + confusion_matrix[1,0])\n",
    "    accuracy = (confusion_matrix[1,1] + confusion_matrix[0,0])/ confusion_matrix.sum().sum()\n",
    "\n",
    "    if not (confusion_matrix[1, 1] + confusion_matrix[0, 1]):\n",
    "        precision = 0.0\n",
    "    else:\n",
    "        precision =  confusion_matrix[1,1] / (confusion_matrix[1,1] + confusion_matrix[0,1])\n",
    "\n",
    "    if recall and precision:\n",
    "        f1 = 2 * (precision * recall) / (precision + recall)\n",
    "    else:\n",
    "        f1 = 0.0\n",
    "\n",
    "    return {'precision' : precision, 'recall' : recall, 'f1_score' : f1 , 'accuracy' : accuracy}"
   ],
   "metadata": {
    "collapsed": false
   }
  },
  {
   "cell_type": "code",
   "execution_count": 12,
   "outputs": [],
   "source": [
    "features_types = ({'original_features' : original_features  , 'clustered_features' : clustered_features})\n",
    "job_names =jobs_freq['job_type'].values\n"
   ],
   "metadata": {
    "collapsed": false
   }
  },
  {
   "cell_type": "code",
   "execution_count": 13,
   "outputs": [],
   "source": [
    "def train_evaluate_model_features(chosen_features='original_features'):\n",
    "    all_classification_report = []\n",
    "    features = features_types[chosen_features]\n",
    "    X_train_features = X_train[features].copy()\n",
    "    X_test_features = X_test[features].copy()\n",
    "    model = make_pipeline(skp.StandardScaler(), MultiOutputClassifier(LogisticRegression()))\n",
    "    model.fit(X_train_features, Y_train, multioutputclassifier__sample_weight=sample_weights[Y_train.index])\n",
    "    for j, evaluate_type in enumerate(['train', 'test']):\n",
    "        classification_report = {}\n",
    "        f1_scores = []\n",
    "        X_ = X_test_features if j else X_train_features\n",
    "        y_ = Y_test if j else Y_train\n",
    "        multilabel_confusion_matricies = skm.multilabel_confusion_matrix(y_, model.predict(X_))\n",
    "        # print(multilabel_confusion_matricies)\n",
    "        for n, cm in enumerate(multilabel_confusion_matricies):\n",
    "            results = confusion_matrix_scores(cm)\n",
    "            classification_report[job_names[n]] = results\n",
    "            f1_scores.append(results['f1_score'])\n",
    "\n",
    "        print(chosen_features + '-' + evaluate_type + '_f1-score: ', np.array(f1_scores).mean())\n",
    "        classification_report = pd.DataFrame(classification_report).T\n",
    "\n",
    "        classification_report.columns = pd.MultiIndex.from_product([[chosen_features + '-' + evaluate_type], classification_report.columns])\n",
    "        if isinstance(all_classification_report, pd.DataFrame):\n",
    "            all_classification_report = all_classification_report.merge(classification_report, left_index=True, right_index=True)\n",
    "        else:\n",
    "            all_classification_report = classification_report.copy()\n",
    "\n",
    "\n",
    "    return model, all_classification_report\n",
    "\n"
   ],
   "metadata": {
    "collapsed": false
   }
  },
  {
   "cell_type": "code",
   "execution_count": 14,
   "outputs": [
    {
     "name": "stdout",
     "output_type": "stream",
     "text": [
      "original_features-train_f1-score:  0.3972966796399631\n",
      "original_features-test_f1-score:  0.38754417764115096\n"
     ]
    }
   ],
   "source": [
    "original_features_model, classification_report_original_features = train_evaluate_model_features('original_features')"
   ],
   "metadata": {
    "collapsed": false
   }
  },
  {
   "cell_type": "code",
   "execution_count": 15,
   "outputs": [
    {
     "name": "stdout",
     "output_type": "stream",
     "text": [
      "clustered_features-train_f1-score:  0.32063302026340895\n",
      "clustered_features-test_f1-score:  0.3195561466830471\n"
     ]
    }
   ],
   "source": [
    "clustered_features_model, classification_report_clustered_features = train_evaluate_model_features('clustered_features')"
   ],
   "metadata": {
    "collapsed": false
   }
  },
  {
   "cell_type": "code",
   "execution_count": 16,
   "outputs": [
    {
     "data": {
      "text/plain": "                                              original_features-train  \\\n                                                            precision   \nAcademic researcher                                          0.463415   \nBlockchain                                                   0.441176   \nCloud infrastructure engineer                                0.429501   \nData or business analyst                                     0.428125   \nData scientist or machine learning specialist                0.648450   \nDatabase administrator                                       0.260870   \nDevOps specialist                                            0.493235   \nDeveloper_QA or test                                         0.333333   \nDeveloper_back-end                                           0.591518   \nDeveloper_desktop or enterprise applications                 0.612589   \nDeveloper_embedded applications or devices                   0.587762   \nDeveloper_front-end                                          0.616557   \nDeveloper_full-stack                                         0.673869   \nDeveloper_game or graphics                                   0.451417   \nDeveloper_mobile                                             0.734556   \nEngineer_data                                                0.538175   \nEngineer_site reliability                                    0.314410   \nScientist                                                    0.394558   \nSecurity professional                                        0.216216   \nSenior Executive (C-Suite_VP_etc.)                           0.100000   \nSystem administrator                                         0.314815   \nfull_stack_.NET                                              0.699437   \nfull_stack_Java                                              0.634437   \nfull_stack_.JavaScript                                       0.686360   \nfull_stack_PHP                                               0.690522   \nfull_stack_python                                            0.643014   \nback_end_Java                                                0.604891   \nback_end_.JavaScript                                         0.448542   \nback_end_.NET                                                0.517828   \nback_end_C++                                                 0.554313   \nback_end_python                                              0.565636   \nback_end_PHP                                                 0.533512   \nMean                                                         0.506970   \n\n                                                                             \\\n                                                 recall  f1_score  accuracy   \nAcademic researcher                            0.224662  0.302617  0.965265   \nBlockchain                                     0.258621  0.326087  0.985947   \nCloud infrastructure engineer                  0.218423  0.289580  0.944951   \nData or business analyst                       0.130104  0.199563  0.968863   \nData scientist or machine learning specialist  0.502211  0.566038  0.965464   \nDatabase administrator                         0.030151  0.054054  0.970252   \nDevOps specialist                              0.181777  0.265651  0.937188   \nDeveloper_QA or test                           0.001112  0.002217  0.974501   \nDeveloper_back-end                             0.614549  0.602814  0.700051   \nDeveloper_desktop or enterprise applications   0.182082  0.280723  0.899677   \nDeveloper_embedded applications or devices     0.255961  0.356619  0.962687   \nDeveloper_front-end                            0.390297  0.478004  0.832247   \nDeveloper_full-stack                           0.732187  0.701819  0.741727   \nDeveloper_game or graphics                     0.337368  0.386147  0.979913   \nDeveloper_mobile                               0.580838  0.648715  0.943450   \nEngineer_data                                  0.200555  0.292214  0.960335   \nEngineer_site reliability                      0.127660  0.181589  0.981613   \nScientist                                      0.241667  0.299742  0.976966   \nSecurity professional                          0.030189  0.052980  0.983794   \nSenior Executive (C-Suite_VP_etc.)             0.003466  0.006700  0.983199   \nSystem administrator                           0.054972  0.093599  0.962687   \nfull_stack_.NET                                0.637880  0.667242  0.901689   \nfull_stack_Java                                0.554321  0.591679  0.877097   \nfull_stack_.JavaScript                         0.702059  0.694120  0.854374   \nfull_stack_PHP                                 0.646488  0.667780  0.859106   \nfull_stack_python                              0.543375  0.589010  0.895739   \nback_end_Java                                  0.615333  0.610067  0.868314   \nback_end_.JavaScript                           0.462586  0.455456  0.822841   \nback_end_.NET                                  0.551421  0.534096  0.891602   \nback_end_C++                                   0.448222  0.495654  0.868484   \nback_end_python                                0.466865  0.511527  0.847518   \nback_end_PHP                                   0.487354  0.509389  0.847518   \nMean                                           0.356711  0.397297  0.911096   \n\n                                              original_features-test  \\\n                                                           precision   \nAcademic researcher                                         0.468619   \nBlockchain                                                  0.418803   \nCloud infrastructure engineer                               0.363636   \nData or business analyst                                    0.392857   \nData scientist or machine learning specialist               0.591603   \nDatabase administrator                                      0.260000   \nDevOps specialist                                           0.494475   \nDeveloper_QA or test                                        0.000000   \nDeveloper_back-end                                          0.589631   \nDeveloper_desktop or enterprise applications                0.587368   \nDeveloper_embedded applications or devices                  0.561462   \nDeveloper_front-end                                         0.588267   \nDeveloper_full-stack                                        0.677106   \nDeveloper_game or graphics                                  0.373272   \nDeveloper_mobile                                            0.735708   \nEngineer_data                                               0.481172   \nEngineer_site reliability                                   0.350000   \nScientist                                                   0.372222   \nSecurity professional                                       0.128205   \nSenior Executive (C-Suite_VP_etc.)                          0.090909   \nSystem administrator                                        0.260870   \nfull_stack_.NET                                             0.689284   \nfull_stack_Java                                             0.637512   \nfull_stack_.JavaScript                                      0.685944   \nfull_stack_PHP                                              0.686419   \nfull_stack_python                                           0.652817   \nback_end_Java                                               0.588371   \nback_end_.JavaScript                                        0.448728   \nback_end_.NET                                               0.516218   \nback_end_C++                                                0.529709   \nback_end_python                                             0.537428   \nback_end_PHP                                                0.511199   \nMean                                                        0.477182   \n\n                                                                             \n                                                 recall  f1_score  accuracy  \nAcademic researcher                            0.220472  0.299866  0.965426  \nBlockchain                                     0.213974  0.283237  0.983605  \nCloud infrastructure engineer                  0.173482  0.234899  0.939710  \nData or business analyst                       0.118534  0.182119  0.967343  \nData scientist or machine learning specialist  0.494418  0.538662  0.964897  \nDatabase administrator                         0.031707  0.056522  0.971310  \nDevOps specialist                              0.191239  0.275809  0.937859  \nDeveloper_QA or test                           0.000000  0.000000  0.973557  \nDeveloper_back-end                             0.619327  0.604114  0.698486  \nDeveloper_desktop or enterprise applications   0.169399  0.262959  0.896609  \nDeveloper_embedded applications or devices     0.261206  0.356540  0.959675  \nDeveloper_front-end                            0.374915  0.457961  0.827395  \nDeveloper_full-stack                           0.733748  0.704290  0.744364  \nDeveloper_game or graphics                     0.285211  0.323353  0.977590  \nDeveloper_mobile                               0.584512  0.651452  0.944470  \nEngineer_data                                  0.212569  0.294872  0.963641  \nEngineer_site reliability                      0.138340  0.198300  0.981292  \nScientist                                      0.237589  0.290043  0.978317  \nSecurity professional                          0.023810  0.040161  0.984200  \nSenior Executive (C-Suite_VP_etc.)             0.004566  0.008696  0.984928  \nSystem administrator                           0.044776  0.076433  0.961658  \nfull_stack_.NET                                0.623624  0.654812  0.897336  \nfull_stack_Java                                0.547830  0.589278  0.874397  \nfull_stack_.JavaScript                         0.709695  0.697617  0.853176  \nfull_stack_PHP                                 0.641809  0.663365  0.856217  \nfull_stack_python                              0.536483  0.588960  0.894163  \nback_end_Java                                  0.609737  0.598863  0.864679  \nback_end_.JavaScript                           0.476658  0.462272  0.820982  \nback_end_.NET                                  0.547841  0.531560  0.890593  \nback_end_C++                                   0.455202  0.489637  0.869769  \nback_end_python                                0.456770  0.493827  0.848218  \nback_end_PHP                                   0.472211  0.490932  0.840418  \nMean                                           0.350364  0.387544  0.909884  ",
      "text/html": "<div>\n<style scoped>\n    .dataframe tbody tr th:only-of-type {\n        vertical-align: middle;\n    }\n\n    .dataframe tbody tr th {\n        vertical-align: top;\n    }\n\n    .dataframe thead tr th {\n        text-align: left;\n    }\n</style>\n<table border=\"1\" class=\"dataframe\">\n  <thead>\n    <tr>\n      <th></th>\n      <th colspan=\"4\" halign=\"left\">original_features-train</th>\n      <th colspan=\"4\" halign=\"left\">original_features-test</th>\n    </tr>\n    <tr>\n      <th></th>\n      <th>precision</th>\n      <th>recall</th>\n      <th>f1_score</th>\n      <th>accuracy</th>\n      <th>precision</th>\n      <th>recall</th>\n      <th>f1_score</th>\n      <th>accuracy</th>\n    </tr>\n  </thead>\n  <tbody>\n    <tr>\n      <th>Academic researcher</th>\n      <td>0.463415</td>\n      <td>0.224662</td>\n      <td>0.302617</td>\n      <td>0.965265</td>\n      <td>0.468619</td>\n      <td>0.220472</td>\n      <td>0.299866</td>\n      <td>0.965426</td>\n    </tr>\n    <tr>\n      <th>Blockchain</th>\n      <td>0.441176</td>\n      <td>0.258621</td>\n      <td>0.326087</td>\n      <td>0.985947</td>\n      <td>0.418803</td>\n      <td>0.213974</td>\n      <td>0.283237</td>\n      <td>0.983605</td>\n    </tr>\n    <tr>\n      <th>Cloud infrastructure engineer</th>\n      <td>0.429501</td>\n      <td>0.218423</td>\n      <td>0.289580</td>\n      <td>0.944951</td>\n      <td>0.363636</td>\n      <td>0.173482</td>\n      <td>0.234899</td>\n      <td>0.939710</td>\n    </tr>\n    <tr>\n      <th>Data or business analyst</th>\n      <td>0.428125</td>\n      <td>0.130104</td>\n      <td>0.199563</td>\n      <td>0.968863</td>\n      <td>0.392857</td>\n      <td>0.118534</td>\n      <td>0.182119</td>\n      <td>0.967343</td>\n    </tr>\n    <tr>\n      <th>Data scientist or machine learning specialist</th>\n      <td>0.648450</td>\n      <td>0.502211</td>\n      <td>0.566038</td>\n      <td>0.965464</td>\n      <td>0.591603</td>\n      <td>0.494418</td>\n      <td>0.538662</td>\n      <td>0.964897</td>\n    </tr>\n    <tr>\n      <th>Database administrator</th>\n      <td>0.260870</td>\n      <td>0.030151</td>\n      <td>0.054054</td>\n      <td>0.970252</td>\n      <td>0.260000</td>\n      <td>0.031707</td>\n      <td>0.056522</td>\n      <td>0.971310</td>\n    </tr>\n    <tr>\n      <th>DevOps specialist</th>\n      <td>0.493235</td>\n      <td>0.181777</td>\n      <td>0.265651</td>\n      <td>0.937188</td>\n      <td>0.494475</td>\n      <td>0.191239</td>\n      <td>0.275809</td>\n      <td>0.937859</td>\n    </tr>\n    <tr>\n      <th>Developer_QA or test</th>\n      <td>0.333333</td>\n      <td>0.001112</td>\n      <td>0.002217</td>\n      <td>0.974501</td>\n      <td>0.000000</td>\n      <td>0.000000</td>\n      <td>0.000000</td>\n      <td>0.973557</td>\n    </tr>\n    <tr>\n      <th>Developer_back-end</th>\n      <td>0.591518</td>\n      <td>0.614549</td>\n      <td>0.602814</td>\n      <td>0.700051</td>\n      <td>0.589631</td>\n      <td>0.619327</td>\n      <td>0.604114</td>\n      <td>0.698486</td>\n    </tr>\n    <tr>\n      <th>Developer_desktop or enterprise applications</th>\n      <td>0.612589</td>\n      <td>0.182082</td>\n      <td>0.280723</td>\n      <td>0.899677</td>\n      <td>0.587368</td>\n      <td>0.169399</td>\n      <td>0.262959</td>\n      <td>0.896609</td>\n    </tr>\n    <tr>\n      <th>Developer_embedded applications or devices</th>\n      <td>0.587762</td>\n      <td>0.255961</td>\n      <td>0.356619</td>\n      <td>0.962687</td>\n      <td>0.561462</td>\n      <td>0.261206</td>\n      <td>0.356540</td>\n      <td>0.959675</td>\n    </tr>\n    <tr>\n      <th>Developer_front-end</th>\n      <td>0.616557</td>\n      <td>0.390297</td>\n      <td>0.478004</td>\n      <td>0.832247</td>\n      <td>0.588267</td>\n      <td>0.374915</td>\n      <td>0.457961</td>\n      <td>0.827395</td>\n    </tr>\n    <tr>\n      <th>Developer_full-stack</th>\n      <td>0.673869</td>\n      <td>0.732187</td>\n      <td>0.701819</td>\n      <td>0.741727</td>\n      <td>0.677106</td>\n      <td>0.733748</td>\n      <td>0.704290</td>\n      <td>0.744364</td>\n    </tr>\n    <tr>\n      <th>Developer_game or graphics</th>\n      <td>0.451417</td>\n      <td>0.337368</td>\n      <td>0.386147</td>\n      <td>0.979913</td>\n      <td>0.373272</td>\n      <td>0.285211</td>\n      <td>0.323353</td>\n      <td>0.977590</td>\n    </tr>\n    <tr>\n      <th>Developer_mobile</th>\n      <td>0.734556</td>\n      <td>0.580838</td>\n      <td>0.648715</td>\n      <td>0.943450</td>\n      <td>0.735708</td>\n      <td>0.584512</td>\n      <td>0.651452</td>\n      <td>0.944470</td>\n    </tr>\n    <tr>\n      <th>Engineer_data</th>\n      <td>0.538175</td>\n      <td>0.200555</td>\n      <td>0.292214</td>\n      <td>0.960335</td>\n      <td>0.481172</td>\n      <td>0.212569</td>\n      <td>0.294872</td>\n      <td>0.963641</td>\n    </tr>\n    <tr>\n      <th>Engineer_site reliability</th>\n      <td>0.314410</td>\n      <td>0.127660</td>\n      <td>0.181589</td>\n      <td>0.981613</td>\n      <td>0.350000</td>\n      <td>0.138340</td>\n      <td>0.198300</td>\n      <td>0.981292</td>\n    </tr>\n    <tr>\n      <th>Scientist</th>\n      <td>0.394558</td>\n      <td>0.241667</td>\n      <td>0.299742</td>\n      <td>0.976966</td>\n      <td>0.372222</td>\n      <td>0.237589</td>\n      <td>0.290043</td>\n      <td>0.978317</td>\n    </tr>\n    <tr>\n      <th>Security professional</th>\n      <td>0.216216</td>\n      <td>0.030189</td>\n      <td>0.052980</td>\n      <td>0.983794</td>\n      <td>0.128205</td>\n      <td>0.023810</td>\n      <td>0.040161</td>\n      <td>0.984200</td>\n    </tr>\n    <tr>\n      <th>Senior Executive (C-Suite_VP_etc.)</th>\n      <td>0.100000</td>\n      <td>0.003466</td>\n      <td>0.006700</td>\n      <td>0.983199</td>\n      <td>0.090909</td>\n      <td>0.004566</td>\n      <td>0.008696</td>\n      <td>0.984928</td>\n    </tr>\n    <tr>\n      <th>System administrator</th>\n      <td>0.314815</td>\n      <td>0.054972</td>\n      <td>0.093599</td>\n      <td>0.962687</td>\n      <td>0.260870</td>\n      <td>0.044776</td>\n      <td>0.076433</td>\n      <td>0.961658</td>\n    </tr>\n    <tr>\n      <th>full_stack_.NET</th>\n      <td>0.699437</td>\n      <td>0.637880</td>\n      <td>0.667242</td>\n      <td>0.901689</td>\n      <td>0.689284</td>\n      <td>0.623624</td>\n      <td>0.654812</td>\n      <td>0.897336</td>\n    </tr>\n    <tr>\n      <th>full_stack_Java</th>\n      <td>0.634437</td>\n      <td>0.554321</td>\n      <td>0.591679</td>\n      <td>0.877097</td>\n      <td>0.637512</td>\n      <td>0.547830</td>\n      <td>0.589278</td>\n      <td>0.874397</td>\n    </tr>\n    <tr>\n      <th>full_stack_.JavaScript</th>\n      <td>0.686360</td>\n      <td>0.702059</td>\n      <td>0.694120</td>\n      <td>0.854374</td>\n      <td>0.685944</td>\n      <td>0.709695</td>\n      <td>0.697617</td>\n      <td>0.853176</td>\n    </tr>\n    <tr>\n      <th>full_stack_PHP</th>\n      <td>0.690522</td>\n      <td>0.646488</td>\n      <td>0.667780</td>\n      <td>0.859106</td>\n      <td>0.686419</td>\n      <td>0.641809</td>\n      <td>0.663365</td>\n      <td>0.856217</td>\n    </tr>\n    <tr>\n      <th>full_stack_python</th>\n      <td>0.643014</td>\n      <td>0.543375</td>\n      <td>0.589010</td>\n      <td>0.895739</td>\n      <td>0.652817</td>\n      <td>0.536483</td>\n      <td>0.588960</td>\n      <td>0.894163</td>\n    </tr>\n    <tr>\n      <th>back_end_Java</th>\n      <td>0.604891</td>\n      <td>0.615333</td>\n      <td>0.610067</td>\n      <td>0.868314</td>\n      <td>0.588371</td>\n      <td>0.609737</td>\n      <td>0.598863</td>\n      <td>0.864679</td>\n    </tr>\n    <tr>\n      <th>back_end_.JavaScript</th>\n      <td>0.448542</td>\n      <td>0.462586</td>\n      <td>0.455456</td>\n      <td>0.822841</td>\n      <td>0.448728</td>\n      <td>0.476658</td>\n      <td>0.462272</td>\n      <td>0.820982</td>\n    </tr>\n    <tr>\n      <th>back_end_.NET</th>\n      <td>0.517828</td>\n      <td>0.551421</td>\n      <td>0.534096</td>\n      <td>0.891602</td>\n      <td>0.516218</td>\n      <td>0.547841</td>\n      <td>0.531560</td>\n      <td>0.890593</td>\n    </tr>\n    <tr>\n      <th>back_end_C++</th>\n      <td>0.554313</td>\n      <td>0.448222</td>\n      <td>0.495654</td>\n      <td>0.868484</td>\n      <td>0.529709</td>\n      <td>0.455202</td>\n      <td>0.489637</td>\n      <td>0.869769</td>\n    </tr>\n    <tr>\n      <th>back_end_python</th>\n      <td>0.565636</td>\n      <td>0.466865</td>\n      <td>0.511527</td>\n      <td>0.847518</td>\n      <td>0.537428</td>\n      <td>0.456770</td>\n      <td>0.493827</td>\n      <td>0.848218</td>\n    </tr>\n    <tr>\n      <th>back_end_PHP</th>\n      <td>0.533512</td>\n      <td>0.487354</td>\n      <td>0.509389</td>\n      <td>0.847518</td>\n      <td>0.511199</td>\n      <td>0.472211</td>\n      <td>0.490932</td>\n      <td>0.840418</td>\n    </tr>\n    <tr>\n      <th>Mean</th>\n      <td>0.506970</td>\n      <td>0.356711</td>\n      <td>0.397297</td>\n      <td>0.911096</td>\n      <td>0.477182</td>\n      <td>0.350364</td>\n      <td>0.387544</td>\n      <td>0.909884</td>\n    </tr>\n  </tbody>\n</table>\n</div>"
     },
     "execution_count": 16,
     "metadata": {},
     "output_type": "execute_result"
    }
   ],
   "source": [
    "classification_report_original_features.loc['Mean',:] = classification_report_original_features.mean()\n",
    "classification_report_original_features"
   ],
   "metadata": {
    "collapsed": false
   }
  },
  {
   "cell_type": "code",
   "execution_count": 17,
   "outputs": [
    {
     "data": {
      "text/plain": "                                              clustered_features-train  \\\n                                                             precision   \nAcademic researcher                                           0.389685   \nBlockchain                                                    0.194030   \nCloud infrastructure engineer                                 0.400000   \nData or business analyst                                      0.353591   \nData scientist or machine learning specialist                 0.635284   \nDatabase administrator                                        0.111111   \nDevOps specialist                                             0.459302   \nDeveloper_QA or test                                          0.000000   \nDeveloper_back-end                                            0.573663   \nDeveloper_desktop or enterprise applications                  0.617918   \nDeveloper_embedded applications or devices                    0.551724   \nDeveloper_front-end                                           0.596600   \nDeveloper_full-stack                                          0.665333   \nDeveloper_game or graphics                                    0.400000   \nDeveloper_mobile                                              0.739695   \nEngineer_data                                                 0.507853   \nEngineer_site reliability                                     0.264706   \nScientist                                                     0.355401   \nSecurity professional                                         0.200000   \nSenior Executive (C-Suite_VP_etc.)                            0.000000   \nSystem administrator                                          0.194444   \nfull_stack_.NET                                               0.706363   \nfull_stack_Java                                               0.609750   \nfull_stack_.JavaScript                                        0.681271   \nfull_stack_PHP                                                0.668670   \nfull_stack_python                                             0.599929   \nback_end_Java                                                 0.605346   \nback_end_.JavaScript                                          0.399642   \nback_end_.NET                                                 0.502133   \nback_end_C++                                                  0.491809   \nback_end_python                                               0.528185   \nback_end_PHP                                                  0.510037   \nMean                                                          0.453546   \n\n                                                                             \\\n                                                 recall  f1_score  accuracy   \nAcademic researcher                            0.114865  0.177430  0.964274   \nBlockchain                                     0.028017  0.048964  0.985692   \nCloud infrastructure engineer                  0.144512  0.212318  0.944923   \nData or business analyst                       0.060779  0.103728  0.968665   \nData scientist or machine learning specialist  0.473152  0.542361  0.964189   \nDatabase administrator                         0.001005  0.001992  0.971612   \nDevOps specialist                              0.071623  0.123922  0.936707   \nDeveloper_QA or test                           0.000000  0.000000  0.974530   \nDeveloper_back-end                             0.575155  0.574408  0.684327   \nDeveloper_desktop or enterprise applications   0.123584  0.205973  0.897552   \nDeveloper_embedded applications or devices     0.145863  0.230727  0.960704   \nDeveloper_front-end                            0.333429  0.427780  0.824456   \nDeveloper_full-stack                           0.703522  0.683895  0.730026   \nDeveloper_game or graphics                     0.251135  0.308550  0.978921   \nDeveloper_mobile                               0.520328  0.610916  0.940418   \nEngineer_data                                  0.134629  0.212836  0.959344   \nEngineer_site reliability                      0.047872  0.081081  0.982661   \nScientist                                      0.141667  0.202582  0.977250   \nSecurity professional                          0.001887  0.003738  0.984899   \nSenior Executive (C-Suite_VP_etc.)             0.000000  0.000000  0.983653   \nSystem administrator                           0.005659  0.010998  0.964330   \nfull_stack_.NET                                0.586175  0.640681  0.898402   \nfull_stack_Java                                0.465432  0.527906  0.866274   \nfull_stack_.JavaScript                         0.668232  0.674689  0.848340   \nfull_stack_PHP                                 0.561247  0.610267  0.842985   \nfull_stack_python                              0.350093  0.442160  0.878541   \nback_end_Java                                  0.555762  0.579495  0.864971   \nback_end_.JavaScript                           0.355387  0.376217  0.811253   \nback_end_.NET                                  0.473472  0.487382  0.887778   \nback_end_C++                                   0.265475  0.344819  0.854544   \nback_end_python                                0.310471  0.391068  0.834655   \nback_end_PHP                                   0.358974  0.421376  0.839869   \nMean                                           0.275919  0.320633  0.906461   \n\n                                              clustered_features-test  \\\n                                                            precision   \nAcademic researcher                                          0.426667   \nBlockchain                                                   0.142857   \nCloud infrastructure engineer                                0.325260   \nData or business analyst                                     0.400000   \nData scientist or machine learning specialist                0.608696   \nDatabase administrator                                       0.250000   \nDevOps specialist                                            0.369128   \nDeveloper_QA or test                                         0.000000   \nDeveloper_back-end                                           0.570347   \nDeveloper_desktop or enterprise applications                 0.647059   \nDeveloper_embedded applications or devices                   0.556180   \nDeveloper_front-end                                          0.582385   \nDeveloper_full-stack                                         0.669434   \nDeveloper_game or graphics                                   0.379121   \nDeveloper_mobile                                             0.747654   \nEngineer_data                                                0.518750   \nEngineer_site reliability                                    0.217391   \nScientist                                                    0.389831   \nSecurity professional                                        0.000000   \nSenior Executive (C-Suite_VP_etc.)                           0.000000   \nSystem administrator                                         0.071429   \nfull_stack_.NET                                              0.699244   \nfull_stack_Java                                              0.606388   \nfull_stack_.JavaScript                                       0.682227   \nfull_stack_PHP                                               0.677361   \nfull_stack_python                                            0.600631   \nback_end_Java                                                0.594953   \nback_end_.JavaScript                                         0.386619   \nback_end_.NET                                                0.509709   \nback_end_C++                                                 0.454395   \nback_end_python                                              0.500317   \nback_end_PHP                                                 0.509587   \nMean                                                         0.440426   \n\n                                                                             \n                                                 recall  f1_score  accuracy  \nAcademic researcher                            0.125984  0.194529  0.964963  \nBlockchain                                     0.017467  0.031128  0.983539  \nCloud infrastructure engineer                  0.116481  0.171533  0.939975  \nData or business analyst                       0.060345  0.104869  0.968401  \nData scientist or machine learning specialist  0.468900  0.529730  0.965492  \nDatabase administrator                         0.002439  0.004831  0.972764  \nDevOps specialist                              0.058761  0.101382  0.935546  \nDeveloper_QA or test                           0.000000  0.000000  0.973689  \nDeveloper_back-end                             0.576437  0.573376  0.681364  \nDeveloper_desktop or enterprise applications   0.126897  0.212183  0.897402  \nDeveloper_embedded applications or devices     0.153014  0.240000  0.958551  \nDeveloper_front-end                            0.330387  0.421601  0.823693  \nDeveloper_full-stack                           0.706660  0.687544  0.733523  \nDeveloper_game or graphics                     0.242958  0.296137  0.978317  \nDeveloper_mobile                               0.533879  0.622937  0.942619  \nEngineer_data                                  0.153420  0.236805  0.964633  \nEngineer_site reliability                      0.039526  0.066890  0.981556  \nScientist                                      0.163121  0.230000  0.979639  \nSecurity professional                          0.000000  0.000000  0.985919  \nSenior Executive (C-Suite_VP_etc.)             0.000000  0.000000  0.985456  \nSystem administrator                           0.001866  0.003636  0.963773  \nfull_stack_.NET                                0.587638  0.638601  0.896146  \nfull_stack_Java                                0.473071  0.531497  0.862828  \nfull_stack_.JavaScript                         0.672022  0.677086  0.847028  \nfull_stack_PHP                                 0.562743  0.614755  0.844318  \nfull_stack_python                              0.355940  0.446990  0.875521  \nback_end_Java                                  0.555068  0.574319  0.863687  \nback_end_.JavaScript                           0.352580  0.368816  0.805183  \nback_end_.NET                                  0.490082  0.499703  0.888808  \nback_end_C++                                   0.263969  0.333943  0.855490  \nback_end_python                                0.322186  0.391962  0.837972  \nback_end_PHP                                   0.355781  0.419016  0.839228  \nMean                                           0.277176  0.319556  0.906157  ",
      "text/html": "<div>\n<style scoped>\n    .dataframe tbody tr th:only-of-type {\n        vertical-align: middle;\n    }\n\n    .dataframe tbody tr th {\n        vertical-align: top;\n    }\n\n    .dataframe thead tr th {\n        text-align: left;\n    }\n</style>\n<table border=\"1\" class=\"dataframe\">\n  <thead>\n    <tr>\n      <th></th>\n      <th colspan=\"4\" halign=\"left\">clustered_features-train</th>\n      <th colspan=\"4\" halign=\"left\">clustered_features-test</th>\n    </tr>\n    <tr>\n      <th></th>\n      <th>precision</th>\n      <th>recall</th>\n      <th>f1_score</th>\n      <th>accuracy</th>\n      <th>precision</th>\n      <th>recall</th>\n      <th>f1_score</th>\n      <th>accuracy</th>\n    </tr>\n  </thead>\n  <tbody>\n    <tr>\n      <th>Academic researcher</th>\n      <td>0.389685</td>\n      <td>0.114865</td>\n      <td>0.177430</td>\n      <td>0.964274</td>\n      <td>0.426667</td>\n      <td>0.125984</td>\n      <td>0.194529</td>\n      <td>0.964963</td>\n    </tr>\n    <tr>\n      <th>Blockchain</th>\n      <td>0.194030</td>\n      <td>0.028017</td>\n      <td>0.048964</td>\n      <td>0.985692</td>\n      <td>0.142857</td>\n      <td>0.017467</td>\n      <td>0.031128</td>\n      <td>0.983539</td>\n    </tr>\n    <tr>\n      <th>Cloud infrastructure engineer</th>\n      <td>0.400000</td>\n      <td>0.144512</td>\n      <td>0.212318</td>\n      <td>0.944923</td>\n      <td>0.325260</td>\n      <td>0.116481</td>\n      <td>0.171533</td>\n      <td>0.939975</td>\n    </tr>\n    <tr>\n      <th>Data or business analyst</th>\n      <td>0.353591</td>\n      <td>0.060779</td>\n      <td>0.103728</td>\n      <td>0.968665</td>\n      <td>0.400000</td>\n      <td>0.060345</td>\n      <td>0.104869</td>\n      <td>0.968401</td>\n    </tr>\n    <tr>\n      <th>Data scientist or machine learning specialist</th>\n      <td>0.635284</td>\n      <td>0.473152</td>\n      <td>0.542361</td>\n      <td>0.964189</td>\n      <td>0.608696</td>\n      <td>0.468900</td>\n      <td>0.529730</td>\n      <td>0.965492</td>\n    </tr>\n    <tr>\n      <th>Database administrator</th>\n      <td>0.111111</td>\n      <td>0.001005</td>\n      <td>0.001992</td>\n      <td>0.971612</td>\n      <td>0.250000</td>\n      <td>0.002439</td>\n      <td>0.004831</td>\n      <td>0.972764</td>\n    </tr>\n    <tr>\n      <th>DevOps specialist</th>\n      <td>0.459302</td>\n      <td>0.071623</td>\n      <td>0.123922</td>\n      <td>0.936707</td>\n      <td>0.369128</td>\n      <td>0.058761</td>\n      <td>0.101382</td>\n      <td>0.935546</td>\n    </tr>\n    <tr>\n      <th>Developer_QA or test</th>\n      <td>0.000000</td>\n      <td>0.000000</td>\n      <td>0.000000</td>\n      <td>0.974530</td>\n      <td>0.000000</td>\n      <td>0.000000</td>\n      <td>0.000000</td>\n      <td>0.973689</td>\n    </tr>\n    <tr>\n      <th>Developer_back-end</th>\n      <td>0.573663</td>\n      <td>0.575155</td>\n      <td>0.574408</td>\n      <td>0.684327</td>\n      <td>0.570347</td>\n      <td>0.576437</td>\n      <td>0.573376</td>\n      <td>0.681364</td>\n    </tr>\n    <tr>\n      <th>Developer_desktop or enterprise applications</th>\n      <td>0.617918</td>\n      <td>0.123584</td>\n      <td>0.205973</td>\n      <td>0.897552</td>\n      <td>0.647059</td>\n      <td>0.126897</td>\n      <td>0.212183</td>\n      <td>0.897402</td>\n    </tr>\n    <tr>\n      <th>Developer_embedded applications or devices</th>\n      <td>0.551724</td>\n      <td>0.145863</td>\n      <td>0.230727</td>\n      <td>0.960704</td>\n      <td>0.556180</td>\n      <td>0.153014</td>\n      <td>0.240000</td>\n      <td>0.958551</td>\n    </tr>\n    <tr>\n      <th>Developer_front-end</th>\n      <td>0.596600</td>\n      <td>0.333429</td>\n      <td>0.427780</td>\n      <td>0.824456</td>\n      <td>0.582385</td>\n      <td>0.330387</td>\n      <td>0.421601</td>\n      <td>0.823693</td>\n    </tr>\n    <tr>\n      <th>Developer_full-stack</th>\n      <td>0.665333</td>\n      <td>0.703522</td>\n      <td>0.683895</td>\n      <td>0.730026</td>\n      <td>0.669434</td>\n      <td>0.706660</td>\n      <td>0.687544</td>\n      <td>0.733523</td>\n    </tr>\n    <tr>\n      <th>Developer_game or graphics</th>\n      <td>0.400000</td>\n      <td>0.251135</td>\n      <td>0.308550</td>\n      <td>0.978921</td>\n      <td>0.379121</td>\n      <td>0.242958</td>\n      <td>0.296137</td>\n      <td>0.978317</td>\n    </tr>\n    <tr>\n      <th>Developer_mobile</th>\n      <td>0.739695</td>\n      <td>0.520328</td>\n      <td>0.610916</td>\n      <td>0.940418</td>\n      <td>0.747654</td>\n      <td>0.533879</td>\n      <td>0.622937</td>\n      <td>0.942619</td>\n    </tr>\n    <tr>\n      <th>Engineer_data</th>\n      <td>0.507853</td>\n      <td>0.134629</td>\n      <td>0.212836</td>\n      <td>0.959344</td>\n      <td>0.518750</td>\n      <td>0.153420</td>\n      <td>0.236805</td>\n      <td>0.964633</td>\n    </tr>\n    <tr>\n      <th>Engineer_site reliability</th>\n      <td>0.264706</td>\n      <td>0.047872</td>\n      <td>0.081081</td>\n      <td>0.982661</td>\n      <td>0.217391</td>\n      <td>0.039526</td>\n      <td>0.066890</td>\n      <td>0.981556</td>\n    </tr>\n    <tr>\n      <th>Scientist</th>\n      <td>0.355401</td>\n      <td>0.141667</td>\n      <td>0.202582</td>\n      <td>0.977250</td>\n      <td>0.389831</td>\n      <td>0.163121</td>\n      <td>0.230000</td>\n      <td>0.979639</td>\n    </tr>\n    <tr>\n      <th>Security professional</th>\n      <td>0.200000</td>\n      <td>0.001887</td>\n      <td>0.003738</td>\n      <td>0.984899</td>\n      <td>0.000000</td>\n      <td>0.000000</td>\n      <td>0.000000</td>\n      <td>0.985919</td>\n    </tr>\n    <tr>\n      <th>Senior Executive (C-Suite_VP_etc.)</th>\n      <td>0.000000</td>\n      <td>0.000000</td>\n      <td>0.000000</td>\n      <td>0.983653</td>\n      <td>0.000000</td>\n      <td>0.000000</td>\n      <td>0.000000</td>\n      <td>0.985456</td>\n    </tr>\n    <tr>\n      <th>System administrator</th>\n      <td>0.194444</td>\n      <td>0.005659</td>\n      <td>0.010998</td>\n      <td>0.964330</td>\n      <td>0.071429</td>\n      <td>0.001866</td>\n      <td>0.003636</td>\n      <td>0.963773</td>\n    </tr>\n    <tr>\n      <th>full_stack_.NET</th>\n      <td>0.706363</td>\n      <td>0.586175</td>\n      <td>0.640681</td>\n      <td>0.898402</td>\n      <td>0.699244</td>\n      <td>0.587638</td>\n      <td>0.638601</td>\n      <td>0.896146</td>\n    </tr>\n    <tr>\n      <th>full_stack_Java</th>\n      <td>0.609750</td>\n      <td>0.465432</td>\n      <td>0.527906</td>\n      <td>0.866274</td>\n      <td>0.606388</td>\n      <td>0.473071</td>\n      <td>0.531497</td>\n      <td>0.862828</td>\n    </tr>\n    <tr>\n      <th>full_stack_.JavaScript</th>\n      <td>0.681271</td>\n      <td>0.668232</td>\n      <td>0.674689</td>\n      <td>0.848340</td>\n      <td>0.682227</td>\n      <td>0.672022</td>\n      <td>0.677086</td>\n      <td>0.847028</td>\n    </tr>\n    <tr>\n      <th>full_stack_PHP</th>\n      <td>0.668670</td>\n      <td>0.561247</td>\n      <td>0.610267</td>\n      <td>0.842985</td>\n      <td>0.677361</td>\n      <td>0.562743</td>\n      <td>0.614755</td>\n      <td>0.844318</td>\n    </tr>\n    <tr>\n      <th>full_stack_python</th>\n      <td>0.599929</td>\n      <td>0.350093</td>\n      <td>0.442160</td>\n      <td>0.878541</td>\n      <td>0.600631</td>\n      <td>0.355940</td>\n      <td>0.446990</td>\n      <td>0.875521</td>\n    </tr>\n    <tr>\n      <th>back_end_Java</th>\n      <td>0.605346</td>\n      <td>0.555762</td>\n      <td>0.579495</td>\n      <td>0.864971</td>\n      <td>0.594953</td>\n      <td>0.555068</td>\n      <td>0.574319</td>\n      <td>0.863687</td>\n    </tr>\n    <tr>\n      <th>back_end_.JavaScript</th>\n      <td>0.399642</td>\n      <td>0.355387</td>\n      <td>0.376217</td>\n      <td>0.811253</td>\n      <td>0.386619</td>\n      <td>0.352580</td>\n      <td>0.368816</td>\n      <td>0.805183</td>\n    </tr>\n    <tr>\n      <th>back_end_.NET</th>\n      <td>0.502133</td>\n      <td>0.473472</td>\n      <td>0.487382</td>\n      <td>0.887778</td>\n      <td>0.509709</td>\n      <td>0.490082</td>\n      <td>0.499703</td>\n      <td>0.888808</td>\n    </tr>\n    <tr>\n      <th>back_end_C++</th>\n      <td>0.491809</td>\n      <td>0.265475</td>\n      <td>0.344819</td>\n      <td>0.854544</td>\n      <td>0.454395</td>\n      <td>0.263969</td>\n      <td>0.333943</td>\n      <td>0.855490</td>\n    </tr>\n    <tr>\n      <th>back_end_python</th>\n      <td>0.528185</td>\n      <td>0.310471</td>\n      <td>0.391068</td>\n      <td>0.834655</td>\n      <td>0.500317</td>\n      <td>0.322186</td>\n      <td>0.391962</td>\n      <td>0.837972</td>\n    </tr>\n    <tr>\n      <th>back_end_PHP</th>\n      <td>0.510037</td>\n      <td>0.358974</td>\n      <td>0.421376</td>\n      <td>0.839869</td>\n      <td>0.509587</td>\n      <td>0.355781</td>\n      <td>0.419016</td>\n      <td>0.839228</td>\n    </tr>\n    <tr>\n      <th>Mean</th>\n      <td>0.453546</td>\n      <td>0.275919</td>\n      <td>0.320633</td>\n      <td>0.906461</td>\n      <td>0.440426</td>\n      <td>0.277176</td>\n      <td>0.319556</td>\n      <td>0.906157</td>\n    </tr>\n  </tbody>\n</table>\n</div>"
     },
     "execution_count": 17,
     "metadata": {},
     "output_type": "execute_result"
    }
   ],
   "source": [
    "classification_report_clustered_features.loc['Mean',:] = classification_report_clustered_features.mean()\n",
    "classification_report_clustered_features"
   ],
   "metadata": {
    "collapsed": false
   }
  },
  {
   "cell_type": "markdown",
   "source": [
    "\n",
    "## 1. From the above results we will choose original features as our features\n",
    "## 2. we need to also Exclude roles that have f1-score less than 0.1"
   ],
   "metadata": {
    "collapsed": false
   }
  },
  {
   "cell_type": "code",
   "execution_count": 18,
   "outputs": [
    {
     "data": {
      "text/plain": "Index(['Database administrator', 'Developer_QA or test',\n       'Security professional', 'Senior Executive (C-Suite_VP_etc.)',\n       'System administrator'],\n      dtype='object')"
     },
     "execution_count": 18,
     "metadata": {},
     "output_type": "execute_result"
    }
   ],
   "source": [
    "drop_roles = classification_report_original_features[classification_report_original_features['original_features-test']['recall'] < .1].index\n",
    "drop_roles"
   ],
   "metadata": {
    "collapsed": false
   }
  },
  {
   "cell_type": "code",
   "execution_count": 19,
   "outputs": [
    {
     "data": {
      "text/plain": "                                              original_features-train  \\\n                                                            precision   \nAcademic researcher                                          0.463415   \nBlockchain                                                   0.441176   \nCloud infrastructure engineer                                0.429501   \nData or business analyst                                     0.428125   \nData scientist or machine learning specialist                0.648450   \nDevOps specialist                                            0.493235   \nDeveloper_back-end                                           0.591518   \nDeveloper_desktop or enterprise applications                 0.612589   \nDeveloper_embedded applications or devices                   0.587762   \nDeveloper_front-end                                          0.616557   \nDeveloper_full-stack                                         0.673869   \nDeveloper_game or graphics                                   0.451417   \nDeveloper_mobile                                             0.734556   \nEngineer_data                                                0.538175   \nEngineer_site reliability                                    0.314410   \nScientist                                                    0.394558   \nfull_stack_.NET                                              0.699437   \nfull_stack_Java                                              0.634437   \nfull_stack_.JavaScript                                       0.686360   \nfull_stack_PHP                                               0.690522   \nfull_stack_python                                            0.643014   \nback_end_Java                                                0.604891   \nback_end_.JavaScript                                         0.448542   \nback_end_.NET                                                0.517828   \nback_end_C++                                                 0.554313   \nback_end_python                                              0.565636   \nback_end_PHP                                                 0.533512   \nMean                                                         0.553742   \n\n                                                                             \\\n                                                 recall  f1_score  accuracy   \nAcademic researcher                            0.224662  0.302617  0.965265   \nBlockchain                                     0.258621  0.326087  0.985947   \nCloud infrastructure engineer                  0.218423  0.289580  0.944951   \nData or business analyst                       0.130104  0.199563  0.968863   \nData scientist or machine learning specialist  0.502211  0.566038  0.965464   \nDevOps specialist                              0.181777  0.265651  0.937188   \nDeveloper_back-end                             0.614549  0.602814  0.700051   \nDeveloper_desktop or enterprise applications   0.182082  0.280723  0.899677   \nDeveloper_embedded applications or devices     0.255961  0.356619  0.962687   \nDeveloper_front-end                            0.390297  0.478004  0.832247   \nDeveloper_full-stack                           0.732187  0.701819  0.741727   \nDeveloper_game or graphics                     0.337368  0.386147  0.979913   \nDeveloper_mobile                               0.580838  0.648715  0.943450   \nEngineer_data                                  0.200555  0.292214  0.960335   \nEngineer_site reliability                      0.127660  0.181589  0.981613   \nScientist                                      0.241667  0.299742  0.976966   \nfull_stack_.NET                                0.637880  0.667242  0.901689   \nfull_stack_Java                                0.554321  0.591679  0.877097   \nfull_stack_.JavaScript                         0.702059  0.694120  0.854374   \nfull_stack_PHP                                 0.646488  0.667780  0.859106   \nfull_stack_python                              0.543375  0.589010  0.895739   \nback_end_Java                                  0.615333  0.610067  0.868314   \nback_end_.JavaScript                           0.462586  0.455456  0.822841   \nback_end_.NET                                  0.551421  0.534096  0.891602   \nback_end_C++                                   0.448222  0.495654  0.868484   \nback_end_python                                0.466865  0.511527  0.847518   \nback_end_PHP                                   0.487354  0.509389  0.847518   \nMean                                           0.416128  0.460759  0.899704   \n\n                                              original_features-test  \\\n                                                           precision   \nAcademic researcher                                         0.468619   \nBlockchain                                                  0.418803   \nCloud infrastructure engineer                               0.363636   \nData or business analyst                                    0.392857   \nData scientist or machine learning specialist               0.591603   \nDevOps specialist                                           0.494475   \nDeveloper_back-end                                          0.589631   \nDeveloper_desktop or enterprise applications                0.587368   \nDeveloper_embedded applications or devices                  0.561462   \nDeveloper_front-end                                         0.588267   \nDeveloper_full-stack                                        0.677106   \nDeveloper_game or graphics                                  0.373272   \nDeveloper_mobile                                            0.735708   \nEngineer_data                                               0.481172   \nEngineer_site reliability                                   0.350000   \nScientist                                                   0.372222   \nfull_stack_.NET                                             0.689284   \nfull_stack_Java                                             0.637512   \nfull_stack_.JavaScript                                      0.685944   \nfull_stack_PHP                                              0.686419   \nfull_stack_python                                           0.652817   \nback_end_Java                                               0.588371   \nback_end_.JavaScript                                        0.448728   \nback_end_.NET                                               0.516218   \nback_end_C++                                                0.529709   \nback_end_python                                             0.537428   \nback_end_PHP                                                0.511199   \nMean                                                        0.535965   \n\n                                                                             \n                                                 recall  f1_score  accuracy  \nAcademic researcher                            0.220472  0.299866  0.965426  \nBlockchain                                     0.213974  0.283237  0.983605  \nCloud infrastructure engineer                  0.173482  0.234899  0.939710  \nData or business analyst                       0.118534  0.182119  0.967343  \nData scientist or machine learning specialist  0.494418  0.538662  0.964897  \nDevOps specialist                              0.191239  0.275809  0.937859  \nDeveloper_back-end                             0.619327  0.604114  0.698486  \nDeveloper_desktop or enterprise applications   0.169399  0.262959  0.896609  \nDeveloper_embedded applications or devices     0.261206  0.356540  0.959675  \nDeveloper_front-end                            0.374915  0.457961  0.827395  \nDeveloper_full-stack                           0.733748  0.704290  0.744364  \nDeveloper_game or graphics                     0.285211  0.323353  0.977590  \nDeveloper_mobile                               0.584512  0.651452  0.944470  \nEngineer_data                                  0.212569  0.294872  0.963641  \nEngineer_site reliability                      0.138340  0.198300  0.981292  \nScientist                                      0.237589  0.290043  0.978317  \nfull_stack_.NET                                0.623624  0.654812  0.897336  \nfull_stack_Java                                0.547830  0.589278  0.874397  \nfull_stack_.JavaScript                         0.709695  0.697617  0.853176  \nfull_stack_PHP                                 0.641809  0.663365  0.856217  \nfull_stack_python                              0.536483  0.588960  0.894163  \nback_end_Java                                  0.609737  0.598863  0.864679  \nback_end_.JavaScript                           0.476658  0.462272  0.820982  \nback_end_.NET                                  0.547841  0.531560  0.890593  \nback_end_C++                                   0.455202  0.489637  0.869769  \nback_end_python                                0.456770  0.493827  0.848218  \nback_end_PHP                                   0.472211  0.490932  0.840418  \nMean                                           0.409184  0.450255  0.898233  ",
      "text/html": "<div>\n<style scoped>\n    .dataframe tbody tr th:only-of-type {\n        vertical-align: middle;\n    }\n\n    .dataframe tbody tr th {\n        vertical-align: top;\n    }\n\n    .dataframe thead tr th {\n        text-align: left;\n    }\n</style>\n<table border=\"1\" class=\"dataframe\">\n  <thead>\n    <tr>\n      <th></th>\n      <th colspan=\"4\" halign=\"left\">original_features-train</th>\n      <th colspan=\"4\" halign=\"left\">original_features-test</th>\n    </tr>\n    <tr>\n      <th></th>\n      <th>precision</th>\n      <th>recall</th>\n      <th>f1_score</th>\n      <th>accuracy</th>\n      <th>precision</th>\n      <th>recall</th>\n      <th>f1_score</th>\n      <th>accuracy</th>\n    </tr>\n  </thead>\n  <tbody>\n    <tr>\n      <th>Academic researcher</th>\n      <td>0.463415</td>\n      <td>0.224662</td>\n      <td>0.302617</td>\n      <td>0.965265</td>\n      <td>0.468619</td>\n      <td>0.220472</td>\n      <td>0.299866</td>\n      <td>0.965426</td>\n    </tr>\n    <tr>\n      <th>Blockchain</th>\n      <td>0.441176</td>\n      <td>0.258621</td>\n      <td>0.326087</td>\n      <td>0.985947</td>\n      <td>0.418803</td>\n      <td>0.213974</td>\n      <td>0.283237</td>\n      <td>0.983605</td>\n    </tr>\n    <tr>\n      <th>Cloud infrastructure engineer</th>\n      <td>0.429501</td>\n      <td>0.218423</td>\n      <td>0.289580</td>\n      <td>0.944951</td>\n      <td>0.363636</td>\n      <td>0.173482</td>\n      <td>0.234899</td>\n      <td>0.939710</td>\n    </tr>\n    <tr>\n      <th>Data or business analyst</th>\n      <td>0.428125</td>\n      <td>0.130104</td>\n      <td>0.199563</td>\n      <td>0.968863</td>\n      <td>0.392857</td>\n      <td>0.118534</td>\n      <td>0.182119</td>\n      <td>0.967343</td>\n    </tr>\n    <tr>\n      <th>Data scientist or machine learning specialist</th>\n      <td>0.648450</td>\n      <td>0.502211</td>\n      <td>0.566038</td>\n      <td>0.965464</td>\n      <td>0.591603</td>\n      <td>0.494418</td>\n      <td>0.538662</td>\n      <td>0.964897</td>\n    </tr>\n    <tr>\n      <th>DevOps specialist</th>\n      <td>0.493235</td>\n      <td>0.181777</td>\n      <td>0.265651</td>\n      <td>0.937188</td>\n      <td>0.494475</td>\n      <td>0.191239</td>\n      <td>0.275809</td>\n      <td>0.937859</td>\n    </tr>\n    <tr>\n      <th>Developer_back-end</th>\n      <td>0.591518</td>\n      <td>0.614549</td>\n      <td>0.602814</td>\n      <td>0.700051</td>\n      <td>0.589631</td>\n      <td>0.619327</td>\n      <td>0.604114</td>\n      <td>0.698486</td>\n    </tr>\n    <tr>\n      <th>Developer_desktop or enterprise applications</th>\n      <td>0.612589</td>\n      <td>0.182082</td>\n      <td>0.280723</td>\n      <td>0.899677</td>\n      <td>0.587368</td>\n      <td>0.169399</td>\n      <td>0.262959</td>\n      <td>0.896609</td>\n    </tr>\n    <tr>\n      <th>Developer_embedded applications or devices</th>\n      <td>0.587762</td>\n      <td>0.255961</td>\n      <td>0.356619</td>\n      <td>0.962687</td>\n      <td>0.561462</td>\n      <td>0.261206</td>\n      <td>0.356540</td>\n      <td>0.959675</td>\n    </tr>\n    <tr>\n      <th>Developer_front-end</th>\n      <td>0.616557</td>\n      <td>0.390297</td>\n      <td>0.478004</td>\n      <td>0.832247</td>\n      <td>0.588267</td>\n      <td>0.374915</td>\n      <td>0.457961</td>\n      <td>0.827395</td>\n    </tr>\n    <tr>\n      <th>Developer_full-stack</th>\n      <td>0.673869</td>\n      <td>0.732187</td>\n      <td>0.701819</td>\n      <td>0.741727</td>\n      <td>0.677106</td>\n      <td>0.733748</td>\n      <td>0.704290</td>\n      <td>0.744364</td>\n    </tr>\n    <tr>\n      <th>Developer_game or graphics</th>\n      <td>0.451417</td>\n      <td>0.337368</td>\n      <td>0.386147</td>\n      <td>0.979913</td>\n      <td>0.373272</td>\n      <td>0.285211</td>\n      <td>0.323353</td>\n      <td>0.977590</td>\n    </tr>\n    <tr>\n      <th>Developer_mobile</th>\n      <td>0.734556</td>\n      <td>0.580838</td>\n      <td>0.648715</td>\n      <td>0.943450</td>\n      <td>0.735708</td>\n      <td>0.584512</td>\n      <td>0.651452</td>\n      <td>0.944470</td>\n    </tr>\n    <tr>\n      <th>Engineer_data</th>\n      <td>0.538175</td>\n      <td>0.200555</td>\n      <td>0.292214</td>\n      <td>0.960335</td>\n      <td>0.481172</td>\n      <td>0.212569</td>\n      <td>0.294872</td>\n      <td>0.963641</td>\n    </tr>\n    <tr>\n      <th>Engineer_site reliability</th>\n      <td>0.314410</td>\n      <td>0.127660</td>\n      <td>0.181589</td>\n      <td>0.981613</td>\n      <td>0.350000</td>\n      <td>0.138340</td>\n      <td>0.198300</td>\n      <td>0.981292</td>\n    </tr>\n    <tr>\n      <th>Scientist</th>\n      <td>0.394558</td>\n      <td>0.241667</td>\n      <td>0.299742</td>\n      <td>0.976966</td>\n      <td>0.372222</td>\n      <td>0.237589</td>\n      <td>0.290043</td>\n      <td>0.978317</td>\n    </tr>\n    <tr>\n      <th>full_stack_.NET</th>\n      <td>0.699437</td>\n      <td>0.637880</td>\n      <td>0.667242</td>\n      <td>0.901689</td>\n      <td>0.689284</td>\n      <td>0.623624</td>\n      <td>0.654812</td>\n      <td>0.897336</td>\n    </tr>\n    <tr>\n      <th>full_stack_Java</th>\n      <td>0.634437</td>\n      <td>0.554321</td>\n      <td>0.591679</td>\n      <td>0.877097</td>\n      <td>0.637512</td>\n      <td>0.547830</td>\n      <td>0.589278</td>\n      <td>0.874397</td>\n    </tr>\n    <tr>\n      <th>full_stack_.JavaScript</th>\n      <td>0.686360</td>\n      <td>0.702059</td>\n      <td>0.694120</td>\n      <td>0.854374</td>\n      <td>0.685944</td>\n      <td>0.709695</td>\n      <td>0.697617</td>\n      <td>0.853176</td>\n    </tr>\n    <tr>\n      <th>full_stack_PHP</th>\n      <td>0.690522</td>\n      <td>0.646488</td>\n      <td>0.667780</td>\n      <td>0.859106</td>\n      <td>0.686419</td>\n      <td>0.641809</td>\n      <td>0.663365</td>\n      <td>0.856217</td>\n    </tr>\n    <tr>\n      <th>full_stack_python</th>\n      <td>0.643014</td>\n      <td>0.543375</td>\n      <td>0.589010</td>\n      <td>0.895739</td>\n      <td>0.652817</td>\n      <td>0.536483</td>\n      <td>0.588960</td>\n      <td>0.894163</td>\n    </tr>\n    <tr>\n      <th>back_end_Java</th>\n      <td>0.604891</td>\n      <td>0.615333</td>\n      <td>0.610067</td>\n      <td>0.868314</td>\n      <td>0.588371</td>\n      <td>0.609737</td>\n      <td>0.598863</td>\n      <td>0.864679</td>\n    </tr>\n    <tr>\n      <th>back_end_.JavaScript</th>\n      <td>0.448542</td>\n      <td>0.462586</td>\n      <td>0.455456</td>\n      <td>0.822841</td>\n      <td>0.448728</td>\n      <td>0.476658</td>\n      <td>0.462272</td>\n      <td>0.820982</td>\n    </tr>\n    <tr>\n      <th>back_end_.NET</th>\n      <td>0.517828</td>\n      <td>0.551421</td>\n      <td>0.534096</td>\n      <td>0.891602</td>\n      <td>0.516218</td>\n      <td>0.547841</td>\n      <td>0.531560</td>\n      <td>0.890593</td>\n    </tr>\n    <tr>\n      <th>back_end_C++</th>\n      <td>0.554313</td>\n      <td>0.448222</td>\n      <td>0.495654</td>\n      <td>0.868484</td>\n      <td>0.529709</td>\n      <td>0.455202</td>\n      <td>0.489637</td>\n      <td>0.869769</td>\n    </tr>\n    <tr>\n      <th>back_end_python</th>\n      <td>0.565636</td>\n      <td>0.466865</td>\n      <td>0.511527</td>\n      <td>0.847518</td>\n      <td>0.537428</td>\n      <td>0.456770</td>\n      <td>0.493827</td>\n      <td>0.848218</td>\n    </tr>\n    <tr>\n      <th>back_end_PHP</th>\n      <td>0.533512</td>\n      <td>0.487354</td>\n      <td>0.509389</td>\n      <td>0.847518</td>\n      <td>0.511199</td>\n      <td>0.472211</td>\n      <td>0.490932</td>\n      <td>0.840418</td>\n    </tr>\n    <tr>\n      <th>Mean</th>\n      <td>0.553742</td>\n      <td>0.416128</td>\n      <td>0.460759</td>\n      <td>0.899704</td>\n      <td>0.535965</td>\n      <td>0.409184</td>\n      <td>0.450255</td>\n      <td>0.898233</td>\n    </tr>\n  </tbody>\n</table>\n</div>"
     },
     "execution_count": 19,
     "metadata": {},
     "output_type": "execute_result"
    }
   ],
   "source": [
    "classification_report_original_features = classification_report_original_features.drop(drop_roles)\n",
    "classification_report_original_features.loc['Mean',:] = classification_report_original_features.mean()\n",
    "classification_report_original_features"
   ],
   "metadata": {
    "collapsed": false
   }
  },
  {
   "cell_type": "code",
   "execution_count": 20,
   "outputs": [
    {
     "data": {
      "text/plain": "                                              clustered_features-train  \\\n                                                             precision   \nAcademic researcher                                           0.389685   \nBlockchain                                                    0.194030   \nCloud infrastructure engineer                                 0.400000   \nData or business analyst                                      0.353591   \nData scientist or machine learning specialist                 0.635284   \nDevOps specialist                                             0.459302   \nDeveloper_back-end                                            0.573663   \nDeveloper_desktop or enterprise applications                  0.617918   \nDeveloper_embedded applications or devices                    0.551724   \nDeveloper_front-end                                           0.596600   \nDeveloper_full-stack                                          0.665333   \nDeveloper_game or graphics                                    0.400000   \nDeveloper_mobile                                              0.739695   \nEngineer_data                                                 0.507853   \nEngineer_site reliability                                     0.264706   \nScientist                                                     0.355401   \nfull_stack_.NET                                               0.706363   \nfull_stack_Java                                               0.609750   \nfull_stack_.JavaScript                                        0.681271   \nfull_stack_PHP                                                0.668670   \nfull_stack_python                                             0.599929   \nback_end_Java                                                 0.605346   \nback_end_.JavaScript                                          0.399642   \nback_end_.NET                                                 0.502133   \nback_end_C++                                                  0.491809   \nback_end_python                                               0.528185   \nback_end_PHP                                                  0.510037   \nMean                                                          0.516481   \n\n                                                                             \\\n                                                 recall  f1_score  accuracy   \nAcademic researcher                            0.114865  0.177430  0.964274   \nBlockchain                                     0.028017  0.048964  0.985692   \nCloud infrastructure engineer                  0.144512  0.212318  0.944923   \nData or business analyst                       0.060779  0.103728  0.968665   \nData scientist or machine learning specialist  0.473152  0.542361  0.964189   \nDevOps specialist                              0.071623  0.123922  0.936707   \nDeveloper_back-end                             0.575155  0.574408  0.684327   \nDeveloper_desktop or enterprise applications   0.123584  0.205973  0.897552   \nDeveloper_embedded applications or devices     0.145863  0.230727  0.960704   \nDeveloper_front-end                            0.333429  0.427780  0.824456   \nDeveloper_full-stack                           0.703522  0.683895  0.730026   \nDeveloper_game or graphics                     0.251135  0.308550  0.978921   \nDeveloper_mobile                               0.520328  0.610916  0.940418   \nEngineer_data                                  0.134629  0.212836  0.959344   \nEngineer_site reliability                      0.047872  0.081081  0.982661   \nScientist                                      0.141667  0.202582  0.977250   \nfull_stack_.NET                                0.586175  0.640681  0.898402   \nfull_stack_Java                                0.465432  0.527906  0.866274   \nfull_stack_.JavaScript                         0.668232  0.674689  0.848340   \nfull_stack_PHP                                 0.561247  0.610267  0.842985   \nfull_stack_python                              0.350093  0.442160  0.878541   \nback_end_Java                                  0.555762  0.579495  0.864971   \nback_end_.JavaScript                           0.355387  0.376217  0.811253   \nback_end_.NET                                  0.473472  0.487382  0.887778   \nback_end_C++                                   0.265475  0.344819  0.854544   \nback_end_python                                0.310471  0.391068  0.834655   \nback_end_PHP                                   0.358974  0.421376  0.839869   \nMean                                           0.324885  0.377291  0.894078   \n\n                                              clustered_features-test  \\\n                                                            precision   \nAcademic researcher                                          0.426667   \nBlockchain                                                   0.142857   \nCloud infrastructure engineer                                0.325260   \nData or business analyst                                     0.400000   \nData scientist or machine learning specialist                0.608696   \nDevOps specialist                                            0.369128   \nDeveloper_back-end                                           0.570347   \nDeveloper_desktop or enterprise applications                 0.647059   \nDeveloper_embedded applications or devices                   0.556180   \nDeveloper_front-end                                          0.582385   \nDeveloper_full-stack                                         0.669434   \nDeveloper_game or graphics                                   0.379121   \nDeveloper_mobile                                             0.747654   \nEngineer_data                                                0.518750   \nEngineer_site reliability                                    0.217391   \nScientist                                                    0.389831   \nfull_stack_.NET                                              0.699244   \nfull_stack_Java                                              0.606388   \nfull_stack_.JavaScript                                       0.682227   \nfull_stack_PHP                                               0.677361   \nfull_stack_python                                            0.600631   \nback_end_Java                                                0.594953   \nback_end_.JavaScript                                         0.386619   \nback_end_.NET                                                0.509709   \nback_end_C++                                                 0.454395   \nback_end_python                                              0.500317   \nback_end_PHP                                                 0.509587   \nMean                                                         0.507593   \n\n                                                                             \n                                                 recall  f1_score  accuracy  \nAcademic researcher                            0.125984  0.194529  0.964963  \nBlockchain                                     0.017467  0.031128  0.983539  \nCloud infrastructure engineer                  0.116481  0.171533  0.939975  \nData or business analyst                       0.060345  0.104869  0.968401  \nData scientist or machine learning specialist  0.468900  0.529730  0.965492  \nDevOps specialist                              0.058761  0.101382  0.935546  \nDeveloper_back-end                             0.576437  0.573376  0.681364  \nDeveloper_desktop or enterprise applications   0.126897  0.212183  0.897402  \nDeveloper_embedded applications or devices     0.153014  0.240000  0.958551  \nDeveloper_front-end                            0.330387  0.421601  0.823693  \nDeveloper_full-stack                           0.706660  0.687544  0.733523  \nDeveloper_game or graphics                     0.242958  0.296137  0.978317  \nDeveloper_mobile                               0.533879  0.622937  0.942619  \nEngineer_data                                  0.153420  0.236805  0.964633  \nEngineer_site reliability                      0.039526  0.066890  0.981556  \nScientist                                      0.163121  0.230000  0.979639  \nfull_stack_.NET                                0.587638  0.638601  0.896146  \nfull_stack_Java                                0.473071  0.531497  0.862828  \nfull_stack_.JavaScript                         0.672022  0.677086  0.847028  \nfull_stack_PHP                                 0.562743  0.614755  0.844318  \nfull_stack_python                              0.355940  0.446990  0.875521  \nback_end_Java                                  0.555068  0.574319  0.863687  \nback_end_.JavaScript                           0.352580  0.368816  0.805183  \nback_end_.NET                                  0.490082  0.499703  0.888808  \nback_end_C++                                   0.263969  0.333943  0.855490  \nback_end_python                                0.322186  0.391962  0.837972  \nback_end_PHP                                   0.355781  0.419016  0.839228  \nMean                                           0.326518  0.376317  0.893628  ",
      "text/html": "<div>\n<style scoped>\n    .dataframe tbody tr th:only-of-type {\n        vertical-align: middle;\n    }\n\n    .dataframe tbody tr th {\n        vertical-align: top;\n    }\n\n    .dataframe thead tr th {\n        text-align: left;\n    }\n</style>\n<table border=\"1\" class=\"dataframe\">\n  <thead>\n    <tr>\n      <th></th>\n      <th colspan=\"4\" halign=\"left\">clustered_features-train</th>\n      <th colspan=\"4\" halign=\"left\">clustered_features-test</th>\n    </tr>\n    <tr>\n      <th></th>\n      <th>precision</th>\n      <th>recall</th>\n      <th>f1_score</th>\n      <th>accuracy</th>\n      <th>precision</th>\n      <th>recall</th>\n      <th>f1_score</th>\n      <th>accuracy</th>\n    </tr>\n  </thead>\n  <tbody>\n    <tr>\n      <th>Academic researcher</th>\n      <td>0.389685</td>\n      <td>0.114865</td>\n      <td>0.177430</td>\n      <td>0.964274</td>\n      <td>0.426667</td>\n      <td>0.125984</td>\n      <td>0.194529</td>\n      <td>0.964963</td>\n    </tr>\n    <tr>\n      <th>Blockchain</th>\n      <td>0.194030</td>\n      <td>0.028017</td>\n      <td>0.048964</td>\n      <td>0.985692</td>\n      <td>0.142857</td>\n      <td>0.017467</td>\n      <td>0.031128</td>\n      <td>0.983539</td>\n    </tr>\n    <tr>\n      <th>Cloud infrastructure engineer</th>\n      <td>0.400000</td>\n      <td>0.144512</td>\n      <td>0.212318</td>\n      <td>0.944923</td>\n      <td>0.325260</td>\n      <td>0.116481</td>\n      <td>0.171533</td>\n      <td>0.939975</td>\n    </tr>\n    <tr>\n      <th>Data or business analyst</th>\n      <td>0.353591</td>\n      <td>0.060779</td>\n      <td>0.103728</td>\n      <td>0.968665</td>\n      <td>0.400000</td>\n      <td>0.060345</td>\n      <td>0.104869</td>\n      <td>0.968401</td>\n    </tr>\n    <tr>\n      <th>Data scientist or machine learning specialist</th>\n      <td>0.635284</td>\n      <td>0.473152</td>\n      <td>0.542361</td>\n      <td>0.964189</td>\n      <td>0.608696</td>\n      <td>0.468900</td>\n      <td>0.529730</td>\n      <td>0.965492</td>\n    </tr>\n    <tr>\n      <th>DevOps specialist</th>\n      <td>0.459302</td>\n      <td>0.071623</td>\n      <td>0.123922</td>\n      <td>0.936707</td>\n      <td>0.369128</td>\n      <td>0.058761</td>\n      <td>0.101382</td>\n      <td>0.935546</td>\n    </tr>\n    <tr>\n      <th>Developer_back-end</th>\n      <td>0.573663</td>\n      <td>0.575155</td>\n      <td>0.574408</td>\n      <td>0.684327</td>\n      <td>0.570347</td>\n      <td>0.576437</td>\n      <td>0.573376</td>\n      <td>0.681364</td>\n    </tr>\n    <tr>\n      <th>Developer_desktop or enterprise applications</th>\n      <td>0.617918</td>\n      <td>0.123584</td>\n      <td>0.205973</td>\n      <td>0.897552</td>\n      <td>0.647059</td>\n      <td>0.126897</td>\n      <td>0.212183</td>\n      <td>0.897402</td>\n    </tr>\n    <tr>\n      <th>Developer_embedded applications or devices</th>\n      <td>0.551724</td>\n      <td>0.145863</td>\n      <td>0.230727</td>\n      <td>0.960704</td>\n      <td>0.556180</td>\n      <td>0.153014</td>\n      <td>0.240000</td>\n      <td>0.958551</td>\n    </tr>\n    <tr>\n      <th>Developer_front-end</th>\n      <td>0.596600</td>\n      <td>0.333429</td>\n      <td>0.427780</td>\n      <td>0.824456</td>\n      <td>0.582385</td>\n      <td>0.330387</td>\n      <td>0.421601</td>\n      <td>0.823693</td>\n    </tr>\n    <tr>\n      <th>Developer_full-stack</th>\n      <td>0.665333</td>\n      <td>0.703522</td>\n      <td>0.683895</td>\n      <td>0.730026</td>\n      <td>0.669434</td>\n      <td>0.706660</td>\n      <td>0.687544</td>\n      <td>0.733523</td>\n    </tr>\n    <tr>\n      <th>Developer_game or graphics</th>\n      <td>0.400000</td>\n      <td>0.251135</td>\n      <td>0.308550</td>\n      <td>0.978921</td>\n      <td>0.379121</td>\n      <td>0.242958</td>\n      <td>0.296137</td>\n      <td>0.978317</td>\n    </tr>\n    <tr>\n      <th>Developer_mobile</th>\n      <td>0.739695</td>\n      <td>0.520328</td>\n      <td>0.610916</td>\n      <td>0.940418</td>\n      <td>0.747654</td>\n      <td>0.533879</td>\n      <td>0.622937</td>\n      <td>0.942619</td>\n    </tr>\n    <tr>\n      <th>Engineer_data</th>\n      <td>0.507853</td>\n      <td>0.134629</td>\n      <td>0.212836</td>\n      <td>0.959344</td>\n      <td>0.518750</td>\n      <td>0.153420</td>\n      <td>0.236805</td>\n      <td>0.964633</td>\n    </tr>\n    <tr>\n      <th>Engineer_site reliability</th>\n      <td>0.264706</td>\n      <td>0.047872</td>\n      <td>0.081081</td>\n      <td>0.982661</td>\n      <td>0.217391</td>\n      <td>0.039526</td>\n      <td>0.066890</td>\n      <td>0.981556</td>\n    </tr>\n    <tr>\n      <th>Scientist</th>\n      <td>0.355401</td>\n      <td>0.141667</td>\n      <td>0.202582</td>\n      <td>0.977250</td>\n      <td>0.389831</td>\n      <td>0.163121</td>\n      <td>0.230000</td>\n      <td>0.979639</td>\n    </tr>\n    <tr>\n      <th>full_stack_.NET</th>\n      <td>0.706363</td>\n      <td>0.586175</td>\n      <td>0.640681</td>\n      <td>0.898402</td>\n      <td>0.699244</td>\n      <td>0.587638</td>\n      <td>0.638601</td>\n      <td>0.896146</td>\n    </tr>\n    <tr>\n      <th>full_stack_Java</th>\n      <td>0.609750</td>\n      <td>0.465432</td>\n      <td>0.527906</td>\n      <td>0.866274</td>\n      <td>0.606388</td>\n      <td>0.473071</td>\n      <td>0.531497</td>\n      <td>0.862828</td>\n    </tr>\n    <tr>\n      <th>full_stack_.JavaScript</th>\n      <td>0.681271</td>\n      <td>0.668232</td>\n      <td>0.674689</td>\n      <td>0.848340</td>\n      <td>0.682227</td>\n      <td>0.672022</td>\n      <td>0.677086</td>\n      <td>0.847028</td>\n    </tr>\n    <tr>\n      <th>full_stack_PHP</th>\n      <td>0.668670</td>\n      <td>0.561247</td>\n      <td>0.610267</td>\n      <td>0.842985</td>\n      <td>0.677361</td>\n      <td>0.562743</td>\n      <td>0.614755</td>\n      <td>0.844318</td>\n    </tr>\n    <tr>\n      <th>full_stack_python</th>\n      <td>0.599929</td>\n      <td>0.350093</td>\n      <td>0.442160</td>\n      <td>0.878541</td>\n      <td>0.600631</td>\n      <td>0.355940</td>\n      <td>0.446990</td>\n      <td>0.875521</td>\n    </tr>\n    <tr>\n      <th>back_end_Java</th>\n      <td>0.605346</td>\n      <td>0.555762</td>\n      <td>0.579495</td>\n      <td>0.864971</td>\n      <td>0.594953</td>\n      <td>0.555068</td>\n      <td>0.574319</td>\n      <td>0.863687</td>\n    </tr>\n    <tr>\n      <th>back_end_.JavaScript</th>\n      <td>0.399642</td>\n      <td>0.355387</td>\n      <td>0.376217</td>\n      <td>0.811253</td>\n      <td>0.386619</td>\n      <td>0.352580</td>\n      <td>0.368816</td>\n      <td>0.805183</td>\n    </tr>\n    <tr>\n      <th>back_end_.NET</th>\n      <td>0.502133</td>\n      <td>0.473472</td>\n      <td>0.487382</td>\n      <td>0.887778</td>\n      <td>0.509709</td>\n      <td>0.490082</td>\n      <td>0.499703</td>\n      <td>0.888808</td>\n    </tr>\n    <tr>\n      <th>back_end_C++</th>\n      <td>0.491809</td>\n      <td>0.265475</td>\n      <td>0.344819</td>\n      <td>0.854544</td>\n      <td>0.454395</td>\n      <td>0.263969</td>\n      <td>0.333943</td>\n      <td>0.855490</td>\n    </tr>\n    <tr>\n      <th>back_end_python</th>\n      <td>0.528185</td>\n      <td>0.310471</td>\n      <td>0.391068</td>\n      <td>0.834655</td>\n      <td>0.500317</td>\n      <td>0.322186</td>\n      <td>0.391962</td>\n      <td>0.837972</td>\n    </tr>\n    <tr>\n      <th>back_end_PHP</th>\n      <td>0.510037</td>\n      <td>0.358974</td>\n      <td>0.421376</td>\n      <td>0.839869</td>\n      <td>0.509587</td>\n      <td>0.355781</td>\n      <td>0.419016</td>\n      <td>0.839228</td>\n    </tr>\n    <tr>\n      <th>Mean</th>\n      <td>0.516481</td>\n      <td>0.324885</td>\n      <td>0.377291</td>\n      <td>0.894078</td>\n      <td>0.507593</td>\n      <td>0.326518</td>\n      <td>0.376317</td>\n      <td>0.893628</td>\n    </tr>\n  </tbody>\n</table>\n</div>"
     },
     "execution_count": 20,
     "metadata": {},
     "output_type": "execute_result"
    }
   ],
   "source": [
    "classification_report_clustered_features = classification_report_clustered_features.drop(drop_roles)\n",
    "classification_report_clustered_features.loc['Mean',:] = classification_report_clustered_features.mean()\n",
    "classification_report_clustered_features"
   ],
   "metadata": {
    "collapsed": false
   }
  },
  {
   "cell_type": "code",
   "execution_count": 21,
   "outputs": [
    {
     "data": {
      "text/plain": "['Academic researcher',\n 'Blockchain',\n 'Cloud infrastructure engineer',\n 'Data or business analyst',\n 'Data scientist or machine learning specialist',\n 'DevOps specialist',\n 'Developer_back-end',\n 'Developer_desktop or enterprise applications',\n 'Developer_embedded applications or devices',\n 'Developer_front-end',\n 'Developer_full-stack',\n 'Developer_game or graphics',\n 'Developer_mobile',\n 'Engineer_data',\n 'Engineer_site reliability',\n 'Scientist',\n 'full_stack_.NET',\n 'full_stack_Java',\n 'full_stack_.JavaScript',\n 'full_stack_PHP',\n 'full_stack_python',\n 'back_end_Java',\n 'back_end_.JavaScript',\n 'back_end_.NET',\n 'back_end_C++',\n 'back_end_python',\n 'back_end_PHP']"
     },
     "execution_count": 21,
     "metadata": {},
     "output_type": "execute_result"
    }
   ],
   "source": [
    "job_names = classification_report_clustered_features[:-1].index\n",
    "job_names = list(job_names)\n",
    "job_names"
   ],
   "metadata": {
    "collapsed": false
   }
  },
  {
   "cell_type": "markdown",
   "source": [
    "# 6. Concat skills_df with DevType"
   ],
   "metadata": {
    "collapsed": false
   }
  },
  {
   "cell_type": "code",
   "execution_count": 22,
   "outputs": [],
   "source": [
    "skills_df = skills_dev_df.drop('clustered_skills', axis = 1, level=0).drop('DevType', axis = 1, level = 0)"
   ],
   "metadata": {
    "collapsed": false
   }
  },
  {
   "cell_type": "code",
   "execution_count": 23,
   "outputs": [],
   "source": [
    "dev_df = skills_dev_df['DevType'].drop(drop_roles, axis = 1)\n",
    "dev_df.columns = pd.MultiIndex.from_product([['DevType'],job_names])\n"
   ],
   "metadata": {
    "collapsed": false
   }
  },
  {
   "cell_type": "code",
   "execution_count": 24,
   "outputs": [
    {
     "data": {
      "text/plain": "      Languages                                                             \\\n            APL Assembly Bash/Shell    C    C#   C++ COBOL Clojure Crystal   \n2           0.0      0.0        0.0  0.0  0.75  0.75   0.0     0.0     0.0   \n3           0.0      0.0        0.0  0.0  1.50  0.00   0.0     0.0     0.0   \n7           0.5      0.0        0.5  1.0  0.00  1.00   0.0     0.0     0.0   \n9           0.0      0.0        0.0  0.0  0.00  0.00   0.0     0.0     0.0   \n10          0.0      0.0        1.0  0.0  1.50  0.00   0.0     0.0     0.0   \n...         ...      ...        ...  ...   ...   ...   ...     ...     ...   \n73262       0.0      0.5        0.0  0.5  0.00  0.75   0.0     0.0     0.0   \n73263       0.0      0.0        1.5  0.0  0.00  0.00   0.0     0.0     0.0   \n73264       0.0      0.0        1.0  0.0  0.00  0.00   0.0     0.0     0.0   \n73265       0.0      0.0        0.0  0.0  0.25  0.00   0.0     0.0     0.0   \n73266       0.0      0.0        0.0  0.0  1.00  0.00   0.0     0.0     0.0   \n\n            ...         DevType                                        \\\n      Dart  ... full_stack_Java full_stack_.JavaScript full_stack_PHP   \n2      0.0  ...               0                      0              0   \n3      0.0  ...               0                      0              0   \n7      0.0  ...               1                      1              1   \n9      0.0  ...               0                      0              0   \n10     0.0  ...               0                      0              0   \n...    ...  ...             ...                    ...            ...   \n73262  0.0  ...               0                      0              0   \n73263  1.0  ...               0                      0              0   \n73264  0.0  ...               0                      0              0   \n73265  0.0  ...               0                      0              1   \n73266  0.0  ...               0                      0              0   \n\n                                                                          \\\n      full_stack_python back_end_Java back_end_.JavaScript back_end_.NET   \n2                     0             0                    0             0   \n3                     0             0                    0             0   \n7                     0             0                    0             0   \n9                     0             0                    0             0   \n10                    0             0                    0             1   \n...                 ...           ...                  ...           ...   \n73262                 0             0                    0             0   \n73263                 0             0                    1             0   \n73264                 0             0                    0             0   \n73265                 1             0                    0             0   \n73266                 0             0                    0             0   \n\n                                                 \n      back_end_C++ back_end_python back_end_PHP  \n2                0               0            0  \n3                0               0            0  \n7                0               0            0  \n9                0               0            0  \n10               0               0            0  \n...            ...             ...          ...  \n73262            0               0            0  \n73263            1               1            1  \n73264            0               0            0  \n73265            0               0            0  \n73266            0               0            0  \n\n[50423 rows x 188 columns]",
      "text/html": "<div>\n<style scoped>\n    .dataframe tbody tr th:only-of-type {\n        vertical-align: middle;\n    }\n\n    .dataframe tbody tr th {\n        vertical-align: top;\n    }\n\n    .dataframe thead tr th {\n        text-align: left;\n    }\n</style>\n<table border=\"1\" class=\"dataframe\">\n  <thead>\n    <tr>\n      <th></th>\n      <th colspan=\"10\" halign=\"left\">Languages</th>\n      <th>...</th>\n      <th colspan=\"10\" halign=\"left\">DevType</th>\n    </tr>\n    <tr>\n      <th></th>\n      <th>APL</th>\n      <th>Assembly</th>\n      <th>Bash/Shell</th>\n      <th>C</th>\n      <th>C#</th>\n      <th>C++</th>\n      <th>COBOL</th>\n      <th>Clojure</th>\n      <th>Crystal</th>\n      <th>Dart</th>\n      <th>...</th>\n      <th>full_stack_Java</th>\n      <th>full_stack_.JavaScript</th>\n      <th>full_stack_PHP</th>\n      <th>full_stack_python</th>\n      <th>back_end_Java</th>\n      <th>back_end_.JavaScript</th>\n      <th>back_end_.NET</th>\n      <th>back_end_C++</th>\n      <th>back_end_python</th>\n      <th>back_end_PHP</th>\n    </tr>\n  </thead>\n  <tbody>\n    <tr>\n      <th>2</th>\n      <td>0.0</td>\n      <td>0.0</td>\n      <td>0.0</td>\n      <td>0.0</td>\n      <td>0.75</td>\n      <td>0.75</td>\n      <td>0.0</td>\n      <td>0.0</td>\n      <td>0.0</td>\n      <td>0.0</td>\n      <td>...</td>\n      <td>0</td>\n      <td>0</td>\n      <td>0</td>\n      <td>0</td>\n      <td>0</td>\n      <td>0</td>\n      <td>0</td>\n      <td>0</td>\n      <td>0</td>\n      <td>0</td>\n    </tr>\n    <tr>\n      <th>3</th>\n      <td>0.0</td>\n      <td>0.0</td>\n      <td>0.0</td>\n      <td>0.0</td>\n      <td>1.50</td>\n      <td>0.00</td>\n      <td>0.0</td>\n      <td>0.0</td>\n      <td>0.0</td>\n      <td>0.0</td>\n      <td>...</td>\n      <td>0</td>\n      <td>0</td>\n      <td>0</td>\n      <td>0</td>\n      <td>0</td>\n      <td>0</td>\n      <td>0</td>\n      <td>0</td>\n      <td>0</td>\n      <td>0</td>\n    </tr>\n    <tr>\n      <th>7</th>\n      <td>0.5</td>\n      <td>0.0</td>\n      <td>0.5</td>\n      <td>1.0</td>\n      <td>0.00</td>\n      <td>1.00</td>\n      <td>0.0</td>\n      <td>0.0</td>\n      <td>0.0</td>\n      <td>0.0</td>\n      <td>...</td>\n      <td>1</td>\n      <td>1</td>\n      <td>1</td>\n      <td>0</td>\n      <td>0</td>\n      <td>0</td>\n      <td>0</td>\n      <td>0</td>\n      <td>0</td>\n      <td>0</td>\n    </tr>\n    <tr>\n      <th>9</th>\n      <td>0.0</td>\n      <td>0.0</td>\n      <td>0.0</td>\n      <td>0.0</td>\n      <td>0.00</td>\n      <td>0.00</td>\n      <td>0.0</td>\n      <td>0.0</td>\n      <td>0.0</td>\n      <td>0.0</td>\n      <td>...</td>\n      <td>0</td>\n      <td>0</td>\n      <td>0</td>\n      <td>0</td>\n      <td>0</td>\n      <td>0</td>\n      <td>0</td>\n      <td>0</td>\n      <td>0</td>\n      <td>0</td>\n    </tr>\n    <tr>\n      <th>10</th>\n      <td>0.0</td>\n      <td>0.0</td>\n      <td>1.0</td>\n      <td>0.0</td>\n      <td>1.50</td>\n      <td>0.00</td>\n      <td>0.0</td>\n      <td>0.0</td>\n      <td>0.0</td>\n      <td>0.0</td>\n      <td>...</td>\n      <td>0</td>\n      <td>0</td>\n      <td>0</td>\n      <td>0</td>\n      <td>0</td>\n      <td>0</td>\n      <td>1</td>\n      <td>0</td>\n      <td>0</td>\n      <td>0</td>\n    </tr>\n    <tr>\n      <th>...</th>\n      <td>...</td>\n      <td>...</td>\n      <td>...</td>\n      <td>...</td>\n      <td>...</td>\n      <td>...</td>\n      <td>...</td>\n      <td>...</td>\n      <td>...</td>\n      <td>...</td>\n      <td>...</td>\n      <td>...</td>\n      <td>...</td>\n      <td>...</td>\n      <td>...</td>\n      <td>...</td>\n      <td>...</td>\n      <td>...</td>\n      <td>...</td>\n      <td>...</td>\n      <td>...</td>\n    </tr>\n    <tr>\n      <th>73262</th>\n      <td>0.0</td>\n      <td>0.5</td>\n      <td>0.0</td>\n      <td>0.5</td>\n      <td>0.00</td>\n      <td>0.75</td>\n      <td>0.0</td>\n      <td>0.0</td>\n      <td>0.0</td>\n      <td>0.0</td>\n      <td>...</td>\n      <td>0</td>\n      <td>0</td>\n      <td>0</td>\n      <td>0</td>\n      <td>0</td>\n      <td>0</td>\n      <td>0</td>\n      <td>0</td>\n      <td>0</td>\n      <td>0</td>\n    </tr>\n    <tr>\n      <th>73263</th>\n      <td>0.0</td>\n      <td>0.0</td>\n      <td>1.5</td>\n      <td>0.0</td>\n      <td>0.00</td>\n      <td>0.00</td>\n      <td>0.0</td>\n      <td>0.0</td>\n      <td>0.0</td>\n      <td>1.0</td>\n      <td>...</td>\n      <td>0</td>\n      <td>0</td>\n      <td>0</td>\n      <td>0</td>\n      <td>0</td>\n      <td>1</td>\n      <td>0</td>\n      <td>1</td>\n      <td>1</td>\n      <td>1</td>\n    </tr>\n    <tr>\n      <th>73264</th>\n      <td>0.0</td>\n      <td>0.0</td>\n      <td>1.0</td>\n      <td>0.0</td>\n      <td>0.00</td>\n      <td>0.00</td>\n      <td>0.0</td>\n      <td>0.0</td>\n      <td>0.0</td>\n      <td>0.0</td>\n      <td>...</td>\n      <td>0</td>\n      <td>0</td>\n      <td>0</td>\n      <td>0</td>\n      <td>0</td>\n      <td>0</td>\n      <td>0</td>\n      <td>0</td>\n      <td>0</td>\n      <td>0</td>\n    </tr>\n    <tr>\n      <th>73265</th>\n      <td>0.0</td>\n      <td>0.0</td>\n      <td>0.0</td>\n      <td>0.0</td>\n      <td>0.25</td>\n      <td>0.00</td>\n      <td>0.0</td>\n      <td>0.0</td>\n      <td>0.0</td>\n      <td>0.0</td>\n      <td>...</td>\n      <td>0</td>\n      <td>0</td>\n      <td>1</td>\n      <td>1</td>\n      <td>0</td>\n      <td>0</td>\n      <td>0</td>\n      <td>0</td>\n      <td>0</td>\n      <td>0</td>\n    </tr>\n    <tr>\n      <th>73266</th>\n      <td>0.0</td>\n      <td>0.0</td>\n      <td>0.0</td>\n      <td>0.0</td>\n      <td>1.00</td>\n      <td>0.00</td>\n      <td>0.0</td>\n      <td>0.0</td>\n      <td>0.0</td>\n      <td>0.0</td>\n      <td>...</td>\n      <td>0</td>\n      <td>0</td>\n      <td>0</td>\n      <td>0</td>\n      <td>0</td>\n      <td>0</td>\n      <td>0</td>\n      <td>0</td>\n      <td>0</td>\n      <td>0</td>\n    </tr>\n  </tbody>\n</table>\n<p>50423 rows × 188 columns</p>\n</div>"
     },
     "execution_count": 24,
     "metadata": {},
     "output_type": "execute_result"
    }
   ],
   "source": [
    "skills_dev_df = pd.concat([skills_df, dev_df], axis=1, join='inner')\n",
    "skills_dev_df"
   ],
   "metadata": {
    "collapsed": false
   }
  },
  {
   "cell_type": "code",
   "execution_count": 25,
   "outputs": [],
   "source": [
    "skills_dev_df.to_pickle(LOAD_PATH + SAVE_DF_NAME)\n"
   ],
   "metadata": {
    "collapsed": false
   }
  },
  {
   "cell_type": "code",
   "execution_count": 25,
   "outputs": [],
   "source": [],
   "metadata": {
    "collapsed": false
   }
  },
  {
   "cell_type": "markdown",
   "source": [
    "# Save logs"
   ],
   "metadata": {
    "collapsed": false
   }
  },
  {
   "cell_type": "markdown",
   "source": [
    "## 1. original features"
   ],
   "metadata": {
    "collapsed": false
   }
  },
  {
   "cell_type": "code",
   "execution_count": 26,
   "outputs": [
    {
     "data": {
      "text/plain": "                                              original_features-train  \\\n                                                            precision   \nAcademic researcher                                          0.463415   \nBlockchain                                                   0.441176   \nCloud infrastructure engineer                                0.429501   \nData or business analyst                                     0.428125   \nData scientist or machine learning specialist                0.648450   \nDevOps specialist                                            0.493235   \nDeveloper_back-end                                           0.591518   \nDeveloper_desktop or enterprise applications                 0.612589   \nDeveloper_embedded applications or devices                   0.587762   \nDeveloper_front-end                                          0.616557   \nDeveloper_full-stack                                         0.673869   \nDeveloper_game or graphics                                   0.451417   \nDeveloper_mobile                                             0.734556   \nEngineer_data                                                0.538175   \nEngineer_site reliability                                    0.314410   \nScientist                                                    0.394558   \nfull_stack_.NET                                              0.699437   \nfull_stack_Java                                              0.634437   \nfull_stack_.JavaScript                                       0.686360   \nfull_stack_PHP                                               0.690522   \nfull_stack_python                                            0.643014   \nback_end_Java                                                0.604891   \nback_end_.JavaScript                                         0.448542   \nback_end_.NET                                                0.517828   \nback_end_C++                                                 0.554313   \nback_end_python                                              0.565636   \nback_end_PHP                                                 0.533512   \nMean                                                         0.553742   \n\n                                                                             \\\n                                                 recall  f1_score  accuracy   \nAcademic researcher                            0.224662  0.302617  0.965265   \nBlockchain                                     0.258621  0.326087  0.985947   \nCloud infrastructure engineer                  0.218423  0.289580  0.944951   \nData or business analyst                       0.130104  0.199563  0.968863   \nData scientist or machine learning specialist  0.502211  0.566038  0.965464   \nDevOps specialist                              0.181777  0.265651  0.937188   \nDeveloper_back-end                             0.614549  0.602814  0.700051   \nDeveloper_desktop or enterprise applications   0.182082  0.280723  0.899677   \nDeveloper_embedded applications or devices     0.255961  0.356619  0.962687   \nDeveloper_front-end                            0.390297  0.478004  0.832247   \nDeveloper_full-stack                           0.732187  0.701819  0.741727   \nDeveloper_game or graphics                     0.337368  0.386147  0.979913   \nDeveloper_mobile                               0.580838  0.648715  0.943450   \nEngineer_data                                  0.200555  0.292214  0.960335   \nEngineer_site reliability                      0.127660  0.181589  0.981613   \nScientist                                      0.241667  0.299742  0.976966   \nfull_stack_.NET                                0.637880  0.667242  0.901689   \nfull_stack_Java                                0.554321  0.591679  0.877097   \nfull_stack_.JavaScript                         0.702059  0.694120  0.854374   \nfull_stack_PHP                                 0.646488  0.667780  0.859106   \nfull_stack_python                              0.543375  0.589010  0.895739   \nback_end_Java                                  0.615333  0.610067  0.868314   \nback_end_.JavaScript                           0.462586  0.455456  0.822841   \nback_end_.NET                                  0.551421  0.534096  0.891602   \nback_end_C++                                   0.448222  0.495654  0.868484   \nback_end_python                                0.466865  0.511527  0.847518   \nback_end_PHP                                   0.487354  0.509389  0.847518   \nMean                                           0.416128  0.460759  0.899704   \n\n                                              original_features-test  \\\n                                                           precision   \nAcademic researcher                                         0.468619   \nBlockchain                                                  0.418803   \nCloud infrastructure engineer                               0.363636   \nData or business analyst                                    0.392857   \nData scientist or machine learning specialist               0.591603   \nDevOps specialist                                           0.494475   \nDeveloper_back-end                                          0.589631   \nDeveloper_desktop or enterprise applications                0.587368   \nDeveloper_embedded applications or devices                  0.561462   \nDeveloper_front-end                                         0.588267   \nDeveloper_full-stack                                        0.677106   \nDeveloper_game or graphics                                  0.373272   \nDeveloper_mobile                                            0.735708   \nEngineer_data                                               0.481172   \nEngineer_site reliability                                   0.350000   \nScientist                                                   0.372222   \nfull_stack_.NET                                             0.689284   \nfull_stack_Java                                             0.637512   \nfull_stack_.JavaScript                                      0.685944   \nfull_stack_PHP                                              0.686419   \nfull_stack_python                                           0.652817   \nback_end_Java                                               0.588371   \nback_end_.JavaScript                                        0.448728   \nback_end_.NET                                               0.516218   \nback_end_C++                                                0.529709   \nback_end_python                                             0.537428   \nback_end_PHP                                                0.511199   \nMean                                                        0.535965   \n\n                                                                             \n                                                 recall  f1_score  accuracy  \nAcademic researcher                            0.220472  0.299866  0.965426  \nBlockchain                                     0.213974  0.283237  0.983605  \nCloud infrastructure engineer                  0.173482  0.234899  0.939710  \nData or business analyst                       0.118534  0.182119  0.967343  \nData scientist or machine learning specialist  0.494418  0.538662  0.964897  \nDevOps specialist                              0.191239  0.275809  0.937859  \nDeveloper_back-end                             0.619327  0.604114  0.698486  \nDeveloper_desktop or enterprise applications   0.169399  0.262959  0.896609  \nDeveloper_embedded applications or devices     0.261206  0.356540  0.959675  \nDeveloper_front-end                            0.374915  0.457961  0.827395  \nDeveloper_full-stack                           0.733748  0.704290  0.744364  \nDeveloper_game or graphics                     0.285211  0.323353  0.977590  \nDeveloper_mobile                               0.584512  0.651452  0.944470  \nEngineer_data                                  0.212569  0.294872  0.963641  \nEngineer_site reliability                      0.138340  0.198300  0.981292  \nScientist                                      0.237589  0.290043  0.978317  \nfull_stack_.NET                                0.623624  0.654812  0.897336  \nfull_stack_Java                                0.547830  0.589278  0.874397  \nfull_stack_.JavaScript                         0.709695  0.697617  0.853176  \nfull_stack_PHP                                 0.641809  0.663365  0.856217  \nfull_stack_python                              0.536483  0.588960  0.894163  \nback_end_Java                                  0.609737  0.598863  0.864679  \nback_end_.JavaScript                           0.476658  0.462272  0.820982  \nback_end_.NET                                  0.547841  0.531560  0.890593  \nback_end_C++                                   0.455202  0.489637  0.869769  \nback_end_python                                0.456770  0.493827  0.848218  \nback_end_PHP                                   0.472211  0.490932  0.840418  \nMean                                           0.409184  0.450255  0.898233  ",
      "text/html": "<div>\n<style scoped>\n    .dataframe tbody tr th:only-of-type {\n        vertical-align: middle;\n    }\n\n    .dataframe tbody tr th {\n        vertical-align: top;\n    }\n\n    .dataframe thead tr th {\n        text-align: left;\n    }\n</style>\n<table border=\"1\" class=\"dataframe\">\n  <thead>\n    <tr>\n      <th></th>\n      <th colspan=\"4\" halign=\"left\">original_features-train</th>\n      <th colspan=\"4\" halign=\"left\">original_features-test</th>\n    </tr>\n    <tr>\n      <th></th>\n      <th>precision</th>\n      <th>recall</th>\n      <th>f1_score</th>\n      <th>accuracy</th>\n      <th>precision</th>\n      <th>recall</th>\n      <th>f1_score</th>\n      <th>accuracy</th>\n    </tr>\n  </thead>\n  <tbody>\n    <tr>\n      <th>Academic researcher</th>\n      <td>0.463415</td>\n      <td>0.224662</td>\n      <td>0.302617</td>\n      <td>0.965265</td>\n      <td>0.468619</td>\n      <td>0.220472</td>\n      <td>0.299866</td>\n      <td>0.965426</td>\n    </tr>\n    <tr>\n      <th>Blockchain</th>\n      <td>0.441176</td>\n      <td>0.258621</td>\n      <td>0.326087</td>\n      <td>0.985947</td>\n      <td>0.418803</td>\n      <td>0.213974</td>\n      <td>0.283237</td>\n      <td>0.983605</td>\n    </tr>\n    <tr>\n      <th>Cloud infrastructure engineer</th>\n      <td>0.429501</td>\n      <td>0.218423</td>\n      <td>0.289580</td>\n      <td>0.944951</td>\n      <td>0.363636</td>\n      <td>0.173482</td>\n      <td>0.234899</td>\n      <td>0.939710</td>\n    </tr>\n    <tr>\n      <th>Data or business analyst</th>\n      <td>0.428125</td>\n      <td>0.130104</td>\n      <td>0.199563</td>\n      <td>0.968863</td>\n      <td>0.392857</td>\n      <td>0.118534</td>\n      <td>0.182119</td>\n      <td>0.967343</td>\n    </tr>\n    <tr>\n      <th>Data scientist or machine learning specialist</th>\n      <td>0.648450</td>\n      <td>0.502211</td>\n      <td>0.566038</td>\n      <td>0.965464</td>\n      <td>0.591603</td>\n      <td>0.494418</td>\n      <td>0.538662</td>\n      <td>0.964897</td>\n    </tr>\n    <tr>\n      <th>DevOps specialist</th>\n      <td>0.493235</td>\n      <td>0.181777</td>\n      <td>0.265651</td>\n      <td>0.937188</td>\n      <td>0.494475</td>\n      <td>0.191239</td>\n      <td>0.275809</td>\n      <td>0.937859</td>\n    </tr>\n    <tr>\n      <th>Developer_back-end</th>\n      <td>0.591518</td>\n      <td>0.614549</td>\n      <td>0.602814</td>\n      <td>0.700051</td>\n      <td>0.589631</td>\n      <td>0.619327</td>\n      <td>0.604114</td>\n      <td>0.698486</td>\n    </tr>\n    <tr>\n      <th>Developer_desktop or enterprise applications</th>\n      <td>0.612589</td>\n      <td>0.182082</td>\n      <td>0.280723</td>\n      <td>0.899677</td>\n      <td>0.587368</td>\n      <td>0.169399</td>\n      <td>0.262959</td>\n      <td>0.896609</td>\n    </tr>\n    <tr>\n      <th>Developer_embedded applications or devices</th>\n      <td>0.587762</td>\n      <td>0.255961</td>\n      <td>0.356619</td>\n      <td>0.962687</td>\n      <td>0.561462</td>\n      <td>0.261206</td>\n      <td>0.356540</td>\n      <td>0.959675</td>\n    </tr>\n    <tr>\n      <th>Developer_front-end</th>\n      <td>0.616557</td>\n      <td>0.390297</td>\n      <td>0.478004</td>\n      <td>0.832247</td>\n      <td>0.588267</td>\n      <td>0.374915</td>\n      <td>0.457961</td>\n      <td>0.827395</td>\n    </tr>\n    <tr>\n      <th>Developer_full-stack</th>\n      <td>0.673869</td>\n      <td>0.732187</td>\n      <td>0.701819</td>\n      <td>0.741727</td>\n      <td>0.677106</td>\n      <td>0.733748</td>\n      <td>0.704290</td>\n      <td>0.744364</td>\n    </tr>\n    <tr>\n      <th>Developer_game or graphics</th>\n      <td>0.451417</td>\n      <td>0.337368</td>\n      <td>0.386147</td>\n      <td>0.979913</td>\n      <td>0.373272</td>\n      <td>0.285211</td>\n      <td>0.323353</td>\n      <td>0.977590</td>\n    </tr>\n    <tr>\n      <th>Developer_mobile</th>\n      <td>0.734556</td>\n      <td>0.580838</td>\n      <td>0.648715</td>\n      <td>0.943450</td>\n      <td>0.735708</td>\n      <td>0.584512</td>\n      <td>0.651452</td>\n      <td>0.944470</td>\n    </tr>\n    <tr>\n      <th>Engineer_data</th>\n      <td>0.538175</td>\n      <td>0.200555</td>\n      <td>0.292214</td>\n      <td>0.960335</td>\n      <td>0.481172</td>\n      <td>0.212569</td>\n      <td>0.294872</td>\n      <td>0.963641</td>\n    </tr>\n    <tr>\n      <th>Engineer_site reliability</th>\n      <td>0.314410</td>\n      <td>0.127660</td>\n      <td>0.181589</td>\n      <td>0.981613</td>\n      <td>0.350000</td>\n      <td>0.138340</td>\n      <td>0.198300</td>\n      <td>0.981292</td>\n    </tr>\n    <tr>\n      <th>Scientist</th>\n      <td>0.394558</td>\n      <td>0.241667</td>\n      <td>0.299742</td>\n      <td>0.976966</td>\n      <td>0.372222</td>\n      <td>0.237589</td>\n      <td>0.290043</td>\n      <td>0.978317</td>\n    </tr>\n    <tr>\n      <th>full_stack_.NET</th>\n      <td>0.699437</td>\n      <td>0.637880</td>\n      <td>0.667242</td>\n      <td>0.901689</td>\n      <td>0.689284</td>\n      <td>0.623624</td>\n      <td>0.654812</td>\n      <td>0.897336</td>\n    </tr>\n    <tr>\n      <th>full_stack_Java</th>\n      <td>0.634437</td>\n      <td>0.554321</td>\n      <td>0.591679</td>\n      <td>0.877097</td>\n      <td>0.637512</td>\n      <td>0.547830</td>\n      <td>0.589278</td>\n      <td>0.874397</td>\n    </tr>\n    <tr>\n      <th>full_stack_.JavaScript</th>\n      <td>0.686360</td>\n      <td>0.702059</td>\n      <td>0.694120</td>\n      <td>0.854374</td>\n      <td>0.685944</td>\n      <td>0.709695</td>\n      <td>0.697617</td>\n      <td>0.853176</td>\n    </tr>\n    <tr>\n      <th>full_stack_PHP</th>\n      <td>0.690522</td>\n      <td>0.646488</td>\n      <td>0.667780</td>\n      <td>0.859106</td>\n      <td>0.686419</td>\n      <td>0.641809</td>\n      <td>0.663365</td>\n      <td>0.856217</td>\n    </tr>\n    <tr>\n      <th>full_stack_python</th>\n      <td>0.643014</td>\n      <td>0.543375</td>\n      <td>0.589010</td>\n      <td>0.895739</td>\n      <td>0.652817</td>\n      <td>0.536483</td>\n      <td>0.588960</td>\n      <td>0.894163</td>\n    </tr>\n    <tr>\n      <th>back_end_Java</th>\n      <td>0.604891</td>\n      <td>0.615333</td>\n      <td>0.610067</td>\n      <td>0.868314</td>\n      <td>0.588371</td>\n      <td>0.609737</td>\n      <td>0.598863</td>\n      <td>0.864679</td>\n    </tr>\n    <tr>\n      <th>back_end_.JavaScript</th>\n      <td>0.448542</td>\n      <td>0.462586</td>\n      <td>0.455456</td>\n      <td>0.822841</td>\n      <td>0.448728</td>\n      <td>0.476658</td>\n      <td>0.462272</td>\n      <td>0.820982</td>\n    </tr>\n    <tr>\n      <th>back_end_.NET</th>\n      <td>0.517828</td>\n      <td>0.551421</td>\n      <td>0.534096</td>\n      <td>0.891602</td>\n      <td>0.516218</td>\n      <td>0.547841</td>\n      <td>0.531560</td>\n      <td>0.890593</td>\n    </tr>\n    <tr>\n      <th>back_end_C++</th>\n      <td>0.554313</td>\n      <td>0.448222</td>\n      <td>0.495654</td>\n      <td>0.868484</td>\n      <td>0.529709</td>\n      <td>0.455202</td>\n      <td>0.489637</td>\n      <td>0.869769</td>\n    </tr>\n    <tr>\n      <th>back_end_python</th>\n      <td>0.565636</td>\n      <td>0.466865</td>\n      <td>0.511527</td>\n      <td>0.847518</td>\n      <td>0.537428</td>\n      <td>0.456770</td>\n      <td>0.493827</td>\n      <td>0.848218</td>\n    </tr>\n    <tr>\n      <th>back_end_PHP</th>\n      <td>0.533512</td>\n      <td>0.487354</td>\n      <td>0.509389</td>\n      <td>0.847518</td>\n      <td>0.511199</td>\n      <td>0.472211</td>\n      <td>0.490932</td>\n      <td>0.840418</td>\n    </tr>\n    <tr>\n      <th>Mean</th>\n      <td>0.553742</td>\n      <td>0.416128</td>\n      <td>0.460759</td>\n      <td>0.899704</td>\n      <td>0.535965</td>\n      <td>0.409184</td>\n      <td>0.450255</td>\n      <td>0.898233</td>\n    </tr>\n  </tbody>\n</table>\n</div>"
     },
     "execution_count": 26,
     "metadata": {},
     "output_type": "execute_result"
    }
   ],
   "source": [
    "classification_report_original_features"
   ],
   "metadata": {
    "collapsed": false
   }
  },
  {
   "cell_type": "code",
   "execution_count": 27,
   "outputs": [
    {
     "name": "stderr",
     "output_type": "stream",
     "text": [
      "2023/08/08 15:22:48 INFO mlflow.tracking.fluent: Experiment with name 'skills_rec_analysis' does not exist. Creating a new experiment.\n"
     ]
    }
   ],
   "source": [
    "mlflow_utils_original_features = MlflowUtils(artifact_temp='../models/temp/basic_model_original_features')\n",
    "mlflow_utils_original_features.save_data(path=LOAD_SKILLS_DEV,\n",
    "                                                 training_indices=X_train.index,\n",
    "                                                 testing_indices=X_test.index,\n",
    "                                                 target_names=job_names,\n",
    "                                                 features_names=original_features)\n",
    "\n",
    "mlflow_utils_original_features.save_model_data(name='basic_model_original_features',\n",
    "                                               details=str(original_features_model),\n",
    "                                               model_object=original_features_model)\n",
    "\n",
    "mlflow_utils_original_features.save_matrices(classification_report_original_features)\n",
    "\n",
    "original_features_metrics = classification_report_original_features['original_features-test'].loc['Mean',:]\n",
    "original_features_metrics = pd.Series(original_features_metrics).to_dict()\n",
    "mlflow_utils_original_features.save_run_details('1.basic_model_with_original_features', metrics=original_features_metrics)\n"
   ],
   "metadata": {
    "collapsed": false
   }
  },
  {
   "cell_type": "code",
   "execution_count": 28,
   "outputs": [],
   "source": [
    "mlflow_utils_clustered_features = MlflowUtils(artifact_temp='../models/temp/basic_model_clustered_features')\n",
    "mlflow_utils_clustered_features.save_data(path=LOAD_SKILLS_DEV,\n",
    "                                                 training_indices=X_train.index,\n",
    "                                                 testing_indices=X_test.index,\n",
    "                                                 target_names=job_names,\n",
    "                                                 features_names=clustered_features)\n",
    "\n",
    "mlflow_utils_clustered_features.save_model_data(name='basic_model_clustered',\n",
    "                                               details=str(clustered_features_model),\n",
    "                                               model_object=clustered_features_model)\n",
    "\n",
    "mlflow_utils_clustered_features.save_matrices(classification_report_clustered_features)\n",
    "\n",
    "clustered_features_metrics = classification_report_clustered_features['clustered_features-test'].loc['Mean',:]\n",
    "clustered_features_metrics = pd.Series(clustered_features_metrics).to_dict()\n",
    "\n",
    "\n",
    "mlflow_utils_clustered_features.save_run_details('2.basic_model_with_clustered_features', metrics=dict(clustered_features_metrics))"
   ],
   "metadata": {
    "collapsed": false
   }
  },
  {
   "cell_type": "code",
   "execution_count": 29,
   "outputs": [
    {
     "data": {
      "text/plain": "['2.basic_model_with_clustered_features',\n '1.basic_model_with_original_features']"
     },
     "execution_count": 29,
     "metadata": {},
     "output_type": "execute_result"
    }
   ],
   "source": [
    "MlflowUtils.get_run_names()"
   ],
   "metadata": {
    "collapsed": false
   }
  },
  {
   "cell_type": "code",
   "execution_count": 30,
   "outputs": [
    {
     "data": {
      "text/plain": "                             run_id       experiment_id    status  \\\n0  f6cf7dfa383f4a89811010639556c9d7  907184637109318169  FINISHED   \n1  f0c59d4307f649b1a93cd2fb922448a4  907184637109318169  FINISHED   \n\n                                        artifact_uri  \\\n0  file:///E:/M_Hassan/AI_Work/StackOverflow_skil...   \n1  file:///E:/M_Hassan/AI_Work/StackOverflow_skil...   \n\n                        start_time                         end_time  \\\n0 2023-08-08 13:22:48.741000+00:00 2023-08-08 13:22:48.772000+00:00   \n1 2023-08-08 13:22:48.672000+00:00 2023-08-08 13:22:48.710000+00:00   \n\n   metrics.accuracy  metrics.f1_score  metrics.precision  metrics.recall  \\\n0          0.893628          0.376317           0.507593        0.326518   \n1          0.898233          0.450255           0.535965        0.409184   \n\n  tags.mlflow.source.type                            tags.mlflow.source.name  \\\n0                   LOCAL  C:\\Users\\salshahed\\AppData\\Roaming\\Python\\Pyth...   \n1                   LOCAL  C:\\Users\\salshahed\\AppData\\Roaming\\Python\\Pyth...   \n\n                     tags.mlflow.runName tags.mlflow.user  \n0  2.basic_model_with_clustered_features          mhassan  \n1   1.basic_model_with_original_features          mhassan  ",
      "text/html": "<div>\n<style scoped>\n    .dataframe tbody tr th:only-of-type {\n        vertical-align: middle;\n    }\n\n    .dataframe tbody tr th {\n        vertical-align: top;\n    }\n\n    .dataframe thead th {\n        text-align: right;\n    }\n</style>\n<table border=\"1\" class=\"dataframe\">\n  <thead>\n    <tr style=\"text-align: right;\">\n      <th></th>\n      <th>run_id</th>\n      <th>experiment_id</th>\n      <th>status</th>\n      <th>artifact_uri</th>\n      <th>start_time</th>\n      <th>end_time</th>\n      <th>metrics.accuracy</th>\n      <th>metrics.f1_score</th>\n      <th>metrics.precision</th>\n      <th>metrics.recall</th>\n      <th>tags.mlflow.source.type</th>\n      <th>tags.mlflow.source.name</th>\n      <th>tags.mlflow.runName</th>\n      <th>tags.mlflow.user</th>\n    </tr>\n  </thead>\n  <tbody>\n    <tr>\n      <th>0</th>\n      <td>f6cf7dfa383f4a89811010639556c9d7</td>\n      <td>907184637109318169</td>\n      <td>FINISHED</td>\n      <td>file:///E:/M_Hassan/AI_Work/StackOverflow_skil...</td>\n      <td>2023-08-08 13:22:48.741000+00:00</td>\n      <td>2023-08-08 13:22:48.772000+00:00</td>\n      <td>0.893628</td>\n      <td>0.376317</td>\n      <td>0.507593</td>\n      <td>0.326518</td>\n      <td>LOCAL</td>\n      <td>C:\\Users\\salshahed\\AppData\\Roaming\\Python\\Pyth...</td>\n      <td>2.basic_model_with_clustered_features</td>\n      <td>mhassan</td>\n    </tr>\n    <tr>\n      <th>1</th>\n      <td>f0c59d4307f649b1a93cd2fb922448a4</td>\n      <td>907184637109318169</td>\n      <td>FINISHED</td>\n      <td>file:///E:/M_Hassan/AI_Work/StackOverflow_skil...</td>\n      <td>2023-08-08 13:22:48.672000+00:00</td>\n      <td>2023-08-08 13:22:48.710000+00:00</td>\n      <td>0.898233</td>\n      <td>0.450255</td>\n      <td>0.535965</td>\n      <td>0.409184</td>\n      <td>LOCAL</td>\n      <td>C:\\Users\\salshahed\\AppData\\Roaming\\Python\\Pyth...</td>\n      <td>1.basic_model_with_original_features</td>\n      <td>mhassan</td>\n    </tr>\n  </tbody>\n</table>\n</div>"
     },
     "execution_count": 30,
     "metadata": {},
     "output_type": "execute_result"
    }
   ],
   "source": [
    "MlflowUtils.get_runs()"
   ],
   "metadata": {
    "collapsed": false
   }
  },
  {
   "cell_type": "code",
   "execution_count": 31,
   "outputs": [
    {
     "data": {
      "text/plain": "'f6cf7dfa383f4a89811010639556c9d7'"
     },
     "execution_count": 31,
     "metadata": {},
     "output_type": "execute_result"
    }
   ],
   "source": [
    "run_id = MlflowUtils.get_run_id_by_metrix(metrix_name='recall')\n",
    "run_id"
   ],
   "metadata": {
    "collapsed": false
   }
  },
  {
   "cell_type": "code",
   "execution_count": 32,
   "outputs": [],
   "source": [
    "logged_data = MlflowUtils.fetch_logged_data(tracking_uri='../models/runs', run_id=run_id)"
   ],
   "metadata": {
    "collapsed": false
   }
  },
  {
   "cell_type": "code",
   "execution_count": 33,
   "outputs": [
    {
     "data": {
      "text/plain": "dict_keys(['metrics', 'data_details', 'matrices', 'model'])"
     },
     "execution_count": 33,
     "metadata": {},
     "output_type": "execute_result"
    }
   ],
   "source": [
    "logged_data.keys()"
   ],
   "metadata": {
    "collapsed": false
   }
  },
  {
   "cell_type": "code",
   "execution_count": 34,
   "outputs": [],
   "source": [
    "model=logged_data['model']['model_object']"
   ],
   "metadata": {
    "collapsed": false
   }
  },
  {
   "cell_type": "markdown",
   "source": [
    "# as we see from the above dataframe, original features outperform clustered features in all metricises especially recall & f1_score that we care more\n",
    "## 1. so will use the original features not all the clustered features\n",
    "## 2. And we will use These metricises as reference for any further complex model"
   ],
   "metadata": {
    "collapsed": false
   }
  },
  {
   "cell_type": "code",
   "execution_count": 34,
   "outputs": [],
   "source": [],
   "metadata": {
    "collapsed": false
   }
  }
 ],
 "metadata": {
  "kernelspec": {
   "name": "smart_health3",
   "language": "python",
   "display_name": "smart_health3"
  },
  "language_info": {
   "codemirror_mode": {
    "name": "ipython",
    "version": 2
   },
   "file_extension": ".py",
   "mimetype": "text/x-python",
   "name": "python",
   "nbconvert_exporter": "python",
   "pygments_lexer": "ipython2",
   "version": "2.7.6"
  }
 },
 "nbformat": 4,
 "nbformat_minor": 0
}
