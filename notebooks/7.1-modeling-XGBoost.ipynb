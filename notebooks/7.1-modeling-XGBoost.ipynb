{
 "cells": [
  {
   "cell_type": "code",
   "execution_count": 1,
   "metadata": {
    "collapsed": true
   },
   "outputs": [],
   "source": [
    "import sys\n",
    "import os\n",
    "\n",
    "SCRIPT_DIR = os.path.dirname(os.path.abspath('src'))\n",
    "sys.path.append(os.path.dirname(SCRIPT_DIR))\n"
   ]
  },
  {
   "cell_type": "code",
   "execution_count": 2,
   "outputs": [],
   "source": [
    "import numpy as np\n",
    "import pandas as pd\n",
    "import xgboost as xgb\n",
    "\n",
    "from sklearn.model_selection import train_test_split, GridSearchCV\n",
    "from sklearn.pipeline import Pipeline\n",
    "from sklearn.preprocessing import StandardScaler\n",
    "from sklearn.decomposition import PCA\n",
    "from src.utils import MlflowUtils\n",
    "import sklearn.metrics as skm\n",
    "from sklearn.multioutput import MultiOutputClassifier\n",
    "from sklearn.model_selection import train_test_split\n",
    "from sklearn.pipeline import make_pipeline\n",
    "from modelingUtlis import ModelingUtils\n"
   ],
   "metadata": {
    "collapsed": false
   }
  },
  {
   "cell_type": "code",
   "execution_count": 2,
   "outputs": [],
   "source": [],
   "metadata": {
    "collapsed": false
   }
  },
  {
   "cell_type": "code",
   "execution_count": 3,
   "outputs": [],
   "source": [
    "LOAD_PATH = '../data/interim/'\n",
    "LOAD_SKILLS_DEV = '7.0-Chosen_features_and_roles.pkl'\n"
   ],
   "metadata": {
    "collapsed": false
   }
  },
  {
   "cell_type": "markdown",
   "source": [
    "# Load Data"
   ],
   "metadata": {
    "collapsed": false
   }
  },
  {
   "cell_type": "code",
   "execution_count": 4,
   "outputs": [],
   "source": [
    "skills_dev_df = pd.read_pickle(LOAD_PATH + LOAD_SKILLS_DEV)"
   ],
   "metadata": {
    "collapsed": false
   }
  },
  {
   "cell_type": "code",
   "execution_count": 5,
   "outputs": [
    {
     "data": {
      "text/plain": "      Languages                                                             \\\n            APL Assembly Bash/Shell    C    C#   C++ COBOL Clojure Crystal   \n2           0.0      0.0        0.0  0.0  0.75  0.75   0.0     0.0     0.0   \n3           0.0      0.0        0.0  0.0  1.50  0.00   0.0     0.0     0.0   \n7           0.5      0.0        0.5  1.0  0.00  1.00   0.0     0.0     0.0   \n9           0.0      0.0        0.0  0.0  0.00  0.00   0.0     0.0     0.0   \n10          0.0      0.0        1.0  0.0  1.50  0.00   0.0     0.0     0.0   \n...         ...      ...        ...  ...   ...   ...   ...     ...     ...   \n73262       0.0      0.5        0.0  0.5  0.00  0.75   0.0     0.0     0.0   \n73263       0.0      0.0        1.5  0.0  0.00  0.00   0.0     0.0     0.0   \n73264       0.0      0.0        1.0  0.0  0.00  0.00   0.0     0.0     0.0   \n73265       0.0      0.0        0.0  0.0  0.25  0.00   0.0     0.0     0.0   \n73266       0.0      0.0        0.0  0.0  1.00  0.00   0.0     0.0     0.0   \n\n            ...         DevType                                        \\\n      Dart  ... full_stack_Java full_stack_.JavaScript full_stack_PHP   \n2      0.0  ...               0                      0              0   \n3      0.0  ...               0                      0              0   \n7      0.0  ...               1                      1              1   \n9      0.0  ...               0                      0              0   \n10     0.0  ...               0                      0              0   \n...    ...  ...             ...                    ...            ...   \n73262  0.0  ...               0                      0              0   \n73263  1.0  ...               0                      0              0   \n73264  0.0  ...               0                      0              0   \n73265  0.0  ...               0                      0              1   \n73266  0.0  ...               0                      0              0   \n\n                                                                          \\\n      full_stack_python back_end_Java back_end_.JavaScript back_end_.NET   \n2                     0             0                    0             0   \n3                     0             0                    0             0   \n7                     0             0                    0             0   \n9                     0             0                    0             0   \n10                    0             0                    0             1   \n...                 ...           ...                  ...           ...   \n73262                 0             0                    0             0   \n73263                 0             0                    1             0   \n73264                 0             0                    0             0   \n73265                 1             0                    0             0   \n73266                 0             0                    0             0   \n\n                                                 \n      back_end_C++ back_end_python back_end_PHP  \n2                0               0            0  \n3                0               0            0  \n7                0               0            0  \n9                0               0            0  \n10               0               0            0  \n...            ...             ...          ...  \n73262            0               0            0  \n73263            1               1            1  \n73264            0               0            0  \n73265            0               0            0  \n73266            0               0            0  \n\n[50423 rows x 188 columns]",
      "text/html": "<div>\n<style scoped>\n    .dataframe tbody tr th:only-of-type {\n        vertical-align: middle;\n    }\n\n    .dataframe tbody tr th {\n        vertical-align: top;\n    }\n\n    .dataframe thead tr th {\n        text-align: left;\n    }\n</style>\n<table border=\"1\" class=\"dataframe\">\n  <thead>\n    <tr>\n      <th></th>\n      <th colspan=\"10\" halign=\"left\">Languages</th>\n      <th>...</th>\n      <th colspan=\"10\" halign=\"left\">DevType</th>\n    </tr>\n    <tr>\n      <th></th>\n      <th>APL</th>\n      <th>Assembly</th>\n      <th>Bash/Shell</th>\n      <th>C</th>\n      <th>C#</th>\n      <th>C++</th>\n      <th>COBOL</th>\n      <th>Clojure</th>\n      <th>Crystal</th>\n      <th>Dart</th>\n      <th>...</th>\n      <th>full_stack_Java</th>\n      <th>full_stack_.JavaScript</th>\n      <th>full_stack_PHP</th>\n      <th>full_stack_python</th>\n      <th>back_end_Java</th>\n      <th>back_end_.JavaScript</th>\n      <th>back_end_.NET</th>\n      <th>back_end_C++</th>\n      <th>back_end_python</th>\n      <th>back_end_PHP</th>\n    </tr>\n  </thead>\n  <tbody>\n    <tr>\n      <th>2</th>\n      <td>0.0</td>\n      <td>0.0</td>\n      <td>0.0</td>\n      <td>0.0</td>\n      <td>0.75</td>\n      <td>0.75</td>\n      <td>0.0</td>\n      <td>0.0</td>\n      <td>0.0</td>\n      <td>0.0</td>\n      <td>...</td>\n      <td>0</td>\n      <td>0</td>\n      <td>0</td>\n      <td>0</td>\n      <td>0</td>\n      <td>0</td>\n      <td>0</td>\n      <td>0</td>\n      <td>0</td>\n      <td>0</td>\n    </tr>\n    <tr>\n      <th>3</th>\n      <td>0.0</td>\n      <td>0.0</td>\n      <td>0.0</td>\n      <td>0.0</td>\n      <td>1.50</td>\n      <td>0.00</td>\n      <td>0.0</td>\n      <td>0.0</td>\n      <td>0.0</td>\n      <td>0.0</td>\n      <td>...</td>\n      <td>0</td>\n      <td>0</td>\n      <td>0</td>\n      <td>0</td>\n      <td>0</td>\n      <td>0</td>\n      <td>0</td>\n      <td>0</td>\n      <td>0</td>\n      <td>0</td>\n    </tr>\n    <tr>\n      <th>7</th>\n      <td>0.5</td>\n      <td>0.0</td>\n      <td>0.5</td>\n      <td>1.0</td>\n      <td>0.00</td>\n      <td>1.00</td>\n      <td>0.0</td>\n      <td>0.0</td>\n      <td>0.0</td>\n      <td>0.0</td>\n      <td>...</td>\n      <td>1</td>\n      <td>1</td>\n      <td>1</td>\n      <td>0</td>\n      <td>0</td>\n      <td>0</td>\n      <td>0</td>\n      <td>0</td>\n      <td>0</td>\n      <td>0</td>\n    </tr>\n    <tr>\n      <th>9</th>\n      <td>0.0</td>\n      <td>0.0</td>\n      <td>0.0</td>\n      <td>0.0</td>\n      <td>0.00</td>\n      <td>0.00</td>\n      <td>0.0</td>\n      <td>0.0</td>\n      <td>0.0</td>\n      <td>0.0</td>\n      <td>...</td>\n      <td>0</td>\n      <td>0</td>\n      <td>0</td>\n      <td>0</td>\n      <td>0</td>\n      <td>0</td>\n      <td>0</td>\n      <td>0</td>\n      <td>0</td>\n      <td>0</td>\n    </tr>\n    <tr>\n      <th>10</th>\n      <td>0.0</td>\n      <td>0.0</td>\n      <td>1.0</td>\n      <td>0.0</td>\n      <td>1.50</td>\n      <td>0.00</td>\n      <td>0.0</td>\n      <td>0.0</td>\n      <td>0.0</td>\n      <td>0.0</td>\n      <td>...</td>\n      <td>0</td>\n      <td>0</td>\n      <td>0</td>\n      <td>0</td>\n      <td>0</td>\n      <td>0</td>\n      <td>1</td>\n      <td>0</td>\n      <td>0</td>\n      <td>0</td>\n    </tr>\n    <tr>\n      <th>...</th>\n      <td>...</td>\n      <td>...</td>\n      <td>...</td>\n      <td>...</td>\n      <td>...</td>\n      <td>...</td>\n      <td>...</td>\n      <td>...</td>\n      <td>...</td>\n      <td>...</td>\n      <td>...</td>\n      <td>...</td>\n      <td>...</td>\n      <td>...</td>\n      <td>...</td>\n      <td>...</td>\n      <td>...</td>\n      <td>...</td>\n      <td>...</td>\n      <td>...</td>\n      <td>...</td>\n    </tr>\n    <tr>\n      <th>73262</th>\n      <td>0.0</td>\n      <td>0.5</td>\n      <td>0.0</td>\n      <td>0.5</td>\n      <td>0.00</td>\n      <td>0.75</td>\n      <td>0.0</td>\n      <td>0.0</td>\n      <td>0.0</td>\n      <td>0.0</td>\n      <td>...</td>\n      <td>0</td>\n      <td>0</td>\n      <td>0</td>\n      <td>0</td>\n      <td>0</td>\n      <td>0</td>\n      <td>0</td>\n      <td>0</td>\n      <td>0</td>\n      <td>0</td>\n    </tr>\n    <tr>\n      <th>73263</th>\n      <td>0.0</td>\n      <td>0.0</td>\n      <td>1.5</td>\n      <td>0.0</td>\n      <td>0.00</td>\n      <td>0.00</td>\n      <td>0.0</td>\n      <td>0.0</td>\n      <td>0.0</td>\n      <td>1.0</td>\n      <td>...</td>\n      <td>0</td>\n      <td>0</td>\n      <td>0</td>\n      <td>0</td>\n      <td>0</td>\n      <td>1</td>\n      <td>0</td>\n      <td>1</td>\n      <td>1</td>\n      <td>1</td>\n    </tr>\n    <tr>\n      <th>73264</th>\n      <td>0.0</td>\n      <td>0.0</td>\n      <td>1.0</td>\n      <td>0.0</td>\n      <td>0.00</td>\n      <td>0.00</td>\n      <td>0.0</td>\n      <td>0.0</td>\n      <td>0.0</td>\n      <td>0.0</td>\n      <td>...</td>\n      <td>0</td>\n      <td>0</td>\n      <td>0</td>\n      <td>0</td>\n      <td>0</td>\n      <td>0</td>\n      <td>0</td>\n      <td>0</td>\n      <td>0</td>\n      <td>0</td>\n    </tr>\n    <tr>\n      <th>73265</th>\n      <td>0.0</td>\n      <td>0.0</td>\n      <td>0.0</td>\n      <td>0.0</td>\n      <td>0.25</td>\n      <td>0.00</td>\n      <td>0.0</td>\n      <td>0.0</td>\n      <td>0.0</td>\n      <td>0.0</td>\n      <td>...</td>\n      <td>0</td>\n      <td>0</td>\n      <td>1</td>\n      <td>1</td>\n      <td>0</td>\n      <td>0</td>\n      <td>0</td>\n      <td>0</td>\n      <td>0</td>\n      <td>0</td>\n    </tr>\n    <tr>\n      <th>73266</th>\n      <td>0.0</td>\n      <td>0.0</td>\n      <td>0.0</td>\n      <td>0.0</td>\n      <td>1.00</td>\n      <td>0.00</td>\n      <td>0.0</td>\n      <td>0.0</td>\n      <td>0.0</td>\n      <td>0.0</td>\n      <td>...</td>\n      <td>0</td>\n      <td>0</td>\n      <td>0</td>\n      <td>0</td>\n      <td>0</td>\n      <td>0</td>\n      <td>0</td>\n      <td>0</td>\n      <td>0</td>\n      <td>0</td>\n    </tr>\n  </tbody>\n</table>\n<p>50423 rows × 188 columns</p>\n</div>"
     },
     "execution_count": 5,
     "metadata": {},
     "output_type": "execute_result"
    }
   ],
   "source": [
    "skills_dev_df"
   ],
   "metadata": {
    "collapsed": false
   }
  },
  {
   "cell_type": "code",
   "execution_count": 6,
   "outputs": [
    {
     "name": "stdout",
     "output_type": "stream",
     "text": [
      "train_f1-score:  0.5665394660854058\n",
      "test_f1-score:  0.5068400028896315\n"
     ]
    }
   ],
   "source": [
    "new_pipeline = make_pipeline(StandardScaler(), MultiOutputClassifier(xgb.XGBClassifier(min_child_weight = 1.4, gamma = 2.5, alpha = 1, learning_rate = .1, max_depth = 3, n_estimators = 200)))\n",
    "XGB_modeling_utils = ModelingUtils(skills_dev_df, new_pipeline)\n",
    "XGB_features_model, XGB_classification_report = XGB_modeling_utils.train_evaluate_model_features()"
   ],
   "metadata": {
    "collapsed": false
   }
  },
  {
   "cell_type": "code",
   "execution_count": 7,
   "outputs": [
    {
     "data": {
      "text/plain": "                                                  train                      \\\n                                              precision    recall  f1_score   \nAcademic researcher                            0.615556  0.409763  0.492007   \nBlockchain                                     0.517500  0.367673  0.429907   \nCloud infrastructure engineer                  0.545136  0.293673  0.381712   \nData or business analyst                       0.584871  0.265940  0.365629   \nData scientist or machine learning specialist  0.684340  0.623245  0.652366   \nDevOps specialist                              0.613320  0.247791  0.352975   \nDeveloper_back-end                             0.578360  0.751057  0.653491   \nDeveloper_desktop or enterprise applications   0.661715  0.227431  0.338515   \nDeveloper_embedded applications or devices     0.667785  0.356205  0.464591   \nDeveloper_front-end                            0.642362  0.425025  0.511567   \nDeveloper_full-stack                           0.667294  0.805690  0.729990   \nDeveloper_game or graphics                     0.541391  0.438338  0.484444   \nDeveloper_mobile                               0.768192  0.645545  0.701549   \nEngineer_data                                  0.612999  0.261006  0.366123   \nEngineer_site reliability                      0.445498  0.283133  0.346225   \nScientist                                      0.542587  0.416465  0.471233   \nfull_stack_.NET                                0.733848  0.794501  0.762971   \nfull_stack_Java                                0.695467  0.804799  0.746149   \nfull_stack_.JavaScript                         0.683960  0.830826  0.750273   \nfull_stack_PHP                                 0.698152  0.815105  0.752109   \nfull_stack_python                              0.696432  0.702981  0.699691   \nback_end_Java                                  0.622850  0.857122  0.721444   \nback_end_.JavaScript                           0.530870  0.653662  0.585902   \nback_end_.NET                                  0.530708  0.754331  0.623062   \nback_end_C++                                   0.598896  0.757110  0.668773   \nback_end_python                                0.593725  0.665832  0.627715   \nback_end_PHP                                   0.551316  0.698272  0.616153   \nMean                                           0.615746  0.561205  0.566539   \n\n                                                             test            \\\n                                               accuracy precision    recall   \nAcademic researcher                            0.971601  0.522388  0.308824   \nBlockchain                                     0.986371  0.372093  0.246154   \nCloud infrastructure engineer                  0.949979  0.421642  0.225100   \nData or business analyst                       0.972693  0.452381  0.175385   \nData scientist or machine learning specialist  0.970633  0.584383  0.540793   \nDevOps specialist                              0.943847  0.569170  0.220859   \nDeveloper_back-end                             0.705335  0.557653  0.717340   \nDeveloper_desktop or enterprise applications   0.904923  0.610973  0.216240   \nDeveloper_embedded applications or devices     0.965842  0.575610  0.297229   \nDeveloper_front-end                            0.841720  0.618939  0.402067   \nDeveloper_full-stack                           0.752451  0.650680  0.798427   \nDeveloper_game or graphics                     0.982722  0.423841  0.321608   \nDeveloper_mobile                               0.950724  0.715426  0.596452   \nEngineer_data                                  0.964327  0.500000  0.183673   \nEngineer_site reliability                      0.982375  0.321739  0.241830   \nScientist                                      0.980836  0.372263  0.289773   \nfull_stack_.NET                                0.923789  0.704702  0.769568   \nfull_stack_Java                                0.911625  0.685446  0.792999   \nfull_stack_.JavaScript                         0.869498  0.671307  0.819652   \nfull_stack_PHP                                 0.882556  0.687595  0.797792   \nfull_stack_python                              0.915572  0.664051  0.687085   \nback_end_Java                                  0.888911  0.570145  0.805925   \nback_end_.JavaScript                           0.851252  0.469779  0.593789   \nback_end_.NET                                  0.897997  0.494138  0.708999   \nback_end_C++                                   0.893305  0.537404  0.681311   \nback_end_python                                0.866817  0.548113  0.608260   \nback_end_PHP                                   0.858774  0.506365  0.647378   \nMean                                           0.910610  0.548453  0.507204   \n\n                                                                   \n                                               f1_score  accuracy  \nAcademic researcher                            0.388170  0.967357  \nBlockchain                                     0.296296  0.985010  \nCloud infrastructure engineer                  0.293506  0.946351  \nData or business analyst                       0.252772  0.966765  \nData scientist or machine learning specialist  0.561743  0.964300  \nDevOps specialist                              0.318232  0.939152  \nDeveloper_back-end                             0.627496  0.681755  \nDeveloper_desktop or enterprise applications   0.319426  0.897041  \nDeveloper_embedded applications or devices     0.392027  0.963905  \nDeveloper_front-end                            0.487470  0.830572  \nDeveloper_full-stack                           0.717022  0.739152  \nDeveloper_game or graphics                     0.365714  0.978107  \nDeveloper_mobile                               0.650544  0.942998  \nEngineer_data                                  0.268657  0.961341  \nEngineer_site reliability                      0.276119  0.980868  \nScientist                                      0.325879  0.979191  \nfull_stack_.NET                                0.735708  0.912919  \nfull_stack_Java                                0.735311  0.906706  \nfull_stack_.JavaScript                         0.738100  0.861637  \nfull_stack_PHP                                 0.738606  0.873866  \nfull_stack_python                              0.675372  0.911736  \nback_end_Java                                  0.667836  0.869231  \nback_end_.JavaScript                           0.524554  0.829093  \nback_end_.NET                                  0.582383  0.880769  \nback_end_C++                                   0.600861  0.871992  \nback_end_python                                0.576622  0.850690  \nback_end_PHP                                   0.568254  0.839053  \nMean                                           0.506840  0.901169  ",
      "text/html": "<div>\n<style scoped>\n    .dataframe tbody tr th:only-of-type {\n        vertical-align: middle;\n    }\n\n    .dataframe tbody tr th {\n        vertical-align: top;\n    }\n\n    .dataframe thead tr th {\n        text-align: left;\n    }\n</style>\n<table border=\"1\" class=\"dataframe\">\n  <thead>\n    <tr>\n      <th></th>\n      <th colspan=\"4\" halign=\"left\">train</th>\n      <th colspan=\"4\" halign=\"left\">test</th>\n    </tr>\n    <tr>\n      <th></th>\n      <th>precision</th>\n      <th>recall</th>\n      <th>f1_score</th>\n      <th>accuracy</th>\n      <th>precision</th>\n      <th>recall</th>\n      <th>f1_score</th>\n      <th>accuracy</th>\n    </tr>\n  </thead>\n  <tbody>\n    <tr>\n      <th>Academic researcher</th>\n      <td>0.615556</td>\n      <td>0.409763</td>\n      <td>0.492007</td>\n      <td>0.971601</td>\n      <td>0.522388</td>\n      <td>0.308824</td>\n      <td>0.388170</td>\n      <td>0.967357</td>\n    </tr>\n    <tr>\n      <th>Blockchain</th>\n      <td>0.517500</td>\n      <td>0.367673</td>\n      <td>0.429907</td>\n      <td>0.986371</td>\n      <td>0.372093</td>\n      <td>0.246154</td>\n      <td>0.296296</td>\n      <td>0.985010</td>\n    </tr>\n    <tr>\n      <th>Cloud infrastructure engineer</th>\n      <td>0.545136</td>\n      <td>0.293673</td>\n      <td>0.381712</td>\n      <td>0.949979</td>\n      <td>0.421642</td>\n      <td>0.225100</td>\n      <td>0.293506</td>\n      <td>0.946351</td>\n    </tr>\n    <tr>\n      <th>Data or business analyst</th>\n      <td>0.584871</td>\n      <td>0.265940</td>\n      <td>0.365629</td>\n      <td>0.972693</td>\n      <td>0.452381</td>\n      <td>0.175385</td>\n      <td>0.252772</td>\n      <td>0.966765</td>\n    </tr>\n    <tr>\n      <th>Data scientist or machine learning specialist</th>\n      <td>0.684340</td>\n      <td>0.623245</td>\n      <td>0.652366</td>\n      <td>0.970633</td>\n      <td>0.584383</td>\n      <td>0.540793</td>\n      <td>0.561743</td>\n      <td>0.964300</td>\n    </tr>\n    <tr>\n      <th>DevOps specialist</th>\n      <td>0.613320</td>\n      <td>0.247791</td>\n      <td>0.352975</td>\n      <td>0.943847</td>\n      <td>0.569170</td>\n      <td>0.220859</td>\n      <td>0.318232</td>\n      <td>0.939152</td>\n    </tr>\n    <tr>\n      <th>Developer_back-end</th>\n      <td>0.578360</td>\n      <td>0.751057</td>\n      <td>0.653491</td>\n      <td>0.705335</td>\n      <td>0.557653</td>\n      <td>0.717340</td>\n      <td>0.627496</td>\n      <td>0.681755</td>\n    </tr>\n    <tr>\n      <th>Developer_desktop or enterprise applications</th>\n      <td>0.661715</td>\n      <td>0.227431</td>\n      <td>0.338515</td>\n      <td>0.904923</td>\n      <td>0.610973</td>\n      <td>0.216240</td>\n      <td>0.319426</td>\n      <td>0.897041</td>\n    </tr>\n    <tr>\n      <th>Developer_embedded applications or devices</th>\n      <td>0.667785</td>\n      <td>0.356205</td>\n      <td>0.464591</td>\n      <td>0.965842</td>\n      <td>0.575610</td>\n      <td>0.297229</td>\n      <td>0.392027</td>\n      <td>0.963905</td>\n    </tr>\n    <tr>\n      <th>Developer_front-end</th>\n      <td>0.642362</td>\n      <td>0.425025</td>\n      <td>0.511567</td>\n      <td>0.841720</td>\n      <td>0.618939</td>\n      <td>0.402067</td>\n      <td>0.487470</td>\n      <td>0.830572</td>\n    </tr>\n    <tr>\n      <th>Developer_full-stack</th>\n      <td>0.667294</td>\n      <td>0.805690</td>\n      <td>0.729990</td>\n      <td>0.752451</td>\n      <td>0.650680</td>\n      <td>0.798427</td>\n      <td>0.717022</td>\n      <td>0.739152</td>\n    </tr>\n    <tr>\n      <th>Developer_game or graphics</th>\n      <td>0.541391</td>\n      <td>0.438338</td>\n      <td>0.484444</td>\n      <td>0.982722</td>\n      <td>0.423841</td>\n      <td>0.321608</td>\n      <td>0.365714</td>\n      <td>0.978107</td>\n    </tr>\n    <tr>\n      <th>Developer_mobile</th>\n      <td>0.768192</td>\n      <td>0.645545</td>\n      <td>0.701549</td>\n      <td>0.950724</td>\n      <td>0.715426</td>\n      <td>0.596452</td>\n      <td>0.650544</td>\n      <td>0.942998</td>\n    </tr>\n    <tr>\n      <th>Engineer_data</th>\n      <td>0.612999</td>\n      <td>0.261006</td>\n      <td>0.366123</td>\n      <td>0.964327</td>\n      <td>0.500000</td>\n      <td>0.183673</td>\n      <td>0.268657</td>\n      <td>0.961341</td>\n    </tr>\n    <tr>\n      <th>Engineer_site reliability</th>\n      <td>0.445498</td>\n      <td>0.283133</td>\n      <td>0.346225</td>\n      <td>0.982375</td>\n      <td>0.321739</td>\n      <td>0.241830</td>\n      <td>0.276119</td>\n      <td>0.980868</td>\n    </tr>\n    <tr>\n      <th>Scientist</th>\n      <td>0.542587</td>\n      <td>0.416465</td>\n      <td>0.471233</td>\n      <td>0.980836</td>\n      <td>0.372263</td>\n      <td>0.289773</td>\n      <td>0.325879</td>\n      <td>0.979191</td>\n    </tr>\n    <tr>\n      <th>full_stack_.NET</th>\n      <td>0.733848</td>\n      <td>0.794501</td>\n      <td>0.762971</td>\n      <td>0.923789</td>\n      <td>0.704702</td>\n      <td>0.769568</td>\n      <td>0.735708</td>\n      <td>0.912919</td>\n    </tr>\n    <tr>\n      <th>full_stack_Java</th>\n      <td>0.695467</td>\n      <td>0.804799</td>\n      <td>0.746149</td>\n      <td>0.911625</td>\n      <td>0.685446</td>\n      <td>0.792999</td>\n      <td>0.735311</td>\n      <td>0.906706</td>\n    </tr>\n    <tr>\n      <th>full_stack_.JavaScript</th>\n      <td>0.683960</td>\n      <td>0.830826</td>\n      <td>0.750273</td>\n      <td>0.869498</td>\n      <td>0.671307</td>\n      <td>0.819652</td>\n      <td>0.738100</td>\n      <td>0.861637</td>\n    </tr>\n    <tr>\n      <th>full_stack_PHP</th>\n      <td>0.698152</td>\n      <td>0.815105</td>\n      <td>0.752109</td>\n      <td>0.882556</td>\n      <td>0.687595</td>\n      <td>0.797792</td>\n      <td>0.738606</td>\n      <td>0.873866</td>\n    </tr>\n    <tr>\n      <th>full_stack_python</th>\n      <td>0.696432</td>\n      <td>0.702981</td>\n      <td>0.699691</td>\n      <td>0.915572</td>\n      <td>0.664051</td>\n      <td>0.687085</td>\n      <td>0.675372</td>\n      <td>0.911736</td>\n    </tr>\n    <tr>\n      <th>back_end_Java</th>\n      <td>0.622850</td>\n      <td>0.857122</td>\n      <td>0.721444</td>\n      <td>0.888911</td>\n      <td>0.570145</td>\n      <td>0.805925</td>\n      <td>0.667836</td>\n      <td>0.869231</td>\n    </tr>\n    <tr>\n      <th>back_end_.JavaScript</th>\n      <td>0.530870</td>\n      <td>0.653662</td>\n      <td>0.585902</td>\n      <td>0.851252</td>\n      <td>0.469779</td>\n      <td>0.593789</td>\n      <td>0.524554</td>\n      <td>0.829093</td>\n    </tr>\n    <tr>\n      <th>back_end_.NET</th>\n      <td>0.530708</td>\n      <td>0.754331</td>\n      <td>0.623062</td>\n      <td>0.897997</td>\n      <td>0.494138</td>\n      <td>0.708999</td>\n      <td>0.582383</td>\n      <td>0.880769</td>\n    </tr>\n    <tr>\n      <th>back_end_C++</th>\n      <td>0.598896</td>\n      <td>0.757110</td>\n      <td>0.668773</td>\n      <td>0.893305</td>\n      <td>0.537404</td>\n      <td>0.681311</td>\n      <td>0.600861</td>\n      <td>0.871992</td>\n    </tr>\n    <tr>\n      <th>back_end_python</th>\n      <td>0.593725</td>\n      <td>0.665832</td>\n      <td>0.627715</td>\n      <td>0.866817</td>\n      <td>0.548113</td>\n      <td>0.608260</td>\n      <td>0.576622</td>\n      <td>0.850690</td>\n    </tr>\n    <tr>\n      <th>back_end_PHP</th>\n      <td>0.551316</td>\n      <td>0.698272</td>\n      <td>0.616153</td>\n      <td>0.858774</td>\n      <td>0.506365</td>\n      <td>0.647378</td>\n      <td>0.568254</td>\n      <td>0.839053</td>\n    </tr>\n    <tr>\n      <th>Mean</th>\n      <td>0.615746</td>\n      <td>0.561205</td>\n      <td>0.566539</td>\n      <td>0.910610</td>\n      <td>0.548453</td>\n      <td>0.507204</td>\n      <td>0.506840</td>\n      <td>0.901169</td>\n    </tr>\n  </tbody>\n</table>\n</div>"
     },
     "execution_count": 7,
     "metadata": {},
     "output_type": "execute_result"
    }
   ],
   "source": [
    "XGB_classification_report.loc['Mean',:] = XGB_classification_report.mean()\n",
    "XGB_classification_report"
   ],
   "metadata": {
    "collapsed": false
   }
  },
  {
   "cell_type": "markdown",
   "source": [
    "# save logs"
   ],
   "metadata": {
    "collapsed": false
   }
  },
  {
   "cell_type": "code",
   "execution_count": 8,
   "outputs": [],
   "source": [
    "XGB_features = skills_dev_df.drop('DevType',axis=1, level=0).droplevel(level=0,axis=1).columns\n",
    "XGB_modeling_utils.save_results(all_classification_report=XGB_classification_report,\n",
    "                                     model_name='XGB_1.0.0',\n",
    "                                     data_path=LOAD_SKILLS_DEV, features=XGB_features)"
   ],
   "metadata": {
    "collapsed": false
   }
  },
  {
   "cell_type": "code",
   "execution_count": 9,
   "outputs": [
    {
     "data": {
      "text/plain": "                             run_id       experiment_id    status  \\\n0  2a572ea634b64d4e99ac358082c8906e  735982700926372623  FINISHED   \n1  b4928cc3e3bf4f21b8b9138310447d2c  735982700926372623  FINISHED   \n2  91321ce64e8646d7a8e28dac0a5d8deb  735982700926372623  FINISHED   \n\n                                        artifact_uri  \\\n0  file:///D:/protofolio_projects/Dev_skills_reco...   \n1  file:///D:/protofolio_projects/Dev_skills_reco...   \n2  file:///D:/protofolio_projects/Dev_skills_reco...   \n\n                        start_time                         end_time  \\\n0 2023-08-17 09:27:33.895000+00:00 2023-08-17 09:27:33.953000+00:00   \n1 2023-08-17 09:25:36.899000+00:00 2023-08-17 09:25:36.934000+00:00   \n2 2023-08-17 09:25:36.843000+00:00 2023-08-17 09:25:36.877000+00:00   \n\n   metrics.accuracy  metrics.precision  metrics.f1_score  metrics.recall  \\\n0          0.901169           0.548453          0.506840        0.507204   \n1          0.894298           0.522859          0.378904        0.324855   \n2          0.897505           0.531665          0.446315        0.404598   \n\n  tags.mlflow.source.type                           tags.mlflow.runName  \\\n0                   LOCAL                                     XGB_1.0.0   \n1                   LOCAL  Logistic-Regression_Clustered-Features_1.0.0   \n2                   LOCAL   Logistic-Regression_Original-Features_1.0.0   \n\n                             tags.mlflow.source.name tags.mlflow.user  \n0  C:\\Users\\mahmo\\anaconda3\\envs\\Rec-skills\\lib\\s...            mahmo  \n1  C:\\Users\\mahmo\\anaconda3\\envs\\Rec-skills\\lib\\s...            mahmo  \n2  C:\\Users\\mahmo\\anaconda3\\envs\\Rec-skills\\lib\\s...            mahmo  ",
      "text/html": "<div>\n<style scoped>\n    .dataframe tbody tr th:only-of-type {\n        vertical-align: middle;\n    }\n\n    .dataframe tbody tr th {\n        vertical-align: top;\n    }\n\n    .dataframe thead th {\n        text-align: right;\n    }\n</style>\n<table border=\"1\" class=\"dataframe\">\n  <thead>\n    <tr style=\"text-align: right;\">\n      <th></th>\n      <th>run_id</th>\n      <th>experiment_id</th>\n      <th>status</th>\n      <th>artifact_uri</th>\n      <th>start_time</th>\n      <th>end_time</th>\n      <th>metrics.accuracy</th>\n      <th>metrics.precision</th>\n      <th>metrics.f1_score</th>\n      <th>metrics.recall</th>\n      <th>tags.mlflow.source.type</th>\n      <th>tags.mlflow.runName</th>\n      <th>tags.mlflow.source.name</th>\n      <th>tags.mlflow.user</th>\n    </tr>\n  </thead>\n  <tbody>\n    <tr>\n      <th>0</th>\n      <td>2a572ea634b64d4e99ac358082c8906e</td>\n      <td>735982700926372623</td>\n      <td>FINISHED</td>\n      <td>file:///D:/protofolio_projects/Dev_skills_reco...</td>\n      <td>2023-08-17 09:27:33.895000+00:00</td>\n      <td>2023-08-17 09:27:33.953000+00:00</td>\n      <td>0.901169</td>\n      <td>0.548453</td>\n      <td>0.506840</td>\n      <td>0.507204</td>\n      <td>LOCAL</td>\n      <td>XGB_1.0.0</td>\n      <td>C:\\Users\\mahmo\\anaconda3\\envs\\Rec-skills\\lib\\s...</td>\n      <td>mahmo</td>\n    </tr>\n    <tr>\n      <th>1</th>\n      <td>b4928cc3e3bf4f21b8b9138310447d2c</td>\n      <td>735982700926372623</td>\n      <td>FINISHED</td>\n      <td>file:///D:/protofolio_projects/Dev_skills_reco...</td>\n      <td>2023-08-17 09:25:36.899000+00:00</td>\n      <td>2023-08-17 09:25:36.934000+00:00</td>\n      <td>0.894298</td>\n      <td>0.522859</td>\n      <td>0.378904</td>\n      <td>0.324855</td>\n      <td>LOCAL</td>\n      <td>Logistic-Regression_Clustered-Features_1.0.0</td>\n      <td>C:\\Users\\mahmo\\anaconda3\\envs\\Rec-skills\\lib\\s...</td>\n      <td>mahmo</td>\n    </tr>\n    <tr>\n      <th>2</th>\n      <td>91321ce64e8646d7a8e28dac0a5d8deb</td>\n      <td>735982700926372623</td>\n      <td>FINISHED</td>\n      <td>file:///D:/protofolio_projects/Dev_skills_reco...</td>\n      <td>2023-08-17 09:25:36.843000+00:00</td>\n      <td>2023-08-17 09:25:36.877000+00:00</td>\n      <td>0.897505</td>\n      <td>0.531665</td>\n      <td>0.446315</td>\n      <td>0.404598</td>\n      <td>LOCAL</td>\n      <td>Logistic-Regression_Original-Features_1.0.0</td>\n      <td>C:\\Users\\mahmo\\anaconda3\\envs\\Rec-skills\\lib\\s...</td>\n      <td>mahmo</td>\n    </tr>\n  </tbody>\n</table>\n</div>"
     },
     "execution_count": 9,
     "metadata": {},
     "output_type": "execute_result"
    }
   ],
   "source": [
    "MlflowUtils.get_runs()"
   ],
   "metadata": {
    "collapsed": false
   }
  },
  {
   "cell_type": "code",
   "execution_count": 9,
   "outputs": [],
   "source": [],
   "metadata": {
    "collapsed": false
   }
  },
  {
   "cell_type": "code",
   "execution_count": 9,
   "outputs": [],
   "source": [],
   "metadata": {
    "collapsed": false
   }
  }
 ],
 "metadata": {
  "kernelspec": {
   "name": "rec-skills",
   "language": "python",
   "display_name": "Rec-skills"
  },
  "language_info": {
   "codemirror_mode": {
    "name": "ipython",
    "version": 2
   },
   "file_extension": ".py",
   "mimetype": "text/x-python",
   "name": "python",
   "nbconvert_exporter": "python",
   "pygments_lexer": "ipython2",
   "version": "2.7.6"
  }
 },
 "nbformat": 4,
 "nbformat_minor": 0
}
