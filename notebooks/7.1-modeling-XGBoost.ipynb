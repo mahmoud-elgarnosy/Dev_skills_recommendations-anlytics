{
 "cells": [
  {
   "cell_type": "code",
   "execution_count": 1,
   "metadata": {
    "collapsed": true
   },
   "outputs": [],
   "source": [
    "import sys\n",
    "import os\n",
    "\n",
    "SCRIPT_DIR = os.path.dirname(os.path.abspath('src'))\n",
    "sys.path.append(os.path.dirname(SCRIPT_DIR))\n"
   ]
  },
  {
   "cell_type": "code",
   "execution_count": 2,
   "outputs": [],
   "source": [
    "import numpy as np\n",
    "import pandas as pd\n",
    "import xgboost as xgb\n",
    "\n",
    "from sklearn.model_selection import train_test_split, GridSearchCV\n",
    "from sklearn.pipeline import Pipeline\n",
    "from sklearn.preprocessing import StandardScaler\n",
    "from sklearn.decomposition import PCA\n",
    "from src.utils import MlflowUtils\n",
    "import sklearn.metrics as skm\n",
    "from sklearn.multioutput import MultiOutputClassifier\n",
    "from sklearn.model_selection import train_test_split\n",
    "from sklearn.pipeline import make_pipeline\n"
   ],
   "metadata": {
    "collapsed": false
   }
  },
  {
   "cell_type": "code",
   "execution_count": 2,
   "outputs": [],
   "source": [],
   "metadata": {
    "collapsed": false
   }
  },
  {
   "cell_type": "code",
   "execution_count": 3,
   "outputs": [],
   "source": [
    "LOAD_PATH = '../data/interim/'\n",
    "LOAD_SKILLS_DEV = '7.0-Chosen_features_and_roles.pkl'\n"
   ],
   "metadata": {
    "collapsed": false
   }
  },
  {
   "cell_type": "markdown",
   "source": [
    "# Load Data"
   ],
   "metadata": {
    "collapsed": false
   }
  },
  {
   "cell_type": "code",
   "execution_count": 4,
   "outputs": [],
   "source": [
    "skills_dev_df = pd.read_pickle(LOAD_PATH + LOAD_SKILLS_DEV)"
   ],
   "metadata": {
    "collapsed": false
   }
  },
  {
   "cell_type": "code",
   "execution_count": 5,
   "outputs": [
    {
     "data": {
      "text/plain": "      Languages                                                             \\\n            APL Assembly Bash/Shell    C    C#   C++ COBOL Clojure Crystal   \n2           0.0      0.0        0.0  0.0  0.75  0.75   0.0     0.0     0.0   \n3           0.0      0.0        0.0  0.0  1.50  0.00   0.0     0.0     0.0   \n7           0.5      0.0        0.5  1.0  0.00  1.00   0.0     0.0     0.0   \n9           0.0      0.0        0.0  0.0  0.00  0.00   0.0     0.0     0.0   \n10          0.0      0.0        1.0  0.0  1.50  0.00   0.0     0.0     0.0   \n...         ...      ...        ...  ...   ...   ...   ...     ...     ...   \n73262       0.0      0.5        0.0  0.5  0.00  0.75   0.0     0.0     0.0   \n73263       0.0      0.0        1.5  0.0  0.00  0.00   0.0     0.0     0.0   \n73264       0.0      0.0        1.0  0.0  0.00  0.00   0.0     0.0     0.0   \n73265       0.0      0.0        0.0  0.0  0.25  0.00   0.0     0.0     0.0   \n73266       0.0      0.0        0.0  0.0  1.00  0.00   0.0     0.0     0.0   \n\n            ...         DevType                                        \\\n      Dart  ... full_stack_Java full_stack_.JavaScript full_stack_PHP   \n2      0.0  ...               0                      0              0   \n3      0.0  ...               0                      0              0   \n7      0.0  ...               1                      1              1   \n9      0.0  ...               0                      0              0   \n10     0.0  ...               0                      0              0   \n...    ...  ...             ...                    ...            ...   \n73262  0.0  ...               0                      0              0   \n73263  1.0  ...               0                      0              0   \n73264  0.0  ...               0                      0              0   \n73265  0.0  ...               0                      0              1   \n73266  0.0  ...               0                      0              0   \n\n                                                                          \\\n      full_stack_python back_end_Java back_end_.JavaScript back_end_.NET   \n2                     0             0                    0             0   \n3                     0             0                    0             0   \n7                     0             0                    0             0   \n9                     0             0                    0             0   \n10                    0             0                    0             1   \n...                 ...           ...                  ...           ...   \n73262                 0             0                    0             0   \n73263                 0             0                    1             0   \n73264                 0             0                    0             0   \n73265                 1             0                    0             0   \n73266                 0             0                    0             0   \n\n                                                 \n      back_end_C++ back_end_python back_end_PHP  \n2                0               0            0  \n3                0               0            0  \n7                0               0            0  \n9                0               0            0  \n10               0               0            0  \n...            ...             ...          ...  \n73262            0               0            0  \n73263            1               1            1  \n73264            0               0            0  \n73265            0               0            0  \n73266            0               0            0  \n\n[50423 rows x 188 columns]",
      "text/html": "<div>\n<style scoped>\n    .dataframe tbody tr th:only-of-type {\n        vertical-align: middle;\n    }\n\n    .dataframe tbody tr th {\n        vertical-align: top;\n    }\n\n    .dataframe thead tr th {\n        text-align: left;\n    }\n</style>\n<table border=\"1\" class=\"dataframe\">\n  <thead>\n    <tr>\n      <th></th>\n      <th colspan=\"10\" halign=\"left\">Languages</th>\n      <th>...</th>\n      <th colspan=\"10\" halign=\"left\">DevType</th>\n    </tr>\n    <tr>\n      <th></th>\n      <th>APL</th>\n      <th>Assembly</th>\n      <th>Bash/Shell</th>\n      <th>C</th>\n      <th>C#</th>\n      <th>C++</th>\n      <th>COBOL</th>\n      <th>Clojure</th>\n      <th>Crystal</th>\n      <th>Dart</th>\n      <th>...</th>\n      <th>full_stack_Java</th>\n      <th>full_stack_.JavaScript</th>\n      <th>full_stack_PHP</th>\n      <th>full_stack_python</th>\n      <th>back_end_Java</th>\n      <th>back_end_.JavaScript</th>\n      <th>back_end_.NET</th>\n      <th>back_end_C++</th>\n      <th>back_end_python</th>\n      <th>back_end_PHP</th>\n    </tr>\n  </thead>\n  <tbody>\n    <tr>\n      <th>2</th>\n      <td>0.0</td>\n      <td>0.0</td>\n      <td>0.0</td>\n      <td>0.0</td>\n      <td>0.75</td>\n      <td>0.75</td>\n      <td>0.0</td>\n      <td>0.0</td>\n      <td>0.0</td>\n      <td>0.0</td>\n      <td>...</td>\n      <td>0</td>\n      <td>0</td>\n      <td>0</td>\n      <td>0</td>\n      <td>0</td>\n      <td>0</td>\n      <td>0</td>\n      <td>0</td>\n      <td>0</td>\n      <td>0</td>\n    </tr>\n    <tr>\n      <th>3</th>\n      <td>0.0</td>\n      <td>0.0</td>\n      <td>0.0</td>\n      <td>0.0</td>\n      <td>1.50</td>\n      <td>0.00</td>\n      <td>0.0</td>\n      <td>0.0</td>\n      <td>0.0</td>\n      <td>0.0</td>\n      <td>...</td>\n      <td>0</td>\n      <td>0</td>\n      <td>0</td>\n      <td>0</td>\n      <td>0</td>\n      <td>0</td>\n      <td>0</td>\n      <td>0</td>\n      <td>0</td>\n      <td>0</td>\n    </tr>\n    <tr>\n      <th>7</th>\n      <td>0.5</td>\n      <td>0.0</td>\n      <td>0.5</td>\n      <td>1.0</td>\n      <td>0.00</td>\n      <td>1.00</td>\n      <td>0.0</td>\n      <td>0.0</td>\n      <td>0.0</td>\n      <td>0.0</td>\n      <td>...</td>\n      <td>1</td>\n      <td>1</td>\n      <td>1</td>\n      <td>0</td>\n      <td>0</td>\n      <td>0</td>\n      <td>0</td>\n      <td>0</td>\n      <td>0</td>\n      <td>0</td>\n    </tr>\n    <tr>\n      <th>9</th>\n      <td>0.0</td>\n      <td>0.0</td>\n      <td>0.0</td>\n      <td>0.0</td>\n      <td>0.00</td>\n      <td>0.00</td>\n      <td>0.0</td>\n      <td>0.0</td>\n      <td>0.0</td>\n      <td>0.0</td>\n      <td>...</td>\n      <td>0</td>\n      <td>0</td>\n      <td>0</td>\n      <td>0</td>\n      <td>0</td>\n      <td>0</td>\n      <td>0</td>\n      <td>0</td>\n      <td>0</td>\n      <td>0</td>\n    </tr>\n    <tr>\n      <th>10</th>\n      <td>0.0</td>\n      <td>0.0</td>\n      <td>1.0</td>\n      <td>0.0</td>\n      <td>1.50</td>\n      <td>0.00</td>\n      <td>0.0</td>\n      <td>0.0</td>\n      <td>0.0</td>\n      <td>0.0</td>\n      <td>...</td>\n      <td>0</td>\n      <td>0</td>\n      <td>0</td>\n      <td>0</td>\n      <td>0</td>\n      <td>0</td>\n      <td>1</td>\n      <td>0</td>\n      <td>0</td>\n      <td>0</td>\n    </tr>\n    <tr>\n      <th>...</th>\n      <td>...</td>\n      <td>...</td>\n      <td>...</td>\n      <td>...</td>\n      <td>...</td>\n      <td>...</td>\n      <td>...</td>\n      <td>...</td>\n      <td>...</td>\n      <td>...</td>\n      <td>...</td>\n      <td>...</td>\n      <td>...</td>\n      <td>...</td>\n      <td>...</td>\n      <td>...</td>\n      <td>...</td>\n      <td>...</td>\n      <td>...</td>\n      <td>...</td>\n      <td>...</td>\n    </tr>\n    <tr>\n      <th>73262</th>\n      <td>0.0</td>\n      <td>0.5</td>\n      <td>0.0</td>\n      <td>0.5</td>\n      <td>0.00</td>\n      <td>0.75</td>\n      <td>0.0</td>\n      <td>0.0</td>\n      <td>0.0</td>\n      <td>0.0</td>\n      <td>...</td>\n      <td>0</td>\n      <td>0</td>\n      <td>0</td>\n      <td>0</td>\n      <td>0</td>\n      <td>0</td>\n      <td>0</td>\n      <td>0</td>\n      <td>0</td>\n      <td>0</td>\n    </tr>\n    <tr>\n      <th>73263</th>\n      <td>0.0</td>\n      <td>0.0</td>\n      <td>1.5</td>\n      <td>0.0</td>\n      <td>0.00</td>\n      <td>0.00</td>\n      <td>0.0</td>\n      <td>0.0</td>\n      <td>0.0</td>\n      <td>1.0</td>\n      <td>...</td>\n      <td>0</td>\n      <td>0</td>\n      <td>0</td>\n      <td>0</td>\n      <td>0</td>\n      <td>1</td>\n      <td>0</td>\n      <td>1</td>\n      <td>1</td>\n      <td>1</td>\n    </tr>\n    <tr>\n      <th>73264</th>\n      <td>0.0</td>\n      <td>0.0</td>\n      <td>1.0</td>\n      <td>0.0</td>\n      <td>0.00</td>\n      <td>0.00</td>\n      <td>0.0</td>\n      <td>0.0</td>\n      <td>0.0</td>\n      <td>0.0</td>\n      <td>...</td>\n      <td>0</td>\n      <td>0</td>\n      <td>0</td>\n      <td>0</td>\n      <td>0</td>\n      <td>0</td>\n      <td>0</td>\n      <td>0</td>\n      <td>0</td>\n      <td>0</td>\n    </tr>\n    <tr>\n      <th>73265</th>\n      <td>0.0</td>\n      <td>0.0</td>\n      <td>0.0</td>\n      <td>0.0</td>\n      <td>0.25</td>\n      <td>0.00</td>\n      <td>0.0</td>\n      <td>0.0</td>\n      <td>0.0</td>\n      <td>0.0</td>\n      <td>...</td>\n      <td>0</td>\n      <td>0</td>\n      <td>1</td>\n      <td>1</td>\n      <td>0</td>\n      <td>0</td>\n      <td>0</td>\n      <td>0</td>\n      <td>0</td>\n      <td>0</td>\n    </tr>\n    <tr>\n      <th>73266</th>\n      <td>0.0</td>\n      <td>0.0</td>\n      <td>0.0</td>\n      <td>0.0</td>\n      <td>1.00</td>\n      <td>0.00</td>\n      <td>0.0</td>\n      <td>0.0</td>\n      <td>0.0</td>\n      <td>0.0</td>\n      <td>...</td>\n      <td>0</td>\n      <td>0</td>\n      <td>0</td>\n      <td>0</td>\n      <td>0</td>\n      <td>0</td>\n      <td>0</td>\n      <td>0</td>\n      <td>0</td>\n      <td>0</td>\n    </tr>\n  </tbody>\n</table>\n<p>50423 rows × 188 columns</p>\n</div>"
     },
     "execution_count": 5,
     "metadata": {},
     "output_type": "execute_result"
    }
   ],
   "source": [
    "skills_dev_df"
   ],
   "metadata": {
    "collapsed": false
   }
  },
  {
   "cell_type": "code",
   "execution_count": 6,
   "outputs": [
    {
     "data": {
      "text/plain": "Academic researcher                               1692\nBlockchain                                         693\nCloud infrastructure engineer                     2620\nData or business analyst                          1517\nData scientist or machine learning specialist     2210\nDevOps specialist                                 3142\nDeveloper_back-end                               18692\nDeveloper_desktop or enterprise applications      5442\nDeveloper_embedded applications or devices        2073\nDeveloper_front-end                               9888\nDeveloper_full-stack                             20928\nDeveloper_game or graphics                         945\nDeveloper_mobile                                  4516\nEngineer_data                                     1982\nEngineer_site reliability                          817\nScientist                                         1002\nfull_stack_.NET                                   7816\nfull_stack_Java                                   8158\nfull_stack_.JavaScript                           11917\nfull_stack_PHP                                   11070\nfull_stack_python                                 6991\nback_end_Java                                     8415\nback_end_.JavaScript                              8095\nback_end_.NET                                     5691\nback_end_C++                                      7165\nback_end_python                                   8488\nback_end_PHP                                      8198\ndtype: int64"
     },
     "execution_count": 6,
     "metadata": {},
     "output_type": "execute_result"
    }
   ],
   "source": [
    "roles_df = skills_dev_df['DevType']\n",
    "roles_df.sum(axis=0)"
   ],
   "metadata": {
    "collapsed": false
   }
  },
  {
   "cell_type": "code",
   "execution_count": 7,
   "outputs": [
    {
     "data": {
      "text/plain": "                                         job_type   freq  class_weights\n0                             Academic researcher   1692       3.724783\n1                                      Blockchain    693       9.094276\n2                   Cloud infrastructure engineer   2620       2.405471\n3                        Data or business analyst   1517       4.154472\n4   Data scientist or machine learning specialist   2210       2.851735\n5                               DevOps specialist   3142       2.005835\n6                              Developer_back-end  18692       0.337167\n7    Developer_desktop or enterprise applications   5442       1.158091\n8      Developer_embedded applications or devices   2073       3.040199\n9                             Developer_front-end   9888       0.637372\n10                           Developer_full-stack  20928       0.301144\n11                     Developer_game or graphics    945       6.669136\n12                               Developer_mobile   4516       1.395557\n13                                  Engineer_data   1982       3.179785\n14                      Engineer_site reliability    817       7.713994\n15                                      Scientist   1002       6.289754\n16                                full_stack_.NET   7816       0.806337\n17                                full_stack_Java   8158       0.772534\n18                         full_stack_.JavaScript  11917       0.528852\n19                                 full_stack_PHP  11070       0.569316\n20                              full_stack_python   6991       0.901492\n21                                  back_end_Java   8415       0.748940\n22                           back_end_.JavaScript   8095       0.778546\n23                                  back_end_.NET   5691       1.107421\n24                                   back_end_C++   7165       0.879600\n25                                back_end_python   8488       0.742499\n26                                   back_end_PHP   8198       0.768765",
      "text/html": "<div>\n<style scoped>\n    .dataframe tbody tr th:only-of-type {\n        vertical-align: middle;\n    }\n\n    .dataframe tbody tr th {\n        vertical-align: top;\n    }\n\n    .dataframe thead th {\n        text-align: right;\n    }\n</style>\n<table border=\"1\" class=\"dataframe\">\n  <thead>\n    <tr style=\"text-align: right;\">\n      <th></th>\n      <th>job_type</th>\n      <th>freq</th>\n      <th>class_weights</th>\n    </tr>\n  </thead>\n  <tbody>\n    <tr>\n      <th>0</th>\n      <td>Academic researcher</td>\n      <td>1692</td>\n      <td>3.724783</td>\n    </tr>\n    <tr>\n      <th>1</th>\n      <td>Blockchain</td>\n      <td>693</td>\n      <td>9.094276</td>\n    </tr>\n    <tr>\n      <th>2</th>\n      <td>Cloud infrastructure engineer</td>\n      <td>2620</td>\n      <td>2.405471</td>\n    </tr>\n    <tr>\n      <th>3</th>\n      <td>Data or business analyst</td>\n      <td>1517</td>\n      <td>4.154472</td>\n    </tr>\n    <tr>\n      <th>4</th>\n      <td>Data scientist or machine learning specialist</td>\n      <td>2210</td>\n      <td>2.851735</td>\n    </tr>\n    <tr>\n      <th>5</th>\n      <td>DevOps specialist</td>\n      <td>3142</td>\n      <td>2.005835</td>\n    </tr>\n    <tr>\n      <th>6</th>\n      <td>Developer_back-end</td>\n      <td>18692</td>\n      <td>0.337167</td>\n    </tr>\n    <tr>\n      <th>7</th>\n      <td>Developer_desktop or enterprise applications</td>\n      <td>5442</td>\n      <td>1.158091</td>\n    </tr>\n    <tr>\n      <th>8</th>\n      <td>Developer_embedded applications or devices</td>\n      <td>2073</td>\n      <td>3.040199</td>\n    </tr>\n    <tr>\n      <th>9</th>\n      <td>Developer_front-end</td>\n      <td>9888</td>\n      <td>0.637372</td>\n    </tr>\n    <tr>\n      <th>10</th>\n      <td>Developer_full-stack</td>\n      <td>20928</td>\n      <td>0.301144</td>\n    </tr>\n    <tr>\n      <th>11</th>\n      <td>Developer_game or graphics</td>\n      <td>945</td>\n      <td>6.669136</td>\n    </tr>\n    <tr>\n      <th>12</th>\n      <td>Developer_mobile</td>\n      <td>4516</td>\n      <td>1.395557</td>\n    </tr>\n    <tr>\n      <th>13</th>\n      <td>Engineer_data</td>\n      <td>1982</td>\n      <td>3.179785</td>\n    </tr>\n    <tr>\n      <th>14</th>\n      <td>Engineer_site reliability</td>\n      <td>817</td>\n      <td>7.713994</td>\n    </tr>\n    <tr>\n      <th>15</th>\n      <td>Scientist</td>\n      <td>1002</td>\n      <td>6.289754</td>\n    </tr>\n    <tr>\n      <th>16</th>\n      <td>full_stack_.NET</td>\n      <td>7816</td>\n      <td>0.806337</td>\n    </tr>\n    <tr>\n      <th>17</th>\n      <td>full_stack_Java</td>\n      <td>8158</td>\n      <td>0.772534</td>\n    </tr>\n    <tr>\n      <th>18</th>\n      <td>full_stack_.JavaScript</td>\n      <td>11917</td>\n      <td>0.528852</td>\n    </tr>\n    <tr>\n      <th>19</th>\n      <td>full_stack_PHP</td>\n      <td>11070</td>\n      <td>0.569316</td>\n    </tr>\n    <tr>\n      <th>20</th>\n      <td>full_stack_python</td>\n      <td>6991</td>\n      <td>0.901492</td>\n    </tr>\n    <tr>\n      <th>21</th>\n      <td>back_end_Java</td>\n      <td>8415</td>\n      <td>0.748940</td>\n    </tr>\n    <tr>\n      <th>22</th>\n      <td>back_end_.JavaScript</td>\n      <td>8095</td>\n      <td>0.778546</td>\n    </tr>\n    <tr>\n      <th>23</th>\n      <td>back_end_.NET</td>\n      <td>5691</td>\n      <td>1.107421</td>\n    </tr>\n    <tr>\n      <th>24</th>\n      <td>back_end_C++</td>\n      <td>7165</td>\n      <td>0.879600</td>\n    </tr>\n    <tr>\n      <th>25</th>\n      <td>back_end_python</td>\n      <td>8488</td>\n      <td>0.742499</td>\n    </tr>\n    <tr>\n      <th>26</th>\n      <td>back_end_PHP</td>\n      <td>8198</td>\n      <td>0.768765</td>\n    </tr>\n  </tbody>\n</table>\n</div>"
     },
     "execution_count": 7,
     "metadata": {},
     "output_type": "execute_result"
    }
   ],
   "source": [
    "jobs_freq = skills_dev_df['DevType'].sum().reset_index()\n",
    "jobs_freq.columns = ['job_type', 'freq']\n",
    "jobs_freq.loc[:, 'class_weights'] = jobs_freq['freq'].sum() / (jobs_freq['job_type'].count() * jobs_freq['freq'])\n",
    "jobs_freq\n"
   ],
   "metadata": {
    "collapsed": false
   }
  },
  {
   "cell_type": "code",
   "execution_count": 8,
   "outputs": [
    {
     "data": {
      "text/plain": "2        14.382885\n3         1.107481\n7         2.171847\n9         2.553648\n10        2.552070\n           ...    \n73262     0.637372\n73263     3.506578\n73264     2.851735\n73265     3.736381\n73266     1.795463\nName: weights, Length: 50423, dtype: float64"
     },
     "execution_count": 8,
     "metadata": {},
     "output_type": "execute_result"
    }
   ],
   "source": [
    "sample_weights = (jobs_freq['class_weights'].values * skills_dev_df['DevType'].values).sum(axis=1)\n",
    "sample_weights = pd.Series(sample_weights, index=skills_dev_df.index, name='weights')\n",
    "sample_weights"
   ],
   "metadata": {
    "collapsed": false
   }
  },
  {
   "cell_type": "code",
   "execution_count": 9,
   "outputs": [],
   "source": [
    "X = skills_dev_df.drop('DevType', axis = 1, level=0).droplevel(axis = 1, level = 0)\n",
    "y = skills_dev_df['DevType']\n",
    "X_train, X_test, Y_train, Y_test= train_test_split(X, y, test_size=0.3, random_state=0)\n",
    "job_names = list(y.columns)"
   ],
   "metadata": {
    "collapsed": false
   }
  },
  {
   "cell_type": "code",
   "execution_count": 10,
   "outputs": [],
   "source": [
    "model = xgb.XGBClassifier(min_child_weight = 1.4, gamma = 2.5, alpha = 1, learning_rate = .3, max_depth = 6, n_estimators = 75)\n",
    "model_pipeline = Pipeline([\n",
    "    ('standard_scaler', StandardScaler()),\n",
    "    ('model', MultiOutputClassifier(model))\n",
    "])\n",
    "\n",
    "param_grid = {\n",
    "    'model__estimator__max_depth': [2, 3, 5, 7, 10],\n",
    "    'model__estimator__n_estimators': [50, 75, 100, 200, 500],\n",
    "}\n",
    "\n",
    "# grid = GridSearchCV(pipeline, param_grid, cv=5, n_jobs=-1, scoring='roc_auc', verbose=2)"
   ],
   "metadata": {
    "collapsed": false
   }
  },
  {
   "cell_type": "code",
   "execution_count": 11,
   "outputs": [
    {
     "data": {
      "text/plain": "Pipeline(steps=[('standard_scaler', StandardScaler()),\n                ('model',\n                 MultiOutputClassifier(estimator=XGBClassifier(alpha=1,\n                                                               base_score=None,\n                                                               booster=None,\n                                                               callbacks=None,\n                                                               colsample_bylevel=None,\n                                                               colsample_bynode=None,\n                                                               colsample_bytree=None,\n                                                               early_stopping_rounds=None,\n                                                               enable_categorical=False,\n                                                               eval_metric=None,\n                                                               feature_types=None,\n                                                               gamma=2.5,\n                                                               gpu_id=None,\n                                                               grow_policy=None,\n                                                               importance_type=None,\n                                                               interaction_constraints=None,\n                                                               learning_rate=0.3,\n                                                               max_bin=None,\n                                                               max_cat_threshold=None,\n                                                               max_cat_to_onehot=None,\n                                                               max_delta_step=None,\n                                                               max_depth=6,\n                                                               max_leaves=None,\n                                                               min_child_weight=1.4,\n                                                               missing=nan,\n                                                               monotone_constraints=None,\n                                                               n_estimators=75,\n                                                               n_jobs=None,\n                                                               num_parallel_tree=None,\n                                                               predictor=None, ...)))])",
      "text/html": "<style>#sk-container-id-1 {color: black;background-color: white;}#sk-container-id-1 pre{padding: 0;}#sk-container-id-1 div.sk-toggleable {background-color: white;}#sk-container-id-1 label.sk-toggleable__label {cursor: pointer;display: block;width: 100%;margin-bottom: 0;padding: 0.3em;box-sizing: border-box;text-align: center;}#sk-container-id-1 label.sk-toggleable__label-arrow:before {content: \"▸\";float: left;margin-right: 0.25em;color: #696969;}#sk-container-id-1 label.sk-toggleable__label-arrow:hover:before {color: black;}#sk-container-id-1 div.sk-estimator:hover label.sk-toggleable__label-arrow:before {color: black;}#sk-container-id-1 div.sk-toggleable__content {max-height: 0;max-width: 0;overflow: hidden;text-align: left;background-color: #f0f8ff;}#sk-container-id-1 div.sk-toggleable__content pre {margin: 0.2em;color: black;border-radius: 0.25em;background-color: #f0f8ff;}#sk-container-id-1 input.sk-toggleable__control:checked~div.sk-toggleable__content {max-height: 200px;max-width: 100%;overflow: auto;}#sk-container-id-1 input.sk-toggleable__control:checked~label.sk-toggleable__label-arrow:before {content: \"▾\";}#sk-container-id-1 div.sk-estimator input.sk-toggleable__control:checked~label.sk-toggleable__label {background-color: #d4ebff;}#sk-container-id-1 div.sk-label input.sk-toggleable__control:checked~label.sk-toggleable__label {background-color: #d4ebff;}#sk-container-id-1 input.sk-hidden--visually {border: 0;clip: rect(1px 1px 1px 1px);clip: rect(1px, 1px, 1px, 1px);height: 1px;margin: -1px;overflow: hidden;padding: 0;position: absolute;width: 1px;}#sk-container-id-1 div.sk-estimator {font-family: monospace;background-color: #f0f8ff;border: 1px dotted black;border-radius: 0.25em;box-sizing: border-box;margin-bottom: 0.5em;}#sk-container-id-1 div.sk-estimator:hover {background-color: #d4ebff;}#sk-container-id-1 div.sk-parallel-item::after {content: \"\";width: 100%;border-bottom: 1px solid gray;flex-grow: 1;}#sk-container-id-1 div.sk-label:hover label.sk-toggleable__label {background-color: #d4ebff;}#sk-container-id-1 div.sk-serial::before {content: \"\";position: absolute;border-left: 1px solid gray;box-sizing: border-box;top: 0;bottom: 0;left: 50%;z-index: 0;}#sk-container-id-1 div.sk-serial {display: flex;flex-direction: column;align-items: center;background-color: white;padding-right: 0.2em;padding-left: 0.2em;position: relative;}#sk-container-id-1 div.sk-item {position: relative;z-index: 1;}#sk-container-id-1 div.sk-parallel {display: flex;align-items: stretch;justify-content: center;background-color: white;position: relative;}#sk-container-id-1 div.sk-item::before, #sk-container-id-1 div.sk-parallel-item::before {content: \"\";position: absolute;border-left: 1px solid gray;box-sizing: border-box;top: 0;bottom: 0;left: 50%;z-index: -1;}#sk-container-id-1 div.sk-parallel-item {display: flex;flex-direction: column;z-index: 1;position: relative;background-color: white;}#sk-container-id-1 div.sk-parallel-item:first-child::after {align-self: flex-end;width: 50%;}#sk-container-id-1 div.sk-parallel-item:last-child::after {align-self: flex-start;width: 50%;}#sk-container-id-1 div.sk-parallel-item:only-child::after {width: 0;}#sk-container-id-1 div.sk-dashed-wrapped {border: 1px dashed gray;margin: 0 0.4em 0.5em 0.4em;box-sizing: border-box;padding-bottom: 0.4em;background-color: white;}#sk-container-id-1 div.sk-label label {font-family: monospace;font-weight: bold;display: inline-block;line-height: 1.2em;}#sk-container-id-1 div.sk-label-container {text-align: center;}#sk-container-id-1 div.sk-container {/* jupyter's `normalize.less` sets `[hidden] { display: none; }` but bootstrap.min.css set `[hidden] { display: none !important; }` so we also need the `!important` here to be able to override the default hidden behavior on the sphinx rendered scikit-learn.org. See: https://github.com/scikit-learn/scikit-learn/issues/21755 */display: inline-block !important;position: relative;}#sk-container-id-1 div.sk-text-repr-fallback {display: none;}</style><div id=\"sk-container-id-1\" class=\"sk-top-container\"><div class=\"sk-text-repr-fallback\"><pre>Pipeline(steps=[(&#x27;standard_scaler&#x27;, StandardScaler()),\n                (&#x27;model&#x27;,\n                 MultiOutputClassifier(estimator=XGBClassifier(alpha=1,\n                                                               base_score=None,\n                                                               booster=None,\n                                                               callbacks=None,\n                                                               colsample_bylevel=None,\n                                                               colsample_bynode=None,\n                                                               colsample_bytree=None,\n                                                               early_stopping_rounds=None,\n                                                               enable_categorical=False,\n                                                               eval_metric=None,\n                                                               feature_types=None,\n                                                               gamma=2.5,\n                                                               gpu_id=None,\n                                                               grow_policy=None,\n                                                               importance_type=None,\n                                                               interaction_constraints=None,\n                                                               learning_rate=0.3,\n                                                               max_bin=None,\n                                                               max_cat_threshold=None,\n                                                               max_cat_to_onehot=None,\n                                                               max_delta_step=None,\n                                                               max_depth=6,\n                                                               max_leaves=None,\n                                                               min_child_weight=1.4,\n                                                               missing=nan,\n                                                               monotone_constraints=None,\n                                                               n_estimators=75,\n                                                               n_jobs=None,\n                                                               num_parallel_tree=None,\n                                                               predictor=None, ...)))])</pre><b>In a Jupyter environment, please rerun this cell to show the HTML representation or trust the notebook. <br />On GitHub, the HTML representation is unable to render, please try loading this page with nbviewer.org.</b></div><div class=\"sk-container\" hidden><div class=\"sk-item sk-dashed-wrapped\"><div class=\"sk-label-container\"><div class=\"sk-label sk-toggleable\"><input class=\"sk-toggleable__control sk-hidden--visually\" id=\"sk-estimator-id-1\" type=\"checkbox\" ><label for=\"sk-estimator-id-1\" class=\"sk-toggleable__label sk-toggleable__label-arrow\">Pipeline</label><div class=\"sk-toggleable__content\"><pre>Pipeline(steps=[(&#x27;standard_scaler&#x27;, StandardScaler()),\n                (&#x27;model&#x27;,\n                 MultiOutputClassifier(estimator=XGBClassifier(alpha=1,\n                                                               base_score=None,\n                                                               booster=None,\n                                                               callbacks=None,\n                                                               colsample_bylevel=None,\n                                                               colsample_bynode=None,\n                                                               colsample_bytree=None,\n                                                               early_stopping_rounds=None,\n                                                               enable_categorical=False,\n                                                               eval_metric=None,\n                                                               feature_types=None,\n                                                               gamma=2.5,\n                                                               gpu_id=None,\n                                                               grow_policy=None,\n                                                               importance_type=None,\n                                                               interaction_constraints=None,\n                                                               learning_rate=0.3,\n                                                               max_bin=None,\n                                                               max_cat_threshold=None,\n                                                               max_cat_to_onehot=None,\n                                                               max_delta_step=None,\n                                                               max_depth=6,\n                                                               max_leaves=None,\n                                                               min_child_weight=1.4,\n                                                               missing=nan,\n                                                               monotone_constraints=None,\n                                                               n_estimators=75,\n                                                               n_jobs=None,\n                                                               num_parallel_tree=None,\n                                                               predictor=None, ...)))])</pre></div></div></div><div class=\"sk-serial\"><div class=\"sk-item\"><div class=\"sk-estimator sk-toggleable\"><input class=\"sk-toggleable__control sk-hidden--visually\" id=\"sk-estimator-id-2\" type=\"checkbox\" ><label for=\"sk-estimator-id-2\" class=\"sk-toggleable__label sk-toggleable__label-arrow\">StandardScaler</label><div class=\"sk-toggleable__content\"><pre>StandardScaler()</pre></div></div></div><div class=\"sk-item sk-dashed-wrapped\"><div class=\"sk-label-container\"><div class=\"sk-label sk-toggleable\"><input class=\"sk-toggleable__control sk-hidden--visually\" id=\"sk-estimator-id-3\" type=\"checkbox\" ><label for=\"sk-estimator-id-3\" class=\"sk-toggleable__label sk-toggleable__label-arrow\">model: MultiOutputClassifier</label><div class=\"sk-toggleable__content\"><pre>MultiOutputClassifier(estimator=XGBClassifier(alpha=1, base_score=None,\n                                              booster=None, callbacks=None,\n                                              colsample_bylevel=None,\n                                              colsample_bynode=None,\n                                              colsample_bytree=None,\n                                              early_stopping_rounds=None,\n                                              enable_categorical=False,\n                                              eval_metric=None,\n                                              feature_types=None, gamma=2.5,\n                                              gpu_id=None, grow_policy=None,\n                                              importance_type=None,\n                                              interaction_constraints=None,\n                                              learning_rate=0.3, max_bin=None,\n                                              max_cat_threshold=None,\n                                              max_cat_to_onehot=None,\n                                              max_delta_step=None, max_depth=6,\n                                              max_leaves=None,\n                                              min_child_weight=1.4, missing=nan,\n                                              monotone_constraints=None,\n                                              n_estimators=75, n_jobs=None,\n                                              num_parallel_tree=None,\n                                              predictor=None, ...))</pre></div></div></div><div class=\"sk-parallel\"><div class=\"sk-parallel-item\"><div class=\"sk-item\"><div class=\"sk-label-container\"><div class=\"sk-label sk-toggleable\"><input class=\"sk-toggleable__control sk-hidden--visually\" id=\"sk-estimator-id-4\" type=\"checkbox\" ><label for=\"sk-estimator-id-4\" class=\"sk-toggleable__label sk-toggleable__label-arrow\">estimator: XGBClassifier</label><div class=\"sk-toggleable__content\"><pre>XGBClassifier(alpha=1, base_score=None, booster=None, callbacks=None,\n              colsample_bylevel=None, colsample_bynode=None,\n              colsample_bytree=None, early_stopping_rounds=None,\n              enable_categorical=False, eval_metric=None, feature_types=None,\n              gamma=2.5, gpu_id=None, grow_policy=None, importance_type=None,\n              interaction_constraints=None, learning_rate=0.3, max_bin=None,\n              max_cat_threshold=None, max_cat_to_onehot=None,\n              max_delta_step=None, max_depth=6, max_leaves=None,\n              min_child_weight=1.4, missing=nan, monotone_constraints=None,\n              n_estimators=75, n_jobs=None, num_parallel_tree=None,\n              predictor=None, ...)</pre></div></div></div><div class=\"sk-serial\"><div class=\"sk-item\"><div class=\"sk-estimator sk-toggleable\"><input class=\"sk-toggleable__control sk-hidden--visually\" id=\"sk-estimator-id-5\" type=\"checkbox\" ><label for=\"sk-estimator-id-5\" class=\"sk-toggleable__label sk-toggleable__label-arrow\">XGBClassifier</label><div class=\"sk-toggleable__content\"><pre>XGBClassifier(alpha=1, base_score=None, booster=None, callbacks=None,\n              colsample_bylevel=None, colsample_bynode=None,\n              colsample_bytree=None, early_stopping_rounds=None,\n              enable_categorical=False, eval_metric=None, feature_types=None,\n              gamma=2.5, gpu_id=None, grow_policy=None, importance_type=None,\n              interaction_constraints=None, learning_rate=0.3, max_bin=None,\n              max_cat_threshold=None, max_cat_to_onehot=None,\n              max_delta_step=None, max_depth=6, max_leaves=None,\n              min_child_weight=1.4, missing=nan, monotone_constraints=None,\n              n_estimators=75, n_jobs=None, num_parallel_tree=None,\n              predictor=None, ...)</pre></div></div></div></div></div></div></div></div></div></div></div></div>"
     },
     "execution_count": 11,
     "metadata": {},
     "output_type": "execute_result"
    }
   ],
   "source": [
    "model_pipeline.fit(X_train, Y_train, model__sample_weight=sample_weights[Y_train.index])"
   ],
   "metadata": {
    "collapsed": false
   }
  },
  {
   "cell_type": "code",
   "execution_count": 12,
   "outputs": [],
   "source": [
    "def confusion_matrix_scores(confusion_matrix):\n",
    "    # tp / tp + fn\n",
    "    recall = confusion_matrix[1,1] / (confusion_matrix[1,1] + confusion_matrix[1,0])\n",
    "    accuracy = (confusion_matrix[1,1] + confusion_matrix[0,0])/ confusion_matrix.sum().sum()\n",
    "\n",
    "    if not (confusion_matrix[1, 1] + confusion_matrix[0, 1]):\n",
    "        precision = 0.0\n",
    "    else:\n",
    "        precision =  confusion_matrix[1,1] / (confusion_matrix[1,1] + confusion_matrix[0,1])\n",
    "\n",
    "    if recall and precision:\n",
    "        f1 = 2 * (precision * recall) / (precision + recall)\n",
    "    else:\n",
    "        f1 = 0.0\n",
    "\n",
    "    return {'precision' : precision, 'recall' : recall, 'f1_score' : f1 , 'accuracy' : accuracy}"
   ],
   "metadata": {
    "collapsed": false
   }
  },
  {
   "cell_type": "code",
   "execution_count": 13,
   "outputs": [],
   "source": [
    "def train_evaluate_model_features():\n",
    "    all_classification_report = []\n",
    "\n",
    "    new_pipeline = make_pipeline(StandardScaler(), MultiOutputClassifier(xgb.XGBClassifier(min_child_weight = 1.4, gamma = 2.5, alpha = 1, learning_rate = .1, max_depth = 3, n_estimators = 200)))\n",
    "    new_pipeline.fit(X_train, Y_train, multioutputclassifier__sample_weight=sample_weights[Y_train.index])\n",
    "    for j, evaluate_type in enumerate(['train', 'test']):\n",
    "        classification_report = {}\n",
    "        f1_scores = []\n",
    "        y = Y_train if evaluate_type == 'train' else Y_test\n",
    "        x = X_train if evaluate_type == 'train' else X_test\n",
    "        multilabel_confusion_matricies = skm.multilabel_confusion_matrix(y, new_pipeline.predict(x))\n",
    "        # print(multilabel_confusion_matricies)\n",
    "        for n, cm in enumerate(multilabel_confusion_matricies):\n",
    "            results = confusion_matrix_scores(cm)\n",
    "            classification_report[job_names[n]] = results\n",
    "            f1_scores.append(results['f1_score'])\n",
    "\n",
    "        print(evaluate_type + '_f1-score: ', np.array(f1_scores).mean())\n",
    "        classification_report = pd.DataFrame(classification_report).T\n",
    "\n",
    "        classification_report.columns = pd.MultiIndex.from_product([[evaluate_type], classification_report.columns])\n",
    "        if isinstance(all_classification_report, pd.DataFrame):\n",
    "            all_classification_report = all_classification_report.merge(classification_report, left_index=True, right_index=True)\n",
    "        else:\n",
    "            all_classification_report = classification_report.copy()\n",
    "\n",
    "\n",
    "    return new_pipeline, all_classification_report"
   ],
   "metadata": {
    "collapsed": false
   }
  },
  {
   "cell_type": "code",
   "execution_count": 14,
   "outputs": [
    {
     "name": "stdout",
     "output_type": "stream",
     "text": [
      "train_f1-score:  0.5708741601963788\n",
      "test_f1-score:  0.5104158573195702\n"
     ]
    }
   ],
   "source": [
    "pipline_XGBoost_model, classification_report = train_evaluate_model_features()\n"
   ],
   "metadata": {
    "collapsed": false
   }
  },
  {
   "cell_type": "code",
   "execution_count": 15,
   "outputs": [
    {
     "data": {
      "text/plain": "                                                  train                      \\\n                                              precision    recall  f1_score   \nAcademic researcher                            0.603316  0.399493  0.480691   \nBlockchain                                     0.570978  0.390086  0.463508   \nCloud infrastructure engineer                  0.549156  0.305019  0.392199   \nData or business analyst                       0.567742  0.250712  0.347826   \nData scientist or machine learning specialist  0.691556  0.626027  0.657162   \nDevOps specialist                              0.612420  0.259293  0.364331   \nDeveloper_back-end                             0.575781  0.756139  0.653748   \nDeveloper_desktop or enterprise applications   0.667671  0.233465  0.345959   \nDeveloper_embedded applications or devices     0.672154  0.343619  0.454756   \nDeveloper_front-end                            0.637999  0.444284  0.523805   \nDeveloper_full-stack                           0.670568  0.801597  0.730251   \nDeveloper_game or graphics                     0.551537  0.461422  0.502471   \nDeveloper_mobile                               0.759489  0.636937  0.692835   \nEngineer_data                                  0.649396  0.260930  0.372277   \nEngineer_site reliability                      0.495575  0.297872  0.372093   \nScientist                                      0.541237  0.437500  0.483871   \nfull_stack_.NET                                0.736995  0.792263  0.763630   \nfull_stack_Java                                0.700809  0.809700  0.751330   \nfull_stack_.JavaScript                         0.686194  0.826291  0.749754   \nfull_stack_PHP                                 0.700974  0.809598  0.751381   \nfull_stack_python                              0.700412  0.701422  0.700916   \nback_end_Java                                  0.624359  0.865798  0.725519   \nback_end_.JavaScript                           0.528458  0.656996  0.585758   \nback_end_.NET                                  0.531666  0.764144  0.627050   \nback_end_C++                                   0.593269  0.765573  0.668497   \nback_end_python                                0.592503  0.686050  0.635854   \nback_end_PHP                                   0.556745  0.689691  0.616128   \nMean                                           0.621072  0.565627  0.570874   \n\n                                                             test            \\\n                                               accuracy precision    recall   \nAcademic researcher                            0.971045  0.542763  0.324803   \nBlockchain                                     0.988129  0.427481  0.244541   \nCloud infrastructure engineer                  0.951439  0.418953  0.208178   \nData or business analyst                       0.971951  0.465969  0.191810   \nData scientist or machine learning specialist  0.970705  0.581940  0.555024   \nDevOps specialist                              0.943450  0.539846  0.224359   \nDeveloper_back-end                             0.703337  0.562458  0.744439   \nDeveloper_desktop or enterprise applications   0.905088  0.608187  0.189435   \nDeveloper_embedded applications or devices     0.966710  0.616162  0.282844   \nDeveloper_front-end                            0.841030  0.578765  0.398368   \nDeveloper_full-stack                           0.754165  0.661297  0.791428   \nDeveloper_game or graphics                     0.982888  0.378261  0.306338   \nDeveloper_mobile                               0.949229  0.744374  0.615786   \nEngineer_data                                  0.964075  0.452282  0.201479   \nEngineer_site reliability                      0.983936  0.343511  0.177866   \nScientist                                      0.980961  0.437788  0.336879   \nfull_stack_.NET                                0.924212  0.719012  0.763760   \nfull_stack_Java                                0.913900  0.682746  0.779341   \nfull_stack_.JavaScript                         0.870184  0.674925  0.814958   \nfull_stack_PHP                                 0.882650  0.693188  0.780174   \nfull_stack_python                              0.917696  0.686332  0.652947   \nback_end_Java                                  0.890328  0.580791  0.820431   \nback_end_.JavaScript                           0.851173  0.484396  0.597461   \nback_end_.NET                                  0.897580  0.502257  0.714119   \nback_end_C++                                   0.890526  0.547292  0.730250   \nback_end_python                                0.865622  0.535404  0.653752   \nback_end_PHP                                   0.860409  0.526316  0.653144   \nMean                                           0.910830  0.555285  0.509404   \n\n                                                                   \n                                               f1_score  accuracy  \nAcademic researcher                            0.406404  0.968136  \nBlockchain                                     0.311111  0.983605  \nCloud infrastructure engineer                  0.278146  0.942355  \nData or business analyst                       0.271756  0.968467  \nData scientist or machine learning specialist  0.568163  0.965029  \nDevOps specialist                              0.316981  0.940173  \nDeveloper_back-end                             0.640778  0.689958  \nDeveloper_desktop or enterprise applications   0.288889  0.898460  \nDeveloper_embedded applications or devices     0.387712  0.961790  \nDeveloper_front-end                            0.471915  0.826601  \nDeveloper_full-stack                           0.720534  0.745290  \nDeveloper_game or graphics                     0.338521  0.977524  \nDeveloper_mobile                               0.674002  0.947114  \nEngineer_data                                  0.278772  0.962716  \nEngineer_site reliability                      0.234375  0.980565  \nScientist                                      0.380762  0.979573  \nfull_stack_.NET                                0.740710  0.916507  \nfull_stack_Java                                0.727853  0.904145  \nfull_stack_.JavaScript                         0.738361  0.862167  \nfull_stack_PHP                                 0.734113  0.875256  \nfull_stack_python                              0.669223  0.908772  \nback_end_Java                                  0.680119  0.872149  \nback_end_.JavaScript                           0.535020  0.832353  \nback_end_.NET                                  0.589737  0.887420  \nback_end_C++                                   0.625671  0.880082  \nback_end_python                                0.588689  0.851920  \nback_end_PHP                                   0.582911  0.847690  \nMean                                           0.510416  0.902808  ",
      "text/html": "<div>\n<style scoped>\n    .dataframe tbody tr th:only-of-type {\n        vertical-align: middle;\n    }\n\n    .dataframe tbody tr th {\n        vertical-align: top;\n    }\n\n    .dataframe thead tr th {\n        text-align: left;\n    }\n</style>\n<table border=\"1\" class=\"dataframe\">\n  <thead>\n    <tr>\n      <th></th>\n      <th colspan=\"4\" halign=\"left\">train</th>\n      <th colspan=\"4\" halign=\"left\">test</th>\n    </tr>\n    <tr>\n      <th></th>\n      <th>precision</th>\n      <th>recall</th>\n      <th>f1_score</th>\n      <th>accuracy</th>\n      <th>precision</th>\n      <th>recall</th>\n      <th>f1_score</th>\n      <th>accuracy</th>\n    </tr>\n  </thead>\n  <tbody>\n    <tr>\n      <th>Academic researcher</th>\n      <td>0.603316</td>\n      <td>0.399493</td>\n      <td>0.480691</td>\n      <td>0.971045</td>\n      <td>0.542763</td>\n      <td>0.324803</td>\n      <td>0.406404</td>\n      <td>0.968136</td>\n    </tr>\n    <tr>\n      <th>Blockchain</th>\n      <td>0.570978</td>\n      <td>0.390086</td>\n      <td>0.463508</td>\n      <td>0.988129</td>\n      <td>0.427481</td>\n      <td>0.244541</td>\n      <td>0.311111</td>\n      <td>0.983605</td>\n    </tr>\n    <tr>\n      <th>Cloud infrastructure engineer</th>\n      <td>0.549156</td>\n      <td>0.305019</td>\n      <td>0.392199</td>\n      <td>0.951439</td>\n      <td>0.418953</td>\n      <td>0.208178</td>\n      <td>0.278146</td>\n      <td>0.942355</td>\n    </tr>\n    <tr>\n      <th>Data or business analyst</th>\n      <td>0.567742</td>\n      <td>0.250712</td>\n      <td>0.347826</td>\n      <td>0.971951</td>\n      <td>0.465969</td>\n      <td>0.191810</td>\n      <td>0.271756</td>\n      <td>0.968467</td>\n    </tr>\n    <tr>\n      <th>Data scientist or machine learning specialist</th>\n      <td>0.691556</td>\n      <td>0.626027</td>\n      <td>0.657162</td>\n      <td>0.970705</td>\n      <td>0.581940</td>\n      <td>0.555024</td>\n      <td>0.568163</td>\n      <td>0.965029</td>\n    </tr>\n    <tr>\n      <th>DevOps specialist</th>\n      <td>0.612420</td>\n      <td>0.259293</td>\n      <td>0.364331</td>\n      <td>0.943450</td>\n      <td>0.539846</td>\n      <td>0.224359</td>\n      <td>0.316981</td>\n      <td>0.940173</td>\n    </tr>\n    <tr>\n      <th>Developer_back-end</th>\n      <td>0.575781</td>\n      <td>0.756139</td>\n      <td>0.653748</td>\n      <td>0.703337</td>\n      <td>0.562458</td>\n      <td>0.744439</td>\n      <td>0.640778</td>\n      <td>0.689958</td>\n    </tr>\n    <tr>\n      <th>Developer_desktop or enterprise applications</th>\n      <td>0.667671</td>\n      <td>0.233465</td>\n      <td>0.345959</td>\n      <td>0.905088</td>\n      <td>0.608187</td>\n      <td>0.189435</td>\n      <td>0.288889</td>\n      <td>0.898460</td>\n    </tr>\n    <tr>\n      <th>Developer_embedded applications or devices</th>\n      <td>0.672154</td>\n      <td>0.343619</td>\n      <td>0.454756</td>\n      <td>0.966710</td>\n      <td>0.616162</td>\n      <td>0.282844</td>\n      <td>0.387712</td>\n      <td>0.961790</td>\n    </tr>\n    <tr>\n      <th>Developer_front-end</th>\n      <td>0.637999</td>\n      <td>0.444284</td>\n      <td>0.523805</td>\n      <td>0.841030</td>\n      <td>0.578765</td>\n      <td>0.398368</td>\n      <td>0.471915</td>\n      <td>0.826601</td>\n    </tr>\n    <tr>\n      <th>Developer_full-stack</th>\n      <td>0.670568</td>\n      <td>0.801597</td>\n      <td>0.730251</td>\n      <td>0.754165</td>\n      <td>0.661297</td>\n      <td>0.791428</td>\n      <td>0.720534</td>\n      <td>0.745290</td>\n    </tr>\n    <tr>\n      <th>Developer_game or graphics</th>\n      <td>0.551537</td>\n      <td>0.461422</td>\n      <td>0.502471</td>\n      <td>0.982888</td>\n      <td>0.378261</td>\n      <td>0.306338</td>\n      <td>0.338521</td>\n      <td>0.977524</td>\n    </tr>\n    <tr>\n      <th>Developer_mobile</th>\n      <td>0.759489</td>\n      <td>0.636937</td>\n      <td>0.692835</td>\n      <td>0.949229</td>\n      <td>0.744374</td>\n      <td>0.615786</td>\n      <td>0.674002</td>\n      <td>0.947114</td>\n    </tr>\n    <tr>\n      <th>Engineer_data</th>\n      <td>0.649396</td>\n      <td>0.260930</td>\n      <td>0.372277</td>\n      <td>0.964075</td>\n      <td>0.452282</td>\n      <td>0.201479</td>\n      <td>0.278772</td>\n      <td>0.962716</td>\n    </tr>\n    <tr>\n      <th>Engineer_site reliability</th>\n      <td>0.495575</td>\n      <td>0.297872</td>\n      <td>0.372093</td>\n      <td>0.983936</td>\n      <td>0.343511</td>\n      <td>0.177866</td>\n      <td>0.234375</td>\n      <td>0.980565</td>\n    </tr>\n    <tr>\n      <th>Scientist</th>\n      <td>0.541237</td>\n      <td>0.437500</td>\n      <td>0.483871</td>\n      <td>0.980961</td>\n      <td>0.437788</td>\n      <td>0.336879</td>\n      <td>0.380762</td>\n      <td>0.979573</td>\n    </tr>\n    <tr>\n      <th>full_stack_.NET</th>\n      <td>0.736995</td>\n      <td>0.792263</td>\n      <td>0.763630</td>\n      <td>0.924212</td>\n      <td>0.719012</td>\n      <td>0.763760</td>\n      <td>0.740710</td>\n      <td>0.916507</td>\n    </tr>\n    <tr>\n      <th>full_stack_Java</th>\n      <td>0.700809</td>\n      <td>0.809700</td>\n      <td>0.751330</td>\n      <td>0.913900</td>\n      <td>0.682746</td>\n      <td>0.779341</td>\n      <td>0.727853</td>\n      <td>0.904145</td>\n    </tr>\n    <tr>\n      <th>full_stack_.JavaScript</th>\n      <td>0.686194</td>\n      <td>0.826291</td>\n      <td>0.749754</td>\n      <td>0.870184</td>\n      <td>0.674925</td>\n      <td>0.814958</td>\n      <td>0.738361</td>\n      <td>0.862167</td>\n    </tr>\n    <tr>\n      <th>full_stack_PHP</th>\n      <td>0.700974</td>\n      <td>0.809598</td>\n      <td>0.751381</td>\n      <td>0.882650</td>\n      <td>0.693188</td>\n      <td>0.780174</td>\n      <td>0.734113</td>\n      <td>0.875256</td>\n    </tr>\n    <tr>\n      <th>full_stack_python</th>\n      <td>0.700412</td>\n      <td>0.701422</td>\n      <td>0.700916</td>\n      <td>0.917696</td>\n      <td>0.686332</td>\n      <td>0.652947</td>\n      <td>0.669223</td>\n      <td>0.908772</td>\n    </tr>\n    <tr>\n      <th>back_end_Java</th>\n      <td>0.624359</td>\n      <td>0.865798</td>\n      <td>0.725519</td>\n      <td>0.890328</td>\n      <td>0.580791</td>\n      <td>0.820431</td>\n      <td>0.680119</td>\n      <td>0.872149</td>\n    </tr>\n    <tr>\n      <th>back_end_.JavaScript</th>\n      <td>0.528458</td>\n      <td>0.656996</td>\n      <td>0.585758</td>\n      <td>0.851173</td>\n      <td>0.484396</td>\n      <td>0.597461</td>\n      <td>0.535020</td>\n      <td>0.832353</td>\n    </tr>\n    <tr>\n      <th>back_end_.NET</th>\n      <td>0.531666</td>\n      <td>0.764144</td>\n      <td>0.627050</td>\n      <td>0.897580</td>\n      <td>0.502257</td>\n      <td>0.714119</td>\n      <td>0.589737</td>\n      <td>0.887420</td>\n    </tr>\n    <tr>\n      <th>back_end_C++</th>\n      <td>0.593269</td>\n      <td>0.765573</td>\n      <td>0.668497</td>\n      <td>0.890526</td>\n      <td>0.547292</td>\n      <td>0.730250</td>\n      <td>0.625671</td>\n      <td>0.880082</td>\n    </tr>\n    <tr>\n      <th>back_end_python</th>\n      <td>0.592503</td>\n      <td>0.686050</td>\n      <td>0.635854</td>\n      <td>0.865622</td>\n      <td>0.535404</td>\n      <td>0.653752</td>\n      <td>0.588689</td>\n      <td>0.851920</td>\n    </tr>\n    <tr>\n      <th>back_end_PHP</th>\n      <td>0.556745</td>\n      <td>0.689691</td>\n      <td>0.616128</td>\n      <td>0.860409</td>\n      <td>0.526316</td>\n      <td>0.653144</td>\n      <td>0.582911</td>\n      <td>0.847690</td>\n    </tr>\n    <tr>\n      <th>Mean</th>\n      <td>0.621072</td>\n      <td>0.565627</td>\n      <td>0.570874</td>\n      <td>0.910830</td>\n      <td>0.555285</td>\n      <td>0.509404</td>\n      <td>0.510416</td>\n      <td>0.902808</td>\n    </tr>\n  </tbody>\n</table>\n</div>"
     },
     "execution_count": 15,
     "metadata": {},
     "output_type": "execute_result"
    }
   ],
   "source": [
    "classification_report.loc['Mean',:] = classification_report.mean()\n",
    "classification_report"
   ],
   "metadata": {
    "collapsed": false
   }
  },
  {
   "cell_type": "markdown",
   "source": [
    "# save logs"
   ],
   "metadata": {
    "collapsed": false
   }
  },
  {
   "cell_type": "code",
   "execution_count": 16,
   "outputs": [],
   "source": [
    "mlflow_utils_original_features = MlflowUtils(artifact_temp='../models/temp/basic_XGBoost_model')\n",
    "mlflow_utils_original_features.save_data(path=LOAD_SKILLS_DEV,\n",
    "                                                 training_indices=X_train.index,\n",
    "                                                 testing_indices=X_test.index,\n",
    "                                                 target_names=job_names,\n",
    "                                                 features_names=list(X.columns))\n",
    "\n",
    "mlflow_utils_original_features.save_model_data(name='basic_XGBoost_model',\n",
    "                                               details=str(pipline_XGBoost_model),\n",
    "                                               model_object=pipline_XGBoost_model)\n",
    "\n",
    "mlflow_utils_original_features.save_matrices(classification_report)\n",
    "\n",
    "XGBoost_metrics = classification_report['test'].loc['Mean',:]\n",
    "original_features_metrics = pd.Series(XGBoost_metrics).to_dict()\n",
    "mlflow_utils_original_features.save_run_details('3.basic_XGBoost_Model', metrics=XGBoost_metrics)"
   ],
   "metadata": {
    "collapsed": false
   }
  },
  {
   "cell_type": "code",
   "execution_count": 17,
   "outputs": [
    {
     "data": {
      "text/plain": "                             run_id       experiment_id    status  \\\n0  1322b09ddb9d426cad3ac3daf4660537  958618704808840933  FINISHED   \n1  43195e239dba4a019673403231ba12a5  958618704808840933  FINISHED   \n2  e2c46294be34495486dc6d762fafe67c  958618704808840933  FINISHED   \n\n                                        artifact_uri  \\\n0  file:///E:/M_Hassan/AI_Work/StackOverflow_skil...   \n1  file:///E:/M_Hassan/AI_Work/StackOverflow_skil...   \n2  file:///E:/M_Hassan/AI_Work/StackOverflow_skil...   \n\n                        start_time                         end_time  \\\n0 2023-08-02 15:51:23.276000+00:00 2023-08-02 15:51:23.315000+00:00   \n1 2023-08-02 15:49:13.770000+00:00 2023-08-02 15:49:13.802000+00:00   \n2 2023-08-02 15:49:13.701000+00:00 2023-08-02 15:49:13.732000+00:00   \n\n   metrics.f1_score  metrics.accuracy  metrics.recall  metrics.precision  \\\n0          0.510416          0.902808        0.509404           0.555285   \n1          0.376317          0.893628        0.326518           0.507593   \n2          0.450255          0.898233        0.409184           0.535965   \n\n                     tags.mlflow.runName tags.mlflow.source.type  \\\n0                  3.basic_XGBoost_Model                   LOCAL   \n1  2.basic_model_with_clustered_features                   LOCAL   \n2   1.basic_model_with_original_features                   LOCAL   \n\n  tags.mlflow.user                            tags.mlflow.source.name  \n0          mhassan  C:\\Users\\salshahed\\AppData\\Roaming\\Python\\Pyth...  \n1          mhassan  C:\\Users\\salshahed\\AppData\\Roaming\\Python\\Pyth...  \n2          mhassan  C:\\Users\\salshahed\\AppData\\Roaming\\Python\\Pyth...  ",
      "text/html": "<div>\n<style scoped>\n    .dataframe tbody tr th:only-of-type {\n        vertical-align: middle;\n    }\n\n    .dataframe tbody tr th {\n        vertical-align: top;\n    }\n\n    .dataframe thead th {\n        text-align: right;\n    }\n</style>\n<table border=\"1\" class=\"dataframe\">\n  <thead>\n    <tr style=\"text-align: right;\">\n      <th></th>\n      <th>run_id</th>\n      <th>experiment_id</th>\n      <th>status</th>\n      <th>artifact_uri</th>\n      <th>start_time</th>\n      <th>end_time</th>\n      <th>metrics.f1_score</th>\n      <th>metrics.accuracy</th>\n      <th>metrics.recall</th>\n      <th>metrics.precision</th>\n      <th>tags.mlflow.runName</th>\n      <th>tags.mlflow.source.type</th>\n      <th>tags.mlflow.user</th>\n      <th>tags.mlflow.source.name</th>\n    </tr>\n  </thead>\n  <tbody>\n    <tr>\n      <th>0</th>\n      <td>1322b09ddb9d426cad3ac3daf4660537</td>\n      <td>958618704808840933</td>\n      <td>FINISHED</td>\n      <td>file:///E:/M_Hassan/AI_Work/StackOverflow_skil...</td>\n      <td>2023-08-02 15:51:23.276000+00:00</td>\n      <td>2023-08-02 15:51:23.315000+00:00</td>\n      <td>0.510416</td>\n      <td>0.902808</td>\n      <td>0.509404</td>\n      <td>0.555285</td>\n      <td>3.basic_XGBoost_Model</td>\n      <td>LOCAL</td>\n      <td>mhassan</td>\n      <td>C:\\Users\\salshahed\\AppData\\Roaming\\Python\\Pyth...</td>\n    </tr>\n    <tr>\n      <th>1</th>\n      <td>43195e239dba4a019673403231ba12a5</td>\n      <td>958618704808840933</td>\n      <td>FINISHED</td>\n      <td>file:///E:/M_Hassan/AI_Work/StackOverflow_skil...</td>\n      <td>2023-08-02 15:49:13.770000+00:00</td>\n      <td>2023-08-02 15:49:13.802000+00:00</td>\n      <td>0.376317</td>\n      <td>0.893628</td>\n      <td>0.326518</td>\n      <td>0.507593</td>\n      <td>2.basic_model_with_clustered_features</td>\n      <td>LOCAL</td>\n      <td>mhassan</td>\n      <td>C:\\Users\\salshahed\\AppData\\Roaming\\Python\\Pyth...</td>\n    </tr>\n    <tr>\n      <th>2</th>\n      <td>e2c46294be34495486dc6d762fafe67c</td>\n      <td>958618704808840933</td>\n      <td>FINISHED</td>\n      <td>file:///E:/M_Hassan/AI_Work/StackOverflow_skil...</td>\n      <td>2023-08-02 15:49:13.701000+00:00</td>\n      <td>2023-08-02 15:49:13.732000+00:00</td>\n      <td>0.450255</td>\n      <td>0.898233</td>\n      <td>0.409184</td>\n      <td>0.535965</td>\n      <td>1.basic_model_with_original_features</td>\n      <td>LOCAL</td>\n      <td>mhassan</td>\n      <td>C:\\Users\\salshahed\\AppData\\Roaming\\Python\\Pyth...</td>\n    </tr>\n  </tbody>\n</table>\n</div>"
     },
     "execution_count": 17,
     "metadata": {},
     "output_type": "execute_result"
    }
   ],
   "source": [
    "MlflowUtils.get_runs()"
   ],
   "metadata": {
    "collapsed": false
   }
  },
  {
   "cell_type": "code",
   "execution_count": 17,
   "outputs": [],
   "source": [],
   "metadata": {
    "collapsed": false
   }
  },
  {
   "cell_type": "code",
   "execution_count": 17,
   "outputs": [],
   "source": [],
   "metadata": {
    "collapsed": false
   }
  }
 ],
 "metadata": {
  "kernelspec": {
   "name": "smart_health3",
   "language": "python",
   "display_name": "smart_health3"
  },
  "language_info": {
   "codemirror_mode": {
    "name": "ipython",
    "version": 2
   },
   "file_extension": ".py",
   "mimetype": "text/x-python",
   "name": "python",
   "nbconvert_exporter": "python",
   "pygments_lexer": "ipython2",
   "version": "2.7.6"
  }
 },
 "nbformat": 4,
 "nbformat_minor": 0
}
