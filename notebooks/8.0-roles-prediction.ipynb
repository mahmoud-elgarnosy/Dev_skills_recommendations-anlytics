{
 "cells": [
  {
   "cell_type": "code",
   "execution_count": 1,
   "outputs": [],
   "source": [
    "import sys\n",
    "import os\n",
    "\n",
    "SCRIPT_DIR = os.path.dirname(os.path.abspath('src'))\n",
    "sys.path.append(os.path.dirname(SCRIPT_DIR))\n"
   ],
   "metadata": {
    "collapsed": false
   }
  },
  {
   "cell_type": "code",
   "execution_count": 2,
   "outputs": [],
   "source": [
    "from src.utils import MlflowUtils\n",
    "import pandas as pd\n",
    "import prediction_utils as utils"
   ],
   "metadata": {
    "collapsed": false
   }
  },
  {
   "cell_type": "code",
   "execution_count": 2,
   "outputs": [],
   "source": [],
   "metadata": {
    "collapsed": false
   }
  },
  {
   "cell_type": "code",
   "execution_count": 3,
   "outputs": [
    {
     "data": {
      "text/plain": "                             run_id       experiment_id    status  \\\n0  2a572ea634b64d4e99ac358082c8906e  735982700926372623  FINISHED   \n1  b4928cc3e3bf4f21b8b9138310447d2c  735982700926372623  FINISHED   \n2  91321ce64e8646d7a8e28dac0a5d8deb  735982700926372623  FINISHED   \n\n                                        artifact_uri  \\\n0  file:///D:/protofolio_projects/Dev_skills_reco...   \n1  file:///D:/protofolio_projects/Dev_skills_reco...   \n2  file:///D:/protofolio_projects/Dev_skills_reco...   \n\n                        start_time                         end_time  \\\n0 2023-08-17 09:27:33.895000+00:00 2023-08-17 09:27:33.953000+00:00   \n1 2023-08-17 09:25:36.899000+00:00 2023-08-17 09:25:36.934000+00:00   \n2 2023-08-17 09:25:36.843000+00:00 2023-08-17 09:25:36.877000+00:00   \n\n   metrics.accuracy  metrics.precision  metrics.recall  metrics.f1_score  \\\n0          0.901169           0.548453        0.507204          0.506840   \n1          0.894298           0.522859        0.324855          0.378904   \n2          0.897505           0.531665        0.404598          0.446315   \n\n                             tags.mlflow.source.name tags.mlflow.user  \\\n0  C:\\Users\\mahmo\\anaconda3\\envs\\Rec-skills\\lib\\s...            mahmo   \n1  C:\\Users\\mahmo\\anaconda3\\envs\\Rec-skills\\lib\\s...            mahmo   \n2  C:\\Users\\mahmo\\anaconda3\\envs\\Rec-skills\\lib\\s...            mahmo   \n\n  tags.mlflow.source.type                           tags.mlflow.runName  \n0                   LOCAL                                     XGB_1.0.0  \n1                   LOCAL  Logistic-Regression_Clustered-Features_1.0.0  \n2                   LOCAL   Logistic-Regression_Original-Features_1.0.0  ",
      "text/html": "<div>\n<style scoped>\n    .dataframe tbody tr th:only-of-type {\n        vertical-align: middle;\n    }\n\n    .dataframe tbody tr th {\n        vertical-align: top;\n    }\n\n    .dataframe thead th {\n        text-align: right;\n    }\n</style>\n<table border=\"1\" class=\"dataframe\">\n  <thead>\n    <tr style=\"text-align: right;\">\n      <th></th>\n      <th>run_id</th>\n      <th>experiment_id</th>\n      <th>status</th>\n      <th>artifact_uri</th>\n      <th>start_time</th>\n      <th>end_time</th>\n      <th>metrics.accuracy</th>\n      <th>metrics.precision</th>\n      <th>metrics.recall</th>\n      <th>metrics.f1_score</th>\n      <th>tags.mlflow.source.name</th>\n      <th>tags.mlflow.user</th>\n      <th>tags.mlflow.source.type</th>\n      <th>tags.mlflow.runName</th>\n    </tr>\n  </thead>\n  <tbody>\n    <tr>\n      <th>0</th>\n      <td>2a572ea634b64d4e99ac358082c8906e</td>\n      <td>735982700926372623</td>\n      <td>FINISHED</td>\n      <td>file:///D:/protofolio_projects/Dev_skills_reco...</td>\n      <td>2023-08-17 09:27:33.895000+00:00</td>\n      <td>2023-08-17 09:27:33.953000+00:00</td>\n      <td>0.901169</td>\n      <td>0.548453</td>\n      <td>0.507204</td>\n      <td>0.506840</td>\n      <td>C:\\Users\\mahmo\\anaconda3\\envs\\Rec-skills\\lib\\s...</td>\n      <td>mahmo</td>\n      <td>LOCAL</td>\n      <td>XGB_1.0.0</td>\n    </tr>\n    <tr>\n      <th>1</th>\n      <td>b4928cc3e3bf4f21b8b9138310447d2c</td>\n      <td>735982700926372623</td>\n      <td>FINISHED</td>\n      <td>file:///D:/protofolio_projects/Dev_skills_reco...</td>\n      <td>2023-08-17 09:25:36.899000+00:00</td>\n      <td>2023-08-17 09:25:36.934000+00:00</td>\n      <td>0.894298</td>\n      <td>0.522859</td>\n      <td>0.324855</td>\n      <td>0.378904</td>\n      <td>C:\\Users\\mahmo\\anaconda3\\envs\\Rec-skills\\lib\\s...</td>\n      <td>mahmo</td>\n      <td>LOCAL</td>\n      <td>Logistic-Regression_Clustered-Features_1.0.0</td>\n    </tr>\n    <tr>\n      <th>2</th>\n      <td>91321ce64e8646d7a8e28dac0a5d8deb</td>\n      <td>735982700926372623</td>\n      <td>FINISHED</td>\n      <td>file:///D:/protofolio_projects/Dev_skills_reco...</td>\n      <td>2023-08-17 09:25:36.843000+00:00</td>\n      <td>2023-08-17 09:25:36.877000+00:00</td>\n      <td>0.897505</td>\n      <td>0.531665</td>\n      <td>0.404598</td>\n      <td>0.446315</td>\n      <td>C:\\Users\\mahmo\\anaconda3\\envs\\Rec-skills\\lib\\s...</td>\n      <td>mahmo</td>\n      <td>LOCAL</td>\n      <td>Logistic-Regression_Original-Features_1.0.0</td>\n    </tr>\n  </tbody>\n</table>\n</div>"
     },
     "execution_count": 3,
     "metadata": {},
     "output_type": "execute_result"
    }
   ],
   "source": [
    "MlflowUtils.get_runs()"
   ],
   "metadata": {
    "collapsed": false
   }
  },
  {
   "cell_type": "code",
   "execution_count": 4,
   "outputs": [
    {
     "data": {
      "text/plain": "['XGB_1.0.0',\n 'Logistic-Regression_Clustered-Features_1.0.0',\n 'Logistic-Regression_Original-Features_1.0.0']"
     },
     "execution_count": 4,
     "metadata": {},
     "output_type": "execute_result"
    }
   ],
   "source": [
    "MlflowUtils.get_run_names()"
   ],
   "metadata": {
    "collapsed": false
   }
  },
  {
   "cell_type": "code",
   "execution_count": 5,
   "outputs": [],
   "source": [
    "full_stack_skills = ['HTML/CSS', 'Angular']\n",
    "php_skills = ['PHP', 'Laravel', 'MariaDB', 'Vue.js', 'HTML/CSS', 'Angular' ]\n",
    "data_skills = ['Python', 'Scala', 'Hadoop', 'Apache Spark']"
   ],
   "metadata": {
    "collapsed": false
   }
  },
  {
   "cell_type": "code",
   "execution_count": 5,
   "outputs": [],
   "source": [],
   "metadata": {
    "collapsed": false
   }
  },
  {
   "cell_type": "code",
   "execution_count": 6,
   "outputs": [
    {
     "data": {
      "text/plain": "Engineer_data                                    0.646794\nback_end_python                                  0.315931\nDeveloper_back-end                               0.234490\nData or business analyst                         0.140893\nScientist                                        0.120055\nData scientist or machine learning specialist    0.091366\nAcademic researcher                              0.089729\nDeveloper_full-stack                             0.056197\nfull_stack_python                                0.051706\nDeveloper_front-end                              0.034221\nDeveloper_game or graphics                       0.034008\nDeveloper_desktop or enterprise applications     0.031771\nDeveloper_mobile                                 0.025054\nCloud infrastructure engineer                    0.023436\nDevOps specialist                                0.022828\nEngineer_site reliability                        0.020743\nDeveloper_embedded applications or devices       0.008279\nback_end_PHP                                     0.007517\nBlockchain                                       0.006994\nback_end_C++                                     0.005048\nfull_stack_PHP                                   0.004415\nback_end_.JavaScript                             0.002551\nback_end_Java                                    0.002391\nfull_stack_.JavaScript                           0.001548\nback_end_.NET                                    0.001384\nfull_stack_.NET                                  0.001183\nfull_stack_Java                                  0.000684\ndtype: float32"
     },
     "execution_count": 6,
     "metadata": {},
     "output_type": "execute_result"
    }
   ],
   "source": [
    "features_names, target_names, model  = utils.fetch_best_model_data()\n",
    "df = utils.prepare_df(data_skills, features_names)\n",
    "predictions = utils.predict_roles(model, df, target_names)\n",
    "predictions"
   ],
   "metadata": {
    "collapsed": false
   }
  },
  {
   "cell_type": "code",
   "execution_count": 7,
   "outputs": [
    {
     "data": {
      "text/plain": "0.004414734"
     },
     "execution_count": 7,
     "metadata": {},
     "output_type": "execute_result"
    }
   ],
   "source": [
    "predictions['full_stack_PHP']"
   ],
   "metadata": {
    "collapsed": false
   }
  },
  {
   "cell_type": "code",
   "execution_count": null,
   "outputs": [],
   "source": [],
   "metadata": {
    "collapsed": false
   }
  }
 ],
 "metadata": {
  "kernelspec": {
   "name": "smart_health3",
   "language": "python",
   "display_name": "smart_health3"
  },
  "language_info": {
   "codemirror_mode": {
    "name": "ipython",
    "version": 2
   },
   "file_extension": ".py",
   "mimetype": "text/x-python",
   "name": "python",
   "nbconvert_exporter": "python",
   "pygments_lexer": "ipython2",
   "version": "2.7.6"
  }
 },
 "nbformat": 4,
 "nbformat_minor": 0
}
