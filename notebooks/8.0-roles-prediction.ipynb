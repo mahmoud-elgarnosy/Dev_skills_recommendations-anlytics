{
 "cells": [
  {
   "cell_type": "code",
   "execution_count": 33,
   "outputs": [],
   "source": [
    "import sys\n",
    "import os\n",
    "\n",
    "SCRIPT_DIR = os.path.dirname(os.path.abspath('src'))\n",
    "sys.path.append(os.path.dirname(SCRIPT_DIR))\n"
   ],
   "metadata": {
    "collapsed": false
   }
  },
  {
   "cell_type": "code",
   "execution_count": 34,
   "outputs": [],
   "source": [
    "from src.utils import MlflowUtils\n",
    "import pandas as pd\n",
    "import prediction_utils as utils"
   ],
   "metadata": {
    "collapsed": false
   }
  },
  {
   "cell_type": "code",
   "execution_count": 34,
   "outputs": [],
   "source": [],
   "metadata": {
    "collapsed": false
   }
  },
  {
   "cell_type": "code",
   "execution_count": 35,
   "outputs": [
    {
     "data": {
      "text/plain": "                             run_id       experiment_id    status  \\\n0  36ae3937872d42d0b9896356ed7020d8  907184637109318169  FINISHED   \n1  f6cf7dfa383f4a89811010639556c9d7  907184637109318169  FINISHED   \n2  f0c59d4307f649b1a93cd2fb922448a4  907184637109318169  FINISHED   \n\n                                        artifact_uri  \\\n0  file:///E:/M_Hassan/AI_Work/StackOverflow_skil...   \n1  file:///E:/M_Hassan/AI_Work/StackOverflow_skil...   \n2  file:///E:/M_Hassan/AI_Work/StackOverflow_skil...   \n\n                        start_time                         end_time  \\\n0 2023-08-08 13:25:51.528000+00:00 2023-08-08 13:25:51.563000+00:00   \n1 2023-08-08 13:22:48.741000+00:00 2023-08-08 13:22:48.772000+00:00   \n2 2023-08-08 13:22:48.672000+00:00 2023-08-08 13:22:48.710000+00:00   \n\n   metrics.recall  metrics.f1_score  metrics.accuracy  metrics.precision  \\\n0        0.509404          0.510416          0.902808           0.555285   \n1        0.326518          0.376317          0.893628           0.507593   \n2        0.409184          0.450255          0.898233           0.535965   \n\n  tags.mlflow.source.type tags.mlflow.user  \\\n0                   LOCAL          mhassan   \n1                   LOCAL          mhassan   \n2                   LOCAL          mhassan   \n\n                     tags.mlflow.runName  \\\n0                  3.basic_XGBoost_Model   \n1  2.basic_model_with_clustered_features   \n2   1.basic_model_with_original_features   \n\n                             tags.mlflow.source.name  \n0  C:\\Users\\salshahed\\AppData\\Roaming\\Python\\Pyth...  \n1  C:\\Users\\salshahed\\AppData\\Roaming\\Python\\Pyth...  \n2  C:\\Users\\salshahed\\AppData\\Roaming\\Python\\Pyth...  ",
      "text/html": "<div>\n<style scoped>\n    .dataframe tbody tr th:only-of-type {\n        vertical-align: middle;\n    }\n\n    .dataframe tbody tr th {\n        vertical-align: top;\n    }\n\n    .dataframe thead th {\n        text-align: right;\n    }\n</style>\n<table border=\"1\" class=\"dataframe\">\n  <thead>\n    <tr style=\"text-align: right;\">\n      <th></th>\n      <th>run_id</th>\n      <th>experiment_id</th>\n      <th>status</th>\n      <th>artifact_uri</th>\n      <th>start_time</th>\n      <th>end_time</th>\n      <th>metrics.recall</th>\n      <th>metrics.f1_score</th>\n      <th>metrics.accuracy</th>\n      <th>metrics.precision</th>\n      <th>tags.mlflow.source.type</th>\n      <th>tags.mlflow.user</th>\n      <th>tags.mlflow.runName</th>\n      <th>tags.mlflow.source.name</th>\n    </tr>\n  </thead>\n  <tbody>\n    <tr>\n      <th>0</th>\n      <td>36ae3937872d42d0b9896356ed7020d8</td>\n      <td>907184637109318169</td>\n      <td>FINISHED</td>\n      <td>file:///E:/M_Hassan/AI_Work/StackOverflow_skil...</td>\n      <td>2023-08-08 13:25:51.528000+00:00</td>\n      <td>2023-08-08 13:25:51.563000+00:00</td>\n      <td>0.509404</td>\n      <td>0.510416</td>\n      <td>0.902808</td>\n      <td>0.555285</td>\n      <td>LOCAL</td>\n      <td>mhassan</td>\n      <td>3.basic_XGBoost_Model</td>\n      <td>C:\\Users\\salshahed\\AppData\\Roaming\\Python\\Pyth...</td>\n    </tr>\n    <tr>\n      <th>1</th>\n      <td>f6cf7dfa383f4a89811010639556c9d7</td>\n      <td>907184637109318169</td>\n      <td>FINISHED</td>\n      <td>file:///E:/M_Hassan/AI_Work/StackOverflow_skil...</td>\n      <td>2023-08-08 13:22:48.741000+00:00</td>\n      <td>2023-08-08 13:22:48.772000+00:00</td>\n      <td>0.326518</td>\n      <td>0.376317</td>\n      <td>0.893628</td>\n      <td>0.507593</td>\n      <td>LOCAL</td>\n      <td>mhassan</td>\n      <td>2.basic_model_with_clustered_features</td>\n      <td>C:\\Users\\salshahed\\AppData\\Roaming\\Python\\Pyth...</td>\n    </tr>\n    <tr>\n      <th>2</th>\n      <td>f0c59d4307f649b1a93cd2fb922448a4</td>\n      <td>907184637109318169</td>\n      <td>FINISHED</td>\n      <td>file:///E:/M_Hassan/AI_Work/StackOverflow_skil...</td>\n      <td>2023-08-08 13:22:48.672000+00:00</td>\n      <td>2023-08-08 13:22:48.710000+00:00</td>\n      <td>0.409184</td>\n      <td>0.450255</td>\n      <td>0.898233</td>\n      <td>0.535965</td>\n      <td>LOCAL</td>\n      <td>mhassan</td>\n      <td>1.basic_model_with_original_features</td>\n      <td>C:\\Users\\salshahed\\AppData\\Roaming\\Python\\Pyth...</td>\n    </tr>\n  </tbody>\n</table>\n</div>"
     },
     "execution_count": 35,
     "metadata": {},
     "output_type": "execute_result"
    }
   ],
   "source": [
    "MlflowUtils.get_runs()"
   ],
   "metadata": {
    "collapsed": false
   }
  },
  {
   "cell_type": "code",
   "execution_count": 36,
   "outputs": [
    {
     "data": {
      "text/plain": "['3.basic_XGBoost_Model',\n '2.basic_model_with_clustered_features',\n '1.basic_model_with_original_features']"
     },
     "execution_count": 36,
     "metadata": {},
     "output_type": "execute_result"
    }
   ],
   "source": [
    "MlflowUtils.get_run_names()"
   ],
   "metadata": {
    "collapsed": false
   }
  },
  {
   "cell_type": "code",
   "execution_count": 37,
   "outputs": [],
   "source": [
    "full_stack_skills = ['HTML/CSS', 'Angular']\n",
    "php_skills = ['PHP', 'Laravel', 'MariaDB', 'Vue.js']"
   ],
   "metadata": {
    "collapsed": false
   }
  },
  {
   "cell_type": "code",
   "execution_count": 37,
   "outputs": [],
   "source": [],
   "metadata": {
    "collapsed": false
   }
  },
  {
   "cell_type": "code",
   "execution_count": 40,
   "outputs": [
    {
     "data": {
      "text/plain": "full_stack_PHP                                   0.773753\nback_end_PHP                                     0.637344\nDeveloper_back-end                               0.333050\nDeveloper_full-stack                             0.287691\nDeveloper_front-end                              0.130605\nAcademic researcher                              0.114336\nDeveloper_desktop or enterprise applications     0.073017\nData or business analyst                         0.063786\nDeveloper_mobile                                 0.061675\nEngineer_site reliability                        0.055649\nScientist                                        0.051758\nDeveloper_game or graphics                       0.039939\nDevOps specialist                                0.031579\nEngineer_data                                    0.025229\nCloud infrastructure engineer                    0.016780\nBlockchain                                       0.014035\nDeveloper_embedded applications or devices       0.013024\nData scientist or machine learning specialist    0.012268\nback_end_python                                  0.007144\nfull_stack_python                                0.006540\nback_end_C++                                     0.005712\nfull_stack_.JavaScript                           0.004927\nback_end_.NET                                    0.003882\nback_end_.JavaScript                             0.003255\nfull_stack_.NET                                  0.002877\nback_end_Java                                    0.001638\nfull_stack_Java                                  0.001194\ndtype: float32"
     },
     "execution_count": 40,
     "metadata": {},
     "output_type": "execute_result"
    }
   ],
   "source": [
    "features_names, target_names, model  = utils.fetch_best_model_data()\n",
    "df = utils.prepare_df(php_skills, features_names)\n",
    "predictions = utils.predict_roles(model, df, target_names)\n",
    "predictions"
   ],
   "metadata": {
    "collapsed": false
   }
  },
  {
   "cell_type": "code",
   "execution_count": 41,
   "outputs": [
    {
     "data": {
      "text/plain": "0.77375317"
     },
     "execution_count": 41,
     "metadata": {},
     "output_type": "execute_result"
    }
   ],
   "source": [
    "predictions['full_stack_PHP']"
   ],
   "metadata": {
    "collapsed": false
   }
  },
  {
   "cell_type": "code",
   "execution_count": null,
   "outputs": [],
   "source": [],
   "metadata": {
    "collapsed": false
   }
  }
 ],
 "metadata": {
  "kernelspec": {
   "name": "smart_health3",
   "language": "python",
   "display_name": "smart_health3"
  },
  "language_info": {
   "codemirror_mode": {
    "name": "ipython",
    "version": 2
   },
   "file_extension": ".py",
   "mimetype": "text/x-python",
   "name": "python",
   "nbconvert_exporter": "python",
   "pygments_lexer": "ipython2",
   "version": "2.7.6"
  }
 },
 "nbformat": 4,
 "nbformat_minor": 0
}
