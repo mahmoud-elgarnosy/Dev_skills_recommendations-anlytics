{
 "cells": [
  {
   "cell_type": "code",
   "execution_count": 17,
   "outputs": [],
   "source": [
    "import pandas as pd\n",
    "from sklearn.preprocessing import MultiLabelBinarizer\n",
    "from sklearn.preprocessing import OrdinalEncoder\n",
    "from sklearn.preprocessing import OneHotEncoder\n",
    "import numpy as np\n",
    "import pickle\n",
    "from sklearn.compose import ColumnTransformer\n",
    "from sklearn.preprocessing import MinMaxScaler\n",
    "\n"
   ],
   "metadata": {
    "collapsed": false
   }
  },
  {
   "cell_type": "code",
   "execution_count": 17,
   "outputs": [],
   "source": [],
   "metadata": {
    "collapsed": false
   }
  },
  {
   "cell_type": "code",
   "execution_count": 18,
   "outputs": [],
   "source": [
    "FILE_PATH = '../data/raw/survey_results_public.csv'\n",
    "LOAD_PATH = '../data/interim/'\n",
    "LOAD_DF_NAME = '3.0-cleaned-data.pkl'\n",
    "SAVE_DF_NAME_ANALYSATION = '4.0-preprocessed-data-analysation.pkl'\n",
    "SAVE_DF_NAME_RECOMMENDATION = '4.0-preprocessed-data_rec.pkl'\n"
   ],
   "metadata": {
    "collapsed": false
   }
  },
  {
   "cell_type": "markdown",
   "source": [
    "# Load Data"
   ],
   "metadata": {
    "collapsed": false
   }
  },
  {
   "cell_type": "code",
   "execution_count": 19,
   "outputs": [],
   "source": [
    "survey = pd.read_pickle(LOAD_PATH + LOAD_DF_NAME)"
   ],
   "metadata": {
    "collapsed": false
   }
  },
  {
   "cell_type": "code",
   "execution_count": 20,
   "outputs": [
    {
     "data": {
      "text/plain": "                                              MainBranch  \\\n2      I am not primarily a developer, but I write co...   \n3                         I am a developer by profession   \n4                         I am a developer by profession   \n7                         I am a developer by profession   \n9                         I am a developer by profession   \n...                                                  ...   \n73263                     I am a developer by profession   \n73264                     I am a developer by profession   \n73265  I am not primarily a developer, but I write co...   \n73266                     I am a developer by profession   \n73267  I used to be a developer by profession, but no...   \n\n                                              Employment  \\\n2                                   [Employed_full-time]   \n3                                   [Employed_full-time]   \n4                                   [Employed_full-time]   \n7                    [Not employed_but looking for work]   \n9      [Independent contractor_freelancer_or self-emp...   \n...                                                  ...   \n73263                               [Employed_full-time]   \n73264                               [Employed_full-time]   \n73265                               [Employed_full-time]   \n73266                               [Employed_full-time]   \n73267  [Independent contractor_freelancer_or self-emp...   \n\n                                 RemoteWork  \\\n2      Hybrid (some remote, some in-person)   \n3                              Fully remote   \n4      Hybrid (some remote, some in-person)   \n7                                       NaN   \n9                              Fully remote   \n...                                     ...   \n73263                          Fully remote   \n73264                        Full in-person   \n73265  Hybrid (some remote, some in-person)   \n73266  Hybrid (some remote, some in-person)   \n73267                          Fully remote   \n\n                                                 EdLevel  YearsCode  \\\n2        Master’s degree (M.A., M.S., M.Eng., MBA, etc.)         14   \n3           Bachelor’s degree (B.A., B.S., B.Eng., etc.)         20   \n4           Bachelor’s degree (B.A., B.S., B.Eng., etc.)          8   \n7      Some college/university study without earning ...          1   \n9      Some college/university study without earning ...         37   \n...                                                  ...        ...   \n73263       Bachelor’s degree (B.A., B.S., B.Eng., etc.)          8   \n73264    Master’s degree (M.A., M.S., M.Eng., MBA, etc.)          6   \n73265       Bachelor’s degree (B.A., B.S., B.Eng., etc.)         42   \n73266       Bachelor’s degree (B.A., B.S., B.Eng., etc.)         50   \n73267       Bachelor’s degree (B.A., B.S., B.Eng., etc.)         16   \n\n       YearsCodePro                                            DevType  \\\n2                 5  [Data scientist or machine learning specialist...   \n3                17                             [Developer_full-stack]   \n4                 3  [Developer_front-end, Developer_full-stack, De...   \n7                 0                    [Developer_full-stack, Student]   \n9                30  [Developer_desktop or enterprise applications,...   \n...             ...                                                ...   \n73263             5                               [Developer_back-end]   \n73264             5    [Data scientist or machine learning specialist]   \n73265            33  [Developer_full-stack, Developer_desktop or en...   \n73266            31  [Developer_front-end, Developer_desktop or ent...   \n73267             5  [Developer_front-end, Engineer_data, Engineer_...   \n\n                                                 OrgSize  \\\n2                                     20 to 99 employees   \n3                                   100 to 499 employees   \n4                                     20 to 99 employees   \n7                                                    NaN   \n9      Just me - I am a freelancer, sole proprietor, ...   \n...                                                  ...   \n73263                               100 to 499 employees   \n73264                                       I don’t know   \n73265                                 20 to 99 employees   \n73266                                 10 to 19 employees   \n73267                                                NaN   \n\n                                                 Country  CompTotal  ...  \\\n2      United Kingdom of Great Britain and Northern I...    32000.0  ...   \n3                                                 Israel    60000.0  ...   \n4                               United States of America        NaN  ...   \n7                                                  India        NaN  ...   \n9                                                Croatia        NaN  ...   \n...                                                  ...        ...  ...   \n73263                                            Nigeria    60000.0  ...   \n73264                           United States of America   107000.0  ...   \n73265                           United States of America        NaN  ...   \n73266  United Kingdom of Great Britain and Northern I...    58500.0  ...   \n73267                                             Canada        NaN  ...   \n\n                                  MiscTechHaveWorkedWith  \\\n2                                               [Pandas]   \n3                                                 [.NET]   \n4                                                 [.NET]   \n7                                                     []   \n9                                                     []   \n...                                                  ...   \n73263                                          [Flutter]   \n73264  [Keras, NumPy, Pandas, Scikit-learn, TensorFlo...   \n73265                       [.NET, Pandas, React Native]   \n73266                                                 []   \n73267                       [Apache Kafka, Apache Spark]   \n\n                                  MiscTechWantToWorkWith  \\\n2                                                 [.NET]   \n3                                                 [.NET]   \n4                                   [.NET, Apache Kafka]   \n7                                                     []   \n9                                                     []   \n...                                                  ...   \n73263                                                 []   \n73264  [NumPy, Pandas, Torch/PyTorch, Hugging Face Tr...   \n73265  [.NET, Cordova, Ionic, Pandas, React Native, X...   \n73266                                                 []   \n73267                                                 []   \n\n                            ToolsTechHaveWorkedWith  \\\n2                                                []   \n3                                                []   \n4                                             [npm]   \n7                                             [npm]   \n9                                                []   \n...                                             ...   \n73263           [Docker, Homebrew, Kubernetes, npm]   \n73264                                            []   \n73265                                         [npm]   \n73266                                            []   \n73267  [Docker, Kubernetes, npm, Pulumi, Terraform]   \n\n                            ToolsTechWantToWorkWith  \\\n2                                                []   \n3                                                []   \n4                              [Docker, Kubernetes]   \n7                                  [Unity 3D, Yarn]   \n9                                                []   \n...                                             ...   \n73263           [Docker, Homebrew, Kubernetes, npm]   \n73264                                            []   \n73265                          [npm, Unreal Engine]   \n73266                                            []   \n73267  [Docker, Kubernetes, npm, Pulumi, Terraform]   \n\n                            NEWCollabToolsHaveWorkedWith  \\\n2                             [Notepad++, Visual Studio]   \n3         [Notepad++, Visual Studio, Visual Studio Code]   \n4      [Notepad++, Visual Studio, Visual Studio Code,...   \n7      [Atom, CLion, Eclipse, IntelliJ, Notepad++, Vi...   \n9      [Android Studio, RAD Studio (Delphi_C++ Builde...   \n...                                                  ...   \n73263  [IPython/Jupyter, Sublime Text, Vim, Visual St...   \n73264  [IPython/Jupyter, Notepad++, Spyder, Vim, Visu...   \n73265        [Spyder, Visual Studio, Visual Studio Code]   \n73266   [RAD Studio (Delphi_C++ Builder), Visual Studio]   \n73267                [Visual Studio, Visual Studio Code]   \n\n                            NEWCollabToolsWantToWorkWith  \\\n2                             [Notepad++, Visual Studio]   \n3         [Notepad++, Visual Studio, Visual Studio Code]   \n4             [Rider, Visual Studio, Visual Studio Code]   \n7      [Android Studio, IPython/Jupyter, Sublime Text...   \n9      [Android Studio, RAD Studio (Delphi_C++ Builde...   \n...                                                  ...   \n73263            [Sublime Text, Vim, Visual Studio Code]   \n73264       [Notepad++, Spyder, Vim, Visual Studio Code]   \n73265        [Spyder, Visual Studio, Visual Studio Code]   \n73266   [RAD Studio (Delphi_C++ Builder), Visual Studio]   \n73267                       [Neovim, Visual Studio Code]   \n\n        OpSysProfessional use            VersionControlSystem  \\\n2                   [Windows]                           [Git]   \n3                   [Windows]                           [Git]   \n4                   [Windows]  [Git, Other (please specify):]   \n7        [Linux-based, macOS]                           [Git]   \n9                   [Windows]                           [Git]   \n...                       ...                             ...   \n73263                 [macOS]                           [Git]   \n73264  [Linux-based, Windows]                           [Git]   \n73265               [Windows]                           [Git]   \n73266               [Windows]                           [SVN]   \n73267  [Linux-based, Windows]                           [Git]   \n\n                   Age   Gender  \n2      25-34 years old    [Man]  \n3      35-44 years old    [Man]  \n4      25-34 years old       []  \n7      18-24 years old    [Man]  \n9      45-54 years old  [Woman]  \n...                ...      ...  \n73263  25-34 years old    [Man]  \n73264  25-34 years old    [Man]  \n73265  55-64 years old    [Man]  \n73266  55-64 years old    [Man]  \n73267  25-34 years old    [Man]  \n\n[60613 rows x 29 columns]",
      "text/html": "<div>\n<style scoped>\n    .dataframe tbody tr th:only-of-type {\n        vertical-align: middle;\n    }\n\n    .dataframe tbody tr th {\n        vertical-align: top;\n    }\n\n    .dataframe thead th {\n        text-align: right;\n    }\n</style>\n<table border=\"1\" class=\"dataframe\">\n  <thead>\n    <tr style=\"text-align: right;\">\n      <th></th>\n      <th>MainBranch</th>\n      <th>Employment</th>\n      <th>RemoteWork</th>\n      <th>EdLevel</th>\n      <th>YearsCode</th>\n      <th>YearsCodePro</th>\n      <th>DevType</th>\n      <th>OrgSize</th>\n      <th>Country</th>\n      <th>CompTotal</th>\n      <th>...</th>\n      <th>MiscTechHaveWorkedWith</th>\n      <th>MiscTechWantToWorkWith</th>\n      <th>ToolsTechHaveWorkedWith</th>\n      <th>ToolsTechWantToWorkWith</th>\n      <th>NEWCollabToolsHaveWorkedWith</th>\n      <th>NEWCollabToolsWantToWorkWith</th>\n      <th>OpSysProfessional use</th>\n      <th>VersionControlSystem</th>\n      <th>Age</th>\n      <th>Gender</th>\n    </tr>\n  </thead>\n  <tbody>\n    <tr>\n      <th>2</th>\n      <td>I am not primarily a developer, but I write co...</td>\n      <td>[Employed_full-time]</td>\n      <td>Hybrid (some remote, some in-person)</td>\n      <td>Master’s degree (M.A., M.S., M.Eng., MBA, etc.)</td>\n      <td>14</td>\n      <td>5</td>\n      <td>[Data scientist or machine learning specialist...</td>\n      <td>20 to 99 employees</td>\n      <td>United Kingdom of Great Britain and Northern I...</td>\n      <td>32000.0</td>\n      <td>...</td>\n      <td>[Pandas]</td>\n      <td>[.NET]</td>\n      <td>[]</td>\n      <td>[]</td>\n      <td>[Notepad++, Visual Studio]</td>\n      <td>[Notepad++, Visual Studio]</td>\n      <td>[Windows]</td>\n      <td>[Git]</td>\n      <td>25-34 years old</td>\n      <td>[Man]</td>\n    </tr>\n    <tr>\n      <th>3</th>\n      <td>I am a developer by profession</td>\n      <td>[Employed_full-time]</td>\n      <td>Fully remote</td>\n      <td>Bachelor’s degree (B.A., B.S., B.Eng., etc.)</td>\n      <td>20</td>\n      <td>17</td>\n      <td>[Developer_full-stack]</td>\n      <td>100 to 499 employees</td>\n      <td>Israel</td>\n      <td>60000.0</td>\n      <td>...</td>\n      <td>[.NET]</td>\n      <td>[.NET]</td>\n      <td>[]</td>\n      <td>[]</td>\n      <td>[Notepad++, Visual Studio, Visual Studio Code]</td>\n      <td>[Notepad++, Visual Studio, Visual Studio Code]</td>\n      <td>[Windows]</td>\n      <td>[Git]</td>\n      <td>35-44 years old</td>\n      <td>[Man]</td>\n    </tr>\n    <tr>\n      <th>4</th>\n      <td>I am a developer by profession</td>\n      <td>[Employed_full-time]</td>\n      <td>Hybrid (some remote, some in-person)</td>\n      <td>Bachelor’s degree (B.A., B.S., B.Eng., etc.)</td>\n      <td>8</td>\n      <td>3</td>\n      <td>[Developer_front-end, Developer_full-stack, De...</td>\n      <td>20 to 99 employees</td>\n      <td>United States of America</td>\n      <td>NaN</td>\n      <td>...</td>\n      <td>[.NET]</td>\n      <td>[.NET, Apache Kafka]</td>\n      <td>[npm]</td>\n      <td>[Docker, Kubernetes]</td>\n      <td>[Notepad++, Visual Studio, Visual Studio Code,...</td>\n      <td>[Rider, Visual Studio, Visual Studio Code]</td>\n      <td>[Windows]</td>\n      <td>[Git, Other (please specify):]</td>\n      <td>25-34 years old</td>\n      <td>[]</td>\n    </tr>\n    <tr>\n      <th>7</th>\n      <td>I am a developer by profession</td>\n      <td>[Not employed_but looking for work]</td>\n      <td>NaN</td>\n      <td>Some college/university study without earning ...</td>\n      <td>1</td>\n      <td>0</td>\n      <td>[Developer_full-stack, Student]</td>\n      <td>NaN</td>\n      <td>India</td>\n      <td>NaN</td>\n      <td>...</td>\n      <td>[]</td>\n      <td>[]</td>\n      <td>[npm]</td>\n      <td>[Unity 3D, Yarn]</td>\n      <td>[Atom, CLion, Eclipse, IntelliJ, Notepad++, Vi...</td>\n      <td>[Android Studio, IPython/Jupyter, Sublime Text...</td>\n      <td>[Linux-based, macOS]</td>\n      <td>[Git]</td>\n      <td>18-24 years old</td>\n      <td>[Man]</td>\n    </tr>\n    <tr>\n      <th>9</th>\n      <td>I am a developer by profession</td>\n      <td>[Independent contractor_freelancer_or self-emp...</td>\n      <td>Fully remote</td>\n      <td>Some college/university study without earning ...</td>\n      <td>37</td>\n      <td>30</td>\n      <td>[Developer_desktop or enterprise applications,...</td>\n      <td>Just me - I am a freelancer, sole proprietor, ...</td>\n      <td>Croatia</td>\n      <td>NaN</td>\n      <td>...</td>\n      <td>[]</td>\n      <td>[]</td>\n      <td>[]</td>\n      <td>[]</td>\n      <td>[Android Studio, RAD Studio (Delphi_C++ Builde...</td>\n      <td>[Android Studio, RAD Studio (Delphi_C++ Builde...</td>\n      <td>[Windows]</td>\n      <td>[Git]</td>\n      <td>45-54 years old</td>\n      <td>[Woman]</td>\n    </tr>\n    <tr>\n      <th>...</th>\n      <td>...</td>\n      <td>...</td>\n      <td>...</td>\n      <td>...</td>\n      <td>...</td>\n      <td>...</td>\n      <td>...</td>\n      <td>...</td>\n      <td>...</td>\n      <td>...</td>\n      <td>...</td>\n      <td>...</td>\n      <td>...</td>\n      <td>...</td>\n      <td>...</td>\n      <td>...</td>\n      <td>...</td>\n      <td>...</td>\n      <td>...</td>\n      <td>...</td>\n      <td>...</td>\n    </tr>\n    <tr>\n      <th>73263</th>\n      <td>I am a developer by profession</td>\n      <td>[Employed_full-time]</td>\n      <td>Fully remote</td>\n      <td>Bachelor’s degree (B.A., B.S., B.Eng., etc.)</td>\n      <td>8</td>\n      <td>5</td>\n      <td>[Developer_back-end]</td>\n      <td>100 to 499 employees</td>\n      <td>Nigeria</td>\n      <td>60000.0</td>\n      <td>...</td>\n      <td>[Flutter]</td>\n      <td>[]</td>\n      <td>[Docker, Homebrew, Kubernetes, npm]</td>\n      <td>[Docker, Homebrew, Kubernetes, npm]</td>\n      <td>[IPython/Jupyter, Sublime Text, Vim, Visual St...</td>\n      <td>[Sublime Text, Vim, Visual Studio Code]</td>\n      <td>[macOS]</td>\n      <td>[Git]</td>\n      <td>25-34 years old</td>\n      <td>[Man]</td>\n    </tr>\n    <tr>\n      <th>73264</th>\n      <td>I am a developer by profession</td>\n      <td>[Employed_full-time]</td>\n      <td>Full in-person</td>\n      <td>Master’s degree (M.A., M.S., M.Eng., MBA, etc.)</td>\n      <td>6</td>\n      <td>5</td>\n      <td>[Data scientist or machine learning specialist]</td>\n      <td>I don’t know</td>\n      <td>United States of America</td>\n      <td>107000.0</td>\n      <td>...</td>\n      <td>[Keras, NumPy, Pandas, Scikit-learn, TensorFlo...</td>\n      <td>[NumPy, Pandas, Torch/PyTorch, Hugging Face Tr...</td>\n      <td>[]</td>\n      <td>[]</td>\n      <td>[IPython/Jupyter, Notepad++, Spyder, Vim, Visu...</td>\n      <td>[Notepad++, Spyder, Vim, Visual Studio Code]</td>\n      <td>[Linux-based, Windows]</td>\n      <td>[Git]</td>\n      <td>25-34 years old</td>\n      <td>[Man]</td>\n    </tr>\n    <tr>\n      <th>73265</th>\n      <td>I am not primarily a developer, but I write co...</td>\n      <td>[Employed_full-time]</td>\n      <td>Hybrid (some remote, some in-person)</td>\n      <td>Bachelor’s degree (B.A., B.S., B.Eng., etc.)</td>\n      <td>42</td>\n      <td>33</td>\n      <td>[Developer_full-stack, Developer_desktop or en...</td>\n      <td>20 to 99 employees</td>\n      <td>United States of America</td>\n      <td>NaN</td>\n      <td>...</td>\n      <td>[.NET, Pandas, React Native]</td>\n      <td>[.NET, Cordova, Ionic, Pandas, React Native, X...</td>\n      <td>[npm]</td>\n      <td>[npm, Unreal Engine]</td>\n      <td>[Spyder, Visual Studio, Visual Studio Code]</td>\n      <td>[Spyder, Visual Studio, Visual Studio Code]</td>\n      <td>[Windows]</td>\n      <td>[Git]</td>\n      <td>55-64 years old</td>\n      <td>[Man]</td>\n    </tr>\n    <tr>\n      <th>73266</th>\n      <td>I am a developer by profession</td>\n      <td>[Employed_full-time]</td>\n      <td>Hybrid (some remote, some in-person)</td>\n      <td>Bachelor’s degree (B.A., B.S., B.Eng., etc.)</td>\n      <td>50</td>\n      <td>31</td>\n      <td>[Developer_front-end, Developer_desktop or ent...</td>\n      <td>10 to 19 employees</td>\n      <td>United Kingdom of Great Britain and Northern I...</td>\n      <td>58500.0</td>\n      <td>...</td>\n      <td>[]</td>\n      <td>[]</td>\n      <td>[]</td>\n      <td>[]</td>\n      <td>[RAD Studio (Delphi_C++ Builder), Visual Studio]</td>\n      <td>[RAD Studio (Delphi_C++ Builder), Visual Studio]</td>\n      <td>[Windows]</td>\n      <td>[SVN]</td>\n      <td>55-64 years old</td>\n      <td>[Man]</td>\n    </tr>\n    <tr>\n      <th>73267</th>\n      <td>I used to be a developer by profession, but no...</td>\n      <td>[Independent contractor_freelancer_or self-emp...</td>\n      <td>Fully remote</td>\n      <td>Bachelor’s degree (B.A., B.S., B.Eng., etc.)</td>\n      <td>16</td>\n      <td>5</td>\n      <td>[Developer_front-end, Engineer_data, Engineer_...</td>\n      <td>NaN</td>\n      <td>Canada</td>\n      <td>NaN</td>\n      <td>...</td>\n      <td>[Apache Kafka, Apache Spark]</td>\n      <td>[]</td>\n      <td>[Docker, Kubernetes, npm, Pulumi, Terraform]</td>\n      <td>[Docker, Kubernetes, npm, Pulumi, Terraform]</td>\n      <td>[Visual Studio, Visual Studio Code]</td>\n      <td>[Neovim, Visual Studio Code]</td>\n      <td>[Linux-based, Windows]</td>\n      <td>[Git]</td>\n      <td>25-34 years old</td>\n      <td>[Man]</td>\n    </tr>\n  </tbody>\n</table>\n<p>60613 rows × 29 columns</p>\n</div>"
     },
     "execution_count": 20,
     "metadata": {},
     "output_type": "execute_result"
    }
   ],
   "source": [
    "survey"
   ],
   "metadata": {
    "collapsed": false
   }
  },
  {
   "cell_type": "markdown",
   "source": [
    "# 1. Encode MainBranch boolean encoding\n"
   ],
   "metadata": {
    "collapsed": false
   }
  },
  {
   "cell_type": "code",
   "execution_count": 21,
   "outputs": [
    {
     "data": {
      "text/plain": "['I am not primarily a developer, but I write code sometimes as part of my work',\n 'I am a developer by profession',\n 'I code primarily as a hobby',\n 'I used to be a developer by profession, but no longer am',\n 'I am learning to code']"
     },
     "execution_count": 21,
     "metadata": {},
     "output_type": "execute_result"
    }
   ],
   "source": [
    "list(survey.MainBranch.unique())"
   ],
   "metadata": {
    "collapsed": false
   }
  },
  {
   "cell_type": "code",
   "execution_count": 22,
   "outputs": [],
   "source": [
    "replace_dict = {'I am not primarily a developer, but I write code sometimes as part of my work' : 0,\n",
    "                'I am a developer by profession' : 1,\n",
    "                'I code primarily as a hobby': 0,\n",
    "                'I used to be a developer by profession, but no longer am': 1,\n",
    "                'I am learning to code':0}\n",
    "\n",
    "survey['MainBranch'] = survey['MainBranch'].replace(replace_dict).astype('int32')"
   ],
   "metadata": {
    "collapsed": false
   }
  },
  {
   "cell_type": "markdown",
   "source": [
    "### until here preprocessing dataframe for both tasks finished, I will complete processing for recommendation task, and we will need another notebook to complete Analysation Task"
   ],
   "metadata": {
    "collapsed": false
   }
  },
  {
   "cell_type": "code",
   "execution_count": 23,
   "outputs": [],
   "source": [
    "survey.to_pickle(LOAD_PATH + SAVE_DF_NAME_ANALYSATION)"
   ],
   "metadata": {
    "collapsed": false
   }
  },
  {
   "cell_type": "markdown",
   "source": [
    "### load recommendations columns"
   ],
   "metadata": {
    "collapsed": false
   }
  },
  {
   "cell_type": "code",
   "execution_count": 24,
   "outputs": [],
   "source": [
    "with open(LOAD_PATH + 'chosen_columns.pkl', 'rb') as f:\n",
    "    chosen_columns = pickle.load(f)\n",
    "\n",
    "survey = survey[chosen_columns['recommendations']]"
   ],
   "metadata": {
    "collapsed": false
   }
  },
  {
   "cell_type": "code",
   "execution_count": 25,
   "outputs": [
    {
     "data": {
      "text/plain": "       MainBranch                                         Employment  \\\n2               0                               [Employed_full-time]   \n3               1                               [Employed_full-time]   \n4               1                               [Employed_full-time]   \n7               1                [Not employed_but looking for work]   \n9               1  [Independent contractor_freelancer_or self-emp...   \n...           ...                                                ...   \n73263           1                               [Employed_full-time]   \n73264           1                               [Employed_full-time]   \n73265           0                               [Employed_full-time]   \n73266           1                               [Employed_full-time]   \n73267           1  [Independent contractor_freelancer_or self-emp...   \n\n                                                 EdLevel  YearsCodePro  \\\n2        Master’s degree (M.A., M.S., M.Eng., MBA, etc.)             5   \n3           Bachelor’s degree (B.A., B.S., B.Eng., etc.)            17   \n4           Bachelor’s degree (B.A., B.S., B.Eng., etc.)             3   \n7      Some college/university study without earning ...             0   \n9      Some college/university study without earning ...            30   \n...                                                  ...           ...   \n73263       Bachelor’s degree (B.A., B.S., B.Eng., etc.)             5   \n73264    Master’s degree (M.A., M.S., M.Eng., MBA, etc.)             5   \n73265       Bachelor’s degree (B.A., B.S., B.Eng., etc.)            33   \n73266       Bachelor’s degree (B.A., B.S., B.Eng., etc.)            31   \n73267       Bachelor’s degree (B.A., B.S., B.Eng., etc.)             5   \n\n                                                 DevType  \\\n2      [Data scientist or machine learning specialist...   \n3                                 [Developer_full-stack]   \n4      [Developer_front-end, Developer_full-stack, De...   \n7                        [Developer_full-stack, Student]   \n9      [Developer_desktop or enterprise applications,...   \n...                                                  ...   \n73263                               [Developer_back-end]   \n73264    [Data scientist or machine learning specialist]   \n73265  [Developer_full-stack, Developer_desktop or en...   \n73266  [Developer_front-end, Developer_desktop or ent...   \n73267  [Developer_front-end, Engineer_data, Engineer_...   \n\n                                                 OrgSize  \\\n2                                     20 to 99 employees   \n3                                   100 to 499 employees   \n4                                     20 to 99 employees   \n7                                                    NaN   \n9      Just me - I am a freelancer, sole proprietor, ...   \n...                                                  ...   \n73263                               100 to 499 employees   \n73264                                       I don’t know   \n73265                                 20 to 99 employees   \n73266                                 10 to 19 employees   \n73267                                                NaN   \n\n                                  LanguageHaveWorkedWith  \\\n2                [C#, C++, HTML/CSS, JavaScript, Python]   \n3                      [C#, JavaScript, SQL, TypeScript]   \n4      [C#, HTML/CSS, JavaScript, SQL, Swift, TypeScr...   \n7              [C, C++, HTML/CSS, Java, JavaScript, SQL]   \n9                                  [Delphi, Java, Swift]   \n...                                                  ...   \n73263  [Bash/Shell, Dart, JavaScript, PHP, Python, SQ...   \n73264    [Bash/Shell, HTML/CSS, JavaScript, Python, SQL]   \n73265           [HTML/CSS, JavaScript, PHP, Python, SQL]   \n73266                                  [C#, Delphi, VBA]   \n73267  [C#, JavaScript, Lua, PowerShell, SQL, TypeScr...   \n\n                                  LanguageWantToWorkWith  \\\n2            [C#, C++, HTML/CSS, JavaScript, TypeScript]   \n3                                  [C#, SQL, TypeScript]   \n4      [C#, Elixir, F#, Go, JavaScript, Rust, TypeScr...   \n7              [APL, Bash/Shell, Go, Python, TypeScript]   \n9                                  [Delphi, Java, Swift]   \n...                                                  ...   \n73263  [Bash/Shell, Go, JavaScript, Python, SQL, Type...   \n73264                     [HTML/CSS, JavaScript, Python]   \n73265       [C#, HTML/CSS, JavaScript, PHP, Python, SQL]   \n73266                                           [Delphi]   \n73267                     [PowerShell, Rust, TypeScript]   \n\n                                  DatabaseHaveWorkedWith  \\\n2                                 [Microsoft SQL Server]   \n3                                 [Microsoft SQL Server]   \n4      [Cloud Firestore, Elasticsearch, Microsoft SQL...   \n7                                       [MongoDB, MySQL]   \n9                                                     []   \n...                                                  ...   \n73263          [Elasticsearch, MySQL, PostgreSQL, Redis]   \n73264           [Elasticsearch, MongoDB, Oracle, SQLite]   \n73265  [MariaDB, Microsoft SQL Server, MySQL, Postgre...   \n73266            [Microsoft SQL Server, MongoDB, Oracle]   \n73267               [Microsoft SQL Server, Neo4j, Redis]   \n\n                                  DatabaseWantToWorkWith  \\\n2                                 [Microsoft SQL Server]   \n3                                 [Microsoft SQL Server]   \n4      [Cloud Firestore, Elasticsearch, Firebase Real...   \n7                                    [Neo4j, PostgreSQL]   \n9                                                     []   \n...                                                  ...   \n73263                         [MySQL, PostgreSQL, Redis]   \n73264                     [Elasticsearch, Neo4j, SQLite]   \n73265  [MariaDB, Microsoft SQL Server, MySQL, Postgre...   \n73266                                                 []   \n73267                                     [Neo4j, Redis]   \n\n                           PlatformHaveWorkedWith  \\\n2                                              []   \n3                                              []   \n4                     [Firebase, Microsoft Azure]   \n7                     [AWS, Google Cloud, Heroku]   \n9                        [DigitalOcean, Firebase]   \n...                                           ...   \n73263           [AWS, DigitalOcean, Google Cloud]   \n73264                                          []   \n73265  [Managed Hosting, Microsoft Azure, VMware]   \n73266                                          []   \n73267                           [Microsoft Azure]   \n\n                                  PlatformWantToWorkWith  \\\n2                                                     []   \n3                                                     []   \n4                            [Firebase, Microsoft Azure]   \n7      [DigitalOcean, Firebase, Microsoft Azure, VMware]   \n9                               [DigitalOcean, Firebase]   \n...                                                  ...   \n73263                  [AWS, DigitalOcean, Google Cloud]   \n73264                                                 []   \n73265  [Firebase, Linode, Managed Hosting, Microsoft ...   \n73266                                                 []   \n73267    [AWS, Google Cloud, Microsoft Azure, OpenStack]   \n\n                                  WebframeHaveWorkedWith  \\\n2                                           [Angular.js]   \n3                               [ASP.NET, ASP.NET Core ]   \n4      [Angular, ASP.NET, ASP.NET Core , jQuery, Node...   \n7                                      [jQuery, Node.js]   \n9                                                     []   \n...                                                  ...   \n73263                        [Express, FastAPI, Node.js]   \n73264                         [FastAPI, Flask, React.js]   \n73265                                [ASP.NET, React.js]   \n73266                                                 []   \n73267  [ASP.NET Core , Blazor, Node.js, React.js, Sve...   \n\n                                  WebframeWantToWorkWith  \\\n2                                  [Angular, Angular.js]   \n3                               [ASP.NET, ASP.NET Core ]   \n4              [Angular, ASP.NET Core , Blazor, Node.js]   \n7                 [Angular, Angular.js, Next.js, Vue.js]   \n9                                                     []   \n...                                                  ...   \n73263                        [Express, FastAPI, Node.js]   \n73264                                [FastAPI, React.js]   \n73265  [ASP.NET, ASP.NET Core , Blazor, Laravel, Next...   \n73266                                                 []   \n73267                   [ASP.NET Core , Node.js, Svelte]   \n\n                                  MiscTechHaveWorkedWith  \\\n2                                               [Pandas]   \n3                                                 [.NET]   \n4                                                 [.NET]   \n7                                                     []   \n9                                                     []   \n...                                                  ...   \n73263                                          [Flutter]   \n73264  [Keras, NumPy, Pandas, Scikit-learn, TensorFlo...   \n73265                       [.NET, Pandas, React Native]   \n73266                                                 []   \n73267                       [Apache Kafka, Apache Spark]   \n\n                                  MiscTechWantToWorkWith  \\\n2                                                 [.NET]   \n3                                                 [.NET]   \n4                                   [.NET, Apache Kafka]   \n7                                                     []   \n9                                                     []   \n...                                                  ...   \n73263                                                 []   \n73264  [NumPy, Pandas, Torch/PyTorch, Hugging Face Tr...   \n73265  [.NET, Cordova, Ionic, Pandas, React Native, X...   \n73266                                                 []   \n73267                                                 []   \n\n                            ToolsTechHaveWorkedWith  \\\n2                                                []   \n3                                                []   \n4                                             [npm]   \n7                                             [npm]   \n9                                                []   \n...                                             ...   \n73263           [Docker, Homebrew, Kubernetes, npm]   \n73264                                            []   \n73265                                         [npm]   \n73266                                            []   \n73267  [Docker, Kubernetes, npm, Pulumi, Terraform]   \n\n                            ToolsTechWantToWorkWith  \\\n2                                                []   \n3                                                []   \n4                              [Docker, Kubernetes]   \n7                                  [Unity 3D, Yarn]   \n9                                                []   \n...                                             ...   \n73263           [Docker, Homebrew, Kubernetes, npm]   \n73264                                            []   \n73265                          [npm, Unreal Engine]   \n73266                                            []   \n73267  [Docker, Kubernetes, npm, Pulumi, Terraform]   \n\n                            NEWCollabToolsHaveWorkedWith  \\\n2                             [Notepad++, Visual Studio]   \n3         [Notepad++, Visual Studio, Visual Studio Code]   \n4      [Notepad++, Visual Studio, Visual Studio Code,...   \n7      [Atom, CLion, Eclipse, IntelliJ, Notepad++, Vi...   \n9      [Android Studio, RAD Studio (Delphi_C++ Builde...   \n...                                                  ...   \n73263  [IPython/Jupyter, Sublime Text, Vim, Visual St...   \n73264  [IPython/Jupyter, Notepad++, Spyder, Vim, Visu...   \n73265        [Spyder, Visual Studio, Visual Studio Code]   \n73266   [RAD Studio (Delphi_C++ Builder), Visual Studio]   \n73267                [Visual Studio, Visual Studio Code]   \n\n                            NEWCollabToolsWantToWorkWith  \n2                             [Notepad++, Visual Studio]  \n3         [Notepad++, Visual Studio, Visual Studio Code]  \n4             [Rider, Visual Studio, Visual Studio Code]  \n7      [Android Studio, IPython/Jupyter, Sublime Text...  \n9      [Android Studio, RAD Studio (Delphi_C++ Builde...  \n...                                                  ...  \n73263            [Sublime Text, Vim, Visual Studio Code]  \n73264       [Notepad++, Spyder, Vim, Visual Studio Code]  \n73265        [Spyder, Visual Studio, Visual Studio Code]  \n73266   [RAD Studio (Delphi_C++ Builder), Visual Studio]  \n73267                       [Neovim, Visual Studio Code]  \n\n[60613 rows x 20 columns]",
      "text/html": "<div>\n<style scoped>\n    .dataframe tbody tr th:only-of-type {\n        vertical-align: middle;\n    }\n\n    .dataframe tbody tr th {\n        vertical-align: top;\n    }\n\n    .dataframe thead th {\n        text-align: right;\n    }\n</style>\n<table border=\"1\" class=\"dataframe\">\n  <thead>\n    <tr style=\"text-align: right;\">\n      <th></th>\n      <th>MainBranch</th>\n      <th>Employment</th>\n      <th>EdLevel</th>\n      <th>YearsCodePro</th>\n      <th>DevType</th>\n      <th>OrgSize</th>\n      <th>LanguageHaveWorkedWith</th>\n      <th>LanguageWantToWorkWith</th>\n      <th>DatabaseHaveWorkedWith</th>\n      <th>DatabaseWantToWorkWith</th>\n      <th>PlatformHaveWorkedWith</th>\n      <th>PlatformWantToWorkWith</th>\n      <th>WebframeHaveWorkedWith</th>\n      <th>WebframeWantToWorkWith</th>\n      <th>MiscTechHaveWorkedWith</th>\n      <th>MiscTechWantToWorkWith</th>\n      <th>ToolsTechHaveWorkedWith</th>\n      <th>ToolsTechWantToWorkWith</th>\n      <th>NEWCollabToolsHaveWorkedWith</th>\n      <th>NEWCollabToolsWantToWorkWith</th>\n    </tr>\n  </thead>\n  <tbody>\n    <tr>\n      <th>2</th>\n      <td>0</td>\n      <td>[Employed_full-time]</td>\n      <td>Master’s degree (M.A., M.S., M.Eng., MBA, etc.)</td>\n      <td>5</td>\n      <td>[Data scientist or machine learning specialist...</td>\n      <td>20 to 99 employees</td>\n      <td>[C#, C++, HTML/CSS, JavaScript, Python]</td>\n      <td>[C#, C++, HTML/CSS, JavaScript, TypeScript]</td>\n      <td>[Microsoft SQL Server]</td>\n      <td>[Microsoft SQL Server]</td>\n      <td>[]</td>\n      <td>[]</td>\n      <td>[Angular.js]</td>\n      <td>[Angular, Angular.js]</td>\n      <td>[Pandas]</td>\n      <td>[.NET]</td>\n      <td>[]</td>\n      <td>[]</td>\n      <td>[Notepad++, Visual Studio]</td>\n      <td>[Notepad++, Visual Studio]</td>\n    </tr>\n    <tr>\n      <th>3</th>\n      <td>1</td>\n      <td>[Employed_full-time]</td>\n      <td>Bachelor’s degree (B.A., B.S., B.Eng., etc.)</td>\n      <td>17</td>\n      <td>[Developer_full-stack]</td>\n      <td>100 to 499 employees</td>\n      <td>[C#, JavaScript, SQL, TypeScript]</td>\n      <td>[C#, SQL, TypeScript]</td>\n      <td>[Microsoft SQL Server]</td>\n      <td>[Microsoft SQL Server]</td>\n      <td>[]</td>\n      <td>[]</td>\n      <td>[ASP.NET, ASP.NET Core ]</td>\n      <td>[ASP.NET, ASP.NET Core ]</td>\n      <td>[.NET]</td>\n      <td>[.NET]</td>\n      <td>[]</td>\n      <td>[]</td>\n      <td>[Notepad++, Visual Studio, Visual Studio Code]</td>\n      <td>[Notepad++, Visual Studio, Visual Studio Code]</td>\n    </tr>\n    <tr>\n      <th>4</th>\n      <td>1</td>\n      <td>[Employed_full-time]</td>\n      <td>Bachelor’s degree (B.A., B.S., B.Eng., etc.)</td>\n      <td>3</td>\n      <td>[Developer_front-end, Developer_full-stack, De...</td>\n      <td>20 to 99 employees</td>\n      <td>[C#, HTML/CSS, JavaScript, SQL, Swift, TypeScr...</td>\n      <td>[C#, Elixir, F#, Go, JavaScript, Rust, TypeScr...</td>\n      <td>[Cloud Firestore, Elasticsearch, Microsoft SQL...</td>\n      <td>[Cloud Firestore, Elasticsearch, Firebase Real...</td>\n      <td>[Firebase, Microsoft Azure]</td>\n      <td>[Firebase, Microsoft Azure]</td>\n      <td>[Angular, ASP.NET, ASP.NET Core , jQuery, Node...</td>\n      <td>[Angular, ASP.NET Core , Blazor, Node.js]</td>\n      <td>[.NET]</td>\n      <td>[.NET, Apache Kafka]</td>\n      <td>[npm]</td>\n      <td>[Docker, Kubernetes]</td>\n      <td>[Notepad++, Visual Studio, Visual Studio Code,...</td>\n      <td>[Rider, Visual Studio, Visual Studio Code]</td>\n    </tr>\n    <tr>\n      <th>7</th>\n      <td>1</td>\n      <td>[Not employed_but looking for work]</td>\n      <td>Some college/university study without earning ...</td>\n      <td>0</td>\n      <td>[Developer_full-stack, Student]</td>\n      <td>NaN</td>\n      <td>[C, C++, HTML/CSS, Java, JavaScript, SQL]</td>\n      <td>[APL, Bash/Shell, Go, Python, TypeScript]</td>\n      <td>[MongoDB, MySQL]</td>\n      <td>[Neo4j, PostgreSQL]</td>\n      <td>[AWS, Google Cloud, Heroku]</td>\n      <td>[DigitalOcean, Firebase, Microsoft Azure, VMware]</td>\n      <td>[jQuery, Node.js]</td>\n      <td>[Angular, Angular.js, Next.js, Vue.js]</td>\n      <td>[]</td>\n      <td>[]</td>\n      <td>[npm]</td>\n      <td>[Unity 3D, Yarn]</td>\n      <td>[Atom, CLion, Eclipse, IntelliJ, Notepad++, Vi...</td>\n      <td>[Android Studio, IPython/Jupyter, Sublime Text...</td>\n    </tr>\n    <tr>\n      <th>9</th>\n      <td>1</td>\n      <td>[Independent contractor_freelancer_or self-emp...</td>\n      <td>Some college/university study without earning ...</td>\n      <td>30</td>\n      <td>[Developer_desktop or enterprise applications,...</td>\n      <td>Just me - I am a freelancer, sole proprietor, ...</td>\n      <td>[Delphi, Java, Swift]</td>\n      <td>[Delphi, Java, Swift]</td>\n      <td>[]</td>\n      <td>[]</td>\n      <td>[DigitalOcean, Firebase]</td>\n      <td>[DigitalOcean, Firebase]</td>\n      <td>[]</td>\n      <td>[]</td>\n      <td>[]</td>\n      <td>[]</td>\n      <td>[]</td>\n      <td>[]</td>\n      <td>[Android Studio, RAD Studio (Delphi_C++ Builde...</td>\n      <td>[Android Studio, RAD Studio (Delphi_C++ Builde...</td>\n    </tr>\n    <tr>\n      <th>...</th>\n      <td>...</td>\n      <td>...</td>\n      <td>...</td>\n      <td>...</td>\n      <td>...</td>\n      <td>...</td>\n      <td>...</td>\n      <td>...</td>\n      <td>...</td>\n      <td>...</td>\n      <td>...</td>\n      <td>...</td>\n      <td>...</td>\n      <td>...</td>\n      <td>...</td>\n      <td>...</td>\n      <td>...</td>\n      <td>...</td>\n      <td>...</td>\n      <td>...</td>\n    </tr>\n    <tr>\n      <th>73263</th>\n      <td>1</td>\n      <td>[Employed_full-time]</td>\n      <td>Bachelor’s degree (B.A., B.S., B.Eng., etc.)</td>\n      <td>5</td>\n      <td>[Developer_back-end]</td>\n      <td>100 to 499 employees</td>\n      <td>[Bash/Shell, Dart, JavaScript, PHP, Python, SQ...</td>\n      <td>[Bash/Shell, Go, JavaScript, Python, SQL, Type...</td>\n      <td>[Elasticsearch, MySQL, PostgreSQL, Redis]</td>\n      <td>[MySQL, PostgreSQL, Redis]</td>\n      <td>[AWS, DigitalOcean, Google Cloud]</td>\n      <td>[AWS, DigitalOcean, Google Cloud]</td>\n      <td>[Express, FastAPI, Node.js]</td>\n      <td>[Express, FastAPI, Node.js]</td>\n      <td>[Flutter]</td>\n      <td>[]</td>\n      <td>[Docker, Homebrew, Kubernetes, npm]</td>\n      <td>[Docker, Homebrew, Kubernetes, npm]</td>\n      <td>[IPython/Jupyter, Sublime Text, Vim, Visual St...</td>\n      <td>[Sublime Text, Vim, Visual Studio Code]</td>\n    </tr>\n    <tr>\n      <th>73264</th>\n      <td>1</td>\n      <td>[Employed_full-time]</td>\n      <td>Master’s degree (M.A., M.S., M.Eng., MBA, etc.)</td>\n      <td>5</td>\n      <td>[Data scientist or machine learning specialist]</td>\n      <td>I don’t know</td>\n      <td>[Bash/Shell, HTML/CSS, JavaScript, Python, SQL]</td>\n      <td>[HTML/CSS, JavaScript, Python]</td>\n      <td>[Elasticsearch, MongoDB, Oracle, SQLite]</td>\n      <td>[Elasticsearch, Neo4j, SQLite]</td>\n      <td>[]</td>\n      <td>[]</td>\n      <td>[FastAPI, Flask, React.js]</td>\n      <td>[FastAPI, React.js]</td>\n      <td>[Keras, NumPy, Pandas, Scikit-learn, TensorFlo...</td>\n      <td>[NumPy, Pandas, Torch/PyTorch, Hugging Face Tr...</td>\n      <td>[]</td>\n      <td>[]</td>\n      <td>[IPython/Jupyter, Notepad++, Spyder, Vim, Visu...</td>\n      <td>[Notepad++, Spyder, Vim, Visual Studio Code]</td>\n    </tr>\n    <tr>\n      <th>73265</th>\n      <td>0</td>\n      <td>[Employed_full-time]</td>\n      <td>Bachelor’s degree (B.A., B.S., B.Eng., etc.)</td>\n      <td>33</td>\n      <td>[Developer_full-stack, Developer_desktop or en...</td>\n      <td>20 to 99 employees</td>\n      <td>[HTML/CSS, JavaScript, PHP, Python, SQL]</td>\n      <td>[C#, HTML/CSS, JavaScript, PHP, Python, SQL]</td>\n      <td>[MariaDB, Microsoft SQL Server, MySQL, Postgre...</td>\n      <td>[MariaDB, Microsoft SQL Server, MySQL, Postgre...</td>\n      <td>[Managed Hosting, Microsoft Azure, VMware]</td>\n      <td>[Firebase, Linode, Managed Hosting, Microsoft ...</td>\n      <td>[ASP.NET, React.js]</td>\n      <td>[ASP.NET, ASP.NET Core , Blazor, Laravel, Next...</td>\n      <td>[.NET, Pandas, React Native]</td>\n      <td>[.NET, Cordova, Ionic, Pandas, React Native, X...</td>\n      <td>[npm]</td>\n      <td>[npm, Unreal Engine]</td>\n      <td>[Spyder, Visual Studio, Visual Studio Code]</td>\n      <td>[Spyder, Visual Studio, Visual Studio Code]</td>\n    </tr>\n    <tr>\n      <th>73266</th>\n      <td>1</td>\n      <td>[Employed_full-time]</td>\n      <td>Bachelor’s degree (B.A., B.S., B.Eng., etc.)</td>\n      <td>31</td>\n      <td>[Developer_front-end, Developer_desktop or ent...</td>\n      <td>10 to 19 employees</td>\n      <td>[C#, Delphi, VBA]</td>\n      <td>[Delphi]</td>\n      <td>[Microsoft SQL Server, MongoDB, Oracle]</td>\n      <td>[]</td>\n      <td>[]</td>\n      <td>[]</td>\n      <td>[]</td>\n      <td>[]</td>\n      <td>[]</td>\n      <td>[]</td>\n      <td>[]</td>\n      <td>[]</td>\n      <td>[RAD Studio (Delphi_C++ Builder), Visual Studio]</td>\n      <td>[RAD Studio (Delphi_C++ Builder), Visual Studio]</td>\n    </tr>\n    <tr>\n      <th>73267</th>\n      <td>1</td>\n      <td>[Independent contractor_freelancer_or self-emp...</td>\n      <td>Bachelor’s degree (B.A., B.S., B.Eng., etc.)</td>\n      <td>5</td>\n      <td>[Developer_front-end, Engineer_data, Engineer_...</td>\n      <td>NaN</td>\n      <td>[C#, JavaScript, Lua, PowerShell, SQL, TypeScr...</td>\n      <td>[PowerShell, Rust, TypeScript]</td>\n      <td>[Microsoft SQL Server, Neo4j, Redis]</td>\n      <td>[Neo4j, Redis]</td>\n      <td>[Microsoft Azure]</td>\n      <td>[AWS, Google Cloud, Microsoft Azure, OpenStack]</td>\n      <td>[ASP.NET Core , Blazor, Node.js, React.js, Sve...</td>\n      <td>[ASP.NET Core , Node.js, Svelte]</td>\n      <td>[Apache Kafka, Apache Spark]</td>\n      <td>[]</td>\n      <td>[Docker, Kubernetes, npm, Pulumi, Terraform]</td>\n      <td>[Docker, Kubernetes, npm, Pulumi, Terraform]</td>\n      <td>[Visual Studio, Visual Studio Code]</td>\n      <td>[Neovim, Visual Studio Code]</td>\n    </tr>\n  </tbody>\n</table>\n<p>60613 rows × 20 columns</p>\n</div>"
     },
     "execution_count": 25,
     "metadata": {},
     "output_type": "execute_result"
    }
   ],
   "source": [
    "survey"
   ],
   "metadata": {
    "collapsed": false
   }
  },
  {
   "cell_type": "code",
   "execution_count": 25,
   "outputs": [],
   "source": [],
   "metadata": {
    "collapsed": false
   }
  },
  {
   "cell_type": "markdown",
   "source": [
    "# 2. Encode [EdLevel, OrgSize] by using Ordinal encoding"
   ],
   "metadata": {
    "collapsed": false
   }
  },
  {
   "cell_type": "code",
   "execution_count": 26,
   "outputs": [],
   "source": [
    "def encode_ordinal(column_name, labels):\n",
    "    o_encoding = OrdinalEncoder(categories= [labels])\n",
    "    encoded_column = o_encoding.fit_transform(survey[column_name].fillna('0').values[:,np.newaxis]).astype('int32')\n",
    "    return encoded_column"
   ],
   "metadata": {
    "collapsed": false
   }
  },
  {
   "cell_type": "markdown",
   "source": [
    "### 2.1 EdLevel"
   ],
   "metadata": {
    "collapsed": false
   }
  },
  {
   "cell_type": "code",
   "execution_count": 27,
   "outputs": [
    {
     "data": {
      "text/plain": "['Master’s degree (M.A., M.S., M.Eng., MBA, etc.)',\n 'Bachelor’s degree (B.A., B.S., B.Eng., etc.)',\n 'Some college/university study without earning a degree',\n 'Secondary school (e.g. American high school, German Realschule or Gymnasium, etc.)',\n 'Something else',\n 'Primary/elementary school',\n 'Associate degree (A.A., A.S., etc.)',\n 'Professional degree (JD, MD, etc.)',\n 'Other doctoral degree (Ph.D., Ed.D., etc.)',\n nan]"
     },
     "execution_count": 27,
     "metadata": {},
     "output_type": "execute_result"
    }
   ],
   "source": [
    "list(survey['EdLevel'].unique())"
   ],
   "metadata": {
    "collapsed": false
   }
  },
  {
   "cell_type": "code",
   "execution_count": 28,
   "outputs": [
    {
     "name": "stderr",
     "output_type": "stream",
     "text": [
      "C:\\Users\\mahmo\\AppData\\Local\\Temp\\ipykernel_23288\\600030462.py:8: SettingWithCopyWarning: \n",
      "A value is trying to be set on a copy of a slice from a DataFrame.\n",
      "Try using .loc[row_indexer,col_indexer] = value instead\n",
      "\n",
      "See the caveats in the documentation: https://pandas.pydata.org/pandas-docs/stable/user_guide/indexing.html#returning-a-view-versus-a-copy\n",
      "  survey['EdLevel'] = encode_ordinal('EdLevel', Ed_labels)\n"
     ]
    }
   ],
   "source": [
    "Ed_labels = ['0' ,'Something else',  'Primary/elementary school',\n",
    "         'Secondary school (e.g. American high school, German Realschule or Gymnasium, etc.)',\n",
    "          'Some college/university study without earning a degree', 'Associate degree (A.A., A.S., etc.)',\n",
    "           'Bachelor’s degree (B.A., B.S., B.Eng., etc.)',\n",
    "          'Master’s degree (M.A., M.S., M.Eng., MBA, etc.)',\n",
    "           'Professional degree (JD, MD, etc.)',\n",
    "           'Other doctoral degree (Ph.D., Ed.D., etc.)']\n",
    "survey['EdLevel'] = encode_ordinal('EdLevel', Ed_labels)\n",
    "\n"
   ],
   "metadata": {
    "collapsed": false
   }
  },
  {
   "cell_type": "markdown",
   "source": [
    "### 2.2 OrgSize"
   ],
   "metadata": {
    "collapsed": false
   }
  },
  {
   "cell_type": "code",
   "execution_count": 29,
   "outputs": [
    {
     "name": "stderr",
     "output_type": "stream",
     "text": [
      "C:\\Users\\mahmo\\AppData\\Local\\Temp\\ipykernel_23288\\2988175365.py:5: SettingWithCopyWarning: \n",
      "A value is trying to be set on a copy of a slice from a DataFrame.\n",
      "Try using .loc[row_indexer,col_indexer] = value instead\n",
      "\n",
      "See the caveats in the documentation: https://pandas.pydata.org/pandas-docs/stable/user_guide/indexing.html#returning-a-view-versus-a-copy\n",
      "  survey['OrgSize'] = encode_ordinal('OrgSize', org_labels)\n"
     ]
    }
   ],
   "source": [
    "org_labels = ['0' ,'I don’t know', 'Just me - I am a freelancer, sole proprietor, etc.','2 to 9 employees',\n",
    "         '10 to 19 employees', '20 to 99 employees','100 to 499 employees', '500 to 999 employees', '1,000 to 4,999 employees',\n",
    "         '5,000 to 9,999 employees', '10,000 or more employees']\n",
    "\n",
    "survey['OrgSize'] = encode_ordinal('OrgSize', org_labels)"
   ],
   "metadata": {
    "collapsed": false
   }
  },
  {
   "cell_type": "code",
   "execution_count": null,
   "outputs": [],
   "source": [],
   "metadata": {
    "collapsed": false
   }
  },
  {
   "cell_type": "markdown",
   "source": [
    "# 3. Scale ['YearsCodePro', 'EdLevel', 'OrgSize'] Columns"
   ],
   "metadata": {
    "collapsed": false
   }
  },
  {
   "cell_type": "code",
   "execution_count": 30,
   "outputs": [
    {
     "name": "stderr",
     "output_type": "stream",
     "text": [
      "C:\\Users\\mahmo\\AppData\\Local\\Temp\\ipykernel_23288\\1057916939.py:14: SettingWithCopyWarning: \n",
      "A value is trying to be set on a copy of a slice from a DataFrame.\n",
      "Try using .loc[row_indexer,col_indexer] = value instead\n",
      "\n",
      "See the caveats in the documentation: https://pandas.pydata.org/pandas-docs/stable/user_guide/indexing.html#returning-a-view-versus-a-copy\n",
      "  survey[columns_to_transform] = transformed_columns\n"
     ]
    }
   ],
   "source": [
    "# Specify the columns you want to transform\n",
    "columns_to_transform = ['YearsCodePro', 'EdLevel', 'OrgSize']\n",
    "\n",
    "# Define the transformers for each column\n",
    "transformers = [\n",
    "    ('minmax', MinMaxScaler(), columns_to_transform),\n",
    "]\n",
    "\n",
    "# Create the ColumnTransformer\n",
    "ct = ColumnTransformer(transformers)\n",
    "\n",
    "# Apply the transformations to the specific columns\n",
    "transformed_columns = ct.fit_transform(survey)\n",
    "survey[columns_to_transform] = transformed_columns"
   ],
   "metadata": {
    "collapsed": false
   }
  },
  {
   "cell_type": "code",
   "execution_count": 31,
   "outputs": [
    {
     "data": {
      "text/plain": "       MainBranch                                         Employment  \\\n2               0                               [Employed_full-time]   \n3               1                               [Employed_full-time]   \n4               1                               [Employed_full-time]   \n7               1                [Not employed_but looking for work]   \n9               1  [Independent contractor_freelancer_or self-emp...   \n...           ...                                                ...   \n73263           1                               [Employed_full-time]   \n73264           1                               [Employed_full-time]   \n73265           0                               [Employed_full-time]   \n73266           1                               [Employed_full-time]   \n73267           1  [Independent contractor_freelancer_or self-emp...   \n\n        EdLevel  YearsCodePro  \\\n2      0.777778      0.098039   \n3      0.666667      0.333333   \n4      0.666667      0.058824   \n7      0.444444      0.000000   \n9      0.444444      0.588235   \n...         ...           ...   \n73263  0.666667      0.098039   \n73264  0.777778      0.098039   \n73265  0.666667      0.647059   \n73266  0.666667      0.607843   \n73267  0.666667      0.098039   \n\n                                                 DevType  OrgSize  \\\n2      [Data scientist or machine learning specialist...      0.5   \n3                                 [Developer_full-stack]      0.6   \n4      [Developer_front-end, Developer_full-stack, De...      0.5   \n7                        [Developer_full-stack, Student]      0.0   \n9      [Developer_desktop or enterprise applications,...      0.2   \n...                                                  ...      ...   \n73263                               [Developer_back-end]      0.6   \n73264    [Data scientist or machine learning specialist]      0.1   \n73265  [Developer_full-stack, Developer_desktop or en...      0.5   \n73266  [Developer_front-end, Developer_desktop or ent...      0.4   \n73267  [Developer_front-end, Engineer_data, Engineer_...      0.0   \n\n                                  LanguageHaveWorkedWith  \\\n2                [C#, C++, HTML/CSS, JavaScript, Python]   \n3                      [C#, JavaScript, SQL, TypeScript]   \n4      [C#, HTML/CSS, JavaScript, SQL, Swift, TypeScr...   \n7              [C, C++, HTML/CSS, Java, JavaScript, SQL]   \n9                                  [Delphi, Java, Swift]   \n...                                                  ...   \n73263  [Bash/Shell, Dart, JavaScript, PHP, Python, SQ...   \n73264    [Bash/Shell, HTML/CSS, JavaScript, Python, SQL]   \n73265           [HTML/CSS, JavaScript, PHP, Python, SQL]   \n73266                                  [C#, Delphi, VBA]   \n73267  [C#, JavaScript, Lua, PowerShell, SQL, TypeScr...   \n\n                                  LanguageWantToWorkWith  \\\n2            [C#, C++, HTML/CSS, JavaScript, TypeScript]   \n3                                  [C#, SQL, TypeScript]   \n4      [C#, Elixir, F#, Go, JavaScript, Rust, TypeScr...   \n7              [APL, Bash/Shell, Go, Python, TypeScript]   \n9                                  [Delphi, Java, Swift]   \n...                                                  ...   \n73263  [Bash/Shell, Go, JavaScript, Python, SQL, Type...   \n73264                     [HTML/CSS, JavaScript, Python]   \n73265       [C#, HTML/CSS, JavaScript, PHP, Python, SQL]   \n73266                                           [Delphi]   \n73267                     [PowerShell, Rust, TypeScript]   \n\n                                  DatabaseHaveWorkedWith  \\\n2                                 [Microsoft SQL Server]   \n3                                 [Microsoft SQL Server]   \n4      [Cloud Firestore, Elasticsearch, Microsoft SQL...   \n7                                       [MongoDB, MySQL]   \n9                                                     []   \n...                                                  ...   \n73263          [Elasticsearch, MySQL, PostgreSQL, Redis]   \n73264           [Elasticsearch, MongoDB, Oracle, SQLite]   \n73265  [MariaDB, Microsoft SQL Server, MySQL, Postgre...   \n73266            [Microsoft SQL Server, MongoDB, Oracle]   \n73267               [Microsoft SQL Server, Neo4j, Redis]   \n\n                                  DatabaseWantToWorkWith  \\\n2                                 [Microsoft SQL Server]   \n3                                 [Microsoft SQL Server]   \n4      [Cloud Firestore, Elasticsearch, Firebase Real...   \n7                                    [Neo4j, PostgreSQL]   \n9                                                     []   \n...                                                  ...   \n73263                         [MySQL, PostgreSQL, Redis]   \n73264                     [Elasticsearch, Neo4j, SQLite]   \n73265  [MariaDB, Microsoft SQL Server, MySQL, Postgre...   \n73266                                                 []   \n73267                                     [Neo4j, Redis]   \n\n                           PlatformHaveWorkedWith  \\\n2                                              []   \n3                                              []   \n4                     [Firebase, Microsoft Azure]   \n7                     [AWS, Google Cloud, Heroku]   \n9                        [DigitalOcean, Firebase]   \n...                                           ...   \n73263           [AWS, DigitalOcean, Google Cloud]   \n73264                                          []   \n73265  [Managed Hosting, Microsoft Azure, VMware]   \n73266                                          []   \n73267                           [Microsoft Azure]   \n\n                                  PlatformWantToWorkWith  \\\n2                                                     []   \n3                                                     []   \n4                            [Firebase, Microsoft Azure]   \n7      [DigitalOcean, Firebase, Microsoft Azure, VMware]   \n9                               [DigitalOcean, Firebase]   \n...                                                  ...   \n73263                  [AWS, DigitalOcean, Google Cloud]   \n73264                                                 []   \n73265  [Firebase, Linode, Managed Hosting, Microsoft ...   \n73266                                                 []   \n73267    [AWS, Google Cloud, Microsoft Azure, OpenStack]   \n\n                                  WebframeHaveWorkedWith  \\\n2                                           [Angular.js]   \n3                               [ASP.NET, ASP.NET Core ]   \n4      [Angular, ASP.NET, ASP.NET Core , jQuery, Node...   \n7                                      [jQuery, Node.js]   \n9                                                     []   \n...                                                  ...   \n73263                        [Express, FastAPI, Node.js]   \n73264                         [FastAPI, Flask, React.js]   \n73265                                [ASP.NET, React.js]   \n73266                                                 []   \n73267  [ASP.NET Core , Blazor, Node.js, React.js, Sve...   \n\n                                  WebframeWantToWorkWith  \\\n2                                  [Angular, Angular.js]   \n3                               [ASP.NET, ASP.NET Core ]   \n4              [Angular, ASP.NET Core , Blazor, Node.js]   \n7                 [Angular, Angular.js, Next.js, Vue.js]   \n9                                                     []   \n...                                                  ...   \n73263                        [Express, FastAPI, Node.js]   \n73264                                [FastAPI, React.js]   \n73265  [ASP.NET, ASP.NET Core , Blazor, Laravel, Next...   \n73266                                                 []   \n73267                   [ASP.NET Core , Node.js, Svelte]   \n\n                                  MiscTechHaveWorkedWith  \\\n2                                               [Pandas]   \n3                                                 [.NET]   \n4                                                 [.NET]   \n7                                                     []   \n9                                                     []   \n...                                                  ...   \n73263                                          [Flutter]   \n73264  [Keras, NumPy, Pandas, Scikit-learn, TensorFlo...   \n73265                       [.NET, Pandas, React Native]   \n73266                                                 []   \n73267                       [Apache Kafka, Apache Spark]   \n\n                                  MiscTechWantToWorkWith  \\\n2                                                 [.NET]   \n3                                                 [.NET]   \n4                                   [.NET, Apache Kafka]   \n7                                                     []   \n9                                                     []   \n...                                                  ...   \n73263                                                 []   \n73264  [NumPy, Pandas, Torch/PyTorch, Hugging Face Tr...   \n73265  [.NET, Cordova, Ionic, Pandas, React Native, X...   \n73266                                                 []   \n73267                                                 []   \n\n                            ToolsTechHaveWorkedWith  \\\n2                                                []   \n3                                                []   \n4                                             [npm]   \n7                                             [npm]   \n9                                                []   \n...                                             ...   \n73263           [Docker, Homebrew, Kubernetes, npm]   \n73264                                            []   \n73265                                         [npm]   \n73266                                            []   \n73267  [Docker, Kubernetes, npm, Pulumi, Terraform]   \n\n                            ToolsTechWantToWorkWith  \\\n2                                                []   \n3                                                []   \n4                              [Docker, Kubernetes]   \n7                                  [Unity 3D, Yarn]   \n9                                                []   \n...                                             ...   \n73263           [Docker, Homebrew, Kubernetes, npm]   \n73264                                            []   \n73265                          [npm, Unreal Engine]   \n73266                                            []   \n73267  [Docker, Kubernetes, npm, Pulumi, Terraform]   \n\n                            NEWCollabToolsHaveWorkedWith  \\\n2                             [Notepad++, Visual Studio]   \n3         [Notepad++, Visual Studio, Visual Studio Code]   \n4      [Notepad++, Visual Studio, Visual Studio Code,...   \n7      [Atom, CLion, Eclipse, IntelliJ, Notepad++, Vi...   \n9      [Android Studio, RAD Studio (Delphi_C++ Builde...   \n...                                                  ...   \n73263  [IPython/Jupyter, Sublime Text, Vim, Visual St...   \n73264  [IPython/Jupyter, Notepad++, Spyder, Vim, Visu...   \n73265        [Spyder, Visual Studio, Visual Studio Code]   \n73266   [RAD Studio (Delphi_C++ Builder), Visual Studio]   \n73267                [Visual Studio, Visual Studio Code]   \n\n                            NEWCollabToolsWantToWorkWith  \n2                             [Notepad++, Visual Studio]  \n3         [Notepad++, Visual Studio, Visual Studio Code]  \n4             [Rider, Visual Studio, Visual Studio Code]  \n7      [Android Studio, IPython/Jupyter, Sublime Text...  \n9      [Android Studio, RAD Studio (Delphi_C++ Builde...  \n...                                                  ...  \n73263            [Sublime Text, Vim, Visual Studio Code]  \n73264       [Notepad++, Spyder, Vim, Visual Studio Code]  \n73265        [Spyder, Visual Studio, Visual Studio Code]  \n73266   [RAD Studio (Delphi_C++ Builder), Visual Studio]  \n73267                       [Neovim, Visual Studio Code]  \n\n[60613 rows x 20 columns]",
      "text/html": "<div>\n<style scoped>\n    .dataframe tbody tr th:only-of-type {\n        vertical-align: middle;\n    }\n\n    .dataframe tbody tr th {\n        vertical-align: top;\n    }\n\n    .dataframe thead th {\n        text-align: right;\n    }\n</style>\n<table border=\"1\" class=\"dataframe\">\n  <thead>\n    <tr style=\"text-align: right;\">\n      <th></th>\n      <th>MainBranch</th>\n      <th>Employment</th>\n      <th>EdLevel</th>\n      <th>YearsCodePro</th>\n      <th>DevType</th>\n      <th>OrgSize</th>\n      <th>LanguageHaveWorkedWith</th>\n      <th>LanguageWantToWorkWith</th>\n      <th>DatabaseHaveWorkedWith</th>\n      <th>DatabaseWantToWorkWith</th>\n      <th>PlatformHaveWorkedWith</th>\n      <th>PlatformWantToWorkWith</th>\n      <th>WebframeHaveWorkedWith</th>\n      <th>WebframeWantToWorkWith</th>\n      <th>MiscTechHaveWorkedWith</th>\n      <th>MiscTechWantToWorkWith</th>\n      <th>ToolsTechHaveWorkedWith</th>\n      <th>ToolsTechWantToWorkWith</th>\n      <th>NEWCollabToolsHaveWorkedWith</th>\n      <th>NEWCollabToolsWantToWorkWith</th>\n    </tr>\n  </thead>\n  <tbody>\n    <tr>\n      <th>2</th>\n      <td>0</td>\n      <td>[Employed_full-time]</td>\n      <td>0.777778</td>\n      <td>0.098039</td>\n      <td>[Data scientist or machine learning specialist...</td>\n      <td>0.5</td>\n      <td>[C#, C++, HTML/CSS, JavaScript, Python]</td>\n      <td>[C#, C++, HTML/CSS, JavaScript, TypeScript]</td>\n      <td>[Microsoft SQL Server]</td>\n      <td>[Microsoft SQL Server]</td>\n      <td>[]</td>\n      <td>[]</td>\n      <td>[Angular.js]</td>\n      <td>[Angular, Angular.js]</td>\n      <td>[Pandas]</td>\n      <td>[.NET]</td>\n      <td>[]</td>\n      <td>[]</td>\n      <td>[Notepad++, Visual Studio]</td>\n      <td>[Notepad++, Visual Studio]</td>\n    </tr>\n    <tr>\n      <th>3</th>\n      <td>1</td>\n      <td>[Employed_full-time]</td>\n      <td>0.666667</td>\n      <td>0.333333</td>\n      <td>[Developer_full-stack]</td>\n      <td>0.6</td>\n      <td>[C#, JavaScript, SQL, TypeScript]</td>\n      <td>[C#, SQL, TypeScript]</td>\n      <td>[Microsoft SQL Server]</td>\n      <td>[Microsoft SQL Server]</td>\n      <td>[]</td>\n      <td>[]</td>\n      <td>[ASP.NET, ASP.NET Core ]</td>\n      <td>[ASP.NET, ASP.NET Core ]</td>\n      <td>[.NET]</td>\n      <td>[.NET]</td>\n      <td>[]</td>\n      <td>[]</td>\n      <td>[Notepad++, Visual Studio, Visual Studio Code]</td>\n      <td>[Notepad++, Visual Studio, Visual Studio Code]</td>\n    </tr>\n    <tr>\n      <th>4</th>\n      <td>1</td>\n      <td>[Employed_full-time]</td>\n      <td>0.666667</td>\n      <td>0.058824</td>\n      <td>[Developer_front-end, Developer_full-stack, De...</td>\n      <td>0.5</td>\n      <td>[C#, HTML/CSS, JavaScript, SQL, Swift, TypeScr...</td>\n      <td>[C#, Elixir, F#, Go, JavaScript, Rust, TypeScr...</td>\n      <td>[Cloud Firestore, Elasticsearch, Microsoft SQL...</td>\n      <td>[Cloud Firestore, Elasticsearch, Firebase Real...</td>\n      <td>[Firebase, Microsoft Azure]</td>\n      <td>[Firebase, Microsoft Azure]</td>\n      <td>[Angular, ASP.NET, ASP.NET Core , jQuery, Node...</td>\n      <td>[Angular, ASP.NET Core , Blazor, Node.js]</td>\n      <td>[.NET]</td>\n      <td>[.NET, Apache Kafka]</td>\n      <td>[npm]</td>\n      <td>[Docker, Kubernetes]</td>\n      <td>[Notepad++, Visual Studio, Visual Studio Code,...</td>\n      <td>[Rider, Visual Studio, Visual Studio Code]</td>\n    </tr>\n    <tr>\n      <th>7</th>\n      <td>1</td>\n      <td>[Not employed_but looking for work]</td>\n      <td>0.444444</td>\n      <td>0.000000</td>\n      <td>[Developer_full-stack, Student]</td>\n      <td>0.0</td>\n      <td>[C, C++, HTML/CSS, Java, JavaScript, SQL]</td>\n      <td>[APL, Bash/Shell, Go, Python, TypeScript]</td>\n      <td>[MongoDB, MySQL]</td>\n      <td>[Neo4j, PostgreSQL]</td>\n      <td>[AWS, Google Cloud, Heroku]</td>\n      <td>[DigitalOcean, Firebase, Microsoft Azure, VMware]</td>\n      <td>[jQuery, Node.js]</td>\n      <td>[Angular, Angular.js, Next.js, Vue.js]</td>\n      <td>[]</td>\n      <td>[]</td>\n      <td>[npm]</td>\n      <td>[Unity 3D, Yarn]</td>\n      <td>[Atom, CLion, Eclipse, IntelliJ, Notepad++, Vi...</td>\n      <td>[Android Studio, IPython/Jupyter, Sublime Text...</td>\n    </tr>\n    <tr>\n      <th>9</th>\n      <td>1</td>\n      <td>[Independent contractor_freelancer_or self-emp...</td>\n      <td>0.444444</td>\n      <td>0.588235</td>\n      <td>[Developer_desktop or enterprise applications,...</td>\n      <td>0.2</td>\n      <td>[Delphi, Java, Swift]</td>\n      <td>[Delphi, Java, Swift]</td>\n      <td>[]</td>\n      <td>[]</td>\n      <td>[DigitalOcean, Firebase]</td>\n      <td>[DigitalOcean, Firebase]</td>\n      <td>[]</td>\n      <td>[]</td>\n      <td>[]</td>\n      <td>[]</td>\n      <td>[]</td>\n      <td>[]</td>\n      <td>[Android Studio, RAD Studio (Delphi_C++ Builde...</td>\n      <td>[Android Studio, RAD Studio (Delphi_C++ Builde...</td>\n    </tr>\n    <tr>\n      <th>...</th>\n      <td>...</td>\n      <td>...</td>\n      <td>...</td>\n      <td>...</td>\n      <td>...</td>\n      <td>...</td>\n      <td>...</td>\n      <td>...</td>\n      <td>...</td>\n      <td>...</td>\n      <td>...</td>\n      <td>...</td>\n      <td>...</td>\n      <td>...</td>\n      <td>...</td>\n      <td>...</td>\n      <td>...</td>\n      <td>...</td>\n      <td>...</td>\n      <td>...</td>\n    </tr>\n    <tr>\n      <th>73263</th>\n      <td>1</td>\n      <td>[Employed_full-time]</td>\n      <td>0.666667</td>\n      <td>0.098039</td>\n      <td>[Developer_back-end]</td>\n      <td>0.6</td>\n      <td>[Bash/Shell, Dart, JavaScript, PHP, Python, SQ...</td>\n      <td>[Bash/Shell, Go, JavaScript, Python, SQL, Type...</td>\n      <td>[Elasticsearch, MySQL, PostgreSQL, Redis]</td>\n      <td>[MySQL, PostgreSQL, Redis]</td>\n      <td>[AWS, DigitalOcean, Google Cloud]</td>\n      <td>[AWS, DigitalOcean, Google Cloud]</td>\n      <td>[Express, FastAPI, Node.js]</td>\n      <td>[Express, FastAPI, Node.js]</td>\n      <td>[Flutter]</td>\n      <td>[]</td>\n      <td>[Docker, Homebrew, Kubernetes, npm]</td>\n      <td>[Docker, Homebrew, Kubernetes, npm]</td>\n      <td>[IPython/Jupyter, Sublime Text, Vim, Visual St...</td>\n      <td>[Sublime Text, Vim, Visual Studio Code]</td>\n    </tr>\n    <tr>\n      <th>73264</th>\n      <td>1</td>\n      <td>[Employed_full-time]</td>\n      <td>0.777778</td>\n      <td>0.098039</td>\n      <td>[Data scientist or machine learning specialist]</td>\n      <td>0.1</td>\n      <td>[Bash/Shell, HTML/CSS, JavaScript, Python, SQL]</td>\n      <td>[HTML/CSS, JavaScript, Python]</td>\n      <td>[Elasticsearch, MongoDB, Oracle, SQLite]</td>\n      <td>[Elasticsearch, Neo4j, SQLite]</td>\n      <td>[]</td>\n      <td>[]</td>\n      <td>[FastAPI, Flask, React.js]</td>\n      <td>[FastAPI, React.js]</td>\n      <td>[Keras, NumPy, Pandas, Scikit-learn, TensorFlo...</td>\n      <td>[NumPy, Pandas, Torch/PyTorch, Hugging Face Tr...</td>\n      <td>[]</td>\n      <td>[]</td>\n      <td>[IPython/Jupyter, Notepad++, Spyder, Vim, Visu...</td>\n      <td>[Notepad++, Spyder, Vim, Visual Studio Code]</td>\n    </tr>\n    <tr>\n      <th>73265</th>\n      <td>0</td>\n      <td>[Employed_full-time]</td>\n      <td>0.666667</td>\n      <td>0.647059</td>\n      <td>[Developer_full-stack, Developer_desktop or en...</td>\n      <td>0.5</td>\n      <td>[HTML/CSS, JavaScript, PHP, Python, SQL]</td>\n      <td>[C#, HTML/CSS, JavaScript, PHP, Python, SQL]</td>\n      <td>[MariaDB, Microsoft SQL Server, MySQL, Postgre...</td>\n      <td>[MariaDB, Microsoft SQL Server, MySQL, Postgre...</td>\n      <td>[Managed Hosting, Microsoft Azure, VMware]</td>\n      <td>[Firebase, Linode, Managed Hosting, Microsoft ...</td>\n      <td>[ASP.NET, React.js]</td>\n      <td>[ASP.NET, ASP.NET Core , Blazor, Laravel, Next...</td>\n      <td>[.NET, Pandas, React Native]</td>\n      <td>[.NET, Cordova, Ionic, Pandas, React Native, X...</td>\n      <td>[npm]</td>\n      <td>[npm, Unreal Engine]</td>\n      <td>[Spyder, Visual Studio, Visual Studio Code]</td>\n      <td>[Spyder, Visual Studio, Visual Studio Code]</td>\n    </tr>\n    <tr>\n      <th>73266</th>\n      <td>1</td>\n      <td>[Employed_full-time]</td>\n      <td>0.666667</td>\n      <td>0.607843</td>\n      <td>[Developer_front-end, Developer_desktop or ent...</td>\n      <td>0.4</td>\n      <td>[C#, Delphi, VBA]</td>\n      <td>[Delphi]</td>\n      <td>[Microsoft SQL Server, MongoDB, Oracle]</td>\n      <td>[]</td>\n      <td>[]</td>\n      <td>[]</td>\n      <td>[]</td>\n      <td>[]</td>\n      <td>[]</td>\n      <td>[]</td>\n      <td>[]</td>\n      <td>[]</td>\n      <td>[RAD Studio (Delphi_C++ Builder), Visual Studio]</td>\n      <td>[RAD Studio (Delphi_C++ Builder), Visual Studio]</td>\n    </tr>\n    <tr>\n      <th>73267</th>\n      <td>1</td>\n      <td>[Independent contractor_freelancer_or self-emp...</td>\n      <td>0.666667</td>\n      <td>0.098039</td>\n      <td>[Developer_front-end, Engineer_data, Engineer_...</td>\n      <td>0.0</td>\n      <td>[C#, JavaScript, Lua, PowerShell, SQL, TypeScr...</td>\n      <td>[PowerShell, Rust, TypeScript]</td>\n      <td>[Microsoft SQL Server, Neo4j, Redis]</td>\n      <td>[Neo4j, Redis]</td>\n      <td>[Microsoft Azure]</td>\n      <td>[AWS, Google Cloud, Microsoft Azure, OpenStack]</td>\n      <td>[ASP.NET Core , Blazor, Node.js, React.js, Sve...</td>\n      <td>[ASP.NET Core , Node.js, Svelte]</td>\n      <td>[Apache Kafka, Apache Spark]</td>\n      <td>[]</td>\n      <td>[Docker, Kubernetes, npm, Pulumi, Terraform]</td>\n      <td>[Docker, Kubernetes, npm, Pulumi, Terraform]</td>\n      <td>[Visual Studio, Visual Studio Code]</td>\n      <td>[Neovim, Visual Studio Code]</td>\n    </tr>\n  </tbody>\n</table>\n<p>60613 rows × 20 columns</p>\n</div>"
     },
     "execution_count": 31,
     "metadata": {},
     "output_type": "execute_result"
    }
   ],
   "source": [
    "survey"
   ],
   "metadata": {
    "collapsed": false
   }
  },
  {
   "cell_type": "code",
   "execution_count": null,
   "outputs": [],
   "source": [],
   "metadata": {
    "collapsed": false
   }
  },
  {
   "cell_type": "markdown",
   "source": [
    "# 4. Encode[Employment, DevType, all the skills columns] by using MultiLabelBinarizer"
   ],
   "metadata": {
    "collapsed": false
   }
  },
  {
   "cell_type": "code",
   "execution_count": 32,
   "outputs": [],
   "source": [
    "encoded_dfs = {}\n",
    "for column in survey.columns:\n",
    "    if survey[column].dtype=='object':\n",
    "        binarizer = MultiLabelBinarizer()\n",
    "        encoded_df = pd.DataFrame(binarizer.fit_transform(survey[column]),\n",
    "                                  columns=binarizer.classes_,\n",
    "                                  index=survey[column].index)\n",
    "        encoded_dfs[column] = encoded_df\n",
    "    else:\n",
    "        encoded_dfs[column] = survey[column]\n"
   ],
   "metadata": {
    "collapsed": false
   }
  },
  {
   "cell_type": "code",
   "execution_count": 33,
   "outputs": [
    {
     "data": {
      "text/plain": "      MainBranch         Employment                     \\\n      MainBranch Employed_full-time Employed_part-time   \n2              0                  1                  0   \n3              1                  1                  0   \n4              1                  1                  0   \n7              1                  0                  0   \n9              1                  0                  0   \n...          ...                ...                ...   \n73263          1                  1                  0   \n73264          1                  1                  0   \n73265          0                  1                  0   \n73266          1                  1                  0   \n73267          1                  0                  0   \n\n                                                          \\\n      Independent contractor_freelancer_or self-employed   \n2                                                      0   \n3                                                      0   \n4                                                      0   \n7                                                      0   \n9                                                      1   \n...                                                  ...   \n73263                                                  0   \n73264                                                  0   \n73265                                                  0   \n73266                                                  0   \n73267                                                  1   \n\n                                                                               \\\n      Not employed_and not looking for work Not employed_but looking for work   \n2                                         0                                 0   \n3                                         0                                 0   \n4                                         0                                 0   \n7                                         0                                 1   \n9                                         0                                 0   \n...                                     ...                               ...   \n73263                                     0                                 0   \n73264                                     0                                 0   \n73265                                     0                                 0   \n73266                                     0                                 0   \n73267                                     0                                 0   \n\n                                                    EdLevel  ...  \\\n      Retired Student_full-time Student_part-time   EdLevel  ...   \n2           0                 0                 0  0.777778  ...   \n3           0                 0                 0  0.666667  ...   \n4           0                 0                 0  0.666667  ...   \n7           0                 0                 0  0.444444  ...   \n9           0                 0                 0  0.444444  ...   \n...       ...               ...               ...       ...  ...   \n73263       0                 0                 0  0.666667  ...   \n73264       0                 0                 0  0.777778  ...   \n73265       0                 0                 0  0.666667  ...   \n73266       0                 0                 0  0.666667  ...   \n73267       0                 0                 0  0.666667  ...   \n\n      NEWCollabToolsWantToWorkWith                                            \\\n                             Rider RubyMine Spyder Sublime Text TextMate Vim   \n2                                0        0      0            0        0   0   \n3                                0        0      0            0        0   0   \n4                                1        0      0            0        0   0   \n7                                0        0      0            1        0   1   \n9                                0        0      0            0        0   0   \n...                            ...      ...    ...          ...      ...  ..   \n73263                            0        0      0            1        0   1   \n73264                            0        0      1            0        0   1   \n73265                            0        0      1            0        0   0   \n73266                            0        0      0            0        0   0   \n73267                            0        0      0            0        0   0   \n\n                                                       \n      Visual Studio Visual Studio Code Webstorm Xcode  \n2                 1                  0        0     0  \n3                 1                  1        0     0  \n4                 1                  1        0     0  \n7                 0                  1        0     0  \n9                 0                  1        0     1  \n...             ...                ...      ...   ...  \n73263             0                  1        0     0  \n73264             0                  1        0     0  \n73265             1                  1        0     0  \n73266             1                  0        0     0  \n73267             0                  1        0     0  \n\n[60613 rows x 363 columns]",
      "text/html": "<div>\n<style scoped>\n    .dataframe tbody tr th:only-of-type {\n        vertical-align: middle;\n    }\n\n    .dataframe tbody tr th {\n        vertical-align: top;\n    }\n\n    .dataframe thead tr th {\n        text-align: left;\n    }\n</style>\n<table border=\"1\" class=\"dataframe\">\n  <thead>\n    <tr>\n      <th></th>\n      <th>MainBranch</th>\n      <th colspan=\"8\" halign=\"left\">Employment</th>\n      <th>EdLevel</th>\n      <th>...</th>\n      <th colspan=\"10\" halign=\"left\">NEWCollabToolsWantToWorkWith</th>\n    </tr>\n    <tr>\n      <th></th>\n      <th>MainBranch</th>\n      <th>Employed_full-time</th>\n      <th>Employed_part-time</th>\n      <th>Independent contractor_freelancer_or self-employed</th>\n      <th>Not employed_and not looking for work</th>\n      <th>Not employed_but looking for work</th>\n      <th>Retired</th>\n      <th>Student_full-time</th>\n      <th>Student_part-time</th>\n      <th>EdLevel</th>\n      <th>...</th>\n      <th>Rider</th>\n      <th>RubyMine</th>\n      <th>Spyder</th>\n      <th>Sublime Text</th>\n      <th>TextMate</th>\n      <th>Vim</th>\n      <th>Visual Studio</th>\n      <th>Visual Studio Code</th>\n      <th>Webstorm</th>\n      <th>Xcode</th>\n    </tr>\n  </thead>\n  <tbody>\n    <tr>\n      <th>2</th>\n      <td>0</td>\n      <td>1</td>\n      <td>0</td>\n      <td>0</td>\n      <td>0</td>\n      <td>0</td>\n      <td>0</td>\n      <td>0</td>\n      <td>0</td>\n      <td>0.777778</td>\n      <td>...</td>\n      <td>0</td>\n      <td>0</td>\n      <td>0</td>\n      <td>0</td>\n      <td>0</td>\n      <td>0</td>\n      <td>1</td>\n      <td>0</td>\n      <td>0</td>\n      <td>0</td>\n    </tr>\n    <tr>\n      <th>3</th>\n      <td>1</td>\n      <td>1</td>\n      <td>0</td>\n      <td>0</td>\n      <td>0</td>\n      <td>0</td>\n      <td>0</td>\n      <td>0</td>\n      <td>0</td>\n      <td>0.666667</td>\n      <td>...</td>\n      <td>0</td>\n      <td>0</td>\n      <td>0</td>\n      <td>0</td>\n      <td>0</td>\n      <td>0</td>\n      <td>1</td>\n      <td>1</td>\n      <td>0</td>\n      <td>0</td>\n    </tr>\n    <tr>\n      <th>4</th>\n      <td>1</td>\n      <td>1</td>\n      <td>0</td>\n      <td>0</td>\n      <td>0</td>\n      <td>0</td>\n      <td>0</td>\n      <td>0</td>\n      <td>0</td>\n      <td>0.666667</td>\n      <td>...</td>\n      <td>1</td>\n      <td>0</td>\n      <td>0</td>\n      <td>0</td>\n      <td>0</td>\n      <td>0</td>\n      <td>1</td>\n      <td>1</td>\n      <td>0</td>\n      <td>0</td>\n    </tr>\n    <tr>\n      <th>7</th>\n      <td>1</td>\n      <td>0</td>\n      <td>0</td>\n      <td>0</td>\n      <td>0</td>\n      <td>1</td>\n      <td>0</td>\n      <td>0</td>\n      <td>0</td>\n      <td>0.444444</td>\n      <td>...</td>\n      <td>0</td>\n      <td>0</td>\n      <td>0</td>\n      <td>1</td>\n      <td>0</td>\n      <td>1</td>\n      <td>0</td>\n      <td>1</td>\n      <td>0</td>\n      <td>0</td>\n    </tr>\n    <tr>\n      <th>9</th>\n      <td>1</td>\n      <td>0</td>\n      <td>0</td>\n      <td>1</td>\n      <td>0</td>\n      <td>0</td>\n      <td>0</td>\n      <td>0</td>\n      <td>0</td>\n      <td>0.444444</td>\n      <td>...</td>\n      <td>0</td>\n      <td>0</td>\n      <td>0</td>\n      <td>0</td>\n      <td>0</td>\n      <td>0</td>\n      <td>0</td>\n      <td>1</td>\n      <td>0</td>\n      <td>1</td>\n    </tr>\n    <tr>\n      <th>...</th>\n      <td>...</td>\n      <td>...</td>\n      <td>...</td>\n      <td>...</td>\n      <td>...</td>\n      <td>...</td>\n      <td>...</td>\n      <td>...</td>\n      <td>...</td>\n      <td>...</td>\n      <td>...</td>\n      <td>...</td>\n      <td>...</td>\n      <td>...</td>\n      <td>...</td>\n      <td>...</td>\n      <td>...</td>\n      <td>...</td>\n      <td>...</td>\n      <td>...</td>\n      <td>...</td>\n    </tr>\n    <tr>\n      <th>73263</th>\n      <td>1</td>\n      <td>1</td>\n      <td>0</td>\n      <td>0</td>\n      <td>0</td>\n      <td>0</td>\n      <td>0</td>\n      <td>0</td>\n      <td>0</td>\n      <td>0.666667</td>\n      <td>...</td>\n      <td>0</td>\n      <td>0</td>\n      <td>0</td>\n      <td>1</td>\n      <td>0</td>\n      <td>1</td>\n      <td>0</td>\n      <td>1</td>\n      <td>0</td>\n      <td>0</td>\n    </tr>\n    <tr>\n      <th>73264</th>\n      <td>1</td>\n      <td>1</td>\n      <td>0</td>\n      <td>0</td>\n      <td>0</td>\n      <td>0</td>\n      <td>0</td>\n      <td>0</td>\n      <td>0</td>\n      <td>0.777778</td>\n      <td>...</td>\n      <td>0</td>\n      <td>0</td>\n      <td>1</td>\n      <td>0</td>\n      <td>0</td>\n      <td>1</td>\n      <td>0</td>\n      <td>1</td>\n      <td>0</td>\n      <td>0</td>\n    </tr>\n    <tr>\n      <th>73265</th>\n      <td>0</td>\n      <td>1</td>\n      <td>0</td>\n      <td>0</td>\n      <td>0</td>\n      <td>0</td>\n      <td>0</td>\n      <td>0</td>\n      <td>0</td>\n      <td>0.666667</td>\n      <td>...</td>\n      <td>0</td>\n      <td>0</td>\n      <td>1</td>\n      <td>0</td>\n      <td>0</td>\n      <td>0</td>\n      <td>1</td>\n      <td>1</td>\n      <td>0</td>\n      <td>0</td>\n    </tr>\n    <tr>\n      <th>73266</th>\n      <td>1</td>\n      <td>1</td>\n      <td>0</td>\n      <td>0</td>\n      <td>0</td>\n      <td>0</td>\n      <td>0</td>\n      <td>0</td>\n      <td>0</td>\n      <td>0.666667</td>\n      <td>...</td>\n      <td>0</td>\n      <td>0</td>\n      <td>0</td>\n      <td>0</td>\n      <td>0</td>\n      <td>0</td>\n      <td>1</td>\n      <td>0</td>\n      <td>0</td>\n      <td>0</td>\n    </tr>\n    <tr>\n      <th>73267</th>\n      <td>1</td>\n      <td>0</td>\n      <td>0</td>\n      <td>1</td>\n      <td>0</td>\n      <td>0</td>\n      <td>0</td>\n      <td>0</td>\n      <td>0</td>\n      <td>0.666667</td>\n      <td>...</td>\n      <td>0</td>\n      <td>0</td>\n      <td>0</td>\n      <td>0</td>\n      <td>0</td>\n      <td>0</td>\n      <td>0</td>\n      <td>1</td>\n      <td>0</td>\n      <td>0</td>\n    </tr>\n  </tbody>\n</table>\n<p>60613 rows × 363 columns</p>\n</div>"
     },
     "execution_count": 33,
     "metadata": {},
     "output_type": "execute_result"
    }
   ],
   "source": [
    "survey = pd.concat(encoded_dfs, axis=1)\n",
    "survey"
   ],
   "metadata": {
    "collapsed": false
   }
  },
  {
   "cell_type": "code",
   "execution_count": 34,
   "outputs": [],
   "source": [],
   "metadata": {
    "collapsed": false
   }
  },
  {
   "cell_type": "code",
   "execution_count": 34,
   "outputs": [
    {
     "data": {
      "text/plain": "       Academic researcher  Blockchain  Cloud infrastructure engineer  \\\n2                        0           0                              0   \n3                        0           0                              0   \n4                        0           0                              0   \n7                        0           0                              0   \n9                        0           0                              0   \n...                    ...         ...                            ...   \n73263                    0           0                              0   \n73264                    0           0                              0   \n73265                    0           0                              0   \n73266                    0           0                              0   \n73267                    1           0                              1   \n\n       Data or business analyst  \\\n2                             0   \n3                             0   \n4                             0   \n7                             0   \n9                             0   \n...                         ...   \n73263                         0   \n73264                         0   \n73265                         0   \n73266                         0   \n73267                         1   \n\n       Data scientist or machine learning specialist  Database administrator  \\\n2                                                  1                       0   \n3                                                  0                       0   \n4                                                  0                       0   \n7                                                  0                       0   \n9                                                  0                       0   \n...                                              ...                     ...   \n73263                                              0                       0   \n73264                                              1                       0   \n73265                                              0                       0   \n73266                                              0                       0   \n73267                                              0                       0   \n\n       Designer  DevOps specialist  Developer_QA or test  Developer_back-end  \\\n2             0                  0                     0                   0   \n3             0                  0                     0                   0   \n4             0                  0                     1                   1   \n7             0                  0                     0                   0   \n9             0                  0                     0                   0   \n...         ...                ...                   ...                 ...   \n73263         0                  0                     0                   1   \n73264         0                  0                     0                   0   \n73265         0                  0                     0                   0   \n73266         0                  0                     0                   0   \n73267         1                  1                     1                   1   \n\n       ...  Engineering manager  Marketing or sales professional  \\\n2      ...                    0                                0   \n3      ...                    0                                0   \n4      ...                    0                                0   \n7      ...                    0                                0   \n9      ...                    0                                0   \n...    ...                  ...                              ...   \n73263  ...                    0                                0   \n73264  ...                    0                                0   \n73265  ...                    0                                0   \n73266  ...                    0                                0   \n73267  ...                    0                                0   \n\n       Other (please specify):  Product manager  Project manager  Scientist  \\\n2                            0                0                0          0   \n3                            0                0                0          0   \n4                            0                0                0          0   \n7                            0                0                0          0   \n9                            0                0                0          0   \n...                        ...              ...              ...        ...   \n73263                        0                0                0          0   \n73264                        0                0                0          0   \n73265                        0                0                0          0   \n73266                        0                0                0          0   \n73267                        0                1                0          1   \n\n       Security professional  Senior Executive (C-Suite_VP_etc.)  Student  \\\n2                          0                                   0        0   \n3                          0                                   0        0   \n4                          0                                   0        0   \n7                          0                                   0        1   \n9                          0                                   0        0   \n...                      ...                                 ...      ...   \n73263                      0                                   0        0   \n73264                      0                                   0        0   \n73265                      0                                   0        0   \n73266                      0                                   0        0   \n73267                      0                                   0        1   \n\n       System administrator  \n2                         0  \n3                         0  \n4                         0  \n7                         0  \n9                         0  \n...                     ...  \n73263                     0  \n73264                     0  \n73265                     1  \n73266                     0  \n73267                     1  \n\n[60613 rows x 29 columns]",
      "text/html": "<div>\n<style scoped>\n    .dataframe tbody tr th:only-of-type {\n        vertical-align: middle;\n    }\n\n    .dataframe tbody tr th {\n        vertical-align: top;\n    }\n\n    .dataframe thead th {\n        text-align: right;\n    }\n</style>\n<table border=\"1\" class=\"dataframe\">\n  <thead>\n    <tr style=\"text-align: right;\">\n      <th></th>\n      <th>Academic researcher</th>\n      <th>Blockchain</th>\n      <th>Cloud infrastructure engineer</th>\n      <th>Data or business analyst</th>\n      <th>Data scientist or machine learning specialist</th>\n      <th>Database administrator</th>\n      <th>Designer</th>\n      <th>DevOps specialist</th>\n      <th>Developer_QA or test</th>\n      <th>Developer_back-end</th>\n      <th>...</th>\n      <th>Engineering manager</th>\n      <th>Marketing or sales professional</th>\n      <th>Other (please specify):</th>\n      <th>Product manager</th>\n      <th>Project manager</th>\n      <th>Scientist</th>\n      <th>Security professional</th>\n      <th>Senior Executive (C-Suite_VP_etc.)</th>\n      <th>Student</th>\n      <th>System administrator</th>\n    </tr>\n  </thead>\n  <tbody>\n    <tr>\n      <th>2</th>\n      <td>0</td>\n      <td>0</td>\n      <td>0</td>\n      <td>0</td>\n      <td>1</td>\n      <td>0</td>\n      <td>0</td>\n      <td>0</td>\n      <td>0</td>\n      <td>0</td>\n      <td>...</td>\n      <td>0</td>\n      <td>0</td>\n      <td>0</td>\n      <td>0</td>\n      <td>0</td>\n      <td>0</td>\n      <td>0</td>\n      <td>0</td>\n      <td>0</td>\n      <td>0</td>\n    </tr>\n    <tr>\n      <th>3</th>\n      <td>0</td>\n      <td>0</td>\n      <td>0</td>\n      <td>0</td>\n      <td>0</td>\n      <td>0</td>\n      <td>0</td>\n      <td>0</td>\n      <td>0</td>\n      <td>0</td>\n      <td>...</td>\n      <td>0</td>\n      <td>0</td>\n      <td>0</td>\n      <td>0</td>\n      <td>0</td>\n      <td>0</td>\n      <td>0</td>\n      <td>0</td>\n      <td>0</td>\n      <td>0</td>\n    </tr>\n    <tr>\n      <th>4</th>\n      <td>0</td>\n      <td>0</td>\n      <td>0</td>\n      <td>0</td>\n      <td>0</td>\n      <td>0</td>\n      <td>0</td>\n      <td>0</td>\n      <td>1</td>\n      <td>1</td>\n      <td>...</td>\n      <td>0</td>\n      <td>0</td>\n      <td>0</td>\n      <td>0</td>\n      <td>0</td>\n      <td>0</td>\n      <td>0</td>\n      <td>0</td>\n      <td>0</td>\n      <td>0</td>\n    </tr>\n    <tr>\n      <th>7</th>\n      <td>0</td>\n      <td>0</td>\n      <td>0</td>\n      <td>0</td>\n      <td>0</td>\n      <td>0</td>\n      <td>0</td>\n      <td>0</td>\n      <td>0</td>\n      <td>0</td>\n      <td>...</td>\n      <td>0</td>\n      <td>0</td>\n      <td>0</td>\n      <td>0</td>\n      <td>0</td>\n      <td>0</td>\n      <td>0</td>\n      <td>0</td>\n      <td>1</td>\n      <td>0</td>\n    </tr>\n    <tr>\n      <th>9</th>\n      <td>0</td>\n      <td>0</td>\n      <td>0</td>\n      <td>0</td>\n      <td>0</td>\n      <td>0</td>\n      <td>0</td>\n      <td>0</td>\n      <td>0</td>\n      <td>0</td>\n      <td>...</td>\n      <td>0</td>\n      <td>0</td>\n      <td>0</td>\n      <td>0</td>\n      <td>0</td>\n      <td>0</td>\n      <td>0</td>\n      <td>0</td>\n      <td>0</td>\n      <td>0</td>\n    </tr>\n    <tr>\n      <th>...</th>\n      <td>...</td>\n      <td>...</td>\n      <td>...</td>\n      <td>...</td>\n      <td>...</td>\n      <td>...</td>\n      <td>...</td>\n      <td>...</td>\n      <td>...</td>\n      <td>...</td>\n      <td>...</td>\n      <td>...</td>\n      <td>...</td>\n      <td>...</td>\n      <td>...</td>\n      <td>...</td>\n      <td>...</td>\n      <td>...</td>\n      <td>...</td>\n      <td>...</td>\n      <td>...</td>\n    </tr>\n    <tr>\n      <th>73263</th>\n      <td>0</td>\n      <td>0</td>\n      <td>0</td>\n      <td>0</td>\n      <td>0</td>\n      <td>0</td>\n      <td>0</td>\n      <td>0</td>\n      <td>0</td>\n      <td>1</td>\n      <td>...</td>\n      <td>0</td>\n      <td>0</td>\n      <td>0</td>\n      <td>0</td>\n      <td>0</td>\n      <td>0</td>\n      <td>0</td>\n      <td>0</td>\n      <td>0</td>\n      <td>0</td>\n    </tr>\n    <tr>\n      <th>73264</th>\n      <td>0</td>\n      <td>0</td>\n      <td>0</td>\n      <td>0</td>\n      <td>1</td>\n      <td>0</td>\n      <td>0</td>\n      <td>0</td>\n      <td>0</td>\n      <td>0</td>\n      <td>...</td>\n      <td>0</td>\n      <td>0</td>\n      <td>0</td>\n      <td>0</td>\n      <td>0</td>\n      <td>0</td>\n      <td>0</td>\n      <td>0</td>\n      <td>0</td>\n      <td>0</td>\n    </tr>\n    <tr>\n      <th>73265</th>\n      <td>0</td>\n      <td>0</td>\n      <td>0</td>\n      <td>0</td>\n      <td>0</td>\n      <td>0</td>\n      <td>0</td>\n      <td>0</td>\n      <td>0</td>\n      <td>0</td>\n      <td>...</td>\n      <td>0</td>\n      <td>0</td>\n      <td>0</td>\n      <td>0</td>\n      <td>0</td>\n      <td>0</td>\n      <td>0</td>\n      <td>0</td>\n      <td>0</td>\n      <td>1</td>\n    </tr>\n    <tr>\n      <th>73266</th>\n      <td>0</td>\n      <td>0</td>\n      <td>0</td>\n      <td>0</td>\n      <td>0</td>\n      <td>0</td>\n      <td>0</td>\n      <td>0</td>\n      <td>0</td>\n      <td>0</td>\n      <td>...</td>\n      <td>0</td>\n      <td>0</td>\n      <td>0</td>\n      <td>0</td>\n      <td>0</td>\n      <td>0</td>\n      <td>0</td>\n      <td>0</td>\n      <td>0</td>\n      <td>0</td>\n    </tr>\n    <tr>\n      <th>73267</th>\n      <td>1</td>\n      <td>0</td>\n      <td>1</td>\n      <td>1</td>\n      <td>0</td>\n      <td>0</td>\n      <td>1</td>\n      <td>1</td>\n      <td>1</td>\n      <td>1</td>\n      <td>...</td>\n      <td>0</td>\n      <td>0</td>\n      <td>0</td>\n      <td>1</td>\n      <td>0</td>\n      <td>1</td>\n      <td>0</td>\n      <td>0</td>\n      <td>1</td>\n      <td>1</td>\n    </tr>\n  </tbody>\n</table>\n<p>60613 rows × 29 columns</p>\n</div>"
     },
     "execution_count": 34,
     "metadata": {},
     "output_type": "execute_result"
    }
   ],
   "source": [
    "survey['DevType']"
   ],
   "metadata": {
    "collapsed": false
   }
  },
  {
   "cell_type": "code",
   "execution_count": null,
   "outputs": [],
   "source": [],
   "metadata": {
    "collapsed": false
   }
  },
  {
   "cell_type": "code",
   "execution_count": 36,
   "outputs": [],
   "source": [
    "survey.to_pickle(LOAD_PATH + SAVE_DF_NAME_RECOMMENDATION)"
   ],
   "metadata": {
    "collapsed": false
   }
  },
  {
   "cell_type": "code",
   "execution_count": null,
   "outputs": [],
   "source": [],
   "metadata": {
    "collapsed": false
   }
  }
 ],
 "metadata": {
  "kernelspec": {
   "name": "rec-skills",
   "language": "python",
   "display_name": "Rec-skills"
  },
  "language_info": {
   "codemirror_mode": {
    "name": "ipython",
    "version": 2
   },
   "file_extension": ".py",
   "mimetype": "text/x-python",
   "name": "python",
   "nbconvert_exporter": "python",
   "pygments_lexer": "ipython2",
   "version": "2.7.6"
  }
 },
 "nbformat": 4,
 "nbformat_minor": 0
}
