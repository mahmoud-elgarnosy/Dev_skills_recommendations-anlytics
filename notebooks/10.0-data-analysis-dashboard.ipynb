{
 "cells": [
  {
   "cell_type": "code",
   "execution_count": 11,
   "metadata": {
    "collapsed": true
   },
   "outputs": [],
   "source": [
    "import sys\n",
    "import os\n",
    "\n",
    "SCRIPT_DIR = os.path.dirname(os.path.abspath('src'))\n",
    "sys.path.append(os.path.dirname(SCRIPT_DIR))"
   ]
  },
  {
   "cell_type": "code",
   "execution_count": 129,
   "outputs": [],
   "source": [
    "import pickle\n",
    "import pandas as pd\n",
    "from sklearn.preprocessing import MultiLabelBinarizer\n",
    "import plotly.express as px\n",
    "import plotly.figure_factory as ff\n",
    "import plotly.graph_objects as go\n",
    "import numpy as np"
   ],
   "metadata": {
    "collapsed": false
   }
  },
  {
   "cell_type": "code",
   "execution_count": 5,
   "outputs": [],
   "source": [
    "LOAD_PATH = '../data/interim/'\n",
    "LOAD_ANALYSIS_DF = '4.0-preprocessed-data-analysation.pkl'\n",
    "LOAD_SKILLS_DEV = '7.0-Chosen_features_and_roles.pkl'"
   ],
   "metadata": {
    "collapsed": false
   }
  },
  {
   "cell_type": "code",
   "execution_count": 6,
   "outputs": [],
   "source": [
    "survey = pd.read_pickle(LOAD_PATH + LOAD_ANALYSIS_DF)\n",
    "skills_dev_df = pd.read_pickle(LOAD_PATH + LOAD_SKILLS_DEV)"
   ],
   "metadata": {
    "collapsed": false
   }
  },
  {
   "cell_type": "code",
   "execution_count": 7,
   "outputs": [],
   "source": [
    "with open(LOAD_PATH + 'chosen_columns.pkl', 'rb') as f:\n",
    "    chosen_columns = pickle.load(f)\n",
    "survey = survey[chosen_columns['analysis']]\n"
   ],
   "metadata": {
    "collapsed": false
   }
  },
  {
   "cell_type": "code",
   "execution_count": 8,
   "outputs": [
    {
     "data": {
      "text/plain": "       MainBranch                                         Employment  \\\n2               0                               [Employed_full-time]   \n3               1                               [Employed_full-time]   \n7               1                [Not employed_but looking for work]   \n9               1  [Independent contractor_freelancer_or self-emp...   \n10              1                               [Employed_full-time]   \n...           ...                                                ...   \n73262           0            [Student_full-time, Employed_part-time]   \n73263           1                               [Employed_full-time]   \n73264           1                               [Employed_full-time]   \n73265           0                               [Employed_full-time]   \n73266           1                               [Employed_full-time]   \n\n                                 RemoteWork  \\\n2      Hybrid (some remote, some in-person)   \n3                              Fully remote   \n7                                       NaN   \n9                              Fully remote   \n10     Hybrid (some remote, some in-person)   \n...                                     ...   \n73262  Hybrid (some remote, some in-person)   \n73263                          Fully remote   \n73264                        Full in-person   \n73265  Hybrid (some remote, some in-person)   \n73266  Hybrid (some remote, some in-person)   \n\n                                                 EdLevel  YearsCode  \\\n2        Master’s degree (M.A., M.S., M.Eng., MBA, etc.)         14   \n3           Bachelor’s degree (B.A., B.S., B.Eng., etc.)         20   \n7      Some college/university study without earning ...          1   \n9      Some college/university study without earning ...         37   \n10          Bachelor’s degree (B.A., B.S., B.Eng., etc.)          5   \n...                                                  ...        ...   \n73262  Secondary school (e.g. American high school, G...          4   \n73263       Bachelor’s degree (B.A., B.S., B.Eng., etc.)          8   \n73264    Master’s degree (M.A., M.S., M.Eng., MBA, etc.)          6   \n73265       Bachelor’s degree (B.A., B.S., B.Eng., etc.)         42   \n73266       Bachelor’s degree (B.A., B.S., B.Eng., etc.)         50   \n\n       YearsCodePro                                            DevType  \\\n2                 5  [Data scientist or machine learning specialist...   \n3                17                             [Developer_full-stack]   \n7                 0                    [Developer_full-stack, Student]   \n9                30  [Developer_desktop or enterprise applications,...   \n10                2         [Developer_full-stack, Developer_back-end]   \n...             ...                                                ...   \n73262             0                     [Developer_front-end, Student]   \n73263             5                               [Developer_back-end]   \n73264             5    [Data scientist or machine learning specialist]   \n73265            33  [Developer_full-stack, Developer_desktop or en...   \n73266            31  [Developer_front-end, Developer_desktop or ent...   \n\n                                                 OrgSize  \\\n2                                     20 to 99 employees   \n3                                   100 to 499 employees   \n7                                                    NaN   \n9      Just me - I am a freelancer, sole proprietor, ...   \n10                                  100 to 499 employees   \n...                                                  ...   \n73262                                                NaN   \n73263                               100 to 499 employees   \n73264                                       I don’t know   \n73265                                 20 to 99 employees   \n73266                                 10 to 19 employees   \n\n                                                 Country  CompTotal  ...  \\\n2      United Kingdom of Great Britain and Northern I...    32000.0  ...   \n3                                                 Israel    60000.0  ...   \n7                                                  India        NaN  ...   \n9                                                Croatia        NaN  ...   \n10     United Kingdom of Great Britain and Northern I...    48000.0  ...   \n...                                                  ...        ...  ...   \n73262                                            Germany        NaN  ...   \n73263                                            Nigeria    60000.0  ...   \n73264                           United States of America   107000.0  ...   \n73265                           United States of America        NaN  ...   \n73266  United Kingdom of Great Britain and Northern I...    58500.0  ...   \n\n                                  MiscTechHaveWorkedWith  \\\n2                                               [Pandas]   \n3                                                 [.NET]   \n7                                                     []   \n9                                                     []   \n10                                                [.NET]   \n...                                                  ...   \n73262                                                 []   \n73263                                          [Flutter]   \n73264  [Keras, NumPy, Pandas, Scikit-learn, TensorFlo...   \n73265                       [.NET, Pandas, React Native]   \n73266                                                 []   \n\n                                  MiscTechWantToWorkWith  \\\n2                                                 [.NET]   \n3                                                 [.NET]   \n7                                                     []   \n9                                                     []   \n10                                                    []   \n...                                                  ...   \n73262                                                 []   \n73263                                                 []   \n73264  [NumPy, Pandas, Torch/PyTorch, Hugging Face Tr...   \n73265  [.NET, Cordova, Ionic, Pandas, React Native, X...   \n73266                                                 []   \n\n                   ToolsTechHaveWorkedWith  \\\n2                                       []   \n3                                       []   \n7                                    [npm]   \n9                                       []   \n10                [Docker, npm, Terraform]   \n...                                    ...   \n73262                                [npm]   \n73263  [Docker, Homebrew, Kubernetes, npm]   \n73264                                   []   \n73265                                [npm]   \n73266                                   []   \n\n                   ToolsTechWantToWorkWith  \\\n2                                       []   \n3                                       []   \n7                         [Unity 3D, Yarn]   \n9                                       []   \n10                     [Docker, Terraform]   \n...                                    ...   \n73262                                   []   \n73263  [Docker, Homebrew, Kubernetes, npm]   \n73264                                   []   \n73265                 [npm, Unreal Engine]   \n73266                                   []   \n\n                            NEWCollabToolsHaveWorkedWith  \\\n2                             [Notepad++, Visual Studio]   \n3         [Notepad++, Visual Studio, Visual Studio Code]   \n7      [Atom, CLion, Eclipse, IntelliJ, Notepad++, Vi...   \n9      [Android Studio, RAD Studio (Delphi_C++ Builde...   \n10            [Rider, Visual Studio, Visual Studio Code]   \n...                                                  ...   \n73262                      [Eclipse, Visual Studio Code]   \n73263  [IPython/Jupyter, Sublime Text, Vim, Visual St...   \n73264  [IPython/Jupyter, Notepad++, Spyder, Vim, Visu...   \n73265        [Spyder, Visual Studio, Visual Studio Code]   \n73266   [RAD Studio (Delphi_C++ Builder), Visual Studio]   \n\n                            NEWCollabToolsWantToWorkWith  \\\n2                             [Notepad++, Visual Studio]   \n3         [Notepad++, Visual Studio, Visual Studio Code]   \n7      [Android Studio, IPython/Jupyter, Sublime Text...   \n9      [Android Studio, RAD Studio (Delphi_C++ Builde...   \n10                           [Rider, Visual Studio Code]   \n...                                                  ...   \n73262               [Android Studio, Visual Studio Code]   \n73263            [Sublime Text, Vim, Visual Studio Code]   \n73264       [Notepad++, Spyder, Vim, Visual Studio Code]   \n73265        [Spyder, Visual Studio, Visual Studio Code]   \n73266   [RAD Studio (Delphi_C++ Builder), Visual Studio]   \n\n                              OpSysProfessional use VersionControlSystem  \\\n2                                         [Windows]                [Git]   \n3                                         [Windows]                [Git]   \n7                              [Linux-based, macOS]                [Git]   \n9                                         [Windows]                [Git]   \n10     [Windows, Windows Subsystem for Linux (WSL)]                [Git]   \n...                                             ...                  ...   \n73262                                            []                [Git]   \n73263                                       [macOS]                [Git]   \n73264                        [Linux-based, Windows]                [Git]   \n73265                                     [Windows]                [Git]   \n73266                                     [Windows]                [SVN]   \n\n                   Age   Gender  \n2      25-34 years old    [Man]  \n3      35-44 years old    [Man]  \n7      18-24 years old    [Man]  \n9      45-54 years old  [Woman]  \n10     18-24 years old    [Man]  \n...                ...      ...  \n73262  18-24 years old    [Man]  \n73263  25-34 years old    [Man]  \n73264  25-34 years old    [Man]  \n73265  55-64 years old    [Man]  \n73266  55-64 years old    [Man]  \n\n[50423 rows x 29 columns]",
      "text/html": "<div>\n<style scoped>\n    .dataframe tbody tr th:only-of-type {\n        vertical-align: middle;\n    }\n\n    .dataframe tbody tr th {\n        vertical-align: top;\n    }\n\n    .dataframe thead th {\n        text-align: right;\n    }\n</style>\n<table border=\"1\" class=\"dataframe\">\n  <thead>\n    <tr style=\"text-align: right;\">\n      <th></th>\n      <th>MainBranch</th>\n      <th>Employment</th>\n      <th>RemoteWork</th>\n      <th>EdLevel</th>\n      <th>YearsCode</th>\n      <th>YearsCodePro</th>\n      <th>DevType</th>\n      <th>OrgSize</th>\n      <th>Country</th>\n      <th>CompTotal</th>\n      <th>...</th>\n      <th>MiscTechHaveWorkedWith</th>\n      <th>MiscTechWantToWorkWith</th>\n      <th>ToolsTechHaveWorkedWith</th>\n      <th>ToolsTechWantToWorkWith</th>\n      <th>NEWCollabToolsHaveWorkedWith</th>\n      <th>NEWCollabToolsWantToWorkWith</th>\n      <th>OpSysProfessional use</th>\n      <th>VersionControlSystem</th>\n      <th>Age</th>\n      <th>Gender</th>\n    </tr>\n  </thead>\n  <tbody>\n    <tr>\n      <th>2</th>\n      <td>0</td>\n      <td>[Employed_full-time]</td>\n      <td>Hybrid (some remote, some in-person)</td>\n      <td>Master’s degree (M.A., M.S., M.Eng., MBA, etc.)</td>\n      <td>14</td>\n      <td>5</td>\n      <td>[Data scientist or machine learning specialist...</td>\n      <td>20 to 99 employees</td>\n      <td>United Kingdom of Great Britain and Northern I...</td>\n      <td>32000.0</td>\n      <td>...</td>\n      <td>[Pandas]</td>\n      <td>[.NET]</td>\n      <td>[]</td>\n      <td>[]</td>\n      <td>[Notepad++, Visual Studio]</td>\n      <td>[Notepad++, Visual Studio]</td>\n      <td>[Windows]</td>\n      <td>[Git]</td>\n      <td>25-34 years old</td>\n      <td>[Man]</td>\n    </tr>\n    <tr>\n      <th>3</th>\n      <td>1</td>\n      <td>[Employed_full-time]</td>\n      <td>Fully remote</td>\n      <td>Bachelor’s degree (B.A., B.S., B.Eng., etc.)</td>\n      <td>20</td>\n      <td>17</td>\n      <td>[Developer_full-stack]</td>\n      <td>100 to 499 employees</td>\n      <td>Israel</td>\n      <td>60000.0</td>\n      <td>...</td>\n      <td>[.NET]</td>\n      <td>[.NET]</td>\n      <td>[]</td>\n      <td>[]</td>\n      <td>[Notepad++, Visual Studio, Visual Studio Code]</td>\n      <td>[Notepad++, Visual Studio, Visual Studio Code]</td>\n      <td>[Windows]</td>\n      <td>[Git]</td>\n      <td>35-44 years old</td>\n      <td>[Man]</td>\n    </tr>\n    <tr>\n      <th>7</th>\n      <td>1</td>\n      <td>[Not employed_but looking for work]</td>\n      <td>NaN</td>\n      <td>Some college/university study without earning ...</td>\n      <td>1</td>\n      <td>0</td>\n      <td>[Developer_full-stack, Student]</td>\n      <td>NaN</td>\n      <td>India</td>\n      <td>NaN</td>\n      <td>...</td>\n      <td>[]</td>\n      <td>[]</td>\n      <td>[npm]</td>\n      <td>[Unity 3D, Yarn]</td>\n      <td>[Atom, CLion, Eclipse, IntelliJ, Notepad++, Vi...</td>\n      <td>[Android Studio, IPython/Jupyter, Sublime Text...</td>\n      <td>[Linux-based, macOS]</td>\n      <td>[Git]</td>\n      <td>18-24 years old</td>\n      <td>[Man]</td>\n    </tr>\n    <tr>\n      <th>9</th>\n      <td>1</td>\n      <td>[Independent contractor_freelancer_or self-emp...</td>\n      <td>Fully remote</td>\n      <td>Some college/university study without earning ...</td>\n      <td>37</td>\n      <td>30</td>\n      <td>[Developer_desktop or enterprise applications,...</td>\n      <td>Just me - I am a freelancer, sole proprietor, ...</td>\n      <td>Croatia</td>\n      <td>NaN</td>\n      <td>...</td>\n      <td>[]</td>\n      <td>[]</td>\n      <td>[]</td>\n      <td>[]</td>\n      <td>[Android Studio, RAD Studio (Delphi_C++ Builde...</td>\n      <td>[Android Studio, RAD Studio (Delphi_C++ Builde...</td>\n      <td>[Windows]</td>\n      <td>[Git]</td>\n      <td>45-54 years old</td>\n      <td>[Woman]</td>\n    </tr>\n    <tr>\n      <th>10</th>\n      <td>1</td>\n      <td>[Employed_full-time]</td>\n      <td>Hybrid (some remote, some in-person)</td>\n      <td>Bachelor’s degree (B.A., B.S., B.Eng., etc.)</td>\n      <td>5</td>\n      <td>2</td>\n      <td>[Developer_full-stack, Developer_back-end]</td>\n      <td>100 to 499 employees</td>\n      <td>United Kingdom of Great Britain and Northern I...</td>\n      <td>48000.0</td>\n      <td>...</td>\n      <td>[.NET]</td>\n      <td>[]</td>\n      <td>[Docker, npm, Terraform]</td>\n      <td>[Docker, Terraform]</td>\n      <td>[Rider, Visual Studio, Visual Studio Code]</td>\n      <td>[Rider, Visual Studio Code]</td>\n      <td>[Windows, Windows Subsystem for Linux (WSL)]</td>\n      <td>[Git]</td>\n      <td>18-24 years old</td>\n      <td>[Man]</td>\n    </tr>\n    <tr>\n      <th>...</th>\n      <td>...</td>\n      <td>...</td>\n      <td>...</td>\n      <td>...</td>\n      <td>...</td>\n      <td>...</td>\n      <td>...</td>\n      <td>...</td>\n      <td>...</td>\n      <td>...</td>\n      <td>...</td>\n      <td>...</td>\n      <td>...</td>\n      <td>...</td>\n      <td>...</td>\n      <td>...</td>\n      <td>...</td>\n      <td>...</td>\n      <td>...</td>\n      <td>...</td>\n      <td>...</td>\n    </tr>\n    <tr>\n      <th>73262</th>\n      <td>0</td>\n      <td>[Student_full-time, Employed_part-time]</td>\n      <td>Hybrid (some remote, some in-person)</td>\n      <td>Secondary school (e.g. American high school, G...</td>\n      <td>4</td>\n      <td>0</td>\n      <td>[Developer_front-end, Student]</td>\n      <td>NaN</td>\n      <td>Germany</td>\n      <td>NaN</td>\n      <td>...</td>\n      <td>[]</td>\n      <td>[]</td>\n      <td>[npm]</td>\n      <td>[]</td>\n      <td>[Eclipse, Visual Studio Code]</td>\n      <td>[Android Studio, Visual Studio Code]</td>\n      <td>[]</td>\n      <td>[Git]</td>\n      <td>18-24 years old</td>\n      <td>[Man]</td>\n    </tr>\n    <tr>\n      <th>73263</th>\n      <td>1</td>\n      <td>[Employed_full-time]</td>\n      <td>Fully remote</td>\n      <td>Bachelor’s degree (B.A., B.S., B.Eng., etc.)</td>\n      <td>8</td>\n      <td>5</td>\n      <td>[Developer_back-end]</td>\n      <td>100 to 499 employees</td>\n      <td>Nigeria</td>\n      <td>60000.0</td>\n      <td>...</td>\n      <td>[Flutter]</td>\n      <td>[]</td>\n      <td>[Docker, Homebrew, Kubernetes, npm]</td>\n      <td>[Docker, Homebrew, Kubernetes, npm]</td>\n      <td>[IPython/Jupyter, Sublime Text, Vim, Visual St...</td>\n      <td>[Sublime Text, Vim, Visual Studio Code]</td>\n      <td>[macOS]</td>\n      <td>[Git]</td>\n      <td>25-34 years old</td>\n      <td>[Man]</td>\n    </tr>\n    <tr>\n      <th>73264</th>\n      <td>1</td>\n      <td>[Employed_full-time]</td>\n      <td>Full in-person</td>\n      <td>Master’s degree (M.A., M.S., M.Eng., MBA, etc.)</td>\n      <td>6</td>\n      <td>5</td>\n      <td>[Data scientist or machine learning specialist]</td>\n      <td>I don’t know</td>\n      <td>United States of America</td>\n      <td>107000.0</td>\n      <td>...</td>\n      <td>[Keras, NumPy, Pandas, Scikit-learn, TensorFlo...</td>\n      <td>[NumPy, Pandas, Torch/PyTorch, Hugging Face Tr...</td>\n      <td>[]</td>\n      <td>[]</td>\n      <td>[IPython/Jupyter, Notepad++, Spyder, Vim, Visu...</td>\n      <td>[Notepad++, Spyder, Vim, Visual Studio Code]</td>\n      <td>[Linux-based, Windows]</td>\n      <td>[Git]</td>\n      <td>25-34 years old</td>\n      <td>[Man]</td>\n    </tr>\n    <tr>\n      <th>73265</th>\n      <td>0</td>\n      <td>[Employed_full-time]</td>\n      <td>Hybrid (some remote, some in-person)</td>\n      <td>Bachelor’s degree (B.A., B.S., B.Eng., etc.)</td>\n      <td>42</td>\n      <td>33</td>\n      <td>[Developer_full-stack, Developer_desktop or en...</td>\n      <td>20 to 99 employees</td>\n      <td>United States of America</td>\n      <td>NaN</td>\n      <td>...</td>\n      <td>[.NET, Pandas, React Native]</td>\n      <td>[.NET, Cordova, Ionic, Pandas, React Native, X...</td>\n      <td>[npm]</td>\n      <td>[npm, Unreal Engine]</td>\n      <td>[Spyder, Visual Studio, Visual Studio Code]</td>\n      <td>[Spyder, Visual Studio, Visual Studio Code]</td>\n      <td>[Windows]</td>\n      <td>[Git]</td>\n      <td>55-64 years old</td>\n      <td>[Man]</td>\n    </tr>\n    <tr>\n      <th>73266</th>\n      <td>1</td>\n      <td>[Employed_full-time]</td>\n      <td>Hybrid (some remote, some in-person)</td>\n      <td>Bachelor’s degree (B.A., B.S., B.Eng., etc.)</td>\n      <td>50</td>\n      <td>31</td>\n      <td>[Developer_front-end, Developer_desktop or ent...</td>\n      <td>10 to 19 employees</td>\n      <td>United Kingdom of Great Britain and Northern I...</td>\n      <td>58500.0</td>\n      <td>...</td>\n      <td>[]</td>\n      <td>[]</td>\n      <td>[]</td>\n      <td>[]</td>\n      <td>[RAD Studio (Delphi_C++ Builder), Visual Studio]</td>\n      <td>[RAD Studio (Delphi_C++ Builder), Visual Studio]</td>\n      <td>[Windows]</td>\n      <td>[SVN]</td>\n      <td>55-64 years old</td>\n      <td>[Man]</td>\n    </tr>\n  </tbody>\n</table>\n<p>50423 rows × 29 columns</p>\n</div>"
     },
     "execution_count": 8,
     "metadata": {},
     "output_type": "execute_result"
    }
   ],
   "source": [
    "survey"
   ],
   "metadata": {
    "collapsed": false
   }
  },
  {
   "cell_type": "code",
   "execution_count": 191,
   "outputs": [
    {
     "data": {
      "text/plain": "Niger                                                      1\nSeychelles                                                 1\nSolomon Islands                                            1\nPalau                                                      1\nDjibouti                                                   1\n                                                        ... \nCanada                                                  1771\nUnited Kingdom of Great Britain and Northern Ireland    3097\nGermany                                                 3687\nIndia                                                   4442\nUnited States of America                                9826\nName: Country, Length: 177, dtype: int64"
     },
     "execution_count": 191,
     "metadata": {},
     "output_type": "execute_result"
    }
   ],
   "source": [
    "survey.Country.value_counts().sort_values()"
   ],
   "metadata": {
    "collapsed": false
   }
  },
  {
   "cell_type": "markdown",
   "source": [
    "# 1.Employment vs Dev type\n",
    "first we need to know Employment type abd is there any relation between them with dev type or not"
   ],
   "metadata": {
    "collapsed": false
   }
  },
  {
   "cell_type": "code",
   "execution_count": 112,
   "outputs": [],
   "source": [
    "def binarize(df, column):\n",
    "    binarizer = MultiLabelBinarizer()\n",
    "    mask = df[column].notnull()\n",
    "\n",
    "    #filter by boolean indexing\n",
    "    arr = binarizer.fit_transform(df.loc[mask, column])\n",
    "\n",
    "    #create DataFrame and add missing (NaN)s index values\n",
    "    return  (pd.DataFrame(arr, index=df.index[mask], columns=binarizer.classes_)\n",
    "           .reindex(df[column].index, fill_value=0))\n"
   ],
   "metadata": {
    "collapsed": false
   }
  },
  {
   "cell_type": "code",
   "execution_count": 176,
   "outputs": [],
   "source": [
    "def change_labels(x: str):\n",
    "    if 'Developer_' in x:\n",
    "        x = x.replace('Developer_', '') + ' dev'\n",
    "\n",
    "    if ' or ' in x:\n",
    "        index_to_delete = x.index(' or ')\n",
    "        x = x[index_to_delete + 4:]\n",
    "\n",
    "    if 'Engineer_' in x:\n",
    "        x = x.replace('Engineer_', '') + '  Engineer'\n",
    "\n",
    "    if x.__contains__('back_end') or x.__contains__('full_stack'):\n",
    "        x += ' dev'\n",
    "    return x"
   ],
   "metadata": {
    "collapsed": false
   }
  },
  {
   "cell_type": "code",
   "execution_count": 117,
   "outputs": [
    {
     "data": {
      "text/plain": "       Employed_full-time  Employed_part-time  \\\n2                       1                   0   \n3                       1                   0   \n7                       0                   0   \n9                       0                   0   \n10                      1                   0   \n...                   ...                 ...   \n73262                   0                   1   \n73263                   1                   0   \n73264                   1                   0   \n73265                   1                   0   \n73266                   1                   0   \n\n       Independent contractor_freelancer_or self-employed  \\\n2                                                      0    \n3                                                      0    \n7                                                      0    \n9                                                      1    \n10                                                     0    \n...                                                  ...    \n73262                                                  0    \n73263                                                  0    \n73264                                                  0    \n73265                                                  0    \n73266                                                  0    \n\n       Not employed_and not looking for work  \\\n2                                          0   \n3                                          0   \n7                                          0   \n9                                          0   \n10                                         0   \n...                                      ...   \n73262                                      0   \n73263                                      0   \n73264                                      0   \n73265                                      0   \n73266                                      0   \n\n       Not employed_but looking for work  Retired  Student_full-time  \\\n2                                      0        0                  0   \n3                                      0        0                  0   \n7                                      1        0                  0   \n9                                      0        0                  0   \n10                                     0        0                  0   \n...                                  ...      ...                ...   \n73262                                  0        0                  1   \n73263                                  0        0                  0   \n73264                                  0        0                  0   \n73265                                  0        0                  0   \n73266                                  0        0                  0   \n\n       Student_part-time  \n2                      0  \n3                      0  \n7                      0  \n9                      0  \n10                     0  \n...                  ...  \n73262                  0  \n73263                  0  \n73264                  0  \n73265                  0  \n73266                  0  \n\n[50423 rows x 8 columns]",
      "text/html": "<div>\n<style scoped>\n    .dataframe tbody tr th:only-of-type {\n        vertical-align: middle;\n    }\n\n    .dataframe tbody tr th {\n        vertical-align: top;\n    }\n\n    .dataframe thead th {\n        text-align: right;\n    }\n</style>\n<table border=\"1\" class=\"dataframe\">\n  <thead>\n    <tr style=\"text-align: right;\">\n      <th></th>\n      <th>Employed_full-time</th>\n      <th>Employed_part-time</th>\n      <th>Independent contractor_freelancer_or self-employed</th>\n      <th>Not employed_and not looking for work</th>\n      <th>Not employed_but looking for work</th>\n      <th>Retired</th>\n      <th>Student_full-time</th>\n      <th>Student_part-time</th>\n    </tr>\n  </thead>\n  <tbody>\n    <tr>\n      <th>2</th>\n      <td>1</td>\n      <td>0</td>\n      <td>0</td>\n      <td>0</td>\n      <td>0</td>\n      <td>0</td>\n      <td>0</td>\n      <td>0</td>\n    </tr>\n    <tr>\n      <th>3</th>\n      <td>1</td>\n      <td>0</td>\n      <td>0</td>\n      <td>0</td>\n      <td>0</td>\n      <td>0</td>\n      <td>0</td>\n      <td>0</td>\n    </tr>\n    <tr>\n      <th>7</th>\n      <td>0</td>\n      <td>0</td>\n      <td>0</td>\n      <td>0</td>\n      <td>1</td>\n      <td>0</td>\n      <td>0</td>\n      <td>0</td>\n    </tr>\n    <tr>\n      <th>9</th>\n      <td>0</td>\n      <td>0</td>\n      <td>1</td>\n      <td>0</td>\n      <td>0</td>\n      <td>0</td>\n      <td>0</td>\n      <td>0</td>\n    </tr>\n    <tr>\n      <th>10</th>\n      <td>1</td>\n      <td>0</td>\n      <td>0</td>\n      <td>0</td>\n      <td>0</td>\n      <td>0</td>\n      <td>0</td>\n      <td>0</td>\n    </tr>\n    <tr>\n      <th>...</th>\n      <td>...</td>\n      <td>...</td>\n      <td>...</td>\n      <td>...</td>\n      <td>...</td>\n      <td>...</td>\n      <td>...</td>\n      <td>...</td>\n    </tr>\n    <tr>\n      <th>73262</th>\n      <td>0</td>\n      <td>1</td>\n      <td>0</td>\n      <td>0</td>\n      <td>0</td>\n      <td>0</td>\n      <td>1</td>\n      <td>0</td>\n    </tr>\n    <tr>\n      <th>73263</th>\n      <td>1</td>\n      <td>0</td>\n      <td>0</td>\n      <td>0</td>\n      <td>0</td>\n      <td>0</td>\n      <td>0</td>\n      <td>0</td>\n    </tr>\n    <tr>\n      <th>73264</th>\n      <td>1</td>\n      <td>0</td>\n      <td>0</td>\n      <td>0</td>\n      <td>0</td>\n      <td>0</td>\n      <td>0</td>\n      <td>0</td>\n    </tr>\n    <tr>\n      <th>73265</th>\n      <td>1</td>\n      <td>0</td>\n      <td>0</td>\n      <td>0</td>\n      <td>0</td>\n      <td>0</td>\n      <td>0</td>\n      <td>0</td>\n    </tr>\n    <tr>\n      <th>73266</th>\n      <td>1</td>\n      <td>0</td>\n      <td>0</td>\n      <td>0</td>\n      <td>0</td>\n      <td>0</td>\n      <td>0</td>\n      <td>0</td>\n    </tr>\n  </tbody>\n</table>\n<p>50423 rows × 8 columns</p>\n</div>"
     },
     "execution_count": 117,
     "metadata": {},
     "output_type": "execute_result"
    }
   ],
   "source": [
    "employment_df = binarize(survey, 'Employment')\n",
    "employment_df"
   ],
   "metadata": {
    "collapsed": false
   }
  },
  {
   "cell_type": "code",
   "execution_count": 269,
   "outputs": [],
   "source": [
    "def Employment_vs_Dev_type(dev_types):\n",
    "    employment_chosen_columns = ['Employed_full-time', 'Employed_part-time',\n",
    "                             'Independent contractor_freelancer_or self-employed']\n",
    "\n",
    "    # df = survey[survey.Country.isin(countries)]\n",
    "    employment_df = binarize(survey, 'Employment')\n",
    "    employment_df = employment_df[employment_chosen_columns]\n",
    "    employment_df.rename(columns = {'Independent contractor_freelancer_or self-employed':'freelancer',\n",
    "                                    'Employed_full-time' : 'full-time',\n",
    "                                    'Employed_part-time': 'part-time'}, inplace = True)\n",
    "\n",
    "    employment_df.columns = pd.MultiIndex.from_product([['Employment'], employment_df.columns])\n",
    "    dev_df = skills_dev_df['DevType'][dev_types]\n",
    "    dev_df.columns = pd.MultiIndex.from_product([['DevType'], dev_df.columns])\n",
    "    employment_dev = employment_df.merge(dev_df, left_index=True, right_index=True)\n",
    "    employment_dev_count = {}\n",
    "    for employment_type in employment_dev.Employment.columns:\n",
    "        employment_dev_count[employment_type] = ((employment_dev.Employment[employment_type].values.reshape(1,-1)) @ employment_dev.DevType )\n",
    "    employment_dev_count = pd.concat(employment_dev_count)\n",
    "    employment_dev_percentage = (employment_dev_count / employment_dev_count.sum(axis=0)).applymap('{:,.2f}'.format).astype('float')\n",
    "\n",
    "\n",
    "    layout = go.Layout(\n",
    "                title=\"Employment_vs_job_type\",\n",
    "                yaxis=dict(\n",
    "                    title=\"job_type\"),\n",
    "                xaxis=dict(\n",
    "                    title=\"percentage %\"),\n",
    "                barmode='group',\n",
    "                plot_bgcolor='rgb(233,233,233)')\n",
    "    fig = go.Figure(data=[\n",
    "        go.Bar(name= i[0], y=np.arange(0,len(dev_types)), x=employment_dev_percentage.loc[i , :].values,orientation='h') for i in employment_dev_percentage.index],\n",
    "\n",
    "                    layout=layout)\n",
    "    fig.update_layout(barmode='group',title_x = .5)\n",
    "    # fig.update_xaxes(type=\"log\")\n",
    "    fig.update_layout(yaxis = dict(\n",
    "            tickmode = 'array',\n",
    "            tickvals = np.arange(0,len(dev_types)).tolist(),\n",
    "            ticktext = [change_labels(x) for x in dev_types],\n",
    "            tickfont = {'size' : 20},\n",
    "            title_font_size = 25\n",
    "        ),title_font_size = 30\n",
    "        ,xaxis = dict(tickfont = {'size' : 20},title_font_size = 25 ))\n",
    "\n",
    "    fig.update_layout(legend = dict(font = dict(family = \"Courier\", size = 15, color = \"black\")),\n",
    "              legend_title = dict(font = dict(family = \"Courier\", size = 30, color = \"blue\")))\n",
    "\n",
    "    # fig.update_layout({\n",
    "    #     'plot_bgcolor':'rgba(0, 0, 0, 0)',\n",
    "    #     'paper_bgcolor':'rgba(0, 0, 0, 0)',\n",
    "    # })\n",
    "\n",
    "    fig.update_traces(textfont_size = 20)\n",
    "\n",
    "    return fig"
   ],
   "metadata": {
    "collapsed": false
   }
  },
  {
   "cell_type": "code",
   "execution_count": 270,
   "outputs": [],
   "source": [
    "dev_types = ['Developer_full-stack', 'Developer_back-end', 'Developer_front-end', 'Data scientist or machine learning specialist', 'Engineer_data', 'Cloud infrastructure engineer']"
   ],
   "metadata": {
    "collapsed": false
   }
  },
  {
   "cell_type": "code",
   "execution_count": 271,
   "outputs": [
    {
     "data": {
      "application/vnd.plotly.v1+json": {
       "data": [
        {
         "name": "full-time",
         "orientation": "h",
         "x": [
          0.77,
          0.81,
          0.77,
          0.79,
          0.85,
          0.84
         ],
         "y": [
          0,
          1,
          2,
          3,
          4,
          5
         ],
         "type": "bar",
         "textfont": {
          "size": 20
         }
        },
        {
         "name": "part-time",
         "orientation": "h",
         "x": [
          0.06,
          0.05,
          0.06,
          0.09,
          0.04,
          0.03
         ],
         "y": [
          0,
          1,
          2,
          3,
          4,
          5
         ],
         "type": "bar",
         "textfont": {
          "size": 20
         }
        },
        {
         "name": "freelancer",
         "orientation": "h",
         "x": [
          0.17,
          0.14,
          0.16,
          0.12,
          0.11,
          0.13
         ],
         "y": [
          0,
          1,
          2,
          3,
          4,
          5
         ],
         "type": "bar",
         "textfont": {
          "size": 20
         }
        }
       ],
       "layout": {
        "barmode": "group",
        "plot_bgcolor": "rgb(233,233,233)",
        "title": {
         "text": "Employment_vs_job_type",
         "x": 0.5,
         "font": {
          "size": 30
         }
        },
        "xaxis": {
         "title": {
          "text": "percentage %",
          "font": {
           "size": 25
          }
         },
         "tickfont": {
          "size": 20
         }
        },
        "yaxis": {
         "title": {
          "text": "job_type",
          "font": {
           "size": 25
          }
         },
         "tickfont": {
          "size": 20
         },
         "tickmode": "array",
         "tickvals": [
          0,
          1,
          2,
          3,
          4,
          5
         ],
         "ticktext": [
          "full-stack dev",
          "back-end dev",
          "front-end dev",
          "machine learning specialist",
          "data  Engineer",
          "Cloud infrastructure engineer"
         ]
        },
        "template": {
         "data": {
          "histogram2dcontour": [
           {
            "type": "histogram2dcontour",
            "colorbar": {
             "outlinewidth": 0,
             "ticks": ""
            },
            "colorscale": [
             [
              0.0,
              "#0d0887"
             ],
             [
              0.1111111111111111,
              "#46039f"
             ],
             [
              0.2222222222222222,
              "#7201a8"
             ],
             [
              0.3333333333333333,
              "#9c179e"
             ],
             [
              0.4444444444444444,
              "#bd3786"
             ],
             [
              0.5555555555555556,
              "#d8576b"
             ],
             [
              0.6666666666666666,
              "#ed7953"
             ],
             [
              0.7777777777777778,
              "#fb9f3a"
             ],
             [
              0.8888888888888888,
              "#fdca26"
             ],
             [
              1.0,
              "#f0f921"
             ]
            ]
           }
          ],
          "choropleth": [
           {
            "type": "choropleth",
            "colorbar": {
             "outlinewidth": 0,
             "ticks": ""
            }
           }
          ],
          "histogram2d": [
           {
            "type": "histogram2d",
            "colorbar": {
             "outlinewidth": 0,
             "ticks": ""
            },
            "colorscale": [
             [
              0.0,
              "#0d0887"
             ],
             [
              0.1111111111111111,
              "#46039f"
             ],
             [
              0.2222222222222222,
              "#7201a8"
             ],
             [
              0.3333333333333333,
              "#9c179e"
             ],
             [
              0.4444444444444444,
              "#bd3786"
             ],
             [
              0.5555555555555556,
              "#d8576b"
             ],
             [
              0.6666666666666666,
              "#ed7953"
             ],
             [
              0.7777777777777778,
              "#fb9f3a"
             ],
             [
              0.8888888888888888,
              "#fdca26"
             ],
             [
              1.0,
              "#f0f921"
             ]
            ]
           }
          ],
          "heatmap": [
           {
            "type": "heatmap",
            "colorbar": {
             "outlinewidth": 0,
             "ticks": ""
            },
            "colorscale": [
             [
              0.0,
              "#0d0887"
             ],
             [
              0.1111111111111111,
              "#46039f"
             ],
             [
              0.2222222222222222,
              "#7201a8"
             ],
             [
              0.3333333333333333,
              "#9c179e"
             ],
             [
              0.4444444444444444,
              "#bd3786"
             ],
             [
              0.5555555555555556,
              "#d8576b"
             ],
             [
              0.6666666666666666,
              "#ed7953"
             ],
             [
              0.7777777777777778,
              "#fb9f3a"
             ],
             [
              0.8888888888888888,
              "#fdca26"
             ],
             [
              1.0,
              "#f0f921"
             ]
            ]
           }
          ],
          "heatmapgl": [
           {
            "type": "heatmapgl",
            "colorbar": {
             "outlinewidth": 0,
             "ticks": ""
            },
            "colorscale": [
             [
              0.0,
              "#0d0887"
             ],
             [
              0.1111111111111111,
              "#46039f"
             ],
             [
              0.2222222222222222,
              "#7201a8"
             ],
             [
              0.3333333333333333,
              "#9c179e"
             ],
             [
              0.4444444444444444,
              "#bd3786"
             ],
             [
              0.5555555555555556,
              "#d8576b"
             ],
             [
              0.6666666666666666,
              "#ed7953"
             ],
             [
              0.7777777777777778,
              "#fb9f3a"
             ],
             [
              0.8888888888888888,
              "#fdca26"
             ],
             [
              1.0,
              "#f0f921"
             ]
            ]
           }
          ],
          "contourcarpet": [
           {
            "type": "contourcarpet",
            "colorbar": {
             "outlinewidth": 0,
             "ticks": ""
            }
           }
          ],
          "contour": [
           {
            "type": "contour",
            "colorbar": {
             "outlinewidth": 0,
             "ticks": ""
            },
            "colorscale": [
             [
              0.0,
              "#0d0887"
             ],
             [
              0.1111111111111111,
              "#46039f"
             ],
             [
              0.2222222222222222,
              "#7201a8"
             ],
             [
              0.3333333333333333,
              "#9c179e"
             ],
             [
              0.4444444444444444,
              "#bd3786"
             ],
             [
              0.5555555555555556,
              "#d8576b"
             ],
             [
              0.6666666666666666,
              "#ed7953"
             ],
             [
              0.7777777777777778,
              "#fb9f3a"
             ],
             [
              0.8888888888888888,
              "#fdca26"
             ],
             [
              1.0,
              "#f0f921"
             ]
            ]
           }
          ],
          "surface": [
           {
            "type": "surface",
            "colorbar": {
             "outlinewidth": 0,
             "ticks": ""
            },
            "colorscale": [
             [
              0.0,
              "#0d0887"
             ],
             [
              0.1111111111111111,
              "#46039f"
             ],
             [
              0.2222222222222222,
              "#7201a8"
             ],
             [
              0.3333333333333333,
              "#9c179e"
             ],
             [
              0.4444444444444444,
              "#bd3786"
             ],
             [
              0.5555555555555556,
              "#d8576b"
             ],
             [
              0.6666666666666666,
              "#ed7953"
             ],
             [
              0.7777777777777778,
              "#fb9f3a"
             ],
             [
              0.8888888888888888,
              "#fdca26"
             ],
             [
              1.0,
              "#f0f921"
             ]
            ]
           }
          ],
          "mesh3d": [
           {
            "type": "mesh3d",
            "colorbar": {
             "outlinewidth": 0,
             "ticks": ""
            }
           }
          ],
          "scatter": [
           {
            "fillpattern": {
             "fillmode": "overlay",
             "size": 10,
             "solidity": 0.2
            },
            "type": "scatter"
           }
          ],
          "parcoords": [
           {
            "type": "parcoords",
            "line": {
             "colorbar": {
              "outlinewidth": 0,
              "ticks": ""
             }
            }
           }
          ],
          "scatterpolargl": [
           {
            "type": "scatterpolargl",
            "marker": {
             "colorbar": {
              "outlinewidth": 0,
              "ticks": ""
             }
            }
           }
          ],
          "bar": [
           {
            "error_x": {
             "color": "#2a3f5f"
            },
            "error_y": {
             "color": "#2a3f5f"
            },
            "marker": {
             "line": {
              "color": "#E5ECF6",
              "width": 0.5
             },
             "pattern": {
              "fillmode": "overlay",
              "size": 10,
              "solidity": 0.2
             }
            },
            "type": "bar"
           }
          ],
          "scattergeo": [
           {
            "type": "scattergeo",
            "marker": {
             "colorbar": {
              "outlinewidth": 0,
              "ticks": ""
             }
            }
           }
          ],
          "scatterpolar": [
           {
            "type": "scatterpolar",
            "marker": {
             "colorbar": {
              "outlinewidth": 0,
              "ticks": ""
             }
            }
           }
          ],
          "histogram": [
           {
            "marker": {
             "pattern": {
              "fillmode": "overlay",
              "size": 10,
              "solidity": 0.2
             }
            },
            "type": "histogram"
           }
          ],
          "scattergl": [
           {
            "type": "scattergl",
            "marker": {
             "colorbar": {
              "outlinewidth": 0,
              "ticks": ""
             }
            }
           }
          ],
          "scatter3d": [
           {
            "type": "scatter3d",
            "line": {
             "colorbar": {
              "outlinewidth": 0,
              "ticks": ""
             }
            },
            "marker": {
             "colorbar": {
              "outlinewidth": 0,
              "ticks": ""
             }
            }
           }
          ],
          "scattermapbox": [
           {
            "type": "scattermapbox",
            "marker": {
             "colorbar": {
              "outlinewidth": 0,
              "ticks": ""
             }
            }
           }
          ],
          "scatterternary": [
           {
            "type": "scatterternary",
            "marker": {
             "colorbar": {
              "outlinewidth": 0,
              "ticks": ""
             }
            }
           }
          ],
          "scattercarpet": [
           {
            "type": "scattercarpet",
            "marker": {
             "colorbar": {
              "outlinewidth": 0,
              "ticks": ""
             }
            }
           }
          ],
          "carpet": [
           {
            "aaxis": {
             "endlinecolor": "#2a3f5f",
             "gridcolor": "white",
             "linecolor": "white",
             "minorgridcolor": "white",
             "startlinecolor": "#2a3f5f"
            },
            "baxis": {
             "endlinecolor": "#2a3f5f",
             "gridcolor": "white",
             "linecolor": "white",
             "minorgridcolor": "white",
             "startlinecolor": "#2a3f5f"
            },
            "type": "carpet"
           }
          ],
          "table": [
           {
            "cells": {
             "fill": {
              "color": "#EBF0F8"
             },
             "line": {
              "color": "white"
             }
            },
            "header": {
             "fill": {
              "color": "#C8D4E3"
             },
             "line": {
              "color": "white"
             }
            },
            "type": "table"
           }
          ],
          "barpolar": [
           {
            "marker": {
             "line": {
              "color": "#E5ECF6",
              "width": 0.5
             },
             "pattern": {
              "fillmode": "overlay",
              "size": 10,
              "solidity": 0.2
             }
            },
            "type": "barpolar"
           }
          ],
          "pie": [
           {
            "automargin": true,
            "type": "pie"
           }
          ]
         },
         "layout": {
          "autotypenumbers": "strict",
          "colorway": [
           "#636efa",
           "#EF553B",
           "#00cc96",
           "#ab63fa",
           "#FFA15A",
           "#19d3f3",
           "#FF6692",
           "#B6E880",
           "#FF97FF",
           "#FECB52"
          ],
          "font": {
           "color": "#2a3f5f"
          },
          "hovermode": "closest",
          "hoverlabel": {
           "align": "left"
          },
          "paper_bgcolor": "white",
          "plot_bgcolor": "#E5ECF6",
          "polar": {
           "bgcolor": "#E5ECF6",
           "angularaxis": {
            "gridcolor": "white",
            "linecolor": "white",
            "ticks": ""
           },
           "radialaxis": {
            "gridcolor": "white",
            "linecolor": "white",
            "ticks": ""
           }
          },
          "ternary": {
           "bgcolor": "#E5ECF6",
           "aaxis": {
            "gridcolor": "white",
            "linecolor": "white",
            "ticks": ""
           },
           "baxis": {
            "gridcolor": "white",
            "linecolor": "white",
            "ticks": ""
           },
           "caxis": {
            "gridcolor": "white",
            "linecolor": "white",
            "ticks": ""
           }
          },
          "coloraxis": {
           "colorbar": {
            "outlinewidth": 0,
            "ticks": ""
           }
          },
          "colorscale": {
           "sequential": [
            [
             0.0,
             "#0d0887"
            ],
            [
             0.1111111111111111,
             "#46039f"
            ],
            [
             0.2222222222222222,
             "#7201a8"
            ],
            [
             0.3333333333333333,
             "#9c179e"
            ],
            [
             0.4444444444444444,
             "#bd3786"
            ],
            [
             0.5555555555555556,
             "#d8576b"
            ],
            [
             0.6666666666666666,
             "#ed7953"
            ],
            [
             0.7777777777777778,
             "#fb9f3a"
            ],
            [
             0.8888888888888888,
             "#fdca26"
            ],
            [
             1.0,
             "#f0f921"
            ]
           ],
           "sequentialminus": [
            [
             0.0,
             "#0d0887"
            ],
            [
             0.1111111111111111,
             "#46039f"
            ],
            [
             0.2222222222222222,
             "#7201a8"
            ],
            [
             0.3333333333333333,
             "#9c179e"
            ],
            [
             0.4444444444444444,
             "#bd3786"
            ],
            [
             0.5555555555555556,
             "#d8576b"
            ],
            [
             0.6666666666666666,
             "#ed7953"
            ],
            [
             0.7777777777777778,
             "#fb9f3a"
            ],
            [
             0.8888888888888888,
             "#fdca26"
            ],
            [
             1.0,
             "#f0f921"
            ]
           ],
           "diverging": [
            [
             0,
             "#8e0152"
            ],
            [
             0.1,
             "#c51b7d"
            ],
            [
             0.2,
             "#de77ae"
            ],
            [
             0.3,
             "#f1b6da"
            ],
            [
             0.4,
             "#fde0ef"
            ],
            [
             0.5,
             "#f7f7f7"
            ],
            [
             0.6,
             "#e6f5d0"
            ],
            [
             0.7,
             "#b8e186"
            ],
            [
             0.8,
             "#7fbc41"
            ],
            [
             0.9,
             "#4d9221"
            ],
            [
             1,
             "#276419"
            ]
           ]
          },
          "xaxis": {
           "gridcolor": "white",
           "linecolor": "white",
           "ticks": "",
           "title": {
            "standoff": 15
           },
           "zerolinecolor": "white",
           "automargin": true,
           "zerolinewidth": 2
          },
          "yaxis": {
           "gridcolor": "white",
           "linecolor": "white",
           "ticks": "",
           "title": {
            "standoff": 15
           },
           "zerolinecolor": "white",
           "automargin": true,
           "zerolinewidth": 2
          },
          "scene": {
           "xaxis": {
            "backgroundcolor": "#E5ECF6",
            "gridcolor": "white",
            "linecolor": "white",
            "showbackground": true,
            "ticks": "",
            "zerolinecolor": "white",
            "gridwidth": 2
           },
           "yaxis": {
            "backgroundcolor": "#E5ECF6",
            "gridcolor": "white",
            "linecolor": "white",
            "showbackground": true,
            "ticks": "",
            "zerolinecolor": "white",
            "gridwidth": 2
           },
           "zaxis": {
            "backgroundcolor": "#E5ECF6",
            "gridcolor": "white",
            "linecolor": "white",
            "showbackground": true,
            "ticks": "",
            "zerolinecolor": "white",
            "gridwidth": 2
           }
          },
          "shapedefaults": {
           "line": {
            "color": "#2a3f5f"
           }
          },
          "annotationdefaults": {
           "arrowcolor": "#2a3f5f",
           "arrowhead": 0,
           "arrowwidth": 1
          },
          "geo": {
           "bgcolor": "white",
           "landcolor": "#E5ECF6",
           "subunitcolor": "white",
           "showland": true,
           "showlakes": true,
           "lakecolor": "white"
          },
          "title": {
           "x": 0.05
          },
          "mapbox": {
           "style": "light"
          }
         }
        },
        "legend": {
         "font": {
          "family": "Courier",
          "size": 15,
          "color": "black"
         },
         "title": {
          "font": {
           "family": "Courier",
           "size": 30,
           "color": "blue"
          }
         }
        }
       },
       "config": {
        "plotlyServerURL": "https://plot.ly"
       }
      },
      "text/html": "<div>                            <div id=\"40a85e30-405b-4c07-a473-ed0df6903a62\" class=\"plotly-graph-div\" style=\"height:525px; width:100%;\"></div>            <script type=\"text/javascript\">                require([\"plotly\"], function(Plotly) {                    window.PLOTLYENV=window.PLOTLYENV || {};                                    if (document.getElementById(\"40a85e30-405b-4c07-a473-ed0df6903a62\")) {                    Plotly.newPlot(                        \"40a85e30-405b-4c07-a473-ed0df6903a62\",                        [{\"name\":\"full-time\",\"orientation\":\"h\",\"x\":[0.77,0.81,0.77,0.79,0.85,0.84],\"y\":[0,1,2,3,4,5],\"type\":\"bar\",\"textfont\":{\"size\":20}},{\"name\":\"part-time\",\"orientation\":\"h\",\"x\":[0.06,0.05,0.06,0.09,0.04,0.03],\"y\":[0,1,2,3,4,5],\"type\":\"bar\",\"textfont\":{\"size\":20}},{\"name\":\"freelancer\",\"orientation\":\"h\",\"x\":[0.17,0.14,0.16,0.12,0.11,0.13],\"y\":[0,1,2,3,4,5],\"type\":\"bar\",\"textfont\":{\"size\":20}}],                        {\"barmode\":\"group\",\"plot_bgcolor\":\"rgb(233,233,233)\",\"title\":{\"text\":\"Employment_vs_job_type\",\"x\":0.5,\"font\":{\"size\":30}},\"xaxis\":{\"title\":{\"text\":\"percentage %\",\"font\":{\"size\":25}},\"tickfont\":{\"size\":20}},\"yaxis\":{\"title\":{\"text\":\"job_type\",\"font\":{\"size\":25}},\"tickfont\":{\"size\":20},\"tickmode\":\"array\",\"tickvals\":[0,1,2,3,4,5],\"ticktext\":[\"full-stack dev\",\"back-end dev\",\"front-end dev\",\"machine learning specialist\",\"data  Engineer\",\"Cloud infrastructure engineer\"]},\"template\":{\"data\":{\"histogram2dcontour\":[{\"type\":\"histogram2dcontour\",\"colorbar\":{\"outlinewidth\":0,\"ticks\":\"\"},\"colorscale\":[[0.0,\"#0d0887\"],[0.1111111111111111,\"#46039f\"],[0.2222222222222222,\"#7201a8\"],[0.3333333333333333,\"#9c179e\"],[0.4444444444444444,\"#bd3786\"],[0.5555555555555556,\"#d8576b\"],[0.6666666666666666,\"#ed7953\"],[0.7777777777777778,\"#fb9f3a\"],[0.8888888888888888,\"#fdca26\"],[1.0,\"#f0f921\"]]}],\"choropleth\":[{\"type\":\"choropleth\",\"colorbar\":{\"outlinewidth\":0,\"ticks\":\"\"}}],\"histogram2d\":[{\"type\":\"histogram2d\",\"colorbar\":{\"outlinewidth\":0,\"ticks\":\"\"},\"colorscale\":[[0.0,\"#0d0887\"],[0.1111111111111111,\"#46039f\"],[0.2222222222222222,\"#7201a8\"],[0.3333333333333333,\"#9c179e\"],[0.4444444444444444,\"#bd3786\"],[0.5555555555555556,\"#d8576b\"],[0.6666666666666666,\"#ed7953\"],[0.7777777777777778,\"#fb9f3a\"],[0.8888888888888888,\"#fdca26\"],[1.0,\"#f0f921\"]]}],\"heatmap\":[{\"type\":\"heatmap\",\"colorbar\":{\"outlinewidth\":0,\"ticks\":\"\"},\"colorscale\":[[0.0,\"#0d0887\"],[0.1111111111111111,\"#46039f\"],[0.2222222222222222,\"#7201a8\"],[0.3333333333333333,\"#9c179e\"],[0.4444444444444444,\"#bd3786\"],[0.5555555555555556,\"#d8576b\"],[0.6666666666666666,\"#ed7953\"],[0.7777777777777778,\"#fb9f3a\"],[0.8888888888888888,\"#fdca26\"],[1.0,\"#f0f921\"]]}],\"heatmapgl\":[{\"type\":\"heatmapgl\",\"colorbar\":{\"outlinewidth\":0,\"ticks\":\"\"},\"colorscale\":[[0.0,\"#0d0887\"],[0.1111111111111111,\"#46039f\"],[0.2222222222222222,\"#7201a8\"],[0.3333333333333333,\"#9c179e\"],[0.4444444444444444,\"#bd3786\"],[0.5555555555555556,\"#d8576b\"],[0.6666666666666666,\"#ed7953\"],[0.7777777777777778,\"#fb9f3a\"],[0.8888888888888888,\"#fdca26\"],[1.0,\"#f0f921\"]]}],\"contourcarpet\":[{\"type\":\"contourcarpet\",\"colorbar\":{\"outlinewidth\":0,\"ticks\":\"\"}}],\"contour\":[{\"type\":\"contour\",\"colorbar\":{\"outlinewidth\":0,\"ticks\":\"\"},\"colorscale\":[[0.0,\"#0d0887\"],[0.1111111111111111,\"#46039f\"],[0.2222222222222222,\"#7201a8\"],[0.3333333333333333,\"#9c179e\"],[0.4444444444444444,\"#bd3786\"],[0.5555555555555556,\"#d8576b\"],[0.6666666666666666,\"#ed7953\"],[0.7777777777777778,\"#fb9f3a\"],[0.8888888888888888,\"#fdca26\"],[1.0,\"#f0f921\"]]}],\"surface\":[{\"type\":\"surface\",\"colorbar\":{\"outlinewidth\":0,\"ticks\":\"\"},\"colorscale\":[[0.0,\"#0d0887\"],[0.1111111111111111,\"#46039f\"],[0.2222222222222222,\"#7201a8\"],[0.3333333333333333,\"#9c179e\"],[0.4444444444444444,\"#bd3786\"],[0.5555555555555556,\"#d8576b\"],[0.6666666666666666,\"#ed7953\"],[0.7777777777777778,\"#fb9f3a\"],[0.8888888888888888,\"#fdca26\"],[1.0,\"#f0f921\"]]}],\"mesh3d\":[{\"type\":\"mesh3d\",\"colorbar\":{\"outlinewidth\":0,\"ticks\":\"\"}}],\"scatter\":[{\"fillpattern\":{\"fillmode\":\"overlay\",\"size\":10,\"solidity\":0.2},\"type\":\"scatter\"}],\"parcoords\":[{\"type\":\"parcoords\",\"line\":{\"colorbar\":{\"outlinewidth\":0,\"ticks\":\"\"}}}],\"scatterpolargl\":[{\"type\":\"scatterpolargl\",\"marker\":{\"colorbar\":{\"outlinewidth\":0,\"ticks\":\"\"}}}],\"bar\":[{\"error_x\":{\"color\":\"#2a3f5f\"},\"error_y\":{\"color\":\"#2a3f5f\"},\"marker\":{\"line\":{\"color\":\"#E5ECF6\",\"width\":0.5},\"pattern\":{\"fillmode\":\"overlay\",\"size\":10,\"solidity\":0.2}},\"type\":\"bar\"}],\"scattergeo\":[{\"type\":\"scattergeo\",\"marker\":{\"colorbar\":{\"outlinewidth\":0,\"ticks\":\"\"}}}],\"scatterpolar\":[{\"type\":\"scatterpolar\",\"marker\":{\"colorbar\":{\"outlinewidth\":0,\"ticks\":\"\"}}}],\"histogram\":[{\"marker\":{\"pattern\":{\"fillmode\":\"overlay\",\"size\":10,\"solidity\":0.2}},\"type\":\"histogram\"}],\"scattergl\":[{\"type\":\"scattergl\",\"marker\":{\"colorbar\":{\"outlinewidth\":0,\"ticks\":\"\"}}}],\"scatter3d\":[{\"type\":\"scatter3d\",\"line\":{\"colorbar\":{\"outlinewidth\":0,\"ticks\":\"\"}},\"marker\":{\"colorbar\":{\"outlinewidth\":0,\"ticks\":\"\"}}}],\"scattermapbox\":[{\"type\":\"scattermapbox\",\"marker\":{\"colorbar\":{\"outlinewidth\":0,\"ticks\":\"\"}}}],\"scatterternary\":[{\"type\":\"scatterternary\",\"marker\":{\"colorbar\":{\"outlinewidth\":0,\"ticks\":\"\"}}}],\"scattercarpet\":[{\"type\":\"scattercarpet\",\"marker\":{\"colorbar\":{\"outlinewidth\":0,\"ticks\":\"\"}}}],\"carpet\":[{\"aaxis\":{\"endlinecolor\":\"#2a3f5f\",\"gridcolor\":\"white\",\"linecolor\":\"white\",\"minorgridcolor\":\"white\",\"startlinecolor\":\"#2a3f5f\"},\"baxis\":{\"endlinecolor\":\"#2a3f5f\",\"gridcolor\":\"white\",\"linecolor\":\"white\",\"minorgridcolor\":\"white\",\"startlinecolor\":\"#2a3f5f\"},\"type\":\"carpet\"}],\"table\":[{\"cells\":{\"fill\":{\"color\":\"#EBF0F8\"},\"line\":{\"color\":\"white\"}},\"header\":{\"fill\":{\"color\":\"#C8D4E3\"},\"line\":{\"color\":\"white\"}},\"type\":\"table\"}],\"barpolar\":[{\"marker\":{\"line\":{\"color\":\"#E5ECF6\",\"width\":0.5},\"pattern\":{\"fillmode\":\"overlay\",\"size\":10,\"solidity\":0.2}},\"type\":\"barpolar\"}],\"pie\":[{\"automargin\":true,\"type\":\"pie\"}]},\"layout\":{\"autotypenumbers\":\"strict\",\"colorway\":[\"#636efa\",\"#EF553B\",\"#00cc96\",\"#ab63fa\",\"#FFA15A\",\"#19d3f3\",\"#FF6692\",\"#B6E880\",\"#FF97FF\",\"#FECB52\"],\"font\":{\"color\":\"#2a3f5f\"},\"hovermode\":\"closest\",\"hoverlabel\":{\"align\":\"left\"},\"paper_bgcolor\":\"white\",\"plot_bgcolor\":\"#E5ECF6\",\"polar\":{\"bgcolor\":\"#E5ECF6\",\"angularaxis\":{\"gridcolor\":\"white\",\"linecolor\":\"white\",\"ticks\":\"\"},\"radialaxis\":{\"gridcolor\":\"white\",\"linecolor\":\"white\",\"ticks\":\"\"}},\"ternary\":{\"bgcolor\":\"#E5ECF6\",\"aaxis\":{\"gridcolor\":\"white\",\"linecolor\":\"white\",\"ticks\":\"\"},\"baxis\":{\"gridcolor\":\"white\",\"linecolor\":\"white\",\"ticks\":\"\"},\"caxis\":{\"gridcolor\":\"white\",\"linecolor\":\"white\",\"ticks\":\"\"}},\"coloraxis\":{\"colorbar\":{\"outlinewidth\":0,\"ticks\":\"\"}},\"colorscale\":{\"sequential\":[[0.0,\"#0d0887\"],[0.1111111111111111,\"#46039f\"],[0.2222222222222222,\"#7201a8\"],[0.3333333333333333,\"#9c179e\"],[0.4444444444444444,\"#bd3786\"],[0.5555555555555556,\"#d8576b\"],[0.6666666666666666,\"#ed7953\"],[0.7777777777777778,\"#fb9f3a\"],[0.8888888888888888,\"#fdca26\"],[1.0,\"#f0f921\"]],\"sequentialminus\":[[0.0,\"#0d0887\"],[0.1111111111111111,\"#46039f\"],[0.2222222222222222,\"#7201a8\"],[0.3333333333333333,\"#9c179e\"],[0.4444444444444444,\"#bd3786\"],[0.5555555555555556,\"#d8576b\"],[0.6666666666666666,\"#ed7953\"],[0.7777777777777778,\"#fb9f3a\"],[0.8888888888888888,\"#fdca26\"],[1.0,\"#f0f921\"]],\"diverging\":[[0,\"#8e0152\"],[0.1,\"#c51b7d\"],[0.2,\"#de77ae\"],[0.3,\"#f1b6da\"],[0.4,\"#fde0ef\"],[0.5,\"#f7f7f7\"],[0.6,\"#e6f5d0\"],[0.7,\"#b8e186\"],[0.8,\"#7fbc41\"],[0.9,\"#4d9221\"],[1,\"#276419\"]]},\"xaxis\":{\"gridcolor\":\"white\",\"linecolor\":\"white\",\"ticks\":\"\",\"title\":{\"standoff\":15},\"zerolinecolor\":\"white\",\"automargin\":true,\"zerolinewidth\":2},\"yaxis\":{\"gridcolor\":\"white\",\"linecolor\":\"white\",\"ticks\":\"\",\"title\":{\"standoff\":15},\"zerolinecolor\":\"white\",\"automargin\":true,\"zerolinewidth\":2},\"scene\":{\"xaxis\":{\"backgroundcolor\":\"#E5ECF6\",\"gridcolor\":\"white\",\"linecolor\":\"white\",\"showbackground\":true,\"ticks\":\"\",\"zerolinecolor\":\"white\",\"gridwidth\":2},\"yaxis\":{\"backgroundcolor\":\"#E5ECF6\",\"gridcolor\":\"white\",\"linecolor\":\"white\",\"showbackground\":true,\"ticks\":\"\",\"zerolinecolor\":\"white\",\"gridwidth\":2},\"zaxis\":{\"backgroundcolor\":\"#E5ECF6\",\"gridcolor\":\"white\",\"linecolor\":\"white\",\"showbackground\":true,\"ticks\":\"\",\"zerolinecolor\":\"white\",\"gridwidth\":2}},\"shapedefaults\":{\"line\":{\"color\":\"#2a3f5f\"}},\"annotationdefaults\":{\"arrowcolor\":\"#2a3f5f\",\"arrowhead\":0,\"arrowwidth\":1},\"geo\":{\"bgcolor\":\"white\",\"landcolor\":\"#E5ECF6\",\"subunitcolor\":\"white\",\"showland\":true,\"showlakes\":true,\"lakecolor\":\"white\"},\"title\":{\"x\":0.05},\"mapbox\":{\"style\":\"light\"}}},\"legend\":{\"font\":{\"family\":\"Courier\",\"size\":15,\"color\":\"black\"},\"title\":{\"font\":{\"family\":\"Courier\",\"size\":30,\"color\":\"blue\"}}}},                        {\"responsive\": true}                    ).then(function(){\n                            \nvar gd = document.getElementById('40a85e30-405b-4c07-a473-ed0df6903a62');\nvar x = new MutationObserver(function (mutations, observer) {{\n        var display = window.getComputedStyle(gd).display;\n        if (!display || display === 'none') {{\n            console.log([gd, 'removed!']);\n            Plotly.purge(gd);\n            observer.disconnect();\n        }}\n}});\n\n// Listen for the removal of the full notebook cells\nvar notebookContainer = gd.closest('#notebook-container');\nif (notebookContainer) {{\n    x.observe(notebookContainer, {childList: true});\n}}\n\n// Listen for the clearing of the current output cell\nvar outputEl = gd.closest('.output');\nif (outputEl) {{\n    x.observe(outputEl, {childList: true});\n}}\n\n                        })                };                });            </script>        </div>"
     },
     "metadata": {},
     "output_type": "display_data"
    }
   ],
   "source": [
    "Employment_vs_Dev_type(dev_types)"
   ],
   "metadata": {
    "collapsed": false
   }
  },
  {
   "cell_type": "code",
   "execution_count": 258,
   "outputs": [
    {
     "data": {
      "text/plain": "2        False\n3        False\n7        False\n9        False\n10       False\n         ...  \n73262    False\n73263    False\n73264    False\n73265    False\n73266    False\nName: Country, Length: 50423, dtype: bool"
     },
     "execution_count": 258,
     "metadata": {},
     "output_type": "execute_result"
    }
   ],
   "source": [
    "survey.Country.isin(['Italy', 'Canada'])"
   ],
   "metadata": {
    "collapsed": false
   }
  },
  {
   "cell_type": "code",
   "execution_count": 125,
   "outputs": [
    {
     "data": {
      "text/plain": "       Academic researcher  Blockchain  Cloud infrastructure engineer  \\\n2                    False       False                          False   \n3                    False       False                          False   \n7                    False       False                          False   \n9                    False       False                          False   \n10                   False       False                          False   \n...                    ...         ...                            ...   \n73262                False       False                          False   \n73263                False       False                          False   \n73264                False       False                          False   \n73265                False       False                          False   \n73266                False       False                          False   \n\n       Data or business analyst  \\\n2                         False   \n3                         False   \n7                         False   \n9                         False   \n10                        False   \n...                         ...   \n73262                     False   \n73263                     False   \n73264                     False   \n73265                     False   \n73266                     False   \n\n       Data scientist or machine learning specialist  DevOps specialist  \\\n2                                              False              False   \n3                                              False              False   \n7                                              False              False   \n9                                              False              False   \n10                                             False              False   \n...                                              ...                ...   \n73262                                          False              False   \n73263                                          False              False   \n73264                                          False              False   \n73265                                          False              False   \n73266                                          False              False   \n\n       Developer_back-end  Developer_desktop or enterprise applications  \\\n2                   False                                         False   \n3                   False                                         False   \n7                   False                                         False   \n9                   False                                         False   \n10                  False                                         False   \n...                   ...                                           ...   \n73262               False                                         False   \n73263               False                                         False   \n73264               False                                         False   \n73265               False                                         False   \n73266               False                                         False   \n\n       Developer_embedded applications or devices  Developer_front-end  ...  \\\n2                                           False                False  ...   \n3                                           False                False  ...   \n7                                           False                False  ...   \n9                                           False                False  ...   \n10                                          False                False  ...   \n...                                           ...                  ...  ...   \n73262                                       False                False  ...   \n73263                                       False                False  ...   \n73264                                       False                False  ...   \n73265                                       False                False  ...   \n73266                                       False                False  ...   \n\n       full_stack_Java  full_stack_.JavaScript  full_stack_PHP  \\\n2                False                   False           False   \n3                False                   False           False   \n7                False                   False           False   \n9                False                   False           False   \n10               False                   False           False   \n...                ...                     ...             ...   \n73262            False                   False           False   \n73263            False                   False           False   \n73264            False                   False           False   \n73265            False                   False           False   \n73266            False                   False           False   \n\n       full_stack_python  back_end_Java  back_end_.JavaScript  back_end_.NET  \\\n2                  False          False                 False          False   \n3                  False          False                 False          False   \n7                  False          False                 False          False   \n9                  False          False                 False          False   \n10                 False          False                 False          False   \n...                  ...            ...                   ...            ...   \n73262              False          False                 False          False   \n73263              False          False                 False          False   \n73264              False          False                 False          False   \n73265              False          False                 False          False   \n73266              False          False                 False          False   \n\n       back_end_C++  back_end_python  back_end_PHP  \n2             False            False         False  \n3             False            False         False  \n7             False            False         False  \n9             False            False         False  \n10            False            False         False  \n...             ...              ...           ...  \n73262         False            False         False  \n73263         False            False         False  \n73264         False            False         False  \n73265         False            False         False  \n73266         False            False         False  \n\n[50423 rows x 27 columns]",
      "text/html": "<div>\n<style scoped>\n    .dataframe tbody tr th:only-of-type {\n        vertical-align: middle;\n    }\n\n    .dataframe tbody tr th {\n        vertical-align: top;\n    }\n\n    .dataframe thead th {\n        text-align: right;\n    }\n</style>\n<table border=\"1\" class=\"dataframe\">\n  <thead>\n    <tr style=\"text-align: right;\">\n      <th></th>\n      <th>Academic researcher</th>\n      <th>Blockchain</th>\n      <th>Cloud infrastructure engineer</th>\n      <th>Data or business analyst</th>\n      <th>Data scientist or machine learning specialist</th>\n      <th>DevOps specialist</th>\n      <th>Developer_back-end</th>\n      <th>Developer_desktop or enterprise applications</th>\n      <th>Developer_embedded applications or devices</th>\n      <th>Developer_front-end</th>\n      <th>...</th>\n      <th>full_stack_Java</th>\n      <th>full_stack_.JavaScript</th>\n      <th>full_stack_PHP</th>\n      <th>full_stack_python</th>\n      <th>back_end_Java</th>\n      <th>back_end_.JavaScript</th>\n      <th>back_end_.NET</th>\n      <th>back_end_C++</th>\n      <th>back_end_python</th>\n      <th>back_end_PHP</th>\n    </tr>\n  </thead>\n  <tbody>\n    <tr>\n      <th>2</th>\n      <td>False</td>\n      <td>False</td>\n      <td>False</td>\n      <td>False</td>\n      <td>False</td>\n      <td>False</td>\n      <td>False</td>\n      <td>False</td>\n      <td>False</td>\n      <td>False</td>\n      <td>...</td>\n      <td>False</td>\n      <td>False</td>\n      <td>False</td>\n      <td>False</td>\n      <td>False</td>\n      <td>False</td>\n      <td>False</td>\n      <td>False</td>\n      <td>False</td>\n      <td>False</td>\n    </tr>\n    <tr>\n      <th>3</th>\n      <td>False</td>\n      <td>False</td>\n      <td>False</td>\n      <td>False</td>\n      <td>False</td>\n      <td>False</td>\n      <td>False</td>\n      <td>False</td>\n      <td>False</td>\n      <td>False</td>\n      <td>...</td>\n      <td>False</td>\n      <td>False</td>\n      <td>False</td>\n      <td>False</td>\n      <td>False</td>\n      <td>False</td>\n      <td>False</td>\n      <td>False</td>\n      <td>False</td>\n      <td>False</td>\n    </tr>\n    <tr>\n      <th>7</th>\n      <td>False</td>\n      <td>False</td>\n      <td>False</td>\n      <td>False</td>\n      <td>False</td>\n      <td>False</td>\n      <td>False</td>\n      <td>False</td>\n      <td>False</td>\n      <td>False</td>\n      <td>...</td>\n      <td>False</td>\n      <td>False</td>\n      <td>False</td>\n      <td>False</td>\n      <td>False</td>\n      <td>False</td>\n      <td>False</td>\n      <td>False</td>\n      <td>False</td>\n      <td>False</td>\n    </tr>\n    <tr>\n      <th>9</th>\n      <td>False</td>\n      <td>False</td>\n      <td>False</td>\n      <td>False</td>\n      <td>False</td>\n      <td>False</td>\n      <td>False</td>\n      <td>False</td>\n      <td>False</td>\n      <td>False</td>\n      <td>...</td>\n      <td>False</td>\n      <td>False</td>\n      <td>False</td>\n      <td>False</td>\n      <td>False</td>\n      <td>False</td>\n      <td>False</td>\n      <td>False</td>\n      <td>False</td>\n      <td>False</td>\n    </tr>\n    <tr>\n      <th>10</th>\n      <td>False</td>\n      <td>False</td>\n      <td>False</td>\n      <td>False</td>\n      <td>False</td>\n      <td>False</td>\n      <td>False</td>\n      <td>False</td>\n      <td>False</td>\n      <td>False</td>\n      <td>...</td>\n      <td>False</td>\n      <td>False</td>\n      <td>False</td>\n      <td>False</td>\n      <td>False</td>\n      <td>False</td>\n      <td>False</td>\n      <td>False</td>\n      <td>False</td>\n      <td>False</td>\n    </tr>\n    <tr>\n      <th>...</th>\n      <td>...</td>\n      <td>...</td>\n      <td>...</td>\n      <td>...</td>\n      <td>...</td>\n      <td>...</td>\n      <td>...</td>\n      <td>...</td>\n      <td>...</td>\n      <td>...</td>\n      <td>...</td>\n      <td>...</td>\n      <td>...</td>\n      <td>...</td>\n      <td>...</td>\n      <td>...</td>\n      <td>...</td>\n      <td>...</td>\n      <td>...</td>\n      <td>...</td>\n      <td>...</td>\n    </tr>\n    <tr>\n      <th>73262</th>\n      <td>False</td>\n      <td>False</td>\n      <td>False</td>\n      <td>False</td>\n      <td>False</td>\n      <td>False</td>\n      <td>False</td>\n      <td>False</td>\n      <td>False</td>\n      <td>False</td>\n      <td>...</td>\n      <td>False</td>\n      <td>False</td>\n      <td>False</td>\n      <td>False</td>\n      <td>False</td>\n      <td>False</td>\n      <td>False</td>\n      <td>False</td>\n      <td>False</td>\n      <td>False</td>\n    </tr>\n    <tr>\n      <th>73263</th>\n      <td>False</td>\n      <td>False</td>\n      <td>False</td>\n      <td>False</td>\n      <td>False</td>\n      <td>False</td>\n      <td>False</td>\n      <td>False</td>\n      <td>False</td>\n      <td>False</td>\n      <td>...</td>\n      <td>False</td>\n      <td>False</td>\n      <td>False</td>\n      <td>False</td>\n      <td>False</td>\n      <td>False</td>\n      <td>False</td>\n      <td>False</td>\n      <td>False</td>\n      <td>False</td>\n    </tr>\n    <tr>\n      <th>73264</th>\n      <td>False</td>\n      <td>False</td>\n      <td>False</td>\n      <td>False</td>\n      <td>False</td>\n      <td>False</td>\n      <td>False</td>\n      <td>False</td>\n      <td>False</td>\n      <td>False</td>\n      <td>...</td>\n      <td>False</td>\n      <td>False</td>\n      <td>False</td>\n      <td>False</td>\n      <td>False</td>\n      <td>False</td>\n      <td>False</td>\n      <td>False</td>\n      <td>False</td>\n      <td>False</td>\n    </tr>\n    <tr>\n      <th>73265</th>\n      <td>False</td>\n      <td>False</td>\n      <td>False</td>\n      <td>False</td>\n      <td>False</td>\n      <td>False</td>\n      <td>False</td>\n      <td>False</td>\n      <td>False</td>\n      <td>False</td>\n      <td>...</td>\n      <td>False</td>\n      <td>False</td>\n      <td>False</td>\n      <td>False</td>\n      <td>False</td>\n      <td>False</td>\n      <td>False</td>\n      <td>False</td>\n      <td>False</td>\n      <td>False</td>\n    </tr>\n    <tr>\n      <th>73266</th>\n      <td>False</td>\n      <td>False</td>\n      <td>False</td>\n      <td>False</td>\n      <td>False</td>\n      <td>False</td>\n      <td>False</td>\n      <td>False</td>\n      <td>False</td>\n      <td>False</td>\n      <td>...</td>\n      <td>False</td>\n      <td>False</td>\n      <td>False</td>\n      <td>False</td>\n      <td>False</td>\n      <td>False</td>\n      <td>False</td>\n      <td>False</td>\n      <td>False</td>\n      <td>False</td>\n    </tr>\n  </tbody>\n</table>\n<p>50423 rows × 27 columns</p>\n</div>"
     },
     "execution_count": 125,
     "metadata": {},
     "output_type": "execute_result"
    }
   ],
   "source": [
    "skills_dev_df.DevType.isin(['Academic researcher', 'Developer_front-end', 'Engineer_data'])"
   ],
   "metadata": {
    "collapsed": false
   }
  },
  {
   "cell_type": "code",
   "execution_count": null,
   "outputs": [],
   "source": [],
   "metadata": {
    "collapsed": false
   }
  }
 ],
 "metadata": {
  "kernelspec": {
   "display_name": "Python 3",
   "language": "python",
   "name": "python3"
  },
  "language_info": {
   "codemirror_mode": {
    "name": "ipython",
    "version": 2
   },
   "file_extension": ".py",
   "mimetype": "text/x-python",
   "name": "python",
   "nbconvert_exporter": "python",
   "pygments_lexer": "ipython2",
   "version": "2.7.6"
  }
 },
 "nbformat": 4,
 "nbformat_minor": 0
}
