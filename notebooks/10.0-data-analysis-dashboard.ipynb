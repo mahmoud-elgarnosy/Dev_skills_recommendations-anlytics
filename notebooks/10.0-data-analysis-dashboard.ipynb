{
 "cells": [
  {
   "cell_type": "code",
   "execution_count": 1,
   "metadata": {
    "collapsed": true
   },
   "outputs": [],
   "source": [
    "import sys\n",
    "import os\n",
    "\n",
    "import matplotlib.pyplot as plt\n",
    "\n",
    "SCRIPT_DIR = os.path.dirname(os.path.abspath('src'))\n",
    "sys.path.append(os.path.dirname(SCRIPT_DIR))"
   ]
  },
  {
   "cell_type": "code",
   "execution_count": 2,
   "outputs": [],
   "source": [
    "import pickle\n",
    "import pandas as pd\n",
    "from sklearn.preprocessing import MultiLabelBinarizer\n",
    "import plotly.express as px\n",
    "import plotly.figure_factory as ff\n",
    "import plotly.graph_objects as go\n",
    "import numpy as np"
   ],
   "metadata": {
    "collapsed": false
   }
  },
  {
   "cell_type": "code",
   "execution_count": 3,
   "outputs": [],
   "source": [
    "LOAD_PATH = '../data/interim/'\n",
    "LOAD_ANALYSIS_DF = '4.0-preprocessed-data-analysation.pkl'\n",
    "LOAD_SKILLS_DEV = '7.0-Chosen_features_and_roles.pkl'"
   ],
   "metadata": {
    "collapsed": false
   }
  },
  {
   "cell_type": "code",
   "execution_count": 4,
   "outputs": [],
   "source": [
    "survey = pd.read_pickle(LOAD_PATH + LOAD_ANALYSIS_DF)\n",
    "skills_dev_df = pd.read_pickle(LOAD_PATH + LOAD_SKILLS_DEV)"
   ],
   "metadata": {
    "collapsed": false
   }
  },
  {
   "cell_type": "code",
   "execution_count": 5,
   "outputs": [],
   "source": [
    "with open(LOAD_PATH + 'chosen_columns.pkl', 'rb') as f:\n",
    "    chosen_columns = pickle.load(f)\n",
    "survey = survey[chosen_columns['analysis']]\n"
   ],
   "metadata": {
    "collapsed": false
   }
  },
  {
   "cell_type": "code",
   "execution_count": 6,
   "outputs": [
    {
     "data": {
      "text/plain": "       MainBranch                                         Employment  \\\n2               0                               [Employed_full-time]   \n3               1                               [Employed_full-time]   \n7               1                [Not employed_but looking for work]   \n9               1  [Independent contractor_freelancer_or self-emp...   \n10              1                               [Employed_full-time]   \n...           ...                                                ...   \n73262           0            [Student_full-time, Employed_part-time]   \n73263           1                               [Employed_full-time]   \n73264           1                               [Employed_full-time]   \n73265           0                               [Employed_full-time]   \n73266           1                               [Employed_full-time]   \n\n                                 RemoteWork  \\\n2      Hybrid (some remote, some in-person)   \n3                              Fully remote   \n7                                       NaN   \n9                              Fully remote   \n10     Hybrid (some remote, some in-person)   \n...                                     ...   \n73262  Hybrid (some remote, some in-person)   \n73263                          Fully remote   \n73264                        Full in-person   \n73265  Hybrid (some remote, some in-person)   \n73266  Hybrid (some remote, some in-person)   \n\n                                                 EdLevel  YearsCode  \\\n2        Master’s degree (M.A., M.S., M.Eng., MBA, etc.)         14   \n3           Bachelor’s degree (B.A., B.S., B.Eng., etc.)         20   \n7      Some college/university study without earning ...          1   \n9      Some college/university study without earning ...         37   \n10          Bachelor’s degree (B.A., B.S., B.Eng., etc.)          5   \n...                                                  ...        ...   \n73262  Secondary school (e.g. American high school, G...          4   \n73263       Bachelor’s degree (B.A., B.S., B.Eng., etc.)          8   \n73264    Master’s degree (M.A., M.S., M.Eng., MBA, etc.)          6   \n73265       Bachelor’s degree (B.A., B.S., B.Eng., etc.)         42   \n73266       Bachelor’s degree (B.A., B.S., B.Eng., etc.)         50   \n\n       YearsCodePro                                            DevType  \\\n2                 5  [Data scientist or machine learning specialist...   \n3                17                             [Developer_full-stack]   \n7                 0                    [Developer_full-stack, Student]   \n9                30  [Developer_desktop or enterprise applications,...   \n10                2         [Developer_full-stack, Developer_back-end]   \n...             ...                                                ...   \n73262             0                     [Developer_front-end, Student]   \n73263             5                               [Developer_back-end]   \n73264             5    [Data scientist or machine learning specialist]   \n73265            33  [Developer_full-stack, Developer_desktop or en...   \n73266            31  [Developer_front-end, Developer_desktop or ent...   \n\n                                                 OrgSize  \\\n2                                     20 to 99 employees   \n3                                   100 to 499 employees   \n7                                                    NaN   \n9      Just me - I am a freelancer, sole proprietor, ...   \n10                                  100 to 499 employees   \n...                                                  ...   \n73262                                                NaN   \n73263                               100 to 499 employees   \n73264                                       I don’t know   \n73265                                 20 to 99 employees   \n73266                                 10 to 19 employees   \n\n                                                 Country  CompTotal  ...  \\\n2      United Kingdom of Great Britain and Northern I...    32000.0  ...   \n3                                                 Israel    60000.0  ...   \n7                                                  India        NaN  ...   \n9                                                Croatia        NaN  ...   \n10     United Kingdom of Great Britain and Northern I...    48000.0  ...   \n...                                                  ...        ...  ...   \n73262                                            Germany        NaN  ...   \n73263                                            Nigeria    60000.0  ...   \n73264                           United States of America   107000.0  ...   \n73265                           United States of America        NaN  ...   \n73266  United Kingdom of Great Britain and Northern I...    58500.0  ...   \n\n                                  MiscTechHaveWorkedWith  \\\n2                                               [Pandas]   \n3                                                 [.NET]   \n7                                                     []   \n9                                                     []   \n10                                                [.NET]   \n...                                                  ...   \n73262                                                 []   \n73263                                          [Flutter]   \n73264  [Keras, NumPy, Pandas, Scikit-learn, TensorFlo...   \n73265                       [.NET, Pandas, React Native]   \n73266                                                 []   \n\n                                  MiscTechWantToWorkWith  \\\n2                                                 [.NET]   \n3                                                 [.NET]   \n7                                                     []   \n9                                                     []   \n10                                                    []   \n...                                                  ...   \n73262                                                 []   \n73263                                                 []   \n73264  [NumPy, Pandas, Torch/PyTorch, Hugging Face Tr...   \n73265  [.NET, Cordova, Ionic, Pandas, React Native, X...   \n73266                                                 []   \n\n                   ToolsTechHaveWorkedWith  \\\n2                                       []   \n3                                       []   \n7                                    [npm]   \n9                                       []   \n10                [Docker, npm, Terraform]   \n...                                    ...   \n73262                                [npm]   \n73263  [Docker, Homebrew, Kubernetes, npm]   \n73264                                   []   \n73265                                [npm]   \n73266                                   []   \n\n                   ToolsTechWantToWorkWith  \\\n2                                       []   \n3                                       []   \n7                         [Unity 3D, Yarn]   \n9                                       []   \n10                     [Docker, Terraform]   \n...                                    ...   \n73262                                   []   \n73263  [Docker, Homebrew, Kubernetes, npm]   \n73264                                   []   \n73265                 [npm, Unreal Engine]   \n73266                                   []   \n\n                            NEWCollabToolsHaveWorkedWith  \\\n2                             [Notepad++, Visual Studio]   \n3         [Notepad++, Visual Studio, Visual Studio Code]   \n7      [Atom, CLion, Eclipse, IntelliJ, Notepad++, Vi...   \n9      [Android Studio, RAD Studio (Delphi_C++ Builde...   \n10            [Rider, Visual Studio, Visual Studio Code]   \n...                                                  ...   \n73262                      [Eclipse, Visual Studio Code]   \n73263  [IPython/Jupyter, Sublime Text, Vim, Visual St...   \n73264  [IPython/Jupyter, Notepad++, Spyder, Vim, Visu...   \n73265        [Spyder, Visual Studio, Visual Studio Code]   \n73266   [RAD Studio (Delphi_C++ Builder), Visual Studio]   \n\n                            NEWCollabToolsWantToWorkWith  \\\n2                             [Notepad++, Visual Studio]   \n3         [Notepad++, Visual Studio, Visual Studio Code]   \n7      [Android Studio, IPython/Jupyter, Sublime Text...   \n9      [Android Studio, RAD Studio (Delphi_C++ Builde...   \n10                           [Rider, Visual Studio Code]   \n...                                                  ...   \n73262               [Android Studio, Visual Studio Code]   \n73263            [Sublime Text, Vim, Visual Studio Code]   \n73264       [Notepad++, Spyder, Vim, Visual Studio Code]   \n73265        [Spyder, Visual Studio, Visual Studio Code]   \n73266   [RAD Studio (Delphi_C++ Builder), Visual Studio]   \n\n                              OpSysProfessional use VersionControlSystem  \\\n2                                         [Windows]                [Git]   \n3                                         [Windows]                [Git]   \n7                              [Linux-based, macOS]                [Git]   \n9                                         [Windows]                [Git]   \n10     [Windows, Windows Subsystem for Linux (WSL)]                [Git]   \n...                                             ...                  ...   \n73262                                            []                [Git]   \n73263                                       [macOS]                [Git]   \n73264                        [Linux-based, Windows]                [Git]   \n73265                                     [Windows]                [Git]   \n73266                                     [Windows]                [SVN]   \n\n                   Age   Gender  \n2      25-34 years old    [Man]  \n3      35-44 years old    [Man]  \n7      18-24 years old    [Man]  \n9      45-54 years old  [Woman]  \n10     18-24 years old    [Man]  \n...                ...      ...  \n73262  18-24 years old    [Man]  \n73263  25-34 years old    [Man]  \n73264  25-34 years old    [Man]  \n73265  55-64 years old    [Man]  \n73266  55-64 years old    [Man]  \n\n[50423 rows x 29 columns]",
      "text/html": "<div>\n<style scoped>\n    .dataframe tbody tr th:only-of-type {\n        vertical-align: middle;\n    }\n\n    .dataframe tbody tr th {\n        vertical-align: top;\n    }\n\n    .dataframe thead th {\n        text-align: right;\n    }\n</style>\n<table border=\"1\" class=\"dataframe\">\n  <thead>\n    <tr style=\"text-align: right;\">\n      <th></th>\n      <th>MainBranch</th>\n      <th>Employment</th>\n      <th>RemoteWork</th>\n      <th>EdLevel</th>\n      <th>YearsCode</th>\n      <th>YearsCodePro</th>\n      <th>DevType</th>\n      <th>OrgSize</th>\n      <th>Country</th>\n      <th>CompTotal</th>\n      <th>...</th>\n      <th>MiscTechHaveWorkedWith</th>\n      <th>MiscTechWantToWorkWith</th>\n      <th>ToolsTechHaveWorkedWith</th>\n      <th>ToolsTechWantToWorkWith</th>\n      <th>NEWCollabToolsHaveWorkedWith</th>\n      <th>NEWCollabToolsWantToWorkWith</th>\n      <th>OpSysProfessional use</th>\n      <th>VersionControlSystem</th>\n      <th>Age</th>\n      <th>Gender</th>\n    </tr>\n  </thead>\n  <tbody>\n    <tr>\n      <th>2</th>\n      <td>0</td>\n      <td>[Employed_full-time]</td>\n      <td>Hybrid (some remote, some in-person)</td>\n      <td>Master’s degree (M.A., M.S., M.Eng., MBA, etc.)</td>\n      <td>14</td>\n      <td>5</td>\n      <td>[Data scientist or machine learning specialist...</td>\n      <td>20 to 99 employees</td>\n      <td>United Kingdom of Great Britain and Northern I...</td>\n      <td>32000.0</td>\n      <td>...</td>\n      <td>[Pandas]</td>\n      <td>[.NET]</td>\n      <td>[]</td>\n      <td>[]</td>\n      <td>[Notepad++, Visual Studio]</td>\n      <td>[Notepad++, Visual Studio]</td>\n      <td>[Windows]</td>\n      <td>[Git]</td>\n      <td>25-34 years old</td>\n      <td>[Man]</td>\n    </tr>\n    <tr>\n      <th>3</th>\n      <td>1</td>\n      <td>[Employed_full-time]</td>\n      <td>Fully remote</td>\n      <td>Bachelor’s degree (B.A., B.S., B.Eng., etc.)</td>\n      <td>20</td>\n      <td>17</td>\n      <td>[Developer_full-stack]</td>\n      <td>100 to 499 employees</td>\n      <td>Israel</td>\n      <td>60000.0</td>\n      <td>...</td>\n      <td>[.NET]</td>\n      <td>[.NET]</td>\n      <td>[]</td>\n      <td>[]</td>\n      <td>[Notepad++, Visual Studio, Visual Studio Code]</td>\n      <td>[Notepad++, Visual Studio, Visual Studio Code]</td>\n      <td>[Windows]</td>\n      <td>[Git]</td>\n      <td>35-44 years old</td>\n      <td>[Man]</td>\n    </tr>\n    <tr>\n      <th>7</th>\n      <td>1</td>\n      <td>[Not employed_but looking for work]</td>\n      <td>NaN</td>\n      <td>Some college/university study without earning ...</td>\n      <td>1</td>\n      <td>0</td>\n      <td>[Developer_full-stack, Student]</td>\n      <td>NaN</td>\n      <td>India</td>\n      <td>NaN</td>\n      <td>...</td>\n      <td>[]</td>\n      <td>[]</td>\n      <td>[npm]</td>\n      <td>[Unity 3D, Yarn]</td>\n      <td>[Atom, CLion, Eclipse, IntelliJ, Notepad++, Vi...</td>\n      <td>[Android Studio, IPython/Jupyter, Sublime Text...</td>\n      <td>[Linux-based, macOS]</td>\n      <td>[Git]</td>\n      <td>18-24 years old</td>\n      <td>[Man]</td>\n    </tr>\n    <tr>\n      <th>9</th>\n      <td>1</td>\n      <td>[Independent contractor_freelancer_or self-emp...</td>\n      <td>Fully remote</td>\n      <td>Some college/university study without earning ...</td>\n      <td>37</td>\n      <td>30</td>\n      <td>[Developer_desktop or enterprise applications,...</td>\n      <td>Just me - I am a freelancer, sole proprietor, ...</td>\n      <td>Croatia</td>\n      <td>NaN</td>\n      <td>...</td>\n      <td>[]</td>\n      <td>[]</td>\n      <td>[]</td>\n      <td>[]</td>\n      <td>[Android Studio, RAD Studio (Delphi_C++ Builde...</td>\n      <td>[Android Studio, RAD Studio (Delphi_C++ Builde...</td>\n      <td>[Windows]</td>\n      <td>[Git]</td>\n      <td>45-54 years old</td>\n      <td>[Woman]</td>\n    </tr>\n    <tr>\n      <th>10</th>\n      <td>1</td>\n      <td>[Employed_full-time]</td>\n      <td>Hybrid (some remote, some in-person)</td>\n      <td>Bachelor’s degree (B.A., B.S., B.Eng., etc.)</td>\n      <td>5</td>\n      <td>2</td>\n      <td>[Developer_full-stack, Developer_back-end]</td>\n      <td>100 to 499 employees</td>\n      <td>United Kingdom of Great Britain and Northern I...</td>\n      <td>48000.0</td>\n      <td>...</td>\n      <td>[.NET]</td>\n      <td>[]</td>\n      <td>[Docker, npm, Terraform]</td>\n      <td>[Docker, Terraform]</td>\n      <td>[Rider, Visual Studio, Visual Studio Code]</td>\n      <td>[Rider, Visual Studio Code]</td>\n      <td>[Windows, Windows Subsystem for Linux (WSL)]</td>\n      <td>[Git]</td>\n      <td>18-24 years old</td>\n      <td>[Man]</td>\n    </tr>\n    <tr>\n      <th>...</th>\n      <td>...</td>\n      <td>...</td>\n      <td>...</td>\n      <td>...</td>\n      <td>...</td>\n      <td>...</td>\n      <td>...</td>\n      <td>...</td>\n      <td>...</td>\n      <td>...</td>\n      <td>...</td>\n      <td>...</td>\n      <td>...</td>\n      <td>...</td>\n      <td>...</td>\n      <td>...</td>\n      <td>...</td>\n      <td>...</td>\n      <td>...</td>\n      <td>...</td>\n      <td>...</td>\n    </tr>\n    <tr>\n      <th>73262</th>\n      <td>0</td>\n      <td>[Student_full-time, Employed_part-time]</td>\n      <td>Hybrid (some remote, some in-person)</td>\n      <td>Secondary school (e.g. American high school, G...</td>\n      <td>4</td>\n      <td>0</td>\n      <td>[Developer_front-end, Student]</td>\n      <td>NaN</td>\n      <td>Germany</td>\n      <td>NaN</td>\n      <td>...</td>\n      <td>[]</td>\n      <td>[]</td>\n      <td>[npm]</td>\n      <td>[]</td>\n      <td>[Eclipse, Visual Studio Code]</td>\n      <td>[Android Studio, Visual Studio Code]</td>\n      <td>[]</td>\n      <td>[Git]</td>\n      <td>18-24 years old</td>\n      <td>[Man]</td>\n    </tr>\n    <tr>\n      <th>73263</th>\n      <td>1</td>\n      <td>[Employed_full-time]</td>\n      <td>Fully remote</td>\n      <td>Bachelor’s degree (B.A., B.S., B.Eng., etc.)</td>\n      <td>8</td>\n      <td>5</td>\n      <td>[Developer_back-end]</td>\n      <td>100 to 499 employees</td>\n      <td>Nigeria</td>\n      <td>60000.0</td>\n      <td>...</td>\n      <td>[Flutter]</td>\n      <td>[]</td>\n      <td>[Docker, Homebrew, Kubernetes, npm]</td>\n      <td>[Docker, Homebrew, Kubernetes, npm]</td>\n      <td>[IPython/Jupyter, Sublime Text, Vim, Visual St...</td>\n      <td>[Sublime Text, Vim, Visual Studio Code]</td>\n      <td>[macOS]</td>\n      <td>[Git]</td>\n      <td>25-34 years old</td>\n      <td>[Man]</td>\n    </tr>\n    <tr>\n      <th>73264</th>\n      <td>1</td>\n      <td>[Employed_full-time]</td>\n      <td>Full in-person</td>\n      <td>Master’s degree (M.A., M.S., M.Eng., MBA, etc.)</td>\n      <td>6</td>\n      <td>5</td>\n      <td>[Data scientist or machine learning specialist]</td>\n      <td>I don’t know</td>\n      <td>United States of America</td>\n      <td>107000.0</td>\n      <td>...</td>\n      <td>[Keras, NumPy, Pandas, Scikit-learn, TensorFlo...</td>\n      <td>[NumPy, Pandas, Torch/PyTorch, Hugging Face Tr...</td>\n      <td>[]</td>\n      <td>[]</td>\n      <td>[IPython/Jupyter, Notepad++, Spyder, Vim, Visu...</td>\n      <td>[Notepad++, Spyder, Vim, Visual Studio Code]</td>\n      <td>[Linux-based, Windows]</td>\n      <td>[Git]</td>\n      <td>25-34 years old</td>\n      <td>[Man]</td>\n    </tr>\n    <tr>\n      <th>73265</th>\n      <td>0</td>\n      <td>[Employed_full-time]</td>\n      <td>Hybrid (some remote, some in-person)</td>\n      <td>Bachelor’s degree (B.A., B.S., B.Eng., etc.)</td>\n      <td>42</td>\n      <td>33</td>\n      <td>[Developer_full-stack, Developer_desktop or en...</td>\n      <td>20 to 99 employees</td>\n      <td>United States of America</td>\n      <td>NaN</td>\n      <td>...</td>\n      <td>[.NET, Pandas, React Native]</td>\n      <td>[.NET, Cordova, Ionic, Pandas, React Native, X...</td>\n      <td>[npm]</td>\n      <td>[npm, Unreal Engine]</td>\n      <td>[Spyder, Visual Studio, Visual Studio Code]</td>\n      <td>[Spyder, Visual Studio, Visual Studio Code]</td>\n      <td>[Windows]</td>\n      <td>[Git]</td>\n      <td>55-64 years old</td>\n      <td>[Man]</td>\n    </tr>\n    <tr>\n      <th>73266</th>\n      <td>1</td>\n      <td>[Employed_full-time]</td>\n      <td>Hybrid (some remote, some in-person)</td>\n      <td>Bachelor’s degree (B.A., B.S., B.Eng., etc.)</td>\n      <td>50</td>\n      <td>31</td>\n      <td>[Developer_front-end, Developer_desktop or ent...</td>\n      <td>10 to 19 employees</td>\n      <td>United Kingdom of Great Britain and Northern I...</td>\n      <td>58500.0</td>\n      <td>...</td>\n      <td>[]</td>\n      <td>[]</td>\n      <td>[]</td>\n      <td>[]</td>\n      <td>[RAD Studio (Delphi_C++ Builder), Visual Studio]</td>\n      <td>[RAD Studio (Delphi_C++ Builder), Visual Studio]</td>\n      <td>[Windows]</td>\n      <td>[SVN]</td>\n      <td>55-64 years old</td>\n      <td>[Man]</td>\n    </tr>\n  </tbody>\n</table>\n<p>50423 rows × 29 columns</p>\n</div>"
     },
     "execution_count": 6,
     "metadata": {},
     "output_type": "execute_result"
    }
   ],
   "source": [
    "survey"
   ],
   "metadata": {
    "collapsed": false
   }
  },
  {
   "cell_type": "markdown",
   "source": [
    "## Helper Functions"
   ],
   "metadata": {
    "collapsed": false
   }
  },
  {
   "cell_type": "code",
   "execution_count": 8,
   "outputs": [],
   "source": [
    "def binarize(df, column):\n",
    "    binarizer = MultiLabelBinarizer()\n",
    "    mask = df[column].notnull()\n",
    "\n",
    "    #filter by boolean indexing\n",
    "    arr = binarizer.fit_transform(df.loc[mask, column])\n",
    "\n",
    "    #create DataFrame and add missing (NaN)s index values\n",
    "    return  (pd.DataFrame(arr, index=df.index[mask], columns=binarizer.classes_)\n",
    "           .reindex(df[column].index, fill_value=0))\n"
   ],
   "metadata": {
    "collapsed": false
   }
  },
  {
   "cell_type": "code",
   "execution_count": 9,
   "outputs": [],
   "source": [
    "def change_labels(x: str):\n",
    "    if 'Developer_' in x:\n",
    "        x = x.replace('Developer_', '') + ' dev'\n",
    "\n",
    "    if ' or ' in x:\n",
    "        if x == 'embedded applications or devices dev':\n",
    "            x = 'Embedded applications dev'\n",
    "        else:\n",
    "            index_to_delete = x.index(' or ')\n",
    "            x = x[index_to_delete + 4:]\n",
    "\n",
    "    if 'Engineer_' in x:\n",
    "        x = x.replace('Engineer_', '') + '  Engineer'\n",
    "\n",
    "    if x.__contains__('back_end') or x.__contains__('full_stack'):\n",
    "        x += ' dev'\n",
    "    return x.capitalize()"
   ],
   "metadata": {
    "collapsed": false
   }
  },
  {
   "cell_type": "markdown",
   "source": [
    "# 1.Employment vs Dev type\n",
    "first we need to know Employment type abd is there any relation between them with dev type or not"
   ],
   "metadata": {
    "collapsed": false
   }
  },
  {
   "cell_type": "code",
   "execution_count": 150,
   "outputs": [],
   "source": [
    "def calculate_most_common_jobs(threshold = 10):\n",
    "    jobs_freq = skills_dev_df['DevType'].sum().reset_index()\n",
    "    jobs_freq.columns = ['job_type', 'freq']\n",
    "    jobs_freq = jobs_freq.sort_values(by = 'freq', ascending=False)\n",
    "    filtering = (jobs_freq.job_type.str.contains('full_stack')) | (jobs_freq.job_type.str.contains('back_end'))\n",
    "    job_freq_without_specific_titles = jobs_freq[~filtering]\n",
    "    most_10_freq_jobs = list(job_freq_without_specific_titles.iloc[:threshold].sort_values(by='freq').job_type)\n",
    "    return most_10_freq_jobs\n"
   ],
   "metadata": {
    "collapsed": false
   }
  },
  {
   "cell_type": "code",
   "execution_count": 151,
   "outputs": [],
   "source": [
    "most_10_freq_jobs = calculate_most_common_jobs()"
   ],
   "metadata": {
    "collapsed": false
   }
  },
  {
   "cell_type": "code",
   "execution_count": 175,
   "outputs": [],
   "source": [
    "def create_employment_vs_dev_type_chart(dev_types):\n",
    "    # Define employment types\n",
    "    employment_columns = {\n",
    "        'full-time': 'Employed_full-time',\n",
    "        'part-time': 'Employed_part-time',\n",
    "        'freelancer': 'Independent contractor_freelancer_or self-employed'\n",
    "    }\n",
    "\n",
    "    # Prepare employment data\n",
    "    employment_df = binarize(survey, 'Employment')\n",
    "    employment_df = employment_df[list(employment_columns.values())]\n",
    "    employment_df.rename(columns=employment_columns, inplace=True)\n",
    "    employment_df.columns = pd.MultiIndex.from_product([['Employment'], employment_df.columns])\n",
    "\n",
    "    # Prepare developer data\n",
    "    dev_df = skills_dev_df['DevType'][dev_types]\n",
    "    dev_df.columns = pd.MultiIndex.from_product([['DevType'], dev_df.columns])\n",
    "\n",
    "    # Merge employment and developer data\n",
    "    employment_dev = employment_df.merge(dev_df, left_index=True, right_index=True)\n",
    "\n",
    "    # Calculate employment vs. developer counts\n",
    "    employment_dev_count = (employment_dev.Employment.values.T @ employment_dev.DevType)\n",
    "    employment_dev_count.index = employment_columns.keys()\n",
    "    # Calculate percentages\n",
    "    employment_dev_percentage = (employment_dev_count / employment_dev_count.sum(axis=0)) * 100\n",
    "    employment_dev_percentage = employment_dev_percentage.drop('full-time', axis=0)\n",
    "\n",
    "    # Create the figure\n",
    "    fig = go.Figure()\n",
    "\n",
    "    # Get the viridis color scale\n",
    "    # colorscale = px.colors.qualitative.Dark24\n",
    "\n",
    "    for i, employment_type in enumerate(employment_dev_percentage.index):\n",
    "        fig.add_trace(go.Bar(\n",
    "            name=employment_type,\n",
    "            y=dev_types,\n",
    "            x=employment_dev_percentage.loc[employment_type, :].values,\n",
    "            orientation='h',\n",
    "            # marker_color=colorscale[i % len(colorscale)]  # Cycle through viridis colors\n",
    "        ))\n",
    "    # Set layout\n",
    "    layout = go.Layout(\n",
    "        barmode = 'group',\n",
    "        title = dict(\n",
    "            text = \"Most Common Jobs vs Employment Type\",\n",
    "            font_size = 20,\n",
    "            x = .5\n",
    "        ),\n",
    "    )\n",
    "\n",
    "    fig.update_layout(layout)\n",
    "    fig.update_yaxes(title=\"Job Type\",\n",
    "            tickmode='array',\n",
    "            tickvals=np.arange(len(dev_types)),\n",
    "            ticktext=[change_labels(x) for x in dev_types],\n",
    "            tickangle=45,\n",
    "            tickfont=dict(family='Rockwell', size=15))\n",
    "\n",
    "    fig.update_xaxes(title=\"Percentage (%)\",\n",
    "            tickfont={'size': 20})\n",
    "\n",
    "    return fig"
   ],
   "metadata": {
    "collapsed": false
   }
  },
  {
   "cell_type": "code",
   "execution_count": 176,
   "outputs": [
    {
     "data": {
      "application/vnd.plotly.v1+json": {
       "data": [
        {
         "name": "part-time",
         "orientation": "h",
         "x": [
          3.9580352885073915,
          7.37134909596662,
          8.78438331854481,
          3.2932011331444757,
          4.522613065326634,
          5.84016393442623,
          5.82149745747852,
          6.337892506260837,
          4.908473201156128,
          5.604029864171989
         ],
         "y": [
          "Engineer_data",
          "Developer_embedded applications or devices",
          "Data scientist or machine learning specialist",
          "Cloud infrastructure engineer",
          "DevOps specialist",
          "Developer_mobile",
          "Developer_desktop or enterprise applications",
          "Developer_front-end",
          "Developer_back-end",
          "Developer_full-stack"
         ],
         "type": "bar"
        },
        {
         "name": "freelancer",
         "orientation": "h",
         "x": [
          11.254172627563186,
          11.636532220676866,
          11.978704525288377,
          13.101983002832862,
          14.159030446349394,
          20.655737704918035,
          15.395405926705244,
          16.45155076093238,
          14.06115308554333,
          16.96051092920752
         ],
         "y": [
          "Engineer_data",
          "Developer_embedded applications or devices",
          "Data scientist or machine learning specialist",
          "Cloud infrastructure engineer",
          "DevOps specialist",
          "Developer_mobile",
          "Developer_desktop or enterprise applications",
          "Developer_front-end",
          "Developer_back-end",
          "Developer_full-stack"
         ],
         "type": "bar"
        }
       ],
       "layout": {
        "template": {
         "data": {
          "histogram2dcontour": [
           {
            "type": "histogram2dcontour",
            "colorbar": {
             "outlinewidth": 0,
             "ticks": ""
            },
            "colorscale": [
             [
              0.0,
              "#0d0887"
             ],
             [
              0.1111111111111111,
              "#46039f"
             ],
             [
              0.2222222222222222,
              "#7201a8"
             ],
             [
              0.3333333333333333,
              "#9c179e"
             ],
             [
              0.4444444444444444,
              "#bd3786"
             ],
             [
              0.5555555555555556,
              "#d8576b"
             ],
             [
              0.6666666666666666,
              "#ed7953"
             ],
             [
              0.7777777777777778,
              "#fb9f3a"
             ],
             [
              0.8888888888888888,
              "#fdca26"
             ],
             [
              1.0,
              "#f0f921"
             ]
            ]
           }
          ],
          "choropleth": [
           {
            "type": "choropleth",
            "colorbar": {
             "outlinewidth": 0,
             "ticks": ""
            }
           }
          ],
          "histogram2d": [
           {
            "type": "histogram2d",
            "colorbar": {
             "outlinewidth": 0,
             "ticks": ""
            },
            "colorscale": [
             [
              0.0,
              "#0d0887"
             ],
             [
              0.1111111111111111,
              "#46039f"
             ],
             [
              0.2222222222222222,
              "#7201a8"
             ],
             [
              0.3333333333333333,
              "#9c179e"
             ],
             [
              0.4444444444444444,
              "#bd3786"
             ],
             [
              0.5555555555555556,
              "#d8576b"
             ],
             [
              0.6666666666666666,
              "#ed7953"
             ],
             [
              0.7777777777777778,
              "#fb9f3a"
             ],
             [
              0.8888888888888888,
              "#fdca26"
             ],
             [
              1.0,
              "#f0f921"
             ]
            ]
           }
          ],
          "heatmap": [
           {
            "type": "heatmap",
            "colorbar": {
             "outlinewidth": 0,
             "ticks": ""
            },
            "colorscale": [
             [
              0.0,
              "#0d0887"
             ],
             [
              0.1111111111111111,
              "#46039f"
             ],
             [
              0.2222222222222222,
              "#7201a8"
             ],
             [
              0.3333333333333333,
              "#9c179e"
             ],
             [
              0.4444444444444444,
              "#bd3786"
             ],
             [
              0.5555555555555556,
              "#d8576b"
             ],
             [
              0.6666666666666666,
              "#ed7953"
             ],
             [
              0.7777777777777778,
              "#fb9f3a"
             ],
             [
              0.8888888888888888,
              "#fdca26"
             ],
             [
              1.0,
              "#f0f921"
             ]
            ]
           }
          ],
          "heatmapgl": [
           {
            "type": "heatmapgl",
            "colorbar": {
             "outlinewidth": 0,
             "ticks": ""
            },
            "colorscale": [
             [
              0.0,
              "#0d0887"
             ],
             [
              0.1111111111111111,
              "#46039f"
             ],
             [
              0.2222222222222222,
              "#7201a8"
             ],
             [
              0.3333333333333333,
              "#9c179e"
             ],
             [
              0.4444444444444444,
              "#bd3786"
             ],
             [
              0.5555555555555556,
              "#d8576b"
             ],
             [
              0.6666666666666666,
              "#ed7953"
             ],
             [
              0.7777777777777778,
              "#fb9f3a"
             ],
             [
              0.8888888888888888,
              "#fdca26"
             ],
             [
              1.0,
              "#f0f921"
             ]
            ]
           }
          ],
          "contourcarpet": [
           {
            "type": "contourcarpet",
            "colorbar": {
             "outlinewidth": 0,
             "ticks": ""
            }
           }
          ],
          "contour": [
           {
            "type": "contour",
            "colorbar": {
             "outlinewidth": 0,
             "ticks": ""
            },
            "colorscale": [
             [
              0.0,
              "#0d0887"
             ],
             [
              0.1111111111111111,
              "#46039f"
             ],
             [
              0.2222222222222222,
              "#7201a8"
             ],
             [
              0.3333333333333333,
              "#9c179e"
             ],
             [
              0.4444444444444444,
              "#bd3786"
             ],
             [
              0.5555555555555556,
              "#d8576b"
             ],
             [
              0.6666666666666666,
              "#ed7953"
             ],
             [
              0.7777777777777778,
              "#fb9f3a"
             ],
             [
              0.8888888888888888,
              "#fdca26"
             ],
             [
              1.0,
              "#f0f921"
             ]
            ]
           }
          ],
          "surface": [
           {
            "type": "surface",
            "colorbar": {
             "outlinewidth": 0,
             "ticks": ""
            },
            "colorscale": [
             [
              0.0,
              "#0d0887"
             ],
             [
              0.1111111111111111,
              "#46039f"
             ],
             [
              0.2222222222222222,
              "#7201a8"
             ],
             [
              0.3333333333333333,
              "#9c179e"
             ],
             [
              0.4444444444444444,
              "#bd3786"
             ],
             [
              0.5555555555555556,
              "#d8576b"
             ],
             [
              0.6666666666666666,
              "#ed7953"
             ],
             [
              0.7777777777777778,
              "#fb9f3a"
             ],
             [
              0.8888888888888888,
              "#fdca26"
             ],
             [
              1.0,
              "#f0f921"
             ]
            ]
           }
          ],
          "mesh3d": [
           {
            "type": "mesh3d",
            "colorbar": {
             "outlinewidth": 0,
             "ticks": ""
            }
           }
          ],
          "scatter": [
           {
            "marker": {
             "line": {
              "color": "#283442"
             }
            },
            "type": "scatter"
           }
          ],
          "parcoords": [
           {
            "type": "parcoords",
            "line": {
             "colorbar": {
              "outlinewidth": 0,
              "ticks": ""
             }
            }
           }
          ],
          "scatterpolargl": [
           {
            "type": "scatterpolargl",
            "marker": {
             "colorbar": {
              "outlinewidth": 0,
              "ticks": ""
             }
            }
           }
          ],
          "bar": [
           {
            "error_x": {
             "color": "#f2f5fa"
            },
            "error_y": {
             "color": "#f2f5fa"
            },
            "marker": {
             "line": {
              "color": "rgb(17,17,17)",
              "width": 0.5
             },
             "pattern": {
              "fillmode": "overlay",
              "size": 10,
              "solidity": 0.2
             }
            },
            "type": "bar"
           }
          ],
          "scattergeo": [
           {
            "type": "scattergeo",
            "marker": {
             "colorbar": {
              "outlinewidth": 0,
              "ticks": ""
             }
            }
           }
          ],
          "scatterpolar": [
           {
            "type": "scatterpolar",
            "marker": {
             "colorbar": {
              "outlinewidth": 0,
              "ticks": ""
             }
            }
           }
          ],
          "histogram": [
           {
            "marker": {
             "pattern": {
              "fillmode": "overlay",
              "size": 10,
              "solidity": 0.2
             }
            },
            "type": "histogram"
           }
          ],
          "scattergl": [
           {
            "marker": {
             "line": {
              "color": "#283442"
             }
            },
            "type": "scattergl"
           }
          ],
          "scatter3d": [
           {
            "type": "scatter3d",
            "line": {
             "colorbar": {
              "outlinewidth": 0,
              "ticks": ""
             }
            },
            "marker": {
             "colorbar": {
              "outlinewidth": 0,
              "ticks": ""
             }
            }
           }
          ],
          "scattermapbox": [
           {
            "type": "scattermapbox",
            "marker": {
             "colorbar": {
              "outlinewidth": 0,
              "ticks": ""
             }
            }
           }
          ],
          "scatterternary": [
           {
            "type": "scatterternary",
            "marker": {
             "colorbar": {
              "outlinewidth": 0,
              "ticks": ""
             }
            }
           }
          ],
          "scattercarpet": [
           {
            "type": "scattercarpet",
            "marker": {
             "colorbar": {
              "outlinewidth": 0,
              "ticks": ""
             }
            }
           }
          ],
          "carpet": [
           {
            "aaxis": {
             "endlinecolor": "#A2B1C6",
             "gridcolor": "#506784",
             "linecolor": "#506784",
             "minorgridcolor": "#506784",
             "startlinecolor": "#A2B1C6"
            },
            "baxis": {
             "endlinecolor": "#A2B1C6",
             "gridcolor": "#506784",
             "linecolor": "#506784",
             "minorgridcolor": "#506784",
             "startlinecolor": "#A2B1C6"
            },
            "type": "carpet"
           }
          ],
          "table": [
           {
            "cells": {
             "fill": {
              "color": "#506784"
             },
             "line": {
              "color": "rgb(17,17,17)"
             }
            },
            "header": {
             "fill": {
              "color": "#2a3f5f"
             },
             "line": {
              "color": "rgb(17,17,17)"
             }
            },
            "type": "table"
           }
          ],
          "barpolar": [
           {
            "marker": {
             "line": {
              "color": "rgb(17,17,17)",
              "width": 0.5
             },
             "pattern": {
              "fillmode": "overlay",
              "size": 10,
              "solidity": 0.2
             }
            },
            "type": "barpolar"
           }
          ],
          "pie": [
           {
            "automargin": true,
            "type": "pie"
           }
          ]
         },
         "layout": {
          "autotypenumbers": "strict",
          "colorway": [
           "#636efa",
           "#EF553B",
           "#00cc96",
           "#ab63fa",
           "#FFA15A",
           "#19d3f3",
           "#FF6692",
           "#B6E880",
           "#FF97FF",
           "#FECB52"
          ],
          "font": {
           "color": "#f2f5fa"
          },
          "hovermode": "closest",
          "hoverlabel": {
           "align": "left"
          },
          "paper_bgcolor": "rgb(17,17,17)",
          "plot_bgcolor": "rgb(17,17,17)",
          "polar": {
           "bgcolor": "rgb(17,17,17)",
           "angularaxis": {
            "gridcolor": "#506784",
            "linecolor": "#506784",
            "ticks": ""
           },
           "radialaxis": {
            "gridcolor": "#506784",
            "linecolor": "#506784",
            "ticks": ""
           }
          },
          "ternary": {
           "bgcolor": "rgb(17,17,17)",
           "aaxis": {
            "gridcolor": "#506784",
            "linecolor": "#506784",
            "ticks": ""
           },
           "baxis": {
            "gridcolor": "#506784",
            "linecolor": "#506784",
            "ticks": ""
           },
           "caxis": {
            "gridcolor": "#506784",
            "linecolor": "#506784",
            "ticks": ""
           }
          },
          "coloraxis": {
           "colorbar": {
            "outlinewidth": 0,
            "ticks": ""
           }
          },
          "colorscale": {
           "sequential": [
            [
             0.0,
             "#0d0887"
            ],
            [
             0.1111111111111111,
             "#46039f"
            ],
            [
             0.2222222222222222,
             "#7201a8"
            ],
            [
             0.3333333333333333,
             "#9c179e"
            ],
            [
             0.4444444444444444,
             "#bd3786"
            ],
            [
             0.5555555555555556,
             "#d8576b"
            ],
            [
             0.6666666666666666,
             "#ed7953"
            ],
            [
             0.7777777777777778,
             "#fb9f3a"
            ],
            [
             0.8888888888888888,
             "#fdca26"
            ],
            [
             1.0,
             "#f0f921"
            ]
           ],
           "sequentialminus": [
            [
             0.0,
             "#0d0887"
            ],
            [
             0.1111111111111111,
             "#46039f"
            ],
            [
             0.2222222222222222,
             "#7201a8"
            ],
            [
             0.3333333333333333,
             "#9c179e"
            ],
            [
             0.4444444444444444,
             "#bd3786"
            ],
            [
             0.5555555555555556,
             "#d8576b"
            ],
            [
             0.6666666666666666,
             "#ed7953"
            ],
            [
             0.7777777777777778,
             "#fb9f3a"
            ],
            [
             0.8888888888888888,
             "#fdca26"
            ],
            [
             1.0,
             "#f0f921"
            ]
           ],
           "diverging": [
            [
             0,
             "#8e0152"
            ],
            [
             0.1,
             "#c51b7d"
            ],
            [
             0.2,
             "#de77ae"
            ],
            [
             0.3,
             "#f1b6da"
            ],
            [
             0.4,
             "#fde0ef"
            ],
            [
             0.5,
             "#f7f7f7"
            ],
            [
             0.6,
             "#e6f5d0"
            ],
            [
             0.7,
             "#b8e186"
            ],
            [
             0.8,
             "#7fbc41"
            ],
            [
             0.9,
             "#4d9221"
            ],
            [
             1,
             "#276419"
            ]
           ]
          },
          "xaxis": {
           "gridcolor": "#283442",
           "linecolor": "#506784",
           "ticks": "",
           "title": {
            "standoff": 15
           },
           "zerolinecolor": "#283442",
           "automargin": true,
           "zerolinewidth": 2
          },
          "yaxis": {
           "gridcolor": "#283442",
           "linecolor": "#506784",
           "ticks": "",
           "title": {
            "standoff": 15
           },
           "zerolinecolor": "#283442",
           "automargin": true,
           "zerolinewidth": 2
          },
          "scene": {
           "xaxis": {
            "backgroundcolor": "rgb(17,17,17)",
            "gridcolor": "#506784",
            "linecolor": "#506784",
            "showbackground": true,
            "ticks": "",
            "zerolinecolor": "#C8D4E3",
            "gridwidth": 2
           },
           "yaxis": {
            "backgroundcolor": "rgb(17,17,17)",
            "gridcolor": "#506784",
            "linecolor": "#506784",
            "showbackground": true,
            "ticks": "",
            "zerolinecolor": "#C8D4E3",
            "gridwidth": 2
           },
           "zaxis": {
            "backgroundcolor": "rgb(17,17,17)",
            "gridcolor": "#506784",
            "linecolor": "#506784",
            "showbackground": true,
            "ticks": "",
            "zerolinecolor": "#C8D4E3",
            "gridwidth": 2
           }
          },
          "shapedefaults": {
           "line": {
            "color": "#f2f5fa"
           }
          },
          "annotationdefaults": {
           "arrowcolor": "#f2f5fa",
           "arrowhead": 0,
           "arrowwidth": 1
          },
          "geo": {
           "bgcolor": "rgb(17,17,17)",
           "landcolor": "rgb(17,17,17)",
           "subunitcolor": "#506784",
           "showland": true,
           "showlakes": true,
           "lakecolor": "rgb(17,17,17)"
          },
          "title": {
           "x": 0.05
          },
          "updatemenudefaults": {
           "bgcolor": "#506784",
           "borderwidth": 0
          },
          "sliderdefaults": {
           "bgcolor": "#C8D4E3",
           "borderwidth": 1,
           "bordercolor": "rgb(17,17,17)",
           "tickwidth": 0
          },
          "mapbox": {
           "style": "dark"
          }
         }
        },
        "title": {
         "font": {
          "size": 20
         },
         "text": "Most Common Jobs vs Employment Type",
         "x": 0.5
        },
        "barmode": "group",
        "yaxis": {
         "tickfont": {
          "family": "Rockwell",
          "size": 15
         },
         "title": {
          "text": "Job Type"
         },
         "tickmode": "array",
         "tickvals": [
          0,
          1,
          2,
          3,
          4,
          5,
          6,
          7,
          8,
          9
         ],
         "ticktext": [
          "Data  engineer",
          "Embedded applications dev",
          "Machine learning specialist",
          "Cloud infrastructure engineer",
          "Devops specialist",
          "Mobile dev",
          "Enterprise applications dev",
          "Front-end dev",
          "Back-end dev",
          "Full-stack dev"
         ],
         "tickangle": 45
        },
        "xaxis": {
         "tickfont": {
          "size": 20
         },
         "title": {
          "text": "Percentage (%)"
         }
        }
       },
       "config": {
        "plotlyServerURL": "https://plot.ly"
       }
      },
      "text/html": "<div>                            <div id=\"385aa062-08d6-4b9f-89a0-d3e1f9f94fa4\" class=\"plotly-graph-div\" style=\"height:525px; width:100%;\"></div>            <script type=\"text/javascript\">                require([\"plotly\"], function(Plotly) {                    window.PLOTLYENV=window.PLOTLYENV || {};                                    if (document.getElementById(\"385aa062-08d6-4b9f-89a0-d3e1f9f94fa4\")) {                    Plotly.newPlot(                        \"385aa062-08d6-4b9f-89a0-d3e1f9f94fa4\",                        [{\"name\":\"part-time\",\"orientation\":\"h\",\"x\":[3.9580352885073915,7.37134909596662,8.78438331854481,3.2932011331444757,4.522613065326634,5.84016393442623,5.82149745747852,6.337892506260837,4.908473201156128,5.604029864171989],\"y\":[\"Engineer_data\",\"Developer_embedded applications or devices\",\"Data scientist or machine learning specialist\",\"Cloud infrastructure engineer\",\"DevOps specialist\",\"Developer_mobile\",\"Developer_desktop or enterprise applications\",\"Developer_front-end\",\"Developer_back-end\",\"Developer_full-stack\"],\"type\":\"bar\"},{\"name\":\"freelancer\",\"orientation\":\"h\",\"x\":[11.254172627563186,11.636532220676866,11.978704525288377,13.101983002832862,14.159030446349394,20.655737704918035,15.395405926705244,16.45155076093238,14.06115308554333,16.96051092920752],\"y\":[\"Engineer_data\",\"Developer_embedded applications or devices\",\"Data scientist or machine learning specialist\",\"Cloud infrastructure engineer\",\"DevOps specialist\",\"Developer_mobile\",\"Developer_desktop or enterprise applications\",\"Developer_front-end\",\"Developer_back-end\",\"Developer_full-stack\"],\"type\":\"bar\"}],                        {\"template\":{\"data\":{\"histogram2dcontour\":[{\"type\":\"histogram2dcontour\",\"colorbar\":{\"outlinewidth\":0,\"ticks\":\"\"},\"colorscale\":[[0.0,\"#0d0887\"],[0.1111111111111111,\"#46039f\"],[0.2222222222222222,\"#7201a8\"],[0.3333333333333333,\"#9c179e\"],[0.4444444444444444,\"#bd3786\"],[0.5555555555555556,\"#d8576b\"],[0.6666666666666666,\"#ed7953\"],[0.7777777777777778,\"#fb9f3a\"],[0.8888888888888888,\"#fdca26\"],[1.0,\"#f0f921\"]]}],\"choropleth\":[{\"type\":\"choropleth\",\"colorbar\":{\"outlinewidth\":0,\"ticks\":\"\"}}],\"histogram2d\":[{\"type\":\"histogram2d\",\"colorbar\":{\"outlinewidth\":0,\"ticks\":\"\"},\"colorscale\":[[0.0,\"#0d0887\"],[0.1111111111111111,\"#46039f\"],[0.2222222222222222,\"#7201a8\"],[0.3333333333333333,\"#9c179e\"],[0.4444444444444444,\"#bd3786\"],[0.5555555555555556,\"#d8576b\"],[0.6666666666666666,\"#ed7953\"],[0.7777777777777778,\"#fb9f3a\"],[0.8888888888888888,\"#fdca26\"],[1.0,\"#f0f921\"]]}],\"heatmap\":[{\"type\":\"heatmap\",\"colorbar\":{\"outlinewidth\":0,\"ticks\":\"\"},\"colorscale\":[[0.0,\"#0d0887\"],[0.1111111111111111,\"#46039f\"],[0.2222222222222222,\"#7201a8\"],[0.3333333333333333,\"#9c179e\"],[0.4444444444444444,\"#bd3786\"],[0.5555555555555556,\"#d8576b\"],[0.6666666666666666,\"#ed7953\"],[0.7777777777777778,\"#fb9f3a\"],[0.8888888888888888,\"#fdca26\"],[1.0,\"#f0f921\"]]}],\"heatmapgl\":[{\"type\":\"heatmapgl\",\"colorbar\":{\"outlinewidth\":0,\"ticks\":\"\"},\"colorscale\":[[0.0,\"#0d0887\"],[0.1111111111111111,\"#46039f\"],[0.2222222222222222,\"#7201a8\"],[0.3333333333333333,\"#9c179e\"],[0.4444444444444444,\"#bd3786\"],[0.5555555555555556,\"#d8576b\"],[0.6666666666666666,\"#ed7953\"],[0.7777777777777778,\"#fb9f3a\"],[0.8888888888888888,\"#fdca26\"],[1.0,\"#f0f921\"]]}],\"contourcarpet\":[{\"type\":\"contourcarpet\",\"colorbar\":{\"outlinewidth\":0,\"ticks\":\"\"}}],\"contour\":[{\"type\":\"contour\",\"colorbar\":{\"outlinewidth\":0,\"ticks\":\"\"},\"colorscale\":[[0.0,\"#0d0887\"],[0.1111111111111111,\"#46039f\"],[0.2222222222222222,\"#7201a8\"],[0.3333333333333333,\"#9c179e\"],[0.4444444444444444,\"#bd3786\"],[0.5555555555555556,\"#d8576b\"],[0.6666666666666666,\"#ed7953\"],[0.7777777777777778,\"#fb9f3a\"],[0.8888888888888888,\"#fdca26\"],[1.0,\"#f0f921\"]]}],\"surface\":[{\"type\":\"surface\",\"colorbar\":{\"outlinewidth\":0,\"ticks\":\"\"},\"colorscale\":[[0.0,\"#0d0887\"],[0.1111111111111111,\"#46039f\"],[0.2222222222222222,\"#7201a8\"],[0.3333333333333333,\"#9c179e\"],[0.4444444444444444,\"#bd3786\"],[0.5555555555555556,\"#d8576b\"],[0.6666666666666666,\"#ed7953\"],[0.7777777777777778,\"#fb9f3a\"],[0.8888888888888888,\"#fdca26\"],[1.0,\"#f0f921\"]]}],\"mesh3d\":[{\"type\":\"mesh3d\",\"colorbar\":{\"outlinewidth\":0,\"ticks\":\"\"}}],\"scatter\":[{\"marker\":{\"line\":{\"color\":\"#283442\"}},\"type\":\"scatter\"}],\"parcoords\":[{\"type\":\"parcoords\",\"line\":{\"colorbar\":{\"outlinewidth\":0,\"ticks\":\"\"}}}],\"scatterpolargl\":[{\"type\":\"scatterpolargl\",\"marker\":{\"colorbar\":{\"outlinewidth\":0,\"ticks\":\"\"}}}],\"bar\":[{\"error_x\":{\"color\":\"#f2f5fa\"},\"error_y\":{\"color\":\"#f2f5fa\"},\"marker\":{\"line\":{\"color\":\"rgb(17,17,17)\",\"width\":0.5},\"pattern\":{\"fillmode\":\"overlay\",\"size\":10,\"solidity\":0.2}},\"type\":\"bar\"}],\"scattergeo\":[{\"type\":\"scattergeo\",\"marker\":{\"colorbar\":{\"outlinewidth\":0,\"ticks\":\"\"}}}],\"scatterpolar\":[{\"type\":\"scatterpolar\",\"marker\":{\"colorbar\":{\"outlinewidth\":0,\"ticks\":\"\"}}}],\"histogram\":[{\"marker\":{\"pattern\":{\"fillmode\":\"overlay\",\"size\":10,\"solidity\":0.2}},\"type\":\"histogram\"}],\"scattergl\":[{\"marker\":{\"line\":{\"color\":\"#283442\"}},\"type\":\"scattergl\"}],\"scatter3d\":[{\"type\":\"scatter3d\",\"line\":{\"colorbar\":{\"outlinewidth\":0,\"ticks\":\"\"}},\"marker\":{\"colorbar\":{\"outlinewidth\":0,\"ticks\":\"\"}}}],\"scattermapbox\":[{\"type\":\"scattermapbox\",\"marker\":{\"colorbar\":{\"outlinewidth\":0,\"ticks\":\"\"}}}],\"scatterternary\":[{\"type\":\"scatterternary\",\"marker\":{\"colorbar\":{\"outlinewidth\":0,\"ticks\":\"\"}}}],\"scattercarpet\":[{\"type\":\"scattercarpet\",\"marker\":{\"colorbar\":{\"outlinewidth\":0,\"ticks\":\"\"}}}],\"carpet\":[{\"aaxis\":{\"endlinecolor\":\"#A2B1C6\",\"gridcolor\":\"#506784\",\"linecolor\":\"#506784\",\"minorgridcolor\":\"#506784\",\"startlinecolor\":\"#A2B1C6\"},\"baxis\":{\"endlinecolor\":\"#A2B1C6\",\"gridcolor\":\"#506784\",\"linecolor\":\"#506784\",\"minorgridcolor\":\"#506784\",\"startlinecolor\":\"#A2B1C6\"},\"type\":\"carpet\"}],\"table\":[{\"cells\":{\"fill\":{\"color\":\"#506784\"},\"line\":{\"color\":\"rgb(17,17,17)\"}},\"header\":{\"fill\":{\"color\":\"#2a3f5f\"},\"line\":{\"color\":\"rgb(17,17,17)\"}},\"type\":\"table\"}],\"barpolar\":[{\"marker\":{\"line\":{\"color\":\"rgb(17,17,17)\",\"width\":0.5},\"pattern\":{\"fillmode\":\"overlay\",\"size\":10,\"solidity\":0.2}},\"type\":\"barpolar\"}],\"pie\":[{\"automargin\":true,\"type\":\"pie\"}]},\"layout\":{\"autotypenumbers\":\"strict\",\"colorway\":[\"#636efa\",\"#EF553B\",\"#00cc96\",\"#ab63fa\",\"#FFA15A\",\"#19d3f3\",\"#FF6692\",\"#B6E880\",\"#FF97FF\",\"#FECB52\"],\"font\":{\"color\":\"#f2f5fa\"},\"hovermode\":\"closest\",\"hoverlabel\":{\"align\":\"left\"},\"paper_bgcolor\":\"rgb(17,17,17)\",\"plot_bgcolor\":\"rgb(17,17,17)\",\"polar\":{\"bgcolor\":\"rgb(17,17,17)\",\"angularaxis\":{\"gridcolor\":\"#506784\",\"linecolor\":\"#506784\",\"ticks\":\"\"},\"radialaxis\":{\"gridcolor\":\"#506784\",\"linecolor\":\"#506784\",\"ticks\":\"\"}},\"ternary\":{\"bgcolor\":\"rgb(17,17,17)\",\"aaxis\":{\"gridcolor\":\"#506784\",\"linecolor\":\"#506784\",\"ticks\":\"\"},\"baxis\":{\"gridcolor\":\"#506784\",\"linecolor\":\"#506784\",\"ticks\":\"\"},\"caxis\":{\"gridcolor\":\"#506784\",\"linecolor\":\"#506784\",\"ticks\":\"\"}},\"coloraxis\":{\"colorbar\":{\"outlinewidth\":0,\"ticks\":\"\"}},\"colorscale\":{\"sequential\":[[0.0,\"#0d0887\"],[0.1111111111111111,\"#46039f\"],[0.2222222222222222,\"#7201a8\"],[0.3333333333333333,\"#9c179e\"],[0.4444444444444444,\"#bd3786\"],[0.5555555555555556,\"#d8576b\"],[0.6666666666666666,\"#ed7953\"],[0.7777777777777778,\"#fb9f3a\"],[0.8888888888888888,\"#fdca26\"],[1.0,\"#f0f921\"]],\"sequentialminus\":[[0.0,\"#0d0887\"],[0.1111111111111111,\"#46039f\"],[0.2222222222222222,\"#7201a8\"],[0.3333333333333333,\"#9c179e\"],[0.4444444444444444,\"#bd3786\"],[0.5555555555555556,\"#d8576b\"],[0.6666666666666666,\"#ed7953\"],[0.7777777777777778,\"#fb9f3a\"],[0.8888888888888888,\"#fdca26\"],[1.0,\"#f0f921\"]],\"diverging\":[[0,\"#8e0152\"],[0.1,\"#c51b7d\"],[0.2,\"#de77ae\"],[0.3,\"#f1b6da\"],[0.4,\"#fde0ef\"],[0.5,\"#f7f7f7\"],[0.6,\"#e6f5d0\"],[0.7,\"#b8e186\"],[0.8,\"#7fbc41\"],[0.9,\"#4d9221\"],[1,\"#276419\"]]},\"xaxis\":{\"gridcolor\":\"#283442\",\"linecolor\":\"#506784\",\"ticks\":\"\",\"title\":{\"standoff\":15},\"zerolinecolor\":\"#283442\",\"automargin\":true,\"zerolinewidth\":2},\"yaxis\":{\"gridcolor\":\"#283442\",\"linecolor\":\"#506784\",\"ticks\":\"\",\"title\":{\"standoff\":15},\"zerolinecolor\":\"#283442\",\"automargin\":true,\"zerolinewidth\":2},\"scene\":{\"xaxis\":{\"backgroundcolor\":\"rgb(17,17,17)\",\"gridcolor\":\"#506784\",\"linecolor\":\"#506784\",\"showbackground\":true,\"ticks\":\"\",\"zerolinecolor\":\"#C8D4E3\",\"gridwidth\":2},\"yaxis\":{\"backgroundcolor\":\"rgb(17,17,17)\",\"gridcolor\":\"#506784\",\"linecolor\":\"#506784\",\"showbackground\":true,\"ticks\":\"\",\"zerolinecolor\":\"#C8D4E3\",\"gridwidth\":2},\"zaxis\":{\"backgroundcolor\":\"rgb(17,17,17)\",\"gridcolor\":\"#506784\",\"linecolor\":\"#506784\",\"showbackground\":true,\"ticks\":\"\",\"zerolinecolor\":\"#C8D4E3\",\"gridwidth\":2}},\"shapedefaults\":{\"line\":{\"color\":\"#f2f5fa\"}},\"annotationdefaults\":{\"arrowcolor\":\"#f2f5fa\",\"arrowhead\":0,\"arrowwidth\":1},\"geo\":{\"bgcolor\":\"rgb(17,17,17)\",\"landcolor\":\"rgb(17,17,17)\",\"subunitcolor\":\"#506784\",\"showland\":true,\"showlakes\":true,\"lakecolor\":\"rgb(17,17,17)\"},\"title\":{\"x\":0.05},\"updatemenudefaults\":{\"bgcolor\":\"#506784\",\"borderwidth\":0},\"sliderdefaults\":{\"bgcolor\":\"#C8D4E3\",\"borderwidth\":1,\"bordercolor\":\"rgb(17,17,17)\",\"tickwidth\":0},\"mapbox\":{\"style\":\"dark\"}}},\"title\":{\"font\":{\"size\":20},\"text\":\"Most Common Jobs vs Employment Type\",\"x\":0.5},\"barmode\":\"group\",\"yaxis\":{\"tickfont\":{\"family\":\"Rockwell\",\"size\":15},\"title\":{\"text\":\"Job Type\"},\"tickmode\":\"array\",\"tickvals\":[0,1,2,3,4,5,6,7,8,9],\"ticktext\":[\"Data  engineer\",\"Embedded applications dev\",\"Machine learning specialist\",\"Cloud infrastructure engineer\",\"Devops specialist\",\"Mobile dev\",\"Enterprise applications dev\",\"Front-end dev\",\"Back-end dev\",\"Full-stack dev\"],\"tickangle\":45},\"xaxis\":{\"tickfont\":{\"size\":20},\"title\":{\"text\":\"Percentage (%)\"}}},                        {\"responsive\": true}                    ).then(function(){\n                            \nvar gd = document.getElementById('385aa062-08d6-4b9f-89a0-d3e1f9f94fa4');\nvar x = new MutationObserver(function (mutations, observer) {{\n        var display = window.getComputedStyle(gd).display;\n        if (!display || display === 'none') {{\n            console.log([gd, 'removed!']);\n            Plotly.purge(gd);\n            observer.disconnect();\n        }}\n}});\n\n// Listen for the removal of the full notebook cells\nvar notebookContainer = gd.closest('#notebook-container');\nif (notebookContainer) {{\n    x.observe(notebookContainer, {childList: true});\n}}\n\n// Listen for the clearing of the current output cell\nvar outputEl = gd.closest('.output');\nif (outputEl) {{\n    x.observe(outputEl, {childList: true});\n}}\n\n                        })                };                });            </script>        </div>"
     },
     "metadata": {},
     "output_type": "display_data"
    }
   ],
   "source": [
    "create_employment_vs_dev_type_chart(most_10_freq_jobs)\n"
   ],
   "metadata": {
    "collapsed": false
   }
  },
  {
   "cell_type": "code",
   "execution_count": 13,
   "outputs": [],
   "source": [],
   "metadata": {
    "collapsed": false
   }
  },
  {
   "cell_type": "markdown",
   "source": [
    "# 2. most common languages"
   ],
   "metadata": {
    "collapsed": false
   }
  },
  {
   "cell_type": "code",
   "execution_count": 177,
   "outputs": [],
   "source": [
    "def create_most_used_languages_chart():\n",
    "    # extract most 10 used programing languages that used in development\n",
    "    language_have_worked_with = binarize(survey, 'LanguageHaveWorkedWith')\n",
    "    most_used_languages = language_have_worked_with.sum(axis=0).sort_values(ascending=False).iloc[:5]\n",
    "    most_used_languages_per = most_used_languages / len(survey)\n",
    "    most_used_languages_per.name = 'used'\n",
    "\n",
    "\n",
    "    # Extract those languages that the developer doesn't know and wants to know\n",
    "    language_want_to_work_with = binarize(survey, 'LanguageWantToWorkWith')\n",
    "    #filter them, I don't want the languages that chosen in both\n",
    "    Languages = (language_have_worked_with *.5) + language_want_to_work_with\n",
    "    Languages[Languages==1.5] = 0\n",
    "    most_planning_languages_per = Languages.sum(axis=0)[most_used_languages.index]/len(survey)\n",
    "    most_planning_languages_per.name = 'planning to use'\n",
    "\n",
    "    #concat_two_series\n",
    "    df = pd.concat([most_used_languages_per, most_planning_languages_per], axis=1, names = ['used', 'planning'])\n",
    "\n",
    "    # Create the figure\n",
    "    fig = go.Figure()\n",
    "\n",
    "    # Get the viridis color scale\n",
    "    # colorscale = px.colors.qualitative.Dark24\n",
    "\n",
    "    for i, used_type in enumerate(df.columns):\n",
    "        text = (df.loc[:, used_type].values * 100).astype(int)\n",
    "        text = [f\"{value}%\" for value in text]\n",
    "\n",
    "        fig.add_trace(go.Bar(\n",
    "            name=used_type,\n",
    "            y=df.index,\n",
    "            x=(df.loc[:, used_type].values * 100).astype(int),\n",
    "            orientation='h',\n",
    "            text=text,\n",
    "            # marker_color=colorscale[i % len(colorscale)]  # Cycle through viridis colors\n",
    "        ))\n",
    "    # Set layout\n",
    "    layout = go.Layout(\n",
    "        barmode='group',\n",
    "        title = dict(\n",
    "            text = \"Most Used Languages\",\n",
    "            font_size = 20,\n",
    "            x = .5\n",
    "        ),\n",
    "        legend = dict(\n",
    "            yanchor=\"top\",\n",
    "            y=0.99,\n",
    "            xanchor=\"left\",\n",
    "            x=0.01)\n",
    "    )\n",
    "\n",
    "    # Reverse the y-axis\n",
    "    layout.yaxis['side'] = 'right'\n",
    "\n",
    "    fig.update_layout(layout)\n",
    "    fig.update_yaxes(title=\"Programing Languages\",\n",
    "                     tickmode='array',\n",
    "                     tickvals=np.arange(len(df.index)),\n",
    "                     ticktext=df.index,\n",
    "                     tickangle=45,\n",
    "                     tickfont=dict(family='Rockwell', size=15))\n",
    "\n",
    "    fig.update_xaxes(title=\"Percentage (%)\",\n",
    "                     tickfont={'size': 20},\n",
    "                     autorange = \"reversed\")\n",
    "\n",
    "    return fig"
   ],
   "metadata": {
    "collapsed": false
   }
  },
  {
   "cell_type": "code",
   "execution_count": 178,
   "outputs": [
    {
     "data": {
      "application/vnd.plotly.v1+json": {
       "data": [
        {
         "name": "used",
         "orientation": "h",
         "text": [
          "64%",
          "51%",
          "48%",
          "43%",
          "35%"
         ],
         "x": [
          64,
          51,
          48,
          43,
          35
         ],
         "y": [
          "JavaScript",
          "HTML/CSS",
          "SQL",
          "Python",
          "TypeScript"
         ],
         "type": "bar"
        },
        {
         "name": "planning to use",
         "orientation": "h",
         "text": [
          "16%",
          "11%",
          "11%",
          "16%",
          "15%"
         ],
         "x": [
          16,
          11,
          11,
          16,
          15
         ],
         "y": [
          "JavaScript",
          "HTML/CSS",
          "SQL",
          "Python",
          "TypeScript"
         ],
         "type": "bar"
        }
       ],
       "layout": {
        "template": {
         "data": {
          "histogram2dcontour": [
           {
            "type": "histogram2dcontour",
            "colorbar": {
             "outlinewidth": 0,
             "ticks": ""
            },
            "colorscale": [
             [
              0.0,
              "#0d0887"
             ],
             [
              0.1111111111111111,
              "#46039f"
             ],
             [
              0.2222222222222222,
              "#7201a8"
             ],
             [
              0.3333333333333333,
              "#9c179e"
             ],
             [
              0.4444444444444444,
              "#bd3786"
             ],
             [
              0.5555555555555556,
              "#d8576b"
             ],
             [
              0.6666666666666666,
              "#ed7953"
             ],
             [
              0.7777777777777778,
              "#fb9f3a"
             ],
             [
              0.8888888888888888,
              "#fdca26"
             ],
             [
              1.0,
              "#f0f921"
             ]
            ]
           }
          ],
          "choropleth": [
           {
            "type": "choropleth",
            "colorbar": {
             "outlinewidth": 0,
             "ticks": ""
            }
           }
          ],
          "histogram2d": [
           {
            "type": "histogram2d",
            "colorbar": {
             "outlinewidth": 0,
             "ticks": ""
            },
            "colorscale": [
             [
              0.0,
              "#0d0887"
             ],
             [
              0.1111111111111111,
              "#46039f"
             ],
             [
              0.2222222222222222,
              "#7201a8"
             ],
             [
              0.3333333333333333,
              "#9c179e"
             ],
             [
              0.4444444444444444,
              "#bd3786"
             ],
             [
              0.5555555555555556,
              "#d8576b"
             ],
             [
              0.6666666666666666,
              "#ed7953"
             ],
             [
              0.7777777777777778,
              "#fb9f3a"
             ],
             [
              0.8888888888888888,
              "#fdca26"
             ],
             [
              1.0,
              "#f0f921"
             ]
            ]
           }
          ],
          "heatmap": [
           {
            "type": "heatmap",
            "colorbar": {
             "outlinewidth": 0,
             "ticks": ""
            },
            "colorscale": [
             [
              0.0,
              "#0d0887"
             ],
             [
              0.1111111111111111,
              "#46039f"
             ],
             [
              0.2222222222222222,
              "#7201a8"
             ],
             [
              0.3333333333333333,
              "#9c179e"
             ],
             [
              0.4444444444444444,
              "#bd3786"
             ],
             [
              0.5555555555555556,
              "#d8576b"
             ],
             [
              0.6666666666666666,
              "#ed7953"
             ],
             [
              0.7777777777777778,
              "#fb9f3a"
             ],
             [
              0.8888888888888888,
              "#fdca26"
             ],
             [
              1.0,
              "#f0f921"
             ]
            ]
           }
          ],
          "heatmapgl": [
           {
            "type": "heatmapgl",
            "colorbar": {
             "outlinewidth": 0,
             "ticks": ""
            },
            "colorscale": [
             [
              0.0,
              "#0d0887"
             ],
             [
              0.1111111111111111,
              "#46039f"
             ],
             [
              0.2222222222222222,
              "#7201a8"
             ],
             [
              0.3333333333333333,
              "#9c179e"
             ],
             [
              0.4444444444444444,
              "#bd3786"
             ],
             [
              0.5555555555555556,
              "#d8576b"
             ],
             [
              0.6666666666666666,
              "#ed7953"
             ],
             [
              0.7777777777777778,
              "#fb9f3a"
             ],
             [
              0.8888888888888888,
              "#fdca26"
             ],
             [
              1.0,
              "#f0f921"
             ]
            ]
           }
          ],
          "contourcarpet": [
           {
            "type": "contourcarpet",
            "colorbar": {
             "outlinewidth": 0,
             "ticks": ""
            }
           }
          ],
          "contour": [
           {
            "type": "contour",
            "colorbar": {
             "outlinewidth": 0,
             "ticks": ""
            },
            "colorscale": [
             [
              0.0,
              "#0d0887"
             ],
             [
              0.1111111111111111,
              "#46039f"
             ],
             [
              0.2222222222222222,
              "#7201a8"
             ],
             [
              0.3333333333333333,
              "#9c179e"
             ],
             [
              0.4444444444444444,
              "#bd3786"
             ],
             [
              0.5555555555555556,
              "#d8576b"
             ],
             [
              0.6666666666666666,
              "#ed7953"
             ],
             [
              0.7777777777777778,
              "#fb9f3a"
             ],
             [
              0.8888888888888888,
              "#fdca26"
             ],
             [
              1.0,
              "#f0f921"
             ]
            ]
           }
          ],
          "surface": [
           {
            "type": "surface",
            "colorbar": {
             "outlinewidth": 0,
             "ticks": ""
            },
            "colorscale": [
             [
              0.0,
              "#0d0887"
             ],
             [
              0.1111111111111111,
              "#46039f"
             ],
             [
              0.2222222222222222,
              "#7201a8"
             ],
             [
              0.3333333333333333,
              "#9c179e"
             ],
             [
              0.4444444444444444,
              "#bd3786"
             ],
             [
              0.5555555555555556,
              "#d8576b"
             ],
             [
              0.6666666666666666,
              "#ed7953"
             ],
             [
              0.7777777777777778,
              "#fb9f3a"
             ],
             [
              0.8888888888888888,
              "#fdca26"
             ],
             [
              1.0,
              "#f0f921"
             ]
            ]
           }
          ],
          "mesh3d": [
           {
            "type": "mesh3d",
            "colorbar": {
             "outlinewidth": 0,
             "ticks": ""
            }
           }
          ],
          "scatter": [
           {
            "marker": {
             "line": {
              "color": "#283442"
             }
            },
            "type": "scatter"
           }
          ],
          "parcoords": [
           {
            "type": "parcoords",
            "line": {
             "colorbar": {
              "outlinewidth": 0,
              "ticks": ""
             }
            }
           }
          ],
          "scatterpolargl": [
           {
            "type": "scatterpolargl",
            "marker": {
             "colorbar": {
              "outlinewidth": 0,
              "ticks": ""
             }
            }
           }
          ],
          "bar": [
           {
            "error_x": {
             "color": "#f2f5fa"
            },
            "error_y": {
             "color": "#f2f5fa"
            },
            "marker": {
             "line": {
              "color": "rgb(17,17,17)",
              "width": 0.5
             },
             "pattern": {
              "fillmode": "overlay",
              "size": 10,
              "solidity": 0.2
             }
            },
            "type": "bar"
           }
          ],
          "scattergeo": [
           {
            "type": "scattergeo",
            "marker": {
             "colorbar": {
              "outlinewidth": 0,
              "ticks": ""
             }
            }
           }
          ],
          "scatterpolar": [
           {
            "type": "scatterpolar",
            "marker": {
             "colorbar": {
              "outlinewidth": 0,
              "ticks": ""
             }
            }
           }
          ],
          "histogram": [
           {
            "marker": {
             "pattern": {
              "fillmode": "overlay",
              "size": 10,
              "solidity": 0.2
             }
            },
            "type": "histogram"
           }
          ],
          "scattergl": [
           {
            "marker": {
             "line": {
              "color": "#283442"
             }
            },
            "type": "scattergl"
           }
          ],
          "scatter3d": [
           {
            "type": "scatter3d",
            "line": {
             "colorbar": {
              "outlinewidth": 0,
              "ticks": ""
             }
            },
            "marker": {
             "colorbar": {
              "outlinewidth": 0,
              "ticks": ""
             }
            }
           }
          ],
          "scattermapbox": [
           {
            "type": "scattermapbox",
            "marker": {
             "colorbar": {
              "outlinewidth": 0,
              "ticks": ""
             }
            }
           }
          ],
          "scatterternary": [
           {
            "type": "scatterternary",
            "marker": {
             "colorbar": {
              "outlinewidth": 0,
              "ticks": ""
             }
            }
           }
          ],
          "scattercarpet": [
           {
            "type": "scattercarpet",
            "marker": {
             "colorbar": {
              "outlinewidth": 0,
              "ticks": ""
             }
            }
           }
          ],
          "carpet": [
           {
            "aaxis": {
             "endlinecolor": "#A2B1C6",
             "gridcolor": "#506784",
             "linecolor": "#506784",
             "minorgridcolor": "#506784",
             "startlinecolor": "#A2B1C6"
            },
            "baxis": {
             "endlinecolor": "#A2B1C6",
             "gridcolor": "#506784",
             "linecolor": "#506784",
             "minorgridcolor": "#506784",
             "startlinecolor": "#A2B1C6"
            },
            "type": "carpet"
           }
          ],
          "table": [
           {
            "cells": {
             "fill": {
              "color": "#506784"
             },
             "line": {
              "color": "rgb(17,17,17)"
             }
            },
            "header": {
             "fill": {
              "color": "#2a3f5f"
             },
             "line": {
              "color": "rgb(17,17,17)"
             }
            },
            "type": "table"
           }
          ],
          "barpolar": [
           {
            "marker": {
             "line": {
              "color": "rgb(17,17,17)",
              "width": 0.5
             },
             "pattern": {
              "fillmode": "overlay",
              "size": 10,
              "solidity": 0.2
             }
            },
            "type": "barpolar"
           }
          ],
          "pie": [
           {
            "automargin": true,
            "type": "pie"
           }
          ]
         },
         "layout": {
          "autotypenumbers": "strict",
          "colorway": [
           "#636efa",
           "#EF553B",
           "#00cc96",
           "#ab63fa",
           "#FFA15A",
           "#19d3f3",
           "#FF6692",
           "#B6E880",
           "#FF97FF",
           "#FECB52"
          ],
          "font": {
           "color": "#f2f5fa"
          },
          "hovermode": "closest",
          "hoverlabel": {
           "align": "left"
          },
          "paper_bgcolor": "rgb(17,17,17)",
          "plot_bgcolor": "rgb(17,17,17)",
          "polar": {
           "bgcolor": "rgb(17,17,17)",
           "angularaxis": {
            "gridcolor": "#506784",
            "linecolor": "#506784",
            "ticks": ""
           },
           "radialaxis": {
            "gridcolor": "#506784",
            "linecolor": "#506784",
            "ticks": ""
           }
          },
          "ternary": {
           "bgcolor": "rgb(17,17,17)",
           "aaxis": {
            "gridcolor": "#506784",
            "linecolor": "#506784",
            "ticks": ""
           },
           "baxis": {
            "gridcolor": "#506784",
            "linecolor": "#506784",
            "ticks": ""
           },
           "caxis": {
            "gridcolor": "#506784",
            "linecolor": "#506784",
            "ticks": ""
           }
          },
          "coloraxis": {
           "colorbar": {
            "outlinewidth": 0,
            "ticks": ""
           }
          },
          "colorscale": {
           "sequential": [
            [
             0.0,
             "#0d0887"
            ],
            [
             0.1111111111111111,
             "#46039f"
            ],
            [
             0.2222222222222222,
             "#7201a8"
            ],
            [
             0.3333333333333333,
             "#9c179e"
            ],
            [
             0.4444444444444444,
             "#bd3786"
            ],
            [
             0.5555555555555556,
             "#d8576b"
            ],
            [
             0.6666666666666666,
             "#ed7953"
            ],
            [
             0.7777777777777778,
             "#fb9f3a"
            ],
            [
             0.8888888888888888,
             "#fdca26"
            ],
            [
             1.0,
             "#f0f921"
            ]
           ],
           "sequentialminus": [
            [
             0.0,
             "#0d0887"
            ],
            [
             0.1111111111111111,
             "#46039f"
            ],
            [
             0.2222222222222222,
             "#7201a8"
            ],
            [
             0.3333333333333333,
             "#9c179e"
            ],
            [
             0.4444444444444444,
             "#bd3786"
            ],
            [
             0.5555555555555556,
             "#d8576b"
            ],
            [
             0.6666666666666666,
             "#ed7953"
            ],
            [
             0.7777777777777778,
             "#fb9f3a"
            ],
            [
             0.8888888888888888,
             "#fdca26"
            ],
            [
             1.0,
             "#f0f921"
            ]
           ],
           "diverging": [
            [
             0,
             "#8e0152"
            ],
            [
             0.1,
             "#c51b7d"
            ],
            [
             0.2,
             "#de77ae"
            ],
            [
             0.3,
             "#f1b6da"
            ],
            [
             0.4,
             "#fde0ef"
            ],
            [
             0.5,
             "#f7f7f7"
            ],
            [
             0.6,
             "#e6f5d0"
            ],
            [
             0.7,
             "#b8e186"
            ],
            [
             0.8,
             "#7fbc41"
            ],
            [
             0.9,
             "#4d9221"
            ],
            [
             1,
             "#276419"
            ]
           ]
          },
          "xaxis": {
           "gridcolor": "#283442",
           "linecolor": "#506784",
           "ticks": "",
           "title": {
            "standoff": 15
           },
           "zerolinecolor": "#283442",
           "automargin": true,
           "zerolinewidth": 2
          },
          "yaxis": {
           "gridcolor": "#283442",
           "linecolor": "#506784",
           "ticks": "",
           "title": {
            "standoff": 15
           },
           "zerolinecolor": "#283442",
           "automargin": true,
           "zerolinewidth": 2
          },
          "scene": {
           "xaxis": {
            "backgroundcolor": "rgb(17,17,17)",
            "gridcolor": "#506784",
            "linecolor": "#506784",
            "showbackground": true,
            "ticks": "",
            "zerolinecolor": "#C8D4E3",
            "gridwidth": 2
           },
           "yaxis": {
            "backgroundcolor": "rgb(17,17,17)",
            "gridcolor": "#506784",
            "linecolor": "#506784",
            "showbackground": true,
            "ticks": "",
            "zerolinecolor": "#C8D4E3",
            "gridwidth": 2
           },
           "zaxis": {
            "backgroundcolor": "rgb(17,17,17)",
            "gridcolor": "#506784",
            "linecolor": "#506784",
            "showbackground": true,
            "ticks": "",
            "zerolinecolor": "#C8D4E3",
            "gridwidth": 2
           }
          },
          "shapedefaults": {
           "line": {
            "color": "#f2f5fa"
           }
          },
          "annotationdefaults": {
           "arrowcolor": "#f2f5fa",
           "arrowhead": 0,
           "arrowwidth": 1
          },
          "geo": {
           "bgcolor": "rgb(17,17,17)",
           "landcolor": "rgb(17,17,17)",
           "subunitcolor": "#506784",
           "showland": true,
           "showlakes": true,
           "lakecolor": "rgb(17,17,17)"
          },
          "title": {
           "x": 0.05
          },
          "updatemenudefaults": {
           "bgcolor": "#506784",
           "borderwidth": 0
          },
          "sliderdefaults": {
           "bgcolor": "#C8D4E3",
           "borderwidth": 1,
           "bordercolor": "rgb(17,17,17)",
           "tickwidth": 0
          },
          "mapbox": {
           "style": "dark"
          }
         }
        },
        "legend": {
         "x": 0.01,
         "xanchor": "left",
         "y": 0.99,
         "yanchor": "top"
        },
        "title": {
         "font": {
          "size": 20
         },
         "text": "Most Used Languages",
         "x": 0.5
        },
        "yaxis": {
         "side": "right",
         "tickfont": {
          "family": "Rockwell",
          "size": 15
         },
         "title": {
          "text": "Programing Languages"
         },
         "tickmode": "array",
         "tickvals": [
          0,
          1,
          2,
          3,
          4
         ],
         "ticktext": [
          "JavaScript",
          "HTML/CSS",
          "SQL",
          "Python",
          "TypeScript"
         ],
         "tickangle": 45
        },
        "barmode": "group",
        "xaxis": {
         "tickfont": {
          "size": 20
         },
         "title": {
          "text": "Percentage (%)"
         },
         "autorange": "reversed"
        }
       },
       "config": {
        "plotlyServerURL": "https://plot.ly"
       }
      },
      "text/html": "<div>                            <div id=\"fe021b75-264e-4c6c-918f-0475d57eff3f\" class=\"plotly-graph-div\" style=\"height:525px; width:100%;\"></div>            <script type=\"text/javascript\">                require([\"plotly\"], function(Plotly) {                    window.PLOTLYENV=window.PLOTLYENV || {};                                    if (document.getElementById(\"fe021b75-264e-4c6c-918f-0475d57eff3f\")) {                    Plotly.newPlot(                        \"fe021b75-264e-4c6c-918f-0475d57eff3f\",                        [{\"name\":\"used\",\"orientation\":\"h\",\"text\":[\"64%\",\"51%\",\"48%\",\"43%\",\"35%\"],\"x\":[64,51,48,43,35],\"y\":[\"JavaScript\",\"HTML/CSS\",\"SQL\",\"Python\",\"TypeScript\"],\"type\":\"bar\"},{\"name\":\"planning to use\",\"orientation\":\"h\",\"text\":[\"16%\",\"11%\",\"11%\",\"16%\",\"15%\"],\"x\":[16,11,11,16,15],\"y\":[\"JavaScript\",\"HTML/CSS\",\"SQL\",\"Python\",\"TypeScript\"],\"type\":\"bar\"}],                        {\"template\":{\"data\":{\"histogram2dcontour\":[{\"type\":\"histogram2dcontour\",\"colorbar\":{\"outlinewidth\":0,\"ticks\":\"\"},\"colorscale\":[[0.0,\"#0d0887\"],[0.1111111111111111,\"#46039f\"],[0.2222222222222222,\"#7201a8\"],[0.3333333333333333,\"#9c179e\"],[0.4444444444444444,\"#bd3786\"],[0.5555555555555556,\"#d8576b\"],[0.6666666666666666,\"#ed7953\"],[0.7777777777777778,\"#fb9f3a\"],[0.8888888888888888,\"#fdca26\"],[1.0,\"#f0f921\"]]}],\"choropleth\":[{\"type\":\"choropleth\",\"colorbar\":{\"outlinewidth\":0,\"ticks\":\"\"}}],\"histogram2d\":[{\"type\":\"histogram2d\",\"colorbar\":{\"outlinewidth\":0,\"ticks\":\"\"},\"colorscale\":[[0.0,\"#0d0887\"],[0.1111111111111111,\"#46039f\"],[0.2222222222222222,\"#7201a8\"],[0.3333333333333333,\"#9c179e\"],[0.4444444444444444,\"#bd3786\"],[0.5555555555555556,\"#d8576b\"],[0.6666666666666666,\"#ed7953\"],[0.7777777777777778,\"#fb9f3a\"],[0.8888888888888888,\"#fdca26\"],[1.0,\"#f0f921\"]]}],\"heatmap\":[{\"type\":\"heatmap\",\"colorbar\":{\"outlinewidth\":0,\"ticks\":\"\"},\"colorscale\":[[0.0,\"#0d0887\"],[0.1111111111111111,\"#46039f\"],[0.2222222222222222,\"#7201a8\"],[0.3333333333333333,\"#9c179e\"],[0.4444444444444444,\"#bd3786\"],[0.5555555555555556,\"#d8576b\"],[0.6666666666666666,\"#ed7953\"],[0.7777777777777778,\"#fb9f3a\"],[0.8888888888888888,\"#fdca26\"],[1.0,\"#f0f921\"]]}],\"heatmapgl\":[{\"type\":\"heatmapgl\",\"colorbar\":{\"outlinewidth\":0,\"ticks\":\"\"},\"colorscale\":[[0.0,\"#0d0887\"],[0.1111111111111111,\"#46039f\"],[0.2222222222222222,\"#7201a8\"],[0.3333333333333333,\"#9c179e\"],[0.4444444444444444,\"#bd3786\"],[0.5555555555555556,\"#d8576b\"],[0.6666666666666666,\"#ed7953\"],[0.7777777777777778,\"#fb9f3a\"],[0.8888888888888888,\"#fdca26\"],[1.0,\"#f0f921\"]]}],\"contourcarpet\":[{\"type\":\"contourcarpet\",\"colorbar\":{\"outlinewidth\":0,\"ticks\":\"\"}}],\"contour\":[{\"type\":\"contour\",\"colorbar\":{\"outlinewidth\":0,\"ticks\":\"\"},\"colorscale\":[[0.0,\"#0d0887\"],[0.1111111111111111,\"#46039f\"],[0.2222222222222222,\"#7201a8\"],[0.3333333333333333,\"#9c179e\"],[0.4444444444444444,\"#bd3786\"],[0.5555555555555556,\"#d8576b\"],[0.6666666666666666,\"#ed7953\"],[0.7777777777777778,\"#fb9f3a\"],[0.8888888888888888,\"#fdca26\"],[1.0,\"#f0f921\"]]}],\"surface\":[{\"type\":\"surface\",\"colorbar\":{\"outlinewidth\":0,\"ticks\":\"\"},\"colorscale\":[[0.0,\"#0d0887\"],[0.1111111111111111,\"#46039f\"],[0.2222222222222222,\"#7201a8\"],[0.3333333333333333,\"#9c179e\"],[0.4444444444444444,\"#bd3786\"],[0.5555555555555556,\"#d8576b\"],[0.6666666666666666,\"#ed7953\"],[0.7777777777777778,\"#fb9f3a\"],[0.8888888888888888,\"#fdca26\"],[1.0,\"#f0f921\"]]}],\"mesh3d\":[{\"type\":\"mesh3d\",\"colorbar\":{\"outlinewidth\":0,\"ticks\":\"\"}}],\"scatter\":[{\"marker\":{\"line\":{\"color\":\"#283442\"}},\"type\":\"scatter\"}],\"parcoords\":[{\"type\":\"parcoords\",\"line\":{\"colorbar\":{\"outlinewidth\":0,\"ticks\":\"\"}}}],\"scatterpolargl\":[{\"type\":\"scatterpolargl\",\"marker\":{\"colorbar\":{\"outlinewidth\":0,\"ticks\":\"\"}}}],\"bar\":[{\"error_x\":{\"color\":\"#f2f5fa\"},\"error_y\":{\"color\":\"#f2f5fa\"},\"marker\":{\"line\":{\"color\":\"rgb(17,17,17)\",\"width\":0.5},\"pattern\":{\"fillmode\":\"overlay\",\"size\":10,\"solidity\":0.2}},\"type\":\"bar\"}],\"scattergeo\":[{\"type\":\"scattergeo\",\"marker\":{\"colorbar\":{\"outlinewidth\":0,\"ticks\":\"\"}}}],\"scatterpolar\":[{\"type\":\"scatterpolar\",\"marker\":{\"colorbar\":{\"outlinewidth\":0,\"ticks\":\"\"}}}],\"histogram\":[{\"marker\":{\"pattern\":{\"fillmode\":\"overlay\",\"size\":10,\"solidity\":0.2}},\"type\":\"histogram\"}],\"scattergl\":[{\"marker\":{\"line\":{\"color\":\"#283442\"}},\"type\":\"scattergl\"}],\"scatter3d\":[{\"type\":\"scatter3d\",\"line\":{\"colorbar\":{\"outlinewidth\":0,\"ticks\":\"\"}},\"marker\":{\"colorbar\":{\"outlinewidth\":0,\"ticks\":\"\"}}}],\"scattermapbox\":[{\"type\":\"scattermapbox\",\"marker\":{\"colorbar\":{\"outlinewidth\":0,\"ticks\":\"\"}}}],\"scatterternary\":[{\"type\":\"scatterternary\",\"marker\":{\"colorbar\":{\"outlinewidth\":0,\"ticks\":\"\"}}}],\"scattercarpet\":[{\"type\":\"scattercarpet\",\"marker\":{\"colorbar\":{\"outlinewidth\":0,\"ticks\":\"\"}}}],\"carpet\":[{\"aaxis\":{\"endlinecolor\":\"#A2B1C6\",\"gridcolor\":\"#506784\",\"linecolor\":\"#506784\",\"minorgridcolor\":\"#506784\",\"startlinecolor\":\"#A2B1C6\"},\"baxis\":{\"endlinecolor\":\"#A2B1C6\",\"gridcolor\":\"#506784\",\"linecolor\":\"#506784\",\"minorgridcolor\":\"#506784\",\"startlinecolor\":\"#A2B1C6\"},\"type\":\"carpet\"}],\"table\":[{\"cells\":{\"fill\":{\"color\":\"#506784\"},\"line\":{\"color\":\"rgb(17,17,17)\"}},\"header\":{\"fill\":{\"color\":\"#2a3f5f\"},\"line\":{\"color\":\"rgb(17,17,17)\"}},\"type\":\"table\"}],\"barpolar\":[{\"marker\":{\"line\":{\"color\":\"rgb(17,17,17)\",\"width\":0.5},\"pattern\":{\"fillmode\":\"overlay\",\"size\":10,\"solidity\":0.2}},\"type\":\"barpolar\"}],\"pie\":[{\"automargin\":true,\"type\":\"pie\"}]},\"layout\":{\"autotypenumbers\":\"strict\",\"colorway\":[\"#636efa\",\"#EF553B\",\"#00cc96\",\"#ab63fa\",\"#FFA15A\",\"#19d3f3\",\"#FF6692\",\"#B6E880\",\"#FF97FF\",\"#FECB52\"],\"font\":{\"color\":\"#f2f5fa\"},\"hovermode\":\"closest\",\"hoverlabel\":{\"align\":\"left\"},\"paper_bgcolor\":\"rgb(17,17,17)\",\"plot_bgcolor\":\"rgb(17,17,17)\",\"polar\":{\"bgcolor\":\"rgb(17,17,17)\",\"angularaxis\":{\"gridcolor\":\"#506784\",\"linecolor\":\"#506784\",\"ticks\":\"\"},\"radialaxis\":{\"gridcolor\":\"#506784\",\"linecolor\":\"#506784\",\"ticks\":\"\"}},\"ternary\":{\"bgcolor\":\"rgb(17,17,17)\",\"aaxis\":{\"gridcolor\":\"#506784\",\"linecolor\":\"#506784\",\"ticks\":\"\"},\"baxis\":{\"gridcolor\":\"#506784\",\"linecolor\":\"#506784\",\"ticks\":\"\"},\"caxis\":{\"gridcolor\":\"#506784\",\"linecolor\":\"#506784\",\"ticks\":\"\"}},\"coloraxis\":{\"colorbar\":{\"outlinewidth\":0,\"ticks\":\"\"}},\"colorscale\":{\"sequential\":[[0.0,\"#0d0887\"],[0.1111111111111111,\"#46039f\"],[0.2222222222222222,\"#7201a8\"],[0.3333333333333333,\"#9c179e\"],[0.4444444444444444,\"#bd3786\"],[0.5555555555555556,\"#d8576b\"],[0.6666666666666666,\"#ed7953\"],[0.7777777777777778,\"#fb9f3a\"],[0.8888888888888888,\"#fdca26\"],[1.0,\"#f0f921\"]],\"sequentialminus\":[[0.0,\"#0d0887\"],[0.1111111111111111,\"#46039f\"],[0.2222222222222222,\"#7201a8\"],[0.3333333333333333,\"#9c179e\"],[0.4444444444444444,\"#bd3786\"],[0.5555555555555556,\"#d8576b\"],[0.6666666666666666,\"#ed7953\"],[0.7777777777777778,\"#fb9f3a\"],[0.8888888888888888,\"#fdca26\"],[1.0,\"#f0f921\"]],\"diverging\":[[0,\"#8e0152\"],[0.1,\"#c51b7d\"],[0.2,\"#de77ae\"],[0.3,\"#f1b6da\"],[0.4,\"#fde0ef\"],[0.5,\"#f7f7f7\"],[0.6,\"#e6f5d0\"],[0.7,\"#b8e186\"],[0.8,\"#7fbc41\"],[0.9,\"#4d9221\"],[1,\"#276419\"]]},\"xaxis\":{\"gridcolor\":\"#283442\",\"linecolor\":\"#506784\",\"ticks\":\"\",\"title\":{\"standoff\":15},\"zerolinecolor\":\"#283442\",\"automargin\":true,\"zerolinewidth\":2},\"yaxis\":{\"gridcolor\":\"#283442\",\"linecolor\":\"#506784\",\"ticks\":\"\",\"title\":{\"standoff\":15},\"zerolinecolor\":\"#283442\",\"automargin\":true,\"zerolinewidth\":2},\"scene\":{\"xaxis\":{\"backgroundcolor\":\"rgb(17,17,17)\",\"gridcolor\":\"#506784\",\"linecolor\":\"#506784\",\"showbackground\":true,\"ticks\":\"\",\"zerolinecolor\":\"#C8D4E3\",\"gridwidth\":2},\"yaxis\":{\"backgroundcolor\":\"rgb(17,17,17)\",\"gridcolor\":\"#506784\",\"linecolor\":\"#506784\",\"showbackground\":true,\"ticks\":\"\",\"zerolinecolor\":\"#C8D4E3\",\"gridwidth\":2},\"zaxis\":{\"backgroundcolor\":\"rgb(17,17,17)\",\"gridcolor\":\"#506784\",\"linecolor\":\"#506784\",\"showbackground\":true,\"ticks\":\"\",\"zerolinecolor\":\"#C8D4E3\",\"gridwidth\":2}},\"shapedefaults\":{\"line\":{\"color\":\"#f2f5fa\"}},\"annotationdefaults\":{\"arrowcolor\":\"#f2f5fa\",\"arrowhead\":0,\"arrowwidth\":1},\"geo\":{\"bgcolor\":\"rgb(17,17,17)\",\"landcolor\":\"rgb(17,17,17)\",\"subunitcolor\":\"#506784\",\"showland\":true,\"showlakes\":true,\"lakecolor\":\"rgb(17,17,17)\"},\"title\":{\"x\":0.05},\"updatemenudefaults\":{\"bgcolor\":\"#506784\",\"borderwidth\":0},\"sliderdefaults\":{\"bgcolor\":\"#C8D4E3\",\"borderwidth\":1,\"bordercolor\":\"rgb(17,17,17)\",\"tickwidth\":0},\"mapbox\":{\"style\":\"dark\"}}},\"legend\":{\"x\":0.01,\"xanchor\":\"left\",\"y\":0.99,\"yanchor\":\"top\"},\"title\":{\"font\":{\"size\":20},\"text\":\"Most Used Languages\",\"x\":0.5},\"yaxis\":{\"side\":\"right\",\"tickfont\":{\"family\":\"Rockwell\",\"size\":15},\"title\":{\"text\":\"Programing Languages\"},\"tickmode\":\"array\",\"tickvals\":[0,1,2,3,4],\"ticktext\":[\"JavaScript\",\"HTML/CSS\",\"SQL\",\"Python\",\"TypeScript\"],\"tickangle\":45},\"barmode\":\"group\",\"xaxis\":{\"tickfont\":{\"size\":20},\"title\":{\"text\":\"Percentage (%)\"},\"autorange\":\"reversed\"}},                        {\"responsive\": true}                    ).then(function(){\n                            \nvar gd = document.getElementById('fe021b75-264e-4c6c-918f-0475d57eff3f');\nvar x = new MutationObserver(function (mutations, observer) {{\n        var display = window.getComputedStyle(gd).display;\n        if (!display || display === 'none') {{\n            console.log([gd, 'removed!']);\n            Plotly.purge(gd);\n            observer.disconnect();\n        }}\n}});\n\n// Listen for the removal of the full notebook cells\nvar notebookContainer = gd.closest('#notebook-container');\nif (notebookContainer) {{\n    x.observe(notebookContainer, {childList: true});\n}}\n\n// Listen for the clearing of the current output cell\nvar outputEl = gd.closest('.output');\nif (outputEl) {{\n    x.observe(outputEl, {childList: true});\n}}\n\n                        })                };                });            </script>        </div>"
     },
     "metadata": {},
     "output_type": "display_data"
    }
   ],
   "source": [
    "create_most_used_languages_chart()"
   ],
   "metadata": {
    "collapsed": false
   }
  },
  {
   "cell_type": "markdown",
   "source": [
    "________________________"
   ],
   "metadata": {
    "collapsed": false
   }
  },
  {
   "cell_type": "markdown",
   "source": [
    "# 3. jobs salary"
   ],
   "metadata": {
    "collapsed": false
   }
  },
  {
   "cell_type": "code",
   "execution_count": 181,
   "outputs": [],
   "source": [
    "def create_jobs_salaries_chart():\n",
    "    survey_comp = survey.copy()\n",
    "\n",
    "    # we only need rows with one dev_type for fair comparison\n",
    "    filteration =  (skills_dev_df['DevType'].sum(axis=1) == 1)\n",
    "    dev_type = skills_dev_df[filteration]['DevType'].idxmax(1)\n",
    "    survey_comp = survey_comp.loc[dev_type.index,:]\n",
    "    survey_comp['DevType'] = dev_type\n",
    "\n",
    "    # we also need more filtration for salaries not equal nan\n",
    "    survey_comp = survey_comp[~survey_comp['CompTotal'].isna()]\n",
    "\n",
    "    # calculate median of years of experience and salaries\n",
    "    dev_years = survey_comp.groupby('DevType')['YearsCodePro'].median().sort_values(ascending=False)\n",
    "    dev_comp = survey_comp.groupby('DevType')['CompTotal'].median().sort_values(ascending=False)\n",
    "    dev_years_comp = pd.concat([dev_comp, dev_years], axis=1)\n",
    "\n",
    "    # plot figure\n",
    "    fig = px.scatter(x = dev_years_comp.index, y = dev_years_comp.CompTotal, size=dev_years_comp.YearsCodePro.values)\n",
    "    layout = go.Layout(\n",
    "        title = dict(\n",
    "            text = \"Most Paid Jobs With Respect To Years Of Experience\",\n",
    "            font_size = 20,\n",
    "            x = .5),\n",
    "        )\n",
    "\n",
    "    fig.update_layout(layout)\n",
    "    fig.update_yaxes(\n",
    "        title=\"Salary\",\n",
    "        tickangle=45,\n",
    "        tickfont=dict(family='Rockwell', size=15))\n",
    "    fig.update_xaxes(\n",
    "        title=\"Job Type\",\n",
    "        tickmode='array',\n",
    "        tickvals=np.arange(len(dev_years_comp.index)),\n",
    "        ticktext=[change_labels(x) for x in dev_years_comp.index],\n",
    "        tickangle=45,\n",
    "        tickfont=dict(family='Rockwell', size=15))\n",
    "\n",
    "    return fig"
   ],
   "metadata": {
    "collapsed": false
   }
  },
  {
   "cell_type": "code",
   "execution_count": 182,
   "outputs": [
    {
     "data": {
      "application/vnd.plotly.v1+json": {
       "data": [
        {
         "hovertemplate": "x=%{x}<br>y=%{y}<br>size=%{marker.size}<extra></extra>",
         "legendgroup": "",
         "marker": {
          "color": "#636efa",
          "size": [
           7.0,
           8.5,
           6.0,
           5.0,
           7.5,
           7.0,
           9.0,
           5.0,
           6.5,
           7.0,
           4.0,
           10.0,
           6.0,
           6.0,
           5.0,
           6.0
          ],
          "sizemode": "area",
          "sizeref": 0.025,
          "symbol": "circle"
         },
         "mode": "markers",
         "name": "",
         "orientation": "v",
         "showlegend": false,
         "x": [
          "Blockchain",
          "Engineer_site reliability",
          "Cloud infrastructure engineer",
          "Data scientist or machine learning specialist",
          "Developer_back-end",
          "Scientist",
          "Developer_full-stack",
          "Engineer_data",
          "DevOps specialist",
          "Developer_embedded applications or devices",
          "Data or business analyst",
          "Developer_desktop or enterprise applications",
          "Developer_game or graphics",
          "Developer_mobile",
          "Developer_front-end",
          "Academic researcher"
         ],
         "xaxis": "x",
         "y": [
          130000.0,
          116500.0,
          112000.0,
          100000.0,
          100000.0,
          100000.0,
          95000.0,
          95000.0,
          85500.0,
          80000.0,
          70000.0,
          70000.0,
          70000.0,
          70000.0,
          60000.0,
          50000.0
         ],
         "yaxis": "y",
         "type": "scatter"
        }
       ],
       "layout": {
        "template": {
         "data": {
          "histogram2dcontour": [
           {
            "type": "histogram2dcontour",
            "colorbar": {
             "outlinewidth": 0,
             "ticks": ""
            },
            "colorscale": [
             [
              0.0,
              "#0d0887"
             ],
             [
              0.1111111111111111,
              "#46039f"
             ],
             [
              0.2222222222222222,
              "#7201a8"
             ],
             [
              0.3333333333333333,
              "#9c179e"
             ],
             [
              0.4444444444444444,
              "#bd3786"
             ],
             [
              0.5555555555555556,
              "#d8576b"
             ],
             [
              0.6666666666666666,
              "#ed7953"
             ],
             [
              0.7777777777777778,
              "#fb9f3a"
             ],
             [
              0.8888888888888888,
              "#fdca26"
             ],
             [
              1.0,
              "#f0f921"
             ]
            ]
           }
          ],
          "choropleth": [
           {
            "type": "choropleth",
            "colorbar": {
             "outlinewidth": 0,
             "ticks": ""
            }
           }
          ],
          "histogram2d": [
           {
            "type": "histogram2d",
            "colorbar": {
             "outlinewidth": 0,
             "ticks": ""
            },
            "colorscale": [
             [
              0.0,
              "#0d0887"
             ],
             [
              0.1111111111111111,
              "#46039f"
             ],
             [
              0.2222222222222222,
              "#7201a8"
             ],
             [
              0.3333333333333333,
              "#9c179e"
             ],
             [
              0.4444444444444444,
              "#bd3786"
             ],
             [
              0.5555555555555556,
              "#d8576b"
             ],
             [
              0.6666666666666666,
              "#ed7953"
             ],
             [
              0.7777777777777778,
              "#fb9f3a"
             ],
             [
              0.8888888888888888,
              "#fdca26"
             ],
             [
              1.0,
              "#f0f921"
             ]
            ]
           }
          ],
          "heatmap": [
           {
            "type": "heatmap",
            "colorbar": {
             "outlinewidth": 0,
             "ticks": ""
            },
            "colorscale": [
             [
              0.0,
              "#0d0887"
             ],
             [
              0.1111111111111111,
              "#46039f"
             ],
             [
              0.2222222222222222,
              "#7201a8"
             ],
             [
              0.3333333333333333,
              "#9c179e"
             ],
             [
              0.4444444444444444,
              "#bd3786"
             ],
             [
              0.5555555555555556,
              "#d8576b"
             ],
             [
              0.6666666666666666,
              "#ed7953"
             ],
             [
              0.7777777777777778,
              "#fb9f3a"
             ],
             [
              0.8888888888888888,
              "#fdca26"
             ],
             [
              1.0,
              "#f0f921"
             ]
            ]
           }
          ],
          "heatmapgl": [
           {
            "type": "heatmapgl",
            "colorbar": {
             "outlinewidth": 0,
             "ticks": ""
            },
            "colorscale": [
             [
              0.0,
              "#0d0887"
             ],
             [
              0.1111111111111111,
              "#46039f"
             ],
             [
              0.2222222222222222,
              "#7201a8"
             ],
             [
              0.3333333333333333,
              "#9c179e"
             ],
             [
              0.4444444444444444,
              "#bd3786"
             ],
             [
              0.5555555555555556,
              "#d8576b"
             ],
             [
              0.6666666666666666,
              "#ed7953"
             ],
             [
              0.7777777777777778,
              "#fb9f3a"
             ],
             [
              0.8888888888888888,
              "#fdca26"
             ],
             [
              1.0,
              "#f0f921"
             ]
            ]
           }
          ],
          "contourcarpet": [
           {
            "type": "contourcarpet",
            "colorbar": {
             "outlinewidth": 0,
             "ticks": ""
            }
           }
          ],
          "contour": [
           {
            "type": "contour",
            "colorbar": {
             "outlinewidth": 0,
             "ticks": ""
            },
            "colorscale": [
             [
              0.0,
              "#0d0887"
             ],
             [
              0.1111111111111111,
              "#46039f"
             ],
             [
              0.2222222222222222,
              "#7201a8"
             ],
             [
              0.3333333333333333,
              "#9c179e"
             ],
             [
              0.4444444444444444,
              "#bd3786"
             ],
             [
              0.5555555555555556,
              "#d8576b"
             ],
             [
              0.6666666666666666,
              "#ed7953"
             ],
             [
              0.7777777777777778,
              "#fb9f3a"
             ],
             [
              0.8888888888888888,
              "#fdca26"
             ],
             [
              1.0,
              "#f0f921"
             ]
            ]
           }
          ],
          "surface": [
           {
            "type": "surface",
            "colorbar": {
             "outlinewidth": 0,
             "ticks": ""
            },
            "colorscale": [
             [
              0.0,
              "#0d0887"
             ],
             [
              0.1111111111111111,
              "#46039f"
             ],
             [
              0.2222222222222222,
              "#7201a8"
             ],
             [
              0.3333333333333333,
              "#9c179e"
             ],
             [
              0.4444444444444444,
              "#bd3786"
             ],
             [
              0.5555555555555556,
              "#d8576b"
             ],
             [
              0.6666666666666666,
              "#ed7953"
             ],
             [
              0.7777777777777778,
              "#fb9f3a"
             ],
             [
              0.8888888888888888,
              "#fdca26"
             ],
             [
              1.0,
              "#f0f921"
             ]
            ]
           }
          ],
          "mesh3d": [
           {
            "type": "mesh3d",
            "colorbar": {
             "outlinewidth": 0,
             "ticks": ""
            }
           }
          ],
          "scatter": [
           {
            "marker": {
             "line": {
              "color": "#283442"
             }
            },
            "type": "scatter"
           }
          ],
          "parcoords": [
           {
            "type": "parcoords",
            "line": {
             "colorbar": {
              "outlinewidth": 0,
              "ticks": ""
             }
            }
           }
          ],
          "scatterpolargl": [
           {
            "type": "scatterpolargl",
            "marker": {
             "colorbar": {
              "outlinewidth": 0,
              "ticks": ""
             }
            }
           }
          ],
          "bar": [
           {
            "error_x": {
             "color": "#f2f5fa"
            },
            "error_y": {
             "color": "#f2f5fa"
            },
            "marker": {
             "line": {
              "color": "rgb(17,17,17)",
              "width": 0.5
             },
             "pattern": {
              "fillmode": "overlay",
              "size": 10,
              "solidity": 0.2
             }
            },
            "type": "bar"
           }
          ],
          "scattergeo": [
           {
            "type": "scattergeo",
            "marker": {
             "colorbar": {
              "outlinewidth": 0,
              "ticks": ""
             }
            }
           }
          ],
          "scatterpolar": [
           {
            "type": "scatterpolar",
            "marker": {
             "colorbar": {
              "outlinewidth": 0,
              "ticks": ""
             }
            }
           }
          ],
          "histogram": [
           {
            "marker": {
             "pattern": {
              "fillmode": "overlay",
              "size": 10,
              "solidity": 0.2
             }
            },
            "type": "histogram"
           }
          ],
          "scattergl": [
           {
            "marker": {
             "line": {
              "color": "#283442"
             }
            },
            "type": "scattergl"
           }
          ],
          "scatter3d": [
           {
            "type": "scatter3d",
            "line": {
             "colorbar": {
              "outlinewidth": 0,
              "ticks": ""
             }
            },
            "marker": {
             "colorbar": {
              "outlinewidth": 0,
              "ticks": ""
             }
            }
           }
          ],
          "scattermapbox": [
           {
            "type": "scattermapbox",
            "marker": {
             "colorbar": {
              "outlinewidth": 0,
              "ticks": ""
             }
            }
           }
          ],
          "scatterternary": [
           {
            "type": "scatterternary",
            "marker": {
             "colorbar": {
              "outlinewidth": 0,
              "ticks": ""
             }
            }
           }
          ],
          "scattercarpet": [
           {
            "type": "scattercarpet",
            "marker": {
             "colorbar": {
              "outlinewidth": 0,
              "ticks": ""
             }
            }
           }
          ],
          "carpet": [
           {
            "aaxis": {
             "endlinecolor": "#A2B1C6",
             "gridcolor": "#506784",
             "linecolor": "#506784",
             "minorgridcolor": "#506784",
             "startlinecolor": "#A2B1C6"
            },
            "baxis": {
             "endlinecolor": "#A2B1C6",
             "gridcolor": "#506784",
             "linecolor": "#506784",
             "minorgridcolor": "#506784",
             "startlinecolor": "#A2B1C6"
            },
            "type": "carpet"
           }
          ],
          "table": [
           {
            "cells": {
             "fill": {
              "color": "#506784"
             },
             "line": {
              "color": "rgb(17,17,17)"
             }
            },
            "header": {
             "fill": {
              "color": "#2a3f5f"
             },
             "line": {
              "color": "rgb(17,17,17)"
             }
            },
            "type": "table"
           }
          ],
          "barpolar": [
           {
            "marker": {
             "line": {
              "color": "rgb(17,17,17)",
              "width": 0.5
             },
             "pattern": {
              "fillmode": "overlay",
              "size": 10,
              "solidity": 0.2
             }
            },
            "type": "barpolar"
           }
          ],
          "pie": [
           {
            "automargin": true,
            "type": "pie"
           }
          ]
         },
         "layout": {
          "autotypenumbers": "strict",
          "colorway": [
           "#636efa",
           "#EF553B",
           "#00cc96",
           "#ab63fa",
           "#FFA15A",
           "#19d3f3",
           "#FF6692",
           "#B6E880",
           "#FF97FF",
           "#FECB52"
          ],
          "font": {
           "color": "#f2f5fa"
          },
          "hovermode": "closest",
          "hoverlabel": {
           "align": "left"
          },
          "paper_bgcolor": "rgb(17,17,17)",
          "plot_bgcolor": "rgb(17,17,17)",
          "polar": {
           "bgcolor": "rgb(17,17,17)",
           "angularaxis": {
            "gridcolor": "#506784",
            "linecolor": "#506784",
            "ticks": ""
           },
           "radialaxis": {
            "gridcolor": "#506784",
            "linecolor": "#506784",
            "ticks": ""
           }
          },
          "ternary": {
           "bgcolor": "rgb(17,17,17)",
           "aaxis": {
            "gridcolor": "#506784",
            "linecolor": "#506784",
            "ticks": ""
           },
           "baxis": {
            "gridcolor": "#506784",
            "linecolor": "#506784",
            "ticks": ""
           },
           "caxis": {
            "gridcolor": "#506784",
            "linecolor": "#506784",
            "ticks": ""
           }
          },
          "coloraxis": {
           "colorbar": {
            "outlinewidth": 0,
            "ticks": ""
           }
          },
          "colorscale": {
           "sequential": [
            [
             0.0,
             "#0d0887"
            ],
            [
             0.1111111111111111,
             "#46039f"
            ],
            [
             0.2222222222222222,
             "#7201a8"
            ],
            [
             0.3333333333333333,
             "#9c179e"
            ],
            [
             0.4444444444444444,
             "#bd3786"
            ],
            [
             0.5555555555555556,
             "#d8576b"
            ],
            [
             0.6666666666666666,
             "#ed7953"
            ],
            [
             0.7777777777777778,
             "#fb9f3a"
            ],
            [
             0.8888888888888888,
             "#fdca26"
            ],
            [
             1.0,
             "#f0f921"
            ]
           ],
           "sequentialminus": [
            [
             0.0,
             "#0d0887"
            ],
            [
             0.1111111111111111,
             "#46039f"
            ],
            [
             0.2222222222222222,
             "#7201a8"
            ],
            [
             0.3333333333333333,
             "#9c179e"
            ],
            [
             0.4444444444444444,
             "#bd3786"
            ],
            [
             0.5555555555555556,
             "#d8576b"
            ],
            [
             0.6666666666666666,
             "#ed7953"
            ],
            [
             0.7777777777777778,
             "#fb9f3a"
            ],
            [
             0.8888888888888888,
             "#fdca26"
            ],
            [
             1.0,
             "#f0f921"
            ]
           ],
           "diverging": [
            [
             0,
             "#8e0152"
            ],
            [
             0.1,
             "#c51b7d"
            ],
            [
             0.2,
             "#de77ae"
            ],
            [
             0.3,
             "#f1b6da"
            ],
            [
             0.4,
             "#fde0ef"
            ],
            [
             0.5,
             "#f7f7f7"
            ],
            [
             0.6,
             "#e6f5d0"
            ],
            [
             0.7,
             "#b8e186"
            ],
            [
             0.8,
             "#7fbc41"
            ],
            [
             0.9,
             "#4d9221"
            ],
            [
             1,
             "#276419"
            ]
           ]
          },
          "xaxis": {
           "gridcolor": "#283442",
           "linecolor": "#506784",
           "ticks": "",
           "title": {
            "standoff": 15
           },
           "zerolinecolor": "#283442",
           "automargin": true,
           "zerolinewidth": 2
          },
          "yaxis": {
           "gridcolor": "#283442",
           "linecolor": "#506784",
           "ticks": "",
           "title": {
            "standoff": 15
           },
           "zerolinecolor": "#283442",
           "automargin": true,
           "zerolinewidth": 2
          },
          "scene": {
           "xaxis": {
            "backgroundcolor": "rgb(17,17,17)",
            "gridcolor": "#506784",
            "linecolor": "#506784",
            "showbackground": true,
            "ticks": "",
            "zerolinecolor": "#C8D4E3",
            "gridwidth": 2
           },
           "yaxis": {
            "backgroundcolor": "rgb(17,17,17)",
            "gridcolor": "#506784",
            "linecolor": "#506784",
            "showbackground": true,
            "ticks": "",
            "zerolinecolor": "#C8D4E3",
            "gridwidth": 2
           },
           "zaxis": {
            "backgroundcolor": "rgb(17,17,17)",
            "gridcolor": "#506784",
            "linecolor": "#506784",
            "showbackground": true,
            "ticks": "",
            "zerolinecolor": "#C8D4E3",
            "gridwidth": 2
           }
          },
          "shapedefaults": {
           "line": {
            "color": "#f2f5fa"
           }
          },
          "annotationdefaults": {
           "arrowcolor": "#f2f5fa",
           "arrowhead": 0,
           "arrowwidth": 1
          },
          "geo": {
           "bgcolor": "rgb(17,17,17)",
           "landcolor": "rgb(17,17,17)",
           "subunitcolor": "#506784",
           "showland": true,
           "showlakes": true,
           "lakecolor": "rgb(17,17,17)"
          },
          "title": {
           "x": 0.05
          },
          "updatemenudefaults": {
           "bgcolor": "#506784",
           "borderwidth": 0
          },
          "sliderdefaults": {
           "bgcolor": "#C8D4E3",
           "borderwidth": 1,
           "bordercolor": "rgb(17,17,17)",
           "tickwidth": 0
          },
          "mapbox": {
           "style": "dark"
          }
         }
        },
        "xaxis": {
         "anchor": "y",
         "domain": [
          0.0,
          1.0
         ],
         "title": {
          "text": "Job Type"
         },
         "tickfont": {
          "family": "Rockwell",
          "size": 15
         },
         "tickmode": "array",
         "tickvals": [
          0,
          1,
          2,
          3,
          4,
          5,
          6,
          7,
          8,
          9,
          10,
          11,
          12,
          13,
          14,
          15
         ],
         "ticktext": [
          "Blockchain",
          "Site reliability  engineer",
          "Cloud infrastructure engineer",
          "Machine learning specialist",
          "Back-end dev",
          "Scientist",
          "Full-stack dev",
          "Data  engineer",
          "Devops specialist",
          "Embedded applications dev",
          "Business analyst",
          "Enterprise applications dev",
          "Graphics dev",
          "Mobile dev",
          "Front-end dev",
          "Academic researcher"
         ],
         "tickangle": 45
        },
        "yaxis": {
         "anchor": "x",
         "domain": [
          0.0,
          1.0
         ],
         "title": {
          "text": "Salary"
         },
         "tickfont": {
          "family": "Rockwell",
          "size": 15
         },
         "tickangle": 45
        },
        "legend": {
         "tracegroupgap": 0,
         "itemsizing": "constant"
        },
        "margin": {
         "t": 60
        },
        "title": {
         "font": {
          "size": 20
         },
         "text": "Most Paid Jobs With Respect To Years Of Experience",
         "x": 0.5
        }
       },
       "config": {
        "plotlyServerURL": "https://plot.ly"
       }
      },
      "text/html": "<div>                            <div id=\"f8a5e844-c649-48d6-89bb-9038772020b0\" class=\"plotly-graph-div\" style=\"height:525px; width:100%;\"></div>            <script type=\"text/javascript\">                require([\"plotly\"], function(Plotly) {                    window.PLOTLYENV=window.PLOTLYENV || {};                                    if (document.getElementById(\"f8a5e844-c649-48d6-89bb-9038772020b0\")) {                    Plotly.newPlot(                        \"f8a5e844-c649-48d6-89bb-9038772020b0\",                        [{\"hovertemplate\":\"x=%{x}<br>y=%{y}<br>size=%{marker.size}<extra></extra>\",\"legendgroup\":\"\",\"marker\":{\"color\":\"#636efa\",\"size\":[7.0,8.5,6.0,5.0,7.5,7.0,9.0,5.0,6.5,7.0,4.0,10.0,6.0,6.0,5.0,6.0],\"sizemode\":\"area\",\"sizeref\":0.025,\"symbol\":\"circle\"},\"mode\":\"markers\",\"name\":\"\",\"orientation\":\"v\",\"showlegend\":false,\"x\":[\"Blockchain\",\"Engineer_site reliability\",\"Cloud infrastructure engineer\",\"Data scientist or machine learning specialist\",\"Developer_back-end\",\"Scientist\",\"Developer_full-stack\",\"Engineer_data\",\"DevOps specialist\",\"Developer_embedded applications or devices\",\"Data or business analyst\",\"Developer_desktop or enterprise applications\",\"Developer_game or graphics\",\"Developer_mobile\",\"Developer_front-end\",\"Academic researcher\"],\"xaxis\":\"x\",\"y\":[130000.0,116500.0,112000.0,100000.0,100000.0,100000.0,95000.0,95000.0,85500.0,80000.0,70000.0,70000.0,70000.0,70000.0,60000.0,50000.0],\"yaxis\":\"y\",\"type\":\"scatter\"}],                        {\"template\":{\"data\":{\"histogram2dcontour\":[{\"type\":\"histogram2dcontour\",\"colorbar\":{\"outlinewidth\":0,\"ticks\":\"\"},\"colorscale\":[[0.0,\"#0d0887\"],[0.1111111111111111,\"#46039f\"],[0.2222222222222222,\"#7201a8\"],[0.3333333333333333,\"#9c179e\"],[0.4444444444444444,\"#bd3786\"],[0.5555555555555556,\"#d8576b\"],[0.6666666666666666,\"#ed7953\"],[0.7777777777777778,\"#fb9f3a\"],[0.8888888888888888,\"#fdca26\"],[1.0,\"#f0f921\"]]}],\"choropleth\":[{\"type\":\"choropleth\",\"colorbar\":{\"outlinewidth\":0,\"ticks\":\"\"}}],\"histogram2d\":[{\"type\":\"histogram2d\",\"colorbar\":{\"outlinewidth\":0,\"ticks\":\"\"},\"colorscale\":[[0.0,\"#0d0887\"],[0.1111111111111111,\"#46039f\"],[0.2222222222222222,\"#7201a8\"],[0.3333333333333333,\"#9c179e\"],[0.4444444444444444,\"#bd3786\"],[0.5555555555555556,\"#d8576b\"],[0.6666666666666666,\"#ed7953\"],[0.7777777777777778,\"#fb9f3a\"],[0.8888888888888888,\"#fdca26\"],[1.0,\"#f0f921\"]]}],\"heatmap\":[{\"type\":\"heatmap\",\"colorbar\":{\"outlinewidth\":0,\"ticks\":\"\"},\"colorscale\":[[0.0,\"#0d0887\"],[0.1111111111111111,\"#46039f\"],[0.2222222222222222,\"#7201a8\"],[0.3333333333333333,\"#9c179e\"],[0.4444444444444444,\"#bd3786\"],[0.5555555555555556,\"#d8576b\"],[0.6666666666666666,\"#ed7953\"],[0.7777777777777778,\"#fb9f3a\"],[0.8888888888888888,\"#fdca26\"],[1.0,\"#f0f921\"]]}],\"heatmapgl\":[{\"type\":\"heatmapgl\",\"colorbar\":{\"outlinewidth\":0,\"ticks\":\"\"},\"colorscale\":[[0.0,\"#0d0887\"],[0.1111111111111111,\"#46039f\"],[0.2222222222222222,\"#7201a8\"],[0.3333333333333333,\"#9c179e\"],[0.4444444444444444,\"#bd3786\"],[0.5555555555555556,\"#d8576b\"],[0.6666666666666666,\"#ed7953\"],[0.7777777777777778,\"#fb9f3a\"],[0.8888888888888888,\"#fdca26\"],[1.0,\"#f0f921\"]]}],\"contourcarpet\":[{\"type\":\"contourcarpet\",\"colorbar\":{\"outlinewidth\":0,\"ticks\":\"\"}}],\"contour\":[{\"type\":\"contour\",\"colorbar\":{\"outlinewidth\":0,\"ticks\":\"\"},\"colorscale\":[[0.0,\"#0d0887\"],[0.1111111111111111,\"#46039f\"],[0.2222222222222222,\"#7201a8\"],[0.3333333333333333,\"#9c179e\"],[0.4444444444444444,\"#bd3786\"],[0.5555555555555556,\"#d8576b\"],[0.6666666666666666,\"#ed7953\"],[0.7777777777777778,\"#fb9f3a\"],[0.8888888888888888,\"#fdca26\"],[1.0,\"#f0f921\"]]}],\"surface\":[{\"type\":\"surface\",\"colorbar\":{\"outlinewidth\":0,\"ticks\":\"\"},\"colorscale\":[[0.0,\"#0d0887\"],[0.1111111111111111,\"#46039f\"],[0.2222222222222222,\"#7201a8\"],[0.3333333333333333,\"#9c179e\"],[0.4444444444444444,\"#bd3786\"],[0.5555555555555556,\"#d8576b\"],[0.6666666666666666,\"#ed7953\"],[0.7777777777777778,\"#fb9f3a\"],[0.8888888888888888,\"#fdca26\"],[1.0,\"#f0f921\"]]}],\"mesh3d\":[{\"type\":\"mesh3d\",\"colorbar\":{\"outlinewidth\":0,\"ticks\":\"\"}}],\"scatter\":[{\"marker\":{\"line\":{\"color\":\"#283442\"}},\"type\":\"scatter\"}],\"parcoords\":[{\"type\":\"parcoords\",\"line\":{\"colorbar\":{\"outlinewidth\":0,\"ticks\":\"\"}}}],\"scatterpolargl\":[{\"type\":\"scatterpolargl\",\"marker\":{\"colorbar\":{\"outlinewidth\":0,\"ticks\":\"\"}}}],\"bar\":[{\"error_x\":{\"color\":\"#f2f5fa\"},\"error_y\":{\"color\":\"#f2f5fa\"},\"marker\":{\"line\":{\"color\":\"rgb(17,17,17)\",\"width\":0.5},\"pattern\":{\"fillmode\":\"overlay\",\"size\":10,\"solidity\":0.2}},\"type\":\"bar\"}],\"scattergeo\":[{\"type\":\"scattergeo\",\"marker\":{\"colorbar\":{\"outlinewidth\":0,\"ticks\":\"\"}}}],\"scatterpolar\":[{\"type\":\"scatterpolar\",\"marker\":{\"colorbar\":{\"outlinewidth\":0,\"ticks\":\"\"}}}],\"histogram\":[{\"marker\":{\"pattern\":{\"fillmode\":\"overlay\",\"size\":10,\"solidity\":0.2}},\"type\":\"histogram\"}],\"scattergl\":[{\"marker\":{\"line\":{\"color\":\"#283442\"}},\"type\":\"scattergl\"}],\"scatter3d\":[{\"type\":\"scatter3d\",\"line\":{\"colorbar\":{\"outlinewidth\":0,\"ticks\":\"\"}},\"marker\":{\"colorbar\":{\"outlinewidth\":0,\"ticks\":\"\"}}}],\"scattermapbox\":[{\"type\":\"scattermapbox\",\"marker\":{\"colorbar\":{\"outlinewidth\":0,\"ticks\":\"\"}}}],\"scatterternary\":[{\"type\":\"scatterternary\",\"marker\":{\"colorbar\":{\"outlinewidth\":0,\"ticks\":\"\"}}}],\"scattercarpet\":[{\"type\":\"scattercarpet\",\"marker\":{\"colorbar\":{\"outlinewidth\":0,\"ticks\":\"\"}}}],\"carpet\":[{\"aaxis\":{\"endlinecolor\":\"#A2B1C6\",\"gridcolor\":\"#506784\",\"linecolor\":\"#506784\",\"minorgridcolor\":\"#506784\",\"startlinecolor\":\"#A2B1C6\"},\"baxis\":{\"endlinecolor\":\"#A2B1C6\",\"gridcolor\":\"#506784\",\"linecolor\":\"#506784\",\"minorgridcolor\":\"#506784\",\"startlinecolor\":\"#A2B1C6\"},\"type\":\"carpet\"}],\"table\":[{\"cells\":{\"fill\":{\"color\":\"#506784\"},\"line\":{\"color\":\"rgb(17,17,17)\"}},\"header\":{\"fill\":{\"color\":\"#2a3f5f\"},\"line\":{\"color\":\"rgb(17,17,17)\"}},\"type\":\"table\"}],\"barpolar\":[{\"marker\":{\"line\":{\"color\":\"rgb(17,17,17)\",\"width\":0.5},\"pattern\":{\"fillmode\":\"overlay\",\"size\":10,\"solidity\":0.2}},\"type\":\"barpolar\"}],\"pie\":[{\"automargin\":true,\"type\":\"pie\"}]},\"layout\":{\"autotypenumbers\":\"strict\",\"colorway\":[\"#636efa\",\"#EF553B\",\"#00cc96\",\"#ab63fa\",\"#FFA15A\",\"#19d3f3\",\"#FF6692\",\"#B6E880\",\"#FF97FF\",\"#FECB52\"],\"font\":{\"color\":\"#f2f5fa\"},\"hovermode\":\"closest\",\"hoverlabel\":{\"align\":\"left\"},\"paper_bgcolor\":\"rgb(17,17,17)\",\"plot_bgcolor\":\"rgb(17,17,17)\",\"polar\":{\"bgcolor\":\"rgb(17,17,17)\",\"angularaxis\":{\"gridcolor\":\"#506784\",\"linecolor\":\"#506784\",\"ticks\":\"\"},\"radialaxis\":{\"gridcolor\":\"#506784\",\"linecolor\":\"#506784\",\"ticks\":\"\"}},\"ternary\":{\"bgcolor\":\"rgb(17,17,17)\",\"aaxis\":{\"gridcolor\":\"#506784\",\"linecolor\":\"#506784\",\"ticks\":\"\"},\"baxis\":{\"gridcolor\":\"#506784\",\"linecolor\":\"#506784\",\"ticks\":\"\"},\"caxis\":{\"gridcolor\":\"#506784\",\"linecolor\":\"#506784\",\"ticks\":\"\"}},\"coloraxis\":{\"colorbar\":{\"outlinewidth\":0,\"ticks\":\"\"}},\"colorscale\":{\"sequential\":[[0.0,\"#0d0887\"],[0.1111111111111111,\"#46039f\"],[0.2222222222222222,\"#7201a8\"],[0.3333333333333333,\"#9c179e\"],[0.4444444444444444,\"#bd3786\"],[0.5555555555555556,\"#d8576b\"],[0.6666666666666666,\"#ed7953\"],[0.7777777777777778,\"#fb9f3a\"],[0.8888888888888888,\"#fdca26\"],[1.0,\"#f0f921\"]],\"sequentialminus\":[[0.0,\"#0d0887\"],[0.1111111111111111,\"#46039f\"],[0.2222222222222222,\"#7201a8\"],[0.3333333333333333,\"#9c179e\"],[0.4444444444444444,\"#bd3786\"],[0.5555555555555556,\"#d8576b\"],[0.6666666666666666,\"#ed7953\"],[0.7777777777777778,\"#fb9f3a\"],[0.8888888888888888,\"#fdca26\"],[1.0,\"#f0f921\"]],\"diverging\":[[0,\"#8e0152\"],[0.1,\"#c51b7d\"],[0.2,\"#de77ae\"],[0.3,\"#f1b6da\"],[0.4,\"#fde0ef\"],[0.5,\"#f7f7f7\"],[0.6,\"#e6f5d0\"],[0.7,\"#b8e186\"],[0.8,\"#7fbc41\"],[0.9,\"#4d9221\"],[1,\"#276419\"]]},\"xaxis\":{\"gridcolor\":\"#283442\",\"linecolor\":\"#506784\",\"ticks\":\"\",\"title\":{\"standoff\":15},\"zerolinecolor\":\"#283442\",\"automargin\":true,\"zerolinewidth\":2},\"yaxis\":{\"gridcolor\":\"#283442\",\"linecolor\":\"#506784\",\"ticks\":\"\",\"title\":{\"standoff\":15},\"zerolinecolor\":\"#283442\",\"automargin\":true,\"zerolinewidth\":2},\"scene\":{\"xaxis\":{\"backgroundcolor\":\"rgb(17,17,17)\",\"gridcolor\":\"#506784\",\"linecolor\":\"#506784\",\"showbackground\":true,\"ticks\":\"\",\"zerolinecolor\":\"#C8D4E3\",\"gridwidth\":2},\"yaxis\":{\"backgroundcolor\":\"rgb(17,17,17)\",\"gridcolor\":\"#506784\",\"linecolor\":\"#506784\",\"showbackground\":true,\"ticks\":\"\",\"zerolinecolor\":\"#C8D4E3\",\"gridwidth\":2},\"zaxis\":{\"backgroundcolor\":\"rgb(17,17,17)\",\"gridcolor\":\"#506784\",\"linecolor\":\"#506784\",\"showbackground\":true,\"ticks\":\"\",\"zerolinecolor\":\"#C8D4E3\",\"gridwidth\":2}},\"shapedefaults\":{\"line\":{\"color\":\"#f2f5fa\"}},\"annotationdefaults\":{\"arrowcolor\":\"#f2f5fa\",\"arrowhead\":0,\"arrowwidth\":1},\"geo\":{\"bgcolor\":\"rgb(17,17,17)\",\"landcolor\":\"rgb(17,17,17)\",\"subunitcolor\":\"#506784\",\"showland\":true,\"showlakes\":true,\"lakecolor\":\"rgb(17,17,17)\"},\"title\":{\"x\":0.05},\"updatemenudefaults\":{\"bgcolor\":\"#506784\",\"borderwidth\":0},\"sliderdefaults\":{\"bgcolor\":\"#C8D4E3\",\"borderwidth\":1,\"bordercolor\":\"rgb(17,17,17)\",\"tickwidth\":0},\"mapbox\":{\"style\":\"dark\"}}},\"xaxis\":{\"anchor\":\"y\",\"domain\":[0.0,1.0],\"title\":{\"text\":\"Job Type\"},\"tickfont\":{\"family\":\"Rockwell\",\"size\":15},\"tickmode\":\"array\",\"tickvals\":[0,1,2,3,4,5,6,7,8,9,10,11,12,13,14,15],\"ticktext\":[\"Blockchain\",\"Site reliability  engineer\",\"Cloud infrastructure engineer\",\"Machine learning specialist\",\"Back-end dev\",\"Scientist\",\"Full-stack dev\",\"Data  engineer\",\"Devops specialist\",\"Embedded applications dev\",\"Business analyst\",\"Enterprise applications dev\",\"Graphics dev\",\"Mobile dev\",\"Front-end dev\",\"Academic researcher\"],\"tickangle\":45},\"yaxis\":{\"anchor\":\"x\",\"domain\":[0.0,1.0],\"title\":{\"text\":\"Salary\"},\"tickfont\":{\"family\":\"Rockwell\",\"size\":15},\"tickangle\":45},\"legend\":{\"tracegroupgap\":0,\"itemsizing\":\"constant\"},\"margin\":{\"t\":60},\"title\":{\"font\":{\"size\":20},\"text\":\"Most Paid Jobs With Respect To Years Of Experience\",\"x\":0.5}},                        {\"responsive\": true}                    ).then(function(){\n                            \nvar gd = document.getElementById('f8a5e844-c649-48d6-89bb-9038772020b0');\nvar x = new MutationObserver(function (mutations, observer) {{\n        var display = window.getComputedStyle(gd).display;\n        if (!display || display === 'none') {{\n            console.log([gd, 'removed!']);\n            Plotly.purge(gd);\n            observer.disconnect();\n        }}\n}});\n\n// Listen for the removal of the full notebook cells\nvar notebookContainer = gd.closest('#notebook-container');\nif (notebookContainer) {{\n    x.observe(notebookContainer, {childList: true});\n}}\n\n// Listen for the clearing of the current output cell\nvar outputEl = gd.closest('.output');\nif (outputEl) {{\n    x.observe(outputEl, {childList: true});\n}}\n\n                        })                };                });            </script>        </div>"
     },
     "metadata": {},
     "output_type": "display_data"
    }
   ],
   "source": [
    "create_jobs_salaries_chart()"
   ],
   "metadata": {
    "collapsed": false
   }
  },
  {
   "cell_type": "markdown",
   "source": [
    "______________"
   ],
   "metadata": {
    "collapsed": false
   }
  },
  {
   "cell_type": "markdown",
   "source": [
    "# 4. Gender Distribution"
   ],
   "metadata": {
    "collapsed": false
   }
  },
  {
   "cell_type": "code",
   "execution_count": 190,
   "outputs": [],
   "source": [
    "def count_gender():\n",
    "    gender_data = survey[survey['Gender'].isin([['Man'], ['Woman']])]\n",
    "    gender_count = gender_data['Gender'].value_counts()\n",
    "    return gender_count"
   ],
   "metadata": {
    "collapsed": false
   }
  },
  {
   "cell_type": "code",
   "execution_count": 191,
   "outputs": [
    {
     "data": {
      "text/plain": "[Man]      45746\n[Woman]     2557\nName: Gender, dtype: int64"
     },
     "execution_count": 191,
     "metadata": {},
     "output_type": "execute_result"
    }
   ],
   "source": [
    "gender_count = count_gender()\n",
    "gender_count"
   ],
   "metadata": {
    "collapsed": false
   }
  },
  {
   "cell_type": "code",
   "execution_count": 192,
   "outputs": [],
   "source": [
    "def create_gender_dist_chart(gender_count):\n",
    "    fig = px.pie(gender_count,\n",
    "                 values=gender_count.values,\n",
    "                 names=gender_count.index,\n",
    "                 title='Gender Distribution')\n",
    "\n",
    "    fig.update_traces(\n",
    "        textposition='inside',\n",
    "        textinfo='percent+label')\n",
    "    fig.update_layout(\n",
    "        width=700,\n",
    "        height=300,\n",
    "        margin=dict(t=30, l=10, r=10, b=10),\n",
    "        title_font_size=20,\n",
    "        title_x=0.5\n",
    "    )\n",
    "\n",
    "    return fig"
   ],
   "metadata": {
    "collapsed": false
   }
  },
  {
   "cell_type": "code",
   "execution_count": 193,
   "outputs": [
    {
     "data": {
      "application/vnd.plotly.v1+json": {
       "data": [
        {
         "domain": {
          "x": [
           0.0,
           1.0
          ],
          "y": [
           0.0,
           1.0
          ]
         },
         "hovertemplate": "index=%{label}<br>value=%{value}<extra></extra>",
         "labels": [
          [
           "Man"
          ],
          [
           "Woman"
          ]
         ],
         "legendgroup": "",
         "name": "",
         "showlegend": true,
         "values": [
          45746,
          2557
         ],
         "type": "pie",
         "textinfo": "percent+label",
         "textposition": "inside"
        }
       ],
       "layout": {
        "template": {
         "data": {
          "histogram2dcontour": [
           {
            "type": "histogram2dcontour",
            "colorbar": {
             "outlinewidth": 0,
             "ticks": ""
            },
            "colorscale": [
             [
              0.0,
              "#0d0887"
             ],
             [
              0.1111111111111111,
              "#46039f"
             ],
             [
              0.2222222222222222,
              "#7201a8"
             ],
             [
              0.3333333333333333,
              "#9c179e"
             ],
             [
              0.4444444444444444,
              "#bd3786"
             ],
             [
              0.5555555555555556,
              "#d8576b"
             ],
             [
              0.6666666666666666,
              "#ed7953"
             ],
             [
              0.7777777777777778,
              "#fb9f3a"
             ],
             [
              0.8888888888888888,
              "#fdca26"
             ],
             [
              1.0,
              "#f0f921"
             ]
            ]
           }
          ],
          "choropleth": [
           {
            "type": "choropleth",
            "colorbar": {
             "outlinewidth": 0,
             "ticks": ""
            }
           }
          ],
          "histogram2d": [
           {
            "type": "histogram2d",
            "colorbar": {
             "outlinewidth": 0,
             "ticks": ""
            },
            "colorscale": [
             [
              0.0,
              "#0d0887"
             ],
             [
              0.1111111111111111,
              "#46039f"
             ],
             [
              0.2222222222222222,
              "#7201a8"
             ],
             [
              0.3333333333333333,
              "#9c179e"
             ],
             [
              0.4444444444444444,
              "#bd3786"
             ],
             [
              0.5555555555555556,
              "#d8576b"
             ],
             [
              0.6666666666666666,
              "#ed7953"
             ],
             [
              0.7777777777777778,
              "#fb9f3a"
             ],
             [
              0.8888888888888888,
              "#fdca26"
             ],
             [
              1.0,
              "#f0f921"
             ]
            ]
           }
          ],
          "heatmap": [
           {
            "type": "heatmap",
            "colorbar": {
             "outlinewidth": 0,
             "ticks": ""
            },
            "colorscale": [
             [
              0.0,
              "#0d0887"
             ],
             [
              0.1111111111111111,
              "#46039f"
             ],
             [
              0.2222222222222222,
              "#7201a8"
             ],
             [
              0.3333333333333333,
              "#9c179e"
             ],
             [
              0.4444444444444444,
              "#bd3786"
             ],
             [
              0.5555555555555556,
              "#d8576b"
             ],
             [
              0.6666666666666666,
              "#ed7953"
             ],
             [
              0.7777777777777778,
              "#fb9f3a"
             ],
             [
              0.8888888888888888,
              "#fdca26"
             ],
             [
              1.0,
              "#f0f921"
             ]
            ]
           }
          ],
          "heatmapgl": [
           {
            "type": "heatmapgl",
            "colorbar": {
             "outlinewidth": 0,
             "ticks": ""
            },
            "colorscale": [
             [
              0.0,
              "#0d0887"
             ],
             [
              0.1111111111111111,
              "#46039f"
             ],
             [
              0.2222222222222222,
              "#7201a8"
             ],
             [
              0.3333333333333333,
              "#9c179e"
             ],
             [
              0.4444444444444444,
              "#bd3786"
             ],
             [
              0.5555555555555556,
              "#d8576b"
             ],
             [
              0.6666666666666666,
              "#ed7953"
             ],
             [
              0.7777777777777778,
              "#fb9f3a"
             ],
             [
              0.8888888888888888,
              "#fdca26"
             ],
             [
              1.0,
              "#f0f921"
             ]
            ]
           }
          ],
          "contourcarpet": [
           {
            "type": "contourcarpet",
            "colorbar": {
             "outlinewidth": 0,
             "ticks": ""
            }
           }
          ],
          "contour": [
           {
            "type": "contour",
            "colorbar": {
             "outlinewidth": 0,
             "ticks": ""
            },
            "colorscale": [
             [
              0.0,
              "#0d0887"
             ],
             [
              0.1111111111111111,
              "#46039f"
             ],
             [
              0.2222222222222222,
              "#7201a8"
             ],
             [
              0.3333333333333333,
              "#9c179e"
             ],
             [
              0.4444444444444444,
              "#bd3786"
             ],
             [
              0.5555555555555556,
              "#d8576b"
             ],
             [
              0.6666666666666666,
              "#ed7953"
             ],
             [
              0.7777777777777778,
              "#fb9f3a"
             ],
             [
              0.8888888888888888,
              "#fdca26"
             ],
             [
              1.0,
              "#f0f921"
             ]
            ]
           }
          ],
          "surface": [
           {
            "type": "surface",
            "colorbar": {
             "outlinewidth": 0,
             "ticks": ""
            },
            "colorscale": [
             [
              0.0,
              "#0d0887"
             ],
             [
              0.1111111111111111,
              "#46039f"
             ],
             [
              0.2222222222222222,
              "#7201a8"
             ],
             [
              0.3333333333333333,
              "#9c179e"
             ],
             [
              0.4444444444444444,
              "#bd3786"
             ],
             [
              0.5555555555555556,
              "#d8576b"
             ],
             [
              0.6666666666666666,
              "#ed7953"
             ],
             [
              0.7777777777777778,
              "#fb9f3a"
             ],
             [
              0.8888888888888888,
              "#fdca26"
             ],
             [
              1.0,
              "#f0f921"
             ]
            ]
           }
          ],
          "mesh3d": [
           {
            "type": "mesh3d",
            "colorbar": {
             "outlinewidth": 0,
             "ticks": ""
            }
           }
          ],
          "scatter": [
           {
            "marker": {
             "line": {
              "color": "#283442"
             }
            },
            "type": "scatter"
           }
          ],
          "parcoords": [
           {
            "type": "parcoords",
            "line": {
             "colorbar": {
              "outlinewidth": 0,
              "ticks": ""
             }
            }
           }
          ],
          "scatterpolargl": [
           {
            "type": "scatterpolargl",
            "marker": {
             "colorbar": {
              "outlinewidth": 0,
              "ticks": ""
             }
            }
           }
          ],
          "bar": [
           {
            "error_x": {
             "color": "#f2f5fa"
            },
            "error_y": {
             "color": "#f2f5fa"
            },
            "marker": {
             "line": {
              "color": "rgb(17,17,17)",
              "width": 0.5
             },
             "pattern": {
              "fillmode": "overlay",
              "size": 10,
              "solidity": 0.2
             }
            },
            "type": "bar"
           }
          ],
          "scattergeo": [
           {
            "type": "scattergeo",
            "marker": {
             "colorbar": {
              "outlinewidth": 0,
              "ticks": ""
             }
            }
           }
          ],
          "scatterpolar": [
           {
            "type": "scatterpolar",
            "marker": {
             "colorbar": {
              "outlinewidth": 0,
              "ticks": ""
             }
            }
           }
          ],
          "histogram": [
           {
            "marker": {
             "pattern": {
              "fillmode": "overlay",
              "size": 10,
              "solidity": 0.2
             }
            },
            "type": "histogram"
           }
          ],
          "scattergl": [
           {
            "marker": {
             "line": {
              "color": "#283442"
             }
            },
            "type": "scattergl"
           }
          ],
          "scatter3d": [
           {
            "type": "scatter3d",
            "line": {
             "colorbar": {
              "outlinewidth": 0,
              "ticks": ""
             }
            },
            "marker": {
             "colorbar": {
              "outlinewidth": 0,
              "ticks": ""
             }
            }
           }
          ],
          "scattermapbox": [
           {
            "type": "scattermapbox",
            "marker": {
             "colorbar": {
              "outlinewidth": 0,
              "ticks": ""
             }
            }
           }
          ],
          "scatterternary": [
           {
            "type": "scatterternary",
            "marker": {
             "colorbar": {
              "outlinewidth": 0,
              "ticks": ""
             }
            }
           }
          ],
          "scattercarpet": [
           {
            "type": "scattercarpet",
            "marker": {
             "colorbar": {
              "outlinewidth": 0,
              "ticks": ""
             }
            }
           }
          ],
          "carpet": [
           {
            "aaxis": {
             "endlinecolor": "#A2B1C6",
             "gridcolor": "#506784",
             "linecolor": "#506784",
             "minorgridcolor": "#506784",
             "startlinecolor": "#A2B1C6"
            },
            "baxis": {
             "endlinecolor": "#A2B1C6",
             "gridcolor": "#506784",
             "linecolor": "#506784",
             "minorgridcolor": "#506784",
             "startlinecolor": "#A2B1C6"
            },
            "type": "carpet"
           }
          ],
          "table": [
           {
            "cells": {
             "fill": {
              "color": "#506784"
             },
             "line": {
              "color": "rgb(17,17,17)"
             }
            },
            "header": {
             "fill": {
              "color": "#2a3f5f"
             },
             "line": {
              "color": "rgb(17,17,17)"
             }
            },
            "type": "table"
           }
          ],
          "barpolar": [
           {
            "marker": {
             "line": {
              "color": "rgb(17,17,17)",
              "width": 0.5
             },
             "pattern": {
              "fillmode": "overlay",
              "size": 10,
              "solidity": 0.2
             }
            },
            "type": "barpolar"
           }
          ],
          "pie": [
           {
            "automargin": true,
            "type": "pie"
           }
          ]
         },
         "layout": {
          "autotypenumbers": "strict",
          "colorway": [
           "#636efa",
           "#EF553B",
           "#00cc96",
           "#ab63fa",
           "#FFA15A",
           "#19d3f3",
           "#FF6692",
           "#B6E880",
           "#FF97FF",
           "#FECB52"
          ],
          "font": {
           "color": "#f2f5fa"
          },
          "hovermode": "closest",
          "hoverlabel": {
           "align": "left"
          },
          "paper_bgcolor": "rgb(17,17,17)",
          "plot_bgcolor": "rgb(17,17,17)",
          "polar": {
           "bgcolor": "rgb(17,17,17)",
           "angularaxis": {
            "gridcolor": "#506784",
            "linecolor": "#506784",
            "ticks": ""
           },
           "radialaxis": {
            "gridcolor": "#506784",
            "linecolor": "#506784",
            "ticks": ""
           }
          },
          "ternary": {
           "bgcolor": "rgb(17,17,17)",
           "aaxis": {
            "gridcolor": "#506784",
            "linecolor": "#506784",
            "ticks": ""
           },
           "baxis": {
            "gridcolor": "#506784",
            "linecolor": "#506784",
            "ticks": ""
           },
           "caxis": {
            "gridcolor": "#506784",
            "linecolor": "#506784",
            "ticks": ""
           }
          },
          "coloraxis": {
           "colorbar": {
            "outlinewidth": 0,
            "ticks": ""
           }
          },
          "colorscale": {
           "sequential": [
            [
             0.0,
             "#0d0887"
            ],
            [
             0.1111111111111111,
             "#46039f"
            ],
            [
             0.2222222222222222,
             "#7201a8"
            ],
            [
             0.3333333333333333,
             "#9c179e"
            ],
            [
             0.4444444444444444,
             "#bd3786"
            ],
            [
             0.5555555555555556,
             "#d8576b"
            ],
            [
             0.6666666666666666,
             "#ed7953"
            ],
            [
             0.7777777777777778,
             "#fb9f3a"
            ],
            [
             0.8888888888888888,
             "#fdca26"
            ],
            [
             1.0,
             "#f0f921"
            ]
           ],
           "sequentialminus": [
            [
             0.0,
             "#0d0887"
            ],
            [
             0.1111111111111111,
             "#46039f"
            ],
            [
             0.2222222222222222,
             "#7201a8"
            ],
            [
             0.3333333333333333,
             "#9c179e"
            ],
            [
             0.4444444444444444,
             "#bd3786"
            ],
            [
             0.5555555555555556,
             "#d8576b"
            ],
            [
             0.6666666666666666,
             "#ed7953"
            ],
            [
             0.7777777777777778,
             "#fb9f3a"
            ],
            [
             0.8888888888888888,
             "#fdca26"
            ],
            [
             1.0,
             "#f0f921"
            ]
           ],
           "diverging": [
            [
             0,
             "#8e0152"
            ],
            [
             0.1,
             "#c51b7d"
            ],
            [
             0.2,
             "#de77ae"
            ],
            [
             0.3,
             "#f1b6da"
            ],
            [
             0.4,
             "#fde0ef"
            ],
            [
             0.5,
             "#f7f7f7"
            ],
            [
             0.6,
             "#e6f5d0"
            ],
            [
             0.7,
             "#b8e186"
            ],
            [
             0.8,
             "#7fbc41"
            ],
            [
             0.9,
             "#4d9221"
            ],
            [
             1,
             "#276419"
            ]
           ]
          },
          "xaxis": {
           "gridcolor": "#283442",
           "linecolor": "#506784",
           "ticks": "",
           "title": {
            "standoff": 15
           },
           "zerolinecolor": "#283442",
           "automargin": true,
           "zerolinewidth": 2
          },
          "yaxis": {
           "gridcolor": "#283442",
           "linecolor": "#506784",
           "ticks": "",
           "title": {
            "standoff": 15
           },
           "zerolinecolor": "#283442",
           "automargin": true,
           "zerolinewidth": 2
          },
          "scene": {
           "xaxis": {
            "backgroundcolor": "rgb(17,17,17)",
            "gridcolor": "#506784",
            "linecolor": "#506784",
            "showbackground": true,
            "ticks": "",
            "zerolinecolor": "#C8D4E3",
            "gridwidth": 2
           },
           "yaxis": {
            "backgroundcolor": "rgb(17,17,17)",
            "gridcolor": "#506784",
            "linecolor": "#506784",
            "showbackground": true,
            "ticks": "",
            "zerolinecolor": "#C8D4E3",
            "gridwidth": 2
           },
           "zaxis": {
            "backgroundcolor": "rgb(17,17,17)",
            "gridcolor": "#506784",
            "linecolor": "#506784",
            "showbackground": true,
            "ticks": "",
            "zerolinecolor": "#C8D4E3",
            "gridwidth": 2
           }
          },
          "shapedefaults": {
           "line": {
            "color": "#f2f5fa"
           }
          },
          "annotationdefaults": {
           "arrowcolor": "#f2f5fa",
           "arrowhead": 0,
           "arrowwidth": 1
          },
          "geo": {
           "bgcolor": "rgb(17,17,17)",
           "landcolor": "rgb(17,17,17)",
           "subunitcolor": "#506784",
           "showland": true,
           "showlakes": true,
           "lakecolor": "rgb(17,17,17)"
          },
          "title": {
           "x": 0.05
          },
          "updatemenudefaults": {
           "bgcolor": "#506784",
           "borderwidth": 0
          },
          "sliderdefaults": {
           "bgcolor": "#C8D4E3",
           "borderwidth": 1,
           "bordercolor": "rgb(17,17,17)",
           "tickwidth": 0
          },
          "mapbox": {
           "style": "dark"
          }
         }
        },
        "legend": {
         "tracegroupgap": 0
        },
        "title": {
         "text": "Gender Distribution",
         "font": {
          "size": 20
         },
         "x": 0.5
        },
        "margin": {
         "t": 30,
         "l": 10,
         "r": 10,
         "b": 10
        },
        "width": 700,
        "height": 300
       },
       "config": {
        "plotlyServerURL": "https://plot.ly"
       }
      },
      "text/html": "<div>                            <div id=\"962dfaae-4b22-4423-897a-264a6cfc71a6\" class=\"plotly-graph-div\" style=\"height:300px; width:700px;\"></div>            <script type=\"text/javascript\">                require([\"plotly\"], function(Plotly) {                    window.PLOTLYENV=window.PLOTLYENV || {};                                    if (document.getElementById(\"962dfaae-4b22-4423-897a-264a6cfc71a6\")) {                    Plotly.newPlot(                        \"962dfaae-4b22-4423-897a-264a6cfc71a6\",                        [{\"domain\":{\"x\":[0.0,1.0],\"y\":[0.0,1.0]},\"hovertemplate\":\"index=%{label}<br>value=%{value}<extra></extra>\",\"labels\":[[\"Man\"],[\"Woman\"]],\"legendgroup\":\"\",\"name\":\"\",\"showlegend\":true,\"values\":[45746,2557],\"type\":\"pie\",\"textinfo\":\"percent+label\",\"textposition\":\"inside\"}],                        {\"template\":{\"data\":{\"histogram2dcontour\":[{\"type\":\"histogram2dcontour\",\"colorbar\":{\"outlinewidth\":0,\"ticks\":\"\"},\"colorscale\":[[0.0,\"#0d0887\"],[0.1111111111111111,\"#46039f\"],[0.2222222222222222,\"#7201a8\"],[0.3333333333333333,\"#9c179e\"],[0.4444444444444444,\"#bd3786\"],[0.5555555555555556,\"#d8576b\"],[0.6666666666666666,\"#ed7953\"],[0.7777777777777778,\"#fb9f3a\"],[0.8888888888888888,\"#fdca26\"],[1.0,\"#f0f921\"]]}],\"choropleth\":[{\"type\":\"choropleth\",\"colorbar\":{\"outlinewidth\":0,\"ticks\":\"\"}}],\"histogram2d\":[{\"type\":\"histogram2d\",\"colorbar\":{\"outlinewidth\":0,\"ticks\":\"\"},\"colorscale\":[[0.0,\"#0d0887\"],[0.1111111111111111,\"#46039f\"],[0.2222222222222222,\"#7201a8\"],[0.3333333333333333,\"#9c179e\"],[0.4444444444444444,\"#bd3786\"],[0.5555555555555556,\"#d8576b\"],[0.6666666666666666,\"#ed7953\"],[0.7777777777777778,\"#fb9f3a\"],[0.8888888888888888,\"#fdca26\"],[1.0,\"#f0f921\"]]}],\"heatmap\":[{\"type\":\"heatmap\",\"colorbar\":{\"outlinewidth\":0,\"ticks\":\"\"},\"colorscale\":[[0.0,\"#0d0887\"],[0.1111111111111111,\"#46039f\"],[0.2222222222222222,\"#7201a8\"],[0.3333333333333333,\"#9c179e\"],[0.4444444444444444,\"#bd3786\"],[0.5555555555555556,\"#d8576b\"],[0.6666666666666666,\"#ed7953\"],[0.7777777777777778,\"#fb9f3a\"],[0.8888888888888888,\"#fdca26\"],[1.0,\"#f0f921\"]]}],\"heatmapgl\":[{\"type\":\"heatmapgl\",\"colorbar\":{\"outlinewidth\":0,\"ticks\":\"\"},\"colorscale\":[[0.0,\"#0d0887\"],[0.1111111111111111,\"#46039f\"],[0.2222222222222222,\"#7201a8\"],[0.3333333333333333,\"#9c179e\"],[0.4444444444444444,\"#bd3786\"],[0.5555555555555556,\"#d8576b\"],[0.6666666666666666,\"#ed7953\"],[0.7777777777777778,\"#fb9f3a\"],[0.8888888888888888,\"#fdca26\"],[1.0,\"#f0f921\"]]}],\"contourcarpet\":[{\"type\":\"contourcarpet\",\"colorbar\":{\"outlinewidth\":0,\"ticks\":\"\"}}],\"contour\":[{\"type\":\"contour\",\"colorbar\":{\"outlinewidth\":0,\"ticks\":\"\"},\"colorscale\":[[0.0,\"#0d0887\"],[0.1111111111111111,\"#46039f\"],[0.2222222222222222,\"#7201a8\"],[0.3333333333333333,\"#9c179e\"],[0.4444444444444444,\"#bd3786\"],[0.5555555555555556,\"#d8576b\"],[0.6666666666666666,\"#ed7953\"],[0.7777777777777778,\"#fb9f3a\"],[0.8888888888888888,\"#fdca26\"],[1.0,\"#f0f921\"]]}],\"surface\":[{\"type\":\"surface\",\"colorbar\":{\"outlinewidth\":0,\"ticks\":\"\"},\"colorscale\":[[0.0,\"#0d0887\"],[0.1111111111111111,\"#46039f\"],[0.2222222222222222,\"#7201a8\"],[0.3333333333333333,\"#9c179e\"],[0.4444444444444444,\"#bd3786\"],[0.5555555555555556,\"#d8576b\"],[0.6666666666666666,\"#ed7953\"],[0.7777777777777778,\"#fb9f3a\"],[0.8888888888888888,\"#fdca26\"],[1.0,\"#f0f921\"]]}],\"mesh3d\":[{\"type\":\"mesh3d\",\"colorbar\":{\"outlinewidth\":0,\"ticks\":\"\"}}],\"scatter\":[{\"marker\":{\"line\":{\"color\":\"#283442\"}},\"type\":\"scatter\"}],\"parcoords\":[{\"type\":\"parcoords\",\"line\":{\"colorbar\":{\"outlinewidth\":0,\"ticks\":\"\"}}}],\"scatterpolargl\":[{\"type\":\"scatterpolargl\",\"marker\":{\"colorbar\":{\"outlinewidth\":0,\"ticks\":\"\"}}}],\"bar\":[{\"error_x\":{\"color\":\"#f2f5fa\"},\"error_y\":{\"color\":\"#f2f5fa\"},\"marker\":{\"line\":{\"color\":\"rgb(17,17,17)\",\"width\":0.5},\"pattern\":{\"fillmode\":\"overlay\",\"size\":10,\"solidity\":0.2}},\"type\":\"bar\"}],\"scattergeo\":[{\"type\":\"scattergeo\",\"marker\":{\"colorbar\":{\"outlinewidth\":0,\"ticks\":\"\"}}}],\"scatterpolar\":[{\"type\":\"scatterpolar\",\"marker\":{\"colorbar\":{\"outlinewidth\":0,\"ticks\":\"\"}}}],\"histogram\":[{\"marker\":{\"pattern\":{\"fillmode\":\"overlay\",\"size\":10,\"solidity\":0.2}},\"type\":\"histogram\"}],\"scattergl\":[{\"marker\":{\"line\":{\"color\":\"#283442\"}},\"type\":\"scattergl\"}],\"scatter3d\":[{\"type\":\"scatter3d\",\"line\":{\"colorbar\":{\"outlinewidth\":0,\"ticks\":\"\"}},\"marker\":{\"colorbar\":{\"outlinewidth\":0,\"ticks\":\"\"}}}],\"scattermapbox\":[{\"type\":\"scattermapbox\",\"marker\":{\"colorbar\":{\"outlinewidth\":0,\"ticks\":\"\"}}}],\"scatterternary\":[{\"type\":\"scatterternary\",\"marker\":{\"colorbar\":{\"outlinewidth\":0,\"ticks\":\"\"}}}],\"scattercarpet\":[{\"type\":\"scattercarpet\",\"marker\":{\"colorbar\":{\"outlinewidth\":0,\"ticks\":\"\"}}}],\"carpet\":[{\"aaxis\":{\"endlinecolor\":\"#A2B1C6\",\"gridcolor\":\"#506784\",\"linecolor\":\"#506784\",\"minorgridcolor\":\"#506784\",\"startlinecolor\":\"#A2B1C6\"},\"baxis\":{\"endlinecolor\":\"#A2B1C6\",\"gridcolor\":\"#506784\",\"linecolor\":\"#506784\",\"minorgridcolor\":\"#506784\",\"startlinecolor\":\"#A2B1C6\"},\"type\":\"carpet\"}],\"table\":[{\"cells\":{\"fill\":{\"color\":\"#506784\"},\"line\":{\"color\":\"rgb(17,17,17)\"}},\"header\":{\"fill\":{\"color\":\"#2a3f5f\"},\"line\":{\"color\":\"rgb(17,17,17)\"}},\"type\":\"table\"}],\"barpolar\":[{\"marker\":{\"line\":{\"color\":\"rgb(17,17,17)\",\"width\":0.5},\"pattern\":{\"fillmode\":\"overlay\",\"size\":10,\"solidity\":0.2}},\"type\":\"barpolar\"}],\"pie\":[{\"automargin\":true,\"type\":\"pie\"}]},\"layout\":{\"autotypenumbers\":\"strict\",\"colorway\":[\"#636efa\",\"#EF553B\",\"#00cc96\",\"#ab63fa\",\"#FFA15A\",\"#19d3f3\",\"#FF6692\",\"#B6E880\",\"#FF97FF\",\"#FECB52\"],\"font\":{\"color\":\"#f2f5fa\"},\"hovermode\":\"closest\",\"hoverlabel\":{\"align\":\"left\"},\"paper_bgcolor\":\"rgb(17,17,17)\",\"plot_bgcolor\":\"rgb(17,17,17)\",\"polar\":{\"bgcolor\":\"rgb(17,17,17)\",\"angularaxis\":{\"gridcolor\":\"#506784\",\"linecolor\":\"#506784\",\"ticks\":\"\"},\"radialaxis\":{\"gridcolor\":\"#506784\",\"linecolor\":\"#506784\",\"ticks\":\"\"}},\"ternary\":{\"bgcolor\":\"rgb(17,17,17)\",\"aaxis\":{\"gridcolor\":\"#506784\",\"linecolor\":\"#506784\",\"ticks\":\"\"},\"baxis\":{\"gridcolor\":\"#506784\",\"linecolor\":\"#506784\",\"ticks\":\"\"},\"caxis\":{\"gridcolor\":\"#506784\",\"linecolor\":\"#506784\",\"ticks\":\"\"}},\"coloraxis\":{\"colorbar\":{\"outlinewidth\":0,\"ticks\":\"\"}},\"colorscale\":{\"sequential\":[[0.0,\"#0d0887\"],[0.1111111111111111,\"#46039f\"],[0.2222222222222222,\"#7201a8\"],[0.3333333333333333,\"#9c179e\"],[0.4444444444444444,\"#bd3786\"],[0.5555555555555556,\"#d8576b\"],[0.6666666666666666,\"#ed7953\"],[0.7777777777777778,\"#fb9f3a\"],[0.8888888888888888,\"#fdca26\"],[1.0,\"#f0f921\"]],\"sequentialminus\":[[0.0,\"#0d0887\"],[0.1111111111111111,\"#46039f\"],[0.2222222222222222,\"#7201a8\"],[0.3333333333333333,\"#9c179e\"],[0.4444444444444444,\"#bd3786\"],[0.5555555555555556,\"#d8576b\"],[0.6666666666666666,\"#ed7953\"],[0.7777777777777778,\"#fb9f3a\"],[0.8888888888888888,\"#fdca26\"],[1.0,\"#f0f921\"]],\"diverging\":[[0,\"#8e0152\"],[0.1,\"#c51b7d\"],[0.2,\"#de77ae\"],[0.3,\"#f1b6da\"],[0.4,\"#fde0ef\"],[0.5,\"#f7f7f7\"],[0.6,\"#e6f5d0\"],[0.7,\"#b8e186\"],[0.8,\"#7fbc41\"],[0.9,\"#4d9221\"],[1,\"#276419\"]]},\"xaxis\":{\"gridcolor\":\"#283442\",\"linecolor\":\"#506784\",\"ticks\":\"\",\"title\":{\"standoff\":15},\"zerolinecolor\":\"#283442\",\"automargin\":true,\"zerolinewidth\":2},\"yaxis\":{\"gridcolor\":\"#283442\",\"linecolor\":\"#506784\",\"ticks\":\"\",\"title\":{\"standoff\":15},\"zerolinecolor\":\"#283442\",\"automargin\":true,\"zerolinewidth\":2},\"scene\":{\"xaxis\":{\"backgroundcolor\":\"rgb(17,17,17)\",\"gridcolor\":\"#506784\",\"linecolor\":\"#506784\",\"showbackground\":true,\"ticks\":\"\",\"zerolinecolor\":\"#C8D4E3\",\"gridwidth\":2},\"yaxis\":{\"backgroundcolor\":\"rgb(17,17,17)\",\"gridcolor\":\"#506784\",\"linecolor\":\"#506784\",\"showbackground\":true,\"ticks\":\"\",\"zerolinecolor\":\"#C8D4E3\",\"gridwidth\":2},\"zaxis\":{\"backgroundcolor\":\"rgb(17,17,17)\",\"gridcolor\":\"#506784\",\"linecolor\":\"#506784\",\"showbackground\":true,\"ticks\":\"\",\"zerolinecolor\":\"#C8D4E3\",\"gridwidth\":2}},\"shapedefaults\":{\"line\":{\"color\":\"#f2f5fa\"}},\"annotationdefaults\":{\"arrowcolor\":\"#f2f5fa\",\"arrowhead\":0,\"arrowwidth\":1},\"geo\":{\"bgcolor\":\"rgb(17,17,17)\",\"landcolor\":\"rgb(17,17,17)\",\"subunitcolor\":\"#506784\",\"showland\":true,\"showlakes\":true,\"lakecolor\":\"rgb(17,17,17)\"},\"title\":{\"x\":0.05},\"updatemenudefaults\":{\"bgcolor\":\"#506784\",\"borderwidth\":0},\"sliderdefaults\":{\"bgcolor\":\"#C8D4E3\",\"borderwidth\":1,\"bordercolor\":\"rgb(17,17,17)\",\"tickwidth\":0},\"mapbox\":{\"style\":\"dark\"}}},\"legend\":{\"tracegroupgap\":0},\"title\":{\"text\":\"Gender Distribution\",\"font\":{\"size\":20},\"x\":0.5},\"margin\":{\"t\":30,\"l\":10,\"r\":10,\"b\":10},\"width\":700,\"height\":300},                        {\"responsive\": true}                    ).then(function(){\n                            \nvar gd = document.getElementById('962dfaae-4b22-4423-897a-264a6cfc71a6');\nvar x = new MutationObserver(function (mutations, observer) {{\n        var display = window.getComputedStyle(gd).display;\n        if (!display || display === 'none') {{\n            console.log([gd, 'removed!']);\n            Plotly.purge(gd);\n            observer.disconnect();\n        }}\n}});\n\n// Listen for the removal of the full notebook cells\nvar notebookContainer = gd.closest('#notebook-container');\nif (notebookContainer) {{\n    x.observe(notebookContainer, {childList: true});\n}}\n\n// Listen for the clearing of the current output cell\nvar outputEl = gd.closest('.output');\nif (outputEl) {{\n    x.observe(outputEl, {childList: true});\n}}\n\n                        })                };                });            </script>        </div>"
     },
     "metadata": {},
     "output_type": "display_data"
    }
   ],
   "source": [
    "create_gender_dist_chart(gender_count)"
   ],
   "metadata": {
    "collapsed": false
   }
  },
  {
   "cell_type": "code",
   "execution_count": null,
   "outputs": [],
   "source": [],
   "metadata": {
    "collapsed": false
   }
  },
  {
   "cell_type": "markdown",
   "source": [
    "-------------------"
   ],
   "metadata": {
    "collapsed": false
   }
  },
  {
   "cell_type": "markdown",
   "source": [
    "# 5. Education vs job"
   ],
   "metadata": {
    "collapsed": false
   }
  },
  {
   "cell_type": "code",
   "execution_count": 208,
   "outputs": [],
   "source": [
    "# Function to create the education vs. job occupation chart\n",
    "def create_education_vs_job_chart():\n",
    "    # Mapping to rename education levels\n",
    "    education_mapping = {\n",
    "        'Master’s degree (M.A., M.S., M.Eng., MBA, etc.)': \"Master's\",\n",
    "        'Bachelor’s degree (B.A., B.S., B.Eng., etc.)': \"Bachelor's\",\n",
    "        'Some college/university study without earning a degree': \"Some College\",\n",
    "        'Secondary school (e.g. American high school, German Realschule or Gymnasium, etc.)': \"Secondary School\",\n",
    "        'Something else': \"Unknown\",\n",
    "        'Primary/elementary school': \"Primary School\",\n",
    "        'Professional degree (JD, MD, etc.)': \"Professional Degree\",\n",
    "        'Associate degree (A.A., A.S., etc.)': \"Associate Degree\",\n",
    "        'Other doctoral degree (Ph.D., Ed.D., etc.)': \"Other Doctoral\",\n",
    "        float('nan'): \"Unknown\"\n",
    "    }\n",
    "\n",
    "    # Extract education levels from the survey data and apply the mapping\n",
    "    edu = survey['EdLevel']\n",
    "    edu = edu.map(education_mapping)\n",
    "\n",
    "    # Specify the custom order of education levels for sorting\n",
    "    custom_order = [\n",
    "        \"Primary School\", \"Secondary School\", \"Some College\",\n",
    "        \"Associate Degree\", \"Bachelor's\", \"Master's\", \"Professional Degree\",\n",
    "        \"Other Doctoral\", \"Something Else\", \"Unknown\"\n",
    "    ]\n",
    "\n",
    "    # Sort education levels and remove 'Unknown'\n",
    "    edu = edu.sort_values()\n",
    "    edu = edu[~(edu == 'Unknown')]\n",
    "\n",
    "    # Extract job types from skills_dev_df\n",
    "    dev = skills_dev_df['DevType']\n",
    "\n",
    "    # Merge education levels and job types data\n",
    "    melted_df = pd.merge(edu, dev, left_index=True, right_index=True).melt(id_vars=[\"EdLevel\"], var_name=\"Job\", value_name=\"Occupation\")\n",
    "\n",
    "    # Group data by education level and job type, and calculate percentage works\n",
    "    grouped_df = melted_df.groupby([\"EdLevel\", \"Job\"])[\"Occupation\"].sum().reset_index()\n",
    "\n",
    "    # Calculate percentage of EduLevel within job type\n",
    "    jobs_freq = melted_df.groupby('Job').sum(numeric_only=True)\n",
    "    repeated_df = pd.concat([jobs_freq] * 8)\n",
    "    # make sure both index are same\n",
    "    grouped_df.index = grouped_df.Job\n",
    "    grouped_df['Occupation'] = grouped_df['Occupation'] * 100 / repeated_df['Occupation']\n",
    "\n",
    "\n",
    "    text = (grouped_df['Occupation']).astype(int)\n",
    "    text = [f\"{value}%\" for value in text]\n",
    "\n",
    "    # Create a bar chart using Plotly Express\n",
    "    fig = px.bar(\n",
    "        grouped_df,\n",
    "        x=\"Job\",\n",
    "        y=\"Occupation\",\n",
    "        color=\"EdLevel\",\n",
    "        labels={\"Occupation\": \"Percentage (%)\"},\n",
    "        category_orders={\"EdLevel\": custom_order},\n",
    "        text=text,\n",
    "    )\n",
    "\n",
    "    # Customize layout using Plotly graph objects\n",
    "    layout = go.Layout(\n",
    "        title = dict(\n",
    "            text = \"Education Level vs. Job Occupation\",\n",
    "            font_size = 20,\n",
    "            x = .5),\n",
    "        width=1700,\n",
    "        height=500,\n",
    "        margin=dict(t=60, l=10, r=10, b=10)\n",
    "    )\n",
    "\n",
    "    fig.update_layout(layout)\n",
    "    fig.update_traces(textfont_size=12, textangle=0, textposition=\"inside\", cliponaxis=False)\n",
    "    fig.update_yaxes(\n",
    "        title=\"Percentage (%)\",\n",
    "        tickangle=45,\n",
    "        tickfont=dict(family='Rockwell', size=15))\n",
    "    fig.update_xaxes(\n",
    "        title=\"Job Type\",\n",
    "        tickmode='array',\n",
    "        tickvals=np.arange(len(jobs_freq.index)),\n",
    "        ticktext=[change_labels(x) for x in jobs_freq.index],\n",
    "        tickangle=45,\n",
    "        tickfont=dict(family='Rockwell', size=15))\n",
    "\n",
    "    return fig"
   ],
   "metadata": {
    "collapsed": false
   }
  },
  {
   "cell_type": "code",
   "execution_count": 209,
   "outputs": [
    {
     "data": {
      "application/vnd.plotly.v1+json": {
       "data": [
        {
         "alignmentgroup": "True",
         "hovertemplate": "EdLevel=Primary School<br>Job=%{x}<br>Percentage (%)=%{y}<br>text=%{text}<extra></extra>",
         "legendgroup": "Primary School",
         "marker": {
          "color": "#636efa",
          "pattern": {
           "shape": ""
          }
         },
         "name": "Primary School",
         "offsetgroup": "Primary School",
         "orientation": "v",
         "showlegend": true,
         "text": [
          "0%",
          "1%",
          "0%",
          "0%",
          "0%",
          "0%",
          "0%",
          "0%",
          "0%",
          "0%",
          "0%",
          "1%",
          "0%",
          "0%",
          "0%",
          "0%",
          "0%",
          "0%",
          "0%",
          "0%",
          "0%",
          "0%",
          "0%",
          "0%",
          "0%",
          "0%",
          "0%"
         ],
         "textposition": "inside",
         "x": [
          "Academic researcher",
          "Blockchain",
          "Cloud infrastructure engineer",
          "Data or business analyst",
          "Data scientist or machine learning specialist",
          "DevOps specialist",
          "Developer_back-end",
          "Developer_desktop or enterprise applications",
          "Developer_embedded applications or devices",
          "Developer_front-end",
          "Developer_full-stack",
          "Developer_game or graphics",
          "Developer_mobile",
          "Engineer_data",
          "Engineer_site reliability",
          "Scientist",
          "back_end_.JavaScript",
          "back_end_.NET",
          "back_end_C++",
          "back_end_Java",
          "back_end_PHP",
          "back_end_python",
          "full_stack_.JavaScript",
          "full_stack_.NET",
          "full_stack_Java",
          "full_stack_PHP",
          "full_stack_python"
         ],
         "xaxis": "x",
         "y": [
          0.7117437722419929,
          1.0144927536231885,
          0.6156213928434013,
          0.4,
          0.49909255898366606,
          0.48293625241468124,
          0.7575347654347708,
          0.5947955390334573,
          0.5352798053527981,
          0.9973267530331071,
          0.7755695588948134,
          1.8438177874186552,
          0.920314253647587,
          0.35514967021816335,
          0.37037037037037035,
          0.3003003003003003,
          0.7363035068014476,
          0.6768792304951906,
          0.7196274869479329,
          0.467569835751109,
          0.8670878236095627,
          0.8679110688384258,
          0.8589896240857289,
          0.5597500650872169,
          0.521544765925742,
          0.8094931469046086,
          0.8820127241179873
         ],
         "yaxis": "y",
         "type": "bar",
         "textfont": {
          "size": 12
         },
         "cliponaxis": false,
         "textangle": 0
        },
        {
         "alignmentgroup": "True",
         "hovertemplate": "EdLevel=Secondary School<br>Job=%{x}<br>Percentage (%)=%{y}<br>text=%{text}<extra></extra>",
         "legendgroup": "Secondary School",
         "marker": {
          "color": "#EF553B",
          "pattern": {
           "shape": ""
          }
         },
         "name": "Secondary School",
         "offsetgroup": "Secondary School",
         "orientation": "v",
         "showlegend": true,
         "text": [
          "2%",
          "6%",
          "4%",
          "3%",
          "2%",
          "4%",
          "5%",
          "6%",
          "5%",
          "7%",
          "6%",
          "12%",
          "6%",
          "2%",
          "5%",
          "1%",
          "6%",
          "6%",
          "6%",
          "4%",
          "6%",
          "5%",
          "6%",
          "6%",
          "6%",
          "7%",
          "7%"
         ],
         "textposition": "inside",
         "x": [
          "Academic researcher",
          "Blockchain",
          "Cloud infrastructure engineer",
          "Data or business analyst",
          "Data scientist or machine learning specialist",
          "DevOps specialist",
          "Developer_back-end",
          "Developer_desktop or enterprise applications",
          "Developer_embedded applications or devices",
          "Developer_front-end",
          "Developer_full-stack",
          "Developer_game or graphics",
          "Developer_mobile",
          "Engineer_data",
          "Engineer_site reliability",
          "Scientist",
          "back_end_.JavaScript",
          "back_end_.NET",
          "back_end_C++",
          "back_end_Java",
          "back_end_PHP",
          "back_end_python",
          "full_stack_.JavaScript",
          "full_stack_.NET",
          "full_stack_Java",
          "full_stack_PHP",
          "full_stack_python"
         ],
         "xaxis": "x",
         "y": [
          2.7876631079478056,
          6.956521739130435,
          4.155444401692959,
          3.3333333333333335,
          2.676950998185118,
          4.539600772698003,
          5.75185325469401,
          6.431226765799257,
          5.109489051094891,
          7.8860785523339505,
          6.616577799321377,
          12.581344902386117,
          6.419753086419753,
          2.993404363267377,
          5.061728395061729,
          1.5015015015015014,
          6.4894546362161485,
          6.234413965087282,
          6.349654296599407,
          4.987411581345162,
          6.726124117428466,
          5.980263940078468,
          6.931450927028406,
          6.1051809424629,
          6.382714516329318,
          7.478612823107349,
          7.157316367842683
         ],
         "yaxis": "y",
         "type": "bar",
         "textfont": {
          "size": 12
         },
         "cliponaxis": false,
         "textangle": 0
        },
        {
         "alignmentgroup": "True",
         "hovertemplate": "EdLevel=Some College<br>Job=%{x}<br>Percentage (%)=%{y}<br>text=%{text}<extra></extra>",
         "legendgroup": "Some College",
         "marker": {
          "color": "#00cc96",
          "pattern": {
           "shape": ""
          }
         },
         "name": "Some College",
         "offsetgroup": "Some College",
         "orientation": "v",
         "showlegend": true,
         "text": [
          "4%",
          "13%",
          "11%",
          "9%",
          "3%",
          "13%",
          "11%",
          "11%",
          "10%",
          "14%",
          "13%",
          "15%",
          "12%",
          "7%",
          "15%",
          "1%",
          "12%",
          "11%",
          "11%",
          "10%",
          "13%",
          "11%",
          "13%",
          "12%",
          "11%",
          "14%",
          "12%"
         ],
         "textposition": "inside",
         "x": [
          "Academic researcher",
          "Blockchain",
          "Cloud infrastructure engineer",
          "Data or business analyst",
          "Data scientist or machine learning specialist",
          "DevOps specialist",
          "Developer_back-end",
          "Developer_desktop or enterprise applications",
          "Developer_embedded applications or devices",
          "Developer_front-end",
          "Developer_full-stack",
          "Developer_game or graphics",
          "Developer_mobile",
          "Engineer_data",
          "Engineer_site reliability",
          "Scientist",
          "back_end_.JavaScript",
          "back_end_.NET",
          "back_end_C++",
          "back_end_Java",
          "back_end_PHP",
          "back_end_python",
          "full_stack_.JavaScript",
          "full_stack_.NET",
          "full_stack_Java",
          "full_stack_PHP",
          "full_stack_python"
         ],
         "xaxis": "x",
         "y": [
          4.448398576512456,
          13.623188405797102,
          11.735282801077338,
          9.666666666666666,
          3.720508166969147,
          13.844172569220863,
          11.649802499864727,
          11.821561338289962,
          10.656934306569344,
          14.394406744807732,
          13.276781386330587,
          15.07592190889371,
          12.480359147025814,
          7.4581430745814306,
          15.061728395061728,
          1.901901901901902,
          12.492200174716086,
          11.774136088350552,
          11.866798363200227,
          10.26255844622947,
          13.105413105413106,
          11.318511473070979,
          13.633270964449736,
          12.652954959645925,
          11.300136595057742,
          14.000551927145617,
          12.593984962406015
         ],
         "yaxis": "y",
         "type": "bar",
         "textfont": {
          "size": 12
         },
         "cliponaxis": false,
         "textangle": 0
        },
        {
         "alignmentgroup": "True",
         "hovertemplate": "EdLevel=Associate Degree<br>Job=%{x}<br>Percentage (%)=%{y}<br>text=%{text}<extra></extra>",
         "legendgroup": "Associate Degree",
         "marker": {
          "color": "#ab63fa",
          "pattern": {
           "shape": ""
          }
         },
         "name": "Associate Degree",
         "offsetgroup": "Associate Degree",
         "orientation": "v",
         "showlegend": true,
         "text": [
          "0%",
          "3%",
          "2%",
          "3%",
          "0%",
          "3%",
          "3%",
          "3%",
          "1%",
          "4%",
          "3%",
          "3%",
          "3%",
          "1%",
          "3%",
          "0%",
          "3%",
          "4%",
          "2%",
          "2%",
          "3%",
          "2%",
          "3%",
          "4%",
          "3%",
          "4%",
          "2%"
         ],
         "textposition": "inside",
         "x": [
          "Academic researcher",
          "Blockchain",
          "Cloud infrastructure engineer",
          "Data or business analyst",
          "Data scientist or machine learning specialist",
          "DevOps specialist",
          "Developer_back-end",
          "Developer_desktop or enterprise applications",
          "Developer_embedded applications or devices",
          "Developer_front-end",
          "Developer_full-stack",
          "Developer_game or graphics",
          "Developer_mobile",
          "Engineer_data",
          "Engineer_site reliability",
          "Scientist",
          "back_end_.JavaScript",
          "back_end_.NET",
          "back_end_C++",
          "back_end_Java",
          "back_end_PHP",
          "back_end_python",
          "full_stack_.JavaScript",
          "full_stack_.NET",
          "full_stack_Java",
          "full_stack_PHP",
          "full_stack_python"
         ],
         "xaxis": "x",
         "y": [
          0.6524317912218268,
          3.6231884057971016,
          2.6548672566371683,
          3.066666666666667,
          0.5444646098003629,
          3.4127495170637476,
          3.0788377252313186,
          3.6059479553903344,
          1.6058394160583942,
          4.122969360477072,
          3.6015511391177895,
          3.036876355748373,
          3.277216610549944,
          1.9279553526128868,
          3.3333333333333335,
          0.3003003003003003,
          3.219767877199551,
          4.114713216957606,
          2.582192747283759,
          2.6375734324421534,
          3.778025517155952,
          2.8415170609915585,
          3.4529681918693655,
          4.178599323092945,
          3.005091270334037,
          4.093459663324441,
          2.703875072296125
         ],
         "yaxis": "y",
         "type": "bar",
         "textfont": {
          "size": 12
         },
         "cliponaxis": false,
         "textangle": 0
        },
        {
         "alignmentgroup": "True",
         "hovertemplate": "EdLevel=Bachelor's<br>Job=%{x}<br>Percentage (%)=%{y}<br>text=%{text}<extra></extra>",
         "legendgroup": "Bachelor's",
         "marker": {
          "color": "#FFA15A",
          "pattern": {
           "shape": ""
          }
         },
         "name": "Bachelor's",
         "offsetgroup": "Bachelor's",
         "orientation": "v",
         "showlegend": true,
         "text": [
          "20%",
          "47%",
          "50%",
          "42%",
          "29%",
          "47%",
          "50%",
          "44%",
          "43%",
          "51%",
          "50%",
          "37%",
          "51%",
          "43%",
          "46%",
          "13%",
          "52%",
          "50%",
          "48%",
          "51%",
          "50%",
          "49%",
          "52%",
          "53%",
          "51%",
          "50%",
          "49%"
         ],
         "textposition": "inside",
         "x": [
          "Academic researcher",
          "Blockchain",
          "Cloud infrastructure engineer",
          "Data or business analyst",
          "Data scientist or machine learning specialist",
          "DevOps specialist",
          "Developer_back-end",
          "Developer_desktop or enterprise applications",
          "Developer_embedded applications or devices",
          "Developer_front-end",
          "Developer_full-stack",
          "Developer_game or graphics",
          "Developer_mobile",
          "Engineer_data",
          "Engineer_site reliability",
          "Scientist",
          "back_end_.JavaScript",
          "back_end_.NET",
          "back_end_C++",
          "back_end_Java",
          "back_end_PHP",
          "back_end_python",
          "full_stack_.JavaScript",
          "full_stack_.NET",
          "full_stack_Java",
          "full_stack_PHP",
          "full_stack_python"
         ],
         "xaxis": "x",
         "y": [
          20.166073546856467,
          47.971014492753625,
          50.13466717968449,
          42.86666666666667,
          29.809437386569872,
          47.231165486155824,
          50.19750013527406,
          44.75836431226766,
          43.16301703163017,
          51.73761052848036,
          50.70285991274842,
          37.635574837310195,
          51.80695847362514,
          43.63267376966007,
          46.79012345679013,
          13.213213213213214,
          52.16523149881443,
          50.961881011756326,
          48.97700014110343,
          51.91224073852056,
          50.50167224080268,
          49.530376887409346,
          52.38135737370301,
          53.05909919291851,
          51.049298398112505,
          50.00459939288014,
          49.42163100057837
         ],
         "yaxis": "y",
         "type": "bar",
         "textfont": {
          "size": 12
         },
         "cliponaxis": false,
         "textangle": 0
        },
        {
         "alignmentgroup": "True",
         "hovertemplate": "EdLevel=Master's<br>Job=%{x}<br>Percentage (%)=%{y}<br>text=%{text}<extra></extra>",
         "legendgroup": "Master's",
         "marker": {
          "color": "#19d3f3",
          "pattern": {
           "shape": ""
          }
         },
         "name": "Master's",
         "offsetgroup": "Master's",
         "orientation": "v",
         "showlegend": true,
         "text": [
          "37%",
          "23%",
          "27%",
          "33%",
          "44%",
          "27%",
          "25%",
          "27%",
          "34%",
          "18%",
          "21%",
          "26%",
          "22%",
          "36%",
          "26%",
          "38%",
          "22%",
          "23%",
          "25%",
          "26%",
          "21%",
          "25%",
          "20%",
          "20%",
          "24%",
          "20%",
          "23%"
         ],
         "textposition": "inside",
         "x": [
          "Academic researcher",
          "Blockchain",
          "Cloud infrastructure engineer",
          "Data or business analyst",
          "Data scientist or machine learning specialist",
          "DevOps specialist",
          "Developer_back-end",
          "Developer_desktop or enterprise applications",
          "Developer_embedded applications or devices",
          "Developer_front-end",
          "Developer_full-stack",
          "Developer_game or graphics",
          "Developer_mobile",
          "Engineer_data",
          "Engineer_site reliability",
          "Scientist",
          "back_end_.JavaScript",
          "back_end_.NET",
          "back_end_C++",
          "back_end_Java",
          "back_end_PHP",
          "back_end_python",
          "full_stack_.JavaScript",
          "full_stack_.NET",
          "full_stack_Java",
          "full_stack_PHP",
          "full_stack_python"
         ],
         "xaxis": "x",
         "y": [
          37.841043890865954,
          23.768115942028984,
          27.587533666794922,
          33.2,
          44.19237749546279,
          27.398583386992918,
          25.063578810670418,
          27.732342007434944,
          34.01459854014598,
          18.33230516142299,
          21.85167232186137,
          26.030368763557483,
          22.76094276094276,
          36.63115169964485,
          26.91358024691358,
          38.13813813813814,
          22.163983526769,
          23.387958674741718,
          25.370396500634964,
          26.687447548255605,
          21.92493496841323,
          25.4666508144097,
          20.096955264500764,
          20.65868263473054,
          24.674034521296413,
          20.62367767454696,
          23.799884326200115
         ],
         "yaxis": "y",
         "type": "bar",
         "textfont": {
          "size": 12
         },
         "cliponaxis": false,
         "textangle": 0
        },
        {
         "alignmentgroup": "True",
         "hovertemplate": "EdLevel=Professional Degree<br>Job=%{x}<br>Percentage (%)=%{y}<br>text=%{text}<extra></extra>",
         "legendgroup": "Professional Degree",
         "marker": {
          "color": "#FF6692",
          "pattern": {
           "shape": ""
          }
         },
         "name": "Professional Degree",
         "offsetgroup": "Professional Degree",
         "orientation": "v",
         "showlegend": true,
         "text": [
          "1%",
          "1%",
          "1%",
          "2%",
          "1%",
          "1%",
          "1%",
          "2%",
          "1%",
          "1%",
          "1%",
          "1%",
          "1%",
          "1%",
          "0%",
          "2%",
          "1%",
          "1%",
          "1%",
          "1%",
          "1%",
          "1%",
          "1%",
          "1%",
          "1%",
          "1%",
          "1%"
         ],
         "textposition": "inside",
         "x": [
          "Academic researcher",
          "Blockchain",
          "Cloud infrastructure engineer",
          "Data or business analyst",
          "Data scientist or machine learning specialist",
          "DevOps specialist",
          "Developer_back-end",
          "Developer_desktop or enterprise applications",
          "Developer_embedded applications or devices",
          "Developer_front-end",
          "Developer_full-stack",
          "Developer_game or graphics",
          "Developer_mobile",
          "Engineer_data",
          "Engineer_site reliability",
          "Scientist",
          "back_end_.JavaScript",
          "back_end_.NET",
          "back_end_C++",
          "back_end_Java",
          "back_end_PHP",
          "back_end_python",
          "full_stack_.JavaScript",
          "full_stack_.NET",
          "full_stack_Java",
          "full_stack_PHP",
          "full_stack_python"
         ],
         "xaxis": "x",
         "y": [
          1.601423487544484,
          1.3043478260869565,
          1.19276644863409,
          2.066666666666667,
          1.2704174228675136,
          1.2556342562781713,
          1.563768194361777,
          2.379182156133829,
          1.2165450121654502,
          1.7890191239975324,
          1.6577799321376636,
          1.0845986984815619,
          1.5488215488215489,
          1.6235413495687467,
          0.8641975308641975,
          2.002002002002002,
          1.6098839385997754,
          1.6743854649091556,
          1.4251446310145337,
          1.4626543579906486,
          1.9571410875758701,
          1.5099274759243848,
          1.6499404660656574,
          1.7443374121322572,
          1.6143052278653918,
          1.8397571520559286,
          1.214574898785425
         ],
         "yaxis": "y",
         "type": "bar",
         "textfont": {
          "size": 12
         },
         "cliponaxis": false,
         "textangle": 0
        },
        {
         "alignmentgroup": "True",
         "hovertemplate": "EdLevel=Other Doctoral<br>Job=%{x}<br>Percentage (%)=%{y}<br>text=%{text}<extra></extra>",
         "legendgroup": "Other Doctoral",
         "marker": {
          "color": "#B6E880",
          "pattern": {
           "shape": ""
          }
         },
         "name": "Other Doctoral",
         "offsetgroup": "Other Doctoral",
         "orientation": "v",
         "showlegend": true,
         "text": [
          "31%",
          "1%",
          "1%",
          "5%",
          "17%",
          "1%",
          "1%",
          "2%",
          "3%",
          "0%",
          "1%",
          "2%",
          "0%",
          "5%",
          "1%",
          "42%",
          "1%",
          "1%",
          "2%",
          "1%",
          "1%",
          "2%",
          "0%",
          "1%",
          "1%",
          "1%",
          "2%"
         ],
         "textposition": "inside",
         "x": [
          "Academic researcher",
          "Blockchain",
          "Cloud infrastructure engineer",
          "Data or business analyst",
          "Data scientist or machine learning specialist",
          "DevOps specialist",
          "Developer_back-end",
          "Developer_desktop or enterprise applications",
          "Developer_embedded applications or devices",
          "Developer_front-end",
          "Developer_full-stack",
          "Developer_game or graphics",
          "Developer_mobile",
          "Engineer_data",
          "Engineer_site reliability",
          "Scientist",
          "back_end_.JavaScript",
          "back_end_.NET",
          "back_end_C++",
          "back_end_Java",
          "back_end_PHP",
          "back_end_python",
          "full_stack_.JavaScript",
          "full_stack_.NET",
          "full_stack_Java",
          "full_stack_PHP",
          "full_stack_python"
         ],
         "xaxis": "x",
         "y": [
          31.791221826809014,
          1.7391304347826086,
          1.9238168526356292,
          5.4,
          17.286751361161524,
          1.8351577591757888,
          1.937124614468914,
          2.676579925650558,
          3.6982968369829683,
          0.7402837754472548,
          1.5172079495879787,
          2.7114967462039044,
          0.7856341189674523,
          5.377980720446474,
          1.6049382716049383,
          42.64264264264264,
          1.1231748408835642,
          1.175632347702173,
          2.7091858332157472,
          1.582544059465292,
          1.1396011396011396,
          2.4848412792771373,
          0.9950671882973294,
          1.0413954699297059,
          1.4528747050788526,
          1.1498482200349553,
          2.2267206477732793
         ],
         "yaxis": "y",
         "type": "bar",
         "textfont": {
          "size": 12
         },
         "cliponaxis": false,
         "textangle": 0
        }
       ],
       "layout": {
        "template": {
         "data": {
          "histogram2dcontour": [
           {
            "type": "histogram2dcontour",
            "colorbar": {
             "outlinewidth": 0,
             "ticks": ""
            },
            "colorscale": [
             [
              0.0,
              "#0d0887"
             ],
             [
              0.1111111111111111,
              "#46039f"
             ],
             [
              0.2222222222222222,
              "#7201a8"
             ],
             [
              0.3333333333333333,
              "#9c179e"
             ],
             [
              0.4444444444444444,
              "#bd3786"
             ],
             [
              0.5555555555555556,
              "#d8576b"
             ],
             [
              0.6666666666666666,
              "#ed7953"
             ],
             [
              0.7777777777777778,
              "#fb9f3a"
             ],
             [
              0.8888888888888888,
              "#fdca26"
             ],
             [
              1.0,
              "#f0f921"
             ]
            ]
           }
          ],
          "choropleth": [
           {
            "type": "choropleth",
            "colorbar": {
             "outlinewidth": 0,
             "ticks": ""
            }
           }
          ],
          "histogram2d": [
           {
            "type": "histogram2d",
            "colorbar": {
             "outlinewidth": 0,
             "ticks": ""
            },
            "colorscale": [
             [
              0.0,
              "#0d0887"
             ],
             [
              0.1111111111111111,
              "#46039f"
             ],
             [
              0.2222222222222222,
              "#7201a8"
             ],
             [
              0.3333333333333333,
              "#9c179e"
             ],
             [
              0.4444444444444444,
              "#bd3786"
             ],
             [
              0.5555555555555556,
              "#d8576b"
             ],
             [
              0.6666666666666666,
              "#ed7953"
             ],
             [
              0.7777777777777778,
              "#fb9f3a"
             ],
             [
              0.8888888888888888,
              "#fdca26"
             ],
             [
              1.0,
              "#f0f921"
             ]
            ]
           }
          ],
          "heatmap": [
           {
            "type": "heatmap",
            "colorbar": {
             "outlinewidth": 0,
             "ticks": ""
            },
            "colorscale": [
             [
              0.0,
              "#0d0887"
             ],
             [
              0.1111111111111111,
              "#46039f"
             ],
             [
              0.2222222222222222,
              "#7201a8"
             ],
             [
              0.3333333333333333,
              "#9c179e"
             ],
             [
              0.4444444444444444,
              "#bd3786"
             ],
             [
              0.5555555555555556,
              "#d8576b"
             ],
             [
              0.6666666666666666,
              "#ed7953"
             ],
             [
              0.7777777777777778,
              "#fb9f3a"
             ],
             [
              0.8888888888888888,
              "#fdca26"
             ],
             [
              1.0,
              "#f0f921"
             ]
            ]
           }
          ],
          "heatmapgl": [
           {
            "type": "heatmapgl",
            "colorbar": {
             "outlinewidth": 0,
             "ticks": ""
            },
            "colorscale": [
             [
              0.0,
              "#0d0887"
             ],
             [
              0.1111111111111111,
              "#46039f"
             ],
             [
              0.2222222222222222,
              "#7201a8"
             ],
             [
              0.3333333333333333,
              "#9c179e"
             ],
             [
              0.4444444444444444,
              "#bd3786"
             ],
             [
              0.5555555555555556,
              "#d8576b"
             ],
             [
              0.6666666666666666,
              "#ed7953"
             ],
             [
              0.7777777777777778,
              "#fb9f3a"
             ],
             [
              0.8888888888888888,
              "#fdca26"
             ],
             [
              1.0,
              "#f0f921"
             ]
            ]
           }
          ],
          "contourcarpet": [
           {
            "type": "contourcarpet",
            "colorbar": {
             "outlinewidth": 0,
             "ticks": ""
            }
           }
          ],
          "contour": [
           {
            "type": "contour",
            "colorbar": {
             "outlinewidth": 0,
             "ticks": ""
            },
            "colorscale": [
             [
              0.0,
              "#0d0887"
             ],
             [
              0.1111111111111111,
              "#46039f"
             ],
             [
              0.2222222222222222,
              "#7201a8"
             ],
             [
              0.3333333333333333,
              "#9c179e"
             ],
             [
              0.4444444444444444,
              "#bd3786"
             ],
             [
              0.5555555555555556,
              "#d8576b"
             ],
             [
              0.6666666666666666,
              "#ed7953"
             ],
             [
              0.7777777777777778,
              "#fb9f3a"
             ],
             [
              0.8888888888888888,
              "#fdca26"
             ],
             [
              1.0,
              "#f0f921"
             ]
            ]
           }
          ],
          "surface": [
           {
            "type": "surface",
            "colorbar": {
             "outlinewidth": 0,
             "ticks": ""
            },
            "colorscale": [
             [
              0.0,
              "#0d0887"
             ],
             [
              0.1111111111111111,
              "#46039f"
             ],
             [
              0.2222222222222222,
              "#7201a8"
             ],
             [
              0.3333333333333333,
              "#9c179e"
             ],
             [
              0.4444444444444444,
              "#bd3786"
             ],
             [
              0.5555555555555556,
              "#d8576b"
             ],
             [
              0.6666666666666666,
              "#ed7953"
             ],
             [
              0.7777777777777778,
              "#fb9f3a"
             ],
             [
              0.8888888888888888,
              "#fdca26"
             ],
             [
              1.0,
              "#f0f921"
             ]
            ]
           }
          ],
          "mesh3d": [
           {
            "type": "mesh3d",
            "colorbar": {
             "outlinewidth": 0,
             "ticks": ""
            }
           }
          ],
          "scatter": [
           {
            "marker": {
             "line": {
              "color": "#283442"
             }
            },
            "type": "scatter"
           }
          ],
          "parcoords": [
           {
            "type": "parcoords",
            "line": {
             "colorbar": {
              "outlinewidth": 0,
              "ticks": ""
             }
            }
           }
          ],
          "scatterpolargl": [
           {
            "type": "scatterpolargl",
            "marker": {
             "colorbar": {
              "outlinewidth": 0,
              "ticks": ""
             }
            }
           }
          ],
          "bar": [
           {
            "error_x": {
             "color": "#f2f5fa"
            },
            "error_y": {
             "color": "#f2f5fa"
            },
            "marker": {
             "line": {
              "color": "rgb(17,17,17)",
              "width": 0.5
             },
             "pattern": {
              "fillmode": "overlay",
              "size": 10,
              "solidity": 0.2
             }
            },
            "type": "bar"
           }
          ],
          "scattergeo": [
           {
            "type": "scattergeo",
            "marker": {
             "colorbar": {
              "outlinewidth": 0,
              "ticks": ""
             }
            }
           }
          ],
          "scatterpolar": [
           {
            "type": "scatterpolar",
            "marker": {
             "colorbar": {
              "outlinewidth": 0,
              "ticks": ""
             }
            }
           }
          ],
          "histogram": [
           {
            "marker": {
             "pattern": {
              "fillmode": "overlay",
              "size": 10,
              "solidity": 0.2
             }
            },
            "type": "histogram"
           }
          ],
          "scattergl": [
           {
            "marker": {
             "line": {
              "color": "#283442"
             }
            },
            "type": "scattergl"
           }
          ],
          "scatter3d": [
           {
            "type": "scatter3d",
            "line": {
             "colorbar": {
              "outlinewidth": 0,
              "ticks": ""
             }
            },
            "marker": {
             "colorbar": {
              "outlinewidth": 0,
              "ticks": ""
             }
            }
           }
          ],
          "scattermapbox": [
           {
            "type": "scattermapbox",
            "marker": {
             "colorbar": {
              "outlinewidth": 0,
              "ticks": ""
             }
            }
           }
          ],
          "scatterternary": [
           {
            "type": "scatterternary",
            "marker": {
             "colorbar": {
              "outlinewidth": 0,
              "ticks": ""
             }
            }
           }
          ],
          "scattercarpet": [
           {
            "type": "scattercarpet",
            "marker": {
             "colorbar": {
              "outlinewidth": 0,
              "ticks": ""
             }
            }
           }
          ],
          "carpet": [
           {
            "aaxis": {
             "endlinecolor": "#A2B1C6",
             "gridcolor": "#506784",
             "linecolor": "#506784",
             "minorgridcolor": "#506784",
             "startlinecolor": "#A2B1C6"
            },
            "baxis": {
             "endlinecolor": "#A2B1C6",
             "gridcolor": "#506784",
             "linecolor": "#506784",
             "minorgridcolor": "#506784",
             "startlinecolor": "#A2B1C6"
            },
            "type": "carpet"
           }
          ],
          "table": [
           {
            "cells": {
             "fill": {
              "color": "#506784"
             },
             "line": {
              "color": "rgb(17,17,17)"
             }
            },
            "header": {
             "fill": {
              "color": "#2a3f5f"
             },
             "line": {
              "color": "rgb(17,17,17)"
             }
            },
            "type": "table"
           }
          ],
          "barpolar": [
           {
            "marker": {
             "line": {
              "color": "rgb(17,17,17)",
              "width": 0.5
             },
             "pattern": {
              "fillmode": "overlay",
              "size": 10,
              "solidity": 0.2
             }
            },
            "type": "barpolar"
           }
          ],
          "pie": [
           {
            "automargin": true,
            "type": "pie"
           }
          ]
         },
         "layout": {
          "autotypenumbers": "strict",
          "colorway": [
           "#636efa",
           "#EF553B",
           "#00cc96",
           "#ab63fa",
           "#FFA15A",
           "#19d3f3",
           "#FF6692",
           "#B6E880",
           "#FF97FF",
           "#FECB52"
          ],
          "font": {
           "color": "#f2f5fa"
          },
          "hovermode": "closest",
          "hoverlabel": {
           "align": "left"
          },
          "paper_bgcolor": "rgb(17,17,17)",
          "plot_bgcolor": "rgb(17,17,17)",
          "polar": {
           "bgcolor": "rgb(17,17,17)",
           "angularaxis": {
            "gridcolor": "#506784",
            "linecolor": "#506784",
            "ticks": ""
           },
           "radialaxis": {
            "gridcolor": "#506784",
            "linecolor": "#506784",
            "ticks": ""
           }
          },
          "ternary": {
           "bgcolor": "rgb(17,17,17)",
           "aaxis": {
            "gridcolor": "#506784",
            "linecolor": "#506784",
            "ticks": ""
           },
           "baxis": {
            "gridcolor": "#506784",
            "linecolor": "#506784",
            "ticks": ""
           },
           "caxis": {
            "gridcolor": "#506784",
            "linecolor": "#506784",
            "ticks": ""
           }
          },
          "coloraxis": {
           "colorbar": {
            "outlinewidth": 0,
            "ticks": ""
           }
          },
          "colorscale": {
           "sequential": [
            [
             0.0,
             "#0d0887"
            ],
            [
             0.1111111111111111,
             "#46039f"
            ],
            [
             0.2222222222222222,
             "#7201a8"
            ],
            [
             0.3333333333333333,
             "#9c179e"
            ],
            [
             0.4444444444444444,
             "#bd3786"
            ],
            [
             0.5555555555555556,
             "#d8576b"
            ],
            [
             0.6666666666666666,
             "#ed7953"
            ],
            [
             0.7777777777777778,
             "#fb9f3a"
            ],
            [
             0.8888888888888888,
             "#fdca26"
            ],
            [
             1.0,
             "#f0f921"
            ]
           ],
           "sequentialminus": [
            [
             0.0,
             "#0d0887"
            ],
            [
             0.1111111111111111,
             "#46039f"
            ],
            [
             0.2222222222222222,
             "#7201a8"
            ],
            [
             0.3333333333333333,
             "#9c179e"
            ],
            [
             0.4444444444444444,
             "#bd3786"
            ],
            [
             0.5555555555555556,
             "#d8576b"
            ],
            [
             0.6666666666666666,
             "#ed7953"
            ],
            [
             0.7777777777777778,
             "#fb9f3a"
            ],
            [
             0.8888888888888888,
             "#fdca26"
            ],
            [
             1.0,
             "#f0f921"
            ]
           ],
           "diverging": [
            [
             0,
             "#8e0152"
            ],
            [
             0.1,
             "#c51b7d"
            ],
            [
             0.2,
             "#de77ae"
            ],
            [
             0.3,
             "#f1b6da"
            ],
            [
             0.4,
             "#fde0ef"
            ],
            [
             0.5,
             "#f7f7f7"
            ],
            [
             0.6,
             "#e6f5d0"
            ],
            [
             0.7,
             "#b8e186"
            ],
            [
             0.8,
             "#7fbc41"
            ],
            [
             0.9,
             "#4d9221"
            ],
            [
             1,
             "#276419"
            ]
           ]
          },
          "xaxis": {
           "gridcolor": "#283442",
           "linecolor": "#506784",
           "ticks": "",
           "title": {
            "standoff": 15
           },
           "zerolinecolor": "#283442",
           "automargin": true,
           "zerolinewidth": 2
          },
          "yaxis": {
           "gridcolor": "#283442",
           "linecolor": "#506784",
           "ticks": "",
           "title": {
            "standoff": 15
           },
           "zerolinecolor": "#283442",
           "automargin": true,
           "zerolinewidth": 2
          },
          "scene": {
           "xaxis": {
            "backgroundcolor": "rgb(17,17,17)",
            "gridcolor": "#506784",
            "linecolor": "#506784",
            "showbackground": true,
            "ticks": "",
            "zerolinecolor": "#C8D4E3",
            "gridwidth": 2
           },
           "yaxis": {
            "backgroundcolor": "rgb(17,17,17)",
            "gridcolor": "#506784",
            "linecolor": "#506784",
            "showbackground": true,
            "ticks": "",
            "zerolinecolor": "#C8D4E3",
            "gridwidth": 2
           },
           "zaxis": {
            "backgroundcolor": "rgb(17,17,17)",
            "gridcolor": "#506784",
            "linecolor": "#506784",
            "showbackground": true,
            "ticks": "",
            "zerolinecolor": "#C8D4E3",
            "gridwidth": 2
           }
          },
          "shapedefaults": {
           "line": {
            "color": "#f2f5fa"
           }
          },
          "annotationdefaults": {
           "arrowcolor": "#f2f5fa",
           "arrowhead": 0,
           "arrowwidth": 1
          },
          "geo": {
           "bgcolor": "rgb(17,17,17)",
           "landcolor": "rgb(17,17,17)",
           "subunitcolor": "#506784",
           "showland": true,
           "showlakes": true,
           "lakecolor": "rgb(17,17,17)"
          },
          "title": {
           "x": 0.05
          },
          "updatemenudefaults": {
           "bgcolor": "#506784",
           "borderwidth": 0
          },
          "sliderdefaults": {
           "bgcolor": "#C8D4E3",
           "borderwidth": 1,
           "bordercolor": "rgb(17,17,17)",
           "tickwidth": 0
          },
          "mapbox": {
           "style": "dark"
          }
         }
        },
        "xaxis": {
         "anchor": "y",
         "domain": [
          0.0,
          1.0
         ],
         "title": {
          "text": "Job Type"
         },
         "tickfont": {
          "family": "Rockwell",
          "size": 15
         },
         "tickmode": "array",
         "tickvals": [
          0,
          1,
          2,
          3,
          4,
          5,
          6,
          7,
          8,
          9,
          10,
          11,
          12,
          13,
          14,
          15,
          16,
          17,
          18,
          19,
          20,
          21,
          22,
          23,
          24,
          25,
          26
         ],
         "ticktext": [
          "Academic researcher",
          "Blockchain",
          "Cloud infrastructure engineer",
          "Business analyst",
          "Machine learning specialist",
          "Devops specialist",
          "Back-end dev",
          "Enterprise applications dev",
          "Embedded applications dev",
          "Front-end dev",
          "Full-stack dev",
          "Graphics dev",
          "Mobile dev",
          "Data  engineer",
          "Site reliability  engineer",
          "Scientist",
          "Back_end_.javascript dev",
          "Back_end_.net dev",
          "Back_end_c++ dev",
          "Back_end_java dev",
          "Back_end_php dev",
          "Back_end_python dev",
          "Full_stack_.javascript dev",
          "Full_stack_.net dev",
          "Full_stack_java dev",
          "Full_stack_php dev",
          "Full_stack_python dev"
         ],
         "tickangle": 45
        },
        "yaxis": {
         "anchor": "x",
         "domain": [
          0.0,
          1.0
         ],
         "title": {
          "text": "Percentage (%)"
         },
         "tickfont": {
          "family": "Rockwell",
          "size": 15
         },
         "tickangle": 45
        },
        "legend": {
         "title": {
          "text": "EdLevel"
         },
         "tracegroupgap": 0
        },
        "margin": {
         "t": 60,
         "b": 10,
         "l": 10,
         "r": 10
        },
        "barmode": "relative",
        "title": {
         "font": {
          "size": 20
         },
         "text": "Education Level vs. Job Occupation",
         "x": 0.5
        },
        "height": 500,
        "width": 1700
       },
       "config": {
        "plotlyServerURL": "https://plot.ly"
       }
      },
      "text/html": "<div>                            <div id=\"d5789d62-e5d8-4f96-9f04-a7a182d9edd3\" class=\"plotly-graph-div\" style=\"height:500px; width:1700px;\"></div>            <script type=\"text/javascript\">                require([\"plotly\"], function(Plotly) {                    window.PLOTLYENV=window.PLOTLYENV || {};                                    if (document.getElementById(\"d5789d62-e5d8-4f96-9f04-a7a182d9edd3\")) {                    Plotly.newPlot(                        \"d5789d62-e5d8-4f96-9f04-a7a182d9edd3\",                        [{\"alignmentgroup\":\"True\",\"hovertemplate\":\"EdLevel=Primary School<br>Job=%{x}<br>Percentage (%)=%{y}<br>text=%{text}<extra></extra>\",\"legendgroup\":\"Primary School\",\"marker\":{\"color\":\"#636efa\",\"pattern\":{\"shape\":\"\"}},\"name\":\"Primary School\",\"offsetgroup\":\"Primary School\",\"orientation\":\"v\",\"showlegend\":true,\"text\":[\"0%\",\"1%\",\"0%\",\"0%\",\"0%\",\"0%\",\"0%\",\"0%\",\"0%\",\"0%\",\"0%\",\"1%\",\"0%\",\"0%\",\"0%\",\"0%\",\"0%\",\"0%\",\"0%\",\"0%\",\"0%\",\"0%\",\"0%\",\"0%\",\"0%\",\"0%\",\"0%\"],\"textposition\":\"inside\",\"x\":[\"Academic researcher\",\"Blockchain\",\"Cloud infrastructure engineer\",\"Data or business analyst\",\"Data scientist or machine learning specialist\",\"DevOps specialist\",\"Developer_back-end\",\"Developer_desktop or enterprise applications\",\"Developer_embedded applications or devices\",\"Developer_front-end\",\"Developer_full-stack\",\"Developer_game or graphics\",\"Developer_mobile\",\"Engineer_data\",\"Engineer_site reliability\",\"Scientist\",\"back_end_.JavaScript\",\"back_end_.NET\",\"back_end_C++\",\"back_end_Java\",\"back_end_PHP\",\"back_end_python\",\"full_stack_.JavaScript\",\"full_stack_.NET\",\"full_stack_Java\",\"full_stack_PHP\",\"full_stack_python\"],\"xaxis\":\"x\",\"y\":[0.7117437722419929,1.0144927536231885,0.6156213928434013,0.4,0.49909255898366606,0.48293625241468124,0.7575347654347708,0.5947955390334573,0.5352798053527981,0.9973267530331071,0.7755695588948134,1.8438177874186552,0.920314253647587,0.35514967021816335,0.37037037037037035,0.3003003003003003,0.7363035068014476,0.6768792304951906,0.7196274869479329,0.467569835751109,0.8670878236095627,0.8679110688384258,0.8589896240857289,0.5597500650872169,0.521544765925742,0.8094931469046086,0.8820127241179873],\"yaxis\":\"y\",\"type\":\"bar\",\"textfont\":{\"size\":12},\"cliponaxis\":false,\"textangle\":0},{\"alignmentgroup\":\"True\",\"hovertemplate\":\"EdLevel=Secondary School<br>Job=%{x}<br>Percentage (%)=%{y}<br>text=%{text}<extra></extra>\",\"legendgroup\":\"Secondary School\",\"marker\":{\"color\":\"#EF553B\",\"pattern\":{\"shape\":\"\"}},\"name\":\"Secondary School\",\"offsetgroup\":\"Secondary School\",\"orientation\":\"v\",\"showlegend\":true,\"text\":[\"2%\",\"6%\",\"4%\",\"3%\",\"2%\",\"4%\",\"5%\",\"6%\",\"5%\",\"7%\",\"6%\",\"12%\",\"6%\",\"2%\",\"5%\",\"1%\",\"6%\",\"6%\",\"6%\",\"4%\",\"6%\",\"5%\",\"6%\",\"6%\",\"6%\",\"7%\",\"7%\"],\"textposition\":\"inside\",\"x\":[\"Academic researcher\",\"Blockchain\",\"Cloud infrastructure engineer\",\"Data or business analyst\",\"Data scientist or machine learning specialist\",\"DevOps specialist\",\"Developer_back-end\",\"Developer_desktop or enterprise applications\",\"Developer_embedded applications or devices\",\"Developer_front-end\",\"Developer_full-stack\",\"Developer_game or graphics\",\"Developer_mobile\",\"Engineer_data\",\"Engineer_site reliability\",\"Scientist\",\"back_end_.JavaScript\",\"back_end_.NET\",\"back_end_C++\",\"back_end_Java\",\"back_end_PHP\",\"back_end_python\",\"full_stack_.JavaScript\",\"full_stack_.NET\",\"full_stack_Java\",\"full_stack_PHP\",\"full_stack_python\"],\"xaxis\":\"x\",\"y\":[2.7876631079478056,6.956521739130435,4.155444401692959,3.3333333333333335,2.676950998185118,4.539600772698003,5.75185325469401,6.431226765799257,5.109489051094891,7.8860785523339505,6.616577799321377,12.581344902386117,6.419753086419753,2.993404363267377,5.061728395061729,1.5015015015015014,6.4894546362161485,6.234413965087282,6.349654296599407,4.987411581345162,6.726124117428466,5.980263940078468,6.931450927028406,6.1051809424629,6.382714516329318,7.478612823107349,7.157316367842683],\"yaxis\":\"y\",\"type\":\"bar\",\"textfont\":{\"size\":12},\"cliponaxis\":false,\"textangle\":0},{\"alignmentgroup\":\"True\",\"hovertemplate\":\"EdLevel=Some College<br>Job=%{x}<br>Percentage (%)=%{y}<br>text=%{text}<extra></extra>\",\"legendgroup\":\"Some College\",\"marker\":{\"color\":\"#00cc96\",\"pattern\":{\"shape\":\"\"}},\"name\":\"Some College\",\"offsetgroup\":\"Some College\",\"orientation\":\"v\",\"showlegend\":true,\"text\":[\"4%\",\"13%\",\"11%\",\"9%\",\"3%\",\"13%\",\"11%\",\"11%\",\"10%\",\"14%\",\"13%\",\"15%\",\"12%\",\"7%\",\"15%\",\"1%\",\"12%\",\"11%\",\"11%\",\"10%\",\"13%\",\"11%\",\"13%\",\"12%\",\"11%\",\"14%\",\"12%\"],\"textposition\":\"inside\",\"x\":[\"Academic researcher\",\"Blockchain\",\"Cloud infrastructure engineer\",\"Data or business analyst\",\"Data scientist or machine learning specialist\",\"DevOps specialist\",\"Developer_back-end\",\"Developer_desktop or enterprise applications\",\"Developer_embedded applications or devices\",\"Developer_front-end\",\"Developer_full-stack\",\"Developer_game or graphics\",\"Developer_mobile\",\"Engineer_data\",\"Engineer_site reliability\",\"Scientist\",\"back_end_.JavaScript\",\"back_end_.NET\",\"back_end_C++\",\"back_end_Java\",\"back_end_PHP\",\"back_end_python\",\"full_stack_.JavaScript\",\"full_stack_.NET\",\"full_stack_Java\",\"full_stack_PHP\",\"full_stack_python\"],\"xaxis\":\"x\",\"y\":[4.448398576512456,13.623188405797102,11.735282801077338,9.666666666666666,3.720508166969147,13.844172569220863,11.649802499864727,11.821561338289962,10.656934306569344,14.394406744807732,13.276781386330587,15.07592190889371,12.480359147025814,7.4581430745814306,15.061728395061728,1.901901901901902,12.492200174716086,11.774136088350552,11.866798363200227,10.26255844622947,13.105413105413106,11.318511473070979,13.633270964449736,12.652954959645925,11.300136595057742,14.000551927145617,12.593984962406015],\"yaxis\":\"y\",\"type\":\"bar\",\"textfont\":{\"size\":12},\"cliponaxis\":false,\"textangle\":0},{\"alignmentgroup\":\"True\",\"hovertemplate\":\"EdLevel=Associate Degree<br>Job=%{x}<br>Percentage (%)=%{y}<br>text=%{text}<extra></extra>\",\"legendgroup\":\"Associate Degree\",\"marker\":{\"color\":\"#ab63fa\",\"pattern\":{\"shape\":\"\"}},\"name\":\"Associate Degree\",\"offsetgroup\":\"Associate Degree\",\"orientation\":\"v\",\"showlegend\":true,\"text\":[\"0%\",\"3%\",\"2%\",\"3%\",\"0%\",\"3%\",\"3%\",\"3%\",\"1%\",\"4%\",\"3%\",\"3%\",\"3%\",\"1%\",\"3%\",\"0%\",\"3%\",\"4%\",\"2%\",\"2%\",\"3%\",\"2%\",\"3%\",\"4%\",\"3%\",\"4%\",\"2%\"],\"textposition\":\"inside\",\"x\":[\"Academic researcher\",\"Blockchain\",\"Cloud infrastructure engineer\",\"Data or business analyst\",\"Data scientist or machine learning specialist\",\"DevOps specialist\",\"Developer_back-end\",\"Developer_desktop or enterprise applications\",\"Developer_embedded applications or devices\",\"Developer_front-end\",\"Developer_full-stack\",\"Developer_game or graphics\",\"Developer_mobile\",\"Engineer_data\",\"Engineer_site reliability\",\"Scientist\",\"back_end_.JavaScript\",\"back_end_.NET\",\"back_end_C++\",\"back_end_Java\",\"back_end_PHP\",\"back_end_python\",\"full_stack_.JavaScript\",\"full_stack_.NET\",\"full_stack_Java\",\"full_stack_PHP\",\"full_stack_python\"],\"xaxis\":\"x\",\"y\":[0.6524317912218268,3.6231884057971016,2.6548672566371683,3.066666666666667,0.5444646098003629,3.4127495170637476,3.0788377252313186,3.6059479553903344,1.6058394160583942,4.122969360477072,3.6015511391177895,3.036876355748373,3.277216610549944,1.9279553526128868,3.3333333333333335,0.3003003003003003,3.219767877199551,4.114713216957606,2.582192747283759,2.6375734324421534,3.778025517155952,2.8415170609915585,3.4529681918693655,4.178599323092945,3.005091270334037,4.093459663324441,2.703875072296125],\"yaxis\":\"y\",\"type\":\"bar\",\"textfont\":{\"size\":12},\"cliponaxis\":false,\"textangle\":0},{\"alignmentgroup\":\"True\",\"hovertemplate\":\"EdLevel=Bachelor's<br>Job=%{x}<br>Percentage (%)=%{y}<br>text=%{text}<extra></extra>\",\"legendgroup\":\"Bachelor's\",\"marker\":{\"color\":\"#FFA15A\",\"pattern\":{\"shape\":\"\"}},\"name\":\"Bachelor's\",\"offsetgroup\":\"Bachelor's\",\"orientation\":\"v\",\"showlegend\":true,\"text\":[\"20%\",\"47%\",\"50%\",\"42%\",\"29%\",\"47%\",\"50%\",\"44%\",\"43%\",\"51%\",\"50%\",\"37%\",\"51%\",\"43%\",\"46%\",\"13%\",\"52%\",\"50%\",\"48%\",\"51%\",\"50%\",\"49%\",\"52%\",\"53%\",\"51%\",\"50%\",\"49%\"],\"textposition\":\"inside\",\"x\":[\"Academic researcher\",\"Blockchain\",\"Cloud infrastructure engineer\",\"Data or business analyst\",\"Data scientist or machine learning specialist\",\"DevOps specialist\",\"Developer_back-end\",\"Developer_desktop or enterprise applications\",\"Developer_embedded applications or devices\",\"Developer_front-end\",\"Developer_full-stack\",\"Developer_game or graphics\",\"Developer_mobile\",\"Engineer_data\",\"Engineer_site reliability\",\"Scientist\",\"back_end_.JavaScript\",\"back_end_.NET\",\"back_end_C++\",\"back_end_Java\",\"back_end_PHP\",\"back_end_python\",\"full_stack_.JavaScript\",\"full_stack_.NET\",\"full_stack_Java\",\"full_stack_PHP\",\"full_stack_python\"],\"xaxis\":\"x\",\"y\":[20.166073546856467,47.971014492753625,50.13466717968449,42.86666666666667,29.809437386569872,47.231165486155824,50.19750013527406,44.75836431226766,43.16301703163017,51.73761052848036,50.70285991274842,37.635574837310195,51.80695847362514,43.63267376966007,46.79012345679013,13.213213213213214,52.16523149881443,50.961881011756326,48.97700014110343,51.91224073852056,50.50167224080268,49.530376887409346,52.38135737370301,53.05909919291851,51.049298398112505,50.00459939288014,49.42163100057837],\"yaxis\":\"y\",\"type\":\"bar\",\"textfont\":{\"size\":12},\"cliponaxis\":false,\"textangle\":0},{\"alignmentgroup\":\"True\",\"hovertemplate\":\"EdLevel=Master's<br>Job=%{x}<br>Percentage (%)=%{y}<br>text=%{text}<extra></extra>\",\"legendgroup\":\"Master's\",\"marker\":{\"color\":\"#19d3f3\",\"pattern\":{\"shape\":\"\"}},\"name\":\"Master's\",\"offsetgroup\":\"Master's\",\"orientation\":\"v\",\"showlegend\":true,\"text\":[\"37%\",\"23%\",\"27%\",\"33%\",\"44%\",\"27%\",\"25%\",\"27%\",\"34%\",\"18%\",\"21%\",\"26%\",\"22%\",\"36%\",\"26%\",\"38%\",\"22%\",\"23%\",\"25%\",\"26%\",\"21%\",\"25%\",\"20%\",\"20%\",\"24%\",\"20%\",\"23%\"],\"textposition\":\"inside\",\"x\":[\"Academic researcher\",\"Blockchain\",\"Cloud infrastructure engineer\",\"Data or business analyst\",\"Data scientist or machine learning specialist\",\"DevOps specialist\",\"Developer_back-end\",\"Developer_desktop or enterprise applications\",\"Developer_embedded applications or devices\",\"Developer_front-end\",\"Developer_full-stack\",\"Developer_game or graphics\",\"Developer_mobile\",\"Engineer_data\",\"Engineer_site reliability\",\"Scientist\",\"back_end_.JavaScript\",\"back_end_.NET\",\"back_end_C++\",\"back_end_Java\",\"back_end_PHP\",\"back_end_python\",\"full_stack_.JavaScript\",\"full_stack_.NET\",\"full_stack_Java\",\"full_stack_PHP\",\"full_stack_python\"],\"xaxis\":\"x\",\"y\":[37.841043890865954,23.768115942028984,27.587533666794922,33.2,44.19237749546279,27.398583386992918,25.063578810670418,27.732342007434944,34.01459854014598,18.33230516142299,21.85167232186137,26.030368763557483,22.76094276094276,36.63115169964485,26.91358024691358,38.13813813813814,22.163983526769,23.387958674741718,25.370396500634964,26.687447548255605,21.92493496841323,25.4666508144097,20.096955264500764,20.65868263473054,24.674034521296413,20.62367767454696,23.799884326200115],\"yaxis\":\"y\",\"type\":\"bar\",\"textfont\":{\"size\":12},\"cliponaxis\":false,\"textangle\":0},{\"alignmentgroup\":\"True\",\"hovertemplate\":\"EdLevel=Professional Degree<br>Job=%{x}<br>Percentage (%)=%{y}<br>text=%{text}<extra></extra>\",\"legendgroup\":\"Professional Degree\",\"marker\":{\"color\":\"#FF6692\",\"pattern\":{\"shape\":\"\"}},\"name\":\"Professional Degree\",\"offsetgroup\":\"Professional Degree\",\"orientation\":\"v\",\"showlegend\":true,\"text\":[\"1%\",\"1%\",\"1%\",\"2%\",\"1%\",\"1%\",\"1%\",\"2%\",\"1%\",\"1%\",\"1%\",\"1%\",\"1%\",\"1%\",\"0%\",\"2%\",\"1%\",\"1%\",\"1%\",\"1%\",\"1%\",\"1%\",\"1%\",\"1%\",\"1%\",\"1%\",\"1%\"],\"textposition\":\"inside\",\"x\":[\"Academic researcher\",\"Blockchain\",\"Cloud infrastructure engineer\",\"Data or business analyst\",\"Data scientist or machine learning specialist\",\"DevOps specialist\",\"Developer_back-end\",\"Developer_desktop or enterprise applications\",\"Developer_embedded applications or devices\",\"Developer_front-end\",\"Developer_full-stack\",\"Developer_game or graphics\",\"Developer_mobile\",\"Engineer_data\",\"Engineer_site reliability\",\"Scientist\",\"back_end_.JavaScript\",\"back_end_.NET\",\"back_end_C++\",\"back_end_Java\",\"back_end_PHP\",\"back_end_python\",\"full_stack_.JavaScript\",\"full_stack_.NET\",\"full_stack_Java\",\"full_stack_PHP\",\"full_stack_python\"],\"xaxis\":\"x\",\"y\":[1.601423487544484,1.3043478260869565,1.19276644863409,2.066666666666667,1.2704174228675136,1.2556342562781713,1.563768194361777,2.379182156133829,1.2165450121654502,1.7890191239975324,1.6577799321376636,1.0845986984815619,1.5488215488215489,1.6235413495687467,0.8641975308641975,2.002002002002002,1.6098839385997754,1.6743854649091556,1.4251446310145337,1.4626543579906486,1.9571410875758701,1.5099274759243848,1.6499404660656574,1.7443374121322572,1.6143052278653918,1.8397571520559286,1.214574898785425],\"yaxis\":\"y\",\"type\":\"bar\",\"textfont\":{\"size\":12},\"cliponaxis\":false,\"textangle\":0},{\"alignmentgroup\":\"True\",\"hovertemplate\":\"EdLevel=Other Doctoral<br>Job=%{x}<br>Percentage (%)=%{y}<br>text=%{text}<extra></extra>\",\"legendgroup\":\"Other Doctoral\",\"marker\":{\"color\":\"#B6E880\",\"pattern\":{\"shape\":\"\"}},\"name\":\"Other Doctoral\",\"offsetgroup\":\"Other Doctoral\",\"orientation\":\"v\",\"showlegend\":true,\"text\":[\"31%\",\"1%\",\"1%\",\"5%\",\"17%\",\"1%\",\"1%\",\"2%\",\"3%\",\"0%\",\"1%\",\"2%\",\"0%\",\"5%\",\"1%\",\"42%\",\"1%\",\"1%\",\"2%\",\"1%\",\"1%\",\"2%\",\"0%\",\"1%\",\"1%\",\"1%\",\"2%\"],\"textposition\":\"inside\",\"x\":[\"Academic researcher\",\"Blockchain\",\"Cloud infrastructure engineer\",\"Data or business analyst\",\"Data scientist or machine learning specialist\",\"DevOps specialist\",\"Developer_back-end\",\"Developer_desktop or enterprise applications\",\"Developer_embedded applications or devices\",\"Developer_front-end\",\"Developer_full-stack\",\"Developer_game or graphics\",\"Developer_mobile\",\"Engineer_data\",\"Engineer_site reliability\",\"Scientist\",\"back_end_.JavaScript\",\"back_end_.NET\",\"back_end_C++\",\"back_end_Java\",\"back_end_PHP\",\"back_end_python\",\"full_stack_.JavaScript\",\"full_stack_.NET\",\"full_stack_Java\",\"full_stack_PHP\",\"full_stack_python\"],\"xaxis\":\"x\",\"y\":[31.791221826809014,1.7391304347826086,1.9238168526356292,5.4,17.286751361161524,1.8351577591757888,1.937124614468914,2.676579925650558,3.6982968369829683,0.7402837754472548,1.5172079495879787,2.7114967462039044,0.7856341189674523,5.377980720446474,1.6049382716049383,42.64264264264264,1.1231748408835642,1.175632347702173,2.7091858332157472,1.582544059465292,1.1396011396011396,2.4848412792771373,0.9950671882973294,1.0413954699297059,1.4528747050788526,1.1498482200349553,2.2267206477732793],\"yaxis\":\"y\",\"type\":\"bar\",\"textfont\":{\"size\":12},\"cliponaxis\":false,\"textangle\":0}],                        {\"template\":{\"data\":{\"histogram2dcontour\":[{\"type\":\"histogram2dcontour\",\"colorbar\":{\"outlinewidth\":0,\"ticks\":\"\"},\"colorscale\":[[0.0,\"#0d0887\"],[0.1111111111111111,\"#46039f\"],[0.2222222222222222,\"#7201a8\"],[0.3333333333333333,\"#9c179e\"],[0.4444444444444444,\"#bd3786\"],[0.5555555555555556,\"#d8576b\"],[0.6666666666666666,\"#ed7953\"],[0.7777777777777778,\"#fb9f3a\"],[0.8888888888888888,\"#fdca26\"],[1.0,\"#f0f921\"]]}],\"choropleth\":[{\"type\":\"choropleth\",\"colorbar\":{\"outlinewidth\":0,\"ticks\":\"\"}}],\"histogram2d\":[{\"type\":\"histogram2d\",\"colorbar\":{\"outlinewidth\":0,\"ticks\":\"\"},\"colorscale\":[[0.0,\"#0d0887\"],[0.1111111111111111,\"#46039f\"],[0.2222222222222222,\"#7201a8\"],[0.3333333333333333,\"#9c179e\"],[0.4444444444444444,\"#bd3786\"],[0.5555555555555556,\"#d8576b\"],[0.6666666666666666,\"#ed7953\"],[0.7777777777777778,\"#fb9f3a\"],[0.8888888888888888,\"#fdca26\"],[1.0,\"#f0f921\"]]}],\"heatmap\":[{\"type\":\"heatmap\",\"colorbar\":{\"outlinewidth\":0,\"ticks\":\"\"},\"colorscale\":[[0.0,\"#0d0887\"],[0.1111111111111111,\"#46039f\"],[0.2222222222222222,\"#7201a8\"],[0.3333333333333333,\"#9c179e\"],[0.4444444444444444,\"#bd3786\"],[0.5555555555555556,\"#d8576b\"],[0.6666666666666666,\"#ed7953\"],[0.7777777777777778,\"#fb9f3a\"],[0.8888888888888888,\"#fdca26\"],[1.0,\"#f0f921\"]]}],\"heatmapgl\":[{\"type\":\"heatmapgl\",\"colorbar\":{\"outlinewidth\":0,\"ticks\":\"\"},\"colorscale\":[[0.0,\"#0d0887\"],[0.1111111111111111,\"#46039f\"],[0.2222222222222222,\"#7201a8\"],[0.3333333333333333,\"#9c179e\"],[0.4444444444444444,\"#bd3786\"],[0.5555555555555556,\"#d8576b\"],[0.6666666666666666,\"#ed7953\"],[0.7777777777777778,\"#fb9f3a\"],[0.8888888888888888,\"#fdca26\"],[1.0,\"#f0f921\"]]}],\"contourcarpet\":[{\"type\":\"contourcarpet\",\"colorbar\":{\"outlinewidth\":0,\"ticks\":\"\"}}],\"contour\":[{\"type\":\"contour\",\"colorbar\":{\"outlinewidth\":0,\"ticks\":\"\"},\"colorscale\":[[0.0,\"#0d0887\"],[0.1111111111111111,\"#46039f\"],[0.2222222222222222,\"#7201a8\"],[0.3333333333333333,\"#9c179e\"],[0.4444444444444444,\"#bd3786\"],[0.5555555555555556,\"#d8576b\"],[0.6666666666666666,\"#ed7953\"],[0.7777777777777778,\"#fb9f3a\"],[0.8888888888888888,\"#fdca26\"],[1.0,\"#f0f921\"]]}],\"surface\":[{\"type\":\"surface\",\"colorbar\":{\"outlinewidth\":0,\"ticks\":\"\"},\"colorscale\":[[0.0,\"#0d0887\"],[0.1111111111111111,\"#46039f\"],[0.2222222222222222,\"#7201a8\"],[0.3333333333333333,\"#9c179e\"],[0.4444444444444444,\"#bd3786\"],[0.5555555555555556,\"#d8576b\"],[0.6666666666666666,\"#ed7953\"],[0.7777777777777778,\"#fb9f3a\"],[0.8888888888888888,\"#fdca26\"],[1.0,\"#f0f921\"]]}],\"mesh3d\":[{\"type\":\"mesh3d\",\"colorbar\":{\"outlinewidth\":0,\"ticks\":\"\"}}],\"scatter\":[{\"marker\":{\"line\":{\"color\":\"#283442\"}},\"type\":\"scatter\"}],\"parcoords\":[{\"type\":\"parcoords\",\"line\":{\"colorbar\":{\"outlinewidth\":0,\"ticks\":\"\"}}}],\"scatterpolargl\":[{\"type\":\"scatterpolargl\",\"marker\":{\"colorbar\":{\"outlinewidth\":0,\"ticks\":\"\"}}}],\"bar\":[{\"error_x\":{\"color\":\"#f2f5fa\"},\"error_y\":{\"color\":\"#f2f5fa\"},\"marker\":{\"line\":{\"color\":\"rgb(17,17,17)\",\"width\":0.5},\"pattern\":{\"fillmode\":\"overlay\",\"size\":10,\"solidity\":0.2}},\"type\":\"bar\"}],\"scattergeo\":[{\"type\":\"scattergeo\",\"marker\":{\"colorbar\":{\"outlinewidth\":0,\"ticks\":\"\"}}}],\"scatterpolar\":[{\"type\":\"scatterpolar\",\"marker\":{\"colorbar\":{\"outlinewidth\":0,\"ticks\":\"\"}}}],\"histogram\":[{\"marker\":{\"pattern\":{\"fillmode\":\"overlay\",\"size\":10,\"solidity\":0.2}},\"type\":\"histogram\"}],\"scattergl\":[{\"marker\":{\"line\":{\"color\":\"#283442\"}},\"type\":\"scattergl\"}],\"scatter3d\":[{\"type\":\"scatter3d\",\"line\":{\"colorbar\":{\"outlinewidth\":0,\"ticks\":\"\"}},\"marker\":{\"colorbar\":{\"outlinewidth\":0,\"ticks\":\"\"}}}],\"scattermapbox\":[{\"type\":\"scattermapbox\",\"marker\":{\"colorbar\":{\"outlinewidth\":0,\"ticks\":\"\"}}}],\"scatterternary\":[{\"type\":\"scatterternary\",\"marker\":{\"colorbar\":{\"outlinewidth\":0,\"ticks\":\"\"}}}],\"scattercarpet\":[{\"type\":\"scattercarpet\",\"marker\":{\"colorbar\":{\"outlinewidth\":0,\"ticks\":\"\"}}}],\"carpet\":[{\"aaxis\":{\"endlinecolor\":\"#A2B1C6\",\"gridcolor\":\"#506784\",\"linecolor\":\"#506784\",\"minorgridcolor\":\"#506784\",\"startlinecolor\":\"#A2B1C6\"},\"baxis\":{\"endlinecolor\":\"#A2B1C6\",\"gridcolor\":\"#506784\",\"linecolor\":\"#506784\",\"minorgridcolor\":\"#506784\",\"startlinecolor\":\"#A2B1C6\"},\"type\":\"carpet\"}],\"table\":[{\"cells\":{\"fill\":{\"color\":\"#506784\"},\"line\":{\"color\":\"rgb(17,17,17)\"}},\"header\":{\"fill\":{\"color\":\"#2a3f5f\"},\"line\":{\"color\":\"rgb(17,17,17)\"}},\"type\":\"table\"}],\"barpolar\":[{\"marker\":{\"line\":{\"color\":\"rgb(17,17,17)\",\"width\":0.5},\"pattern\":{\"fillmode\":\"overlay\",\"size\":10,\"solidity\":0.2}},\"type\":\"barpolar\"}],\"pie\":[{\"automargin\":true,\"type\":\"pie\"}]},\"layout\":{\"autotypenumbers\":\"strict\",\"colorway\":[\"#636efa\",\"#EF553B\",\"#00cc96\",\"#ab63fa\",\"#FFA15A\",\"#19d3f3\",\"#FF6692\",\"#B6E880\",\"#FF97FF\",\"#FECB52\"],\"font\":{\"color\":\"#f2f5fa\"},\"hovermode\":\"closest\",\"hoverlabel\":{\"align\":\"left\"},\"paper_bgcolor\":\"rgb(17,17,17)\",\"plot_bgcolor\":\"rgb(17,17,17)\",\"polar\":{\"bgcolor\":\"rgb(17,17,17)\",\"angularaxis\":{\"gridcolor\":\"#506784\",\"linecolor\":\"#506784\",\"ticks\":\"\"},\"radialaxis\":{\"gridcolor\":\"#506784\",\"linecolor\":\"#506784\",\"ticks\":\"\"}},\"ternary\":{\"bgcolor\":\"rgb(17,17,17)\",\"aaxis\":{\"gridcolor\":\"#506784\",\"linecolor\":\"#506784\",\"ticks\":\"\"},\"baxis\":{\"gridcolor\":\"#506784\",\"linecolor\":\"#506784\",\"ticks\":\"\"},\"caxis\":{\"gridcolor\":\"#506784\",\"linecolor\":\"#506784\",\"ticks\":\"\"}},\"coloraxis\":{\"colorbar\":{\"outlinewidth\":0,\"ticks\":\"\"}},\"colorscale\":{\"sequential\":[[0.0,\"#0d0887\"],[0.1111111111111111,\"#46039f\"],[0.2222222222222222,\"#7201a8\"],[0.3333333333333333,\"#9c179e\"],[0.4444444444444444,\"#bd3786\"],[0.5555555555555556,\"#d8576b\"],[0.6666666666666666,\"#ed7953\"],[0.7777777777777778,\"#fb9f3a\"],[0.8888888888888888,\"#fdca26\"],[1.0,\"#f0f921\"]],\"sequentialminus\":[[0.0,\"#0d0887\"],[0.1111111111111111,\"#46039f\"],[0.2222222222222222,\"#7201a8\"],[0.3333333333333333,\"#9c179e\"],[0.4444444444444444,\"#bd3786\"],[0.5555555555555556,\"#d8576b\"],[0.6666666666666666,\"#ed7953\"],[0.7777777777777778,\"#fb9f3a\"],[0.8888888888888888,\"#fdca26\"],[1.0,\"#f0f921\"]],\"diverging\":[[0,\"#8e0152\"],[0.1,\"#c51b7d\"],[0.2,\"#de77ae\"],[0.3,\"#f1b6da\"],[0.4,\"#fde0ef\"],[0.5,\"#f7f7f7\"],[0.6,\"#e6f5d0\"],[0.7,\"#b8e186\"],[0.8,\"#7fbc41\"],[0.9,\"#4d9221\"],[1,\"#276419\"]]},\"xaxis\":{\"gridcolor\":\"#283442\",\"linecolor\":\"#506784\",\"ticks\":\"\",\"title\":{\"standoff\":15},\"zerolinecolor\":\"#283442\",\"automargin\":true,\"zerolinewidth\":2},\"yaxis\":{\"gridcolor\":\"#283442\",\"linecolor\":\"#506784\",\"ticks\":\"\",\"title\":{\"standoff\":15},\"zerolinecolor\":\"#283442\",\"automargin\":true,\"zerolinewidth\":2},\"scene\":{\"xaxis\":{\"backgroundcolor\":\"rgb(17,17,17)\",\"gridcolor\":\"#506784\",\"linecolor\":\"#506784\",\"showbackground\":true,\"ticks\":\"\",\"zerolinecolor\":\"#C8D4E3\",\"gridwidth\":2},\"yaxis\":{\"backgroundcolor\":\"rgb(17,17,17)\",\"gridcolor\":\"#506784\",\"linecolor\":\"#506784\",\"showbackground\":true,\"ticks\":\"\",\"zerolinecolor\":\"#C8D4E3\",\"gridwidth\":2},\"zaxis\":{\"backgroundcolor\":\"rgb(17,17,17)\",\"gridcolor\":\"#506784\",\"linecolor\":\"#506784\",\"showbackground\":true,\"ticks\":\"\",\"zerolinecolor\":\"#C8D4E3\",\"gridwidth\":2}},\"shapedefaults\":{\"line\":{\"color\":\"#f2f5fa\"}},\"annotationdefaults\":{\"arrowcolor\":\"#f2f5fa\",\"arrowhead\":0,\"arrowwidth\":1},\"geo\":{\"bgcolor\":\"rgb(17,17,17)\",\"landcolor\":\"rgb(17,17,17)\",\"subunitcolor\":\"#506784\",\"showland\":true,\"showlakes\":true,\"lakecolor\":\"rgb(17,17,17)\"},\"title\":{\"x\":0.05},\"updatemenudefaults\":{\"bgcolor\":\"#506784\",\"borderwidth\":0},\"sliderdefaults\":{\"bgcolor\":\"#C8D4E3\",\"borderwidth\":1,\"bordercolor\":\"rgb(17,17,17)\",\"tickwidth\":0},\"mapbox\":{\"style\":\"dark\"}}},\"xaxis\":{\"anchor\":\"y\",\"domain\":[0.0,1.0],\"title\":{\"text\":\"Job Type\"},\"tickfont\":{\"family\":\"Rockwell\",\"size\":15},\"tickmode\":\"array\",\"tickvals\":[0,1,2,3,4,5,6,7,8,9,10,11,12,13,14,15,16,17,18,19,20,21,22,23,24,25,26],\"ticktext\":[\"Academic researcher\",\"Blockchain\",\"Cloud infrastructure engineer\",\"Business analyst\",\"Machine learning specialist\",\"Devops specialist\",\"Back-end dev\",\"Enterprise applications dev\",\"Embedded applications dev\",\"Front-end dev\",\"Full-stack dev\",\"Graphics dev\",\"Mobile dev\",\"Data  engineer\",\"Site reliability  engineer\",\"Scientist\",\"Back_end_.javascript dev\",\"Back_end_.net dev\",\"Back_end_c++ dev\",\"Back_end_java dev\",\"Back_end_php dev\",\"Back_end_python dev\",\"Full_stack_.javascript dev\",\"Full_stack_.net dev\",\"Full_stack_java dev\",\"Full_stack_php dev\",\"Full_stack_python dev\"],\"tickangle\":45},\"yaxis\":{\"anchor\":\"x\",\"domain\":[0.0,1.0],\"title\":{\"text\":\"Percentage (%)\"},\"tickfont\":{\"family\":\"Rockwell\",\"size\":15},\"tickangle\":45},\"legend\":{\"title\":{\"text\":\"EdLevel\"},\"tracegroupgap\":0},\"margin\":{\"t\":60,\"b\":10,\"l\":10,\"r\":10},\"barmode\":\"relative\",\"title\":{\"font\":{\"size\":20},\"text\":\"Education Level vs. Job Occupation\",\"x\":0.5},\"height\":500,\"width\":1700},                        {\"responsive\": true}                    ).then(function(){\n                            \nvar gd = document.getElementById('d5789d62-e5d8-4f96-9f04-a7a182d9edd3');\nvar x = new MutationObserver(function (mutations, observer) {{\n        var display = window.getComputedStyle(gd).display;\n        if (!display || display === 'none') {{\n            console.log([gd, 'removed!']);\n            Plotly.purge(gd);\n            observer.disconnect();\n        }}\n}});\n\n// Listen for the removal of the full notebook cells\nvar notebookContainer = gd.closest('#notebook-container');\nif (notebookContainer) {{\n    x.observe(notebookContainer, {childList: true});\n}}\n\n// Listen for the clearing of the current output cell\nvar outputEl = gd.closest('.output');\nif (outputEl) {{\n    x.observe(outputEl, {childList: true});\n}}\n\n                        })                };                });            </script>        </div>"
     },
     "metadata": {},
     "output_type": "display_data"
    }
   ],
   "source": [
    "create_education_vs_job_chart()"
   ],
   "metadata": {
    "collapsed": false
   }
  },
  {
   "cell_type": "markdown",
   "source": [
    "_________"
   ],
   "metadata": {
    "collapsed": false
   }
  },
  {
   "cell_type": "markdown",
   "source": [
    "# 6. Country Distribution"
   ],
   "metadata": {
    "collapsed": false
   }
  },
  {
   "cell_type": "code",
   "execution_count": null,
   "outputs": [],
   "source": [],
   "metadata": {
    "collapsed": false
   }
  },
  {
   "cell_type": "code",
   "execution_count": 211,
   "outputs": [],
   "source": [
    "def create_country_dist_chart():\n",
    "    # check the respondens by \"Country\"\n",
    "    top10_country = survey['Country'].value_counts().head(10)\n",
    "\n",
    "    top10_country = top10_country.rename({\n",
    "        'United States of America': 'USA',\n",
    "        'United Kingdom of Great Britain and Northern Ireland': 'Britain'\n",
    "    })\n",
    "\n",
    "    fig = px.pie(\n",
    "        top10_country,\n",
    "        values=top10_country.values,\n",
    "        names=top10_country.index,\n",
    "        title='Top 10 Country Distribution')\n",
    "    fig.update_traces(\n",
    "        textposition='inside',\n",
    "        textinfo='percent+label')\n",
    "    fig.update_layout(\n",
    "        width=700,\n",
    "        height=300,\n",
    "        margin=dict(t=30, l=10, r=10, b=10),\n",
    "        title_font_size=20,\n",
    "        title_x=0.5)\n",
    "\n",
    "    return fig\n"
   ],
   "metadata": {
    "collapsed": false
   }
  },
  {
   "cell_type": "code",
   "execution_count": 212,
   "outputs": [
    {
     "data": {
      "application/vnd.plotly.v1+json": {
       "data": [
        {
         "domain": {
          "x": [
           0.0,
           1.0
          ],
          "y": [
           0.0,
           1.0
          ]
         },
         "hovertemplate": "index=%{label}<br>value=%{value}<extra></extra>",
         "labels": [
          "USA",
          "India",
          "Germany",
          "Britain",
          "Canada",
          "France",
          "Brazil",
          "Poland",
          "Spain",
          "Netherlands"
         ],
         "legendgroup": "",
         "name": "",
         "showlegend": true,
         "values": [
          9826,
          4442,
          3687,
          3097,
          1771,
          1645,
          1627,
          1314,
          1176,
          1111
         ],
         "type": "pie",
         "textinfo": "percent+label",
         "textposition": "inside"
        }
       ],
       "layout": {
        "template": {
         "data": {
          "histogram2dcontour": [
           {
            "type": "histogram2dcontour",
            "colorbar": {
             "outlinewidth": 0,
             "ticks": ""
            },
            "colorscale": [
             [
              0.0,
              "#0d0887"
             ],
             [
              0.1111111111111111,
              "#46039f"
             ],
             [
              0.2222222222222222,
              "#7201a8"
             ],
             [
              0.3333333333333333,
              "#9c179e"
             ],
             [
              0.4444444444444444,
              "#bd3786"
             ],
             [
              0.5555555555555556,
              "#d8576b"
             ],
             [
              0.6666666666666666,
              "#ed7953"
             ],
             [
              0.7777777777777778,
              "#fb9f3a"
             ],
             [
              0.8888888888888888,
              "#fdca26"
             ],
             [
              1.0,
              "#f0f921"
             ]
            ]
           }
          ],
          "choropleth": [
           {
            "type": "choropleth",
            "colorbar": {
             "outlinewidth": 0,
             "ticks": ""
            }
           }
          ],
          "histogram2d": [
           {
            "type": "histogram2d",
            "colorbar": {
             "outlinewidth": 0,
             "ticks": ""
            },
            "colorscale": [
             [
              0.0,
              "#0d0887"
             ],
             [
              0.1111111111111111,
              "#46039f"
             ],
             [
              0.2222222222222222,
              "#7201a8"
             ],
             [
              0.3333333333333333,
              "#9c179e"
             ],
             [
              0.4444444444444444,
              "#bd3786"
             ],
             [
              0.5555555555555556,
              "#d8576b"
             ],
             [
              0.6666666666666666,
              "#ed7953"
             ],
             [
              0.7777777777777778,
              "#fb9f3a"
             ],
             [
              0.8888888888888888,
              "#fdca26"
             ],
             [
              1.0,
              "#f0f921"
             ]
            ]
           }
          ],
          "heatmap": [
           {
            "type": "heatmap",
            "colorbar": {
             "outlinewidth": 0,
             "ticks": ""
            },
            "colorscale": [
             [
              0.0,
              "#0d0887"
             ],
             [
              0.1111111111111111,
              "#46039f"
             ],
             [
              0.2222222222222222,
              "#7201a8"
             ],
             [
              0.3333333333333333,
              "#9c179e"
             ],
             [
              0.4444444444444444,
              "#bd3786"
             ],
             [
              0.5555555555555556,
              "#d8576b"
             ],
             [
              0.6666666666666666,
              "#ed7953"
             ],
             [
              0.7777777777777778,
              "#fb9f3a"
             ],
             [
              0.8888888888888888,
              "#fdca26"
             ],
             [
              1.0,
              "#f0f921"
             ]
            ]
           }
          ],
          "heatmapgl": [
           {
            "type": "heatmapgl",
            "colorbar": {
             "outlinewidth": 0,
             "ticks": ""
            },
            "colorscale": [
             [
              0.0,
              "#0d0887"
             ],
             [
              0.1111111111111111,
              "#46039f"
             ],
             [
              0.2222222222222222,
              "#7201a8"
             ],
             [
              0.3333333333333333,
              "#9c179e"
             ],
             [
              0.4444444444444444,
              "#bd3786"
             ],
             [
              0.5555555555555556,
              "#d8576b"
             ],
             [
              0.6666666666666666,
              "#ed7953"
             ],
             [
              0.7777777777777778,
              "#fb9f3a"
             ],
             [
              0.8888888888888888,
              "#fdca26"
             ],
             [
              1.0,
              "#f0f921"
             ]
            ]
           }
          ],
          "contourcarpet": [
           {
            "type": "contourcarpet",
            "colorbar": {
             "outlinewidth": 0,
             "ticks": ""
            }
           }
          ],
          "contour": [
           {
            "type": "contour",
            "colorbar": {
             "outlinewidth": 0,
             "ticks": ""
            },
            "colorscale": [
             [
              0.0,
              "#0d0887"
             ],
             [
              0.1111111111111111,
              "#46039f"
             ],
             [
              0.2222222222222222,
              "#7201a8"
             ],
             [
              0.3333333333333333,
              "#9c179e"
             ],
             [
              0.4444444444444444,
              "#bd3786"
             ],
             [
              0.5555555555555556,
              "#d8576b"
             ],
             [
              0.6666666666666666,
              "#ed7953"
             ],
             [
              0.7777777777777778,
              "#fb9f3a"
             ],
             [
              0.8888888888888888,
              "#fdca26"
             ],
             [
              1.0,
              "#f0f921"
             ]
            ]
           }
          ],
          "surface": [
           {
            "type": "surface",
            "colorbar": {
             "outlinewidth": 0,
             "ticks": ""
            },
            "colorscale": [
             [
              0.0,
              "#0d0887"
             ],
             [
              0.1111111111111111,
              "#46039f"
             ],
             [
              0.2222222222222222,
              "#7201a8"
             ],
             [
              0.3333333333333333,
              "#9c179e"
             ],
             [
              0.4444444444444444,
              "#bd3786"
             ],
             [
              0.5555555555555556,
              "#d8576b"
             ],
             [
              0.6666666666666666,
              "#ed7953"
             ],
             [
              0.7777777777777778,
              "#fb9f3a"
             ],
             [
              0.8888888888888888,
              "#fdca26"
             ],
             [
              1.0,
              "#f0f921"
             ]
            ]
           }
          ],
          "mesh3d": [
           {
            "type": "mesh3d",
            "colorbar": {
             "outlinewidth": 0,
             "ticks": ""
            }
           }
          ],
          "scatter": [
           {
            "marker": {
             "line": {
              "color": "#283442"
             }
            },
            "type": "scatter"
           }
          ],
          "parcoords": [
           {
            "type": "parcoords",
            "line": {
             "colorbar": {
              "outlinewidth": 0,
              "ticks": ""
             }
            }
           }
          ],
          "scatterpolargl": [
           {
            "type": "scatterpolargl",
            "marker": {
             "colorbar": {
              "outlinewidth": 0,
              "ticks": ""
             }
            }
           }
          ],
          "bar": [
           {
            "error_x": {
             "color": "#f2f5fa"
            },
            "error_y": {
             "color": "#f2f5fa"
            },
            "marker": {
             "line": {
              "color": "rgb(17,17,17)",
              "width": 0.5
             },
             "pattern": {
              "fillmode": "overlay",
              "size": 10,
              "solidity": 0.2
             }
            },
            "type": "bar"
           }
          ],
          "scattergeo": [
           {
            "type": "scattergeo",
            "marker": {
             "colorbar": {
              "outlinewidth": 0,
              "ticks": ""
             }
            }
           }
          ],
          "scatterpolar": [
           {
            "type": "scatterpolar",
            "marker": {
             "colorbar": {
              "outlinewidth": 0,
              "ticks": ""
             }
            }
           }
          ],
          "histogram": [
           {
            "marker": {
             "pattern": {
              "fillmode": "overlay",
              "size": 10,
              "solidity": 0.2
             }
            },
            "type": "histogram"
           }
          ],
          "scattergl": [
           {
            "marker": {
             "line": {
              "color": "#283442"
             }
            },
            "type": "scattergl"
           }
          ],
          "scatter3d": [
           {
            "type": "scatter3d",
            "line": {
             "colorbar": {
              "outlinewidth": 0,
              "ticks": ""
             }
            },
            "marker": {
             "colorbar": {
              "outlinewidth": 0,
              "ticks": ""
             }
            }
           }
          ],
          "scattermapbox": [
           {
            "type": "scattermapbox",
            "marker": {
             "colorbar": {
              "outlinewidth": 0,
              "ticks": ""
             }
            }
           }
          ],
          "scatterternary": [
           {
            "type": "scatterternary",
            "marker": {
             "colorbar": {
              "outlinewidth": 0,
              "ticks": ""
             }
            }
           }
          ],
          "scattercarpet": [
           {
            "type": "scattercarpet",
            "marker": {
             "colorbar": {
              "outlinewidth": 0,
              "ticks": ""
             }
            }
           }
          ],
          "carpet": [
           {
            "aaxis": {
             "endlinecolor": "#A2B1C6",
             "gridcolor": "#506784",
             "linecolor": "#506784",
             "minorgridcolor": "#506784",
             "startlinecolor": "#A2B1C6"
            },
            "baxis": {
             "endlinecolor": "#A2B1C6",
             "gridcolor": "#506784",
             "linecolor": "#506784",
             "minorgridcolor": "#506784",
             "startlinecolor": "#A2B1C6"
            },
            "type": "carpet"
           }
          ],
          "table": [
           {
            "cells": {
             "fill": {
              "color": "#506784"
             },
             "line": {
              "color": "rgb(17,17,17)"
             }
            },
            "header": {
             "fill": {
              "color": "#2a3f5f"
             },
             "line": {
              "color": "rgb(17,17,17)"
             }
            },
            "type": "table"
           }
          ],
          "barpolar": [
           {
            "marker": {
             "line": {
              "color": "rgb(17,17,17)",
              "width": 0.5
             },
             "pattern": {
              "fillmode": "overlay",
              "size": 10,
              "solidity": 0.2
             }
            },
            "type": "barpolar"
           }
          ],
          "pie": [
           {
            "automargin": true,
            "type": "pie"
           }
          ]
         },
         "layout": {
          "autotypenumbers": "strict",
          "colorway": [
           "#636efa",
           "#EF553B",
           "#00cc96",
           "#ab63fa",
           "#FFA15A",
           "#19d3f3",
           "#FF6692",
           "#B6E880",
           "#FF97FF",
           "#FECB52"
          ],
          "font": {
           "color": "#f2f5fa"
          },
          "hovermode": "closest",
          "hoverlabel": {
           "align": "left"
          },
          "paper_bgcolor": "rgb(17,17,17)",
          "plot_bgcolor": "rgb(17,17,17)",
          "polar": {
           "bgcolor": "rgb(17,17,17)",
           "angularaxis": {
            "gridcolor": "#506784",
            "linecolor": "#506784",
            "ticks": ""
           },
           "radialaxis": {
            "gridcolor": "#506784",
            "linecolor": "#506784",
            "ticks": ""
           }
          },
          "ternary": {
           "bgcolor": "rgb(17,17,17)",
           "aaxis": {
            "gridcolor": "#506784",
            "linecolor": "#506784",
            "ticks": ""
           },
           "baxis": {
            "gridcolor": "#506784",
            "linecolor": "#506784",
            "ticks": ""
           },
           "caxis": {
            "gridcolor": "#506784",
            "linecolor": "#506784",
            "ticks": ""
           }
          },
          "coloraxis": {
           "colorbar": {
            "outlinewidth": 0,
            "ticks": ""
           }
          },
          "colorscale": {
           "sequential": [
            [
             0.0,
             "#0d0887"
            ],
            [
             0.1111111111111111,
             "#46039f"
            ],
            [
             0.2222222222222222,
             "#7201a8"
            ],
            [
             0.3333333333333333,
             "#9c179e"
            ],
            [
             0.4444444444444444,
             "#bd3786"
            ],
            [
             0.5555555555555556,
             "#d8576b"
            ],
            [
             0.6666666666666666,
             "#ed7953"
            ],
            [
             0.7777777777777778,
             "#fb9f3a"
            ],
            [
             0.8888888888888888,
             "#fdca26"
            ],
            [
             1.0,
             "#f0f921"
            ]
           ],
           "sequentialminus": [
            [
             0.0,
             "#0d0887"
            ],
            [
             0.1111111111111111,
             "#46039f"
            ],
            [
             0.2222222222222222,
             "#7201a8"
            ],
            [
             0.3333333333333333,
             "#9c179e"
            ],
            [
             0.4444444444444444,
             "#bd3786"
            ],
            [
             0.5555555555555556,
             "#d8576b"
            ],
            [
             0.6666666666666666,
             "#ed7953"
            ],
            [
             0.7777777777777778,
             "#fb9f3a"
            ],
            [
             0.8888888888888888,
             "#fdca26"
            ],
            [
             1.0,
             "#f0f921"
            ]
           ],
           "diverging": [
            [
             0,
             "#8e0152"
            ],
            [
             0.1,
             "#c51b7d"
            ],
            [
             0.2,
             "#de77ae"
            ],
            [
             0.3,
             "#f1b6da"
            ],
            [
             0.4,
             "#fde0ef"
            ],
            [
             0.5,
             "#f7f7f7"
            ],
            [
             0.6,
             "#e6f5d0"
            ],
            [
             0.7,
             "#b8e186"
            ],
            [
             0.8,
             "#7fbc41"
            ],
            [
             0.9,
             "#4d9221"
            ],
            [
             1,
             "#276419"
            ]
           ]
          },
          "xaxis": {
           "gridcolor": "#283442",
           "linecolor": "#506784",
           "ticks": "",
           "title": {
            "standoff": 15
           },
           "zerolinecolor": "#283442",
           "automargin": true,
           "zerolinewidth": 2
          },
          "yaxis": {
           "gridcolor": "#283442",
           "linecolor": "#506784",
           "ticks": "",
           "title": {
            "standoff": 15
           },
           "zerolinecolor": "#283442",
           "automargin": true,
           "zerolinewidth": 2
          },
          "scene": {
           "xaxis": {
            "backgroundcolor": "rgb(17,17,17)",
            "gridcolor": "#506784",
            "linecolor": "#506784",
            "showbackground": true,
            "ticks": "",
            "zerolinecolor": "#C8D4E3",
            "gridwidth": 2
           },
           "yaxis": {
            "backgroundcolor": "rgb(17,17,17)",
            "gridcolor": "#506784",
            "linecolor": "#506784",
            "showbackground": true,
            "ticks": "",
            "zerolinecolor": "#C8D4E3",
            "gridwidth": 2
           },
           "zaxis": {
            "backgroundcolor": "rgb(17,17,17)",
            "gridcolor": "#506784",
            "linecolor": "#506784",
            "showbackground": true,
            "ticks": "",
            "zerolinecolor": "#C8D4E3",
            "gridwidth": 2
           }
          },
          "shapedefaults": {
           "line": {
            "color": "#f2f5fa"
           }
          },
          "annotationdefaults": {
           "arrowcolor": "#f2f5fa",
           "arrowhead": 0,
           "arrowwidth": 1
          },
          "geo": {
           "bgcolor": "rgb(17,17,17)",
           "landcolor": "rgb(17,17,17)",
           "subunitcolor": "#506784",
           "showland": true,
           "showlakes": true,
           "lakecolor": "rgb(17,17,17)"
          },
          "title": {
           "x": 0.05
          },
          "updatemenudefaults": {
           "bgcolor": "#506784",
           "borderwidth": 0
          },
          "sliderdefaults": {
           "bgcolor": "#C8D4E3",
           "borderwidth": 1,
           "bordercolor": "rgb(17,17,17)",
           "tickwidth": 0
          },
          "mapbox": {
           "style": "dark"
          }
         }
        },
        "legend": {
         "tracegroupgap": 0
        },
        "title": {
         "text": "Top 10 Country Distribution",
         "font": {
          "size": 20
         },
         "x": 0.5
        },
        "margin": {
         "t": 30,
         "l": 10,
         "r": 10,
         "b": 10
        },
        "width": 700,
        "height": 300
       },
       "config": {
        "plotlyServerURL": "https://plot.ly"
       }
      },
      "text/html": "<div>                            <div id=\"05dab93c-b124-4def-82eb-8c328b2b8ea4\" class=\"plotly-graph-div\" style=\"height:300px; width:700px;\"></div>            <script type=\"text/javascript\">                require([\"plotly\"], function(Plotly) {                    window.PLOTLYENV=window.PLOTLYENV || {};                                    if (document.getElementById(\"05dab93c-b124-4def-82eb-8c328b2b8ea4\")) {                    Plotly.newPlot(                        \"05dab93c-b124-4def-82eb-8c328b2b8ea4\",                        [{\"domain\":{\"x\":[0.0,1.0],\"y\":[0.0,1.0]},\"hovertemplate\":\"index=%{label}<br>value=%{value}<extra></extra>\",\"labels\":[\"USA\",\"India\",\"Germany\",\"Britain\",\"Canada\",\"France\",\"Brazil\",\"Poland\",\"Spain\",\"Netherlands\"],\"legendgroup\":\"\",\"name\":\"\",\"showlegend\":true,\"values\":[9826,4442,3687,3097,1771,1645,1627,1314,1176,1111],\"type\":\"pie\",\"textinfo\":\"percent+label\",\"textposition\":\"inside\"}],                        {\"template\":{\"data\":{\"histogram2dcontour\":[{\"type\":\"histogram2dcontour\",\"colorbar\":{\"outlinewidth\":0,\"ticks\":\"\"},\"colorscale\":[[0.0,\"#0d0887\"],[0.1111111111111111,\"#46039f\"],[0.2222222222222222,\"#7201a8\"],[0.3333333333333333,\"#9c179e\"],[0.4444444444444444,\"#bd3786\"],[0.5555555555555556,\"#d8576b\"],[0.6666666666666666,\"#ed7953\"],[0.7777777777777778,\"#fb9f3a\"],[0.8888888888888888,\"#fdca26\"],[1.0,\"#f0f921\"]]}],\"choropleth\":[{\"type\":\"choropleth\",\"colorbar\":{\"outlinewidth\":0,\"ticks\":\"\"}}],\"histogram2d\":[{\"type\":\"histogram2d\",\"colorbar\":{\"outlinewidth\":0,\"ticks\":\"\"},\"colorscale\":[[0.0,\"#0d0887\"],[0.1111111111111111,\"#46039f\"],[0.2222222222222222,\"#7201a8\"],[0.3333333333333333,\"#9c179e\"],[0.4444444444444444,\"#bd3786\"],[0.5555555555555556,\"#d8576b\"],[0.6666666666666666,\"#ed7953\"],[0.7777777777777778,\"#fb9f3a\"],[0.8888888888888888,\"#fdca26\"],[1.0,\"#f0f921\"]]}],\"heatmap\":[{\"type\":\"heatmap\",\"colorbar\":{\"outlinewidth\":0,\"ticks\":\"\"},\"colorscale\":[[0.0,\"#0d0887\"],[0.1111111111111111,\"#46039f\"],[0.2222222222222222,\"#7201a8\"],[0.3333333333333333,\"#9c179e\"],[0.4444444444444444,\"#bd3786\"],[0.5555555555555556,\"#d8576b\"],[0.6666666666666666,\"#ed7953\"],[0.7777777777777778,\"#fb9f3a\"],[0.8888888888888888,\"#fdca26\"],[1.0,\"#f0f921\"]]}],\"heatmapgl\":[{\"type\":\"heatmapgl\",\"colorbar\":{\"outlinewidth\":0,\"ticks\":\"\"},\"colorscale\":[[0.0,\"#0d0887\"],[0.1111111111111111,\"#46039f\"],[0.2222222222222222,\"#7201a8\"],[0.3333333333333333,\"#9c179e\"],[0.4444444444444444,\"#bd3786\"],[0.5555555555555556,\"#d8576b\"],[0.6666666666666666,\"#ed7953\"],[0.7777777777777778,\"#fb9f3a\"],[0.8888888888888888,\"#fdca26\"],[1.0,\"#f0f921\"]]}],\"contourcarpet\":[{\"type\":\"contourcarpet\",\"colorbar\":{\"outlinewidth\":0,\"ticks\":\"\"}}],\"contour\":[{\"type\":\"contour\",\"colorbar\":{\"outlinewidth\":0,\"ticks\":\"\"},\"colorscale\":[[0.0,\"#0d0887\"],[0.1111111111111111,\"#46039f\"],[0.2222222222222222,\"#7201a8\"],[0.3333333333333333,\"#9c179e\"],[0.4444444444444444,\"#bd3786\"],[0.5555555555555556,\"#d8576b\"],[0.6666666666666666,\"#ed7953\"],[0.7777777777777778,\"#fb9f3a\"],[0.8888888888888888,\"#fdca26\"],[1.0,\"#f0f921\"]]}],\"surface\":[{\"type\":\"surface\",\"colorbar\":{\"outlinewidth\":0,\"ticks\":\"\"},\"colorscale\":[[0.0,\"#0d0887\"],[0.1111111111111111,\"#46039f\"],[0.2222222222222222,\"#7201a8\"],[0.3333333333333333,\"#9c179e\"],[0.4444444444444444,\"#bd3786\"],[0.5555555555555556,\"#d8576b\"],[0.6666666666666666,\"#ed7953\"],[0.7777777777777778,\"#fb9f3a\"],[0.8888888888888888,\"#fdca26\"],[1.0,\"#f0f921\"]]}],\"mesh3d\":[{\"type\":\"mesh3d\",\"colorbar\":{\"outlinewidth\":0,\"ticks\":\"\"}}],\"scatter\":[{\"marker\":{\"line\":{\"color\":\"#283442\"}},\"type\":\"scatter\"}],\"parcoords\":[{\"type\":\"parcoords\",\"line\":{\"colorbar\":{\"outlinewidth\":0,\"ticks\":\"\"}}}],\"scatterpolargl\":[{\"type\":\"scatterpolargl\",\"marker\":{\"colorbar\":{\"outlinewidth\":0,\"ticks\":\"\"}}}],\"bar\":[{\"error_x\":{\"color\":\"#f2f5fa\"},\"error_y\":{\"color\":\"#f2f5fa\"},\"marker\":{\"line\":{\"color\":\"rgb(17,17,17)\",\"width\":0.5},\"pattern\":{\"fillmode\":\"overlay\",\"size\":10,\"solidity\":0.2}},\"type\":\"bar\"}],\"scattergeo\":[{\"type\":\"scattergeo\",\"marker\":{\"colorbar\":{\"outlinewidth\":0,\"ticks\":\"\"}}}],\"scatterpolar\":[{\"type\":\"scatterpolar\",\"marker\":{\"colorbar\":{\"outlinewidth\":0,\"ticks\":\"\"}}}],\"histogram\":[{\"marker\":{\"pattern\":{\"fillmode\":\"overlay\",\"size\":10,\"solidity\":0.2}},\"type\":\"histogram\"}],\"scattergl\":[{\"marker\":{\"line\":{\"color\":\"#283442\"}},\"type\":\"scattergl\"}],\"scatter3d\":[{\"type\":\"scatter3d\",\"line\":{\"colorbar\":{\"outlinewidth\":0,\"ticks\":\"\"}},\"marker\":{\"colorbar\":{\"outlinewidth\":0,\"ticks\":\"\"}}}],\"scattermapbox\":[{\"type\":\"scattermapbox\",\"marker\":{\"colorbar\":{\"outlinewidth\":0,\"ticks\":\"\"}}}],\"scatterternary\":[{\"type\":\"scatterternary\",\"marker\":{\"colorbar\":{\"outlinewidth\":0,\"ticks\":\"\"}}}],\"scattercarpet\":[{\"type\":\"scattercarpet\",\"marker\":{\"colorbar\":{\"outlinewidth\":0,\"ticks\":\"\"}}}],\"carpet\":[{\"aaxis\":{\"endlinecolor\":\"#A2B1C6\",\"gridcolor\":\"#506784\",\"linecolor\":\"#506784\",\"minorgridcolor\":\"#506784\",\"startlinecolor\":\"#A2B1C6\"},\"baxis\":{\"endlinecolor\":\"#A2B1C6\",\"gridcolor\":\"#506784\",\"linecolor\":\"#506784\",\"minorgridcolor\":\"#506784\",\"startlinecolor\":\"#A2B1C6\"},\"type\":\"carpet\"}],\"table\":[{\"cells\":{\"fill\":{\"color\":\"#506784\"},\"line\":{\"color\":\"rgb(17,17,17)\"}},\"header\":{\"fill\":{\"color\":\"#2a3f5f\"},\"line\":{\"color\":\"rgb(17,17,17)\"}},\"type\":\"table\"}],\"barpolar\":[{\"marker\":{\"line\":{\"color\":\"rgb(17,17,17)\",\"width\":0.5},\"pattern\":{\"fillmode\":\"overlay\",\"size\":10,\"solidity\":0.2}},\"type\":\"barpolar\"}],\"pie\":[{\"automargin\":true,\"type\":\"pie\"}]},\"layout\":{\"autotypenumbers\":\"strict\",\"colorway\":[\"#636efa\",\"#EF553B\",\"#00cc96\",\"#ab63fa\",\"#FFA15A\",\"#19d3f3\",\"#FF6692\",\"#B6E880\",\"#FF97FF\",\"#FECB52\"],\"font\":{\"color\":\"#f2f5fa\"},\"hovermode\":\"closest\",\"hoverlabel\":{\"align\":\"left\"},\"paper_bgcolor\":\"rgb(17,17,17)\",\"plot_bgcolor\":\"rgb(17,17,17)\",\"polar\":{\"bgcolor\":\"rgb(17,17,17)\",\"angularaxis\":{\"gridcolor\":\"#506784\",\"linecolor\":\"#506784\",\"ticks\":\"\"},\"radialaxis\":{\"gridcolor\":\"#506784\",\"linecolor\":\"#506784\",\"ticks\":\"\"}},\"ternary\":{\"bgcolor\":\"rgb(17,17,17)\",\"aaxis\":{\"gridcolor\":\"#506784\",\"linecolor\":\"#506784\",\"ticks\":\"\"},\"baxis\":{\"gridcolor\":\"#506784\",\"linecolor\":\"#506784\",\"ticks\":\"\"},\"caxis\":{\"gridcolor\":\"#506784\",\"linecolor\":\"#506784\",\"ticks\":\"\"}},\"coloraxis\":{\"colorbar\":{\"outlinewidth\":0,\"ticks\":\"\"}},\"colorscale\":{\"sequential\":[[0.0,\"#0d0887\"],[0.1111111111111111,\"#46039f\"],[0.2222222222222222,\"#7201a8\"],[0.3333333333333333,\"#9c179e\"],[0.4444444444444444,\"#bd3786\"],[0.5555555555555556,\"#d8576b\"],[0.6666666666666666,\"#ed7953\"],[0.7777777777777778,\"#fb9f3a\"],[0.8888888888888888,\"#fdca26\"],[1.0,\"#f0f921\"]],\"sequentialminus\":[[0.0,\"#0d0887\"],[0.1111111111111111,\"#46039f\"],[0.2222222222222222,\"#7201a8\"],[0.3333333333333333,\"#9c179e\"],[0.4444444444444444,\"#bd3786\"],[0.5555555555555556,\"#d8576b\"],[0.6666666666666666,\"#ed7953\"],[0.7777777777777778,\"#fb9f3a\"],[0.8888888888888888,\"#fdca26\"],[1.0,\"#f0f921\"]],\"diverging\":[[0,\"#8e0152\"],[0.1,\"#c51b7d\"],[0.2,\"#de77ae\"],[0.3,\"#f1b6da\"],[0.4,\"#fde0ef\"],[0.5,\"#f7f7f7\"],[0.6,\"#e6f5d0\"],[0.7,\"#b8e186\"],[0.8,\"#7fbc41\"],[0.9,\"#4d9221\"],[1,\"#276419\"]]},\"xaxis\":{\"gridcolor\":\"#283442\",\"linecolor\":\"#506784\",\"ticks\":\"\",\"title\":{\"standoff\":15},\"zerolinecolor\":\"#283442\",\"automargin\":true,\"zerolinewidth\":2},\"yaxis\":{\"gridcolor\":\"#283442\",\"linecolor\":\"#506784\",\"ticks\":\"\",\"title\":{\"standoff\":15},\"zerolinecolor\":\"#283442\",\"automargin\":true,\"zerolinewidth\":2},\"scene\":{\"xaxis\":{\"backgroundcolor\":\"rgb(17,17,17)\",\"gridcolor\":\"#506784\",\"linecolor\":\"#506784\",\"showbackground\":true,\"ticks\":\"\",\"zerolinecolor\":\"#C8D4E3\",\"gridwidth\":2},\"yaxis\":{\"backgroundcolor\":\"rgb(17,17,17)\",\"gridcolor\":\"#506784\",\"linecolor\":\"#506784\",\"showbackground\":true,\"ticks\":\"\",\"zerolinecolor\":\"#C8D4E3\",\"gridwidth\":2},\"zaxis\":{\"backgroundcolor\":\"rgb(17,17,17)\",\"gridcolor\":\"#506784\",\"linecolor\":\"#506784\",\"showbackground\":true,\"ticks\":\"\",\"zerolinecolor\":\"#C8D4E3\",\"gridwidth\":2}},\"shapedefaults\":{\"line\":{\"color\":\"#f2f5fa\"}},\"annotationdefaults\":{\"arrowcolor\":\"#f2f5fa\",\"arrowhead\":0,\"arrowwidth\":1},\"geo\":{\"bgcolor\":\"rgb(17,17,17)\",\"landcolor\":\"rgb(17,17,17)\",\"subunitcolor\":\"#506784\",\"showland\":true,\"showlakes\":true,\"lakecolor\":\"rgb(17,17,17)\"},\"title\":{\"x\":0.05},\"updatemenudefaults\":{\"bgcolor\":\"#506784\",\"borderwidth\":0},\"sliderdefaults\":{\"bgcolor\":\"#C8D4E3\",\"borderwidth\":1,\"bordercolor\":\"rgb(17,17,17)\",\"tickwidth\":0},\"mapbox\":{\"style\":\"dark\"}}},\"legend\":{\"tracegroupgap\":0},\"title\":{\"text\":\"Top 10 Country Distribution\",\"font\":{\"size\":20},\"x\":0.5},\"margin\":{\"t\":30,\"l\":10,\"r\":10,\"b\":10},\"width\":700,\"height\":300},                        {\"responsive\": true}                    ).then(function(){\n                            \nvar gd = document.getElementById('05dab93c-b124-4def-82eb-8c328b2b8ea4');\nvar x = new MutationObserver(function (mutations, observer) {{\n        var display = window.getComputedStyle(gd).display;\n        if (!display || display === 'none') {{\n            console.log([gd, 'removed!']);\n            Plotly.purge(gd);\n            observer.disconnect();\n        }}\n}});\n\n// Listen for the removal of the full notebook cells\nvar notebookContainer = gd.closest('#notebook-container');\nif (notebookContainer) {{\n    x.observe(notebookContainer, {childList: true});\n}}\n\n// Listen for the clearing of the current output cell\nvar outputEl = gd.closest('.output');\nif (outputEl) {{\n    x.observe(outputEl, {childList: true});\n}}\n\n                        })                };                });            </script>        </div>"
     },
     "metadata": {},
     "output_type": "display_data"
    }
   ],
   "source": [
    "create_country_dist_chart()"
   ],
   "metadata": {
    "collapsed": false
   }
  },
  {
   "cell_type": "code",
   "execution_count": null,
   "outputs": [],
   "source": [],
   "metadata": {
    "collapsed": false
   }
  }
 ],
 "metadata": {
  "kernelspec": {
   "display_name": "Python 3",
   "language": "python",
   "name": "python3"
  },
  "language_info": {
   "codemirror_mode": {
    "name": "ipython",
    "version": 2
   },
   "file_extension": ".py",
   "mimetype": "text/x-python",
   "name": "python",
   "nbconvert_exporter": "python",
   "pygments_lexer": "ipython2",
   "version": "2.7.6"
  }
 },
 "nbformat": 4,
 "nbformat_minor": 0
}
