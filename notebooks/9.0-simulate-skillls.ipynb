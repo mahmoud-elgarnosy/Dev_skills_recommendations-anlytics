{
 "cells": [
  {
   "cell_type": "code",
   "execution_count": 1,
   "outputs": [],
   "source": [
    "import sys\n",
    "import os\n",
    "\n",
    "SCRIPT_DIR = os.path.dirname(os.path.abspath('src'))\n",
    "sys.path.append(os.path.dirname(SCRIPT_DIR))\n"
   ],
   "metadata": {
    "collapsed": false
   }
  },
  {
   "cell_type": "code",
   "execution_count": 2,
   "outputs": [],
   "source": [
    "from src.utils import MlflowUtils\n",
    "import pandas as pd\n",
    "import simulate_utils as utils"
   ],
   "metadata": {
    "collapsed": false
   }
  },
  {
   "cell_type": "code",
   "execution_count": 2,
   "outputs": [],
   "source": [],
   "metadata": {
    "collapsed": false
   }
  },
  {
   "cell_type": "code",
   "execution_count": 3,
   "outputs": [],
   "source": [
    "LOAD_PATH = '../data/interim/'\n",
    "LOAD_SKILLS_DEV = '7.0-Chosen_features_and_roles.pkl'\n"
   ],
   "metadata": {
    "collapsed": false
   }
  },
  {
   "cell_type": "markdown",
   "source": [
    "# Load Data"
   ],
   "metadata": {
    "collapsed": false
   }
  },
  {
   "cell_type": "code",
   "execution_count": 4,
   "outputs": [],
   "source": [
    "skills_dev_df = pd.read_pickle(LOAD_PATH + LOAD_SKILLS_DEV)"
   ],
   "metadata": {
    "collapsed": false
   }
  },
  {
   "cell_type": "code",
   "execution_count": 5,
   "outputs": [
    {
     "data": {
      "text/plain": "                             run_id       experiment_id    status  \\\n0  2a572ea634b64d4e99ac358082c8906e  735982700926372623  FINISHED   \n1  b4928cc3e3bf4f21b8b9138310447d2c  735982700926372623  FINISHED   \n2  91321ce64e8646d7a8e28dac0a5d8deb  735982700926372623  FINISHED   \n\n                                        artifact_uri  \\\n0  file:///D:/protofolio_projects/Dev_skills_reco...   \n1  file:///D:/protofolio_projects/Dev_skills_reco...   \n2  file:///D:/protofolio_projects/Dev_skills_reco...   \n\n                        start_time                         end_time  \\\n0 2023-08-17 09:27:33.895000+00:00 2023-08-17 09:27:33.953000+00:00   \n1 2023-08-17 09:25:36.899000+00:00 2023-08-17 09:25:36.934000+00:00   \n2 2023-08-17 09:25:36.843000+00:00 2023-08-17 09:25:36.877000+00:00   \n\n   metrics.precision  metrics.accuracy  metrics.f1_score  metrics.recall  \\\n0           0.548453          0.901169          0.506840        0.507204   \n1           0.522859          0.894298          0.378904        0.324855   \n2           0.531665          0.897505          0.446315        0.404598   \n\n  tags.mlflow.source.type                           tags.mlflow.runName  \\\n0                   LOCAL                                     XGB_1.0.0   \n1                   LOCAL  Logistic-Regression_Clustered-Features_1.0.0   \n2                   LOCAL   Logistic-Regression_Original-Features_1.0.0   \n\n                             tags.mlflow.source.name tags.mlflow.user  \n0  C:\\Users\\mahmo\\anaconda3\\envs\\Rec-skills\\lib\\s...            mahmo  \n1  C:\\Users\\mahmo\\anaconda3\\envs\\Rec-skills\\lib\\s...            mahmo  \n2  C:\\Users\\mahmo\\anaconda3\\envs\\Rec-skills\\lib\\s...            mahmo  ",
      "text/html": "<div>\n<style scoped>\n    .dataframe tbody tr th:only-of-type {\n        vertical-align: middle;\n    }\n\n    .dataframe tbody tr th {\n        vertical-align: top;\n    }\n\n    .dataframe thead th {\n        text-align: right;\n    }\n</style>\n<table border=\"1\" class=\"dataframe\">\n  <thead>\n    <tr style=\"text-align: right;\">\n      <th></th>\n      <th>run_id</th>\n      <th>experiment_id</th>\n      <th>status</th>\n      <th>artifact_uri</th>\n      <th>start_time</th>\n      <th>end_time</th>\n      <th>metrics.precision</th>\n      <th>metrics.accuracy</th>\n      <th>metrics.f1_score</th>\n      <th>metrics.recall</th>\n      <th>tags.mlflow.source.type</th>\n      <th>tags.mlflow.runName</th>\n      <th>tags.mlflow.source.name</th>\n      <th>tags.mlflow.user</th>\n    </tr>\n  </thead>\n  <tbody>\n    <tr>\n      <th>0</th>\n      <td>2a572ea634b64d4e99ac358082c8906e</td>\n      <td>735982700926372623</td>\n      <td>FINISHED</td>\n      <td>file:///D:/protofolio_projects/Dev_skills_reco...</td>\n      <td>2023-08-17 09:27:33.895000+00:00</td>\n      <td>2023-08-17 09:27:33.953000+00:00</td>\n      <td>0.548453</td>\n      <td>0.901169</td>\n      <td>0.506840</td>\n      <td>0.507204</td>\n      <td>LOCAL</td>\n      <td>XGB_1.0.0</td>\n      <td>C:\\Users\\mahmo\\anaconda3\\envs\\Rec-skills\\lib\\s...</td>\n      <td>mahmo</td>\n    </tr>\n    <tr>\n      <th>1</th>\n      <td>b4928cc3e3bf4f21b8b9138310447d2c</td>\n      <td>735982700926372623</td>\n      <td>FINISHED</td>\n      <td>file:///D:/protofolio_projects/Dev_skills_reco...</td>\n      <td>2023-08-17 09:25:36.899000+00:00</td>\n      <td>2023-08-17 09:25:36.934000+00:00</td>\n      <td>0.522859</td>\n      <td>0.894298</td>\n      <td>0.378904</td>\n      <td>0.324855</td>\n      <td>LOCAL</td>\n      <td>Logistic-Regression_Clustered-Features_1.0.0</td>\n      <td>C:\\Users\\mahmo\\anaconda3\\envs\\Rec-skills\\lib\\s...</td>\n      <td>mahmo</td>\n    </tr>\n    <tr>\n      <th>2</th>\n      <td>91321ce64e8646d7a8e28dac0a5d8deb</td>\n      <td>735982700926372623</td>\n      <td>FINISHED</td>\n      <td>file:///D:/protofolio_projects/Dev_skills_reco...</td>\n      <td>2023-08-17 09:25:36.843000+00:00</td>\n      <td>2023-08-17 09:25:36.877000+00:00</td>\n      <td>0.531665</td>\n      <td>0.897505</td>\n      <td>0.446315</td>\n      <td>0.404598</td>\n      <td>LOCAL</td>\n      <td>Logistic-Regression_Original-Features_1.0.0</td>\n      <td>C:\\Users\\mahmo\\anaconda3\\envs\\Rec-skills\\lib\\s...</td>\n      <td>mahmo</td>\n    </tr>\n  </tbody>\n</table>\n</div>"
     },
     "execution_count": 5,
     "metadata": {},
     "output_type": "execute_result"
    }
   ],
   "source": [
    "MlflowUtils.get_runs()"
   ],
   "metadata": {
    "collapsed": false
   }
  },
  {
   "cell_type": "code",
   "execution_count": 6,
   "outputs": [
    {
     "data": {
      "text/plain": "['XGB_1.0.0',\n 'Logistic-Regression_Clustered-Features_1.0.0',\n 'Logistic-Regression_Original-Features_1.0.0']"
     },
     "execution_count": 6,
     "metadata": {},
     "output_type": "execute_result"
    }
   ],
   "source": [
    "MlflowUtils.get_run_names()"
   ],
   "metadata": {
    "collapsed": false
   }
  },
  {
   "cell_type": "code",
   "execution_count": 7,
   "outputs": [],
   "source": [
    "full_stack_skills = ['HTML/CSS', 'Angular']\n",
    "data_skills = []\n",
    "target_jop = 'Data scientist or machine learning specialist'"
   ],
   "metadata": {
    "collapsed": false
   }
  },
  {
   "cell_type": "code",
   "execution_count": 8,
   "outputs": [
    {
     "data": {
      "text/plain": "['Julia',\n 'Torch/PyTorch',\n 'Hugging Face Transformers',\n 'Scikit-learn',\n 'Keras',\n 'SAS',\n 'IPython/Jupyter',\n 'Apache Spark',\n 'NumPy',\n 'Hadoop',\n 'FastAPI',\n 'Clojure',\n 'Google Cloud',\n 'OCaml',\n 'TensorFlow',\n 'Pandas',\n 'R',\n 'Nano',\n 'Neo4j',\n 'Tidyverse']"
     },
     "execution_count": 8,
     "metadata": {},
     "output_type": "execute_result"
    }
   ],
   "source": [
    "recommended_skills = utils.get_recommended_skills(skills_dev_df, target_jop, data_skills, 20)\n",
    "recommended_skills"
   ],
   "metadata": {
    "collapsed": false
   }
  },
  {
   "cell_type": "code",
   "execution_count": 9,
   "outputs": [
    {
     "data": {
      "text/plain": "{'MiscTechs': ['Torch/PyTorch',\n  'Hugging Face Transformers',\n  'Scikit-learn',\n  'Keras',\n  'Apache Spark',\n  'NumPy',\n  'Hadoop',\n  'TensorFlow',\n  'Pandas',\n  'Tidyverse'],\n 'Webframes': ['FastAPI'],\n 'Platforms': ['Google Cloud'],\n 'Databases': ['Neo4j'],\n 'ToolsTechs': [],\n 'NEWCollabToolss': ['IPython/Jupyter', 'Nano'],\n 'Languages': ['Julia', 'SAS', 'Clojure', 'OCaml', 'R']}"
     },
     "execution_count": 9,
     "metadata": {},
     "output_type": "execute_result"
    }
   ],
   "source": [
    "utils.get_recommended_categories(skills_dev_df, target_jop, data_skills, 20)"
   ],
   "metadata": {
    "collapsed": false
   }
  },
  {
   "cell_type": "code",
   "execution_count": null,
   "outputs": [],
   "source": [],
   "metadata": {
    "collapsed": false
   }
  }
 ],
 "metadata": {
  "kernelspec": {
   "name": "recommendation_skills",
   "language": "python",
   "display_name": "recommendation_skills"
  },
  "language_info": {
   "codemirror_mode": {
    "name": "ipython",
    "version": 2
   },
   "file_extension": ".py",
   "mimetype": "text/x-python",
   "name": "python",
   "nbconvert_exporter": "python",
   "pygments_lexer": "ipython2",
   "version": "2.7.6"
  }
 },
 "nbformat": 4,
 "nbformat_minor": 0
}
