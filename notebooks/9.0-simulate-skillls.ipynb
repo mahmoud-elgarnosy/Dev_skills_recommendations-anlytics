{
 "cells": [
  {
   "cell_type": "code",
   "execution_count": 1,
   "outputs": [],
   "source": [
    "import sys\n",
    "import os\n",
    "\n",
    "SCRIPT_DIR = os.path.dirname(os.path.abspath('src'))\n",
    "sys.path.append(os.path.dirname(SCRIPT_DIR))\n"
   ],
   "metadata": {
    "collapsed": false
   }
  },
  {
   "cell_type": "code",
   "execution_count": 2,
   "outputs": [],
   "source": [
    "from src.utils import MlflowUtils\n",
    "import pandas as pd\n",
    "import simulate_utils as utils"
   ],
   "metadata": {
    "collapsed": false
   }
  },
  {
   "cell_type": "code",
   "execution_count": 2,
   "outputs": [],
   "source": [],
   "metadata": {
    "collapsed": false
   }
  },
  {
   "cell_type": "code",
   "execution_count": 3,
   "outputs": [],
   "source": [
    "LOAD_PATH = '../data/interim/'\n",
    "LOAD_SKILLS_DEV = '7.0-Chosen_features_and_roles.pkl'\n"
   ],
   "metadata": {
    "collapsed": false
   }
  },
  {
   "cell_type": "markdown",
   "source": [
    "# Load Data"
   ],
   "metadata": {
    "collapsed": false
   }
  },
  {
   "cell_type": "code",
   "execution_count": 4,
   "outputs": [],
   "source": [
    "skills_dev_df = pd.read_pickle(LOAD_PATH + LOAD_SKILLS_DEV)"
   ],
   "metadata": {
    "collapsed": false
   }
  },
  {
   "cell_type": "code",
   "execution_count": 5,
   "outputs": [
    {
     "data": {
      "text/plain": "                             run_id       experiment_id    status  \\\n0  36ae3937872d42d0b9896356ed7020d8  907184637109318169  FINISHED   \n1  f6cf7dfa383f4a89811010639556c9d7  907184637109318169  FINISHED   \n2  f0c59d4307f649b1a93cd2fb922448a4  907184637109318169  FINISHED   \n\n                                        artifact_uri  \\\n0  file:///E:/M_Hassan/AI_Work/StackOverflow_skil...   \n1  file:///E:/M_Hassan/AI_Work/StackOverflow_skil...   \n2  file:///E:/M_Hassan/AI_Work/StackOverflow_skil...   \n\n                        start_time                         end_time  \\\n0 2023-08-08 13:25:51.528000+00:00 2023-08-08 13:25:51.563000+00:00   \n1 2023-08-08 13:22:48.741000+00:00 2023-08-08 13:22:48.772000+00:00   \n2 2023-08-08 13:22:48.672000+00:00 2023-08-08 13:22:48.710000+00:00   \n\n   metrics.precision  metrics.accuracy  metrics.recall  metrics.f1_score  \\\n0           0.555285          0.902808        0.509404          0.510416   \n1           0.507593          0.893628        0.326518          0.376317   \n2           0.535965          0.898233        0.409184          0.450255   \n\n  tags.mlflow.user                            tags.mlflow.source.name  \\\n0          mhassan  C:\\Users\\salshahed\\AppData\\Roaming\\Python\\Pyth...   \n1          mhassan  C:\\Users\\salshahed\\AppData\\Roaming\\Python\\Pyth...   \n2          mhassan  C:\\Users\\salshahed\\AppData\\Roaming\\Python\\Pyth...   \n\n  tags.mlflow.source.type                    tags.mlflow.runName  \n0                   LOCAL                  3.basic_XGBoost_Model  \n1                   LOCAL  2.basic_model_with_clustered_features  \n2                   LOCAL   1.basic_model_with_original_features  ",
      "text/html": "<div>\n<style scoped>\n    .dataframe tbody tr th:only-of-type {\n        vertical-align: middle;\n    }\n\n    .dataframe tbody tr th {\n        vertical-align: top;\n    }\n\n    .dataframe thead th {\n        text-align: right;\n    }\n</style>\n<table border=\"1\" class=\"dataframe\">\n  <thead>\n    <tr style=\"text-align: right;\">\n      <th></th>\n      <th>run_id</th>\n      <th>experiment_id</th>\n      <th>status</th>\n      <th>artifact_uri</th>\n      <th>start_time</th>\n      <th>end_time</th>\n      <th>metrics.precision</th>\n      <th>metrics.accuracy</th>\n      <th>metrics.recall</th>\n      <th>metrics.f1_score</th>\n      <th>tags.mlflow.user</th>\n      <th>tags.mlflow.source.name</th>\n      <th>tags.mlflow.source.type</th>\n      <th>tags.mlflow.runName</th>\n    </tr>\n  </thead>\n  <tbody>\n    <tr>\n      <th>0</th>\n      <td>36ae3937872d42d0b9896356ed7020d8</td>\n      <td>907184637109318169</td>\n      <td>FINISHED</td>\n      <td>file:///E:/M_Hassan/AI_Work/StackOverflow_skil...</td>\n      <td>2023-08-08 13:25:51.528000+00:00</td>\n      <td>2023-08-08 13:25:51.563000+00:00</td>\n      <td>0.555285</td>\n      <td>0.902808</td>\n      <td>0.509404</td>\n      <td>0.510416</td>\n      <td>mhassan</td>\n      <td>C:\\Users\\salshahed\\AppData\\Roaming\\Python\\Pyth...</td>\n      <td>LOCAL</td>\n      <td>3.basic_XGBoost_Model</td>\n    </tr>\n    <tr>\n      <th>1</th>\n      <td>f6cf7dfa383f4a89811010639556c9d7</td>\n      <td>907184637109318169</td>\n      <td>FINISHED</td>\n      <td>file:///E:/M_Hassan/AI_Work/StackOverflow_skil...</td>\n      <td>2023-08-08 13:22:48.741000+00:00</td>\n      <td>2023-08-08 13:22:48.772000+00:00</td>\n      <td>0.507593</td>\n      <td>0.893628</td>\n      <td>0.326518</td>\n      <td>0.376317</td>\n      <td>mhassan</td>\n      <td>C:\\Users\\salshahed\\AppData\\Roaming\\Python\\Pyth...</td>\n      <td>LOCAL</td>\n      <td>2.basic_model_with_clustered_features</td>\n    </tr>\n    <tr>\n      <th>2</th>\n      <td>f0c59d4307f649b1a93cd2fb922448a4</td>\n      <td>907184637109318169</td>\n      <td>FINISHED</td>\n      <td>file:///E:/M_Hassan/AI_Work/StackOverflow_skil...</td>\n      <td>2023-08-08 13:22:48.672000+00:00</td>\n      <td>2023-08-08 13:22:48.710000+00:00</td>\n      <td>0.535965</td>\n      <td>0.898233</td>\n      <td>0.409184</td>\n      <td>0.450255</td>\n      <td>mhassan</td>\n      <td>C:\\Users\\salshahed\\AppData\\Roaming\\Python\\Pyth...</td>\n      <td>LOCAL</td>\n      <td>1.basic_model_with_original_features</td>\n    </tr>\n  </tbody>\n</table>\n</div>"
     },
     "execution_count": 5,
     "metadata": {},
     "output_type": "execute_result"
    }
   ],
   "source": [
    "MlflowUtils.get_runs()"
   ],
   "metadata": {
    "collapsed": false
   }
  },
  {
   "cell_type": "code",
   "execution_count": 6,
   "outputs": [
    {
     "data": {
      "text/plain": "['3.basic_XGBoost_Model',\n '2.basic_model_with_clustered_features',\n '1.basic_model_with_original_features']"
     },
     "execution_count": 6,
     "metadata": {},
     "output_type": "execute_result"
    }
   ],
   "source": [
    "MlflowUtils.get_run_names()"
   ],
   "metadata": {
    "collapsed": false
   }
  },
  {
   "cell_type": "code",
   "execution_count": 33,
   "outputs": [],
   "source": [
    "full_stack_skills = ['HTML/CSS', 'Angular']\n",
    "data_skills = []\n",
    "target_jop = 'full_stack_python'"
   ],
   "metadata": {
    "collapsed": false
   }
  },
  {
   "cell_type": "code",
   "execution_count": 34,
   "outputs": [
    {
     "data": {
      "text/plain": "['PyCharm',\n 'Flask',\n 'Django',\n 'React.js',\n 'JavaScript',\n 'HTML/CSS',\n 'npm',\n 'Laravel',\n 'Fastify',\n 'Dart',\n 'CouchDB',\n 'Redis',\n 'NumPy',\n 'Phoenix',\n 'Next.js',\n 'PostgreSQL',\n 'Managed Hosting',\n 'Spring',\n 'Ruby on Rails',\n 'Pandas']"
     },
     "execution_count": 34,
     "metadata": {},
     "output_type": "execute_result"
    }
   ],
   "source": [
    "recommended_skills = utils.get_recommended_skills(skills_dev_df, target_jop, data_skills, 20)\n",
    "recommended_skills"
   ],
   "metadata": {
    "collapsed": false
   }
  },
  {
   "cell_type": "code",
   "execution_count": 35,
   "outputs": [
    {
     "data": {
      "text/plain": "{'Languages': ['JavaScript', 'HTML/CSS', 'Dart'],\n 'MiscTechs': [],\n 'ToolsTechs': ['npm'],\n 'NEWCollabToolss': ['PyCharm'],\n 'Databases': [],\n 'Webframes': ['Flask', 'Django', 'React.js', 'Laravel', 'Fastify'],\n 'Platforms': []}"
     },
     "execution_count": 35,
     "metadata": {},
     "output_type": "execute_result"
    }
   ],
   "source": [
    "utils.get_recommended_categories(skills_dev_df, target_jop, data_skills, 10)"
   ],
   "metadata": {
    "collapsed": false
   }
  },
  {
   "cell_type": "code",
   "execution_count": null,
   "outputs": [],
   "source": [],
   "metadata": {
    "collapsed": false
   }
  }
 ],
 "metadata": {
  "kernelspec": {
   "name": "smart_health3",
   "language": "python",
   "display_name": "smart_health3"
  },
  "language_info": {
   "codemirror_mode": {
    "name": "ipython",
    "version": 2
   },
   "file_extension": ".py",
   "mimetype": "text/x-python",
   "name": "python",
   "nbconvert_exporter": "python",
   "pygments_lexer": "ipython2",
   "version": "2.7.6"
  }
 },
 "nbformat": 4,
 "nbformat_minor": 0
}
