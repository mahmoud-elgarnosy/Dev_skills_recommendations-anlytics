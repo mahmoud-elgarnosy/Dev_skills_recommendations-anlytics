{
 "cells": [
  {
   "cell_type": "code",
   "execution_count": 1,
   "outputs": [],
   "source": [
    "import pandas as pd"
   ],
   "metadata": {
    "collapsed": false
   }
  },
  {
   "cell_type": "code",
   "execution_count": 2,
   "outputs": [],
   "source": [
    "FILE_PATH = '../data/raw/survey_results_public.csv'\n",
    "LOAD_PATH = '../data/interim/'\n",
    "LOAD_DF_NAME = '2.0-wrangled-data.pkl'\n",
    "SAVE_DF_NAME = '3.0-cleaned-data.pkl'"
   ],
   "metadata": {
    "collapsed": false
   }
  },
  {
   "cell_type": "markdown",
   "source": [
    "# Load Data"
   ],
   "metadata": {
    "collapsed": false
   }
  },
  {
   "cell_type": "code",
   "execution_count": 3,
   "outputs": [],
   "source": [
    "survey = pd.read_pickle(LOAD_PATH + LOAD_DF_NAME)"
   ],
   "metadata": {
    "collapsed": false
   }
  },
  {
   "cell_type": "code",
   "execution_count": 4,
   "outputs": [
    {
     "name": "stdout",
     "output_type": "stream",
     "text": [
      "<class 'pandas.core.frame.DataFrame'>\n",
      "RangeIndex: 73268 entries, 0 to 73267\n",
      "Data columns (total 29 columns):\n",
      " #   Column                        Non-Null Count  Dtype  \n",
      "---  ------                        --------------  -----  \n",
      " 0   MainBranch                    73268 non-null  object \n",
      " 1   Employment                    73268 non-null  object \n",
      " 2   RemoteWork                    58958 non-null  object \n",
      " 3   EdLevel                       71571 non-null  object \n",
      " 4   YearsCode                     71331 non-null  object \n",
      " 5   YearsCodePro                  51833 non-null  object \n",
      " 6   DevType                       73268 non-null  object \n",
      " 7   OrgSize                       51039 non-null  object \n",
      " 8   Country                       71771 non-null  object \n",
      " 9   CompTotal                     38422 non-null  float64\n",
      " 10  CompFreq                      44425 non-null  object \n",
      " 11  LanguageHaveWorkedWith        73268 non-null  object \n",
      " 12  LanguageWantToWorkWith        73268 non-null  object \n",
      " 13  DatabaseHaveWorkedWith        73268 non-null  object \n",
      " 14  DatabaseWantToWorkWith        73268 non-null  object \n",
      " 15  PlatformHaveWorkedWith        73268 non-null  object \n",
      " 16  PlatformWantToWorkWith        73268 non-null  object \n",
      " 17  WebframeHaveWorkedWith        73268 non-null  object \n",
      " 18  WebframeWantToWorkWith        73268 non-null  object \n",
      " 19  MiscTechHaveWorkedWith        73268 non-null  object \n",
      " 20  MiscTechWantToWorkWith        73268 non-null  object \n",
      " 21  ToolsTechHaveWorkedWith       73268 non-null  object \n",
      " 22  ToolsTechWantToWorkWith       73268 non-null  object \n",
      " 23  NEWCollabToolsHaveWorkedWith  73268 non-null  object \n",
      " 24  NEWCollabToolsWantToWorkWith  73268 non-null  object \n",
      " 25  OpSysProfessional use         73268 non-null  object \n",
      " 26  VersionControlSystem          73268 non-null  object \n",
      " 27  Age                           70946 non-null  object \n",
      " 28  Gender                        73268 non-null  object \n",
      "dtypes: float64(1), object(28)\n",
      "memory usage: 16.2+ MB\n"
     ]
    }
   ],
   "source": [
    "survey.info()"
   ],
   "metadata": {
    "collapsed": false
   }
  },
  {
   "cell_type": "markdown",
   "source": [
    "# Clean data\n",
    "From info dataframe, our data is full of nulls and redundant data that we need to handle"
   ],
   "metadata": {
    "collapsed": false
   }
  },
  {
   "cell_type": "code",
   "execution_count": 5,
   "outputs": [],
   "source": [
    "splited_columns = (survey.applymap(type) == list).any()\n",
    "splited_columns = splited_columns[splited_columns].index"
   ],
   "metadata": {
    "collapsed": false
   }
  },
  {
   "cell_type": "code",
   "execution_count": 6,
   "outputs": [],
   "source": [
    "def indexing_nulls(column_name, splitted = True):\n",
    "    if splitted:\n",
    "        return survey[survey[column_name].apply(lambda x : not x)].index\n",
    "    else:\n",
    "        return survey[survey[column_name].isna()].index\n"
   ],
   "metadata": {
    "collapsed": false
   }
  },
  {
   "cell_type": "markdown",
   "source": [],
   "metadata": {
    "collapsed": false
   }
  },
  {
   "cell_type": "markdown",
   "source": [
    "## 1. Remove [DevType, LanguageHaveWorkedWith, YearsCode] nulls\n",
    "First we need to delete any row that doesn't have any DevType or LanguageHaveWorkedWith or YearsCode, because that it's our target column and also we can't make sure of the info of his survey"
   ],
   "metadata": {
    "collapsed": false
   }
  },
  {
   "cell_type": "code",
   "execution_count": 7,
   "outputs": [],
   "source": [
    "imp_columns = ['DevType', 'LanguageHaveWorkedWith', 'YearsCode']\n",
    "for column in imp_columns:\n",
    "    non_index = indexing_nulls(column, splitted= column in splited_columns)\n",
    "    survey.drop(non_index, inplace = True)"
   ],
   "metadata": {
    "collapsed": false
   }
  },
  {
   "cell_type": "code",
   "execution_count": 7,
   "outputs": [],
   "source": [],
   "metadata": {
    "collapsed": false
   }
  },
  {
   "cell_type": "code",
   "execution_count": 7,
   "outputs": [],
   "source": [],
   "metadata": {
    "collapsed": false
   }
  },
  {
   "cell_type": "markdown",
   "source": [
    "### Counting nulls after this step"
   ],
   "metadata": {
    "collapsed": false
   }
  },
  {
   "cell_type": "code",
   "execution_count": 8,
   "outputs": [
    {
     "name": "stdout",
     "output_type": "stream",
     "text": [
      "MainBranch 0\n",
      "Employment : 0\n",
      "RemoteWork 2482\n",
      "EdLevel 51\n",
      "YearsCode 0\n",
      "YearsCodePro 9510\n",
      "DevType : 0\n",
      "OrgSize 10262\n",
      "Country 0\n",
      "CompTotal 22470\n",
      "CompFreq 16638\n",
      "LanguageHaveWorkedWith : 0\n",
      "LanguageWantToWorkWith : 3352\n",
      "DatabaseHaveWorkedWith : 7837\n",
      "DatabaseWantToWorkWith : 15413\n",
      "PlatformHaveWorkedWith : 16053\n",
      "PlatformWantToWorkWith : 24155\n",
      "WebframeHaveWorkedWith : 13921\n",
      "WebframeWantToWorkWith : 20132\n",
      "MiscTechHaveWorkedWith : 21870\n",
      "MiscTechWantToWorkWith : 28713\n",
      "ToolsTechHaveWorkedWith : 13227\n",
      "ToolsTechWantToWorkWith : 19583\n",
      "NEWCollabToolsHaveWorkedWith : 658\n",
      "NEWCollabToolsWantToWorkWith : 5814\n",
      "OpSysProfessional use : 2947\n",
      "VersionControlSystem : 152\n",
      "Age 457\n",
      "Gender : 585\n"
     ]
    }
   ],
   "source": [
    "for column in survey.columns:\n",
    "    if column in splited_columns:\n",
    "        print(column, ':', len(indexing_nulls(column)))\n",
    "    else:\n",
    "        print(column, survey[column].isna().sum())"
   ],
   "metadata": {
    "collapsed": false
   }
  },
  {
   "cell_type": "markdown",
   "source": [],
   "metadata": {
    "collapsed": false
   }
  },
  {
   "cell_type": "markdown",
   "source": [
    "# 2. replace nuns values in YearsCodePro to be zero"
   ],
   "metadata": {
    "collapsed": false
   }
  },
  {
   "cell_type": "code",
   "execution_count": 9,
   "outputs": [],
   "source": [
    "survey['YearsCodePro'] = survey['YearsCodePro'].fillna('0')"
   ],
   "metadata": {
    "collapsed": false
   }
  },
  {
   "cell_type": "markdown",
   "source": [
    "# 3. Convert [YearsCode, YearsCodePro] to be int64"
   ],
   "metadata": {
    "collapsed": false
   }
  },
  {
   "cell_type": "code",
   "execution_count": 10,
   "outputs": [],
   "source": [
    "replace_dict = {'Less than 1 year' : 1, 'More than 50 years' : 51 }\n",
    "replace_column = ['YearsCodePro', 'YearsCode']\n",
    "\n",
    "for column in replace_column:\n",
    "    survey[column] = survey[column].replace(replace_dict).astype('int64')"
   ],
   "metadata": {
    "collapsed": false
   }
  },
  {
   "cell_type": "code",
   "execution_count": 10,
   "outputs": [],
   "source": [],
   "metadata": {
    "collapsed": false
   }
  },
  {
   "cell_type": "markdown",
   "source": [
    "# 4. Remove raws that have YearCode equal to zero"
   ],
   "metadata": {
    "collapsed": false
   }
  },
  {
   "cell_type": "code",
   "execution_count": 11,
   "outputs": [],
   "source": [
    "zero_code_index = survey[survey['YearsCode']==0].index\n",
    "survey.drop(zero_code_index, inplace = True)"
   ],
   "metadata": {
    "collapsed": false
   }
  },
  {
   "cell_type": "code",
   "execution_count": 12,
   "outputs": [
    {
     "data": {
      "text/plain": "                                              MainBranch  \\\n2      I am not primarily a developer, but I write co...   \n3                         I am a developer by profession   \n4                         I am a developer by profession   \n7                         I am a developer by profession   \n9                         I am a developer by profession   \n...                                                  ...   \n73263                     I am a developer by profession   \n73264                     I am a developer by profession   \n73265  I am not primarily a developer, but I write co...   \n73266                     I am a developer by profession   \n73267  I used to be a developer by profession, but no...   \n\n                                              Employment  \\\n2                                   [Employed_full-time]   \n3                                   [Employed_full-time]   \n4                                   [Employed_full-time]   \n7                    [Not employed_but looking for work]   \n9      [Independent contractor_freelancer_or self-emp...   \n...                                                  ...   \n73263                               [Employed_full-time]   \n73264                               [Employed_full-time]   \n73265                               [Employed_full-time]   \n73266                               [Employed_full-time]   \n73267  [Independent contractor_freelancer_or self-emp...   \n\n                                 RemoteWork  \\\n2      Hybrid (some remote, some in-person)   \n3                              Fully remote   \n4      Hybrid (some remote, some in-person)   \n7                                       NaN   \n9                              Fully remote   \n...                                     ...   \n73263                          Fully remote   \n73264                        Full in-person   \n73265  Hybrid (some remote, some in-person)   \n73266  Hybrid (some remote, some in-person)   \n73267                          Fully remote   \n\n                                                 EdLevel  YearsCode  \\\n2        Master’s degree (M.A., M.S., M.Eng., MBA, etc.)         14   \n3           Bachelor’s degree (B.A., B.S., B.Eng., etc.)         20   \n4           Bachelor’s degree (B.A., B.S., B.Eng., etc.)          8   \n7      Some college/university study without earning ...          1   \n9      Some college/university study without earning ...         37   \n...                                                  ...        ...   \n73263       Bachelor’s degree (B.A., B.S., B.Eng., etc.)          8   \n73264    Master’s degree (M.A., M.S., M.Eng., MBA, etc.)          6   \n73265       Bachelor’s degree (B.A., B.S., B.Eng., etc.)         42   \n73266       Bachelor’s degree (B.A., B.S., B.Eng., etc.)         50   \n73267       Bachelor’s degree (B.A., B.S., B.Eng., etc.)         16   \n\n       YearsCodePro                                            DevType  \\\n2                 5  [Data scientist or machine learning specialist...   \n3                17                             [Developer_full-stack]   \n4                 3  [Developer_front-end, Developer_full-stack, De...   \n7                 0                    [Developer_full-stack, Student]   \n9                30  [Developer_desktop or enterprise applications,...   \n...             ...                                                ...   \n73263             5                               [Developer_back-end]   \n73264             5    [Data scientist or machine learning specialist]   \n73265            33  [Developer_full-stack, Developer_desktop or en...   \n73266            31  [Developer_front-end, Developer_desktop or ent...   \n73267             5  [Developer_front-end, Engineer_data, Engineer_...   \n\n                                                 OrgSize  \\\n2                                     20 to 99 employees   \n3                                   100 to 499 employees   \n4                                     20 to 99 employees   \n7                                                    NaN   \n9      Just me - I am a freelancer, sole proprietor, ...   \n...                                                  ...   \n73263                               100 to 499 employees   \n73264                                       I don’t know   \n73265                                 20 to 99 employees   \n73266                                 10 to 19 employees   \n73267                                                NaN   \n\n                                                 Country  CompTotal  ...  \\\n2      United Kingdom of Great Britain and Northern I...    32000.0  ...   \n3                                                 Israel    60000.0  ...   \n4                               United States of America        NaN  ...   \n7                                                  India        NaN  ...   \n9                                                Croatia        NaN  ...   \n...                                                  ...        ...  ...   \n73263                                            Nigeria    60000.0  ...   \n73264                           United States of America   107000.0  ...   \n73265                           United States of America        NaN  ...   \n73266  United Kingdom of Great Britain and Northern I...    58500.0  ...   \n73267                                             Canada        NaN  ...   \n\n                                  MiscTechHaveWorkedWith  \\\n2                                               [Pandas]   \n3                                                 [.NET]   \n4                                                 [.NET]   \n7                                                     []   \n9                                                     []   \n...                                                  ...   \n73263                                          [Flutter]   \n73264  [Keras, NumPy, Pandas, Scikit-learn, TensorFlo...   \n73265                       [.NET, Pandas, React Native]   \n73266                                                 []   \n73267                       [Apache Kafka, Apache Spark]   \n\n                                  MiscTechWantToWorkWith  \\\n2                                                 [.NET]   \n3                                                 [.NET]   \n4                                   [.NET, Apache Kafka]   \n7                                                     []   \n9                                                     []   \n...                                                  ...   \n73263                                                 []   \n73264  [NumPy, Pandas, Torch/PyTorch, Hugging Face Tr...   \n73265  [.NET, Cordova, Ionic, Pandas, React Native, X...   \n73266                                                 []   \n73267                                                 []   \n\n                            ToolsTechHaveWorkedWith  \\\n2                                                []   \n3                                                []   \n4                                             [npm]   \n7                                             [npm]   \n9                                                []   \n...                                             ...   \n73263           [Docker, Homebrew, Kubernetes, npm]   \n73264                                            []   \n73265                                         [npm]   \n73266                                            []   \n73267  [Docker, Kubernetes, npm, Pulumi, Terraform]   \n\n                            ToolsTechWantToWorkWith  \\\n2                                                []   \n3                                                []   \n4                              [Docker, Kubernetes]   \n7                                  [Unity 3D, Yarn]   \n9                                                []   \n...                                             ...   \n73263           [Docker, Homebrew, Kubernetes, npm]   \n73264                                            []   \n73265                          [npm, Unreal Engine]   \n73266                                            []   \n73267  [Docker, Kubernetes, npm, Pulumi, Terraform]   \n\n                            NEWCollabToolsHaveWorkedWith  \\\n2                             [Notepad++, Visual Studio]   \n3         [Notepad++, Visual Studio, Visual Studio Code]   \n4      [Notepad++, Visual Studio, Visual Studio Code,...   \n7      [Atom, CLion, Eclipse, IntelliJ, Notepad++, Vi...   \n9      [Android Studio, RAD Studio (Delphi_C++ Builde...   \n...                                                  ...   \n73263  [IPython/Jupyter, Sublime Text, Vim, Visual St...   \n73264  [IPython/Jupyter, Notepad++, Spyder, Vim, Visu...   \n73265        [Spyder, Visual Studio, Visual Studio Code]   \n73266   [RAD Studio (Delphi_C++ Builder), Visual Studio]   \n73267                [Visual Studio, Visual Studio Code]   \n\n                            NEWCollabToolsWantToWorkWith  \\\n2                             [Notepad++, Visual Studio]   \n3         [Notepad++, Visual Studio, Visual Studio Code]   \n4             [Rider, Visual Studio, Visual Studio Code]   \n7      [Android Studio, IPython/Jupyter, Sublime Text...   \n9      [Android Studio, RAD Studio (Delphi_C++ Builde...   \n...                                                  ...   \n73263            [Sublime Text, Vim, Visual Studio Code]   \n73264       [Notepad++, Spyder, Vim, Visual Studio Code]   \n73265        [Spyder, Visual Studio, Visual Studio Code]   \n73266   [RAD Studio (Delphi_C++ Builder), Visual Studio]   \n73267                       [Neovim, Visual Studio Code]   \n\n        OpSysProfessional use            VersionControlSystem  \\\n2                   [Windows]                           [Git]   \n3                   [Windows]                           [Git]   \n4                   [Windows]  [Git, Other (please specify):]   \n7        [Linux-based, macOS]                           [Git]   \n9                   [Windows]                           [Git]   \n...                       ...                             ...   \n73263                 [macOS]                           [Git]   \n73264  [Linux-based, Windows]                           [Git]   \n73265               [Windows]                           [Git]   \n73266               [Windows]                           [SVN]   \n73267  [Linux-based, Windows]                           [Git]   \n\n                   Age   Gender  \n2      25-34 years old    [Man]  \n3      35-44 years old    [Man]  \n4      25-34 years old       []  \n7      18-24 years old    [Man]  \n9      45-54 years old  [Woman]  \n...                ...      ...  \n73263  25-34 years old    [Man]  \n73264  25-34 years old    [Man]  \n73265  55-64 years old    [Man]  \n73266  55-64 years old    [Man]  \n73267  25-34 years old    [Man]  \n\n[60613 rows x 29 columns]",
      "text/html": "<div>\n<style scoped>\n    .dataframe tbody tr th:only-of-type {\n        vertical-align: middle;\n    }\n\n    .dataframe tbody tr th {\n        vertical-align: top;\n    }\n\n    .dataframe thead th {\n        text-align: right;\n    }\n</style>\n<table border=\"1\" class=\"dataframe\">\n  <thead>\n    <tr style=\"text-align: right;\">\n      <th></th>\n      <th>MainBranch</th>\n      <th>Employment</th>\n      <th>RemoteWork</th>\n      <th>EdLevel</th>\n      <th>YearsCode</th>\n      <th>YearsCodePro</th>\n      <th>DevType</th>\n      <th>OrgSize</th>\n      <th>Country</th>\n      <th>CompTotal</th>\n      <th>...</th>\n      <th>MiscTechHaveWorkedWith</th>\n      <th>MiscTechWantToWorkWith</th>\n      <th>ToolsTechHaveWorkedWith</th>\n      <th>ToolsTechWantToWorkWith</th>\n      <th>NEWCollabToolsHaveWorkedWith</th>\n      <th>NEWCollabToolsWantToWorkWith</th>\n      <th>OpSysProfessional use</th>\n      <th>VersionControlSystem</th>\n      <th>Age</th>\n      <th>Gender</th>\n    </tr>\n  </thead>\n  <tbody>\n    <tr>\n      <th>2</th>\n      <td>I am not primarily a developer, but I write co...</td>\n      <td>[Employed_full-time]</td>\n      <td>Hybrid (some remote, some in-person)</td>\n      <td>Master’s degree (M.A., M.S., M.Eng., MBA, etc.)</td>\n      <td>14</td>\n      <td>5</td>\n      <td>[Data scientist or machine learning specialist...</td>\n      <td>20 to 99 employees</td>\n      <td>United Kingdom of Great Britain and Northern I...</td>\n      <td>32000.0</td>\n      <td>...</td>\n      <td>[Pandas]</td>\n      <td>[.NET]</td>\n      <td>[]</td>\n      <td>[]</td>\n      <td>[Notepad++, Visual Studio]</td>\n      <td>[Notepad++, Visual Studio]</td>\n      <td>[Windows]</td>\n      <td>[Git]</td>\n      <td>25-34 years old</td>\n      <td>[Man]</td>\n    </tr>\n    <tr>\n      <th>3</th>\n      <td>I am a developer by profession</td>\n      <td>[Employed_full-time]</td>\n      <td>Fully remote</td>\n      <td>Bachelor’s degree (B.A., B.S., B.Eng., etc.)</td>\n      <td>20</td>\n      <td>17</td>\n      <td>[Developer_full-stack]</td>\n      <td>100 to 499 employees</td>\n      <td>Israel</td>\n      <td>60000.0</td>\n      <td>...</td>\n      <td>[.NET]</td>\n      <td>[.NET]</td>\n      <td>[]</td>\n      <td>[]</td>\n      <td>[Notepad++, Visual Studio, Visual Studio Code]</td>\n      <td>[Notepad++, Visual Studio, Visual Studio Code]</td>\n      <td>[Windows]</td>\n      <td>[Git]</td>\n      <td>35-44 years old</td>\n      <td>[Man]</td>\n    </tr>\n    <tr>\n      <th>4</th>\n      <td>I am a developer by profession</td>\n      <td>[Employed_full-time]</td>\n      <td>Hybrid (some remote, some in-person)</td>\n      <td>Bachelor’s degree (B.A., B.S., B.Eng., etc.)</td>\n      <td>8</td>\n      <td>3</td>\n      <td>[Developer_front-end, Developer_full-stack, De...</td>\n      <td>20 to 99 employees</td>\n      <td>United States of America</td>\n      <td>NaN</td>\n      <td>...</td>\n      <td>[.NET]</td>\n      <td>[.NET, Apache Kafka]</td>\n      <td>[npm]</td>\n      <td>[Docker, Kubernetes]</td>\n      <td>[Notepad++, Visual Studio, Visual Studio Code,...</td>\n      <td>[Rider, Visual Studio, Visual Studio Code]</td>\n      <td>[Windows]</td>\n      <td>[Git, Other (please specify):]</td>\n      <td>25-34 years old</td>\n      <td>[]</td>\n    </tr>\n    <tr>\n      <th>7</th>\n      <td>I am a developer by profession</td>\n      <td>[Not employed_but looking for work]</td>\n      <td>NaN</td>\n      <td>Some college/university study without earning ...</td>\n      <td>1</td>\n      <td>0</td>\n      <td>[Developer_full-stack, Student]</td>\n      <td>NaN</td>\n      <td>India</td>\n      <td>NaN</td>\n      <td>...</td>\n      <td>[]</td>\n      <td>[]</td>\n      <td>[npm]</td>\n      <td>[Unity 3D, Yarn]</td>\n      <td>[Atom, CLion, Eclipse, IntelliJ, Notepad++, Vi...</td>\n      <td>[Android Studio, IPython/Jupyter, Sublime Text...</td>\n      <td>[Linux-based, macOS]</td>\n      <td>[Git]</td>\n      <td>18-24 years old</td>\n      <td>[Man]</td>\n    </tr>\n    <tr>\n      <th>9</th>\n      <td>I am a developer by profession</td>\n      <td>[Independent contractor_freelancer_or self-emp...</td>\n      <td>Fully remote</td>\n      <td>Some college/university study without earning ...</td>\n      <td>37</td>\n      <td>30</td>\n      <td>[Developer_desktop or enterprise applications,...</td>\n      <td>Just me - I am a freelancer, sole proprietor, ...</td>\n      <td>Croatia</td>\n      <td>NaN</td>\n      <td>...</td>\n      <td>[]</td>\n      <td>[]</td>\n      <td>[]</td>\n      <td>[]</td>\n      <td>[Android Studio, RAD Studio (Delphi_C++ Builde...</td>\n      <td>[Android Studio, RAD Studio (Delphi_C++ Builde...</td>\n      <td>[Windows]</td>\n      <td>[Git]</td>\n      <td>45-54 years old</td>\n      <td>[Woman]</td>\n    </tr>\n    <tr>\n      <th>...</th>\n      <td>...</td>\n      <td>...</td>\n      <td>...</td>\n      <td>...</td>\n      <td>...</td>\n      <td>...</td>\n      <td>...</td>\n      <td>...</td>\n      <td>...</td>\n      <td>...</td>\n      <td>...</td>\n      <td>...</td>\n      <td>...</td>\n      <td>...</td>\n      <td>...</td>\n      <td>...</td>\n      <td>...</td>\n      <td>...</td>\n      <td>...</td>\n      <td>...</td>\n      <td>...</td>\n    </tr>\n    <tr>\n      <th>73263</th>\n      <td>I am a developer by profession</td>\n      <td>[Employed_full-time]</td>\n      <td>Fully remote</td>\n      <td>Bachelor’s degree (B.A., B.S., B.Eng., etc.)</td>\n      <td>8</td>\n      <td>5</td>\n      <td>[Developer_back-end]</td>\n      <td>100 to 499 employees</td>\n      <td>Nigeria</td>\n      <td>60000.0</td>\n      <td>...</td>\n      <td>[Flutter]</td>\n      <td>[]</td>\n      <td>[Docker, Homebrew, Kubernetes, npm]</td>\n      <td>[Docker, Homebrew, Kubernetes, npm]</td>\n      <td>[IPython/Jupyter, Sublime Text, Vim, Visual St...</td>\n      <td>[Sublime Text, Vim, Visual Studio Code]</td>\n      <td>[macOS]</td>\n      <td>[Git]</td>\n      <td>25-34 years old</td>\n      <td>[Man]</td>\n    </tr>\n    <tr>\n      <th>73264</th>\n      <td>I am a developer by profession</td>\n      <td>[Employed_full-time]</td>\n      <td>Full in-person</td>\n      <td>Master’s degree (M.A., M.S., M.Eng., MBA, etc.)</td>\n      <td>6</td>\n      <td>5</td>\n      <td>[Data scientist or machine learning specialist]</td>\n      <td>I don’t know</td>\n      <td>United States of America</td>\n      <td>107000.0</td>\n      <td>...</td>\n      <td>[Keras, NumPy, Pandas, Scikit-learn, TensorFlo...</td>\n      <td>[NumPy, Pandas, Torch/PyTorch, Hugging Face Tr...</td>\n      <td>[]</td>\n      <td>[]</td>\n      <td>[IPython/Jupyter, Notepad++, Spyder, Vim, Visu...</td>\n      <td>[Notepad++, Spyder, Vim, Visual Studio Code]</td>\n      <td>[Linux-based, Windows]</td>\n      <td>[Git]</td>\n      <td>25-34 years old</td>\n      <td>[Man]</td>\n    </tr>\n    <tr>\n      <th>73265</th>\n      <td>I am not primarily a developer, but I write co...</td>\n      <td>[Employed_full-time]</td>\n      <td>Hybrid (some remote, some in-person)</td>\n      <td>Bachelor’s degree (B.A., B.S., B.Eng., etc.)</td>\n      <td>42</td>\n      <td>33</td>\n      <td>[Developer_full-stack, Developer_desktop or en...</td>\n      <td>20 to 99 employees</td>\n      <td>United States of America</td>\n      <td>NaN</td>\n      <td>...</td>\n      <td>[.NET, Pandas, React Native]</td>\n      <td>[.NET, Cordova, Ionic, Pandas, React Native, X...</td>\n      <td>[npm]</td>\n      <td>[npm, Unreal Engine]</td>\n      <td>[Spyder, Visual Studio, Visual Studio Code]</td>\n      <td>[Spyder, Visual Studio, Visual Studio Code]</td>\n      <td>[Windows]</td>\n      <td>[Git]</td>\n      <td>55-64 years old</td>\n      <td>[Man]</td>\n    </tr>\n    <tr>\n      <th>73266</th>\n      <td>I am a developer by profession</td>\n      <td>[Employed_full-time]</td>\n      <td>Hybrid (some remote, some in-person)</td>\n      <td>Bachelor’s degree (B.A., B.S., B.Eng., etc.)</td>\n      <td>50</td>\n      <td>31</td>\n      <td>[Developer_front-end, Developer_desktop or ent...</td>\n      <td>10 to 19 employees</td>\n      <td>United Kingdom of Great Britain and Northern I...</td>\n      <td>58500.0</td>\n      <td>...</td>\n      <td>[]</td>\n      <td>[]</td>\n      <td>[]</td>\n      <td>[]</td>\n      <td>[RAD Studio (Delphi_C++ Builder), Visual Studio]</td>\n      <td>[RAD Studio (Delphi_C++ Builder), Visual Studio]</td>\n      <td>[Windows]</td>\n      <td>[SVN]</td>\n      <td>55-64 years old</td>\n      <td>[Man]</td>\n    </tr>\n    <tr>\n      <th>73267</th>\n      <td>I used to be a developer by profession, but no...</td>\n      <td>[Independent contractor_freelancer_or self-emp...</td>\n      <td>Fully remote</td>\n      <td>Bachelor’s degree (B.A., B.S., B.Eng., etc.)</td>\n      <td>16</td>\n      <td>5</td>\n      <td>[Developer_front-end, Engineer_data, Engineer_...</td>\n      <td>NaN</td>\n      <td>Canada</td>\n      <td>NaN</td>\n      <td>...</td>\n      <td>[Apache Kafka, Apache Spark]</td>\n      <td>[]</td>\n      <td>[Docker, Kubernetes, npm, Pulumi, Terraform]</td>\n      <td>[Docker, Kubernetes, npm, Pulumi, Terraform]</td>\n      <td>[Visual Studio, Visual Studio Code]</td>\n      <td>[Neovim, Visual Studio Code]</td>\n      <td>[Linux-based, Windows]</td>\n      <td>[Git]</td>\n      <td>25-34 years old</td>\n      <td>[Man]</td>\n    </tr>\n  </tbody>\n</table>\n<p>60613 rows × 29 columns</p>\n</div>"
     },
     "execution_count": 12,
     "metadata": {},
     "output_type": "execute_result"
    }
   ],
   "source": [
    "survey"
   ],
   "metadata": {
    "collapsed": false
   }
  },
  {
   "cell_type": "code",
   "execution_count": 13,
   "outputs": [],
   "source": [
    "survey.to_pickle(LOAD_PATH + SAVE_DF_NAME)"
   ],
   "metadata": {
    "collapsed": false
   }
  },
  {
   "cell_type": "code",
   "execution_count": null,
   "outputs": [],
   "source": [],
   "metadata": {
    "collapsed": false
   }
  }
 ],
 "metadata": {
  "kernelspec": {
   "display_name": "Python 3",
   "language": "python",
   "name": "python3"
  },
  "language_info": {
   "codemirror_mode": {
    "name": "ipython",
    "version": 2
   },
   "file_extension": ".py",
   "mimetype": "text/x-python",
   "name": "python",
   "nbconvert_exporter": "python",
   "pygments_lexer": "ipython2",
   "version": "2.7.6"
  }
 },
 "nbformat": 4,
 "nbformat_minor": 0
}
