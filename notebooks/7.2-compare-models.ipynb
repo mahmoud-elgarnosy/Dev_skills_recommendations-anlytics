{
 "cells": [
  {
   "cell_type": "code",
   "execution_count": 1,
   "metadata": {
    "collapsed": true
   },
   "outputs": [],
   "source": [
    "from src.utils import MlflowUtils"
   ]
  },
  {
   "cell_type": "code",
   "execution_count": 2,
   "outputs": [
    {
     "data": {
      "text/plain": "['XGB_1.0.0',\n 'Logistic-Regression_Clustered-Features_1.0.0',\n 'Logistic-Regression_Original-Features_1.0.0']"
     },
     "execution_count": 2,
     "metadata": {},
     "output_type": "execute_result"
    }
   ],
   "source": [
    "MlflowUtils.get_run_names()"
   ],
   "metadata": {
    "collapsed": false
   }
  },
  {
   "cell_type": "code",
   "execution_count": 8,
   "outputs": [
    {
     "data": {
      "text/plain": "                             run_id       experiment_id    status  \\\n0  2a572ea634b64d4e99ac358082c8906e  735982700926372623  FINISHED   \n1  b4928cc3e3bf4f21b8b9138310447d2c  735982700926372623  FINISHED   \n2  91321ce64e8646d7a8e28dac0a5d8deb  735982700926372623  FINISHED   \n\n                                        artifact_uri  \\\n0  file:///D:/protofolio_projects/Dev_skills_reco...   \n1  file:///D:/protofolio_projects/Dev_skills_reco...   \n2  file:///D:/protofolio_projects/Dev_skills_reco...   \n\n                        start_time                         end_time  \\\n0 2023-08-17 09:27:33.895000+00:00 2023-08-17 09:27:33.953000+00:00   \n1 2023-08-17 09:25:36.899000+00:00 2023-08-17 09:25:36.934000+00:00   \n2 2023-08-17 09:25:36.843000+00:00 2023-08-17 09:25:36.877000+00:00   \n\n   metrics.f1_score  metrics.accuracy  metrics.recall  metrics.precision  \\\n0          0.506840          0.901169        0.507204           0.548453   \n1          0.378904          0.894298        0.324855           0.522859   \n2          0.446315          0.897505        0.404598           0.531665   \n\n                             tags.mlflow.source.name  \\\n0  C:\\Users\\mahmo\\anaconda3\\envs\\Rec-skills\\lib\\s...   \n1  C:\\Users\\mahmo\\anaconda3\\envs\\Rec-skills\\lib\\s...   \n2  C:\\Users\\mahmo\\anaconda3\\envs\\Rec-skills\\lib\\s...   \n\n                            tags.mlflow.runName tags.mlflow.user  \\\n0                                     XGB_1.0.0            mahmo   \n1  Logistic-Regression_Clustered-Features_1.0.0            mahmo   \n2   Logistic-Regression_Original-Features_1.0.0            mahmo   \n\n  tags.mlflow.source.type  \n0                   LOCAL  \n1                   LOCAL  \n2                   LOCAL  ",
      "text/html": "<div>\n<style scoped>\n    .dataframe tbody tr th:only-of-type {\n        vertical-align: middle;\n    }\n\n    .dataframe tbody tr th {\n        vertical-align: top;\n    }\n\n    .dataframe thead th {\n        text-align: right;\n    }\n</style>\n<table border=\"1\" class=\"dataframe\">\n  <thead>\n    <tr style=\"text-align: right;\">\n      <th></th>\n      <th>run_id</th>\n      <th>experiment_id</th>\n      <th>status</th>\n      <th>artifact_uri</th>\n      <th>start_time</th>\n      <th>end_time</th>\n      <th>metrics.f1_score</th>\n      <th>metrics.accuracy</th>\n      <th>metrics.recall</th>\n      <th>metrics.precision</th>\n      <th>tags.mlflow.source.name</th>\n      <th>tags.mlflow.runName</th>\n      <th>tags.mlflow.user</th>\n      <th>tags.mlflow.source.type</th>\n    </tr>\n  </thead>\n  <tbody>\n    <tr>\n      <th>0</th>\n      <td>2a572ea634b64d4e99ac358082c8906e</td>\n      <td>735982700926372623</td>\n      <td>FINISHED</td>\n      <td>file:///D:/protofolio_projects/Dev_skills_reco...</td>\n      <td>2023-08-17 09:27:33.895000+00:00</td>\n      <td>2023-08-17 09:27:33.953000+00:00</td>\n      <td>0.506840</td>\n      <td>0.901169</td>\n      <td>0.507204</td>\n      <td>0.548453</td>\n      <td>C:\\Users\\mahmo\\anaconda3\\envs\\Rec-skills\\lib\\s...</td>\n      <td>XGB_1.0.0</td>\n      <td>mahmo</td>\n      <td>LOCAL</td>\n    </tr>\n    <tr>\n      <th>1</th>\n      <td>b4928cc3e3bf4f21b8b9138310447d2c</td>\n      <td>735982700926372623</td>\n      <td>FINISHED</td>\n      <td>file:///D:/protofolio_projects/Dev_skills_reco...</td>\n      <td>2023-08-17 09:25:36.899000+00:00</td>\n      <td>2023-08-17 09:25:36.934000+00:00</td>\n      <td>0.378904</td>\n      <td>0.894298</td>\n      <td>0.324855</td>\n      <td>0.522859</td>\n      <td>C:\\Users\\mahmo\\anaconda3\\envs\\Rec-skills\\lib\\s...</td>\n      <td>Logistic-Regression_Clustered-Features_1.0.0</td>\n      <td>mahmo</td>\n      <td>LOCAL</td>\n    </tr>\n    <tr>\n      <th>2</th>\n      <td>91321ce64e8646d7a8e28dac0a5d8deb</td>\n      <td>735982700926372623</td>\n      <td>FINISHED</td>\n      <td>file:///D:/protofolio_projects/Dev_skills_reco...</td>\n      <td>2023-08-17 09:25:36.843000+00:00</td>\n      <td>2023-08-17 09:25:36.877000+00:00</td>\n      <td>0.446315</td>\n      <td>0.897505</td>\n      <td>0.404598</td>\n      <td>0.531665</td>\n      <td>C:\\Users\\mahmo\\anaconda3\\envs\\Rec-skills\\lib\\s...</td>\n      <td>Logistic-Regression_Original-Features_1.0.0</td>\n      <td>mahmo</td>\n      <td>LOCAL</td>\n    </tr>\n  </tbody>\n</table>\n</div>"
     },
     "execution_count": 8,
     "metadata": {},
     "output_type": "execute_result"
    }
   ],
   "source": [
    "MlflowUtils.get_runs()"
   ],
   "metadata": {
    "collapsed": false
   }
  },
  {
   "cell_type": "code",
   "execution_count": 4,
   "outputs": [
    {
     "data": {
      "text/plain": "'2a572ea634b64d4e99ac358082c8906e'"
     },
     "execution_count": 4,
     "metadata": {},
     "output_type": "execute_result"
    }
   ],
   "source": [
    "best_model_run_id = MlflowUtils.get_run_id_by_metrix(metrix_name='recall')\n",
    "best_model_run_id"
   ],
   "metadata": {
    "collapsed": false
   }
  },
  {
   "cell_type": "code",
   "execution_count": 5,
   "outputs": [],
   "source": [
    "logged_data = MlflowUtils.fetch_logged_data(tracking_uri='../models/runs', run_id=best_model_run_id)"
   ],
   "metadata": {
    "collapsed": false
   }
  },
  {
   "cell_type": "code",
   "execution_count": 6,
   "outputs": [
    {
     "data": {
      "text/plain": "dict_keys(['metrics', 'data_details', 'matrices', 'model'])"
     },
     "execution_count": 6,
     "metadata": {},
     "output_type": "execute_result"
    }
   ],
   "source": [
    "logged_data.keys()"
   ],
   "metadata": {
    "collapsed": false
   }
  },
  {
   "cell_type": "code",
   "execution_count": 7,
   "outputs": [],
   "source": [
    "model=logged_data['model']['model_object']"
   ],
   "metadata": {
    "collapsed": false
   }
  },
  {
   "cell_type": "code",
   "execution_count": null,
   "outputs": [],
   "source": [],
   "metadata": {
    "collapsed": false
   }
  }
 ],
 "metadata": {
  "kernelspec": {
   "name": "smart_health3",
   "language": "python",
   "display_name": "smart_health3"
  },
  "language_info": {
   "codemirror_mode": {
    "name": "ipython",
    "version": 2
   },
   "file_extension": ".py",
   "mimetype": "text/x-python",
   "name": "python",
   "nbconvert_exporter": "python",
   "pygments_lexer": "ipython2",
   "version": "2.7.6"
  }
 },
 "nbformat": 4,
 "nbformat_minor": 0
}
