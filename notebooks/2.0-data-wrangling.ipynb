{
 "cells": [
  {
   "cell_type": "code",
   "execution_count": 1,
   "metadata": {
    "collapsed": true
   },
   "outputs": [],
   "source": [
    "import pickle\n",
    "import pandas as pd"
   ]
  },
  {
   "cell_type": "code",
   "execution_count": 2,
   "outputs": [],
   "source": [
    "FILE_PATH = '../data/raw/survey_results_public.csv'\n",
    "LOAD_PATH = '../data/interim/'"
   ],
   "metadata": {
    "collapsed": false
   }
  },
  {
   "cell_type": "markdown",
   "source": [
    "# Load Data"
   ],
   "metadata": {
    "collapsed": false
   }
  },
  {
   "cell_type": "code",
   "execution_count": 3,
   "outputs": [],
   "source": [
    "survey = pd.read_csv(FILE_PATH)\n",
    "with open(LOAD_PATH + 'chosen_columns.pkl', 'rb') as f:\n",
    "    chosen_columns = pickle.load(f)\n",
    "\n",
    "survey = survey[chosen_columns['analysis']]"
   ],
   "metadata": {
    "collapsed": false
   }
  },
  {
   "cell_type": "code",
   "execution_count": 4,
   "outputs": [
    {
     "name": "stdout",
     "output_type": "stream",
     "text": [
      "<class 'pandas.core.frame.DataFrame'>\n",
      "RangeIndex: 73268 entries, 0 to 73267\n",
      "Data columns (total 29 columns):\n",
      " #   Column                        Non-Null Count  Dtype  \n",
      "---  ------                        --------------  -----  \n",
      " 0   MainBranch                    73268 non-null  object \n",
      " 1   Employment                    71709 non-null  object \n",
      " 2   RemoteWork                    58958 non-null  object \n",
      " 3   EdLevel                       71571 non-null  object \n",
      " 4   YearsCode                     71331 non-null  object \n",
      " 5   YearsCodePro                  51833 non-null  object \n",
      " 6   DevType                       61302 non-null  object \n",
      " 7   OrgSize                       51039 non-null  object \n",
      " 8   Country                       71771 non-null  object \n",
      " 9   CompTotal                     38422 non-null  float64\n",
      " 10  CompFreq                      44425 non-null  object \n",
      " 11  LanguageHaveWorkedWith        70975 non-null  object \n",
      " 12  LanguageWantToWorkWith        67027 non-null  object \n",
      " 13  DatabaseHaveWorkedWith        60121 non-null  object \n",
      " 14  DatabaseWantToWorkWith        51014 non-null  object \n",
      " 15  PlatformHaveWorkedWith        49924 non-null  object \n",
      " 16  PlatformWantToWorkWith        40415 non-null  object \n",
      " 17  WebframeHaveWorkedWith        53544 non-null  object \n",
      " 18  WebframeWantToWorkWith        46122 non-null  object \n",
      " 19  MiscTechHaveWorkedWith        44992 non-null  object \n",
      " 20  MiscTechWantToWorkWith        36810 non-null  object \n",
      " 21  ToolsTechHaveWorkedWith       54171 non-null  object \n",
      " 22  ToolsTechWantToWorkWith       46566 non-null  object \n",
      " 23  NEWCollabToolsHaveWorkedWith  70347 non-null  object \n",
      " 24  NEWCollabToolsWantToWorkWith  64108 non-null  object \n",
      " 25  OpSysProfessional use         65503 non-null  object \n",
      " 26  VersionControlSystem          71379 non-null  object \n",
      " 27  Age                           70946 non-null  object \n",
      " 28  Gender                        70853 non-null  object \n",
      "dtypes: float64(1), object(28)\n",
      "memory usage: 16.2+ MB\n"
     ]
    }
   ],
   "source": [
    "survey.info()"
   ],
   "metadata": {
    "collapsed": false
   }
  },
  {
   "cell_type": "code",
   "execution_count": null,
   "outputs": [],
   "source": [],
   "metadata": {
    "collapsed": false
   }
  },
  {
   "cell_type": "markdown",
   "source": [
    "# Wrangle data\n",
    "most of the columns are multi choose answers, and answerers are splittable with ';', so will list them in list instead of splittable string"
   ],
   "metadata": {
    "collapsed": false
   }
  },
  {
   "cell_type": "code",
   "execution_count": 5,
   "outputs": [],
   "source": [
    "def split_column(column_name):\n",
    "    target_column = survey[column_name]\n",
    "\n",
    "    # first check if the columns is splittable with ;\n",
    "    splittable = target_column.str.contains(';').any()\n",
    "\n",
    "    if not splittable:\n",
    "        return target_column\n",
    "    else:\n",
    "        target_column = target_column.str.split(';')\n",
    "        mask_null = target_column.isnull()\n",
    "\n",
    "        target_column.loc[mask_null] =target_column.loc[mask_null].apply(lambda x: [])\n",
    "        return target_column\n",
    "\n"
   ],
   "metadata": {
    "collapsed": false
   }
  },
  {
   "cell_type": "code",
   "execution_count": null,
   "outputs": [],
   "source": [],
   "metadata": {
    "collapsed": false
   }
  }
 ],
 "metadata": {
  "kernelspec": {
   "display_name": "Python 3",
   "language": "python",
   "name": "python3"
  },
  "language_info": {
   "codemirror_mode": {
    "name": "ipython",
    "version": 2
   },
   "file_extension": ".py",
   "mimetype": "text/x-python",
   "name": "python",
   "nbconvert_exporter": "python",
   "pygments_lexer": "ipython2",
   "version": "2.7.6"
  }
 },
 "nbformat": 4,
 "nbformat_minor": 0
}
