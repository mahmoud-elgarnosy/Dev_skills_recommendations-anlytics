{
 "cells": [
  {
   "cell_type": "code",
   "execution_count": 1,
   "metadata": {
    "collapsed": true
   },
   "outputs": [],
   "source": [
    "import pickle\n",
    "import pandas as pd"
   ]
  },
  {
   "cell_type": "code",
   "execution_count": 2,
   "outputs": [],
   "source": [
    "FILE_PATH = '../data/raw/survey_results_public.csv'\n",
    "LOAD_PATH = '../data/interim/'"
   ],
   "metadata": {
    "collapsed": false
   }
  },
  {
   "cell_type": "markdown",
   "source": [
    "# Load Data"
   ],
   "metadata": {
    "collapsed": false
   }
  },
  {
   "cell_type": "code",
   "execution_count": 3,
   "outputs": [],
   "source": [
    "survey = pd.read_csv(FILE_PATH)\n",
    "with open(LOAD_PATH + 'chosen_columns.pkl', 'rb') as f:\n",
    "    chosen_columns = pickle.load(f)\n",
    "\n",
    "survey = survey[chosen_columns['analysis']]"
   ],
   "metadata": {
    "collapsed": false
   }
  },
  {
   "cell_type": "code",
   "execution_count": 4,
   "outputs": [
    {
     "name": "stdout",
     "output_type": "stream",
     "text": [
      "<class 'pandas.core.frame.DataFrame'>\n",
      "RangeIndex: 73268 entries, 0 to 73267\n",
      "Data columns (total 29 columns):\n",
      " #   Column                        Non-Null Count  Dtype  \n",
      "---  ------                        --------------  -----  \n",
      " 0   MainBranch                    73268 non-null  object \n",
      " 1   Employment                    71709 non-null  object \n",
      " 2   RemoteWork                    58958 non-null  object \n",
      " 3   EdLevel                       71571 non-null  object \n",
      " 4   YearsCode                     71331 non-null  object \n",
      " 5   YearsCodePro                  51833 non-null  object \n",
      " 6   DevType                       61302 non-null  object \n",
      " 7   OrgSize                       51039 non-null  object \n",
      " 8   Country                       71771 non-null  object \n",
      " 9   CompTotal                     38422 non-null  float64\n",
      " 10  CompFreq                      44425 non-null  object \n",
      " 11  LanguageHaveWorkedWith        70975 non-null  object \n",
      " 12  LanguageWantToWorkWith        67027 non-null  object \n",
      " 13  DatabaseHaveWorkedWith        60121 non-null  object \n",
      " 14  DatabaseWantToWorkWith        51014 non-null  object \n",
      " 15  PlatformHaveWorkedWith        49924 non-null  object \n",
      " 16  PlatformWantToWorkWith        40415 non-null  object \n",
      " 17  WebframeHaveWorkedWith        53544 non-null  object \n",
      " 18  WebframeWantToWorkWith        46122 non-null  object \n",
      " 19  MiscTechHaveWorkedWith        44992 non-null  object \n",
      " 20  MiscTechWantToWorkWith        36810 non-null  object \n",
      " 21  ToolsTechHaveWorkedWith       54171 non-null  object \n",
      " 22  ToolsTechWantToWorkWith       46566 non-null  object \n",
      " 23  NEWCollabToolsHaveWorkedWith  70347 non-null  object \n",
      " 24  NEWCollabToolsWantToWorkWith  64108 non-null  object \n",
      " 25  OpSysProfessional use         65503 non-null  object \n",
      " 26  VersionControlSystem          71379 non-null  object \n",
      " 27  Age                           70946 non-null  object \n",
      " 28  Gender                        70853 non-null  object \n",
      "dtypes: float64(1), object(28)\n",
      "memory usage: 16.2+ MB\n"
     ]
    }
   ],
   "source": [
    "survey.info()"
   ],
   "metadata": {
    "collapsed": false
   }
  },
  {
   "cell_type": "code",
   "execution_count": 4,
   "outputs": [],
   "source": [],
   "metadata": {
    "collapsed": false
   }
  },
  {
   "cell_type": "markdown",
   "source": [
    "# Wrangle data\n",
    "most of the columns are multi choose answers, and answerers are splittable with ';', so will list them in list instead of splittable string"
   ],
   "metadata": {
    "collapsed": false
   }
  },
  {
   "cell_type": "code",
   "execution_count": 5,
   "outputs": [],
   "source": [
    "def wrangle_column(column_name):\n",
    "    target_column = survey[column_name]\n",
    "\n",
    "    # first check if the columns is splittable with ;\n",
    "    splittable = target_column.str.contains(';').any()\n",
    "\n",
    "    if not splittable:\n",
    "        return target_column\n",
    "    else:\n",
    "        # replace ', ' with '_' to make list more readable\n",
    "        target_column = target_column.str.replace(', ', '_')\n",
    "\n",
    "        # split column\n",
    "        target_column = target_column.str.split(';')\n",
    "\n",
    "        # make nullable values empty list\n",
    "        mask_null = target_column.isnull()\n",
    "        target_column.loc[mask_null] =target_column.loc[mask_null].apply(lambda x: [])\n",
    "        return target_column\n",
    "\n"
   ],
   "metadata": {
    "collapsed": false
   }
  },
  {
   "cell_type": "code",
   "execution_count": 6,
   "outputs": [],
   "source": [
    "for column in survey.columns:\n",
    "    if survey[column].dtype=='object':\n",
    "        survey[column] = wrangle_column(column)\n"
   ],
   "metadata": {
    "collapsed": false
   }
  },
  {
   "cell_type": "code",
   "execution_count": 7,
   "outputs": [
    {
     "data": {
      "text/plain": "                                              MainBranch  \\\n0                                          None of these   \n1                         I am a developer by profession   \n2      I am not primarily a developer, but I write co...   \n3                         I am a developer by profession   \n4                         I am a developer by profession   \n...                                                  ...   \n73263                     I am a developer by profession   \n73264                     I am a developer by profession   \n73265  I am not primarily a developer, but I write co...   \n73266                     I am a developer by profession   \n73267  I used to be a developer by profession, but no...   \n\n                                              Employment  \\\n0                                                     []   \n1                                   [Employed_full-time]   \n2                                   [Employed_full-time]   \n3                                   [Employed_full-time]   \n4                                   [Employed_full-time]   \n...                                                  ...   \n73263                               [Employed_full-time]   \n73264                               [Employed_full-time]   \n73265                               [Employed_full-time]   \n73266                               [Employed_full-time]   \n73267  [Independent contractor_freelancer_or self-emp...   \n\n                                 RemoteWork  \\\n0                                       NaN   \n1                              Fully remote   \n2      Hybrid (some remote, some in-person)   \n3                              Fully remote   \n4      Hybrid (some remote, some in-person)   \n...                                     ...   \n73263                          Fully remote   \n73264                        Full in-person   \n73265  Hybrid (some remote, some in-person)   \n73266  Hybrid (some remote, some in-person)   \n73267                          Fully remote   \n\n                                               EdLevel YearsCode YearsCodePro  \\\n0                                                  NaN       NaN          NaN   \n1                                                  NaN       NaN          NaN   \n2      Master’s degree (M.A., M.S., M.Eng., MBA, etc.)        14            5   \n3         Bachelor’s degree (B.A., B.S., B.Eng., etc.)        20           17   \n4         Bachelor’s degree (B.A., B.S., B.Eng., etc.)         8            3   \n...                                                ...       ...          ...   \n73263     Bachelor’s degree (B.A., B.S., B.Eng., etc.)         8            5   \n73264  Master’s degree (M.A., M.S., M.Eng., MBA, etc.)         6            5   \n73265     Bachelor’s degree (B.A., B.S., B.Eng., etc.)        42           33   \n73266     Bachelor’s degree (B.A., B.S., B.Eng., etc.)        50           31   \n73267     Bachelor’s degree (B.A., B.S., B.Eng., etc.)        16            5   \n\n                                                 DevType  \\\n0                                                     []   \n1                                                     []   \n2      [Data scientist or machine learning specialist...   \n3                                 [Developer_full-stack]   \n4      [Developer_front-end, Developer_full-stack, De...   \n...                                                  ...   \n73263                               [Developer_back-end]   \n73264    [Data scientist or machine learning specialist]   \n73265  [Developer_full-stack, Developer_desktop or en...   \n73266  [Developer_front-end, Developer_desktop or ent...   \n73267  [Developer_front-end, Engineer_data, Engineer_...   \n\n                    OrgSize  \\\n0                       NaN   \n1                       NaN   \n2        20 to 99 employees   \n3      100 to 499 employees   \n4        20 to 99 employees   \n...                     ...   \n73263  100 to 499 employees   \n73264          I don’t know   \n73265    20 to 99 employees   \n73266    10 to 19 employees   \n73267                   NaN   \n\n                                                 Country  CompTotal  ...  \\\n0                                                    NaN        NaN  ...   \n1                                                 Canada        NaN  ...   \n2      United Kingdom of Great Britain and Northern I...    32000.0  ...   \n3                                                 Israel    60000.0  ...   \n4                               United States of America        NaN  ...   \n...                                                  ...        ...  ...   \n73263                                            Nigeria    60000.0  ...   \n73264                           United States of America   107000.0  ...   \n73265                           United States of America        NaN  ...   \n73266  United Kingdom of Great Britain and Northern I...    58500.0  ...   \n73267                                             Canada        NaN  ...   \n\n                                  MiscTechHaveWorkedWith  \\\n0                                                     []   \n1                                                     []   \n2                                               [Pandas]   \n3                                                 [.NET]   \n4                                                 [.NET]   \n...                                                  ...   \n73263                                          [Flutter]   \n73264  [Keras, NumPy, Pandas, Scikit-learn, TensorFlo...   \n73265                       [.NET, Pandas, React Native]   \n73266                                                 []   \n73267                       [Apache Kafka, Apache Spark]   \n\n                                  MiscTechWantToWorkWith  \\\n0                                                     []   \n1                                                     []   \n2                                                 [.NET]   \n3                                                 [.NET]   \n4                                   [.NET, Apache Kafka]   \n...                                                  ...   \n73263                                                 []   \n73264  [NumPy, Pandas, Torch/PyTorch, Hugging Face Tr...   \n73265  [.NET, Cordova, Ionic, Pandas, React Native, X...   \n73266                                                 []   \n73267                                                 []   \n\n                            ToolsTechHaveWorkedWith  \\\n0                                                []   \n1                                                []   \n2                                                []   \n3                                                []   \n4                                             [npm]   \n...                                             ...   \n73263           [Docker, Homebrew, Kubernetes, npm]   \n73264                                            []   \n73265                                         [npm]   \n73266                                            []   \n73267  [Docker, Kubernetes, npm, Pulumi, Terraform]   \n\n                            ToolsTechWantToWorkWith  \\\n0                                                []   \n1                                                []   \n2                                                []   \n3                                                []   \n4                              [Docker, Kubernetes]   \n...                                             ...   \n73263           [Docker, Homebrew, Kubernetes, npm]   \n73264                                            []   \n73265                          [npm, Unreal Engine]   \n73266                                            []   \n73267  [Docker, Kubernetes, npm, Pulumi, Terraform]   \n\n                            NEWCollabToolsHaveWorkedWith  \\\n0                                                     []   \n1                                                     []   \n2                             [Notepad++, Visual Studio]   \n3         [Notepad++, Visual Studio, Visual Studio Code]   \n4      [Notepad++, Visual Studio, Visual Studio Code,...   \n...                                                  ...   \n73263  [IPython/Jupyter, Sublime Text, Vim, Visual St...   \n73264  [IPython/Jupyter, Notepad++, Spyder, Vim, Visu...   \n73265        [Spyder, Visual Studio, Visual Studio Code]   \n73266   [RAD Studio (Delphi_C++ Builder), Visual Studio]   \n73267                [Visual Studio, Visual Studio Code]   \n\n                           NEWCollabToolsWantToWorkWith  \\\n0                                                    []   \n1                                                    []   \n2                            [Notepad++, Visual Studio]   \n3        [Notepad++, Visual Studio, Visual Studio Code]   \n4            [Rider, Visual Studio, Visual Studio Code]   \n...                                                 ...   \n73263           [Sublime Text, Vim, Visual Studio Code]   \n73264      [Notepad++, Spyder, Vim, Visual Studio Code]   \n73265       [Spyder, Visual Studio, Visual Studio Code]   \n73266  [RAD Studio (Delphi_C++ Builder), Visual Studio]   \n73267                      [Neovim, Visual Studio Code]   \n\n        OpSysProfessional use            VersionControlSystem  \\\n0                          []                              []   \n1                     [macOS]                           [Git]   \n2                   [Windows]                           [Git]   \n3                   [Windows]                           [Git]   \n4                   [Windows]  [Git, Other (please specify):]   \n...                       ...                             ...   \n73263                 [macOS]                           [Git]   \n73264  [Linux-based, Windows]                           [Git]   \n73265               [Windows]                           [Git]   \n73266               [Windows]                           [SVN]   \n73267  [Linux-based, Windows]                           [Git]   \n\n                   Age Gender  \n0                  NaN     []  \n1                  NaN     []  \n2      25-34 years old  [Man]  \n3      35-44 years old  [Man]  \n4      25-34 years old     []  \n...                ...    ...  \n73263  25-34 years old  [Man]  \n73264  25-34 years old  [Man]  \n73265  55-64 years old  [Man]  \n73266  55-64 years old  [Man]  \n73267  25-34 years old  [Man]  \n\n[73268 rows x 29 columns]",
      "text/html": "<div>\n<style scoped>\n    .dataframe tbody tr th:only-of-type {\n        vertical-align: middle;\n    }\n\n    .dataframe tbody tr th {\n        vertical-align: top;\n    }\n\n    .dataframe thead th {\n        text-align: right;\n    }\n</style>\n<table border=\"1\" class=\"dataframe\">\n  <thead>\n    <tr style=\"text-align: right;\">\n      <th></th>\n      <th>MainBranch</th>\n      <th>Employment</th>\n      <th>RemoteWork</th>\n      <th>EdLevel</th>\n      <th>YearsCode</th>\n      <th>YearsCodePro</th>\n      <th>DevType</th>\n      <th>OrgSize</th>\n      <th>Country</th>\n      <th>CompTotal</th>\n      <th>...</th>\n      <th>MiscTechHaveWorkedWith</th>\n      <th>MiscTechWantToWorkWith</th>\n      <th>ToolsTechHaveWorkedWith</th>\n      <th>ToolsTechWantToWorkWith</th>\n      <th>NEWCollabToolsHaveWorkedWith</th>\n      <th>NEWCollabToolsWantToWorkWith</th>\n      <th>OpSysProfessional use</th>\n      <th>VersionControlSystem</th>\n      <th>Age</th>\n      <th>Gender</th>\n    </tr>\n  </thead>\n  <tbody>\n    <tr>\n      <th>0</th>\n      <td>None of these</td>\n      <td>[]</td>\n      <td>NaN</td>\n      <td>NaN</td>\n      <td>NaN</td>\n      <td>NaN</td>\n      <td>[]</td>\n      <td>NaN</td>\n      <td>NaN</td>\n      <td>NaN</td>\n      <td>...</td>\n      <td>[]</td>\n      <td>[]</td>\n      <td>[]</td>\n      <td>[]</td>\n      <td>[]</td>\n      <td>[]</td>\n      <td>[]</td>\n      <td>[]</td>\n      <td>NaN</td>\n      <td>[]</td>\n    </tr>\n    <tr>\n      <th>1</th>\n      <td>I am a developer by profession</td>\n      <td>[Employed_full-time]</td>\n      <td>Fully remote</td>\n      <td>NaN</td>\n      <td>NaN</td>\n      <td>NaN</td>\n      <td>[]</td>\n      <td>NaN</td>\n      <td>Canada</td>\n      <td>NaN</td>\n      <td>...</td>\n      <td>[]</td>\n      <td>[]</td>\n      <td>[]</td>\n      <td>[]</td>\n      <td>[]</td>\n      <td>[]</td>\n      <td>[macOS]</td>\n      <td>[Git]</td>\n      <td>NaN</td>\n      <td>[]</td>\n    </tr>\n    <tr>\n      <th>2</th>\n      <td>I am not primarily a developer, but I write co...</td>\n      <td>[Employed_full-time]</td>\n      <td>Hybrid (some remote, some in-person)</td>\n      <td>Master’s degree (M.A., M.S., M.Eng., MBA, etc.)</td>\n      <td>14</td>\n      <td>5</td>\n      <td>[Data scientist or machine learning specialist...</td>\n      <td>20 to 99 employees</td>\n      <td>United Kingdom of Great Britain and Northern I...</td>\n      <td>32000.0</td>\n      <td>...</td>\n      <td>[Pandas]</td>\n      <td>[.NET]</td>\n      <td>[]</td>\n      <td>[]</td>\n      <td>[Notepad++, Visual Studio]</td>\n      <td>[Notepad++, Visual Studio]</td>\n      <td>[Windows]</td>\n      <td>[Git]</td>\n      <td>25-34 years old</td>\n      <td>[Man]</td>\n    </tr>\n    <tr>\n      <th>3</th>\n      <td>I am a developer by profession</td>\n      <td>[Employed_full-time]</td>\n      <td>Fully remote</td>\n      <td>Bachelor’s degree (B.A., B.S., B.Eng., etc.)</td>\n      <td>20</td>\n      <td>17</td>\n      <td>[Developer_full-stack]</td>\n      <td>100 to 499 employees</td>\n      <td>Israel</td>\n      <td>60000.0</td>\n      <td>...</td>\n      <td>[.NET]</td>\n      <td>[.NET]</td>\n      <td>[]</td>\n      <td>[]</td>\n      <td>[Notepad++, Visual Studio, Visual Studio Code]</td>\n      <td>[Notepad++, Visual Studio, Visual Studio Code]</td>\n      <td>[Windows]</td>\n      <td>[Git]</td>\n      <td>35-44 years old</td>\n      <td>[Man]</td>\n    </tr>\n    <tr>\n      <th>4</th>\n      <td>I am a developer by profession</td>\n      <td>[Employed_full-time]</td>\n      <td>Hybrid (some remote, some in-person)</td>\n      <td>Bachelor’s degree (B.A., B.S., B.Eng., etc.)</td>\n      <td>8</td>\n      <td>3</td>\n      <td>[Developer_front-end, Developer_full-stack, De...</td>\n      <td>20 to 99 employees</td>\n      <td>United States of America</td>\n      <td>NaN</td>\n      <td>...</td>\n      <td>[.NET]</td>\n      <td>[.NET, Apache Kafka]</td>\n      <td>[npm]</td>\n      <td>[Docker, Kubernetes]</td>\n      <td>[Notepad++, Visual Studio, Visual Studio Code,...</td>\n      <td>[Rider, Visual Studio, Visual Studio Code]</td>\n      <td>[Windows]</td>\n      <td>[Git, Other (please specify):]</td>\n      <td>25-34 years old</td>\n      <td>[]</td>\n    </tr>\n    <tr>\n      <th>...</th>\n      <td>...</td>\n      <td>...</td>\n      <td>...</td>\n      <td>...</td>\n      <td>...</td>\n      <td>...</td>\n      <td>...</td>\n      <td>...</td>\n      <td>...</td>\n      <td>...</td>\n      <td>...</td>\n      <td>...</td>\n      <td>...</td>\n      <td>...</td>\n      <td>...</td>\n      <td>...</td>\n      <td>...</td>\n      <td>...</td>\n      <td>...</td>\n      <td>...</td>\n      <td>...</td>\n    </tr>\n    <tr>\n      <th>73263</th>\n      <td>I am a developer by profession</td>\n      <td>[Employed_full-time]</td>\n      <td>Fully remote</td>\n      <td>Bachelor’s degree (B.A., B.S., B.Eng., etc.)</td>\n      <td>8</td>\n      <td>5</td>\n      <td>[Developer_back-end]</td>\n      <td>100 to 499 employees</td>\n      <td>Nigeria</td>\n      <td>60000.0</td>\n      <td>...</td>\n      <td>[Flutter]</td>\n      <td>[]</td>\n      <td>[Docker, Homebrew, Kubernetes, npm]</td>\n      <td>[Docker, Homebrew, Kubernetes, npm]</td>\n      <td>[IPython/Jupyter, Sublime Text, Vim, Visual St...</td>\n      <td>[Sublime Text, Vim, Visual Studio Code]</td>\n      <td>[macOS]</td>\n      <td>[Git]</td>\n      <td>25-34 years old</td>\n      <td>[Man]</td>\n    </tr>\n    <tr>\n      <th>73264</th>\n      <td>I am a developer by profession</td>\n      <td>[Employed_full-time]</td>\n      <td>Full in-person</td>\n      <td>Master’s degree (M.A., M.S., M.Eng., MBA, etc.)</td>\n      <td>6</td>\n      <td>5</td>\n      <td>[Data scientist or machine learning specialist]</td>\n      <td>I don’t know</td>\n      <td>United States of America</td>\n      <td>107000.0</td>\n      <td>...</td>\n      <td>[Keras, NumPy, Pandas, Scikit-learn, TensorFlo...</td>\n      <td>[NumPy, Pandas, Torch/PyTorch, Hugging Face Tr...</td>\n      <td>[]</td>\n      <td>[]</td>\n      <td>[IPython/Jupyter, Notepad++, Spyder, Vim, Visu...</td>\n      <td>[Notepad++, Spyder, Vim, Visual Studio Code]</td>\n      <td>[Linux-based, Windows]</td>\n      <td>[Git]</td>\n      <td>25-34 years old</td>\n      <td>[Man]</td>\n    </tr>\n    <tr>\n      <th>73265</th>\n      <td>I am not primarily a developer, but I write co...</td>\n      <td>[Employed_full-time]</td>\n      <td>Hybrid (some remote, some in-person)</td>\n      <td>Bachelor’s degree (B.A., B.S., B.Eng., etc.)</td>\n      <td>42</td>\n      <td>33</td>\n      <td>[Developer_full-stack, Developer_desktop or en...</td>\n      <td>20 to 99 employees</td>\n      <td>United States of America</td>\n      <td>NaN</td>\n      <td>...</td>\n      <td>[.NET, Pandas, React Native]</td>\n      <td>[.NET, Cordova, Ionic, Pandas, React Native, X...</td>\n      <td>[npm]</td>\n      <td>[npm, Unreal Engine]</td>\n      <td>[Spyder, Visual Studio, Visual Studio Code]</td>\n      <td>[Spyder, Visual Studio, Visual Studio Code]</td>\n      <td>[Windows]</td>\n      <td>[Git]</td>\n      <td>55-64 years old</td>\n      <td>[Man]</td>\n    </tr>\n    <tr>\n      <th>73266</th>\n      <td>I am a developer by profession</td>\n      <td>[Employed_full-time]</td>\n      <td>Hybrid (some remote, some in-person)</td>\n      <td>Bachelor’s degree (B.A., B.S., B.Eng., etc.)</td>\n      <td>50</td>\n      <td>31</td>\n      <td>[Developer_front-end, Developer_desktop or ent...</td>\n      <td>10 to 19 employees</td>\n      <td>United Kingdom of Great Britain and Northern I...</td>\n      <td>58500.0</td>\n      <td>...</td>\n      <td>[]</td>\n      <td>[]</td>\n      <td>[]</td>\n      <td>[]</td>\n      <td>[RAD Studio (Delphi_C++ Builder), Visual Studio]</td>\n      <td>[RAD Studio (Delphi_C++ Builder), Visual Studio]</td>\n      <td>[Windows]</td>\n      <td>[SVN]</td>\n      <td>55-64 years old</td>\n      <td>[Man]</td>\n    </tr>\n    <tr>\n      <th>73267</th>\n      <td>I used to be a developer by profession, but no...</td>\n      <td>[Independent contractor_freelancer_or self-emp...</td>\n      <td>Fully remote</td>\n      <td>Bachelor’s degree (B.A., B.S., B.Eng., etc.)</td>\n      <td>16</td>\n      <td>5</td>\n      <td>[Developer_front-end, Engineer_data, Engineer_...</td>\n      <td>NaN</td>\n      <td>Canada</td>\n      <td>NaN</td>\n      <td>...</td>\n      <td>[Apache Kafka, Apache Spark]</td>\n      <td>[]</td>\n      <td>[Docker, Kubernetes, npm, Pulumi, Terraform]</td>\n      <td>[Docker, Kubernetes, npm, Pulumi, Terraform]</td>\n      <td>[Visual Studio, Visual Studio Code]</td>\n      <td>[Neovim, Visual Studio Code]</td>\n      <td>[Linux-based, Windows]</td>\n      <td>[Git]</td>\n      <td>25-34 years old</td>\n      <td>[Man]</td>\n    </tr>\n  </tbody>\n</table>\n<p>73268 rows × 29 columns</p>\n</div>"
     },
     "execution_count": 7,
     "metadata": {},
     "output_type": "execute_result"
    }
   ],
   "source": [
    "survey"
   ],
   "metadata": {
    "collapsed": false
   }
  },
  {
   "cell_type": "code",
   "execution_count": 8,
   "outputs": [],
   "source": [
    "survey.to_pickle(LOAD_PATH + '2.0-wrangled-data.pkl')"
   ],
   "metadata": {
    "collapsed": false
   }
  },
  {
   "cell_type": "code",
   "execution_count": 8,
   "outputs": [],
   "source": [],
   "metadata": {
    "collapsed": false
   }
  }
 ],
 "metadata": {
  "kernelspec": {
   "display_name": "Python 3",
   "language": "python",
   "name": "python3"
  },
  "language_info": {
   "codemirror_mode": {
    "name": "ipython",
    "version": 2
   },
   "file_extension": ".py",
   "mimetype": "text/x-python",
   "name": "python",
   "nbconvert_exporter": "python",
   "pygments_lexer": "ipython2",
   "version": "2.7.6"
  }
 },
 "nbformat": 4,
 "nbformat_minor": 0
}
