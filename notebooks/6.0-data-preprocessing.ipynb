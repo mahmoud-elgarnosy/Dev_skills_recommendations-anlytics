{
 "cells": [
  {
   "cell_type": "code",
   "execution_count": 1,
   "outputs": [],
   "source": [
    "# Load packages\n",
    "import pandas as pd\n",
    "from sklearn.manifold import TSNE\n",
    "from sklearn.cluster import AgglomerativeClustering\n",
    "from sklearn.metrics import silhouette_score\n",
    "import numpy as np\n",
    "import matplotlib.pyplot as plt\n",
    "import plotly.express as px\n"
   ],
   "metadata": {
    "collapsed": false
   }
  },
  {
   "cell_type": "code",
   "execution_count": 2,
   "outputs": [],
   "source": [
    "FILE_PATH = '../data/raw/survey_results_public.csv'\n",
    "LOAD_PATH = '../data/interim/'\n",
    "LOAD_SKILLS_DEV = '4.1-preprocessed-data_skills_dev.pkl'\n",
    "LOAD_HEAT_MAP = '5.0-EDA-heat_map.pkl'"
   ],
   "metadata": {
    "collapsed": false
   }
  },
  {
   "cell_type": "markdown",
   "source": [
    "# More preprocessing steps:\n",
    "1. Drop roles: ['Student', 'Other (please specify):', 'Designer', 'Educator', 'Product manager', 'Marketing or sales professional']\n",
    "2. split roles: ['Developer_full-stack', 'Developer_back-end']\n",
    "3. Cluster similar roles"
   ],
   "metadata": {
    "collapsed": false
   }
  },
  {
   "cell_type": "code",
   "execution_count": 98,
   "outputs": [],
   "source": [
    "def reduce_dimensions(df):\n",
    "    tsne_data = pd.DataFrame(TSNE(n_components=2, learning_rate=.01,\n",
    "                                 perplexity=3, n_iter = 10**10).fit_transform(df),\n",
    "                 index = df.index)\n",
    "\n",
    "    return tsne_data"
   ],
   "metadata": {
    "collapsed": false
   }
  },
  {
   "cell_type": "code",
   "execution_count": 99,
   "outputs": [],
   "source": [
    "def evaluate_cluster_model(tsne_data, range_clusters=range(1,5), plot = True):\n",
    "    scores = []\n",
    "    for k in range_clusters:\n",
    "        model = AgglomerativeClustering(n_clusters=k)\n",
    "\n",
    "        # predict cluster labels for test data\n",
    "        labels = model.fit_predict(tsne_data)\n",
    "\n",
    "        score = silhouette_score(tsne_data, labels)\n",
    "        scores.append(score)\n",
    "\n",
    "\n",
    "    best_k = np.argmax(scores) + range_clusters[0]\n",
    "    best_labels = AgglomerativeClustering(n_clusters=best_k).fit_predict(tsne_data)\n",
    "\n",
    "    if plot:\n",
    "        # silhouette score\n",
    "        plt.plot(range_clusters, scores)\n",
    "        plt.axvline(best_k, color='black')\n",
    "        plt.title('silhouette score')\n",
    "        plt.xlabel('Number of clusters')\n",
    "        plt.ylabel('score')\n",
    "        plt.show()\n",
    "\n",
    "    return best_k, best_labels"
   ],
   "metadata": {
    "collapsed": false
   }
  },
  {
   "cell_type": "code",
   "execution_count": 100,
   "outputs": [],
   "source": [
    "def visualize_chosen_cluster_model(tsne_data, cluster_labels):\n",
    "    fig = px.scatter(x=tsne_data[0],\n",
    "                    y=tsne_data[1],\n",
    "                    text=tsne_data.index,\n",
    "                    color=cluster_labels)\n",
    "    fig.update_traces(textposition='top center')\n",
    "    fig.update_layout(height=900, width=1500, title_text='Cluster')\n",
    "    fig.show()"
   ],
   "metadata": {
    "collapsed": false
   }
  },
  {
   "cell_type": "markdown",
   "source": [
    "# Load Data"
   ],
   "metadata": {
    "collapsed": false
   }
  },
  {
   "cell_type": "code",
   "execution_count": 101,
   "outputs": [],
   "source": [
    "skills_dev_df = pd.read_pickle(LOAD_PATH + LOAD_SKILLS_DEV)\n",
    "developers_skills = pd.read_pickle(LOAD_PATH + LOAD_HEAT_MAP)"
   ],
   "metadata": {
    "collapsed": false
   }
  },
  {
   "cell_type": "code",
   "execution_count": 102,
   "outputs": [
    {
     "data": {
      "text/plain": "      Languages                                                           \\\n            APL  Assembly Bash/Shell         C        C#       C++ COBOL   \n2      0.000000  0.000000   0.000000  0.000000  0.078225  0.078225   0.0   \n3      0.000000  0.000000   0.000000  0.000000  0.348833  0.000000   0.0   \n7      0.002722  0.000000   0.002722  0.005444  0.000000  0.005444   0.0   \n9      0.000000  0.000000   0.000000  0.000000  0.000000  0.000000   0.0   \n10     0.000000  0.000000   0.074712  0.000000  0.112069  0.000000   0.0   \n...         ...       ...        ...       ...       ...       ...   ...   \n73262  0.000000  0.002167   0.000000  0.002167  0.000000  0.003250   0.0   \n73263  0.000000  0.000000   0.159422  0.000000  0.000000  0.000000   0.0   \n73264  0.000000  0.000000   0.034767  0.000000  0.000000  0.000000   0.0   \n73265  0.000000  0.000000   0.000000  0.000000  0.085912  0.000000   0.0   \n73266  0.000000  0.000000   0.000000  0.000000  0.271340  0.000000   0.0   \n\n                                 ...             DevType  \\\n      Clojure Crystal      Dart  ... Engineering manager   \n2         0.0     0.0  0.000000  ...                   0   \n3         0.0     0.0  0.000000  ...                   0   \n7         0.0     0.0  0.000000  ...                   0   \n9         0.0     0.0  0.000000  ...                   0   \n10        0.0     0.0  0.000000  ...                   0   \n...       ...     ...       ...  ...                 ...   \n73262     0.0     0.0  0.000000  ...                   0   \n73263     0.0     0.0  0.106281  ...                   0   \n73264     0.0     0.0  0.000000  ...                   0   \n73265     0.0     0.0  0.000000  ...                   0   \n73266     0.0     0.0  0.000000  ...                   0   \n\n                                                                               \\\n      Marketing or sales professional Other (please specify): Product manager   \n2                                   0                       0               0   \n3                                   0                       0               0   \n7                                   0                       0               0   \n9                                   0                       0               0   \n10                                  0                       0               0   \n...                               ...                     ...             ...   \n73262                               0                       0               0   \n73263                               0                       0               0   \n73264                               0                       0               0   \n73265                               0                       0               0   \n73266                               0                       0               0   \n\n                                                       \\\n      Project manager Scientist Security professional   \n2                   0         0                     0   \n3                   0         0                     0   \n7                   0         0                     0   \n9                   0         0                     0   \n10                  0         0                     0   \n...               ...       ...                   ...   \n73262               0         0                     0   \n73263               0         0                     0   \n73264               0         0                     0   \n73265               0         0                     0   \n73266               0         0                     0   \n\n                                                                       \n      Senior Executive (C-Suite_VP_etc.) Student System administrator  \n2                                      0       0                    0  \n3                                      0       0                    0  \n7                                      0       1                    0  \n9                                      0       0                    0  \n10                                     0       0                    0  \n...                                  ...     ...                  ...  \n73262                                  0       1                    0  \n73263                                  0       0                    0  \n73264                                  0       0                    0  \n73265                                  0       0                    1  \n73266                                  0       0                    0  \n\n[50423 rows x 190 columns]",
      "text/html": "<div>\n<style scoped>\n    .dataframe tbody tr th:only-of-type {\n        vertical-align: middle;\n    }\n\n    .dataframe tbody tr th {\n        vertical-align: top;\n    }\n\n    .dataframe thead tr th {\n        text-align: left;\n    }\n</style>\n<table border=\"1\" class=\"dataframe\">\n  <thead>\n    <tr>\n      <th></th>\n      <th colspan=\"10\" halign=\"left\">Languages</th>\n      <th>...</th>\n      <th colspan=\"10\" halign=\"left\">DevType</th>\n    </tr>\n    <tr>\n      <th></th>\n      <th>APL</th>\n      <th>Assembly</th>\n      <th>Bash/Shell</th>\n      <th>C</th>\n      <th>C#</th>\n      <th>C++</th>\n      <th>COBOL</th>\n      <th>Clojure</th>\n      <th>Crystal</th>\n      <th>Dart</th>\n      <th>...</th>\n      <th>Engineering manager</th>\n      <th>Marketing or sales professional</th>\n      <th>Other (please specify):</th>\n      <th>Product manager</th>\n      <th>Project manager</th>\n      <th>Scientist</th>\n      <th>Security professional</th>\n      <th>Senior Executive (C-Suite_VP_etc.)</th>\n      <th>Student</th>\n      <th>System administrator</th>\n    </tr>\n  </thead>\n  <tbody>\n    <tr>\n      <th>2</th>\n      <td>0.000000</td>\n      <td>0.000000</td>\n      <td>0.000000</td>\n      <td>0.000000</td>\n      <td>0.078225</td>\n      <td>0.078225</td>\n      <td>0.0</td>\n      <td>0.0</td>\n      <td>0.0</td>\n      <td>0.000000</td>\n      <td>...</td>\n      <td>0</td>\n      <td>0</td>\n      <td>0</td>\n      <td>0</td>\n      <td>0</td>\n      <td>0</td>\n      <td>0</td>\n      <td>0</td>\n      <td>0</td>\n      <td>0</td>\n    </tr>\n    <tr>\n      <th>3</th>\n      <td>0.000000</td>\n      <td>0.000000</td>\n      <td>0.000000</td>\n      <td>0.000000</td>\n      <td>0.348833</td>\n      <td>0.000000</td>\n      <td>0.0</td>\n      <td>0.0</td>\n      <td>0.0</td>\n      <td>0.000000</td>\n      <td>...</td>\n      <td>0</td>\n      <td>0</td>\n      <td>0</td>\n      <td>0</td>\n      <td>0</td>\n      <td>0</td>\n      <td>0</td>\n      <td>0</td>\n      <td>0</td>\n      <td>0</td>\n    </tr>\n    <tr>\n      <th>7</th>\n      <td>0.002722</td>\n      <td>0.000000</td>\n      <td>0.002722</td>\n      <td>0.005444</td>\n      <td>0.000000</td>\n      <td>0.005444</td>\n      <td>0.0</td>\n      <td>0.0</td>\n      <td>0.0</td>\n      <td>0.000000</td>\n      <td>...</td>\n      <td>0</td>\n      <td>0</td>\n      <td>0</td>\n      <td>0</td>\n      <td>0</td>\n      <td>0</td>\n      <td>0</td>\n      <td>0</td>\n      <td>1</td>\n      <td>0</td>\n    </tr>\n    <tr>\n      <th>9</th>\n      <td>0.000000</td>\n      <td>0.000000</td>\n      <td>0.000000</td>\n      <td>0.000000</td>\n      <td>0.000000</td>\n      <td>0.000000</td>\n      <td>0.0</td>\n      <td>0.0</td>\n      <td>0.0</td>\n      <td>0.000000</td>\n      <td>...</td>\n      <td>0</td>\n      <td>0</td>\n      <td>0</td>\n      <td>0</td>\n      <td>0</td>\n      <td>0</td>\n      <td>0</td>\n      <td>0</td>\n      <td>0</td>\n      <td>0</td>\n    </tr>\n    <tr>\n      <th>10</th>\n      <td>0.000000</td>\n      <td>0.000000</td>\n      <td>0.074712</td>\n      <td>0.000000</td>\n      <td>0.112069</td>\n      <td>0.000000</td>\n      <td>0.0</td>\n      <td>0.0</td>\n      <td>0.0</td>\n      <td>0.000000</td>\n      <td>...</td>\n      <td>0</td>\n      <td>0</td>\n      <td>0</td>\n      <td>0</td>\n      <td>0</td>\n      <td>0</td>\n      <td>0</td>\n      <td>0</td>\n      <td>0</td>\n      <td>0</td>\n    </tr>\n    <tr>\n      <th>...</th>\n      <td>...</td>\n      <td>...</td>\n      <td>...</td>\n      <td>...</td>\n      <td>...</td>\n      <td>...</td>\n      <td>...</td>\n      <td>...</td>\n      <td>...</td>\n      <td>...</td>\n      <td>...</td>\n      <td>...</td>\n      <td>...</td>\n      <td>...</td>\n      <td>...</td>\n      <td>...</td>\n      <td>...</td>\n      <td>...</td>\n      <td>...</td>\n      <td>...</td>\n      <td>...</td>\n    </tr>\n    <tr>\n      <th>73262</th>\n      <td>0.000000</td>\n      <td>0.002167</td>\n      <td>0.000000</td>\n      <td>0.002167</td>\n      <td>0.000000</td>\n      <td>0.003250</td>\n      <td>0.0</td>\n      <td>0.0</td>\n      <td>0.0</td>\n      <td>0.000000</td>\n      <td>...</td>\n      <td>0</td>\n      <td>0</td>\n      <td>0</td>\n      <td>0</td>\n      <td>0</td>\n      <td>0</td>\n      <td>0</td>\n      <td>0</td>\n      <td>1</td>\n      <td>0</td>\n    </tr>\n    <tr>\n      <th>73263</th>\n      <td>0.000000</td>\n      <td>0.000000</td>\n      <td>0.159422</td>\n      <td>0.000000</td>\n      <td>0.000000</td>\n      <td>0.000000</td>\n      <td>0.0</td>\n      <td>0.0</td>\n      <td>0.0</td>\n      <td>0.106281</td>\n      <td>...</td>\n      <td>0</td>\n      <td>0</td>\n      <td>0</td>\n      <td>0</td>\n      <td>0</td>\n      <td>0</td>\n      <td>0</td>\n      <td>0</td>\n      <td>0</td>\n      <td>0</td>\n    </tr>\n    <tr>\n      <th>73264</th>\n      <td>0.000000</td>\n      <td>0.000000</td>\n      <td>0.034767</td>\n      <td>0.000000</td>\n      <td>0.000000</td>\n      <td>0.000000</td>\n      <td>0.0</td>\n      <td>0.0</td>\n      <td>0.0</td>\n      <td>0.000000</td>\n      <td>...</td>\n      <td>0</td>\n      <td>0</td>\n      <td>0</td>\n      <td>0</td>\n      <td>0</td>\n      <td>0</td>\n      <td>0</td>\n      <td>0</td>\n      <td>0</td>\n      <td>0</td>\n    </tr>\n    <tr>\n      <th>73265</th>\n      <td>0.000000</td>\n      <td>0.000000</td>\n      <td>0.000000</td>\n      <td>0.000000</td>\n      <td>0.085912</td>\n      <td>0.000000</td>\n      <td>0.0</td>\n      <td>0.0</td>\n      <td>0.0</td>\n      <td>0.000000</td>\n      <td>...</td>\n      <td>0</td>\n      <td>0</td>\n      <td>0</td>\n      <td>0</td>\n      <td>0</td>\n      <td>0</td>\n      <td>0</td>\n      <td>0</td>\n      <td>0</td>\n      <td>1</td>\n    </tr>\n    <tr>\n      <th>73266</th>\n      <td>0.000000</td>\n      <td>0.000000</td>\n      <td>0.000000</td>\n      <td>0.000000</td>\n      <td>0.271340</td>\n      <td>0.000000</td>\n      <td>0.0</td>\n      <td>0.0</td>\n      <td>0.0</td>\n      <td>0.000000</td>\n      <td>...</td>\n      <td>0</td>\n      <td>0</td>\n      <td>0</td>\n      <td>0</td>\n      <td>0</td>\n      <td>0</td>\n      <td>0</td>\n      <td>0</td>\n      <td>0</td>\n      <td>0</td>\n    </tr>\n  </tbody>\n</table>\n<p>50423 rows × 190 columns</p>\n</div>"
     },
     "execution_count": 102,
     "metadata": {},
     "output_type": "execute_result"
    }
   ],
   "source": [
    "skills_dev_df"
   ],
   "metadata": {
    "collapsed": false
   }
  },
  {
   "cell_type": "code",
   "execution_count": 103,
   "outputs": [
    {
     "data": {
      "text/plain": "                                               Visual Studio Code    Docker  \\\njob_type                                                                      \nDeveloper_full-stack                                     0.643478  0.332226   \nDeveloper_back-end                                       0.550099  0.914106   \nDeveloper_front-end                                      0.236148 -0.399740   \nDeveloper_desktop or enterprise applications             1.072204 -0.116014   \nDeveloper_mobile                                        -0.395971 -1.049828   \nStudent                                                 -3.279573 -2.229095   \nDevOps specialist                                        1.266718  1.909046   \nCloud infrastructure engineer                            1.458073  2.210924   \nData scientist or machine learning specialist            0.006104  0.130051   \nEngineering manager                                      2.048768  1.727352   \nOther (please specify):                                 -0.319644 -0.470583   \nDeveloper_embedded applications or devices               0.912731  0.160537   \nEngineer_data                                            0.446945  0.671038   \nSystem administrator                                    -0.928674 -0.418010   \nAcademic researcher                                     -1.152162 -0.872511   \nData or business analyst                                -0.392151 -0.843358   \nDatabase administrator                                  -0.073381 -0.267234   \nProject manager                                          0.239500 -0.286755   \nDesigner                                                -0.384395 -0.945792   \nDeveloper_QA or test                                    -0.158033  0.118238   \nEducator                                                 0.187671 -0.206436   \nScientist                                               -0.367106 -0.417981   \nDeveloper_game or graphics                              -0.291410 -1.108644   \nProduct manager                                         -0.190465 -0.228531   \nEngineer_site reliability                                0.575045  1.784475   \nSenior Executive (C-Suite_VP_etc.)                       0.649427  0.646128   \nSecurity professional                                    0.009959  0.489972   \nBlockchain                                              -0.605562  0.002946   \nMarketing or sales professional                         -1.764343 -1.236530   \n\n                                               JavaScript       SQL       AWS  \\\njob_type                                                                        \nDeveloper_full-stack                             1.728091  0.648325  0.242281   \nDeveloper_back-end                               0.496119  0.748761  0.735634   \nDeveloper_front-end                              1.432101 -0.549764 -0.415795   \nDeveloper_desktop or enterprise applications     0.439195  1.060457 -0.447683   \nDeveloper_mobile                                -0.450053 -1.020856 -0.610251   \nStudent                                         -2.637569 -2.265563 -2.117238   \nDevOps specialist                                0.970309  0.767482  1.261948   \nCloud infrastructure engineer                    0.868015  0.618616  2.455382   \nData scientist or machine learning specialist   -1.182329  0.204205  0.217920   \nEngineering manager                              1.921981  1.212738  2.141622   \nOther (please specify):                         -0.315887 -0.458740 -0.332297   \nDeveloper_embedded applications or devices      -0.806108 -1.021015 -0.818063   \nEngineer_data                                   -0.690541  1.464434  0.994830   \nSystem administrator                            -0.260243  0.180792 -0.566827   \nAcademic researcher                             -1.393644 -1.228593 -1.191841   \nData or business analyst                        -0.676813  1.235913 -0.415299   \nDatabase administrator                           0.601221  2.176569 -0.107166   \nProject manager                                  0.565105  0.391290 -0.264545   \nDesigner                                         0.321127 -0.397435 -0.760006   \nDeveloper_QA or test                             0.212616  0.119997 -0.317196   \nEducator                                         0.400161  0.014871 -0.510199   \nScientist                                       -1.266814 -1.082666 -0.678400   \nDeveloper_game or graphics                      -0.854913 -1.561539 -0.866170   \nProduct manager                                  0.577912  0.155194 -0.093191   \nEngineer_site reliability                        0.037789 -0.066499  1.669988   \nSenior Executive (C-Suite_VP_etc.)               1.177788  0.875966  1.207209   \nSecurity professional                           -0.000412 -0.266744  0.438080   \nBlockchain                                      -0.385302 -1.055627 -0.116647   \nMarketing or sales professional                 -0.828903 -0.900570 -0.736080   \n\n                                               HTML/CSS       npm    Python  \\\njob_type                                                                      \nDeveloper_full-stack                           1.865029  1.832151 -0.750718   \nDeveloper_back-end                             0.197229  0.576055 -0.178736   \nDeveloper_front-end                            1.754327  1.783955 -1.337430   \nDeveloper_desktop or enterprise applications   0.611498  0.048091 -0.185279   \nDeveloper_mobile                              -0.584926  0.069974 -1.354042   \nStudent                                       -2.577261 -2.193497 -2.210949   \nDevOps specialist                              0.789238  1.103082  0.819004   \nCloud infrastructure engineer                  0.318414  1.025740  1.063354   \nData scientist or machine learning specialist -1.039415 -1.243492  2.017619   \nEngineering manager                            1.406154  1.947077  0.416208   \nOther (please specify):                       -0.276890 -0.218381 -0.355341   \nDeveloper_embedded applications or devices    -0.671652 -0.867991  1.548937   \nEngineer_data                                 -1.034294 -0.637480  1.586859   \nSystem administrator                           0.093933 -0.542189 -0.262306   \nAcademic researcher                           -1.172294 -1.341553  0.528343   \nData or business analyst                      -0.434139 -0.953661  0.498581   \nDatabase administrator                         0.955513 -0.113918 -0.363702   \nProject manager                                0.600031  0.386211 -0.495684   \nDesigner                                       0.844715  0.148391 -0.846711   \nDeveloper_QA or test                           0.182364  0.243050  0.133712   \nEducator                                       0.842994  0.458744  0.140723   \nScientist                                     -1.038208 -1.441161  1.514749   \nDeveloper_game or graphics                    -0.893849 -0.687757 -0.565497   \nProduct manager                                0.448002  0.492225 -0.563775   \nEngineer_site reliability                     -0.581576 -0.093784  1.211204   \nSenior Executive (C-Suite_VP_etc.)             1.164838  1.125458 -0.263920   \nSecurity professional                          0.011952 -0.307886  0.433549   \nBlockchain                                    -0.941753  0.292298 -1.014278   \nMarketing or sales professional               -0.839974 -0.889753 -1.164476   \n\n                                               PostgreSQL  TypeScript  ...  \\\njob_type                                                               ...   \nDeveloper_full-stack                             0.462563    1.885592  ...   \nDeveloper_back-end                               0.988439    0.552868  ...   \nDeveloper_front-end                             -0.479756    1.949929  ...   \nDeveloper_desktop or enterprise applications    -0.228375    0.274480  ...   \nDeveloper_mobile                                -1.016884   -0.006727  ...   \nStudent                                         -2.152963   -1.828362  ...   \nDevOps specialist                                1.384323    1.024111  ...   \nCloud infrastructure engineer                    1.721389    1.314664  ...   \nData scientist or machine learning specialist    0.041236   -1.208772  ...   \nEngineering manager                              1.938685    2.062469  ...   \nOther (please specify):                         -0.695476   -0.341629  ...   \nDeveloper_embedded applications or devices      -0.889149   -0.819257  ...   \nEngineer_data                                    1.059906   -0.630390  ...   \nSystem administrator                             0.023087   -0.754545  ...   \nAcademic researcher                             -0.976324   -1.320477  ...   \nData or business analyst                        -0.150022   -0.960280  ...   \nDatabase administrator                           0.503527   -0.185761  ...   \nProject manager                                 -0.273016    0.153723  ...   \nDesigner                                        -0.872401    0.017237  ...   \nDeveloper_QA or test                            -0.239773    0.059430  ...   \nEducator                                        -0.043784    0.206837  ...   \nScientist                                       -0.814821   -1.314481  ...   \nDeveloper_game or graphics                      -1.301447   -0.461848  ...   \nProduct manager                                  0.000488    0.115544  ...   \nEngineer_site reliability                        1.468758    0.129094  ...   \nSenior Executive (C-Suite_VP_etc.)               1.518650    1.004866  ...   \nSecurity professional                            0.089269   -0.221553  ...   \nBlockchain                                       0.272430    0.553946  ...   \nMarketing or sales professional                 -1.338560   -1.250707  ...   \n\n                                               Colocation  TextMate  \\\njob_type                                                              \nDeveloper_full-stack                            -0.493280 -0.179719   \nDeveloper_back-end                              -0.317469  0.014596   \nDeveloper_front-end                             -0.999980 -0.762550   \nDeveloper_desktop or enterprise applications    -0.597945 -0.563494   \nDeveloper_mobile                                -0.893595  1.274784   \nStudent                                         -1.217601 -1.774108   \nDevOps specialist                                0.564949  0.675245   \nCloud infrastructure engineer                    0.889344 -0.083792   \nData scientist or machine learning specialist   -0.301037  0.111160   \nEngineering manager                              1.062065  1.632233   \nOther (please specify):                         -0.139972 -0.526620   \nDeveloper_embedded applications or devices      -0.424536 -0.115243   \nEngineer_data                                   -0.207300  0.070192   \nSystem administrator                             0.571873  0.304039   \nAcademic researcher                             -0.964464  0.837149   \nData or business analyst                        -0.761052 -1.558797   \nDatabase administrator                          -0.011945  0.576926   \nProject manager                                 -0.445566 -0.542596   \nDesigner                                        -0.375058 -0.035050   \nDeveloper_QA or test                            -0.527540 -1.024427   \nEducator                                        -0.536369  1.395287   \nScientist                                       -0.689614  2.252830   \nDeveloper_game or graphics                      -0.019865  0.212231   \nProduct manager                                  0.083016  0.140815   \nEngineer_site reliability                        2.501697 -0.730849   \nSenior Executive (C-Suite_VP_etc.)               3.553106  1.781858   \nSecurity professional                            0.573556 -1.114273   \nBlockchain                                       0.035531 -1.552622   \nMarketing or sales professional                  0.089050 -0.715203   \n\n                                               Play Framework     COBOL  \\\njob_type                                                                  \nDeveloper_full-stack                                 0.350002 -0.695551   \nDeveloper_back-end                                   1.161129  0.127976   \nDeveloper_front-end                                 -0.631086 -0.739608   \nDeveloper_desktop or enterprise applications        -0.321794  2.090686   \nDeveloper_mobile                                    -0.705614 -0.733896   \nStudent                                             -1.398888 -1.671400   \nDevOps specialist                                    0.430476 -0.290197   \nCloud infrastructure engineer                        1.201307  0.002524   \nData scientist or machine learning specialist       -0.306335 -0.181985   \nEngineering manager                                  2.089052 -1.207851   \nOther (please specify):                              0.050760  0.414849   \nDeveloper_embedded applications or devices          -1.166190  0.248941   \nEngineer_data                                        2.475809 -0.411377   \nSystem administrator                                -0.959007 -0.489841   \nAcademic researcher                                  0.217337 -0.558934   \nData or business analyst                            -0.845096  1.911843   \nDatabase administrator                              -0.841680  2.250180   \nProject manager                                      0.189836  0.306521   \nDesigner                                            -0.218211  1.049075   \nDeveloper_QA or test                                -0.621087  0.236848   \nEducator                                             0.184826 -0.020947   \nScientist                                           -0.843090  0.747246   \nDeveloper_game or graphics                          -1.223942 -0.886450   \nProduct manager                                     -0.281438  0.188860   \nEngineer_site reliability                            1.531704  1.063354   \nSenior Executive (C-Suite_VP_etc.)                   1.272229  0.526987   \nSecurity professional                                0.441841 -0.136545   \nBlockchain                                           0.051793 -1.631595   \nMarketing or sales professional                     -1.284643 -1.509716   \n\n                                                  OCaml  Uno Platform  \\\njob_type                                                                \nDeveloper_full-stack                          -0.330071     -0.216482   \nDeveloper_back-end                             0.037173     -0.312642   \nDeveloper_front-end                           -0.696566     -0.484214   \nDeveloper_desktop or enterprise applications  -0.380184      2.660026   \nDeveloper_mobile                              -1.207540      1.291526   \nStudent                                       -1.594260     -1.234213   \nDevOps specialist                             -0.294740     -0.156091   \nCloud infrastructure engineer                  0.405381     -0.223396   \nData scientist or machine learning specialist  0.159016     -1.044706   \nEngineering manager                            0.736906      1.387433   \nOther (please specify):                        0.491139     -0.246090   \nDeveloper_embedded applications or devices     0.413359      0.303510   \nEngineer_data                                  0.234873     -0.752207   \nSystem administrator                          -0.104931     -0.891470   \nAcademic researcher                            3.012994     -0.906910   \nData or business analyst                      -0.902029      0.057043   \nDatabase administrator                        -0.058494      0.120643   \nProject manager                               -0.577352      0.838152   \nDesigner                                      -1.415454     -0.628136   \nDeveloper_QA or test                          -0.199361     -0.859954   \nEducator                                       1.150284     -0.506052   \nScientist                                      1.833625     -1.097349   \nDeveloper_game or graphics                    -0.578198      1.051431   \nProduct manager                               -0.329311      1.875282   \nEngineer_site reliability                     -0.391872      0.976361   \nSenior Executive (C-Suite_VP_etc.)             0.563360      1.315477   \nSecurity professional                          0.849728     -1.127229   \nBlockchain                                     1.005260     -0.189577   \nMarketing or sales professional               -1.832733     -1.000165   \n\n                                                Crystal      Flow       SAS  \\\njob_type                                                                      \nDeveloper_full-stack                           0.058709  0.553920 -0.270572   \nDeveloper_back-end                             0.427555 -0.417501 -0.332298   \nDeveloper_front-end                           -0.866534  1.550171 -0.137506   \nDeveloper_desktop or enterprise applications   1.370289 -0.266390 -0.478204   \nDeveloper_mobile                              -0.678031  2.157946 -0.559376   \nStudent                                       -1.401607 -1.812963 -0.560996   \nDevOps specialist                              0.179083  0.554074 -0.425891   \nCloud infrastructure engineer                  0.636793  0.220895 -0.296076   \nData scientist or machine learning specialist -0.734732 -1.327205  3.472358   \nEngineering manager                            0.403426  0.959905 -0.573873   \nOther (please specify):                        0.060115  1.116756 -0.455576   \nDeveloper_embedded applications or devices    -0.899388 -0.504913 -0.621495   \nEngineer_data                                  0.610665  0.754960  0.842326   \nSystem administrator                           0.562920 -0.735651 -0.629136   \nAcademic researcher                           -1.132873 -1.705035  0.485566   \nData or business analyst                       2.105447  0.051996  3.041105   \nDatabase administrator                         2.696914 -0.966018 -0.044465   \nProject manager                                0.670701 -0.407448 -0.242319   \nDesigner                                      -0.364316  0.522913 -0.511140   \nDeveloper_QA or test                           0.527318  0.735753  0.171031   \nEducator                                      -1.302216  0.864425  0.301480   \nScientist                                     -1.108318 -1.490467  1.264555   \nDeveloper_game or graphics                    -0.226215  0.685337 -0.549047   \nProduct manager                               -0.950257 -0.464061 -0.272045   \nEngineer_site reliability                      1.306856 -0.527539 -0.677037   \nSenior Executive (C-Suite_VP_etc.)            -0.344534 -1.088689 -0.023848   \nSecurity professional                          0.148013 -0.430602 -0.636260   \nBlockchain                                    -0.873716  1.520467 -0.663465   \nMarketing or sales professional               -0.882066 -0.105035 -0.617796   \n\n                                                    APL  \njob_type                                                 \nDeveloper_full-stack                          -0.834793  \nDeveloper_back-end                            -0.691988  \nDeveloper_front-end                           -1.055376  \nDeveloper_desktop or enterprise applications  -0.135522  \nDeveloper_mobile                              -0.888334  \nStudent                                       -1.430756  \nDevOps specialist                             -0.351631  \nCloud infrastructure engineer                  0.292490  \nData scientist or machine learning specialist -0.358396  \nEngineering manager                           -0.923875  \nOther (please specify):                       -0.846846  \nDeveloper_embedded applications or devices    -0.757629  \nEngineer_data                                  0.331481  \nSystem administrator                          -0.539145  \nAcademic researcher                            2.309161  \nData or business analyst                       1.605508  \nDatabase administrator                         1.402888  \nProject manager                                0.131282  \nDesigner                                       0.418027  \nDeveloper_QA or test                           0.627898  \nEducator                                       0.266137  \nScientist                                      2.754831  \nDeveloper_game or graphics                    -1.023479  \nProduct manager                                0.326026  \nEngineer_site reliability                     -0.243448  \nSenior Executive (C-Suite_VP_etc.)            -1.046261  \nSecurity professional                         -0.045376  \nBlockchain                                     0.733730  \nMarketing or sales professional               -0.026606  \n\n[29 rows x 161 columns]",
      "text/html": "<div>\n<style scoped>\n    .dataframe tbody tr th:only-of-type {\n        vertical-align: middle;\n    }\n\n    .dataframe tbody tr th {\n        vertical-align: top;\n    }\n\n    .dataframe thead th {\n        text-align: right;\n    }\n</style>\n<table border=\"1\" class=\"dataframe\">\n  <thead>\n    <tr style=\"text-align: right;\">\n      <th></th>\n      <th>Visual Studio Code</th>\n      <th>Docker</th>\n      <th>JavaScript</th>\n      <th>SQL</th>\n      <th>AWS</th>\n      <th>HTML/CSS</th>\n      <th>npm</th>\n      <th>Python</th>\n      <th>PostgreSQL</th>\n      <th>TypeScript</th>\n      <th>...</th>\n      <th>Colocation</th>\n      <th>TextMate</th>\n      <th>Play Framework</th>\n      <th>COBOL</th>\n      <th>OCaml</th>\n      <th>Uno Platform</th>\n      <th>Crystal</th>\n      <th>Flow</th>\n      <th>SAS</th>\n      <th>APL</th>\n    </tr>\n    <tr>\n      <th>job_type</th>\n      <th></th>\n      <th></th>\n      <th></th>\n      <th></th>\n      <th></th>\n      <th></th>\n      <th></th>\n      <th></th>\n      <th></th>\n      <th></th>\n      <th></th>\n      <th></th>\n      <th></th>\n      <th></th>\n      <th></th>\n      <th></th>\n      <th></th>\n      <th></th>\n      <th></th>\n      <th></th>\n      <th></th>\n    </tr>\n  </thead>\n  <tbody>\n    <tr>\n      <th>Developer_full-stack</th>\n      <td>0.643478</td>\n      <td>0.332226</td>\n      <td>1.728091</td>\n      <td>0.648325</td>\n      <td>0.242281</td>\n      <td>1.865029</td>\n      <td>1.832151</td>\n      <td>-0.750718</td>\n      <td>0.462563</td>\n      <td>1.885592</td>\n      <td>...</td>\n      <td>-0.493280</td>\n      <td>-0.179719</td>\n      <td>0.350002</td>\n      <td>-0.695551</td>\n      <td>-0.330071</td>\n      <td>-0.216482</td>\n      <td>0.058709</td>\n      <td>0.553920</td>\n      <td>-0.270572</td>\n      <td>-0.834793</td>\n    </tr>\n    <tr>\n      <th>Developer_back-end</th>\n      <td>0.550099</td>\n      <td>0.914106</td>\n      <td>0.496119</td>\n      <td>0.748761</td>\n      <td>0.735634</td>\n      <td>0.197229</td>\n      <td>0.576055</td>\n      <td>-0.178736</td>\n      <td>0.988439</td>\n      <td>0.552868</td>\n      <td>...</td>\n      <td>-0.317469</td>\n      <td>0.014596</td>\n      <td>1.161129</td>\n      <td>0.127976</td>\n      <td>0.037173</td>\n      <td>-0.312642</td>\n      <td>0.427555</td>\n      <td>-0.417501</td>\n      <td>-0.332298</td>\n      <td>-0.691988</td>\n    </tr>\n    <tr>\n      <th>Developer_front-end</th>\n      <td>0.236148</td>\n      <td>-0.399740</td>\n      <td>1.432101</td>\n      <td>-0.549764</td>\n      <td>-0.415795</td>\n      <td>1.754327</td>\n      <td>1.783955</td>\n      <td>-1.337430</td>\n      <td>-0.479756</td>\n      <td>1.949929</td>\n      <td>...</td>\n      <td>-0.999980</td>\n      <td>-0.762550</td>\n      <td>-0.631086</td>\n      <td>-0.739608</td>\n      <td>-0.696566</td>\n      <td>-0.484214</td>\n      <td>-0.866534</td>\n      <td>1.550171</td>\n      <td>-0.137506</td>\n      <td>-1.055376</td>\n    </tr>\n    <tr>\n      <th>Developer_desktop or enterprise applications</th>\n      <td>1.072204</td>\n      <td>-0.116014</td>\n      <td>0.439195</td>\n      <td>1.060457</td>\n      <td>-0.447683</td>\n      <td>0.611498</td>\n      <td>0.048091</td>\n      <td>-0.185279</td>\n      <td>-0.228375</td>\n      <td>0.274480</td>\n      <td>...</td>\n      <td>-0.597945</td>\n      <td>-0.563494</td>\n      <td>-0.321794</td>\n      <td>2.090686</td>\n      <td>-0.380184</td>\n      <td>2.660026</td>\n      <td>1.370289</td>\n      <td>-0.266390</td>\n      <td>-0.478204</td>\n      <td>-0.135522</td>\n    </tr>\n    <tr>\n      <th>Developer_mobile</th>\n      <td>-0.395971</td>\n      <td>-1.049828</td>\n      <td>-0.450053</td>\n      <td>-1.020856</td>\n      <td>-0.610251</td>\n      <td>-0.584926</td>\n      <td>0.069974</td>\n      <td>-1.354042</td>\n      <td>-1.016884</td>\n      <td>-0.006727</td>\n      <td>...</td>\n      <td>-0.893595</td>\n      <td>1.274784</td>\n      <td>-0.705614</td>\n      <td>-0.733896</td>\n      <td>-1.207540</td>\n      <td>1.291526</td>\n      <td>-0.678031</td>\n      <td>2.157946</td>\n      <td>-0.559376</td>\n      <td>-0.888334</td>\n    </tr>\n    <tr>\n      <th>Student</th>\n      <td>-3.279573</td>\n      <td>-2.229095</td>\n      <td>-2.637569</td>\n      <td>-2.265563</td>\n      <td>-2.117238</td>\n      <td>-2.577261</td>\n      <td>-2.193497</td>\n      <td>-2.210949</td>\n      <td>-2.152963</td>\n      <td>-1.828362</td>\n      <td>...</td>\n      <td>-1.217601</td>\n      <td>-1.774108</td>\n      <td>-1.398888</td>\n      <td>-1.671400</td>\n      <td>-1.594260</td>\n      <td>-1.234213</td>\n      <td>-1.401607</td>\n      <td>-1.812963</td>\n      <td>-0.560996</td>\n      <td>-1.430756</td>\n    </tr>\n    <tr>\n      <th>DevOps specialist</th>\n      <td>1.266718</td>\n      <td>1.909046</td>\n      <td>0.970309</td>\n      <td>0.767482</td>\n      <td>1.261948</td>\n      <td>0.789238</td>\n      <td>1.103082</td>\n      <td>0.819004</td>\n      <td>1.384323</td>\n      <td>1.024111</td>\n      <td>...</td>\n      <td>0.564949</td>\n      <td>0.675245</td>\n      <td>0.430476</td>\n      <td>-0.290197</td>\n      <td>-0.294740</td>\n      <td>-0.156091</td>\n      <td>0.179083</td>\n      <td>0.554074</td>\n      <td>-0.425891</td>\n      <td>-0.351631</td>\n    </tr>\n    <tr>\n      <th>Cloud infrastructure engineer</th>\n      <td>1.458073</td>\n      <td>2.210924</td>\n      <td>0.868015</td>\n      <td>0.618616</td>\n      <td>2.455382</td>\n      <td>0.318414</td>\n      <td>1.025740</td>\n      <td>1.063354</td>\n      <td>1.721389</td>\n      <td>1.314664</td>\n      <td>...</td>\n      <td>0.889344</td>\n      <td>-0.083792</td>\n      <td>1.201307</td>\n      <td>0.002524</td>\n      <td>0.405381</td>\n      <td>-0.223396</td>\n      <td>0.636793</td>\n      <td>0.220895</td>\n      <td>-0.296076</td>\n      <td>0.292490</td>\n    </tr>\n    <tr>\n      <th>Data scientist or machine learning specialist</th>\n      <td>0.006104</td>\n      <td>0.130051</td>\n      <td>-1.182329</td>\n      <td>0.204205</td>\n      <td>0.217920</td>\n      <td>-1.039415</td>\n      <td>-1.243492</td>\n      <td>2.017619</td>\n      <td>0.041236</td>\n      <td>-1.208772</td>\n      <td>...</td>\n      <td>-0.301037</td>\n      <td>0.111160</td>\n      <td>-0.306335</td>\n      <td>-0.181985</td>\n      <td>0.159016</td>\n      <td>-1.044706</td>\n      <td>-0.734732</td>\n      <td>-1.327205</td>\n      <td>3.472358</td>\n      <td>-0.358396</td>\n    </tr>\n    <tr>\n      <th>Engineering manager</th>\n      <td>2.048768</td>\n      <td>1.727352</td>\n      <td>1.921981</td>\n      <td>1.212738</td>\n      <td>2.141622</td>\n      <td>1.406154</td>\n      <td>1.947077</td>\n      <td>0.416208</td>\n      <td>1.938685</td>\n      <td>2.062469</td>\n      <td>...</td>\n      <td>1.062065</td>\n      <td>1.632233</td>\n      <td>2.089052</td>\n      <td>-1.207851</td>\n      <td>0.736906</td>\n      <td>1.387433</td>\n      <td>0.403426</td>\n      <td>0.959905</td>\n      <td>-0.573873</td>\n      <td>-0.923875</td>\n    </tr>\n    <tr>\n      <th>Other (please specify):</th>\n      <td>-0.319644</td>\n      <td>-0.470583</td>\n      <td>-0.315887</td>\n      <td>-0.458740</td>\n      <td>-0.332297</td>\n      <td>-0.276890</td>\n      <td>-0.218381</td>\n      <td>-0.355341</td>\n      <td>-0.695476</td>\n      <td>-0.341629</td>\n      <td>...</td>\n      <td>-0.139972</td>\n      <td>-0.526620</td>\n      <td>0.050760</td>\n      <td>0.414849</td>\n      <td>0.491139</td>\n      <td>-0.246090</td>\n      <td>0.060115</td>\n      <td>1.116756</td>\n      <td>-0.455576</td>\n      <td>-0.846846</td>\n    </tr>\n    <tr>\n      <th>Developer_embedded applications or devices</th>\n      <td>0.912731</td>\n      <td>0.160537</td>\n      <td>-0.806108</td>\n      <td>-1.021015</td>\n      <td>-0.818063</td>\n      <td>-0.671652</td>\n      <td>-0.867991</td>\n      <td>1.548937</td>\n      <td>-0.889149</td>\n      <td>-0.819257</td>\n      <td>...</td>\n      <td>-0.424536</td>\n      <td>-0.115243</td>\n      <td>-1.166190</td>\n      <td>0.248941</td>\n      <td>0.413359</td>\n      <td>0.303510</td>\n      <td>-0.899388</td>\n      <td>-0.504913</td>\n      <td>-0.621495</td>\n      <td>-0.757629</td>\n    </tr>\n    <tr>\n      <th>Engineer_data</th>\n      <td>0.446945</td>\n      <td>0.671038</td>\n      <td>-0.690541</td>\n      <td>1.464434</td>\n      <td>0.994830</td>\n      <td>-1.034294</td>\n      <td>-0.637480</td>\n      <td>1.586859</td>\n      <td>1.059906</td>\n      <td>-0.630390</td>\n      <td>...</td>\n      <td>-0.207300</td>\n      <td>0.070192</td>\n      <td>2.475809</td>\n      <td>-0.411377</td>\n      <td>0.234873</td>\n      <td>-0.752207</td>\n      <td>0.610665</td>\n      <td>0.754960</td>\n      <td>0.842326</td>\n      <td>0.331481</td>\n    </tr>\n    <tr>\n      <th>System administrator</th>\n      <td>-0.928674</td>\n      <td>-0.418010</td>\n      <td>-0.260243</td>\n      <td>0.180792</td>\n      <td>-0.566827</td>\n      <td>0.093933</td>\n      <td>-0.542189</td>\n      <td>-0.262306</td>\n      <td>0.023087</td>\n      <td>-0.754545</td>\n      <td>...</td>\n      <td>0.571873</td>\n      <td>0.304039</td>\n      <td>-0.959007</td>\n      <td>-0.489841</td>\n      <td>-0.104931</td>\n      <td>-0.891470</td>\n      <td>0.562920</td>\n      <td>-0.735651</td>\n      <td>-0.629136</td>\n      <td>-0.539145</td>\n    </tr>\n    <tr>\n      <th>Academic researcher</th>\n      <td>-1.152162</td>\n      <td>-0.872511</td>\n      <td>-1.393644</td>\n      <td>-1.228593</td>\n      <td>-1.191841</td>\n      <td>-1.172294</td>\n      <td>-1.341553</td>\n      <td>0.528343</td>\n      <td>-0.976324</td>\n      <td>-1.320477</td>\n      <td>...</td>\n      <td>-0.964464</td>\n      <td>0.837149</td>\n      <td>0.217337</td>\n      <td>-0.558934</td>\n      <td>3.012994</td>\n      <td>-0.906910</td>\n      <td>-1.132873</td>\n      <td>-1.705035</td>\n      <td>0.485566</td>\n      <td>2.309161</td>\n    </tr>\n    <tr>\n      <th>Data or business analyst</th>\n      <td>-0.392151</td>\n      <td>-0.843358</td>\n      <td>-0.676813</td>\n      <td>1.235913</td>\n      <td>-0.415299</td>\n      <td>-0.434139</td>\n      <td>-0.953661</td>\n      <td>0.498581</td>\n      <td>-0.150022</td>\n      <td>-0.960280</td>\n      <td>...</td>\n      <td>-0.761052</td>\n      <td>-1.558797</td>\n      <td>-0.845096</td>\n      <td>1.911843</td>\n      <td>-0.902029</td>\n      <td>0.057043</td>\n      <td>2.105447</td>\n      <td>0.051996</td>\n      <td>3.041105</td>\n      <td>1.605508</td>\n    </tr>\n    <tr>\n      <th>Database administrator</th>\n      <td>-0.073381</td>\n      <td>-0.267234</td>\n      <td>0.601221</td>\n      <td>2.176569</td>\n      <td>-0.107166</td>\n      <td>0.955513</td>\n      <td>-0.113918</td>\n      <td>-0.363702</td>\n      <td>0.503527</td>\n      <td>-0.185761</td>\n      <td>...</td>\n      <td>-0.011945</td>\n      <td>0.576926</td>\n      <td>-0.841680</td>\n      <td>2.250180</td>\n      <td>-0.058494</td>\n      <td>0.120643</td>\n      <td>2.696914</td>\n      <td>-0.966018</td>\n      <td>-0.044465</td>\n      <td>1.402888</td>\n    </tr>\n    <tr>\n      <th>Project manager</th>\n      <td>0.239500</td>\n      <td>-0.286755</td>\n      <td>0.565105</td>\n      <td>0.391290</td>\n      <td>-0.264545</td>\n      <td>0.600031</td>\n      <td>0.386211</td>\n      <td>-0.495684</td>\n      <td>-0.273016</td>\n      <td>0.153723</td>\n      <td>...</td>\n      <td>-0.445566</td>\n      <td>-0.542596</td>\n      <td>0.189836</td>\n      <td>0.306521</td>\n      <td>-0.577352</td>\n      <td>0.838152</td>\n      <td>0.670701</td>\n      <td>-0.407448</td>\n      <td>-0.242319</td>\n      <td>0.131282</td>\n    </tr>\n    <tr>\n      <th>Designer</th>\n      <td>-0.384395</td>\n      <td>-0.945792</td>\n      <td>0.321127</td>\n      <td>-0.397435</td>\n      <td>-0.760006</td>\n      <td>0.844715</td>\n      <td>0.148391</td>\n      <td>-0.846711</td>\n      <td>-0.872401</td>\n      <td>0.017237</td>\n      <td>...</td>\n      <td>-0.375058</td>\n      <td>-0.035050</td>\n      <td>-0.218211</td>\n      <td>1.049075</td>\n      <td>-1.415454</td>\n      <td>-0.628136</td>\n      <td>-0.364316</td>\n      <td>0.522913</td>\n      <td>-0.511140</td>\n      <td>0.418027</td>\n    </tr>\n    <tr>\n      <th>Developer_QA or test</th>\n      <td>-0.158033</td>\n      <td>0.118238</td>\n      <td>0.212616</td>\n      <td>0.119997</td>\n      <td>-0.317196</td>\n      <td>0.182364</td>\n      <td>0.243050</td>\n      <td>0.133712</td>\n      <td>-0.239773</td>\n      <td>0.059430</td>\n      <td>...</td>\n      <td>-0.527540</td>\n      <td>-1.024427</td>\n      <td>-0.621087</td>\n      <td>0.236848</td>\n      <td>-0.199361</td>\n      <td>-0.859954</td>\n      <td>0.527318</td>\n      <td>0.735753</td>\n      <td>0.171031</td>\n      <td>0.627898</td>\n    </tr>\n    <tr>\n      <th>Educator</th>\n      <td>0.187671</td>\n      <td>-0.206436</td>\n      <td>0.400161</td>\n      <td>0.014871</td>\n      <td>-0.510199</td>\n      <td>0.842994</td>\n      <td>0.458744</td>\n      <td>0.140723</td>\n      <td>-0.043784</td>\n      <td>0.206837</td>\n      <td>...</td>\n      <td>-0.536369</td>\n      <td>1.395287</td>\n      <td>0.184826</td>\n      <td>-0.020947</td>\n      <td>1.150284</td>\n      <td>-0.506052</td>\n      <td>-1.302216</td>\n      <td>0.864425</td>\n      <td>0.301480</td>\n      <td>0.266137</td>\n    </tr>\n    <tr>\n      <th>Scientist</th>\n      <td>-0.367106</td>\n      <td>-0.417981</td>\n      <td>-1.266814</td>\n      <td>-1.082666</td>\n      <td>-0.678400</td>\n      <td>-1.038208</td>\n      <td>-1.441161</td>\n      <td>1.514749</td>\n      <td>-0.814821</td>\n      <td>-1.314481</td>\n      <td>...</td>\n      <td>-0.689614</td>\n      <td>2.252830</td>\n      <td>-0.843090</td>\n      <td>0.747246</td>\n      <td>1.833625</td>\n      <td>-1.097349</td>\n      <td>-1.108318</td>\n      <td>-1.490467</td>\n      <td>1.264555</td>\n      <td>2.754831</td>\n    </tr>\n    <tr>\n      <th>Developer_game or graphics</th>\n      <td>-0.291410</td>\n      <td>-1.108644</td>\n      <td>-0.854913</td>\n      <td>-1.561539</td>\n      <td>-0.866170</td>\n      <td>-0.893849</td>\n      <td>-0.687757</td>\n      <td>-0.565497</td>\n      <td>-1.301447</td>\n      <td>-0.461848</td>\n      <td>...</td>\n      <td>-0.019865</td>\n      <td>0.212231</td>\n      <td>-1.223942</td>\n      <td>-0.886450</td>\n      <td>-0.578198</td>\n      <td>1.051431</td>\n      <td>-0.226215</td>\n      <td>0.685337</td>\n      <td>-0.549047</td>\n      <td>-1.023479</td>\n    </tr>\n    <tr>\n      <th>Product manager</th>\n      <td>-0.190465</td>\n      <td>-0.228531</td>\n      <td>0.577912</td>\n      <td>0.155194</td>\n      <td>-0.093191</td>\n      <td>0.448002</td>\n      <td>0.492225</td>\n      <td>-0.563775</td>\n      <td>0.000488</td>\n      <td>0.115544</td>\n      <td>...</td>\n      <td>0.083016</td>\n      <td>0.140815</td>\n      <td>-0.281438</td>\n      <td>0.188860</td>\n      <td>-0.329311</td>\n      <td>1.875282</td>\n      <td>-0.950257</td>\n      <td>-0.464061</td>\n      <td>-0.272045</td>\n      <td>0.326026</td>\n    </tr>\n    <tr>\n      <th>Engineer_site reliability</th>\n      <td>0.575045</td>\n      <td>1.784475</td>\n      <td>0.037789</td>\n      <td>-0.066499</td>\n      <td>1.669988</td>\n      <td>-0.581576</td>\n      <td>-0.093784</td>\n      <td>1.211204</td>\n      <td>1.468758</td>\n      <td>0.129094</td>\n      <td>...</td>\n      <td>2.501697</td>\n      <td>-0.730849</td>\n      <td>1.531704</td>\n      <td>1.063354</td>\n      <td>-0.391872</td>\n      <td>0.976361</td>\n      <td>1.306856</td>\n      <td>-0.527539</td>\n      <td>-0.677037</td>\n      <td>-0.243448</td>\n    </tr>\n    <tr>\n      <th>Senior Executive (C-Suite_VP_etc.)</th>\n      <td>0.649427</td>\n      <td>0.646128</td>\n      <td>1.177788</td>\n      <td>0.875966</td>\n      <td>1.207209</td>\n      <td>1.164838</td>\n      <td>1.125458</td>\n      <td>-0.263920</td>\n      <td>1.518650</td>\n      <td>1.004866</td>\n      <td>...</td>\n      <td>3.553106</td>\n      <td>1.781858</td>\n      <td>1.272229</td>\n      <td>0.526987</td>\n      <td>0.563360</td>\n      <td>1.315477</td>\n      <td>-0.344534</td>\n      <td>-1.088689</td>\n      <td>-0.023848</td>\n      <td>-1.046261</td>\n    </tr>\n    <tr>\n      <th>Security professional</th>\n      <td>0.009959</td>\n      <td>0.489972</td>\n      <td>-0.000412</td>\n      <td>-0.266744</td>\n      <td>0.438080</td>\n      <td>0.011952</td>\n      <td>-0.307886</td>\n      <td>0.433549</td>\n      <td>0.089269</td>\n      <td>-0.221553</td>\n      <td>...</td>\n      <td>0.573556</td>\n      <td>-1.114273</td>\n      <td>0.441841</td>\n      <td>-0.136545</td>\n      <td>0.849728</td>\n      <td>-1.127229</td>\n      <td>0.148013</td>\n      <td>-0.430602</td>\n      <td>-0.636260</td>\n      <td>-0.045376</td>\n    </tr>\n    <tr>\n      <th>Blockchain</th>\n      <td>-0.605562</td>\n      <td>0.002946</td>\n      <td>-0.385302</td>\n      <td>-1.055627</td>\n      <td>-0.116647</td>\n      <td>-0.941753</td>\n      <td>0.292298</td>\n      <td>-1.014278</td>\n      <td>0.272430</td>\n      <td>0.553946</td>\n      <td>...</td>\n      <td>0.035531</td>\n      <td>-1.552622</td>\n      <td>0.051793</td>\n      <td>-1.631595</td>\n      <td>1.005260</td>\n      <td>-0.189577</td>\n      <td>-0.873716</td>\n      <td>1.520467</td>\n      <td>-0.663465</td>\n      <td>0.733730</td>\n    </tr>\n    <tr>\n      <th>Marketing or sales professional</th>\n      <td>-1.764343</td>\n      <td>-1.236530</td>\n      <td>-0.828903</td>\n      <td>-0.900570</td>\n      <td>-0.736080</td>\n      <td>-0.839974</td>\n      <td>-0.889753</td>\n      <td>-1.164476</td>\n      <td>-1.338560</td>\n      <td>-1.250707</td>\n      <td>...</td>\n      <td>0.089050</td>\n      <td>-0.715203</td>\n      <td>-1.284643</td>\n      <td>-1.509716</td>\n      <td>-1.832733</td>\n      <td>-1.000165</td>\n      <td>-0.882066</td>\n      <td>-0.105035</td>\n      <td>-0.617796</td>\n      <td>-0.026606</td>\n    </tr>\n  </tbody>\n</table>\n<p>29 rows × 161 columns</p>\n</div>"
     },
     "execution_count": 103,
     "metadata": {},
     "output_type": "execute_result"
    }
   ],
   "source": [
    "developers_skills"
   ],
   "metadata": {
    "collapsed": false
   }
  },
  {
   "cell_type": "markdown",
   "source": [
    "## 1. Drop roles: ['Student', 'Other (please specify):', 'Designer', 'Educator', 'Product manager', 'Marketing or sales professional']"
   ],
   "metadata": {
    "collapsed": false
   }
  },
  {
   "cell_type": "code",
   "execution_count": 104,
   "outputs": [],
   "source": [
    "drop_roles = ['Student',\n",
    "              'Other (please specify):',\n",
    "              'Designer', 'Educator',\n",
    "              'Product manager',\n",
    "              'Marketing or sales professional']"
   ],
   "metadata": {
    "collapsed": false
   }
  },
  {
   "cell_type": "code",
   "execution_count": 105,
   "outputs": [],
   "source": [
    "skills_dev_df = skills_dev_df.drop(drop_roles, axis = 1, level=1)"
   ],
   "metadata": {
    "collapsed": false
   }
  },
  {
   "cell_type": "code",
   "execution_count": 106,
   "outputs": [],
   "source": [
    "developers_skills = developers_skills.drop(drop_roles)"
   ],
   "metadata": {
    "collapsed": false
   }
  },
  {
   "cell_type": "markdown",
   "source": [
    "## 2. split roles: ['Developer_full-stack', 'Developer_back-end']"
   ],
   "metadata": {
    "collapsed": false
   }
  },
  {
   "cell_type": "code",
   "execution_count": 107,
   "outputs": [],
   "source": [
    "split_roles = ['Developer_full-stack', 'Developer_back-end']"
   ],
   "metadata": {
    "collapsed": false
   }
  },
  {
   "cell_type": "markdown",
   "source": [
    "### A) Developer_full-stack"
   ],
   "metadata": {
    "collapsed": false
   }
  },
  {
   "cell_type": "code",
   "execution_count": 153,
   "outputs": [
    {
     "data": {
      "text/plain": "                       3         7         10        12        13     \\\nAPL                 0.000000  0.002722  0.000000  0.000000  0.000000   \nAssembly            0.000000  0.000000  0.000000  0.000000  0.000000   \nBash/Shell          0.000000  0.002722  0.074712  0.000000  0.000000   \nC                   0.000000  0.005444  0.000000  0.060732  0.000000   \nC#                  0.348833  0.000000  0.112069  0.000000  0.000000   \n...                      ...       ...       ...       ...       ...   \nVim                 0.000000  0.002722  0.000000  0.091098  0.000000   \nVisual Studio       0.348833  0.005444  0.074712  0.091098  0.000000   \nVisual Studio Code  0.348833  0.002722  0.112069  0.000000  0.271941   \nWebstorm            0.000000  0.000000  0.000000  0.000000  0.000000   \nXcode               0.000000  0.000000  0.000000  0.000000  0.000000   \n\n                       14        15        16        21        24     ...  \\\nAPL                 0.000000  0.000000  0.000000  0.000000  0.000000  ...   \nAssembly            0.000000  0.000000  0.000000  0.000000  0.000000  ...   \nBash/Shell          0.000000  0.061559  0.000000  0.000000  0.000000  ...   \nC                   0.000000  0.000000  0.000000  0.000000  0.000000  ...   \nC#                  0.000000  0.000000  0.054719  0.000000  0.144438  ...   \n...                      ...       ...       ...       ...       ...  ...   \nVim                 0.000000  0.000000  0.000000  0.000000  0.000000  ...   \nVisual Studio       0.000000  0.000000  0.000000  0.000000  0.216657  ...   \nVisual Studio Code  0.260752  0.061559  0.054719  0.140961  0.216657  ...   \nWebstorm            0.000000  0.000000  0.000000  0.000000  0.000000  ...   \nXcode               0.000000  0.000000  0.000000  0.000000  0.000000  ...   \n\n                      73232     73233     73235   73237     73240   73244  \\\nAPL                 0.00000  0.000000  0.000000  0.0000  0.000000  0.0000   \nAssembly            0.00000  0.000000  0.000000  0.0000  0.000000  0.0000   \nBash/Shell          0.00000  0.000000  0.000000  0.0000  0.365444  0.0000   \nC                   0.00000  0.000000  0.000000  0.0805  0.000000  0.0000   \nC#                  0.00000  0.051882  0.000000  0.0000  0.000000  0.0000   \n...                     ...       ...       ...     ...       ...     ...   \nVim                 0.00000  0.000000  0.000000  0.0805  0.000000  0.0000   \nVisual Studio       0.00000  0.000000  0.000000  0.0000  0.000000  0.0000   \nVisual Studio Code  0.30148  0.025941  0.000000  0.0805  0.365444  0.0115   \nWebstorm            0.00000  0.025941  0.136196  0.0000  0.000000  0.0000   \nXcode               0.00000  0.000000  0.000000  0.0000  0.365444  0.0000   \n\n                       73251    73255     73261     73265  \nAPL                 0.000000  0.00000  0.000000  0.000000  \nAssembly            0.000000  0.00000  0.000000  0.000000  \nBash/Shell          0.000000  0.19099  0.201631  0.000000  \nC                   0.000000  0.00000  0.000000  0.000000  \nC#                  0.000000  0.19099  0.000000  0.085912  \n...                      ...      ...       ...       ...  \nVim                 0.000000  0.00000  0.000000  0.000000  \nVisual Studio       0.000000  0.19099  0.000000  0.257735  \nVisual Studio Code  0.202922  0.19099  0.201631  0.257735  \nWebstorm            0.000000  0.00000  0.000000  0.000000  \nXcode               0.202922  0.00000  0.000000  0.000000  \n\n[161 rows x 20928 columns]",
      "text/html": "<div>\n<style scoped>\n    .dataframe tbody tr th:only-of-type {\n        vertical-align: middle;\n    }\n\n    .dataframe tbody tr th {\n        vertical-align: top;\n    }\n\n    .dataframe thead th {\n        text-align: right;\n    }\n</style>\n<table border=\"1\" class=\"dataframe\">\n  <thead>\n    <tr style=\"text-align: right;\">\n      <th></th>\n      <th>3</th>\n      <th>7</th>\n      <th>10</th>\n      <th>12</th>\n      <th>13</th>\n      <th>14</th>\n      <th>15</th>\n      <th>16</th>\n      <th>21</th>\n      <th>24</th>\n      <th>...</th>\n      <th>73232</th>\n      <th>73233</th>\n      <th>73235</th>\n      <th>73237</th>\n      <th>73240</th>\n      <th>73244</th>\n      <th>73251</th>\n      <th>73255</th>\n      <th>73261</th>\n      <th>73265</th>\n    </tr>\n  </thead>\n  <tbody>\n    <tr>\n      <th>APL</th>\n      <td>0.000000</td>\n      <td>0.002722</td>\n      <td>0.000000</td>\n      <td>0.000000</td>\n      <td>0.000000</td>\n      <td>0.000000</td>\n      <td>0.000000</td>\n      <td>0.000000</td>\n      <td>0.000000</td>\n      <td>0.000000</td>\n      <td>...</td>\n      <td>0.00000</td>\n      <td>0.000000</td>\n      <td>0.000000</td>\n      <td>0.0000</td>\n      <td>0.000000</td>\n      <td>0.0000</td>\n      <td>0.000000</td>\n      <td>0.00000</td>\n      <td>0.000000</td>\n      <td>0.000000</td>\n    </tr>\n    <tr>\n      <th>Assembly</th>\n      <td>0.000000</td>\n      <td>0.000000</td>\n      <td>0.000000</td>\n      <td>0.000000</td>\n      <td>0.000000</td>\n      <td>0.000000</td>\n      <td>0.000000</td>\n      <td>0.000000</td>\n      <td>0.000000</td>\n      <td>0.000000</td>\n      <td>...</td>\n      <td>0.00000</td>\n      <td>0.000000</td>\n      <td>0.000000</td>\n      <td>0.0000</td>\n      <td>0.000000</td>\n      <td>0.0000</td>\n      <td>0.000000</td>\n      <td>0.00000</td>\n      <td>0.000000</td>\n      <td>0.000000</td>\n    </tr>\n    <tr>\n      <th>Bash/Shell</th>\n      <td>0.000000</td>\n      <td>0.002722</td>\n      <td>0.074712</td>\n      <td>0.000000</td>\n      <td>0.000000</td>\n      <td>0.000000</td>\n      <td>0.061559</td>\n      <td>0.000000</td>\n      <td>0.000000</td>\n      <td>0.000000</td>\n      <td>...</td>\n      <td>0.00000</td>\n      <td>0.000000</td>\n      <td>0.000000</td>\n      <td>0.0000</td>\n      <td>0.365444</td>\n      <td>0.0000</td>\n      <td>0.000000</td>\n      <td>0.19099</td>\n      <td>0.201631</td>\n      <td>0.000000</td>\n    </tr>\n    <tr>\n      <th>C</th>\n      <td>0.000000</td>\n      <td>0.005444</td>\n      <td>0.000000</td>\n      <td>0.060732</td>\n      <td>0.000000</td>\n      <td>0.000000</td>\n      <td>0.000000</td>\n      <td>0.000000</td>\n      <td>0.000000</td>\n      <td>0.000000</td>\n      <td>...</td>\n      <td>0.00000</td>\n      <td>0.000000</td>\n      <td>0.000000</td>\n      <td>0.0805</td>\n      <td>0.000000</td>\n      <td>0.0000</td>\n      <td>0.000000</td>\n      <td>0.00000</td>\n      <td>0.000000</td>\n      <td>0.000000</td>\n    </tr>\n    <tr>\n      <th>C#</th>\n      <td>0.348833</td>\n      <td>0.000000</td>\n      <td>0.112069</td>\n      <td>0.000000</td>\n      <td>0.000000</td>\n      <td>0.000000</td>\n      <td>0.000000</td>\n      <td>0.054719</td>\n      <td>0.000000</td>\n      <td>0.144438</td>\n      <td>...</td>\n      <td>0.00000</td>\n      <td>0.051882</td>\n      <td>0.000000</td>\n      <td>0.0000</td>\n      <td>0.000000</td>\n      <td>0.0000</td>\n      <td>0.000000</td>\n      <td>0.19099</td>\n      <td>0.000000</td>\n      <td>0.085912</td>\n    </tr>\n    <tr>\n      <th>...</th>\n      <td>...</td>\n      <td>...</td>\n      <td>...</td>\n      <td>...</td>\n      <td>...</td>\n      <td>...</td>\n      <td>...</td>\n      <td>...</td>\n      <td>...</td>\n      <td>...</td>\n      <td>...</td>\n      <td>...</td>\n      <td>...</td>\n      <td>...</td>\n      <td>...</td>\n      <td>...</td>\n      <td>...</td>\n      <td>...</td>\n      <td>...</td>\n      <td>...</td>\n      <td>...</td>\n    </tr>\n    <tr>\n      <th>Vim</th>\n      <td>0.000000</td>\n      <td>0.002722</td>\n      <td>0.000000</td>\n      <td>0.091098</td>\n      <td>0.000000</td>\n      <td>0.000000</td>\n      <td>0.000000</td>\n      <td>0.000000</td>\n      <td>0.000000</td>\n      <td>0.000000</td>\n      <td>...</td>\n      <td>0.00000</td>\n      <td>0.000000</td>\n      <td>0.000000</td>\n      <td>0.0805</td>\n      <td>0.000000</td>\n      <td>0.0000</td>\n      <td>0.000000</td>\n      <td>0.00000</td>\n      <td>0.000000</td>\n      <td>0.000000</td>\n    </tr>\n    <tr>\n      <th>Visual Studio</th>\n      <td>0.348833</td>\n      <td>0.005444</td>\n      <td>0.074712</td>\n      <td>0.091098</td>\n      <td>0.000000</td>\n      <td>0.000000</td>\n      <td>0.000000</td>\n      <td>0.000000</td>\n      <td>0.000000</td>\n      <td>0.216657</td>\n      <td>...</td>\n      <td>0.00000</td>\n      <td>0.000000</td>\n      <td>0.000000</td>\n      <td>0.0000</td>\n      <td>0.000000</td>\n      <td>0.0000</td>\n      <td>0.000000</td>\n      <td>0.19099</td>\n      <td>0.000000</td>\n      <td>0.257735</td>\n    </tr>\n    <tr>\n      <th>Visual Studio Code</th>\n      <td>0.348833</td>\n      <td>0.002722</td>\n      <td>0.112069</td>\n      <td>0.000000</td>\n      <td>0.271941</td>\n      <td>0.260752</td>\n      <td>0.061559</td>\n      <td>0.054719</td>\n      <td>0.140961</td>\n      <td>0.216657</td>\n      <td>...</td>\n      <td>0.30148</td>\n      <td>0.025941</td>\n      <td>0.000000</td>\n      <td>0.0805</td>\n      <td>0.365444</td>\n      <td>0.0115</td>\n      <td>0.202922</td>\n      <td>0.19099</td>\n      <td>0.201631</td>\n      <td>0.257735</td>\n    </tr>\n    <tr>\n      <th>Webstorm</th>\n      <td>0.000000</td>\n      <td>0.000000</td>\n      <td>0.000000</td>\n      <td>0.000000</td>\n      <td>0.000000</td>\n      <td>0.000000</td>\n      <td>0.000000</td>\n      <td>0.000000</td>\n      <td>0.000000</td>\n      <td>0.000000</td>\n      <td>...</td>\n      <td>0.00000</td>\n      <td>0.025941</td>\n      <td>0.136196</td>\n      <td>0.0000</td>\n      <td>0.000000</td>\n      <td>0.0000</td>\n      <td>0.000000</td>\n      <td>0.00000</td>\n      <td>0.000000</td>\n      <td>0.000000</td>\n    </tr>\n    <tr>\n      <th>Xcode</th>\n      <td>0.000000</td>\n      <td>0.000000</td>\n      <td>0.000000</td>\n      <td>0.000000</td>\n      <td>0.000000</td>\n      <td>0.000000</td>\n      <td>0.000000</td>\n      <td>0.000000</td>\n      <td>0.000000</td>\n      <td>0.000000</td>\n      <td>...</td>\n      <td>0.00000</td>\n      <td>0.000000</td>\n      <td>0.000000</td>\n      <td>0.0000</td>\n      <td>0.365444</td>\n      <td>0.0000</td>\n      <td>0.202922</td>\n      <td>0.00000</td>\n      <td>0.000000</td>\n      <td>0.000000</td>\n    </tr>\n  </tbody>\n</table>\n<p>161 rows × 20928 columns</p>\n</div>"
     },
     "execution_count": 153,
     "metadata": {},
     "output_type": "execute_result"
    }
   ],
   "source": [
    "mask = skills_dev_df['DevType']['Developer_full-stack'] == 1\n",
    "full_stack_skills = skills_dev_df.loc[mask,: ].drop('DevType', axis = 1, level = 0).droplevel(axis = 1, level = 0)\n",
    "full_stack_skills = full_stack_skills.T\n",
    "full_stack_skills"
   ],
   "metadata": {
    "collapsed": false
   }
  },
  {
   "cell_type": "code",
   "execution_count": 154,
   "outputs": [],
   "source": [
    "tsne_data = reduce_dimensions(full_stack_skills)"
   ],
   "metadata": {
    "collapsed": false
   }
  },
  {
   "cell_type": "code",
   "execution_count": 155,
   "outputs": [
    {
     "data": {
      "text/plain": "                            0          1\nAPL                 -1.926651   0.271250\nAssembly           -10.384855  15.622043\nBash/Shell          -2.316166 -20.837120\nC                  -10.526605  16.691591\nC#                  23.525406  28.601351\n...                       ...        ...\nVim                -13.442420  -1.671719\nVisual Studio       23.911112  29.276258\nVisual Studio Code  30.837034   2.114859\nWebstorm            -8.365963  -2.319617\nXcode              -17.186413 -19.385899\n\n[161 rows x 2 columns]",
      "text/html": "<div>\n<style scoped>\n    .dataframe tbody tr th:only-of-type {\n        vertical-align: middle;\n    }\n\n    .dataframe tbody tr th {\n        vertical-align: top;\n    }\n\n    .dataframe thead th {\n        text-align: right;\n    }\n</style>\n<table border=\"1\" class=\"dataframe\">\n  <thead>\n    <tr style=\"text-align: right;\">\n      <th></th>\n      <th>0</th>\n      <th>1</th>\n    </tr>\n  </thead>\n  <tbody>\n    <tr>\n      <th>APL</th>\n      <td>-1.926651</td>\n      <td>0.271250</td>\n    </tr>\n    <tr>\n      <th>Assembly</th>\n      <td>-10.384855</td>\n      <td>15.622043</td>\n    </tr>\n    <tr>\n      <th>Bash/Shell</th>\n      <td>-2.316166</td>\n      <td>-20.837120</td>\n    </tr>\n    <tr>\n      <th>C</th>\n      <td>-10.526605</td>\n      <td>16.691591</td>\n    </tr>\n    <tr>\n      <th>C#</th>\n      <td>23.525406</td>\n      <td>28.601351</td>\n    </tr>\n    <tr>\n      <th>...</th>\n      <td>...</td>\n      <td>...</td>\n    </tr>\n    <tr>\n      <th>Vim</th>\n      <td>-13.442420</td>\n      <td>-1.671719</td>\n    </tr>\n    <tr>\n      <th>Visual Studio</th>\n      <td>23.911112</td>\n      <td>29.276258</td>\n    </tr>\n    <tr>\n      <th>Visual Studio Code</th>\n      <td>30.837034</td>\n      <td>2.114859</td>\n    </tr>\n    <tr>\n      <th>Webstorm</th>\n      <td>-8.365963</td>\n      <td>-2.319617</td>\n    </tr>\n    <tr>\n      <th>Xcode</th>\n      <td>-17.186413</td>\n      <td>-19.385899</td>\n    </tr>\n  </tbody>\n</table>\n<p>161 rows × 2 columns</p>\n</div>"
     },
     "execution_count": 155,
     "metadata": {},
     "output_type": "execute_result"
    }
   ],
   "source": [
    "tsne_data"
   ],
   "metadata": {
    "collapsed": false
   }
  },
  {
   "cell_type": "code",
   "execution_count": 167,
   "outputs": [
    {
     "data": {
      "text/plain": "<Figure size 640x480 with 1 Axes>",
      "image/png": "[encoded data removed]"
     },
     "metadata": {},
     "output_type": "display_data"
    }
   ],
   "source": [
    "best_k, best_labels = evaluate_cluster_model(tsne_data, range_clusters=range(2,10), plot = True)"
   ],
   "metadata": {
    "collapsed": false
   }
  },
  {
   "cell_type": "code",
   "execution_count": 168,
   "outputs": [
    {
     "data": {
      "text/plain": "9"
     },
     "execution_count": 168,
     "metadata": {},
     "output_type": "execute_result"
    }
   ],
   "source": [
    "best_k"
   ],
   "metadata": {
    "collapsed": false
   }
  },
  {
   "cell_type": "code",
   "execution_count": 169,
   "outputs": [
    {
     "data": {
      "application/vnd.plotly.v1+json": {
       "data": [
        {
         "hovertemplate": "x=%{x}<br>y=%{y}<br>text=%{text}<br>color=%{marker.color}<extra></extra>",
         "legendgroup": "",
         "marker": {
          "color": [
           0,
           4,
           7,
           4,
           5,
           4,
           4,
           2,
           0,
           2,
           2,
           1,
           0,
           4,
           0,
           3,
           7,
           6,
           0,
           7,
           6,
           0,
           0,
           2,
           0,
           0,
           0,
           1,
           0,
           0,
           4,
           1,
           0,
           7,
           0,
           0,
           6,
           0,
           3,
           1,
           6,
           4,
           8,
           2,
           3,
           3,
           8,
           8,
           2,
           4,
           0,
           5,
           3,
           0,
           3,
           4,
           8,
           8,
           4,
           8,
           0,
           0,
           2,
           2,
           0,
           4,
           0,
           0,
           5,
           3,
           0,
           4,
           3,
           4,
           5,
           3,
           3,
           4,
           0,
           0,
           3,
           6,
           0,
           3,
           1,
           6,
           0,
           6,
           6,
           3,
           1,
           0,
           6,
           7,
           0,
           0,
           3,
           3,
           5,
           8,
           8,
           3,
           2,
           4,
           2,
           4,
           8,
           1,
           3,
           1,
           1,
           1,
           4,
           4,
           1,
           7,
           1,
           0,
           1,
           4,
           4,
           0,
           0,
           8,
           4,
           1,
           8,
           0,
           0,
           0,
           4,
           4,
           6,
           6,
           2,
           0,
           0,
           4,
           2,
           3,
           1,
           7,
           0,
           0,
           3,
           4,
           0,
           1,
           4,
           2,
           0,
           4,
           0,
           0,
           0,
           0,
           0,
           5,
           6,
           0,
           1
          ],
          "coloraxis": "coloraxis",
          "symbol": "circle"
         },
         "mode": "markers+text",
         "name": "",
         "orientation": "v",
         "showlegend": false,
         "text": [
          "APL",
          "Assembly",
          "Bash/Shell",
          "C",
          "C#",
          "C++",
          "COBOL",
          "Clojure",
          "Crystal",
          "Dart",
          "Delphi",
          "Elixir",
          "Erlang",
          "F#",
          "Fortran",
          "Go",
          "Groovy",
          "HTML/CSS",
          "Haskell",
          "Java",
          "JavaScript",
          "Julia",
          "Kotlin",
          "LISP",
          "Lua",
          "MATLAB",
          "OCaml",
          "Objective-C",
          "PHP",
          "Perl",
          "PowerShell",
          "Python",
          "R",
          "Ruby",
          "Rust",
          "SAS",
          "SQL",
          "Scala",
          "Solidity",
          "Swift",
          "TypeScript",
          "VBA",
          "Cassandra",
          "Cloud Firestore",
          "CouchDB",
          "Couchbase",
          "DynamoDB",
          "Elasticsearch",
          "Firebase Realtime Database",
          "IBM DB2",
          "MariaDB",
          "Microsoft SQL Server",
          "MongoDB",
          "MySQL",
          "Neo4j",
          "Oracle",
          "PostgreSQL",
          "Redis",
          "SQLite",
          "AWS",
          "Colocation",
          "DigitalOcean",
          "Firebase",
          "Google Cloud",
          "Heroku",
          "IBM Cloud or Watson",
          "Linode",
          "Managed Hosting",
          "Microsoft Azure",
          "OVH",
          "OpenStack",
          "Oracle Cloud Infrastructure",
          "VMware",
          "ASP.NET",
          "ASP.NET Core ",
          "Angular",
          "Angular.js",
          "Blazor",
          "Deno",
          "Django",
          "Drupal",
          "Express",
          "FastAPI",
          "Fastify",
          "Flask",
          "Gatsby",
          "Laravel",
          "Next.js",
          "Node.js",
          "Nuxt.js",
          "Phoenix",
          "Play Framework",
          "React.js",
          "Ruby on Rails",
          "Svelte",
          "Symfony",
          "Vue.js",
          "jQuery",
          ".NET",
          "Apache Kafka",
          "Apache Spark",
          "Capacitor",
          "Cordova",
          "Electron",
          "Flutter",
          "GTK",
          "Hadoop",
          "Hugging Face Transformers",
          "Ionic",
          "Keras",
          "NumPy",
          "Pandas",
          "Qt",
          "React Native",
          "Scikit-learn",
          "Spring",
          "TensorFlow",
          "Tidyverse",
          "Torch/PyTorch",
          "Uno Platform",
          "Xamarin",
          "Ansible",
          "Chef",
          "Docker",
          "Flow",
          "Homebrew",
          "Kubernetes",
          "Pulumi",
          "Puppet",
          "Terraform",
          "Unity 3D",
          "Unreal Engine",
          "Yarn",
          "npm",
          "Android Studio",
          "Atom",
          "CLion",
          "Eclipse",
          "Emacs",
          "GoLand",
          "IPython/Jupyter",
          "IntelliJ",
          "Nano",
          "Neovim",
          "NetBeans",
          "Notepad++",
          "PhpStorm",
          "PyCharm",
          "Qt Creator",
          "RAD Studio (Delphi_C++ Builder)",
          "RStudio",
          "Rider",
          "RubyMine",
          "Spyder",
          "Sublime Text",
          "TextMate",
          "Vim",
          "Visual Studio",
          "Visual Studio Code",
          "Webstorm",
          "Xcode"
         ],
         "x": [
          -1.9266510009765625,
          -10.384855270385742,
          -2.3161656856536865,
          -10.526604652404785,
          23.525405883789062,
          -10.53773307800293,
          -3.233377456665039,
          -9.514044761657715,
          -1.0455011129379272,
          -20.840862274169922,
          -31.656707763671875,
          -19.424327850341797,
          -4.184235572814941,
          5.257684707641602,
          -4.622920513153076,
          9.912636756896973,
          -2.399397611618042,
          32.05994415283203,
          -2.316246509552002,
          -2.3904361724853516,
          31.753284454345703,
          -2.077563762664795,
          -0.07469379156827927,
          -10.840107917785645,
          -3.8049793243408203,
          -4.336717128753662,
          -1.0228794813156128,
          -16.102750778198242,
          -8.705232620239258,
          -12.579706192016602,
          4.636422634124756,
          -27.737119674682617,
          -9.639583587646484,
          9.435070991516113,
          -1.771858811378479,
          -1.9136050939559937,
          32.86636734008789,
          4.637971878051758,
          3.3527121543884277,
          -16.636411666870117,
          27.98094367980957,
          -1.9576996564865112,
          10.923853874206543,
          -17.32284164428711,
          1.3321481943130493,
          2.5072569847106934,
          15.932544708251953,
          12.202791213989258,
          -14.148035049438477,
          -3.999063014984131,
          -12.101531028747559,
          24.544178009033203,
          15.648453712463379,
          -8.741990089416504,
          14.77314281463623,
          -6.661473274230957,
          15.00895881652832,
          13.465553283691406,
          -7.134730339050293,
          16.027135848999023,
          -0.07858878374099731,
          -4.488385200500488,
          -15.481772422790527,
          -18.24421501159668,
          -2.020085334777832,
          -4.049953460693359,
          -0.14123114943504333,
          -1.7409144639968872,
          20.817779541015625,
          0.7824894189834595,
          -5.754073619842529,
          -6.5360870361328125,
          2.4238781929016113,
          7.704809188842773,
          21.891128540039062,
          12.549960136413574,
          11.858643531799316,
          7.078549385070801,
          -1.6593676805496216,
          -6.584904193878174,
          5.964738845825195,
          23.671201705932617,
          -13.854493141174316,
          5.626038551330566,
          -18.8455867767334,
          20.891605377197266,
          -6.685998916625977,
          22.172893524169922,
          25.101659774780273,
          10.534431457519531,
          -19.539371490478516,
          4.40825080871582,
          24.66228485107422,
          9.436697006225586,
          -1.540309190750122,
          -10.270105361938477,
          11.370363235473633,
          6.667245388031006,
          22.9664363861084,
          14.33062744140625,
          12.99013900756836,
          9.84147834777832,
          -17.096296310424805,
          5.012969493865967,
          -20.830495834350586,
          -6.660973072052002,
          12.064239501953125,
          -20.200164794921875,
          10.494205474853516,
          -22.09419059753418,
          -27.890321731567383,
          -27.905517578125,
          -7.0483078956604,
          1.6778641939163208,
          -22.28213119506836,
          -2.3869340419769287,
          -22.694284439086914,
          -7.545958518981934,
          -20.598464965820312,
          6.064713478088379,
          7.187993049621582,
          -1.1895354986190796,
          4.447071552276611,
          17.334474563598633,
          1.0832449197769165,
          -18.666627883911133,
          15.942790985107422,
          4.458960056304932,
          -3.6321985721588135,
          5.48859167098999,
          1.9154552221298218,
          1.621946096420288,
          22.516311645507812,
          27.649269104003906,
          -18.0828857421875,
          -2.2921266555786133,
          -9.424052238464355,
          -2.154052734375,
          -11.519153594970703,
          9.194900512695312,
          -22.704496383666992,
          -2.380763053894043,
          -6.687568664550781,
          0.8664295077323914,
          5.266008377075195,
          7.9777116775512695,
          -9.669941902160645,
          -18.789155960083008,
          -6.815888404846191,
          -31.656417846679688,
          -8.796579360961914,
          6.008575916290283,
          0.104053795337677,
          -2.8397419452667236,
          -6.42101526260376,
          -0.5221844911575317,
          -13.44242000579834,
          23.91111183166504,
          30.837034225463867,
          -8.365962982177734,
          -17.186412811279297
         ],
         "xaxis": "x",
         "y": [
          0.2712495028972626,
          15.622042655944824,
          -20.837120056152344,
          16.691591262817383,
          28.601350784301758,
          17.859996795654297,
          12.714609146118164,
          4.011525630950928,
          1.4557297229766846,
          14.89558219909668,
          9.168360710144043,
          -23.781478881835938,
          -8.571405410766602,
          15.142768859863281,
          1.460503339767456,
          -5.734220504760742,
          -22.061574935913086,
          3.2758145332336426,
          -6.011431694030762,
          -25.138093948364258,
          2.993835926055908,
          -3.091618776321411,
          -5.104404926300049,
          7.141366481781006,
          -2.0414586067199707,
          3.4650487899780273,
          -5.9199700355529785,
          -17.59400177001953,
          -14.024659156799316,
          -1.6181073188781738,
          17.287973403930664,
          -9.804308891296387,
          -5.774306297302246,
          -25.585031509399414,
          -16.750185012817383,
          0.2800086736679077,
          4.078386306762695,
          -14.615694046020508,
          -0.08254004269838333,
          -18.43049430847168,
          0.6763389110565186,
          8.179749488830566,
          -10.772452354431152,
          4.333254337310791,
          -1.0026402473449707,
          -3.1328301429748535,
          -6.9620041847229,
          -10.807897567749023,
          3.4179108142852783,
          13.500049591064453,
          -11.408973693847656,
          27.66728401184082,
          3.302855968475342,
          -15.06731128692627,
          3.32782244682312,
          10.615346908569336,
          -9.915964126586914,
          -10.3080472946167,
          22.494037628173828,
          -8.827875137329102,
          3.1189937591552734,
          -4.303310871124268,
          3.789236307144165,
          4.597503662109375,
          -1.2079617977142334,
          6.1180925369262695,
          -2.4345574378967285,
          5.00178337097168,
          27.723623275756836,
          1.044106364250183,
          -1.7609866857528687,
          9.657325744628906,
          2.555583953857422,
          19.827463150024414,
          28.15114974975586,
          10.52856731414795,
          11.141858100891113,
          18.596664428710938,
          -15.609699249267578,
          0.2610557973384857,
          1.3185572624206543,
          0.6298429369926453,
          -6.265655994415283,
          -2.2031915187835693,
          -4.834441661834717,
          0.14273729920387268,
          -12.209207534790039,
          -0.2464827597141266,
          0.19935381412506104,
          -0.09224328398704529,
          -23.99349594116211,
          -13.790217399597168,
          -1.376373291015625,
          -25.584009170532227,
          -14.439824104309082,
          -11.829005241394043,
          -0.24538788199424744,
          2.525580406188965,
          28.58133888244629,
          -15.050158500671387,
          -15.398115158081055,
          6.969257354736328,
          12.52298355102539,
          7.230498790740967,
          14.88902473449707,
          5.443291664123535,
          -14.954541206359863,
          -5.087249755859375,
          7.457019329071045,
          -4.93059778213501,
          -8.334549903869629,
          -8.221972465515137,
          21.417930603027344,
          6.165884017944336,
          -6.583646774291992,
          -23.49241065979004,
          -3.6878929138183594,
          -4.519535541534424,
          -3.8639779090881348,
          16.752376556396484,
          16.830856323242188,
          -7.538450241088867,
          -8.592065811157227,
          -13.417613983154297,
          5.2340474128723145,
          -22.397117614746094,
          -14.102749824523926,
          -5.7246413230896,
          -0.19015999138355255,
          -8.273096084594727,
          10.840302467346191,
          10.001627922058105,
          -1.402428150177002,
          0.6500574350357056,
          13.171113014221191,
          2.854114055633545,
          0.5395580530166626,
          12.827388763427734,
          7.689734935760498,
          -5.198304653167725,
          -7.601210594177246,
          -25.65277671813965,
          2.5999245643615723,
          -6.888298988342285,
          3.7345473766326904,
          20.879863739013672,
          -12.717635154724121,
          -7.234189987182617,
          20.4642333984375,
          9.167742729187012,
          -5.203540325164795,
          11.886716842651367,
          -10.223215103149414,
          1.3727062940597534,
          -6.136122703552246,
          -0.35998302698135376,
          -1.6717188358306885,
          29.27625846862793,
          2.114858627319336,
          -2.3196170330047607,
          -19.38589859008789
         ],
         "yaxis": "y",
         "type": "scatter",
         "textposition": "top center"
        }
       ],
       "layout": {
        "template": {
         "data": {
          "histogram2dcontour": [
           {
            "type": "histogram2dcontour",
            "colorbar": {
             "outlinewidth": 0,
             "ticks": ""
            },
            "colorscale": [
             [
              0.0,
              "#0d0887"
             ],
             [
              0.1111111111111111,
              "#46039f"
             ],
             [
              0.2222222222222222,
              "#7201a8"
             ],
             [
              0.3333333333333333,
              "#9c179e"
             ],
             [
              0.4444444444444444,
              "#bd3786"
             ],
             [
              0.5555555555555556,
              "#d8576b"
             ],
             [
              0.6666666666666666,
              "#ed7953"
             ],
             [
              0.7777777777777778,
              "#fb9f3a"
             ],
             [
              0.8888888888888888,
              "#fdca26"
             ],
             [
              1.0,
              "#f0f921"
             ]
            ]
           }
          ],
          "choropleth": [
           {
            "type": "choropleth",
            "colorbar": {
             "outlinewidth": 0,
             "ticks": ""
            }
           }
          ],
          "histogram2d": [
           {
            "type": "histogram2d",
            "colorbar": {
             "outlinewidth": 0,
             "ticks": ""
            },
            "colorscale": [
             [
              0.0,
              "#0d0887"
             ],
             [
              0.1111111111111111,
              "#46039f"
             ],
             [
              0.2222222222222222,
              "#7201a8"
             ],
             [
              0.3333333333333333,
              "#9c179e"
             ],
             [
              0.4444444444444444,
              "#bd3786"
             ],
             [
              0.5555555555555556,
              "#d8576b"
             ],
             [
              0.6666666666666666,
              "#ed7953"
             ],
             [
              0.7777777777777778,
              "#fb9f3a"
             ],
             [
              0.8888888888888888,
              "#fdca26"
             ],
             [
              1.0,
              "#f0f921"
             ]
            ]
           }
          ],
          "heatmap": [
           {
            "type": "heatmap",
            "colorbar": {
             "outlinewidth": 0,
             "ticks": ""
            },
            "colorscale": [
             [
              0.0,
              "#0d0887"
             ],
             [
              0.1111111111111111,
              "#46039f"
             ],
             [
              0.2222222222222222,
              "#7201a8"
             ],
             [
              0.3333333333333333,
              "#9c179e"
             ],
             [
              0.4444444444444444,
              "#bd3786"
             ],
             [
              0.5555555555555556,
              "#d8576b"
             ],
             [
              0.6666666666666666,
              "#ed7953"
             ],
             [
              0.7777777777777778,
              "#fb9f3a"
             ],
             [
              0.8888888888888888,
              "#fdca26"
             ],
             [
              1.0,
              "#f0f921"
             ]
            ]
           }
          ],
          "heatmapgl": [
           {
            "type": "heatmapgl",
            "colorbar": {
             "outlinewidth": 0,
             "ticks": ""
            },
            "colorscale": [
             [
              0.0,
              "#0d0887"
             ],
             [
              0.1111111111111111,
              "#46039f"
             ],
             [
              0.2222222222222222,
              "#7201a8"
             ],
             [
              0.3333333333333333,
              "#9c179e"
             ],
             [
              0.4444444444444444,
              "#bd3786"
             ],
             [
              0.5555555555555556,
              "#d8576b"
             ],
             [
              0.6666666666666666,
              "#ed7953"
             ],
             [
              0.7777777777777778,
              "#fb9f3a"
             ],
             [
              0.8888888888888888,
              "#fdca26"
             ],
             [
              1.0,
              "#f0f921"
             ]
            ]
           }
          ],
          "contourcarpet": [
           {
            "type": "contourcarpet",
            "colorbar": {
             "outlinewidth": 0,
             "ticks": ""
            }
           }
          ],
          "contour": [
           {
            "type": "contour",
            "colorbar": {
             "outlinewidth": 0,
             "ticks": ""
            },
            "colorscale": [
             [
              0.0,
              "#0d0887"
             ],
             [
              0.1111111111111111,
              "#46039f"
             ],
             [
              0.2222222222222222,
              "#7201a8"
             ],
             [
              0.3333333333333333,
              "#9c179e"
             ],
             [
              0.4444444444444444,
              "#bd3786"
             ],
             [
              0.5555555555555556,
              "#d8576b"
             ],
             [
              0.6666666666666666,
              "#ed7953"
             ],
             [
              0.7777777777777778,
              "#fb9f3a"
             ],
             [
              0.8888888888888888,
              "#fdca26"
             ],
             [
              1.0,
              "#f0f921"
             ]
            ]
           }
          ],
          "surface": [
           {
            "type": "surface",
            "colorbar": {
             "outlinewidth": 0,
             "ticks": ""
            },
            "colorscale": [
             [
              0.0,
              "#0d0887"
             ],
             [
              0.1111111111111111,
              "#46039f"
             ],
             [
              0.2222222222222222,
              "#7201a8"
             ],
             [
              0.3333333333333333,
              "#9c179e"
             ],
             [
              0.4444444444444444,
              "#bd3786"
             ],
             [
              0.5555555555555556,
              "#d8576b"
             ],
             [
              0.6666666666666666,
              "#ed7953"
             ],
             [
              0.7777777777777778,
              "#fb9f3a"
             ],
             [
              0.8888888888888888,
              "#fdca26"
             ],
             [
              1.0,
              "#f0f921"
             ]
            ]
           }
          ],
          "mesh3d": [
           {
            "type": "mesh3d",
            "colorbar": {
             "outlinewidth": 0,
             "ticks": ""
            }
           }
          ],
          "scatter": [
           {
            "marker": {
             "line": {
              "color": "#283442"
             }
            },
            "type": "scatter"
           }
          ],
          "parcoords": [
           {
            "type": "parcoords",
            "line": {
             "colorbar": {
              "outlinewidth": 0,
              "ticks": ""
             }
            }
           }
          ],
          "scatterpolargl": [
           {
            "type": "scatterpolargl",
            "marker": {
             "colorbar": {
              "outlinewidth": 0,
              "ticks": ""
             }
            }
           }
          ],
          "bar": [
           {
            "error_x": {
             "color": "#f2f5fa"
            },
            "error_y": {
             "color": "#f2f5fa"
            },
            "marker": {
             "line": {
              "color": "rgb(17,17,17)",
              "width": 0.5
             },
             "pattern": {
              "fillmode": "overlay",
              "size": 10,
              "solidity": 0.2
             }
            },
            "type": "bar"
           }
          ],
          "scattergeo": [
           {
            "type": "scattergeo",
            "marker": {
             "colorbar": {
              "outlinewidth": 0,
              "ticks": ""
             }
            }
           }
          ],
          "scatterpolar": [
           {
            "type": "scatterpolar",
            "marker": {
             "colorbar": {
              "outlinewidth": 0,
              "ticks": ""
             }
            }
           }
          ],
          "histogram": [
           {
            "marker": {
             "pattern": {
              "fillmode": "overlay",
              "size": 10,
              "solidity": 0.2
             }
            },
            "type": "histogram"
           }
          ],
          "scattergl": [
           {
            "marker": {
             "line": {
              "color": "#283442"
             }
            },
            "type": "scattergl"
           }
          ],
          "scatter3d": [
           {
            "type": "scatter3d",
            "line": {
             "colorbar": {
              "outlinewidth": 0,
              "ticks": ""
             }
            },
            "marker": {
             "colorbar": {
              "outlinewidth": 0,
              "ticks": ""
             }
            }
           }
          ],
          "scattermapbox": [
           {
            "type": "scattermapbox",
            "marker": {
             "colorbar": {
              "outlinewidth": 0,
              "ticks": ""
             }
            }
           }
          ],
          "scatterternary": [
           {
            "type": "scatterternary",
            "marker": {
             "colorbar": {
              "outlinewidth": 0,
              "ticks": ""
             }
            }
           }
          ],
          "scattercarpet": [
           {
            "type": "scattercarpet",
            "marker": {
             "colorbar": {
              "outlinewidth": 0,
              "ticks": ""
             }
            }
           }
          ],
          "carpet": [
           {
            "aaxis": {
             "endlinecolor": "#A2B1C6",
             "gridcolor": "#506784",
             "linecolor": "#506784",
             "minorgridcolor": "#506784",
             "startlinecolor": "#A2B1C6"
            },
            "baxis": {
             "endlinecolor": "#A2B1C6",
             "gridcolor": "#506784",
             "linecolor": "#506784",
             "minorgridcolor": "#506784",
             "startlinecolor": "#A2B1C6"
            },
            "type": "carpet"
           }
          ],
          "table": [
           {
            "cells": {
             "fill": {
              "color": "#506784"
             },
             "line": {
              "color": "rgb(17,17,17)"
             }
            },
            "header": {
             "fill": {
              "color": "#2a3f5f"
             },
             "line": {
              "color": "rgb(17,17,17)"
             }
            },
            "type": "table"
           }
          ],
          "barpolar": [
           {
            "marker": {
             "line": {
              "color": "rgb(17,17,17)",
              "width": 0.5
             },
             "pattern": {
              "fillmode": "overlay",
              "size": 10,
              "solidity": 0.2
             }
            },
            "type": "barpolar"
           }
          ],
          "pie": [
           {
            "automargin": true,
            "type": "pie"
           }
          ]
         },
         "layout": {
          "autotypenumbers": "strict",
          "colorway": [
           "#636efa",
           "#EF553B",
           "#00cc96",
           "#ab63fa",
           "#FFA15A",
           "#19d3f3",
           "#FF6692",
           "#B6E880",
           "#FF97FF",
           "#FECB52"
          ],
          "font": {
           "color": "#f2f5fa"
          },
          "hovermode": "closest",
          "hoverlabel": {
           "align": "left"
          },
          "paper_bgcolor": "rgb(17,17,17)",
          "plot_bgcolor": "rgb(17,17,17)",
          "polar": {
           "bgcolor": "rgb(17,17,17)",
           "angularaxis": {
            "gridcolor": "#506784",
            "linecolor": "#506784",
            "ticks": ""
           },
           "radialaxis": {
            "gridcolor": "#506784",
            "linecolor": "#506784",
            "ticks": ""
           }
          },
          "ternary": {
           "bgcolor": "rgb(17,17,17)",
           "aaxis": {
            "gridcolor": "#506784",
            "linecolor": "#506784",
            "ticks": ""
           },
           "baxis": {
            "gridcolor": "#506784",
            "linecolor": "#506784",
            "ticks": ""
           },
           "caxis": {
            "gridcolor": "#506784",
            "linecolor": "#506784",
            "ticks": ""
           }
          },
          "coloraxis": {
           "colorbar": {
            "outlinewidth": 0,
            "ticks": ""
           }
          },
          "colorscale": {
           "sequential": [
            [
             0.0,
             "#0d0887"
            ],
            [
             0.1111111111111111,
             "#46039f"
            ],
            [
             0.2222222222222222,
             "#7201a8"
            ],
            [
             0.3333333333333333,
             "#9c179e"
            ],
            [
             0.4444444444444444,
             "#bd3786"
            ],
            [
             0.5555555555555556,
             "#d8576b"
            ],
            [
             0.6666666666666666,
             "#ed7953"
            ],
            [
             0.7777777777777778,
             "#fb9f3a"
            ],
            [
             0.8888888888888888,
             "#fdca26"
            ],
            [
             1.0,
             "#f0f921"
            ]
           ],
           "sequentialminus": [
            [
             0.0,
             "#0d0887"
            ],
            [
             0.1111111111111111,
             "#46039f"
            ],
            [
             0.2222222222222222,
             "#7201a8"
            ],
            [
             0.3333333333333333,
             "#9c179e"
            ],
            [
             0.4444444444444444,
             "#bd3786"
            ],
            [
             0.5555555555555556,
             "#d8576b"
            ],
            [
             0.6666666666666666,
             "#ed7953"
            ],
            [
             0.7777777777777778,
             "#fb9f3a"
            ],
            [
             0.8888888888888888,
             "#fdca26"
            ],
            [
             1.0,
             "#f0f921"
            ]
           ],
           "diverging": [
            [
             0,
             "#8e0152"
            ],
            [
             0.1,
             "#c51b7d"
            ],
            [
             0.2,
             "#de77ae"
            ],
            [
             0.3,
             "#f1b6da"
            ],
            [
             0.4,
             "#fde0ef"
            ],
            [
             0.5,
             "#f7f7f7"
            ],
            [
             0.6,
             "#e6f5d0"
            ],
            [
             0.7,
             "#b8e186"
            ],
            [
             0.8,
             "#7fbc41"
            ],
            [
             0.9,
             "#4d9221"
            ],
            [
             1,
             "#276419"
            ]
           ]
          },
          "xaxis": {
           "gridcolor": "#283442",
           "linecolor": "#506784",
           "ticks": "",
           "title": {
            "standoff": 15
           },
           "zerolinecolor": "#283442",
           "automargin": true,
           "zerolinewidth": 2
          },
          "yaxis": {
           "gridcolor": "#283442",
           "linecolor": "#506784",
           "ticks": "",
           "title": {
            "standoff": 15
           },
           "zerolinecolor": "#283442",
           "automargin": true,
           "zerolinewidth": 2
          },
          "scene": {
           "xaxis": {
            "backgroundcolor": "rgb(17,17,17)",
            "gridcolor": "#506784",
            "linecolor": "#506784",
            "showbackground": true,
            "ticks": "",
            "zerolinecolor": "#C8D4E3",
            "gridwidth": 2
           },
           "yaxis": {
            "backgroundcolor": "rgb(17,17,17)",
            "gridcolor": "#506784",
            "linecolor": "#506784",
            "showbackground": true,
            "ticks": "",
            "zerolinecolor": "#C8D4E3",
            "gridwidth": 2
           },
           "zaxis": {
            "backgroundcolor": "rgb(17,17,17)",
            "gridcolor": "#506784",
            "linecolor": "#506784",
            "showbackground": true,
            "ticks": "",
            "zerolinecolor": "#C8D4E3",
            "gridwidth": 2
           }
          },
          "shapedefaults": {
           "line": {
            "color": "#f2f5fa"
           }
          },
          "annotationdefaults": {
           "arrowcolor": "#f2f5fa",
           "arrowhead": 0,
           "arrowwidth": 1
          },
          "geo": {
           "bgcolor": "rgb(17,17,17)",
           "landcolor": "rgb(17,17,17)",
           "subunitcolor": "#506784",
           "showland": true,
           "showlakes": true,
           "lakecolor": "rgb(17,17,17)"
          },
          "title": {
           "x": 0.05
          },
          "updatemenudefaults": {
           "bgcolor": "#506784",
           "borderwidth": 0
          },
          "sliderdefaults": {
           "bgcolor": "#C8D4E3",
           "borderwidth": 1,
           "bordercolor": "rgb(17,17,17)",
           "tickwidth": 0
          },
          "mapbox": {
           "style": "dark"
          }
         }
        },
        "xaxis": {
         "anchor": "y",
         "domain": [
          0.0,
          1.0
         ],
         "title": {
          "text": "x"
         }
        },
        "yaxis": {
         "anchor": "x",
         "domain": [
          0.0,
          1.0
         ],
         "title": {
          "text": "y"
         }
        },
        "coloraxis": {
         "colorbar": {
          "title": {
           "text": "color"
          }
         },
         "colorscale": [
          [
           0.0,
           "#0d0887"
          ],
          [
           0.1111111111111111,
           "#46039f"
          ],
          [
           0.2222222222222222,
           "#7201a8"
          ],
          [
           0.3333333333333333,
           "#9c179e"
          ],
          [
           0.4444444444444444,
           "#bd3786"
          ],
          [
           0.5555555555555556,
           "#d8576b"
          ],
          [
           0.6666666666666666,
           "#ed7953"
          ],
          [
           0.7777777777777778,
           "#fb9f3a"
          ],
          [
           0.8888888888888888,
           "#fdca26"
          ],
          [
           1.0,
           "#f0f921"
          ]
         ]
        },
        "legend": {
         "tracegroupgap": 0
        },
        "margin": {
         "t": 60
        },
        "title": {
         "text": "Cluster"
        },
        "height": 900,
        "width": 1500
       },
       "config": {
        "plotlyServerURL": "https://plot.ly"
       }
      },
      "text/html": "<div>                            <div id=\"91252318-e931-4de2-95c3-6ab4207653c6\" class=\"plotly-graph-div\" style=\"height:900px; width:1500px;\"></div>            <script type=\"text/javascript\">                require([\"plotly\"], function(Plotly) {                    window.PLOTLYENV=window.PLOTLYENV || {};                                    if (document.getElementById(\"91252318-e931-4de2-95c3-6ab4207653c6\")) {                    Plotly.newPlot(                        \"91252318-e931-4de2-95c3-6ab4207653c6\",                        [{\"hovertemplate\":\"x=%{x}<br>y=%{y}<br>text=%{text}<br>color=%{marker.color}<extra></extra>\",\"legendgroup\":\"\",\"marker\":{\"color\":[0,4,7,4,5,4,4,2,0,2,2,1,0,4,0,3,7,6,0,7,6,0,0,2,0,0,0,1,0,0,4,1,0,7,0,0,6,0,3,1,6,4,8,2,3,3,8,8,2,4,0,5,3,0,3,4,8,8,4,8,0,0,2,2,0,4,0,0,5,3,0,4,3,4,5,3,3,4,0,0,3,6,0,3,1,6,0,6,6,3,1,0,6,7,0,0,3,3,5,8,8,3,2,4,2,4,8,1,3,1,1,1,4,4,1,7,1,0,1,4,4,0,0,8,4,1,8,0,0,0,4,4,6,6,2,0,0,4,2,3,1,7,0,0,3,4,0,1,4,2,0,4,0,0,0,0,0,5,6,0,1],\"coloraxis\":\"coloraxis\",\"symbol\":\"circle\"},\"mode\":\"markers+text\",\"name\":\"\",\"orientation\":\"v\",\"showlegend\":false,\"text\":[\"APL\",\"Assembly\",\"Bash/Shell\",\"C\",\"C#\",\"C++\",\"COBOL\",\"Clojure\",\"Crystal\",\"Dart\",\"Delphi\",\"Elixir\",\"Erlang\",\"F#\",\"Fortran\",\"Go\",\"Groovy\",\"HTML/CSS\",\"Haskell\",\"Java\",\"JavaScript\",\"Julia\",\"Kotlin\",\"LISP\",\"Lua\",\"MATLAB\",\"OCaml\",\"Objective-C\",\"PHP\",\"Perl\",\"PowerShell\",\"Python\",\"R\",\"Ruby\",\"Rust\",\"SAS\",\"SQL\",\"Scala\",\"Solidity\",\"Swift\",\"TypeScript\",\"VBA\",\"Cassandra\",\"Cloud Firestore\",\"CouchDB\",\"Couchbase\",\"DynamoDB\",\"Elasticsearch\",\"Firebase Realtime Database\",\"IBM DB2\",\"MariaDB\",\"Microsoft SQL Server\",\"MongoDB\",\"MySQL\",\"Neo4j\",\"Oracle\",\"PostgreSQL\",\"Redis\",\"SQLite\",\"AWS\",\"Colocation\",\"DigitalOcean\",\"Firebase\",\"Google Cloud\",\"Heroku\",\"IBM Cloud or Watson\",\"Linode\",\"Managed Hosting\",\"Microsoft Azure\",\"OVH\",\"OpenStack\",\"Oracle Cloud Infrastructure\",\"VMware\",\"ASP.NET\",\"ASP.NET Core \",\"Angular\",\"Angular.js\",\"Blazor\",\"Deno\",\"Django\",\"Drupal\",\"Express\",\"FastAPI\",\"Fastify\",\"Flask\",\"Gatsby\",\"Laravel\",\"Next.js\",\"Node.js\",\"Nuxt.js\",\"Phoenix\",\"Play Framework\",\"React.js\",\"Ruby on Rails\",\"Svelte\",\"Symfony\",\"Vue.js\",\"jQuery\",\".NET\",\"Apache Kafka\",\"Apache Spark\",\"Capacitor\",\"Cordova\",\"Electron\",\"Flutter\",\"GTK\",\"Hadoop\",\"Hugging Face Transformers\",\"Ionic\",\"Keras\",\"NumPy\",\"Pandas\",\"Qt\",\"React Native\",\"Scikit-learn\",\"Spring\",\"TensorFlow\",\"Tidyverse\",\"Torch/PyTorch\",\"Uno Platform\",\"Xamarin\",\"Ansible\",\"Chef\",\"Docker\",\"Flow\",\"Homebrew\",\"Kubernetes\",\"Pulumi\",\"Puppet\",\"Terraform\",\"Unity 3D\",\"Unreal Engine\",\"Yarn\",\"npm\",\"Android Studio\",\"Atom\",\"CLion\",\"Eclipse\",\"Emacs\",\"GoLand\",\"IPython/Jupyter\",\"IntelliJ\",\"Nano\",\"Neovim\",\"NetBeans\",\"Notepad++\",\"PhpStorm\",\"PyCharm\",\"Qt Creator\",\"RAD Studio (Delphi_C++ Builder)\",\"RStudio\",\"Rider\",\"RubyMine\",\"Spyder\",\"Sublime Text\",\"TextMate\",\"Vim\",\"Visual Studio\",\"Visual Studio Code\",\"Webstorm\",\"Xcode\"],\"x\":[-1.9266510009765625,-10.384855270385742,-2.3161656856536865,-10.526604652404785,23.525405883789062,-10.53773307800293,-3.233377456665039,-9.514044761657715,-1.0455011129379272,-20.840862274169922,-31.656707763671875,-19.424327850341797,-4.184235572814941,5.257684707641602,-4.622920513153076,9.912636756896973,-2.399397611618042,32.05994415283203,-2.316246509552002,-2.3904361724853516,31.753284454345703,-2.077563762664795,-0.07469379156827927,-10.840107917785645,-3.8049793243408203,-4.336717128753662,-1.0228794813156128,-16.102750778198242,-8.705232620239258,-12.579706192016602,4.636422634124756,-27.737119674682617,-9.639583587646484,9.435070991516113,-1.771858811378479,-1.9136050939559937,32.86636734008789,4.637971878051758,3.3527121543884277,-16.636411666870117,27.98094367980957,-1.9576996564865112,10.923853874206543,-17.32284164428711,1.3321481943130493,2.5072569847106934,15.932544708251953,12.202791213989258,-14.148035049438477,-3.999063014984131,-12.101531028747559,24.544178009033203,15.648453712463379,-8.741990089416504,14.77314281463623,-6.661473274230957,15.00895881652832,13.465553283691406,-7.134730339050293,16.027135848999023,-0.07858878374099731,-4.488385200500488,-15.481772422790527,-18.24421501159668,-2.020085334777832,-4.049953460693359,-0.14123114943504333,-1.7409144639968872,20.817779541015625,0.7824894189834595,-5.754073619842529,-6.5360870361328125,2.4238781929016113,7.704809188842773,21.891128540039062,12.549960136413574,11.858643531799316,7.078549385070801,-1.6593676805496216,-6.584904193878174,5.964738845825195,23.671201705932617,-13.854493141174316,5.626038551330566,-18.8455867767334,20.891605377197266,-6.685998916625977,22.172893524169922,25.101659774780273,10.534431457519531,-19.539371490478516,4.40825080871582,24.66228485107422,9.436697006225586,-1.540309190750122,-10.270105361938477,11.370363235473633,6.667245388031006,22.9664363861084,14.33062744140625,12.99013900756836,9.84147834777832,-17.096296310424805,5.012969493865967,-20.830495834350586,-6.660973072052002,12.064239501953125,-20.200164794921875,10.494205474853516,-22.09419059753418,-27.890321731567383,-27.905517578125,-7.0483078956604,1.6778641939163208,-22.28213119506836,-2.3869340419769287,-22.694284439086914,-7.545958518981934,-20.598464965820312,6.064713478088379,7.187993049621582,-1.1895354986190796,4.447071552276611,17.334474563598633,1.0832449197769165,-18.666627883911133,15.942790985107422,4.458960056304932,-3.6321985721588135,5.48859167098999,1.9154552221298218,1.621946096420288,22.516311645507812,27.649269104003906,-18.0828857421875,-2.2921266555786133,-9.424052238464355,-2.154052734375,-11.519153594970703,9.194900512695312,-22.704496383666992,-2.380763053894043,-6.687568664550781,0.8664295077323914,5.266008377075195,7.9777116775512695,-9.669941902160645,-18.789155960083008,-6.815888404846191,-31.656417846679688,-8.796579360961914,6.008575916290283,0.104053795337677,-2.8397419452667236,-6.42101526260376,-0.5221844911575317,-13.44242000579834,23.91111183166504,30.837034225463867,-8.365962982177734,-17.186412811279297],\"xaxis\":\"x\",\"y\":[0.2712495028972626,15.622042655944824,-20.837120056152344,16.691591262817383,28.601350784301758,17.859996795654297,12.714609146118164,4.011525630950928,1.4557297229766846,14.89558219909668,9.168360710144043,-23.781478881835938,-8.571405410766602,15.142768859863281,1.460503339767456,-5.734220504760742,-22.061574935913086,3.2758145332336426,-6.011431694030762,-25.138093948364258,2.993835926055908,-3.091618776321411,-5.104404926300049,7.141366481781006,-2.0414586067199707,3.4650487899780273,-5.9199700355529785,-17.59400177001953,-14.024659156799316,-1.6181073188781738,17.287973403930664,-9.804308891296387,-5.774306297302246,-25.585031509399414,-16.750185012817383,0.2800086736679077,4.078386306762695,-14.615694046020508,-0.08254004269838333,-18.43049430847168,0.6763389110565186,8.179749488830566,-10.772452354431152,4.333254337310791,-1.0026402473449707,-3.1328301429748535,-6.9620041847229,-10.807897567749023,3.4179108142852783,13.500049591064453,-11.408973693847656,27.66728401184082,3.302855968475342,-15.06731128692627,3.32782244682312,10.615346908569336,-9.915964126586914,-10.3080472946167,22.494037628173828,-8.827875137329102,3.1189937591552734,-4.303310871124268,3.789236307144165,4.597503662109375,-1.2079617977142334,6.1180925369262695,-2.4345574378967285,5.00178337097168,27.723623275756836,1.044106364250183,-1.7609866857528687,9.657325744628906,2.555583953857422,19.827463150024414,28.15114974975586,10.52856731414795,11.141858100891113,18.596664428710938,-15.609699249267578,0.2610557973384857,1.3185572624206543,0.6298429369926453,-6.265655994415283,-2.2031915187835693,-4.834441661834717,0.14273729920387268,-12.209207534790039,-0.2464827597141266,0.19935381412506104,-0.09224328398704529,-23.99349594116211,-13.790217399597168,-1.376373291015625,-25.584009170532227,-14.439824104309082,-11.829005241394043,-0.24538788199424744,2.525580406188965,28.58133888244629,-15.050158500671387,-15.398115158081055,6.969257354736328,12.52298355102539,7.230498790740967,14.88902473449707,5.443291664123535,-14.954541206359863,-5.087249755859375,7.457019329071045,-4.93059778213501,-8.334549903869629,-8.221972465515137,21.417930603027344,6.165884017944336,-6.583646774291992,-23.49241065979004,-3.6878929138183594,-4.519535541534424,-3.8639779090881348,16.752376556396484,16.830856323242188,-7.538450241088867,-8.592065811157227,-13.417613983154297,5.2340474128723145,-22.397117614746094,-14.102749824523926,-5.7246413230896,-0.19015999138355255,-8.273096084594727,10.840302467346191,10.001627922058105,-1.402428150177002,0.6500574350357056,13.171113014221191,2.854114055633545,0.5395580530166626,12.827388763427734,7.689734935760498,-5.198304653167725,-7.601210594177246,-25.65277671813965,2.5999245643615723,-6.888298988342285,3.7345473766326904,20.879863739013672,-12.717635154724121,-7.234189987182617,20.4642333984375,9.167742729187012,-5.203540325164795,11.886716842651367,-10.223215103149414,1.3727062940597534,-6.136122703552246,-0.35998302698135376,-1.6717188358306885,29.27625846862793,2.114858627319336,-2.3196170330047607,-19.38589859008789],\"yaxis\":\"y\",\"type\":\"scatter\",\"textposition\":\"top center\"}],                        {\"template\":{\"data\":{\"histogram2dcontour\":[{\"type\":\"histogram2dcontour\",\"colorbar\":{\"outlinewidth\":0,\"ticks\":\"\"},\"colorscale\":[[0.0,\"#0d0887\"],[0.1111111111111111,\"#46039f\"],[0.2222222222222222,\"#7201a8\"],[0.3333333333333333,\"#9c179e\"],[0.4444444444444444,\"#bd3786\"],[0.5555555555555556,\"#d8576b\"],[0.6666666666666666,\"#ed7953\"],[0.7777777777777778,\"#fb9f3a\"],[0.8888888888888888,\"#fdca26\"],[1.0,\"#f0f921\"]]}],\"choropleth\":[{\"type\":\"choropleth\",\"colorbar\":{\"outlinewidth\":0,\"ticks\":\"\"}}],\"histogram2d\":[{\"type\":\"histogram2d\",\"colorbar\":{\"outlinewidth\":0,\"ticks\":\"\"},\"colorscale\":[[0.0,\"#0d0887\"],[0.1111111111111111,\"#46039f\"],[0.2222222222222222,\"#7201a8\"],[0.3333333333333333,\"#9c179e\"],[0.4444444444444444,\"#bd3786\"],[0.5555555555555556,\"#d8576b\"],[0.6666666666666666,\"#ed7953\"],[0.7777777777777778,\"#fb9f3a\"],[0.8888888888888888,\"#fdca26\"],[1.0,\"#f0f921\"]]}],\"heatmap\":[{\"type\":\"heatmap\",\"colorbar\":{\"outlinewidth\":0,\"ticks\":\"\"},\"colorscale\":[[0.0,\"#0d0887\"],[0.1111111111111111,\"#46039f\"],[0.2222222222222222,\"#7201a8\"],[0.3333333333333333,\"#9c179e\"],[0.4444444444444444,\"#bd3786\"],[0.5555555555555556,\"#d8576b\"],[0.6666666666666666,\"#ed7953\"],[0.7777777777777778,\"#fb9f3a\"],[0.8888888888888888,\"#fdca26\"],[1.0,\"#f0f921\"]]}],\"heatmapgl\":[{\"type\":\"heatmapgl\",\"colorbar\":{\"outlinewidth\":0,\"ticks\":\"\"},\"colorscale\":[[0.0,\"#0d0887\"],[0.1111111111111111,\"#46039f\"],[0.2222222222222222,\"#7201a8\"],[0.3333333333333333,\"#9c179e\"],[0.4444444444444444,\"#bd3786\"],[0.5555555555555556,\"#d8576b\"],[0.6666666666666666,\"#ed7953\"],[0.7777777777777778,\"#fb9f3a\"],[0.8888888888888888,\"#fdca26\"],[1.0,\"#f0f921\"]]}],\"contourcarpet\":[{\"type\":\"contourcarpet\",\"colorbar\":{\"outlinewidth\":0,\"ticks\":\"\"}}],\"contour\":[{\"type\":\"contour\",\"colorbar\":{\"outlinewidth\":0,\"ticks\":\"\"},\"colorscale\":[[0.0,\"#0d0887\"],[0.1111111111111111,\"#46039f\"],[0.2222222222222222,\"#7201a8\"],[0.3333333333333333,\"#9c179e\"],[0.4444444444444444,\"#bd3786\"],[0.5555555555555556,\"#d8576b\"],[0.6666666666666666,\"#ed7953\"],[0.7777777777777778,\"#fb9f3a\"],[0.8888888888888888,\"#fdca26\"],[1.0,\"#f0f921\"]]}],\"surface\":[{\"type\":\"surface\",\"colorbar\":{\"outlinewidth\":0,\"ticks\":\"\"},\"colorscale\":[[0.0,\"#0d0887\"],[0.1111111111111111,\"#46039f\"],[0.2222222222222222,\"#7201a8\"],[0.3333333333333333,\"#9c179e\"],[0.4444444444444444,\"#bd3786\"],[0.5555555555555556,\"#d8576b\"],[0.6666666666666666,\"#ed7953\"],[0.7777777777777778,\"#fb9f3a\"],[0.8888888888888888,\"#fdca26\"],[1.0,\"#f0f921\"]]}],\"mesh3d\":[{\"type\":\"mesh3d\",\"colorbar\":{\"outlinewidth\":0,\"ticks\":\"\"}}],\"scatter\":[{\"marker\":{\"line\":{\"color\":\"#283442\"}},\"type\":\"scatter\"}],\"parcoords\":[{\"type\":\"parcoords\",\"line\":{\"colorbar\":{\"outlinewidth\":0,\"ticks\":\"\"}}}],\"scatterpolargl\":[{\"type\":\"scatterpolargl\",\"marker\":{\"colorbar\":{\"outlinewidth\":0,\"ticks\":\"\"}}}],\"bar\":[{\"error_x\":{\"color\":\"#f2f5fa\"},\"error_y\":{\"color\":\"#f2f5fa\"},\"marker\":{\"line\":{\"color\":\"rgb(17,17,17)\",\"width\":0.5},\"pattern\":{\"fillmode\":\"overlay\",\"size\":10,\"solidity\":0.2}},\"type\":\"bar\"}],\"scattergeo\":[{\"type\":\"scattergeo\",\"marker\":{\"colorbar\":{\"outlinewidth\":0,\"ticks\":\"\"}}}],\"scatterpolar\":[{\"type\":\"scatterpolar\",\"marker\":{\"colorbar\":{\"outlinewidth\":0,\"ticks\":\"\"}}}],\"histogram\":[{\"marker\":{\"pattern\":{\"fillmode\":\"overlay\",\"size\":10,\"solidity\":0.2}},\"type\":\"histogram\"}],\"scattergl\":[{\"marker\":{\"line\":{\"color\":\"#283442\"}},\"type\":\"scattergl\"}],\"scatter3d\":[{\"type\":\"scatter3d\",\"line\":{\"colorbar\":{\"outlinewidth\":0,\"ticks\":\"\"}},\"marker\":{\"colorbar\":{\"outlinewidth\":0,\"ticks\":\"\"}}}],\"scattermapbox\":[{\"type\":\"scattermapbox\",\"marker\":{\"colorbar\":{\"outlinewidth\":0,\"ticks\":\"\"}}}],\"scatterternary\":[{\"type\":\"scatterternary\",\"marker\":{\"colorbar\":{\"outlinewidth\":0,\"ticks\":\"\"}}}],\"scattercarpet\":[{\"type\":\"scattercarpet\",\"marker\":{\"colorbar\":{\"outlinewidth\":0,\"ticks\":\"\"}}}],\"carpet\":[{\"aaxis\":{\"endlinecolor\":\"#A2B1C6\",\"gridcolor\":\"#506784\",\"linecolor\":\"#506784\",\"minorgridcolor\":\"#506784\",\"startlinecolor\":\"#A2B1C6\"},\"baxis\":{\"endlinecolor\":\"#A2B1C6\",\"gridcolor\":\"#506784\",\"linecolor\":\"#506784\",\"minorgridcolor\":\"#506784\",\"startlinecolor\":\"#A2B1C6\"},\"type\":\"carpet\"}],\"table\":[{\"cells\":{\"fill\":{\"color\":\"#506784\"},\"line\":{\"color\":\"rgb(17,17,17)\"}},\"header\":{\"fill\":{\"color\":\"#2a3f5f\"},\"line\":{\"color\":\"rgb(17,17,17)\"}},\"type\":\"table\"}],\"barpolar\":[{\"marker\":{\"line\":{\"color\":\"rgb(17,17,17)\",\"width\":0.5},\"pattern\":{\"fillmode\":\"overlay\",\"size\":10,\"solidity\":0.2}},\"type\":\"barpolar\"}],\"pie\":[{\"automargin\":true,\"type\":\"pie\"}]},\"layout\":{\"autotypenumbers\":\"strict\",\"colorway\":[\"#636efa\",\"#EF553B\",\"#00cc96\",\"#ab63fa\",\"#FFA15A\",\"#19d3f3\",\"#FF6692\",\"#B6E880\",\"#FF97FF\",\"#FECB52\"],\"font\":{\"color\":\"#f2f5fa\"},\"hovermode\":\"closest\",\"hoverlabel\":{\"align\":\"left\"},\"paper_bgcolor\":\"rgb(17,17,17)\",\"plot_bgcolor\":\"rgb(17,17,17)\",\"polar\":{\"bgcolor\":\"rgb(17,17,17)\",\"angularaxis\":{\"gridcolor\":\"#506784\",\"linecolor\":\"#506784\",\"ticks\":\"\"},\"radialaxis\":{\"gridcolor\":\"#506784\",\"linecolor\":\"#506784\",\"ticks\":\"\"}},\"ternary\":{\"bgcolor\":\"rgb(17,17,17)\",\"aaxis\":{\"gridcolor\":\"#506784\",\"linecolor\":\"#506784\",\"ticks\":\"\"},\"baxis\":{\"gridcolor\":\"#506784\",\"linecolor\":\"#506784\",\"ticks\":\"\"},\"caxis\":{\"gridcolor\":\"#506784\",\"linecolor\":\"#506784\",\"ticks\":\"\"}},\"coloraxis\":{\"colorbar\":{\"outlinewidth\":0,\"ticks\":\"\"}},\"colorscale\":{\"sequential\":[[0.0,\"#0d0887\"],[0.1111111111111111,\"#46039f\"],[0.2222222222222222,\"#7201a8\"],[0.3333333333333333,\"#9c179e\"],[0.4444444444444444,\"#bd3786\"],[0.5555555555555556,\"#d8576b\"],[0.6666666666666666,\"#ed7953\"],[0.7777777777777778,\"#fb9f3a\"],[0.8888888888888888,\"#fdca26\"],[1.0,\"#f0f921\"]],\"sequentialminus\":[[0.0,\"#0d0887\"],[0.1111111111111111,\"#46039f\"],[0.2222222222222222,\"#7201a8\"],[0.3333333333333333,\"#9c179e\"],[0.4444444444444444,\"#bd3786\"],[0.5555555555555556,\"#d8576b\"],[0.6666666666666666,\"#ed7953\"],[0.7777777777777778,\"#fb9f3a\"],[0.8888888888888888,\"#fdca26\"],[1.0,\"#f0f921\"]],\"diverging\":[[0,\"#8e0152\"],[0.1,\"#c51b7d\"],[0.2,\"#de77ae\"],[0.3,\"#f1b6da\"],[0.4,\"#fde0ef\"],[0.5,\"#f7f7f7\"],[0.6,\"#e6f5d0\"],[0.7,\"#b8e186\"],[0.8,\"#7fbc41\"],[0.9,\"#4d9221\"],[1,\"#276419\"]]},\"xaxis\":{\"gridcolor\":\"#283442\",\"linecolor\":\"#506784\",\"ticks\":\"\",\"title\":{\"standoff\":15},\"zerolinecolor\":\"#283442\",\"automargin\":true,\"zerolinewidth\":2},\"yaxis\":{\"gridcolor\":\"#283442\",\"linecolor\":\"#506784\",\"ticks\":\"\",\"title\":{\"standoff\":15},\"zerolinecolor\":\"#283442\",\"automargin\":true,\"zerolinewidth\":2},\"scene\":{\"xaxis\":{\"backgroundcolor\":\"rgb(17,17,17)\",\"gridcolor\":\"#506784\",\"linecolor\":\"#506784\",\"showbackground\":true,\"ticks\":\"\",\"zerolinecolor\":\"#C8D4E3\",\"gridwidth\":2},\"yaxis\":{\"backgroundcolor\":\"rgb(17,17,17)\",\"gridcolor\":\"#506784\",\"linecolor\":\"#506784\",\"showbackground\":true,\"ticks\":\"\",\"zerolinecolor\":\"#C8D4E3\",\"gridwidth\":2},\"zaxis\":{\"backgroundcolor\":\"rgb(17,17,17)\",\"gridcolor\":\"#506784\",\"linecolor\":\"#506784\",\"showbackground\":true,\"ticks\":\"\",\"zerolinecolor\":\"#C8D4E3\",\"gridwidth\":2}},\"shapedefaults\":{\"line\":{\"color\":\"#f2f5fa\"}},\"annotationdefaults\":{\"arrowcolor\":\"#f2f5fa\",\"arrowhead\":0,\"arrowwidth\":1},\"geo\":{\"bgcolor\":\"rgb(17,17,17)\",\"landcolor\":\"rgb(17,17,17)\",\"subunitcolor\":\"#506784\",\"showland\":true,\"showlakes\":true,\"lakecolor\":\"rgb(17,17,17)\"},\"title\":{\"x\":0.05},\"updatemenudefaults\":{\"bgcolor\":\"#506784\",\"borderwidth\":0},\"sliderdefaults\":{\"bgcolor\":\"#C8D4E3\",\"borderwidth\":1,\"bordercolor\":\"rgb(17,17,17)\",\"tickwidth\":0},\"mapbox\":{\"style\":\"dark\"}}},\"xaxis\":{\"anchor\":\"y\",\"domain\":[0.0,1.0],\"title\":{\"text\":\"x\"}},\"yaxis\":{\"anchor\":\"x\",\"domain\":[0.0,1.0],\"title\":{\"text\":\"y\"}},\"coloraxis\":{\"colorbar\":{\"title\":{\"text\":\"color\"}},\"colorscale\":[[0.0,\"#0d0887\"],[0.1111111111111111,\"#46039f\"],[0.2222222222222222,\"#7201a8\"],[0.3333333333333333,\"#9c179e\"],[0.4444444444444444,\"#bd3786\"],[0.5555555555555556,\"#d8576b\"],[0.6666666666666666,\"#ed7953\"],[0.7777777777777778,\"#fb9f3a\"],[0.8888888888888888,\"#fdca26\"],[1.0,\"#f0f921\"]]},\"legend\":{\"tracegroupgap\":0},\"margin\":{\"t\":60},\"title\":{\"text\":\"Cluster\"},\"height\":900,\"width\":1500},                        {\"responsive\": true}                    ).then(function(){\n                            \nvar gd = document.getElementById('91252318-e931-4de2-95c3-6ab4207653c6');\nvar x = new MutationObserver(function (mutations, observer) {{\n        var display = window.getComputedStyle(gd).display;\n        if (!display || display === 'none') {{\n            console.log([gd, 'removed!']);\n            Plotly.purge(gd);\n            observer.disconnect();\n        }}\n}});\n\n// Listen for the removal of the full notebook cells\nvar notebookContainer = gd.closest('#notebook-container');\nif (notebookContainer) {{\n    x.observe(notebookContainer, {childList: true});\n}}\n\n// Listen for the clearing of the current output cell\nvar outputEl = gd.closest('.output');\nif (outputEl) {{\n    x.observe(outputEl, {childList: true});\n}}\n\n                        })                };                });            </script>        </div>"
     },
     "metadata": {},
     "output_type": "display_data"
    }
   ],
   "source": [
    "visualize_chosen_cluster_model(tsne_data, best_labels)"
   ],
   "metadata": {
    "collapsed": false
   }
  },
  {
   "cell_type": "code",
   "execution_count": null,
   "outputs": [],
   "source": [],
   "metadata": {
    "collapsed": false
   }
  }
 ],
 "metadata": {
  "kernelspec": {
   "display_name": "Python 3",
   "language": "python",
   "name": "python3"
  },
  "language_info": {
   "codemirror_mode": {
    "name": "ipython",
    "version": 2
   },
   "file_extension": ".py",
   "mimetype": "text/x-python",
   "name": "python",
   "nbconvert_exporter": "python",
   "pygments_lexer": "ipython2",
   "version": "2.7.6"
  }
 },
 "nbformat": 4,
 "nbformat_minor": 0
}
