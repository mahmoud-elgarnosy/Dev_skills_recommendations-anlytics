{
 "cells": [
  {
   "cell_type": "code",
   "execution_count": 1,
   "outputs": [],
   "source": [
    "import os\n",
    "os.environ['OMP_NUM_THREADS'] = '1'"
   ],
   "metadata": {
    "collapsed": false
   }
  },
  {
   "cell_type": "code",
   "execution_count": 2,
   "outputs": [],
   "source": [
    "# Load packages\n",
    "import pandas as pd\n",
    "from sklearn.manifold import TSNE\n",
    "from sklearn.cluster import AgglomerativeClustering\n",
    "from sklearn.metrics import silhouette_score\n",
    "import numpy as np\n",
    "import matplotlib.pyplot as plt\n",
    "import plotly.express as px\n",
    "from sklearn.cluster import KMeans"
   ],
   "metadata": {
    "collapsed": false
   }
  },
  {
   "cell_type": "code",
   "execution_count": 3,
   "outputs": [],
   "source": [
    "FILE_PATH = '../data/raw/survey_results_public.csv'\n",
    "LOAD_PATH = '../data/interim/'\n",
    "LOAD_SKILLS_DEV = '4.1-preprocessed-data_skills_dev.pkl'\n",
    "LOAD_HEAT_MAP = '5.0-EDA-heat_map.pkl'"
   ],
   "metadata": {
    "collapsed": false
   }
  },
  {
   "cell_type": "markdown",
   "source": [
    "# More preprocessing steps:\n",
    "1. Drop roles: ['Student', 'Other (please specify):', 'Designer', 'Educator', 'Product manager', 'Marketing or sales professional']\n",
    "2. split roles: ['Developer_full-stack', 'Developer_back-end']\n",
    "3. Cluster similar roles"
   ],
   "metadata": {
    "collapsed": false
   }
  },
  {
   "cell_type": "code",
   "execution_count": 4,
   "outputs": [],
   "source": [
    "def reduce_dimensions(df):\n",
    "    tsne_data = pd.DataFrame(TSNE(n_components=2, learning_rate=.01,\n",
    "                                 perplexity=3, n_iter = 10**10).fit_transform(df),\n",
    "                 index = df.index)\n",
    "\n",
    "    return tsne_data"
   ],
   "metadata": {
    "collapsed": false
   }
  },
  {
   "cell_type": "code",
   "execution_count": 227,
   "outputs": [],
   "source": [
    "def evaluate_cluster_model(tsne_data, range_clusters=range(1,5), plot = True):\n",
    "    scores = []\n",
    "    wcss = []\n",
    "    for k in range_clusters:\n",
    "        kmeans = KMeans(n_clusters=k, init='k-means++', max_iter=300, n_init='auto', random_state=0)\n",
    "        labels = kmeans.fit_predict(tsne_data)\n",
    "        wcss.append(kmeans.inertia_)\n",
    "\n",
    "\n",
    "        score = silhouette_score(tsne_data, labels)\n",
    "        scores.append(score)\n",
    "\n",
    "\n",
    "    best_k = np.argmax(scores) + range_clusters[0]\n",
    "    best_labels = KMeans(n_clusters=best_k, init='k-means++', max_iter=300, n_init='auto', random_state=0).fit_predict(tsne_data)\n",
    "    best_labels = np.array([f'cluster_{label}' for label in best_labels])\n",
    "\n",
    "    if plot:\n",
    "        # silhouette score\n",
    "        fig = px.line(x= range_clusters, y = scores)\n",
    "        fig.add_vline(best_k)\n",
    "        fig.update_layout(height=450, width=900, title='Silhouette Score')\n",
    "        fig.show()\n",
    "\n",
    "\n",
    "        # Plot the WCSS values\n",
    "        plt.plot(range_clusters, wcss)\n",
    "        plt.title('Elbow Method')\n",
    "        plt.xlabel('Number of clusters')\n",
    "        plt.ylabel('WCSS')\n",
    "        plt.show()\n",
    "\n",
    "    return best_k, best_labels"
   ],
   "metadata": {
    "collapsed": false
   }
  },
  {
   "cell_type": "code",
   "execution_count": 228,
   "outputs": [],
   "source": [
    "def visualize_chosen_cluster_model(role_type, tsne_data, cluster_labels):\n",
    "    fig = px.scatter(x=tsne_data[0],\n",
    "                    y=tsne_data[1],\n",
    "                    text=tsne_data.index,\n",
    "                    color=cluster_labels,\n",
    "                     color_discrete_sequence=px.colors.qualitative.Dark24)\n",
    "    fig.update_traces(textposition='top center')\n",
    "    fig.update_layout(height=900, width=1500, title_text=f'Clustering top skills for {role_type}')\n",
    "    fig.show()"
   ],
   "metadata": {
    "collapsed": false
   }
  },
  {
   "cell_type": "markdown",
   "source": [
    "# Load Data"
   ],
   "metadata": {
    "collapsed": false
   }
  },
  {
   "cell_type": "code",
   "execution_count": 229,
   "outputs": [],
   "source": [
    "skills_dev_df = pd.read_pickle(LOAD_PATH + LOAD_SKILLS_DEV)\n",
    "developers_skills = pd.read_pickle(LOAD_PATH + LOAD_HEAT_MAP)"
   ],
   "metadata": {
    "collapsed": false
   }
  },
  {
   "cell_type": "code",
   "execution_count": 230,
   "outputs": [
    {
     "data": {
      "text/plain": "      Languages                                                           \\\n            APL  Assembly Bash/Shell         C        C#       C++ COBOL   \n2      0.000000  0.000000   0.000000  0.000000  0.078225  0.078225   0.0   \n3      0.000000  0.000000   0.000000  0.000000  0.348833  0.000000   0.0   \n7      0.002722  0.000000   0.002722  0.005444  0.000000  0.005444   0.0   \n9      0.000000  0.000000   0.000000  0.000000  0.000000  0.000000   0.0   \n10     0.000000  0.000000   0.074712  0.000000  0.112069  0.000000   0.0   \n...         ...       ...        ...       ...       ...       ...   ...   \n73262  0.000000  0.002167   0.000000  0.002167  0.000000  0.003250   0.0   \n73263  0.000000  0.000000   0.159422  0.000000  0.000000  0.000000   0.0   \n73264  0.000000  0.000000   0.034767  0.000000  0.000000  0.000000   0.0   \n73265  0.000000  0.000000   0.000000  0.000000  0.085912  0.000000   0.0   \n73266  0.000000  0.000000   0.000000  0.000000  0.271340  0.000000   0.0   \n\n                                 ...             DevType  \\\n      Clojure Crystal      Dart  ... Engineering manager   \n2         0.0     0.0  0.000000  ...                   0   \n3         0.0     0.0  0.000000  ...                   0   \n7         0.0     0.0  0.000000  ...                   0   \n9         0.0     0.0  0.000000  ...                   0   \n10        0.0     0.0  0.000000  ...                   0   \n...       ...     ...       ...  ...                 ...   \n73262     0.0     0.0  0.000000  ...                   0   \n73263     0.0     0.0  0.106281  ...                   0   \n73264     0.0     0.0  0.000000  ...                   0   \n73265     0.0     0.0  0.000000  ...                   0   \n73266     0.0     0.0  0.000000  ...                   0   \n\n                                                                               \\\n      Marketing or sales professional Other (please specify): Product manager   \n2                                   0                       0               0   \n3                                   0                       0               0   \n7                                   0                       0               0   \n9                                   0                       0               0   \n10                                  0                       0               0   \n...                               ...                     ...             ...   \n73262                               0                       0               0   \n73263                               0                       0               0   \n73264                               0                       0               0   \n73265                               0                       0               0   \n73266                               0                       0               0   \n\n                                                       \\\n      Project manager Scientist Security professional   \n2                   0         0                     0   \n3                   0         0                     0   \n7                   0         0                     0   \n9                   0         0                     0   \n10                  0         0                     0   \n...               ...       ...                   ...   \n73262               0         0                     0   \n73263               0         0                     0   \n73264               0         0                     0   \n73265               0         0                     0   \n73266               0         0                     0   \n\n                                                                       \n      Senior Executive (C-Suite_VP_etc.) Student System administrator  \n2                                      0       0                    0  \n3                                      0       0                    0  \n7                                      0       1                    0  \n9                                      0       0                    0  \n10                                     0       0                    0  \n...                                  ...     ...                  ...  \n73262                                  0       1                    0  \n73263                                  0       0                    0  \n73264                                  0       0                    0  \n73265                                  0       0                    1  \n73266                                  0       0                    0  \n\n[50423 rows x 190 columns]",
      "text/html": "<div>\n<style scoped>\n    .dataframe tbody tr th:only-of-type {\n        vertical-align: middle;\n    }\n\n    .dataframe tbody tr th {\n        vertical-align: top;\n    }\n\n    .dataframe thead tr th {\n        text-align: left;\n    }\n</style>\n<table border=\"1\" class=\"dataframe\">\n  <thead>\n    <tr>\n      <th></th>\n      <th colspan=\"10\" halign=\"left\">Languages</th>\n      <th>...</th>\n      <th colspan=\"10\" halign=\"left\">DevType</th>\n    </tr>\n    <tr>\n      <th></th>\n      <th>APL</th>\n      <th>Assembly</th>\n      <th>Bash/Shell</th>\n      <th>C</th>\n      <th>C#</th>\n      <th>C++</th>\n      <th>COBOL</th>\n      <th>Clojure</th>\n      <th>Crystal</th>\n      <th>Dart</th>\n      <th>...</th>\n      <th>Engineering manager</th>\n      <th>Marketing or sales professional</th>\n      <th>Other (please specify):</th>\n      <th>Product manager</th>\n      <th>Project manager</th>\n      <th>Scientist</th>\n      <th>Security professional</th>\n      <th>Senior Executive (C-Suite_VP_etc.)</th>\n      <th>Student</th>\n      <th>System administrator</th>\n    </tr>\n  </thead>\n  <tbody>\n    <tr>\n      <th>2</th>\n      <td>0.000000</td>\n      <td>0.000000</td>\n      <td>0.000000</td>\n      <td>0.000000</td>\n      <td>0.078225</td>\n      <td>0.078225</td>\n      <td>0.0</td>\n      <td>0.0</td>\n      <td>0.0</td>\n      <td>0.000000</td>\n      <td>...</td>\n      <td>0</td>\n      <td>0</td>\n      <td>0</td>\n      <td>0</td>\n      <td>0</td>\n      <td>0</td>\n      <td>0</td>\n      <td>0</td>\n      <td>0</td>\n      <td>0</td>\n    </tr>\n    <tr>\n      <th>3</th>\n      <td>0.000000</td>\n      <td>0.000000</td>\n      <td>0.000000</td>\n      <td>0.000000</td>\n      <td>0.348833</td>\n      <td>0.000000</td>\n      <td>0.0</td>\n      <td>0.0</td>\n      <td>0.0</td>\n      <td>0.000000</td>\n      <td>...</td>\n      <td>0</td>\n      <td>0</td>\n      <td>0</td>\n      <td>0</td>\n      <td>0</td>\n      <td>0</td>\n      <td>0</td>\n      <td>0</td>\n      <td>0</td>\n      <td>0</td>\n    </tr>\n    <tr>\n      <th>7</th>\n      <td>0.002722</td>\n      <td>0.000000</td>\n      <td>0.002722</td>\n      <td>0.005444</td>\n      <td>0.000000</td>\n      <td>0.005444</td>\n      <td>0.0</td>\n      <td>0.0</td>\n      <td>0.0</td>\n      <td>0.000000</td>\n      <td>...</td>\n      <td>0</td>\n      <td>0</td>\n      <td>0</td>\n      <td>0</td>\n      <td>0</td>\n      <td>0</td>\n      <td>0</td>\n      <td>0</td>\n      <td>1</td>\n      <td>0</td>\n    </tr>\n    <tr>\n      <th>9</th>\n      <td>0.000000</td>\n      <td>0.000000</td>\n      <td>0.000000</td>\n      <td>0.000000</td>\n      <td>0.000000</td>\n      <td>0.000000</td>\n      <td>0.0</td>\n      <td>0.0</td>\n      <td>0.0</td>\n      <td>0.000000</td>\n      <td>...</td>\n      <td>0</td>\n      <td>0</td>\n      <td>0</td>\n      <td>0</td>\n      <td>0</td>\n      <td>0</td>\n      <td>0</td>\n      <td>0</td>\n      <td>0</td>\n      <td>0</td>\n    </tr>\n    <tr>\n      <th>10</th>\n      <td>0.000000</td>\n      <td>0.000000</td>\n      <td>0.074712</td>\n      <td>0.000000</td>\n      <td>0.112069</td>\n      <td>0.000000</td>\n      <td>0.0</td>\n      <td>0.0</td>\n      <td>0.0</td>\n      <td>0.000000</td>\n      <td>...</td>\n      <td>0</td>\n      <td>0</td>\n      <td>0</td>\n      <td>0</td>\n      <td>0</td>\n      <td>0</td>\n      <td>0</td>\n      <td>0</td>\n      <td>0</td>\n      <td>0</td>\n    </tr>\n    <tr>\n      <th>...</th>\n      <td>...</td>\n      <td>...</td>\n      <td>...</td>\n      <td>...</td>\n      <td>...</td>\n      <td>...</td>\n      <td>...</td>\n      <td>...</td>\n      <td>...</td>\n      <td>...</td>\n      <td>...</td>\n      <td>...</td>\n      <td>...</td>\n      <td>...</td>\n      <td>...</td>\n      <td>...</td>\n      <td>...</td>\n      <td>...</td>\n      <td>...</td>\n      <td>...</td>\n      <td>...</td>\n    </tr>\n    <tr>\n      <th>73262</th>\n      <td>0.000000</td>\n      <td>0.002167</td>\n      <td>0.000000</td>\n      <td>0.002167</td>\n      <td>0.000000</td>\n      <td>0.003250</td>\n      <td>0.0</td>\n      <td>0.0</td>\n      <td>0.0</td>\n      <td>0.000000</td>\n      <td>...</td>\n      <td>0</td>\n      <td>0</td>\n      <td>0</td>\n      <td>0</td>\n      <td>0</td>\n      <td>0</td>\n      <td>0</td>\n      <td>0</td>\n      <td>1</td>\n      <td>0</td>\n    </tr>\n    <tr>\n      <th>73263</th>\n      <td>0.000000</td>\n      <td>0.000000</td>\n      <td>0.159422</td>\n      <td>0.000000</td>\n      <td>0.000000</td>\n      <td>0.000000</td>\n      <td>0.0</td>\n      <td>0.0</td>\n      <td>0.0</td>\n      <td>0.106281</td>\n      <td>...</td>\n      <td>0</td>\n      <td>0</td>\n      <td>0</td>\n      <td>0</td>\n      <td>0</td>\n      <td>0</td>\n      <td>0</td>\n      <td>0</td>\n      <td>0</td>\n      <td>0</td>\n    </tr>\n    <tr>\n      <th>73264</th>\n      <td>0.000000</td>\n      <td>0.000000</td>\n      <td>0.034767</td>\n      <td>0.000000</td>\n      <td>0.000000</td>\n      <td>0.000000</td>\n      <td>0.0</td>\n      <td>0.0</td>\n      <td>0.0</td>\n      <td>0.000000</td>\n      <td>...</td>\n      <td>0</td>\n      <td>0</td>\n      <td>0</td>\n      <td>0</td>\n      <td>0</td>\n      <td>0</td>\n      <td>0</td>\n      <td>0</td>\n      <td>0</td>\n      <td>0</td>\n    </tr>\n    <tr>\n      <th>73265</th>\n      <td>0.000000</td>\n      <td>0.000000</td>\n      <td>0.000000</td>\n      <td>0.000000</td>\n      <td>0.085912</td>\n      <td>0.000000</td>\n      <td>0.0</td>\n      <td>0.0</td>\n      <td>0.0</td>\n      <td>0.000000</td>\n      <td>...</td>\n      <td>0</td>\n      <td>0</td>\n      <td>0</td>\n      <td>0</td>\n      <td>0</td>\n      <td>0</td>\n      <td>0</td>\n      <td>0</td>\n      <td>0</td>\n      <td>1</td>\n    </tr>\n    <tr>\n      <th>73266</th>\n      <td>0.000000</td>\n      <td>0.000000</td>\n      <td>0.000000</td>\n      <td>0.000000</td>\n      <td>0.271340</td>\n      <td>0.000000</td>\n      <td>0.0</td>\n      <td>0.0</td>\n      <td>0.0</td>\n      <td>0.000000</td>\n      <td>...</td>\n      <td>0</td>\n      <td>0</td>\n      <td>0</td>\n      <td>0</td>\n      <td>0</td>\n      <td>0</td>\n      <td>0</td>\n      <td>0</td>\n      <td>0</td>\n      <td>0</td>\n    </tr>\n  </tbody>\n</table>\n<p>50423 rows × 190 columns</p>\n</div>"
     },
     "execution_count": 230,
     "metadata": {},
     "output_type": "execute_result"
    }
   ],
   "source": [
    "skills_dev_df"
   ],
   "metadata": {
    "collapsed": false
   }
  },
  {
   "cell_type": "code",
   "execution_count": 231,
   "outputs": [
    {
     "data": {
      "text/plain": "                                               Visual Studio Code    Docker  \\\njob_type                                                                      \nDeveloper_full-stack                                     0.643478  0.332226   \nDeveloper_back-end                                       0.550099  0.914106   \nDeveloper_front-end                                      0.236148 -0.399740   \nDeveloper_desktop or enterprise applications             1.072204 -0.116014   \nDeveloper_mobile                                        -0.395971 -1.049828   \nStudent                                                 -3.279573 -2.229095   \nDevOps specialist                                        1.266718  1.909046   \nCloud infrastructure engineer                            1.458073  2.210924   \nData scientist or machine learning specialist            0.006104  0.130051   \nEngineering manager                                      2.048768  1.727352   \nOther (please specify):                                 -0.319644 -0.470583   \nDeveloper_embedded applications or devices               0.912731  0.160537   \nEngineer_data                                            0.446945  0.671038   \nSystem administrator                                    -0.928674 -0.418010   \nAcademic researcher                                     -1.152162 -0.872511   \nData or business analyst                                -0.392151 -0.843358   \nDatabase administrator                                  -0.073381 -0.267234   \nProject manager                                          0.239500 -0.286755   \nDesigner                                                -0.384395 -0.945792   \nDeveloper_QA or test                                    -0.158033  0.118238   \nEducator                                                 0.187671 -0.206436   \nScientist                                               -0.367106 -0.417981   \nDeveloper_game or graphics                              -0.291410 -1.108644   \nProduct manager                                         -0.190465 -0.228531   \nEngineer_site reliability                                0.575045  1.784475   \nSenior Executive (C-Suite_VP_etc.)                       0.649427  0.646128   \nSecurity professional                                    0.009959  0.489972   \nBlockchain                                              -0.605562  0.002946   \nMarketing or sales professional                         -1.764343 -1.236530   \n\n                                               JavaScript       SQL       AWS  \\\njob_type                                                                        \nDeveloper_full-stack                             1.728091  0.648325  0.242281   \nDeveloper_back-end                               0.496119  0.748761  0.735634   \nDeveloper_front-end                              1.432101 -0.549764 -0.415795   \nDeveloper_desktop or enterprise applications     0.439195  1.060457 -0.447683   \nDeveloper_mobile                                -0.450053 -1.020856 -0.610251   \nStudent                                         -2.637569 -2.265563 -2.117238   \nDevOps specialist                                0.970309  0.767482  1.261948   \nCloud infrastructure engineer                    0.868015  0.618616  2.455382   \nData scientist or machine learning specialist   -1.182329  0.204205  0.217920   \nEngineering manager                              1.921981  1.212738  2.141622   \nOther (please specify):                         -0.315887 -0.458740 -0.332297   \nDeveloper_embedded applications or devices      -0.806108 -1.021015 -0.818063   \nEngineer_data                                   -0.690541  1.464434  0.994830   \nSystem administrator                            -0.260243  0.180792 -0.566827   \nAcademic researcher                             -1.393644 -1.228593 -1.191841   \nData or business analyst                        -0.676813  1.235913 -0.415299   \nDatabase administrator                           0.601221  2.176569 -0.107166   \nProject manager                                  0.565105  0.391290 -0.264545   \nDesigner                                         0.321127 -0.397435 -0.760006   \nDeveloper_QA or test                             0.212616  0.119997 -0.317196   \nEducator                                         0.400161  0.014871 -0.510199   \nScientist                                       -1.266814 -1.082666 -0.678400   \nDeveloper_game or graphics                      -0.854913 -1.561539 -0.866170   \nProduct manager                                  0.577912  0.155194 -0.093191   \nEngineer_site reliability                        0.037789 -0.066499  1.669988   \nSenior Executive (C-Suite_VP_etc.)               1.177788  0.875966  1.207209   \nSecurity professional                           -0.000412 -0.266744  0.438080   \nBlockchain                                      -0.385302 -1.055627 -0.116647   \nMarketing or sales professional                 -0.828903 -0.900570 -0.736080   \n\n                                               HTML/CSS       npm    Python  \\\njob_type                                                                      \nDeveloper_full-stack                           1.865029  1.832151 -0.750718   \nDeveloper_back-end                             0.197229  0.576055 -0.178736   \nDeveloper_front-end                            1.754327  1.783955 -1.337430   \nDeveloper_desktop or enterprise applications   0.611498  0.048091 -0.185279   \nDeveloper_mobile                              -0.584926  0.069974 -1.354042   \nStudent                                       -2.577261 -2.193497 -2.210949   \nDevOps specialist                              0.789238  1.103082  0.819004   \nCloud infrastructure engineer                  0.318414  1.025740  1.063354   \nData scientist or machine learning specialist -1.039415 -1.243492  2.017619   \nEngineering manager                            1.406154  1.947077  0.416208   \nOther (please specify):                       -0.276890 -0.218381 -0.355341   \nDeveloper_embedded applications or devices    -0.671652 -0.867991  1.548937   \nEngineer_data                                 -1.034294 -0.637480  1.586859   \nSystem administrator                           0.093933 -0.542189 -0.262306   \nAcademic researcher                           -1.172294 -1.341553  0.528343   \nData or business analyst                      -0.434139 -0.953661  0.498581   \nDatabase administrator                         0.955513 -0.113918 -0.363702   \nProject manager                                0.600031  0.386211 -0.495684   \nDesigner                                       0.844715  0.148391 -0.846711   \nDeveloper_QA or test                           0.182364  0.243050  0.133712   \nEducator                                       0.842994  0.458744  0.140723   \nScientist                                     -1.038208 -1.441161  1.514749   \nDeveloper_game or graphics                    -0.893849 -0.687757 -0.565497   \nProduct manager                                0.448002  0.492225 -0.563775   \nEngineer_site reliability                     -0.581576 -0.093784  1.211204   \nSenior Executive (C-Suite_VP_etc.)             1.164838  1.125458 -0.263920   \nSecurity professional                          0.011952 -0.307886  0.433549   \nBlockchain                                    -0.941753  0.292298 -1.014278   \nMarketing or sales professional               -0.839974 -0.889753 -1.164476   \n\n                                               PostgreSQL  TypeScript  ...  \\\njob_type                                                               ...   \nDeveloper_full-stack                             0.462563    1.885592  ...   \nDeveloper_back-end                               0.988439    0.552868  ...   \nDeveloper_front-end                             -0.479756    1.949929  ...   \nDeveloper_desktop or enterprise applications    -0.228375    0.274480  ...   \nDeveloper_mobile                                -1.016884   -0.006727  ...   \nStudent                                         -2.152963   -1.828362  ...   \nDevOps specialist                                1.384323    1.024111  ...   \nCloud infrastructure engineer                    1.721389    1.314664  ...   \nData scientist or machine learning specialist    0.041236   -1.208772  ...   \nEngineering manager                              1.938685    2.062469  ...   \nOther (please specify):                         -0.695476   -0.341629  ...   \nDeveloper_embedded applications or devices      -0.889149   -0.819257  ...   \nEngineer_data                                    1.059906   -0.630390  ...   \nSystem administrator                             0.023087   -0.754545  ...   \nAcademic researcher                             -0.976324   -1.320477  ...   \nData or business analyst                        -0.150022   -0.960280  ...   \nDatabase administrator                           0.503527   -0.185761  ...   \nProject manager                                 -0.273016    0.153723  ...   \nDesigner                                        -0.872401    0.017237  ...   \nDeveloper_QA or test                            -0.239773    0.059430  ...   \nEducator                                        -0.043784    0.206837  ...   \nScientist                                       -0.814821   -1.314481  ...   \nDeveloper_game or graphics                      -1.301447   -0.461848  ...   \nProduct manager                                  0.000488    0.115544  ...   \nEngineer_site reliability                        1.468758    0.129094  ...   \nSenior Executive (C-Suite_VP_etc.)               1.518650    1.004866  ...   \nSecurity professional                            0.089269   -0.221553  ...   \nBlockchain                                       0.272430    0.553946  ...   \nMarketing or sales professional                 -1.338560   -1.250707  ...   \n\n                                               Colocation  TextMate  \\\njob_type                                                              \nDeveloper_full-stack                            -0.493280 -0.179719   \nDeveloper_back-end                              -0.317469  0.014596   \nDeveloper_front-end                             -0.999980 -0.762550   \nDeveloper_desktop or enterprise applications    -0.597945 -0.563494   \nDeveloper_mobile                                -0.893595  1.274784   \nStudent                                         -1.217601 -1.774108   \nDevOps specialist                                0.564949  0.675245   \nCloud infrastructure engineer                    0.889344 -0.083792   \nData scientist or machine learning specialist   -0.301037  0.111160   \nEngineering manager                              1.062065  1.632233   \nOther (please specify):                         -0.139972 -0.526620   \nDeveloper_embedded applications or devices      -0.424536 -0.115243   \nEngineer_data                                   -0.207300  0.070192   \nSystem administrator                             0.571873  0.304039   \nAcademic researcher                             -0.964464  0.837149   \nData or business analyst                        -0.761052 -1.558797   \nDatabase administrator                          -0.011945  0.576926   \nProject manager                                 -0.445566 -0.542596   \nDesigner                                        -0.375058 -0.035050   \nDeveloper_QA or test                            -0.527540 -1.024427   \nEducator                                        -0.536369  1.395287   \nScientist                                       -0.689614  2.252830   \nDeveloper_game or graphics                      -0.019865  0.212231   \nProduct manager                                  0.083016  0.140815   \nEngineer_site reliability                        2.501697 -0.730849   \nSenior Executive (C-Suite_VP_etc.)               3.553106  1.781858   \nSecurity professional                            0.573556 -1.114273   \nBlockchain                                       0.035531 -1.552622   \nMarketing or sales professional                  0.089050 -0.715203   \n\n                                               Play Framework     COBOL  \\\njob_type                                                                  \nDeveloper_full-stack                                 0.350002 -0.695551   \nDeveloper_back-end                                   1.161129  0.127976   \nDeveloper_front-end                                 -0.631086 -0.739608   \nDeveloper_desktop or enterprise applications        -0.321794  2.090686   \nDeveloper_mobile                                    -0.705614 -0.733896   \nStudent                                             -1.398888 -1.671400   \nDevOps specialist                                    0.430476 -0.290197   \nCloud infrastructure engineer                        1.201307  0.002524   \nData scientist or machine learning specialist       -0.306335 -0.181985   \nEngineering manager                                  2.089052 -1.207851   \nOther (please specify):                              0.050760  0.414849   \nDeveloper_embedded applications or devices          -1.166190  0.248941   \nEngineer_data                                        2.475809 -0.411377   \nSystem administrator                                -0.959007 -0.489841   \nAcademic researcher                                  0.217337 -0.558934   \nData or business analyst                            -0.845096  1.911843   \nDatabase administrator                              -0.841680  2.250180   \nProject manager                                      0.189836  0.306521   \nDesigner                                            -0.218211  1.049075   \nDeveloper_QA or test                                -0.621087  0.236848   \nEducator                                             0.184826 -0.020947   \nScientist                                           -0.843090  0.747246   \nDeveloper_game or graphics                          -1.223942 -0.886450   \nProduct manager                                     -0.281438  0.188860   \nEngineer_site reliability                            1.531704  1.063354   \nSenior Executive (C-Suite_VP_etc.)                   1.272229  0.526987   \nSecurity professional                                0.441841 -0.136545   \nBlockchain                                           0.051793 -1.631595   \nMarketing or sales professional                     -1.284643 -1.509716   \n\n                                                  OCaml  Uno Platform  \\\njob_type                                                                \nDeveloper_full-stack                          -0.330071     -0.216482   \nDeveloper_back-end                             0.037173     -0.312642   \nDeveloper_front-end                           -0.696566     -0.484214   \nDeveloper_desktop or enterprise applications  -0.380184      2.660026   \nDeveloper_mobile                              -1.207540      1.291526   \nStudent                                       -1.594260     -1.234213   \nDevOps specialist                             -0.294740     -0.156091   \nCloud infrastructure engineer                  0.405381     -0.223396   \nData scientist or machine learning specialist  0.159016     -1.044706   \nEngineering manager                            0.736906      1.387433   \nOther (please specify):                        0.491139     -0.246090   \nDeveloper_embedded applications or devices     0.413359      0.303510   \nEngineer_data                                  0.234873     -0.752207   \nSystem administrator                          -0.104931     -0.891470   \nAcademic researcher                            3.012994     -0.906910   \nData or business analyst                      -0.902029      0.057043   \nDatabase administrator                        -0.058494      0.120643   \nProject manager                               -0.577352      0.838152   \nDesigner                                      -1.415454     -0.628136   \nDeveloper_QA or test                          -0.199361     -0.859954   \nEducator                                       1.150284     -0.506052   \nScientist                                      1.833625     -1.097349   \nDeveloper_game or graphics                    -0.578198      1.051431   \nProduct manager                               -0.329311      1.875282   \nEngineer_site reliability                     -0.391872      0.976361   \nSenior Executive (C-Suite_VP_etc.)             0.563360      1.315477   \nSecurity professional                          0.849728     -1.127229   \nBlockchain                                     1.005260     -0.189577   \nMarketing or sales professional               -1.832733     -1.000165   \n\n                                                Crystal      Flow       SAS  \\\njob_type                                                                      \nDeveloper_full-stack                           0.058709  0.553920 -0.270572   \nDeveloper_back-end                             0.427555 -0.417501 -0.332298   \nDeveloper_front-end                           -0.866534  1.550171 -0.137506   \nDeveloper_desktop or enterprise applications   1.370289 -0.266390 -0.478204   \nDeveloper_mobile                              -0.678031  2.157946 -0.559376   \nStudent                                       -1.401607 -1.812963 -0.560996   \nDevOps specialist                              0.179083  0.554074 -0.425891   \nCloud infrastructure engineer                  0.636793  0.220895 -0.296076   \nData scientist or machine learning specialist -0.734732 -1.327205  3.472358   \nEngineering manager                            0.403426  0.959905 -0.573873   \nOther (please specify):                        0.060115  1.116756 -0.455576   \nDeveloper_embedded applications or devices    -0.899388 -0.504913 -0.621495   \nEngineer_data                                  0.610665  0.754960  0.842326   \nSystem administrator                           0.562920 -0.735651 -0.629136   \nAcademic researcher                           -1.132873 -1.705035  0.485566   \nData or business analyst                       2.105447  0.051996  3.041105   \nDatabase administrator                         2.696914 -0.966018 -0.044465   \nProject manager                                0.670701 -0.407448 -0.242319   \nDesigner                                      -0.364316  0.522913 -0.511140   \nDeveloper_QA or test                           0.527318  0.735753  0.171031   \nEducator                                      -1.302216  0.864425  0.301480   \nScientist                                     -1.108318 -1.490467  1.264555   \nDeveloper_game or graphics                    -0.226215  0.685337 -0.549047   \nProduct manager                               -0.950257 -0.464061 -0.272045   \nEngineer_site reliability                      1.306856 -0.527539 -0.677037   \nSenior Executive (C-Suite_VP_etc.)            -0.344534 -1.088689 -0.023848   \nSecurity professional                          0.148013 -0.430602 -0.636260   \nBlockchain                                    -0.873716  1.520467 -0.663465   \nMarketing or sales professional               -0.882066 -0.105035 -0.617796   \n\n                                                    APL  \njob_type                                                 \nDeveloper_full-stack                          -0.834793  \nDeveloper_back-end                            -0.691988  \nDeveloper_front-end                           -1.055376  \nDeveloper_desktop or enterprise applications  -0.135522  \nDeveloper_mobile                              -0.888334  \nStudent                                       -1.430756  \nDevOps specialist                             -0.351631  \nCloud infrastructure engineer                  0.292490  \nData scientist or machine learning specialist -0.358396  \nEngineering manager                           -0.923875  \nOther (please specify):                       -0.846846  \nDeveloper_embedded applications or devices    -0.757629  \nEngineer_data                                  0.331481  \nSystem administrator                          -0.539145  \nAcademic researcher                            2.309161  \nData or business analyst                       1.605508  \nDatabase administrator                         1.402888  \nProject manager                                0.131282  \nDesigner                                       0.418027  \nDeveloper_QA or test                           0.627898  \nEducator                                       0.266137  \nScientist                                      2.754831  \nDeveloper_game or graphics                    -1.023479  \nProduct manager                                0.326026  \nEngineer_site reliability                     -0.243448  \nSenior Executive (C-Suite_VP_etc.)            -1.046261  \nSecurity professional                         -0.045376  \nBlockchain                                     0.733730  \nMarketing or sales professional               -0.026606  \n\n[29 rows x 161 columns]",
      "text/html": "<div>\n<style scoped>\n    .dataframe tbody tr th:only-of-type {\n        vertical-align: middle;\n    }\n\n    .dataframe tbody tr th {\n        vertical-align: top;\n    }\n\n    .dataframe thead th {\n        text-align: right;\n    }\n</style>\n<table border=\"1\" class=\"dataframe\">\n  <thead>\n    <tr style=\"text-align: right;\">\n      <th></th>\n      <th>Visual Studio Code</th>\n      <th>Docker</th>\n      <th>JavaScript</th>\n      <th>SQL</th>\n      <th>AWS</th>\n      <th>HTML/CSS</th>\n      <th>npm</th>\n      <th>Python</th>\n      <th>PostgreSQL</th>\n      <th>TypeScript</th>\n      <th>...</th>\n      <th>Colocation</th>\n      <th>TextMate</th>\n      <th>Play Framework</th>\n      <th>COBOL</th>\n      <th>OCaml</th>\n      <th>Uno Platform</th>\n      <th>Crystal</th>\n      <th>Flow</th>\n      <th>SAS</th>\n      <th>APL</th>\n    </tr>\n    <tr>\n      <th>job_type</th>\n      <th></th>\n      <th></th>\n      <th></th>\n      <th></th>\n      <th></th>\n      <th></th>\n      <th></th>\n      <th></th>\n      <th></th>\n      <th></th>\n      <th></th>\n      <th></th>\n      <th></th>\n      <th></th>\n      <th></th>\n      <th></th>\n      <th></th>\n      <th></th>\n      <th></th>\n      <th></th>\n      <th></th>\n    </tr>\n  </thead>\n  <tbody>\n    <tr>\n      <th>Developer_full-stack</th>\n      <td>0.643478</td>\n      <td>0.332226</td>\n      <td>1.728091</td>\n      <td>0.648325</td>\n      <td>0.242281</td>\n      <td>1.865029</td>\n      <td>1.832151</td>\n      <td>-0.750718</td>\n      <td>0.462563</td>\n      <td>1.885592</td>\n      <td>...</td>\n      <td>-0.493280</td>\n      <td>-0.179719</td>\n      <td>0.350002</td>\n      <td>-0.695551</td>\n      <td>-0.330071</td>\n      <td>-0.216482</td>\n      <td>0.058709</td>\n      <td>0.553920</td>\n      <td>-0.270572</td>\n      <td>-0.834793</td>\n    </tr>\n    <tr>\n      <th>Developer_back-end</th>\n      <td>0.550099</td>\n      <td>0.914106</td>\n      <td>0.496119</td>\n      <td>0.748761</td>\n      <td>0.735634</td>\n      <td>0.197229</td>\n      <td>0.576055</td>\n      <td>-0.178736</td>\n      <td>0.988439</td>\n      <td>0.552868</td>\n      <td>...</td>\n      <td>-0.317469</td>\n      <td>0.014596</td>\n      <td>1.161129</td>\n      <td>0.127976</td>\n      <td>0.037173</td>\n      <td>-0.312642</td>\n      <td>0.427555</td>\n      <td>-0.417501</td>\n      <td>-0.332298</td>\n      <td>-0.691988</td>\n    </tr>\n    <tr>\n      <th>Developer_front-end</th>\n      <td>0.236148</td>\n      <td>-0.399740</td>\n      <td>1.432101</td>\n      <td>-0.549764</td>\n      <td>-0.415795</td>\n      <td>1.754327</td>\n      <td>1.783955</td>\n      <td>-1.337430</td>\n      <td>-0.479756</td>\n      <td>1.949929</td>\n      <td>...</td>\n      <td>-0.999980</td>\n      <td>-0.762550</td>\n      <td>-0.631086</td>\n      <td>-0.739608</td>\n      <td>-0.696566</td>\n      <td>-0.484214</td>\n      <td>-0.866534</td>\n      <td>1.550171</td>\n      <td>-0.137506</td>\n      <td>-1.055376</td>\n    </tr>\n    <tr>\n      <th>Developer_desktop or enterprise applications</th>\n      <td>1.072204</td>\n      <td>-0.116014</td>\n      <td>0.439195</td>\n      <td>1.060457</td>\n      <td>-0.447683</td>\n      <td>0.611498</td>\n      <td>0.048091</td>\n      <td>-0.185279</td>\n      <td>-0.228375</td>\n      <td>0.274480</td>\n      <td>...</td>\n      <td>-0.597945</td>\n      <td>-0.563494</td>\n      <td>-0.321794</td>\n      <td>2.090686</td>\n      <td>-0.380184</td>\n      <td>2.660026</td>\n      <td>1.370289</td>\n      <td>-0.266390</td>\n      <td>-0.478204</td>\n      <td>-0.135522</td>\n    </tr>\n    <tr>\n      <th>Developer_mobile</th>\n      <td>-0.395971</td>\n      <td>-1.049828</td>\n      <td>-0.450053</td>\n      <td>-1.020856</td>\n      <td>-0.610251</td>\n      <td>-0.584926</td>\n      <td>0.069974</td>\n      <td>-1.354042</td>\n      <td>-1.016884</td>\n      <td>-0.006727</td>\n      <td>...</td>\n      <td>-0.893595</td>\n      <td>1.274784</td>\n      <td>-0.705614</td>\n      <td>-0.733896</td>\n      <td>-1.207540</td>\n      <td>1.291526</td>\n      <td>-0.678031</td>\n      <td>2.157946</td>\n      <td>-0.559376</td>\n      <td>-0.888334</td>\n    </tr>\n    <tr>\n      <th>Student</th>\n      <td>-3.279573</td>\n      <td>-2.229095</td>\n      <td>-2.637569</td>\n      <td>-2.265563</td>\n      <td>-2.117238</td>\n      <td>-2.577261</td>\n      <td>-2.193497</td>\n      <td>-2.210949</td>\n      <td>-2.152963</td>\n      <td>-1.828362</td>\n      <td>...</td>\n      <td>-1.217601</td>\n      <td>-1.774108</td>\n      <td>-1.398888</td>\n      <td>-1.671400</td>\n      <td>-1.594260</td>\n      <td>-1.234213</td>\n      <td>-1.401607</td>\n      <td>-1.812963</td>\n      <td>-0.560996</td>\n      <td>-1.430756</td>\n    </tr>\n    <tr>\n      <th>DevOps specialist</th>\n      <td>1.266718</td>\n      <td>1.909046</td>\n      <td>0.970309</td>\n      <td>0.767482</td>\n      <td>1.261948</td>\n      <td>0.789238</td>\n      <td>1.103082</td>\n      <td>0.819004</td>\n      <td>1.384323</td>\n      <td>1.024111</td>\n      <td>...</td>\n      <td>0.564949</td>\n      <td>0.675245</td>\n      <td>0.430476</td>\n      <td>-0.290197</td>\n      <td>-0.294740</td>\n      <td>-0.156091</td>\n      <td>0.179083</td>\n      <td>0.554074</td>\n      <td>-0.425891</td>\n      <td>-0.351631</td>\n    </tr>\n    <tr>\n      <th>Cloud infrastructure engineer</th>\n      <td>1.458073</td>\n      <td>2.210924</td>\n      <td>0.868015</td>\n      <td>0.618616</td>\n      <td>2.455382</td>\n      <td>0.318414</td>\n      <td>1.025740</td>\n      <td>1.063354</td>\n      <td>1.721389</td>\n      <td>1.314664</td>\n      <td>...</td>\n      <td>0.889344</td>\n      <td>-0.083792</td>\n      <td>1.201307</td>\n      <td>0.002524</td>\n      <td>0.405381</td>\n      <td>-0.223396</td>\n      <td>0.636793</td>\n      <td>0.220895</td>\n      <td>-0.296076</td>\n      <td>0.292490</td>\n    </tr>\n    <tr>\n      <th>Data scientist or machine learning specialist</th>\n      <td>0.006104</td>\n      <td>0.130051</td>\n      <td>-1.182329</td>\n      <td>0.204205</td>\n      <td>0.217920</td>\n      <td>-1.039415</td>\n      <td>-1.243492</td>\n      <td>2.017619</td>\n      <td>0.041236</td>\n      <td>-1.208772</td>\n      <td>...</td>\n      <td>-0.301037</td>\n      <td>0.111160</td>\n      <td>-0.306335</td>\n      <td>-0.181985</td>\n      <td>0.159016</td>\n      <td>-1.044706</td>\n      <td>-0.734732</td>\n      <td>-1.327205</td>\n      <td>3.472358</td>\n      <td>-0.358396</td>\n    </tr>\n    <tr>\n      <th>Engineering manager</th>\n      <td>2.048768</td>\n      <td>1.727352</td>\n      <td>1.921981</td>\n      <td>1.212738</td>\n      <td>2.141622</td>\n      <td>1.406154</td>\n      <td>1.947077</td>\n      <td>0.416208</td>\n      <td>1.938685</td>\n      <td>2.062469</td>\n      <td>...</td>\n      <td>1.062065</td>\n      <td>1.632233</td>\n      <td>2.089052</td>\n      <td>-1.207851</td>\n      <td>0.736906</td>\n      <td>1.387433</td>\n      <td>0.403426</td>\n      <td>0.959905</td>\n      <td>-0.573873</td>\n      <td>-0.923875</td>\n    </tr>\n    <tr>\n      <th>Other (please specify):</th>\n      <td>-0.319644</td>\n      <td>-0.470583</td>\n      <td>-0.315887</td>\n      <td>-0.458740</td>\n      <td>-0.332297</td>\n      <td>-0.276890</td>\n      <td>-0.218381</td>\n      <td>-0.355341</td>\n      <td>-0.695476</td>\n      <td>-0.341629</td>\n      <td>...</td>\n      <td>-0.139972</td>\n      <td>-0.526620</td>\n      <td>0.050760</td>\n      <td>0.414849</td>\n      <td>0.491139</td>\n      <td>-0.246090</td>\n      <td>0.060115</td>\n      <td>1.116756</td>\n      <td>-0.455576</td>\n      <td>-0.846846</td>\n    </tr>\n    <tr>\n      <th>Developer_embedded applications or devices</th>\n      <td>0.912731</td>\n      <td>0.160537</td>\n      <td>-0.806108</td>\n      <td>-1.021015</td>\n      <td>-0.818063</td>\n      <td>-0.671652</td>\n      <td>-0.867991</td>\n      <td>1.548937</td>\n      <td>-0.889149</td>\n      <td>-0.819257</td>\n      <td>...</td>\n      <td>-0.424536</td>\n      <td>-0.115243</td>\n      <td>-1.166190</td>\n      <td>0.248941</td>\n      <td>0.413359</td>\n      <td>0.303510</td>\n      <td>-0.899388</td>\n      <td>-0.504913</td>\n      <td>-0.621495</td>\n      <td>-0.757629</td>\n    </tr>\n    <tr>\n      <th>Engineer_data</th>\n      <td>0.446945</td>\n      <td>0.671038</td>\n      <td>-0.690541</td>\n      <td>1.464434</td>\n      <td>0.994830</td>\n      <td>-1.034294</td>\n      <td>-0.637480</td>\n      <td>1.586859</td>\n      <td>1.059906</td>\n      <td>-0.630390</td>\n      <td>...</td>\n      <td>-0.207300</td>\n      <td>0.070192</td>\n      <td>2.475809</td>\n      <td>-0.411377</td>\n      <td>0.234873</td>\n      <td>-0.752207</td>\n      <td>0.610665</td>\n      <td>0.754960</td>\n      <td>0.842326</td>\n      <td>0.331481</td>\n    </tr>\n    <tr>\n      <th>System administrator</th>\n      <td>-0.928674</td>\n      <td>-0.418010</td>\n      <td>-0.260243</td>\n      <td>0.180792</td>\n      <td>-0.566827</td>\n      <td>0.093933</td>\n      <td>-0.542189</td>\n      <td>-0.262306</td>\n      <td>0.023087</td>\n      <td>-0.754545</td>\n      <td>...</td>\n      <td>0.571873</td>\n      <td>0.304039</td>\n      <td>-0.959007</td>\n      <td>-0.489841</td>\n      <td>-0.104931</td>\n      <td>-0.891470</td>\n      <td>0.562920</td>\n      <td>-0.735651</td>\n      <td>-0.629136</td>\n      <td>-0.539145</td>\n    </tr>\n    <tr>\n      <th>Academic researcher</th>\n      <td>-1.152162</td>\n      <td>-0.872511</td>\n      <td>-1.393644</td>\n      <td>-1.228593</td>\n      <td>-1.191841</td>\n      <td>-1.172294</td>\n      <td>-1.341553</td>\n      <td>0.528343</td>\n      <td>-0.976324</td>\n      <td>-1.320477</td>\n      <td>...</td>\n      <td>-0.964464</td>\n      <td>0.837149</td>\n      <td>0.217337</td>\n      <td>-0.558934</td>\n      <td>3.012994</td>\n      <td>-0.906910</td>\n      <td>-1.132873</td>\n      <td>-1.705035</td>\n      <td>0.485566</td>\n      <td>2.309161</td>\n    </tr>\n    <tr>\n      <th>Data or business analyst</th>\n      <td>-0.392151</td>\n      <td>-0.843358</td>\n      <td>-0.676813</td>\n      <td>1.235913</td>\n      <td>-0.415299</td>\n      <td>-0.434139</td>\n      <td>-0.953661</td>\n      <td>0.498581</td>\n      <td>-0.150022</td>\n      <td>-0.960280</td>\n      <td>...</td>\n      <td>-0.761052</td>\n      <td>-1.558797</td>\n      <td>-0.845096</td>\n      <td>1.911843</td>\n      <td>-0.902029</td>\n      <td>0.057043</td>\n      <td>2.105447</td>\n      <td>0.051996</td>\n      <td>3.041105</td>\n      <td>1.605508</td>\n    </tr>\n    <tr>\n      <th>Database administrator</th>\n      <td>-0.073381</td>\n      <td>-0.267234</td>\n      <td>0.601221</td>\n      <td>2.176569</td>\n      <td>-0.107166</td>\n      <td>0.955513</td>\n      <td>-0.113918</td>\n      <td>-0.363702</td>\n      <td>0.503527</td>\n      <td>-0.185761</td>\n      <td>...</td>\n      <td>-0.011945</td>\n      <td>0.576926</td>\n      <td>-0.841680</td>\n      <td>2.250180</td>\n      <td>-0.058494</td>\n      <td>0.120643</td>\n      <td>2.696914</td>\n      <td>-0.966018</td>\n      <td>-0.044465</td>\n      <td>1.402888</td>\n    </tr>\n    <tr>\n      <th>Project manager</th>\n      <td>0.239500</td>\n      <td>-0.286755</td>\n      <td>0.565105</td>\n      <td>0.391290</td>\n      <td>-0.264545</td>\n      <td>0.600031</td>\n      <td>0.386211</td>\n      <td>-0.495684</td>\n      <td>-0.273016</td>\n      <td>0.153723</td>\n      <td>...</td>\n      <td>-0.445566</td>\n      <td>-0.542596</td>\n      <td>0.189836</td>\n      <td>0.306521</td>\n      <td>-0.577352</td>\n      <td>0.838152</td>\n      <td>0.670701</td>\n      <td>-0.407448</td>\n      <td>-0.242319</td>\n      <td>0.131282</td>\n    </tr>\n    <tr>\n      <th>Designer</th>\n      <td>-0.384395</td>\n      <td>-0.945792</td>\n      <td>0.321127</td>\n      <td>-0.397435</td>\n      <td>-0.760006</td>\n      <td>0.844715</td>\n      <td>0.148391</td>\n      <td>-0.846711</td>\n      <td>-0.872401</td>\n      <td>0.017237</td>\n      <td>...</td>\n      <td>-0.375058</td>\n      <td>-0.035050</td>\n      <td>-0.218211</td>\n      <td>1.049075</td>\n      <td>-1.415454</td>\n      <td>-0.628136</td>\n      <td>-0.364316</td>\n      <td>0.522913</td>\n      <td>-0.511140</td>\n      <td>0.418027</td>\n    </tr>\n    <tr>\n      <th>Developer_QA or test</th>\n      <td>-0.158033</td>\n      <td>0.118238</td>\n      <td>0.212616</td>\n      <td>0.119997</td>\n      <td>-0.317196</td>\n      <td>0.182364</td>\n      <td>0.243050</td>\n      <td>0.133712</td>\n      <td>-0.239773</td>\n      <td>0.059430</td>\n      <td>...</td>\n      <td>-0.527540</td>\n      <td>-1.024427</td>\n      <td>-0.621087</td>\n      <td>0.236848</td>\n      <td>-0.199361</td>\n      <td>-0.859954</td>\n      <td>0.527318</td>\n      <td>0.735753</td>\n      <td>0.171031</td>\n      <td>0.627898</td>\n    </tr>\n    <tr>\n      <th>Educator</th>\n      <td>0.187671</td>\n      <td>-0.206436</td>\n      <td>0.400161</td>\n      <td>0.014871</td>\n      <td>-0.510199</td>\n      <td>0.842994</td>\n      <td>0.458744</td>\n      <td>0.140723</td>\n      <td>-0.043784</td>\n      <td>0.206837</td>\n      <td>...</td>\n      <td>-0.536369</td>\n      <td>1.395287</td>\n      <td>0.184826</td>\n      <td>-0.020947</td>\n      <td>1.150284</td>\n      <td>-0.506052</td>\n      <td>-1.302216</td>\n      <td>0.864425</td>\n      <td>0.301480</td>\n      <td>0.266137</td>\n    </tr>\n    <tr>\n      <th>Scientist</th>\n      <td>-0.367106</td>\n      <td>-0.417981</td>\n      <td>-1.266814</td>\n      <td>-1.082666</td>\n      <td>-0.678400</td>\n      <td>-1.038208</td>\n      <td>-1.441161</td>\n      <td>1.514749</td>\n      <td>-0.814821</td>\n      <td>-1.314481</td>\n      <td>...</td>\n      <td>-0.689614</td>\n      <td>2.252830</td>\n      <td>-0.843090</td>\n      <td>0.747246</td>\n      <td>1.833625</td>\n      <td>-1.097349</td>\n      <td>-1.108318</td>\n      <td>-1.490467</td>\n      <td>1.264555</td>\n      <td>2.754831</td>\n    </tr>\n    <tr>\n      <th>Developer_game or graphics</th>\n      <td>-0.291410</td>\n      <td>-1.108644</td>\n      <td>-0.854913</td>\n      <td>-1.561539</td>\n      <td>-0.866170</td>\n      <td>-0.893849</td>\n      <td>-0.687757</td>\n      <td>-0.565497</td>\n      <td>-1.301447</td>\n      <td>-0.461848</td>\n      <td>...</td>\n      <td>-0.019865</td>\n      <td>0.212231</td>\n      <td>-1.223942</td>\n      <td>-0.886450</td>\n      <td>-0.578198</td>\n      <td>1.051431</td>\n      <td>-0.226215</td>\n      <td>0.685337</td>\n      <td>-0.549047</td>\n      <td>-1.023479</td>\n    </tr>\n    <tr>\n      <th>Product manager</th>\n      <td>-0.190465</td>\n      <td>-0.228531</td>\n      <td>0.577912</td>\n      <td>0.155194</td>\n      <td>-0.093191</td>\n      <td>0.448002</td>\n      <td>0.492225</td>\n      <td>-0.563775</td>\n      <td>0.000488</td>\n      <td>0.115544</td>\n      <td>...</td>\n      <td>0.083016</td>\n      <td>0.140815</td>\n      <td>-0.281438</td>\n      <td>0.188860</td>\n      <td>-0.329311</td>\n      <td>1.875282</td>\n      <td>-0.950257</td>\n      <td>-0.464061</td>\n      <td>-0.272045</td>\n      <td>0.326026</td>\n    </tr>\n    <tr>\n      <th>Engineer_site reliability</th>\n      <td>0.575045</td>\n      <td>1.784475</td>\n      <td>0.037789</td>\n      <td>-0.066499</td>\n      <td>1.669988</td>\n      <td>-0.581576</td>\n      <td>-0.093784</td>\n      <td>1.211204</td>\n      <td>1.468758</td>\n      <td>0.129094</td>\n      <td>...</td>\n      <td>2.501697</td>\n      <td>-0.730849</td>\n      <td>1.531704</td>\n      <td>1.063354</td>\n      <td>-0.391872</td>\n      <td>0.976361</td>\n      <td>1.306856</td>\n      <td>-0.527539</td>\n      <td>-0.677037</td>\n      <td>-0.243448</td>\n    </tr>\n    <tr>\n      <th>Senior Executive (C-Suite_VP_etc.)</th>\n      <td>0.649427</td>\n      <td>0.646128</td>\n      <td>1.177788</td>\n      <td>0.875966</td>\n      <td>1.207209</td>\n      <td>1.164838</td>\n      <td>1.125458</td>\n      <td>-0.263920</td>\n      <td>1.518650</td>\n      <td>1.004866</td>\n      <td>...</td>\n      <td>3.553106</td>\n      <td>1.781858</td>\n      <td>1.272229</td>\n      <td>0.526987</td>\n      <td>0.563360</td>\n      <td>1.315477</td>\n      <td>-0.344534</td>\n      <td>-1.088689</td>\n      <td>-0.023848</td>\n      <td>-1.046261</td>\n    </tr>\n    <tr>\n      <th>Security professional</th>\n      <td>0.009959</td>\n      <td>0.489972</td>\n      <td>-0.000412</td>\n      <td>-0.266744</td>\n      <td>0.438080</td>\n      <td>0.011952</td>\n      <td>-0.307886</td>\n      <td>0.433549</td>\n      <td>0.089269</td>\n      <td>-0.221553</td>\n      <td>...</td>\n      <td>0.573556</td>\n      <td>-1.114273</td>\n      <td>0.441841</td>\n      <td>-0.136545</td>\n      <td>0.849728</td>\n      <td>-1.127229</td>\n      <td>0.148013</td>\n      <td>-0.430602</td>\n      <td>-0.636260</td>\n      <td>-0.045376</td>\n    </tr>\n    <tr>\n      <th>Blockchain</th>\n      <td>-0.605562</td>\n      <td>0.002946</td>\n      <td>-0.385302</td>\n      <td>-1.055627</td>\n      <td>-0.116647</td>\n      <td>-0.941753</td>\n      <td>0.292298</td>\n      <td>-1.014278</td>\n      <td>0.272430</td>\n      <td>0.553946</td>\n      <td>...</td>\n      <td>0.035531</td>\n      <td>-1.552622</td>\n      <td>0.051793</td>\n      <td>-1.631595</td>\n      <td>1.005260</td>\n      <td>-0.189577</td>\n      <td>-0.873716</td>\n      <td>1.520467</td>\n      <td>-0.663465</td>\n      <td>0.733730</td>\n    </tr>\n    <tr>\n      <th>Marketing or sales professional</th>\n      <td>-1.764343</td>\n      <td>-1.236530</td>\n      <td>-0.828903</td>\n      <td>-0.900570</td>\n      <td>-0.736080</td>\n      <td>-0.839974</td>\n      <td>-0.889753</td>\n      <td>-1.164476</td>\n      <td>-1.338560</td>\n      <td>-1.250707</td>\n      <td>...</td>\n      <td>0.089050</td>\n      <td>-0.715203</td>\n      <td>-1.284643</td>\n      <td>-1.509716</td>\n      <td>-1.832733</td>\n      <td>-1.000165</td>\n      <td>-0.882066</td>\n      <td>-0.105035</td>\n      <td>-0.617796</td>\n      <td>-0.026606</td>\n    </tr>\n  </tbody>\n</table>\n<p>29 rows × 161 columns</p>\n</div>"
     },
     "execution_count": 231,
     "metadata": {},
     "output_type": "execute_result"
    }
   ],
   "source": [
    "developers_skills"
   ],
   "metadata": {
    "collapsed": false
   }
  },
  {
   "cell_type": "markdown",
   "source": [
    "## 1. Drop roles: ['Student', 'Other (please specify):', 'Designer', 'Educator', 'Product manager', 'Marketing or sales professional']"
   ],
   "metadata": {
    "collapsed": false
   }
  },
  {
   "cell_type": "code",
   "execution_count": 232,
   "outputs": [],
   "source": [
    "drop_roles = ['Student',\n",
    "              'Other (please specify):',\n",
    "              'Designer', 'Educator',\n",
    "              'Product manager',\n",
    "              'Marketing or sales professional']"
   ],
   "metadata": {
    "collapsed": false
   }
  },
  {
   "cell_type": "code",
   "execution_count": 233,
   "outputs": [],
   "source": [
    "skills_dev_df = skills_dev_df.drop(drop_roles, axis = 1, level=1)"
   ],
   "metadata": {
    "collapsed": false
   }
  },
  {
   "cell_type": "code",
   "execution_count": 234,
   "outputs": [],
   "source": [
    "developers_skills = developers_skills.drop(drop_roles)"
   ],
   "metadata": {
    "collapsed": false
   }
  },
  {
   "cell_type": "markdown",
   "source": [
    "## 2. split roles: ['Developer_full-stack', 'Developer_back-end']"
   ],
   "metadata": {
    "collapsed": false
   }
  },
  {
   "cell_type": "code",
   "execution_count": 235,
   "outputs": [],
   "source": [
    "split_roles = ['Developer_full-stack', 'Developer_back-end']"
   ],
   "metadata": {
    "collapsed": false
   }
  },
  {
   "cell_type": "code",
   "execution_count": 236,
   "outputs": [],
   "source": [
    "def choose_most_related_skills(role_type = 'Developer_full-stack', threshold:float = .4):\n",
    "    most_related_skills = developers_skills.loc[role_type,:].sort_values(ascending=False)\n",
    "    most_related_skills = most_related_skills[most_related_skills> threshold].index\n",
    "\n",
    "\n",
    "    mask = skills_dev_df['DevType'][role_type] == 1\n",
    "    role_skills = skills_dev_df.loc[mask,: ].drop('DevType', axis = 1, level = 0).droplevel(axis = 1, level = 0)\n",
    "    role_skills = role_skills.T\n",
    "    role_skills = role_skills.loc[most_related_skills,:]\n",
    "\n",
    "    return role_skills"
   ],
   "metadata": {
    "collapsed": false
   }
  },
  {
   "cell_type": "markdown",
   "source": [
    "### A) Developer_full-stack"
   ],
   "metadata": {
    "collapsed": false
   }
  },
  {
   "cell_type": "code",
   "execution_count": 236,
   "outputs": [],
   "source": [],
   "metadata": {
    "collapsed": false
   }
  },
  {
   "cell_type": "code",
   "execution_count": 243,
   "outputs": [
    {
     "data": {
      "application/vnd.plotly.v1+json": {
       "data": [
        {
         "hovertemplate": "x=%{x}<br>y=%{y}<extra></extra>",
         "legendgroup": "",
         "line": {
          "color": "#636efa",
          "dash": "solid"
         },
         "marker": {
          "symbol": "circle"
         },
         "mode": "lines",
         "name": "",
         "orientation": "v",
         "showlegend": false,
         "x": [
          2,
          3,
          4,
          5,
          6,
          7
         ],
         "xaxis": "x",
         "y": [
          0.38174569606781006,
          0.4128361940383911,
          0.457999050617218,
          0.46238216757774353,
          0.46208226680755615,
          0.4728129506111145
         ],
         "yaxis": "y",
         "type": "scatter"
        }
       ],
       "layout": {
        "template": {
         "data": {
          "histogram2dcontour": [
           {
            "type": "histogram2dcontour",
            "colorbar": {
             "outlinewidth": 0,
             "ticks": ""
            },
            "colorscale": [
             [
              0.0,
              "#0d0887"
             ],
             [
              0.1111111111111111,
              "#46039f"
             ],
             [
              0.2222222222222222,
              "#7201a8"
             ],
             [
              0.3333333333333333,
              "#9c179e"
             ],
             [
              0.4444444444444444,
              "#bd3786"
             ],
             [
              0.5555555555555556,
              "#d8576b"
             ],
             [
              0.6666666666666666,
              "#ed7953"
             ],
             [
              0.7777777777777778,
              "#fb9f3a"
             ],
             [
              0.8888888888888888,
              "#fdca26"
             ],
             [
              1.0,
              "#f0f921"
             ]
            ]
           }
          ],
          "choropleth": [
           {
            "type": "choropleth",
            "colorbar": {
             "outlinewidth": 0,
             "ticks": ""
            }
           }
          ],
          "histogram2d": [
           {
            "type": "histogram2d",
            "colorbar": {
             "outlinewidth": 0,
             "ticks": ""
            },
            "colorscale": [
             [
              0.0,
              "#0d0887"
             ],
             [
              0.1111111111111111,
              "#46039f"
             ],
             [
              0.2222222222222222,
              "#7201a8"
             ],
             [
              0.3333333333333333,
              "#9c179e"
             ],
             [
              0.4444444444444444,
              "#bd3786"
             ],
             [
              0.5555555555555556,
              "#d8576b"
             ],
             [
              0.6666666666666666,
              "#ed7953"
             ],
             [
              0.7777777777777778,
              "#fb9f3a"
             ],
             [
              0.8888888888888888,
              "#fdca26"
             ],
             [
              1.0,
              "#f0f921"
             ]
            ]
           }
          ],
          "heatmap": [
           {
            "type": "heatmap",
            "colorbar": {
             "outlinewidth": 0,
             "ticks": ""
            },
            "colorscale": [
             [
              0.0,
              "#0d0887"
             ],
             [
              0.1111111111111111,
              "#46039f"
             ],
             [
              0.2222222222222222,
              "#7201a8"
             ],
             [
              0.3333333333333333,
              "#9c179e"
             ],
             [
              0.4444444444444444,
              "#bd3786"
             ],
             [
              0.5555555555555556,
              "#d8576b"
             ],
             [
              0.6666666666666666,
              "#ed7953"
             ],
             [
              0.7777777777777778,
              "#fb9f3a"
             ],
             [
              0.8888888888888888,
              "#fdca26"
             ],
             [
              1.0,
              "#f0f921"
             ]
            ]
           }
          ],
          "heatmapgl": [
           {
            "type": "heatmapgl",
            "colorbar": {
             "outlinewidth": 0,
             "ticks": ""
            },
            "colorscale": [
             [
              0.0,
              "#0d0887"
             ],
             [
              0.1111111111111111,
              "#46039f"
             ],
             [
              0.2222222222222222,
              "#7201a8"
             ],
             [
              0.3333333333333333,
              "#9c179e"
             ],
             [
              0.4444444444444444,
              "#bd3786"
             ],
             [
              0.5555555555555556,
              "#d8576b"
             ],
             [
              0.6666666666666666,
              "#ed7953"
             ],
             [
              0.7777777777777778,
              "#fb9f3a"
             ],
             [
              0.8888888888888888,
              "#fdca26"
             ],
             [
              1.0,
              "#f0f921"
             ]
            ]
           }
          ],
          "contourcarpet": [
           {
            "type": "contourcarpet",
            "colorbar": {
             "outlinewidth": 0,
             "ticks": ""
            }
           }
          ],
          "contour": [
           {
            "type": "contour",
            "colorbar": {
             "outlinewidth": 0,
             "ticks": ""
            },
            "colorscale": [
             [
              0.0,
              "#0d0887"
             ],
             [
              0.1111111111111111,
              "#46039f"
             ],
             [
              0.2222222222222222,
              "#7201a8"
             ],
             [
              0.3333333333333333,
              "#9c179e"
             ],
             [
              0.4444444444444444,
              "#bd3786"
             ],
             [
              0.5555555555555556,
              "#d8576b"
             ],
             [
              0.6666666666666666,
              "#ed7953"
             ],
             [
              0.7777777777777778,
              "#fb9f3a"
             ],
             [
              0.8888888888888888,
              "#fdca26"
             ],
             [
              1.0,
              "#f0f921"
             ]
            ]
           }
          ],
          "surface": [
           {
            "type": "surface",
            "colorbar": {
             "outlinewidth": 0,
             "ticks": ""
            },
            "colorscale": [
             [
              0.0,
              "#0d0887"
             ],
             [
              0.1111111111111111,
              "#46039f"
             ],
             [
              0.2222222222222222,
              "#7201a8"
             ],
             [
              0.3333333333333333,
              "#9c179e"
             ],
             [
              0.4444444444444444,
              "#bd3786"
             ],
             [
              0.5555555555555556,
              "#d8576b"
             ],
             [
              0.6666666666666666,
              "#ed7953"
             ],
             [
              0.7777777777777778,
              "#fb9f3a"
             ],
             [
              0.8888888888888888,
              "#fdca26"
             ],
             [
              1.0,
              "#f0f921"
             ]
            ]
           }
          ],
          "mesh3d": [
           {
            "type": "mesh3d",
            "colorbar": {
             "outlinewidth": 0,
             "ticks": ""
            }
           }
          ],
          "scatter": [
           {
            "marker": {
             "line": {
              "color": "#283442"
             }
            },
            "type": "scatter"
           }
          ],
          "parcoords": [
           {
            "type": "parcoords",
            "line": {
             "colorbar": {
              "outlinewidth": 0,
              "ticks": ""
             }
            }
           }
          ],
          "scatterpolargl": [
           {
            "type": "scatterpolargl",
            "marker": {
             "colorbar": {
              "outlinewidth": 0,
              "ticks": ""
             }
            }
           }
          ],
          "bar": [
           {
            "error_x": {
             "color": "#f2f5fa"
            },
            "error_y": {
             "color": "#f2f5fa"
            },
            "marker": {
             "line": {
              "color": "rgb(17,17,17)",
              "width": 0.5
             },
             "pattern": {
              "fillmode": "overlay",
              "size": 10,
              "solidity": 0.2
             }
            },
            "type": "bar"
           }
          ],
          "scattergeo": [
           {
            "type": "scattergeo",
            "marker": {
             "colorbar": {
              "outlinewidth": 0,
              "ticks": ""
             }
            }
           }
          ],
          "scatterpolar": [
           {
            "type": "scatterpolar",
            "marker": {
             "colorbar": {
              "outlinewidth": 0,
              "ticks": ""
             }
            }
           }
          ],
          "histogram": [
           {
            "marker": {
             "pattern": {
              "fillmode": "overlay",
              "size": 10,
              "solidity": 0.2
             }
            },
            "type": "histogram"
           }
          ],
          "scattergl": [
           {
            "marker": {
             "line": {
              "color": "#283442"
             }
            },
            "type": "scattergl"
           }
          ],
          "scatter3d": [
           {
            "type": "scatter3d",
            "line": {
             "colorbar": {
              "outlinewidth": 0,
              "ticks": ""
             }
            },
            "marker": {
             "colorbar": {
              "outlinewidth": 0,
              "ticks": ""
             }
            }
           }
          ],
          "scattermapbox": [
           {
            "type": "scattermapbox",
            "marker": {
             "colorbar": {
              "outlinewidth": 0,
              "ticks": ""
             }
            }
           }
          ],
          "scatterternary": [
           {
            "type": "scatterternary",
            "marker": {
             "colorbar": {
              "outlinewidth": 0,
              "ticks": ""
             }
            }
           }
          ],
          "scattercarpet": [
           {
            "type": "scattercarpet",
            "marker": {
             "colorbar": {
              "outlinewidth": 0,
              "ticks": ""
             }
            }
           }
          ],
          "carpet": [
           {
            "aaxis": {
             "endlinecolor": "#A2B1C6",
             "gridcolor": "#506784",
             "linecolor": "#506784",
             "minorgridcolor": "#506784",
             "startlinecolor": "#A2B1C6"
            },
            "baxis": {
             "endlinecolor": "#A2B1C6",
             "gridcolor": "#506784",
             "linecolor": "#506784",
             "minorgridcolor": "#506784",
             "startlinecolor": "#A2B1C6"
            },
            "type": "carpet"
           }
          ],
          "table": [
           {
            "cells": {
             "fill": {
              "color": "#506784"
             },
             "line": {
              "color": "rgb(17,17,17)"
             }
            },
            "header": {
             "fill": {
              "color": "#2a3f5f"
             },
             "line": {
              "color": "rgb(17,17,17)"
             }
            },
            "type": "table"
           }
          ],
          "barpolar": [
           {
            "marker": {
             "line": {
              "color": "rgb(17,17,17)",
              "width": 0.5
             },
             "pattern": {
              "fillmode": "overlay",
              "size": 10,
              "solidity": 0.2
             }
            },
            "type": "barpolar"
           }
          ],
          "pie": [
           {
            "automargin": true,
            "type": "pie"
           }
          ]
         },
         "layout": {
          "autotypenumbers": "strict",
          "colorway": [
           "#636efa",
           "#EF553B",
           "#00cc96",
           "#ab63fa",
           "#FFA15A",
           "#19d3f3",
           "#FF6692",
           "#B6E880",
           "#FF97FF",
           "#FECB52"
          ],
          "font": {
           "color": "#f2f5fa"
          },
          "hovermode": "closest",
          "hoverlabel": {
           "align": "left"
          },
          "paper_bgcolor": "rgb(17,17,17)",
          "plot_bgcolor": "rgb(17,17,17)",
          "polar": {
           "bgcolor": "rgb(17,17,17)",
           "angularaxis": {
            "gridcolor": "#506784",
            "linecolor": "#506784",
            "ticks": ""
           },
           "radialaxis": {
            "gridcolor": "#506784",
            "linecolor": "#506784",
            "ticks": ""
           }
          },
          "ternary": {
           "bgcolor": "rgb(17,17,17)",
           "aaxis": {
            "gridcolor": "#506784",
            "linecolor": "#506784",
            "ticks": ""
           },
           "baxis": {
            "gridcolor": "#506784",
            "linecolor": "#506784",
            "ticks": ""
           },
           "caxis": {
            "gridcolor": "#506784",
            "linecolor": "#506784",
            "ticks": ""
           }
          },
          "coloraxis": {
           "colorbar": {
            "outlinewidth": 0,
            "ticks": ""
           }
          },
          "colorscale": {
           "sequential": [
            [
             0.0,
             "#0d0887"
            ],
            [
             0.1111111111111111,
             "#46039f"
            ],
            [
             0.2222222222222222,
             "#7201a8"
            ],
            [
             0.3333333333333333,
             "#9c179e"
            ],
            [
             0.4444444444444444,
             "#bd3786"
            ],
            [
             0.5555555555555556,
             "#d8576b"
            ],
            [
             0.6666666666666666,
             "#ed7953"
            ],
            [
             0.7777777777777778,
             "#fb9f3a"
            ],
            [
             0.8888888888888888,
             "#fdca26"
            ],
            [
             1.0,
             "#f0f921"
            ]
           ],
           "sequentialminus": [
            [
             0.0,
             "#0d0887"
            ],
            [
             0.1111111111111111,
             "#46039f"
            ],
            [
             0.2222222222222222,
             "#7201a8"
            ],
            [
             0.3333333333333333,
             "#9c179e"
            ],
            [
             0.4444444444444444,
             "#bd3786"
            ],
            [
             0.5555555555555556,
             "#d8576b"
            ],
            [
             0.6666666666666666,
             "#ed7953"
            ],
            [
             0.7777777777777778,
             "#fb9f3a"
            ],
            [
             0.8888888888888888,
             "#fdca26"
            ],
            [
             1.0,
             "#f0f921"
            ]
           ],
           "diverging": [
            [
             0,
             "#8e0152"
            ],
            [
             0.1,
             "#c51b7d"
            ],
            [
             0.2,
             "#de77ae"
            ],
            [
             0.3,
             "#f1b6da"
            ],
            [
             0.4,
             "#fde0ef"
            ],
            [
             0.5,
             "#f7f7f7"
            ],
            [
             0.6,
             "#e6f5d0"
            ],
            [
             0.7,
             "#b8e186"
            ],
            [
             0.8,
             "#7fbc41"
            ],
            [
             0.9,
             "#4d9221"
            ],
            [
             1,
             "#276419"
            ]
           ]
          },
          "xaxis": {
           "gridcolor": "#283442",
           "linecolor": "#506784",
           "ticks": "",
           "title": {
            "standoff": 15
           },
           "zerolinecolor": "#283442",
           "automargin": true,
           "zerolinewidth": 2
          },
          "yaxis": {
           "gridcolor": "#283442",
           "linecolor": "#506784",
           "ticks": "",
           "title": {
            "standoff": 15
           },
           "zerolinecolor": "#283442",
           "automargin": true,
           "zerolinewidth": 2
          },
          "scene": {
           "xaxis": {
            "backgroundcolor": "rgb(17,17,17)",
            "gridcolor": "#506784",
            "linecolor": "#506784",
            "showbackground": true,
            "ticks": "",
            "zerolinecolor": "#C8D4E3",
            "gridwidth": 2
           },
           "yaxis": {
            "backgroundcolor": "rgb(17,17,17)",
            "gridcolor": "#506784",
            "linecolor": "#506784",
            "showbackground": true,
            "ticks": "",
            "zerolinecolor": "#C8D4E3",
            "gridwidth": 2
           },
           "zaxis": {
            "backgroundcolor": "rgb(17,17,17)",
            "gridcolor": "#506784",
            "linecolor": "#506784",
            "showbackground": true,
            "ticks": "",
            "zerolinecolor": "#C8D4E3",
            "gridwidth": 2
           }
          },
          "shapedefaults": {
           "line": {
            "color": "#f2f5fa"
           }
          },
          "annotationdefaults": {
           "arrowcolor": "#f2f5fa",
           "arrowhead": 0,
           "arrowwidth": 1
          },
          "geo": {
           "bgcolor": "rgb(17,17,17)",
           "landcolor": "rgb(17,17,17)",
           "subunitcolor": "#506784",
           "showland": true,
           "showlakes": true,
           "lakecolor": "rgb(17,17,17)"
          },
          "title": {
           "x": 0.05
          },
          "updatemenudefaults": {
           "bgcolor": "#506784",
           "borderwidth": 0
          },
          "sliderdefaults": {
           "bgcolor": "#C8D4E3",
           "borderwidth": 1,
           "bordercolor": "rgb(17,17,17)",
           "tickwidth": 0
          },
          "mapbox": {
           "style": "dark"
          }
         }
        },
        "xaxis": {
         "anchor": "y",
         "domain": [
          0.0,
          1.0
         ],
         "title": {
          "text": "x"
         }
        },
        "yaxis": {
         "anchor": "x",
         "domain": [
          0.0,
          1.0
         ],
         "title": {
          "text": "y"
         }
        },
        "legend": {
         "tracegroupgap": 0
        },
        "margin": {
         "t": 60
        },
        "shapes": [
         {
          "type": "line",
          "x0": 7,
          "x1": 7,
          "xref": "x",
          "y0": 0,
          "y1": 1,
          "yref": "y domain"
         }
        ],
        "height": 450,
        "width": 900,
        "title": {
         "text": "Silhouette Score"
        }
       },
       "config": {
        "plotlyServerURL": "https://plot.ly"
       }
      },
      "text/html": "<div>                            <div id=\"76022627-4d47-411e-92bc-dd60c139f455\" class=\"plotly-graph-div\" style=\"height:450px; width:900px;\"></div>            <script type=\"text/javascript\">                require([\"plotly\"], function(Plotly) {                    window.PLOTLYENV=window.PLOTLYENV || {};                                    if (document.getElementById(\"76022627-4d47-411e-92bc-dd60c139f455\")) {                    Plotly.newPlot(                        \"76022627-4d47-411e-92bc-dd60c139f455\",                        [{\"hovertemplate\":\"x=%{x}<br>y=%{y}<extra></extra>\",\"legendgroup\":\"\",\"line\":{\"color\":\"#636efa\",\"dash\":\"solid\"},\"marker\":{\"symbol\":\"circle\"},\"mode\":\"lines\",\"name\":\"\",\"orientation\":\"v\",\"showlegend\":false,\"x\":[2,3,4,5,6,7],\"xaxis\":\"x\",\"y\":[0.38174569606781006,0.4128361940383911,0.457999050617218,0.46238216757774353,0.46208226680755615,0.4728129506111145],\"yaxis\":\"y\",\"type\":\"scatter\"}],                        {\"template\":{\"data\":{\"histogram2dcontour\":[{\"type\":\"histogram2dcontour\",\"colorbar\":{\"outlinewidth\":0,\"ticks\":\"\"},\"colorscale\":[[0.0,\"#0d0887\"],[0.1111111111111111,\"#46039f\"],[0.2222222222222222,\"#7201a8\"],[0.3333333333333333,\"#9c179e\"],[0.4444444444444444,\"#bd3786\"],[0.5555555555555556,\"#d8576b\"],[0.6666666666666666,\"#ed7953\"],[0.7777777777777778,\"#fb9f3a\"],[0.8888888888888888,\"#fdca26\"],[1.0,\"#f0f921\"]]}],\"choropleth\":[{\"type\":\"choropleth\",\"colorbar\":{\"outlinewidth\":0,\"ticks\":\"\"}}],\"histogram2d\":[{\"type\":\"histogram2d\",\"colorbar\":{\"outlinewidth\":0,\"ticks\":\"\"},\"colorscale\":[[0.0,\"#0d0887\"],[0.1111111111111111,\"#46039f\"],[0.2222222222222222,\"#7201a8\"],[0.3333333333333333,\"#9c179e\"],[0.4444444444444444,\"#bd3786\"],[0.5555555555555556,\"#d8576b\"],[0.6666666666666666,\"#ed7953\"],[0.7777777777777778,\"#fb9f3a\"],[0.8888888888888888,\"#fdca26\"],[1.0,\"#f0f921\"]]}],\"heatmap\":[{\"type\":\"heatmap\",\"colorbar\":{\"outlinewidth\":0,\"ticks\":\"\"},\"colorscale\":[[0.0,\"#0d0887\"],[0.1111111111111111,\"#46039f\"],[0.2222222222222222,\"#7201a8\"],[0.3333333333333333,\"#9c179e\"],[0.4444444444444444,\"#bd3786\"],[0.5555555555555556,\"#d8576b\"],[0.6666666666666666,\"#ed7953\"],[0.7777777777777778,\"#fb9f3a\"],[0.8888888888888888,\"#fdca26\"],[1.0,\"#f0f921\"]]}],\"heatmapgl\":[{\"type\":\"heatmapgl\",\"colorbar\":{\"outlinewidth\":0,\"ticks\":\"\"},\"colorscale\":[[0.0,\"#0d0887\"],[0.1111111111111111,\"#46039f\"],[0.2222222222222222,\"#7201a8\"],[0.3333333333333333,\"#9c179e\"],[0.4444444444444444,\"#bd3786\"],[0.5555555555555556,\"#d8576b\"],[0.6666666666666666,\"#ed7953\"],[0.7777777777777778,\"#fb9f3a\"],[0.8888888888888888,\"#fdca26\"],[1.0,\"#f0f921\"]]}],\"contourcarpet\":[{\"type\":\"contourcarpet\",\"colorbar\":{\"outlinewidth\":0,\"ticks\":\"\"}}],\"contour\":[{\"type\":\"contour\",\"colorbar\":{\"outlinewidth\":0,\"ticks\":\"\"},\"colorscale\":[[0.0,\"#0d0887\"],[0.1111111111111111,\"#46039f\"],[0.2222222222222222,\"#7201a8\"],[0.3333333333333333,\"#9c179e\"],[0.4444444444444444,\"#bd3786\"],[0.5555555555555556,\"#d8576b\"],[0.6666666666666666,\"#ed7953\"],[0.7777777777777778,\"#fb9f3a\"],[0.8888888888888888,\"#fdca26\"],[1.0,\"#f0f921\"]]}],\"surface\":[{\"type\":\"surface\",\"colorbar\":{\"outlinewidth\":0,\"ticks\":\"\"},\"colorscale\":[[0.0,\"#0d0887\"],[0.1111111111111111,\"#46039f\"],[0.2222222222222222,\"#7201a8\"],[0.3333333333333333,\"#9c179e\"],[0.4444444444444444,\"#bd3786\"],[0.5555555555555556,\"#d8576b\"],[0.6666666666666666,\"#ed7953\"],[0.7777777777777778,\"#fb9f3a\"],[0.8888888888888888,\"#fdca26\"],[1.0,\"#f0f921\"]]}],\"mesh3d\":[{\"type\":\"mesh3d\",\"colorbar\":{\"outlinewidth\":0,\"ticks\":\"\"}}],\"scatter\":[{\"marker\":{\"line\":{\"color\":\"#283442\"}},\"type\":\"scatter\"}],\"parcoords\":[{\"type\":\"parcoords\",\"line\":{\"colorbar\":{\"outlinewidth\":0,\"ticks\":\"\"}}}],\"scatterpolargl\":[{\"type\":\"scatterpolargl\",\"marker\":{\"colorbar\":{\"outlinewidth\":0,\"ticks\":\"\"}}}],\"bar\":[{\"error_x\":{\"color\":\"#f2f5fa\"},\"error_y\":{\"color\":\"#f2f5fa\"},\"marker\":{\"line\":{\"color\":\"rgb(17,17,17)\",\"width\":0.5},\"pattern\":{\"fillmode\":\"overlay\",\"size\":10,\"solidity\":0.2}},\"type\":\"bar\"}],\"scattergeo\":[{\"type\":\"scattergeo\",\"marker\":{\"colorbar\":{\"outlinewidth\":0,\"ticks\":\"\"}}}],\"scatterpolar\":[{\"type\":\"scatterpolar\",\"marker\":{\"colorbar\":{\"outlinewidth\":0,\"ticks\":\"\"}}}],\"histogram\":[{\"marker\":{\"pattern\":{\"fillmode\":\"overlay\",\"size\":10,\"solidity\":0.2}},\"type\":\"histogram\"}],\"scattergl\":[{\"marker\":{\"line\":{\"color\":\"#283442\"}},\"type\":\"scattergl\"}],\"scatter3d\":[{\"type\":\"scatter3d\",\"line\":{\"colorbar\":{\"outlinewidth\":0,\"ticks\":\"\"}},\"marker\":{\"colorbar\":{\"outlinewidth\":0,\"ticks\":\"\"}}}],\"scattermapbox\":[{\"type\":\"scattermapbox\",\"marker\":{\"colorbar\":{\"outlinewidth\":0,\"ticks\":\"\"}}}],\"scatterternary\":[{\"type\":\"scatterternary\",\"marker\":{\"colorbar\":{\"outlinewidth\":0,\"ticks\":\"\"}}}],\"scattercarpet\":[{\"type\":\"scattercarpet\",\"marker\":{\"colorbar\":{\"outlinewidth\":0,\"ticks\":\"\"}}}],\"carpet\":[{\"aaxis\":{\"endlinecolor\":\"#A2B1C6\",\"gridcolor\":\"#506784\",\"linecolor\":\"#506784\",\"minorgridcolor\":\"#506784\",\"startlinecolor\":\"#A2B1C6\"},\"baxis\":{\"endlinecolor\":\"#A2B1C6\",\"gridcolor\":\"#506784\",\"linecolor\":\"#506784\",\"minorgridcolor\":\"#506784\",\"startlinecolor\":\"#A2B1C6\"},\"type\":\"carpet\"}],\"table\":[{\"cells\":{\"fill\":{\"color\":\"#506784\"},\"line\":{\"color\":\"rgb(17,17,17)\"}},\"header\":{\"fill\":{\"color\":\"#2a3f5f\"},\"line\":{\"color\":\"rgb(17,17,17)\"}},\"type\":\"table\"}],\"barpolar\":[{\"marker\":{\"line\":{\"color\":\"rgb(17,17,17)\",\"width\":0.5},\"pattern\":{\"fillmode\":\"overlay\",\"size\":10,\"solidity\":0.2}},\"type\":\"barpolar\"}],\"pie\":[{\"automargin\":true,\"type\":\"pie\"}]},\"layout\":{\"autotypenumbers\":\"strict\",\"colorway\":[\"#636efa\",\"#EF553B\",\"#00cc96\",\"#ab63fa\",\"#FFA15A\",\"#19d3f3\",\"#FF6692\",\"#B6E880\",\"#FF97FF\",\"#FECB52\"],\"font\":{\"color\":\"#f2f5fa\"},\"hovermode\":\"closest\",\"hoverlabel\":{\"align\":\"left\"},\"paper_bgcolor\":\"rgb(17,17,17)\",\"plot_bgcolor\":\"rgb(17,17,17)\",\"polar\":{\"bgcolor\":\"rgb(17,17,17)\",\"angularaxis\":{\"gridcolor\":\"#506784\",\"linecolor\":\"#506784\",\"ticks\":\"\"},\"radialaxis\":{\"gridcolor\":\"#506784\",\"linecolor\":\"#506784\",\"ticks\":\"\"}},\"ternary\":{\"bgcolor\":\"rgb(17,17,17)\",\"aaxis\":{\"gridcolor\":\"#506784\",\"linecolor\":\"#506784\",\"ticks\":\"\"},\"baxis\":{\"gridcolor\":\"#506784\",\"linecolor\":\"#506784\",\"ticks\":\"\"},\"caxis\":{\"gridcolor\":\"#506784\",\"linecolor\":\"#506784\",\"ticks\":\"\"}},\"coloraxis\":{\"colorbar\":{\"outlinewidth\":0,\"ticks\":\"\"}},\"colorscale\":{\"sequential\":[[0.0,\"#0d0887\"],[0.1111111111111111,\"#46039f\"],[0.2222222222222222,\"#7201a8\"],[0.3333333333333333,\"#9c179e\"],[0.4444444444444444,\"#bd3786\"],[0.5555555555555556,\"#d8576b\"],[0.6666666666666666,\"#ed7953\"],[0.7777777777777778,\"#fb9f3a\"],[0.8888888888888888,\"#fdca26\"],[1.0,\"#f0f921\"]],\"sequentialminus\":[[0.0,\"#0d0887\"],[0.1111111111111111,\"#46039f\"],[0.2222222222222222,\"#7201a8\"],[0.3333333333333333,\"#9c179e\"],[0.4444444444444444,\"#bd3786\"],[0.5555555555555556,\"#d8576b\"],[0.6666666666666666,\"#ed7953\"],[0.7777777777777778,\"#fb9f3a\"],[0.8888888888888888,\"#fdca26\"],[1.0,\"#f0f921\"]],\"diverging\":[[0,\"#8e0152\"],[0.1,\"#c51b7d\"],[0.2,\"#de77ae\"],[0.3,\"#f1b6da\"],[0.4,\"#fde0ef\"],[0.5,\"#f7f7f7\"],[0.6,\"#e6f5d0\"],[0.7,\"#b8e186\"],[0.8,\"#7fbc41\"],[0.9,\"#4d9221\"],[1,\"#276419\"]]},\"xaxis\":{\"gridcolor\":\"#283442\",\"linecolor\":\"#506784\",\"ticks\":\"\",\"title\":{\"standoff\":15},\"zerolinecolor\":\"#283442\",\"automargin\":true,\"zerolinewidth\":2},\"yaxis\":{\"gridcolor\":\"#283442\",\"linecolor\":\"#506784\",\"ticks\":\"\",\"title\":{\"standoff\":15},\"zerolinecolor\":\"#283442\",\"automargin\":true,\"zerolinewidth\":2},\"scene\":{\"xaxis\":{\"backgroundcolor\":\"rgb(17,17,17)\",\"gridcolor\":\"#506784\",\"linecolor\":\"#506784\",\"showbackground\":true,\"ticks\":\"\",\"zerolinecolor\":\"#C8D4E3\",\"gridwidth\":2},\"yaxis\":{\"backgroundcolor\":\"rgb(17,17,17)\",\"gridcolor\":\"#506784\",\"linecolor\":\"#506784\",\"showbackground\":true,\"ticks\":\"\",\"zerolinecolor\":\"#C8D4E3\",\"gridwidth\":2},\"zaxis\":{\"backgroundcolor\":\"rgb(17,17,17)\",\"gridcolor\":\"#506784\",\"linecolor\":\"#506784\",\"showbackground\":true,\"ticks\":\"\",\"zerolinecolor\":\"#C8D4E3\",\"gridwidth\":2}},\"shapedefaults\":{\"line\":{\"color\":\"#f2f5fa\"}},\"annotationdefaults\":{\"arrowcolor\":\"#f2f5fa\",\"arrowhead\":0,\"arrowwidth\":1},\"geo\":{\"bgcolor\":\"rgb(17,17,17)\",\"landcolor\":\"rgb(17,17,17)\",\"subunitcolor\":\"#506784\",\"showland\":true,\"showlakes\":true,\"lakecolor\":\"rgb(17,17,17)\"},\"title\":{\"x\":0.05},\"updatemenudefaults\":{\"bgcolor\":\"#506784\",\"borderwidth\":0},\"sliderdefaults\":{\"bgcolor\":\"#C8D4E3\",\"borderwidth\":1,\"bordercolor\":\"rgb(17,17,17)\",\"tickwidth\":0},\"mapbox\":{\"style\":\"dark\"}}},\"xaxis\":{\"anchor\":\"y\",\"domain\":[0.0,1.0],\"title\":{\"text\":\"x\"}},\"yaxis\":{\"anchor\":\"x\",\"domain\":[0.0,1.0],\"title\":{\"text\":\"y\"}},\"legend\":{\"tracegroupgap\":0},\"margin\":{\"t\":60},\"shapes\":[{\"type\":\"line\",\"x0\":7,\"x1\":7,\"xref\":\"x\",\"y0\":0,\"y1\":1,\"yref\":\"y domain\"}],\"height\":450,\"width\":900,\"title\":{\"text\":\"Silhouette Score\"}},                        {\"responsive\": true}                    ).then(function(){\n                            \nvar gd = document.getElementById('76022627-4d47-411e-92bc-dd60c139f455');\nvar x = new MutationObserver(function (mutations, observer) {{\n        var display = window.getComputedStyle(gd).display;\n        if (!display || display === 'none') {{\n            console.log([gd, 'removed!']);\n            Plotly.purge(gd);\n            observer.disconnect();\n        }}\n}});\n\n// Listen for the removal of the full notebook cells\nvar notebookContainer = gd.closest('#notebook-container');\nif (notebookContainer) {{\n    x.observe(notebookContainer, {childList: true});\n}}\n\n// Listen for the clearing of the current output cell\nvar outputEl = gd.closest('.output');\nif (outputEl) {{\n    x.observe(outputEl, {childList: true});\n}}\n\n                        })                };                });            </script>        </div>"
     },
     "metadata": {},
     "output_type": "display_data"
    },
    {
     "data": {
      "text/plain": "<Figure size 640x480 with 1 Axes>",
      "image/png": "[encoded data removed]"
     },
     "metadata": {},
     "output_type": "display_data"
    },
    {
     "data": {
      "application/vnd.plotly.v1+json": {
       "data": [
        {
         "hovertemplate": "color=cluster_2<br>x=%{x}<br>y=%{y}<br>text=%{text}<extra></extra>",
         "legendgroup": "cluster_2",
         "marker": {
          "color": "#2E91E5",
          "symbol": "circle"
         },
         "mode": "markers+text",
         "name": "cluster_2",
         "orientation": "v",
         "showlegend": true,
         "text": [
          "Angular",
          "React.js",
          "Express",
          "Angular.js",
          "Yarn",
          "Node.js",
          "Next.js",
          "MongoDB",
          "Gatsby"
         ],
         "x": [
          5.3294267654418945,
          11.550310134887695,
          10.18368148803711,
          4.479879856109619,
          8.790051460266113,
          12.02622127532959,
          8.329267501831055,
          4.373526573181152,
          5.749588489532471
         ],
         "xaxis": "x",
         "y": [
          4.056661128997803,
          -5.164546966552734,
          -2.713080406188965,
          2.945289134979248,
          -5.2025370597839355,
          -3.202314615249634,
          -3.769376277923584,
          -3.2293941974639893,
          -3.1270859241485596
         ],
         "yaxis": "y",
         "type": "scatter",
         "textposition": "top center"
        },
        {
         "hovertemplate": "color=cluster_6<br>x=%{x}<br>y=%{y}<br>text=%{text}<extra></extra>",
         "legendgroup": "cluster_6",
         "marker": {
          "color": "#E15F99",
          "symbol": "circle"
         },
         "mode": "markers+text",
         "name": "cluster_6",
         "orientation": "v",
         "showlegend": true,
         "text": [
          "TypeScript",
          "HTML/CSS",
          "npm",
          "JavaScript",
          "SQL",
          "Visual Studio Code"
         ],
         "x": [
          15.89790153503418,
          20.798959732055664,
          15.175520896911621,
          20.31447982788086,
          21.77911376953125,
          19.269384384155273
         ],
         "xaxis": "x",
         "y": [
          -2.395653009414673,
          0.43745940923690796,
          -2.392064332962036,
          -0.03103560209274292,
          1.4857306480407715,
          -1.156611442565918
         ],
         "yaxis": "y",
         "type": "scatter",
         "textposition": "top center"
        },
        {
         "hovertemplate": "color=cluster_5<br>x=%{x}<br>y=%{y}<br>text=%{text}<extra></extra>",
         "legendgroup": "cluster_5",
         "marker": {
          "color": "#1CA71C",
          "symbol": "circle"
         },
         "mode": "markers+text",
         "name": "cluster_5",
         "orientation": "v",
         "showlegend": true,
         "text": [
          "Vue.js",
          "Svelte",
          "Webstorm",
          "Nuxt.js",
          "Heroku",
          "Deno",
          "Electron",
          "Fastify",
          "React Native",
          "Ionic",
          "RubyMine",
          "Capacitor",
          "Cordova",
          "DigitalOcean",
          "Flow",
          "Flutter"
         ],
         "x": [
          0.5152063369750977,
          -1.118757963180542,
          -4.790893077850342,
          0.01336691901087761,
          -7.381577491760254,
          -2.464606285095215,
          0.6248237490653992,
          -2.4415950775146484,
          -2.4515175819396973,
          1.6478809118270874,
          -6.667585372924805,
          0.9837744832038879,
          0.1901819258928299,
          -3.6206183433532715,
          -3.1618547439575195,
          -4.717231273651123
         ],
         "xaxis": "x",
         "y": [
          -5.584925174713135,
          -1.773863434791565,
          -0.6390759944915771,
          -4.346927165985107,
          -0.5062903165817261,
          -0.9169384837150574,
          0.35993409156799316,
          0.5840586423873901,
          2.5676651000976562,
          5.2637104988098145,
          -3.3731350898742676,
          4.670732021331787,
          3.379869222640991,
          -2.9748268127441406,
          0.18839818239212036,
          1.721457600593567
         ],
         "yaxis": "y",
         "type": "scatter",
         "textposition": "top center"
        },
        {
         "hovertemplate": "color=cluster_1<br>x=%{x}<br>y=%{y}<br>text=%{text}<extra></extra>",
         "legendgroup": "cluster_1",
         "marker": {
          "color": "#FB0D0D",
          "symbol": "circle"
         },
         "mode": "markers+text",
         "name": "cluster_1",
         "orientation": "v",
         "showlegend": true,
         "text": [
          "jQuery",
          "Laravel",
          "PhpStorm",
          "Symfony",
          "PHP",
          "MySQL"
         ],
         "x": [
          -1.8613004684448242,
          -1.9211078882217407,
          -4.006832599639893,
          -4.345825672149658,
          -3.295952320098877,
          -4.464671611785889
         ],
         "xaxis": "x",
         "y": [
          -12.787519454956055,
          -9.46932315826416,
          -9.590703964233398,
          -8.02328109741211,
          -11.896864891052246,
          -12.83908462524414
         ],
         "yaxis": "y",
         "type": "scatter",
         "textposition": "top center"
        },
        {
         "hovertemplate": "color=cluster_4<br>x=%{x}<br>y=%{y}<br>text=%{text}<extra></extra>",
         "legendgroup": "cluster_4",
         "marker": {
          "color": "#DA16FF",
          "symbol": "circle"
         },
         "mode": "markers+text",
         "name": "cluster_4",
         "orientation": "v",
         "showlegend": true,
         "text": [
          "ASP.NET Core ",
          "C#",
          ".NET",
          "Microsoft SQL Server",
          "Visual Studio",
          "Microsoft Azure"
         ],
         "x": [
          9.646936416625977,
          11.336307525634766,
          10.50340461730957,
          12.812585830688477,
          11.465307235717773,
          8.617929458618164
         ],
         "xaxis": "x",
         "y": [
          19.335248947143555,
          20.645389556884766,
          20.47287368774414,
          19.847734451293945,
          21.720134735107422,
          18.288639068603516
         ],
         "yaxis": "y",
         "type": "scatter",
         "textposition": "top center"
        },
        {
         "hovertemplate": "color=cluster_0<br>x=%{x}<br>y=%{y}<br>text=%{text}<extra></extra>",
         "legendgroup": "cluster_0",
         "marker": {
          "color": "#222A2A",
          "symbol": "circle"
         },
         "mode": "markers+text",
         "name": "cluster_0",
         "orientation": "v",
         "showlegend": true,
         "text": [
          "ASP.NET",
          "Blazor",
          "Spring",
          "Firebase Realtime Database",
          "Rider",
          "F#",
          "IntelliJ",
          "Firebase",
          "Java",
          "Cloud Firestore"
         ],
         "x": [
          -0.34804314374923706,
          -0.9432156085968018,
          -13.985984802246094,
          -7.409112453460693,
          -4.091825485229492,
          -3.1657111644744873,
          -16.36509895324707,
          -9.037337303161621,
          -15.514392852783203,
          -7.9719953536987305
         ],
         "xaxis": "x",
         "y": [
          11.578811645507812,
          10.316753387451172,
          2.2892720699310303,
          4.572056293487549,
          7.149565696716309,
          5.839338779449463,
          2.7896316051483154,
          4.806800365447998,
          2.6780056953430176,
          2.8876523971557617
         ],
         "yaxis": "y",
         "type": "scatter",
         "textposition": "top center"
        },
        {
         "hovertemplate": "color=cluster_3<br>x=%{x}<br>y=%{y}<br>text=%{text}<extra></extra>",
         "legendgroup": "cluster_3",
         "marker": {
          "color": "#B68100",
          "symbol": "circle"
         },
         "mode": "markers+text",
         "name": "cluster_3",
         "orientation": "v",
         "showlegend": true,
         "text": [
          "Ruby on Rails",
          "Phoenix",
          "Elixir",
          "Ruby",
          "Redis",
          "PostgreSQL"
         ],
         "x": [
          -16.31541633605957,
          -14.80251407623291,
          -15.194602012634277,
          -15.922008514404297,
          -17.476608276367188,
          -18.44484519958496
         ],
         "xaxis": "x",
         "y": [
          -14.643670082092285,
          -6.371243476867676,
          -6.582251071929932,
          -14.256348609924316,
          -15.848982810974121,
          -16.798526763916016
         ],
         "yaxis": "y",
         "type": "scatter",
         "textposition": "top center"
        }
       ],
       "layout": {
        "template": {
         "data": {
          "histogram2dcontour": [
           {
            "type": "histogram2dcontour",
            "colorbar": {
             "outlinewidth": 0,
             "ticks": ""
            },
            "colorscale": [
             [
              0.0,
              "#0d0887"
             ],
             [
              0.1111111111111111,
              "#46039f"
             ],
             [
              0.2222222222222222,
              "#7201a8"
             ],
             [
              0.3333333333333333,
              "#9c179e"
             ],
             [
              0.4444444444444444,
              "#bd3786"
             ],
             [
              0.5555555555555556,
              "#d8576b"
             ],
             [
              0.6666666666666666,
              "#ed7953"
             ],
             [
              0.7777777777777778,
              "#fb9f3a"
             ],
             [
              0.8888888888888888,
              "#fdca26"
             ],
             [
              1.0,
              "#f0f921"
             ]
            ]
           }
          ],
          "choropleth": [
           {
            "type": "choropleth",
            "colorbar": {
             "outlinewidth": 0,
             "ticks": ""
            }
           }
          ],
          "histogram2d": [
           {
            "type": "histogram2d",
            "colorbar": {
             "outlinewidth": 0,
             "ticks": ""
            },
            "colorscale": [
             [
              0.0,
              "#0d0887"
             ],
             [
              0.1111111111111111,
              "#46039f"
             ],
             [
              0.2222222222222222,
              "#7201a8"
             ],
             [
              0.3333333333333333,
              "#9c179e"
             ],
             [
              0.4444444444444444,
              "#bd3786"
             ],
             [
              0.5555555555555556,
              "#d8576b"
             ],
             [
              0.6666666666666666,
              "#ed7953"
             ],
             [
              0.7777777777777778,
              "#fb9f3a"
             ],
             [
              0.8888888888888888,
              "#fdca26"
             ],
             [
              1.0,
              "#f0f921"
             ]
            ]
           }
          ],
          "heatmap": [
           {
            "type": "heatmap",
            "colorbar": {
             "outlinewidth": 0,
             "ticks": ""
            },
            "colorscale": [
             [
              0.0,
              "#0d0887"
             ],
             [
              0.1111111111111111,
              "#46039f"
             ],
             [
              0.2222222222222222,
              "#7201a8"
             ],
             [
              0.3333333333333333,
              "#9c179e"
             ],
             [
              0.4444444444444444,
              "#bd3786"
             ],
             [
              0.5555555555555556,
              "#d8576b"
             ],
             [
              0.6666666666666666,
              "#ed7953"
             ],
             [
              0.7777777777777778,
              "#fb9f3a"
             ],
             [
              0.8888888888888888,
              "#fdca26"
             ],
             [
              1.0,
              "#f0f921"
             ]
            ]
           }
          ],
          "heatmapgl": [
           {
            "type": "heatmapgl",
            "colorbar": {
             "outlinewidth": 0,
             "ticks": ""
            },
            "colorscale": [
             [
              0.0,
              "#0d0887"
             ],
             [
              0.1111111111111111,
              "#46039f"
             ],
             [
              0.2222222222222222,
              "#7201a8"
             ],
             [
              0.3333333333333333,
              "#9c179e"
             ],
             [
              0.4444444444444444,
              "#bd3786"
             ],
             [
              0.5555555555555556,
              "#d8576b"
             ],
             [
              0.6666666666666666,
              "#ed7953"
             ],
             [
              0.7777777777777778,
              "#fb9f3a"
             ],
             [
              0.8888888888888888,
              "#fdca26"
             ],
             [
              1.0,
              "#f0f921"
             ]
            ]
           }
          ],
          "contourcarpet": [
           {
            "type": "contourcarpet",
            "colorbar": {
             "outlinewidth": 0,
             "ticks": ""
            }
           }
          ],
          "contour": [
           {
            "type": "contour",
            "colorbar": {
             "outlinewidth": 0,
             "ticks": ""
            },
            "colorscale": [
             [
              0.0,
              "#0d0887"
             ],
             [
              0.1111111111111111,
              "#46039f"
             ],
             [
              0.2222222222222222,
              "#7201a8"
             ],
             [
              0.3333333333333333,
              "#9c179e"
             ],
             [
              0.4444444444444444,
              "#bd3786"
             ],
             [
              0.5555555555555556,
              "#d8576b"
             ],
             [
              0.6666666666666666,
              "#ed7953"
             ],
             [
              0.7777777777777778,
              "#fb9f3a"
             ],
             [
              0.8888888888888888,
              "#fdca26"
             ],
             [
              1.0,
              "#f0f921"
             ]
            ]
           }
          ],
          "surface": [
           {
            "type": "surface",
            "colorbar": {
             "outlinewidth": 0,
             "ticks": ""
            },
            "colorscale": [
             [
              0.0,
              "#0d0887"
             ],
             [
              0.1111111111111111,
              "#46039f"
             ],
             [
              0.2222222222222222,
              "#7201a8"
             ],
             [
              0.3333333333333333,
              "#9c179e"
             ],
             [
              0.4444444444444444,
              "#bd3786"
             ],
             [
              0.5555555555555556,
              "#d8576b"
             ],
             [
              0.6666666666666666,
              "#ed7953"
             ],
             [
              0.7777777777777778,
              "#fb9f3a"
             ],
             [
              0.8888888888888888,
              "#fdca26"
             ],
             [
              1.0,
              "#f0f921"
             ]
            ]
           }
          ],
          "mesh3d": [
           {
            "type": "mesh3d",
            "colorbar": {
             "outlinewidth": 0,
             "ticks": ""
            }
           }
          ],
          "scatter": [
           {
            "marker": {
             "line": {
              "color": "#283442"
             }
            },
            "type": "scatter"
           }
          ],
          "parcoords": [
           {
            "type": "parcoords",
            "line": {
             "colorbar": {
              "outlinewidth": 0,
              "ticks": ""
             }
            }
           }
          ],
          "scatterpolargl": [
           {
            "type": "scatterpolargl",
            "marker": {
             "colorbar": {
              "outlinewidth": 0,
              "ticks": ""
             }
            }
           }
          ],
          "bar": [
           {
            "error_x": {
             "color": "#f2f5fa"
            },
            "error_y": {
             "color": "#f2f5fa"
            },
            "marker": {
             "line": {
              "color": "rgb(17,17,17)",
              "width": 0.5
             },
             "pattern": {
              "fillmode": "overlay",
              "size": 10,
              "solidity": 0.2
             }
            },
            "type": "bar"
           }
          ],
          "scattergeo": [
           {
            "type": "scattergeo",
            "marker": {
             "colorbar": {
              "outlinewidth": 0,
              "ticks": ""
             }
            }
           }
          ],
          "scatterpolar": [
           {
            "type": "scatterpolar",
            "marker": {
             "colorbar": {
              "outlinewidth": 0,
              "ticks": ""
             }
            }
           }
          ],
          "histogram": [
           {
            "marker": {
             "pattern": {
              "fillmode": "overlay",
              "size": 10,
              "solidity": 0.2
             }
            },
            "type": "histogram"
           }
          ],
          "scattergl": [
           {
            "marker": {
             "line": {
              "color": "#283442"
             }
            },
            "type": "scattergl"
           }
          ],
          "scatter3d": [
           {
            "type": "scatter3d",
            "line": {
             "colorbar": {
              "outlinewidth": 0,
              "ticks": ""
             }
            },
            "marker": {
             "colorbar": {
              "outlinewidth": 0,
              "ticks": ""
             }
            }
           }
          ],
          "scattermapbox": [
           {
            "type": "scattermapbox",
            "marker": {
             "colorbar": {
              "outlinewidth": 0,
              "ticks": ""
             }
            }
           }
          ],
          "scatterternary": [
           {
            "type": "scatterternary",
            "marker": {
             "colorbar": {
              "outlinewidth": 0,
              "ticks": ""
             }
            }
           }
          ],
          "scattercarpet": [
           {
            "type": "scattercarpet",
            "marker": {
             "colorbar": {
              "outlinewidth": 0,
              "ticks": ""
             }
            }
           }
          ],
          "carpet": [
           {
            "aaxis": {
             "endlinecolor": "#A2B1C6",
             "gridcolor": "#506784",
             "linecolor": "#506784",
             "minorgridcolor": "#506784",
             "startlinecolor": "#A2B1C6"
            },
            "baxis": {
             "endlinecolor": "#A2B1C6",
             "gridcolor": "#506784",
             "linecolor": "#506784",
             "minorgridcolor": "#506784",
             "startlinecolor": "#A2B1C6"
            },
            "type": "carpet"
           }
          ],
          "table": [
           {
            "cells": {
             "fill": {
              "color": "#506784"
             },
             "line": {
              "color": "rgb(17,17,17)"
             }
            },
            "header": {
             "fill": {
              "color": "#2a3f5f"
             },
             "line": {
              "color": "rgb(17,17,17)"
             }
            },
            "type": "table"
           }
          ],
          "barpolar": [
           {
            "marker": {
             "line": {
              "color": "rgb(17,17,17)",
              "width": 0.5
             },
             "pattern": {
              "fillmode": "overlay",
              "size": 10,
              "solidity": 0.2
             }
            },
            "type": "barpolar"
           }
          ],
          "pie": [
           {
            "automargin": true,
            "type": "pie"
           }
          ]
         },
         "layout": {
          "autotypenumbers": "strict",
          "colorway": [
           "#636efa",
           "#EF553B",
           "#00cc96",
           "#ab63fa",
           "#FFA15A",
           "#19d3f3",
           "#FF6692",
           "#B6E880",
           "#FF97FF",
           "#FECB52"
          ],
          "font": {
           "color": "#f2f5fa"
          },
          "hovermode": "closest",
          "hoverlabel": {
           "align": "left"
          },
          "paper_bgcolor": "rgb(17,17,17)",
          "plot_bgcolor": "rgb(17,17,17)",
          "polar": {
           "bgcolor": "rgb(17,17,17)",
           "angularaxis": {
            "gridcolor": "#506784",
            "linecolor": "#506784",
            "ticks": ""
           },
           "radialaxis": {
            "gridcolor": "#506784",
            "linecolor": "#506784",
            "ticks": ""
           }
          },
          "ternary": {
           "bgcolor": "rgb(17,17,17)",
           "aaxis": {
            "gridcolor": "#506784",
            "linecolor": "#506784",
            "ticks": ""
           },
           "baxis": {
            "gridcolor": "#506784",
            "linecolor": "#506784",
            "ticks": ""
           },
           "caxis": {
            "gridcolor": "#506784",
            "linecolor": "#506784",
            "ticks": ""
           }
          },
          "coloraxis": {
           "colorbar": {
            "outlinewidth": 0,
            "ticks": ""
           }
          },
          "colorscale": {
           "sequential": [
            [
             0.0,
             "#0d0887"
            ],
            [
             0.1111111111111111,
             "#46039f"
            ],
            [
             0.2222222222222222,
             "#7201a8"
            ],
            [
             0.3333333333333333,
             "#9c179e"
            ],
            [
             0.4444444444444444,
             "#bd3786"
            ],
            [
             0.5555555555555556,
             "#d8576b"
            ],
            [
             0.6666666666666666,
             "#ed7953"
            ],
            [
             0.7777777777777778,
             "#fb9f3a"
            ],
            [
             0.8888888888888888,
             "#fdca26"
            ],
            [
             1.0,
             "#f0f921"
            ]
           ],
           "sequentialminus": [
            [
             0.0,
             "#0d0887"
            ],
            [
             0.1111111111111111,
             "#46039f"
            ],
            [
             0.2222222222222222,
             "#7201a8"
            ],
            [
             0.3333333333333333,
             "#9c179e"
            ],
            [
             0.4444444444444444,
             "#bd3786"
            ],
            [
             0.5555555555555556,
             "#d8576b"
            ],
            [
             0.6666666666666666,
             "#ed7953"
            ],
            [
             0.7777777777777778,
             "#fb9f3a"
            ],
            [
             0.8888888888888888,
             "#fdca26"
            ],
            [
             1.0,
             "#f0f921"
            ]
           ],
           "diverging": [
            [
             0,
             "#8e0152"
            ],
            [
             0.1,
             "#c51b7d"
            ],
            [
             0.2,
             "#de77ae"
            ],
            [
             0.3,
             "#f1b6da"
            ],
            [
             0.4,
             "#fde0ef"
            ],
            [
             0.5,
             "#f7f7f7"
            ],
            [
             0.6,
             "#e6f5d0"
            ],
            [
             0.7,
             "#b8e186"
            ],
            [
             0.8,
             "#7fbc41"
            ],
            [
             0.9,
             "#4d9221"
            ],
            [
             1,
             "#276419"
            ]
           ]
          },
          "xaxis": {
           "gridcolor": "#283442",
           "linecolor": "#506784",
           "ticks": "",
           "title": {
            "standoff": 15
           },
           "zerolinecolor": "#283442",
           "automargin": true,
           "zerolinewidth": 2
          },
          "yaxis": {
           "gridcolor": "#283442",
           "linecolor": "#506784",
           "ticks": "",
           "title": {
            "standoff": 15
           },
           "zerolinecolor": "#283442",
           "automargin": true,
           "zerolinewidth": 2
          },
          "scene": {
           "xaxis": {
            "backgroundcolor": "rgb(17,17,17)",
            "gridcolor": "#506784",
            "linecolor": "#506784",
            "showbackground": true,
            "ticks": "",
            "zerolinecolor": "#C8D4E3",
            "gridwidth": 2
           },
           "yaxis": {
            "backgroundcolor": "rgb(17,17,17)",
            "gridcolor": "#506784",
            "linecolor": "#506784",
            "showbackground": true,
            "ticks": "",
            "zerolinecolor": "#C8D4E3",
            "gridwidth": 2
           },
           "zaxis": {
            "backgroundcolor": "rgb(17,17,17)",
            "gridcolor": "#506784",
            "linecolor": "#506784",
            "showbackground": true,
            "ticks": "",
            "zerolinecolor": "#C8D4E3",
            "gridwidth": 2
           }
          },
          "shapedefaults": {
           "line": {
            "color": "#f2f5fa"
           }
          },
          "annotationdefaults": {
           "arrowcolor": "#f2f5fa",
           "arrowhead": 0,
           "arrowwidth": 1
          },
          "geo": {
           "bgcolor": "rgb(17,17,17)",
           "landcolor": "rgb(17,17,17)",
           "subunitcolor": "#506784",
           "showland": true,
           "showlakes": true,
           "lakecolor": "rgb(17,17,17)"
          },
          "title": {
           "x": 0.05
          },
          "updatemenudefaults": {
           "bgcolor": "#506784",
           "borderwidth": 0
          },
          "sliderdefaults": {
           "bgcolor": "#C8D4E3",
           "borderwidth": 1,
           "bordercolor": "rgb(17,17,17)",
           "tickwidth": 0
          },
          "mapbox": {
           "style": "dark"
          }
         }
        },
        "xaxis": {
         "anchor": "y",
         "domain": [
          0.0,
          1.0
         ],
         "title": {
          "text": "x"
         }
        },
        "yaxis": {
         "anchor": "x",
         "domain": [
          0.0,
          1.0
         ],
         "title": {
          "text": "y"
         }
        },
        "legend": {
         "title": {
          "text": "color"
         },
         "tracegroupgap": 0
        },
        "margin": {
         "t": 60
        },
        "title": {
         "text": "Clustering top skills for Developer_full-stack"
        },
        "height": 900,
        "width": 1500
       },
       "config": {
        "plotlyServerURL": "https://plot.ly"
       }
      },
      "text/html": "<div>                            <div id=\"221250bb-4c75-452c-be4c-8f4e101178ab\" class=\"plotly-graph-div\" style=\"height:900px; width:1500px;\"></div>            <script type=\"text/javascript\">                require([\"plotly\"], function(Plotly) {                    window.PLOTLYENV=window.PLOTLYENV || {};                                    if (document.getElementById(\"221250bb-4c75-452c-be4c-8f4e101178ab\")) {                    Plotly.newPlot(                        \"221250bb-4c75-452c-be4c-8f4e101178ab\",                        [{\"hovertemplate\":\"color=cluster_2<br>x=%{x}<br>y=%{y}<br>text=%{text}<extra></extra>\",\"legendgroup\":\"cluster_2\",\"marker\":{\"color\":\"#2E91E5\",\"symbol\":\"circle\"},\"mode\":\"markers+text\",\"name\":\"cluster_2\",\"orientation\":\"v\",\"showlegend\":true,\"text\":[\"Angular\",\"React.js\",\"Express\",\"Angular.js\",\"Yarn\",\"Node.js\",\"Next.js\",\"MongoDB\",\"Gatsby\"],\"x\":[5.3294267654418945,11.550310134887695,10.18368148803711,4.479879856109619,8.790051460266113,12.02622127532959,8.329267501831055,4.373526573181152,5.749588489532471],\"xaxis\":\"x\",\"y\":[4.056661128997803,-5.164546966552734,-2.713080406188965,2.945289134979248,-5.2025370597839355,-3.202314615249634,-3.769376277923584,-3.2293941974639893,-3.1270859241485596],\"yaxis\":\"y\",\"type\":\"scatter\",\"textposition\":\"top center\"},{\"hovertemplate\":\"color=cluster_6<br>x=%{x}<br>y=%{y}<br>text=%{text}<extra></extra>\",\"legendgroup\":\"cluster_6\",\"marker\":{\"color\":\"#E15F99\",\"symbol\":\"circle\"},\"mode\":\"markers+text\",\"name\":\"cluster_6\",\"orientation\":\"v\",\"showlegend\":true,\"text\":[\"TypeScript\",\"HTML/CSS\",\"npm\",\"JavaScript\",\"SQL\",\"Visual Studio Code\"],\"x\":[15.89790153503418,20.798959732055664,15.175520896911621,20.31447982788086,21.77911376953125,19.269384384155273],\"xaxis\":\"x\",\"y\":[-2.395653009414673,0.43745940923690796,-2.392064332962036,-0.03103560209274292,1.4857306480407715,-1.156611442565918],\"yaxis\":\"y\",\"type\":\"scatter\",\"textposition\":\"top center\"},{\"hovertemplate\":\"color=cluster_5<br>x=%{x}<br>y=%{y}<br>text=%{text}<extra></extra>\",\"legendgroup\":\"cluster_5\",\"marker\":{\"color\":\"#1CA71C\",\"symbol\":\"circle\"},\"mode\":\"markers+text\",\"name\":\"cluster_5\",\"orientation\":\"v\",\"showlegend\":true,\"text\":[\"Vue.js\",\"Svelte\",\"Webstorm\",\"Nuxt.js\",\"Heroku\",\"Deno\",\"Electron\",\"Fastify\",\"React Native\",\"Ionic\",\"RubyMine\",\"Capacitor\",\"Cordova\",\"DigitalOcean\",\"Flow\",\"Flutter\"],\"x\":[0.5152063369750977,-1.118757963180542,-4.790893077850342,0.01336691901087761,-7.381577491760254,-2.464606285095215,0.6248237490653992,-2.4415950775146484,-2.4515175819396973,1.6478809118270874,-6.667585372924805,0.9837744832038879,0.1901819258928299,-3.6206183433532715,-3.1618547439575195,-4.717231273651123],\"xaxis\":\"x\",\"y\":[-5.584925174713135,-1.773863434791565,-0.6390759944915771,-4.346927165985107,-0.5062903165817261,-0.9169384837150574,0.35993409156799316,0.5840586423873901,2.5676651000976562,5.2637104988098145,-3.3731350898742676,4.670732021331787,3.379869222640991,-2.9748268127441406,0.18839818239212036,1.721457600593567],\"yaxis\":\"y\",\"type\":\"scatter\",\"textposition\":\"top center\"},{\"hovertemplate\":\"color=cluster_1<br>x=%{x}<br>y=%{y}<br>text=%{text}<extra></extra>\",\"legendgroup\":\"cluster_1\",\"marker\":{\"color\":\"#FB0D0D\",\"symbol\":\"circle\"},\"mode\":\"markers+text\",\"name\":\"cluster_1\",\"orientation\":\"v\",\"showlegend\":true,\"text\":[\"jQuery\",\"Laravel\",\"PhpStorm\",\"Symfony\",\"PHP\",\"MySQL\"],\"x\":[-1.8613004684448242,-1.9211078882217407,-4.006832599639893,-4.345825672149658,-3.295952320098877,-4.464671611785889],\"xaxis\":\"x\",\"y\":[-12.787519454956055,-9.46932315826416,-9.590703964233398,-8.02328109741211,-11.896864891052246,-12.83908462524414],\"yaxis\":\"y\",\"type\":\"scatter\",\"textposition\":\"top center\"},{\"hovertemplate\":\"color=cluster_4<br>x=%{x}<br>y=%{y}<br>text=%{text}<extra></extra>\",\"legendgroup\":\"cluster_4\",\"marker\":{\"color\":\"#DA16FF\",\"symbol\":\"circle\"},\"mode\":\"markers+text\",\"name\":\"cluster_4\",\"orientation\":\"v\",\"showlegend\":true,\"text\":[\"ASP.NET Core \",\"C#\",\".NET\",\"Microsoft SQL Server\",\"Visual Studio\",\"Microsoft Azure\"],\"x\":[9.646936416625977,11.336307525634766,10.50340461730957,12.812585830688477,11.465307235717773,8.617929458618164],\"xaxis\":\"x\",\"y\":[19.335248947143555,20.645389556884766,20.47287368774414,19.847734451293945,21.720134735107422,18.288639068603516],\"yaxis\":\"y\",\"type\":\"scatter\",\"textposition\":\"top center\"},{\"hovertemplate\":\"color=cluster_0<br>x=%{x}<br>y=%{y}<br>text=%{text}<extra></extra>\",\"legendgroup\":\"cluster_0\",\"marker\":{\"color\":\"#222A2A\",\"symbol\":\"circle\"},\"mode\":\"markers+text\",\"name\":\"cluster_0\",\"orientation\":\"v\",\"showlegend\":true,\"text\":[\"ASP.NET\",\"Blazor\",\"Spring\",\"Firebase Realtime Database\",\"Rider\",\"F#\",\"IntelliJ\",\"Firebase\",\"Java\",\"Cloud Firestore\"],\"x\":[-0.34804314374923706,-0.9432156085968018,-13.985984802246094,-7.409112453460693,-4.091825485229492,-3.1657111644744873,-16.36509895324707,-9.037337303161621,-15.514392852783203,-7.9719953536987305],\"xaxis\":\"x\",\"y\":[11.578811645507812,10.316753387451172,2.2892720699310303,4.572056293487549,7.149565696716309,5.839338779449463,2.7896316051483154,4.806800365447998,2.6780056953430176,2.8876523971557617],\"yaxis\":\"y\",\"type\":\"scatter\",\"textposition\":\"top center\"},{\"hovertemplate\":\"color=cluster_3<br>x=%{x}<br>y=%{y}<br>text=%{text}<extra></extra>\",\"legendgroup\":\"cluster_3\",\"marker\":{\"color\":\"#B68100\",\"symbol\":\"circle\"},\"mode\":\"markers+text\",\"name\":\"cluster_3\",\"orientation\":\"v\",\"showlegend\":true,\"text\":[\"Ruby on Rails\",\"Phoenix\",\"Elixir\",\"Ruby\",\"Redis\",\"PostgreSQL\"],\"x\":[-16.31541633605957,-14.80251407623291,-15.194602012634277,-15.922008514404297,-17.476608276367188,-18.44484519958496],\"xaxis\":\"x\",\"y\":[-14.643670082092285,-6.371243476867676,-6.582251071929932,-14.256348609924316,-15.848982810974121,-16.798526763916016],\"yaxis\":\"y\",\"type\":\"scatter\",\"textposition\":\"top center\"}],                        {\"template\":{\"data\":{\"histogram2dcontour\":[{\"type\":\"histogram2dcontour\",\"colorbar\":{\"outlinewidth\":0,\"ticks\":\"\"},\"colorscale\":[[0.0,\"#0d0887\"],[0.1111111111111111,\"#46039f\"],[0.2222222222222222,\"#7201a8\"],[0.3333333333333333,\"#9c179e\"],[0.4444444444444444,\"#bd3786\"],[0.5555555555555556,\"#d8576b\"],[0.6666666666666666,\"#ed7953\"],[0.7777777777777778,\"#fb9f3a\"],[0.8888888888888888,\"#fdca26\"],[1.0,\"#f0f921\"]]}],\"choropleth\":[{\"type\":\"choropleth\",\"colorbar\":{\"outlinewidth\":0,\"ticks\":\"\"}}],\"histogram2d\":[{\"type\":\"histogram2d\",\"colorbar\":{\"outlinewidth\":0,\"ticks\":\"\"},\"colorscale\":[[0.0,\"#0d0887\"],[0.1111111111111111,\"#46039f\"],[0.2222222222222222,\"#7201a8\"],[0.3333333333333333,\"#9c179e\"],[0.4444444444444444,\"#bd3786\"],[0.5555555555555556,\"#d8576b\"],[0.6666666666666666,\"#ed7953\"],[0.7777777777777778,\"#fb9f3a\"],[0.8888888888888888,\"#fdca26\"],[1.0,\"#f0f921\"]]}],\"heatmap\":[{\"type\":\"heatmap\",\"colorbar\":{\"outlinewidth\":0,\"ticks\":\"\"},\"colorscale\":[[0.0,\"#0d0887\"],[0.1111111111111111,\"#46039f\"],[0.2222222222222222,\"#7201a8\"],[0.3333333333333333,\"#9c179e\"],[0.4444444444444444,\"#bd3786\"],[0.5555555555555556,\"#d8576b\"],[0.6666666666666666,\"#ed7953\"],[0.7777777777777778,\"#fb9f3a\"],[0.8888888888888888,\"#fdca26\"],[1.0,\"#f0f921\"]]}],\"heatmapgl\":[{\"type\":\"heatmapgl\",\"colorbar\":{\"outlinewidth\":0,\"ticks\":\"\"},\"colorscale\":[[0.0,\"#0d0887\"],[0.1111111111111111,\"#46039f\"],[0.2222222222222222,\"#7201a8\"],[0.3333333333333333,\"#9c179e\"],[0.4444444444444444,\"#bd3786\"],[0.5555555555555556,\"#d8576b\"],[0.6666666666666666,\"#ed7953\"],[0.7777777777777778,\"#fb9f3a\"],[0.8888888888888888,\"#fdca26\"],[1.0,\"#f0f921\"]]}],\"contourcarpet\":[{\"type\":\"contourcarpet\",\"colorbar\":{\"outlinewidth\":0,\"ticks\":\"\"}}],\"contour\":[{\"type\":\"contour\",\"colorbar\":{\"outlinewidth\":0,\"ticks\":\"\"},\"colorscale\":[[0.0,\"#0d0887\"],[0.1111111111111111,\"#46039f\"],[0.2222222222222222,\"#7201a8\"],[0.3333333333333333,\"#9c179e\"],[0.4444444444444444,\"#bd3786\"],[0.5555555555555556,\"#d8576b\"],[0.6666666666666666,\"#ed7953\"],[0.7777777777777778,\"#fb9f3a\"],[0.8888888888888888,\"#fdca26\"],[1.0,\"#f0f921\"]]}],\"surface\":[{\"type\":\"surface\",\"colorbar\":{\"outlinewidth\":0,\"ticks\":\"\"},\"colorscale\":[[0.0,\"#0d0887\"],[0.1111111111111111,\"#46039f\"],[0.2222222222222222,\"#7201a8\"],[0.3333333333333333,\"#9c179e\"],[0.4444444444444444,\"#bd3786\"],[0.5555555555555556,\"#d8576b\"],[0.6666666666666666,\"#ed7953\"],[0.7777777777777778,\"#fb9f3a\"],[0.8888888888888888,\"#fdca26\"],[1.0,\"#f0f921\"]]}],\"mesh3d\":[{\"type\":\"mesh3d\",\"colorbar\":{\"outlinewidth\":0,\"ticks\":\"\"}}],\"scatter\":[{\"marker\":{\"line\":{\"color\":\"#283442\"}},\"type\":\"scatter\"}],\"parcoords\":[{\"type\":\"parcoords\",\"line\":{\"colorbar\":{\"outlinewidth\":0,\"ticks\":\"\"}}}],\"scatterpolargl\":[{\"type\":\"scatterpolargl\",\"marker\":{\"colorbar\":{\"outlinewidth\":0,\"ticks\":\"\"}}}],\"bar\":[{\"error_x\":{\"color\":\"#f2f5fa\"},\"error_y\":{\"color\":\"#f2f5fa\"},\"marker\":{\"line\":{\"color\":\"rgb(17,17,17)\",\"width\":0.5},\"pattern\":{\"fillmode\":\"overlay\",\"size\":10,\"solidity\":0.2}},\"type\":\"bar\"}],\"scattergeo\":[{\"type\":\"scattergeo\",\"marker\":{\"colorbar\":{\"outlinewidth\":0,\"ticks\":\"\"}}}],\"scatterpolar\":[{\"type\":\"scatterpolar\",\"marker\":{\"colorbar\":{\"outlinewidth\":0,\"ticks\":\"\"}}}],\"histogram\":[{\"marker\":{\"pattern\":{\"fillmode\":\"overlay\",\"size\":10,\"solidity\":0.2}},\"type\":\"histogram\"}],\"scattergl\":[{\"marker\":{\"line\":{\"color\":\"#283442\"}},\"type\":\"scattergl\"}],\"scatter3d\":[{\"type\":\"scatter3d\",\"line\":{\"colorbar\":{\"outlinewidth\":0,\"ticks\":\"\"}},\"marker\":{\"colorbar\":{\"outlinewidth\":0,\"ticks\":\"\"}}}],\"scattermapbox\":[{\"type\":\"scattermapbox\",\"marker\":{\"colorbar\":{\"outlinewidth\":0,\"ticks\":\"\"}}}],\"scatterternary\":[{\"type\":\"scatterternary\",\"marker\":{\"colorbar\":{\"outlinewidth\":0,\"ticks\":\"\"}}}],\"scattercarpet\":[{\"type\":\"scattercarpet\",\"marker\":{\"colorbar\":{\"outlinewidth\":0,\"ticks\":\"\"}}}],\"carpet\":[{\"aaxis\":{\"endlinecolor\":\"#A2B1C6\",\"gridcolor\":\"#506784\",\"linecolor\":\"#506784\",\"minorgridcolor\":\"#506784\",\"startlinecolor\":\"#A2B1C6\"},\"baxis\":{\"endlinecolor\":\"#A2B1C6\",\"gridcolor\":\"#506784\",\"linecolor\":\"#506784\",\"minorgridcolor\":\"#506784\",\"startlinecolor\":\"#A2B1C6\"},\"type\":\"carpet\"}],\"table\":[{\"cells\":{\"fill\":{\"color\":\"#506784\"},\"line\":{\"color\":\"rgb(17,17,17)\"}},\"header\":{\"fill\":{\"color\":\"#2a3f5f\"},\"line\":{\"color\":\"rgb(17,17,17)\"}},\"type\":\"table\"}],\"barpolar\":[{\"marker\":{\"line\":{\"color\":\"rgb(17,17,17)\",\"width\":0.5},\"pattern\":{\"fillmode\":\"overlay\",\"size\":10,\"solidity\":0.2}},\"type\":\"barpolar\"}],\"pie\":[{\"automargin\":true,\"type\":\"pie\"}]},\"layout\":{\"autotypenumbers\":\"strict\",\"colorway\":[\"#636efa\",\"#EF553B\",\"#00cc96\",\"#ab63fa\",\"#FFA15A\",\"#19d3f3\",\"#FF6692\",\"#B6E880\",\"#FF97FF\",\"#FECB52\"],\"font\":{\"color\":\"#f2f5fa\"},\"hovermode\":\"closest\",\"hoverlabel\":{\"align\":\"left\"},\"paper_bgcolor\":\"rgb(17,17,17)\",\"plot_bgcolor\":\"rgb(17,17,17)\",\"polar\":{\"bgcolor\":\"rgb(17,17,17)\",\"angularaxis\":{\"gridcolor\":\"#506784\",\"linecolor\":\"#506784\",\"ticks\":\"\"},\"radialaxis\":{\"gridcolor\":\"#506784\",\"linecolor\":\"#506784\",\"ticks\":\"\"}},\"ternary\":{\"bgcolor\":\"rgb(17,17,17)\",\"aaxis\":{\"gridcolor\":\"#506784\",\"linecolor\":\"#506784\",\"ticks\":\"\"},\"baxis\":{\"gridcolor\":\"#506784\",\"linecolor\":\"#506784\",\"ticks\":\"\"},\"caxis\":{\"gridcolor\":\"#506784\",\"linecolor\":\"#506784\",\"ticks\":\"\"}},\"coloraxis\":{\"colorbar\":{\"outlinewidth\":0,\"ticks\":\"\"}},\"colorscale\":{\"sequential\":[[0.0,\"#0d0887\"],[0.1111111111111111,\"#46039f\"],[0.2222222222222222,\"#7201a8\"],[0.3333333333333333,\"#9c179e\"],[0.4444444444444444,\"#bd3786\"],[0.5555555555555556,\"#d8576b\"],[0.6666666666666666,\"#ed7953\"],[0.7777777777777778,\"#fb9f3a\"],[0.8888888888888888,\"#fdca26\"],[1.0,\"#f0f921\"]],\"sequentialminus\":[[0.0,\"#0d0887\"],[0.1111111111111111,\"#46039f\"],[0.2222222222222222,\"#7201a8\"],[0.3333333333333333,\"#9c179e\"],[0.4444444444444444,\"#bd3786\"],[0.5555555555555556,\"#d8576b\"],[0.6666666666666666,\"#ed7953\"],[0.7777777777777778,\"#fb9f3a\"],[0.8888888888888888,\"#fdca26\"],[1.0,\"#f0f921\"]],\"diverging\":[[0,\"#8e0152\"],[0.1,\"#c51b7d\"],[0.2,\"#de77ae\"],[0.3,\"#f1b6da\"],[0.4,\"#fde0ef\"],[0.5,\"#f7f7f7\"],[0.6,\"#e6f5d0\"],[0.7,\"#b8e186\"],[0.8,\"#7fbc41\"],[0.9,\"#4d9221\"],[1,\"#276419\"]]},\"xaxis\":{\"gridcolor\":\"#283442\",\"linecolor\":\"#506784\",\"ticks\":\"\",\"title\":{\"standoff\":15},\"zerolinecolor\":\"#283442\",\"automargin\":true,\"zerolinewidth\":2},\"yaxis\":{\"gridcolor\":\"#283442\",\"linecolor\":\"#506784\",\"ticks\":\"\",\"title\":{\"standoff\":15},\"zerolinecolor\":\"#283442\",\"automargin\":true,\"zerolinewidth\":2},\"scene\":{\"xaxis\":{\"backgroundcolor\":\"rgb(17,17,17)\",\"gridcolor\":\"#506784\",\"linecolor\":\"#506784\",\"showbackground\":true,\"ticks\":\"\",\"zerolinecolor\":\"#C8D4E3\",\"gridwidth\":2},\"yaxis\":{\"backgroundcolor\":\"rgb(17,17,17)\",\"gridcolor\":\"#506784\",\"linecolor\":\"#506784\",\"showbackground\":true,\"ticks\":\"\",\"zerolinecolor\":\"#C8D4E3\",\"gridwidth\":2},\"zaxis\":{\"backgroundcolor\":\"rgb(17,17,17)\",\"gridcolor\":\"#506784\",\"linecolor\":\"#506784\",\"showbackground\":true,\"ticks\":\"\",\"zerolinecolor\":\"#C8D4E3\",\"gridwidth\":2}},\"shapedefaults\":{\"line\":{\"color\":\"#f2f5fa\"}},\"annotationdefaults\":{\"arrowcolor\":\"#f2f5fa\",\"arrowhead\":0,\"arrowwidth\":1},\"geo\":{\"bgcolor\":\"rgb(17,17,17)\",\"landcolor\":\"rgb(17,17,17)\",\"subunitcolor\":\"#506784\",\"showland\":true,\"showlakes\":true,\"lakecolor\":\"rgb(17,17,17)\"},\"title\":{\"x\":0.05},\"updatemenudefaults\":{\"bgcolor\":\"#506784\",\"borderwidth\":0},\"sliderdefaults\":{\"bgcolor\":\"#C8D4E3\",\"borderwidth\":1,\"bordercolor\":\"rgb(17,17,17)\",\"tickwidth\":0},\"mapbox\":{\"style\":\"dark\"}}},\"xaxis\":{\"anchor\":\"y\",\"domain\":[0.0,1.0],\"title\":{\"text\":\"x\"}},\"yaxis\":{\"anchor\":\"x\",\"domain\":[0.0,1.0],\"title\":{\"text\":\"y\"}},\"legend\":{\"title\":{\"text\":\"color\"},\"tracegroupgap\":0},\"margin\":{\"t\":60},\"title\":{\"text\":\"Clustering top skills for Developer_full-stack\"},\"height\":900,\"width\":1500},                        {\"responsive\": true}                    ).then(function(){\n                            \nvar gd = document.getElementById('221250bb-4c75-452c-be4c-8f4e101178ab');\nvar x = new MutationObserver(function (mutations, observer) {{\n        var display = window.getComputedStyle(gd).display;\n        if (!display || display === 'none') {{\n            console.log([gd, 'removed!']);\n            Plotly.purge(gd);\n            observer.disconnect();\n        }}\n}});\n\n// Listen for the removal of the full notebook cells\nvar notebookContainer = gd.closest('#notebook-container');\nif (notebookContainer) {{\n    x.observe(notebookContainer, {childList: true});\n}}\n\n// Listen for the clearing of the current output cell\nvar outputEl = gd.closest('.output');\nif (outputEl) {{\n    x.observe(outputEl, {childList: true});\n}}\n\n                        })                };                });            </script>        </div>"
     },
     "metadata": {},
     "output_type": "display_data"
    }
   ],
   "source": [
    "full_stack_skills = choose_most_related_skills(split_roles[0])\n",
    "full_stack_tsne = reduce_dimensions(full_stack_skills)\n",
    "best_k, best_labels_full_stack = evaluate_cluster_model(full_stack_tsne, range_clusters=range(2,8), plot = True)\n",
    "visualize_chosen_cluster_model(split_roles[0], full_stack_tsne, best_labels_full_stack)"
   ],
   "metadata": {
    "collapsed": false
   }
  },
  {
   "cell_type": "code",
   "execution_count": 244,
   "outputs": [
    {
     "name": "stdout",
     "output_type": "stream",
     "text": [
      "cluster_0 ['ASP.NET', 'Blazor', 'Spring', 'Firebase Realtime Database', 'Rider', 'F#', 'IntelliJ', 'Firebase', 'Java', 'Cloud Firestore']\n",
      "cluster_1 ['jQuery', 'Laravel', 'PhpStorm', 'Symfony', 'PHP', 'MySQL']\n",
      "cluster_2 ['Angular', 'React.js', 'Express', 'Angular.js', 'Yarn', 'Node.js', 'Next.js', 'MongoDB', 'Gatsby']\n",
      "cluster_3 ['Ruby on Rails', 'Phoenix', 'Elixir', 'Ruby', 'Redis', 'PostgreSQL']\n",
      "cluster_4 ['ASP.NET Core ', 'C#', '.NET', 'Microsoft SQL Server', 'Visual Studio', 'Microsoft Azure']\n",
      "cluster_5 ['Vue.js', 'Svelte', 'Webstorm', 'Nuxt.js', 'Heroku', 'Deno', 'Electron', 'Fastify', 'React Native', 'Ionic', 'RubyMine', 'Capacitor', 'Cordova', 'DigitalOcean', 'Flow', 'Flutter']\n",
      "cluster_6 ['TypeScript', 'HTML/CSS', 'npm', 'JavaScript', 'SQL', 'Visual Studio Code']\n"
     ]
    }
   ],
   "source": [
    "for label in sorted(set(best_labels_full_stack)):\n",
    "    print(label, list(full_stack_tsne[best_labels_full_stack==label].index))\n"
   ],
   "metadata": {
    "collapsed": false
   }
  },
  {
   "cell_type": "code",
   "execution_count": 201,
   "outputs": [],
   "source": [
    "full_stack_types = ['full_stack_java', 'full_stack_php', 'full_stack_JavaScript', 'full_stack_Ruby-on-Rails', 'full_stack_.NET']"
   ],
   "metadata": {
    "collapsed": false
   }
  },
  {
   "cell_type": "code",
   "execution_count": 278,
   "outputs": [],
   "source": [
    "best_labels_full_stack_set = set(best_labels_full_stack)\n",
    "cluster_5_skills = list(full_stack_tsne[best_labels_full_stack=='cluster_5'].index)\n",
    "cluster_6_skills = list(full_stack_tsne[best_labels_full_stack=='cluster_6'].index)\n",
    "\n",
    "best_labels_full_stack_set.remove('cluster_5')\n",
    "best_labels_full_stack_set.remove('cluster_6')"
   ],
   "metadata": {
    "collapsed": false
   }
  },
  {
   "cell_type": "code",
   "execution_count": 317,
   "outputs": [
    {
     "name": "stdout",
     "output_type": "stream",
     "text": [
      "20928\n",
      "9952\n",
      "10533\n",
      "10700\n",
      "10245\n",
      "9442\n"
     ]
    }
   ],
   "source": [
    "is_full_stack = skills_dev_df['DevType']['Developer_full-stack'] == 1\n",
    "print(is_full_stack.sum())\n",
    "full_stack_roles = {}\n",
    "for i, label in enumerate(sorted(best_labels_full_stack_set)):\n",
    "    cluster_labels = list(full_stack_tsne[best_labels_full_stack==label].index)\n",
    "    if 'JavaScript' in cluster_labels : cluster_labels.remove('JavaScript')\n",
    "    if 'HTML/CSS' in cluster_labels : cluster_labels.remove('HTML/CSS')\n",
    "    total_skills = skills_dev_df.droplevel(level=0, axis = 1)[cluster_labels].sum(axis=1)\n",
    "    is_full_stack_specific_type = total_skills > total_skills.mean()\n",
    "    print((is_full_stack & is_full_stack_specific_type).sum())\n",
    "    full_stack_roles[full_stack_types[i]] = is_full_stack & is_full_stack_specific_type"
   ],
   "metadata": {
    "collapsed": false
   }
  },
  {
   "cell_type": "code",
   "execution_count": 318,
   "outputs": [
    {
     "data": {
      "text/plain": "       full_stack_java  full_stack_php  full_stack_JavaScript  \\\n2                False           False                  False   \n3                 True            True                   True   \n7                False           False                  False   \n9                False           False                  False   \n10               False           False                  False   \n...                ...             ...                    ...   \n73262            False           False                  False   \n73263            False           False                  False   \n73264            False           False                  False   \n73265             True            True                   True   \n73266            False           False                  False   \n\n       full_stack_Ruby-on-Rails  full_stack_.NET  Developer_full-stack  \n2                         False            False                 False  \n3                          True             True                  True  \n7                         False            False                  True  \n9                         False            False                 False  \n10                        False             True                  True  \n...                         ...              ...                   ...  \n73262                     False            False                 False  \n73263                     False            False                 False  \n73264                     False            False                 False  \n73265                      True             True                  True  \n73266                     False            False                 False  \n\n[50423 rows x 6 columns]",
      "text/html": "<div>\n<style scoped>\n    .dataframe tbody tr th:only-of-type {\n        vertical-align: middle;\n    }\n\n    .dataframe tbody tr th {\n        vertical-align: top;\n    }\n\n    .dataframe thead th {\n        text-align: right;\n    }\n</style>\n<table border=\"1\" class=\"dataframe\">\n  <thead>\n    <tr style=\"text-align: right;\">\n      <th></th>\n      <th>full_stack_java</th>\n      <th>full_stack_php</th>\n      <th>full_stack_JavaScript</th>\n      <th>full_stack_Ruby-on-Rails</th>\n      <th>full_stack_.NET</th>\n      <th>Developer_full-stack</th>\n    </tr>\n  </thead>\n  <tbody>\n    <tr>\n      <th>2</th>\n      <td>False</td>\n      <td>False</td>\n      <td>False</td>\n      <td>False</td>\n      <td>False</td>\n      <td>False</td>\n    </tr>\n    <tr>\n      <th>3</th>\n      <td>True</td>\n      <td>True</td>\n      <td>True</td>\n      <td>True</td>\n      <td>True</td>\n      <td>True</td>\n    </tr>\n    <tr>\n      <th>7</th>\n      <td>False</td>\n      <td>False</td>\n      <td>False</td>\n      <td>False</td>\n      <td>False</td>\n      <td>True</td>\n    </tr>\n    <tr>\n      <th>9</th>\n      <td>False</td>\n      <td>False</td>\n      <td>False</td>\n      <td>False</td>\n      <td>False</td>\n      <td>False</td>\n    </tr>\n    <tr>\n      <th>10</th>\n      <td>False</td>\n      <td>False</td>\n      <td>False</td>\n      <td>False</td>\n      <td>True</td>\n      <td>True</td>\n    </tr>\n    <tr>\n      <th>...</th>\n      <td>...</td>\n      <td>...</td>\n      <td>...</td>\n      <td>...</td>\n      <td>...</td>\n      <td>...</td>\n    </tr>\n    <tr>\n      <th>73262</th>\n      <td>False</td>\n      <td>False</td>\n      <td>False</td>\n      <td>False</td>\n      <td>False</td>\n      <td>False</td>\n    </tr>\n    <tr>\n      <th>73263</th>\n      <td>False</td>\n      <td>False</td>\n      <td>False</td>\n      <td>False</td>\n      <td>False</td>\n      <td>False</td>\n    </tr>\n    <tr>\n      <th>73264</th>\n      <td>False</td>\n      <td>False</td>\n      <td>False</td>\n      <td>False</td>\n      <td>False</td>\n      <td>False</td>\n    </tr>\n    <tr>\n      <th>73265</th>\n      <td>True</td>\n      <td>True</td>\n      <td>True</td>\n      <td>True</td>\n      <td>True</td>\n      <td>True</td>\n    </tr>\n    <tr>\n      <th>73266</th>\n      <td>False</td>\n      <td>False</td>\n      <td>False</td>\n      <td>False</td>\n      <td>False</td>\n      <td>False</td>\n    </tr>\n  </tbody>\n</table>\n<p>50423 rows × 6 columns</p>\n</div>"
     },
     "execution_count": 318,
     "metadata": {},
     "output_type": "execute_result"
    }
   ],
   "source": [
    "full_stack_roles2 = pd.concat(full_stack_roles, axis = 1)\n",
    "df = pd.concat([full_stack_roles2,is_full_stack], axis = 1)\n",
    "df\n"
   ],
   "metadata": {
    "collapsed": false
   }
  },
  {
   "cell_type": "code",
   "execution_count": 321,
   "outputs": [
    {
     "data": {
      "text/plain": "1440"
     },
     "execution_count": 321,
     "metadata": {},
     "output_type": "execute_result"
    }
   ],
   "source": [
    "(df.iloc[df['Developer_full-stack'].values,:5].sum(1) == 1).sum()"
   ],
   "metadata": {
    "collapsed": false
   }
  },
  {
   "cell_type": "code",
   "execution_count": 145,
   "outputs": [],
   "source": [],
   "metadata": {
    "collapsed": false
   }
  },
  {
   "cell_type": "markdown",
   "source": [
    "### B) Developer_back-end"
   ],
   "metadata": {
    "collapsed": false
   }
  },
  {
   "cell_type": "code",
   "execution_count": 326,
   "outputs": [
    {
     "data": {
      "application/vnd.plotly.v1+json": {
       "data": [
        {
         "hovertemplate": "x=%{x}<br>y=%{y}<extra></extra>",
         "legendgroup": "",
         "line": {
          "color": "#636efa",
          "dash": "solid"
         },
         "marker": {
          "symbol": "circle"
         },
         "mode": "lines",
         "name": "",
         "orientation": "v",
         "showlegend": false,
         "x": [
          2,
          3,
          4,
          5,
          6,
          7,
          8,
          9,
          10,
          11,
          12,
          13,
          14
         ],
         "xaxis": "x",
         "y": [
          0.33952853083610535,
          0.31164753437042236,
          0.3086564242839813,
          0.44183704257011414,
          0.4820869266986847,
          0.5264069437980652,
          0.5117632150650024,
          0.485762357711792,
          0.5080811381340027,
          0.46874484419822693,
          0.48867666721343994,
          0.4585849642753601,
          0.43629947304725647
         ],
         "yaxis": "y",
         "type": "scatter"
        }
       ],
       "layout": {
        "template": {
         "data": {
          "histogram2dcontour": [
           {
            "type": "histogram2dcontour",
            "colorbar": {
             "outlinewidth": 0,
             "ticks": ""
            },
            "colorscale": [
             [
              0.0,
              "#0d0887"
             ],
             [
              0.1111111111111111,
              "#46039f"
             ],
             [
              0.2222222222222222,
              "#7201a8"
             ],
             [
              0.3333333333333333,
              "#9c179e"
             ],
             [
              0.4444444444444444,
              "#bd3786"
             ],
             [
              0.5555555555555556,
              "#d8576b"
             ],
             [
              0.6666666666666666,
              "#ed7953"
             ],
             [
              0.7777777777777778,
              "#fb9f3a"
             ],
             [
              0.8888888888888888,
              "#fdca26"
             ],
             [
              1.0,
              "#f0f921"
             ]
            ]
           }
          ],
          "choropleth": [
           {
            "type": "choropleth",
            "colorbar": {
             "outlinewidth": 0,
             "ticks": ""
            }
           }
          ],
          "histogram2d": [
           {
            "type": "histogram2d",
            "colorbar": {
             "outlinewidth": 0,
             "ticks": ""
            },
            "colorscale": [
             [
              0.0,
              "#0d0887"
             ],
             [
              0.1111111111111111,
              "#46039f"
             ],
             [
              0.2222222222222222,
              "#7201a8"
             ],
             [
              0.3333333333333333,
              "#9c179e"
             ],
             [
              0.4444444444444444,
              "#bd3786"
             ],
             [
              0.5555555555555556,
              "#d8576b"
             ],
             [
              0.6666666666666666,
              "#ed7953"
             ],
             [
              0.7777777777777778,
              "#fb9f3a"
             ],
             [
              0.8888888888888888,
              "#fdca26"
             ],
             [
              1.0,
              "#f0f921"
             ]
            ]
           }
          ],
          "heatmap": [
           {
            "type": "heatmap",
            "colorbar": {
             "outlinewidth": 0,
             "ticks": ""
            },
            "colorscale": [
             [
              0.0,
              "#0d0887"
             ],
             [
              0.1111111111111111,
              "#46039f"
             ],
             [
              0.2222222222222222,
              "#7201a8"
             ],
             [
              0.3333333333333333,
              "#9c179e"
             ],
             [
              0.4444444444444444,
              "#bd3786"
             ],
             [
              0.5555555555555556,
              "#d8576b"
             ],
             [
              0.6666666666666666,
              "#ed7953"
             ],
             [
              0.7777777777777778,
              "#fb9f3a"
             ],
             [
              0.8888888888888888,
              "#fdca26"
             ],
             [
              1.0,
              "#f0f921"
             ]
            ]
           }
          ],
          "heatmapgl": [
           {
            "type": "heatmapgl",
            "colorbar": {
             "outlinewidth": 0,
             "ticks": ""
            },
            "colorscale": [
             [
              0.0,
              "#0d0887"
             ],
             [
              0.1111111111111111,
              "#46039f"
             ],
             [
              0.2222222222222222,
              "#7201a8"
             ],
             [
              0.3333333333333333,
              "#9c179e"
             ],
             [
              0.4444444444444444,
              "#bd3786"
             ],
             [
              0.5555555555555556,
              "#d8576b"
             ],
             [
              0.6666666666666666,
              "#ed7953"
             ],
             [
              0.7777777777777778,
              "#fb9f3a"
             ],
             [
              0.8888888888888888,
              "#fdca26"
             ],
             [
              1.0,
              "#f0f921"
             ]
            ]
           }
          ],
          "contourcarpet": [
           {
            "type": "contourcarpet",
            "colorbar": {
             "outlinewidth": 0,
             "ticks": ""
            }
           }
          ],
          "contour": [
           {
            "type": "contour",
            "colorbar": {
             "outlinewidth": 0,
             "ticks": ""
            },
            "colorscale": [
             [
              0.0,
              "#0d0887"
             ],
             [
              0.1111111111111111,
              "#46039f"
             ],
             [
              0.2222222222222222,
              "#7201a8"
             ],
             [
              0.3333333333333333,
              "#9c179e"
             ],
             [
              0.4444444444444444,
              "#bd3786"
             ],
             [
              0.5555555555555556,
              "#d8576b"
             ],
             [
              0.6666666666666666,
              "#ed7953"
             ],
             [
              0.7777777777777778,
              "#fb9f3a"
             ],
             [
              0.8888888888888888,
              "#fdca26"
             ],
             [
              1.0,
              "#f0f921"
             ]
            ]
           }
          ],
          "surface": [
           {
            "type": "surface",
            "colorbar": {
             "outlinewidth": 0,
             "ticks": ""
            },
            "colorscale": [
             [
              0.0,
              "#0d0887"
             ],
             [
              0.1111111111111111,
              "#46039f"
             ],
             [
              0.2222222222222222,
              "#7201a8"
             ],
             [
              0.3333333333333333,
              "#9c179e"
             ],
             [
              0.4444444444444444,
              "#bd3786"
             ],
             [
              0.5555555555555556,
              "#d8576b"
             ],
             [
              0.6666666666666666,
              "#ed7953"
             ],
             [
              0.7777777777777778,
              "#fb9f3a"
             ],
             [
              0.8888888888888888,
              "#fdca26"
             ],
             [
              1.0,
              "#f0f921"
             ]
            ]
           }
          ],
          "mesh3d": [
           {
            "type": "mesh3d",
            "colorbar": {
             "outlinewidth": 0,
             "ticks": ""
            }
           }
          ],
          "scatter": [
           {
            "marker": {
             "line": {
              "color": "#283442"
             }
            },
            "type": "scatter"
           }
          ],
          "parcoords": [
           {
            "type": "parcoords",
            "line": {
             "colorbar": {
              "outlinewidth": 0,
              "ticks": ""
             }
            }
           }
          ],
          "scatterpolargl": [
           {
            "type": "scatterpolargl",
            "marker": {
             "colorbar": {
              "outlinewidth": 0,
              "ticks": ""
             }
            }
           }
          ],
          "bar": [
           {
            "error_x": {
             "color": "#f2f5fa"
            },
            "error_y": {
             "color": "#f2f5fa"
            },
            "marker": {
             "line": {
              "color": "rgb(17,17,17)",
              "width": 0.5
             },
             "pattern": {
              "fillmode": "overlay",
              "size": 10,
              "solidity": 0.2
             }
            },
            "type": "bar"
           }
          ],
          "scattergeo": [
           {
            "type": "scattergeo",
            "marker": {
             "colorbar": {
              "outlinewidth": 0,
              "ticks": ""
             }
            }
           }
          ],
          "scatterpolar": [
           {
            "type": "scatterpolar",
            "marker": {
             "colorbar": {
              "outlinewidth": 0,
              "ticks": ""
             }
            }
           }
          ],
          "histogram": [
           {
            "marker": {
             "pattern": {
              "fillmode": "overlay",
              "size": 10,
              "solidity": 0.2
             }
            },
            "type": "histogram"
           }
          ],
          "scattergl": [
           {
            "marker": {
             "line": {
              "color": "#283442"
             }
            },
            "type": "scattergl"
           }
          ],
          "scatter3d": [
           {
            "type": "scatter3d",
            "line": {
             "colorbar": {
              "outlinewidth": 0,
              "ticks": ""
             }
            },
            "marker": {
             "colorbar": {
              "outlinewidth": 0,
              "ticks": ""
             }
            }
           }
          ],
          "scattermapbox": [
           {
            "type": "scattermapbox",
            "marker": {
             "colorbar": {
              "outlinewidth": 0,
              "ticks": ""
             }
            }
           }
          ],
          "scatterternary": [
           {
            "type": "scatterternary",
            "marker": {
             "colorbar": {
              "outlinewidth": 0,
              "ticks": ""
             }
            }
           }
          ],
          "scattercarpet": [
           {
            "type": "scattercarpet",
            "marker": {
             "colorbar": {
              "outlinewidth": 0,
              "ticks": ""
             }
            }
           }
          ],
          "carpet": [
           {
            "aaxis": {
             "endlinecolor": "#A2B1C6",
             "gridcolor": "#506784",
             "linecolor": "#506784",
             "minorgridcolor": "#506784",
             "startlinecolor": "#A2B1C6"
            },
            "baxis": {
             "endlinecolor": "#A2B1C6",
             "gridcolor": "#506784",
             "linecolor": "#506784",
             "minorgridcolor": "#506784",
             "startlinecolor": "#A2B1C6"
            },
            "type": "carpet"
           }
          ],
          "table": [
           {
            "cells": {
             "fill": {
              "color": "#506784"
             },
             "line": {
              "color": "rgb(17,17,17)"
             }
            },
            "header": {
             "fill": {
              "color": "#2a3f5f"
             },
             "line": {
              "color": "rgb(17,17,17)"
             }
            },
            "type": "table"
           }
          ],
          "barpolar": [
           {
            "marker": {
             "line": {
              "color": "rgb(17,17,17)",
              "width": 0.5
             },
             "pattern": {
              "fillmode": "overlay",
              "size": 10,
              "solidity": 0.2
             }
            },
            "type": "barpolar"
           }
          ],
          "pie": [
           {
            "automargin": true,
            "type": "pie"
           }
          ]
         },
         "layout": {
          "autotypenumbers": "strict",
          "colorway": [
           "#636efa",
           "#EF553B",
           "#00cc96",
           "#ab63fa",
           "#FFA15A",
           "#19d3f3",
           "#FF6692",
           "#B6E880",
           "#FF97FF",
           "#FECB52"
          ],
          "font": {
           "color": "#f2f5fa"
          },
          "hovermode": "closest",
          "hoverlabel": {
           "align": "left"
          },
          "paper_bgcolor": "rgb(17,17,17)",
          "plot_bgcolor": "rgb(17,17,17)",
          "polar": {
           "bgcolor": "rgb(17,17,17)",
           "angularaxis": {
            "gridcolor": "#506784",
            "linecolor": "#506784",
            "ticks": ""
           },
           "radialaxis": {
            "gridcolor": "#506784",
            "linecolor": "#506784",
            "ticks": ""
           }
          },
          "ternary": {
           "bgcolor": "rgb(17,17,17)",
           "aaxis": {
            "gridcolor": "#506784",
            "linecolor": "#506784",
            "ticks": ""
           },
           "baxis": {
            "gridcolor": "#506784",
            "linecolor": "#506784",
            "ticks": ""
           },
           "caxis": {
            "gridcolor": "#506784",
            "linecolor": "#506784",
            "ticks": ""
           }
          },
          "coloraxis": {
           "colorbar": {
            "outlinewidth": 0,
            "ticks": ""
           }
          },
          "colorscale": {
           "sequential": [
            [
             0.0,
             "#0d0887"
            ],
            [
             0.1111111111111111,
             "#46039f"
            ],
            [
             0.2222222222222222,
             "#7201a8"
            ],
            [
             0.3333333333333333,
             "#9c179e"
            ],
            [
             0.4444444444444444,
             "#bd3786"
            ],
            [
             0.5555555555555556,
             "#d8576b"
            ],
            [
             0.6666666666666666,
             "#ed7953"
            ],
            [
             0.7777777777777778,
             "#fb9f3a"
            ],
            [
             0.8888888888888888,
             "#fdca26"
            ],
            [
             1.0,
             "#f0f921"
            ]
           ],
           "sequentialminus": [
            [
             0.0,
             "#0d0887"
            ],
            [
             0.1111111111111111,
             "#46039f"
            ],
            [
             0.2222222222222222,
             "#7201a8"
            ],
            [
             0.3333333333333333,
             "#9c179e"
            ],
            [
             0.4444444444444444,
             "#bd3786"
            ],
            [
             0.5555555555555556,
             "#d8576b"
            ],
            [
             0.6666666666666666,
             "#ed7953"
            ],
            [
             0.7777777777777778,
             "#fb9f3a"
            ],
            [
             0.8888888888888888,
             "#fdca26"
            ],
            [
             1.0,
             "#f0f921"
            ]
           ],
           "diverging": [
            [
             0,
             "#8e0152"
            ],
            [
             0.1,
             "#c51b7d"
            ],
            [
             0.2,
             "#de77ae"
            ],
            [
             0.3,
             "#f1b6da"
            ],
            [
             0.4,
             "#fde0ef"
            ],
            [
             0.5,
             "#f7f7f7"
            ],
            [
             0.6,
             "#e6f5d0"
            ],
            [
             0.7,
             "#b8e186"
            ],
            [
             0.8,
             "#7fbc41"
            ],
            [
             0.9,
             "#4d9221"
            ],
            [
             1,
             "#276419"
            ]
           ]
          },
          "xaxis": {
           "gridcolor": "#283442",
           "linecolor": "#506784",
           "ticks": "",
           "title": {
            "standoff": 15
           },
           "zerolinecolor": "#283442",
           "automargin": true,
           "zerolinewidth": 2
          },
          "yaxis": {
           "gridcolor": "#283442",
           "linecolor": "#506784",
           "ticks": "",
           "title": {
            "standoff": 15
           },
           "zerolinecolor": "#283442",
           "automargin": true,
           "zerolinewidth": 2
          },
          "scene": {
           "xaxis": {
            "backgroundcolor": "rgb(17,17,17)",
            "gridcolor": "#506784",
            "linecolor": "#506784",
            "showbackground": true,
            "ticks": "",
            "zerolinecolor": "#C8D4E3",
            "gridwidth": 2
           },
           "yaxis": {
            "backgroundcolor": "rgb(17,17,17)",
            "gridcolor": "#506784",
            "linecolor": "#506784",
            "showbackground": true,
            "ticks": "",
            "zerolinecolor": "#C8D4E3",
            "gridwidth": 2
           },
           "zaxis": {
            "backgroundcolor": "rgb(17,17,17)",
            "gridcolor": "#506784",
            "linecolor": "#506784",
            "showbackground": true,
            "ticks": "",
            "zerolinecolor": "#C8D4E3",
            "gridwidth": 2
           }
          },
          "shapedefaults": {
           "line": {
            "color": "#f2f5fa"
           }
          },
          "annotationdefaults": {
           "arrowcolor": "#f2f5fa",
           "arrowhead": 0,
           "arrowwidth": 1
          },
          "geo": {
           "bgcolor": "rgb(17,17,17)",
           "landcolor": "rgb(17,17,17)",
           "subunitcolor": "#506784",
           "showland": true,
           "showlakes": true,
           "lakecolor": "rgb(17,17,17)"
          },
          "title": {
           "x": 0.05
          },
          "updatemenudefaults": {
           "bgcolor": "#506784",
           "borderwidth": 0
          },
          "sliderdefaults": {
           "bgcolor": "#C8D4E3",
           "borderwidth": 1,
           "bordercolor": "rgb(17,17,17)",
           "tickwidth": 0
          },
          "mapbox": {
           "style": "dark"
          }
         }
        },
        "xaxis": {
         "anchor": "y",
         "domain": [
          0.0,
          1.0
         ],
         "title": {
          "text": "x"
         }
        },
        "yaxis": {
         "anchor": "x",
         "domain": [
          0.0,
          1.0
         ],
         "title": {
          "text": "y"
         }
        },
        "legend": {
         "tracegroupgap": 0
        },
        "margin": {
         "t": 60
        },
        "shapes": [
         {
          "type": "line",
          "x0": 7,
          "x1": 7,
          "xref": "x",
          "y0": 0,
          "y1": 1,
          "yref": "y domain"
         }
        ],
        "height": 450,
        "width": 900,
        "title": {
         "text": "Silhouette Score"
        }
       },
       "config": {
        "plotlyServerURL": "https://plot.ly"
       }
      },
      "text/html": "<div>                            <div id=\"a72ff0e4-5739-4a33-acf9-2698d1c487d5\" class=\"plotly-graph-div\" style=\"height:450px; width:900px;\"></div>            <script type=\"text/javascript\">                require([\"plotly\"], function(Plotly) {                    window.PLOTLYENV=window.PLOTLYENV || {};                                    if (document.getElementById(\"a72ff0e4-5739-4a33-acf9-2698d1c487d5\")) {                    Plotly.newPlot(                        \"a72ff0e4-5739-4a33-acf9-2698d1c487d5\",                        [{\"hovertemplate\":\"x=%{x}<br>y=%{y}<extra></extra>\",\"legendgroup\":\"\",\"line\":{\"color\":\"#636efa\",\"dash\":\"solid\"},\"marker\":{\"symbol\":\"circle\"},\"mode\":\"lines\",\"name\":\"\",\"orientation\":\"v\",\"showlegend\":false,\"x\":[2,3,4,5,6,7,8,9,10,11,12,13,14],\"xaxis\":\"x\",\"y\":[0.33952853083610535,0.31164753437042236,0.3086564242839813,0.44183704257011414,0.4820869266986847,0.5264069437980652,0.5117632150650024,0.485762357711792,0.5080811381340027,0.46874484419822693,0.48867666721343994,0.4585849642753601,0.43629947304725647],\"yaxis\":\"y\",\"type\":\"scatter\"}],                        {\"template\":{\"data\":{\"histogram2dcontour\":[{\"type\":\"histogram2dcontour\",\"colorbar\":{\"outlinewidth\":0,\"ticks\":\"\"},\"colorscale\":[[0.0,\"#0d0887\"],[0.1111111111111111,\"#46039f\"],[0.2222222222222222,\"#7201a8\"],[0.3333333333333333,\"#9c179e\"],[0.4444444444444444,\"#bd3786\"],[0.5555555555555556,\"#d8576b\"],[0.6666666666666666,\"#ed7953\"],[0.7777777777777778,\"#fb9f3a\"],[0.8888888888888888,\"#fdca26\"],[1.0,\"#f0f921\"]]}],\"choropleth\":[{\"type\":\"choropleth\",\"colorbar\":{\"outlinewidth\":0,\"ticks\":\"\"}}],\"histogram2d\":[{\"type\":\"histogram2d\",\"colorbar\":{\"outlinewidth\":0,\"ticks\":\"\"},\"colorscale\":[[0.0,\"#0d0887\"],[0.1111111111111111,\"#46039f\"],[0.2222222222222222,\"#7201a8\"],[0.3333333333333333,\"#9c179e\"],[0.4444444444444444,\"#bd3786\"],[0.5555555555555556,\"#d8576b\"],[0.6666666666666666,\"#ed7953\"],[0.7777777777777778,\"#fb9f3a\"],[0.8888888888888888,\"#fdca26\"],[1.0,\"#f0f921\"]]}],\"heatmap\":[{\"type\":\"heatmap\",\"colorbar\":{\"outlinewidth\":0,\"ticks\":\"\"},\"colorscale\":[[0.0,\"#0d0887\"],[0.1111111111111111,\"#46039f\"],[0.2222222222222222,\"#7201a8\"],[0.3333333333333333,\"#9c179e\"],[0.4444444444444444,\"#bd3786\"],[0.5555555555555556,\"#d8576b\"],[0.6666666666666666,\"#ed7953\"],[0.7777777777777778,\"#fb9f3a\"],[0.8888888888888888,\"#fdca26\"],[1.0,\"#f0f921\"]]}],\"heatmapgl\":[{\"type\":\"heatmapgl\",\"colorbar\":{\"outlinewidth\":0,\"ticks\":\"\"},\"colorscale\":[[0.0,\"#0d0887\"],[0.1111111111111111,\"#46039f\"],[0.2222222222222222,\"#7201a8\"],[0.3333333333333333,\"#9c179e\"],[0.4444444444444444,\"#bd3786\"],[0.5555555555555556,\"#d8576b\"],[0.6666666666666666,\"#ed7953\"],[0.7777777777777778,\"#fb9f3a\"],[0.8888888888888888,\"#fdca26\"],[1.0,\"#f0f921\"]]}],\"contourcarpet\":[{\"type\":\"contourcarpet\",\"colorbar\":{\"outlinewidth\":0,\"ticks\":\"\"}}],\"contour\":[{\"type\":\"contour\",\"colorbar\":{\"outlinewidth\":0,\"ticks\":\"\"},\"colorscale\":[[0.0,\"#0d0887\"],[0.1111111111111111,\"#46039f\"],[0.2222222222222222,\"#7201a8\"],[0.3333333333333333,\"#9c179e\"],[0.4444444444444444,\"#bd3786\"],[0.5555555555555556,\"#d8576b\"],[0.6666666666666666,\"#ed7953\"],[0.7777777777777778,\"#fb9f3a\"],[0.8888888888888888,\"#fdca26\"],[1.0,\"#f0f921\"]]}],\"surface\":[{\"type\":\"surface\",\"colorbar\":{\"outlinewidth\":0,\"ticks\":\"\"},\"colorscale\":[[0.0,\"#0d0887\"],[0.1111111111111111,\"#46039f\"],[0.2222222222222222,\"#7201a8\"],[0.3333333333333333,\"#9c179e\"],[0.4444444444444444,\"#bd3786\"],[0.5555555555555556,\"#d8576b\"],[0.6666666666666666,\"#ed7953\"],[0.7777777777777778,\"#fb9f3a\"],[0.8888888888888888,\"#fdca26\"],[1.0,\"#f0f921\"]]}],\"mesh3d\":[{\"type\":\"mesh3d\",\"colorbar\":{\"outlinewidth\":0,\"ticks\":\"\"}}],\"scatter\":[{\"marker\":{\"line\":{\"color\":\"#283442\"}},\"type\":\"scatter\"}],\"parcoords\":[{\"type\":\"parcoords\",\"line\":{\"colorbar\":{\"outlinewidth\":0,\"ticks\":\"\"}}}],\"scatterpolargl\":[{\"type\":\"scatterpolargl\",\"marker\":{\"colorbar\":{\"outlinewidth\":0,\"ticks\":\"\"}}}],\"bar\":[{\"error_x\":{\"color\":\"#f2f5fa\"},\"error_y\":{\"color\":\"#f2f5fa\"},\"marker\":{\"line\":{\"color\":\"rgb(17,17,17)\",\"width\":0.5},\"pattern\":{\"fillmode\":\"overlay\",\"size\":10,\"solidity\":0.2}},\"type\":\"bar\"}],\"scattergeo\":[{\"type\":\"scattergeo\",\"marker\":{\"colorbar\":{\"outlinewidth\":0,\"ticks\":\"\"}}}],\"scatterpolar\":[{\"type\":\"scatterpolar\",\"marker\":{\"colorbar\":{\"outlinewidth\":0,\"ticks\":\"\"}}}],\"histogram\":[{\"marker\":{\"pattern\":{\"fillmode\":\"overlay\",\"size\":10,\"solidity\":0.2}},\"type\":\"histogram\"}],\"scattergl\":[{\"marker\":{\"line\":{\"color\":\"#283442\"}},\"type\":\"scattergl\"}],\"scatter3d\":[{\"type\":\"scatter3d\",\"line\":{\"colorbar\":{\"outlinewidth\":0,\"ticks\":\"\"}},\"marker\":{\"colorbar\":{\"outlinewidth\":0,\"ticks\":\"\"}}}],\"scattermapbox\":[{\"type\":\"scattermapbox\",\"marker\":{\"colorbar\":{\"outlinewidth\":0,\"ticks\":\"\"}}}],\"scatterternary\":[{\"type\":\"scatterternary\",\"marker\":{\"colorbar\":{\"outlinewidth\":0,\"ticks\":\"\"}}}],\"scattercarpet\":[{\"type\":\"scattercarpet\",\"marker\":{\"colorbar\":{\"outlinewidth\":0,\"ticks\":\"\"}}}],\"carpet\":[{\"aaxis\":{\"endlinecolor\":\"#A2B1C6\",\"gridcolor\":\"#506784\",\"linecolor\":\"#506784\",\"minorgridcolor\":\"#506784\",\"startlinecolor\":\"#A2B1C6\"},\"baxis\":{\"endlinecolor\":\"#A2B1C6\",\"gridcolor\":\"#506784\",\"linecolor\":\"#506784\",\"minorgridcolor\":\"#506784\",\"startlinecolor\":\"#A2B1C6\"},\"type\":\"carpet\"}],\"table\":[{\"cells\":{\"fill\":{\"color\":\"#506784\"},\"line\":{\"color\":\"rgb(17,17,17)\"}},\"header\":{\"fill\":{\"color\":\"#2a3f5f\"},\"line\":{\"color\":\"rgb(17,17,17)\"}},\"type\":\"table\"}],\"barpolar\":[{\"marker\":{\"line\":{\"color\":\"rgb(17,17,17)\",\"width\":0.5},\"pattern\":{\"fillmode\":\"overlay\",\"size\":10,\"solidity\":0.2}},\"type\":\"barpolar\"}],\"pie\":[{\"automargin\":true,\"type\":\"pie\"}]},\"layout\":{\"autotypenumbers\":\"strict\",\"colorway\":[\"#636efa\",\"#EF553B\",\"#00cc96\",\"#ab63fa\",\"#FFA15A\",\"#19d3f3\",\"#FF6692\",\"#B6E880\",\"#FF97FF\",\"#FECB52\"],\"font\":{\"color\":\"#f2f5fa\"},\"hovermode\":\"closest\",\"hoverlabel\":{\"align\":\"left\"},\"paper_bgcolor\":\"rgb(17,17,17)\",\"plot_bgcolor\":\"rgb(17,17,17)\",\"polar\":{\"bgcolor\":\"rgb(17,17,17)\",\"angularaxis\":{\"gridcolor\":\"#506784\",\"linecolor\":\"#506784\",\"ticks\":\"\"},\"radialaxis\":{\"gridcolor\":\"#506784\",\"linecolor\":\"#506784\",\"ticks\":\"\"}},\"ternary\":{\"bgcolor\":\"rgb(17,17,17)\",\"aaxis\":{\"gridcolor\":\"#506784\",\"linecolor\":\"#506784\",\"ticks\":\"\"},\"baxis\":{\"gridcolor\":\"#506784\",\"linecolor\":\"#506784\",\"ticks\":\"\"},\"caxis\":{\"gridcolor\":\"#506784\",\"linecolor\":\"#506784\",\"ticks\":\"\"}},\"coloraxis\":{\"colorbar\":{\"outlinewidth\":0,\"ticks\":\"\"}},\"colorscale\":{\"sequential\":[[0.0,\"#0d0887\"],[0.1111111111111111,\"#46039f\"],[0.2222222222222222,\"#7201a8\"],[0.3333333333333333,\"#9c179e\"],[0.4444444444444444,\"#bd3786\"],[0.5555555555555556,\"#d8576b\"],[0.6666666666666666,\"#ed7953\"],[0.7777777777777778,\"#fb9f3a\"],[0.8888888888888888,\"#fdca26\"],[1.0,\"#f0f921\"]],\"sequentialminus\":[[0.0,\"#0d0887\"],[0.1111111111111111,\"#46039f\"],[0.2222222222222222,\"#7201a8\"],[0.3333333333333333,\"#9c179e\"],[0.4444444444444444,\"#bd3786\"],[0.5555555555555556,\"#d8576b\"],[0.6666666666666666,\"#ed7953\"],[0.7777777777777778,\"#fb9f3a\"],[0.8888888888888888,\"#fdca26\"],[1.0,\"#f0f921\"]],\"diverging\":[[0,\"#8e0152\"],[0.1,\"#c51b7d\"],[0.2,\"#de77ae\"],[0.3,\"#f1b6da\"],[0.4,\"#fde0ef\"],[0.5,\"#f7f7f7\"],[0.6,\"#e6f5d0\"],[0.7,\"#b8e186\"],[0.8,\"#7fbc41\"],[0.9,\"#4d9221\"],[1,\"#276419\"]]},\"xaxis\":{\"gridcolor\":\"#283442\",\"linecolor\":\"#506784\",\"ticks\":\"\",\"title\":{\"standoff\":15},\"zerolinecolor\":\"#283442\",\"automargin\":true,\"zerolinewidth\":2},\"yaxis\":{\"gridcolor\":\"#283442\",\"linecolor\":\"#506784\",\"ticks\":\"\",\"title\":{\"standoff\":15},\"zerolinecolor\":\"#283442\",\"automargin\":true,\"zerolinewidth\":2},\"scene\":{\"xaxis\":{\"backgroundcolor\":\"rgb(17,17,17)\",\"gridcolor\":\"#506784\",\"linecolor\":\"#506784\",\"showbackground\":true,\"ticks\":\"\",\"zerolinecolor\":\"#C8D4E3\",\"gridwidth\":2},\"yaxis\":{\"backgroundcolor\":\"rgb(17,17,17)\",\"gridcolor\":\"#506784\",\"linecolor\":\"#506784\",\"showbackground\":true,\"ticks\":\"\",\"zerolinecolor\":\"#C8D4E3\",\"gridwidth\":2},\"zaxis\":{\"backgroundcolor\":\"rgb(17,17,17)\",\"gridcolor\":\"#506784\",\"linecolor\":\"#506784\",\"showbackground\":true,\"ticks\":\"\",\"zerolinecolor\":\"#C8D4E3\",\"gridwidth\":2}},\"shapedefaults\":{\"line\":{\"color\":\"#f2f5fa\"}},\"annotationdefaults\":{\"arrowcolor\":\"#f2f5fa\",\"arrowhead\":0,\"arrowwidth\":1},\"geo\":{\"bgcolor\":\"rgb(17,17,17)\",\"landcolor\":\"rgb(17,17,17)\",\"subunitcolor\":\"#506784\",\"showland\":true,\"showlakes\":true,\"lakecolor\":\"rgb(17,17,17)\"},\"title\":{\"x\":0.05},\"updatemenudefaults\":{\"bgcolor\":\"#506784\",\"borderwidth\":0},\"sliderdefaults\":{\"bgcolor\":\"#C8D4E3\",\"borderwidth\":1,\"bordercolor\":\"rgb(17,17,17)\",\"tickwidth\":0},\"mapbox\":{\"style\":\"dark\"}}},\"xaxis\":{\"anchor\":\"y\",\"domain\":[0.0,1.0],\"title\":{\"text\":\"x\"}},\"yaxis\":{\"anchor\":\"x\",\"domain\":[0.0,1.0],\"title\":{\"text\":\"y\"}},\"legend\":{\"tracegroupgap\":0},\"margin\":{\"t\":60},\"shapes\":[{\"type\":\"line\",\"x0\":7,\"x1\":7,\"xref\":\"x\",\"y0\":0,\"y1\":1,\"yref\":\"y domain\"}],\"height\":450,\"width\":900,\"title\":{\"text\":\"Silhouette Score\"}},                        {\"responsive\": true}                    ).then(function(){\n                            \nvar gd = document.getElementById('a72ff0e4-5739-4a33-acf9-2698d1c487d5');\nvar x = new MutationObserver(function (mutations, observer) {{\n        var display = window.getComputedStyle(gd).display;\n        if (!display || display === 'none') {{\n            console.log([gd, 'removed!']);\n            Plotly.purge(gd);\n            observer.disconnect();\n        }}\n}});\n\n// Listen for the removal of the full notebook cells\nvar notebookContainer = gd.closest('#notebook-container');\nif (notebookContainer) {{\n    x.observe(notebookContainer, {childList: true});\n}}\n\n// Listen for the clearing of the current output cell\nvar outputEl = gd.closest('.output');\nif (outputEl) {{\n    x.observe(outputEl, {childList: true});\n}}\n\n                        })                };                });            </script>        </div>"
     },
     "metadata": {},
     "output_type": "display_data"
    },
    {
     "data": {
      "text/plain": "<Figure size 640x480 with 1 Axes>",
      "image/png": "[encoded data removed]"
     },
     "metadata": {},
     "output_type": "display_data"
    },
    {
     "data": {
      "application/vnd.plotly.v1+json": {
       "data": [
        {
         "hovertemplate": "color=cluster_1<br>x=%{x}<br>y=%{y}<br>text=%{text}<extra></extra>",
         "legendgroup": "cluster_1",
         "marker": {
          "color": "#2E91E5",
          "symbol": "circle"
         },
         "mode": "markers+text",
         "name": "cluster_1",
         "orientation": "v",
         "showlegend": true,
         "text": [
          "Spring",
          "IntelliJ",
          "Java",
          "Kotlin"
         ],
         "x": [
          -3.5243189334869385,
          -4.2336883544921875,
          -3.9290974140167236,
          -2.706878900527954
         ],
         "xaxis": "x",
         "y": [
          -18.324586868286133,
          -20.803146362304688,
          -19.781160354614258,
          -15.268670082092285
         ],
         "yaxis": "y",
         "type": "scatter",
         "textposition": "top center"
        },
        {
         "hovertemplate": "color=cluster_3<br>x=%{x}<br>y=%{y}<br>text=%{text}<extra></extra>",
         "legendgroup": "cluster_3",
         "marker": {
          "color": "#E15F99",
          "symbol": "circle"
         },
         "mode": "markers+text",
         "name": "cluster_3",
         "orientation": "v",
         "showlegend": true,
         "text": [
          "PhpStorm",
          "Laravel",
          "Symfony",
          "MySQL",
          "PHP",
          "MariaDB",
          "Vue.js"
         ],
         "x": [
          9.746402740478516,
          9.944208145141602,
          6.639772891998291,
          11.410880088806152,
          10.83342456817627,
          6.254241943359375,
          10.2077054977417
         ],
         "xaxis": "x",
         "y": [
          -12.54002857208252,
          -11.017110824584961,
          -11.10690689086914,
          -15.83802318572998,
          -14.218929290771484,
          -12.76584243774414,
          -7.595121383666992
         ],
         "yaxis": "y",
         "type": "scatter",
         "textposition": "top center"
        },
        {
         "hovertemplate": "color=cluster_4<br>x=%{x}<br>y=%{y}<br>text=%{text}<extra></extra>",
         "legendgroup": "cluster_4",
         "marker": {
          "color": "#1CA71C",
          "symbol": "circle"
         },
         "mode": "markers+text",
         "name": "cluster_4",
         "orientation": "v",
         "showlegend": true,
         "text": [
          "Apache Kafka",
          "MongoDB",
          "Redis",
          "Cassandra",
          "GoLand",
          "PostgreSQL",
          "Docker",
          "Elasticsearch",
          "Kubernetes",
          "AWS",
          "Go"
         ],
         "x": [
          -8.177135467529297,
          -3.3084797859191895,
          -12.863218307495117,
          -8.805950164794922,
          -8.277254104614258,
          -13.989611625671387,
          -9.960412979125977,
          -11.1641263961792,
          -8.959309577941895,
          -13.922186851501465,
          -9.780192375183105
         ],
         "xaxis": "x",
         "y": [
          7.3399763107299805,
          3.4912877082824707,
          6.000455379486084,
          5.282346725463867,
          -2.3151516914367676,
          8.278670310974121,
          11.137001991271973,
          5.056812286376953,
          9.476216316223145,
          9.814352989196777,
          -1.9028187990188599
         ],
         "yaxis": "y",
         "type": "scatter",
         "textposition": "top center"
        },
        {
         "hovertemplate": "color=cluster_2<br>x=%{x}<br>y=%{y}<br>text=%{text}<extra></extra>",
         "legendgroup": "cluster_2",
         "marker": {
          "color": "#FB0D0D",
          "symbol": "circle"
         },
         "mode": "markers+text",
         "name": "cluster_2",
         "orientation": "v",
         "showlegend": true,
         "text": [
          "RubyMine",
          "Clojure",
          "Play Framework",
          "Erlang",
          "F#",
          "Rider",
          "Oracle",
          "Heroku",
          "IBM DB2",
          "DynamoDB",
          "Scala",
          "Sublime Text",
          "Django",
          "Groovy",
          "Eclipse",
          "Express",
          "Crystal",
          "Neovim",
          "Webstorm"
         ],
         "x": [
          -1.731768012046814,
          2.8945653438568115,
          0.056625835597515106,
          0.04935706406831741,
          4.600437641143799,
          5.977425575256348,
          5.027039051055908,
          -4.858921527862549,
          6.2462286949157715,
          -1.1065526008605957,
          -4.191793441772461,
          -2.464787006378174,
          1.4358934164047241,
          -1.591403841972351,
          8.149614334106445,
          -0.043777015060186386,
          1.004516363143921,
          2.281473159790039,
          1.4328051805496216
         ],
         "xaxis": "x",
         "y": [
          -5.410144805908203,
          -1.8609620332717896,
          -1.9094659090042114,
          -3.8527638912200928,
          0.3883059620857239,
          1.860426902770996,
          -5.851430892944336,
          -6.0609869956970215,
          -3.371833324432373,
          -0.31742969155311584,
          -0.18629509210586548,
          -2.7138912677764893,
          -7.093771934509277,
          -9.163366317749023,
          -3.0124475955963135,
          3.4620471000671387,
          -2.585179328918457,
          -4.1847662925720215,
          0.4179890751838684
         ],
         "yaxis": "y",
         "type": "scatter",
         "textposition": "top center"
        },
        {
         "hovertemplate": "color=cluster_6<br>x=%{x}<br>y=%{y}<br>text=%{text}<extra></extra>",
         "legendgroup": "cluster_6",
         "marker": {
          "color": "#DA16FF",
          "symbol": "circle"
         },
         "mode": "markers+text",
         "name": "cluster_6",
         "orientation": "v",
         "showlegend": true,
         "text": [
          "ASP.NET Core ",
          "Blazor",
          "ASP.NET",
          ".NET",
          "C#",
          "Microsoft SQL Server"
         ],
         "x": [
          19.368305206298828,
          11.391149520874023,
          12.927700996398926,
          20.14520835876465,
          20.4929141998291,
          19.894323348999023
         ],
         "xaxis": "x",
         "y": [
          7.861212253570557,
          2.349915027618408,
          3.158087730407715,
          9.11877155303955,
          9.936301231384277,
          11.505351066589355
         ],
         "yaxis": "y",
         "type": "scatter",
         "textposition": "top center"
        },
        {
         "hovertemplate": "color=cluster_5<br>x=%{x}<br>y=%{y}<br>text=%{text}<extra></extra>",
         "legendgroup": "cluster_5",
         "marker": {
          "color": "#222A2A",
          "symbol": "circle"
         },
         "mode": "markers+text",
         "name": "cluster_5",
         "orientation": "v",
         "showlegend": true,
         "text": [
          "Ruby on Rails",
          "Elixir",
          "Phoenix",
          "Homebrew",
          "Ruby"
         ],
         "x": [
          -17.426898956298828,
          -12.083911895751953,
          -11.254700660705566,
          -14.70766830444336,
          -18.283483505249023
         ],
         "xaxis": "x",
         "y": [
          -10.696602821350098,
          -9.82593822479248,
          -9.60837173461914,
          -10.423038482666016,
          -10.800176620483398
         ],
         "yaxis": "y",
         "type": "scatter",
         "textposition": "top center"
        },
        {
         "hovertemplate": "color=cluster_0<br>x=%{x}<br>y=%{y}<br>text=%{text}<extra></extra>",
         "legendgroup": "cluster_0",
         "marker": {
          "color": "#B68100",
          "symbol": "circle"
         },
         "mode": "markers+text",
         "name": "cluster_0",
         "orientation": "v",
         "showlegend": true,
         "text": [
          "SQL",
          "Angular",
          "npm",
          "TypeScript",
          "Visual Studio Code",
          "React.js",
          "jQuery",
          "Angular.js",
          "JavaScript",
          "Yarn"
         ],
         "x": [
          3.956390857696533,
          5.755372524261475,
          3.5267105102539062,
          4.316331386566162,
          0.4065055847167969,
          1.3220187425613403,
          8.381179809570312,
          6.729689121246338,
          2.8084299564361572,
          2.270934581756592
         ],
         "xaxis": "x",
         "y": [
          19.671756744384766,
          12.43547534942627,
          15.994377136230469,
          14.715723991394043,
          18.126434326171875,
          7.777041435241699,
          9.73965072631836,
          10.688752174377441,
          17.785566329956055,
          6.281544208526611
         ],
         "yaxis": "y",
         "type": "scatter",
         "textposition": "top center"
        }
       ],
       "layout": {
        "template": {
         "data": {
          "histogram2dcontour": [
           {
            "type": "histogram2dcontour",
            "colorbar": {
             "outlinewidth": 0,
             "ticks": ""
            },
            "colorscale": [
             [
              0.0,
              "#0d0887"
             ],
             [
              0.1111111111111111,
              "#46039f"
             ],
             [
              0.2222222222222222,
              "#7201a8"
             ],
             [
              0.3333333333333333,
              "#9c179e"
             ],
             [
              0.4444444444444444,
              "#bd3786"
             ],
             [
              0.5555555555555556,
              "#d8576b"
             ],
             [
              0.6666666666666666,
              "#ed7953"
             ],
             [
              0.7777777777777778,
              "#fb9f3a"
             ],
             [
              0.8888888888888888,
              "#fdca26"
             ],
             [
              1.0,
              "#f0f921"
             ]
            ]
           }
          ],
          "choropleth": [
           {
            "type": "choropleth",
            "colorbar": {
             "outlinewidth": 0,
             "ticks": ""
            }
           }
          ],
          "histogram2d": [
           {
            "type": "histogram2d",
            "colorbar": {
             "outlinewidth": 0,
             "ticks": ""
            },
            "colorscale": [
             [
              0.0,
              "#0d0887"
             ],
             [
              0.1111111111111111,
              "#46039f"
             ],
             [
              0.2222222222222222,
              "#7201a8"
             ],
             [
              0.3333333333333333,
              "#9c179e"
             ],
             [
              0.4444444444444444,
              "#bd3786"
             ],
             [
              0.5555555555555556,
              "#d8576b"
             ],
             [
              0.6666666666666666,
              "#ed7953"
             ],
             [
              0.7777777777777778,
              "#fb9f3a"
             ],
             [
              0.8888888888888888,
              "#fdca26"
             ],
             [
              1.0,
              "#f0f921"
             ]
            ]
           }
          ],
          "heatmap": [
           {
            "type": "heatmap",
            "colorbar": {
             "outlinewidth": 0,
             "ticks": ""
            },
            "colorscale": [
             [
              0.0,
              "#0d0887"
             ],
             [
              0.1111111111111111,
              "#46039f"
             ],
             [
              0.2222222222222222,
              "#7201a8"
             ],
             [
              0.3333333333333333,
              "#9c179e"
             ],
             [
              0.4444444444444444,
              "#bd3786"
             ],
             [
              0.5555555555555556,
              "#d8576b"
             ],
             [
              0.6666666666666666,
              "#ed7953"
             ],
             [
              0.7777777777777778,
              "#fb9f3a"
             ],
             [
              0.8888888888888888,
              "#fdca26"
             ],
             [
              1.0,
              "#f0f921"
             ]
            ]
           }
          ],
          "heatmapgl": [
           {
            "type": "heatmapgl",
            "colorbar": {
             "outlinewidth": 0,
             "ticks": ""
            },
            "colorscale": [
             [
              0.0,
              "#0d0887"
             ],
             [
              0.1111111111111111,
              "#46039f"
             ],
             [
              0.2222222222222222,
              "#7201a8"
             ],
             [
              0.3333333333333333,
              "#9c179e"
             ],
             [
              0.4444444444444444,
              "#bd3786"
             ],
             [
              0.5555555555555556,
              "#d8576b"
             ],
             [
              0.6666666666666666,
              "#ed7953"
             ],
             [
              0.7777777777777778,
              "#fb9f3a"
             ],
             [
              0.8888888888888888,
              "#fdca26"
             ],
             [
              1.0,
              "#f0f921"
             ]
            ]
           }
          ],
          "contourcarpet": [
           {
            "type": "contourcarpet",
            "colorbar": {
             "outlinewidth": 0,
             "ticks": ""
            }
           }
          ],
          "contour": [
           {
            "type": "contour",
            "colorbar": {
             "outlinewidth": 0,
             "ticks": ""
            },
            "colorscale": [
             [
              0.0,
              "#0d0887"
             ],
             [
              0.1111111111111111,
              "#46039f"
             ],
             [
              0.2222222222222222,
              "#7201a8"
             ],
             [
              0.3333333333333333,
              "#9c179e"
             ],
             [
              0.4444444444444444,
              "#bd3786"
             ],
             [
              0.5555555555555556,
              "#d8576b"
             ],
             [
              0.6666666666666666,
              "#ed7953"
             ],
             [
              0.7777777777777778,
              "#fb9f3a"
             ],
             [
              0.8888888888888888,
              "#fdca26"
             ],
             [
              1.0,
              "#f0f921"
             ]
            ]
           }
          ],
          "surface": [
           {
            "type": "surface",
            "colorbar": {
             "outlinewidth": 0,
             "ticks": ""
            },
            "colorscale": [
             [
              0.0,
              "#0d0887"
             ],
             [
              0.1111111111111111,
              "#46039f"
             ],
             [
              0.2222222222222222,
              "#7201a8"
             ],
             [
              0.3333333333333333,
              "#9c179e"
             ],
             [
              0.4444444444444444,
              "#bd3786"
             ],
             [
              0.5555555555555556,
              "#d8576b"
             ],
             [
              0.6666666666666666,
              "#ed7953"
             ],
             [
              0.7777777777777778,
              "#fb9f3a"
             ],
             [
              0.8888888888888888,
              "#fdca26"
             ],
             [
              1.0,
              "#f0f921"
             ]
            ]
           }
          ],
          "mesh3d": [
           {
            "type": "mesh3d",
            "colorbar": {
             "outlinewidth": 0,
             "ticks": ""
            }
           }
          ],
          "scatter": [
           {
            "marker": {
             "line": {
              "color": "#283442"
             }
            },
            "type": "scatter"
           }
          ],
          "parcoords": [
           {
            "type": "parcoords",
            "line": {
             "colorbar": {
              "outlinewidth": 0,
              "ticks": ""
             }
            }
           }
          ],
          "scatterpolargl": [
           {
            "type": "scatterpolargl",
            "marker": {
             "colorbar": {
              "outlinewidth": 0,
              "ticks": ""
             }
            }
           }
          ],
          "bar": [
           {
            "error_x": {
             "color": "#f2f5fa"
            },
            "error_y": {
             "color": "#f2f5fa"
            },
            "marker": {
             "line": {
              "color": "rgb(17,17,17)",
              "width": 0.5
             },
             "pattern": {
              "fillmode": "overlay",
              "size": 10,
              "solidity": 0.2
             }
            },
            "type": "bar"
           }
          ],
          "scattergeo": [
           {
            "type": "scattergeo",
            "marker": {
             "colorbar": {
              "outlinewidth": 0,
              "ticks": ""
             }
            }
           }
          ],
          "scatterpolar": [
           {
            "type": "scatterpolar",
            "marker": {
             "colorbar": {
              "outlinewidth": 0,
              "ticks": ""
             }
            }
           }
          ],
          "histogram": [
           {
            "marker": {
             "pattern": {
              "fillmode": "overlay",
              "size": 10,
              "solidity": 0.2
             }
            },
            "type": "histogram"
           }
          ],
          "scattergl": [
           {
            "marker": {
             "line": {
              "color": "#283442"
             }
            },
            "type": "scattergl"
           }
          ],
          "scatter3d": [
           {
            "type": "scatter3d",
            "line": {
             "colorbar": {
              "outlinewidth": 0,
              "ticks": ""
             }
            },
            "marker": {
             "colorbar": {
              "outlinewidth": 0,
              "ticks": ""
             }
            }
           }
          ],
          "scattermapbox": [
           {
            "type": "scattermapbox",
            "marker": {
             "colorbar": {
              "outlinewidth": 0,
              "ticks": ""
             }
            }
           }
          ],
          "scatterternary": [
           {
            "type": "scatterternary",
            "marker": {
             "colorbar": {
              "outlinewidth": 0,
              "ticks": ""
             }
            }
           }
          ],
          "scattercarpet": [
           {
            "type": "scattercarpet",
            "marker": {
             "colorbar": {
              "outlinewidth": 0,
              "ticks": ""
             }
            }
           }
          ],
          "carpet": [
           {
            "aaxis": {
             "endlinecolor": "#A2B1C6",
             "gridcolor": "#506784",
             "linecolor": "#506784",
             "minorgridcolor": "#506784",
             "startlinecolor": "#A2B1C6"
            },
            "baxis": {
             "endlinecolor": "#A2B1C6",
             "gridcolor": "#506784",
             "linecolor": "#506784",
             "minorgridcolor": "#506784",
             "startlinecolor": "#A2B1C6"
            },
            "type": "carpet"
           }
          ],
          "table": [
           {
            "cells": {
             "fill": {
              "color": "#506784"
             },
             "line": {
              "color": "rgb(17,17,17)"
             }
            },
            "header": {
             "fill": {
              "color": "#2a3f5f"
             },
             "line": {
              "color": "rgb(17,17,17)"
             }
            },
            "type": "table"
           }
          ],
          "barpolar": [
           {
            "marker": {
             "line": {
              "color": "rgb(17,17,17)",
              "width": 0.5
             },
             "pattern": {
              "fillmode": "overlay",
              "size": 10,
              "solidity": 0.2
             }
            },
            "type": "barpolar"
           }
          ],
          "pie": [
           {
            "automargin": true,
            "type": "pie"
           }
          ]
         },
         "layout": {
          "autotypenumbers": "strict",
          "colorway": [
           "#636efa",
           "#EF553B",
           "#00cc96",
           "#ab63fa",
           "#FFA15A",
           "#19d3f3",
           "#FF6692",
           "#B6E880",
           "#FF97FF",
           "#FECB52"
          ],
          "font": {
           "color": "#f2f5fa"
          },
          "hovermode": "closest",
          "hoverlabel": {
           "align": "left"
          },
          "paper_bgcolor": "rgb(17,17,17)",
          "plot_bgcolor": "rgb(17,17,17)",
          "polar": {
           "bgcolor": "rgb(17,17,17)",
           "angularaxis": {
            "gridcolor": "#506784",
            "linecolor": "#506784",
            "ticks": ""
           },
           "radialaxis": {
            "gridcolor": "#506784",
            "linecolor": "#506784",
            "ticks": ""
           }
          },
          "ternary": {
           "bgcolor": "rgb(17,17,17)",
           "aaxis": {
            "gridcolor": "#506784",
            "linecolor": "#506784",
            "ticks": ""
           },
           "baxis": {
            "gridcolor": "#506784",
            "linecolor": "#506784",
            "ticks": ""
           },
           "caxis": {
            "gridcolor": "#506784",
            "linecolor": "#506784",
            "ticks": ""
           }
          },
          "coloraxis": {
           "colorbar": {
            "outlinewidth": 0,
            "ticks": ""
           }
          },
          "colorscale": {
           "sequential": [
            [
             0.0,
             "#0d0887"
            ],
            [
             0.1111111111111111,
             "#46039f"
            ],
            [
             0.2222222222222222,
             "#7201a8"
            ],
            [
             0.3333333333333333,
             "#9c179e"
            ],
            [
             0.4444444444444444,
             "#bd3786"
            ],
            [
             0.5555555555555556,
             "#d8576b"
            ],
            [
             0.6666666666666666,
             "#ed7953"
            ],
            [
             0.7777777777777778,
             "#fb9f3a"
            ],
            [
             0.8888888888888888,
             "#fdca26"
            ],
            [
             1.0,
             "#f0f921"
            ]
           ],
           "sequentialminus": [
            [
             0.0,
             "#0d0887"
            ],
            [
             0.1111111111111111,
             "#46039f"
            ],
            [
             0.2222222222222222,
             "#7201a8"
            ],
            [
             0.3333333333333333,
             "#9c179e"
            ],
            [
             0.4444444444444444,
             "#bd3786"
            ],
            [
             0.5555555555555556,
             "#d8576b"
            ],
            [
             0.6666666666666666,
             "#ed7953"
            ],
            [
             0.7777777777777778,
             "#fb9f3a"
            ],
            [
             0.8888888888888888,
             "#fdca26"
            ],
            [
             1.0,
             "#f0f921"
            ]
           ],
           "diverging": [
            [
             0,
             "#8e0152"
            ],
            [
             0.1,
             "#c51b7d"
            ],
            [
             0.2,
             "#de77ae"
            ],
            [
             0.3,
             "#f1b6da"
            ],
            [
             0.4,
             "#fde0ef"
            ],
            [
             0.5,
             "#f7f7f7"
            ],
            [
             0.6,
             "#e6f5d0"
            ],
            [
             0.7,
             "#b8e186"
            ],
            [
             0.8,
             "#7fbc41"
            ],
            [
             0.9,
             "#4d9221"
            ],
            [
             1,
             "#276419"
            ]
           ]
          },
          "xaxis": {
           "gridcolor": "#283442",
           "linecolor": "#506784",
           "ticks": "",
           "title": {
            "standoff": 15
           },
           "zerolinecolor": "#283442",
           "automargin": true,
           "zerolinewidth": 2
          },
          "yaxis": {
           "gridcolor": "#283442",
           "linecolor": "#506784",
           "ticks": "",
           "title": {
            "standoff": 15
           },
           "zerolinecolor": "#283442",
           "automargin": true,
           "zerolinewidth": 2
          },
          "scene": {
           "xaxis": {
            "backgroundcolor": "rgb(17,17,17)",
            "gridcolor": "#506784",
            "linecolor": "#506784",
            "showbackground": true,
            "ticks": "",
            "zerolinecolor": "#C8D4E3",
            "gridwidth": 2
           },
           "yaxis": {
            "backgroundcolor": "rgb(17,17,17)",
            "gridcolor": "#506784",
            "linecolor": "#506784",
            "showbackground": true,
            "ticks": "",
            "zerolinecolor": "#C8D4E3",
            "gridwidth": 2
           },
           "zaxis": {
            "backgroundcolor": "rgb(17,17,17)",
            "gridcolor": "#506784",
            "linecolor": "#506784",
            "showbackground": true,
            "ticks": "",
            "zerolinecolor": "#C8D4E3",
            "gridwidth": 2
           }
          },
          "shapedefaults": {
           "line": {
            "color": "#f2f5fa"
           }
          },
          "annotationdefaults": {
           "arrowcolor": "#f2f5fa",
           "arrowhead": 0,
           "arrowwidth": 1
          },
          "geo": {
           "bgcolor": "rgb(17,17,17)",
           "landcolor": "rgb(17,17,17)",
           "subunitcolor": "#506784",
           "showland": true,
           "showlakes": true,
           "lakecolor": "rgb(17,17,17)"
          },
          "title": {
           "x": 0.05
          },
          "updatemenudefaults": {
           "bgcolor": "#506784",
           "borderwidth": 0
          },
          "sliderdefaults": {
           "bgcolor": "#C8D4E3",
           "borderwidth": 1,
           "bordercolor": "rgb(17,17,17)",
           "tickwidth": 0
          },
          "mapbox": {
           "style": "dark"
          }
         }
        },
        "xaxis": {
         "anchor": "y",
         "domain": [
          0.0,
          1.0
         ],
         "title": {
          "text": "x"
         }
        },
        "yaxis": {
         "anchor": "x",
         "domain": [
          0.0,
          1.0
         ],
         "title": {
          "text": "y"
         }
        },
        "legend": {
         "title": {
          "text": "color"
         },
         "tracegroupgap": 0
        },
        "margin": {
         "t": 60
        },
        "title": {
         "text": "Clustering top skills for Developer_back-end"
        },
        "height": 900,
        "width": 1500
       },
       "config": {
        "plotlyServerURL": "https://plot.ly"
       }
      },
      "text/html": "<div>                            <div id=\"4a364f88-21e7-4bbc-9df5-467d467aa3e0\" class=\"plotly-graph-div\" style=\"height:900px; width:1500px;\"></div>            <script type=\"text/javascript\">                require([\"plotly\"], function(Plotly) {                    window.PLOTLYENV=window.PLOTLYENV || {};                                    if (document.getElementById(\"4a364f88-21e7-4bbc-9df5-467d467aa3e0\")) {                    Plotly.newPlot(                        \"4a364f88-21e7-4bbc-9df5-467d467aa3e0\",                        [{\"hovertemplate\":\"color=cluster_1<br>x=%{x}<br>y=%{y}<br>text=%{text}<extra></extra>\",\"legendgroup\":\"cluster_1\",\"marker\":{\"color\":\"#2E91E5\",\"symbol\":\"circle\"},\"mode\":\"markers+text\",\"name\":\"cluster_1\",\"orientation\":\"v\",\"showlegend\":true,\"text\":[\"Spring\",\"IntelliJ\",\"Java\",\"Kotlin\"],\"x\":[-3.5243189334869385,-4.2336883544921875,-3.9290974140167236,-2.706878900527954],\"xaxis\":\"x\",\"y\":[-18.324586868286133,-20.803146362304688,-19.781160354614258,-15.268670082092285],\"yaxis\":\"y\",\"type\":\"scatter\",\"textposition\":\"top center\"},{\"hovertemplate\":\"color=cluster_3<br>x=%{x}<br>y=%{y}<br>text=%{text}<extra></extra>\",\"legendgroup\":\"cluster_3\",\"marker\":{\"color\":\"#E15F99\",\"symbol\":\"circle\"},\"mode\":\"markers+text\",\"name\":\"cluster_3\",\"orientation\":\"v\",\"showlegend\":true,\"text\":[\"PhpStorm\",\"Laravel\",\"Symfony\",\"MySQL\",\"PHP\",\"MariaDB\",\"Vue.js\"],\"x\":[9.746402740478516,9.944208145141602,6.639772891998291,11.410880088806152,10.83342456817627,6.254241943359375,10.2077054977417],\"xaxis\":\"x\",\"y\":[-12.54002857208252,-11.017110824584961,-11.10690689086914,-15.83802318572998,-14.218929290771484,-12.76584243774414,-7.595121383666992],\"yaxis\":\"y\",\"type\":\"scatter\",\"textposition\":\"top center\"},{\"hovertemplate\":\"color=cluster_4<br>x=%{x}<br>y=%{y}<br>text=%{text}<extra></extra>\",\"legendgroup\":\"cluster_4\",\"marker\":{\"color\":\"#1CA71C\",\"symbol\":\"circle\"},\"mode\":\"markers+text\",\"name\":\"cluster_4\",\"orientation\":\"v\",\"showlegend\":true,\"text\":[\"Apache Kafka\",\"MongoDB\",\"Redis\",\"Cassandra\",\"GoLand\",\"PostgreSQL\",\"Docker\",\"Elasticsearch\",\"Kubernetes\",\"AWS\",\"Go\"],\"x\":[-8.177135467529297,-3.3084797859191895,-12.863218307495117,-8.805950164794922,-8.277254104614258,-13.989611625671387,-9.960412979125977,-11.1641263961792,-8.959309577941895,-13.922186851501465,-9.780192375183105],\"xaxis\":\"x\",\"y\":[7.3399763107299805,3.4912877082824707,6.000455379486084,5.282346725463867,-2.3151516914367676,8.278670310974121,11.137001991271973,5.056812286376953,9.476216316223145,9.814352989196777,-1.9028187990188599],\"yaxis\":\"y\",\"type\":\"scatter\",\"textposition\":\"top center\"},{\"hovertemplate\":\"color=cluster_2<br>x=%{x}<br>y=%{y}<br>text=%{text}<extra></extra>\",\"legendgroup\":\"cluster_2\",\"marker\":{\"color\":\"#FB0D0D\",\"symbol\":\"circle\"},\"mode\":\"markers+text\",\"name\":\"cluster_2\",\"orientation\":\"v\",\"showlegend\":true,\"text\":[\"RubyMine\",\"Clojure\",\"Play Framework\",\"Erlang\",\"F#\",\"Rider\",\"Oracle\",\"Heroku\",\"IBM DB2\",\"DynamoDB\",\"Scala\",\"Sublime Text\",\"Django\",\"Groovy\",\"Eclipse\",\"Express\",\"Crystal\",\"Neovim\",\"Webstorm\"],\"x\":[-1.731768012046814,2.8945653438568115,0.056625835597515106,0.04935706406831741,4.600437641143799,5.977425575256348,5.027039051055908,-4.858921527862549,6.2462286949157715,-1.1065526008605957,-4.191793441772461,-2.464787006378174,1.4358934164047241,-1.591403841972351,8.149614334106445,-0.043777015060186386,1.004516363143921,2.281473159790039,1.4328051805496216],\"xaxis\":\"x\",\"y\":[-5.410144805908203,-1.8609620332717896,-1.9094659090042114,-3.8527638912200928,0.3883059620857239,1.860426902770996,-5.851430892944336,-6.0609869956970215,-3.371833324432373,-0.31742969155311584,-0.18629509210586548,-2.7138912677764893,-7.093771934509277,-9.163366317749023,-3.0124475955963135,3.4620471000671387,-2.585179328918457,-4.1847662925720215,0.4179890751838684],\"yaxis\":\"y\",\"type\":\"scatter\",\"textposition\":\"top center\"},{\"hovertemplate\":\"color=cluster_6<br>x=%{x}<br>y=%{y}<br>text=%{text}<extra></extra>\",\"legendgroup\":\"cluster_6\",\"marker\":{\"color\":\"#DA16FF\",\"symbol\":\"circle\"},\"mode\":\"markers+text\",\"name\":\"cluster_6\",\"orientation\":\"v\",\"showlegend\":true,\"text\":[\"ASP.NET Core \",\"Blazor\",\"ASP.NET\",\".NET\",\"C#\",\"Microsoft SQL Server\"],\"x\":[19.368305206298828,11.391149520874023,12.927700996398926,20.14520835876465,20.4929141998291,19.894323348999023],\"xaxis\":\"x\",\"y\":[7.861212253570557,2.349915027618408,3.158087730407715,9.11877155303955,9.936301231384277,11.505351066589355],\"yaxis\":\"y\",\"type\":\"scatter\",\"textposition\":\"top center\"},{\"hovertemplate\":\"color=cluster_5<br>x=%{x}<br>y=%{y}<br>text=%{text}<extra></extra>\",\"legendgroup\":\"cluster_5\",\"marker\":{\"color\":\"#222A2A\",\"symbol\":\"circle\"},\"mode\":\"markers+text\",\"name\":\"cluster_5\",\"orientation\":\"v\",\"showlegend\":true,\"text\":[\"Ruby on Rails\",\"Elixir\",\"Phoenix\",\"Homebrew\",\"Ruby\"],\"x\":[-17.426898956298828,-12.083911895751953,-11.254700660705566,-14.70766830444336,-18.283483505249023],\"xaxis\":\"x\",\"y\":[-10.696602821350098,-9.82593822479248,-9.60837173461914,-10.423038482666016,-10.800176620483398],\"yaxis\":\"y\",\"type\":\"scatter\",\"textposition\":\"top center\"},{\"hovertemplate\":\"color=cluster_0<br>x=%{x}<br>y=%{y}<br>text=%{text}<extra></extra>\",\"legendgroup\":\"cluster_0\",\"marker\":{\"color\":\"#B68100\",\"symbol\":\"circle\"},\"mode\":\"markers+text\",\"name\":\"cluster_0\",\"orientation\":\"v\",\"showlegend\":true,\"text\":[\"SQL\",\"Angular\",\"npm\",\"TypeScript\",\"Visual Studio Code\",\"React.js\",\"jQuery\",\"Angular.js\",\"JavaScript\",\"Yarn\"],\"x\":[3.956390857696533,5.755372524261475,3.5267105102539062,4.316331386566162,0.4065055847167969,1.3220187425613403,8.381179809570312,6.729689121246338,2.8084299564361572,2.270934581756592],\"xaxis\":\"x\",\"y\":[19.671756744384766,12.43547534942627,15.994377136230469,14.715723991394043,18.126434326171875,7.777041435241699,9.73965072631836,10.688752174377441,17.785566329956055,6.281544208526611],\"yaxis\":\"y\",\"type\":\"scatter\",\"textposition\":\"top center\"}],                        {\"template\":{\"data\":{\"histogram2dcontour\":[{\"type\":\"histogram2dcontour\",\"colorbar\":{\"outlinewidth\":0,\"ticks\":\"\"},\"colorscale\":[[0.0,\"#0d0887\"],[0.1111111111111111,\"#46039f\"],[0.2222222222222222,\"#7201a8\"],[0.3333333333333333,\"#9c179e\"],[0.4444444444444444,\"#bd3786\"],[0.5555555555555556,\"#d8576b\"],[0.6666666666666666,\"#ed7953\"],[0.7777777777777778,\"#fb9f3a\"],[0.8888888888888888,\"#fdca26\"],[1.0,\"#f0f921\"]]}],\"choropleth\":[{\"type\":\"choropleth\",\"colorbar\":{\"outlinewidth\":0,\"ticks\":\"\"}}],\"histogram2d\":[{\"type\":\"histogram2d\",\"colorbar\":{\"outlinewidth\":0,\"ticks\":\"\"},\"colorscale\":[[0.0,\"#0d0887\"],[0.1111111111111111,\"#46039f\"],[0.2222222222222222,\"#7201a8\"],[0.3333333333333333,\"#9c179e\"],[0.4444444444444444,\"#bd3786\"],[0.5555555555555556,\"#d8576b\"],[0.6666666666666666,\"#ed7953\"],[0.7777777777777778,\"#fb9f3a\"],[0.8888888888888888,\"#fdca26\"],[1.0,\"#f0f921\"]]}],\"heatmap\":[{\"type\":\"heatmap\",\"colorbar\":{\"outlinewidth\":0,\"ticks\":\"\"},\"colorscale\":[[0.0,\"#0d0887\"],[0.1111111111111111,\"#46039f\"],[0.2222222222222222,\"#7201a8\"],[0.3333333333333333,\"#9c179e\"],[0.4444444444444444,\"#bd3786\"],[0.5555555555555556,\"#d8576b\"],[0.6666666666666666,\"#ed7953\"],[0.7777777777777778,\"#fb9f3a\"],[0.8888888888888888,\"#fdca26\"],[1.0,\"#f0f921\"]]}],\"heatmapgl\":[{\"type\":\"heatmapgl\",\"colorbar\":{\"outlinewidth\":0,\"ticks\":\"\"},\"colorscale\":[[0.0,\"#0d0887\"],[0.1111111111111111,\"#46039f\"],[0.2222222222222222,\"#7201a8\"],[0.3333333333333333,\"#9c179e\"],[0.4444444444444444,\"#bd3786\"],[0.5555555555555556,\"#d8576b\"],[0.6666666666666666,\"#ed7953\"],[0.7777777777777778,\"#fb9f3a\"],[0.8888888888888888,\"#fdca26\"],[1.0,\"#f0f921\"]]}],\"contourcarpet\":[{\"type\":\"contourcarpet\",\"colorbar\":{\"outlinewidth\":0,\"ticks\":\"\"}}],\"contour\":[{\"type\":\"contour\",\"colorbar\":{\"outlinewidth\":0,\"ticks\":\"\"},\"colorscale\":[[0.0,\"#0d0887\"],[0.1111111111111111,\"#46039f\"],[0.2222222222222222,\"#7201a8\"],[0.3333333333333333,\"#9c179e\"],[0.4444444444444444,\"#bd3786\"],[0.5555555555555556,\"#d8576b\"],[0.6666666666666666,\"#ed7953\"],[0.7777777777777778,\"#fb9f3a\"],[0.8888888888888888,\"#fdca26\"],[1.0,\"#f0f921\"]]}],\"surface\":[{\"type\":\"surface\",\"colorbar\":{\"outlinewidth\":0,\"ticks\":\"\"},\"colorscale\":[[0.0,\"#0d0887\"],[0.1111111111111111,\"#46039f\"],[0.2222222222222222,\"#7201a8\"],[0.3333333333333333,\"#9c179e\"],[0.4444444444444444,\"#bd3786\"],[0.5555555555555556,\"#d8576b\"],[0.6666666666666666,\"#ed7953\"],[0.7777777777777778,\"#fb9f3a\"],[0.8888888888888888,\"#fdca26\"],[1.0,\"#f0f921\"]]}],\"mesh3d\":[{\"type\":\"mesh3d\",\"colorbar\":{\"outlinewidth\":0,\"ticks\":\"\"}}],\"scatter\":[{\"marker\":{\"line\":{\"color\":\"#283442\"}},\"type\":\"scatter\"}],\"parcoords\":[{\"type\":\"parcoords\",\"line\":{\"colorbar\":{\"outlinewidth\":0,\"ticks\":\"\"}}}],\"scatterpolargl\":[{\"type\":\"scatterpolargl\",\"marker\":{\"colorbar\":{\"outlinewidth\":0,\"ticks\":\"\"}}}],\"bar\":[{\"error_x\":{\"color\":\"#f2f5fa\"},\"error_y\":{\"color\":\"#f2f5fa\"},\"marker\":{\"line\":{\"color\":\"rgb(17,17,17)\",\"width\":0.5},\"pattern\":{\"fillmode\":\"overlay\",\"size\":10,\"solidity\":0.2}},\"type\":\"bar\"}],\"scattergeo\":[{\"type\":\"scattergeo\",\"marker\":{\"colorbar\":{\"outlinewidth\":0,\"ticks\":\"\"}}}],\"scatterpolar\":[{\"type\":\"scatterpolar\",\"marker\":{\"colorbar\":{\"outlinewidth\":0,\"ticks\":\"\"}}}],\"histogram\":[{\"marker\":{\"pattern\":{\"fillmode\":\"overlay\",\"size\":10,\"solidity\":0.2}},\"type\":\"histogram\"}],\"scattergl\":[{\"marker\":{\"line\":{\"color\":\"#283442\"}},\"type\":\"scattergl\"}],\"scatter3d\":[{\"type\":\"scatter3d\",\"line\":{\"colorbar\":{\"outlinewidth\":0,\"ticks\":\"\"}},\"marker\":{\"colorbar\":{\"outlinewidth\":0,\"ticks\":\"\"}}}],\"scattermapbox\":[{\"type\":\"scattermapbox\",\"marker\":{\"colorbar\":{\"outlinewidth\":0,\"ticks\":\"\"}}}],\"scatterternary\":[{\"type\":\"scatterternary\",\"marker\":{\"colorbar\":{\"outlinewidth\":0,\"ticks\":\"\"}}}],\"scattercarpet\":[{\"type\":\"scattercarpet\",\"marker\":{\"colorbar\":{\"outlinewidth\":0,\"ticks\":\"\"}}}],\"carpet\":[{\"aaxis\":{\"endlinecolor\":\"#A2B1C6\",\"gridcolor\":\"#506784\",\"linecolor\":\"#506784\",\"minorgridcolor\":\"#506784\",\"startlinecolor\":\"#A2B1C6\"},\"baxis\":{\"endlinecolor\":\"#A2B1C6\",\"gridcolor\":\"#506784\",\"linecolor\":\"#506784\",\"minorgridcolor\":\"#506784\",\"startlinecolor\":\"#A2B1C6\"},\"type\":\"carpet\"}],\"table\":[{\"cells\":{\"fill\":{\"color\":\"#506784\"},\"line\":{\"color\":\"rgb(17,17,17)\"}},\"header\":{\"fill\":{\"color\":\"#2a3f5f\"},\"line\":{\"color\":\"rgb(17,17,17)\"}},\"type\":\"table\"}],\"barpolar\":[{\"marker\":{\"line\":{\"color\":\"rgb(17,17,17)\",\"width\":0.5},\"pattern\":{\"fillmode\":\"overlay\",\"size\":10,\"solidity\":0.2}},\"type\":\"barpolar\"}],\"pie\":[{\"automargin\":true,\"type\":\"pie\"}]},\"layout\":{\"autotypenumbers\":\"strict\",\"colorway\":[\"#636efa\",\"#EF553B\",\"#00cc96\",\"#ab63fa\",\"#FFA15A\",\"#19d3f3\",\"#FF6692\",\"#B6E880\",\"#FF97FF\",\"#FECB52\"],\"font\":{\"color\":\"#f2f5fa\"},\"hovermode\":\"closest\",\"hoverlabel\":{\"align\":\"left\"},\"paper_bgcolor\":\"rgb(17,17,17)\",\"plot_bgcolor\":\"rgb(17,17,17)\",\"polar\":{\"bgcolor\":\"rgb(17,17,17)\",\"angularaxis\":{\"gridcolor\":\"#506784\",\"linecolor\":\"#506784\",\"ticks\":\"\"},\"radialaxis\":{\"gridcolor\":\"#506784\",\"linecolor\":\"#506784\",\"ticks\":\"\"}},\"ternary\":{\"bgcolor\":\"rgb(17,17,17)\",\"aaxis\":{\"gridcolor\":\"#506784\",\"linecolor\":\"#506784\",\"ticks\":\"\"},\"baxis\":{\"gridcolor\":\"#506784\",\"linecolor\":\"#506784\",\"ticks\":\"\"},\"caxis\":{\"gridcolor\":\"#506784\",\"linecolor\":\"#506784\",\"ticks\":\"\"}},\"coloraxis\":{\"colorbar\":{\"outlinewidth\":0,\"ticks\":\"\"}},\"colorscale\":{\"sequential\":[[0.0,\"#0d0887\"],[0.1111111111111111,\"#46039f\"],[0.2222222222222222,\"#7201a8\"],[0.3333333333333333,\"#9c179e\"],[0.4444444444444444,\"#bd3786\"],[0.5555555555555556,\"#d8576b\"],[0.6666666666666666,\"#ed7953\"],[0.7777777777777778,\"#fb9f3a\"],[0.8888888888888888,\"#fdca26\"],[1.0,\"#f0f921\"]],\"sequentialminus\":[[0.0,\"#0d0887\"],[0.1111111111111111,\"#46039f\"],[0.2222222222222222,\"#7201a8\"],[0.3333333333333333,\"#9c179e\"],[0.4444444444444444,\"#bd3786\"],[0.5555555555555556,\"#d8576b\"],[0.6666666666666666,\"#ed7953\"],[0.7777777777777778,\"#fb9f3a\"],[0.8888888888888888,\"#fdca26\"],[1.0,\"#f0f921\"]],\"diverging\":[[0,\"#8e0152\"],[0.1,\"#c51b7d\"],[0.2,\"#de77ae\"],[0.3,\"#f1b6da\"],[0.4,\"#fde0ef\"],[0.5,\"#f7f7f7\"],[0.6,\"#e6f5d0\"],[0.7,\"#b8e186\"],[0.8,\"#7fbc41\"],[0.9,\"#4d9221\"],[1,\"#276419\"]]},\"xaxis\":{\"gridcolor\":\"#283442\",\"linecolor\":\"#506784\",\"ticks\":\"\",\"title\":{\"standoff\":15},\"zerolinecolor\":\"#283442\",\"automargin\":true,\"zerolinewidth\":2},\"yaxis\":{\"gridcolor\":\"#283442\",\"linecolor\":\"#506784\",\"ticks\":\"\",\"title\":{\"standoff\":15},\"zerolinecolor\":\"#283442\",\"automargin\":true,\"zerolinewidth\":2},\"scene\":{\"xaxis\":{\"backgroundcolor\":\"rgb(17,17,17)\",\"gridcolor\":\"#506784\",\"linecolor\":\"#506784\",\"showbackground\":true,\"ticks\":\"\",\"zerolinecolor\":\"#C8D4E3\",\"gridwidth\":2},\"yaxis\":{\"backgroundcolor\":\"rgb(17,17,17)\",\"gridcolor\":\"#506784\",\"linecolor\":\"#506784\",\"showbackground\":true,\"ticks\":\"\",\"zerolinecolor\":\"#C8D4E3\",\"gridwidth\":2},\"zaxis\":{\"backgroundcolor\":\"rgb(17,17,17)\",\"gridcolor\":\"#506784\",\"linecolor\":\"#506784\",\"showbackground\":true,\"ticks\":\"\",\"zerolinecolor\":\"#C8D4E3\",\"gridwidth\":2}},\"shapedefaults\":{\"line\":{\"color\":\"#f2f5fa\"}},\"annotationdefaults\":{\"arrowcolor\":\"#f2f5fa\",\"arrowhead\":0,\"arrowwidth\":1},\"geo\":{\"bgcolor\":\"rgb(17,17,17)\",\"landcolor\":\"rgb(17,17,17)\",\"subunitcolor\":\"#506784\",\"showland\":true,\"showlakes\":true,\"lakecolor\":\"rgb(17,17,17)\"},\"title\":{\"x\":0.05},\"updatemenudefaults\":{\"bgcolor\":\"#506784\",\"borderwidth\":0},\"sliderdefaults\":{\"bgcolor\":\"#C8D4E3\",\"borderwidth\":1,\"bordercolor\":\"rgb(17,17,17)\",\"tickwidth\":0},\"mapbox\":{\"style\":\"dark\"}}},\"xaxis\":{\"anchor\":\"y\",\"domain\":[0.0,1.0],\"title\":{\"text\":\"x\"}},\"yaxis\":{\"anchor\":\"x\",\"domain\":[0.0,1.0],\"title\":{\"text\":\"y\"}},\"legend\":{\"title\":{\"text\":\"color\"},\"tracegroupgap\":0},\"margin\":{\"t\":60},\"title\":{\"text\":\"Clustering top skills for Developer_back-end\"},\"height\":900,\"width\":1500},                        {\"responsive\": true}                    ).then(function(){\n                            \nvar gd = document.getElementById('4a364f88-21e7-4bbc-9df5-467d467aa3e0');\nvar x = new MutationObserver(function (mutations, observer) {{\n        var display = window.getComputedStyle(gd).display;\n        if (!display || display === 'none') {{\n            console.log([gd, 'removed!']);\n            Plotly.purge(gd);\n            observer.disconnect();\n        }}\n}});\n\n// Listen for the removal of the full notebook cells\nvar notebookContainer = gd.closest('#notebook-container');\nif (notebookContainer) {{\n    x.observe(notebookContainer, {childList: true});\n}}\n\n// Listen for the clearing of the current output cell\nvar outputEl = gd.closest('.output');\nif (outputEl) {{\n    x.observe(outputEl, {childList: true});\n}}\n\n                        })                };                });            </script>        </div>"
     },
     "metadata": {},
     "output_type": "display_data"
    }
   ],
   "source": [
    "back_end_skills = choose_most_related_skills(split_roles[1], threshold=.4)\n",
    "back_end_tsne = reduce_dimensions(back_end_skills)\n",
    "best_k, best_labels = evaluate_cluster_model(back_end_tsne, range_clusters=range(2,15), plot = True)\n",
    "visualize_chosen_cluster_model(split_roles[1], back_end_tsne, best_labels)"
   ],
   "metadata": {
    "collapsed": false
   }
  },
  {
   "cell_type": "code",
   "execution_count": 327,
   "outputs": [
    {
     "name": "stdout",
     "output_type": "stream",
     "text": [
      "cluster_0 ['SQL', 'Angular', 'npm', 'TypeScript', 'Visual Studio Code', 'React.js', 'jQuery', 'Angular.js', 'JavaScript', 'Yarn']\n",
      "cluster_1 ['Spring', 'IntelliJ', 'Java', 'Kotlin']\n",
      "cluster_2 ['RubyMine', 'Clojure', 'Play Framework', 'Erlang', 'F#', 'Rider', 'Oracle', 'Heroku', 'IBM DB2', 'DynamoDB', 'Scala', 'Sublime Text', 'Django', 'Groovy', 'Eclipse', 'Express', 'Crystal', 'Neovim', 'Webstorm']\n",
      "cluster_3 ['PhpStorm', 'Laravel', 'Symfony', 'MySQL', 'PHP', 'MariaDB', 'Vue.js']\n",
      "cluster_4 ['Apache Kafka', 'MongoDB', 'Redis', 'Cassandra', 'GoLand', 'PostgreSQL', 'Docker', 'Elasticsearch', 'Kubernetes', 'AWS', 'Go']\n",
      "cluster_5 ['Ruby on Rails', 'Elixir', 'Phoenix', 'Homebrew', 'Ruby']\n",
      "cluster_6 ['ASP.NET Core ', 'Blazor', 'ASP.NET', '.NET', 'C#', 'Microsoft SQL Server']\n"
     ]
    }
   ],
   "source": [
    "for label in sorted(set(best_labels)):\n",
    "    print(label, list(back_end_tsne[best_labels==label].index))"
   ],
   "metadata": {
    "collapsed": false
   }
  },
  {
   "cell_type": "code",
   "execution_count": 54,
   "outputs": [],
   "source": [],
   "metadata": {
    "collapsed": false
   }
  },
  {
   "cell_type": "markdown",
   "source": [
    "# 3. Clustering similar skills"
   ],
   "metadata": {
    "collapsed": false
   }
  },
  {
   "cell_type": "code",
   "execution_count": 290,
   "outputs": [
    {
     "data": {
      "application/vnd.plotly.v1+json": {
       "data": [
        {
         "hovertemplate": "x=%{x}<br>y=%{y}<extra></extra>",
         "legendgroup": "",
         "line": {
          "color": "#636efa",
          "dash": "solid"
         },
         "marker": {
          "symbol": "circle"
         },
         "mode": "lines",
         "name": "",
         "orientation": "v",
         "showlegend": false,
         "x": [
          5,
          6,
          7,
          8,
          9,
          10,
          11,
          12,
          13,
          14,
          15,
          16,
          17,
          18,
          19,
          20,
          21,
          22,
          23,
          24,
          25,
          26,
          27,
          28,
          29
         ],
         "xaxis": "x",
         "y": [
          0.3713929057121277,
          0.34588196873664856,
          0.4010297358036041,
          0.42878010869026184,
          0.39367878437042236,
          0.4117479920387268,
          0.4198407530784607,
          0.41669929027557373,
          0.43228116631507874,
          0.4447334110736847,
          0.4377002716064453,
          0.4385492503643036,
          0.4391762912273407,
          0.4472823441028595,
          0.43957963585853577,
          0.4319157600402832,
          0.42326819896698,
          0.43588295578956604,
          0.4402717053890228,
          0.43934357166290283,
          0.44626811146736145,
          0.4448108971118927,
          0.45260658860206604,
          0.4530443549156189,
          0.4477039575576782
         ],
         "yaxis": "y",
         "type": "scatter"
        }
       ],
       "layout": {
        "template": {
         "data": {
          "histogram2dcontour": [
           {
            "type": "histogram2dcontour",
            "colorbar": {
             "outlinewidth": 0,
             "ticks": ""
            },
            "colorscale": [
             [
              0.0,
              "#0d0887"
             ],
             [
              0.1111111111111111,
              "#46039f"
             ],
             [
              0.2222222222222222,
              "#7201a8"
             ],
             [
              0.3333333333333333,
              "#9c179e"
             ],
             [
              0.4444444444444444,
              "#bd3786"
             ],
             [
              0.5555555555555556,
              "#d8576b"
             ],
             [
              0.6666666666666666,
              "#ed7953"
             ],
             [
              0.7777777777777778,
              "#fb9f3a"
             ],
             [
              0.8888888888888888,
              "#fdca26"
             ],
             [
              1.0,
              "#f0f921"
             ]
            ]
           }
          ],
          "choropleth": [
           {
            "type": "choropleth",
            "colorbar": {
             "outlinewidth": 0,
             "ticks": ""
            }
           }
          ],
          "histogram2d": [
           {
            "type": "histogram2d",
            "colorbar": {
             "outlinewidth": 0,
             "ticks": ""
            },
            "colorscale": [
             [
              0.0,
              "#0d0887"
             ],
             [
              0.1111111111111111,
              "#46039f"
             ],
             [
              0.2222222222222222,
              "#7201a8"
             ],
             [
              0.3333333333333333,
              "#9c179e"
             ],
             [
              0.4444444444444444,
              "#bd3786"
             ],
             [
              0.5555555555555556,
              "#d8576b"
             ],
             [
              0.6666666666666666,
              "#ed7953"
             ],
             [
              0.7777777777777778,
              "#fb9f3a"
             ],
             [
              0.8888888888888888,
              "#fdca26"
             ],
             [
              1.0,
              "#f0f921"
             ]
            ]
           }
          ],
          "heatmap": [
           {
            "type": "heatmap",
            "colorbar": {
             "outlinewidth": 0,
             "ticks": ""
            },
            "colorscale": [
             [
              0.0,
              "#0d0887"
             ],
             [
              0.1111111111111111,
              "#46039f"
             ],
             [
              0.2222222222222222,
              "#7201a8"
             ],
             [
              0.3333333333333333,
              "#9c179e"
             ],
             [
              0.4444444444444444,
              "#bd3786"
             ],
             [
              0.5555555555555556,
              "#d8576b"
             ],
             [
              0.6666666666666666,
              "#ed7953"
             ],
             [
              0.7777777777777778,
              "#fb9f3a"
             ],
             [
              0.8888888888888888,
              "#fdca26"
             ],
             [
              1.0,
              "#f0f921"
             ]
            ]
           }
          ],
          "heatmapgl": [
           {
            "type": "heatmapgl",
            "colorbar": {
             "outlinewidth": 0,
             "ticks": ""
            },
            "colorscale": [
             [
              0.0,
              "#0d0887"
             ],
             [
              0.1111111111111111,
              "#46039f"
             ],
             [
              0.2222222222222222,
              "#7201a8"
             ],
             [
              0.3333333333333333,
              "#9c179e"
             ],
             [
              0.4444444444444444,
              "#bd3786"
             ],
             [
              0.5555555555555556,
              "#d8576b"
             ],
             [
              0.6666666666666666,
              "#ed7953"
             ],
             [
              0.7777777777777778,
              "#fb9f3a"
             ],
             [
              0.8888888888888888,
              "#fdca26"
             ],
             [
              1.0,
              "#f0f921"
             ]
            ]
           }
          ],
          "contourcarpet": [
           {
            "type": "contourcarpet",
            "colorbar": {
             "outlinewidth": 0,
             "ticks": ""
            }
           }
          ],
          "contour": [
           {
            "type": "contour",
            "colorbar": {
             "outlinewidth": 0,
             "ticks": ""
            },
            "colorscale": [
             [
              0.0,
              "#0d0887"
             ],
             [
              0.1111111111111111,
              "#46039f"
             ],
             [
              0.2222222222222222,
              "#7201a8"
             ],
             [
              0.3333333333333333,
              "#9c179e"
             ],
             [
              0.4444444444444444,
              "#bd3786"
             ],
             [
              0.5555555555555556,
              "#d8576b"
             ],
             [
              0.6666666666666666,
              "#ed7953"
             ],
             [
              0.7777777777777778,
              "#fb9f3a"
             ],
             [
              0.8888888888888888,
              "#fdca26"
             ],
             [
              1.0,
              "#f0f921"
             ]
            ]
           }
          ],
          "surface": [
           {
            "type": "surface",
            "colorbar": {
             "outlinewidth": 0,
             "ticks": ""
            },
            "colorscale": [
             [
              0.0,
              "#0d0887"
             ],
             [
              0.1111111111111111,
              "#46039f"
             ],
             [
              0.2222222222222222,
              "#7201a8"
             ],
             [
              0.3333333333333333,
              "#9c179e"
             ],
             [
              0.4444444444444444,
              "#bd3786"
             ],
             [
              0.5555555555555556,
              "#d8576b"
             ],
             [
              0.6666666666666666,
              "#ed7953"
             ],
             [
              0.7777777777777778,
              "#fb9f3a"
             ],
             [
              0.8888888888888888,
              "#fdca26"
             ],
             [
              1.0,
              "#f0f921"
             ]
            ]
           }
          ],
          "mesh3d": [
           {
            "type": "mesh3d",
            "colorbar": {
             "outlinewidth": 0,
             "ticks": ""
            }
           }
          ],
          "scatter": [
           {
            "marker": {
             "line": {
              "color": "#283442"
             }
            },
            "type": "scatter"
           }
          ],
          "parcoords": [
           {
            "type": "parcoords",
            "line": {
             "colorbar": {
              "outlinewidth": 0,
              "ticks": ""
             }
            }
           }
          ],
          "scatterpolargl": [
           {
            "type": "scatterpolargl",
            "marker": {
             "colorbar": {
              "outlinewidth": 0,
              "ticks": ""
             }
            }
           }
          ],
          "bar": [
           {
            "error_x": {
             "color": "#f2f5fa"
            },
            "error_y": {
             "color": "#f2f5fa"
            },
            "marker": {
             "line": {
              "color": "rgb(17,17,17)",
              "width": 0.5
             },
             "pattern": {
              "fillmode": "overlay",
              "size": 10,
              "solidity": 0.2
             }
            },
            "type": "bar"
           }
          ],
          "scattergeo": [
           {
            "type": "scattergeo",
            "marker": {
             "colorbar": {
              "outlinewidth": 0,
              "ticks": ""
             }
            }
           }
          ],
          "scatterpolar": [
           {
            "type": "scatterpolar",
            "marker": {
             "colorbar": {
              "outlinewidth": 0,
              "ticks": ""
             }
            }
           }
          ],
          "histogram": [
           {
            "marker": {
             "pattern": {
              "fillmode": "overlay",
              "size": 10,
              "solidity": 0.2
             }
            },
            "type": "histogram"
           }
          ],
          "scattergl": [
           {
            "marker": {
             "line": {
              "color": "#283442"
             }
            },
            "type": "scattergl"
           }
          ],
          "scatter3d": [
           {
            "type": "scatter3d",
            "line": {
             "colorbar": {
              "outlinewidth": 0,
              "ticks": ""
             }
            },
            "marker": {
             "colorbar": {
              "outlinewidth": 0,
              "ticks": ""
             }
            }
           }
          ],
          "scattermapbox": [
           {
            "type": "scattermapbox",
            "marker": {
             "colorbar": {
              "outlinewidth": 0,
              "ticks": ""
             }
            }
           }
          ],
          "scatterternary": [
           {
            "type": "scatterternary",
            "marker": {
             "colorbar": {
              "outlinewidth": 0,
              "ticks": ""
             }
            }
           }
          ],
          "scattercarpet": [
           {
            "type": "scattercarpet",
            "marker": {
             "colorbar": {
              "outlinewidth": 0,
              "ticks": ""
             }
            }
           }
          ],
          "carpet": [
           {
            "aaxis": {
             "endlinecolor": "#A2B1C6",
             "gridcolor": "#506784",
             "linecolor": "#506784",
             "minorgridcolor": "#506784",
             "startlinecolor": "#A2B1C6"
            },
            "baxis": {
             "endlinecolor": "#A2B1C6",
             "gridcolor": "#506784",
             "linecolor": "#506784",
             "minorgridcolor": "#506784",
             "startlinecolor": "#A2B1C6"
            },
            "type": "carpet"
           }
          ],
          "table": [
           {
            "cells": {
             "fill": {
              "color": "#506784"
             },
             "line": {
              "color": "rgb(17,17,17)"
             }
            },
            "header": {
             "fill": {
              "color": "#2a3f5f"
             },
             "line": {
              "color": "rgb(17,17,17)"
             }
            },
            "type": "table"
           }
          ],
          "barpolar": [
           {
            "marker": {
             "line": {
              "color": "rgb(17,17,17)",
              "width": 0.5
             },
             "pattern": {
              "fillmode": "overlay",
              "size": 10,
              "solidity": 0.2
             }
            },
            "type": "barpolar"
           }
          ],
          "pie": [
           {
            "automargin": true,
            "type": "pie"
           }
          ]
         },
         "layout": {
          "autotypenumbers": "strict",
          "colorway": [
           "#636efa",
           "#EF553B",
           "#00cc96",
           "#ab63fa",
           "#FFA15A",
           "#19d3f3",
           "#FF6692",
           "#B6E880",
           "#FF97FF",
           "#FECB52"
          ],
          "font": {
           "color": "#f2f5fa"
          },
          "hovermode": "closest",
          "hoverlabel": {
           "align": "left"
          },
          "paper_bgcolor": "rgb(17,17,17)",
          "plot_bgcolor": "rgb(17,17,17)",
          "polar": {
           "bgcolor": "rgb(17,17,17)",
           "angularaxis": {
            "gridcolor": "#506784",
            "linecolor": "#506784",
            "ticks": ""
           },
           "radialaxis": {
            "gridcolor": "#506784",
            "linecolor": "#506784",
            "ticks": ""
           }
          },
          "ternary": {
           "bgcolor": "rgb(17,17,17)",
           "aaxis": {
            "gridcolor": "#506784",
            "linecolor": "#506784",
            "ticks": ""
           },
           "baxis": {
            "gridcolor": "#506784",
            "linecolor": "#506784",
            "ticks": ""
           },
           "caxis": {
            "gridcolor": "#506784",
            "linecolor": "#506784",
            "ticks": ""
           }
          },
          "coloraxis": {
           "colorbar": {
            "outlinewidth": 0,
            "ticks": ""
           }
          },
          "colorscale": {
           "sequential": [
            [
             0.0,
             "#0d0887"
            ],
            [
             0.1111111111111111,
             "#46039f"
            ],
            [
             0.2222222222222222,
             "#7201a8"
            ],
            [
             0.3333333333333333,
             "#9c179e"
            ],
            [
             0.4444444444444444,
             "#bd3786"
            ],
            [
             0.5555555555555556,
             "#d8576b"
            ],
            [
             0.6666666666666666,
             "#ed7953"
            ],
            [
             0.7777777777777778,
             "#fb9f3a"
            ],
            [
             0.8888888888888888,
             "#fdca26"
            ],
            [
             1.0,
             "#f0f921"
            ]
           ],
           "sequentialminus": [
            [
             0.0,
             "#0d0887"
            ],
            [
             0.1111111111111111,
             "#46039f"
            ],
            [
             0.2222222222222222,
             "#7201a8"
            ],
            [
             0.3333333333333333,
             "#9c179e"
            ],
            [
             0.4444444444444444,
             "#bd3786"
            ],
            [
             0.5555555555555556,
             "#d8576b"
            ],
            [
             0.6666666666666666,
             "#ed7953"
            ],
            [
             0.7777777777777778,
             "#fb9f3a"
            ],
            [
             0.8888888888888888,
             "#fdca26"
            ],
            [
             1.0,
             "#f0f921"
            ]
           ],
           "diverging": [
            [
             0,
             "#8e0152"
            ],
            [
             0.1,
             "#c51b7d"
            ],
            [
             0.2,
             "#de77ae"
            ],
            [
             0.3,
             "#f1b6da"
            ],
            [
             0.4,
             "#fde0ef"
            ],
            [
             0.5,
             "#f7f7f7"
            ],
            [
             0.6,
             "#e6f5d0"
            ],
            [
             0.7,
             "#b8e186"
            ],
            [
             0.8,
             "#7fbc41"
            ],
            [
             0.9,
             "#4d9221"
            ],
            [
             1,
             "#276419"
            ]
           ]
          },
          "xaxis": {
           "gridcolor": "#283442",
           "linecolor": "#506784",
           "ticks": "",
           "title": {
            "standoff": 15
           },
           "zerolinecolor": "#283442",
           "automargin": true,
           "zerolinewidth": 2
          },
          "yaxis": {
           "gridcolor": "#283442",
           "linecolor": "#506784",
           "ticks": "",
           "title": {
            "standoff": 15
           },
           "zerolinecolor": "#283442",
           "automargin": true,
           "zerolinewidth": 2
          },
          "scene": {
           "xaxis": {
            "backgroundcolor": "rgb(17,17,17)",
            "gridcolor": "#506784",
            "linecolor": "#506784",
            "showbackground": true,
            "ticks": "",
            "zerolinecolor": "#C8D4E3",
            "gridwidth": 2
           },
           "yaxis": {
            "backgroundcolor": "rgb(17,17,17)",
            "gridcolor": "#506784",
            "linecolor": "#506784",
            "showbackground": true,
            "ticks": "",
            "zerolinecolor": "#C8D4E3",
            "gridwidth": 2
           },
           "zaxis": {
            "backgroundcolor": "rgb(17,17,17)",
            "gridcolor": "#506784",
            "linecolor": "#506784",
            "showbackground": true,
            "ticks": "",
            "zerolinecolor": "#C8D4E3",
            "gridwidth": 2
           }
          },
          "shapedefaults": {
           "line": {
            "color": "#f2f5fa"
           }
          },
          "annotationdefaults": {
           "arrowcolor": "#f2f5fa",
           "arrowhead": 0,
           "arrowwidth": 1
          },
          "geo": {
           "bgcolor": "rgb(17,17,17)",
           "landcolor": "rgb(17,17,17)",
           "subunitcolor": "#506784",
           "showland": true,
           "showlakes": true,
           "lakecolor": "rgb(17,17,17)"
          },
          "title": {
           "x": 0.05
          },
          "updatemenudefaults": {
           "bgcolor": "#506784",
           "borderwidth": 0
          },
          "sliderdefaults": {
           "bgcolor": "#C8D4E3",
           "borderwidth": 1,
           "bordercolor": "rgb(17,17,17)",
           "tickwidth": 0
          },
          "mapbox": {
           "style": "dark"
          }
         }
        },
        "xaxis": {
         "anchor": "y",
         "domain": [
          0.0,
          1.0
         ],
         "title": {
          "text": "x"
         }
        },
        "yaxis": {
         "anchor": "x",
         "domain": [
          0.0,
          1.0
         ],
         "title": {
          "text": "y"
         }
        },
        "legend": {
         "tracegroupgap": 0
        },
        "margin": {
         "t": 60
        },
        "shapes": [
         {
          "type": "line",
          "x0": 28,
          "x1": 28,
          "xref": "x",
          "y0": 0,
          "y1": 1,
          "yref": "y domain"
         }
        ],
        "height": 450,
        "width": 900,
        "title": {
         "text": "Silhouette Score"
        }
       },
       "config": {
        "plotlyServerURL": "https://plot.ly"
       }
      },
      "text/html": "<div>                            <div id=\"09ff93bf-7d39-4647-b7b8-60fa25a107fa\" class=\"plotly-graph-div\" style=\"height:450px; width:900px;\"></div>            <script type=\"text/javascript\">                require([\"plotly\"], function(Plotly) {                    window.PLOTLYENV=window.PLOTLYENV || {};                                    if (document.getElementById(\"09ff93bf-7d39-4647-b7b8-60fa25a107fa\")) {                    Plotly.newPlot(                        \"09ff93bf-7d39-4647-b7b8-60fa25a107fa\",                        [{\"hovertemplate\":\"x=%{x}<br>y=%{y}<extra></extra>\",\"legendgroup\":\"\",\"line\":{\"color\":\"#636efa\",\"dash\":\"solid\"},\"marker\":{\"symbol\":\"circle\"},\"mode\":\"lines\",\"name\":\"\",\"orientation\":\"v\",\"showlegend\":false,\"x\":[5,6,7,8,9,10,11,12,13,14,15,16,17,18,19,20,21,22,23,24,25,26,27,28,29],\"xaxis\":\"x\",\"y\":[0.3713929057121277,0.34588196873664856,0.4010297358036041,0.42878010869026184,0.39367878437042236,0.4117479920387268,0.4198407530784607,0.41669929027557373,0.43228116631507874,0.4447334110736847,0.4377002716064453,0.4385492503643036,0.4391762912273407,0.4472823441028595,0.43957963585853577,0.4319157600402832,0.42326819896698,0.43588295578956604,0.4402717053890228,0.43934357166290283,0.44626811146736145,0.4448108971118927,0.45260658860206604,0.4530443549156189,0.4477039575576782],\"yaxis\":\"y\",\"type\":\"scatter\"}],                        {\"template\":{\"data\":{\"histogram2dcontour\":[{\"type\":\"histogram2dcontour\",\"colorbar\":{\"outlinewidth\":0,\"ticks\":\"\"},\"colorscale\":[[0.0,\"#0d0887\"],[0.1111111111111111,\"#46039f\"],[0.2222222222222222,\"#7201a8\"],[0.3333333333333333,\"#9c179e\"],[0.4444444444444444,\"#bd3786\"],[0.5555555555555556,\"#d8576b\"],[0.6666666666666666,\"#ed7953\"],[0.7777777777777778,\"#fb9f3a\"],[0.8888888888888888,\"#fdca26\"],[1.0,\"#f0f921\"]]}],\"choropleth\":[{\"type\":\"choropleth\",\"colorbar\":{\"outlinewidth\":0,\"ticks\":\"\"}}],\"histogram2d\":[{\"type\":\"histogram2d\",\"colorbar\":{\"outlinewidth\":0,\"ticks\":\"\"},\"colorscale\":[[0.0,\"#0d0887\"],[0.1111111111111111,\"#46039f\"],[0.2222222222222222,\"#7201a8\"],[0.3333333333333333,\"#9c179e\"],[0.4444444444444444,\"#bd3786\"],[0.5555555555555556,\"#d8576b\"],[0.6666666666666666,\"#ed7953\"],[0.7777777777777778,\"#fb9f3a\"],[0.8888888888888888,\"#fdca26\"],[1.0,\"#f0f921\"]]}],\"heatmap\":[{\"type\":\"heatmap\",\"colorbar\":{\"outlinewidth\":0,\"ticks\":\"\"},\"colorscale\":[[0.0,\"#0d0887\"],[0.1111111111111111,\"#46039f\"],[0.2222222222222222,\"#7201a8\"],[0.3333333333333333,\"#9c179e\"],[0.4444444444444444,\"#bd3786\"],[0.5555555555555556,\"#d8576b\"],[0.6666666666666666,\"#ed7953\"],[0.7777777777777778,\"#fb9f3a\"],[0.8888888888888888,\"#fdca26\"],[1.0,\"#f0f921\"]]}],\"heatmapgl\":[{\"type\":\"heatmapgl\",\"colorbar\":{\"outlinewidth\":0,\"ticks\":\"\"},\"colorscale\":[[0.0,\"#0d0887\"],[0.1111111111111111,\"#46039f\"],[0.2222222222222222,\"#7201a8\"],[0.3333333333333333,\"#9c179e\"],[0.4444444444444444,\"#bd3786\"],[0.5555555555555556,\"#d8576b\"],[0.6666666666666666,\"#ed7953\"],[0.7777777777777778,\"#fb9f3a\"],[0.8888888888888888,\"#fdca26\"],[1.0,\"#f0f921\"]]}],\"contourcarpet\":[{\"type\":\"contourcarpet\",\"colorbar\":{\"outlinewidth\":0,\"ticks\":\"\"}}],\"contour\":[{\"type\":\"contour\",\"colorbar\":{\"outlinewidth\":0,\"ticks\":\"\"},\"colorscale\":[[0.0,\"#0d0887\"],[0.1111111111111111,\"#46039f\"],[0.2222222222222222,\"#7201a8\"],[0.3333333333333333,\"#9c179e\"],[0.4444444444444444,\"#bd3786\"],[0.5555555555555556,\"#d8576b\"],[0.6666666666666666,\"#ed7953\"],[0.7777777777777778,\"#fb9f3a\"],[0.8888888888888888,\"#fdca26\"],[1.0,\"#f0f921\"]]}],\"surface\":[{\"type\":\"surface\",\"colorbar\":{\"outlinewidth\":0,\"ticks\":\"\"},\"colorscale\":[[0.0,\"#0d0887\"],[0.1111111111111111,\"#46039f\"],[0.2222222222222222,\"#7201a8\"],[0.3333333333333333,\"#9c179e\"],[0.4444444444444444,\"#bd3786\"],[0.5555555555555556,\"#d8576b\"],[0.6666666666666666,\"#ed7953\"],[0.7777777777777778,\"#fb9f3a\"],[0.8888888888888888,\"#fdca26\"],[1.0,\"#f0f921\"]]}],\"mesh3d\":[{\"type\":\"mesh3d\",\"colorbar\":{\"outlinewidth\":0,\"ticks\":\"\"}}],\"scatter\":[{\"marker\":{\"line\":{\"color\":\"#283442\"}},\"type\":\"scatter\"}],\"parcoords\":[{\"type\":\"parcoords\",\"line\":{\"colorbar\":{\"outlinewidth\":0,\"ticks\":\"\"}}}],\"scatterpolargl\":[{\"type\":\"scatterpolargl\",\"marker\":{\"colorbar\":{\"outlinewidth\":0,\"ticks\":\"\"}}}],\"bar\":[{\"error_x\":{\"color\":\"#f2f5fa\"},\"error_y\":{\"color\":\"#f2f5fa\"},\"marker\":{\"line\":{\"color\":\"rgb(17,17,17)\",\"width\":0.5},\"pattern\":{\"fillmode\":\"overlay\",\"size\":10,\"solidity\":0.2}},\"type\":\"bar\"}],\"scattergeo\":[{\"type\":\"scattergeo\",\"marker\":{\"colorbar\":{\"outlinewidth\":0,\"ticks\":\"\"}}}],\"scatterpolar\":[{\"type\":\"scatterpolar\",\"marker\":{\"colorbar\":{\"outlinewidth\":0,\"ticks\":\"\"}}}],\"histogram\":[{\"marker\":{\"pattern\":{\"fillmode\":\"overlay\",\"size\":10,\"solidity\":0.2}},\"type\":\"histogram\"}],\"scattergl\":[{\"marker\":{\"line\":{\"color\":\"#283442\"}},\"type\":\"scattergl\"}],\"scatter3d\":[{\"type\":\"scatter3d\",\"line\":{\"colorbar\":{\"outlinewidth\":0,\"ticks\":\"\"}},\"marker\":{\"colorbar\":{\"outlinewidth\":0,\"ticks\":\"\"}}}],\"scattermapbox\":[{\"type\":\"scattermapbox\",\"marker\":{\"colorbar\":{\"outlinewidth\":0,\"ticks\":\"\"}}}],\"scatterternary\":[{\"type\":\"scatterternary\",\"marker\":{\"colorbar\":{\"outlinewidth\":0,\"ticks\":\"\"}}}],\"scattercarpet\":[{\"type\":\"scattercarpet\",\"marker\":{\"colorbar\":{\"outlinewidth\":0,\"ticks\":\"\"}}}],\"carpet\":[{\"aaxis\":{\"endlinecolor\":\"#A2B1C6\",\"gridcolor\":\"#506784\",\"linecolor\":\"#506784\",\"minorgridcolor\":\"#506784\",\"startlinecolor\":\"#A2B1C6\"},\"baxis\":{\"endlinecolor\":\"#A2B1C6\",\"gridcolor\":\"#506784\",\"linecolor\":\"#506784\",\"minorgridcolor\":\"#506784\",\"startlinecolor\":\"#A2B1C6\"},\"type\":\"carpet\"}],\"table\":[{\"cells\":{\"fill\":{\"color\":\"#506784\"},\"line\":{\"color\":\"rgb(17,17,17)\"}},\"header\":{\"fill\":{\"color\":\"#2a3f5f\"},\"line\":{\"color\":\"rgb(17,17,17)\"}},\"type\":\"table\"}],\"barpolar\":[{\"marker\":{\"line\":{\"color\":\"rgb(17,17,17)\",\"width\":0.5},\"pattern\":{\"fillmode\":\"overlay\",\"size\":10,\"solidity\":0.2}},\"type\":\"barpolar\"}],\"pie\":[{\"automargin\":true,\"type\":\"pie\"}]},\"layout\":{\"autotypenumbers\":\"strict\",\"colorway\":[\"#636efa\",\"#EF553B\",\"#00cc96\",\"#ab63fa\",\"#FFA15A\",\"#19d3f3\",\"#FF6692\",\"#B6E880\",\"#FF97FF\",\"#FECB52\"],\"font\":{\"color\":\"#f2f5fa\"},\"hovermode\":\"closest\",\"hoverlabel\":{\"align\":\"left\"},\"paper_bgcolor\":\"rgb(17,17,17)\",\"plot_bgcolor\":\"rgb(17,17,17)\",\"polar\":{\"bgcolor\":\"rgb(17,17,17)\",\"angularaxis\":{\"gridcolor\":\"#506784\",\"linecolor\":\"#506784\",\"ticks\":\"\"},\"radialaxis\":{\"gridcolor\":\"#506784\",\"linecolor\":\"#506784\",\"ticks\":\"\"}},\"ternary\":{\"bgcolor\":\"rgb(17,17,17)\",\"aaxis\":{\"gridcolor\":\"#506784\",\"linecolor\":\"#506784\",\"ticks\":\"\"},\"baxis\":{\"gridcolor\":\"#506784\",\"linecolor\":\"#506784\",\"ticks\":\"\"},\"caxis\":{\"gridcolor\":\"#506784\",\"linecolor\":\"#506784\",\"ticks\":\"\"}},\"coloraxis\":{\"colorbar\":{\"outlinewidth\":0,\"ticks\":\"\"}},\"colorscale\":{\"sequential\":[[0.0,\"#0d0887\"],[0.1111111111111111,\"#46039f\"],[0.2222222222222222,\"#7201a8\"],[0.3333333333333333,\"#9c179e\"],[0.4444444444444444,\"#bd3786\"],[0.5555555555555556,\"#d8576b\"],[0.6666666666666666,\"#ed7953\"],[0.7777777777777778,\"#fb9f3a\"],[0.8888888888888888,\"#fdca26\"],[1.0,\"#f0f921\"]],\"sequentialminus\":[[0.0,\"#0d0887\"],[0.1111111111111111,\"#46039f\"],[0.2222222222222222,\"#7201a8\"],[0.3333333333333333,\"#9c179e\"],[0.4444444444444444,\"#bd3786\"],[0.5555555555555556,\"#d8576b\"],[0.6666666666666666,\"#ed7953\"],[0.7777777777777778,\"#fb9f3a\"],[0.8888888888888888,\"#fdca26\"],[1.0,\"#f0f921\"]],\"diverging\":[[0,\"#8e0152\"],[0.1,\"#c51b7d\"],[0.2,\"#de77ae\"],[0.3,\"#f1b6da\"],[0.4,\"#fde0ef\"],[0.5,\"#f7f7f7\"],[0.6,\"#e6f5d0\"],[0.7,\"#b8e186\"],[0.8,\"#7fbc41\"],[0.9,\"#4d9221\"],[1,\"#276419\"]]},\"xaxis\":{\"gridcolor\":\"#283442\",\"linecolor\":\"#506784\",\"ticks\":\"\",\"title\":{\"standoff\":15},\"zerolinecolor\":\"#283442\",\"automargin\":true,\"zerolinewidth\":2},\"yaxis\":{\"gridcolor\":\"#283442\",\"linecolor\":\"#506784\",\"ticks\":\"\",\"title\":{\"standoff\":15},\"zerolinecolor\":\"#283442\",\"automargin\":true,\"zerolinewidth\":2},\"scene\":{\"xaxis\":{\"backgroundcolor\":\"rgb(17,17,17)\",\"gridcolor\":\"#506784\",\"linecolor\":\"#506784\",\"showbackground\":true,\"ticks\":\"\",\"zerolinecolor\":\"#C8D4E3\",\"gridwidth\":2},\"yaxis\":{\"backgroundcolor\":\"rgb(17,17,17)\",\"gridcolor\":\"#506784\",\"linecolor\":\"#506784\",\"showbackground\":true,\"ticks\":\"\",\"zerolinecolor\":\"#C8D4E3\",\"gridwidth\":2},\"zaxis\":{\"backgroundcolor\":\"rgb(17,17,17)\",\"gridcolor\":\"#506784\",\"linecolor\":\"#506784\",\"showbackground\":true,\"ticks\":\"\",\"zerolinecolor\":\"#C8D4E3\",\"gridwidth\":2}},\"shapedefaults\":{\"line\":{\"color\":\"#f2f5fa\"}},\"annotationdefaults\":{\"arrowcolor\":\"#f2f5fa\",\"arrowhead\":0,\"arrowwidth\":1},\"geo\":{\"bgcolor\":\"rgb(17,17,17)\",\"landcolor\":\"rgb(17,17,17)\",\"subunitcolor\":\"#506784\",\"showland\":true,\"showlakes\":true,\"lakecolor\":\"rgb(17,17,17)\"},\"title\":{\"x\":0.05},\"updatemenudefaults\":{\"bgcolor\":\"#506784\",\"borderwidth\":0},\"sliderdefaults\":{\"bgcolor\":\"#C8D4E3\",\"borderwidth\":1,\"bordercolor\":\"rgb(17,17,17)\",\"tickwidth\":0},\"mapbox\":{\"style\":\"dark\"}}},\"xaxis\":{\"anchor\":\"y\",\"domain\":[0.0,1.0],\"title\":{\"text\":\"x\"}},\"yaxis\":{\"anchor\":\"x\",\"domain\":[0.0,1.0],\"title\":{\"text\":\"y\"}},\"legend\":{\"tracegroupgap\":0},\"margin\":{\"t\":60},\"shapes\":[{\"type\":\"line\",\"x0\":28,\"x1\":28,\"xref\":\"x\",\"y0\":0,\"y1\":1,\"yref\":\"y domain\"}],\"height\":450,\"width\":900,\"title\":{\"text\":\"Silhouette Score\"}},                        {\"responsive\": true}                    ).then(function(){\n                            \nvar gd = document.getElementById('09ff93bf-7d39-4647-b7b8-60fa25a107fa');\nvar x = new MutationObserver(function (mutations, observer) {{\n        var display = window.getComputedStyle(gd).display;\n        if (!display || display === 'none') {{\n            console.log([gd, 'removed!']);\n            Plotly.purge(gd);\n            observer.disconnect();\n        }}\n}});\n\n// Listen for the removal of the full notebook cells\nvar notebookContainer = gd.closest('#notebook-container');\nif (notebookContainer) {{\n    x.observe(notebookContainer, {childList: true});\n}}\n\n// Listen for the clearing of the current output cell\nvar outputEl = gd.closest('.output');\nif (outputEl) {{\n    x.observe(outputEl, {childList: true});\n}}\n\n                        })                };                });            </script>        </div>"
     },
     "metadata": {},
     "output_type": "display_data"
    },
    {
     "data": {
      "text/plain": "<Figure size 640x480 with 1 Axes>",
      "image/png": "[encoded data removed]"
     },
     "metadata": {},
     "output_type": "display_data"
    },
    {
     "data": {
      "application/vnd.plotly.v1+json": {
       "data": [
        {
         "hovertemplate": "color=cluster_1<br>x=%{x}<br>y=%{y}<br>text=%{text}<extra></extra>",
         "legendgroup": "cluster_1",
         "marker": {
          "color": "#2E91E5",
          "symbol": "circle"
         },
         "mode": "markers+text",
         "name": "cluster_1",
         "orientation": "v",
         "showlegend": true,
         "text": [
          "APL",
          "Crystal",
          "Fortran",
          "Haskell",
          "Lua",
          "OCaml",
          "Heroku",
          "IBM Cloud or Watson",
          "Linode",
          "Managed Hosting",
          "OVH",
          "GTK",
          "Nano",
          "Neovim"
         ],
         "x": [
          -1.2693793773651123,
          -0.4293331801891327,
          -5.039768218994141,
          -7.232095718383789,
          -3.093881607055664,
          -5.943118095397949,
          1.8285114765167236,
          -1.1808794736862183,
          -2.6074182987213135,
          -1.2239598035812378,
          0.46161168813705444,
          -3.1618502140045166,
          0.015739209949970245,
          -5.744964122772217
         ],
         "xaxis": "x",
         "y": [
          0.03441867232322693,
          0.6087098717689514,
          1.4271529912948608,
          3.3903040885925293,
          2.894092559814453,
          3.320220470428467,
          4.468674182891846,
          4.2235002517700195,
          0.8363521099090576,
          1.8772867918014526,
          2.671002149581909,
          6.009737491607666,
          6.682770729064941,
          4.764492988586426
         ],
         "yaxis": "y",
         "type": "scatter",
         "textposition": "top center"
        },
        {
         "hovertemplate": "color=cluster_9<br>x=%{x}<br>y=%{y}<br>text=%{text}<extra></extra>",
         "legendgroup": "cluster_9",
         "marker": {
          "color": "#E15F99",
          "symbol": "circle"
         },
         "mode": "markers+text",
         "name": "cluster_9",
         "orientation": "v",
         "showlegend": true,
         "text": [
          "Assembly",
          "C",
          "C++",
          "Qt",
          "Qt Creator"
         ],
         "x": [
          -18.072895050048828,
          -18.958553314208984,
          -19.706485748291016,
          -15.395896911621094,
          -14.610166549682617
         ],
         "xaxis": "x",
         "y": [
          3.167133092880249,
          3.8044333457946777,
          4.489725589752197,
          7.492887020111084,
          7.146412372589111
         ],
         "yaxis": "y",
         "type": "scatter",
         "textposition": "top center"
        },
        {
         "hovertemplate": "color=cluster_26<br>x=%{x}<br>y=%{y}<br>text=%{text}<extra></extra>",
         "legendgroup": "cluster_26",
         "marker": {
          "color": "#1CA71C",
          "symbol": "circle"
         },
         "mode": "markers+text",
         "name": "cluster_26",
         "orientation": "v",
         "showlegend": true,
         "text": [
          "Bash/Shell",
          "Perl",
          "Vim"
         ],
         "x": [
          -11.487404823303223,
          -10.179931640625,
          -10.828633308410645
         ],
         "xaxis": "x",
         "y": [
          -11.458747863769531,
          -9.608177185058594,
          -10.515512466430664
         ],
         "yaxis": "y",
         "type": "scatter",
         "textposition": "top center"
        },
        {
         "hovertemplate": "color=cluster_20<br>x=%{x}<br>y=%{y}<br>text=%{text}<extra></extra>",
         "legendgroup": "cluster_20",
         "marker": {
          "color": "#FB0D0D",
          "symbol": "circle"
         },
         "mode": "markers+text",
         "name": "cluster_20",
         "orientation": "v",
         "showlegend": true,
         "text": [
          "C#",
          "SQL",
          "Microsoft SQL Server",
          "Microsoft Azure",
          "ASP.NET Core ",
          ".NET",
          "Visual Studio"
         ],
         "x": [
          5.333744525909424,
          7.506499767303467,
          6.325922966003418,
          3.514098882675171,
          4.475043773651123,
          5.270396709442139,
          5.36539888381958
         ],
         "xaxis": "x",
         "y": [
          30.90228271484375,
          27.93649673461914,
          28.213733673095703,
          27.639923095703125,
          27.489704132080078,
          30.578378677368164,
          31.870424270629883
         ],
         "yaxis": "y",
         "type": "scatter",
         "textposition": "top center"
        },
        {
         "hovertemplate": "color=cluster_14<br>x=%{x}<br>y=%{y}<br>text=%{text}<extra></extra>",
         "legendgroup": "cluster_14",
         "marker": {
          "color": "#DA16FF",
          "symbol": "circle"
         },
         "mode": "markers+text",
         "name": "cluster_14",
         "orientation": "v",
         "showlegend": true,
         "text": [
          "COBOL",
          "F#",
          "PowerShell",
          "IBM DB2",
          "Eclipse",
          "NetBeans"
         ],
         "x": [
          -2.696453094482422,
          -2.94740629196167,
          -2.8206946849823,
          -3.144176721572876,
          0.5707880258560181,
          1.0332119464874268
         ],
         "xaxis": "x",
         "y": [
          9.891251564025879,
          16.619476318359375,
          17.60150146484375,
          10.66296672821045,
          12.150419235229492,
          11.240150451660156
         ],
         "yaxis": "y",
         "type": "scatter",
         "textposition": "top center"
        },
        {
         "hovertemplate": "color=cluster_16<br>x=%{x}<br>y=%{y}<br>text=%{text}<extra></extra>",
         "legendgroup": "cluster_16",
         "marker": {
          "color": "#222A2A",
          "symbol": "circle"
         },
         "mode": "markers+text",
         "name": "cluster_16",
         "orientation": "v",
         "showlegend": true,
         "text": [
          "Clojure",
          "Erlang",
          "Julia",
          "MATLAB",
          "SAS",
          "VBA",
          "CLion",
          "RubyMine",
          "Spyder",
          "TextMate"
         ],
         "x": [
          -8.330279350280762,
          -8.138025283813477,
          -4.694472312927246,
          -6.053248405456543,
          -2.091247320175171,
          -2.453031539916992,
          -2.1876749992370605,
          -7.220622539520264,
          -4.04780387878418,
          -3.8853511810302734
         ],
         "xaxis": "x",
         "y": [
          0.7523410320281982,
          -2.611639976501465,
          -2.907390594482422,
          -0.8969488739967346,
          -2.6258556842803955,
          -3.708672285079956,
          -0.8306471109390259,
          -5.484407901763916,
          -5.547966957092285,
          -0.6908549666404724
         ],
         "yaxis": "y",
         "type": "scatter",
         "textposition": "top center"
        },
        {
         "hovertemplate": "color=cluster_15<br>x=%{x}<br>y=%{y}<br>text=%{text}<extra></extra>",
         "legendgroup": "cluster_15",
         "marker": {
          "color": "#B68100",
          "symbol": "circle"
         },
         "mode": "markers+text",
         "name": "cluster_15",
         "orientation": "v",
         "showlegend": true,
         "text": [
          "Dart",
          "Flutter",
          "Android Studio"
         ],
         "x": [
          -29.69088363647461,
          -29.580801010131836,
          -30.85567283630371
         ],
         "xaxis": "x",
         "y": [
          13.016979217529297,
          12.967098236083984,
          13.545565605163574
         ],
         "yaxis": "y",
         "type": "scatter",
         "textposition": "top center"
        },
        {
         "hovertemplate": "color=cluster_11<br>x=%{x}<br>y=%{y}<br>text=%{text}<extra></extra>",
         "legendgroup": "cluster_11",
         "marker": {
          "color": "#750D86",
          "symbol": "circle"
         },
         "mode": "markers+text",
         "name": "cluster_11",
         "orientation": "v",
         "showlegend": true,
         "text": [
          "Delphi",
          "RAD Studio (Delphi_C++ Builder)"
         ],
         "x": [
          -13.306756973266602,
          -13.307025909423828
         ],
         "xaxis": "x",
         "y": [
          27.144590377807617,
          27.144975662231445
         ],
         "yaxis": "y",
         "type": "scatter",
         "textposition": "top center"
        },
        {
         "hovertemplate": "color=cluster_22<br>x=%{x}<br>y=%{y}<br>text=%{text}<extra></extra>",
         "legendgroup": "cluster_22",
         "marker": {
          "color": "#EB663B",
          "symbol": "circle"
         },
         "mode": "markers+text",
         "name": "cluster_22",
         "orientation": "v",
         "showlegend": true,
         "text": [
          "Elixir",
          "Phoenix",
          "Homebrew"
         ],
         "x": [
          -32.86338806152344,
          -32.98762130737305,
          -32.31353759765625
         ],
         "xaxis": "x",
         "y": [
          -8.226104736328125,
          -7.960988998413086,
          -9.397781372070312
         ],
         "yaxis": "y",
         "type": "scatter",
         "textposition": "top center"
        },
        {
         "hovertemplate": "color=cluster_10<br>x=%{x}<br>y=%{y}<br>text=%{text}<extra></extra>",
         "legendgroup": "cluster_10",
         "marker": {
          "color": "#511CFB",
          "symbol": "circle"
         },
         "mode": "markers+text",
         "name": "cluster_10",
         "orientation": "v",
         "showlegend": true,
         "text": [
          "Go",
          "Rust",
          "Deno",
          "Nuxt.js",
          "Svelte",
          "Vue.js",
          "GoLand"
         ],
         "x": [
          8.83987045288086,
          14.269073486328125,
          14.00758171081543,
          8.833113670349121,
          13.908140182495117,
          9.717162132263184,
          8.191454887390137
         ],
         "xaxis": "x",
         "y": [
          -6.252360820770264,
          -4.163124084472656,
          -3.132537603378296,
          -0.5884497165679932,
          -1.9396913051605225,
          -0.5235565900802612,
          -5.6256866455078125
         ],
         "yaxis": "y",
         "type": "scatter",
         "textposition": "top center"
        },
        {
         "hovertemplate": "color=cluster_24<br>x=%{x}<br>y=%{y}<br>text=%{text}<extra></extra>",
         "legendgroup": "cluster_24",
         "marker": {
          "color": "#00A08B",
          "symbol": "circle"
         },
         "mode": "markers+text",
         "name": "cluster_24",
         "orientation": "v",
         "showlegend": true,
         "text": [
          "Groovy",
          "Java",
          "Spring",
          "IntelliJ"
         ],
         "x": [
          4.356251239776611,
          5.943366527557373,
          5.542477130889893,
          6.026913166046143
         ],
         "xaxis": "x",
         "y": [
          -21.69779396057129,
          -24.52117919921875,
          -22.842079162597656,
          -24.931167602539062
         ],
         "yaxis": "y",
         "type": "scatter",
         "textposition": "top center"
        },
        {
         "hovertemplate": "color=cluster_4<br>x=%{x}<br>y=%{y}<br>text=%{text}<extra></extra>",
         "legendgroup": "cluster_4",
         "marker": {
          "color": "#FB00D1",
          "symbol": "circle"
         },
         "mode": "markers+text",
         "name": "cluster_4",
         "orientation": "v",
         "showlegend": true,
         "text": [
          "HTML/CSS",
          "JavaScript",
          "TypeScript",
          "npm",
          "Visual Studio Code"
         ],
         "x": [
          26.069026947021484,
          26.366674423217773,
          23.845314025878906,
          23.362808227539062,
          27.487239837646484
         ],
         "xaxis": "x",
         "y": [
          5.342594623565674,
          5.044680595397949,
          2.649606227874756,
          2.2250514030456543,
          4.283560276031494
         ],
         "yaxis": "y",
         "type": "scatter",
         "textposition": "top center"
        },
        {
         "hovertemplate": "color=cluster_13<br>x=%{x}<br>y=%{y}<br>text=%{text}<extra></extra>",
         "legendgroup": "cluster_13",
         "marker": {
          "color": "#FC0080",
          "symbol": "circle"
         },
         "mode": "markers+text",
         "name": "cluster_13",
         "orientation": "v",
         "showlegend": true,
         "text": [
          "Kotlin",
          "Solidity",
          "CouchDB",
          "Couchbase",
          "Colocation",
          "DigitalOcean",
          "VMware",
          "Flow",
          "Puppet",
          "Atom",
          "Sublime Text",
          "Webstorm"
         ],
         "x": [
          1.8411712646484375,
          1.2884927988052368,
          4.399886608123779,
          0.2586635649204254,
          -0.6862236857414246,
          3.0098612308502197,
          1.9032433032989502,
          0.25662723183631897,
          -0.4314051568508148,
          2.6167051792144775,
          5.1165547370910645,
          1.1965816020965576
         ],
         "xaxis": "x",
         "y": [
          -6.85750675201416,
          0.9467366337776184,
          -4.850498199462891,
          -2.739962339401245,
          -1.3306164741516113,
          -0.008959250524640083,
          -4.112157344818115,
          -0.33216893672943115,
          -4.9636311531066895,
          -2.0680274963378906,
          -2.055159568786621,
          -0.9229718446731567
         ],
         "yaxis": "y",
         "type": "scatter",
         "textposition": "top center"
        },
        {
         "hovertemplate": "color=cluster_12<br>x=%{x}<br>y=%{y}<br>text=%{text}<extra></extra>",
         "legendgroup": "cluster_12",
         "marker": {
          "color": "#B2828D",
          "symbol": "circle"
         },
         "mode": "markers+text",
         "name": "cluster_12",
         "orientation": "v",
         "showlegend": true,
         "text": [
          "LISP",
          "Cloud Firestore",
          "Firebase Realtime Database",
          "Firebase",
          "Google Cloud",
          "Emacs"
         ],
         "x": [
          -11.051843643188477,
          -15.0975341796875,
          -11.932657241821289,
          -13.452417373657227,
          -16.096059799194336,
          -11.915099143981934
         ],
         "xaxis": "x",
         "y": [
          2.5685055255889893,
          -3.380491256713867,
          -3.4081571102142334,
          -3.5682454109191895,
          -3.4076435565948486,
          2.554950475692749
         ],
         "yaxis": "y",
         "type": "scatter",
         "textposition": "top center"
        },
        {
         "hovertemplate": "color=cluster_21<br>x=%{x}<br>y=%{y}<br>text=%{text}<extra></extra>",
         "legendgroup": "cluster_21",
         "marker": {
          "color": "#6C7C32",
          "symbol": "circle"
         },
         "mode": "markers+text",
         "name": "cluster_21",
         "orientation": "v",
         "showlegend": true,
         "text": [
          "Objective-C",
          "Swift",
          "Xcode"
         ],
         "x": [
          -14.121843338012695,
          -14.784425735473633,
          -15.400616645812988
         ],
         "xaxis": "x",
         "y": [
          14.859517097473145,
          15.62267017364502,
          16.3306827545166
         ],
         "yaxis": "y",
         "type": "scatter",
         "textposition": "top center"
        },
        {
         "hovertemplate": "color=cluster_27<br>x=%{x}<br>y=%{y}<br>text=%{text}<extra></extra>",
         "legendgroup": "cluster_27",
         "marker": {
          "color": "#778AAE",
          "symbol": "circle"
         },
         "mode": "markers+text",
         "name": "cluster_27",
         "orientation": "v",
         "showlegend": true,
         "text": [
          "PHP",
          "MySQL",
          "Laravel",
          "Symfony",
          "PhpStorm"
         ],
         "x": [
          9.003496170043945,
          9.146865844726562,
          6.834238052368164,
          10.482037544250488,
          9.5809965133667
         ],
         "xaxis": "x",
         "y": [
          14.310216903686523,
          15.368600845336914,
          11.736682891845703,
          12.232187271118164,
          13.002641677856445
         ],
         "yaxis": "y",
         "type": "scatter",
         "textposition": "top center"
        },
        {
         "hovertemplate": "color=cluster_25<br>x=%{x}<br>y=%{y}<br>text=%{text}<extra></extra>",
         "legendgroup": "cluster_25",
         "marker": {
          "color": "#862A16",
          "symbol": "circle"
         },
         "mode": "markers+text",
         "name": "cluster_25",
         "orientation": "v",
         "showlegend": true,
         "text": [
          "Python",
          "NumPy",
          "Pandas"
         ],
         "x": [
          -15.78377628326416,
          -15.328047752380371,
          -15.245379447937012
         ],
         "xaxis": "x",
         "y": [
          -30.256912231445312,
          -29.05715560913086,
          -28.83296775817871
         ],
         "yaxis": "y",
         "type": "scatter",
         "textposition": "top center"
        },
        {
         "hovertemplate": "color=cluster_19<br>x=%{x}<br>y=%{y}<br>text=%{text}<extra></extra>",
         "legendgroup": "cluster_19",
         "marker": {
          "color": "#A777F1",
          "symbol": "circle"
         },
         "mode": "markers+text",
         "name": "cluster_19",
         "orientation": "v",
         "showlegend": true,
         "text": [
          "R",
          "Tidyverse",
          "RStudio"
         ],
         "x": [
          -19.519161224365234,
          -17.84076499938965,
          -19.043588638305664
         ],
         "xaxis": "x",
         "y": [
          -11.088932037353516,
          -10.278253555297852,
          -10.859007835388184
         ],
         "yaxis": "y",
         "type": "scatter",
         "textposition": "top center"
        },
        {
         "hovertemplate": "color=cluster_3<br>x=%{x}<br>y=%{y}<br>text=%{text}<extra></extra>",
         "legendgroup": "cluster_3",
         "marker": {
          "color": "#620042",
          "symbol": "circle"
         },
         "mode": "markers+text",
         "name": "cluster_3",
         "orientation": "v",
         "showlegend": true,
         "text": [
          "Ruby",
          "Ruby on Rails"
         ],
         "x": [
          -27.984821319580078,
          -28.010732650756836
         ],
         "xaxis": "x",
         "y": [
          -13.623172760009766,
          -13.591164588928223
         ],
         "yaxis": "y",
         "type": "scatter",
         "textposition": "top center"
        },
        {
         "hovertemplate": "color=cluster_8<br>x=%{x}<br>y=%{y}<br>text=%{text}<extra></extra>",
         "legendgroup": "cluster_8",
         "marker": {
          "color": "#1616A7",
          "symbol": "circle"
         },
         "mode": "markers+text",
         "name": "cluster_8",
         "orientation": "v",
         "showlegend": true,
         "text": [
          "Scala",
          "MongoDB",
          "Neo4j",
          "OpenStack",
          "Play Framework",
          "Apache Spark",
          "Hadoop",
          "Ansible",
          "Chef"
         ],
         "x": [
          -5.299102306365967,
          1.595262885093689,
          2.0367939472198486,
          -1.45988130569458,
          -4.77252197265625,
          -1.7578368186950684,
          -1.5164411067962646,
          3.1110785007476807,
          3.9693543910980225
         ],
         "xaxis": "x",
         "y": [
          -9.860504150390625,
          -16.727079391479492,
          -15.993796348571777,
          -7.333822250366211,
          -9.126683235168457,
          -12.504542350769043,
          -11.65260124206543,
          -10.84389877319336,
          -10.510334968566895
         ],
         "yaxis": "y",
         "type": "scatter",
         "textposition": "top center"
        },
        {
         "hovertemplate": "color=cluster_0<br>x=%{x}<br>y=%{y}<br>text=%{text}<extra></extra>",
         "legendgroup": "cluster_0",
         "marker": {
          "color": "#DA60CA",
          "symbol": "circle"
         },
         "mode": "markers+text",
         "name": "cluster_0",
         "orientation": "v",
         "showlegend": true,
         "text": [
          "Cassandra",
          "Elasticsearch",
          "PostgreSQL",
          "Redis",
          "Apache Kafka"
         ],
         "x": [
          8.103930473327637,
          9.523783683776855,
          11.890058517456055,
          10.855377197265625,
          7.837387561798096
         ],
         "xaxis": "x",
         "y": [
          -18.057003021240234,
          -18.799816131591797,
          -18.194948196411133,
          -18.734376907348633,
          -16.729970932006836
         ],
         "yaxis": "y",
         "type": "scatter",
         "textposition": "top center"
        },
        {
         "hovertemplate": "color=cluster_23<br>x=%{x}<br>y=%{y}<br>text=%{text}<extra></extra>",
         "legendgroup": "cluster_23",
         "marker": {
          "color": "#6C4516",
          "symbol": "circle"
         },
         "mode": "markers+text",
         "name": "cluster_23",
         "orientation": "v",
         "showlegend": true,
         "text": [
          "DynamoDB",
          "AWS",
          "Docker",
          "Kubernetes",
          "Pulumi",
          "Terraform"
         ],
         "x": [
          13.10283088684082,
          12.936378479003906,
          10.080106735229492,
          8.960041046142578,
          6.845264911651611,
          6.540862083435059
         ],
         "xaxis": "x",
         "y": [
          -11.794419288635254,
          -12.864479064941406,
          -14.312607765197754,
          -14.717704772949219,
          -9.816651344299316,
          -11.220749855041504
         ],
         "yaxis": "y",
         "type": "scatter",
         "textposition": "top center"
        },
        {
         "hovertemplate": "color=cluster_7<br>x=%{x}<br>y=%{y}<br>text=%{text}<extra></extra>",
         "legendgroup": "cluster_7",
         "marker": {
          "color": "#0D2A63",
          "symbol": "circle"
         },
         "mode": "markers+text",
         "name": "cluster_7",
         "orientation": "v",
         "showlegend": true,
         "text": [
          "MariaDB",
          "Angular",
          "Angular.js",
          "Drupal",
          "jQuery"
         ],
         "x": [
          12.346720695495605,
          14.64991569519043,
          13.974004745483398,
          13.76163387298584,
          14.701371192932129
         ],
         "xaxis": "x",
         "y": [
          12.008384704589844,
          4.955199718475342,
          5.595898628234863,
          10.976003646850586,
          10.53062629699707
         ],
         "yaxis": "y",
         "type": "scatter",
         "textposition": "top center"
        },
        {
         "hovertemplate": "color=cluster_6<br>x=%{x}<br>y=%{y}<br>text=%{text}<extra></extra>",
         "legendgroup": "cluster_6",
         "marker": {
          "color": "#AF0038",
          "symbol": "circle"
         },
         "mode": "markers+text",
         "name": "cluster_6",
         "orientation": "v",
         "showlegend": true,
         "text": [
          "Oracle",
          "Oracle Cloud Infrastructure",
          "Unity 3D",
          "Unreal Engine"
         ],
         "x": [
          -7.388915061950684,
          -7.143206596374512,
          -9.281099319458008,
          -8.641958236694336
         ],
         "xaxis": "x",
         "y": [
          13.204779624938965,
          12.375287055969238,
          8.290314674377441,
          7.68497371673584
         ],
         "yaxis": "y",
         "type": "scatter",
         "textposition": "top center"
        },
        {
         "hovertemplate": "color=cluster_2<br>x=%{x}<br>y=%{y}<br>text=%{text}<extra></extra>",
         "legendgroup": "cluster_2",
         "marker": {
          "color": "#2E91E5",
          "symbol": "circle"
         },
         "mode": "markers+text",
         "name": "cluster_2",
         "orientation": "v",
         "showlegend": true,
         "text": [
          "SQLite",
          "ASP.NET",
          "Blazor",
          "Uno Platform",
          "Xamarin",
          "Notepad++"
         ],
         "x": [
          4.218972206115723,
          3.0866618156433105,
          3.4478046894073486,
          3.5132999420166016,
          3.8636362552642822,
          1.090428352355957
         ],
         "xaxis": "x",
         "y": [
          19.544937133789062,
          24.79023551940918,
          23.306486129760742,
          21.8004207611084,
          20.639883041381836,
          24.58851432800293
         ],
         "yaxis": "y",
         "type": "scatter",
         "textposition": "top center"
        },
        {
         "hovertemplate": "color=cluster_18<br>x=%{x}<br>y=%{y}<br>text=%{text}<extra></extra>",
         "legendgroup": "cluster_18",
         "marker": {
          "color": "#E15F99",
          "symbol": "circle"
         },
         "mode": "markers+text",
         "name": "cluster_18",
         "orientation": "v",
         "showlegend": true,
         "text": [
          "Django",
          "Capacitor",
          "Cordova",
          "Electron",
          "Ionic",
          "React Native",
          "Rider"
         ],
         "x": [
          2.9482436180114746,
          9.306902885437012,
          8.449378967285156,
          4.8992767333984375,
          10.344185829162598,
          5.44627571105957,
          3.4591665267944336
         ],
         "xaxis": "x",
         "y": [
          2.2407338619232178,
          4.737919807434082,
          5.461650848388672,
          3.861215591430664,
          4.787344455718994,
          0.7823399305343628,
          7.0637311935424805
         ],
         "yaxis": "y",
         "type": "scatter",
         "textposition": "top center"
        },
        {
         "hovertemplate": "color=cluster_17<br>x=%{x}<br>y=%{y}<br>text=%{text}<extra></extra>",
         "legendgroup": "cluster_17",
         "marker": {
          "color": "#1CA71C",
          "symbol": "circle"
         },
         "mode": "markers+text",
         "name": "cluster_17",
         "orientation": "v",
         "showlegend": true,
         "text": [
          "Express",
          "Fastify",
          "Gatsby",
          "Next.js",
          "Node.js",
          "React.js",
          "Yarn"
         ],
         "x": [
          20.570676803588867,
          19.333444595336914,
          20.67279815673828,
          21.95589828491211,
          21.85165023803711,
          22.937915802001953,
          22.75145149230957
         ],
         "xaxis": "x",
         "y": [
          0.5259822010993958,
          -0.0034861371386796236,
          -4.57305383682251,
          -4.13382625579834,
          1.1955012083053589,
          -3.1113104820251465,
          -4.8215789794921875
         ],
         "yaxis": "y",
         "type": "scatter",
         "textposition": "top center"
        },
        {
         "hovertemplate": "color=cluster_5<br>x=%{x}<br>y=%{y}<br>text=%{text}<extra></extra>",
         "legendgroup": "cluster_5",
         "marker": {
          "color": "#FB0D0D",
          "symbol": "circle"
         },
         "mode": "markers+text",
         "name": "cluster_5",
         "orientation": "v",
         "showlegend": true,
         "text": [
          "FastAPI",
          "Flask",
          "Hugging Face Transformers",
          "Keras",
          "Scikit-learn",
          "TensorFlow",
          "Torch/PyTorch",
          "IPython/Jupyter",
          "PyCharm"
         ],
         "x": [
          -8.337275505065918,
          -7.571410179138184,
          -11.336701393127441,
          -11.598039627075195,
          -13.296753883361816,
          -10.80070686340332,
          -12.31037712097168,
          -14.305618286132812,
          -9.525256156921387
         ],
         "xaxis": "x",
         "y": [
          -18.6966552734375,
          -18.11782455444336,
          -22.192718505859375,
          -23.83187484741211,
          -24.264602661132812,
          -24.669815063476562,
          -22.019804000854492,
          -24.528156280517578,
          -20.14756202697754
         ],
         "yaxis": "y",
         "type": "scatter",
         "textposition": "top center"
        }
       ],
       "layout": {
        "template": {
         "data": {
          "histogram2dcontour": [
           {
            "type": "histogram2dcontour",
            "colorbar": {
             "outlinewidth": 0,
             "ticks": ""
            },
            "colorscale": [
             [
              0.0,
              "#0d0887"
             ],
             [
              0.1111111111111111,
              "#46039f"
             ],
             [
              0.2222222222222222,
              "#7201a8"
             ],
             [
              0.3333333333333333,
              "#9c179e"
             ],
             [
              0.4444444444444444,
              "#bd3786"
             ],
             [
              0.5555555555555556,
              "#d8576b"
             ],
             [
              0.6666666666666666,
              "#ed7953"
             ],
             [
              0.7777777777777778,
              "#fb9f3a"
             ],
             [
              0.8888888888888888,
              "#fdca26"
             ],
             [
              1.0,
              "#f0f921"
             ]
            ]
           }
          ],
          "choropleth": [
           {
            "type": "choropleth",
            "colorbar": {
             "outlinewidth": 0,
             "ticks": ""
            }
           }
          ],
          "histogram2d": [
           {
            "type": "histogram2d",
            "colorbar": {
             "outlinewidth": 0,
             "ticks": ""
            },
            "colorscale": [
             [
              0.0,
              "#0d0887"
             ],
             [
              0.1111111111111111,
              "#46039f"
             ],
             [
              0.2222222222222222,
              "#7201a8"
             ],
             [
              0.3333333333333333,
              "#9c179e"
             ],
             [
              0.4444444444444444,
              "#bd3786"
             ],
             [
              0.5555555555555556,
              "#d8576b"
             ],
             [
              0.6666666666666666,
              "#ed7953"
             ],
             [
              0.7777777777777778,
              "#fb9f3a"
             ],
             [
              0.8888888888888888,
              "#fdca26"
             ],
             [
              1.0,
              "#f0f921"
             ]
            ]
           }
          ],
          "heatmap": [
           {
            "type": "heatmap",
            "colorbar": {
             "outlinewidth": 0,
             "ticks": ""
            },
            "colorscale": [
             [
              0.0,
              "#0d0887"
             ],
             [
              0.1111111111111111,
              "#46039f"
             ],
             [
              0.2222222222222222,
              "#7201a8"
             ],
             [
              0.3333333333333333,
              "#9c179e"
             ],
             [
              0.4444444444444444,
              "#bd3786"
             ],
             [
              0.5555555555555556,
              "#d8576b"
             ],
             [
              0.6666666666666666,
              "#ed7953"
             ],
             [
              0.7777777777777778,
              "#fb9f3a"
             ],
             [
              0.8888888888888888,
              "#fdca26"
             ],
             [
              1.0,
              "#f0f921"
             ]
            ]
           }
          ],
          "heatmapgl": [
           {
            "type": "heatmapgl",
            "colorbar": {
             "outlinewidth": 0,
             "ticks": ""
            },
            "colorscale": [
             [
              0.0,
              "#0d0887"
             ],
             [
              0.1111111111111111,
              "#46039f"
             ],
             [
              0.2222222222222222,
              "#7201a8"
             ],
             [
              0.3333333333333333,
              "#9c179e"
             ],
             [
              0.4444444444444444,
              "#bd3786"
             ],
             [
              0.5555555555555556,
              "#d8576b"
             ],
             [
              0.6666666666666666,
              "#ed7953"
             ],
             [
              0.7777777777777778,
              "#fb9f3a"
             ],
             [
              0.8888888888888888,
              "#fdca26"
             ],
             [
              1.0,
              "#f0f921"
             ]
            ]
           }
          ],
          "contourcarpet": [
           {
            "type": "contourcarpet",
            "colorbar": {
             "outlinewidth": 0,
             "ticks": ""
            }
           }
          ],
          "contour": [
           {
            "type": "contour",
            "colorbar": {
             "outlinewidth": 0,
             "ticks": ""
            },
            "colorscale": [
             [
              0.0,
              "#0d0887"
             ],
             [
              0.1111111111111111,
              "#46039f"
             ],
             [
              0.2222222222222222,
              "#7201a8"
             ],
             [
              0.3333333333333333,
              "#9c179e"
             ],
             [
              0.4444444444444444,
              "#bd3786"
             ],
             [
              0.5555555555555556,
              "#d8576b"
             ],
             [
              0.6666666666666666,
              "#ed7953"
             ],
             [
              0.7777777777777778,
              "#fb9f3a"
             ],
             [
              0.8888888888888888,
              "#fdca26"
             ],
             [
              1.0,
              "#f0f921"
             ]
            ]
           }
          ],
          "surface": [
           {
            "type": "surface",
            "colorbar": {
             "outlinewidth": 0,
             "ticks": ""
            },
            "colorscale": [
             [
              0.0,
              "#0d0887"
             ],
             [
              0.1111111111111111,
              "#46039f"
             ],
             [
              0.2222222222222222,
              "#7201a8"
             ],
             [
              0.3333333333333333,
              "#9c179e"
             ],
             [
              0.4444444444444444,
              "#bd3786"
             ],
             [
              0.5555555555555556,
              "#d8576b"
             ],
             [
              0.6666666666666666,
              "#ed7953"
             ],
             [
              0.7777777777777778,
              "#fb9f3a"
             ],
             [
              0.8888888888888888,
              "#fdca26"
             ],
             [
              1.0,
              "#f0f921"
             ]
            ]
           }
          ],
          "mesh3d": [
           {
            "type": "mesh3d",
            "colorbar": {
             "outlinewidth": 0,
             "ticks": ""
            }
           }
          ],
          "scatter": [
           {
            "marker": {
             "line": {
              "color": "#283442"
             }
            },
            "type": "scatter"
           }
          ],
          "parcoords": [
           {
            "type": "parcoords",
            "line": {
             "colorbar": {
              "outlinewidth": 0,
              "ticks": ""
             }
            }
           }
          ],
          "scatterpolargl": [
           {
            "type": "scatterpolargl",
            "marker": {
             "colorbar": {
              "outlinewidth": 0,
              "ticks": ""
             }
            }
           }
          ],
          "bar": [
           {
            "error_x": {
             "color": "#f2f5fa"
            },
            "error_y": {
             "color": "#f2f5fa"
            },
            "marker": {
             "line": {
              "color": "rgb(17,17,17)",
              "width": 0.5
             },
             "pattern": {
              "fillmode": "overlay",
              "size": 10,
              "solidity": 0.2
             }
            },
            "type": "bar"
           }
          ],
          "scattergeo": [
           {
            "type": "scattergeo",
            "marker": {
             "colorbar": {
              "outlinewidth": 0,
              "ticks": ""
             }
            }
           }
          ],
          "scatterpolar": [
           {
            "type": "scatterpolar",
            "marker": {
             "colorbar": {
              "outlinewidth": 0,
              "ticks": ""
             }
            }
           }
          ],
          "histogram": [
           {
            "marker": {
             "pattern": {
              "fillmode": "overlay",
              "size": 10,
              "solidity": 0.2
             }
            },
            "type": "histogram"
           }
          ],
          "scattergl": [
           {
            "marker": {
             "line": {
              "color": "#283442"
             }
            },
            "type": "scattergl"
           }
          ],
          "scatter3d": [
           {
            "type": "scatter3d",
            "line": {
             "colorbar": {
              "outlinewidth": 0,
              "ticks": ""
             }
            },
            "marker": {
             "colorbar": {
              "outlinewidth": 0,
              "ticks": ""
             }
            }
           }
          ],
          "scattermapbox": [
           {
            "type": "scattermapbox",
            "marker": {
             "colorbar": {
              "outlinewidth": 0,
              "ticks": ""
             }
            }
           }
          ],
          "scatterternary": [
           {
            "type": "scatterternary",
            "marker": {
             "colorbar": {
              "outlinewidth": 0,
              "ticks": ""
             }
            }
           }
          ],
          "scattercarpet": [
           {
            "type": "scattercarpet",
            "marker": {
             "colorbar": {
              "outlinewidth": 0,
              "ticks": ""
             }
            }
           }
          ],
          "carpet": [
           {
            "aaxis": {
             "endlinecolor": "#A2B1C6",
             "gridcolor": "#506784",
             "linecolor": "#506784",
             "minorgridcolor": "#506784",
             "startlinecolor": "#A2B1C6"
            },
            "baxis": {
             "endlinecolor": "#A2B1C6",
             "gridcolor": "#506784",
             "linecolor": "#506784",
             "minorgridcolor": "#506784",
             "startlinecolor": "#A2B1C6"
            },
            "type": "carpet"
           }
          ],
          "table": [
           {
            "cells": {
             "fill": {
              "color": "#506784"
             },
             "line": {
              "color": "rgb(17,17,17)"
             }
            },
            "header": {
             "fill": {
              "color": "#2a3f5f"
             },
             "line": {
              "color": "rgb(17,17,17)"
             }
            },
            "type": "table"
           }
          ],
          "barpolar": [
           {
            "marker": {
             "line": {
              "color": "rgb(17,17,17)",
              "width": 0.5
             },
             "pattern": {
              "fillmode": "overlay",
              "size": 10,
              "solidity": 0.2
             }
            },
            "type": "barpolar"
           }
          ],
          "pie": [
           {
            "automargin": true,
            "type": "pie"
           }
          ]
         },
         "layout": {
          "autotypenumbers": "strict",
          "colorway": [
           "#636efa",
           "#EF553B",
           "#00cc96",
           "#ab63fa",
           "#FFA15A",
           "#19d3f3",
           "#FF6692",
           "#B6E880",
           "#FF97FF",
           "#FECB52"
          ],
          "font": {
           "color": "#f2f5fa"
          },
          "hovermode": "closest",
          "hoverlabel": {
           "align": "left"
          },
          "paper_bgcolor": "rgb(17,17,17)",
          "plot_bgcolor": "rgb(17,17,17)",
          "polar": {
           "bgcolor": "rgb(17,17,17)",
           "angularaxis": {
            "gridcolor": "#506784",
            "linecolor": "#506784",
            "ticks": ""
           },
           "radialaxis": {
            "gridcolor": "#506784",
            "linecolor": "#506784",
            "ticks": ""
           }
          },
          "ternary": {
           "bgcolor": "rgb(17,17,17)",
           "aaxis": {
            "gridcolor": "#506784",
            "linecolor": "#506784",
            "ticks": ""
           },
           "baxis": {
            "gridcolor": "#506784",
            "linecolor": "#506784",
            "ticks": ""
           },
           "caxis": {
            "gridcolor": "#506784",
            "linecolor": "#506784",
            "ticks": ""
           }
          },
          "coloraxis": {
           "colorbar": {
            "outlinewidth": 0,
            "ticks": ""
           }
          },
          "colorscale": {
           "sequential": [
            [
             0.0,
             "#0d0887"
            ],
            [
             0.1111111111111111,
             "#46039f"
            ],
            [
             0.2222222222222222,
             "#7201a8"
            ],
            [
             0.3333333333333333,
             "#9c179e"
            ],
            [
             0.4444444444444444,
             "#bd3786"
            ],
            [
             0.5555555555555556,
             "#d8576b"
            ],
            [
             0.6666666666666666,
             "#ed7953"
            ],
            [
             0.7777777777777778,
             "#fb9f3a"
            ],
            [
             0.8888888888888888,
             "#fdca26"
            ],
            [
             1.0,
             "#f0f921"
            ]
           ],
           "sequentialminus": [
            [
             0.0,
             "#0d0887"
            ],
            [
             0.1111111111111111,
             "#46039f"
            ],
            [
             0.2222222222222222,
             "#7201a8"
            ],
            [
             0.3333333333333333,
             "#9c179e"
            ],
            [
             0.4444444444444444,
             "#bd3786"
            ],
            [
             0.5555555555555556,
             "#d8576b"
            ],
            [
             0.6666666666666666,
             "#ed7953"
            ],
            [
             0.7777777777777778,
             "#fb9f3a"
            ],
            [
             0.8888888888888888,
             "#fdca26"
            ],
            [
             1.0,
             "#f0f921"
            ]
           ],
           "diverging": [
            [
             0,
             "#8e0152"
            ],
            [
             0.1,
             "#c51b7d"
            ],
            [
             0.2,
             "#de77ae"
            ],
            [
             0.3,
             "#f1b6da"
            ],
            [
             0.4,
             "#fde0ef"
            ],
            [
             0.5,
             "#f7f7f7"
            ],
            [
             0.6,
             "#e6f5d0"
            ],
            [
             0.7,
             "#b8e186"
            ],
            [
             0.8,
             "#7fbc41"
            ],
            [
             0.9,
             "#4d9221"
            ],
            [
             1,
             "#276419"
            ]
           ]
          },
          "xaxis": {
           "gridcolor": "#283442",
           "linecolor": "#506784",
           "ticks": "",
           "title": {
            "standoff": 15
           },
           "zerolinecolor": "#283442",
           "automargin": true,
           "zerolinewidth": 2
          },
          "yaxis": {
           "gridcolor": "#283442",
           "linecolor": "#506784",
           "ticks": "",
           "title": {
            "standoff": 15
           },
           "zerolinecolor": "#283442",
           "automargin": true,
           "zerolinewidth": 2
          },
          "scene": {
           "xaxis": {
            "backgroundcolor": "rgb(17,17,17)",
            "gridcolor": "#506784",
            "linecolor": "#506784",
            "showbackground": true,
            "ticks": "",
            "zerolinecolor": "#C8D4E3",
            "gridwidth": 2
           },
           "yaxis": {
            "backgroundcolor": "rgb(17,17,17)",
            "gridcolor": "#506784",
            "linecolor": "#506784",
            "showbackground": true,
            "ticks": "",
            "zerolinecolor": "#C8D4E3",
            "gridwidth": 2
           },
           "zaxis": {
            "backgroundcolor": "rgb(17,17,17)",
            "gridcolor": "#506784",
            "linecolor": "#506784",
            "showbackground": true,
            "ticks": "",
            "zerolinecolor": "#C8D4E3",
            "gridwidth": 2
           }
          },
          "shapedefaults": {
           "line": {
            "color": "#f2f5fa"
           }
          },
          "annotationdefaults": {
           "arrowcolor": "#f2f5fa",
           "arrowhead": 0,
           "arrowwidth": 1
          },
          "geo": {
           "bgcolor": "rgb(17,17,17)",
           "landcolor": "rgb(17,17,17)",
           "subunitcolor": "#506784",
           "showland": true,
           "showlakes": true,
           "lakecolor": "rgb(17,17,17)"
          },
          "title": {
           "x": 0.05
          },
          "updatemenudefaults": {
           "bgcolor": "#506784",
           "borderwidth": 0
          },
          "sliderdefaults": {
           "bgcolor": "#C8D4E3",
           "borderwidth": 1,
           "bordercolor": "rgb(17,17,17)",
           "tickwidth": 0
          },
          "mapbox": {
           "style": "dark"
          }
         }
        },
        "xaxis": {
         "anchor": "y",
         "domain": [
          0.0,
          1.0
         ],
         "title": {
          "text": "x"
         }
        },
        "yaxis": {
         "anchor": "x",
         "domain": [
          0.0,
          1.0
         ],
         "title": {
          "text": "y"
         }
        },
        "legend": {
         "title": {
          "text": "color"
         },
         "tracegroupgap": 0
        },
        "margin": {
         "t": 60
        },
        "title": {
         "text": "Clustering top skills for All roles"
        },
        "height": 900,
        "width": 1500
       },
       "config": {
        "plotlyServerURL": "https://plot.ly"
       }
      },
      "text/html": "<div>                            <div id=\"0508699a-4f34-4ecd-a879-7215b68ba8cf\" class=\"plotly-graph-div\" style=\"height:900px; width:1500px;\"></div>            <script type=\"text/javascript\">                require([\"plotly\"], function(Plotly) {                    window.PLOTLYENV=window.PLOTLYENV || {};                                    if (document.getElementById(\"0508699a-4f34-4ecd-a879-7215b68ba8cf\")) {                    Plotly.newPlot(                        \"0508699a-4f34-4ecd-a879-7215b68ba8cf\",                        [{\"hovertemplate\":\"color=cluster_1<br>x=%{x}<br>y=%{y}<br>text=%{text}<extra></extra>\",\"legendgroup\":\"cluster_1\",\"marker\":{\"color\":\"#2E91E5\",\"symbol\":\"circle\"},\"mode\":\"markers+text\",\"name\":\"cluster_1\",\"orientation\":\"v\",\"showlegend\":true,\"text\":[\"APL\",\"Crystal\",\"Fortran\",\"Haskell\",\"Lua\",\"OCaml\",\"Heroku\",\"IBM Cloud or Watson\",\"Linode\",\"Managed Hosting\",\"OVH\",\"GTK\",\"Nano\",\"Neovim\"],\"x\":[-1.2693793773651123,-0.4293331801891327,-5.039768218994141,-7.232095718383789,-3.093881607055664,-5.943118095397949,1.8285114765167236,-1.1808794736862183,-2.6074182987213135,-1.2239598035812378,0.46161168813705444,-3.1618502140045166,0.015739209949970245,-5.744964122772217],\"xaxis\":\"x\",\"y\":[0.03441867232322693,0.6087098717689514,1.4271529912948608,3.3903040885925293,2.894092559814453,3.320220470428467,4.468674182891846,4.2235002517700195,0.8363521099090576,1.8772867918014526,2.671002149581909,6.009737491607666,6.682770729064941,4.764492988586426],\"yaxis\":\"y\",\"type\":\"scatter\",\"textposition\":\"top center\"},{\"hovertemplate\":\"color=cluster_9<br>x=%{x}<br>y=%{y}<br>text=%{text}<extra></extra>\",\"legendgroup\":\"cluster_9\",\"marker\":{\"color\":\"#E15F99\",\"symbol\":\"circle\"},\"mode\":\"markers+text\",\"name\":\"cluster_9\",\"orientation\":\"v\",\"showlegend\":true,\"text\":[\"Assembly\",\"C\",\"C++\",\"Qt\",\"Qt Creator\"],\"x\":[-18.072895050048828,-18.958553314208984,-19.706485748291016,-15.395896911621094,-14.610166549682617],\"xaxis\":\"x\",\"y\":[3.167133092880249,3.8044333457946777,4.489725589752197,7.492887020111084,7.146412372589111],\"yaxis\":\"y\",\"type\":\"scatter\",\"textposition\":\"top center\"},{\"hovertemplate\":\"color=cluster_26<br>x=%{x}<br>y=%{y}<br>text=%{text}<extra></extra>\",\"legendgroup\":\"cluster_26\",\"marker\":{\"color\":\"#1CA71C\",\"symbol\":\"circle\"},\"mode\":\"markers+text\",\"name\":\"cluster_26\",\"orientation\":\"v\",\"showlegend\":true,\"text\":[\"Bash/Shell\",\"Perl\",\"Vim\"],\"x\":[-11.487404823303223,-10.179931640625,-10.828633308410645],\"xaxis\":\"x\",\"y\":[-11.458747863769531,-9.608177185058594,-10.515512466430664],\"yaxis\":\"y\",\"type\":\"scatter\",\"textposition\":\"top center\"},{\"hovertemplate\":\"color=cluster_20<br>x=%{x}<br>y=%{y}<br>text=%{text}<extra></extra>\",\"legendgroup\":\"cluster_20\",\"marker\":{\"color\":\"#FB0D0D\",\"symbol\":\"circle\"},\"mode\":\"markers+text\",\"name\":\"cluster_20\",\"orientation\":\"v\",\"showlegend\":true,\"text\":[\"C#\",\"SQL\",\"Microsoft SQL Server\",\"Microsoft Azure\",\"ASP.NET Core \",\".NET\",\"Visual Studio\"],\"x\":[5.333744525909424,7.506499767303467,6.325922966003418,3.514098882675171,4.475043773651123,5.270396709442139,5.36539888381958],\"xaxis\":\"x\",\"y\":[30.90228271484375,27.93649673461914,28.213733673095703,27.639923095703125,27.489704132080078,30.578378677368164,31.870424270629883],\"yaxis\":\"y\",\"type\":\"scatter\",\"textposition\":\"top center\"},{\"hovertemplate\":\"color=cluster_14<br>x=%{x}<br>y=%{y}<br>text=%{text}<extra></extra>\",\"legendgroup\":\"cluster_14\",\"marker\":{\"color\":\"#DA16FF\",\"symbol\":\"circle\"},\"mode\":\"markers+text\",\"name\":\"cluster_14\",\"orientation\":\"v\",\"showlegend\":true,\"text\":[\"COBOL\",\"F#\",\"PowerShell\",\"IBM DB2\",\"Eclipse\",\"NetBeans\"],\"x\":[-2.696453094482422,-2.94740629196167,-2.8206946849823,-3.144176721572876,0.5707880258560181,1.0332119464874268],\"xaxis\":\"x\",\"y\":[9.891251564025879,16.619476318359375,17.60150146484375,10.66296672821045,12.150419235229492,11.240150451660156],\"yaxis\":\"y\",\"type\":\"scatter\",\"textposition\":\"top center\"},{\"hovertemplate\":\"color=cluster_16<br>x=%{x}<br>y=%{y}<br>text=%{text}<extra></extra>\",\"legendgroup\":\"cluster_16\",\"marker\":{\"color\":\"#222A2A\",\"symbol\":\"circle\"},\"mode\":\"markers+text\",\"name\":\"cluster_16\",\"orientation\":\"v\",\"showlegend\":true,\"text\":[\"Clojure\",\"Erlang\",\"Julia\",\"MATLAB\",\"SAS\",\"VBA\",\"CLion\",\"RubyMine\",\"Spyder\",\"TextMate\"],\"x\":[-8.330279350280762,-8.138025283813477,-4.694472312927246,-6.053248405456543,-2.091247320175171,-2.453031539916992,-2.1876749992370605,-7.220622539520264,-4.04780387878418,-3.8853511810302734],\"xaxis\":\"x\",\"y\":[0.7523410320281982,-2.611639976501465,-2.907390594482422,-0.8969488739967346,-2.6258556842803955,-3.708672285079956,-0.8306471109390259,-5.484407901763916,-5.547966957092285,-0.6908549666404724],\"yaxis\":\"y\",\"type\":\"scatter\",\"textposition\":\"top center\"},{\"hovertemplate\":\"color=cluster_15<br>x=%{x}<br>y=%{y}<br>text=%{text}<extra></extra>\",\"legendgroup\":\"cluster_15\",\"marker\":{\"color\":\"#B68100\",\"symbol\":\"circle\"},\"mode\":\"markers+text\",\"name\":\"cluster_15\",\"orientation\":\"v\",\"showlegend\":true,\"text\":[\"Dart\",\"Flutter\",\"Android Studio\"],\"x\":[-29.69088363647461,-29.580801010131836,-30.85567283630371],\"xaxis\":\"x\",\"y\":[13.016979217529297,12.967098236083984,13.545565605163574],\"yaxis\":\"y\",\"type\":\"scatter\",\"textposition\":\"top center\"},{\"hovertemplate\":\"color=cluster_11<br>x=%{x}<br>y=%{y}<br>text=%{text}<extra></extra>\",\"legendgroup\":\"cluster_11\",\"marker\":{\"color\":\"#750D86\",\"symbol\":\"circle\"},\"mode\":\"markers+text\",\"name\":\"cluster_11\",\"orientation\":\"v\",\"showlegend\":true,\"text\":[\"Delphi\",\"RAD Studio (Delphi_C++ Builder)\"],\"x\":[-13.306756973266602,-13.307025909423828],\"xaxis\":\"x\",\"y\":[27.144590377807617,27.144975662231445],\"yaxis\":\"y\",\"type\":\"scatter\",\"textposition\":\"top center\"},{\"hovertemplate\":\"color=cluster_22<br>x=%{x}<br>y=%{y}<br>text=%{text}<extra></extra>\",\"legendgroup\":\"cluster_22\",\"marker\":{\"color\":\"#EB663B\",\"symbol\":\"circle\"},\"mode\":\"markers+text\",\"name\":\"cluster_22\",\"orientation\":\"v\",\"showlegend\":true,\"text\":[\"Elixir\",\"Phoenix\",\"Homebrew\"],\"x\":[-32.86338806152344,-32.98762130737305,-32.31353759765625],\"xaxis\":\"x\",\"y\":[-8.226104736328125,-7.960988998413086,-9.397781372070312],\"yaxis\":\"y\",\"type\":\"scatter\",\"textposition\":\"top center\"},{\"hovertemplate\":\"color=cluster_10<br>x=%{x}<br>y=%{y}<br>text=%{text}<extra></extra>\",\"legendgroup\":\"cluster_10\",\"marker\":{\"color\":\"#511CFB\",\"symbol\":\"circle\"},\"mode\":\"markers+text\",\"name\":\"cluster_10\",\"orientation\":\"v\",\"showlegend\":true,\"text\":[\"Go\",\"Rust\",\"Deno\",\"Nuxt.js\",\"Svelte\",\"Vue.js\",\"GoLand\"],\"x\":[8.83987045288086,14.269073486328125,14.00758171081543,8.833113670349121,13.908140182495117,9.717162132263184,8.191454887390137],\"xaxis\":\"x\",\"y\":[-6.252360820770264,-4.163124084472656,-3.132537603378296,-0.5884497165679932,-1.9396913051605225,-0.5235565900802612,-5.6256866455078125],\"yaxis\":\"y\",\"type\":\"scatter\",\"textposition\":\"top center\"},{\"hovertemplate\":\"color=cluster_24<br>x=%{x}<br>y=%{y}<br>text=%{text}<extra></extra>\",\"legendgroup\":\"cluster_24\",\"marker\":{\"color\":\"#00A08B\",\"symbol\":\"circle\"},\"mode\":\"markers+text\",\"name\":\"cluster_24\",\"orientation\":\"v\",\"showlegend\":true,\"text\":[\"Groovy\",\"Java\",\"Spring\",\"IntelliJ\"],\"x\":[4.356251239776611,5.943366527557373,5.542477130889893,6.026913166046143],\"xaxis\":\"x\",\"y\":[-21.69779396057129,-24.52117919921875,-22.842079162597656,-24.931167602539062],\"yaxis\":\"y\",\"type\":\"scatter\",\"textposition\":\"top center\"},{\"hovertemplate\":\"color=cluster_4<br>x=%{x}<br>y=%{y}<br>text=%{text}<extra></extra>\",\"legendgroup\":\"cluster_4\",\"marker\":{\"color\":\"#FB00D1\",\"symbol\":\"circle\"},\"mode\":\"markers+text\",\"name\":\"cluster_4\",\"orientation\":\"v\",\"showlegend\":true,\"text\":[\"HTML/CSS\",\"JavaScript\",\"TypeScript\",\"npm\",\"Visual Studio Code\"],\"x\":[26.069026947021484,26.366674423217773,23.845314025878906,23.362808227539062,27.487239837646484],\"xaxis\":\"x\",\"y\":[5.342594623565674,5.044680595397949,2.649606227874756,2.2250514030456543,4.283560276031494],\"yaxis\":\"y\",\"type\":\"scatter\",\"textposition\":\"top center\"},{\"hovertemplate\":\"color=cluster_13<br>x=%{x}<br>y=%{y}<br>text=%{text}<extra></extra>\",\"legendgroup\":\"cluster_13\",\"marker\":{\"color\":\"#FC0080\",\"symbol\":\"circle\"},\"mode\":\"markers+text\",\"name\":\"cluster_13\",\"orientation\":\"v\",\"showlegend\":true,\"text\":[\"Kotlin\",\"Solidity\",\"CouchDB\",\"Couchbase\",\"Colocation\",\"DigitalOcean\",\"VMware\",\"Flow\",\"Puppet\",\"Atom\",\"Sublime Text\",\"Webstorm\"],\"x\":[1.8411712646484375,1.2884927988052368,4.399886608123779,0.2586635649204254,-0.6862236857414246,3.0098612308502197,1.9032433032989502,0.25662723183631897,-0.4314051568508148,2.6167051792144775,5.1165547370910645,1.1965816020965576],\"xaxis\":\"x\",\"y\":[-6.85750675201416,0.9467366337776184,-4.850498199462891,-2.739962339401245,-1.3306164741516113,-0.008959250524640083,-4.112157344818115,-0.33216893672943115,-4.9636311531066895,-2.0680274963378906,-2.055159568786621,-0.9229718446731567],\"yaxis\":\"y\",\"type\":\"scatter\",\"textposition\":\"top center\"},{\"hovertemplate\":\"color=cluster_12<br>x=%{x}<br>y=%{y}<br>text=%{text}<extra></extra>\",\"legendgroup\":\"cluster_12\",\"marker\":{\"color\":\"#B2828D\",\"symbol\":\"circle\"},\"mode\":\"markers+text\",\"name\":\"cluster_12\",\"orientation\":\"v\",\"showlegend\":true,\"text\":[\"LISP\",\"Cloud Firestore\",\"Firebase Realtime Database\",\"Firebase\",\"Google Cloud\",\"Emacs\"],\"x\":[-11.051843643188477,-15.0975341796875,-11.932657241821289,-13.452417373657227,-16.096059799194336,-11.915099143981934],\"xaxis\":\"x\",\"y\":[2.5685055255889893,-3.380491256713867,-3.4081571102142334,-3.5682454109191895,-3.4076435565948486,2.554950475692749],\"yaxis\":\"y\",\"type\":\"scatter\",\"textposition\":\"top center\"},{\"hovertemplate\":\"color=cluster_21<br>x=%{x}<br>y=%{y}<br>text=%{text}<extra></extra>\",\"legendgroup\":\"cluster_21\",\"marker\":{\"color\":\"#6C7C32\",\"symbol\":\"circle\"},\"mode\":\"markers+text\",\"name\":\"cluster_21\",\"orientation\":\"v\",\"showlegend\":true,\"text\":[\"Objective-C\",\"Swift\",\"Xcode\"],\"x\":[-14.121843338012695,-14.784425735473633,-15.400616645812988],\"xaxis\":\"x\",\"y\":[14.859517097473145,15.62267017364502,16.3306827545166],\"yaxis\":\"y\",\"type\":\"scatter\",\"textposition\":\"top center\"},{\"hovertemplate\":\"color=cluster_27<br>x=%{x}<br>y=%{y}<br>text=%{text}<extra></extra>\",\"legendgroup\":\"cluster_27\",\"marker\":{\"color\":\"#778AAE\",\"symbol\":\"circle\"},\"mode\":\"markers+text\",\"name\":\"cluster_27\",\"orientation\":\"v\",\"showlegend\":true,\"text\":[\"PHP\",\"MySQL\",\"Laravel\",\"Symfony\",\"PhpStorm\"],\"x\":[9.003496170043945,9.146865844726562,6.834238052368164,10.482037544250488,9.5809965133667],\"xaxis\":\"x\",\"y\":[14.310216903686523,15.368600845336914,11.736682891845703,12.232187271118164,13.002641677856445],\"yaxis\":\"y\",\"type\":\"scatter\",\"textposition\":\"top center\"},{\"hovertemplate\":\"color=cluster_25<br>x=%{x}<br>y=%{y}<br>text=%{text}<extra></extra>\",\"legendgroup\":\"cluster_25\",\"marker\":{\"color\":\"#862A16\",\"symbol\":\"circle\"},\"mode\":\"markers+text\",\"name\":\"cluster_25\",\"orientation\":\"v\",\"showlegend\":true,\"text\":[\"Python\",\"NumPy\",\"Pandas\"],\"x\":[-15.78377628326416,-15.328047752380371,-15.245379447937012],\"xaxis\":\"x\",\"y\":[-30.256912231445312,-29.05715560913086,-28.83296775817871],\"yaxis\":\"y\",\"type\":\"scatter\",\"textposition\":\"top center\"},{\"hovertemplate\":\"color=cluster_19<br>x=%{x}<br>y=%{y}<br>text=%{text}<extra></extra>\",\"legendgroup\":\"cluster_19\",\"marker\":{\"color\":\"#A777F1\",\"symbol\":\"circle\"},\"mode\":\"markers+text\",\"name\":\"cluster_19\",\"orientation\":\"v\",\"showlegend\":true,\"text\":[\"R\",\"Tidyverse\",\"RStudio\"],\"x\":[-19.519161224365234,-17.84076499938965,-19.043588638305664],\"xaxis\":\"x\",\"y\":[-11.088932037353516,-10.278253555297852,-10.859007835388184],\"yaxis\":\"y\",\"type\":\"scatter\",\"textposition\":\"top center\"},{\"hovertemplate\":\"color=cluster_3<br>x=%{x}<br>y=%{y}<br>text=%{text}<extra></extra>\",\"legendgroup\":\"cluster_3\",\"marker\":{\"color\":\"#620042\",\"symbol\":\"circle\"},\"mode\":\"markers+text\",\"name\":\"cluster_3\",\"orientation\":\"v\",\"showlegend\":true,\"text\":[\"Ruby\",\"Ruby on Rails\"],\"x\":[-27.984821319580078,-28.010732650756836],\"xaxis\":\"x\",\"y\":[-13.623172760009766,-13.591164588928223],\"yaxis\":\"y\",\"type\":\"scatter\",\"textposition\":\"top center\"},{\"hovertemplate\":\"color=cluster_8<br>x=%{x}<br>y=%{y}<br>text=%{text}<extra></extra>\",\"legendgroup\":\"cluster_8\",\"marker\":{\"color\":\"#1616A7\",\"symbol\":\"circle\"},\"mode\":\"markers+text\",\"name\":\"cluster_8\",\"orientation\":\"v\",\"showlegend\":true,\"text\":[\"Scala\",\"MongoDB\",\"Neo4j\",\"OpenStack\",\"Play Framework\",\"Apache Spark\",\"Hadoop\",\"Ansible\",\"Chef\"],\"x\":[-5.299102306365967,1.595262885093689,2.0367939472198486,-1.45988130569458,-4.77252197265625,-1.7578368186950684,-1.5164411067962646,3.1110785007476807,3.9693543910980225],\"xaxis\":\"x\",\"y\":[-9.860504150390625,-16.727079391479492,-15.993796348571777,-7.333822250366211,-9.126683235168457,-12.504542350769043,-11.65260124206543,-10.84389877319336,-10.510334968566895],\"yaxis\":\"y\",\"type\":\"scatter\",\"textposition\":\"top center\"},{\"hovertemplate\":\"color=cluster_0<br>x=%{x}<br>y=%{y}<br>text=%{text}<extra></extra>\",\"legendgroup\":\"cluster_0\",\"marker\":{\"color\":\"#DA60CA\",\"symbol\":\"circle\"},\"mode\":\"markers+text\",\"name\":\"cluster_0\",\"orientation\":\"v\",\"showlegend\":true,\"text\":[\"Cassandra\",\"Elasticsearch\",\"PostgreSQL\",\"Redis\",\"Apache Kafka\"],\"x\":[8.103930473327637,9.523783683776855,11.890058517456055,10.855377197265625,7.837387561798096],\"xaxis\":\"x\",\"y\":[-18.057003021240234,-18.799816131591797,-18.194948196411133,-18.734376907348633,-16.729970932006836],\"yaxis\":\"y\",\"type\":\"scatter\",\"textposition\":\"top center\"},{\"hovertemplate\":\"color=cluster_23<br>x=%{x}<br>y=%{y}<br>text=%{text}<extra></extra>\",\"legendgroup\":\"cluster_23\",\"marker\":{\"color\":\"#6C4516\",\"symbol\":\"circle\"},\"mode\":\"markers+text\",\"name\":\"cluster_23\",\"orientation\":\"v\",\"showlegend\":true,\"text\":[\"DynamoDB\",\"AWS\",\"Docker\",\"Kubernetes\",\"Pulumi\",\"Terraform\"],\"x\":[13.10283088684082,12.936378479003906,10.080106735229492,8.960041046142578,6.845264911651611,6.540862083435059],\"xaxis\":\"x\",\"y\":[-11.794419288635254,-12.864479064941406,-14.312607765197754,-14.717704772949219,-9.816651344299316,-11.220749855041504],\"yaxis\":\"y\",\"type\":\"scatter\",\"textposition\":\"top center\"},{\"hovertemplate\":\"color=cluster_7<br>x=%{x}<br>y=%{y}<br>text=%{text}<extra></extra>\",\"legendgroup\":\"cluster_7\",\"marker\":{\"color\":\"#0D2A63\",\"symbol\":\"circle\"},\"mode\":\"markers+text\",\"name\":\"cluster_7\",\"orientation\":\"v\",\"showlegend\":true,\"text\":[\"MariaDB\",\"Angular\",\"Angular.js\",\"Drupal\",\"jQuery\"],\"x\":[12.346720695495605,14.64991569519043,13.974004745483398,13.76163387298584,14.701371192932129],\"xaxis\":\"x\",\"y\":[12.008384704589844,4.955199718475342,5.595898628234863,10.976003646850586,10.53062629699707],\"yaxis\":\"y\",\"type\":\"scatter\",\"textposition\":\"top center\"},{\"hovertemplate\":\"color=cluster_6<br>x=%{x}<br>y=%{y}<br>text=%{text}<extra></extra>\",\"legendgroup\":\"cluster_6\",\"marker\":{\"color\":\"#AF0038\",\"symbol\":\"circle\"},\"mode\":\"markers+text\",\"name\":\"cluster_6\",\"orientation\":\"v\",\"showlegend\":true,\"text\":[\"Oracle\",\"Oracle Cloud Infrastructure\",\"Unity 3D\",\"Unreal Engine\"],\"x\":[-7.388915061950684,-7.143206596374512,-9.281099319458008,-8.641958236694336],\"xaxis\":\"x\",\"y\":[13.204779624938965,12.375287055969238,8.290314674377441,7.68497371673584],\"yaxis\":\"y\",\"type\":\"scatter\",\"textposition\":\"top center\"},{\"hovertemplate\":\"color=cluster_2<br>x=%{x}<br>y=%{y}<br>text=%{text}<extra></extra>\",\"legendgroup\":\"cluster_2\",\"marker\":{\"color\":\"#2E91E5\",\"symbol\":\"circle\"},\"mode\":\"markers+text\",\"name\":\"cluster_2\",\"orientation\":\"v\",\"showlegend\":true,\"text\":[\"SQLite\",\"ASP.NET\",\"Blazor\",\"Uno Platform\",\"Xamarin\",\"Notepad++\"],\"x\":[4.218972206115723,3.0866618156433105,3.4478046894073486,3.5132999420166016,3.8636362552642822,1.090428352355957],\"xaxis\":\"x\",\"y\":[19.544937133789062,24.79023551940918,23.306486129760742,21.8004207611084,20.639883041381836,24.58851432800293],\"yaxis\":\"y\",\"type\":\"scatter\",\"textposition\":\"top center\"},{\"hovertemplate\":\"color=cluster_18<br>x=%{x}<br>y=%{y}<br>text=%{text}<extra></extra>\",\"legendgroup\":\"cluster_18\",\"marker\":{\"color\":\"#E15F99\",\"symbol\":\"circle\"},\"mode\":\"markers+text\",\"name\":\"cluster_18\",\"orientation\":\"v\",\"showlegend\":true,\"text\":[\"Django\",\"Capacitor\",\"Cordova\",\"Electron\",\"Ionic\",\"React Native\",\"Rider\"],\"x\":[2.9482436180114746,9.306902885437012,8.449378967285156,4.8992767333984375,10.344185829162598,5.44627571105957,3.4591665267944336],\"xaxis\":\"x\",\"y\":[2.2407338619232178,4.737919807434082,5.461650848388672,3.861215591430664,4.787344455718994,0.7823399305343628,7.0637311935424805],\"yaxis\":\"y\",\"type\":\"scatter\",\"textposition\":\"top center\"},{\"hovertemplate\":\"color=cluster_17<br>x=%{x}<br>y=%{y}<br>text=%{text}<extra></extra>\",\"legendgroup\":\"cluster_17\",\"marker\":{\"color\":\"#1CA71C\",\"symbol\":\"circle\"},\"mode\":\"markers+text\",\"name\":\"cluster_17\",\"orientation\":\"v\",\"showlegend\":true,\"text\":[\"Express\",\"Fastify\",\"Gatsby\",\"Next.js\",\"Node.js\",\"React.js\",\"Yarn\"],\"x\":[20.570676803588867,19.333444595336914,20.67279815673828,21.95589828491211,21.85165023803711,22.937915802001953,22.75145149230957],\"xaxis\":\"x\",\"y\":[0.5259822010993958,-0.0034861371386796236,-4.57305383682251,-4.13382625579834,1.1955012083053589,-3.1113104820251465,-4.8215789794921875],\"yaxis\":\"y\",\"type\":\"scatter\",\"textposition\":\"top center\"},{\"hovertemplate\":\"color=cluster_5<br>x=%{x}<br>y=%{y}<br>text=%{text}<extra></extra>\",\"legendgroup\":\"cluster_5\",\"marker\":{\"color\":\"#FB0D0D\",\"symbol\":\"circle\"},\"mode\":\"markers+text\",\"name\":\"cluster_5\",\"orientation\":\"v\",\"showlegend\":true,\"text\":[\"FastAPI\",\"Flask\",\"Hugging Face Transformers\",\"Keras\",\"Scikit-learn\",\"TensorFlow\",\"Torch/PyTorch\",\"IPython/Jupyter\",\"PyCharm\"],\"x\":[-8.337275505065918,-7.571410179138184,-11.336701393127441,-11.598039627075195,-13.296753883361816,-10.80070686340332,-12.31037712097168,-14.305618286132812,-9.525256156921387],\"xaxis\":\"x\",\"y\":[-18.6966552734375,-18.11782455444336,-22.192718505859375,-23.83187484741211,-24.264602661132812,-24.669815063476562,-22.019804000854492,-24.528156280517578,-20.14756202697754],\"yaxis\":\"y\",\"type\":\"scatter\",\"textposition\":\"top center\"}],                        {\"template\":{\"data\":{\"histogram2dcontour\":[{\"type\":\"histogram2dcontour\",\"colorbar\":{\"outlinewidth\":0,\"ticks\":\"\"},\"colorscale\":[[0.0,\"#0d0887\"],[0.1111111111111111,\"#46039f\"],[0.2222222222222222,\"#7201a8\"],[0.3333333333333333,\"#9c179e\"],[0.4444444444444444,\"#bd3786\"],[0.5555555555555556,\"#d8576b\"],[0.6666666666666666,\"#ed7953\"],[0.7777777777777778,\"#fb9f3a\"],[0.8888888888888888,\"#fdca26\"],[1.0,\"#f0f921\"]]}],\"choropleth\":[{\"type\":\"choropleth\",\"colorbar\":{\"outlinewidth\":0,\"ticks\":\"\"}}],\"histogram2d\":[{\"type\":\"histogram2d\",\"colorbar\":{\"outlinewidth\":0,\"ticks\":\"\"},\"colorscale\":[[0.0,\"#0d0887\"],[0.1111111111111111,\"#46039f\"],[0.2222222222222222,\"#7201a8\"],[0.3333333333333333,\"#9c179e\"],[0.4444444444444444,\"#bd3786\"],[0.5555555555555556,\"#d8576b\"],[0.6666666666666666,\"#ed7953\"],[0.7777777777777778,\"#fb9f3a\"],[0.8888888888888888,\"#fdca26\"],[1.0,\"#f0f921\"]]}],\"heatmap\":[{\"type\":\"heatmap\",\"colorbar\":{\"outlinewidth\":0,\"ticks\":\"\"},\"colorscale\":[[0.0,\"#0d0887\"],[0.1111111111111111,\"#46039f\"],[0.2222222222222222,\"#7201a8\"],[0.3333333333333333,\"#9c179e\"],[0.4444444444444444,\"#bd3786\"],[0.5555555555555556,\"#d8576b\"],[0.6666666666666666,\"#ed7953\"],[0.7777777777777778,\"#fb9f3a\"],[0.8888888888888888,\"#fdca26\"],[1.0,\"#f0f921\"]]}],\"heatmapgl\":[{\"type\":\"heatmapgl\",\"colorbar\":{\"outlinewidth\":0,\"ticks\":\"\"},\"colorscale\":[[0.0,\"#0d0887\"],[0.1111111111111111,\"#46039f\"],[0.2222222222222222,\"#7201a8\"],[0.3333333333333333,\"#9c179e\"],[0.4444444444444444,\"#bd3786\"],[0.5555555555555556,\"#d8576b\"],[0.6666666666666666,\"#ed7953\"],[0.7777777777777778,\"#fb9f3a\"],[0.8888888888888888,\"#fdca26\"],[1.0,\"#f0f921\"]]}],\"contourcarpet\":[{\"type\":\"contourcarpet\",\"colorbar\":{\"outlinewidth\":0,\"ticks\":\"\"}}],\"contour\":[{\"type\":\"contour\",\"colorbar\":{\"outlinewidth\":0,\"ticks\":\"\"},\"colorscale\":[[0.0,\"#0d0887\"],[0.1111111111111111,\"#46039f\"],[0.2222222222222222,\"#7201a8\"],[0.3333333333333333,\"#9c179e\"],[0.4444444444444444,\"#bd3786\"],[0.5555555555555556,\"#d8576b\"],[0.6666666666666666,\"#ed7953\"],[0.7777777777777778,\"#fb9f3a\"],[0.8888888888888888,\"#fdca26\"],[1.0,\"#f0f921\"]]}],\"surface\":[{\"type\":\"surface\",\"colorbar\":{\"outlinewidth\":0,\"ticks\":\"\"},\"colorscale\":[[0.0,\"#0d0887\"],[0.1111111111111111,\"#46039f\"],[0.2222222222222222,\"#7201a8\"],[0.3333333333333333,\"#9c179e\"],[0.4444444444444444,\"#bd3786\"],[0.5555555555555556,\"#d8576b\"],[0.6666666666666666,\"#ed7953\"],[0.7777777777777778,\"#fb9f3a\"],[0.8888888888888888,\"#fdca26\"],[1.0,\"#f0f921\"]]}],\"mesh3d\":[{\"type\":\"mesh3d\",\"colorbar\":{\"outlinewidth\":0,\"ticks\":\"\"}}],\"scatter\":[{\"marker\":{\"line\":{\"color\":\"#283442\"}},\"type\":\"scatter\"}],\"parcoords\":[{\"type\":\"parcoords\",\"line\":{\"colorbar\":{\"outlinewidth\":0,\"ticks\":\"\"}}}],\"scatterpolargl\":[{\"type\":\"scatterpolargl\",\"marker\":{\"colorbar\":{\"outlinewidth\":0,\"ticks\":\"\"}}}],\"bar\":[{\"error_x\":{\"color\":\"#f2f5fa\"},\"error_y\":{\"color\":\"#f2f5fa\"},\"marker\":{\"line\":{\"color\":\"rgb(17,17,17)\",\"width\":0.5},\"pattern\":{\"fillmode\":\"overlay\",\"size\":10,\"solidity\":0.2}},\"type\":\"bar\"}],\"scattergeo\":[{\"type\":\"scattergeo\",\"marker\":{\"colorbar\":{\"outlinewidth\":0,\"ticks\":\"\"}}}],\"scatterpolar\":[{\"type\":\"scatterpolar\",\"marker\":{\"colorbar\":{\"outlinewidth\":0,\"ticks\":\"\"}}}],\"histogram\":[{\"marker\":{\"pattern\":{\"fillmode\":\"overlay\",\"size\":10,\"solidity\":0.2}},\"type\":\"histogram\"}],\"scattergl\":[{\"marker\":{\"line\":{\"color\":\"#283442\"}},\"type\":\"scattergl\"}],\"scatter3d\":[{\"type\":\"scatter3d\",\"line\":{\"colorbar\":{\"outlinewidth\":0,\"ticks\":\"\"}},\"marker\":{\"colorbar\":{\"outlinewidth\":0,\"ticks\":\"\"}}}],\"scattermapbox\":[{\"type\":\"scattermapbox\",\"marker\":{\"colorbar\":{\"outlinewidth\":0,\"ticks\":\"\"}}}],\"scatterternary\":[{\"type\":\"scatterternary\",\"marker\":{\"colorbar\":{\"outlinewidth\":0,\"ticks\":\"\"}}}],\"scattercarpet\":[{\"type\":\"scattercarpet\",\"marker\":{\"colorbar\":{\"outlinewidth\":0,\"ticks\":\"\"}}}],\"carpet\":[{\"aaxis\":{\"endlinecolor\":\"#A2B1C6\",\"gridcolor\":\"#506784\",\"linecolor\":\"#506784\",\"minorgridcolor\":\"#506784\",\"startlinecolor\":\"#A2B1C6\"},\"baxis\":{\"endlinecolor\":\"#A2B1C6\",\"gridcolor\":\"#506784\",\"linecolor\":\"#506784\",\"minorgridcolor\":\"#506784\",\"startlinecolor\":\"#A2B1C6\"},\"type\":\"carpet\"}],\"table\":[{\"cells\":{\"fill\":{\"color\":\"#506784\"},\"line\":{\"color\":\"rgb(17,17,17)\"}},\"header\":{\"fill\":{\"color\":\"#2a3f5f\"},\"line\":{\"color\":\"rgb(17,17,17)\"}},\"type\":\"table\"}],\"barpolar\":[{\"marker\":{\"line\":{\"color\":\"rgb(17,17,17)\",\"width\":0.5},\"pattern\":{\"fillmode\":\"overlay\",\"size\":10,\"solidity\":0.2}},\"type\":\"barpolar\"}],\"pie\":[{\"automargin\":true,\"type\":\"pie\"}]},\"layout\":{\"autotypenumbers\":\"strict\",\"colorway\":[\"#636efa\",\"#EF553B\",\"#00cc96\",\"#ab63fa\",\"#FFA15A\",\"#19d3f3\",\"#FF6692\",\"#B6E880\",\"#FF97FF\",\"#FECB52\"],\"font\":{\"color\":\"#f2f5fa\"},\"hovermode\":\"closest\",\"hoverlabel\":{\"align\":\"left\"},\"paper_bgcolor\":\"rgb(17,17,17)\",\"plot_bgcolor\":\"rgb(17,17,17)\",\"polar\":{\"bgcolor\":\"rgb(17,17,17)\",\"angularaxis\":{\"gridcolor\":\"#506784\",\"linecolor\":\"#506784\",\"ticks\":\"\"},\"radialaxis\":{\"gridcolor\":\"#506784\",\"linecolor\":\"#506784\",\"ticks\":\"\"}},\"ternary\":{\"bgcolor\":\"rgb(17,17,17)\",\"aaxis\":{\"gridcolor\":\"#506784\",\"linecolor\":\"#506784\",\"ticks\":\"\"},\"baxis\":{\"gridcolor\":\"#506784\",\"linecolor\":\"#506784\",\"ticks\":\"\"},\"caxis\":{\"gridcolor\":\"#506784\",\"linecolor\":\"#506784\",\"ticks\":\"\"}},\"coloraxis\":{\"colorbar\":{\"outlinewidth\":0,\"ticks\":\"\"}},\"colorscale\":{\"sequential\":[[0.0,\"#0d0887\"],[0.1111111111111111,\"#46039f\"],[0.2222222222222222,\"#7201a8\"],[0.3333333333333333,\"#9c179e\"],[0.4444444444444444,\"#bd3786\"],[0.5555555555555556,\"#d8576b\"],[0.6666666666666666,\"#ed7953\"],[0.7777777777777778,\"#fb9f3a\"],[0.8888888888888888,\"#fdca26\"],[1.0,\"#f0f921\"]],\"sequentialminus\":[[0.0,\"#0d0887\"],[0.1111111111111111,\"#46039f\"],[0.2222222222222222,\"#7201a8\"],[0.3333333333333333,\"#9c179e\"],[0.4444444444444444,\"#bd3786\"],[0.5555555555555556,\"#d8576b\"],[0.6666666666666666,\"#ed7953\"],[0.7777777777777778,\"#fb9f3a\"],[0.8888888888888888,\"#fdca26\"],[1.0,\"#f0f921\"]],\"diverging\":[[0,\"#8e0152\"],[0.1,\"#c51b7d\"],[0.2,\"#de77ae\"],[0.3,\"#f1b6da\"],[0.4,\"#fde0ef\"],[0.5,\"#f7f7f7\"],[0.6,\"#e6f5d0\"],[0.7,\"#b8e186\"],[0.8,\"#7fbc41\"],[0.9,\"#4d9221\"],[1,\"#276419\"]]},\"xaxis\":{\"gridcolor\":\"#283442\",\"linecolor\":\"#506784\",\"ticks\":\"\",\"title\":{\"standoff\":15},\"zerolinecolor\":\"#283442\",\"automargin\":true,\"zerolinewidth\":2},\"yaxis\":{\"gridcolor\":\"#283442\",\"linecolor\":\"#506784\",\"ticks\":\"\",\"title\":{\"standoff\":15},\"zerolinecolor\":\"#283442\",\"automargin\":true,\"zerolinewidth\":2},\"scene\":{\"xaxis\":{\"backgroundcolor\":\"rgb(17,17,17)\",\"gridcolor\":\"#506784\",\"linecolor\":\"#506784\",\"showbackground\":true,\"ticks\":\"\",\"zerolinecolor\":\"#C8D4E3\",\"gridwidth\":2},\"yaxis\":{\"backgroundcolor\":\"rgb(17,17,17)\",\"gridcolor\":\"#506784\",\"linecolor\":\"#506784\",\"showbackground\":true,\"ticks\":\"\",\"zerolinecolor\":\"#C8D4E3\",\"gridwidth\":2},\"zaxis\":{\"backgroundcolor\":\"rgb(17,17,17)\",\"gridcolor\":\"#506784\",\"linecolor\":\"#506784\",\"showbackground\":true,\"ticks\":\"\",\"zerolinecolor\":\"#C8D4E3\",\"gridwidth\":2}},\"shapedefaults\":{\"line\":{\"color\":\"#f2f5fa\"}},\"annotationdefaults\":{\"arrowcolor\":\"#f2f5fa\",\"arrowhead\":0,\"arrowwidth\":1},\"geo\":{\"bgcolor\":\"rgb(17,17,17)\",\"landcolor\":\"rgb(17,17,17)\",\"subunitcolor\":\"#506784\",\"showland\":true,\"showlakes\":true,\"lakecolor\":\"rgb(17,17,17)\"},\"title\":{\"x\":0.05},\"updatemenudefaults\":{\"bgcolor\":\"#506784\",\"borderwidth\":0},\"sliderdefaults\":{\"bgcolor\":\"#C8D4E3\",\"borderwidth\":1,\"bordercolor\":\"rgb(17,17,17)\",\"tickwidth\":0},\"mapbox\":{\"style\":\"dark\"}}},\"xaxis\":{\"anchor\":\"y\",\"domain\":[0.0,1.0],\"title\":{\"text\":\"x\"}},\"yaxis\":{\"anchor\":\"x\",\"domain\":[0.0,1.0],\"title\":{\"text\":\"y\"}},\"legend\":{\"title\":{\"text\":\"color\"},\"tracegroupgap\":0},\"margin\":{\"t\":60},\"title\":{\"text\":\"Clustering top skills for All roles\"},\"height\":900,\"width\":1500},                        {\"responsive\": true}                    ).then(function(){\n                            \nvar gd = document.getElementById('0508699a-4f34-4ecd-a879-7215b68ba8cf');\nvar x = new MutationObserver(function (mutations, observer) {{\n        var display = window.getComputedStyle(gd).display;\n        if (!display || display === 'none') {{\n            console.log([gd, 'removed!']);\n            Plotly.purge(gd);\n            observer.disconnect();\n        }}\n}});\n\n// Listen for the removal of the full notebook cells\nvar notebookContainer = gd.closest('#notebook-container');\nif (notebookContainer) {{\n    x.observe(notebookContainer, {childList: true});\n}}\n\n// Listen for the clearing of the current output cell\nvar outputEl = gd.closest('.output');\nif (outputEl) {{\n    x.observe(outputEl, {childList: true});\n}}\n\n                        })                };                });            </script>        </div>"
     },
     "metadata": {},
     "output_type": "display_data"
    }
   ],
   "source": [
    "all_skills = skills_dev_df.drop('DevType', axis = 1, level = 0).droplevel(axis = 1, level = 0).T\n",
    "all_skills_tsne = reduce_dimensions(all_skills)\n",
    "best_k, best_labels_all_skills = evaluate_cluster_model(all_skills_tsne, range_clusters=range(5,30), plot = True)\n",
    "visualize_chosen_cluster_model('All roles', all_skills_tsne, best_labels_all_skills)"
   ],
   "metadata": {
    "collapsed": false
   }
  },
  {
   "cell_type": "code",
   "execution_count": 291,
   "outputs": [
    {
     "name": "stdout",
     "output_type": "stream",
     "text": [
      "cluster_0 ['Cassandra', 'Elasticsearch', 'PostgreSQL', 'Redis', 'Apache Kafka']\n",
      "cluster_1 ['APL', 'Crystal', 'Fortran', 'Haskell', 'Lua', 'OCaml', 'Heroku', 'IBM Cloud or Watson', 'Linode', 'Managed Hosting', 'OVH', 'GTK', 'Nano', 'Neovim']\n",
      "cluster_10 ['Go', 'Rust', 'Deno', 'Nuxt.js', 'Svelte', 'Vue.js', 'GoLand']\n",
      "cluster_11 ['Delphi', 'RAD Studio (Delphi_C++ Builder)']\n",
      "cluster_12 ['LISP', 'Cloud Firestore', 'Firebase Realtime Database', 'Firebase', 'Google Cloud', 'Emacs']\n",
      "cluster_13 ['Kotlin', 'Solidity', 'CouchDB', 'Couchbase', 'Colocation', 'DigitalOcean', 'VMware', 'Flow', 'Puppet', 'Atom', 'Sublime Text', 'Webstorm']\n",
      "cluster_14 ['COBOL', 'F#', 'PowerShell', 'IBM DB2', 'Eclipse', 'NetBeans']\n",
      "cluster_15 ['Dart', 'Flutter', 'Android Studio']\n",
      "cluster_16 ['Clojure', 'Erlang', 'Julia', 'MATLAB', 'SAS', 'VBA', 'CLion', 'RubyMine', 'Spyder', 'TextMate']\n",
      "cluster_17 ['Express', 'Fastify', 'Gatsby', 'Next.js', 'Node.js', 'React.js', 'Yarn']\n",
      "cluster_18 ['Django', 'Capacitor', 'Cordova', 'Electron', 'Ionic', 'React Native', 'Rider']\n",
      "cluster_19 ['R', 'Tidyverse', 'RStudio']\n",
      "cluster_2 ['SQLite', 'ASP.NET', 'Blazor', 'Uno Platform', 'Xamarin', 'Notepad++']\n",
      "cluster_20 ['C#', 'SQL', 'Microsoft SQL Server', 'Microsoft Azure', 'ASP.NET Core ', '.NET', 'Visual Studio']\n",
      "cluster_21 ['Objective-C', 'Swift', 'Xcode']\n",
      "cluster_22 ['Elixir', 'Phoenix', 'Homebrew']\n",
      "cluster_23 ['DynamoDB', 'AWS', 'Docker', 'Kubernetes', 'Pulumi', 'Terraform']\n",
      "cluster_24 ['Groovy', 'Java', 'Spring', 'IntelliJ']\n",
      "cluster_25 ['Python', 'NumPy', 'Pandas']\n",
      "cluster_26 ['Bash/Shell', 'Perl', 'Vim']\n",
      "cluster_27 ['PHP', 'MySQL', 'Laravel', 'Symfony', 'PhpStorm']\n",
      "cluster_3 ['Ruby', 'Ruby on Rails']\n",
      "cluster_4 ['HTML/CSS', 'JavaScript', 'TypeScript', 'npm', 'Visual Studio Code']\n",
      "cluster_5 ['FastAPI', 'Flask', 'Hugging Face Transformers', 'Keras', 'Scikit-learn', 'TensorFlow', 'Torch/PyTorch', 'IPython/Jupyter', 'PyCharm']\n",
      "cluster_6 ['Oracle', 'Oracle Cloud Infrastructure', 'Unity 3D', 'Unreal Engine']\n",
      "cluster_7 ['MariaDB', 'Angular', 'Angular.js', 'Drupal', 'jQuery']\n",
      "cluster_8 ['Scala', 'MongoDB', 'Neo4j', 'OpenStack', 'Play Framework', 'Apache Spark', 'Hadoop', 'Ansible', 'Chef']\n",
      "cluster_9 ['Assembly', 'C', 'C++', 'Qt', 'Qt Creator']\n"
     ]
    }
   ],
   "source": [
    "for label in sorted(set(best_labels_all_skills)):\n",
    "    print(label, list(all_skills_tsne[best_labels_all_skills==label].index))"
   ],
   "metadata": {
    "collapsed": false
   }
  },
  {
   "cell_type": "code",
   "execution_count": 19,
   "outputs": [],
   "source": [],
   "metadata": {
    "collapsed": false
   }
  }
 ],
 "metadata": {
  "kernelspec": {
   "display_name": "Python 3",
   "language": "python",
   "name": "python3"
  },
  "language_info": {
   "codemirror_mode": {
    "name": "ipython",
    "version": 2
   },
   "file_extension": ".py",
   "mimetype": "text/x-python",
   "name": "python",
   "nbconvert_exporter": "python",
   "pygments_lexer": "ipython2",
   "version": "2.7.6"
  }
 },
 "nbformat": 4,
 "nbformat_minor": 0
}
