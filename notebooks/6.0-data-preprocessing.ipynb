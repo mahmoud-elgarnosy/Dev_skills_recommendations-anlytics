{
 "cells": [
  {
   "cell_type": "code",
   "execution_count": 1,
   "outputs": [],
   "source": [
    "# Load packages\n",
    "import pandas as pd\n",
    "from sklearn.manifold import TSNE\n",
    "from sklearn.cluster import AgglomerativeClustering\n",
    "from sklearn.metrics import silhouette_score\n",
    "import numpy as np\n",
    "import matplotlib.pyplot as plt\n",
    "import plotly.express as px\n"
   ],
   "metadata": {
    "collapsed": false
   }
  },
  {
   "cell_type": "code",
   "execution_count": 2,
   "outputs": [],
   "source": [
    "FILE_PATH = '../data/raw/survey_results_public.csv'\n",
    "LOAD_PATH = '../data/interim/'\n",
    "LOAD_SKILLS_DEV = '4.1-preprocessed-data_skills_dev.pkl'\n",
    "LOAD_HEAT_MAP = '5.0-EDA-heat_map.pkl'"
   ],
   "metadata": {
    "collapsed": false
   }
  },
  {
   "cell_type": "markdown",
   "source": [
    "# More preprocessing steps:\n",
    "1. Drop roles: ['Student', 'Other (please specify):', 'Designer', 'Educator', 'Product manager', 'Marketing or sales professional']\n",
    "2. split roles: ['Developer_full-stack', 'Developer_back-end']\n",
    "3. Cluster similar roles"
   ],
   "metadata": {
    "collapsed": false
   }
  },
  {
   "cell_type": "code",
   "execution_count": 3,
   "outputs": [],
   "source": [
    "def reduce_dimensions(df):\n",
    "    tsne_data = pd.DataFrame(TSNE(n_components=2, learning_rate=.01,\n",
    "                                 perplexity=3, n_iter = 10**10).fit_transform(df),\n",
    "                 index = df.index)\n",
    "\n",
    "    return tsne_data"
   ],
   "metadata": {
    "collapsed": false
   }
  },
  {
   "cell_type": "code",
   "execution_count": 4,
   "outputs": [],
   "source": [
    "def evaluate_cluster_model(tsne_data, range_clusters=range(1,5), plot = True):\n",
    "    scores = []\n",
    "    for k in range_clusters:\n",
    "        model = AgglomerativeClustering(n_clusters=k)\n",
    "\n",
    "        # predict cluster labels for test data\n",
    "        labels = model.fit_predict(tsne_data)\n",
    "\n",
    "        score = silhouette_score(tsne_data, labels)\n",
    "        scores.append(score)\n",
    "\n",
    "\n",
    "    best_k = np.argmax(scores) + range_clusters[0]\n",
    "    best_labels = AgglomerativeClustering(n_clusters=best_k).fit_predict(tsne_data)\n",
    "    best_labels = np.array([f'cluster_{label}' for label in best_labels])\n",
    "\n",
    "    if plot:\n",
    "        # silhouette score\n",
    "        fig = px.line(x= range_clusters, y = scores)\n",
    "        fig.add_vline(best_k)\n",
    "        fig.update_layout(height=450, width=900, title='Silhouette Score')\n",
    "\n",
    "        fig.show()\n",
    "\n",
    "    return best_k, best_labels"
   ],
   "metadata": {
    "collapsed": false
   }
  },
  {
   "cell_type": "code",
   "execution_count": 42,
   "outputs": [],
   "source": [
    "def visualize_chosen_cluster_model(role_type, tsne_data, cluster_labels):\n",
    "    fig = px.scatter(x=tsne_data[0],\n",
    "                    y=tsne_data[1],\n",
    "                    text=tsne_data.index,\n",
    "                    color=cluster_labels,\n",
    "                     color_discrete_sequence=px.colors.qualitative.Dark24)\n",
    "    fig.update_traces(textposition='top center')\n",
    "    fig.update_layout(height=900, width=1500, title_text=f'Clustering top skills for {role_type}')\n",
    "    fig.show()"
   ],
   "metadata": {
    "collapsed": false
   }
  },
  {
   "cell_type": "markdown",
   "source": [
    "# Load Data"
   ],
   "metadata": {
    "collapsed": false
   }
  },
  {
   "cell_type": "code",
   "execution_count": 43,
   "outputs": [],
   "source": [
    "skills_dev_df = pd.read_pickle(LOAD_PATH + LOAD_SKILLS_DEV)\n",
    "developers_skills = pd.read_pickle(LOAD_PATH + LOAD_HEAT_MAP)"
   ],
   "metadata": {
    "collapsed": false
   }
  },
  {
   "cell_type": "code",
   "execution_count": 44,
   "outputs": [
    {
     "data": {
      "text/plain": "      Languages                                                           \\\n            APL  Assembly Bash/Shell         C        C#       C++ COBOL   \n2      0.000000  0.000000   0.000000  0.000000  0.078225  0.078225   0.0   \n3      0.000000  0.000000   0.000000  0.000000  0.348833  0.000000   0.0   \n7      0.002722  0.000000   0.002722  0.005444  0.000000  0.005444   0.0   \n9      0.000000  0.000000   0.000000  0.000000  0.000000  0.000000   0.0   \n10     0.000000  0.000000   0.074712  0.000000  0.112069  0.000000   0.0   \n...         ...       ...        ...       ...       ...       ...   ...   \n73262  0.000000  0.002167   0.000000  0.002167  0.000000  0.003250   0.0   \n73263  0.000000  0.000000   0.159422  0.000000  0.000000  0.000000   0.0   \n73264  0.000000  0.000000   0.034767  0.000000  0.000000  0.000000   0.0   \n73265  0.000000  0.000000   0.000000  0.000000  0.085912  0.000000   0.0   \n73266  0.000000  0.000000   0.000000  0.000000  0.271340  0.000000   0.0   \n\n                                 ...             DevType  \\\n      Clojure Crystal      Dart  ... Engineering manager   \n2         0.0     0.0  0.000000  ...                   0   \n3         0.0     0.0  0.000000  ...                   0   \n7         0.0     0.0  0.000000  ...                   0   \n9         0.0     0.0  0.000000  ...                   0   \n10        0.0     0.0  0.000000  ...                   0   \n...       ...     ...       ...  ...                 ...   \n73262     0.0     0.0  0.000000  ...                   0   \n73263     0.0     0.0  0.106281  ...                   0   \n73264     0.0     0.0  0.000000  ...                   0   \n73265     0.0     0.0  0.000000  ...                   0   \n73266     0.0     0.0  0.000000  ...                   0   \n\n                                                                               \\\n      Marketing or sales professional Other (please specify): Product manager   \n2                                   0                       0               0   \n3                                   0                       0               0   \n7                                   0                       0               0   \n9                                   0                       0               0   \n10                                  0                       0               0   \n...                               ...                     ...             ...   \n73262                               0                       0               0   \n73263                               0                       0               0   \n73264                               0                       0               0   \n73265                               0                       0               0   \n73266                               0                       0               0   \n\n                                                       \\\n      Project manager Scientist Security professional   \n2                   0         0                     0   \n3                   0         0                     0   \n7                   0         0                     0   \n9                   0         0                     0   \n10                  0         0                     0   \n...               ...       ...                   ...   \n73262               0         0                     0   \n73263               0         0                     0   \n73264               0         0                     0   \n73265               0         0                     0   \n73266               0         0                     0   \n\n                                                                       \n      Senior Executive (C-Suite_VP_etc.) Student System administrator  \n2                                      0       0                    0  \n3                                      0       0                    0  \n7                                      0       1                    0  \n9                                      0       0                    0  \n10                                     0       0                    0  \n...                                  ...     ...                  ...  \n73262                                  0       1                    0  \n73263                                  0       0                    0  \n73264                                  0       0                    0  \n73265                                  0       0                    1  \n73266                                  0       0                    0  \n\n[50423 rows x 190 columns]",
      "text/html": "<div>\n<style scoped>\n    .dataframe tbody tr th:only-of-type {\n        vertical-align: middle;\n    }\n\n    .dataframe tbody tr th {\n        vertical-align: top;\n    }\n\n    .dataframe thead tr th {\n        text-align: left;\n    }\n</style>\n<table border=\"1\" class=\"dataframe\">\n  <thead>\n    <tr>\n      <th></th>\n      <th colspan=\"10\" halign=\"left\">Languages</th>\n      <th>...</th>\n      <th colspan=\"10\" halign=\"left\">DevType</th>\n    </tr>\n    <tr>\n      <th></th>\n      <th>APL</th>\n      <th>Assembly</th>\n      <th>Bash/Shell</th>\n      <th>C</th>\n      <th>C#</th>\n      <th>C++</th>\n      <th>COBOL</th>\n      <th>Clojure</th>\n      <th>Crystal</th>\n      <th>Dart</th>\n      <th>...</th>\n      <th>Engineering manager</th>\n      <th>Marketing or sales professional</th>\n      <th>Other (please specify):</th>\n      <th>Product manager</th>\n      <th>Project manager</th>\n      <th>Scientist</th>\n      <th>Security professional</th>\n      <th>Senior Executive (C-Suite_VP_etc.)</th>\n      <th>Student</th>\n      <th>System administrator</th>\n    </tr>\n  </thead>\n  <tbody>\n    <tr>\n      <th>2</th>\n      <td>0.000000</td>\n      <td>0.000000</td>\n      <td>0.000000</td>\n      <td>0.000000</td>\n      <td>0.078225</td>\n      <td>0.078225</td>\n      <td>0.0</td>\n      <td>0.0</td>\n      <td>0.0</td>\n      <td>0.000000</td>\n      <td>...</td>\n      <td>0</td>\n      <td>0</td>\n      <td>0</td>\n      <td>0</td>\n      <td>0</td>\n      <td>0</td>\n      <td>0</td>\n      <td>0</td>\n      <td>0</td>\n      <td>0</td>\n    </tr>\n    <tr>\n      <th>3</th>\n      <td>0.000000</td>\n      <td>0.000000</td>\n      <td>0.000000</td>\n      <td>0.000000</td>\n      <td>0.348833</td>\n      <td>0.000000</td>\n      <td>0.0</td>\n      <td>0.0</td>\n      <td>0.0</td>\n      <td>0.000000</td>\n      <td>...</td>\n      <td>0</td>\n      <td>0</td>\n      <td>0</td>\n      <td>0</td>\n      <td>0</td>\n      <td>0</td>\n      <td>0</td>\n      <td>0</td>\n      <td>0</td>\n      <td>0</td>\n    </tr>\n    <tr>\n      <th>7</th>\n      <td>0.002722</td>\n      <td>0.000000</td>\n      <td>0.002722</td>\n      <td>0.005444</td>\n      <td>0.000000</td>\n      <td>0.005444</td>\n      <td>0.0</td>\n      <td>0.0</td>\n      <td>0.0</td>\n      <td>0.000000</td>\n      <td>...</td>\n      <td>0</td>\n      <td>0</td>\n      <td>0</td>\n      <td>0</td>\n      <td>0</td>\n      <td>0</td>\n      <td>0</td>\n      <td>0</td>\n      <td>1</td>\n      <td>0</td>\n    </tr>\n    <tr>\n      <th>9</th>\n      <td>0.000000</td>\n      <td>0.000000</td>\n      <td>0.000000</td>\n      <td>0.000000</td>\n      <td>0.000000</td>\n      <td>0.000000</td>\n      <td>0.0</td>\n      <td>0.0</td>\n      <td>0.0</td>\n      <td>0.000000</td>\n      <td>...</td>\n      <td>0</td>\n      <td>0</td>\n      <td>0</td>\n      <td>0</td>\n      <td>0</td>\n      <td>0</td>\n      <td>0</td>\n      <td>0</td>\n      <td>0</td>\n      <td>0</td>\n    </tr>\n    <tr>\n      <th>10</th>\n      <td>0.000000</td>\n      <td>0.000000</td>\n      <td>0.074712</td>\n      <td>0.000000</td>\n      <td>0.112069</td>\n      <td>0.000000</td>\n      <td>0.0</td>\n      <td>0.0</td>\n      <td>0.0</td>\n      <td>0.000000</td>\n      <td>...</td>\n      <td>0</td>\n      <td>0</td>\n      <td>0</td>\n      <td>0</td>\n      <td>0</td>\n      <td>0</td>\n      <td>0</td>\n      <td>0</td>\n      <td>0</td>\n      <td>0</td>\n    </tr>\n    <tr>\n      <th>...</th>\n      <td>...</td>\n      <td>...</td>\n      <td>...</td>\n      <td>...</td>\n      <td>...</td>\n      <td>...</td>\n      <td>...</td>\n      <td>...</td>\n      <td>...</td>\n      <td>...</td>\n      <td>...</td>\n      <td>...</td>\n      <td>...</td>\n      <td>...</td>\n      <td>...</td>\n      <td>...</td>\n      <td>...</td>\n      <td>...</td>\n      <td>...</td>\n      <td>...</td>\n      <td>...</td>\n    </tr>\n    <tr>\n      <th>73262</th>\n      <td>0.000000</td>\n      <td>0.002167</td>\n      <td>0.000000</td>\n      <td>0.002167</td>\n      <td>0.000000</td>\n      <td>0.003250</td>\n      <td>0.0</td>\n      <td>0.0</td>\n      <td>0.0</td>\n      <td>0.000000</td>\n      <td>...</td>\n      <td>0</td>\n      <td>0</td>\n      <td>0</td>\n      <td>0</td>\n      <td>0</td>\n      <td>0</td>\n      <td>0</td>\n      <td>0</td>\n      <td>1</td>\n      <td>0</td>\n    </tr>\n    <tr>\n      <th>73263</th>\n      <td>0.000000</td>\n      <td>0.000000</td>\n      <td>0.159422</td>\n      <td>0.000000</td>\n      <td>0.000000</td>\n      <td>0.000000</td>\n      <td>0.0</td>\n      <td>0.0</td>\n      <td>0.0</td>\n      <td>0.106281</td>\n      <td>...</td>\n      <td>0</td>\n      <td>0</td>\n      <td>0</td>\n      <td>0</td>\n      <td>0</td>\n      <td>0</td>\n      <td>0</td>\n      <td>0</td>\n      <td>0</td>\n      <td>0</td>\n    </tr>\n    <tr>\n      <th>73264</th>\n      <td>0.000000</td>\n      <td>0.000000</td>\n      <td>0.034767</td>\n      <td>0.000000</td>\n      <td>0.000000</td>\n      <td>0.000000</td>\n      <td>0.0</td>\n      <td>0.0</td>\n      <td>0.0</td>\n      <td>0.000000</td>\n      <td>...</td>\n      <td>0</td>\n      <td>0</td>\n      <td>0</td>\n      <td>0</td>\n      <td>0</td>\n      <td>0</td>\n      <td>0</td>\n      <td>0</td>\n      <td>0</td>\n      <td>0</td>\n    </tr>\n    <tr>\n      <th>73265</th>\n      <td>0.000000</td>\n      <td>0.000000</td>\n      <td>0.000000</td>\n      <td>0.000000</td>\n      <td>0.085912</td>\n      <td>0.000000</td>\n      <td>0.0</td>\n      <td>0.0</td>\n      <td>0.0</td>\n      <td>0.000000</td>\n      <td>...</td>\n      <td>0</td>\n      <td>0</td>\n      <td>0</td>\n      <td>0</td>\n      <td>0</td>\n      <td>0</td>\n      <td>0</td>\n      <td>0</td>\n      <td>0</td>\n      <td>1</td>\n    </tr>\n    <tr>\n      <th>73266</th>\n      <td>0.000000</td>\n      <td>0.000000</td>\n      <td>0.000000</td>\n      <td>0.000000</td>\n      <td>0.271340</td>\n      <td>0.000000</td>\n      <td>0.0</td>\n      <td>0.0</td>\n      <td>0.0</td>\n      <td>0.000000</td>\n      <td>...</td>\n      <td>0</td>\n      <td>0</td>\n      <td>0</td>\n      <td>0</td>\n      <td>0</td>\n      <td>0</td>\n      <td>0</td>\n      <td>0</td>\n      <td>0</td>\n      <td>0</td>\n    </tr>\n  </tbody>\n</table>\n<p>50423 rows × 190 columns</p>\n</div>"
     },
     "execution_count": 44,
     "metadata": {},
     "output_type": "execute_result"
    }
   ],
   "source": [
    "skills_dev_df"
   ],
   "metadata": {
    "collapsed": false
   }
  },
  {
   "cell_type": "code",
   "execution_count": 45,
   "outputs": [
    {
     "data": {
      "text/plain": "                                               Visual Studio Code    Docker  \\\njob_type                                                                      \nDeveloper_full-stack                                     0.643478  0.332226   \nDeveloper_back-end                                       0.550099  0.914106   \nDeveloper_front-end                                      0.236148 -0.399740   \nDeveloper_desktop or enterprise applications             1.072204 -0.116014   \nDeveloper_mobile                                        -0.395971 -1.049828   \nStudent                                                 -3.279573 -2.229095   \nDevOps specialist                                        1.266718  1.909046   \nCloud infrastructure engineer                            1.458073  2.210924   \nData scientist or machine learning specialist            0.006104  0.130051   \nEngineering manager                                      2.048768  1.727352   \nOther (please specify):                                 -0.319644 -0.470583   \nDeveloper_embedded applications or devices               0.912731  0.160537   \nEngineer_data                                            0.446945  0.671038   \nSystem administrator                                    -0.928674 -0.418010   \nAcademic researcher                                     -1.152162 -0.872511   \nData or business analyst                                -0.392151 -0.843358   \nDatabase administrator                                  -0.073381 -0.267234   \nProject manager                                          0.239500 -0.286755   \nDesigner                                                -0.384395 -0.945792   \nDeveloper_QA or test                                    -0.158033  0.118238   \nEducator                                                 0.187671 -0.206436   \nScientist                                               -0.367106 -0.417981   \nDeveloper_game or graphics                              -0.291410 -1.108644   \nProduct manager                                         -0.190465 -0.228531   \nEngineer_site reliability                                0.575045  1.784475   \nSenior Executive (C-Suite_VP_etc.)                       0.649427  0.646128   \nSecurity professional                                    0.009959  0.489972   \nBlockchain                                              -0.605562  0.002946   \nMarketing or sales professional                         -1.764343 -1.236530   \n\n                                               JavaScript       SQL       AWS  \\\njob_type                                                                        \nDeveloper_full-stack                             1.728091  0.648325  0.242281   \nDeveloper_back-end                               0.496119  0.748761  0.735634   \nDeveloper_front-end                              1.432101 -0.549764 -0.415795   \nDeveloper_desktop or enterprise applications     0.439195  1.060457 -0.447683   \nDeveloper_mobile                                -0.450053 -1.020856 -0.610251   \nStudent                                         -2.637569 -2.265563 -2.117238   \nDevOps specialist                                0.970309  0.767482  1.261948   \nCloud infrastructure engineer                    0.868015  0.618616  2.455382   \nData scientist or machine learning specialist   -1.182329  0.204205  0.217920   \nEngineering manager                              1.921981  1.212738  2.141622   \nOther (please specify):                         -0.315887 -0.458740 -0.332297   \nDeveloper_embedded applications or devices      -0.806108 -1.021015 -0.818063   \nEngineer_data                                   -0.690541  1.464434  0.994830   \nSystem administrator                            -0.260243  0.180792 -0.566827   \nAcademic researcher                             -1.393644 -1.228593 -1.191841   \nData or business analyst                        -0.676813  1.235913 -0.415299   \nDatabase administrator                           0.601221  2.176569 -0.107166   \nProject manager                                  0.565105  0.391290 -0.264545   \nDesigner                                         0.321127 -0.397435 -0.760006   \nDeveloper_QA or test                             0.212616  0.119997 -0.317196   \nEducator                                         0.400161  0.014871 -0.510199   \nScientist                                       -1.266814 -1.082666 -0.678400   \nDeveloper_game or graphics                      -0.854913 -1.561539 -0.866170   \nProduct manager                                  0.577912  0.155194 -0.093191   \nEngineer_site reliability                        0.037789 -0.066499  1.669988   \nSenior Executive (C-Suite_VP_etc.)               1.177788  0.875966  1.207209   \nSecurity professional                           -0.000412 -0.266744  0.438080   \nBlockchain                                      -0.385302 -1.055627 -0.116647   \nMarketing or sales professional                 -0.828903 -0.900570 -0.736080   \n\n                                               HTML/CSS       npm    Python  \\\njob_type                                                                      \nDeveloper_full-stack                           1.865029  1.832151 -0.750718   \nDeveloper_back-end                             0.197229  0.576055 -0.178736   \nDeveloper_front-end                            1.754327  1.783955 -1.337430   \nDeveloper_desktop or enterprise applications   0.611498  0.048091 -0.185279   \nDeveloper_mobile                              -0.584926  0.069974 -1.354042   \nStudent                                       -2.577261 -2.193497 -2.210949   \nDevOps specialist                              0.789238  1.103082  0.819004   \nCloud infrastructure engineer                  0.318414  1.025740  1.063354   \nData scientist or machine learning specialist -1.039415 -1.243492  2.017619   \nEngineering manager                            1.406154  1.947077  0.416208   \nOther (please specify):                       -0.276890 -0.218381 -0.355341   \nDeveloper_embedded applications or devices    -0.671652 -0.867991  1.548937   \nEngineer_data                                 -1.034294 -0.637480  1.586859   \nSystem administrator                           0.093933 -0.542189 -0.262306   \nAcademic researcher                           -1.172294 -1.341553  0.528343   \nData or business analyst                      -0.434139 -0.953661  0.498581   \nDatabase administrator                         0.955513 -0.113918 -0.363702   \nProject manager                                0.600031  0.386211 -0.495684   \nDesigner                                       0.844715  0.148391 -0.846711   \nDeveloper_QA or test                           0.182364  0.243050  0.133712   \nEducator                                       0.842994  0.458744  0.140723   \nScientist                                     -1.038208 -1.441161  1.514749   \nDeveloper_game or graphics                    -0.893849 -0.687757 -0.565497   \nProduct manager                                0.448002  0.492225 -0.563775   \nEngineer_site reliability                     -0.581576 -0.093784  1.211204   \nSenior Executive (C-Suite_VP_etc.)             1.164838  1.125458 -0.263920   \nSecurity professional                          0.011952 -0.307886  0.433549   \nBlockchain                                    -0.941753  0.292298 -1.014278   \nMarketing or sales professional               -0.839974 -0.889753 -1.164476   \n\n                                               PostgreSQL  TypeScript  ...  \\\njob_type                                                               ...   \nDeveloper_full-stack                             0.462563    1.885592  ...   \nDeveloper_back-end                               0.988439    0.552868  ...   \nDeveloper_front-end                             -0.479756    1.949929  ...   \nDeveloper_desktop or enterprise applications    -0.228375    0.274480  ...   \nDeveloper_mobile                                -1.016884   -0.006727  ...   \nStudent                                         -2.152963   -1.828362  ...   \nDevOps specialist                                1.384323    1.024111  ...   \nCloud infrastructure engineer                    1.721389    1.314664  ...   \nData scientist or machine learning specialist    0.041236   -1.208772  ...   \nEngineering manager                              1.938685    2.062469  ...   \nOther (please specify):                         -0.695476   -0.341629  ...   \nDeveloper_embedded applications or devices      -0.889149   -0.819257  ...   \nEngineer_data                                    1.059906   -0.630390  ...   \nSystem administrator                             0.023087   -0.754545  ...   \nAcademic researcher                             -0.976324   -1.320477  ...   \nData or business analyst                        -0.150022   -0.960280  ...   \nDatabase administrator                           0.503527   -0.185761  ...   \nProject manager                                 -0.273016    0.153723  ...   \nDesigner                                        -0.872401    0.017237  ...   \nDeveloper_QA or test                            -0.239773    0.059430  ...   \nEducator                                        -0.043784    0.206837  ...   \nScientist                                       -0.814821   -1.314481  ...   \nDeveloper_game or graphics                      -1.301447   -0.461848  ...   \nProduct manager                                  0.000488    0.115544  ...   \nEngineer_site reliability                        1.468758    0.129094  ...   \nSenior Executive (C-Suite_VP_etc.)               1.518650    1.004866  ...   \nSecurity professional                            0.089269   -0.221553  ...   \nBlockchain                                       0.272430    0.553946  ...   \nMarketing or sales professional                 -1.338560   -1.250707  ...   \n\n                                               Colocation  TextMate  \\\njob_type                                                              \nDeveloper_full-stack                            -0.493280 -0.179719   \nDeveloper_back-end                              -0.317469  0.014596   \nDeveloper_front-end                             -0.999980 -0.762550   \nDeveloper_desktop or enterprise applications    -0.597945 -0.563494   \nDeveloper_mobile                                -0.893595  1.274784   \nStudent                                         -1.217601 -1.774108   \nDevOps specialist                                0.564949  0.675245   \nCloud infrastructure engineer                    0.889344 -0.083792   \nData scientist or machine learning specialist   -0.301037  0.111160   \nEngineering manager                              1.062065  1.632233   \nOther (please specify):                         -0.139972 -0.526620   \nDeveloper_embedded applications or devices      -0.424536 -0.115243   \nEngineer_data                                   -0.207300  0.070192   \nSystem administrator                             0.571873  0.304039   \nAcademic researcher                             -0.964464  0.837149   \nData or business analyst                        -0.761052 -1.558797   \nDatabase administrator                          -0.011945  0.576926   \nProject manager                                 -0.445566 -0.542596   \nDesigner                                        -0.375058 -0.035050   \nDeveloper_QA or test                            -0.527540 -1.024427   \nEducator                                        -0.536369  1.395287   \nScientist                                       -0.689614  2.252830   \nDeveloper_game or graphics                      -0.019865  0.212231   \nProduct manager                                  0.083016  0.140815   \nEngineer_site reliability                        2.501697 -0.730849   \nSenior Executive (C-Suite_VP_etc.)               3.553106  1.781858   \nSecurity professional                            0.573556 -1.114273   \nBlockchain                                       0.035531 -1.552622   \nMarketing or sales professional                  0.089050 -0.715203   \n\n                                               Play Framework     COBOL  \\\njob_type                                                                  \nDeveloper_full-stack                                 0.350002 -0.695551   \nDeveloper_back-end                                   1.161129  0.127976   \nDeveloper_front-end                                 -0.631086 -0.739608   \nDeveloper_desktop or enterprise applications        -0.321794  2.090686   \nDeveloper_mobile                                    -0.705614 -0.733896   \nStudent                                             -1.398888 -1.671400   \nDevOps specialist                                    0.430476 -0.290197   \nCloud infrastructure engineer                        1.201307  0.002524   \nData scientist or machine learning specialist       -0.306335 -0.181985   \nEngineering manager                                  2.089052 -1.207851   \nOther (please specify):                              0.050760  0.414849   \nDeveloper_embedded applications or devices          -1.166190  0.248941   \nEngineer_data                                        2.475809 -0.411377   \nSystem administrator                                -0.959007 -0.489841   \nAcademic researcher                                  0.217337 -0.558934   \nData or business analyst                            -0.845096  1.911843   \nDatabase administrator                              -0.841680  2.250180   \nProject manager                                      0.189836  0.306521   \nDesigner                                            -0.218211  1.049075   \nDeveloper_QA or test                                -0.621087  0.236848   \nEducator                                             0.184826 -0.020947   \nScientist                                           -0.843090  0.747246   \nDeveloper_game or graphics                          -1.223942 -0.886450   \nProduct manager                                     -0.281438  0.188860   \nEngineer_site reliability                            1.531704  1.063354   \nSenior Executive (C-Suite_VP_etc.)                   1.272229  0.526987   \nSecurity professional                                0.441841 -0.136545   \nBlockchain                                           0.051793 -1.631595   \nMarketing or sales professional                     -1.284643 -1.509716   \n\n                                                  OCaml  Uno Platform  \\\njob_type                                                                \nDeveloper_full-stack                          -0.330071     -0.216482   \nDeveloper_back-end                             0.037173     -0.312642   \nDeveloper_front-end                           -0.696566     -0.484214   \nDeveloper_desktop or enterprise applications  -0.380184      2.660026   \nDeveloper_mobile                              -1.207540      1.291526   \nStudent                                       -1.594260     -1.234213   \nDevOps specialist                             -0.294740     -0.156091   \nCloud infrastructure engineer                  0.405381     -0.223396   \nData scientist or machine learning specialist  0.159016     -1.044706   \nEngineering manager                            0.736906      1.387433   \nOther (please specify):                        0.491139     -0.246090   \nDeveloper_embedded applications or devices     0.413359      0.303510   \nEngineer_data                                  0.234873     -0.752207   \nSystem administrator                          -0.104931     -0.891470   \nAcademic researcher                            3.012994     -0.906910   \nData or business analyst                      -0.902029      0.057043   \nDatabase administrator                        -0.058494      0.120643   \nProject manager                               -0.577352      0.838152   \nDesigner                                      -1.415454     -0.628136   \nDeveloper_QA or test                          -0.199361     -0.859954   \nEducator                                       1.150284     -0.506052   \nScientist                                      1.833625     -1.097349   \nDeveloper_game or graphics                    -0.578198      1.051431   \nProduct manager                               -0.329311      1.875282   \nEngineer_site reliability                     -0.391872      0.976361   \nSenior Executive (C-Suite_VP_etc.)             0.563360      1.315477   \nSecurity professional                          0.849728     -1.127229   \nBlockchain                                     1.005260     -0.189577   \nMarketing or sales professional               -1.832733     -1.000165   \n\n                                                Crystal      Flow       SAS  \\\njob_type                                                                      \nDeveloper_full-stack                           0.058709  0.553920 -0.270572   \nDeveloper_back-end                             0.427555 -0.417501 -0.332298   \nDeveloper_front-end                           -0.866534  1.550171 -0.137506   \nDeveloper_desktop or enterprise applications   1.370289 -0.266390 -0.478204   \nDeveloper_mobile                              -0.678031  2.157946 -0.559376   \nStudent                                       -1.401607 -1.812963 -0.560996   \nDevOps specialist                              0.179083  0.554074 -0.425891   \nCloud infrastructure engineer                  0.636793  0.220895 -0.296076   \nData scientist or machine learning specialist -0.734732 -1.327205  3.472358   \nEngineering manager                            0.403426  0.959905 -0.573873   \nOther (please specify):                        0.060115  1.116756 -0.455576   \nDeveloper_embedded applications or devices    -0.899388 -0.504913 -0.621495   \nEngineer_data                                  0.610665  0.754960  0.842326   \nSystem administrator                           0.562920 -0.735651 -0.629136   \nAcademic researcher                           -1.132873 -1.705035  0.485566   \nData or business analyst                       2.105447  0.051996  3.041105   \nDatabase administrator                         2.696914 -0.966018 -0.044465   \nProject manager                                0.670701 -0.407448 -0.242319   \nDesigner                                      -0.364316  0.522913 -0.511140   \nDeveloper_QA or test                           0.527318  0.735753  0.171031   \nEducator                                      -1.302216  0.864425  0.301480   \nScientist                                     -1.108318 -1.490467  1.264555   \nDeveloper_game or graphics                    -0.226215  0.685337 -0.549047   \nProduct manager                               -0.950257 -0.464061 -0.272045   \nEngineer_site reliability                      1.306856 -0.527539 -0.677037   \nSenior Executive (C-Suite_VP_etc.)            -0.344534 -1.088689 -0.023848   \nSecurity professional                          0.148013 -0.430602 -0.636260   \nBlockchain                                    -0.873716  1.520467 -0.663465   \nMarketing or sales professional               -0.882066 -0.105035 -0.617796   \n\n                                                    APL  \njob_type                                                 \nDeveloper_full-stack                          -0.834793  \nDeveloper_back-end                            -0.691988  \nDeveloper_front-end                           -1.055376  \nDeveloper_desktop or enterprise applications  -0.135522  \nDeveloper_mobile                              -0.888334  \nStudent                                       -1.430756  \nDevOps specialist                             -0.351631  \nCloud infrastructure engineer                  0.292490  \nData scientist or machine learning specialist -0.358396  \nEngineering manager                           -0.923875  \nOther (please specify):                       -0.846846  \nDeveloper_embedded applications or devices    -0.757629  \nEngineer_data                                  0.331481  \nSystem administrator                          -0.539145  \nAcademic researcher                            2.309161  \nData or business analyst                       1.605508  \nDatabase administrator                         1.402888  \nProject manager                                0.131282  \nDesigner                                       0.418027  \nDeveloper_QA or test                           0.627898  \nEducator                                       0.266137  \nScientist                                      2.754831  \nDeveloper_game or graphics                    -1.023479  \nProduct manager                                0.326026  \nEngineer_site reliability                     -0.243448  \nSenior Executive (C-Suite_VP_etc.)            -1.046261  \nSecurity professional                         -0.045376  \nBlockchain                                     0.733730  \nMarketing or sales professional               -0.026606  \n\n[29 rows x 161 columns]",
      "text/html": "<div>\n<style scoped>\n    .dataframe tbody tr th:only-of-type {\n        vertical-align: middle;\n    }\n\n    .dataframe tbody tr th {\n        vertical-align: top;\n    }\n\n    .dataframe thead th {\n        text-align: right;\n    }\n</style>\n<table border=\"1\" class=\"dataframe\">\n  <thead>\n    <tr style=\"text-align: right;\">\n      <th></th>\n      <th>Visual Studio Code</th>\n      <th>Docker</th>\n      <th>JavaScript</th>\n      <th>SQL</th>\n      <th>AWS</th>\n      <th>HTML/CSS</th>\n      <th>npm</th>\n      <th>Python</th>\n      <th>PostgreSQL</th>\n      <th>TypeScript</th>\n      <th>...</th>\n      <th>Colocation</th>\n      <th>TextMate</th>\n      <th>Play Framework</th>\n      <th>COBOL</th>\n      <th>OCaml</th>\n      <th>Uno Platform</th>\n      <th>Crystal</th>\n      <th>Flow</th>\n      <th>SAS</th>\n      <th>APL</th>\n    </tr>\n    <tr>\n      <th>job_type</th>\n      <th></th>\n      <th></th>\n      <th></th>\n      <th></th>\n      <th></th>\n      <th></th>\n      <th></th>\n      <th></th>\n      <th></th>\n      <th></th>\n      <th></th>\n      <th></th>\n      <th></th>\n      <th></th>\n      <th></th>\n      <th></th>\n      <th></th>\n      <th></th>\n      <th></th>\n      <th></th>\n      <th></th>\n    </tr>\n  </thead>\n  <tbody>\n    <tr>\n      <th>Developer_full-stack</th>\n      <td>0.643478</td>\n      <td>0.332226</td>\n      <td>1.728091</td>\n      <td>0.648325</td>\n      <td>0.242281</td>\n      <td>1.865029</td>\n      <td>1.832151</td>\n      <td>-0.750718</td>\n      <td>0.462563</td>\n      <td>1.885592</td>\n      <td>...</td>\n      <td>-0.493280</td>\n      <td>-0.179719</td>\n      <td>0.350002</td>\n      <td>-0.695551</td>\n      <td>-0.330071</td>\n      <td>-0.216482</td>\n      <td>0.058709</td>\n      <td>0.553920</td>\n      <td>-0.270572</td>\n      <td>-0.834793</td>\n    </tr>\n    <tr>\n      <th>Developer_back-end</th>\n      <td>0.550099</td>\n      <td>0.914106</td>\n      <td>0.496119</td>\n      <td>0.748761</td>\n      <td>0.735634</td>\n      <td>0.197229</td>\n      <td>0.576055</td>\n      <td>-0.178736</td>\n      <td>0.988439</td>\n      <td>0.552868</td>\n      <td>...</td>\n      <td>-0.317469</td>\n      <td>0.014596</td>\n      <td>1.161129</td>\n      <td>0.127976</td>\n      <td>0.037173</td>\n      <td>-0.312642</td>\n      <td>0.427555</td>\n      <td>-0.417501</td>\n      <td>-0.332298</td>\n      <td>-0.691988</td>\n    </tr>\n    <tr>\n      <th>Developer_front-end</th>\n      <td>0.236148</td>\n      <td>-0.399740</td>\n      <td>1.432101</td>\n      <td>-0.549764</td>\n      <td>-0.415795</td>\n      <td>1.754327</td>\n      <td>1.783955</td>\n      <td>-1.337430</td>\n      <td>-0.479756</td>\n      <td>1.949929</td>\n      <td>...</td>\n      <td>-0.999980</td>\n      <td>-0.762550</td>\n      <td>-0.631086</td>\n      <td>-0.739608</td>\n      <td>-0.696566</td>\n      <td>-0.484214</td>\n      <td>-0.866534</td>\n      <td>1.550171</td>\n      <td>-0.137506</td>\n      <td>-1.055376</td>\n    </tr>\n    <tr>\n      <th>Developer_desktop or enterprise applications</th>\n      <td>1.072204</td>\n      <td>-0.116014</td>\n      <td>0.439195</td>\n      <td>1.060457</td>\n      <td>-0.447683</td>\n      <td>0.611498</td>\n      <td>0.048091</td>\n      <td>-0.185279</td>\n      <td>-0.228375</td>\n      <td>0.274480</td>\n      <td>...</td>\n      <td>-0.597945</td>\n      <td>-0.563494</td>\n      <td>-0.321794</td>\n      <td>2.090686</td>\n      <td>-0.380184</td>\n      <td>2.660026</td>\n      <td>1.370289</td>\n      <td>-0.266390</td>\n      <td>-0.478204</td>\n      <td>-0.135522</td>\n    </tr>\n    <tr>\n      <th>Developer_mobile</th>\n      <td>-0.395971</td>\n      <td>-1.049828</td>\n      <td>-0.450053</td>\n      <td>-1.020856</td>\n      <td>-0.610251</td>\n      <td>-0.584926</td>\n      <td>0.069974</td>\n      <td>-1.354042</td>\n      <td>-1.016884</td>\n      <td>-0.006727</td>\n      <td>...</td>\n      <td>-0.893595</td>\n      <td>1.274784</td>\n      <td>-0.705614</td>\n      <td>-0.733896</td>\n      <td>-1.207540</td>\n      <td>1.291526</td>\n      <td>-0.678031</td>\n      <td>2.157946</td>\n      <td>-0.559376</td>\n      <td>-0.888334</td>\n    </tr>\n    <tr>\n      <th>Student</th>\n      <td>-3.279573</td>\n      <td>-2.229095</td>\n      <td>-2.637569</td>\n      <td>-2.265563</td>\n      <td>-2.117238</td>\n      <td>-2.577261</td>\n      <td>-2.193497</td>\n      <td>-2.210949</td>\n      <td>-2.152963</td>\n      <td>-1.828362</td>\n      <td>...</td>\n      <td>-1.217601</td>\n      <td>-1.774108</td>\n      <td>-1.398888</td>\n      <td>-1.671400</td>\n      <td>-1.594260</td>\n      <td>-1.234213</td>\n      <td>-1.401607</td>\n      <td>-1.812963</td>\n      <td>-0.560996</td>\n      <td>-1.430756</td>\n    </tr>\n    <tr>\n      <th>DevOps specialist</th>\n      <td>1.266718</td>\n      <td>1.909046</td>\n      <td>0.970309</td>\n      <td>0.767482</td>\n      <td>1.261948</td>\n      <td>0.789238</td>\n      <td>1.103082</td>\n      <td>0.819004</td>\n      <td>1.384323</td>\n      <td>1.024111</td>\n      <td>...</td>\n      <td>0.564949</td>\n      <td>0.675245</td>\n      <td>0.430476</td>\n      <td>-0.290197</td>\n      <td>-0.294740</td>\n      <td>-0.156091</td>\n      <td>0.179083</td>\n      <td>0.554074</td>\n      <td>-0.425891</td>\n      <td>-0.351631</td>\n    </tr>\n    <tr>\n      <th>Cloud infrastructure engineer</th>\n      <td>1.458073</td>\n      <td>2.210924</td>\n      <td>0.868015</td>\n      <td>0.618616</td>\n      <td>2.455382</td>\n      <td>0.318414</td>\n      <td>1.025740</td>\n      <td>1.063354</td>\n      <td>1.721389</td>\n      <td>1.314664</td>\n      <td>...</td>\n      <td>0.889344</td>\n      <td>-0.083792</td>\n      <td>1.201307</td>\n      <td>0.002524</td>\n      <td>0.405381</td>\n      <td>-0.223396</td>\n      <td>0.636793</td>\n      <td>0.220895</td>\n      <td>-0.296076</td>\n      <td>0.292490</td>\n    </tr>\n    <tr>\n      <th>Data scientist or machine learning specialist</th>\n      <td>0.006104</td>\n      <td>0.130051</td>\n      <td>-1.182329</td>\n      <td>0.204205</td>\n      <td>0.217920</td>\n      <td>-1.039415</td>\n      <td>-1.243492</td>\n      <td>2.017619</td>\n      <td>0.041236</td>\n      <td>-1.208772</td>\n      <td>...</td>\n      <td>-0.301037</td>\n      <td>0.111160</td>\n      <td>-0.306335</td>\n      <td>-0.181985</td>\n      <td>0.159016</td>\n      <td>-1.044706</td>\n      <td>-0.734732</td>\n      <td>-1.327205</td>\n      <td>3.472358</td>\n      <td>-0.358396</td>\n    </tr>\n    <tr>\n      <th>Engineering manager</th>\n      <td>2.048768</td>\n      <td>1.727352</td>\n      <td>1.921981</td>\n      <td>1.212738</td>\n      <td>2.141622</td>\n      <td>1.406154</td>\n      <td>1.947077</td>\n      <td>0.416208</td>\n      <td>1.938685</td>\n      <td>2.062469</td>\n      <td>...</td>\n      <td>1.062065</td>\n      <td>1.632233</td>\n      <td>2.089052</td>\n      <td>-1.207851</td>\n      <td>0.736906</td>\n      <td>1.387433</td>\n      <td>0.403426</td>\n      <td>0.959905</td>\n      <td>-0.573873</td>\n      <td>-0.923875</td>\n    </tr>\n    <tr>\n      <th>Other (please specify):</th>\n      <td>-0.319644</td>\n      <td>-0.470583</td>\n      <td>-0.315887</td>\n      <td>-0.458740</td>\n      <td>-0.332297</td>\n      <td>-0.276890</td>\n      <td>-0.218381</td>\n      <td>-0.355341</td>\n      <td>-0.695476</td>\n      <td>-0.341629</td>\n      <td>...</td>\n      <td>-0.139972</td>\n      <td>-0.526620</td>\n      <td>0.050760</td>\n      <td>0.414849</td>\n      <td>0.491139</td>\n      <td>-0.246090</td>\n      <td>0.060115</td>\n      <td>1.116756</td>\n      <td>-0.455576</td>\n      <td>-0.846846</td>\n    </tr>\n    <tr>\n      <th>Developer_embedded applications or devices</th>\n      <td>0.912731</td>\n      <td>0.160537</td>\n      <td>-0.806108</td>\n      <td>-1.021015</td>\n      <td>-0.818063</td>\n      <td>-0.671652</td>\n      <td>-0.867991</td>\n      <td>1.548937</td>\n      <td>-0.889149</td>\n      <td>-0.819257</td>\n      <td>...</td>\n      <td>-0.424536</td>\n      <td>-0.115243</td>\n      <td>-1.166190</td>\n      <td>0.248941</td>\n      <td>0.413359</td>\n      <td>0.303510</td>\n      <td>-0.899388</td>\n      <td>-0.504913</td>\n      <td>-0.621495</td>\n      <td>-0.757629</td>\n    </tr>\n    <tr>\n      <th>Engineer_data</th>\n      <td>0.446945</td>\n      <td>0.671038</td>\n      <td>-0.690541</td>\n      <td>1.464434</td>\n      <td>0.994830</td>\n      <td>-1.034294</td>\n      <td>-0.637480</td>\n      <td>1.586859</td>\n      <td>1.059906</td>\n      <td>-0.630390</td>\n      <td>...</td>\n      <td>-0.207300</td>\n      <td>0.070192</td>\n      <td>2.475809</td>\n      <td>-0.411377</td>\n      <td>0.234873</td>\n      <td>-0.752207</td>\n      <td>0.610665</td>\n      <td>0.754960</td>\n      <td>0.842326</td>\n      <td>0.331481</td>\n    </tr>\n    <tr>\n      <th>System administrator</th>\n      <td>-0.928674</td>\n      <td>-0.418010</td>\n      <td>-0.260243</td>\n      <td>0.180792</td>\n      <td>-0.566827</td>\n      <td>0.093933</td>\n      <td>-0.542189</td>\n      <td>-0.262306</td>\n      <td>0.023087</td>\n      <td>-0.754545</td>\n      <td>...</td>\n      <td>0.571873</td>\n      <td>0.304039</td>\n      <td>-0.959007</td>\n      <td>-0.489841</td>\n      <td>-0.104931</td>\n      <td>-0.891470</td>\n      <td>0.562920</td>\n      <td>-0.735651</td>\n      <td>-0.629136</td>\n      <td>-0.539145</td>\n    </tr>\n    <tr>\n      <th>Academic researcher</th>\n      <td>-1.152162</td>\n      <td>-0.872511</td>\n      <td>-1.393644</td>\n      <td>-1.228593</td>\n      <td>-1.191841</td>\n      <td>-1.172294</td>\n      <td>-1.341553</td>\n      <td>0.528343</td>\n      <td>-0.976324</td>\n      <td>-1.320477</td>\n      <td>...</td>\n      <td>-0.964464</td>\n      <td>0.837149</td>\n      <td>0.217337</td>\n      <td>-0.558934</td>\n      <td>3.012994</td>\n      <td>-0.906910</td>\n      <td>-1.132873</td>\n      <td>-1.705035</td>\n      <td>0.485566</td>\n      <td>2.309161</td>\n    </tr>\n    <tr>\n      <th>Data or business analyst</th>\n      <td>-0.392151</td>\n      <td>-0.843358</td>\n      <td>-0.676813</td>\n      <td>1.235913</td>\n      <td>-0.415299</td>\n      <td>-0.434139</td>\n      <td>-0.953661</td>\n      <td>0.498581</td>\n      <td>-0.150022</td>\n      <td>-0.960280</td>\n      <td>...</td>\n      <td>-0.761052</td>\n      <td>-1.558797</td>\n      <td>-0.845096</td>\n      <td>1.911843</td>\n      <td>-0.902029</td>\n      <td>0.057043</td>\n      <td>2.105447</td>\n      <td>0.051996</td>\n      <td>3.041105</td>\n      <td>1.605508</td>\n    </tr>\n    <tr>\n      <th>Database administrator</th>\n      <td>-0.073381</td>\n      <td>-0.267234</td>\n      <td>0.601221</td>\n      <td>2.176569</td>\n      <td>-0.107166</td>\n      <td>0.955513</td>\n      <td>-0.113918</td>\n      <td>-0.363702</td>\n      <td>0.503527</td>\n      <td>-0.185761</td>\n      <td>...</td>\n      <td>-0.011945</td>\n      <td>0.576926</td>\n      <td>-0.841680</td>\n      <td>2.250180</td>\n      <td>-0.058494</td>\n      <td>0.120643</td>\n      <td>2.696914</td>\n      <td>-0.966018</td>\n      <td>-0.044465</td>\n      <td>1.402888</td>\n    </tr>\n    <tr>\n      <th>Project manager</th>\n      <td>0.239500</td>\n      <td>-0.286755</td>\n      <td>0.565105</td>\n      <td>0.391290</td>\n      <td>-0.264545</td>\n      <td>0.600031</td>\n      <td>0.386211</td>\n      <td>-0.495684</td>\n      <td>-0.273016</td>\n      <td>0.153723</td>\n      <td>...</td>\n      <td>-0.445566</td>\n      <td>-0.542596</td>\n      <td>0.189836</td>\n      <td>0.306521</td>\n      <td>-0.577352</td>\n      <td>0.838152</td>\n      <td>0.670701</td>\n      <td>-0.407448</td>\n      <td>-0.242319</td>\n      <td>0.131282</td>\n    </tr>\n    <tr>\n      <th>Designer</th>\n      <td>-0.384395</td>\n      <td>-0.945792</td>\n      <td>0.321127</td>\n      <td>-0.397435</td>\n      <td>-0.760006</td>\n      <td>0.844715</td>\n      <td>0.148391</td>\n      <td>-0.846711</td>\n      <td>-0.872401</td>\n      <td>0.017237</td>\n      <td>...</td>\n      <td>-0.375058</td>\n      <td>-0.035050</td>\n      <td>-0.218211</td>\n      <td>1.049075</td>\n      <td>-1.415454</td>\n      <td>-0.628136</td>\n      <td>-0.364316</td>\n      <td>0.522913</td>\n      <td>-0.511140</td>\n      <td>0.418027</td>\n    </tr>\n    <tr>\n      <th>Developer_QA or test</th>\n      <td>-0.158033</td>\n      <td>0.118238</td>\n      <td>0.212616</td>\n      <td>0.119997</td>\n      <td>-0.317196</td>\n      <td>0.182364</td>\n      <td>0.243050</td>\n      <td>0.133712</td>\n      <td>-0.239773</td>\n      <td>0.059430</td>\n      <td>...</td>\n      <td>-0.527540</td>\n      <td>-1.024427</td>\n      <td>-0.621087</td>\n      <td>0.236848</td>\n      <td>-0.199361</td>\n      <td>-0.859954</td>\n      <td>0.527318</td>\n      <td>0.735753</td>\n      <td>0.171031</td>\n      <td>0.627898</td>\n    </tr>\n    <tr>\n      <th>Educator</th>\n      <td>0.187671</td>\n      <td>-0.206436</td>\n      <td>0.400161</td>\n      <td>0.014871</td>\n      <td>-0.510199</td>\n      <td>0.842994</td>\n      <td>0.458744</td>\n      <td>0.140723</td>\n      <td>-0.043784</td>\n      <td>0.206837</td>\n      <td>...</td>\n      <td>-0.536369</td>\n      <td>1.395287</td>\n      <td>0.184826</td>\n      <td>-0.020947</td>\n      <td>1.150284</td>\n      <td>-0.506052</td>\n      <td>-1.302216</td>\n      <td>0.864425</td>\n      <td>0.301480</td>\n      <td>0.266137</td>\n    </tr>\n    <tr>\n      <th>Scientist</th>\n      <td>-0.367106</td>\n      <td>-0.417981</td>\n      <td>-1.266814</td>\n      <td>-1.082666</td>\n      <td>-0.678400</td>\n      <td>-1.038208</td>\n      <td>-1.441161</td>\n      <td>1.514749</td>\n      <td>-0.814821</td>\n      <td>-1.314481</td>\n      <td>...</td>\n      <td>-0.689614</td>\n      <td>2.252830</td>\n      <td>-0.843090</td>\n      <td>0.747246</td>\n      <td>1.833625</td>\n      <td>-1.097349</td>\n      <td>-1.108318</td>\n      <td>-1.490467</td>\n      <td>1.264555</td>\n      <td>2.754831</td>\n    </tr>\n    <tr>\n      <th>Developer_game or graphics</th>\n      <td>-0.291410</td>\n      <td>-1.108644</td>\n      <td>-0.854913</td>\n      <td>-1.561539</td>\n      <td>-0.866170</td>\n      <td>-0.893849</td>\n      <td>-0.687757</td>\n      <td>-0.565497</td>\n      <td>-1.301447</td>\n      <td>-0.461848</td>\n      <td>...</td>\n      <td>-0.019865</td>\n      <td>0.212231</td>\n      <td>-1.223942</td>\n      <td>-0.886450</td>\n      <td>-0.578198</td>\n      <td>1.051431</td>\n      <td>-0.226215</td>\n      <td>0.685337</td>\n      <td>-0.549047</td>\n      <td>-1.023479</td>\n    </tr>\n    <tr>\n      <th>Product manager</th>\n      <td>-0.190465</td>\n      <td>-0.228531</td>\n      <td>0.577912</td>\n      <td>0.155194</td>\n      <td>-0.093191</td>\n      <td>0.448002</td>\n      <td>0.492225</td>\n      <td>-0.563775</td>\n      <td>0.000488</td>\n      <td>0.115544</td>\n      <td>...</td>\n      <td>0.083016</td>\n      <td>0.140815</td>\n      <td>-0.281438</td>\n      <td>0.188860</td>\n      <td>-0.329311</td>\n      <td>1.875282</td>\n      <td>-0.950257</td>\n      <td>-0.464061</td>\n      <td>-0.272045</td>\n      <td>0.326026</td>\n    </tr>\n    <tr>\n      <th>Engineer_site reliability</th>\n      <td>0.575045</td>\n      <td>1.784475</td>\n      <td>0.037789</td>\n      <td>-0.066499</td>\n      <td>1.669988</td>\n      <td>-0.581576</td>\n      <td>-0.093784</td>\n      <td>1.211204</td>\n      <td>1.468758</td>\n      <td>0.129094</td>\n      <td>...</td>\n      <td>2.501697</td>\n      <td>-0.730849</td>\n      <td>1.531704</td>\n      <td>1.063354</td>\n      <td>-0.391872</td>\n      <td>0.976361</td>\n      <td>1.306856</td>\n      <td>-0.527539</td>\n      <td>-0.677037</td>\n      <td>-0.243448</td>\n    </tr>\n    <tr>\n      <th>Senior Executive (C-Suite_VP_etc.)</th>\n      <td>0.649427</td>\n      <td>0.646128</td>\n      <td>1.177788</td>\n      <td>0.875966</td>\n      <td>1.207209</td>\n      <td>1.164838</td>\n      <td>1.125458</td>\n      <td>-0.263920</td>\n      <td>1.518650</td>\n      <td>1.004866</td>\n      <td>...</td>\n      <td>3.553106</td>\n      <td>1.781858</td>\n      <td>1.272229</td>\n      <td>0.526987</td>\n      <td>0.563360</td>\n      <td>1.315477</td>\n      <td>-0.344534</td>\n      <td>-1.088689</td>\n      <td>-0.023848</td>\n      <td>-1.046261</td>\n    </tr>\n    <tr>\n      <th>Security professional</th>\n      <td>0.009959</td>\n      <td>0.489972</td>\n      <td>-0.000412</td>\n      <td>-0.266744</td>\n      <td>0.438080</td>\n      <td>0.011952</td>\n      <td>-0.307886</td>\n      <td>0.433549</td>\n      <td>0.089269</td>\n      <td>-0.221553</td>\n      <td>...</td>\n      <td>0.573556</td>\n      <td>-1.114273</td>\n      <td>0.441841</td>\n      <td>-0.136545</td>\n      <td>0.849728</td>\n      <td>-1.127229</td>\n      <td>0.148013</td>\n      <td>-0.430602</td>\n      <td>-0.636260</td>\n      <td>-0.045376</td>\n    </tr>\n    <tr>\n      <th>Blockchain</th>\n      <td>-0.605562</td>\n      <td>0.002946</td>\n      <td>-0.385302</td>\n      <td>-1.055627</td>\n      <td>-0.116647</td>\n      <td>-0.941753</td>\n      <td>0.292298</td>\n      <td>-1.014278</td>\n      <td>0.272430</td>\n      <td>0.553946</td>\n      <td>...</td>\n      <td>0.035531</td>\n      <td>-1.552622</td>\n      <td>0.051793</td>\n      <td>-1.631595</td>\n      <td>1.005260</td>\n      <td>-0.189577</td>\n      <td>-0.873716</td>\n      <td>1.520467</td>\n      <td>-0.663465</td>\n      <td>0.733730</td>\n    </tr>\n    <tr>\n      <th>Marketing or sales professional</th>\n      <td>-1.764343</td>\n      <td>-1.236530</td>\n      <td>-0.828903</td>\n      <td>-0.900570</td>\n      <td>-0.736080</td>\n      <td>-0.839974</td>\n      <td>-0.889753</td>\n      <td>-1.164476</td>\n      <td>-1.338560</td>\n      <td>-1.250707</td>\n      <td>...</td>\n      <td>0.089050</td>\n      <td>-0.715203</td>\n      <td>-1.284643</td>\n      <td>-1.509716</td>\n      <td>-1.832733</td>\n      <td>-1.000165</td>\n      <td>-0.882066</td>\n      <td>-0.105035</td>\n      <td>-0.617796</td>\n      <td>-0.026606</td>\n    </tr>\n  </tbody>\n</table>\n<p>29 rows × 161 columns</p>\n</div>"
     },
     "execution_count": 45,
     "metadata": {},
     "output_type": "execute_result"
    }
   ],
   "source": [
    "developers_skills"
   ],
   "metadata": {
    "collapsed": false
   }
  },
  {
   "cell_type": "markdown",
   "source": [
    "## 1. Drop roles: ['Student', 'Other (please specify):', 'Designer', 'Educator', 'Product manager', 'Marketing or sales professional']"
   ],
   "metadata": {
    "collapsed": false
   }
  },
  {
   "cell_type": "code",
   "execution_count": 46,
   "outputs": [],
   "source": [
    "drop_roles = ['Student',\n",
    "              'Other (please specify):',\n",
    "              'Designer', 'Educator',\n",
    "              'Product manager',\n",
    "              'Marketing or sales professional']"
   ],
   "metadata": {
    "collapsed": false
   }
  },
  {
   "cell_type": "code",
   "execution_count": 47,
   "outputs": [],
   "source": [
    "skills_dev_df = skills_dev_df.drop(drop_roles, axis = 1, level=1)"
   ],
   "metadata": {
    "collapsed": false
   }
  },
  {
   "cell_type": "code",
   "execution_count": 48,
   "outputs": [],
   "source": [
    "developers_skills = developers_skills.drop(drop_roles)"
   ],
   "metadata": {
    "collapsed": false
   }
  },
  {
   "cell_type": "markdown",
   "source": [
    "## 2. split roles: ['Developer_full-stack', 'Developer_back-end']"
   ],
   "metadata": {
    "collapsed": false
   }
  },
  {
   "cell_type": "code",
   "execution_count": 49,
   "outputs": [],
   "source": [
    "split_roles = ['Developer_full-stack', 'Developer_back-end']"
   ],
   "metadata": {
    "collapsed": false
   }
  },
  {
   "cell_type": "code",
   "execution_count": 50,
   "outputs": [],
   "source": [
    "def choose_most_related_skills(role_type = 'Developer_full-stack', threshold:float = .4):\n",
    "    most_related_skills = developers_skills.loc[role_type,:].sort_values(ascending=False)\n",
    "    most_related_skills = most_related_skills[most_related_skills> threshold].index\n",
    "\n",
    "\n",
    "    mask = skills_dev_df['DevType'][role_type] == 1\n",
    "    role_skills = skills_dev_df.loc[mask,: ].drop('DevType', axis = 1, level = 0).droplevel(axis = 1, level = 0)\n",
    "    role_skills = role_skills.T\n",
    "    role_skills = role_skills.loc[most_related_skills,:]\n",
    "\n",
    "    return role_skills"
   ],
   "metadata": {
    "collapsed": false
   }
  },
  {
   "cell_type": "markdown",
   "source": [
    "### A) Developer_full-stack"
   ],
   "metadata": {
    "collapsed": false
   }
  },
  {
   "cell_type": "code",
   "execution_count": 51,
   "outputs": [
    {
     "data": {
      "application/vnd.plotly.v1+json": {
       "data": [
        {
         "hovertemplate": "x=%{x}<br>y=%{y}<extra></extra>",
         "legendgroup": "",
         "line": {
          "color": "#636efa",
          "dash": "solid"
         },
         "marker": {
          "symbol": "circle"
         },
         "mode": "lines",
         "name": "",
         "orientation": "v",
         "showlegend": false,
         "x": [
          2,
          3,
          4,
          5,
          6
         ],
         "xaxis": "x",
         "y": [
          0.4237825572490692,
          0.4731423854827881,
          0.48710501194000244,
          0.48026666045188904,
          0.4831483066082001
         ],
         "yaxis": "y",
         "type": "scatter"
        }
       ],
       "layout": {
        "template": {
         "data": {
          "histogram2dcontour": [
           {
            "type": "histogram2dcontour",
            "colorbar": {
             "outlinewidth": 0,
             "ticks": ""
            },
            "colorscale": [
             [
              0.0,
              "#0d0887"
             ],
             [
              0.1111111111111111,
              "#46039f"
             ],
             [
              0.2222222222222222,
              "#7201a8"
             ],
             [
              0.3333333333333333,
              "#9c179e"
             ],
             [
              0.4444444444444444,
              "#bd3786"
             ],
             [
              0.5555555555555556,
              "#d8576b"
             ],
             [
              0.6666666666666666,
              "#ed7953"
             ],
             [
              0.7777777777777778,
              "#fb9f3a"
             ],
             [
              0.8888888888888888,
              "#fdca26"
             ],
             [
              1.0,
              "#f0f921"
             ]
            ]
           }
          ],
          "choropleth": [
           {
            "type": "choropleth",
            "colorbar": {
             "outlinewidth": 0,
             "ticks": ""
            }
           }
          ],
          "histogram2d": [
           {
            "type": "histogram2d",
            "colorbar": {
             "outlinewidth": 0,
             "ticks": ""
            },
            "colorscale": [
             [
              0.0,
              "#0d0887"
             ],
             [
              0.1111111111111111,
              "#46039f"
             ],
             [
              0.2222222222222222,
              "#7201a8"
             ],
             [
              0.3333333333333333,
              "#9c179e"
             ],
             [
              0.4444444444444444,
              "#bd3786"
             ],
             [
              0.5555555555555556,
              "#d8576b"
             ],
             [
              0.6666666666666666,
              "#ed7953"
             ],
             [
              0.7777777777777778,
              "#fb9f3a"
             ],
             [
              0.8888888888888888,
              "#fdca26"
             ],
             [
              1.0,
              "#f0f921"
             ]
            ]
           }
          ],
          "heatmap": [
           {
            "type": "heatmap",
            "colorbar": {
             "outlinewidth": 0,
             "ticks": ""
            },
            "colorscale": [
             [
              0.0,
              "#0d0887"
             ],
             [
              0.1111111111111111,
              "#46039f"
             ],
             [
              0.2222222222222222,
              "#7201a8"
             ],
             [
              0.3333333333333333,
              "#9c179e"
             ],
             [
              0.4444444444444444,
              "#bd3786"
             ],
             [
              0.5555555555555556,
              "#d8576b"
             ],
             [
              0.6666666666666666,
              "#ed7953"
             ],
             [
              0.7777777777777778,
              "#fb9f3a"
             ],
             [
              0.8888888888888888,
              "#fdca26"
             ],
             [
              1.0,
              "#f0f921"
             ]
            ]
           }
          ],
          "heatmapgl": [
           {
            "type": "heatmapgl",
            "colorbar": {
             "outlinewidth": 0,
             "ticks": ""
            },
            "colorscale": [
             [
              0.0,
              "#0d0887"
             ],
             [
              0.1111111111111111,
              "#46039f"
             ],
             [
              0.2222222222222222,
              "#7201a8"
             ],
             [
              0.3333333333333333,
              "#9c179e"
             ],
             [
              0.4444444444444444,
              "#bd3786"
             ],
             [
              0.5555555555555556,
              "#d8576b"
             ],
             [
              0.6666666666666666,
              "#ed7953"
             ],
             [
              0.7777777777777778,
              "#fb9f3a"
             ],
             [
              0.8888888888888888,
              "#fdca26"
             ],
             [
              1.0,
              "#f0f921"
             ]
            ]
           }
          ],
          "contourcarpet": [
           {
            "type": "contourcarpet",
            "colorbar": {
             "outlinewidth": 0,
             "ticks": ""
            }
           }
          ],
          "contour": [
           {
            "type": "contour",
            "colorbar": {
             "outlinewidth": 0,
             "ticks": ""
            },
            "colorscale": [
             [
              0.0,
              "#0d0887"
             ],
             [
              0.1111111111111111,
              "#46039f"
             ],
             [
              0.2222222222222222,
              "#7201a8"
             ],
             [
              0.3333333333333333,
              "#9c179e"
             ],
             [
              0.4444444444444444,
              "#bd3786"
             ],
             [
              0.5555555555555556,
              "#d8576b"
             ],
             [
              0.6666666666666666,
              "#ed7953"
             ],
             [
              0.7777777777777778,
              "#fb9f3a"
             ],
             [
              0.8888888888888888,
              "#fdca26"
             ],
             [
              1.0,
              "#f0f921"
             ]
            ]
           }
          ],
          "surface": [
           {
            "type": "surface",
            "colorbar": {
             "outlinewidth": 0,
             "ticks": ""
            },
            "colorscale": [
             [
              0.0,
              "#0d0887"
             ],
             [
              0.1111111111111111,
              "#46039f"
             ],
             [
              0.2222222222222222,
              "#7201a8"
             ],
             [
              0.3333333333333333,
              "#9c179e"
             ],
             [
              0.4444444444444444,
              "#bd3786"
             ],
             [
              0.5555555555555556,
              "#d8576b"
             ],
             [
              0.6666666666666666,
              "#ed7953"
             ],
             [
              0.7777777777777778,
              "#fb9f3a"
             ],
             [
              0.8888888888888888,
              "#fdca26"
             ],
             [
              1.0,
              "#f0f921"
             ]
            ]
           }
          ],
          "mesh3d": [
           {
            "type": "mesh3d",
            "colorbar": {
             "outlinewidth": 0,
             "ticks": ""
            }
           }
          ],
          "scatter": [
           {
            "marker": {
             "line": {
              "color": "#283442"
             }
            },
            "type": "scatter"
           }
          ],
          "parcoords": [
           {
            "type": "parcoords",
            "line": {
             "colorbar": {
              "outlinewidth": 0,
              "ticks": ""
             }
            }
           }
          ],
          "scatterpolargl": [
           {
            "type": "scatterpolargl",
            "marker": {
             "colorbar": {
              "outlinewidth": 0,
              "ticks": ""
             }
            }
           }
          ],
          "bar": [
           {
            "error_x": {
             "color": "#f2f5fa"
            },
            "error_y": {
             "color": "#f2f5fa"
            },
            "marker": {
             "line": {
              "color": "rgb(17,17,17)",
              "width": 0.5
             },
             "pattern": {
              "fillmode": "overlay",
              "size": 10,
              "solidity": 0.2
             }
            },
            "type": "bar"
           }
          ],
          "scattergeo": [
           {
            "type": "scattergeo",
            "marker": {
             "colorbar": {
              "outlinewidth": 0,
              "ticks": ""
             }
            }
           }
          ],
          "scatterpolar": [
           {
            "type": "scatterpolar",
            "marker": {
             "colorbar": {
              "outlinewidth": 0,
              "ticks": ""
             }
            }
           }
          ],
          "histogram": [
           {
            "marker": {
             "pattern": {
              "fillmode": "overlay",
              "size": 10,
              "solidity": 0.2
             }
            },
            "type": "histogram"
           }
          ],
          "scattergl": [
           {
            "marker": {
             "line": {
              "color": "#283442"
             }
            },
            "type": "scattergl"
           }
          ],
          "scatter3d": [
           {
            "type": "scatter3d",
            "line": {
             "colorbar": {
              "outlinewidth": 0,
              "ticks": ""
             }
            },
            "marker": {
             "colorbar": {
              "outlinewidth": 0,
              "ticks": ""
             }
            }
           }
          ],
          "scattermapbox": [
           {
            "type": "scattermapbox",
            "marker": {
             "colorbar": {
              "outlinewidth": 0,
              "ticks": ""
             }
            }
           }
          ],
          "scatterternary": [
           {
            "type": "scatterternary",
            "marker": {
             "colorbar": {
              "outlinewidth": 0,
              "ticks": ""
             }
            }
           }
          ],
          "scattercarpet": [
           {
            "type": "scattercarpet",
            "marker": {
             "colorbar": {
              "outlinewidth": 0,
              "ticks": ""
             }
            }
           }
          ],
          "carpet": [
           {
            "aaxis": {
             "endlinecolor": "#A2B1C6",
             "gridcolor": "#506784",
             "linecolor": "#506784",
             "minorgridcolor": "#506784",
             "startlinecolor": "#A2B1C6"
            },
            "baxis": {
             "endlinecolor": "#A2B1C6",
             "gridcolor": "#506784",
             "linecolor": "#506784",
             "minorgridcolor": "#506784",
             "startlinecolor": "#A2B1C6"
            },
            "type": "carpet"
           }
          ],
          "table": [
           {
            "cells": {
             "fill": {
              "color": "#506784"
             },
             "line": {
              "color": "rgb(17,17,17)"
             }
            },
            "header": {
             "fill": {
              "color": "#2a3f5f"
             },
             "line": {
              "color": "rgb(17,17,17)"
             }
            },
            "type": "table"
           }
          ],
          "barpolar": [
           {
            "marker": {
             "line": {
              "color": "rgb(17,17,17)",
              "width": 0.5
             },
             "pattern": {
              "fillmode": "overlay",
              "size": 10,
              "solidity": 0.2
             }
            },
            "type": "barpolar"
           }
          ],
          "pie": [
           {
            "automargin": true,
            "type": "pie"
           }
          ]
         },
         "layout": {
          "autotypenumbers": "strict",
          "colorway": [
           "#636efa",
           "#EF553B",
           "#00cc96",
           "#ab63fa",
           "#FFA15A",
           "#19d3f3",
           "#FF6692",
           "#B6E880",
           "#FF97FF",
           "#FECB52"
          ],
          "font": {
           "color": "#f2f5fa"
          },
          "hovermode": "closest",
          "hoverlabel": {
           "align": "left"
          },
          "paper_bgcolor": "rgb(17,17,17)",
          "plot_bgcolor": "rgb(17,17,17)",
          "polar": {
           "bgcolor": "rgb(17,17,17)",
           "angularaxis": {
            "gridcolor": "#506784",
            "linecolor": "#506784",
            "ticks": ""
           },
           "radialaxis": {
            "gridcolor": "#506784",
            "linecolor": "#506784",
            "ticks": ""
           }
          },
          "ternary": {
           "bgcolor": "rgb(17,17,17)",
           "aaxis": {
            "gridcolor": "#506784",
            "linecolor": "#506784",
            "ticks": ""
           },
           "baxis": {
            "gridcolor": "#506784",
            "linecolor": "#506784",
            "ticks": ""
           },
           "caxis": {
            "gridcolor": "#506784",
            "linecolor": "#506784",
            "ticks": ""
           }
          },
          "coloraxis": {
           "colorbar": {
            "outlinewidth": 0,
            "ticks": ""
           }
          },
          "colorscale": {
           "sequential": [
            [
             0.0,
             "#0d0887"
            ],
            [
             0.1111111111111111,
             "#46039f"
            ],
            [
             0.2222222222222222,
             "#7201a8"
            ],
            [
             0.3333333333333333,
             "#9c179e"
            ],
            [
             0.4444444444444444,
             "#bd3786"
            ],
            [
             0.5555555555555556,
             "#d8576b"
            ],
            [
             0.6666666666666666,
             "#ed7953"
            ],
            [
             0.7777777777777778,
             "#fb9f3a"
            ],
            [
             0.8888888888888888,
             "#fdca26"
            ],
            [
             1.0,
             "#f0f921"
            ]
           ],
           "sequentialminus": [
            [
             0.0,
             "#0d0887"
            ],
            [
             0.1111111111111111,
             "#46039f"
            ],
            [
             0.2222222222222222,
             "#7201a8"
            ],
            [
             0.3333333333333333,
             "#9c179e"
            ],
            [
             0.4444444444444444,
             "#bd3786"
            ],
            [
             0.5555555555555556,
             "#d8576b"
            ],
            [
             0.6666666666666666,
             "#ed7953"
            ],
            [
             0.7777777777777778,
             "#fb9f3a"
            ],
            [
             0.8888888888888888,
             "#fdca26"
            ],
            [
             1.0,
             "#f0f921"
            ]
           ],
           "diverging": [
            [
             0,
             "#8e0152"
            ],
            [
             0.1,
             "#c51b7d"
            ],
            [
             0.2,
             "#de77ae"
            ],
            [
             0.3,
             "#f1b6da"
            ],
            [
             0.4,
             "#fde0ef"
            ],
            [
             0.5,
             "#f7f7f7"
            ],
            [
             0.6,
             "#e6f5d0"
            ],
            [
             0.7,
             "#b8e186"
            ],
            [
             0.8,
             "#7fbc41"
            ],
            [
             0.9,
             "#4d9221"
            ],
            [
             1,
             "#276419"
            ]
           ]
          },
          "xaxis": {
           "gridcolor": "#283442",
           "linecolor": "#506784",
           "ticks": "",
           "title": {
            "standoff": 15
           },
           "zerolinecolor": "#283442",
           "automargin": true,
           "zerolinewidth": 2
          },
          "yaxis": {
           "gridcolor": "#283442",
           "linecolor": "#506784",
           "ticks": "",
           "title": {
            "standoff": 15
           },
           "zerolinecolor": "#283442",
           "automargin": true,
           "zerolinewidth": 2
          },
          "scene": {
           "xaxis": {
            "backgroundcolor": "rgb(17,17,17)",
            "gridcolor": "#506784",
            "linecolor": "#506784",
            "showbackground": true,
            "ticks": "",
            "zerolinecolor": "#C8D4E3",
            "gridwidth": 2
           },
           "yaxis": {
            "backgroundcolor": "rgb(17,17,17)",
            "gridcolor": "#506784",
            "linecolor": "#506784",
            "showbackground": true,
            "ticks": "",
            "zerolinecolor": "#C8D4E3",
            "gridwidth": 2
           },
           "zaxis": {
            "backgroundcolor": "rgb(17,17,17)",
            "gridcolor": "#506784",
            "linecolor": "#506784",
            "showbackground": true,
            "ticks": "",
            "zerolinecolor": "#C8D4E3",
            "gridwidth": 2
           }
          },
          "shapedefaults": {
           "line": {
            "color": "#f2f5fa"
           }
          },
          "annotationdefaults": {
           "arrowcolor": "#f2f5fa",
           "arrowhead": 0,
           "arrowwidth": 1
          },
          "geo": {
           "bgcolor": "rgb(17,17,17)",
           "landcolor": "rgb(17,17,17)",
           "subunitcolor": "#506784",
           "showland": true,
           "showlakes": true,
           "lakecolor": "rgb(17,17,17)"
          },
          "title": {
           "x": 0.05
          },
          "updatemenudefaults": {
           "bgcolor": "#506784",
           "borderwidth": 0
          },
          "sliderdefaults": {
           "bgcolor": "#C8D4E3",
           "borderwidth": 1,
           "bordercolor": "rgb(17,17,17)",
           "tickwidth": 0
          },
          "mapbox": {
           "style": "dark"
          }
         }
        },
        "xaxis": {
         "anchor": "y",
         "domain": [
          0.0,
          1.0
         ],
         "title": {
          "text": "x"
         }
        },
        "yaxis": {
         "anchor": "x",
         "domain": [
          0.0,
          1.0
         ],
         "title": {
          "text": "y"
         }
        },
        "legend": {
         "tracegroupgap": 0
        },
        "margin": {
         "t": 60
        },
        "shapes": [
         {
          "type": "line",
          "x0": 4,
          "x1": 4,
          "xref": "x",
          "y0": 0,
          "y1": 1,
          "yref": "y domain"
         }
        ],
        "height": 450,
        "width": 900,
        "title": {
         "text": "Silhouette Score"
        }
       },
       "config": {
        "plotlyServerURL": "https://plot.ly"
       }
      },
      "text/html": "<div>                            <div id=\"d956bb84-0332-4ed0-bcb8-ac596c085f6c\" class=\"plotly-graph-div\" style=\"height:450px; width:900px;\"></div>            <script type=\"text/javascript\">                require([\"plotly\"], function(Plotly) {                    window.PLOTLYENV=window.PLOTLYENV || {};                                    if (document.getElementById(\"d956bb84-0332-4ed0-bcb8-ac596c085f6c\")) {                    Plotly.newPlot(                        \"d956bb84-0332-4ed0-bcb8-ac596c085f6c\",                        [{\"hovertemplate\":\"x=%{x}<br>y=%{y}<extra></extra>\",\"legendgroup\":\"\",\"line\":{\"color\":\"#636efa\",\"dash\":\"solid\"},\"marker\":{\"symbol\":\"circle\"},\"mode\":\"lines\",\"name\":\"\",\"orientation\":\"v\",\"showlegend\":false,\"x\":[2,3,4,5,6],\"xaxis\":\"x\",\"y\":[0.4237825572490692,0.4731423854827881,0.48710501194000244,0.48026666045188904,0.4831483066082001],\"yaxis\":\"y\",\"type\":\"scatter\"}],                        {\"template\":{\"data\":{\"histogram2dcontour\":[{\"type\":\"histogram2dcontour\",\"colorbar\":{\"outlinewidth\":0,\"ticks\":\"\"},\"colorscale\":[[0.0,\"#0d0887\"],[0.1111111111111111,\"#46039f\"],[0.2222222222222222,\"#7201a8\"],[0.3333333333333333,\"#9c179e\"],[0.4444444444444444,\"#bd3786\"],[0.5555555555555556,\"#d8576b\"],[0.6666666666666666,\"#ed7953\"],[0.7777777777777778,\"#fb9f3a\"],[0.8888888888888888,\"#fdca26\"],[1.0,\"#f0f921\"]]}],\"choropleth\":[{\"type\":\"choropleth\",\"colorbar\":{\"outlinewidth\":0,\"ticks\":\"\"}}],\"histogram2d\":[{\"type\":\"histogram2d\",\"colorbar\":{\"outlinewidth\":0,\"ticks\":\"\"},\"colorscale\":[[0.0,\"#0d0887\"],[0.1111111111111111,\"#46039f\"],[0.2222222222222222,\"#7201a8\"],[0.3333333333333333,\"#9c179e\"],[0.4444444444444444,\"#bd3786\"],[0.5555555555555556,\"#d8576b\"],[0.6666666666666666,\"#ed7953\"],[0.7777777777777778,\"#fb9f3a\"],[0.8888888888888888,\"#fdca26\"],[1.0,\"#f0f921\"]]}],\"heatmap\":[{\"type\":\"heatmap\",\"colorbar\":{\"outlinewidth\":0,\"ticks\":\"\"},\"colorscale\":[[0.0,\"#0d0887\"],[0.1111111111111111,\"#46039f\"],[0.2222222222222222,\"#7201a8\"],[0.3333333333333333,\"#9c179e\"],[0.4444444444444444,\"#bd3786\"],[0.5555555555555556,\"#d8576b\"],[0.6666666666666666,\"#ed7953\"],[0.7777777777777778,\"#fb9f3a\"],[0.8888888888888888,\"#fdca26\"],[1.0,\"#f0f921\"]]}],\"heatmapgl\":[{\"type\":\"heatmapgl\",\"colorbar\":{\"outlinewidth\":0,\"ticks\":\"\"},\"colorscale\":[[0.0,\"#0d0887\"],[0.1111111111111111,\"#46039f\"],[0.2222222222222222,\"#7201a8\"],[0.3333333333333333,\"#9c179e\"],[0.4444444444444444,\"#bd3786\"],[0.5555555555555556,\"#d8576b\"],[0.6666666666666666,\"#ed7953\"],[0.7777777777777778,\"#fb9f3a\"],[0.8888888888888888,\"#fdca26\"],[1.0,\"#f0f921\"]]}],\"contourcarpet\":[{\"type\":\"contourcarpet\",\"colorbar\":{\"outlinewidth\":0,\"ticks\":\"\"}}],\"contour\":[{\"type\":\"contour\",\"colorbar\":{\"outlinewidth\":0,\"ticks\":\"\"},\"colorscale\":[[0.0,\"#0d0887\"],[0.1111111111111111,\"#46039f\"],[0.2222222222222222,\"#7201a8\"],[0.3333333333333333,\"#9c179e\"],[0.4444444444444444,\"#bd3786\"],[0.5555555555555556,\"#d8576b\"],[0.6666666666666666,\"#ed7953\"],[0.7777777777777778,\"#fb9f3a\"],[0.8888888888888888,\"#fdca26\"],[1.0,\"#f0f921\"]]}],\"surface\":[{\"type\":\"surface\",\"colorbar\":{\"outlinewidth\":0,\"ticks\":\"\"},\"colorscale\":[[0.0,\"#0d0887\"],[0.1111111111111111,\"#46039f\"],[0.2222222222222222,\"#7201a8\"],[0.3333333333333333,\"#9c179e\"],[0.4444444444444444,\"#bd3786\"],[0.5555555555555556,\"#d8576b\"],[0.6666666666666666,\"#ed7953\"],[0.7777777777777778,\"#fb9f3a\"],[0.8888888888888888,\"#fdca26\"],[1.0,\"#f0f921\"]]}],\"mesh3d\":[{\"type\":\"mesh3d\",\"colorbar\":{\"outlinewidth\":0,\"ticks\":\"\"}}],\"scatter\":[{\"marker\":{\"line\":{\"color\":\"#283442\"}},\"type\":\"scatter\"}],\"parcoords\":[{\"type\":\"parcoords\",\"line\":{\"colorbar\":{\"outlinewidth\":0,\"ticks\":\"\"}}}],\"scatterpolargl\":[{\"type\":\"scatterpolargl\",\"marker\":{\"colorbar\":{\"outlinewidth\":0,\"ticks\":\"\"}}}],\"bar\":[{\"error_x\":{\"color\":\"#f2f5fa\"},\"error_y\":{\"color\":\"#f2f5fa\"},\"marker\":{\"line\":{\"color\":\"rgb(17,17,17)\",\"width\":0.5},\"pattern\":{\"fillmode\":\"overlay\",\"size\":10,\"solidity\":0.2}},\"type\":\"bar\"}],\"scattergeo\":[{\"type\":\"scattergeo\",\"marker\":{\"colorbar\":{\"outlinewidth\":0,\"ticks\":\"\"}}}],\"scatterpolar\":[{\"type\":\"scatterpolar\",\"marker\":{\"colorbar\":{\"outlinewidth\":0,\"ticks\":\"\"}}}],\"histogram\":[{\"marker\":{\"pattern\":{\"fillmode\":\"overlay\",\"size\":10,\"solidity\":0.2}},\"type\":\"histogram\"}],\"scattergl\":[{\"marker\":{\"line\":{\"color\":\"#283442\"}},\"type\":\"scattergl\"}],\"scatter3d\":[{\"type\":\"scatter3d\",\"line\":{\"colorbar\":{\"outlinewidth\":0,\"ticks\":\"\"}},\"marker\":{\"colorbar\":{\"outlinewidth\":0,\"ticks\":\"\"}}}],\"scattermapbox\":[{\"type\":\"scattermapbox\",\"marker\":{\"colorbar\":{\"outlinewidth\":0,\"ticks\":\"\"}}}],\"scatterternary\":[{\"type\":\"scatterternary\",\"marker\":{\"colorbar\":{\"outlinewidth\":0,\"ticks\":\"\"}}}],\"scattercarpet\":[{\"type\":\"scattercarpet\",\"marker\":{\"colorbar\":{\"outlinewidth\":0,\"ticks\":\"\"}}}],\"carpet\":[{\"aaxis\":{\"endlinecolor\":\"#A2B1C6\",\"gridcolor\":\"#506784\",\"linecolor\":\"#506784\",\"minorgridcolor\":\"#506784\",\"startlinecolor\":\"#A2B1C6\"},\"baxis\":{\"endlinecolor\":\"#A2B1C6\",\"gridcolor\":\"#506784\",\"linecolor\":\"#506784\",\"minorgridcolor\":\"#506784\",\"startlinecolor\":\"#A2B1C6\"},\"type\":\"carpet\"}],\"table\":[{\"cells\":{\"fill\":{\"color\":\"#506784\"},\"line\":{\"color\":\"rgb(17,17,17)\"}},\"header\":{\"fill\":{\"color\":\"#2a3f5f\"},\"line\":{\"color\":\"rgb(17,17,17)\"}},\"type\":\"table\"}],\"barpolar\":[{\"marker\":{\"line\":{\"color\":\"rgb(17,17,17)\",\"width\":0.5},\"pattern\":{\"fillmode\":\"overlay\",\"size\":10,\"solidity\":0.2}},\"type\":\"barpolar\"}],\"pie\":[{\"automargin\":true,\"type\":\"pie\"}]},\"layout\":{\"autotypenumbers\":\"strict\",\"colorway\":[\"#636efa\",\"#EF553B\",\"#00cc96\",\"#ab63fa\",\"#FFA15A\",\"#19d3f3\",\"#FF6692\",\"#B6E880\",\"#FF97FF\",\"#FECB52\"],\"font\":{\"color\":\"#f2f5fa\"},\"hovermode\":\"closest\",\"hoverlabel\":{\"align\":\"left\"},\"paper_bgcolor\":\"rgb(17,17,17)\",\"plot_bgcolor\":\"rgb(17,17,17)\",\"polar\":{\"bgcolor\":\"rgb(17,17,17)\",\"angularaxis\":{\"gridcolor\":\"#506784\",\"linecolor\":\"#506784\",\"ticks\":\"\"},\"radialaxis\":{\"gridcolor\":\"#506784\",\"linecolor\":\"#506784\",\"ticks\":\"\"}},\"ternary\":{\"bgcolor\":\"rgb(17,17,17)\",\"aaxis\":{\"gridcolor\":\"#506784\",\"linecolor\":\"#506784\",\"ticks\":\"\"},\"baxis\":{\"gridcolor\":\"#506784\",\"linecolor\":\"#506784\",\"ticks\":\"\"},\"caxis\":{\"gridcolor\":\"#506784\",\"linecolor\":\"#506784\",\"ticks\":\"\"}},\"coloraxis\":{\"colorbar\":{\"outlinewidth\":0,\"ticks\":\"\"}},\"colorscale\":{\"sequential\":[[0.0,\"#0d0887\"],[0.1111111111111111,\"#46039f\"],[0.2222222222222222,\"#7201a8\"],[0.3333333333333333,\"#9c179e\"],[0.4444444444444444,\"#bd3786\"],[0.5555555555555556,\"#d8576b\"],[0.6666666666666666,\"#ed7953\"],[0.7777777777777778,\"#fb9f3a\"],[0.8888888888888888,\"#fdca26\"],[1.0,\"#f0f921\"]],\"sequentialminus\":[[0.0,\"#0d0887\"],[0.1111111111111111,\"#46039f\"],[0.2222222222222222,\"#7201a8\"],[0.3333333333333333,\"#9c179e\"],[0.4444444444444444,\"#bd3786\"],[0.5555555555555556,\"#d8576b\"],[0.6666666666666666,\"#ed7953\"],[0.7777777777777778,\"#fb9f3a\"],[0.8888888888888888,\"#fdca26\"],[1.0,\"#f0f921\"]],\"diverging\":[[0,\"#8e0152\"],[0.1,\"#c51b7d\"],[0.2,\"#de77ae\"],[0.3,\"#f1b6da\"],[0.4,\"#fde0ef\"],[0.5,\"#f7f7f7\"],[0.6,\"#e6f5d0\"],[0.7,\"#b8e186\"],[0.8,\"#7fbc41\"],[0.9,\"#4d9221\"],[1,\"#276419\"]]},\"xaxis\":{\"gridcolor\":\"#283442\",\"linecolor\":\"#506784\",\"ticks\":\"\",\"title\":{\"standoff\":15},\"zerolinecolor\":\"#283442\",\"automargin\":true,\"zerolinewidth\":2},\"yaxis\":{\"gridcolor\":\"#283442\",\"linecolor\":\"#506784\",\"ticks\":\"\",\"title\":{\"standoff\":15},\"zerolinecolor\":\"#283442\",\"automargin\":true,\"zerolinewidth\":2},\"scene\":{\"xaxis\":{\"backgroundcolor\":\"rgb(17,17,17)\",\"gridcolor\":\"#506784\",\"linecolor\":\"#506784\",\"showbackground\":true,\"ticks\":\"\",\"zerolinecolor\":\"#C8D4E3\",\"gridwidth\":2},\"yaxis\":{\"backgroundcolor\":\"rgb(17,17,17)\",\"gridcolor\":\"#506784\",\"linecolor\":\"#506784\",\"showbackground\":true,\"ticks\":\"\",\"zerolinecolor\":\"#C8D4E3\",\"gridwidth\":2},\"zaxis\":{\"backgroundcolor\":\"rgb(17,17,17)\",\"gridcolor\":\"#506784\",\"linecolor\":\"#506784\",\"showbackground\":true,\"ticks\":\"\",\"zerolinecolor\":\"#C8D4E3\",\"gridwidth\":2}},\"shapedefaults\":{\"line\":{\"color\":\"#f2f5fa\"}},\"annotationdefaults\":{\"arrowcolor\":\"#f2f5fa\",\"arrowhead\":0,\"arrowwidth\":1},\"geo\":{\"bgcolor\":\"rgb(17,17,17)\",\"landcolor\":\"rgb(17,17,17)\",\"subunitcolor\":\"#506784\",\"showland\":true,\"showlakes\":true,\"lakecolor\":\"rgb(17,17,17)\"},\"title\":{\"x\":0.05},\"updatemenudefaults\":{\"bgcolor\":\"#506784\",\"borderwidth\":0},\"sliderdefaults\":{\"bgcolor\":\"#C8D4E3\",\"borderwidth\":1,\"bordercolor\":\"rgb(17,17,17)\",\"tickwidth\":0},\"mapbox\":{\"style\":\"dark\"}}},\"xaxis\":{\"anchor\":\"y\",\"domain\":[0.0,1.0],\"title\":{\"text\":\"x\"}},\"yaxis\":{\"anchor\":\"x\",\"domain\":[0.0,1.0],\"title\":{\"text\":\"y\"}},\"legend\":{\"tracegroupgap\":0},\"margin\":{\"t\":60},\"shapes\":[{\"type\":\"line\",\"x0\":4,\"x1\":4,\"xref\":\"x\",\"y0\":0,\"y1\":1,\"yref\":\"y domain\"}],\"height\":450,\"width\":900,\"title\":{\"text\":\"Silhouette Score\"}},                        {\"responsive\": true}                    ).then(function(){\n                            \nvar gd = document.getElementById('d956bb84-0332-4ed0-bcb8-ac596c085f6c');\nvar x = new MutationObserver(function (mutations, observer) {{\n        var display = window.getComputedStyle(gd).display;\n        if (!display || display === 'none') {{\n            console.log([gd, 'removed!']);\n            Plotly.purge(gd);\n            observer.disconnect();\n        }}\n}});\n\n// Listen for the removal of the full notebook cells\nvar notebookContainer = gd.closest('#notebook-container');\nif (notebookContainer) {{\n    x.observe(notebookContainer, {childList: true});\n}}\n\n// Listen for the clearing of the current output cell\nvar outputEl = gd.closest('.output');\nif (outputEl) {{\n    x.observe(outputEl, {childList: true});\n}}\n\n                        })                };                });            </script>        </div>"
     },
     "metadata": {},
     "output_type": "display_data"
    },
    {
     "data": {
      "application/vnd.plotly.v1+json": {
       "data": [
        {
         "hovertemplate": "color=cluster_1<br>x=%{x}<br>y=%{y}<br>text=%{text}<extra></extra>",
         "legendgroup": "cluster_1",
         "marker": {
          "color": "#2E91E5",
          "symbol": "circle"
         },
         "mode": "markers+text",
         "name": "cluster_1",
         "orientation": "v",
         "showlegend": true,
         "text": [
          "Angular",
          "Vue.js",
          "Angular.js",
          "Svelte",
          "Webstorm",
          "Nuxt.js",
          "ASP.NET",
          "Heroku",
          "Deno",
          "Blazor",
          "Electron",
          "MongoDB",
          "Gatsby",
          "Fastify",
          "React Native",
          "Ionic",
          "RubyMine",
          "Capacitor",
          "Spring",
          "Cordova",
          "DigitalOcean",
          "Firebase Realtime Database",
          "Rider",
          "Flow",
          "F#",
          "IntelliJ",
          "Firebase",
          "Java",
          "Cloud Firestore",
          "Flutter"
         ],
         "x": [
          6.065393924713135,
          0.7913852334022522,
          5.099396228790283,
          -1.09799325466156,
          -5.266351222991943,
          0.23381276428699493,
          -0.08817438036203384,
          -8.358838081359863,
          -2.6490752696990967,
          -0.7494573593139648,
          0.9062857031822205,
          4.962726593017578,
          6.583852291107178,
          -2.525479793548584,
          -2.9494431018829346,
          1.8717466592788696,
          -7.359446048736572,
          1.0658519268035889,
          -15.552749633789062,
          0.16098694503307343,
          -3.8363263607025146,
          -8.176072120666504,
          -4.396772384643555,
          -3.454479455947876,
          -3.3189070224761963,
          -18.37160873413086,
          -10.078485488891602,
          -17.291351318359375,
          -8.786961555480957,
          -5.301691055297852
         ],
         "xaxis": "x",
         "y": [
          4.689334392547607,
          -6.522077560424805,
          3.362515449523926,
          -2.096526861190796,
          -0.9476484060287476,
          -5.0478034019470215,
          13.19618034362793,
          -0.5669933557510376,
          -1.1256260871887207,
          11.699239730834961,
          0.29980242252349854,
          -3.6092162132263184,
          -3.5042784214019775,
          0.6466544270515442,
          2.929466962814331,
          5.811532497406006,
          -3.7610561847686768,
          5.069477081298828,
          2.1703474521636963,
          3.599092721939087,
          -3.575356960296631,
          5.310125350952148,
          8.246770858764648,
          0.13058431446552277,
          6.729692459106445,
          2.6136322021484375,
          5.492204666137695,
          2.7071189880371094,
          3.3401567935943604,
          1.6738125085830688
         ],
         "yaxis": "y",
         "type": "scatter",
         "textposition": "top center"
        },
        {
         "hovertemplate": "color=cluster_3<br>x=%{x}<br>y=%{y}<br>text=%{text}<extra></extra>",
         "legendgroup": "cluster_3",
         "marker": {
          "color": "#E15F99",
          "symbol": "circle"
         },
         "mode": "markers+text",
         "name": "cluster_3",
         "orientation": "v",
         "showlegend": true,
         "text": [
          "React.js",
          "Express",
          "TypeScript",
          "HTML/CSS",
          "npm",
          "JavaScript",
          "Yarn",
          "Node.js",
          "Next.js",
          "SQL",
          "Visual Studio Code"
         ],
         "x": [
          13.050464630126953,
          11.485889434814453,
          17.83694076538086,
          23.79667091369629,
          16.89151382446289,
          22.982967376708984,
          9.96707534790039,
          13.578097343444824,
          9.413875579833984,
          24.70789337158203,
          21.542192459106445
         ],
         "xaxis": "x",
         "y": [
          -5.794991493225098,
          -2.992659568786621,
          -2.503614902496338,
          0.0617208331823349,
          -2.6073930263519287,
          -0.26651015877723694,
          -5.879948139190674,
          -3.5279221534729004,
          -4.2139997482299805,
          1.460571050643921,
          -1.223016381263733
         ],
         "yaxis": "y",
         "type": "scatter",
         "textposition": "top center"
        },
        {
         "hovertemplate": "color=cluster_0<br>x=%{x}<br>y=%{y}<br>text=%{text}<extra></extra>",
         "legendgroup": "cluster_0",
         "marker": {
          "color": "#1CA71C",
          "symbol": "circle"
         },
         "mode": "markers+text",
         "name": "cluster_0",
         "orientation": "v",
         "showlegend": true,
         "text": [
          "jQuery",
          "Laravel",
          "PhpStorm",
          "Ruby on Rails",
          "Symfony",
          "PHP",
          "MySQL",
          "Phoenix",
          "Elixir",
          "Ruby",
          "Redis",
          "PostgreSQL"
         ],
         "x": [
          -2.390305757522583,
          -2.2927467823028564,
          -4.683773994445801,
          -21.507944107055664,
          -4.998444080352783,
          -3.987279176712036,
          -5.386133670806885,
          -16.3725528717041,
          -17.003183364868164,
          -20.937416076660156,
          -22.893442153930664,
          -24.06017303466797
         ],
         "xaxis": "x",
         "y": [
          -14.420937538146973,
          -10.647420883178711,
          -10.730167388916016,
          -16.924041748046875,
          -8.910240173339844,
          -13.327190399169922,
          -14.359932899475098,
          -8.452332496643066,
          -8.787261962890625,
          -16.398134231567383,
          -18.202350616455078,
          -19.269145965576172
         ],
         "yaxis": "y",
         "type": "scatter",
         "textposition": "top center"
        },
        {
         "hovertemplate": "color=cluster_2<br>x=%{x}<br>y=%{y}<br>text=%{text}<extra></extra>",
         "legendgroup": "cluster_2",
         "marker": {
          "color": "#FB0D0D",
          "symbol": "circle"
         },
         "mode": "markers+text",
         "name": "cluster_2",
         "orientation": "v",
         "showlegend": true,
         "text": [
          "ASP.NET Core ",
          "C#",
          ".NET",
          "Microsoft SQL Server",
          "Visual Studio",
          "Microsoft Azure"
         ],
         "x": [
          9.678933143615723,
          12.017549514770508,
          10.969162940979004,
          13.420708656311035,
          12.534029960632324,
          8.235930442810059
         ],
         "xaxis": "x",
         "y": [
          24.7156925201416,
          25.626365661621094,
          25.771678924560547,
          24.363487243652344,
          26.810012817382812,
          23.80510139465332
         ],
         "yaxis": "y",
         "type": "scatter",
         "textposition": "top center"
        }
       ],
       "layout": {
        "template": {
         "data": {
          "histogram2dcontour": [
           {
            "type": "histogram2dcontour",
            "colorbar": {
             "outlinewidth": 0,
             "ticks": ""
            },
            "colorscale": [
             [
              0.0,
              "#0d0887"
             ],
             [
              0.1111111111111111,
              "#46039f"
             ],
             [
              0.2222222222222222,
              "#7201a8"
             ],
             [
              0.3333333333333333,
              "#9c179e"
             ],
             [
              0.4444444444444444,
              "#bd3786"
             ],
             [
              0.5555555555555556,
              "#d8576b"
             ],
             [
              0.6666666666666666,
              "#ed7953"
             ],
             [
              0.7777777777777778,
              "#fb9f3a"
             ],
             [
              0.8888888888888888,
              "#fdca26"
             ],
             [
              1.0,
              "#f0f921"
             ]
            ]
           }
          ],
          "choropleth": [
           {
            "type": "choropleth",
            "colorbar": {
             "outlinewidth": 0,
             "ticks": ""
            }
           }
          ],
          "histogram2d": [
           {
            "type": "histogram2d",
            "colorbar": {
             "outlinewidth": 0,
             "ticks": ""
            },
            "colorscale": [
             [
              0.0,
              "#0d0887"
             ],
             [
              0.1111111111111111,
              "#46039f"
             ],
             [
              0.2222222222222222,
              "#7201a8"
             ],
             [
              0.3333333333333333,
              "#9c179e"
             ],
             [
              0.4444444444444444,
              "#bd3786"
             ],
             [
              0.5555555555555556,
              "#d8576b"
             ],
             [
              0.6666666666666666,
              "#ed7953"
             ],
             [
              0.7777777777777778,
              "#fb9f3a"
             ],
             [
              0.8888888888888888,
              "#fdca26"
             ],
             [
              1.0,
              "#f0f921"
             ]
            ]
           }
          ],
          "heatmap": [
           {
            "type": "heatmap",
            "colorbar": {
             "outlinewidth": 0,
             "ticks": ""
            },
            "colorscale": [
             [
              0.0,
              "#0d0887"
             ],
             [
              0.1111111111111111,
              "#46039f"
             ],
             [
              0.2222222222222222,
              "#7201a8"
             ],
             [
              0.3333333333333333,
              "#9c179e"
             ],
             [
              0.4444444444444444,
              "#bd3786"
             ],
             [
              0.5555555555555556,
              "#d8576b"
             ],
             [
              0.6666666666666666,
              "#ed7953"
             ],
             [
              0.7777777777777778,
              "#fb9f3a"
             ],
             [
              0.8888888888888888,
              "#fdca26"
             ],
             [
              1.0,
              "#f0f921"
             ]
            ]
           }
          ],
          "heatmapgl": [
           {
            "type": "heatmapgl",
            "colorbar": {
             "outlinewidth": 0,
             "ticks": ""
            },
            "colorscale": [
             [
              0.0,
              "#0d0887"
             ],
             [
              0.1111111111111111,
              "#46039f"
             ],
             [
              0.2222222222222222,
              "#7201a8"
             ],
             [
              0.3333333333333333,
              "#9c179e"
             ],
             [
              0.4444444444444444,
              "#bd3786"
             ],
             [
              0.5555555555555556,
              "#d8576b"
             ],
             [
              0.6666666666666666,
              "#ed7953"
             ],
             [
              0.7777777777777778,
              "#fb9f3a"
             ],
             [
              0.8888888888888888,
              "#fdca26"
             ],
             [
              1.0,
              "#f0f921"
             ]
            ]
           }
          ],
          "contourcarpet": [
           {
            "type": "contourcarpet",
            "colorbar": {
             "outlinewidth": 0,
             "ticks": ""
            }
           }
          ],
          "contour": [
           {
            "type": "contour",
            "colorbar": {
             "outlinewidth": 0,
             "ticks": ""
            },
            "colorscale": [
             [
              0.0,
              "#0d0887"
             ],
             [
              0.1111111111111111,
              "#46039f"
             ],
             [
              0.2222222222222222,
              "#7201a8"
             ],
             [
              0.3333333333333333,
              "#9c179e"
             ],
             [
              0.4444444444444444,
              "#bd3786"
             ],
             [
              0.5555555555555556,
              "#d8576b"
             ],
             [
              0.6666666666666666,
              "#ed7953"
             ],
             [
              0.7777777777777778,
              "#fb9f3a"
             ],
             [
              0.8888888888888888,
              "#fdca26"
             ],
             [
              1.0,
              "#f0f921"
             ]
            ]
           }
          ],
          "surface": [
           {
            "type": "surface",
            "colorbar": {
             "outlinewidth": 0,
             "ticks": ""
            },
            "colorscale": [
             [
              0.0,
              "#0d0887"
             ],
             [
              0.1111111111111111,
              "#46039f"
             ],
             [
              0.2222222222222222,
              "#7201a8"
             ],
             [
              0.3333333333333333,
              "#9c179e"
             ],
             [
              0.4444444444444444,
              "#bd3786"
             ],
             [
              0.5555555555555556,
              "#d8576b"
             ],
             [
              0.6666666666666666,
              "#ed7953"
             ],
             [
              0.7777777777777778,
              "#fb9f3a"
             ],
             [
              0.8888888888888888,
              "#fdca26"
             ],
             [
              1.0,
              "#f0f921"
             ]
            ]
           }
          ],
          "mesh3d": [
           {
            "type": "mesh3d",
            "colorbar": {
             "outlinewidth": 0,
             "ticks": ""
            }
           }
          ],
          "scatter": [
           {
            "marker": {
             "line": {
              "color": "#283442"
             }
            },
            "type": "scatter"
           }
          ],
          "parcoords": [
           {
            "type": "parcoords",
            "line": {
             "colorbar": {
              "outlinewidth": 0,
              "ticks": ""
             }
            }
           }
          ],
          "scatterpolargl": [
           {
            "type": "scatterpolargl",
            "marker": {
             "colorbar": {
              "outlinewidth": 0,
              "ticks": ""
             }
            }
           }
          ],
          "bar": [
           {
            "error_x": {
             "color": "#f2f5fa"
            },
            "error_y": {
             "color": "#f2f5fa"
            },
            "marker": {
             "line": {
              "color": "rgb(17,17,17)",
              "width": 0.5
             },
             "pattern": {
              "fillmode": "overlay",
              "size": 10,
              "solidity": 0.2
             }
            },
            "type": "bar"
           }
          ],
          "scattergeo": [
           {
            "type": "scattergeo",
            "marker": {
             "colorbar": {
              "outlinewidth": 0,
              "ticks": ""
             }
            }
           }
          ],
          "scatterpolar": [
           {
            "type": "scatterpolar",
            "marker": {
             "colorbar": {
              "outlinewidth": 0,
              "ticks": ""
             }
            }
           }
          ],
          "histogram": [
           {
            "marker": {
             "pattern": {
              "fillmode": "overlay",
              "size": 10,
              "solidity": 0.2
             }
            },
            "type": "histogram"
           }
          ],
          "scattergl": [
           {
            "marker": {
             "line": {
              "color": "#283442"
             }
            },
            "type": "scattergl"
           }
          ],
          "scatter3d": [
           {
            "type": "scatter3d",
            "line": {
             "colorbar": {
              "outlinewidth": 0,
              "ticks": ""
             }
            },
            "marker": {
             "colorbar": {
              "outlinewidth": 0,
              "ticks": ""
             }
            }
           }
          ],
          "scattermapbox": [
           {
            "type": "scattermapbox",
            "marker": {
             "colorbar": {
              "outlinewidth": 0,
              "ticks": ""
             }
            }
           }
          ],
          "scatterternary": [
           {
            "type": "scatterternary",
            "marker": {
             "colorbar": {
              "outlinewidth": 0,
              "ticks": ""
             }
            }
           }
          ],
          "scattercarpet": [
           {
            "type": "scattercarpet",
            "marker": {
             "colorbar": {
              "outlinewidth": 0,
              "ticks": ""
             }
            }
           }
          ],
          "carpet": [
           {
            "aaxis": {
             "endlinecolor": "#A2B1C6",
             "gridcolor": "#506784",
             "linecolor": "#506784",
             "minorgridcolor": "#506784",
             "startlinecolor": "#A2B1C6"
            },
            "baxis": {
             "endlinecolor": "#A2B1C6",
             "gridcolor": "#506784",
             "linecolor": "#506784",
             "minorgridcolor": "#506784",
             "startlinecolor": "#A2B1C6"
            },
            "type": "carpet"
           }
          ],
          "table": [
           {
            "cells": {
             "fill": {
              "color": "#506784"
             },
             "line": {
              "color": "rgb(17,17,17)"
             }
            },
            "header": {
             "fill": {
              "color": "#2a3f5f"
             },
             "line": {
              "color": "rgb(17,17,17)"
             }
            },
            "type": "table"
           }
          ],
          "barpolar": [
           {
            "marker": {
             "line": {
              "color": "rgb(17,17,17)",
              "width": 0.5
             },
             "pattern": {
              "fillmode": "overlay",
              "size": 10,
              "solidity": 0.2
             }
            },
            "type": "barpolar"
           }
          ],
          "pie": [
           {
            "automargin": true,
            "type": "pie"
           }
          ]
         },
         "layout": {
          "autotypenumbers": "strict",
          "colorway": [
           "#636efa",
           "#EF553B",
           "#00cc96",
           "#ab63fa",
           "#FFA15A",
           "#19d3f3",
           "#FF6692",
           "#B6E880",
           "#FF97FF",
           "#FECB52"
          ],
          "font": {
           "color": "#f2f5fa"
          },
          "hovermode": "closest",
          "hoverlabel": {
           "align": "left"
          },
          "paper_bgcolor": "rgb(17,17,17)",
          "plot_bgcolor": "rgb(17,17,17)",
          "polar": {
           "bgcolor": "rgb(17,17,17)",
           "angularaxis": {
            "gridcolor": "#506784",
            "linecolor": "#506784",
            "ticks": ""
           },
           "radialaxis": {
            "gridcolor": "#506784",
            "linecolor": "#506784",
            "ticks": ""
           }
          },
          "ternary": {
           "bgcolor": "rgb(17,17,17)",
           "aaxis": {
            "gridcolor": "#506784",
            "linecolor": "#506784",
            "ticks": ""
           },
           "baxis": {
            "gridcolor": "#506784",
            "linecolor": "#506784",
            "ticks": ""
           },
           "caxis": {
            "gridcolor": "#506784",
            "linecolor": "#506784",
            "ticks": ""
           }
          },
          "coloraxis": {
           "colorbar": {
            "outlinewidth": 0,
            "ticks": ""
           }
          },
          "colorscale": {
           "sequential": [
            [
             0.0,
             "#0d0887"
            ],
            [
             0.1111111111111111,
             "#46039f"
            ],
            [
             0.2222222222222222,
             "#7201a8"
            ],
            [
             0.3333333333333333,
             "#9c179e"
            ],
            [
             0.4444444444444444,
             "#bd3786"
            ],
            [
             0.5555555555555556,
             "#d8576b"
            ],
            [
             0.6666666666666666,
             "#ed7953"
            ],
            [
             0.7777777777777778,
             "#fb9f3a"
            ],
            [
             0.8888888888888888,
             "#fdca26"
            ],
            [
             1.0,
             "#f0f921"
            ]
           ],
           "sequentialminus": [
            [
             0.0,
             "#0d0887"
            ],
            [
             0.1111111111111111,
             "#46039f"
            ],
            [
             0.2222222222222222,
             "#7201a8"
            ],
            [
             0.3333333333333333,
             "#9c179e"
            ],
            [
             0.4444444444444444,
             "#bd3786"
            ],
            [
             0.5555555555555556,
             "#d8576b"
            ],
            [
             0.6666666666666666,
             "#ed7953"
            ],
            [
             0.7777777777777778,
             "#fb9f3a"
            ],
            [
             0.8888888888888888,
             "#fdca26"
            ],
            [
             1.0,
             "#f0f921"
            ]
           ],
           "diverging": [
            [
             0,
             "#8e0152"
            ],
            [
             0.1,
             "#c51b7d"
            ],
            [
             0.2,
             "#de77ae"
            ],
            [
             0.3,
             "#f1b6da"
            ],
            [
             0.4,
             "#fde0ef"
            ],
            [
             0.5,
             "#f7f7f7"
            ],
            [
             0.6,
             "#e6f5d0"
            ],
            [
             0.7,
             "#b8e186"
            ],
            [
             0.8,
             "#7fbc41"
            ],
            [
             0.9,
             "#4d9221"
            ],
            [
             1,
             "#276419"
            ]
           ]
          },
          "xaxis": {
           "gridcolor": "#283442",
           "linecolor": "#506784",
           "ticks": "",
           "title": {
            "standoff": 15
           },
           "zerolinecolor": "#283442",
           "automargin": true,
           "zerolinewidth": 2
          },
          "yaxis": {
           "gridcolor": "#283442",
           "linecolor": "#506784",
           "ticks": "",
           "title": {
            "standoff": 15
           },
           "zerolinecolor": "#283442",
           "automargin": true,
           "zerolinewidth": 2
          },
          "scene": {
           "xaxis": {
            "backgroundcolor": "rgb(17,17,17)",
            "gridcolor": "#506784",
            "linecolor": "#506784",
            "showbackground": true,
            "ticks": "",
            "zerolinecolor": "#C8D4E3",
            "gridwidth": 2
           },
           "yaxis": {
            "backgroundcolor": "rgb(17,17,17)",
            "gridcolor": "#506784",
            "linecolor": "#506784",
            "showbackground": true,
            "ticks": "",
            "zerolinecolor": "#C8D4E3",
            "gridwidth": 2
           },
           "zaxis": {
            "backgroundcolor": "rgb(17,17,17)",
            "gridcolor": "#506784",
            "linecolor": "#506784",
            "showbackground": true,
            "ticks": "",
            "zerolinecolor": "#C8D4E3",
            "gridwidth": 2
           }
          },
          "shapedefaults": {
           "line": {
            "color": "#f2f5fa"
           }
          },
          "annotationdefaults": {
           "arrowcolor": "#f2f5fa",
           "arrowhead": 0,
           "arrowwidth": 1
          },
          "geo": {
           "bgcolor": "rgb(17,17,17)",
           "landcolor": "rgb(17,17,17)",
           "subunitcolor": "#506784",
           "showland": true,
           "showlakes": true,
           "lakecolor": "rgb(17,17,17)"
          },
          "title": {
           "x": 0.05
          },
          "updatemenudefaults": {
           "bgcolor": "#506784",
           "borderwidth": 0
          },
          "sliderdefaults": {
           "bgcolor": "#C8D4E3",
           "borderwidth": 1,
           "bordercolor": "rgb(17,17,17)",
           "tickwidth": 0
          },
          "mapbox": {
           "style": "dark"
          }
         }
        },
        "xaxis": {
         "anchor": "y",
         "domain": [
          0.0,
          1.0
         ],
         "title": {
          "text": "x"
         }
        },
        "yaxis": {
         "anchor": "x",
         "domain": [
          0.0,
          1.0
         ],
         "title": {
          "text": "y"
         }
        },
        "legend": {
         "title": {
          "text": "color"
         },
         "tracegroupgap": 0
        },
        "margin": {
         "t": 60
        },
        "title": {
         "text": "Clustering top skills for Developer_full-stack"
        },
        "height": 900,
        "width": 1500
       },
       "config": {
        "plotlyServerURL": "https://plot.ly"
       }
      },
      "text/html": "<div>                            <div id=\"b3705d0b-406f-4c28-9604-6b20851a51d2\" class=\"plotly-graph-div\" style=\"height:900px; width:1500px;\"></div>            <script type=\"text/javascript\">                require([\"plotly\"], function(Plotly) {                    window.PLOTLYENV=window.PLOTLYENV || {};                                    if (document.getElementById(\"b3705d0b-406f-4c28-9604-6b20851a51d2\")) {                    Plotly.newPlot(                        \"b3705d0b-406f-4c28-9604-6b20851a51d2\",                        [{\"hovertemplate\":\"color=cluster_1<br>x=%{x}<br>y=%{y}<br>text=%{text}<extra></extra>\",\"legendgroup\":\"cluster_1\",\"marker\":{\"color\":\"#2E91E5\",\"symbol\":\"circle\"},\"mode\":\"markers+text\",\"name\":\"cluster_1\",\"orientation\":\"v\",\"showlegend\":true,\"text\":[\"Angular\",\"Vue.js\",\"Angular.js\",\"Svelte\",\"Webstorm\",\"Nuxt.js\",\"ASP.NET\",\"Heroku\",\"Deno\",\"Blazor\",\"Electron\",\"MongoDB\",\"Gatsby\",\"Fastify\",\"React Native\",\"Ionic\",\"RubyMine\",\"Capacitor\",\"Spring\",\"Cordova\",\"DigitalOcean\",\"Firebase Realtime Database\",\"Rider\",\"Flow\",\"F#\",\"IntelliJ\",\"Firebase\",\"Java\",\"Cloud Firestore\",\"Flutter\"],\"x\":[6.065393924713135,0.7913852334022522,5.099396228790283,-1.09799325466156,-5.266351222991943,0.23381276428699493,-0.08817438036203384,-8.358838081359863,-2.6490752696990967,-0.7494573593139648,0.9062857031822205,4.962726593017578,6.583852291107178,-2.525479793548584,-2.9494431018829346,1.8717466592788696,-7.359446048736572,1.0658519268035889,-15.552749633789062,0.16098694503307343,-3.8363263607025146,-8.176072120666504,-4.396772384643555,-3.454479455947876,-3.3189070224761963,-18.37160873413086,-10.078485488891602,-17.291351318359375,-8.786961555480957,-5.301691055297852],\"xaxis\":\"x\",\"y\":[4.689334392547607,-6.522077560424805,3.362515449523926,-2.096526861190796,-0.9476484060287476,-5.0478034019470215,13.19618034362793,-0.5669933557510376,-1.1256260871887207,11.699239730834961,0.29980242252349854,-3.6092162132263184,-3.5042784214019775,0.6466544270515442,2.929466962814331,5.811532497406006,-3.7610561847686768,5.069477081298828,2.1703474521636963,3.599092721939087,-3.575356960296631,5.310125350952148,8.246770858764648,0.13058431446552277,6.729692459106445,2.6136322021484375,5.492204666137695,2.7071189880371094,3.3401567935943604,1.6738125085830688],\"yaxis\":\"y\",\"type\":\"scatter\",\"textposition\":\"top center\"},{\"hovertemplate\":\"color=cluster_3<br>x=%{x}<br>y=%{y}<br>text=%{text}<extra></extra>\",\"legendgroup\":\"cluster_3\",\"marker\":{\"color\":\"#E15F99\",\"symbol\":\"circle\"},\"mode\":\"markers+text\",\"name\":\"cluster_3\",\"orientation\":\"v\",\"showlegend\":true,\"text\":[\"React.js\",\"Express\",\"TypeScript\",\"HTML/CSS\",\"npm\",\"JavaScript\",\"Yarn\",\"Node.js\",\"Next.js\",\"SQL\",\"Visual Studio Code\"],\"x\":[13.050464630126953,11.485889434814453,17.83694076538086,23.79667091369629,16.89151382446289,22.982967376708984,9.96707534790039,13.578097343444824,9.413875579833984,24.70789337158203,21.542192459106445],\"xaxis\":\"x\",\"y\":[-5.794991493225098,-2.992659568786621,-2.503614902496338,0.0617208331823349,-2.6073930263519287,-0.26651015877723694,-5.879948139190674,-3.5279221534729004,-4.2139997482299805,1.460571050643921,-1.223016381263733],\"yaxis\":\"y\",\"type\":\"scatter\",\"textposition\":\"top center\"},{\"hovertemplate\":\"color=cluster_0<br>x=%{x}<br>y=%{y}<br>text=%{text}<extra></extra>\",\"legendgroup\":\"cluster_0\",\"marker\":{\"color\":\"#1CA71C\",\"symbol\":\"circle\"},\"mode\":\"markers+text\",\"name\":\"cluster_0\",\"orientation\":\"v\",\"showlegend\":true,\"text\":[\"jQuery\",\"Laravel\",\"PhpStorm\",\"Ruby on Rails\",\"Symfony\",\"PHP\",\"MySQL\",\"Phoenix\",\"Elixir\",\"Ruby\",\"Redis\",\"PostgreSQL\"],\"x\":[-2.390305757522583,-2.2927467823028564,-4.683773994445801,-21.507944107055664,-4.998444080352783,-3.987279176712036,-5.386133670806885,-16.3725528717041,-17.003183364868164,-20.937416076660156,-22.893442153930664,-24.06017303466797],\"xaxis\":\"x\",\"y\":[-14.420937538146973,-10.647420883178711,-10.730167388916016,-16.924041748046875,-8.910240173339844,-13.327190399169922,-14.359932899475098,-8.452332496643066,-8.787261962890625,-16.398134231567383,-18.202350616455078,-19.269145965576172],\"yaxis\":\"y\",\"type\":\"scatter\",\"textposition\":\"top center\"},{\"hovertemplate\":\"color=cluster_2<br>x=%{x}<br>y=%{y}<br>text=%{text}<extra></extra>\",\"legendgroup\":\"cluster_2\",\"marker\":{\"color\":\"#FB0D0D\",\"symbol\":\"circle\"},\"mode\":\"markers+text\",\"name\":\"cluster_2\",\"orientation\":\"v\",\"showlegend\":true,\"text\":[\"ASP.NET Core \",\"C#\",\".NET\",\"Microsoft SQL Server\",\"Visual Studio\",\"Microsoft Azure\"],\"x\":[9.678933143615723,12.017549514770508,10.969162940979004,13.420708656311035,12.534029960632324,8.235930442810059],\"xaxis\":\"x\",\"y\":[24.7156925201416,25.626365661621094,25.771678924560547,24.363487243652344,26.810012817382812,23.80510139465332],\"yaxis\":\"y\",\"type\":\"scatter\",\"textposition\":\"top center\"}],                        {\"template\":{\"data\":{\"histogram2dcontour\":[{\"type\":\"histogram2dcontour\",\"colorbar\":{\"outlinewidth\":0,\"ticks\":\"\"},\"colorscale\":[[0.0,\"#0d0887\"],[0.1111111111111111,\"#46039f\"],[0.2222222222222222,\"#7201a8\"],[0.3333333333333333,\"#9c179e\"],[0.4444444444444444,\"#bd3786\"],[0.5555555555555556,\"#d8576b\"],[0.6666666666666666,\"#ed7953\"],[0.7777777777777778,\"#fb9f3a\"],[0.8888888888888888,\"#fdca26\"],[1.0,\"#f0f921\"]]}],\"choropleth\":[{\"type\":\"choropleth\",\"colorbar\":{\"outlinewidth\":0,\"ticks\":\"\"}}],\"histogram2d\":[{\"type\":\"histogram2d\",\"colorbar\":{\"outlinewidth\":0,\"ticks\":\"\"},\"colorscale\":[[0.0,\"#0d0887\"],[0.1111111111111111,\"#46039f\"],[0.2222222222222222,\"#7201a8\"],[0.3333333333333333,\"#9c179e\"],[0.4444444444444444,\"#bd3786\"],[0.5555555555555556,\"#d8576b\"],[0.6666666666666666,\"#ed7953\"],[0.7777777777777778,\"#fb9f3a\"],[0.8888888888888888,\"#fdca26\"],[1.0,\"#f0f921\"]]}],\"heatmap\":[{\"type\":\"heatmap\",\"colorbar\":{\"outlinewidth\":0,\"ticks\":\"\"},\"colorscale\":[[0.0,\"#0d0887\"],[0.1111111111111111,\"#46039f\"],[0.2222222222222222,\"#7201a8\"],[0.3333333333333333,\"#9c179e\"],[0.4444444444444444,\"#bd3786\"],[0.5555555555555556,\"#d8576b\"],[0.6666666666666666,\"#ed7953\"],[0.7777777777777778,\"#fb9f3a\"],[0.8888888888888888,\"#fdca26\"],[1.0,\"#f0f921\"]]}],\"heatmapgl\":[{\"type\":\"heatmapgl\",\"colorbar\":{\"outlinewidth\":0,\"ticks\":\"\"},\"colorscale\":[[0.0,\"#0d0887\"],[0.1111111111111111,\"#46039f\"],[0.2222222222222222,\"#7201a8\"],[0.3333333333333333,\"#9c179e\"],[0.4444444444444444,\"#bd3786\"],[0.5555555555555556,\"#d8576b\"],[0.6666666666666666,\"#ed7953\"],[0.7777777777777778,\"#fb9f3a\"],[0.8888888888888888,\"#fdca26\"],[1.0,\"#f0f921\"]]}],\"contourcarpet\":[{\"type\":\"contourcarpet\",\"colorbar\":{\"outlinewidth\":0,\"ticks\":\"\"}}],\"contour\":[{\"type\":\"contour\",\"colorbar\":{\"outlinewidth\":0,\"ticks\":\"\"},\"colorscale\":[[0.0,\"#0d0887\"],[0.1111111111111111,\"#46039f\"],[0.2222222222222222,\"#7201a8\"],[0.3333333333333333,\"#9c179e\"],[0.4444444444444444,\"#bd3786\"],[0.5555555555555556,\"#d8576b\"],[0.6666666666666666,\"#ed7953\"],[0.7777777777777778,\"#fb9f3a\"],[0.8888888888888888,\"#fdca26\"],[1.0,\"#f0f921\"]]}],\"surface\":[{\"type\":\"surface\",\"colorbar\":{\"outlinewidth\":0,\"ticks\":\"\"},\"colorscale\":[[0.0,\"#0d0887\"],[0.1111111111111111,\"#46039f\"],[0.2222222222222222,\"#7201a8\"],[0.3333333333333333,\"#9c179e\"],[0.4444444444444444,\"#bd3786\"],[0.5555555555555556,\"#d8576b\"],[0.6666666666666666,\"#ed7953\"],[0.7777777777777778,\"#fb9f3a\"],[0.8888888888888888,\"#fdca26\"],[1.0,\"#f0f921\"]]}],\"mesh3d\":[{\"type\":\"mesh3d\",\"colorbar\":{\"outlinewidth\":0,\"ticks\":\"\"}}],\"scatter\":[{\"marker\":{\"line\":{\"color\":\"#283442\"}},\"type\":\"scatter\"}],\"parcoords\":[{\"type\":\"parcoords\",\"line\":{\"colorbar\":{\"outlinewidth\":0,\"ticks\":\"\"}}}],\"scatterpolargl\":[{\"type\":\"scatterpolargl\",\"marker\":{\"colorbar\":{\"outlinewidth\":0,\"ticks\":\"\"}}}],\"bar\":[{\"error_x\":{\"color\":\"#f2f5fa\"},\"error_y\":{\"color\":\"#f2f5fa\"},\"marker\":{\"line\":{\"color\":\"rgb(17,17,17)\",\"width\":0.5},\"pattern\":{\"fillmode\":\"overlay\",\"size\":10,\"solidity\":0.2}},\"type\":\"bar\"}],\"scattergeo\":[{\"type\":\"scattergeo\",\"marker\":{\"colorbar\":{\"outlinewidth\":0,\"ticks\":\"\"}}}],\"scatterpolar\":[{\"type\":\"scatterpolar\",\"marker\":{\"colorbar\":{\"outlinewidth\":0,\"ticks\":\"\"}}}],\"histogram\":[{\"marker\":{\"pattern\":{\"fillmode\":\"overlay\",\"size\":10,\"solidity\":0.2}},\"type\":\"histogram\"}],\"scattergl\":[{\"marker\":{\"line\":{\"color\":\"#283442\"}},\"type\":\"scattergl\"}],\"scatter3d\":[{\"type\":\"scatter3d\",\"line\":{\"colorbar\":{\"outlinewidth\":0,\"ticks\":\"\"}},\"marker\":{\"colorbar\":{\"outlinewidth\":0,\"ticks\":\"\"}}}],\"scattermapbox\":[{\"type\":\"scattermapbox\",\"marker\":{\"colorbar\":{\"outlinewidth\":0,\"ticks\":\"\"}}}],\"scatterternary\":[{\"type\":\"scatterternary\",\"marker\":{\"colorbar\":{\"outlinewidth\":0,\"ticks\":\"\"}}}],\"scattercarpet\":[{\"type\":\"scattercarpet\",\"marker\":{\"colorbar\":{\"outlinewidth\":0,\"ticks\":\"\"}}}],\"carpet\":[{\"aaxis\":{\"endlinecolor\":\"#A2B1C6\",\"gridcolor\":\"#506784\",\"linecolor\":\"#506784\",\"minorgridcolor\":\"#506784\",\"startlinecolor\":\"#A2B1C6\"},\"baxis\":{\"endlinecolor\":\"#A2B1C6\",\"gridcolor\":\"#506784\",\"linecolor\":\"#506784\",\"minorgridcolor\":\"#506784\",\"startlinecolor\":\"#A2B1C6\"},\"type\":\"carpet\"}],\"table\":[{\"cells\":{\"fill\":{\"color\":\"#506784\"},\"line\":{\"color\":\"rgb(17,17,17)\"}},\"header\":{\"fill\":{\"color\":\"#2a3f5f\"},\"line\":{\"color\":\"rgb(17,17,17)\"}},\"type\":\"table\"}],\"barpolar\":[{\"marker\":{\"line\":{\"color\":\"rgb(17,17,17)\",\"width\":0.5},\"pattern\":{\"fillmode\":\"overlay\",\"size\":10,\"solidity\":0.2}},\"type\":\"barpolar\"}],\"pie\":[{\"automargin\":true,\"type\":\"pie\"}]},\"layout\":{\"autotypenumbers\":\"strict\",\"colorway\":[\"#636efa\",\"#EF553B\",\"#00cc96\",\"#ab63fa\",\"#FFA15A\",\"#19d3f3\",\"#FF6692\",\"#B6E880\",\"#FF97FF\",\"#FECB52\"],\"font\":{\"color\":\"#f2f5fa\"},\"hovermode\":\"closest\",\"hoverlabel\":{\"align\":\"left\"},\"paper_bgcolor\":\"rgb(17,17,17)\",\"plot_bgcolor\":\"rgb(17,17,17)\",\"polar\":{\"bgcolor\":\"rgb(17,17,17)\",\"angularaxis\":{\"gridcolor\":\"#506784\",\"linecolor\":\"#506784\",\"ticks\":\"\"},\"radialaxis\":{\"gridcolor\":\"#506784\",\"linecolor\":\"#506784\",\"ticks\":\"\"}},\"ternary\":{\"bgcolor\":\"rgb(17,17,17)\",\"aaxis\":{\"gridcolor\":\"#506784\",\"linecolor\":\"#506784\",\"ticks\":\"\"},\"baxis\":{\"gridcolor\":\"#506784\",\"linecolor\":\"#506784\",\"ticks\":\"\"},\"caxis\":{\"gridcolor\":\"#506784\",\"linecolor\":\"#506784\",\"ticks\":\"\"}},\"coloraxis\":{\"colorbar\":{\"outlinewidth\":0,\"ticks\":\"\"}},\"colorscale\":{\"sequential\":[[0.0,\"#0d0887\"],[0.1111111111111111,\"#46039f\"],[0.2222222222222222,\"#7201a8\"],[0.3333333333333333,\"#9c179e\"],[0.4444444444444444,\"#bd3786\"],[0.5555555555555556,\"#d8576b\"],[0.6666666666666666,\"#ed7953\"],[0.7777777777777778,\"#fb9f3a\"],[0.8888888888888888,\"#fdca26\"],[1.0,\"#f0f921\"]],\"sequentialminus\":[[0.0,\"#0d0887\"],[0.1111111111111111,\"#46039f\"],[0.2222222222222222,\"#7201a8\"],[0.3333333333333333,\"#9c179e\"],[0.4444444444444444,\"#bd3786\"],[0.5555555555555556,\"#d8576b\"],[0.6666666666666666,\"#ed7953\"],[0.7777777777777778,\"#fb9f3a\"],[0.8888888888888888,\"#fdca26\"],[1.0,\"#f0f921\"]],\"diverging\":[[0,\"#8e0152\"],[0.1,\"#c51b7d\"],[0.2,\"#de77ae\"],[0.3,\"#f1b6da\"],[0.4,\"#fde0ef\"],[0.5,\"#f7f7f7\"],[0.6,\"#e6f5d0\"],[0.7,\"#b8e186\"],[0.8,\"#7fbc41\"],[0.9,\"#4d9221\"],[1,\"#276419\"]]},\"xaxis\":{\"gridcolor\":\"#283442\",\"linecolor\":\"#506784\",\"ticks\":\"\",\"title\":{\"standoff\":15},\"zerolinecolor\":\"#283442\",\"automargin\":true,\"zerolinewidth\":2},\"yaxis\":{\"gridcolor\":\"#283442\",\"linecolor\":\"#506784\",\"ticks\":\"\",\"title\":{\"standoff\":15},\"zerolinecolor\":\"#283442\",\"automargin\":true,\"zerolinewidth\":2},\"scene\":{\"xaxis\":{\"backgroundcolor\":\"rgb(17,17,17)\",\"gridcolor\":\"#506784\",\"linecolor\":\"#506784\",\"showbackground\":true,\"ticks\":\"\",\"zerolinecolor\":\"#C8D4E3\",\"gridwidth\":2},\"yaxis\":{\"backgroundcolor\":\"rgb(17,17,17)\",\"gridcolor\":\"#506784\",\"linecolor\":\"#506784\",\"showbackground\":true,\"ticks\":\"\",\"zerolinecolor\":\"#C8D4E3\",\"gridwidth\":2},\"zaxis\":{\"backgroundcolor\":\"rgb(17,17,17)\",\"gridcolor\":\"#506784\",\"linecolor\":\"#506784\",\"showbackground\":true,\"ticks\":\"\",\"zerolinecolor\":\"#C8D4E3\",\"gridwidth\":2}},\"shapedefaults\":{\"line\":{\"color\":\"#f2f5fa\"}},\"annotationdefaults\":{\"arrowcolor\":\"#f2f5fa\",\"arrowhead\":0,\"arrowwidth\":1},\"geo\":{\"bgcolor\":\"rgb(17,17,17)\",\"landcolor\":\"rgb(17,17,17)\",\"subunitcolor\":\"#506784\",\"showland\":true,\"showlakes\":true,\"lakecolor\":\"rgb(17,17,17)\"},\"title\":{\"x\":0.05},\"updatemenudefaults\":{\"bgcolor\":\"#506784\",\"borderwidth\":0},\"sliderdefaults\":{\"bgcolor\":\"#C8D4E3\",\"borderwidth\":1,\"bordercolor\":\"rgb(17,17,17)\",\"tickwidth\":0},\"mapbox\":{\"style\":\"dark\"}}},\"xaxis\":{\"anchor\":\"y\",\"domain\":[0.0,1.0],\"title\":{\"text\":\"x\"}},\"yaxis\":{\"anchor\":\"x\",\"domain\":[0.0,1.0],\"title\":{\"text\":\"y\"}},\"legend\":{\"title\":{\"text\":\"color\"},\"tracegroupgap\":0},\"margin\":{\"t\":60},\"title\":{\"text\":\"Clustering top skills for Developer_full-stack\"},\"height\":900,\"width\":1500},                        {\"responsive\": true}                    ).then(function(){\n                            \nvar gd = document.getElementById('b3705d0b-406f-4c28-9604-6b20851a51d2');\nvar x = new MutationObserver(function (mutations, observer) {{\n        var display = window.getComputedStyle(gd).display;\n        if (!display || display === 'none') {{\n            console.log([gd, 'removed!']);\n            Plotly.purge(gd);\n            observer.disconnect();\n        }}\n}});\n\n// Listen for the removal of the full notebook cells\nvar notebookContainer = gd.closest('#notebook-container');\nif (notebookContainer) {{\n    x.observe(notebookContainer, {childList: true});\n}}\n\n// Listen for the clearing of the current output cell\nvar outputEl = gd.closest('.output');\nif (outputEl) {{\n    x.observe(outputEl, {childList: true});\n}}\n\n                        })                };                });            </script>        </div>"
     },
     "metadata": {},
     "output_type": "display_data"
    }
   ],
   "source": [
    "full_stack_skills = choose_most_related_skills(split_roles[0])\n",
    "full_stack_tsne = reduce_dimensions(full_stack_skills)\n",
    "best_k, best_labels_full_stack = evaluate_cluster_model(full_stack_tsne, range_clusters=range(2,7), plot = True)\n",
    "visualize_chosen_cluster_model(split_roles[0], full_stack_tsne, best_labels_full_stack)"
   ],
   "metadata": {
    "collapsed": false
   }
  },
  {
   "cell_type": "code",
   "execution_count": 73,
   "outputs": [
    {
     "name": "stdout",
     "output_type": "stream",
     "text": [
      "cluster_0 ['jQuery', 'Laravel', 'PhpStorm', 'Ruby on Rails', 'Symfony', 'PHP', 'MySQL', 'Phoenix', 'Elixir', 'Ruby', 'Redis', 'PostgreSQL']\n",
      "cluster_1 ['Angular', 'Vue.js', 'Angular.js', 'Svelte', 'Webstorm', 'Nuxt.js', 'ASP.NET', 'Heroku', 'Deno', 'Blazor', 'Electron', 'MongoDB', 'Gatsby', 'Fastify', 'React Native', 'Ionic', 'RubyMine', 'Capacitor', 'Spring', 'Cordova', 'DigitalOcean', 'Firebase Realtime Database', 'Rider', 'Flow', 'F#', 'IntelliJ', 'Firebase', 'Java', 'Cloud Firestore', 'Flutter']\n",
      "cluster_2 ['ASP.NET Core ', 'C#', '.NET', 'Microsoft SQL Server', 'Visual Studio', 'Microsoft Azure']\n",
      "cluster_3 ['React.js', 'Express', 'TypeScript', 'HTML/CSS', 'npm', 'JavaScript', 'Yarn', 'Node.js', 'Next.js', 'SQL', 'Visual Studio Code']\n"
     ]
    }
   ],
   "source": [
    "for label in sorted(set(best_labels_full_stack)):\n",
    "    print(label, list(full_stack_tsne[best_labels_full_stack==label].index))\n"
   ],
   "metadata": {
    "collapsed": false
   }
  },
  {
   "cell_type": "code",
   "execution_count": 101,
   "outputs": [],
   "source": [
    "full_stack_types = ['full_stack_php', 'full_stack_java', 'full_stack_.NET', 'full_stack_JavaScript']"
   ],
   "metadata": {
    "collapsed": false
   }
  },
  {
   "cell_type": "code",
   "execution_count": 123,
   "outputs": [
    {
     "name": "stdout",
     "output_type": "stream",
     "text": [
      "20928\n",
      "10218\n",
      "10110\n",
      "8177\n",
      "10901\n"
     ]
    }
   ],
   "source": [
    "is_full_stack = skills_dev_df['DevType']['Developer_full-stack'] == 1\n",
    "print(is_full_stack.sum())\n",
    "full_stack_roles = {}\n",
    "for i, label in enumerate(sorted(set(best_labels_full_stack))):\n",
    "    cluster_labels = set(list(full_stack_tsne[best_labels_full_stack==label].index) + ['HTML/CSS', 'JavaScript'])\n",
    "    total_skills = skills_dev_df.droplevel(level=0, axis = 1)[list(cluster_labels)].sum(axis=1)\n",
    "    is_full_stack_specific_type = total_skills > total_skills.mean()\n",
    "    print((is_full_stack & is_full_stack_specific_type).sum())\n",
    "    full_stack_roles[full_stack_types[i]] = is_full_stack & is_full_stack_specific_type"
   ],
   "metadata": {
    "collapsed": false
   }
  },
  {
   "cell_type": "code",
   "execution_count": 124,
   "outputs": [
    {
     "data": {
      "text/plain": "       full_stack_php  full_stack_java  full_stack_.NET  \\\n2               False            False            False   \n3               False             True             True   \n7               False            False            False   \n9               False            False            False   \n10              False            False             True   \n...               ...              ...              ...   \n73262           False            False            False   \n73263           False            False            False   \n73264           False            False            False   \n73265            True             True             True   \n73266           False            False            False   \n\n       full_stack_JavaScript  Developer_full-stack  \n2                      False                 False  \n3                       True                  True  \n7                      False                  True  \n9                      False                 False  \n10                     False                  True  \n...                      ...                   ...  \n73262                  False                 False  \n73263                  False                 False  \n73264                  False                 False  \n73265                   True                  True  \n73266                  False                 False  \n\n[50423 rows x 5 columns]",
      "text/html": "<div>\n<style scoped>\n    .dataframe tbody tr th:only-of-type {\n        vertical-align: middle;\n    }\n\n    .dataframe tbody tr th {\n        vertical-align: top;\n    }\n\n    .dataframe thead th {\n        text-align: right;\n    }\n</style>\n<table border=\"1\" class=\"dataframe\">\n  <thead>\n    <tr style=\"text-align: right;\">\n      <th></th>\n      <th>full_stack_php</th>\n      <th>full_stack_java</th>\n      <th>full_stack_.NET</th>\n      <th>full_stack_JavaScript</th>\n      <th>Developer_full-stack</th>\n    </tr>\n  </thead>\n  <tbody>\n    <tr>\n      <th>2</th>\n      <td>False</td>\n      <td>False</td>\n      <td>False</td>\n      <td>False</td>\n      <td>False</td>\n    </tr>\n    <tr>\n      <th>3</th>\n      <td>False</td>\n      <td>True</td>\n      <td>True</td>\n      <td>True</td>\n      <td>True</td>\n    </tr>\n    <tr>\n      <th>7</th>\n      <td>False</td>\n      <td>False</td>\n      <td>False</td>\n      <td>False</td>\n      <td>True</td>\n    </tr>\n    <tr>\n      <th>9</th>\n      <td>False</td>\n      <td>False</td>\n      <td>False</td>\n      <td>False</td>\n      <td>False</td>\n    </tr>\n    <tr>\n      <th>10</th>\n      <td>False</td>\n      <td>False</td>\n      <td>True</td>\n      <td>False</td>\n      <td>True</td>\n    </tr>\n    <tr>\n      <th>...</th>\n      <td>...</td>\n      <td>...</td>\n      <td>...</td>\n      <td>...</td>\n      <td>...</td>\n    </tr>\n    <tr>\n      <th>73262</th>\n      <td>False</td>\n      <td>False</td>\n      <td>False</td>\n      <td>False</td>\n      <td>False</td>\n    </tr>\n    <tr>\n      <th>73263</th>\n      <td>False</td>\n      <td>False</td>\n      <td>False</td>\n      <td>False</td>\n      <td>False</td>\n    </tr>\n    <tr>\n      <th>73264</th>\n      <td>False</td>\n      <td>False</td>\n      <td>False</td>\n      <td>False</td>\n      <td>False</td>\n    </tr>\n    <tr>\n      <th>73265</th>\n      <td>True</td>\n      <td>True</td>\n      <td>True</td>\n      <td>True</td>\n      <td>True</td>\n    </tr>\n    <tr>\n      <th>73266</th>\n      <td>False</td>\n      <td>False</td>\n      <td>False</td>\n      <td>False</td>\n      <td>False</td>\n    </tr>\n  </tbody>\n</table>\n<p>50423 rows × 5 columns</p>\n</div>"
     },
     "execution_count": 124,
     "metadata": {},
     "output_type": "execute_result"
    }
   ],
   "source": [
    "full_stack_roles = pd.concat(full_stack_roles, axis = 1)\n",
    "df = pd.concat([full_stack_roles,is_full_stack], axis = 1)\n",
    "df"
   ],
   "metadata": {
    "collapsed": false
   }
  },
  {
   "cell_type": "code",
   "execution_count": 52,
   "outputs": [],
   "source": [],
   "metadata": {
    "collapsed": false
   }
  },
  {
   "cell_type": "markdown",
   "source": [
    "### B) Developer_back-end"
   ],
   "metadata": {
    "collapsed": false
   }
  },
  {
   "cell_type": "code",
   "execution_count": 53,
   "outputs": [
    {
     "data": {
      "application/vnd.plotly.v1+json": {
       "data": [
        {
         "hovertemplate": "x=%{x}<br>y=%{y}<extra></extra>",
         "legendgroup": "",
         "line": {
          "color": "#636efa",
          "dash": "solid"
         },
         "marker": {
          "symbol": "circle"
         },
         "mode": "lines",
         "name": "",
         "orientation": "v",
         "showlegend": false,
         "x": [
          2,
          3,
          4,
          5,
          6
         ],
         "xaxis": "x",
         "y": [
          0.4049495756626129,
          0.3872528374195099,
          0.4118041396141052,
          0.44679203629493713,
          0.4926483631134033
         ],
         "yaxis": "y",
         "type": "scatter"
        }
       ],
       "layout": {
        "template": {
         "data": {
          "histogram2dcontour": [
           {
            "type": "histogram2dcontour",
            "colorbar": {
             "outlinewidth": 0,
             "ticks": ""
            },
            "colorscale": [
             [
              0.0,
              "#0d0887"
             ],
             [
              0.1111111111111111,
              "#46039f"
             ],
             [
              0.2222222222222222,
              "#7201a8"
             ],
             [
              0.3333333333333333,
              "#9c179e"
             ],
             [
              0.4444444444444444,
              "#bd3786"
             ],
             [
              0.5555555555555556,
              "#d8576b"
             ],
             [
              0.6666666666666666,
              "#ed7953"
             ],
             [
              0.7777777777777778,
              "#fb9f3a"
             ],
             [
              0.8888888888888888,
              "#fdca26"
             ],
             [
              1.0,
              "#f0f921"
             ]
            ]
           }
          ],
          "choropleth": [
           {
            "type": "choropleth",
            "colorbar": {
             "outlinewidth": 0,
             "ticks": ""
            }
           }
          ],
          "histogram2d": [
           {
            "type": "histogram2d",
            "colorbar": {
             "outlinewidth": 0,
             "ticks": ""
            },
            "colorscale": [
             [
              0.0,
              "#0d0887"
             ],
             [
              0.1111111111111111,
              "#46039f"
             ],
             [
              0.2222222222222222,
              "#7201a8"
             ],
             [
              0.3333333333333333,
              "#9c179e"
             ],
             [
              0.4444444444444444,
              "#bd3786"
             ],
             [
              0.5555555555555556,
              "#d8576b"
             ],
             [
              0.6666666666666666,
              "#ed7953"
             ],
             [
              0.7777777777777778,
              "#fb9f3a"
             ],
             [
              0.8888888888888888,
              "#fdca26"
             ],
             [
              1.0,
              "#f0f921"
             ]
            ]
           }
          ],
          "heatmap": [
           {
            "type": "heatmap",
            "colorbar": {
             "outlinewidth": 0,
             "ticks": ""
            },
            "colorscale": [
             [
              0.0,
              "#0d0887"
             ],
             [
              0.1111111111111111,
              "#46039f"
             ],
             [
              0.2222222222222222,
              "#7201a8"
             ],
             [
              0.3333333333333333,
              "#9c179e"
             ],
             [
              0.4444444444444444,
              "#bd3786"
             ],
             [
              0.5555555555555556,
              "#d8576b"
             ],
             [
              0.6666666666666666,
              "#ed7953"
             ],
             [
              0.7777777777777778,
              "#fb9f3a"
             ],
             [
              0.8888888888888888,
              "#fdca26"
             ],
             [
              1.0,
              "#f0f921"
             ]
            ]
           }
          ],
          "heatmapgl": [
           {
            "type": "heatmapgl",
            "colorbar": {
             "outlinewidth": 0,
             "ticks": ""
            },
            "colorscale": [
             [
              0.0,
              "#0d0887"
             ],
             [
              0.1111111111111111,
              "#46039f"
             ],
             [
              0.2222222222222222,
              "#7201a8"
             ],
             [
              0.3333333333333333,
              "#9c179e"
             ],
             [
              0.4444444444444444,
              "#bd3786"
             ],
             [
              0.5555555555555556,
              "#d8576b"
             ],
             [
              0.6666666666666666,
              "#ed7953"
             ],
             [
              0.7777777777777778,
              "#fb9f3a"
             ],
             [
              0.8888888888888888,
              "#fdca26"
             ],
             [
              1.0,
              "#f0f921"
             ]
            ]
           }
          ],
          "contourcarpet": [
           {
            "type": "contourcarpet",
            "colorbar": {
             "outlinewidth": 0,
             "ticks": ""
            }
           }
          ],
          "contour": [
           {
            "type": "contour",
            "colorbar": {
             "outlinewidth": 0,
             "ticks": ""
            },
            "colorscale": [
             [
              0.0,
              "#0d0887"
             ],
             [
              0.1111111111111111,
              "#46039f"
             ],
             [
              0.2222222222222222,
              "#7201a8"
             ],
             [
              0.3333333333333333,
              "#9c179e"
             ],
             [
              0.4444444444444444,
              "#bd3786"
             ],
             [
              0.5555555555555556,
              "#d8576b"
             ],
             [
              0.6666666666666666,
              "#ed7953"
             ],
             [
              0.7777777777777778,
              "#fb9f3a"
             ],
             [
              0.8888888888888888,
              "#fdca26"
             ],
             [
              1.0,
              "#f0f921"
             ]
            ]
           }
          ],
          "surface": [
           {
            "type": "surface",
            "colorbar": {
             "outlinewidth": 0,
             "ticks": ""
            },
            "colorscale": [
             [
              0.0,
              "#0d0887"
             ],
             [
              0.1111111111111111,
              "#46039f"
             ],
             [
              0.2222222222222222,
              "#7201a8"
             ],
             [
              0.3333333333333333,
              "#9c179e"
             ],
             [
              0.4444444444444444,
              "#bd3786"
             ],
             [
              0.5555555555555556,
              "#d8576b"
             ],
             [
              0.6666666666666666,
              "#ed7953"
             ],
             [
              0.7777777777777778,
              "#fb9f3a"
             ],
             [
              0.8888888888888888,
              "#fdca26"
             ],
             [
              1.0,
              "#f0f921"
             ]
            ]
           }
          ],
          "mesh3d": [
           {
            "type": "mesh3d",
            "colorbar": {
             "outlinewidth": 0,
             "ticks": ""
            }
           }
          ],
          "scatter": [
           {
            "marker": {
             "line": {
              "color": "#283442"
             }
            },
            "type": "scatter"
           }
          ],
          "parcoords": [
           {
            "type": "parcoords",
            "line": {
             "colorbar": {
              "outlinewidth": 0,
              "ticks": ""
             }
            }
           }
          ],
          "scatterpolargl": [
           {
            "type": "scatterpolargl",
            "marker": {
             "colorbar": {
              "outlinewidth": 0,
              "ticks": ""
             }
            }
           }
          ],
          "bar": [
           {
            "error_x": {
             "color": "#f2f5fa"
            },
            "error_y": {
             "color": "#f2f5fa"
            },
            "marker": {
             "line": {
              "color": "rgb(17,17,17)",
              "width": 0.5
             },
             "pattern": {
              "fillmode": "overlay",
              "size": 10,
              "solidity": 0.2
             }
            },
            "type": "bar"
           }
          ],
          "scattergeo": [
           {
            "type": "scattergeo",
            "marker": {
             "colorbar": {
              "outlinewidth": 0,
              "ticks": ""
             }
            }
           }
          ],
          "scatterpolar": [
           {
            "type": "scatterpolar",
            "marker": {
             "colorbar": {
              "outlinewidth": 0,
              "ticks": ""
             }
            }
           }
          ],
          "histogram": [
           {
            "marker": {
             "pattern": {
              "fillmode": "overlay",
              "size": 10,
              "solidity": 0.2
             }
            },
            "type": "histogram"
           }
          ],
          "scattergl": [
           {
            "marker": {
             "line": {
              "color": "#283442"
             }
            },
            "type": "scattergl"
           }
          ],
          "scatter3d": [
           {
            "type": "scatter3d",
            "line": {
             "colorbar": {
              "outlinewidth": 0,
              "ticks": ""
             }
            },
            "marker": {
             "colorbar": {
              "outlinewidth": 0,
              "ticks": ""
             }
            }
           }
          ],
          "scattermapbox": [
           {
            "type": "scattermapbox",
            "marker": {
             "colorbar": {
              "outlinewidth": 0,
              "ticks": ""
             }
            }
           }
          ],
          "scatterternary": [
           {
            "type": "scatterternary",
            "marker": {
             "colorbar": {
              "outlinewidth": 0,
              "ticks": ""
             }
            }
           }
          ],
          "scattercarpet": [
           {
            "type": "scattercarpet",
            "marker": {
             "colorbar": {
              "outlinewidth": 0,
              "ticks": ""
             }
            }
           }
          ],
          "carpet": [
           {
            "aaxis": {
             "endlinecolor": "#A2B1C6",
             "gridcolor": "#506784",
             "linecolor": "#506784",
             "minorgridcolor": "#506784",
             "startlinecolor": "#A2B1C6"
            },
            "baxis": {
             "endlinecolor": "#A2B1C6",
             "gridcolor": "#506784",
             "linecolor": "#506784",
             "minorgridcolor": "#506784",
             "startlinecolor": "#A2B1C6"
            },
            "type": "carpet"
           }
          ],
          "table": [
           {
            "cells": {
             "fill": {
              "color": "#506784"
             },
             "line": {
              "color": "rgb(17,17,17)"
             }
            },
            "header": {
             "fill": {
              "color": "#2a3f5f"
             },
             "line": {
              "color": "rgb(17,17,17)"
             }
            },
            "type": "table"
           }
          ],
          "barpolar": [
           {
            "marker": {
             "line": {
              "color": "rgb(17,17,17)",
              "width": 0.5
             },
             "pattern": {
              "fillmode": "overlay",
              "size": 10,
              "solidity": 0.2
             }
            },
            "type": "barpolar"
           }
          ],
          "pie": [
           {
            "automargin": true,
            "type": "pie"
           }
          ]
         },
         "layout": {
          "autotypenumbers": "strict",
          "colorway": [
           "#636efa",
           "#EF553B",
           "#00cc96",
           "#ab63fa",
           "#FFA15A",
           "#19d3f3",
           "#FF6692",
           "#B6E880",
           "#FF97FF",
           "#FECB52"
          ],
          "font": {
           "color": "#f2f5fa"
          },
          "hovermode": "closest",
          "hoverlabel": {
           "align": "left"
          },
          "paper_bgcolor": "rgb(17,17,17)",
          "plot_bgcolor": "rgb(17,17,17)",
          "polar": {
           "bgcolor": "rgb(17,17,17)",
           "angularaxis": {
            "gridcolor": "#506784",
            "linecolor": "#506784",
            "ticks": ""
           },
           "radialaxis": {
            "gridcolor": "#506784",
            "linecolor": "#506784",
            "ticks": ""
           }
          },
          "ternary": {
           "bgcolor": "rgb(17,17,17)",
           "aaxis": {
            "gridcolor": "#506784",
            "linecolor": "#506784",
            "ticks": ""
           },
           "baxis": {
            "gridcolor": "#506784",
            "linecolor": "#506784",
            "ticks": ""
           },
           "caxis": {
            "gridcolor": "#506784",
            "linecolor": "#506784",
            "ticks": ""
           }
          },
          "coloraxis": {
           "colorbar": {
            "outlinewidth": 0,
            "ticks": ""
           }
          },
          "colorscale": {
           "sequential": [
            [
             0.0,
             "#0d0887"
            ],
            [
             0.1111111111111111,
             "#46039f"
            ],
            [
             0.2222222222222222,
             "#7201a8"
            ],
            [
             0.3333333333333333,
             "#9c179e"
            ],
            [
             0.4444444444444444,
             "#bd3786"
            ],
            [
             0.5555555555555556,
             "#d8576b"
            ],
            [
             0.6666666666666666,
             "#ed7953"
            ],
            [
             0.7777777777777778,
             "#fb9f3a"
            ],
            [
             0.8888888888888888,
             "#fdca26"
            ],
            [
             1.0,
             "#f0f921"
            ]
           ],
           "sequentialminus": [
            [
             0.0,
             "#0d0887"
            ],
            [
             0.1111111111111111,
             "#46039f"
            ],
            [
             0.2222222222222222,
             "#7201a8"
            ],
            [
             0.3333333333333333,
             "#9c179e"
            ],
            [
             0.4444444444444444,
             "#bd3786"
            ],
            [
             0.5555555555555556,
             "#d8576b"
            ],
            [
             0.6666666666666666,
             "#ed7953"
            ],
            [
             0.7777777777777778,
             "#fb9f3a"
            ],
            [
             0.8888888888888888,
             "#fdca26"
            ],
            [
             1.0,
             "#f0f921"
            ]
           ],
           "diverging": [
            [
             0,
             "#8e0152"
            ],
            [
             0.1,
             "#c51b7d"
            ],
            [
             0.2,
             "#de77ae"
            ],
            [
             0.3,
             "#f1b6da"
            ],
            [
             0.4,
             "#fde0ef"
            ],
            [
             0.5,
             "#f7f7f7"
            ],
            [
             0.6,
             "#e6f5d0"
            ],
            [
             0.7,
             "#b8e186"
            ],
            [
             0.8,
             "#7fbc41"
            ],
            [
             0.9,
             "#4d9221"
            ],
            [
             1,
             "#276419"
            ]
           ]
          },
          "xaxis": {
           "gridcolor": "#283442",
           "linecolor": "#506784",
           "ticks": "",
           "title": {
            "standoff": 15
           },
           "zerolinecolor": "#283442",
           "automargin": true,
           "zerolinewidth": 2
          },
          "yaxis": {
           "gridcolor": "#283442",
           "linecolor": "#506784",
           "ticks": "",
           "title": {
            "standoff": 15
           },
           "zerolinecolor": "#283442",
           "automargin": true,
           "zerolinewidth": 2
          },
          "scene": {
           "xaxis": {
            "backgroundcolor": "rgb(17,17,17)",
            "gridcolor": "#506784",
            "linecolor": "#506784",
            "showbackground": true,
            "ticks": "",
            "zerolinecolor": "#C8D4E3",
            "gridwidth": 2
           },
           "yaxis": {
            "backgroundcolor": "rgb(17,17,17)",
            "gridcolor": "#506784",
            "linecolor": "#506784",
            "showbackground": true,
            "ticks": "",
            "zerolinecolor": "#C8D4E3",
            "gridwidth": 2
           },
           "zaxis": {
            "backgroundcolor": "rgb(17,17,17)",
            "gridcolor": "#506784",
            "linecolor": "#506784",
            "showbackground": true,
            "ticks": "",
            "zerolinecolor": "#C8D4E3",
            "gridwidth": 2
           }
          },
          "shapedefaults": {
           "line": {
            "color": "#f2f5fa"
           }
          },
          "annotationdefaults": {
           "arrowcolor": "#f2f5fa",
           "arrowhead": 0,
           "arrowwidth": 1
          },
          "geo": {
           "bgcolor": "rgb(17,17,17)",
           "landcolor": "rgb(17,17,17)",
           "subunitcolor": "#506784",
           "showland": true,
           "showlakes": true,
           "lakecolor": "rgb(17,17,17)"
          },
          "title": {
           "x": 0.05
          },
          "updatemenudefaults": {
           "bgcolor": "#506784",
           "borderwidth": 0
          },
          "sliderdefaults": {
           "bgcolor": "#C8D4E3",
           "borderwidth": 1,
           "bordercolor": "rgb(17,17,17)",
           "tickwidth": 0
          },
          "mapbox": {
           "style": "dark"
          }
         }
        },
        "xaxis": {
         "anchor": "y",
         "domain": [
          0.0,
          1.0
         ],
         "title": {
          "text": "x"
         }
        },
        "yaxis": {
         "anchor": "x",
         "domain": [
          0.0,
          1.0
         ],
         "title": {
          "text": "y"
         }
        },
        "legend": {
         "tracegroupgap": 0
        },
        "margin": {
         "t": 60
        },
        "shapes": [
         {
          "type": "line",
          "x0": 6,
          "x1": 6,
          "xref": "x",
          "y0": 0,
          "y1": 1,
          "yref": "y domain"
         }
        ],
        "height": 450,
        "width": 900,
        "title": {
         "text": "Silhouette Score"
        }
       },
       "config": {
        "plotlyServerURL": "https://plot.ly"
       }
      },
      "text/html": "<div>                            <div id=\"811c9235-7f8a-469c-b759-fe1862dcf733\" class=\"plotly-graph-div\" style=\"height:450px; width:900px;\"></div>            <script type=\"text/javascript\">                require([\"plotly\"], function(Plotly) {                    window.PLOTLYENV=window.PLOTLYENV || {};                                    if (document.getElementById(\"811c9235-7f8a-469c-b759-fe1862dcf733\")) {                    Plotly.newPlot(                        \"811c9235-7f8a-469c-b759-fe1862dcf733\",                        [{\"hovertemplate\":\"x=%{x}<br>y=%{y}<extra></extra>\",\"legendgroup\":\"\",\"line\":{\"color\":\"#636efa\",\"dash\":\"solid\"},\"marker\":{\"symbol\":\"circle\"},\"mode\":\"lines\",\"name\":\"\",\"orientation\":\"v\",\"showlegend\":false,\"x\":[2,3,4,5,6],\"xaxis\":\"x\",\"y\":[0.4049495756626129,0.3872528374195099,0.4118041396141052,0.44679203629493713,0.4926483631134033],\"yaxis\":\"y\",\"type\":\"scatter\"}],                        {\"template\":{\"data\":{\"histogram2dcontour\":[{\"type\":\"histogram2dcontour\",\"colorbar\":{\"outlinewidth\":0,\"ticks\":\"\"},\"colorscale\":[[0.0,\"#0d0887\"],[0.1111111111111111,\"#46039f\"],[0.2222222222222222,\"#7201a8\"],[0.3333333333333333,\"#9c179e\"],[0.4444444444444444,\"#bd3786\"],[0.5555555555555556,\"#d8576b\"],[0.6666666666666666,\"#ed7953\"],[0.7777777777777778,\"#fb9f3a\"],[0.8888888888888888,\"#fdca26\"],[1.0,\"#f0f921\"]]}],\"choropleth\":[{\"type\":\"choropleth\",\"colorbar\":{\"outlinewidth\":0,\"ticks\":\"\"}}],\"histogram2d\":[{\"type\":\"histogram2d\",\"colorbar\":{\"outlinewidth\":0,\"ticks\":\"\"},\"colorscale\":[[0.0,\"#0d0887\"],[0.1111111111111111,\"#46039f\"],[0.2222222222222222,\"#7201a8\"],[0.3333333333333333,\"#9c179e\"],[0.4444444444444444,\"#bd3786\"],[0.5555555555555556,\"#d8576b\"],[0.6666666666666666,\"#ed7953\"],[0.7777777777777778,\"#fb9f3a\"],[0.8888888888888888,\"#fdca26\"],[1.0,\"#f0f921\"]]}],\"heatmap\":[{\"type\":\"heatmap\",\"colorbar\":{\"outlinewidth\":0,\"ticks\":\"\"},\"colorscale\":[[0.0,\"#0d0887\"],[0.1111111111111111,\"#46039f\"],[0.2222222222222222,\"#7201a8\"],[0.3333333333333333,\"#9c179e\"],[0.4444444444444444,\"#bd3786\"],[0.5555555555555556,\"#d8576b\"],[0.6666666666666666,\"#ed7953\"],[0.7777777777777778,\"#fb9f3a\"],[0.8888888888888888,\"#fdca26\"],[1.0,\"#f0f921\"]]}],\"heatmapgl\":[{\"type\":\"heatmapgl\",\"colorbar\":{\"outlinewidth\":0,\"ticks\":\"\"},\"colorscale\":[[0.0,\"#0d0887\"],[0.1111111111111111,\"#46039f\"],[0.2222222222222222,\"#7201a8\"],[0.3333333333333333,\"#9c179e\"],[0.4444444444444444,\"#bd3786\"],[0.5555555555555556,\"#d8576b\"],[0.6666666666666666,\"#ed7953\"],[0.7777777777777778,\"#fb9f3a\"],[0.8888888888888888,\"#fdca26\"],[1.0,\"#f0f921\"]]}],\"contourcarpet\":[{\"type\":\"contourcarpet\",\"colorbar\":{\"outlinewidth\":0,\"ticks\":\"\"}}],\"contour\":[{\"type\":\"contour\",\"colorbar\":{\"outlinewidth\":0,\"ticks\":\"\"},\"colorscale\":[[0.0,\"#0d0887\"],[0.1111111111111111,\"#46039f\"],[0.2222222222222222,\"#7201a8\"],[0.3333333333333333,\"#9c179e\"],[0.4444444444444444,\"#bd3786\"],[0.5555555555555556,\"#d8576b\"],[0.6666666666666666,\"#ed7953\"],[0.7777777777777778,\"#fb9f3a\"],[0.8888888888888888,\"#fdca26\"],[1.0,\"#f0f921\"]]}],\"surface\":[{\"type\":\"surface\",\"colorbar\":{\"outlinewidth\":0,\"ticks\":\"\"},\"colorscale\":[[0.0,\"#0d0887\"],[0.1111111111111111,\"#46039f\"],[0.2222222222222222,\"#7201a8\"],[0.3333333333333333,\"#9c179e\"],[0.4444444444444444,\"#bd3786\"],[0.5555555555555556,\"#d8576b\"],[0.6666666666666666,\"#ed7953\"],[0.7777777777777778,\"#fb9f3a\"],[0.8888888888888888,\"#fdca26\"],[1.0,\"#f0f921\"]]}],\"mesh3d\":[{\"type\":\"mesh3d\",\"colorbar\":{\"outlinewidth\":0,\"ticks\":\"\"}}],\"scatter\":[{\"marker\":{\"line\":{\"color\":\"#283442\"}},\"type\":\"scatter\"}],\"parcoords\":[{\"type\":\"parcoords\",\"line\":{\"colorbar\":{\"outlinewidth\":0,\"ticks\":\"\"}}}],\"scatterpolargl\":[{\"type\":\"scatterpolargl\",\"marker\":{\"colorbar\":{\"outlinewidth\":0,\"ticks\":\"\"}}}],\"bar\":[{\"error_x\":{\"color\":\"#f2f5fa\"},\"error_y\":{\"color\":\"#f2f5fa\"},\"marker\":{\"line\":{\"color\":\"rgb(17,17,17)\",\"width\":0.5},\"pattern\":{\"fillmode\":\"overlay\",\"size\":10,\"solidity\":0.2}},\"type\":\"bar\"}],\"scattergeo\":[{\"type\":\"scattergeo\",\"marker\":{\"colorbar\":{\"outlinewidth\":0,\"ticks\":\"\"}}}],\"scatterpolar\":[{\"type\":\"scatterpolar\",\"marker\":{\"colorbar\":{\"outlinewidth\":0,\"ticks\":\"\"}}}],\"histogram\":[{\"marker\":{\"pattern\":{\"fillmode\":\"overlay\",\"size\":10,\"solidity\":0.2}},\"type\":\"histogram\"}],\"scattergl\":[{\"marker\":{\"line\":{\"color\":\"#283442\"}},\"type\":\"scattergl\"}],\"scatter3d\":[{\"type\":\"scatter3d\",\"line\":{\"colorbar\":{\"outlinewidth\":0,\"ticks\":\"\"}},\"marker\":{\"colorbar\":{\"outlinewidth\":0,\"ticks\":\"\"}}}],\"scattermapbox\":[{\"type\":\"scattermapbox\",\"marker\":{\"colorbar\":{\"outlinewidth\":0,\"ticks\":\"\"}}}],\"scatterternary\":[{\"type\":\"scatterternary\",\"marker\":{\"colorbar\":{\"outlinewidth\":0,\"ticks\":\"\"}}}],\"scattercarpet\":[{\"type\":\"scattercarpet\",\"marker\":{\"colorbar\":{\"outlinewidth\":0,\"ticks\":\"\"}}}],\"carpet\":[{\"aaxis\":{\"endlinecolor\":\"#A2B1C6\",\"gridcolor\":\"#506784\",\"linecolor\":\"#506784\",\"minorgridcolor\":\"#506784\",\"startlinecolor\":\"#A2B1C6\"},\"baxis\":{\"endlinecolor\":\"#A2B1C6\",\"gridcolor\":\"#506784\",\"linecolor\":\"#506784\",\"minorgridcolor\":\"#506784\",\"startlinecolor\":\"#A2B1C6\"},\"type\":\"carpet\"}],\"table\":[{\"cells\":{\"fill\":{\"color\":\"#506784\"},\"line\":{\"color\":\"rgb(17,17,17)\"}},\"header\":{\"fill\":{\"color\":\"#2a3f5f\"},\"line\":{\"color\":\"rgb(17,17,17)\"}},\"type\":\"table\"}],\"barpolar\":[{\"marker\":{\"line\":{\"color\":\"rgb(17,17,17)\",\"width\":0.5},\"pattern\":{\"fillmode\":\"overlay\",\"size\":10,\"solidity\":0.2}},\"type\":\"barpolar\"}],\"pie\":[{\"automargin\":true,\"type\":\"pie\"}]},\"layout\":{\"autotypenumbers\":\"strict\",\"colorway\":[\"#636efa\",\"#EF553B\",\"#00cc96\",\"#ab63fa\",\"#FFA15A\",\"#19d3f3\",\"#FF6692\",\"#B6E880\",\"#FF97FF\",\"#FECB52\"],\"font\":{\"color\":\"#f2f5fa\"},\"hovermode\":\"closest\",\"hoverlabel\":{\"align\":\"left\"},\"paper_bgcolor\":\"rgb(17,17,17)\",\"plot_bgcolor\":\"rgb(17,17,17)\",\"polar\":{\"bgcolor\":\"rgb(17,17,17)\",\"angularaxis\":{\"gridcolor\":\"#506784\",\"linecolor\":\"#506784\",\"ticks\":\"\"},\"radialaxis\":{\"gridcolor\":\"#506784\",\"linecolor\":\"#506784\",\"ticks\":\"\"}},\"ternary\":{\"bgcolor\":\"rgb(17,17,17)\",\"aaxis\":{\"gridcolor\":\"#506784\",\"linecolor\":\"#506784\",\"ticks\":\"\"},\"baxis\":{\"gridcolor\":\"#506784\",\"linecolor\":\"#506784\",\"ticks\":\"\"},\"caxis\":{\"gridcolor\":\"#506784\",\"linecolor\":\"#506784\",\"ticks\":\"\"}},\"coloraxis\":{\"colorbar\":{\"outlinewidth\":0,\"ticks\":\"\"}},\"colorscale\":{\"sequential\":[[0.0,\"#0d0887\"],[0.1111111111111111,\"#46039f\"],[0.2222222222222222,\"#7201a8\"],[0.3333333333333333,\"#9c179e\"],[0.4444444444444444,\"#bd3786\"],[0.5555555555555556,\"#d8576b\"],[0.6666666666666666,\"#ed7953\"],[0.7777777777777778,\"#fb9f3a\"],[0.8888888888888888,\"#fdca26\"],[1.0,\"#f0f921\"]],\"sequentialminus\":[[0.0,\"#0d0887\"],[0.1111111111111111,\"#46039f\"],[0.2222222222222222,\"#7201a8\"],[0.3333333333333333,\"#9c179e\"],[0.4444444444444444,\"#bd3786\"],[0.5555555555555556,\"#d8576b\"],[0.6666666666666666,\"#ed7953\"],[0.7777777777777778,\"#fb9f3a\"],[0.8888888888888888,\"#fdca26\"],[1.0,\"#f0f921\"]],\"diverging\":[[0,\"#8e0152\"],[0.1,\"#c51b7d\"],[0.2,\"#de77ae\"],[0.3,\"#f1b6da\"],[0.4,\"#fde0ef\"],[0.5,\"#f7f7f7\"],[0.6,\"#e6f5d0\"],[0.7,\"#b8e186\"],[0.8,\"#7fbc41\"],[0.9,\"#4d9221\"],[1,\"#276419\"]]},\"xaxis\":{\"gridcolor\":\"#283442\",\"linecolor\":\"#506784\",\"ticks\":\"\",\"title\":{\"standoff\":15},\"zerolinecolor\":\"#283442\",\"automargin\":true,\"zerolinewidth\":2},\"yaxis\":{\"gridcolor\":\"#283442\",\"linecolor\":\"#506784\",\"ticks\":\"\",\"title\":{\"standoff\":15},\"zerolinecolor\":\"#283442\",\"automargin\":true,\"zerolinewidth\":2},\"scene\":{\"xaxis\":{\"backgroundcolor\":\"rgb(17,17,17)\",\"gridcolor\":\"#506784\",\"linecolor\":\"#506784\",\"showbackground\":true,\"ticks\":\"\",\"zerolinecolor\":\"#C8D4E3\",\"gridwidth\":2},\"yaxis\":{\"backgroundcolor\":\"rgb(17,17,17)\",\"gridcolor\":\"#506784\",\"linecolor\":\"#506784\",\"showbackground\":true,\"ticks\":\"\",\"zerolinecolor\":\"#C8D4E3\",\"gridwidth\":2},\"zaxis\":{\"backgroundcolor\":\"rgb(17,17,17)\",\"gridcolor\":\"#506784\",\"linecolor\":\"#506784\",\"showbackground\":true,\"ticks\":\"\",\"zerolinecolor\":\"#C8D4E3\",\"gridwidth\":2}},\"shapedefaults\":{\"line\":{\"color\":\"#f2f5fa\"}},\"annotationdefaults\":{\"arrowcolor\":\"#f2f5fa\",\"arrowhead\":0,\"arrowwidth\":1},\"geo\":{\"bgcolor\":\"rgb(17,17,17)\",\"landcolor\":\"rgb(17,17,17)\",\"subunitcolor\":\"#506784\",\"showland\":true,\"showlakes\":true,\"lakecolor\":\"rgb(17,17,17)\"},\"title\":{\"x\":0.05},\"updatemenudefaults\":{\"bgcolor\":\"#506784\",\"borderwidth\":0},\"sliderdefaults\":{\"bgcolor\":\"#C8D4E3\",\"borderwidth\":1,\"bordercolor\":\"rgb(17,17,17)\",\"tickwidth\":0},\"mapbox\":{\"style\":\"dark\"}}},\"xaxis\":{\"anchor\":\"y\",\"domain\":[0.0,1.0],\"title\":{\"text\":\"x\"}},\"yaxis\":{\"anchor\":\"x\",\"domain\":[0.0,1.0],\"title\":{\"text\":\"y\"}},\"legend\":{\"tracegroupgap\":0},\"margin\":{\"t\":60},\"shapes\":[{\"type\":\"line\",\"x0\":6,\"x1\":6,\"xref\":\"x\",\"y0\":0,\"y1\":1,\"yref\":\"y domain\"}],\"height\":450,\"width\":900,\"title\":{\"text\":\"Silhouette Score\"}},                        {\"responsive\": true}                    ).then(function(){\n                            \nvar gd = document.getElementById('811c9235-7f8a-469c-b759-fe1862dcf733');\nvar x = new MutationObserver(function (mutations, observer) {{\n        var display = window.getComputedStyle(gd).display;\n        if (!display || display === 'none') {{\n            console.log([gd, 'removed!']);\n            Plotly.purge(gd);\n            observer.disconnect();\n        }}\n}});\n\n// Listen for the removal of the full notebook cells\nvar notebookContainer = gd.closest('#notebook-container');\nif (notebookContainer) {{\n    x.observe(notebookContainer, {childList: true});\n}}\n\n// Listen for the clearing of the current output cell\nvar outputEl = gd.closest('.output');\nif (outputEl) {{\n    x.observe(outputEl, {childList: true});\n}}\n\n                        })                };                });            </script>        </div>"
     },
     "metadata": {},
     "output_type": "display_data"
    },
    {
     "data": {
      "application/vnd.plotly.v1+json": {
       "data": [
        {
         "hovertemplate": "color=cluster_5<br>x=%{x}<br>y=%{y}<br>text=%{text}<extra></extra>",
         "legendgroup": "cluster_5",
         "marker": {
          "color": "#2E91E5",
          "symbol": "circle"
         },
         "mode": "markers+text",
         "name": "cluster_5",
         "orientation": "v",
         "showlegend": true,
         "text": [
          "Spring",
          "IntelliJ",
          "Java",
          "Kotlin"
         ],
         "x": [
          -14.127604484558105,
          -17.219810485839844,
          -15.83897876739502,
          -10.825573921203613
         ],
         "xaxis": "x",
         "y": [
          -19.323482513427734,
          -21.82684898376465,
          -20.771116256713867,
          -16.329635620117188
         ],
         "yaxis": "y",
         "type": "scatter",
         "textposition": "top center"
        },
        {
         "hovertemplate": "color=cluster_0<br>x=%{x}<br>y=%{y}<br>text=%{text}<extra></extra>",
         "legendgroup": "cluster_0",
         "marker": {
          "color": "#E15F99",
          "symbol": "circle"
         },
         "mode": "markers+text",
         "name": "cluster_0",
         "orientation": "v",
         "showlegend": true,
         "text": [
          "PhpStorm",
          "Laravel",
          "Symfony",
          "MySQL",
          "Blazor",
          "ASP.NET",
          "Angular",
          "npm",
          "TypeScript",
          "React.js",
          "jQuery",
          "Angular.js"
         ],
         "x": [
          10.359578132629395,
          8.653096199035645,
          6.485471248626709,
          12.671195983886719,
          20.290607452392578,
          21.869754791259766,
          2.855760097503662,
          -1.4758098125457764,
          0.5732801556587219,
          -0.2217169851064682,
          5.552879810333252,
          2.8020312786102295
         ],
         "xaxis": "x",
         "y": [
          4.356271743774414,
          5.204298973083496,
          2.4262752532958984,
          5.8254265785217285,
          8.253159523010254,
          10.189278602600098,
          14.864882469177246,
          17.793474197387695,
          17.404003143310547,
          11.667768478393555,
          9.941764831542969,
          11.746757507324219
         ],
         "yaxis": "y",
         "type": "scatter",
         "textposition": "top center"
        },
        {
         "hovertemplate": "color=cluster_2<br>x=%{x}<br>y=%{y}<br>text=%{text}<extra></extra>",
         "legendgroup": "cluster_2",
         "marker": {
          "color": "#1CA71C",
          "symbol": "circle"
         },
         "mode": "markers+text",
         "name": "cluster_2",
         "orientation": "v",
         "showlegend": true,
         "text": [
          "Apache Kafka",
          "MongoDB",
          "Redis",
          "Cassandra",
          "GoLand",
          "PostgreSQL",
          "Docker",
          "Elasticsearch",
          "Kubernetes",
          "AWS",
          "Visual Studio Code",
          "Go"
         ],
         "x": [
          -11.844995498657227,
          -6.597428321838379,
          -17.79560661315918,
          -11.650634765625,
          -8.912848472595215,
          -20.20342254638672,
          -15.661835670471191,
          -15.070404052734375,
          -13.691153526306152,
          -20.7294864654541,
          -15.56779956817627,
          -11.267617225646973
         ],
         "xaxis": "x",
         "y": [
          5.150025844573975,
          1.2801231145858765,
          1.6821496486663818,
          1.9449557065963745,
          -6.585570335388184,
          4.314006328582764,
          10.404098510742188,
          0.946008026599884,
          7.834867477416992,
          6.579831123352051,
          13.041218757629395,
          -6.721855640411377
         ],
         "yaxis": "y",
         "type": "scatter",
         "textposition": "top center"
        },
        {
         "hovertemplate": "color=cluster_1<br>x=%{x}<br>y=%{y}<br>text=%{text}<extra></extra>",
         "legendgroup": "cluster_1",
         "marker": {
          "color": "#FB0D0D",
          "symbol": "circle"
         },
         "mode": "markers+text",
         "name": "cluster_1",
         "orientation": "v",
         "showlegend": true,
         "text": [
          "RubyMine",
          "Clojure",
          "Play Framework",
          "Erlang",
          "F#",
          "Rider",
          "Oracle",
          "Heroku",
          "IBM DB2",
          "DynamoDB",
          "Scala",
          "Sublime Text",
          "Django",
          "Groovy",
          "Eclipse"
         ],
         "x": [
          -0.7601824402809143,
          3.8356752395629883,
          0.19072911143302917,
          1.6818259954452515,
          5.2369537353515625,
          7.885555744171143,
          12.118492126464844,
          0.3389134109020233,
          9.515132904052734,
          -1.6434556245803833,
          -4.0179123878479,
          -0.14027751982212067,
          2.166886806488037,
          -4.19578742980957,
          9.688715934753418
         ],
         "xaxis": "x",
         "y": [
          -6.938581943511963,
          -8.134100914001465,
          -4.414557456970215,
          -5.148004055023193,
          -4.08110237121582,
          -3.701709270477295,
          -8.598579406738281,
          -10.759883880615234,
          -10.24227523803711,
          -2.0921013355255127,
          -4.665940284729004,
          1.9295809268951416,
          -1.737807035446167,
          -9.939040184020996,
          -12.900321960449219
         ],
         "yaxis": "y",
         "type": "scatter",
         "textposition": "top center"
        },
        {
         "hovertemplate": "color=cluster_3<br>x=%{x}<br>y=%{y}<br>text=%{text}<extra></extra>",
         "legendgroup": "cluster_3",
         "marker": {
          "color": "#DA16FF",
          "symbol": "circle"
         },
         "mode": "markers+text",
         "name": "cluster_3",
         "orientation": "v",
         "showlegend": true,
         "text": [
          "ASP.NET Core ",
          "SQL",
          ".NET",
          "C#",
          "Microsoft SQL Server"
         ],
         "x": [
          27.162694931030273,
          30.330881118774414,
          28.728290557861328,
          28.14165496826172,
          29.514291763305664
         ],
         "xaxis": "x",
         "y": [
          16.849000930786133,
          24.682117462158203,
          18.54982566833496,
          20.021453857421875,
          22.314395904541016
         ],
         "yaxis": "y",
         "type": "scatter",
         "textposition": "top center"
        },
        {
         "hovertemplate": "color=cluster_4<br>x=%{x}<br>y=%{y}<br>text=%{text}<extra></extra>",
         "legendgroup": "cluster_4",
         "marker": {
          "color": "#222A2A",
          "symbol": "circle"
         },
         "mode": "markers+text",
         "name": "cluster_4",
         "orientation": "v",
         "showlegend": true,
         "text": [
          "Ruby on Rails",
          "Elixir",
          "Phoenix",
          "Homebrew",
          "Ruby"
         ],
         "x": [
          4.004162788391113,
          2.5887362957000732,
          2.3576600551605225,
          3.2891507148742676,
          4.3307204246521
         ],
         "xaxis": "x",
         "y": [
          -27.493629455566406,
          -20.04292869567871,
          -18.51741600036621,
          -23.96735954284668,
          -28.996047973632812
         ],
         "yaxis": "y",
         "type": "scatter",
         "textposition": "top center"
        }
       ],
       "layout": {
        "template": {
         "data": {
          "histogram2dcontour": [
           {
            "type": "histogram2dcontour",
            "colorbar": {
             "outlinewidth": 0,
             "ticks": ""
            },
            "colorscale": [
             [
              0.0,
              "#0d0887"
             ],
             [
              0.1111111111111111,
              "#46039f"
             ],
             [
              0.2222222222222222,
              "#7201a8"
             ],
             [
              0.3333333333333333,
              "#9c179e"
             ],
             [
              0.4444444444444444,
              "#bd3786"
             ],
             [
              0.5555555555555556,
              "#d8576b"
             ],
             [
              0.6666666666666666,
              "#ed7953"
             ],
             [
              0.7777777777777778,
              "#fb9f3a"
             ],
             [
              0.8888888888888888,
              "#fdca26"
             ],
             [
              1.0,
              "#f0f921"
             ]
            ]
           }
          ],
          "choropleth": [
           {
            "type": "choropleth",
            "colorbar": {
             "outlinewidth": 0,
             "ticks": ""
            }
           }
          ],
          "histogram2d": [
           {
            "type": "histogram2d",
            "colorbar": {
             "outlinewidth": 0,
             "ticks": ""
            },
            "colorscale": [
             [
              0.0,
              "#0d0887"
             ],
             [
              0.1111111111111111,
              "#46039f"
             ],
             [
              0.2222222222222222,
              "#7201a8"
             ],
             [
              0.3333333333333333,
              "#9c179e"
             ],
             [
              0.4444444444444444,
              "#bd3786"
             ],
             [
              0.5555555555555556,
              "#d8576b"
             ],
             [
              0.6666666666666666,
              "#ed7953"
             ],
             [
              0.7777777777777778,
              "#fb9f3a"
             ],
             [
              0.8888888888888888,
              "#fdca26"
             ],
             [
              1.0,
              "#f0f921"
             ]
            ]
           }
          ],
          "heatmap": [
           {
            "type": "heatmap",
            "colorbar": {
             "outlinewidth": 0,
             "ticks": ""
            },
            "colorscale": [
             [
              0.0,
              "#0d0887"
             ],
             [
              0.1111111111111111,
              "#46039f"
             ],
             [
              0.2222222222222222,
              "#7201a8"
             ],
             [
              0.3333333333333333,
              "#9c179e"
             ],
             [
              0.4444444444444444,
              "#bd3786"
             ],
             [
              0.5555555555555556,
              "#d8576b"
             ],
             [
              0.6666666666666666,
              "#ed7953"
             ],
             [
              0.7777777777777778,
              "#fb9f3a"
             ],
             [
              0.8888888888888888,
              "#fdca26"
             ],
             [
              1.0,
              "#f0f921"
             ]
            ]
           }
          ],
          "heatmapgl": [
           {
            "type": "heatmapgl",
            "colorbar": {
             "outlinewidth": 0,
             "ticks": ""
            },
            "colorscale": [
             [
              0.0,
              "#0d0887"
             ],
             [
              0.1111111111111111,
              "#46039f"
             ],
             [
              0.2222222222222222,
              "#7201a8"
             ],
             [
              0.3333333333333333,
              "#9c179e"
             ],
             [
              0.4444444444444444,
              "#bd3786"
             ],
             [
              0.5555555555555556,
              "#d8576b"
             ],
             [
              0.6666666666666666,
              "#ed7953"
             ],
             [
              0.7777777777777778,
              "#fb9f3a"
             ],
             [
              0.8888888888888888,
              "#fdca26"
             ],
             [
              1.0,
              "#f0f921"
             ]
            ]
           }
          ],
          "contourcarpet": [
           {
            "type": "contourcarpet",
            "colorbar": {
             "outlinewidth": 0,
             "ticks": ""
            }
           }
          ],
          "contour": [
           {
            "type": "contour",
            "colorbar": {
             "outlinewidth": 0,
             "ticks": ""
            },
            "colorscale": [
             [
              0.0,
              "#0d0887"
             ],
             [
              0.1111111111111111,
              "#46039f"
             ],
             [
              0.2222222222222222,
              "#7201a8"
             ],
             [
              0.3333333333333333,
              "#9c179e"
             ],
             [
              0.4444444444444444,
              "#bd3786"
             ],
             [
              0.5555555555555556,
              "#d8576b"
             ],
             [
              0.6666666666666666,
              "#ed7953"
             ],
             [
              0.7777777777777778,
              "#fb9f3a"
             ],
             [
              0.8888888888888888,
              "#fdca26"
             ],
             [
              1.0,
              "#f0f921"
             ]
            ]
           }
          ],
          "surface": [
           {
            "type": "surface",
            "colorbar": {
             "outlinewidth": 0,
             "ticks": ""
            },
            "colorscale": [
             [
              0.0,
              "#0d0887"
             ],
             [
              0.1111111111111111,
              "#46039f"
             ],
             [
              0.2222222222222222,
              "#7201a8"
             ],
             [
              0.3333333333333333,
              "#9c179e"
             ],
             [
              0.4444444444444444,
              "#bd3786"
             ],
             [
              0.5555555555555556,
              "#d8576b"
             ],
             [
              0.6666666666666666,
              "#ed7953"
             ],
             [
              0.7777777777777778,
              "#fb9f3a"
             ],
             [
              0.8888888888888888,
              "#fdca26"
             ],
             [
              1.0,
              "#f0f921"
             ]
            ]
           }
          ],
          "mesh3d": [
           {
            "type": "mesh3d",
            "colorbar": {
             "outlinewidth": 0,
             "ticks": ""
            }
           }
          ],
          "scatter": [
           {
            "marker": {
             "line": {
              "color": "#283442"
             }
            },
            "type": "scatter"
           }
          ],
          "parcoords": [
           {
            "type": "parcoords",
            "line": {
             "colorbar": {
              "outlinewidth": 0,
              "ticks": ""
             }
            }
           }
          ],
          "scatterpolargl": [
           {
            "type": "scatterpolargl",
            "marker": {
             "colorbar": {
              "outlinewidth": 0,
              "ticks": ""
             }
            }
           }
          ],
          "bar": [
           {
            "error_x": {
             "color": "#f2f5fa"
            },
            "error_y": {
             "color": "#f2f5fa"
            },
            "marker": {
             "line": {
              "color": "rgb(17,17,17)",
              "width": 0.5
             },
             "pattern": {
              "fillmode": "overlay",
              "size": 10,
              "solidity": 0.2
             }
            },
            "type": "bar"
           }
          ],
          "scattergeo": [
           {
            "type": "scattergeo",
            "marker": {
             "colorbar": {
              "outlinewidth": 0,
              "ticks": ""
             }
            }
           }
          ],
          "scatterpolar": [
           {
            "type": "scatterpolar",
            "marker": {
             "colorbar": {
              "outlinewidth": 0,
              "ticks": ""
             }
            }
           }
          ],
          "histogram": [
           {
            "marker": {
             "pattern": {
              "fillmode": "overlay",
              "size": 10,
              "solidity": 0.2
             }
            },
            "type": "histogram"
           }
          ],
          "scattergl": [
           {
            "marker": {
             "line": {
              "color": "#283442"
             }
            },
            "type": "scattergl"
           }
          ],
          "scatter3d": [
           {
            "type": "scatter3d",
            "line": {
             "colorbar": {
              "outlinewidth": 0,
              "ticks": ""
             }
            },
            "marker": {
             "colorbar": {
              "outlinewidth": 0,
              "ticks": ""
             }
            }
           }
          ],
          "scattermapbox": [
           {
            "type": "scattermapbox",
            "marker": {
             "colorbar": {
              "outlinewidth": 0,
              "ticks": ""
             }
            }
           }
          ],
          "scatterternary": [
           {
            "type": "scatterternary",
            "marker": {
             "colorbar": {
              "outlinewidth": 0,
              "ticks": ""
             }
            }
           }
          ],
          "scattercarpet": [
           {
            "type": "scattercarpet",
            "marker": {
             "colorbar": {
              "outlinewidth": 0,
              "ticks": ""
             }
            }
           }
          ],
          "carpet": [
           {
            "aaxis": {
             "endlinecolor": "#A2B1C6",
             "gridcolor": "#506784",
             "linecolor": "#506784",
             "minorgridcolor": "#506784",
             "startlinecolor": "#A2B1C6"
            },
            "baxis": {
             "endlinecolor": "#A2B1C6",
             "gridcolor": "#506784",
             "linecolor": "#506784",
             "minorgridcolor": "#506784",
             "startlinecolor": "#A2B1C6"
            },
            "type": "carpet"
           }
          ],
          "table": [
           {
            "cells": {
             "fill": {
              "color": "#506784"
             },
             "line": {
              "color": "rgb(17,17,17)"
             }
            },
            "header": {
             "fill": {
              "color": "#2a3f5f"
             },
             "line": {
              "color": "rgb(17,17,17)"
             }
            },
            "type": "table"
           }
          ],
          "barpolar": [
           {
            "marker": {
             "line": {
              "color": "rgb(17,17,17)",
              "width": 0.5
             },
             "pattern": {
              "fillmode": "overlay",
              "size": 10,
              "solidity": 0.2
             }
            },
            "type": "barpolar"
           }
          ],
          "pie": [
           {
            "automargin": true,
            "type": "pie"
           }
          ]
         },
         "layout": {
          "autotypenumbers": "strict",
          "colorway": [
           "#636efa",
           "#EF553B",
           "#00cc96",
           "#ab63fa",
           "#FFA15A",
           "#19d3f3",
           "#FF6692",
           "#B6E880",
           "#FF97FF",
           "#FECB52"
          ],
          "font": {
           "color": "#f2f5fa"
          },
          "hovermode": "closest",
          "hoverlabel": {
           "align": "left"
          },
          "paper_bgcolor": "rgb(17,17,17)",
          "plot_bgcolor": "rgb(17,17,17)",
          "polar": {
           "bgcolor": "rgb(17,17,17)",
           "angularaxis": {
            "gridcolor": "#506784",
            "linecolor": "#506784",
            "ticks": ""
           },
           "radialaxis": {
            "gridcolor": "#506784",
            "linecolor": "#506784",
            "ticks": ""
           }
          },
          "ternary": {
           "bgcolor": "rgb(17,17,17)",
           "aaxis": {
            "gridcolor": "#506784",
            "linecolor": "#506784",
            "ticks": ""
           },
           "baxis": {
            "gridcolor": "#506784",
            "linecolor": "#506784",
            "ticks": ""
           },
           "caxis": {
            "gridcolor": "#506784",
            "linecolor": "#506784",
            "ticks": ""
           }
          },
          "coloraxis": {
           "colorbar": {
            "outlinewidth": 0,
            "ticks": ""
           }
          },
          "colorscale": {
           "sequential": [
            [
             0.0,
             "#0d0887"
            ],
            [
             0.1111111111111111,
             "#46039f"
            ],
            [
             0.2222222222222222,
             "#7201a8"
            ],
            [
             0.3333333333333333,
             "#9c179e"
            ],
            [
             0.4444444444444444,
             "#bd3786"
            ],
            [
             0.5555555555555556,
             "#d8576b"
            ],
            [
             0.6666666666666666,
             "#ed7953"
            ],
            [
             0.7777777777777778,
             "#fb9f3a"
            ],
            [
             0.8888888888888888,
             "#fdca26"
            ],
            [
             1.0,
             "#f0f921"
            ]
           ],
           "sequentialminus": [
            [
             0.0,
             "#0d0887"
            ],
            [
             0.1111111111111111,
             "#46039f"
            ],
            [
             0.2222222222222222,
             "#7201a8"
            ],
            [
             0.3333333333333333,
             "#9c179e"
            ],
            [
             0.4444444444444444,
             "#bd3786"
            ],
            [
             0.5555555555555556,
             "#d8576b"
            ],
            [
             0.6666666666666666,
             "#ed7953"
            ],
            [
             0.7777777777777778,
             "#fb9f3a"
            ],
            [
             0.8888888888888888,
             "#fdca26"
            ],
            [
             1.0,
             "#f0f921"
            ]
           ],
           "diverging": [
            [
             0,
             "#8e0152"
            ],
            [
             0.1,
             "#c51b7d"
            ],
            [
             0.2,
             "#de77ae"
            ],
            [
             0.3,
             "#f1b6da"
            ],
            [
             0.4,
             "#fde0ef"
            ],
            [
             0.5,
             "#f7f7f7"
            ],
            [
             0.6,
             "#e6f5d0"
            ],
            [
             0.7,
             "#b8e186"
            ],
            [
             0.8,
             "#7fbc41"
            ],
            [
             0.9,
             "#4d9221"
            ],
            [
             1,
             "#276419"
            ]
           ]
          },
          "xaxis": {
           "gridcolor": "#283442",
           "linecolor": "#506784",
           "ticks": "",
           "title": {
            "standoff": 15
           },
           "zerolinecolor": "#283442",
           "automargin": true,
           "zerolinewidth": 2
          },
          "yaxis": {
           "gridcolor": "#283442",
           "linecolor": "#506784",
           "ticks": "",
           "title": {
            "standoff": 15
           },
           "zerolinecolor": "#283442",
           "automargin": true,
           "zerolinewidth": 2
          },
          "scene": {
           "xaxis": {
            "backgroundcolor": "rgb(17,17,17)",
            "gridcolor": "#506784",
            "linecolor": "#506784",
            "showbackground": true,
            "ticks": "",
            "zerolinecolor": "#C8D4E3",
            "gridwidth": 2
           },
           "yaxis": {
            "backgroundcolor": "rgb(17,17,17)",
            "gridcolor": "#506784",
            "linecolor": "#506784",
            "showbackground": true,
            "ticks": "",
            "zerolinecolor": "#C8D4E3",
            "gridwidth": 2
           },
           "zaxis": {
            "backgroundcolor": "rgb(17,17,17)",
            "gridcolor": "#506784",
            "linecolor": "#506784",
            "showbackground": true,
            "ticks": "",
            "zerolinecolor": "#C8D4E3",
            "gridwidth": 2
           }
          },
          "shapedefaults": {
           "line": {
            "color": "#f2f5fa"
           }
          },
          "annotationdefaults": {
           "arrowcolor": "#f2f5fa",
           "arrowhead": 0,
           "arrowwidth": 1
          },
          "geo": {
           "bgcolor": "rgb(17,17,17)",
           "landcolor": "rgb(17,17,17)",
           "subunitcolor": "#506784",
           "showland": true,
           "showlakes": true,
           "lakecolor": "rgb(17,17,17)"
          },
          "title": {
           "x": 0.05
          },
          "updatemenudefaults": {
           "bgcolor": "#506784",
           "borderwidth": 0
          },
          "sliderdefaults": {
           "bgcolor": "#C8D4E3",
           "borderwidth": 1,
           "bordercolor": "rgb(17,17,17)",
           "tickwidth": 0
          },
          "mapbox": {
           "style": "dark"
          }
         }
        },
        "xaxis": {
         "anchor": "y",
         "domain": [
          0.0,
          1.0
         ],
         "title": {
          "text": "x"
         }
        },
        "yaxis": {
         "anchor": "x",
         "domain": [
          0.0,
          1.0
         ],
         "title": {
          "text": "y"
         }
        },
        "legend": {
         "title": {
          "text": "color"
         },
         "tracegroupgap": 0
        },
        "margin": {
         "t": 60
        },
        "title": {
         "text": "Clustering top skills for Developer_back-end"
        },
        "height": 900,
        "width": 1500
       },
       "config": {
        "plotlyServerURL": "https://plot.ly"
       }
      },
      "text/html": "<div>                            <div id=\"4a02a938-1083-460d-a440-83374db8e12e\" class=\"plotly-graph-div\" style=\"height:900px; width:1500px;\"></div>            <script type=\"text/javascript\">                require([\"plotly\"], function(Plotly) {                    window.PLOTLYENV=window.PLOTLYENV || {};                                    if (document.getElementById(\"4a02a938-1083-460d-a440-83374db8e12e\")) {                    Plotly.newPlot(                        \"4a02a938-1083-460d-a440-83374db8e12e\",                        [{\"hovertemplate\":\"color=cluster_5<br>x=%{x}<br>y=%{y}<br>text=%{text}<extra></extra>\",\"legendgroup\":\"cluster_5\",\"marker\":{\"color\":\"#2E91E5\",\"symbol\":\"circle\"},\"mode\":\"markers+text\",\"name\":\"cluster_5\",\"orientation\":\"v\",\"showlegend\":true,\"text\":[\"Spring\",\"IntelliJ\",\"Java\",\"Kotlin\"],\"x\":[-14.127604484558105,-17.219810485839844,-15.83897876739502,-10.825573921203613],\"xaxis\":\"x\",\"y\":[-19.323482513427734,-21.82684898376465,-20.771116256713867,-16.329635620117188],\"yaxis\":\"y\",\"type\":\"scatter\",\"textposition\":\"top center\"},{\"hovertemplate\":\"color=cluster_0<br>x=%{x}<br>y=%{y}<br>text=%{text}<extra></extra>\",\"legendgroup\":\"cluster_0\",\"marker\":{\"color\":\"#E15F99\",\"symbol\":\"circle\"},\"mode\":\"markers+text\",\"name\":\"cluster_0\",\"orientation\":\"v\",\"showlegend\":true,\"text\":[\"PhpStorm\",\"Laravel\",\"Symfony\",\"MySQL\",\"Blazor\",\"ASP.NET\",\"Angular\",\"npm\",\"TypeScript\",\"React.js\",\"jQuery\",\"Angular.js\"],\"x\":[10.359578132629395,8.653096199035645,6.485471248626709,12.671195983886719,20.290607452392578,21.869754791259766,2.855760097503662,-1.4758098125457764,0.5732801556587219,-0.2217169851064682,5.552879810333252,2.8020312786102295],\"xaxis\":\"x\",\"y\":[4.356271743774414,5.204298973083496,2.4262752532958984,5.8254265785217285,8.253159523010254,10.189278602600098,14.864882469177246,17.793474197387695,17.404003143310547,11.667768478393555,9.941764831542969,11.746757507324219],\"yaxis\":\"y\",\"type\":\"scatter\",\"textposition\":\"top center\"},{\"hovertemplate\":\"color=cluster_2<br>x=%{x}<br>y=%{y}<br>text=%{text}<extra></extra>\",\"legendgroup\":\"cluster_2\",\"marker\":{\"color\":\"#1CA71C\",\"symbol\":\"circle\"},\"mode\":\"markers+text\",\"name\":\"cluster_2\",\"orientation\":\"v\",\"showlegend\":true,\"text\":[\"Apache Kafka\",\"MongoDB\",\"Redis\",\"Cassandra\",\"GoLand\",\"PostgreSQL\",\"Docker\",\"Elasticsearch\",\"Kubernetes\",\"AWS\",\"Visual Studio Code\",\"Go\"],\"x\":[-11.844995498657227,-6.597428321838379,-17.79560661315918,-11.650634765625,-8.912848472595215,-20.20342254638672,-15.661835670471191,-15.070404052734375,-13.691153526306152,-20.7294864654541,-15.56779956817627,-11.267617225646973],\"xaxis\":\"x\",\"y\":[5.150025844573975,1.2801231145858765,1.6821496486663818,1.9449557065963745,-6.585570335388184,4.314006328582764,10.404098510742188,0.946008026599884,7.834867477416992,6.579831123352051,13.041218757629395,-6.721855640411377],\"yaxis\":\"y\",\"type\":\"scatter\",\"textposition\":\"top center\"},{\"hovertemplate\":\"color=cluster_1<br>x=%{x}<br>y=%{y}<br>text=%{text}<extra></extra>\",\"legendgroup\":\"cluster_1\",\"marker\":{\"color\":\"#FB0D0D\",\"symbol\":\"circle\"},\"mode\":\"markers+text\",\"name\":\"cluster_1\",\"orientation\":\"v\",\"showlegend\":true,\"text\":[\"RubyMine\",\"Clojure\",\"Play Framework\",\"Erlang\",\"F#\",\"Rider\",\"Oracle\",\"Heroku\",\"IBM DB2\",\"DynamoDB\",\"Scala\",\"Sublime Text\",\"Django\",\"Groovy\",\"Eclipse\"],\"x\":[-0.7601824402809143,3.8356752395629883,0.19072911143302917,1.6818259954452515,5.2369537353515625,7.885555744171143,12.118492126464844,0.3389134109020233,9.515132904052734,-1.6434556245803833,-4.0179123878479,-0.14027751982212067,2.166886806488037,-4.19578742980957,9.688715934753418],\"xaxis\":\"x\",\"y\":[-6.938581943511963,-8.134100914001465,-4.414557456970215,-5.148004055023193,-4.08110237121582,-3.701709270477295,-8.598579406738281,-10.759883880615234,-10.24227523803711,-2.0921013355255127,-4.665940284729004,1.9295809268951416,-1.737807035446167,-9.939040184020996,-12.900321960449219],\"yaxis\":\"y\",\"type\":\"scatter\",\"textposition\":\"top center\"},{\"hovertemplate\":\"color=cluster_3<br>x=%{x}<br>y=%{y}<br>text=%{text}<extra></extra>\",\"legendgroup\":\"cluster_3\",\"marker\":{\"color\":\"#DA16FF\",\"symbol\":\"circle\"},\"mode\":\"markers+text\",\"name\":\"cluster_3\",\"orientation\":\"v\",\"showlegend\":true,\"text\":[\"ASP.NET Core \",\"SQL\",\".NET\",\"C#\",\"Microsoft SQL Server\"],\"x\":[27.162694931030273,30.330881118774414,28.728290557861328,28.14165496826172,29.514291763305664],\"xaxis\":\"x\",\"y\":[16.849000930786133,24.682117462158203,18.54982566833496,20.021453857421875,22.314395904541016],\"yaxis\":\"y\",\"type\":\"scatter\",\"textposition\":\"top center\"},{\"hovertemplate\":\"color=cluster_4<br>x=%{x}<br>y=%{y}<br>text=%{text}<extra></extra>\",\"legendgroup\":\"cluster_4\",\"marker\":{\"color\":\"#222A2A\",\"symbol\":\"circle\"},\"mode\":\"markers+text\",\"name\":\"cluster_4\",\"orientation\":\"v\",\"showlegend\":true,\"text\":[\"Ruby on Rails\",\"Elixir\",\"Phoenix\",\"Homebrew\",\"Ruby\"],\"x\":[4.004162788391113,2.5887362957000732,2.3576600551605225,3.2891507148742676,4.3307204246521],\"xaxis\":\"x\",\"y\":[-27.493629455566406,-20.04292869567871,-18.51741600036621,-23.96735954284668,-28.996047973632812],\"yaxis\":\"y\",\"type\":\"scatter\",\"textposition\":\"top center\"}],                        {\"template\":{\"data\":{\"histogram2dcontour\":[{\"type\":\"histogram2dcontour\",\"colorbar\":{\"outlinewidth\":0,\"ticks\":\"\"},\"colorscale\":[[0.0,\"#0d0887\"],[0.1111111111111111,\"#46039f\"],[0.2222222222222222,\"#7201a8\"],[0.3333333333333333,\"#9c179e\"],[0.4444444444444444,\"#bd3786\"],[0.5555555555555556,\"#d8576b\"],[0.6666666666666666,\"#ed7953\"],[0.7777777777777778,\"#fb9f3a\"],[0.8888888888888888,\"#fdca26\"],[1.0,\"#f0f921\"]]}],\"choropleth\":[{\"type\":\"choropleth\",\"colorbar\":{\"outlinewidth\":0,\"ticks\":\"\"}}],\"histogram2d\":[{\"type\":\"histogram2d\",\"colorbar\":{\"outlinewidth\":0,\"ticks\":\"\"},\"colorscale\":[[0.0,\"#0d0887\"],[0.1111111111111111,\"#46039f\"],[0.2222222222222222,\"#7201a8\"],[0.3333333333333333,\"#9c179e\"],[0.4444444444444444,\"#bd3786\"],[0.5555555555555556,\"#d8576b\"],[0.6666666666666666,\"#ed7953\"],[0.7777777777777778,\"#fb9f3a\"],[0.8888888888888888,\"#fdca26\"],[1.0,\"#f0f921\"]]}],\"heatmap\":[{\"type\":\"heatmap\",\"colorbar\":{\"outlinewidth\":0,\"ticks\":\"\"},\"colorscale\":[[0.0,\"#0d0887\"],[0.1111111111111111,\"#46039f\"],[0.2222222222222222,\"#7201a8\"],[0.3333333333333333,\"#9c179e\"],[0.4444444444444444,\"#bd3786\"],[0.5555555555555556,\"#d8576b\"],[0.6666666666666666,\"#ed7953\"],[0.7777777777777778,\"#fb9f3a\"],[0.8888888888888888,\"#fdca26\"],[1.0,\"#f0f921\"]]}],\"heatmapgl\":[{\"type\":\"heatmapgl\",\"colorbar\":{\"outlinewidth\":0,\"ticks\":\"\"},\"colorscale\":[[0.0,\"#0d0887\"],[0.1111111111111111,\"#46039f\"],[0.2222222222222222,\"#7201a8\"],[0.3333333333333333,\"#9c179e\"],[0.4444444444444444,\"#bd3786\"],[0.5555555555555556,\"#d8576b\"],[0.6666666666666666,\"#ed7953\"],[0.7777777777777778,\"#fb9f3a\"],[0.8888888888888888,\"#fdca26\"],[1.0,\"#f0f921\"]]}],\"contourcarpet\":[{\"type\":\"contourcarpet\",\"colorbar\":{\"outlinewidth\":0,\"ticks\":\"\"}}],\"contour\":[{\"type\":\"contour\",\"colorbar\":{\"outlinewidth\":0,\"ticks\":\"\"},\"colorscale\":[[0.0,\"#0d0887\"],[0.1111111111111111,\"#46039f\"],[0.2222222222222222,\"#7201a8\"],[0.3333333333333333,\"#9c179e\"],[0.4444444444444444,\"#bd3786\"],[0.5555555555555556,\"#d8576b\"],[0.6666666666666666,\"#ed7953\"],[0.7777777777777778,\"#fb9f3a\"],[0.8888888888888888,\"#fdca26\"],[1.0,\"#f0f921\"]]}],\"surface\":[{\"type\":\"surface\",\"colorbar\":{\"outlinewidth\":0,\"ticks\":\"\"},\"colorscale\":[[0.0,\"#0d0887\"],[0.1111111111111111,\"#46039f\"],[0.2222222222222222,\"#7201a8\"],[0.3333333333333333,\"#9c179e\"],[0.4444444444444444,\"#bd3786\"],[0.5555555555555556,\"#d8576b\"],[0.6666666666666666,\"#ed7953\"],[0.7777777777777778,\"#fb9f3a\"],[0.8888888888888888,\"#fdca26\"],[1.0,\"#f0f921\"]]}],\"mesh3d\":[{\"type\":\"mesh3d\",\"colorbar\":{\"outlinewidth\":0,\"ticks\":\"\"}}],\"scatter\":[{\"marker\":{\"line\":{\"color\":\"#283442\"}},\"type\":\"scatter\"}],\"parcoords\":[{\"type\":\"parcoords\",\"line\":{\"colorbar\":{\"outlinewidth\":0,\"ticks\":\"\"}}}],\"scatterpolargl\":[{\"type\":\"scatterpolargl\",\"marker\":{\"colorbar\":{\"outlinewidth\":0,\"ticks\":\"\"}}}],\"bar\":[{\"error_x\":{\"color\":\"#f2f5fa\"},\"error_y\":{\"color\":\"#f2f5fa\"},\"marker\":{\"line\":{\"color\":\"rgb(17,17,17)\",\"width\":0.5},\"pattern\":{\"fillmode\":\"overlay\",\"size\":10,\"solidity\":0.2}},\"type\":\"bar\"}],\"scattergeo\":[{\"type\":\"scattergeo\",\"marker\":{\"colorbar\":{\"outlinewidth\":0,\"ticks\":\"\"}}}],\"scatterpolar\":[{\"type\":\"scatterpolar\",\"marker\":{\"colorbar\":{\"outlinewidth\":0,\"ticks\":\"\"}}}],\"histogram\":[{\"marker\":{\"pattern\":{\"fillmode\":\"overlay\",\"size\":10,\"solidity\":0.2}},\"type\":\"histogram\"}],\"scattergl\":[{\"marker\":{\"line\":{\"color\":\"#283442\"}},\"type\":\"scattergl\"}],\"scatter3d\":[{\"type\":\"scatter3d\",\"line\":{\"colorbar\":{\"outlinewidth\":0,\"ticks\":\"\"}},\"marker\":{\"colorbar\":{\"outlinewidth\":0,\"ticks\":\"\"}}}],\"scattermapbox\":[{\"type\":\"scattermapbox\",\"marker\":{\"colorbar\":{\"outlinewidth\":0,\"ticks\":\"\"}}}],\"scatterternary\":[{\"type\":\"scatterternary\",\"marker\":{\"colorbar\":{\"outlinewidth\":0,\"ticks\":\"\"}}}],\"scattercarpet\":[{\"type\":\"scattercarpet\",\"marker\":{\"colorbar\":{\"outlinewidth\":0,\"ticks\":\"\"}}}],\"carpet\":[{\"aaxis\":{\"endlinecolor\":\"#A2B1C6\",\"gridcolor\":\"#506784\",\"linecolor\":\"#506784\",\"minorgridcolor\":\"#506784\",\"startlinecolor\":\"#A2B1C6\"},\"baxis\":{\"endlinecolor\":\"#A2B1C6\",\"gridcolor\":\"#506784\",\"linecolor\":\"#506784\",\"minorgridcolor\":\"#506784\",\"startlinecolor\":\"#A2B1C6\"},\"type\":\"carpet\"}],\"table\":[{\"cells\":{\"fill\":{\"color\":\"#506784\"},\"line\":{\"color\":\"rgb(17,17,17)\"}},\"header\":{\"fill\":{\"color\":\"#2a3f5f\"},\"line\":{\"color\":\"rgb(17,17,17)\"}},\"type\":\"table\"}],\"barpolar\":[{\"marker\":{\"line\":{\"color\":\"rgb(17,17,17)\",\"width\":0.5},\"pattern\":{\"fillmode\":\"overlay\",\"size\":10,\"solidity\":0.2}},\"type\":\"barpolar\"}],\"pie\":[{\"automargin\":true,\"type\":\"pie\"}]},\"layout\":{\"autotypenumbers\":\"strict\",\"colorway\":[\"#636efa\",\"#EF553B\",\"#00cc96\",\"#ab63fa\",\"#FFA15A\",\"#19d3f3\",\"#FF6692\",\"#B6E880\",\"#FF97FF\",\"#FECB52\"],\"font\":{\"color\":\"#f2f5fa\"},\"hovermode\":\"closest\",\"hoverlabel\":{\"align\":\"left\"},\"paper_bgcolor\":\"rgb(17,17,17)\",\"plot_bgcolor\":\"rgb(17,17,17)\",\"polar\":{\"bgcolor\":\"rgb(17,17,17)\",\"angularaxis\":{\"gridcolor\":\"#506784\",\"linecolor\":\"#506784\",\"ticks\":\"\"},\"radialaxis\":{\"gridcolor\":\"#506784\",\"linecolor\":\"#506784\",\"ticks\":\"\"}},\"ternary\":{\"bgcolor\":\"rgb(17,17,17)\",\"aaxis\":{\"gridcolor\":\"#506784\",\"linecolor\":\"#506784\",\"ticks\":\"\"},\"baxis\":{\"gridcolor\":\"#506784\",\"linecolor\":\"#506784\",\"ticks\":\"\"},\"caxis\":{\"gridcolor\":\"#506784\",\"linecolor\":\"#506784\",\"ticks\":\"\"}},\"coloraxis\":{\"colorbar\":{\"outlinewidth\":0,\"ticks\":\"\"}},\"colorscale\":{\"sequential\":[[0.0,\"#0d0887\"],[0.1111111111111111,\"#46039f\"],[0.2222222222222222,\"#7201a8\"],[0.3333333333333333,\"#9c179e\"],[0.4444444444444444,\"#bd3786\"],[0.5555555555555556,\"#d8576b\"],[0.6666666666666666,\"#ed7953\"],[0.7777777777777778,\"#fb9f3a\"],[0.8888888888888888,\"#fdca26\"],[1.0,\"#f0f921\"]],\"sequentialminus\":[[0.0,\"#0d0887\"],[0.1111111111111111,\"#46039f\"],[0.2222222222222222,\"#7201a8\"],[0.3333333333333333,\"#9c179e\"],[0.4444444444444444,\"#bd3786\"],[0.5555555555555556,\"#d8576b\"],[0.6666666666666666,\"#ed7953\"],[0.7777777777777778,\"#fb9f3a\"],[0.8888888888888888,\"#fdca26\"],[1.0,\"#f0f921\"]],\"diverging\":[[0,\"#8e0152\"],[0.1,\"#c51b7d\"],[0.2,\"#de77ae\"],[0.3,\"#f1b6da\"],[0.4,\"#fde0ef\"],[0.5,\"#f7f7f7\"],[0.6,\"#e6f5d0\"],[0.7,\"#b8e186\"],[0.8,\"#7fbc41\"],[0.9,\"#4d9221\"],[1,\"#276419\"]]},\"xaxis\":{\"gridcolor\":\"#283442\",\"linecolor\":\"#506784\",\"ticks\":\"\",\"title\":{\"standoff\":15},\"zerolinecolor\":\"#283442\",\"automargin\":true,\"zerolinewidth\":2},\"yaxis\":{\"gridcolor\":\"#283442\",\"linecolor\":\"#506784\",\"ticks\":\"\",\"title\":{\"standoff\":15},\"zerolinecolor\":\"#283442\",\"automargin\":true,\"zerolinewidth\":2},\"scene\":{\"xaxis\":{\"backgroundcolor\":\"rgb(17,17,17)\",\"gridcolor\":\"#506784\",\"linecolor\":\"#506784\",\"showbackground\":true,\"ticks\":\"\",\"zerolinecolor\":\"#C8D4E3\",\"gridwidth\":2},\"yaxis\":{\"backgroundcolor\":\"rgb(17,17,17)\",\"gridcolor\":\"#506784\",\"linecolor\":\"#506784\",\"showbackground\":true,\"ticks\":\"\",\"zerolinecolor\":\"#C8D4E3\",\"gridwidth\":2},\"zaxis\":{\"backgroundcolor\":\"rgb(17,17,17)\",\"gridcolor\":\"#506784\",\"linecolor\":\"#506784\",\"showbackground\":true,\"ticks\":\"\",\"zerolinecolor\":\"#C8D4E3\",\"gridwidth\":2}},\"shapedefaults\":{\"line\":{\"color\":\"#f2f5fa\"}},\"annotationdefaults\":{\"arrowcolor\":\"#f2f5fa\",\"arrowhead\":0,\"arrowwidth\":1},\"geo\":{\"bgcolor\":\"rgb(17,17,17)\",\"landcolor\":\"rgb(17,17,17)\",\"subunitcolor\":\"#506784\",\"showland\":true,\"showlakes\":true,\"lakecolor\":\"rgb(17,17,17)\"},\"title\":{\"x\":0.05},\"updatemenudefaults\":{\"bgcolor\":\"#506784\",\"borderwidth\":0},\"sliderdefaults\":{\"bgcolor\":\"#C8D4E3\",\"borderwidth\":1,\"bordercolor\":\"rgb(17,17,17)\",\"tickwidth\":0},\"mapbox\":{\"style\":\"dark\"}}},\"xaxis\":{\"anchor\":\"y\",\"domain\":[0.0,1.0],\"title\":{\"text\":\"x\"}},\"yaxis\":{\"anchor\":\"x\",\"domain\":[0.0,1.0],\"title\":{\"text\":\"y\"}},\"legend\":{\"title\":{\"text\":\"color\"},\"tracegroupgap\":0},\"margin\":{\"t\":60},\"title\":{\"text\":\"Clustering top skills for Developer_back-end\"},\"height\":900,\"width\":1500},                        {\"responsive\": true}                    ).then(function(){\n                            \nvar gd = document.getElementById('4a02a938-1083-460d-a440-83374db8e12e');\nvar x = new MutationObserver(function (mutations, observer) {{\n        var display = window.getComputedStyle(gd).display;\n        if (!display || display === 'none') {{\n            console.log([gd, 'removed!']);\n            Plotly.purge(gd);\n            observer.disconnect();\n        }}\n}});\n\n// Listen for the removal of the full notebook cells\nvar notebookContainer = gd.closest('#notebook-container');\nif (notebookContainer) {{\n    x.observe(notebookContainer, {childList: true});\n}}\n\n// Listen for the clearing of the current output cell\nvar outputEl = gd.closest('.output');\nif (outputEl) {{\n    x.observe(outputEl, {childList: true});\n}}\n\n                        })                };                });            </script>        </div>"
     },
     "metadata": {},
     "output_type": "display_data"
    }
   ],
   "source": [
    "back_end_skills = choose_most_related_skills(split_roles[1], threshold=.5)\n",
    "back_end_tsne = reduce_dimensions(back_end_skills)\n",
    "best_k, best_labels = evaluate_cluster_model(back_end_tsne, range_clusters=range(2,7), plot = True)\n",
    "visualize_chosen_cluster_model(split_roles[1], back_end_tsne, best_labels)"
   ],
   "metadata": {
    "collapsed": false
   }
  },
  {
   "cell_type": "code",
   "execution_count": 54,
   "outputs": [
    {
     "name": "stdout",
     "output_type": "stream",
     "text": [
      "cluster_0 ['PhpStorm', 'Laravel', 'Symfony', 'MySQL', 'Blazor', 'ASP.NET', 'Angular', 'npm', 'TypeScript', 'React.js', 'jQuery', 'Angular.js']\n",
      "cluster_1 ['RubyMine', 'Clojure', 'Play Framework', 'Erlang', 'F#', 'Rider', 'Oracle', 'Heroku', 'IBM DB2', 'DynamoDB', 'Scala', 'Sublime Text', 'Django', 'Groovy', 'Eclipse']\n",
      "cluster_2 ['Apache Kafka', 'MongoDB', 'Redis', 'Cassandra', 'GoLand', 'PostgreSQL', 'Docker', 'Elasticsearch', 'Kubernetes', 'AWS', 'Visual Studio Code', 'Go']\n",
      "cluster_3 ['ASP.NET Core ', 'SQL', '.NET', 'C#', 'Microsoft SQL Server']\n",
      "cluster_4 ['Ruby on Rails', 'Elixir', 'Phoenix', 'Homebrew', 'Ruby']\n",
      "cluster_5 ['Spring', 'IntelliJ', 'Java', 'Kotlin']\n"
     ]
    }
   ],
   "source": [
    "for label in sorted(set(best_labels)):\n",
    "    print(label, list(back_end_tsne[best_labels==label].index))"
   ],
   "metadata": {
    "collapsed": false
   }
  },
  {
   "cell_type": "code",
   "execution_count": 54,
   "outputs": [],
   "source": [],
   "metadata": {
    "collapsed": false
   }
  },
  {
   "cell_type": "markdown",
   "source": [
    "# 3. Clustering similar skills"
   ],
   "metadata": {
    "collapsed": false
   }
  },
  {
   "cell_type": "code",
   "execution_count": 71,
   "outputs": [
    {
     "data": {
      "application/vnd.plotly.v1+json": {
       "data": [
        {
         "hovertemplate": "x=%{x}<br>y=%{y}<extra></extra>",
         "legendgroup": "",
         "line": {
          "color": "#636efa",
          "dash": "solid"
         },
         "marker": {
          "symbol": "circle"
         },
         "mode": "lines",
         "name": "",
         "orientation": "v",
         "showlegend": false,
         "x": [
          5,
          6,
          7,
          8,
          9,
          10,
          11,
          12,
          13,
          14,
          15,
          16,
          17,
          18,
          19,
          20,
          21,
          22,
          23,
          24,
          25,
          26,
          27,
          28,
          29
         ],
         "xaxis": "x",
         "y": [
          0.3357425034046173,
          0.3703036308288574,
          0.38045355677604675,
          0.39801064133644104,
          0.4201661944389343,
          0.43951302766799927,
          0.4308028221130371,
          0.43138647079467773,
          0.44349405169487,
          0.4277866780757904,
          0.4197395145893097,
          0.41497802734375,
          0.42181020975112915,
          0.42400047183036804,
          0.4234590232372284,
          0.4166466295719147,
          0.42877742648124695,
          0.42939597368240356,
          0.4218657612800598,
          0.4262937009334564,
          0.4287331700325012,
          0.4399023950099945,
          0.4519111216068268,
          0.45904892683029175,
          0.4662702977657318
         ],
         "yaxis": "y",
         "type": "scatter"
        }
       ],
       "layout": {
        "template": {
         "data": {
          "histogram2dcontour": [
           {
            "type": "histogram2dcontour",
            "colorbar": {
             "outlinewidth": 0,
             "ticks": ""
            },
            "colorscale": [
             [
              0.0,
              "#0d0887"
             ],
             [
              0.1111111111111111,
              "#46039f"
             ],
             [
              0.2222222222222222,
              "#7201a8"
             ],
             [
              0.3333333333333333,
              "#9c179e"
             ],
             [
              0.4444444444444444,
              "#bd3786"
             ],
             [
              0.5555555555555556,
              "#d8576b"
             ],
             [
              0.6666666666666666,
              "#ed7953"
             ],
             [
              0.7777777777777778,
              "#fb9f3a"
             ],
             [
              0.8888888888888888,
              "#fdca26"
             ],
             [
              1.0,
              "#f0f921"
             ]
            ]
           }
          ],
          "choropleth": [
           {
            "type": "choropleth",
            "colorbar": {
             "outlinewidth": 0,
             "ticks": ""
            }
           }
          ],
          "histogram2d": [
           {
            "type": "histogram2d",
            "colorbar": {
             "outlinewidth": 0,
             "ticks": ""
            },
            "colorscale": [
             [
              0.0,
              "#0d0887"
             ],
             [
              0.1111111111111111,
              "#46039f"
             ],
             [
              0.2222222222222222,
              "#7201a8"
             ],
             [
              0.3333333333333333,
              "#9c179e"
             ],
             [
              0.4444444444444444,
              "#bd3786"
             ],
             [
              0.5555555555555556,
              "#d8576b"
             ],
             [
              0.6666666666666666,
              "#ed7953"
             ],
             [
              0.7777777777777778,
              "#fb9f3a"
             ],
             [
              0.8888888888888888,
              "#fdca26"
             ],
             [
              1.0,
              "#f0f921"
             ]
            ]
           }
          ],
          "heatmap": [
           {
            "type": "heatmap",
            "colorbar": {
             "outlinewidth": 0,
             "ticks": ""
            },
            "colorscale": [
             [
              0.0,
              "#0d0887"
             ],
             [
              0.1111111111111111,
              "#46039f"
             ],
             [
              0.2222222222222222,
              "#7201a8"
             ],
             [
              0.3333333333333333,
              "#9c179e"
             ],
             [
              0.4444444444444444,
              "#bd3786"
             ],
             [
              0.5555555555555556,
              "#d8576b"
             ],
             [
              0.6666666666666666,
              "#ed7953"
             ],
             [
              0.7777777777777778,
              "#fb9f3a"
             ],
             [
              0.8888888888888888,
              "#fdca26"
             ],
             [
              1.0,
              "#f0f921"
             ]
            ]
           }
          ],
          "heatmapgl": [
           {
            "type": "heatmapgl",
            "colorbar": {
             "outlinewidth": 0,
             "ticks": ""
            },
            "colorscale": [
             [
              0.0,
              "#0d0887"
             ],
             [
              0.1111111111111111,
              "#46039f"
             ],
             [
              0.2222222222222222,
              "#7201a8"
             ],
             [
              0.3333333333333333,
              "#9c179e"
             ],
             [
              0.4444444444444444,
              "#bd3786"
             ],
             [
              0.5555555555555556,
              "#d8576b"
             ],
             [
              0.6666666666666666,
              "#ed7953"
             ],
             [
              0.7777777777777778,
              "#fb9f3a"
             ],
             [
              0.8888888888888888,
              "#fdca26"
             ],
             [
              1.0,
              "#f0f921"
             ]
            ]
           }
          ],
          "contourcarpet": [
           {
            "type": "contourcarpet",
            "colorbar": {
             "outlinewidth": 0,
             "ticks": ""
            }
           }
          ],
          "contour": [
           {
            "type": "contour",
            "colorbar": {
             "outlinewidth": 0,
             "ticks": ""
            },
            "colorscale": [
             [
              0.0,
              "#0d0887"
             ],
             [
              0.1111111111111111,
              "#46039f"
             ],
             [
              0.2222222222222222,
              "#7201a8"
             ],
             [
              0.3333333333333333,
              "#9c179e"
             ],
             [
              0.4444444444444444,
              "#bd3786"
             ],
             [
              0.5555555555555556,
              "#d8576b"
             ],
             [
              0.6666666666666666,
              "#ed7953"
             ],
             [
              0.7777777777777778,
              "#fb9f3a"
             ],
             [
              0.8888888888888888,
              "#fdca26"
             ],
             [
              1.0,
              "#f0f921"
             ]
            ]
           }
          ],
          "surface": [
           {
            "type": "surface",
            "colorbar": {
             "outlinewidth": 0,
             "ticks": ""
            },
            "colorscale": [
             [
              0.0,
              "#0d0887"
             ],
             [
              0.1111111111111111,
              "#46039f"
             ],
             [
              0.2222222222222222,
              "#7201a8"
             ],
             [
              0.3333333333333333,
              "#9c179e"
             ],
             [
              0.4444444444444444,
              "#bd3786"
             ],
             [
              0.5555555555555556,
              "#d8576b"
             ],
             [
              0.6666666666666666,
              "#ed7953"
             ],
             [
              0.7777777777777778,
              "#fb9f3a"
             ],
             [
              0.8888888888888888,
              "#fdca26"
             ],
             [
              1.0,
              "#f0f921"
             ]
            ]
           }
          ],
          "mesh3d": [
           {
            "type": "mesh3d",
            "colorbar": {
             "outlinewidth": 0,
             "ticks": ""
            }
           }
          ],
          "scatter": [
           {
            "marker": {
             "line": {
              "color": "#283442"
             }
            },
            "type": "scatter"
           }
          ],
          "parcoords": [
           {
            "type": "parcoords",
            "line": {
             "colorbar": {
              "outlinewidth": 0,
              "ticks": ""
             }
            }
           }
          ],
          "scatterpolargl": [
           {
            "type": "scatterpolargl",
            "marker": {
             "colorbar": {
              "outlinewidth": 0,
              "ticks": ""
             }
            }
           }
          ],
          "bar": [
           {
            "error_x": {
             "color": "#f2f5fa"
            },
            "error_y": {
             "color": "#f2f5fa"
            },
            "marker": {
             "line": {
              "color": "rgb(17,17,17)",
              "width": 0.5
             },
             "pattern": {
              "fillmode": "overlay",
              "size": 10,
              "solidity": 0.2
             }
            },
            "type": "bar"
           }
          ],
          "scattergeo": [
           {
            "type": "scattergeo",
            "marker": {
             "colorbar": {
              "outlinewidth": 0,
              "ticks": ""
             }
            }
           }
          ],
          "scatterpolar": [
           {
            "type": "scatterpolar",
            "marker": {
             "colorbar": {
              "outlinewidth": 0,
              "ticks": ""
             }
            }
           }
          ],
          "histogram": [
           {
            "marker": {
             "pattern": {
              "fillmode": "overlay",
              "size": 10,
              "solidity": 0.2
             }
            },
            "type": "histogram"
           }
          ],
          "scattergl": [
           {
            "marker": {
             "line": {
              "color": "#283442"
             }
            },
            "type": "scattergl"
           }
          ],
          "scatter3d": [
           {
            "type": "scatter3d",
            "line": {
             "colorbar": {
              "outlinewidth": 0,
              "ticks": ""
             }
            },
            "marker": {
             "colorbar": {
              "outlinewidth": 0,
              "ticks": ""
             }
            }
           }
          ],
          "scattermapbox": [
           {
            "type": "scattermapbox",
            "marker": {
             "colorbar": {
              "outlinewidth": 0,
              "ticks": ""
             }
            }
           }
          ],
          "scatterternary": [
           {
            "type": "scatterternary",
            "marker": {
             "colorbar": {
              "outlinewidth": 0,
              "ticks": ""
             }
            }
           }
          ],
          "scattercarpet": [
           {
            "type": "scattercarpet",
            "marker": {
             "colorbar": {
              "outlinewidth": 0,
              "ticks": ""
             }
            }
           }
          ],
          "carpet": [
           {
            "aaxis": {
             "endlinecolor": "#A2B1C6",
             "gridcolor": "#506784",
             "linecolor": "#506784",
             "minorgridcolor": "#506784",
             "startlinecolor": "#A2B1C6"
            },
            "baxis": {
             "endlinecolor": "#A2B1C6",
             "gridcolor": "#506784",
             "linecolor": "#506784",
             "minorgridcolor": "#506784",
             "startlinecolor": "#A2B1C6"
            },
            "type": "carpet"
           }
          ],
          "table": [
           {
            "cells": {
             "fill": {
              "color": "#506784"
             },
             "line": {
              "color": "rgb(17,17,17)"
             }
            },
            "header": {
             "fill": {
              "color": "#2a3f5f"
             },
             "line": {
              "color": "rgb(17,17,17)"
             }
            },
            "type": "table"
           }
          ],
          "barpolar": [
           {
            "marker": {
             "line": {
              "color": "rgb(17,17,17)",
              "width": 0.5
             },
             "pattern": {
              "fillmode": "overlay",
              "size": 10,
              "solidity": 0.2
             }
            },
            "type": "barpolar"
           }
          ],
          "pie": [
           {
            "automargin": true,
            "type": "pie"
           }
          ]
         },
         "layout": {
          "autotypenumbers": "strict",
          "colorway": [
           "#636efa",
           "#EF553B",
           "#00cc96",
           "#ab63fa",
           "#FFA15A",
           "#19d3f3",
           "#FF6692",
           "#B6E880",
           "#FF97FF",
           "#FECB52"
          ],
          "font": {
           "color": "#f2f5fa"
          },
          "hovermode": "closest",
          "hoverlabel": {
           "align": "left"
          },
          "paper_bgcolor": "rgb(17,17,17)",
          "plot_bgcolor": "rgb(17,17,17)",
          "polar": {
           "bgcolor": "rgb(17,17,17)",
           "angularaxis": {
            "gridcolor": "#506784",
            "linecolor": "#506784",
            "ticks": ""
           },
           "radialaxis": {
            "gridcolor": "#506784",
            "linecolor": "#506784",
            "ticks": ""
           }
          },
          "ternary": {
           "bgcolor": "rgb(17,17,17)",
           "aaxis": {
            "gridcolor": "#506784",
            "linecolor": "#506784",
            "ticks": ""
           },
           "baxis": {
            "gridcolor": "#506784",
            "linecolor": "#506784",
            "ticks": ""
           },
           "caxis": {
            "gridcolor": "#506784",
            "linecolor": "#506784",
            "ticks": ""
           }
          },
          "coloraxis": {
           "colorbar": {
            "outlinewidth": 0,
            "ticks": ""
           }
          },
          "colorscale": {
           "sequential": [
            [
             0.0,
             "#0d0887"
            ],
            [
             0.1111111111111111,
             "#46039f"
            ],
            [
             0.2222222222222222,
             "#7201a8"
            ],
            [
             0.3333333333333333,
             "#9c179e"
            ],
            [
             0.4444444444444444,
             "#bd3786"
            ],
            [
             0.5555555555555556,
             "#d8576b"
            ],
            [
             0.6666666666666666,
             "#ed7953"
            ],
            [
             0.7777777777777778,
             "#fb9f3a"
            ],
            [
             0.8888888888888888,
             "#fdca26"
            ],
            [
             1.0,
             "#f0f921"
            ]
           ],
           "sequentialminus": [
            [
             0.0,
             "#0d0887"
            ],
            [
             0.1111111111111111,
             "#46039f"
            ],
            [
             0.2222222222222222,
             "#7201a8"
            ],
            [
             0.3333333333333333,
             "#9c179e"
            ],
            [
             0.4444444444444444,
             "#bd3786"
            ],
            [
             0.5555555555555556,
             "#d8576b"
            ],
            [
             0.6666666666666666,
             "#ed7953"
            ],
            [
             0.7777777777777778,
             "#fb9f3a"
            ],
            [
             0.8888888888888888,
             "#fdca26"
            ],
            [
             1.0,
             "#f0f921"
            ]
           ],
           "diverging": [
            [
             0,
             "#8e0152"
            ],
            [
             0.1,
             "#c51b7d"
            ],
            [
             0.2,
             "#de77ae"
            ],
            [
             0.3,
             "#f1b6da"
            ],
            [
             0.4,
             "#fde0ef"
            ],
            [
             0.5,
             "#f7f7f7"
            ],
            [
             0.6,
             "#e6f5d0"
            ],
            [
             0.7,
             "#b8e186"
            ],
            [
             0.8,
             "#7fbc41"
            ],
            [
             0.9,
             "#4d9221"
            ],
            [
             1,
             "#276419"
            ]
           ]
          },
          "xaxis": {
           "gridcolor": "#283442",
           "linecolor": "#506784",
           "ticks": "",
           "title": {
            "standoff": 15
           },
           "zerolinecolor": "#283442",
           "automargin": true,
           "zerolinewidth": 2
          },
          "yaxis": {
           "gridcolor": "#283442",
           "linecolor": "#506784",
           "ticks": "",
           "title": {
            "standoff": 15
           },
           "zerolinecolor": "#283442",
           "automargin": true,
           "zerolinewidth": 2
          },
          "scene": {
           "xaxis": {
            "backgroundcolor": "rgb(17,17,17)",
            "gridcolor": "#506784",
            "linecolor": "#506784",
            "showbackground": true,
            "ticks": "",
            "zerolinecolor": "#C8D4E3",
            "gridwidth": 2
           },
           "yaxis": {
            "backgroundcolor": "rgb(17,17,17)",
            "gridcolor": "#506784",
            "linecolor": "#506784",
            "showbackground": true,
            "ticks": "",
            "zerolinecolor": "#C8D4E3",
            "gridwidth": 2
           },
           "zaxis": {
            "backgroundcolor": "rgb(17,17,17)",
            "gridcolor": "#506784",
            "linecolor": "#506784",
            "showbackground": true,
            "ticks": "",
            "zerolinecolor": "#C8D4E3",
            "gridwidth": 2
           }
          },
          "shapedefaults": {
           "line": {
            "color": "#f2f5fa"
           }
          },
          "annotationdefaults": {
           "arrowcolor": "#f2f5fa",
           "arrowhead": 0,
           "arrowwidth": 1
          },
          "geo": {
           "bgcolor": "rgb(17,17,17)",
           "landcolor": "rgb(17,17,17)",
           "subunitcolor": "#506784",
           "showland": true,
           "showlakes": true,
           "lakecolor": "rgb(17,17,17)"
          },
          "title": {
           "x": 0.05
          },
          "updatemenudefaults": {
           "bgcolor": "#506784",
           "borderwidth": 0
          },
          "sliderdefaults": {
           "bgcolor": "#C8D4E3",
           "borderwidth": 1,
           "bordercolor": "rgb(17,17,17)",
           "tickwidth": 0
          },
          "mapbox": {
           "style": "dark"
          }
         }
        },
        "xaxis": {
         "anchor": "y",
         "domain": [
          0.0,
          1.0
         ],
         "title": {
          "text": "x"
         }
        },
        "yaxis": {
         "anchor": "x",
         "domain": [
          0.0,
          1.0
         ],
         "title": {
          "text": "y"
         }
        },
        "legend": {
         "tracegroupgap": 0
        },
        "margin": {
         "t": 60
        },
        "shapes": [
         {
          "type": "line",
          "x0": 29,
          "x1": 29,
          "xref": "x",
          "y0": 0,
          "y1": 1,
          "yref": "y domain"
         }
        ],
        "height": 450,
        "width": 900,
        "title": {
         "text": "Silhouette Score"
        }
       },
       "config": {
        "plotlyServerURL": "https://plot.ly"
       }
      },
      "text/html": "<div>                            <div id=\"433a9f75-0ade-4e81-b825-cd4eab967355\" class=\"plotly-graph-div\" style=\"height:450px; width:900px;\"></div>            <script type=\"text/javascript\">                require([\"plotly\"], function(Plotly) {                    window.PLOTLYENV=window.PLOTLYENV || {};                                    if (document.getElementById(\"433a9f75-0ade-4e81-b825-cd4eab967355\")) {                    Plotly.newPlot(                        \"433a9f75-0ade-4e81-b825-cd4eab967355\",                        [{\"hovertemplate\":\"x=%{x}<br>y=%{y}<extra></extra>\",\"legendgroup\":\"\",\"line\":{\"color\":\"#636efa\",\"dash\":\"solid\"},\"marker\":{\"symbol\":\"circle\"},\"mode\":\"lines\",\"name\":\"\",\"orientation\":\"v\",\"showlegend\":false,\"x\":[5,6,7,8,9,10,11,12,13,14,15,16,17,18,19,20,21,22,23,24,25,26,27,28,29],\"xaxis\":\"x\",\"y\":[0.3357425034046173,0.3703036308288574,0.38045355677604675,0.39801064133644104,0.4201661944389343,0.43951302766799927,0.4308028221130371,0.43138647079467773,0.44349405169487,0.4277866780757904,0.4197395145893097,0.41497802734375,0.42181020975112915,0.42400047183036804,0.4234590232372284,0.4166466295719147,0.42877742648124695,0.42939597368240356,0.4218657612800598,0.4262937009334564,0.4287331700325012,0.4399023950099945,0.4519111216068268,0.45904892683029175,0.4662702977657318],\"yaxis\":\"y\",\"type\":\"scatter\"}],                        {\"template\":{\"data\":{\"histogram2dcontour\":[{\"type\":\"histogram2dcontour\",\"colorbar\":{\"outlinewidth\":0,\"ticks\":\"\"},\"colorscale\":[[0.0,\"#0d0887\"],[0.1111111111111111,\"#46039f\"],[0.2222222222222222,\"#7201a8\"],[0.3333333333333333,\"#9c179e\"],[0.4444444444444444,\"#bd3786\"],[0.5555555555555556,\"#d8576b\"],[0.6666666666666666,\"#ed7953\"],[0.7777777777777778,\"#fb9f3a\"],[0.8888888888888888,\"#fdca26\"],[1.0,\"#f0f921\"]]}],\"choropleth\":[{\"type\":\"choropleth\",\"colorbar\":{\"outlinewidth\":0,\"ticks\":\"\"}}],\"histogram2d\":[{\"type\":\"histogram2d\",\"colorbar\":{\"outlinewidth\":0,\"ticks\":\"\"},\"colorscale\":[[0.0,\"#0d0887\"],[0.1111111111111111,\"#46039f\"],[0.2222222222222222,\"#7201a8\"],[0.3333333333333333,\"#9c179e\"],[0.4444444444444444,\"#bd3786\"],[0.5555555555555556,\"#d8576b\"],[0.6666666666666666,\"#ed7953\"],[0.7777777777777778,\"#fb9f3a\"],[0.8888888888888888,\"#fdca26\"],[1.0,\"#f0f921\"]]}],\"heatmap\":[{\"type\":\"heatmap\",\"colorbar\":{\"outlinewidth\":0,\"ticks\":\"\"},\"colorscale\":[[0.0,\"#0d0887\"],[0.1111111111111111,\"#46039f\"],[0.2222222222222222,\"#7201a8\"],[0.3333333333333333,\"#9c179e\"],[0.4444444444444444,\"#bd3786\"],[0.5555555555555556,\"#d8576b\"],[0.6666666666666666,\"#ed7953\"],[0.7777777777777778,\"#fb9f3a\"],[0.8888888888888888,\"#fdca26\"],[1.0,\"#f0f921\"]]}],\"heatmapgl\":[{\"type\":\"heatmapgl\",\"colorbar\":{\"outlinewidth\":0,\"ticks\":\"\"},\"colorscale\":[[0.0,\"#0d0887\"],[0.1111111111111111,\"#46039f\"],[0.2222222222222222,\"#7201a8\"],[0.3333333333333333,\"#9c179e\"],[0.4444444444444444,\"#bd3786\"],[0.5555555555555556,\"#d8576b\"],[0.6666666666666666,\"#ed7953\"],[0.7777777777777778,\"#fb9f3a\"],[0.8888888888888888,\"#fdca26\"],[1.0,\"#f0f921\"]]}],\"contourcarpet\":[{\"type\":\"contourcarpet\",\"colorbar\":{\"outlinewidth\":0,\"ticks\":\"\"}}],\"contour\":[{\"type\":\"contour\",\"colorbar\":{\"outlinewidth\":0,\"ticks\":\"\"},\"colorscale\":[[0.0,\"#0d0887\"],[0.1111111111111111,\"#46039f\"],[0.2222222222222222,\"#7201a8\"],[0.3333333333333333,\"#9c179e\"],[0.4444444444444444,\"#bd3786\"],[0.5555555555555556,\"#d8576b\"],[0.6666666666666666,\"#ed7953\"],[0.7777777777777778,\"#fb9f3a\"],[0.8888888888888888,\"#fdca26\"],[1.0,\"#f0f921\"]]}],\"surface\":[{\"type\":\"surface\",\"colorbar\":{\"outlinewidth\":0,\"ticks\":\"\"},\"colorscale\":[[0.0,\"#0d0887\"],[0.1111111111111111,\"#46039f\"],[0.2222222222222222,\"#7201a8\"],[0.3333333333333333,\"#9c179e\"],[0.4444444444444444,\"#bd3786\"],[0.5555555555555556,\"#d8576b\"],[0.6666666666666666,\"#ed7953\"],[0.7777777777777778,\"#fb9f3a\"],[0.8888888888888888,\"#fdca26\"],[1.0,\"#f0f921\"]]}],\"mesh3d\":[{\"type\":\"mesh3d\",\"colorbar\":{\"outlinewidth\":0,\"ticks\":\"\"}}],\"scatter\":[{\"marker\":{\"line\":{\"color\":\"#283442\"}},\"type\":\"scatter\"}],\"parcoords\":[{\"type\":\"parcoords\",\"line\":{\"colorbar\":{\"outlinewidth\":0,\"ticks\":\"\"}}}],\"scatterpolargl\":[{\"type\":\"scatterpolargl\",\"marker\":{\"colorbar\":{\"outlinewidth\":0,\"ticks\":\"\"}}}],\"bar\":[{\"error_x\":{\"color\":\"#f2f5fa\"},\"error_y\":{\"color\":\"#f2f5fa\"},\"marker\":{\"line\":{\"color\":\"rgb(17,17,17)\",\"width\":0.5},\"pattern\":{\"fillmode\":\"overlay\",\"size\":10,\"solidity\":0.2}},\"type\":\"bar\"}],\"scattergeo\":[{\"type\":\"scattergeo\",\"marker\":{\"colorbar\":{\"outlinewidth\":0,\"ticks\":\"\"}}}],\"scatterpolar\":[{\"type\":\"scatterpolar\",\"marker\":{\"colorbar\":{\"outlinewidth\":0,\"ticks\":\"\"}}}],\"histogram\":[{\"marker\":{\"pattern\":{\"fillmode\":\"overlay\",\"size\":10,\"solidity\":0.2}},\"type\":\"histogram\"}],\"scattergl\":[{\"marker\":{\"line\":{\"color\":\"#283442\"}},\"type\":\"scattergl\"}],\"scatter3d\":[{\"type\":\"scatter3d\",\"line\":{\"colorbar\":{\"outlinewidth\":0,\"ticks\":\"\"}},\"marker\":{\"colorbar\":{\"outlinewidth\":0,\"ticks\":\"\"}}}],\"scattermapbox\":[{\"type\":\"scattermapbox\",\"marker\":{\"colorbar\":{\"outlinewidth\":0,\"ticks\":\"\"}}}],\"scatterternary\":[{\"type\":\"scatterternary\",\"marker\":{\"colorbar\":{\"outlinewidth\":0,\"ticks\":\"\"}}}],\"scattercarpet\":[{\"type\":\"scattercarpet\",\"marker\":{\"colorbar\":{\"outlinewidth\":0,\"ticks\":\"\"}}}],\"carpet\":[{\"aaxis\":{\"endlinecolor\":\"#A2B1C6\",\"gridcolor\":\"#506784\",\"linecolor\":\"#506784\",\"minorgridcolor\":\"#506784\",\"startlinecolor\":\"#A2B1C6\"},\"baxis\":{\"endlinecolor\":\"#A2B1C6\",\"gridcolor\":\"#506784\",\"linecolor\":\"#506784\",\"minorgridcolor\":\"#506784\",\"startlinecolor\":\"#A2B1C6\"},\"type\":\"carpet\"}],\"table\":[{\"cells\":{\"fill\":{\"color\":\"#506784\"},\"line\":{\"color\":\"rgb(17,17,17)\"}},\"header\":{\"fill\":{\"color\":\"#2a3f5f\"},\"line\":{\"color\":\"rgb(17,17,17)\"}},\"type\":\"table\"}],\"barpolar\":[{\"marker\":{\"line\":{\"color\":\"rgb(17,17,17)\",\"width\":0.5},\"pattern\":{\"fillmode\":\"overlay\",\"size\":10,\"solidity\":0.2}},\"type\":\"barpolar\"}],\"pie\":[{\"automargin\":true,\"type\":\"pie\"}]},\"layout\":{\"autotypenumbers\":\"strict\",\"colorway\":[\"#636efa\",\"#EF553B\",\"#00cc96\",\"#ab63fa\",\"#FFA15A\",\"#19d3f3\",\"#FF6692\",\"#B6E880\",\"#FF97FF\",\"#FECB52\"],\"font\":{\"color\":\"#f2f5fa\"},\"hovermode\":\"closest\",\"hoverlabel\":{\"align\":\"left\"},\"paper_bgcolor\":\"rgb(17,17,17)\",\"plot_bgcolor\":\"rgb(17,17,17)\",\"polar\":{\"bgcolor\":\"rgb(17,17,17)\",\"angularaxis\":{\"gridcolor\":\"#506784\",\"linecolor\":\"#506784\",\"ticks\":\"\"},\"radialaxis\":{\"gridcolor\":\"#506784\",\"linecolor\":\"#506784\",\"ticks\":\"\"}},\"ternary\":{\"bgcolor\":\"rgb(17,17,17)\",\"aaxis\":{\"gridcolor\":\"#506784\",\"linecolor\":\"#506784\",\"ticks\":\"\"},\"baxis\":{\"gridcolor\":\"#506784\",\"linecolor\":\"#506784\",\"ticks\":\"\"},\"caxis\":{\"gridcolor\":\"#506784\",\"linecolor\":\"#506784\",\"ticks\":\"\"}},\"coloraxis\":{\"colorbar\":{\"outlinewidth\":0,\"ticks\":\"\"}},\"colorscale\":{\"sequential\":[[0.0,\"#0d0887\"],[0.1111111111111111,\"#46039f\"],[0.2222222222222222,\"#7201a8\"],[0.3333333333333333,\"#9c179e\"],[0.4444444444444444,\"#bd3786\"],[0.5555555555555556,\"#d8576b\"],[0.6666666666666666,\"#ed7953\"],[0.7777777777777778,\"#fb9f3a\"],[0.8888888888888888,\"#fdca26\"],[1.0,\"#f0f921\"]],\"sequentialminus\":[[0.0,\"#0d0887\"],[0.1111111111111111,\"#46039f\"],[0.2222222222222222,\"#7201a8\"],[0.3333333333333333,\"#9c179e\"],[0.4444444444444444,\"#bd3786\"],[0.5555555555555556,\"#d8576b\"],[0.6666666666666666,\"#ed7953\"],[0.7777777777777778,\"#fb9f3a\"],[0.8888888888888888,\"#fdca26\"],[1.0,\"#f0f921\"]],\"diverging\":[[0,\"#8e0152\"],[0.1,\"#c51b7d\"],[0.2,\"#de77ae\"],[0.3,\"#f1b6da\"],[0.4,\"#fde0ef\"],[0.5,\"#f7f7f7\"],[0.6,\"#e6f5d0\"],[0.7,\"#b8e186\"],[0.8,\"#7fbc41\"],[0.9,\"#4d9221\"],[1,\"#276419\"]]},\"xaxis\":{\"gridcolor\":\"#283442\",\"linecolor\":\"#506784\",\"ticks\":\"\",\"title\":{\"standoff\":15},\"zerolinecolor\":\"#283442\",\"automargin\":true,\"zerolinewidth\":2},\"yaxis\":{\"gridcolor\":\"#283442\",\"linecolor\":\"#506784\",\"ticks\":\"\",\"title\":{\"standoff\":15},\"zerolinecolor\":\"#283442\",\"automargin\":true,\"zerolinewidth\":2},\"scene\":{\"xaxis\":{\"backgroundcolor\":\"rgb(17,17,17)\",\"gridcolor\":\"#506784\",\"linecolor\":\"#506784\",\"showbackground\":true,\"ticks\":\"\",\"zerolinecolor\":\"#C8D4E3\",\"gridwidth\":2},\"yaxis\":{\"backgroundcolor\":\"rgb(17,17,17)\",\"gridcolor\":\"#506784\",\"linecolor\":\"#506784\",\"showbackground\":true,\"ticks\":\"\",\"zerolinecolor\":\"#C8D4E3\",\"gridwidth\":2},\"zaxis\":{\"backgroundcolor\":\"rgb(17,17,17)\",\"gridcolor\":\"#506784\",\"linecolor\":\"#506784\",\"showbackground\":true,\"ticks\":\"\",\"zerolinecolor\":\"#C8D4E3\",\"gridwidth\":2}},\"shapedefaults\":{\"line\":{\"color\":\"#f2f5fa\"}},\"annotationdefaults\":{\"arrowcolor\":\"#f2f5fa\",\"arrowhead\":0,\"arrowwidth\":1},\"geo\":{\"bgcolor\":\"rgb(17,17,17)\",\"landcolor\":\"rgb(17,17,17)\",\"subunitcolor\":\"#506784\",\"showland\":true,\"showlakes\":true,\"lakecolor\":\"rgb(17,17,17)\"},\"title\":{\"x\":0.05},\"updatemenudefaults\":{\"bgcolor\":\"#506784\",\"borderwidth\":0},\"sliderdefaults\":{\"bgcolor\":\"#C8D4E3\",\"borderwidth\":1,\"bordercolor\":\"rgb(17,17,17)\",\"tickwidth\":0},\"mapbox\":{\"style\":\"dark\"}}},\"xaxis\":{\"anchor\":\"y\",\"domain\":[0.0,1.0],\"title\":{\"text\":\"x\"}},\"yaxis\":{\"anchor\":\"x\",\"domain\":[0.0,1.0],\"title\":{\"text\":\"y\"}},\"legend\":{\"tracegroupgap\":0},\"margin\":{\"t\":60},\"shapes\":[{\"type\":\"line\",\"x0\":29,\"x1\":29,\"xref\":\"x\",\"y0\":0,\"y1\":1,\"yref\":\"y domain\"}],\"height\":450,\"width\":900,\"title\":{\"text\":\"Silhouette Score\"}},                        {\"responsive\": true}                    ).then(function(){\n                            \nvar gd = document.getElementById('433a9f75-0ade-4e81-b825-cd4eab967355');\nvar x = new MutationObserver(function (mutations, observer) {{\n        var display = window.getComputedStyle(gd).display;\n        if (!display || display === 'none') {{\n            console.log([gd, 'removed!']);\n            Plotly.purge(gd);\n            observer.disconnect();\n        }}\n}});\n\n// Listen for the removal of the full notebook cells\nvar notebookContainer = gd.closest('#notebook-container');\nif (notebookContainer) {{\n    x.observe(notebookContainer, {childList: true});\n}}\n\n// Listen for the clearing of the current output cell\nvar outputEl = gd.closest('.output');\nif (outputEl) {{\n    x.observe(outputEl, {childList: true});\n}}\n\n                        })                };                });            </script>        </div>"
     },
     "metadata": {},
     "output_type": "display_data"
    },
    {
     "data": {
      "application/vnd.plotly.v1+json": {
       "data": [
        {
         "hovertemplate": "color=cluster_5<br>x=%{x}<br>y=%{y}<br>text=%{text}<extra></extra>",
         "legendgroup": "cluster_5",
         "marker": {
          "color": "#2E91E5",
          "symbol": "circle"
         },
         "mode": "markers+text",
         "name": "cluster_5",
         "orientation": "v",
         "showlegend": true,
         "text": [
          "APL",
          "Crystal",
          "SAS",
          "Solidity",
          "VBA",
          "Couchbase",
          "Colocation",
          "Linode",
          "Managed Hosting",
          "OVH",
          "VMware",
          "Flow",
          "Puppet",
          "CLion",
          "Webstorm"
         ],
         "x": [
          -1.2813019752502441,
          -0.4391781687736511,
          -2.038147449493408,
          1.2543741464614868,
          -2.450805425643921,
          0.2651704251766205,
          -0.6462065577507019,
          -2.772054672241211,
          -1.3944647312164307,
          0.23178865015506744,
          1.8471794128417969,
          0.24747268855571747,
          -0.4600696563720703,
          -2.1316890716552734,
          1.1941547393798828
         ],
         "xaxis": "x",
         "y": [
          -0.11392718553543091,
          0.46121954917907715,
          -2.753025770187378,
          0.8963648080825806,
          -3.7951395511627197,
          -2.856630563735962,
          -1.4549825191497803,
          0.5832134485244751,
          1.5843226909637451,
          2.4574356079101562,
          -4.266654968261719,
          -0.456218957901001,
          -5.081240653991699,
          -0.9505326151847839,
          -1.00319242477417
         ],
         "yaxis": "y",
         "type": "scatter",
         "textposition": "top center"
        },
        {
         "hovertemplate": "color=cluster_8<br>x=%{x}<br>y=%{y}<br>text=%{text}<extra></extra>",
         "legendgroup": "cluster_8",
         "marker": {
          "color": "#E15F99",
          "symbol": "circle"
         },
         "mode": "markers+text",
         "name": "cluster_8",
         "orientation": "v",
         "showlegend": true,
         "text": [
          "Assembly",
          "C",
          "C++",
          "Qt",
          "Qt Creator"
         ],
         "x": [
          -17.93572425842285,
          -18.811887741088867,
          -19.55118179321289,
          -15.340874671936035,
          -14.56356430053711
         ],
         "xaxis": "x",
         "y": [
          3.050510883331299,
          3.682398796081543,
          4.360454559326172,
          7.3929524421691895,
          7.063523292541504
         ],
         "yaxis": "y",
         "type": "scatter",
         "textposition": "top center"
        },
        {
         "hovertemplate": "color=cluster_17<br>x=%{x}<br>y=%{y}<br>text=%{text}<extra></extra>",
         "legendgroup": "cluster_17",
         "marker": {
          "color": "#1CA71C",
          "symbol": "circle"
         },
         "mode": "markers+text",
         "name": "cluster_17",
         "orientation": "v",
         "showlegend": true,
         "text": [
          "Bash/Shell",
          "Perl",
          "Vim"
         ],
         "x": [
          -11.334389686584473,
          -10.03454303741455,
          -10.680998802185059
         ],
         "xaxis": "x",
         "y": [
          -11.212303161621094,
          -9.383195877075195,
          -10.279607772827148
         ],
         "yaxis": "y",
         "type": "scatter",
         "textposition": "top center"
        },
        {
         "hovertemplate": "color=cluster_22<br>x=%{x}<br>y=%{y}<br>text=%{text}<extra></extra>",
         "legendgroup": "cluster_22",
         "marker": {
          "color": "#FB0D0D",
          "symbol": "circle"
         },
         "mode": "markers+text",
         "name": "cluster_22",
         "orientation": "v",
         "showlegend": true,
         "text": [
          "C#",
          "SQL",
          "Microsoft SQL Server",
          "Microsoft Azure",
          "ASP.NET Core ",
          ".NET",
          "Visual Studio"
         ],
         "x": [
          5.243317127227783,
          7.4427008628845215,
          6.269507884979248,
          3.4787917137145996,
          4.432333469390869,
          5.170923233032227,
          5.301737308502197
         ],
         "xaxis": "x",
         "y": [
          30.259145736694336,
          27.37322235107422,
          27.632583618164062,
          27.036256790161133,
          26.88875961303711,
          29.946407318115234,
          31.20962142944336
         ],
         "yaxis": "y",
         "type": "scatter",
         "textposition": "top center"
        },
        {
         "hovertemplate": "color=cluster_1<br>x=%{x}<br>y=%{y}<br>text=%{text}<extra></extra>",
         "legendgroup": "cluster_1",
         "marker": {
          "color": "#DA16FF",
          "symbol": "circle"
         },
         "mode": "markers+text",
         "name": "cluster_1",
         "orientation": "v",
         "showlegend": true,
         "text": [
          "COBOL",
          "F#",
          "PowerShell",
          "IBM DB2",
          "Eclipse",
          "NetBeans"
         ],
         "x": [
          -2.7667667865753174,
          -2.9467382431030273,
          -2.7864270210266113,
          -3.218843936920166,
          0.42149391770362854,
          0.8782619833946228
         ],
         "xaxis": "x",
         "y": [
          9.825767517089844,
          16.825307846069336,
          17.788637161254883,
          10.57994556427002,
          12.118797302246094,
          11.219503402709961
         ],
         "yaxis": "y",
         "type": "scatter",
         "textposition": "top center"
        },
        {
         "hovertemplate": "color=cluster_0<br>x=%{x}<br>y=%{y}<br>text=%{text}<extra></extra>",
         "legendgroup": "cluster_0",
         "marker": {
          "color": "#222A2A",
          "symbol": "circle"
         },
         "mode": "markers+text",
         "name": "cluster_0",
         "orientation": "v",
         "showlegend": true,
         "text": [
          "Clojure",
          "LISP",
          "Cloud Firestore",
          "Firebase Realtime Database",
          "Firebase",
          "Google Cloud",
          "Emacs"
         ],
         "x": [
          -8.375537872314453,
          -10.928047180175781,
          -14.972869873046875,
          -11.826891899108887,
          -13.334301948547363,
          -15.95791244506836,
          -11.778373718261719
         ],
         "xaxis": "x",
         "y": [
          0.5571336150169373,
          2.653707265853882,
          -3.3825831413269043,
          -3.2361886501312256,
          -3.4225125312805176,
          -3.466360569000244,
          2.643052577972412
         ],
         "yaxis": "y",
         "type": "scatter",
         "textposition": "top center"
        },
        {
         "hovertemplate": "color=cluster_19<br>x=%{x}<br>y=%{y}<br>text=%{text}<extra></extra>",
         "legendgroup": "cluster_19",
         "marker": {
          "color": "#B68100",
          "symbol": "circle"
         },
         "mode": "markers+text",
         "name": "cluster_19",
         "orientation": "v",
         "showlegend": true,
         "text": [
          "Dart",
          "Flutter",
          "Android Studio"
         ],
         "x": [
          -29.667861938476562,
          -29.56155776977539,
          -30.824953079223633
         ],
         "xaxis": "x",
         "y": [
          12.732516288757324,
          12.685664176940918,
          13.243342399597168
         ],
         "yaxis": "y",
         "type": "scatter",
         "textposition": "top center"
        },
        {
         "hovertemplate": "color=cluster_20<br>x=%{x}<br>y=%{y}<br>text=%{text}<extra></extra>",
         "legendgroup": "cluster_20",
         "marker": {
          "color": "#750D86",
          "symbol": "circle"
         },
         "mode": "markers+text",
         "name": "cluster_20",
         "orientation": "v",
         "showlegend": true,
         "text": [
          "Delphi",
          "RAD Studio (Delphi_C++ Builder)"
         ],
         "x": [
          -13.244747161865234,
          -13.244953155517578
         ],
         "xaxis": "x",
         "y": [
          26.966554641723633,
          26.9669189453125
         ],
         "yaxis": "y",
         "type": "scatter",
         "textposition": "top center"
        },
        {
         "hovertemplate": "color=cluster_3<br>x=%{x}<br>y=%{y}<br>text=%{text}<extra></extra>",
         "legendgroup": "cluster_3",
         "marker": {
          "color": "#EB663B",
          "symbol": "circle"
         },
         "mode": "markers+text",
         "name": "cluster_3",
         "orientation": "v",
         "showlegend": true,
         "text": [
          "Elixir",
          "Ruby",
          "Phoenix",
          "Ruby on Rails",
          "Homebrew"
         ],
         "x": [
          -32.10623550415039,
          -27.43616485595703,
          -32.21518325805664,
          -27.45998191833496,
          -31.612262725830078
         ],
         "xaxis": "x",
         "y": [
          -7.9521002769470215,
          -13.383102416992188,
          -7.688560485839844,
          -13.353028297424316,
          -9.147120475769043
         ],
         "yaxis": "y",
         "type": "scatter",
         "textposition": "top center"
        },
        {
         "hovertemplate": "color=cluster_23<br>x=%{x}<br>y=%{y}<br>text=%{text}<extra></extra>",
         "legendgroup": "cluster_23",
         "marker": {
          "color": "#511CFB",
          "symbol": "circle"
         },
         "mode": "markers+text",
         "name": "cluster_23",
         "orientation": "v",
         "showlegend": true,
         "text": [
          "Erlang",
          "Julia",
          "MATLAB",
          "RubyMine",
          "TextMate"
         ],
         "x": [
          -8.070855140686035,
          -4.855798721313477,
          -6.000751972198486,
          -7.05789041519165,
          -3.8561015129089355
         ],
         "xaxis": "x",
         "y": [
          -2.7630207538604736,
          -3.293123483657837,
          -0.9909661412239075,
          -5.633132457733154,
          -1.1935051679611206
         ],
         "yaxis": "y",
         "type": "scatter",
         "textposition": "top center"
        },
        {
         "hovertemplate": "color=cluster_9<br>x=%{x}<br>y=%{y}<br>text=%{text}<extra></extra>",
         "legendgroup": "cluster_9",
         "marker": {
          "color": "#00A08B",
          "symbol": "circle"
         },
         "mode": "markers+text",
         "name": "cluster_9",
         "orientation": "v",
         "showlegend": true,
         "text": [
          "Fortran",
          "Haskell",
          "Lua",
          "OCaml",
          "IBM Cloud or Watson",
          "GTK",
          "Neovim"
         ],
         "x": [
          -5.025211811065674,
          -7.17152738571167,
          -3.1423375606536865,
          -5.900030136108398,
          -1.31560480594635,
          -3.1899561882019043,
          -5.706761837005615
         ],
         "xaxis": "x",
         "y": [
          1.1808295249938965,
          3.1628897190093994,
          2.7042148113250732,
          3.104039430618286,
          3.961867332458496,
          5.858929634094238,
          4.5249857902526855
         ],
         "yaxis": "y",
         "type": "scatter",
         "textposition": "top center"
        },
        {
         "hovertemplate": "color=cluster_4<br>x=%{x}<br>y=%{y}<br>text=%{text}<extra></extra>",
         "legendgroup": "cluster_4",
         "marker": {
          "color": "#FB00D1",
          "symbol": "circle"
         },
         "mode": "markers+text",
         "name": "cluster_4",
         "orientation": "v",
         "showlegend": true,
         "text": [
          "Go",
          "Kotlin",
          "CouchDB",
          "Ansible",
          "Chef",
          "Pulumi",
          "Terraform",
          "GoLand"
         ],
         "x": [
          8.750568389892578,
          2.1287920475006104,
          4.508572578430176,
          3.1434106826782227,
          3.9995038509368896,
          6.90300178527832,
          6.577681064605713,
          8.11133861541748
         ],
         "xaxis": "x",
         "y": [
          -6.537375450134277,
          -6.872373580932617,
          -4.689465522766113,
          -10.953095436096191,
          -10.667393684387207,
          -10.107409477233887,
          -11.475825309753418,
          -5.92149543762207
         ],
         "yaxis": "y",
         "type": "scatter",
         "textposition": "top center"
        },
        {
         "hovertemplate": "color=cluster_14<br>x=%{x}<br>y=%{y}<br>text=%{text}<extra></extra>",
         "legendgroup": "cluster_14",
         "marker": {
          "color": "#FC0080",
          "symbol": "circle"
         },
         "mode": "markers+text",
         "name": "cluster_14",
         "orientation": "v",
         "showlegend": true,
         "text": [
          "Groovy",
          "Java",
          "Spring",
          "IntelliJ"
         ],
         "x": [
          4.5255608558654785,
          6.095369338989258,
          5.720332622528076,
          6.171018123626709
         ],
         "xaxis": "x",
         "y": [
          -21.67058753967285,
          -24.46919822692871,
          -22.800914764404297,
          -24.862468719482422
         ],
         "yaxis": "y",
         "type": "scatter",
         "textposition": "top center"
        },
        {
         "hovertemplate": "color=cluster_6<br>x=%{x}<br>y=%{y}<br>text=%{text}<extra></extra>",
         "legendgroup": "cluster_6",
         "marker": {
          "color": "#B2828D",
          "symbol": "circle"
         },
         "mode": "markers+text",
         "name": "cluster_6",
         "orientation": "v",
         "showlegend": true,
         "text": [
          "HTML/CSS",
          "JavaScript",
          "TypeScript",
          "Express",
          "Fastify",
          "Node.js",
          "npm",
          "Visual Studio Code"
         ],
         "x": [
          25.628801345825195,
          25.909961700439453,
          23.86272621154785,
          20.6735782623291,
          19.446577072143555,
          21.947494506835938,
          23.381380081176758,
          26.97542381286621
         ],
         "xaxis": "x",
         "y": [
          5.4675374031066895,
          5.156752586364746,
          2.468585968017578,
          0.34090712666511536,
          -0.2080986350774765,
          1.0367392301559448,
          2.068398952484131,
          4.33984375
         ],
         "yaxis": "y",
         "type": "scatter",
         "textposition": "top center"
        },
        {
         "hovertemplate": "color=cluster_16<br>x=%{x}<br>y=%{y}<br>text=%{text}<extra></extra>",
         "legendgroup": "cluster_16",
         "marker": {
          "color": "#6C7C32",
          "symbol": "circle"
         },
         "mode": "markers+text",
         "name": "cluster_16",
         "orientation": "v",
         "showlegend": true,
         "text": [
          "Objective-C",
          "Swift",
          "Xcode"
         ],
         "x": [
          -14.213151931762695,
          -14.867436408996582,
          -15.473554611206055
         ],
         "xaxis": "x",
         "y": [
          14.722004890441895,
          15.477143287658691,
          16.178874969482422
         ],
         "yaxis": "y",
         "type": "scatter",
         "textposition": "top center"
        },
        {
         "hovertemplate": "color=cluster_13<br>x=%{x}<br>y=%{y}<br>text=%{text}<extra></extra>",
         "legendgroup": "cluster_13",
         "marker": {
          "color": "#778AAE",
          "symbol": "circle"
         },
         "mode": "markers+text",
         "name": "cluster_13",
         "orientation": "v",
         "showlegend": true,
         "text": [
          "PHP",
          "MariaDB",
          "MySQL",
          "Drupal",
          "Laravel",
          "Symfony",
          "jQuery",
          "PhpStorm"
         ],
         "x": [
          8.586124420166016,
          11.972617149353027,
          8.7161226272583,
          13.462019920349121,
          6.491504192352295,
          10.090861320495605,
          14.429827690124512,
          9.173809051513672
         ],
         "xaxis": "x",
         "y": [
          13.527633666992188,
          11.452556610107422,
          14.576199531555176,
          10.583414077758789,
          10.845358848571777,
          11.51954174041748,
          10.221545219421387,
          12.239953994750977
         ],
         "yaxis": "y",
         "type": "scatter",
         "textposition": "top center"
        },
        {
         "hovertemplate": "color=cluster_18<br>x=%{x}<br>y=%{y}<br>text=%{text}<extra></extra>",
         "legendgroup": "cluster_18",
         "marker": {
          "color": "#862A16",
          "symbol": "circle"
         },
         "mode": "markers+text",
         "name": "cluster_18",
         "orientation": "v",
         "showlegend": true,
         "text": [
          "Python",
          "NumPy",
          "Pandas"
         ],
         "x": [
          -15.482775688171387,
          -14.999176025390625,
          -14.913312911987305
         ],
         "xaxis": "x",
         "y": [
          -29.880186080932617,
          -28.70270538330078,
          -28.488128662109375
         ],
         "yaxis": "y",
         "type": "scatter",
         "textposition": "top center"
        },
        {
         "hovertemplate": "color=cluster_27<br>x=%{x}<br>y=%{y}<br>text=%{text}<extra></extra>",
         "legendgroup": "cluster_27",
         "marker": {
          "color": "#A777F1",
          "symbol": "circle"
         },
         "mode": "markers+text",
         "name": "cluster_27",
         "orientation": "v",
         "showlegend": true,
         "text": [
          "R",
          "Tidyverse",
          "RStudio"
         ],
         "x": [
          -18.96647071838379,
          -17.33108139038086,
          -18.509939193725586
         ],
         "xaxis": "x",
         "y": [
          -11.288615226745605,
          -10.439078330993652,
          -11.050031661987305
         ],
         "yaxis": "y",
         "type": "scatter",
         "textposition": "top center"
        },
        {
         "hovertemplate": "color=cluster_26<br>x=%{x}<br>y=%{y}<br>text=%{text}<extra></extra>",
         "legendgroup": "cluster_26",
         "marker": {
          "color": "#620042",
          "symbol": "circle"
         },
         "mode": "markers+text",
         "name": "cluster_26",
         "orientation": "v",
         "showlegend": true,
         "text": [
          "Rust",
          "Deno",
          "Svelte"
         ],
         "x": [
          14.134134292602539,
          13.862910270690918,
          13.761236190795898
         ],
         "xaxis": "x",
         "y": [
          -4.3357319831848145,
          -3.3199305534362793,
          -2.137993335723877
         ],
         "yaxis": "y",
         "type": "scatter",
         "textposition": "top center"
        },
        {
         "hovertemplate": "color=cluster_15<br>x=%{x}<br>y=%{y}<br>text=%{text}<extra></extra>",
         "legendgroup": "cluster_15",
         "marker": {
          "color": "#1616A7",
          "symbol": "circle"
         },
         "mode": "markers+text",
         "name": "cluster_15",
         "orientation": "v",
         "showlegend": true,
         "text": [
          "Scala",
          "OpenStack",
          "Play Framework",
          "Apache Spark",
          "Hadoop",
          "Spyder"
         ],
         "x": [
          -5.1719970703125,
          -1.1051154136657715,
          -4.6546735763549805,
          -1.602310299873352,
          -1.3783416748046875,
          -3.7710464000701904
         ],
         "xaxis": "x",
         "y": [
          -9.968783378601074,
          -7.548088073730469,
          -9.242814064025879,
          -12.496299743652344,
          -11.65343952178955,
          -5.8070502281188965
         ],
         "yaxis": "y",
         "type": "scatter",
         "textposition": "top center"
        },
        {
         "hovertemplate": "color=cluster_7<br>x=%{x}<br>y=%{y}<br>text=%{text}<extra></extra>",
         "legendgroup": "cluster_7",
         "marker": {
          "color": "#DA60CA",
          "symbol": "circle"
         },
         "mode": "markers+text",
         "name": "cluster_7",
         "orientation": "v",
         "showlegend": true,
         "text": [
          "Cassandra",
          "DynamoDB",
          "Elasticsearch",
          "PostgreSQL",
          "Redis",
          "AWS",
          "Apache Kafka",
          "Docker",
          "Kubernetes"
         ],
         "x": [
          8.239849090576172,
          13.205389976501465,
          9.665101051330566,
          12.01018238067627,
          10.982855796813965,
          13.019796371459961,
          7.95784330368042,
          10.10439682006836,
          9.011629104614258
         ],
         "xaxis": "x",
         "y": [
          -18.2596378326416,
          -12.092281341552734,
          -18.983356475830078,
          -18.402894973754883,
          -18.924049377441406,
          -13.141881942749023,
          -16.944841384887695,
          -14.489812850952148,
          -14.920994758605957
         ],
         "yaxis": "y",
         "type": "scatter",
         "textposition": "top center"
        },
        {
         "hovertemplate": "color=cluster_28<br>x=%{x}<br>y=%{y}<br>text=%{text}<extra></extra>",
         "legendgroup": "cluster_28",
         "marker": {
          "color": "#6C4516",
          "symbol": "circle"
         },
         "mode": "markers+text",
         "name": "cluster_28",
         "orientation": "v",
         "showlegend": true,
         "text": [
          "MongoDB",
          "Neo4j"
         ],
         "x": [
          1.5606917142868042,
          1.9794032573699951
         ],
         "xaxis": "x",
         "y": [
          -16.98133659362793,
          -16.249452590942383
         ],
         "yaxis": "y",
         "type": "scatter",
         "textposition": "top center"
        },
        {
         "hovertemplate": "color=cluster_25<br>x=%{x}<br>y=%{y}<br>text=%{text}<extra></extra>",
         "legendgroup": "cluster_25",
         "marker": {
          "color": "#0D2A63",
          "symbol": "circle"
         },
         "mode": "markers+text",
         "name": "cluster_25",
         "orientation": "v",
         "showlegend": true,
         "text": [
          "Oracle",
          "Oracle Cloud Infrastructure",
          "Unity 3D",
          "Unreal Engine"
         ],
         "x": [
          -7.414945602416992,
          -7.183877468109131,
          -9.037413597106934,
          -8.411727905273438
         ],
         "xaxis": "x",
         "y": [
          13.219388961791992,
          12.40280532836914,
          8.193582534790039,
          7.592629909515381
         ],
         "yaxis": "y",
         "type": "scatter",
         "textposition": "top center"
        },
        {
         "hovertemplate": "color=cluster_21<br>x=%{x}<br>y=%{y}<br>text=%{text}<extra></extra>",
         "legendgroup": "cluster_21",
         "marker": {
          "color": "#AF0038",
          "symbol": "circle"
         },
         "mode": "markers+text",
         "name": "cluster_21",
         "orientation": "v",
         "showlegend": true,
         "text": [
          "SQLite",
          "ASP.NET",
          "Blazor",
          "Uno Platform",
          "Xamarin",
          "Notepad++"
         ],
         "x": [
          4.729333400726318,
          3.1533091068267822,
          3.5678322315216064,
          3.727738857269287,
          4.231743812561035,
          1.1225377321243286
         ],
         "xaxis": "x",
         "y": [
          19.182762145996094,
          24.220521926879883,
          22.782808303833008,
          21.302175521850586,
          20.207399368286133,
          23.886592864990234
         ],
         "yaxis": "y",
         "type": "scatter",
         "textposition": "top center"
        },
        {
         "hovertemplate": "color=cluster_12<br>x=%{x}<br>y=%{y}<br>text=%{text}<extra></extra>",
         "legendgroup": "cluster_12",
         "marker": {
          "color": "#2E91E5",
          "symbol": "circle"
         },
         "mode": "markers+text",
         "name": "cluster_12",
         "orientation": "v",
         "showlegend": true,
         "text": [
          "DigitalOcean",
          "Nuxt.js",
          "Vue.js",
          "React Native",
          "Atom",
          "Sublime Text"
         ],
         "x": [
          2.918400526046753,
          8.60185718536377,
          9.475044250488281,
          5.348267078399658,
          2.5502066612243652,
          4.991657257080078
         ],
         "xaxis": "x",
         "y": [
          -0.12079159915447235,
          -0.9709370136260986,
          -0.9507574439048767,
          0.853374719619751,
          -2.2296652793884277,
          -1.9296367168426514
         ],
         "yaxis": "y",
         "type": "scatter",
         "textposition": "top center"
        },
        {
         "hovertemplate": "color=cluster_11<br>x=%{x}<br>y=%{y}<br>text=%{text}<extra></extra>",
         "legendgroup": "cluster_11",
         "marker": {
          "color": "#E15F99",
          "symbol": "circle"
         },
         "mode": "markers+text",
         "name": "cluster_11",
         "orientation": "v",
         "showlegend": true,
         "text": [
          "Heroku",
          "Django",
          "Electron",
          "Nano",
          "Rider"
         ],
         "x": [
          1.6357554197311401,
          2.9145452976226807,
          4.734431266784668,
          -0.12497614324092865,
          3.1871166229248047
         ],
         "xaxis": "x",
         "y": [
          4.227726936340332,
          2.1461994647979736,
          3.9287736415863037,
          6.4535112380981445,
          6.871518611907959
         ],
         "yaxis": "y",
         "type": "scatter",
         "textposition": "top center"
        },
        {
         "hovertemplate": "color=cluster_10<br>x=%{x}<br>y=%{y}<br>text=%{text}<extra></extra>",
         "legendgroup": "cluster_10",
         "marker": {
          "color": "#1CA71C",
          "symbol": "circle"
         },
         "mode": "markers+text",
         "name": "cluster_10",
         "orientation": "v",
         "showlegend": true,
         "text": [
          "Angular",
          "Angular.js",
          "Capacitor",
          "Cordova",
          "Ionic"
         ],
         "x": [
          14.658270835876465,
          14.05662727355957,
          9.427970886230469,
          8.531403541564941,
          10.451841354370117
         ],
         "xaxis": "x",
         "y": [
          4.687660217285156,
          5.3892412185668945,
          4.2256011962890625,
          4.861634731292725,
          4.3023505210876465
         ],
         "yaxis": "y",
         "type": "scatter",
         "textposition": "top center"
        },
        {
         "hovertemplate": "color=cluster_2<br>x=%{x}<br>y=%{y}<br>text=%{text}<extra></extra>",
         "legendgroup": "cluster_2",
         "marker": {
          "color": "#FB0D0D",
          "symbol": "circle"
         },
         "mode": "markers+text",
         "name": "cluster_2",
         "orientation": "v",
         "showlegend": true,
         "text": [
          "FastAPI",
          "Flask",
          "Hugging Face Transformers",
          "Keras",
          "Scikit-learn",
          "TensorFlow",
          "Torch/PyTorch",
          "IPython/Jupyter",
          "PyCharm"
         ],
         "x": [
          -7.973379135131836,
          -7.214104652404785,
          -10.951370239257812,
          -11.202424049377441,
          -12.884735107421875,
          -10.40779972076416,
          -11.91171646118164,
          -13.875482559204102,
          -9.159589767456055
         ],
         "xaxis": "x",
         "y": [
          -18.28054428100586,
          -17.714025497436523,
          -21.83900260925293,
          -23.47298240661621,
          -23.92427635192871,
          -24.294286727905273,
          -21.68086814880371,
          -24.2045955657959,
          -19.746150970458984
         ],
         "yaxis": "y",
         "type": "scatter",
         "textposition": "top center"
        },
        {
         "hovertemplate": "color=cluster_24<br>x=%{x}<br>y=%{y}<br>text=%{text}<extra></extra>",
         "legendgroup": "cluster_24",
         "marker": {
          "color": "#DA16FF",
          "symbol": "circle"
         },
         "mode": "markers+text",
         "name": "cluster_24",
         "orientation": "v",
         "showlegend": true,
         "text": [
          "Gatsby",
          "Next.js",
          "React.js",
          "Yarn"
         ],
         "x": [
          20.42638397216797,
          21.72161102294922,
          22.753297805786133,
          22.46809196472168
         ],
         "xaxis": "x",
         "y": [
          -4.710477352142334,
          -4.333746910095215,
          -3.3768229484558105,
          -5.055366516113281
         ],
         "yaxis": "y",
         "type": "scatter",
         "textposition": "top center"
        }
       ],
       "layout": {
        "template": {
         "data": {
          "histogram2dcontour": [
           {
            "type": "histogram2dcontour",
            "colorbar": {
             "outlinewidth": 0,
             "ticks": ""
            },
            "colorscale": [
             [
              0.0,
              "#0d0887"
             ],
             [
              0.1111111111111111,
              "#46039f"
             ],
             [
              0.2222222222222222,
              "#7201a8"
             ],
             [
              0.3333333333333333,
              "#9c179e"
             ],
             [
              0.4444444444444444,
              "#bd3786"
             ],
             [
              0.5555555555555556,
              "#d8576b"
             ],
             [
              0.6666666666666666,
              "#ed7953"
             ],
             [
              0.7777777777777778,
              "#fb9f3a"
             ],
             [
              0.8888888888888888,
              "#fdca26"
             ],
             [
              1.0,
              "#f0f921"
             ]
            ]
           }
          ],
          "choropleth": [
           {
            "type": "choropleth",
            "colorbar": {
             "outlinewidth": 0,
             "ticks": ""
            }
           }
          ],
          "histogram2d": [
           {
            "type": "histogram2d",
            "colorbar": {
             "outlinewidth": 0,
             "ticks": ""
            },
            "colorscale": [
             [
              0.0,
              "#0d0887"
             ],
             [
              0.1111111111111111,
              "#46039f"
             ],
             [
              0.2222222222222222,
              "#7201a8"
             ],
             [
              0.3333333333333333,
              "#9c179e"
             ],
             [
              0.4444444444444444,
              "#bd3786"
             ],
             [
              0.5555555555555556,
              "#d8576b"
             ],
             [
              0.6666666666666666,
              "#ed7953"
             ],
             [
              0.7777777777777778,
              "#fb9f3a"
             ],
             [
              0.8888888888888888,
              "#fdca26"
             ],
             [
              1.0,
              "#f0f921"
             ]
            ]
           }
          ],
          "heatmap": [
           {
            "type": "heatmap",
            "colorbar": {
             "outlinewidth": 0,
             "ticks": ""
            },
            "colorscale": [
             [
              0.0,
              "#0d0887"
             ],
             [
              0.1111111111111111,
              "#46039f"
             ],
             [
              0.2222222222222222,
              "#7201a8"
             ],
             [
              0.3333333333333333,
              "#9c179e"
             ],
             [
              0.4444444444444444,
              "#bd3786"
             ],
             [
              0.5555555555555556,
              "#d8576b"
             ],
             [
              0.6666666666666666,
              "#ed7953"
             ],
             [
              0.7777777777777778,
              "#fb9f3a"
             ],
             [
              0.8888888888888888,
              "#fdca26"
             ],
             [
              1.0,
              "#f0f921"
             ]
            ]
           }
          ],
          "heatmapgl": [
           {
            "type": "heatmapgl",
            "colorbar": {
             "outlinewidth": 0,
             "ticks": ""
            },
            "colorscale": [
             [
              0.0,
              "#0d0887"
             ],
             [
              0.1111111111111111,
              "#46039f"
             ],
             [
              0.2222222222222222,
              "#7201a8"
             ],
             [
              0.3333333333333333,
              "#9c179e"
             ],
             [
              0.4444444444444444,
              "#bd3786"
             ],
             [
              0.5555555555555556,
              "#d8576b"
             ],
             [
              0.6666666666666666,
              "#ed7953"
             ],
             [
              0.7777777777777778,
              "#fb9f3a"
             ],
             [
              0.8888888888888888,
              "#fdca26"
             ],
             [
              1.0,
              "#f0f921"
             ]
            ]
           }
          ],
          "contourcarpet": [
           {
            "type": "contourcarpet",
            "colorbar": {
             "outlinewidth": 0,
             "ticks": ""
            }
           }
          ],
          "contour": [
           {
            "type": "contour",
            "colorbar": {
             "outlinewidth": 0,
             "ticks": ""
            },
            "colorscale": [
             [
              0.0,
              "#0d0887"
             ],
             [
              0.1111111111111111,
              "#46039f"
             ],
             [
              0.2222222222222222,
              "#7201a8"
             ],
             [
              0.3333333333333333,
              "#9c179e"
             ],
             [
              0.4444444444444444,
              "#bd3786"
             ],
             [
              0.5555555555555556,
              "#d8576b"
             ],
             [
              0.6666666666666666,
              "#ed7953"
             ],
             [
              0.7777777777777778,
              "#fb9f3a"
             ],
             [
              0.8888888888888888,
              "#fdca26"
             ],
             [
              1.0,
              "#f0f921"
             ]
            ]
           }
          ],
          "surface": [
           {
            "type": "surface",
            "colorbar": {
             "outlinewidth": 0,
             "ticks": ""
            },
            "colorscale": [
             [
              0.0,
              "#0d0887"
             ],
             [
              0.1111111111111111,
              "#46039f"
             ],
             [
              0.2222222222222222,
              "#7201a8"
             ],
             [
              0.3333333333333333,
              "#9c179e"
             ],
             [
              0.4444444444444444,
              "#bd3786"
             ],
             [
              0.5555555555555556,
              "#d8576b"
             ],
             [
              0.6666666666666666,
              "#ed7953"
             ],
             [
              0.7777777777777778,
              "#fb9f3a"
             ],
             [
              0.8888888888888888,
              "#fdca26"
             ],
             [
              1.0,
              "#f0f921"
             ]
            ]
           }
          ],
          "mesh3d": [
           {
            "type": "mesh3d",
            "colorbar": {
             "outlinewidth": 0,
             "ticks": ""
            }
           }
          ],
          "scatter": [
           {
            "marker": {
             "line": {
              "color": "#283442"
             }
            },
            "type": "scatter"
           }
          ],
          "parcoords": [
           {
            "type": "parcoords",
            "line": {
             "colorbar": {
              "outlinewidth": 0,
              "ticks": ""
             }
            }
           }
          ],
          "scatterpolargl": [
           {
            "type": "scatterpolargl",
            "marker": {
             "colorbar": {
              "outlinewidth": 0,
              "ticks": ""
             }
            }
           }
          ],
          "bar": [
           {
            "error_x": {
             "color": "#f2f5fa"
            },
            "error_y": {
             "color": "#f2f5fa"
            },
            "marker": {
             "line": {
              "color": "rgb(17,17,17)",
              "width": 0.5
             },
             "pattern": {
              "fillmode": "overlay",
              "size": 10,
              "solidity": 0.2
             }
            },
            "type": "bar"
           }
          ],
          "scattergeo": [
           {
            "type": "scattergeo",
            "marker": {
             "colorbar": {
              "outlinewidth": 0,
              "ticks": ""
             }
            }
           }
          ],
          "scatterpolar": [
           {
            "type": "scatterpolar",
            "marker": {
             "colorbar": {
              "outlinewidth": 0,
              "ticks": ""
             }
            }
           }
          ],
          "histogram": [
           {
            "marker": {
             "pattern": {
              "fillmode": "overlay",
              "size": 10,
              "solidity": 0.2
             }
            },
            "type": "histogram"
           }
          ],
          "scattergl": [
           {
            "marker": {
             "line": {
              "color": "#283442"
             }
            },
            "type": "scattergl"
           }
          ],
          "scatter3d": [
           {
            "type": "scatter3d",
            "line": {
             "colorbar": {
              "outlinewidth": 0,
              "ticks": ""
             }
            },
            "marker": {
             "colorbar": {
              "outlinewidth": 0,
              "ticks": ""
             }
            }
           }
          ],
          "scattermapbox": [
           {
            "type": "scattermapbox",
            "marker": {
             "colorbar": {
              "outlinewidth": 0,
              "ticks": ""
             }
            }
           }
          ],
          "scatterternary": [
           {
            "type": "scatterternary",
            "marker": {
             "colorbar": {
              "outlinewidth": 0,
              "ticks": ""
             }
            }
           }
          ],
          "scattercarpet": [
           {
            "type": "scattercarpet",
            "marker": {
             "colorbar": {
              "outlinewidth": 0,
              "ticks": ""
             }
            }
           }
          ],
          "carpet": [
           {
            "aaxis": {
             "endlinecolor": "#A2B1C6",
             "gridcolor": "#506784",
             "linecolor": "#506784",
             "minorgridcolor": "#506784",
             "startlinecolor": "#A2B1C6"
            },
            "baxis": {
             "endlinecolor": "#A2B1C6",
             "gridcolor": "#506784",
             "linecolor": "#506784",
             "minorgridcolor": "#506784",
             "startlinecolor": "#A2B1C6"
            },
            "type": "carpet"
           }
          ],
          "table": [
           {
            "cells": {
             "fill": {
              "color": "#506784"
             },
             "line": {
              "color": "rgb(17,17,17)"
             }
            },
            "header": {
             "fill": {
              "color": "#2a3f5f"
             },
             "line": {
              "color": "rgb(17,17,17)"
             }
            },
            "type": "table"
           }
          ],
          "barpolar": [
           {
            "marker": {
             "line": {
              "color": "rgb(17,17,17)",
              "width": 0.5
             },
             "pattern": {
              "fillmode": "overlay",
              "size": 10,
              "solidity": 0.2
             }
            },
            "type": "barpolar"
           }
          ],
          "pie": [
           {
            "automargin": true,
            "type": "pie"
           }
          ]
         },
         "layout": {
          "autotypenumbers": "strict",
          "colorway": [
           "#636efa",
           "#EF553B",
           "#00cc96",
           "#ab63fa",
           "#FFA15A",
           "#19d3f3",
           "#FF6692",
           "#B6E880",
           "#FF97FF",
           "#FECB52"
          ],
          "font": {
           "color": "#f2f5fa"
          },
          "hovermode": "closest",
          "hoverlabel": {
           "align": "left"
          },
          "paper_bgcolor": "rgb(17,17,17)",
          "plot_bgcolor": "rgb(17,17,17)",
          "polar": {
           "bgcolor": "rgb(17,17,17)",
           "angularaxis": {
            "gridcolor": "#506784",
            "linecolor": "#506784",
            "ticks": ""
           },
           "radialaxis": {
            "gridcolor": "#506784",
            "linecolor": "#506784",
            "ticks": ""
           }
          },
          "ternary": {
           "bgcolor": "rgb(17,17,17)",
           "aaxis": {
            "gridcolor": "#506784",
            "linecolor": "#506784",
            "ticks": ""
           },
           "baxis": {
            "gridcolor": "#506784",
            "linecolor": "#506784",
            "ticks": ""
           },
           "caxis": {
            "gridcolor": "#506784",
            "linecolor": "#506784",
            "ticks": ""
           }
          },
          "coloraxis": {
           "colorbar": {
            "outlinewidth": 0,
            "ticks": ""
           }
          },
          "colorscale": {
           "sequential": [
            [
             0.0,
             "#0d0887"
            ],
            [
             0.1111111111111111,
             "#46039f"
            ],
            [
             0.2222222222222222,
             "#7201a8"
            ],
            [
             0.3333333333333333,
             "#9c179e"
            ],
            [
             0.4444444444444444,
             "#bd3786"
            ],
            [
             0.5555555555555556,
             "#d8576b"
            ],
            [
             0.6666666666666666,
             "#ed7953"
            ],
            [
             0.7777777777777778,
             "#fb9f3a"
            ],
            [
             0.8888888888888888,
             "#fdca26"
            ],
            [
             1.0,
             "#f0f921"
            ]
           ],
           "sequentialminus": [
            [
             0.0,
             "#0d0887"
            ],
            [
             0.1111111111111111,
             "#46039f"
            ],
            [
             0.2222222222222222,
             "#7201a8"
            ],
            [
             0.3333333333333333,
             "#9c179e"
            ],
            [
             0.4444444444444444,
             "#bd3786"
            ],
            [
             0.5555555555555556,
             "#d8576b"
            ],
            [
             0.6666666666666666,
             "#ed7953"
            ],
            [
             0.7777777777777778,
             "#fb9f3a"
            ],
            [
             0.8888888888888888,
             "#fdca26"
            ],
            [
             1.0,
             "#f0f921"
            ]
           ],
           "diverging": [
            [
             0,
             "#8e0152"
            ],
            [
             0.1,
             "#c51b7d"
            ],
            [
             0.2,
             "#de77ae"
            ],
            [
             0.3,
             "#f1b6da"
            ],
            [
             0.4,
             "#fde0ef"
            ],
            [
             0.5,
             "#f7f7f7"
            ],
            [
             0.6,
             "#e6f5d0"
            ],
            [
             0.7,
             "#b8e186"
            ],
            [
             0.8,
             "#7fbc41"
            ],
            [
             0.9,
             "#4d9221"
            ],
            [
             1,
             "#276419"
            ]
           ]
          },
          "xaxis": {
           "gridcolor": "#283442",
           "linecolor": "#506784",
           "ticks": "",
           "title": {
            "standoff": 15
           },
           "zerolinecolor": "#283442",
           "automargin": true,
           "zerolinewidth": 2
          },
          "yaxis": {
           "gridcolor": "#283442",
           "linecolor": "#506784",
           "ticks": "",
           "title": {
            "standoff": 15
           },
           "zerolinecolor": "#283442",
           "automargin": true,
           "zerolinewidth": 2
          },
          "scene": {
           "xaxis": {
            "backgroundcolor": "rgb(17,17,17)",
            "gridcolor": "#506784",
            "linecolor": "#506784",
            "showbackground": true,
            "ticks": "",
            "zerolinecolor": "#C8D4E3",
            "gridwidth": 2
           },
           "yaxis": {
            "backgroundcolor": "rgb(17,17,17)",
            "gridcolor": "#506784",
            "linecolor": "#506784",
            "showbackground": true,
            "ticks": "",
            "zerolinecolor": "#C8D4E3",
            "gridwidth": 2
           },
           "zaxis": {
            "backgroundcolor": "rgb(17,17,17)",
            "gridcolor": "#506784",
            "linecolor": "#506784",
            "showbackground": true,
            "ticks": "",
            "zerolinecolor": "#C8D4E3",
            "gridwidth": 2
           }
          },
          "shapedefaults": {
           "line": {
            "color": "#f2f5fa"
           }
          },
          "annotationdefaults": {
           "arrowcolor": "#f2f5fa",
           "arrowhead": 0,
           "arrowwidth": 1
          },
          "geo": {
           "bgcolor": "rgb(17,17,17)",
           "landcolor": "rgb(17,17,17)",
           "subunitcolor": "#506784",
           "showland": true,
           "showlakes": true,
           "lakecolor": "rgb(17,17,17)"
          },
          "title": {
           "x": 0.05
          },
          "updatemenudefaults": {
           "bgcolor": "#506784",
           "borderwidth": 0
          },
          "sliderdefaults": {
           "bgcolor": "#C8D4E3",
           "borderwidth": 1,
           "bordercolor": "rgb(17,17,17)",
           "tickwidth": 0
          },
          "mapbox": {
           "style": "dark"
          }
         }
        },
        "xaxis": {
         "anchor": "y",
         "domain": [
          0.0,
          1.0
         ],
         "title": {
          "text": "x"
         }
        },
        "yaxis": {
         "anchor": "x",
         "domain": [
          0.0,
          1.0
         ],
         "title": {
          "text": "y"
         }
        },
        "legend": {
         "title": {
          "text": "color"
         },
         "tracegroupgap": 0
        },
        "margin": {
         "t": 60
        },
        "title": {
         "text": "Clustering top skills for All roles"
        },
        "height": 900,
        "width": 1500
       },
       "config": {
        "plotlyServerURL": "https://plot.ly"
       }
      },
      "text/html": "<div>                            <div id=\"37c5ad92-8ac6-4a6f-838f-ecee16f9d792\" class=\"plotly-graph-div\" style=\"height:900px; width:1500px;\"></div>            <script type=\"text/javascript\">                require([\"plotly\"], function(Plotly) {                    window.PLOTLYENV=window.PLOTLYENV || {};                                    if (document.getElementById(\"37c5ad92-8ac6-4a6f-838f-ecee16f9d792\")) {                    Plotly.newPlot(                        \"37c5ad92-8ac6-4a6f-838f-ecee16f9d792\",                        [{\"hovertemplate\":\"color=cluster_5<br>x=%{x}<br>y=%{y}<br>text=%{text}<extra></extra>\",\"legendgroup\":\"cluster_5\",\"marker\":{\"color\":\"#2E91E5\",\"symbol\":\"circle\"},\"mode\":\"markers+text\",\"name\":\"cluster_5\",\"orientation\":\"v\",\"showlegend\":true,\"text\":[\"APL\",\"Crystal\",\"SAS\",\"Solidity\",\"VBA\",\"Couchbase\",\"Colocation\",\"Linode\",\"Managed Hosting\",\"OVH\",\"VMware\",\"Flow\",\"Puppet\",\"CLion\",\"Webstorm\"],\"x\":[-1.2813019752502441,-0.4391781687736511,-2.038147449493408,1.2543741464614868,-2.450805425643921,0.2651704251766205,-0.6462065577507019,-2.772054672241211,-1.3944647312164307,0.23178865015506744,1.8471794128417969,0.24747268855571747,-0.4600696563720703,-2.1316890716552734,1.1941547393798828],\"xaxis\":\"x\",\"y\":[-0.11392718553543091,0.46121954917907715,-2.753025770187378,0.8963648080825806,-3.7951395511627197,-2.856630563735962,-1.4549825191497803,0.5832134485244751,1.5843226909637451,2.4574356079101562,-4.266654968261719,-0.456218957901001,-5.081240653991699,-0.9505326151847839,-1.00319242477417],\"yaxis\":\"y\",\"type\":\"scatter\",\"textposition\":\"top center\"},{\"hovertemplate\":\"color=cluster_8<br>x=%{x}<br>y=%{y}<br>text=%{text}<extra></extra>\",\"legendgroup\":\"cluster_8\",\"marker\":{\"color\":\"#E15F99\",\"symbol\":\"circle\"},\"mode\":\"markers+text\",\"name\":\"cluster_8\",\"orientation\":\"v\",\"showlegend\":true,\"text\":[\"Assembly\",\"C\",\"C++\",\"Qt\",\"Qt Creator\"],\"x\":[-17.93572425842285,-18.811887741088867,-19.55118179321289,-15.340874671936035,-14.56356430053711],\"xaxis\":\"x\",\"y\":[3.050510883331299,3.682398796081543,4.360454559326172,7.3929524421691895,7.063523292541504],\"yaxis\":\"y\",\"type\":\"scatter\",\"textposition\":\"top center\"},{\"hovertemplate\":\"color=cluster_17<br>x=%{x}<br>y=%{y}<br>text=%{text}<extra></extra>\",\"legendgroup\":\"cluster_17\",\"marker\":{\"color\":\"#1CA71C\",\"symbol\":\"circle\"},\"mode\":\"markers+text\",\"name\":\"cluster_17\",\"orientation\":\"v\",\"showlegend\":true,\"text\":[\"Bash/Shell\",\"Perl\",\"Vim\"],\"x\":[-11.334389686584473,-10.03454303741455,-10.680998802185059],\"xaxis\":\"x\",\"y\":[-11.212303161621094,-9.383195877075195,-10.279607772827148],\"yaxis\":\"y\",\"type\":\"scatter\",\"textposition\":\"top center\"},{\"hovertemplate\":\"color=cluster_22<br>x=%{x}<br>y=%{y}<br>text=%{text}<extra></extra>\",\"legendgroup\":\"cluster_22\",\"marker\":{\"color\":\"#FB0D0D\",\"symbol\":\"circle\"},\"mode\":\"markers+text\",\"name\":\"cluster_22\",\"orientation\":\"v\",\"showlegend\":true,\"text\":[\"C#\",\"SQL\",\"Microsoft SQL Server\",\"Microsoft Azure\",\"ASP.NET Core \",\".NET\",\"Visual Studio\"],\"x\":[5.243317127227783,7.4427008628845215,6.269507884979248,3.4787917137145996,4.432333469390869,5.170923233032227,5.301737308502197],\"xaxis\":\"x\",\"y\":[30.259145736694336,27.37322235107422,27.632583618164062,27.036256790161133,26.88875961303711,29.946407318115234,31.20962142944336],\"yaxis\":\"y\",\"type\":\"scatter\",\"textposition\":\"top center\"},{\"hovertemplate\":\"color=cluster_1<br>x=%{x}<br>y=%{y}<br>text=%{text}<extra></extra>\",\"legendgroup\":\"cluster_1\",\"marker\":{\"color\":\"#DA16FF\",\"symbol\":\"circle\"},\"mode\":\"markers+text\",\"name\":\"cluster_1\",\"orientation\":\"v\",\"showlegend\":true,\"text\":[\"COBOL\",\"F#\",\"PowerShell\",\"IBM DB2\",\"Eclipse\",\"NetBeans\"],\"x\":[-2.7667667865753174,-2.9467382431030273,-2.7864270210266113,-3.218843936920166,0.42149391770362854,0.8782619833946228],\"xaxis\":\"x\",\"y\":[9.825767517089844,16.825307846069336,17.788637161254883,10.57994556427002,12.118797302246094,11.219503402709961],\"yaxis\":\"y\",\"type\":\"scatter\",\"textposition\":\"top center\"},{\"hovertemplate\":\"color=cluster_0<br>x=%{x}<br>y=%{y}<br>text=%{text}<extra></extra>\",\"legendgroup\":\"cluster_0\",\"marker\":{\"color\":\"#222A2A\",\"symbol\":\"circle\"},\"mode\":\"markers+text\",\"name\":\"cluster_0\",\"orientation\":\"v\",\"showlegend\":true,\"text\":[\"Clojure\",\"LISP\",\"Cloud Firestore\",\"Firebase Realtime Database\",\"Firebase\",\"Google Cloud\",\"Emacs\"],\"x\":[-8.375537872314453,-10.928047180175781,-14.972869873046875,-11.826891899108887,-13.334301948547363,-15.95791244506836,-11.778373718261719],\"xaxis\":\"x\",\"y\":[0.5571336150169373,2.653707265853882,-3.3825831413269043,-3.2361886501312256,-3.4225125312805176,-3.466360569000244,2.643052577972412],\"yaxis\":\"y\",\"type\":\"scatter\",\"textposition\":\"top center\"},{\"hovertemplate\":\"color=cluster_19<br>x=%{x}<br>y=%{y}<br>text=%{text}<extra></extra>\",\"legendgroup\":\"cluster_19\",\"marker\":{\"color\":\"#B68100\",\"symbol\":\"circle\"},\"mode\":\"markers+text\",\"name\":\"cluster_19\",\"orientation\":\"v\",\"showlegend\":true,\"text\":[\"Dart\",\"Flutter\",\"Android Studio\"],\"x\":[-29.667861938476562,-29.56155776977539,-30.824953079223633],\"xaxis\":\"x\",\"y\":[12.732516288757324,12.685664176940918,13.243342399597168],\"yaxis\":\"y\",\"type\":\"scatter\",\"textposition\":\"top center\"},{\"hovertemplate\":\"color=cluster_20<br>x=%{x}<br>y=%{y}<br>text=%{text}<extra></extra>\",\"legendgroup\":\"cluster_20\",\"marker\":{\"color\":\"#750D86\",\"symbol\":\"circle\"},\"mode\":\"markers+text\",\"name\":\"cluster_20\",\"orientation\":\"v\",\"showlegend\":true,\"text\":[\"Delphi\",\"RAD Studio (Delphi_C++ Builder)\"],\"x\":[-13.244747161865234,-13.244953155517578],\"xaxis\":\"x\",\"y\":[26.966554641723633,26.9669189453125],\"yaxis\":\"y\",\"type\":\"scatter\",\"textposition\":\"top center\"},{\"hovertemplate\":\"color=cluster_3<br>x=%{x}<br>y=%{y}<br>text=%{text}<extra></extra>\",\"legendgroup\":\"cluster_3\",\"marker\":{\"color\":\"#EB663B\",\"symbol\":\"circle\"},\"mode\":\"markers+text\",\"name\":\"cluster_3\",\"orientation\":\"v\",\"showlegend\":true,\"text\":[\"Elixir\",\"Ruby\",\"Phoenix\",\"Ruby on Rails\",\"Homebrew\"],\"x\":[-32.10623550415039,-27.43616485595703,-32.21518325805664,-27.45998191833496,-31.612262725830078],\"xaxis\":\"x\",\"y\":[-7.9521002769470215,-13.383102416992188,-7.688560485839844,-13.353028297424316,-9.147120475769043],\"yaxis\":\"y\",\"type\":\"scatter\",\"textposition\":\"top center\"},{\"hovertemplate\":\"color=cluster_23<br>x=%{x}<br>y=%{y}<br>text=%{text}<extra></extra>\",\"legendgroup\":\"cluster_23\",\"marker\":{\"color\":\"#511CFB\",\"symbol\":\"circle\"},\"mode\":\"markers+text\",\"name\":\"cluster_23\",\"orientation\":\"v\",\"showlegend\":true,\"text\":[\"Erlang\",\"Julia\",\"MATLAB\",\"RubyMine\",\"TextMate\"],\"x\":[-8.070855140686035,-4.855798721313477,-6.000751972198486,-7.05789041519165,-3.8561015129089355],\"xaxis\":\"x\",\"y\":[-2.7630207538604736,-3.293123483657837,-0.9909661412239075,-5.633132457733154,-1.1935051679611206],\"yaxis\":\"y\",\"type\":\"scatter\",\"textposition\":\"top center\"},{\"hovertemplate\":\"color=cluster_9<br>x=%{x}<br>y=%{y}<br>text=%{text}<extra></extra>\",\"legendgroup\":\"cluster_9\",\"marker\":{\"color\":\"#00A08B\",\"symbol\":\"circle\"},\"mode\":\"markers+text\",\"name\":\"cluster_9\",\"orientation\":\"v\",\"showlegend\":true,\"text\":[\"Fortran\",\"Haskell\",\"Lua\",\"OCaml\",\"IBM Cloud or Watson\",\"GTK\",\"Neovim\"],\"x\":[-5.025211811065674,-7.17152738571167,-3.1423375606536865,-5.900030136108398,-1.31560480594635,-3.1899561882019043,-5.706761837005615],\"xaxis\":\"x\",\"y\":[1.1808295249938965,3.1628897190093994,2.7042148113250732,3.104039430618286,3.961867332458496,5.858929634094238,4.5249857902526855],\"yaxis\":\"y\",\"type\":\"scatter\",\"textposition\":\"top center\"},{\"hovertemplate\":\"color=cluster_4<br>x=%{x}<br>y=%{y}<br>text=%{text}<extra></extra>\",\"legendgroup\":\"cluster_4\",\"marker\":{\"color\":\"#FB00D1\",\"symbol\":\"circle\"},\"mode\":\"markers+text\",\"name\":\"cluster_4\",\"orientation\":\"v\",\"showlegend\":true,\"text\":[\"Go\",\"Kotlin\",\"CouchDB\",\"Ansible\",\"Chef\",\"Pulumi\",\"Terraform\",\"GoLand\"],\"x\":[8.750568389892578,2.1287920475006104,4.508572578430176,3.1434106826782227,3.9995038509368896,6.90300178527832,6.577681064605713,8.11133861541748],\"xaxis\":\"x\",\"y\":[-6.537375450134277,-6.872373580932617,-4.689465522766113,-10.953095436096191,-10.667393684387207,-10.107409477233887,-11.475825309753418,-5.92149543762207],\"yaxis\":\"y\",\"type\":\"scatter\",\"textposition\":\"top center\"},{\"hovertemplate\":\"color=cluster_14<br>x=%{x}<br>y=%{y}<br>text=%{text}<extra></extra>\",\"legendgroup\":\"cluster_14\",\"marker\":{\"color\":\"#FC0080\",\"symbol\":\"circle\"},\"mode\":\"markers+text\",\"name\":\"cluster_14\",\"orientation\":\"v\",\"showlegend\":true,\"text\":[\"Groovy\",\"Java\",\"Spring\",\"IntelliJ\"],\"x\":[4.5255608558654785,6.095369338989258,5.720332622528076,6.171018123626709],\"xaxis\":\"x\",\"y\":[-21.67058753967285,-24.46919822692871,-22.800914764404297,-24.862468719482422],\"yaxis\":\"y\",\"type\":\"scatter\",\"textposition\":\"top center\"},{\"hovertemplate\":\"color=cluster_6<br>x=%{x}<br>y=%{y}<br>text=%{text}<extra></extra>\",\"legendgroup\":\"cluster_6\",\"marker\":{\"color\":\"#B2828D\",\"symbol\":\"circle\"},\"mode\":\"markers+text\",\"name\":\"cluster_6\",\"orientation\":\"v\",\"showlegend\":true,\"text\":[\"HTML/CSS\",\"JavaScript\",\"TypeScript\",\"Express\",\"Fastify\",\"Node.js\",\"npm\",\"Visual Studio Code\"],\"x\":[25.628801345825195,25.909961700439453,23.86272621154785,20.6735782623291,19.446577072143555,21.947494506835938,23.381380081176758,26.97542381286621],\"xaxis\":\"x\",\"y\":[5.4675374031066895,5.156752586364746,2.468585968017578,0.34090712666511536,-0.2080986350774765,1.0367392301559448,2.068398952484131,4.33984375],\"yaxis\":\"y\",\"type\":\"scatter\",\"textposition\":\"top center\"},{\"hovertemplate\":\"color=cluster_16<br>x=%{x}<br>y=%{y}<br>text=%{text}<extra></extra>\",\"legendgroup\":\"cluster_16\",\"marker\":{\"color\":\"#6C7C32\",\"symbol\":\"circle\"},\"mode\":\"markers+text\",\"name\":\"cluster_16\",\"orientation\":\"v\",\"showlegend\":true,\"text\":[\"Objective-C\",\"Swift\",\"Xcode\"],\"x\":[-14.213151931762695,-14.867436408996582,-15.473554611206055],\"xaxis\":\"x\",\"y\":[14.722004890441895,15.477143287658691,16.178874969482422],\"yaxis\":\"y\",\"type\":\"scatter\",\"textposition\":\"top center\"},{\"hovertemplate\":\"color=cluster_13<br>x=%{x}<br>y=%{y}<br>text=%{text}<extra></extra>\",\"legendgroup\":\"cluster_13\",\"marker\":{\"color\":\"#778AAE\",\"symbol\":\"circle\"},\"mode\":\"markers+text\",\"name\":\"cluster_13\",\"orientation\":\"v\",\"showlegend\":true,\"text\":[\"PHP\",\"MariaDB\",\"MySQL\",\"Drupal\",\"Laravel\",\"Symfony\",\"jQuery\",\"PhpStorm\"],\"x\":[8.586124420166016,11.972617149353027,8.7161226272583,13.462019920349121,6.491504192352295,10.090861320495605,14.429827690124512,9.173809051513672],\"xaxis\":\"x\",\"y\":[13.527633666992188,11.452556610107422,14.576199531555176,10.583414077758789,10.845358848571777,11.51954174041748,10.221545219421387,12.239953994750977],\"yaxis\":\"y\",\"type\":\"scatter\",\"textposition\":\"top center\"},{\"hovertemplate\":\"color=cluster_18<br>x=%{x}<br>y=%{y}<br>text=%{text}<extra></extra>\",\"legendgroup\":\"cluster_18\",\"marker\":{\"color\":\"#862A16\",\"symbol\":\"circle\"},\"mode\":\"markers+text\",\"name\":\"cluster_18\",\"orientation\":\"v\",\"showlegend\":true,\"text\":[\"Python\",\"NumPy\",\"Pandas\"],\"x\":[-15.482775688171387,-14.999176025390625,-14.913312911987305],\"xaxis\":\"x\",\"y\":[-29.880186080932617,-28.70270538330078,-28.488128662109375],\"yaxis\":\"y\",\"type\":\"scatter\",\"textposition\":\"top center\"},{\"hovertemplate\":\"color=cluster_27<br>x=%{x}<br>y=%{y}<br>text=%{text}<extra></extra>\",\"legendgroup\":\"cluster_27\",\"marker\":{\"color\":\"#A777F1\",\"symbol\":\"circle\"},\"mode\":\"markers+text\",\"name\":\"cluster_27\",\"orientation\":\"v\",\"showlegend\":true,\"text\":[\"R\",\"Tidyverse\",\"RStudio\"],\"x\":[-18.96647071838379,-17.33108139038086,-18.509939193725586],\"xaxis\":\"x\",\"y\":[-11.288615226745605,-10.439078330993652,-11.050031661987305],\"yaxis\":\"y\",\"type\":\"scatter\",\"textposition\":\"top center\"},{\"hovertemplate\":\"color=cluster_26<br>x=%{x}<br>y=%{y}<br>text=%{text}<extra></extra>\",\"legendgroup\":\"cluster_26\",\"marker\":{\"color\":\"#620042\",\"symbol\":\"circle\"},\"mode\":\"markers+text\",\"name\":\"cluster_26\",\"orientation\":\"v\",\"showlegend\":true,\"text\":[\"Rust\",\"Deno\",\"Svelte\"],\"x\":[14.134134292602539,13.862910270690918,13.761236190795898],\"xaxis\":\"x\",\"y\":[-4.3357319831848145,-3.3199305534362793,-2.137993335723877],\"yaxis\":\"y\",\"type\":\"scatter\",\"textposition\":\"top center\"},{\"hovertemplate\":\"color=cluster_15<br>x=%{x}<br>y=%{y}<br>text=%{text}<extra></extra>\",\"legendgroup\":\"cluster_15\",\"marker\":{\"color\":\"#1616A7\",\"symbol\":\"circle\"},\"mode\":\"markers+text\",\"name\":\"cluster_15\",\"orientation\":\"v\",\"showlegend\":true,\"text\":[\"Scala\",\"OpenStack\",\"Play Framework\",\"Apache Spark\",\"Hadoop\",\"Spyder\"],\"x\":[-5.1719970703125,-1.1051154136657715,-4.6546735763549805,-1.602310299873352,-1.3783416748046875,-3.7710464000701904],\"xaxis\":\"x\",\"y\":[-9.968783378601074,-7.548088073730469,-9.242814064025879,-12.496299743652344,-11.65343952178955,-5.8070502281188965],\"yaxis\":\"y\",\"type\":\"scatter\",\"textposition\":\"top center\"},{\"hovertemplate\":\"color=cluster_7<br>x=%{x}<br>y=%{y}<br>text=%{text}<extra></extra>\",\"legendgroup\":\"cluster_7\",\"marker\":{\"color\":\"#DA60CA\",\"symbol\":\"circle\"},\"mode\":\"markers+text\",\"name\":\"cluster_7\",\"orientation\":\"v\",\"showlegend\":true,\"text\":[\"Cassandra\",\"DynamoDB\",\"Elasticsearch\",\"PostgreSQL\",\"Redis\",\"AWS\",\"Apache Kafka\",\"Docker\",\"Kubernetes\"],\"x\":[8.239849090576172,13.205389976501465,9.665101051330566,12.01018238067627,10.982855796813965,13.019796371459961,7.95784330368042,10.10439682006836,9.011629104614258],\"xaxis\":\"x\",\"y\":[-18.2596378326416,-12.092281341552734,-18.983356475830078,-18.402894973754883,-18.924049377441406,-13.141881942749023,-16.944841384887695,-14.489812850952148,-14.920994758605957],\"yaxis\":\"y\",\"type\":\"scatter\",\"textposition\":\"top center\"},{\"hovertemplate\":\"color=cluster_28<br>x=%{x}<br>y=%{y}<br>text=%{text}<extra></extra>\",\"legendgroup\":\"cluster_28\",\"marker\":{\"color\":\"#6C4516\",\"symbol\":\"circle\"},\"mode\":\"markers+text\",\"name\":\"cluster_28\",\"orientation\":\"v\",\"showlegend\":true,\"text\":[\"MongoDB\",\"Neo4j\"],\"x\":[1.5606917142868042,1.9794032573699951],\"xaxis\":\"x\",\"y\":[-16.98133659362793,-16.249452590942383],\"yaxis\":\"y\",\"type\":\"scatter\",\"textposition\":\"top center\"},{\"hovertemplate\":\"color=cluster_25<br>x=%{x}<br>y=%{y}<br>text=%{text}<extra></extra>\",\"legendgroup\":\"cluster_25\",\"marker\":{\"color\":\"#0D2A63\",\"symbol\":\"circle\"},\"mode\":\"markers+text\",\"name\":\"cluster_25\",\"orientation\":\"v\",\"showlegend\":true,\"text\":[\"Oracle\",\"Oracle Cloud Infrastructure\",\"Unity 3D\",\"Unreal Engine\"],\"x\":[-7.414945602416992,-7.183877468109131,-9.037413597106934,-8.411727905273438],\"xaxis\":\"x\",\"y\":[13.219388961791992,12.40280532836914,8.193582534790039,7.592629909515381],\"yaxis\":\"y\",\"type\":\"scatter\",\"textposition\":\"top center\"},{\"hovertemplate\":\"color=cluster_21<br>x=%{x}<br>y=%{y}<br>text=%{text}<extra></extra>\",\"legendgroup\":\"cluster_21\",\"marker\":{\"color\":\"#AF0038\",\"symbol\":\"circle\"},\"mode\":\"markers+text\",\"name\":\"cluster_21\",\"orientation\":\"v\",\"showlegend\":true,\"text\":[\"SQLite\",\"ASP.NET\",\"Blazor\",\"Uno Platform\",\"Xamarin\",\"Notepad++\"],\"x\":[4.729333400726318,3.1533091068267822,3.5678322315216064,3.727738857269287,4.231743812561035,1.1225377321243286],\"xaxis\":\"x\",\"y\":[19.182762145996094,24.220521926879883,22.782808303833008,21.302175521850586,20.207399368286133,23.886592864990234],\"yaxis\":\"y\",\"type\":\"scatter\",\"textposition\":\"top center\"},{\"hovertemplate\":\"color=cluster_12<br>x=%{x}<br>y=%{y}<br>text=%{text}<extra></extra>\",\"legendgroup\":\"cluster_12\",\"marker\":{\"color\":\"#2E91E5\",\"symbol\":\"circle\"},\"mode\":\"markers+text\",\"name\":\"cluster_12\",\"orientation\":\"v\",\"showlegend\":true,\"text\":[\"DigitalOcean\",\"Nuxt.js\",\"Vue.js\",\"React Native\",\"Atom\",\"Sublime Text\"],\"x\":[2.918400526046753,8.60185718536377,9.475044250488281,5.348267078399658,2.5502066612243652,4.991657257080078],\"xaxis\":\"x\",\"y\":[-0.12079159915447235,-0.9709370136260986,-0.9507574439048767,0.853374719619751,-2.2296652793884277,-1.9296367168426514],\"yaxis\":\"y\",\"type\":\"scatter\",\"textposition\":\"top center\"},{\"hovertemplate\":\"color=cluster_11<br>x=%{x}<br>y=%{y}<br>text=%{text}<extra></extra>\",\"legendgroup\":\"cluster_11\",\"marker\":{\"color\":\"#E15F99\",\"symbol\":\"circle\"},\"mode\":\"markers+text\",\"name\":\"cluster_11\",\"orientation\":\"v\",\"showlegend\":true,\"text\":[\"Heroku\",\"Django\",\"Electron\",\"Nano\",\"Rider\"],\"x\":[1.6357554197311401,2.9145452976226807,4.734431266784668,-0.12497614324092865,3.1871166229248047],\"xaxis\":\"x\",\"y\":[4.227726936340332,2.1461994647979736,3.9287736415863037,6.4535112380981445,6.871518611907959],\"yaxis\":\"y\",\"type\":\"scatter\",\"textposition\":\"top center\"},{\"hovertemplate\":\"color=cluster_10<br>x=%{x}<br>y=%{y}<br>text=%{text}<extra></extra>\",\"legendgroup\":\"cluster_10\",\"marker\":{\"color\":\"#1CA71C\",\"symbol\":\"circle\"},\"mode\":\"markers+text\",\"name\":\"cluster_10\",\"orientation\":\"v\",\"showlegend\":true,\"text\":[\"Angular\",\"Angular.js\",\"Capacitor\",\"Cordova\",\"Ionic\"],\"x\":[14.658270835876465,14.05662727355957,9.427970886230469,8.531403541564941,10.451841354370117],\"xaxis\":\"x\",\"y\":[4.687660217285156,5.3892412185668945,4.2256011962890625,4.861634731292725,4.3023505210876465],\"yaxis\":\"y\",\"type\":\"scatter\",\"textposition\":\"top center\"},{\"hovertemplate\":\"color=cluster_2<br>x=%{x}<br>y=%{y}<br>text=%{text}<extra></extra>\",\"legendgroup\":\"cluster_2\",\"marker\":{\"color\":\"#FB0D0D\",\"symbol\":\"circle\"},\"mode\":\"markers+text\",\"name\":\"cluster_2\",\"orientation\":\"v\",\"showlegend\":true,\"text\":[\"FastAPI\",\"Flask\",\"Hugging Face Transformers\",\"Keras\",\"Scikit-learn\",\"TensorFlow\",\"Torch/PyTorch\",\"IPython/Jupyter\",\"PyCharm\"],\"x\":[-7.973379135131836,-7.214104652404785,-10.951370239257812,-11.202424049377441,-12.884735107421875,-10.40779972076416,-11.91171646118164,-13.875482559204102,-9.159589767456055],\"xaxis\":\"x\",\"y\":[-18.28054428100586,-17.714025497436523,-21.83900260925293,-23.47298240661621,-23.92427635192871,-24.294286727905273,-21.68086814880371,-24.2045955657959,-19.746150970458984],\"yaxis\":\"y\",\"type\":\"scatter\",\"textposition\":\"top center\"},{\"hovertemplate\":\"color=cluster_24<br>x=%{x}<br>y=%{y}<br>text=%{text}<extra></extra>\",\"legendgroup\":\"cluster_24\",\"marker\":{\"color\":\"#DA16FF\",\"symbol\":\"circle\"},\"mode\":\"markers+text\",\"name\":\"cluster_24\",\"orientation\":\"v\",\"showlegend\":true,\"text\":[\"Gatsby\",\"Next.js\",\"React.js\",\"Yarn\"],\"x\":[20.42638397216797,21.72161102294922,22.753297805786133,22.46809196472168],\"xaxis\":\"x\",\"y\":[-4.710477352142334,-4.333746910095215,-3.3768229484558105,-5.055366516113281],\"yaxis\":\"y\",\"type\":\"scatter\",\"textposition\":\"top center\"}],                        {\"template\":{\"data\":{\"histogram2dcontour\":[{\"type\":\"histogram2dcontour\",\"colorbar\":{\"outlinewidth\":0,\"ticks\":\"\"},\"colorscale\":[[0.0,\"#0d0887\"],[0.1111111111111111,\"#46039f\"],[0.2222222222222222,\"#7201a8\"],[0.3333333333333333,\"#9c179e\"],[0.4444444444444444,\"#bd3786\"],[0.5555555555555556,\"#d8576b\"],[0.6666666666666666,\"#ed7953\"],[0.7777777777777778,\"#fb9f3a\"],[0.8888888888888888,\"#fdca26\"],[1.0,\"#f0f921\"]]}],\"choropleth\":[{\"type\":\"choropleth\",\"colorbar\":{\"outlinewidth\":0,\"ticks\":\"\"}}],\"histogram2d\":[{\"type\":\"histogram2d\",\"colorbar\":{\"outlinewidth\":0,\"ticks\":\"\"},\"colorscale\":[[0.0,\"#0d0887\"],[0.1111111111111111,\"#46039f\"],[0.2222222222222222,\"#7201a8\"],[0.3333333333333333,\"#9c179e\"],[0.4444444444444444,\"#bd3786\"],[0.5555555555555556,\"#d8576b\"],[0.6666666666666666,\"#ed7953\"],[0.7777777777777778,\"#fb9f3a\"],[0.8888888888888888,\"#fdca26\"],[1.0,\"#f0f921\"]]}],\"heatmap\":[{\"type\":\"heatmap\",\"colorbar\":{\"outlinewidth\":0,\"ticks\":\"\"},\"colorscale\":[[0.0,\"#0d0887\"],[0.1111111111111111,\"#46039f\"],[0.2222222222222222,\"#7201a8\"],[0.3333333333333333,\"#9c179e\"],[0.4444444444444444,\"#bd3786\"],[0.5555555555555556,\"#d8576b\"],[0.6666666666666666,\"#ed7953\"],[0.7777777777777778,\"#fb9f3a\"],[0.8888888888888888,\"#fdca26\"],[1.0,\"#f0f921\"]]}],\"heatmapgl\":[{\"type\":\"heatmapgl\",\"colorbar\":{\"outlinewidth\":0,\"ticks\":\"\"},\"colorscale\":[[0.0,\"#0d0887\"],[0.1111111111111111,\"#46039f\"],[0.2222222222222222,\"#7201a8\"],[0.3333333333333333,\"#9c179e\"],[0.4444444444444444,\"#bd3786\"],[0.5555555555555556,\"#d8576b\"],[0.6666666666666666,\"#ed7953\"],[0.7777777777777778,\"#fb9f3a\"],[0.8888888888888888,\"#fdca26\"],[1.0,\"#f0f921\"]]}],\"contourcarpet\":[{\"type\":\"contourcarpet\",\"colorbar\":{\"outlinewidth\":0,\"ticks\":\"\"}}],\"contour\":[{\"type\":\"contour\",\"colorbar\":{\"outlinewidth\":0,\"ticks\":\"\"},\"colorscale\":[[0.0,\"#0d0887\"],[0.1111111111111111,\"#46039f\"],[0.2222222222222222,\"#7201a8\"],[0.3333333333333333,\"#9c179e\"],[0.4444444444444444,\"#bd3786\"],[0.5555555555555556,\"#d8576b\"],[0.6666666666666666,\"#ed7953\"],[0.7777777777777778,\"#fb9f3a\"],[0.8888888888888888,\"#fdca26\"],[1.0,\"#f0f921\"]]}],\"surface\":[{\"type\":\"surface\",\"colorbar\":{\"outlinewidth\":0,\"ticks\":\"\"},\"colorscale\":[[0.0,\"#0d0887\"],[0.1111111111111111,\"#46039f\"],[0.2222222222222222,\"#7201a8\"],[0.3333333333333333,\"#9c179e\"],[0.4444444444444444,\"#bd3786\"],[0.5555555555555556,\"#d8576b\"],[0.6666666666666666,\"#ed7953\"],[0.7777777777777778,\"#fb9f3a\"],[0.8888888888888888,\"#fdca26\"],[1.0,\"#f0f921\"]]}],\"mesh3d\":[{\"type\":\"mesh3d\",\"colorbar\":{\"outlinewidth\":0,\"ticks\":\"\"}}],\"scatter\":[{\"marker\":{\"line\":{\"color\":\"#283442\"}},\"type\":\"scatter\"}],\"parcoords\":[{\"type\":\"parcoords\",\"line\":{\"colorbar\":{\"outlinewidth\":0,\"ticks\":\"\"}}}],\"scatterpolargl\":[{\"type\":\"scatterpolargl\",\"marker\":{\"colorbar\":{\"outlinewidth\":0,\"ticks\":\"\"}}}],\"bar\":[{\"error_x\":{\"color\":\"#f2f5fa\"},\"error_y\":{\"color\":\"#f2f5fa\"},\"marker\":{\"line\":{\"color\":\"rgb(17,17,17)\",\"width\":0.5},\"pattern\":{\"fillmode\":\"overlay\",\"size\":10,\"solidity\":0.2}},\"type\":\"bar\"}],\"scattergeo\":[{\"type\":\"scattergeo\",\"marker\":{\"colorbar\":{\"outlinewidth\":0,\"ticks\":\"\"}}}],\"scatterpolar\":[{\"type\":\"scatterpolar\",\"marker\":{\"colorbar\":{\"outlinewidth\":0,\"ticks\":\"\"}}}],\"histogram\":[{\"marker\":{\"pattern\":{\"fillmode\":\"overlay\",\"size\":10,\"solidity\":0.2}},\"type\":\"histogram\"}],\"scattergl\":[{\"marker\":{\"line\":{\"color\":\"#283442\"}},\"type\":\"scattergl\"}],\"scatter3d\":[{\"type\":\"scatter3d\",\"line\":{\"colorbar\":{\"outlinewidth\":0,\"ticks\":\"\"}},\"marker\":{\"colorbar\":{\"outlinewidth\":0,\"ticks\":\"\"}}}],\"scattermapbox\":[{\"type\":\"scattermapbox\",\"marker\":{\"colorbar\":{\"outlinewidth\":0,\"ticks\":\"\"}}}],\"scatterternary\":[{\"type\":\"scatterternary\",\"marker\":{\"colorbar\":{\"outlinewidth\":0,\"ticks\":\"\"}}}],\"scattercarpet\":[{\"type\":\"scattercarpet\",\"marker\":{\"colorbar\":{\"outlinewidth\":0,\"ticks\":\"\"}}}],\"carpet\":[{\"aaxis\":{\"endlinecolor\":\"#A2B1C6\",\"gridcolor\":\"#506784\",\"linecolor\":\"#506784\",\"minorgridcolor\":\"#506784\",\"startlinecolor\":\"#A2B1C6\"},\"baxis\":{\"endlinecolor\":\"#A2B1C6\",\"gridcolor\":\"#506784\",\"linecolor\":\"#506784\",\"minorgridcolor\":\"#506784\",\"startlinecolor\":\"#A2B1C6\"},\"type\":\"carpet\"}],\"table\":[{\"cells\":{\"fill\":{\"color\":\"#506784\"},\"line\":{\"color\":\"rgb(17,17,17)\"}},\"header\":{\"fill\":{\"color\":\"#2a3f5f\"},\"line\":{\"color\":\"rgb(17,17,17)\"}},\"type\":\"table\"}],\"barpolar\":[{\"marker\":{\"line\":{\"color\":\"rgb(17,17,17)\",\"width\":0.5},\"pattern\":{\"fillmode\":\"overlay\",\"size\":10,\"solidity\":0.2}},\"type\":\"barpolar\"}],\"pie\":[{\"automargin\":true,\"type\":\"pie\"}]},\"layout\":{\"autotypenumbers\":\"strict\",\"colorway\":[\"#636efa\",\"#EF553B\",\"#00cc96\",\"#ab63fa\",\"#FFA15A\",\"#19d3f3\",\"#FF6692\",\"#B6E880\",\"#FF97FF\",\"#FECB52\"],\"font\":{\"color\":\"#f2f5fa\"},\"hovermode\":\"closest\",\"hoverlabel\":{\"align\":\"left\"},\"paper_bgcolor\":\"rgb(17,17,17)\",\"plot_bgcolor\":\"rgb(17,17,17)\",\"polar\":{\"bgcolor\":\"rgb(17,17,17)\",\"angularaxis\":{\"gridcolor\":\"#506784\",\"linecolor\":\"#506784\",\"ticks\":\"\"},\"radialaxis\":{\"gridcolor\":\"#506784\",\"linecolor\":\"#506784\",\"ticks\":\"\"}},\"ternary\":{\"bgcolor\":\"rgb(17,17,17)\",\"aaxis\":{\"gridcolor\":\"#506784\",\"linecolor\":\"#506784\",\"ticks\":\"\"},\"baxis\":{\"gridcolor\":\"#506784\",\"linecolor\":\"#506784\",\"ticks\":\"\"},\"caxis\":{\"gridcolor\":\"#506784\",\"linecolor\":\"#506784\",\"ticks\":\"\"}},\"coloraxis\":{\"colorbar\":{\"outlinewidth\":0,\"ticks\":\"\"}},\"colorscale\":{\"sequential\":[[0.0,\"#0d0887\"],[0.1111111111111111,\"#46039f\"],[0.2222222222222222,\"#7201a8\"],[0.3333333333333333,\"#9c179e\"],[0.4444444444444444,\"#bd3786\"],[0.5555555555555556,\"#d8576b\"],[0.6666666666666666,\"#ed7953\"],[0.7777777777777778,\"#fb9f3a\"],[0.8888888888888888,\"#fdca26\"],[1.0,\"#f0f921\"]],\"sequentialminus\":[[0.0,\"#0d0887\"],[0.1111111111111111,\"#46039f\"],[0.2222222222222222,\"#7201a8\"],[0.3333333333333333,\"#9c179e\"],[0.4444444444444444,\"#bd3786\"],[0.5555555555555556,\"#d8576b\"],[0.6666666666666666,\"#ed7953\"],[0.7777777777777778,\"#fb9f3a\"],[0.8888888888888888,\"#fdca26\"],[1.0,\"#f0f921\"]],\"diverging\":[[0,\"#8e0152\"],[0.1,\"#c51b7d\"],[0.2,\"#de77ae\"],[0.3,\"#f1b6da\"],[0.4,\"#fde0ef\"],[0.5,\"#f7f7f7\"],[0.6,\"#e6f5d0\"],[0.7,\"#b8e186\"],[0.8,\"#7fbc41\"],[0.9,\"#4d9221\"],[1,\"#276419\"]]},\"xaxis\":{\"gridcolor\":\"#283442\",\"linecolor\":\"#506784\",\"ticks\":\"\",\"title\":{\"standoff\":15},\"zerolinecolor\":\"#283442\",\"automargin\":true,\"zerolinewidth\":2},\"yaxis\":{\"gridcolor\":\"#283442\",\"linecolor\":\"#506784\",\"ticks\":\"\",\"title\":{\"standoff\":15},\"zerolinecolor\":\"#283442\",\"automargin\":true,\"zerolinewidth\":2},\"scene\":{\"xaxis\":{\"backgroundcolor\":\"rgb(17,17,17)\",\"gridcolor\":\"#506784\",\"linecolor\":\"#506784\",\"showbackground\":true,\"ticks\":\"\",\"zerolinecolor\":\"#C8D4E3\",\"gridwidth\":2},\"yaxis\":{\"backgroundcolor\":\"rgb(17,17,17)\",\"gridcolor\":\"#506784\",\"linecolor\":\"#506784\",\"showbackground\":true,\"ticks\":\"\",\"zerolinecolor\":\"#C8D4E3\",\"gridwidth\":2},\"zaxis\":{\"backgroundcolor\":\"rgb(17,17,17)\",\"gridcolor\":\"#506784\",\"linecolor\":\"#506784\",\"showbackground\":true,\"ticks\":\"\",\"zerolinecolor\":\"#C8D4E3\",\"gridwidth\":2}},\"shapedefaults\":{\"line\":{\"color\":\"#f2f5fa\"}},\"annotationdefaults\":{\"arrowcolor\":\"#f2f5fa\",\"arrowhead\":0,\"arrowwidth\":1},\"geo\":{\"bgcolor\":\"rgb(17,17,17)\",\"landcolor\":\"rgb(17,17,17)\",\"subunitcolor\":\"#506784\",\"showland\":true,\"showlakes\":true,\"lakecolor\":\"rgb(17,17,17)\"},\"title\":{\"x\":0.05},\"updatemenudefaults\":{\"bgcolor\":\"#506784\",\"borderwidth\":0},\"sliderdefaults\":{\"bgcolor\":\"#C8D4E3\",\"borderwidth\":1,\"bordercolor\":\"rgb(17,17,17)\",\"tickwidth\":0},\"mapbox\":{\"style\":\"dark\"}}},\"xaxis\":{\"anchor\":\"y\",\"domain\":[0.0,1.0],\"title\":{\"text\":\"x\"}},\"yaxis\":{\"anchor\":\"x\",\"domain\":[0.0,1.0],\"title\":{\"text\":\"y\"}},\"legend\":{\"title\":{\"text\":\"color\"},\"tracegroupgap\":0},\"margin\":{\"t\":60},\"title\":{\"text\":\"Clustering top skills for All roles\"},\"height\":900,\"width\":1500},                        {\"responsive\": true}                    ).then(function(){\n                            \nvar gd = document.getElementById('37c5ad92-8ac6-4a6f-838f-ecee16f9d792');\nvar x = new MutationObserver(function (mutations, observer) {{\n        var display = window.getComputedStyle(gd).display;\n        if (!display || display === 'none') {{\n            console.log([gd, 'removed!']);\n            Plotly.purge(gd);\n            observer.disconnect();\n        }}\n}});\n\n// Listen for the removal of the full notebook cells\nvar notebookContainer = gd.closest('#notebook-container');\nif (notebookContainer) {{\n    x.observe(notebookContainer, {childList: true});\n}}\n\n// Listen for the clearing of the current output cell\nvar outputEl = gd.closest('.output');\nif (outputEl) {{\n    x.observe(outputEl, {childList: true});\n}}\n\n                        })                };                });            </script>        </div>"
     },
     "metadata": {},
     "output_type": "display_data"
    }
   ],
   "source": [
    "all_skills = skills_dev_df.drop('DevType', axis = 1, level = 0).droplevel(axis = 1, level = 0).T\n",
    "all_skills_tsne = reduce_dimensions(all_skills)\n",
    "best_k, best_labels_all_skills = evaluate_cluster_model(all_skills_tsne, range_clusters=range(5,30), plot = True)\n",
    "visualize_chosen_cluster_model('All roles', all_skills_tsne, best_labels_all_skills)"
   ],
   "metadata": {
    "collapsed": false
   }
  },
  {
   "cell_type": "code",
   "execution_count": 72,
   "outputs": [
    {
     "name": "stdout",
     "output_type": "stream",
     "text": [
      "cluster_0 ['Clojure', 'LISP', 'Cloud Firestore', 'Firebase Realtime Database', 'Firebase', 'Google Cloud', 'Emacs']\n",
      "cluster_1 ['COBOL', 'F#', 'PowerShell', 'IBM DB2', 'Eclipse', 'NetBeans']\n",
      "cluster_10 ['Angular', 'Angular.js', 'Capacitor', 'Cordova', 'Ionic']\n",
      "cluster_11 ['Heroku', 'Django', 'Electron', 'Nano', 'Rider']\n",
      "cluster_12 ['DigitalOcean', 'Nuxt.js', 'Vue.js', 'React Native', 'Atom', 'Sublime Text']\n",
      "cluster_13 ['PHP', 'MariaDB', 'MySQL', 'Drupal', 'Laravel', 'Symfony', 'jQuery', 'PhpStorm']\n",
      "cluster_14 ['Groovy', 'Java', 'Spring', 'IntelliJ']\n",
      "cluster_15 ['Scala', 'OpenStack', 'Play Framework', 'Apache Spark', 'Hadoop', 'Spyder']\n",
      "cluster_16 ['Objective-C', 'Swift', 'Xcode']\n",
      "cluster_17 ['Bash/Shell', 'Perl', 'Vim']\n",
      "cluster_18 ['Python', 'NumPy', 'Pandas']\n",
      "cluster_19 ['Dart', 'Flutter', 'Android Studio']\n",
      "cluster_2 ['FastAPI', 'Flask', 'Hugging Face Transformers', 'Keras', 'Scikit-learn', 'TensorFlow', 'Torch/PyTorch', 'IPython/Jupyter', 'PyCharm']\n",
      "cluster_20 ['Delphi', 'RAD Studio (Delphi_C++ Builder)']\n",
      "cluster_21 ['SQLite', 'ASP.NET', 'Blazor', 'Uno Platform', 'Xamarin', 'Notepad++']\n",
      "cluster_22 ['C#', 'SQL', 'Microsoft SQL Server', 'Microsoft Azure', 'ASP.NET Core ', '.NET', 'Visual Studio']\n",
      "cluster_23 ['Erlang', 'Julia', 'MATLAB', 'RubyMine', 'TextMate']\n",
      "cluster_24 ['Gatsby', 'Next.js', 'React.js', 'Yarn']\n",
      "cluster_25 ['Oracle', 'Oracle Cloud Infrastructure', 'Unity 3D', 'Unreal Engine']\n",
      "cluster_26 ['Rust', 'Deno', 'Svelte']\n",
      "cluster_27 ['R', 'Tidyverse', 'RStudio']\n",
      "cluster_28 ['MongoDB', 'Neo4j']\n",
      "cluster_3 ['Elixir', 'Ruby', 'Phoenix', 'Ruby on Rails', 'Homebrew']\n",
      "cluster_4 ['Go', 'Kotlin', 'CouchDB', 'Ansible', 'Chef', 'Pulumi', 'Terraform', 'GoLand']\n",
      "cluster_5 ['APL', 'Crystal', 'SAS', 'Solidity', 'VBA', 'Couchbase', 'Colocation', 'Linode', 'Managed Hosting', 'OVH', 'VMware', 'Flow', 'Puppet', 'CLion', 'Webstorm']\n",
      "cluster_6 ['HTML/CSS', 'JavaScript', 'TypeScript', 'Express', 'Fastify', 'Node.js', 'npm', 'Visual Studio Code']\n",
      "cluster_7 ['Cassandra', 'DynamoDB', 'Elasticsearch', 'PostgreSQL', 'Redis', 'AWS', 'Apache Kafka', 'Docker', 'Kubernetes']\n",
      "cluster_8 ['Assembly', 'C', 'C++', 'Qt', 'Qt Creator']\n",
      "cluster_9 ['Fortran', 'Haskell', 'Lua', 'OCaml', 'IBM Cloud or Watson', 'GTK', 'Neovim']\n"
     ]
    }
   ],
   "source": [
    "for label in sorted(set(best_labels_all_skills)):\n",
    "    print(label, list(all_skills_tsne[best_labels_all_skills==label].index))"
   ],
   "metadata": {
    "collapsed": false
   }
  },
  {
   "cell_type": "code",
   "execution_count": 19,
   "outputs": [],
   "source": [],
   "metadata": {
    "collapsed": false
   }
  }
 ],
 "metadata": {
  "kernelspec": {
   "display_name": "Python 3",
   "language": "python",
   "name": "python3"
  },
  "language_info": {
   "codemirror_mode": {
    "name": "ipython",
    "version": 2
   },
   "file_extension": ".py",
   "mimetype": "text/x-python",
   "name": "python",
   "nbconvert_exporter": "python",
   "pygments_lexer": "ipython2",
   "version": "2.7.6"
  }
 },
 "nbformat": 4,
 "nbformat_minor": 0
}
