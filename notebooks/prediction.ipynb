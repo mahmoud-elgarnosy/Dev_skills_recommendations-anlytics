{
 "cells": [
  {
   "cell_type": "code",
   "execution_count": 1,
   "outputs": [],
   "source": [
    "import sys\n",
    "import os\n",
    "\n",
    "SCRIPT_DIR = os.path.dirname(os.path.abspath('src'))\n",
    "sys.path.append(os.path.dirname(SCRIPT_DIR))\n"
   ],
   "metadata": {
    "collapsed": false
   }
  },
  {
   "cell_type": "code",
   "execution_count": 18,
   "outputs": [],
   "source": [
    "from src.utils import MlflowUtils\n",
    "import pandas as pd"
   ],
   "metadata": {
    "collapsed": false
   }
  },
  {
   "cell_type": "code",
   "execution_count": 2,
   "outputs": [],
   "source": [],
   "metadata": {
    "collapsed": false
   }
  },
  {
   "cell_type": "code",
   "execution_count": 10,
   "outputs": [
    {
     "data": {
      "text/plain": "                             run_id       experiment_id    status  \\\n0  1322b09ddb9d426cad3ac3daf4660537  958618704808840933  FINISHED   \n1  43195e239dba4a019673403231ba12a5  958618704808840933  FINISHED   \n2  e2c46294be34495486dc6d762fafe67c  958618704808840933  FINISHED   \n\n                                        artifact_uri  \\\n0  file:///E:/M_Hassan/AI_Work/StackOverflow_skil...   \n1  file:///E:/M_Hassan/AI_Work/StackOverflow_skil...   \n2  file:///E:/M_Hassan/AI_Work/StackOverflow_skil...   \n\n                        start_time                         end_time  \\\n0 2023-08-02 15:51:23.276000+00:00 2023-08-02 15:51:23.315000+00:00   \n1 2023-08-02 15:49:13.770000+00:00 2023-08-02 15:49:13.802000+00:00   \n2 2023-08-02 15:49:13.701000+00:00 2023-08-02 15:49:13.732000+00:00   \n\n   metrics.recall  metrics.precision  metrics.f1_score  metrics.accuracy  \\\n0        0.509404           0.555285          0.510416          0.902808   \n1        0.326518           0.507593          0.376317          0.893628   \n2        0.409184           0.535965          0.450255          0.898233   \n\n  tags.mlflow.user tags.mlflow.source.type  \\\n0          mhassan                   LOCAL   \n1          mhassan                   LOCAL   \n2          mhassan                   LOCAL   \n\n                             tags.mlflow.source.name  \\\n0  C:\\Users\\salshahed\\AppData\\Roaming\\Python\\Pyth...   \n1  C:\\Users\\salshahed\\AppData\\Roaming\\Python\\Pyth...   \n2  C:\\Users\\salshahed\\AppData\\Roaming\\Python\\Pyth...   \n\n                     tags.mlflow.runName  \n0                  3.basic_XGBoost_Model  \n1  2.basic_model_with_clustered_features  \n2   1.basic_model_with_original_features  ",
      "text/html": "<div>\n<style scoped>\n    .dataframe tbody tr th:only-of-type {\n        vertical-align: middle;\n    }\n\n    .dataframe tbody tr th {\n        vertical-align: top;\n    }\n\n    .dataframe thead th {\n        text-align: right;\n    }\n</style>\n<table border=\"1\" class=\"dataframe\">\n  <thead>\n    <tr style=\"text-align: right;\">\n      <th></th>\n      <th>run_id</th>\n      <th>experiment_id</th>\n      <th>status</th>\n      <th>artifact_uri</th>\n      <th>start_time</th>\n      <th>end_time</th>\n      <th>metrics.recall</th>\n      <th>metrics.precision</th>\n      <th>metrics.f1_score</th>\n      <th>metrics.accuracy</th>\n      <th>tags.mlflow.user</th>\n      <th>tags.mlflow.source.type</th>\n      <th>tags.mlflow.source.name</th>\n      <th>tags.mlflow.runName</th>\n    </tr>\n  </thead>\n  <tbody>\n    <tr>\n      <th>0</th>\n      <td>1322b09ddb9d426cad3ac3daf4660537</td>\n      <td>958618704808840933</td>\n      <td>FINISHED</td>\n      <td>file:///E:/M_Hassan/AI_Work/StackOverflow_skil...</td>\n      <td>2023-08-02 15:51:23.276000+00:00</td>\n      <td>2023-08-02 15:51:23.315000+00:00</td>\n      <td>0.509404</td>\n      <td>0.555285</td>\n      <td>0.510416</td>\n      <td>0.902808</td>\n      <td>mhassan</td>\n      <td>LOCAL</td>\n      <td>C:\\Users\\salshahed\\AppData\\Roaming\\Python\\Pyth...</td>\n      <td>3.basic_XGBoost_Model</td>\n    </tr>\n    <tr>\n      <th>1</th>\n      <td>43195e239dba4a019673403231ba12a5</td>\n      <td>958618704808840933</td>\n      <td>FINISHED</td>\n      <td>file:///E:/M_Hassan/AI_Work/StackOverflow_skil...</td>\n      <td>2023-08-02 15:49:13.770000+00:00</td>\n      <td>2023-08-02 15:49:13.802000+00:00</td>\n      <td>0.326518</td>\n      <td>0.507593</td>\n      <td>0.376317</td>\n      <td>0.893628</td>\n      <td>mhassan</td>\n      <td>LOCAL</td>\n      <td>C:\\Users\\salshahed\\AppData\\Roaming\\Python\\Pyth...</td>\n      <td>2.basic_model_with_clustered_features</td>\n    </tr>\n    <tr>\n      <th>2</th>\n      <td>e2c46294be34495486dc6d762fafe67c</td>\n      <td>958618704808840933</td>\n      <td>FINISHED</td>\n      <td>file:///E:/M_Hassan/AI_Work/StackOverflow_skil...</td>\n      <td>2023-08-02 15:49:13.701000+00:00</td>\n      <td>2023-08-02 15:49:13.732000+00:00</td>\n      <td>0.409184</td>\n      <td>0.535965</td>\n      <td>0.450255</td>\n      <td>0.898233</td>\n      <td>mhassan</td>\n      <td>LOCAL</td>\n      <td>C:\\Users\\salshahed\\AppData\\Roaming\\Python\\Pyth...</td>\n      <td>1.basic_model_with_original_features</td>\n    </tr>\n  </tbody>\n</table>\n</div>"
     },
     "execution_count": 10,
     "metadata": {},
     "output_type": "execute_result"
    }
   ],
   "source": [
    "MlflowUtils.get_runs()"
   ],
   "metadata": {
    "collapsed": false
   }
  },
  {
   "cell_type": "code",
   "execution_count": 4,
   "outputs": [
    {
     "data": {
      "text/plain": "['3.basic_XGBoost_Model',\n '2.basic_model_with_clustered_features',\n '1.basic_model_with_original_features']"
     },
     "execution_count": 4,
     "metadata": {},
     "output_type": "execute_result"
    }
   ],
   "source": [
    "MlflowUtils.get_run_names()"
   ],
   "metadata": {
    "collapsed": false
   }
  },
  {
   "cell_type": "code",
   "execution_count": 6,
   "outputs": [
    {
     "data": {
      "text/plain": "'1322b09ddb9d426cad3ac3daf4660537'"
     },
     "execution_count": 6,
     "metadata": {},
     "output_type": "execute_result"
    }
   ],
   "source": [
    "run_id = MlflowUtils.get_run_id_by_metrix(metrix_name='recall')\n",
    "run_id"
   ],
   "metadata": {
    "collapsed": false
   }
  },
  {
   "cell_type": "code",
   "execution_count": 11,
   "outputs": [
    {
     "data": {
      "text/plain": "dict_keys(['metrics', 'data_details', 'matrices', 'model'])"
     },
     "execution_count": 11,
     "metadata": {},
     "output_type": "execute_result"
    }
   ],
   "source": [
    "logged_data = MlflowUtils.fetch_logged_data(tracking_uri='../models/runs', run_id=run_id)\n",
    "\n",
    "logged_data.keys()"
   ],
   "metadata": {
    "collapsed": false
   }
  },
  {
   "cell_type": "code",
   "execution_count": 220,
   "outputs": [
    {
     "data": {
      "text/plain": "Empty DataFrame\nColumns: [APL, Assembly, Bash/Shell, C, C#, C++, COBOL, Clojure, Crystal, Dart, Delphi, Elixir, Erlang, F#, Fortran, Go, Groovy, HTML/CSS, Haskell, Java, JavaScript, Julia, Kotlin, LISP, Lua, MATLAB, OCaml, Objective-C, PHP, Perl, PowerShell, Python, R, Ruby, Rust, SAS, SQL, Scala, Solidity, Swift, TypeScript, VBA, Cassandra, Cloud Firestore, CouchDB, Couchbase, DynamoDB, Elasticsearch, Firebase Realtime Database, IBM DB2, MariaDB, Microsoft SQL Server, MongoDB, MySQL, Neo4j, Oracle, PostgreSQL, Redis, SQLite, AWS, Colocation, DigitalOcean, Firebase, Google Cloud, Heroku, IBM Cloud or Watson, Linode, Managed Hosting, Microsoft Azure, OVH, OpenStack, Oracle Cloud Infrastructure, VMware, ASP.NET, ASP.NET Core , Angular, Angular.js, Blazor, Deno, Django, Drupal, Express, FastAPI, Fastify, Flask, Gatsby, Laravel, Next.js, Node.js, Nuxt.js, Phoenix, Play Framework, React.js, Ruby on Rails, Svelte, Symfony, Vue.js, jQuery, .NET, Apache Kafka, ...]\nIndex: []\n\n[0 rows x 161 columns]",
      "text/html": "<div>\n<style scoped>\n    .dataframe tbody tr th:only-of-type {\n        vertical-align: middle;\n    }\n\n    .dataframe tbody tr th {\n        vertical-align: top;\n    }\n\n    .dataframe thead th {\n        text-align: right;\n    }\n</style>\n<table border=\"1\" class=\"dataframe\">\n  <thead>\n    <tr style=\"text-align: right;\">\n      <th></th>\n      <th>APL</th>\n      <th>Assembly</th>\n      <th>Bash/Shell</th>\n      <th>C</th>\n      <th>C#</th>\n      <th>C++</th>\n      <th>COBOL</th>\n      <th>Clojure</th>\n      <th>Crystal</th>\n      <th>Dart</th>\n      <th>...</th>\n      <th>Rider</th>\n      <th>RubyMine</th>\n      <th>Spyder</th>\n      <th>Sublime Text</th>\n      <th>TextMate</th>\n      <th>Vim</th>\n      <th>Visual Studio</th>\n      <th>Visual Studio Code</th>\n      <th>Webstorm</th>\n      <th>Xcode</th>\n    </tr>\n  </thead>\n  <tbody>\n  </tbody>\n</table>\n<p>0 rows × 161 columns</p>\n</div>"
     },
     "execution_count": 220,
     "metadata": {},
     "output_type": "execute_result"
    }
   ],
   "source": [
    "features_names = logged_data['data_details']['features_names']\n",
    "target_names = logged_data['data_details']['target_names']\n",
    "\n",
    "df = pd.DataFrame(columns = features_names)\n",
    "df"
   ],
   "metadata": {
    "collapsed": false
   }
  },
  {
   "cell_type": "code",
   "execution_count": 295,
   "outputs": [],
   "source": [
    "have_skills = ['HTML/CSS', 'Angular']\n",
    "want_to_skills = ['PHP', 'Laravel', 'MariaDB', 'Vue.js']"
   ],
   "metadata": {
    "collapsed": false
   }
  },
  {
   "cell_type": "code",
   "execution_count": 296,
   "outputs": [],
   "source": [
    "df.loc[0, :] =  0\n",
    "df.loc[0, have_skills] = 1.5\n",
    "\n",
    "df = df[logged_data['data_details']['features_names']]"
   ],
   "metadata": {
    "collapsed": false
   }
  },
  {
   "cell_type": "code",
   "execution_count": 297,
   "outputs": [],
   "source": [
    "model = logged_data['model']['model_object']"
   ],
   "metadata": {
    "collapsed": false
   }
  },
  {
   "cell_type": "code",
   "execution_count": 298,
   "outputs": [],
   "source": [
    "predictions = model.predict_proba(df)"
   ],
   "metadata": {
    "collapsed": false
   }
  },
  {
   "cell_type": "code",
   "execution_count": 299,
   "outputs": [
    {
     "data": {
      "text/plain": "Developer_full-stack                             0.333346\nDeveloper_front-end                              0.300872\nDeveloper_back-end                               0.203028\nScientist                                        0.126696\nAcademic researcher                              0.121434\nDeveloper_desktop or enterprise applications     0.091584\nData or business analyst                         0.071635\nDeveloper_mobile                                 0.065024\nDeveloper_game or graphics                       0.049251\nEngineer_data                                    0.048104\nDeveloper_embedded applications or devices       0.036334\nBlockchain                                       0.035645\nDevOps specialist                                0.028256\nfull_stack_PHP                                   0.022414\nData scientist or machine learning specialist    0.021084\nEngineer_site reliability                        0.019533\nCloud infrastructure engineer                    0.017552\nback_end_PHP                                     0.013119\nfull_stack_.JavaScript                           0.005719\nback_end_python                                  0.004734\nfull_stack_.NET                                  0.004674\nback_end_C++                                     0.004149\nfull_stack_python                                0.004110\nback_end_.NET                                    0.002891\nback_end_.JavaScript                             0.002809\nfull_stack_Java                                  0.001359\nback_end_Java                                    0.001017\ndtype: float32"
     },
     "execution_count": 299,
     "metadata": {},
     "output_type": "execute_result"
    }
   ],
   "source": [
    "positive_probs = [prob[0][1] for prob in predictions]\n",
    "pd.Series(positive_probs,\n",
    "          index=target_names).sort_values(ascending=False)"
   ],
   "metadata": {
    "collapsed": false
   }
  },
  {
   "cell_type": "code",
   "execution_count": 168,
   "outputs": [
    {
     "data": {
      "text/plain": "0.11433626"
     },
     "execution_count": 168,
     "metadata": {},
     "output_type": "execute_result"
    }
   ],
   "source": [
    "predictions[0][0][1]"
   ],
   "metadata": {
    "collapsed": false
   }
  },
  {
   "cell_type": "code",
   "execution_count": null,
   "outputs": [],
   "source": [],
   "metadata": {
    "collapsed": false
   }
  }
 ],
 "metadata": {
  "kernelspec": {
   "name": "smart_health3",
   "language": "python",
   "display_name": "smart_health3"
  },
  "language_info": {
   "codemirror_mode": {
    "name": "ipython",
    "version": 2
   },
   "file_extension": ".py",
   "mimetype": "text/x-python",
   "name": "python",
   "nbconvert_exporter": "python",
   "pygments_lexer": "ipython2",
   "version": "2.7.6"
  }
 },
 "nbformat": 4,
 "nbformat_minor": 0
}
