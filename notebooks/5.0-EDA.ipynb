{
 "cells": [
  {
   "cell_type": "code",
   "execution_count": 2,
   "outputs": [],
   "source": [
    "import pandas as pd"
   ],
   "metadata": {
    "collapsed": false
   }
  },
  {
   "cell_type": "code",
   "execution_count": 2,
   "outputs": [],
   "source": [],
   "metadata": {
    "collapsed": false
   }
  },
  {
   "cell_type": "code",
   "execution_count": 3,
   "outputs": [],
   "source": [
    "FILE_PATH = '../data/raw/survey_results_public.csv'\n",
    "LOAD_PATH = '../data/interim/'\n",
    "LOAD_DF_NAME = '4.0-preprocessed-data_rec.pkl'"
   ],
   "metadata": {
    "collapsed": false
   }
  },
  {
   "cell_type": "markdown",
   "source": [
    "# Load Data"
   ],
   "metadata": {
    "collapsed": false
   }
  },
  {
   "cell_type": "code",
   "execution_count": 4,
   "outputs": [],
   "source": [
    "survey = pd.read_pickle(LOAD_PATH + LOAD_DF_NAME)"
   ],
   "metadata": {
    "collapsed": false
   }
  },
  {
   "cell_type": "code",
   "execution_count": 5,
   "outputs": [
    {
     "data": {
      "text/plain": "      MainBranch         Employment                     \\\n      MainBranch Employed_full-time Employed_part-time   \n2              0                  1                  0   \n3              1                  1                  0   \n4              1                  1                  0   \n7              1                  0                  0   \n9              1                  0                  0   \n...          ...                ...                ...   \n73263          1                  1                  0   \n73264          1                  1                  0   \n73265          0                  1                  0   \n73266          1                  1                  0   \n73267          1                  0                  0   \n\n                                                          \\\n      Independent contractor_freelancer_or self-employed   \n2                                                      0   \n3                                                      0   \n4                                                      0   \n7                                                      0   \n9                                                      1   \n...                                                  ...   \n73263                                                  0   \n73264                                                  0   \n73265                                                  0   \n73266                                                  0   \n73267                                                  1   \n\n                                                                               \\\n      Not employed_and not looking for work Not employed_but looking for work   \n2                                         0                                 0   \n3                                         0                                 0   \n4                                         0                                 0   \n7                                         0                                 1   \n9                                         0                                 0   \n...                                     ...                               ...   \n73263                                     0                                 0   \n73264                                     0                                 0   \n73265                                     0                                 0   \n73266                                     0                                 0   \n73267                                     0                                 0   \n\n                                                    EdLevel  ...  \\\n      Retired Student_full-time Student_part-time   EdLevel  ...   \n2           0                 0                 0  0.777778  ...   \n3           0                 0                 0  0.666667  ...   \n4           0                 0                 0  0.666667  ...   \n7           0                 0                 0  0.444444  ...   \n9           0                 0                 0  0.444444  ...   \n...       ...               ...               ...       ...  ...   \n73263       0                 0                 0  0.666667  ...   \n73264       0                 0                 0  0.777778  ...   \n73265       0                 0                 0  0.666667  ...   \n73266       0                 0                 0  0.666667  ...   \n73267       0                 0                 0  0.666667  ...   \n\n      NEWCollabToolsWantToWorkWith                                            \\\n                             Rider RubyMine Spyder Sublime Text TextMate Vim   \n2                                0        0      0            0        0   0   \n3                                0        0      0            0        0   0   \n4                                1        0      0            0        0   0   \n7                                0        0      0            1        0   1   \n9                                0        0      0            0        0   0   \n...                            ...      ...    ...          ...      ...  ..   \n73263                            0        0      0            1        0   1   \n73264                            0        0      1            0        0   1   \n73265                            0        0      1            0        0   0   \n73266                            0        0      0            0        0   0   \n73267                            0        0      0            0        0   0   \n\n                                                       \n      Visual Studio Visual Studio Code Webstorm Xcode  \n2                 1                  0        0     0  \n3                 1                  1        0     0  \n4                 1                  1        0     0  \n7                 0                  1        0     0  \n9                 0                  1        0     1  \n...             ...                ...      ...   ...  \n73263             0                  1        0     0  \n73264             0                  1        0     0  \n73265             1                  1        0     0  \n73266             1                  0        0     0  \n73267             0                  1        0     0  \n\n[60613 rows x 363 columns]",
      "text/html": "<div>\n<style scoped>\n    .dataframe tbody tr th:only-of-type {\n        vertical-align: middle;\n    }\n\n    .dataframe tbody tr th {\n        vertical-align: top;\n    }\n\n    .dataframe thead tr th {\n        text-align: left;\n    }\n</style>\n<table border=\"1\" class=\"dataframe\">\n  <thead>\n    <tr>\n      <th></th>\n      <th>MainBranch</th>\n      <th colspan=\"8\" halign=\"left\">Employment</th>\n      <th>EdLevel</th>\n      <th>...</th>\n      <th colspan=\"10\" halign=\"left\">NEWCollabToolsWantToWorkWith</th>\n    </tr>\n    <tr>\n      <th></th>\n      <th>MainBranch</th>\n      <th>Employed_full-time</th>\n      <th>Employed_part-time</th>\n      <th>Independent contractor_freelancer_or self-employed</th>\n      <th>Not employed_and not looking for work</th>\n      <th>Not employed_but looking for work</th>\n      <th>Retired</th>\n      <th>Student_full-time</th>\n      <th>Student_part-time</th>\n      <th>EdLevel</th>\n      <th>...</th>\n      <th>Rider</th>\n      <th>RubyMine</th>\n      <th>Spyder</th>\n      <th>Sublime Text</th>\n      <th>TextMate</th>\n      <th>Vim</th>\n      <th>Visual Studio</th>\n      <th>Visual Studio Code</th>\n      <th>Webstorm</th>\n      <th>Xcode</th>\n    </tr>\n  </thead>\n  <tbody>\n    <tr>\n      <th>2</th>\n      <td>0</td>\n      <td>1</td>\n      <td>0</td>\n      <td>0</td>\n      <td>0</td>\n      <td>0</td>\n      <td>0</td>\n      <td>0</td>\n      <td>0</td>\n      <td>0.777778</td>\n      <td>...</td>\n      <td>0</td>\n      <td>0</td>\n      <td>0</td>\n      <td>0</td>\n      <td>0</td>\n      <td>0</td>\n      <td>1</td>\n      <td>0</td>\n      <td>0</td>\n      <td>0</td>\n    </tr>\n    <tr>\n      <th>3</th>\n      <td>1</td>\n      <td>1</td>\n      <td>0</td>\n      <td>0</td>\n      <td>0</td>\n      <td>0</td>\n      <td>0</td>\n      <td>0</td>\n      <td>0</td>\n      <td>0.666667</td>\n      <td>...</td>\n      <td>0</td>\n      <td>0</td>\n      <td>0</td>\n      <td>0</td>\n      <td>0</td>\n      <td>0</td>\n      <td>1</td>\n      <td>1</td>\n      <td>0</td>\n      <td>0</td>\n    </tr>\n    <tr>\n      <th>4</th>\n      <td>1</td>\n      <td>1</td>\n      <td>0</td>\n      <td>0</td>\n      <td>0</td>\n      <td>0</td>\n      <td>0</td>\n      <td>0</td>\n      <td>0</td>\n      <td>0.666667</td>\n      <td>...</td>\n      <td>1</td>\n      <td>0</td>\n      <td>0</td>\n      <td>0</td>\n      <td>0</td>\n      <td>0</td>\n      <td>1</td>\n      <td>1</td>\n      <td>0</td>\n      <td>0</td>\n    </tr>\n    <tr>\n      <th>7</th>\n      <td>1</td>\n      <td>0</td>\n      <td>0</td>\n      <td>0</td>\n      <td>0</td>\n      <td>1</td>\n      <td>0</td>\n      <td>0</td>\n      <td>0</td>\n      <td>0.444444</td>\n      <td>...</td>\n      <td>0</td>\n      <td>0</td>\n      <td>0</td>\n      <td>1</td>\n      <td>0</td>\n      <td>1</td>\n      <td>0</td>\n      <td>1</td>\n      <td>0</td>\n      <td>0</td>\n    </tr>\n    <tr>\n      <th>9</th>\n      <td>1</td>\n      <td>0</td>\n      <td>0</td>\n      <td>1</td>\n      <td>0</td>\n      <td>0</td>\n      <td>0</td>\n      <td>0</td>\n      <td>0</td>\n      <td>0.444444</td>\n      <td>...</td>\n      <td>0</td>\n      <td>0</td>\n      <td>0</td>\n      <td>0</td>\n      <td>0</td>\n      <td>0</td>\n      <td>0</td>\n      <td>1</td>\n      <td>0</td>\n      <td>1</td>\n    </tr>\n    <tr>\n      <th>...</th>\n      <td>...</td>\n      <td>...</td>\n      <td>...</td>\n      <td>...</td>\n      <td>...</td>\n      <td>...</td>\n      <td>...</td>\n      <td>...</td>\n      <td>...</td>\n      <td>...</td>\n      <td>...</td>\n      <td>...</td>\n      <td>...</td>\n      <td>...</td>\n      <td>...</td>\n      <td>...</td>\n      <td>...</td>\n      <td>...</td>\n      <td>...</td>\n      <td>...</td>\n      <td>...</td>\n    </tr>\n    <tr>\n      <th>73263</th>\n      <td>1</td>\n      <td>1</td>\n      <td>0</td>\n      <td>0</td>\n      <td>0</td>\n      <td>0</td>\n      <td>0</td>\n      <td>0</td>\n      <td>0</td>\n      <td>0.666667</td>\n      <td>...</td>\n      <td>0</td>\n      <td>0</td>\n      <td>0</td>\n      <td>1</td>\n      <td>0</td>\n      <td>1</td>\n      <td>0</td>\n      <td>1</td>\n      <td>0</td>\n      <td>0</td>\n    </tr>\n    <tr>\n      <th>73264</th>\n      <td>1</td>\n      <td>1</td>\n      <td>0</td>\n      <td>0</td>\n      <td>0</td>\n      <td>0</td>\n      <td>0</td>\n      <td>0</td>\n      <td>0</td>\n      <td>0.777778</td>\n      <td>...</td>\n      <td>0</td>\n      <td>0</td>\n      <td>1</td>\n      <td>0</td>\n      <td>0</td>\n      <td>1</td>\n      <td>0</td>\n      <td>1</td>\n      <td>0</td>\n      <td>0</td>\n    </tr>\n    <tr>\n      <th>73265</th>\n      <td>0</td>\n      <td>1</td>\n      <td>0</td>\n      <td>0</td>\n      <td>0</td>\n      <td>0</td>\n      <td>0</td>\n      <td>0</td>\n      <td>0</td>\n      <td>0.666667</td>\n      <td>...</td>\n      <td>0</td>\n      <td>0</td>\n      <td>1</td>\n      <td>0</td>\n      <td>0</td>\n      <td>0</td>\n      <td>1</td>\n      <td>1</td>\n      <td>0</td>\n      <td>0</td>\n    </tr>\n    <tr>\n      <th>73266</th>\n      <td>1</td>\n      <td>1</td>\n      <td>0</td>\n      <td>0</td>\n      <td>0</td>\n      <td>0</td>\n      <td>0</td>\n      <td>0</td>\n      <td>0</td>\n      <td>0.666667</td>\n      <td>...</td>\n      <td>0</td>\n      <td>0</td>\n      <td>0</td>\n      <td>0</td>\n      <td>0</td>\n      <td>0</td>\n      <td>1</td>\n      <td>0</td>\n      <td>0</td>\n      <td>0</td>\n    </tr>\n    <tr>\n      <th>73267</th>\n      <td>1</td>\n      <td>0</td>\n      <td>0</td>\n      <td>1</td>\n      <td>0</td>\n      <td>0</td>\n      <td>0</td>\n      <td>0</td>\n      <td>0</td>\n      <td>0.666667</td>\n      <td>...</td>\n      <td>0</td>\n      <td>0</td>\n      <td>0</td>\n      <td>0</td>\n      <td>0</td>\n      <td>0</td>\n      <td>0</td>\n      <td>1</td>\n      <td>0</td>\n      <td>0</td>\n    </tr>\n  </tbody>\n</table>\n<p>60613 rows × 363 columns</p>\n</div>"
     },
     "execution_count": 5,
     "metadata": {},
     "output_type": "execute_result"
    }
   ],
   "source": [
    "survey"
   ],
   "metadata": {
    "collapsed": false
   }
  },
  {
   "cell_type": "code",
   "execution_count": null,
   "outputs": [],
   "source": [],
   "metadata": {
    "collapsed": false
   }
  }
 ],
 "metadata": {
  "kernelspec": {
   "display_name": "Python 3",
   "language": "python",
   "name": "python3"
  },
  "language_info": {
   "codemirror_mode": {
    "name": "ipython",
    "version": 2
   },
   "file_extension": ".py",
   "mimetype": "text/x-python",
   "name": "python",
   "nbconvert_exporter": "python",
   "pygments_lexer": "ipython2",
   "version": "2.7.6"
  }
 },
 "nbformat": 4,
 "nbformat_minor": 0
}
